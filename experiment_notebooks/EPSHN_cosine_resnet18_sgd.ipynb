{
 "cells": [
  {
   "cell_type": "code",
   "execution_count": 4,
   "id": "5ffca082-4e33-4910-bddd-7467769c68a2",
   "metadata": {},
   "outputs": [],
   "source": [
    "import numpy as np\n",
    "import PIL\n",
    "import umap\n",
    "import pandas as pd\n",
    "import json\n",
    "import glob\n",
    "from pytorch_metric_learning import distances, losses, miners, reducers\n",
    "import torch.nn as nn\n",
    "import os\n",
    "import matplotlib.pyplot as plt"
   ]
  },
  {
   "cell_type": "code",
   "execution_count": 5,
   "id": "df805f67-18d4-4f50-a057-90ebe6d234ee",
   "metadata": {},
   "outputs": [],
   "source": [
    "import torch\n",
    "import torchvision\n",
    "from torchvision import models\n",
    "import torch\n",
    "import torch.nn as nn\n",
    "import torch.nn.functional as F\n",
    "import torch.optim as optim\n",
    "from torchvision import datasets, transforms\n",
    "from torch.utils.data.sampler import SubsetRandomSampler\n",
    "from tqdm import tqdm\n",
    "from pytorch_metric_learning import losses, testers\n",
    "from pytorch_metric_learning.utils.accuracy_calculator import AccuracyCalculator\n",
    "from pytorch_metric_learning.distances import LpDistance,CosineSimilarity\n",
    "from pytorch_metric_learning.utils.inference import CustomKNN"
   ]
  },
  {
   "cell_type": "code",
   "execution_count": 6,
   "id": "e1f8f3ef-c0a5-492e-a89e-a126cd3709cc",
   "metadata": {},
   "outputs": [],
   "source": [
    "%matplotlib inline\n",
    "import torch\n",
    "import torch.nn as nn\n",
    "from matplotlib import pyplot as plt\n",
    "import numpy as np\n",
    "import torchvision\n",
    "import torchvision.datasets as datasets\n",
    "import torchvision.models as models\n",
    "from torchvision import transforms\n",
    "import torch.optim as optim\n",
    "import time\n",
    "import tqdm as tqdm\n",
    "from torch.autograd import Variable"
   ]
  },
  {
   "cell_type": "code",
   "execution_count": 7,
   "id": "e90d2b46-62b6-4d65-accd-b65666481d53",
   "metadata": {},
   "outputs": [
    {
     "name": "stderr",
     "output_type": "stream",
     "text": [
      "\u001b[34m\u001b[1mwandb\u001b[0m: Currently logged in as: \u001b[33mpranavjadhav001\u001b[0m. Use \u001b[1m`wandb login --relogin`\u001b[0m to force relogin\n"
     ]
    },
    {
     "data": {
      "text/plain": [
       "True"
      ]
     },
     "execution_count": 7,
     "metadata": {},
     "output_type": "execute_result"
    }
   ],
   "source": [
    "import wandb\n",
    "import random  # for demo script\n",
    "\n",
    "wandb.login()"
   ]
  },
  {
   "cell_type": "code",
   "execution_count": 8,
   "id": "dfc3914e-3d5f-4c4a-a6d6-6a55ff22c849",
   "metadata": {},
   "outputs": [],
   "source": [
    "config = {\n",
    "    'name':'cub_triplet_loss_epshn_cosine_resnet18_sgd',\n",
    "    'dataset':'CUB_200_2011',\n",
    "    'random_seed':42,\n",
    "    'model_architecture':'resnet18',\n",
    "    'embedding_dim':128,\n",
    "    'distance':'cosine',\n",
    "    'image_height':224,\n",
    "    'image_width':224,\n",
    "    'train_test_split':0.2,\n",
    "    'class_split':0.1,\n",
    "    'pretrained_weights':'imagenet',\n",
    "    'batch_size':128,\n",
    "    'optimizer':'sgd',\n",
    "    'distance':'cosine',\n",
    "    'learning_rate':0.001,\n",
    "    'num_epochs':100,\n",
    "    'loss':'NTXentLoss',\n",
    "    'miner':'epshn',\n",
    "    'reducer':0,\n",
    "    'metric':'precision_at_1',\n",
    "    'model_save_path':'models/cub_triplet_loss_epshn_cosine_resnet18_sgd',\n",
    "    'temperature': 0.1\n",
    "}"
   ]
  },
  {
   "cell_type": "code",
   "execution_count": 9,
   "id": "ea1ac4e6-27ce-4223-8633-6c4bb31e07bc",
   "metadata": {},
   "outputs": [
    {
     "data": {
      "application/vnd.jupyter.widget-view+json": {
       "model_id": "16fca739e6274261893127a7cc6cf398",
       "version_major": 2,
       "version_minor": 0
      },
      "text/plain": [
       "VBox(children=(Label(value='Waiting for wandb.init()...\\r'), FloatProgress(value=0.01111252311111457, max=1.0)…"
      ]
     },
     "metadata": {},
     "output_type": "display_data"
    },
    {
     "data": {
      "text/html": [
       "wandb version 0.16.5 is available!  To upgrade, please run:\n",
       " $ pip install wandb --upgrade"
      ],
      "text/plain": [
       "<IPython.core.display.HTML object>"
      ]
     },
     "metadata": {},
     "output_type": "display_data"
    },
    {
     "data": {
      "text/html": [
       "Tracking run with wandb version 0.16.4"
      ],
      "text/plain": [
       "<IPython.core.display.HTML object>"
      ]
     },
     "metadata": {},
     "output_type": "display_data"
    },
    {
     "data": {
      "text/html": [
       "Run data is saved locally in <code>/embedding_classification/wandb/run-20240402_192622-puk9filo</code>"
      ],
      "text/plain": [
       "<IPython.core.display.HTML object>"
      ]
     },
     "metadata": {},
     "output_type": "display_data"
    },
    {
     "data": {
      "text/html": [
       "Resuming run <strong><a href='https://wandb.ai/pranavjadhav001/embedding_based_classification/runs/puk9filo' target=\"_blank\">cub_triplet_loss_epshn_cosine_resnet18_sgd</a></strong> to <a href='https://wandb.ai/pranavjadhav001/embedding_based_classification' target=\"_blank\">Weights & Biases</a> (<a href='https://wandb.me/run' target=\"_blank\">docs</a>)<br/>"
      ],
      "text/plain": [
       "<IPython.core.display.HTML object>"
      ]
     },
     "metadata": {},
     "output_type": "display_data"
    },
    {
     "data": {
      "text/html": [
       " View project at <a href='https://wandb.ai/pranavjadhav001/embedding_based_classification' target=\"_blank\">https://wandb.ai/pranavjadhav001/embedding_based_classification</a>"
      ],
      "text/plain": [
       "<IPython.core.display.HTML object>"
      ]
     },
     "metadata": {},
     "output_type": "display_data"
    },
    {
     "data": {
      "text/html": [
       " View run at <a href='https://wandb.ai/pranavjadhav001/embedding_based_classification/runs/puk9filo' target=\"_blank\">https://wandb.ai/pranavjadhav001/embedding_based_classification/runs/puk9filo</a>"
      ],
      "text/plain": [
       "<IPython.core.display.HTML object>"
      ]
     },
     "metadata": {},
     "output_type": "display_data"
    },
    {
     "name": "stdout",
     "output_type": "stream",
     "text": [
      "ieqm032j\n"
     ]
    }
   ],
   "source": [
    "id = wandb.util.generate_id()\n",
    "run = wandb.init(\n",
    "    id='puk9filo',\n",
    "    name = config['name'],\n",
    "    # Set the project where this run will be logged\n",
    "    project=\"embedding_based_classification\",\n",
    "    # Track hyperparameters and run metadata\n",
    "    config=config,\n",
    "    resume=\"allow\"\n",
    ")\n",
    "print(id)"
   ]
  },
  {
   "cell_type": "code",
   "execution_count": 10,
   "id": "2762de2f-b1ec-49ae-bdc8-56ad406334e1",
   "metadata": {},
   "outputs": [],
   "source": [
    "np.random.seed(config['random_seed'])\n",
    "torch.manual_seed(config['random_seed'])\n",
    "torch.cuda.manual_seed(config['random_seed'])\n",
    "torch.backends.cudnn.deterministic = False"
   ]
  },
  {
   "cell_type": "code",
   "execution_count": 5,
   "id": "fd54e43e-bcb2-4be5-9f51-1366b8a5cfb6",
   "metadata": {},
   "outputs": [],
   "source": [
    "os.chdir('..')\n",
    "if not os.path.exists('models'):\n",
    "    os.makedirs('models')"
   ]
  },
  {
   "cell_type": "code",
   "execution_count": 11,
   "id": "86a9b19c-f95a-4976-bed3-47cd97da3fbf",
   "metadata": {},
   "outputs": [],
   "source": [
    "# print(models.resnet18())\n",
    "class ResNetFeatrueExtractor18(nn.Module):\n",
    "    def __init__(self, pretrained = True):\n",
    "        super(ResNetFeatrueExtractor18, self).__init__()\n",
    "        model_resnet18 = models.resnet18(pretrained=pretrained)\n",
    "        self.conv1 = model_resnet18.conv1\n",
    "        self.bn1 = model_resnet18.bn1\n",
    "        self.relu = model_resnet18.relu\n",
    "        self.maxpool = model_resnet18.maxpool\n",
    "        self.layer1 = model_resnet18.layer1\n",
    "        self.layer2 = model_resnet18.layer2\n",
    "        self.layer3 = model_resnet18.layer3\n",
    "        self.layer4 = model_resnet18.layer4\n",
    "        self.avgpool = model_resnet18.avgpool\n",
    "        self.fc1 = nn.Linear(512, config['embedding_dim'])\n",
    "        \n",
    "    def forward(self, x):\n",
    "        x = self.relu(self.bn1(self.conv1(x)))\n",
    "        x = self.maxpool(x)\n",
    "        x = self.layer1(x)\n",
    "        x = self.layer2(x)\n",
    "        x = self.layer3(x)\n",
    "        x = self.layer4(x)\n",
    "        x = self.avgpool(x)\n",
    "        x = x.view(x.size(0), -1)\n",
    "        x = self.fc1(x)\n",
    "        return x"
   ]
  },
  {
   "cell_type": "code",
   "execution_count": 9,
   "id": "3113a9df-ae34-49a4-be12-cfc0168aa08a",
   "metadata": {},
   "outputs": [
    {
     "name": "stderr",
     "output_type": "stream",
     "text": [
      "/opt/conda/lib/python3.10/site-packages/torchvision/models/_utils.py:208: UserWarning: The parameter 'pretrained' is deprecated since 0.13 and may be removed in the future, please use 'weights' instead.\n",
      "  warnings.warn(\n",
      "/opt/conda/lib/python3.10/site-packages/torchvision/models/_utils.py:223: UserWarning: Arguments other than a weight enum or `None` for 'weights' are deprecated since 0.13 and may be removed in the future. The current behavior is equivalent to passing `weights=ResNet18_Weights.IMAGENET1K_V1`. You can also use `weights=ResNet18_Weights.DEFAULT` to get the most up-to-date weights.\n",
      "  warnings.warn(msg)\n"
     ]
    },
    {
     "data": {
      "text/plain": [
       "torch.Size([18, 128])"
      ]
     },
     "execution_count": 9,
     "metadata": {},
     "output_type": "execute_result"
    }
   ],
   "source": [
    "ResNetFeatrueExtractor18()(torch.zeros(18,3,28,28)).shape"
   ]
  },
  {
   "cell_type": "code",
   "execution_count": 12,
   "id": "1d2af52d-f3cf-4fb5-9d46-01d52b7eecd5",
   "metadata": {
    "scrolled": true
   },
   "outputs": [],
   "source": [
    "### MNIST code originally from https://github.com/pytorch/examples/blob/master/mnist/main.py ###\n",
    "def train(model, loss_func,mining_func, device, train_loader, optimizer, epoch):\n",
    "    model.train()\n",
    "    train_losses = []\n",
    "    for batch_idx, (data, labels) in enumerate(train_loader):\n",
    "        data, labels = data.to(device), labels.to(device)\n",
    "        optimizer.zero_grad()\n",
    "        embeddings = model(data)\n",
    "        indices_tuple = mining_func(embeddings, labels)\n",
    "        loss = loss_func(embeddings, labels, indices_tuple)\n",
    "        loss.backward()\n",
    "        optimizer.step()\n",
    "        train_losses.append(loss)\n",
    "        if batch_idx % 100 == 0:\n",
    "            print(\"Epoch {} Iteration {}: Loss = {}\".format(epoch, batch_idx, loss))\n",
    "    return torch.mean(torch.tensor(train_losses)).item()\n",
    "    \n",
    "### convenient function from pytorch-metric-learning ###\n",
    "def get_all_embeddings(dataset, model):\n",
    "    tester = testers.BaseTester(dataloader_num_workers=0)\n",
    "    return tester.get_all_embeddings(dataset, model)\n",
    "\n",
    "### compute accuracy using AccuracyCalculator from pytorch-metric-learning ###\n",
    "def test(train_set, test_set, model, accuracy_calculator):\n",
    "    train_embeddings, train_labels = get_all_embeddings(train_set, model)\n",
    "    test_embeddings, test_labels = get_all_embeddings(test_set, model)\n",
    "    train_labels = train_labels.squeeze(1)\n",
    "    test_labels = test_labels.squeeze(1)\n",
    "    print(\"Computing accuracy\")\n",
    "    accuracies = accuracy_calculator.get_accuracy(\n",
    "        test_embeddings, test_labels, train_embeddings, train_labels, False\n",
    "    )\n",
    "    print(\"Test set accuracy (Precision@1) = {}\".format(accuracies[\"precision_at_1\"]))\n",
    "    return accuracies[\"precision_at_1\"]\n",
    "    \n",
    "device = torch.device(\"cuda\")\n",
    "\n",
    "mean = [0.485, 0.456, 0.406]\n",
    "std = [0.229, 0.224, 0.225]\n",
    "\n",
    "# create train and test transforms\n",
    "transform = transforms.Compose(\n",
    "    [\n",
    "        transforms.Resize((config['image_height'], config['image_width'])),\n",
    "        transforms.ToTensor(),\n",
    "        transforms.Normalize(mean, std),\n",
    "    ]\n",
    ")\n",
    "\n",
    "batch_size = 128"
   ]
  },
  {
   "cell_type": "code",
   "execution_count": 13,
   "id": "4edc54cc-56a9-4889-bc86-a2caef18b958",
   "metadata": {},
   "outputs": [],
   "source": [
    "with open('CUB_200_2011/classes.txt','r') as f:\n",
    "    classes = f.readlines()\n",
    "classes = [i.replace('\\n','') for i in classes]\n",
    "classes = [i.split(' ')[1] for i in classes]\n",
    "class_dict = {k:v for k,v in zip(classes,range(200))}"
   ]
  },
  {
   "cell_type": "code",
   "execution_count": 12,
   "id": "565c42ed-11e7-42f1-9bbc-6cc8b089816c",
   "metadata": {},
   "outputs": [],
   "source": [
    "image_paths = []\n",
    "labels = []\n",
    "for folder_path,i in class_dict.items():\n",
    "    folder_images = glob.glob('CUB_200_2011/images/'+'/'+str(folder_path)+'/*')\n",
    "    image_paths.extend(folder_images)\n",
    "    labels.extend([i]*len(folder_images))"
   ]
  },
  {
   "cell_type": "code",
   "execution_count": 13,
   "id": "e3ed0eff-8d29-481e-b7b3-ecd842781f12",
   "metadata": {},
   "outputs": [],
   "source": [
    "from sklearn.model_selection import train_test_split\n",
    "X_train, X_test, y_train, y_test = train_test_split(image_paths, labels, test_size=config['train_test_split'],\n",
    "                                                    stratify=labels,\n",
    "                                                    random_state=config['random_seed'])"
   ]
  },
  {
   "cell_type": "code",
   "execution_count": 14,
   "id": "373894a5-b193-433b-8c42-1d5ac082d312",
   "metadata": {},
   "outputs": [
    {
     "name": "stdout",
     "output_type": "stream",
     "text": [
      "9430 2358 9430 2358\n"
     ]
    }
   ],
   "source": [
    "print(len(X_train), len(X_test), len(y_train), len(y_test))"
   ]
  },
  {
   "cell_type": "code",
   "execution_count": 20,
   "id": "d85fde76-4b7a-4e4e-9207-51596442dc80",
   "metadata": {},
   "outputs": [],
   "source": [
    "import torch\n",
    "from torch.utils.data import Dataset, DataLoader\n",
    "import torchvision.transforms as transforms\n",
    "\n",
    "class CUBDataset(Dataset):\n",
    "    def __init__(self, image_paths,labels,transform=None):\n",
    "        self.image_paths = image_paths\n",
    "        self.labels = labels\n",
    "        self.transform = transform\n",
    "        self.load_image_from_paths()\n",
    "        \n",
    "    def load_image_from_paths(self):\n",
    "        self.images = []\n",
    "        for i in self.image_paths:\n",
    "            img = PIL.Image.open(i)\n",
    "            if len(img.getbands()) ==1 :\n",
    "                img = img.convert(\"RGB\")\n",
    "            self.images.append(img)\n",
    "            \n",
    "    def __len__(self):\n",
    "        return len(self.images)\n",
    "\n",
    "    def __getitem__(self, idx):\n",
    "        image = self.images[idx]\n",
    "        label = self.labels[idx]\n",
    "        if self.transform:\n",
    "            image = self.transform(image)\n",
    "        return image, label"
   ]
  },
  {
   "cell_type": "code",
   "execution_count": 16,
   "id": "27cbe2f3-e65f-4705-bc31-3b382ddd2e59",
   "metadata": {},
   "outputs": [],
   "source": [
    "train_dataset  = CUBDataset(X_train,y_train,transform)\n",
    "test_dataset  = CUBDataset(X_test,y_test,transform)\n",
    "train_loader = torch.utils.data.DataLoader(train_dataset, batch_size=128, shuffle=True)\n",
    "test_loader = torch.utils.data.DataLoader(test_dataset, batch_size=128, shuffle=False)"
   ]
  },
  {
   "cell_type": "code",
   "execution_count": 19,
   "id": "996a5b5b-9dfe-452c-9f12-0f391c667cce",
   "metadata": {},
   "outputs": [],
   "source": [
    "model = ResNetFeatrueExtractor18(pretrained=True)\n",
    "model = model.to(device)\n",
    "optimizer = optim.SGD(model.parameters(), lr=config['learning_rate'])\n",
    "num_epochs = config['num_epochs']\n",
    "\n",
    "### pytorch-metric-learning stuff ###\n",
    "distance = distances.CosineSimilarity()\n",
    "reducer = reducers.MeanReducer()\n",
    "loss_func = losses.NTXentLoss(temperature=config['temperature'], distance=distance, reducer=reducer)\n",
    "mining_func = miners.BatchEasyHardMiner(pos_strategy=\"easy\",neg_strategy=\"semihard\")\n",
    "\n",
    "knn_func = CustomKNN(CosineSimilarity())\n",
    "accuracy_calculator = AccuracyCalculator(include=(\"precision_at_1\",),k=1,knn_func=knn_func,avg_of_avgs=True,return_per_class=False)"
   ]
  },
  {
   "cell_type": "code",
   "execution_count": 20,
   "id": "e5bb77dd-c3e8-42d8-8074-27b2210cdb77",
   "metadata": {},
   "outputs": [
    {
     "name": "stdout",
     "output_type": "stream",
     "text": [
      "Epoch 1 Iteration 0: Loss = 0.6575754284858704\n"
     ]
    },
    {
     "name": "stderr",
     "output_type": "stream",
     "text": [
      "100%|█████████████████████████████████████████████████████████████████████████████████████████████████████| 295/295 [00:14<00:00, 19.90it/s]\n",
      "100%|███████████████████████████████████████████████████████████████████████████████████████████████████████| 74/74 [00:10<00:00,  7.15it/s]\n"
     ]
    },
    {
     "name": "stdout",
     "output_type": "stream",
     "text": [
      "Computing accuracy\n",
      "Test set accuracy (Precision@1) = 0.30815404040404043\n",
      "Epoch 2 Iteration 0: Loss = 0.6398863792419434\n"
     ]
    },
    {
     "name": "stderr",
     "output_type": "stream",
     "text": [
      "100%|█████████████████████████████████████████████████████████████████████████████████████████████████████| 295/295 [00:14<00:00, 20.41it/s]\n",
      "100%|███████████████████████████████████████████████████████████████████████████████████████████████████████| 74/74 [00:03<00:00, 20.37it/s]\n"
     ]
    },
    {
     "name": "stdout",
     "output_type": "stream",
     "text": [
      "Computing accuracy\n",
      "Test set accuracy (Precision@1) = 0.326739898989899\n",
      "Epoch 3 Iteration 0: Loss = 0.6079272627830505\n"
     ]
    },
    {
     "name": "stderr",
     "output_type": "stream",
     "text": [
      "100%|█████████████████████████████████████████████████████████████████████████████████████████████████████| 295/295 [00:14<00:00, 20.34it/s]\n",
      "100%|███████████████████████████████████████████████████████████████████████████████████████████████████████| 74/74 [00:03<00:00, 20.38it/s]\n"
     ]
    },
    {
     "name": "stdout",
     "output_type": "stream",
     "text": [
      "Computing accuracy\n",
      "Test set accuracy (Precision@1) = 0.351614898989899\n",
      "Epoch 4 Iteration 0: Loss = 0.6175826787948608\n"
     ]
    },
    {
     "name": "stderr",
     "output_type": "stream",
     "text": [
      "100%|█████████████████████████████████████████████████████████████████████████████████████████████████████| 295/295 [00:14<00:00, 20.39it/s]\n",
      "100%|███████████████████████████████████████████████████████████████████████████████████████████████████████| 74/74 [00:03<00:00, 20.53it/s]\n"
     ]
    },
    {
     "name": "stdout",
     "output_type": "stream",
     "text": [
      "Computing accuracy\n",
      "Test set accuracy (Precision@1) = 0.37313383838383846\n",
      "Epoch 5 Iteration 0: Loss = 0.589120626449585\n"
     ]
    },
    {
     "name": "stderr",
     "output_type": "stream",
     "text": [
      "100%|█████████████████████████████████████████████████████████████████████████████████████████████████████| 295/295 [00:14<00:00, 20.32it/s]\n",
      "100%|███████████████████████████████████████████████████████████████████████████████████████████████████████| 74/74 [00:03<00:00, 20.40it/s]\n"
     ]
    },
    {
     "name": "stdout",
     "output_type": "stream",
     "text": [
      "Computing accuracy\n",
      "Test set accuracy (Precision@1) = 0.3952373737373738\n",
      "Epoch 6 Iteration 0: Loss = 0.5821670293807983\n"
     ]
    },
    {
     "name": "stderr",
     "output_type": "stream",
     "text": [
      "100%|█████████████████████████████████████████████████████████████████████████████████████████████████████| 295/295 [00:14<00:00, 20.44it/s]\n",
      "100%|███████████████████████████████████████████████████████████████████████████████████████████████████████| 74/74 [00:03<00:00, 20.40it/s]\n"
     ]
    },
    {
     "name": "stdout",
     "output_type": "stream",
     "text": [
      "Computing accuracy\n",
      "Test set accuracy (Precision@1) = 0.40817424242424244\n",
      "Epoch 7 Iteration 0: Loss = 0.5547946691513062\n"
     ]
    },
    {
     "name": "stderr",
     "output_type": "stream",
     "text": [
      "100%|█████████████████████████████████████████████████████████████████████████████████████████████████████| 295/295 [00:14<00:00, 20.42it/s]\n",
      "100%|███████████████████████████████████████████████████████████████████████████████████████████████████████| 74/74 [00:03<00:00, 20.54it/s]\n"
     ]
    },
    {
     "name": "stdout",
     "output_type": "stream",
     "text": [
      "Computing accuracy\n",
      "Test set accuracy (Precision@1) = 0.41984848484848486\n",
      "Epoch 8 Iteration 0: Loss = 0.5184158086776733\n"
     ]
    },
    {
     "name": "stderr",
     "output_type": "stream",
     "text": [
      "100%|█████████████████████████████████████████████████████████████████████████████████████████████████████| 295/295 [00:14<00:00, 20.40it/s]\n",
      "100%|███████████████████████████████████████████████████████████████████████████████████████████████████████| 74/74 [00:03<00:00, 20.37it/s]\n"
     ]
    },
    {
     "name": "stdout",
     "output_type": "stream",
     "text": [
      "Computing accuracy\n",
      "Test set accuracy (Precision@1) = 0.44335353535353533\n",
      "Epoch 9 Iteration 0: Loss = 0.5752254128456116\n"
     ]
    },
    {
     "name": "stderr",
     "output_type": "stream",
     "text": [
      "100%|█████████████████████████████████████████████████████████████████████████████████████████████████████| 295/295 [00:14<00:00, 20.44it/s]\n",
      "100%|███████████████████████████████████████████████████████████████████████████████████████████████████████| 74/74 [00:03<00:00, 20.43it/s]\n"
     ]
    },
    {
     "name": "stdout",
     "output_type": "stream",
     "text": [
      "Computing accuracy\n",
      "Test set accuracy (Precision@1) = 0.45278409090909094\n",
      "Epoch 10 Iteration 0: Loss = 0.5348672866821289\n"
     ]
    },
    {
     "name": "stderr",
     "output_type": "stream",
     "text": [
      "100%|█████████████████████████████████████████████████████████████████████████████████████████████████████| 295/295 [00:14<00:00, 20.15it/s]\n",
      "100%|███████████████████████████████████████████████████████████████████████████████████████████████████████| 74/74 [00:03<00:00, 20.43it/s]\n"
     ]
    },
    {
     "name": "stdout",
     "output_type": "stream",
     "text": [
      "Computing accuracy\n",
      "Test set accuracy (Precision@1) = 0.469925505050505\n",
      "Epoch 11 Iteration 0: Loss = 0.5324786901473999\n"
     ]
    },
    {
     "name": "stderr",
     "output_type": "stream",
     "text": [
      "100%|█████████████████████████████████████████████████████████████████████████████████████████████████████| 295/295 [00:14<00:00, 20.38it/s]\n",
      "100%|███████████████████████████████████████████████████████████████████████████████████████████████████████| 74/74 [00:03<00:00, 20.53it/s]\n"
     ]
    },
    {
     "name": "stdout",
     "output_type": "stream",
     "text": [
      "Computing accuracy\n",
      "Test set accuracy (Precision@1) = 0.48311237373737376\n",
      "Epoch 12 Iteration 0: Loss = 0.5131278038024902\n"
     ]
    },
    {
     "name": "stderr",
     "output_type": "stream",
     "text": [
      "100%|█████████████████████████████████████████████████████████████████████████████████████████████████████| 295/295 [00:14<00:00, 20.23it/s]\n",
      "100%|███████████████████████████████████████████████████████████████████████████████████████████████████████| 74/74 [00:03<00:00, 20.20it/s]\n"
     ]
    },
    {
     "name": "stdout",
     "output_type": "stream",
     "text": [
      "Computing accuracy\n",
      "Test set accuracy (Precision@1) = 0.4822487373737374\n",
      "Epoch 13 Iteration 0: Loss = 0.548785924911499\n"
     ]
    },
    {
     "name": "stderr",
     "output_type": "stream",
     "text": [
      "100%|█████████████████████████████████████████████████████████████████████████████████████████████████████| 295/295 [00:14<00:00, 20.30it/s]\n",
      "100%|███████████████████████████████████████████████████████████████████████████████████████████████████████| 74/74 [00:03<00:00, 20.51it/s]\n"
     ]
    },
    {
     "name": "stdout",
     "output_type": "stream",
     "text": [
      "Computing accuracy\n",
      "Test set accuracy (Precision@1) = 0.4893320707070708\n",
      "Epoch 14 Iteration 0: Loss = 0.5112265944480896\n"
     ]
    },
    {
     "name": "stderr",
     "output_type": "stream",
     "text": [
      "100%|█████████████████████████████████████████████████████████████████████████████████████████████████████| 295/295 [00:14<00:00, 20.22it/s]\n",
      "100%|███████████████████████████████████████████████████████████████████████████████████████████████████████| 74/74 [00:03<00:00, 20.22it/s]\n"
     ]
    },
    {
     "name": "stdout",
     "output_type": "stream",
     "text": [
      "Computing accuracy\n",
      "Test set accuracy (Precision@1) = 0.4931717171717172\n",
      "Epoch 15 Iteration 0: Loss = 0.5158533453941345\n"
     ]
    },
    {
     "name": "stderr",
     "output_type": "stream",
     "text": [
      "100%|█████████████████████████████████████████████████████████████████████████████████████████████████████| 295/295 [00:14<00:00, 20.45it/s]\n",
      "100%|███████████████████████████████████████████████████████████████████████████████████████████████████████| 74/74 [00:03<00:00, 20.50it/s]\n"
     ]
    },
    {
     "name": "stdout",
     "output_type": "stream",
     "text": [
      "Computing accuracy\n",
      "Test set accuracy (Precision@1) = 0.49972095959595964\n",
      "Epoch 16 Iteration 0: Loss = 0.5143697261810303\n"
     ]
    },
    {
     "name": "stderr",
     "output_type": "stream",
     "text": [
      "100%|█████████████████████████████████████████████████████████████████████████████████████████████████████| 295/295 [00:14<00:00, 20.53it/s]\n",
      "100%|███████████████████████████████████████████████████████████████████████████████████████████████████████| 74/74 [00:03<00:00, 20.49it/s]\n"
     ]
    },
    {
     "name": "stdout",
     "output_type": "stream",
     "text": [
      "Computing accuracy\n",
      "Test set accuracy (Precision@1) = 0.5076679292929294\n",
      "Epoch 17 Iteration 0: Loss = 0.5339846014976501\n"
     ]
    },
    {
     "name": "stderr",
     "output_type": "stream",
     "text": [
      "100%|█████████████████████████████████████████████████████████████████████████████████████████████████████| 295/295 [00:14<00:00, 20.23it/s]\n",
      "100%|███████████████████████████████████████████████████████████████████████████████████████████████████████| 74/74 [00:03<00:00, 20.35it/s]\n"
     ]
    },
    {
     "name": "stdout",
     "output_type": "stream",
     "text": [
      "Computing accuracy\n",
      "Test set accuracy (Precision@1) = 0.5114103535353536\n",
      "Epoch 18 Iteration 0: Loss = 0.5321335792541504\n"
     ]
    },
    {
     "name": "stderr",
     "output_type": "stream",
     "text": [
      "100%|█████████████████████████████████████████████████████████████████████████████████████████████████████| 295/295 [00:14<00:00, 20.22it/s]\n",
      "100%|███████████████████████████████████████████████████████████████████████████████████████████████████████| 74/74 [00:03<00:00, 20.52it/s]\n"
     ]
    },
    {
     "name": "stdout",
     "output_type": "stream",
     "text": [
      "Computing accuracy\n",
      "Test set accuracy (Precision@1) = 0.5186224747474748\n",
      "Epoch 19 Iteration 0: Loss = 0.44891512393951416\n"
     ]
    },
    {
     "name": "stderr",
     "output_type": "stream",
     "text": [
      "100%|█████████████████████████████████████████████████████████████████████████████████████████████████████| 295/295 [00:14<00:00, 20.39it/s]\n",
      "100%|███████████████████████████████████████████████████████████████████████████████████████████████████████| 74/74 [00:03<00:00, 20.39it/s]\n"
     ]
    },
    {
     "name": "stdout",
     "output_type": "stream",
     "text": [
      "Computing accuracy\n",
      "Test set accuracy (Precision@1) = 0.520705808080808\n",
      "Epoch 20 Iteration 0: Loss = 0.5127366185188293\n"
     ]
    },
    {
     "name": "stderr",
     "output_type": "stream",
     "text": [
      "100%|█████████████████████████████████████████████████████████████████████████████████████████████████████| 295/295 [00:14<00:00, 20.17it/s]\n",
      "100%|███████████████████████████████████████████████████████████████████████████████████████████████████████| 74/74 [00:03<00:00, 20.38it/s]\n"
     ]
    },
    {
     "name": "stdout",
     "output_type": "stream",
     "text": [
      "Computing accuracy\n",
      "Test set accuracy (Precision@1) = 0.5256224747474747\n",
      "Epoch 21 Iteration 0: Loss = 0.534217894077301\n"
     ]
    },
    {
     "name": "stderr",
     "output_type": "stream",
     "text": [
      "100%|█████████████████████████████████████████████████████████████████████████████████████████████████████| 295/295 [00:14<00:00, 20.38it/s]\n",
      "100%|███████████████████████████████████████████████████████████████████████████████████████████████████████| 74/74 [00:03<00:00, 20.50it/s]\n"
     ]
    },
    {
     "name": "stdout",
     "output_type": "stream",
     "text": [
      "Computing accuracy\n",
      "Test set accuracy (Precision@1) = 0.5350391414141414\n",
      "Epoch 22 Iteration 0: Loss = 0.4440583884716034\n"
     ]
    },
    {
     "name": "stderr",
     "output_type": "stream",
     "text": [
      "100%|█████████████████████████████████████████████████████████████████████████████████████████████████████| 295/295 [00:14<00:00, 20.38it/s]\n",
      "100%|███████████████████████████████████████████████████████████████████████████████████████████████████████| 74/74 [00:03<00:00, 20.40it/s]\n"
     ]
    },
    {
     "name": "stdout",
     "output_type": "stream",
     "text": [
      "Computing accuracy\n",
      "Test set accuracy (Precision@1) = 0.5320770202020202\n",
      "Epoch 23 Iteration 0: Loss = 0.47720128297805786\n"
     ]
    },
    {
     "name": "stderr",
     "output_type": "stream",
     "text": [
      "100%|█████████████████████████████████████████████████████████████████████████████████████████████████████| 295/295 [00:14<00:00, 20.35it/s]\n",
      "100%|███████████████████████████████████████████████████████████████████████████████████████████████████████| 74/74 [00:03<00:00, 20.48it/s]\n"
     ]
    },
    {
     "name": "stdout",
     "output_type": "stream",
     "text": [
      "Computing accuracy\n",
      "Test set accuracy (Precision@1) = 0.5325391414141414\n",
      "Epoch 24 Iteration 0: Loss = 0.4747118353843689\n"
     ]
    },
    {
     "name": "stderr",
     "output_type": "stream",
     "text": [
      "100%|█████████████████████████████████████████████████████████████████████████████████████████████████████| 295/295 [00:14<00:00, 20.28it/s]\n",
      "100%|███████████████████████████████████████████████████████████████████████████████████████████████████████| 74/74 [00:03<00:00, 20.38it/s]\n"
     ]
    },
    {
     "name": "stdout",
     "output_type": "stream",
     "text": [
      "Computing accuracy\n",
      "Test set accuracy (Precision@1) = 0.5383446969696971\n",
      "Epoch 25 Iteration 0: Loss = 0.44285479187965393\n"
     ]
    },
    {
     "name": "stderr",
     "output_type": "stream",
     "text": [
      "100%|█████████████████████████████████████████████████████████████████████████████████████████████████████| 295/295 [00:14<00:00, 20.32it/s]\n",
      "100%|███████████████████████████████████████████████████████████████████████████████████████████████████████| 74/74 [00:03<00:00, 20.49it/s]\n"
     ]
    },
    {
     "name": "stdout",
     "output_type": "stream",
     "text": [
      "Computing accuracy\n",
      "Test set accuracy (Precision@1) = 0.5378270202020202\n",
      "Epoch 26 Iteration 0: Loss = 0.45180097222328186\n"
     ]
    },
    {
     "name": "stderr",
     "output_type": "stream",
     "text": [
      "100%|█████████████████████████████████████████████████████████████████████████████████████████████████████| 295/295 [00:14<00:00, 20.43it/s]\n",
      "100%|███████████████████████████████████████████████████████████████████████████████████████████████████████| 74/74 [00:03<00:00, 20.49it/s]\n"
     ]
    },
    {
     "name": "stdout",
     "output_type": "stream",
     "text": [
      "Computing accuracy\n",
      "Test set accuracy (Precision@1) = 0.5403270202020202\n",
      "Epoch 27 Iteration 0: Loss = 0.5006778836250305\n"
     ]
    },
    {
     "name": "stderr",
     "output_type": "stream",
     "text": [
      "100%|█████████████████████████████████████████████████████████████████████████████████████████████████████| 295/295 [00:14<00:00, 20.21it/s]\n",
      "100%|███████████████████████████████████████████████████████████████████████████████████████████████████████| 74/74 [00:03<00:00, 20.10it/s]\n"
     ]
    },
    {
     "name": "stdout",
     "output_type": "stream",
     "text": [
      "Computing accuracy\n",
      "Test set accuracy (Precision@1) = 0.5422815656565657\n",
      "Epoch 28 Iteration 0: Loss = 0.48966795206069946\n"
     ]
    },
    {
     "name": "stderr",
     "output_type": "stream",
     "text": [
      "100%|█████████████████████████████████████████████████████████████████████████████████████████████████████| 295/295 [00:14<00:00, 20.15it/s]\n",
      "100%|███████████████████████████████████████████████████████████████████████████████████████████████████████| 74/74 [00:03<00:00, 20.03it/s]\n"
     ]
    },
    {
     "name": "stdout",
     "output_type": "stream",
     "text": [
      "Computing accuracy\n",
      "Test set accuracy (Precision@1) = 0.5496982323232323\n",
      "Epoch 29 Iteration 0: Loss = 0.476980596780777\n"
     ]
    },
    {
     "name": "stderr",
     "output_type": "stream",
     "text": [
      "100%|█████████████████████████████████████████████████████████████████████████████████████████████████████| 295/295 [00:14<00:00, 20.16it/s]\n",
      "100%|███████████████████████████████████████████████████████████████████████████████████████████████████████| 74/74 [00:03<00:00, 20.47it/s]\n"
     ]
    },
    {
     "name": "stdout",
     "output_type": "stream",
     "text": [
      "Computing accuracy\n",
      "Test set accuracy (Precision@1) = 0.5534684343434344\n",
      "Epoch 30 Iteration 0: Loss = 0.4567278325557709\n"
     ]
    },
    {
     "name": "stderr",
     "output_type": "stream",
     "text": [
      "100%|█████████████████████████████████████████████████████████████████████████████████████████████████████| 295/295 [00:14<00:00, 20.23it/s]\n",
      "100%|███████████████████████████████████████████████████████████████████████████████████████████████████████| 74/74 [00:03<00:00, 20.36it/s]\n"
     ]
    },
    {
     "name": "stdout",
     "output_type": "stream",
     "text": [
      "Computing accuracy\n",
      "Test set accuracy (Precision@1) = 0.5554659090909092\n",
      "Epoch 31 Iteration 0: Loss = 0.46139809489250183\n"
     ]
    },
    {
     "name": "stderr",
     "output_type": "stream",
     "text": [
      "100%|█████████████████████████████████████████████████████████████████████████████████████████████████████| 295/295 [00:14<00:00, 20.46it/s]\n",
      "100%|███████████████████████████████████████████████████████████████████████████████████████████████████████| 74/74 [00:03<00:00, 20.69it/s]\n"
     ]
    },
    {
     "name": "stdout",
     "output_type": "stream",
     "text": [
      "Computing accuracy\n",
      "Test set accuracy (Precision@1) = 0.5577462121212121\n",
      "Epoch 32 Iteration 0: Loss = 0.5025799870491028\n"
     ]
    },
    {
     "name": "stderr",
     "output_type": "stream",
     "text": [
      "100%|█████████████████████████████████████████████████████████████████████████████████████████████████████| 295/295 [00:14<00:00, 20.49it/s]\n",
      "100%|███████████████████████████████████████████████████████████████████████████████████████████████████████| 74/74 [00:03<00:00, 20.46it/s]\n"
     ]
    },
    {
     "name": "stdout",
     "output_type": "stream",
     "text": [
      "Computing accuracy\n",
      "Test set accuracy (Precision@1) = 0.5539027777777779\n",
      "Epoch 33 Iteration 0: Loss = 0.43480178713798523\n"
     ]
    },
    {
     "name": "stderr",
     "output_type": "stream",
     "text": [
      "100%|█████████████████████████████████████████████████████████████████████████████████████████████████████| 295/295 [00:14<00:00, 20.37it/s]\n",
      "100%|███████████████████████████████████████████████████████████████████████████████████████████████████████| 74/74 [00:03<00:00, 20.30it/s]\n"
     ]
    },
    {
     "name": "stdout",
     "output_type": "stream",
     "text": [
      "Computing accuracy\n",
      "Test set accuracy (Precision@1) = 0.5574406565656566\n",
      "Epoch 34 Iteration 0: Loss = 0.4432557225227356\n"
     ]
    },
    {
     "name": "stderr",
     "output_type": "stream",
     "text": [
      "100%|█████████████████████████████████████████████████████████████████████████████████████████████████████| 295/295 [00:14<00:00, 20.30it/s]\n",
      "100%|███████████████████████████████████████████████████████████████████████████████████████████████████████| 74/74 [00:03<00:00, 20.48it/s]\n"
     ]
    },
    {
     "name": "stdout",
     "output_type": "stream",
     "text": [
      "Computing accuracy\n",
      "Test set accuracy (Precision@1) = 0.5632007575757576\n",
      "Epoch 35 Iteration 0: Loss = 0.49762704968452454\n"
     ]
    },
    {
     "name": "stderr",
     "output_type": "stream",
     "text": [
      "100%|█████████████████████████████████████████████████████████████████████████████████████████████████████| 295/295 [00:14<00:00, 20.35it/s]\n",
      "100%|███████████████████████████████████████████████████████████████████████████████████████████████████████| 74/74 [00:03<00:00, 20.07it/s]\n"
     ]
    },
    {
     "name": "stdout",
     "output_type": "stream",
     "text": [
      "Computing accuracy\n",
      "Test set accuracy (Precision@1) = 0.5586805555555556\n",
      "Epoch 36 Iteration 0: Loss = 0.4696785807609558\n"
     ]
    },
    {
     "name": "stderr",
     "output_type": "stream",
     "text": [
      "100%|█████████████████████████████████████████████████████████████████████████████████████████████████████| 295/295 [00:14<00:00, 20.37it/s]\n",
      "100%|███████████████████████████████████████████████████████████████████████████████████████████████████████| 74/74 [00:03<00:00, 19.85it/s]\n"
     ]
    },
    {
     "name": "stdout",
     "output_type": "stream",
     "text": [
      "Computing accuracy\n",
      "Test set accuracy (Precision@1) = 0.565125\n",
      "Epoch 37 Iteration 0: Loss = 0.4142214059829712\n"
     ]
    },
    {
     "name": "stderr",
     "output_type": "stream",
     "text": [
      "100%|█████████████████████████████████████████████████████████████████████████████████████████████████████| 295/295 [00:14<00:00, 19.69it/s]\n",
      "100%|███████████████████████████████████████████████████████████████████████████████████████████████████████| 74/74 [00:03<00:00, 19.97it/s]\n"
     ]
    },
    {
     "name": "stdout",
     "output_type": "stream",
     "text": [
      "Computing accuracy\n",
      "Test set accuracy (Precision@1) = 0.5647462121212121\n",
      "Epoch 38 Iteration 0: Loss = 0.38550129532814026\n"
     ]
    },
    {
     "name": "stderr",
     "output_type": "stream",
     "text": [
      "100%|█████████████████████████████████████████████████████████████████████████████████████████████████████| 295/295 [00:14<00:00, 19.93it/s]\n",
      "100%|███████████████████████████████████████████████████████████████████████████████████████████████████████| 74/74 [00:03<00:00, 20.20it/s]\n"
     ]
    },
    {
     "name": "stdout",
     "output_type": "stream",
     "text": [
      "Computing accuracy\n",
      "Test set accuracy (Precision@1) = 0.5691666666666667\n",
      "Epoch 39 Iteration 0: Loss = 0.4576990306377411\n"
     ]
    },
    {
     "name": "stderr",
     "output_type": "stream",
     "text": [
      "100%|█████████████████████████████████████████████████████████████████████████████████████████████████████| 295/295 [00:14<00:00, 19.91it/s]\n",
      "100%|███████████████████████████████████████████████████████████████████████████████████████████████████████| 74/74 [00:03<00:00, 19.97it/s]\n"
     ]
    },
    {
     "name": "stdout",
     "output_type": "stream",
     "text": [
      "Computing accuracy\n",
      "Test set accuracy (Precision@1) = 0.5679368686868687\n",
      "Epoch 40 Iteration 0: Loss = 0.4282780885696411\n"
     ]
    },
    {
     "name": "stderr",
     "output_type": "stream",
     "text": [
      "100%|█████████████████████████████████████████████████████████████████████████████████████████████████████| 295/295 [00:14<00:00, 19.70it/s]\n",
      "100%|███████████████████████████████████████████████████████████████████████████████████████████████████████| 74/74 [00:03<00:00, 19.67it/s]\n"
     ]
    },
    {
     "name": "stdout",
     "output_type": "stream",
     "text": [
      "Computing accuracy\n",
      "Test set accuracy (Precision@1) = 0.5723914141414141\n",
      "Epoch 41 Iteration 0: Loss = 0.4583924114704132\n"
     ]
    },
    {
     "name": "stderr",
     "output_type": "stream",
     "text": [
      "100%|█████████████████████████████████████████████████████████████████████████████████████████████████████| 295/295 [00:14<00:00, 20.13it/s]\n",
      "100%|███████████████████████████████████████████████████████████████████████████████████████████████████████| 74/74 [00:03<00:00, 20.44it/s]\n"
     ]
    },
    {
     "name": "stdout",
     "output_type": "stream",
     "text": [
      "Computing accuracy\n",
      "Test set accuracy (Precision@1) = 0.5739810606060606\n",
      "Epoch 42 Iteration 0: Loss = 0.41697049140930176\n"
     ]
    },
    {
     "name": "stderr",
     "output_type": "stream",
     "text": [
      "100%|█████████████████████████████████████████████████████████████████████████████████████████████████████| 295/295 [00:14<00:00, 20.19it/s]\n",
      "100%|███████████████████████████████████████████████████████████████████████████████████████████████████████| 74/74 [00:03<00:00, 20.09it/s]\n"
     ]
    },
    {
     "name": "stdout",
     "output_type": "stream",
     "text": [
      "Computing accuracy\n",
      "Test set accuracy (Precision@1) = 0.5753813131313131\n",
      "Epoch 43 Iteration 0: Loss = 0.4099843502044678\n"
     ]
    },
    {
     "name": "stderr",
     "output_type": "stream",
     "text": [
      "100%|█████████████████████████████████████████████████████████████████████████████████████████████████████| 295/295 [00:14<00:00, 20.03it/s]\n",
      "100%|███████████████████████████████████████████████████████████████████████████████████████████████████████| 74/74 [00:03<00:00, 19.95it/s]\n"
     ]
    },
    {
     "name": "stdout",
     "output_type": "stream",
     "text": [
      "Computing accuracy\n",
      "Test set accuracy (Precision@1) = 0.5762361111111112\n",
      "Epoch 44 Iteration 0: Loss = 0.45181572437286377\n"
     ]
    },
    {
     "name": "stderr",
     "output_type": "stream",
     "text": [
      "100%|█████████████████████████████████████████████████████████████████████████████████████████████████████| 295/295 [00:14<00:00, 20.37it/s]\n",
      "100%|███████████████████████████████████████████████████████████████████████████████████████████████████████| 74/74 [00:03<00:00, 20.38it/s]\n"
     ]
    },
    {
     "name": "stdout",
     "output_type": "stream",
     "text": [
      "Computing accuracy\n",
      "Test set accuracy (Precision@1) = 0.5798118686868687\n",
      "Epoch 45 Iteration 0: Loss = 0.4231579601764679\n"
     ]
    },
    {
     "name": "stderr",
     "output_type": "stream",
     "text": [
      "100%|█████████████████████████████████████████████████████████████████████████████████████████████████████| 295/295 [00:14<00:00, 19.86it/s]\n",
      "100%|███████████████████████████████████████████████████████████████████████████████████████████████████████| 74/74 [00:03<00:00, 19.92it/s]\n"
     ]
    },
    {
     "name": "stdout",
     "output_type": "stream",
     "text": [
      "Computing accuracy\n",
      "Test set accuracy (Precision@1) = 0.5844406565656566\n",
      "Epoch 46 Iteration 0: Loss = 0.4280528724193573\n"
     ]
    },
    {
     "name": "stderr",
     "output_type": "stream",
     "text": [
      "100%|█████████████████████████████████████████████████████████████████████████████████████████████████████| 295/295 [00:14<00:00, 20.04it/s]\n",
      "100%|███████████████████████████████████████████████████████████████████████████████████████████████████████| 74/74 [00:03<00:00, 20.18it/s]\n"
     ]
    },
    {
     "name": "stdout",
     "output_type": "stream",
     "text": [
      "Computing accuracy\n",
      "Test set accuracy (Precision@1) = 0.5808952020202022\n",
      "Epoch 47 Iteration 0: Loss = 0.4049800932407379\n"
     ]
    },
    {
     "name": "stderr",
     "output_type": "stream",
     "text": [
      "100%|█████████████████████████████████████████████████████████████████████████████████████████████████████| 295/295 [00:14<00:00, 20.02it/s]\n",
      "100%|███████████████████████████████████████████████████████████████████████████████████████████████████████| 74/74 [00:03<00:00, 20.08it/s]\n"
     ]
    },
    {
     "name": "stdout",
     "output_type": "stream",
     "text": [
      "Computing accuracy\n",
      "Test set accuracy (Precision@1) = 0.5851035353535353\n",
      "Epoch 48 Iteration 0: Loss = 0.30467602610588074\n"
     ]
    },
    {
     "name": "stderr",
     "output_type": "stream",
     "text": [
      "100%|█████████████████████████████████████████████████████████████████████████████████████████████████████| 295/295 [00:14<00:00, 20.22it/s]\n",
      "100%|███████████████████████████████████████████████████████████████████████████████████████████████████████| 74/74 [00:03<00:00, 20.26it/s]\n"
     ]
    },
    {
     "name": "stdout",
     "output_type": "stream",
     "text": [
      "Computing accuracy\n",
      "Test set accuracy (Precision@1) = 0.5824267676767677\n",
      "Epoch 49 Iteration 0: Loss = 0.39542698860168457\n"
     ]
    },
    {
     "name": "stderr",
     "output_type": "stream",
     "text": [
      "100%|█████████████████████████████████████████████████████████████████████████████████████████████████████| 295/295 [00:14<00:00, 19.67it/s]\n",
      "100%|███████████████████████████████████████████████████████████████████████████████████████████████████████| 74/74 [00:03<00:00, 19.54it/s]\n"
     ]
    },
    {
     "name": "stdout",
     "output_type": "stream",
     "text": [
      "Computing accuracy\n",
      "Test set accuracy (Precision@1) = 0.5846313131313131\n",
      "Epoch 50 Iteration 0: Loss = 0.411683052778244\n"
     ]
    },
    {
     "name": "stderr",
     "output_type": "stream",
     "text": [
      "100%|█████████████████████████████████████████████████████████████████████████████████████████████████████| 295/295 [00:14<00:00, 19.72it/s]\n",
      "100%|███████████████████████████████████████████████████████████████████████████████████████████████████████| 74/74 [00:03<00:00, 21.16it/s]\n"
     ]
    },
    {
     "name": "stdout",
     "output_type": "stream",
     "text": [
      "Computing accuracy\n",
      "Test set accuracy (Precision@1) = 0.5961313131313132\n",
      "Epoch 51 Iteration 0: Loss = 0.32444921135902405\n"
     ]
    },
    {
     "name": "stderr",
     "output_type": "stream",
     "text": [
      "100%|█████████████████████████████████████████████████████████████████████████████████████████████████████| 295/295 [00:14<00:00, 19.75it/s]\n",
      "100%|███████████████████████████████████████████████████████████████████████████████████████████████████████| 74/74 [00:03<00:00, 19.92it/s]\n"
     ]
    },
    {
     "name": "stdout",
     "output_type": "stream",
     "text": [
      "Computing accuracy\n",
      "Test set accuracy (Precision@1) = 0.5992285353535354\n",
      "Epoch 52 Iteration 0: Loss = 0.40481188893318176\n"
     ]
    },
    {
     "name": "stderr",
     "output_type": "stream",
     "text": [
      "100%|█████████████████████████████████████████████████████████████████████████████████████████████████████| 295/295 [00:14<00:00, 19.85it/s]\n",
      "100%|███████████████████████████████████████████████████████████████████████████████████████████████████████| 74/74 [00:03<00:00, 19.83it/s]\n"
     ]
    },
    {
     "name": "stdout",
     "output_type": "stream",
     "text": [
      "Computing accuracy\n",
      "Test set accuracy (Precision@1) = 0.5978320707070707\n",
      "Epoch 53 Iteration 0: Loss = 0.4262247383594513\n"
     ]
    },
    {
     "name": "stderr",
     "output_type": "stream",
     "text": [
      "100%|█████████████████████████████████████████████████████████████████████████████████████████████████████| 295/295 [00:13<00:00, 21.61it/s]\n",
      "100%|███████████████████████████████████████████████████████████████████████████████████████████████████████| 74/74 [00:03<00:00, 21.71it/s]\n"
     ]
    },
    {
     "name": "stdout",
     "output_type": "stream",
     "text": [
      "Computing accuracy\n",
      "Test set accuracy (Precision@1) = 0.5943573232323233\n",
      "Epoch 54 Iteration 0: Loss = 0.4061618447303772\n"
     ]
    },
    {
     "name": "stderr",
     "output_type": "stream",
     "text": [
      "100%|█████████████████████████████████████████████████████████████████████████████████████████████████████| 295/295 [00:13<00:00, 21.72it/s]\n",
      "100%|███████████████████████████████████████████████████████████████████████████████████████████████████████| 74/74 [00:03<00:00, 21.73it/s]\n"
     ]
    },
    {
     "name": "stdout",
     "output_type": "stream",
     "text": [
      "Computing accuracy\n",
      "Test set accuracy (Precision@1) = 0.6040656565656566\n",
      "Epoch 55 Iteration 0: Loss = 0.40407270193099976\n"
     ]
    },
    {
     "name": "stderr",
     "output_type": "stream",
     "text": [
      "100%|█████████████████████████████████████████████████████████████████████████████████████████████████████| 295/295 [00:13<00:00, 21.64it/s]\n",
      "100%|███████████████████████████████████████████████████████████████████████████████████████████████████████| 74/74 [00:03<00:00, 21.74it/s]\n"
     ]
    },
    {
     "name": "stdout",
     "output_type": "stream",
     "text": [
      "Computing accuracy\n",
      "Test set accuracy (Precision@1) = 0.5976906565656566\n",
      "Epoch 56 Iteration 0: Loss = 0.43317100405693054\n"
     ]
    },
    {
     "name": "stderr",
     "output_type": "stream",
     "text": [
      "100%|█████████████████████████████████████████████████████████████████████████████████████████████████████| 295/295 [00:13<00:00, 21.71it/s]\n",
      "100%|███████████████████████████████████████████████████████████████████████████████████████████████████████| 74/74 [00:03<00:00, 21.63it/s]\n"
     ]
    },
    {
     "name": "stdout",
     "output_type": "stream",
     "text": [
      "Computing accuracy\n",
      "Test set accuracy (Precision@1) = 0.6033737373737375\n",
      "Epoch 57 Iteration 0: Loss = 0.436553955078125\n"
     ]
    },
    {
     "name": "stderr",
     "output_type": "stream",
     "text": [
      "100%|█████████████████████████████████████████████████████████████████████████████████████████████████████| 295/295 [00:13<00:00, 21.58it/s]\n",
      "100%|███████████████████████████████████████████████████████████████████████████████████████████████████████| 74/74 [00:03<00:00, 21.76it/s]\n"
     ]
    },
    {
     "name": "stdout",
     "output_type": "stream",
     "text": [
      "Computing accuracy\n",
      "Test set accuracy (Precision@1) = 0.59927398989899\n",
      "Epoch 58 Iteration 0: Loss = 0.35481080412864685\n"
     ]
    },
    {
     "name": "stderr",
     "output_type": "stream",
     "text": [
      "100%|█████████████████████████████████████████████████████████████████████████████████████████████████████| 295/295 [00:13<00:00, 21.70it/s]\n",
      "100%|███████████████████████████████████████████████████████████████████████████████████████████████████████| 74/74 [00:03<00:00, 21.66it/s]\n"
     ]
    },
    {
     "name": "stdout",
     "output_type": "stream",
     "text": [
      "Computing accuracy\n",
      "Test set accuracy (Precision@1) = 0.6005479797979798\n",
      "Epoch 59 Iteration 0: Loss = 0.4275543689727783\n"
     ]
    },
    {
     "name": "stderr",
     "output_type": "stream",
     "text": [
      "100%|█████████████████████████████████████████████████████████████████████████████████████████████████████| 295/295 [00:13<00:00, 21.73it/s]\n",
      "100%|███████████████████████████████████████████████████████████████████████████████████████████████████████| 74/74 [00:03<00:00, 21.69it/s]\n"
     ]
    },
    {
     "name": "stdout",
     "output_type": "stream",
     "text": [
      "Computing accuracy\n",
      "Test set accuracy (Precision@1) = 0.6032323232323232\n",
      "Epoch 60 Iteration 0: Loss = 0.42824292182922363\n"
     ]
    },
    {
     "name": "stderr",
     "output_type": "stream",
     "text": [
      "100%|█████████████████████████████████████████████████████████████████████████████████████████████████████| 295/295 [00:13<00:00, 21.78it/s]\n",
      "100%|███████████████████████████████████████████████████████████████████████████████████████████████████████| 74/74 [00:03<00:00, 21.88it/s]\n"
     ]
    },
    {
     "name": "stdout",
     "output_type": "stream",
     "text": [
      "Computing accuracy\n",
      "Test set accuracy (Precision@1) = 0.6083813131313132\n",
      "Epoch 61 Iteration 0: Loss = 0.43517836928367615\n"
     ]
    },
    {
     "name": "stderr",
     "output_type": "stream",
     "text": [
      "100%|█████████████████████████████████████████████████████████████████████████████████████████████████████| 295/295 [00:13<00:00, 21.72it/s]\n",
      "100%|███████████████████████████████████████████████████████████████████████████████████████████████████████| 74/74 [00:03<00:00, 21.10it/s]\n"
     ]
    },
    {
     "name": "stdout",
     "output_type": "stream",
     "text": [
      "Computing accuracy\n",
      "Test set accuracy (Precision@1) = 0.6056691919191919\n",
      "Epoch 62 Iteration 0: Loss = 0.40348711609840393\n"
     ]
    },
    {
     "name": "stderr",
     "output_type": "stream",
     "text": [
      "100%|█████████████████████████████████████████████████████████████████████████████████████████████████████| 295/295 [00:13<00:00, 21.71it/s]\n",
      "100%|███████████████████████████████████████████████████████████████████████████████████████████████████████| 74/74 [00:03<00:00, 21.76it/s]\n"
     ]
    },
    {
     "name": "stdout",
     "output_type": "stream",
     "text": [
      "Computing accuracy\n",
      "Test set accuracy (Precision@1) = 0.6115858585858586\n",
      "Epoch 63 Iteration 0: Loss = 0.4273664355278015\n"
     ]
    },
    {
     "name": "stderr",
     "output_type": "stream",
     "text": [
      "100%|█████████████████████████████████████████████████████████████████████████████████████████████████████| 295/295 [00:13<00:00, 21.67it/s]\n",
      "100%|███████████████████████████████████████████████████████████████████████████████████████████████████████| 74/74 [00:03<00:00, 21.71it/s]\n"
     ]
    },
    {
     "name": "stdout",
     "output_type": "stream",
     "text": [
      "Computing accuracy\n",
      "Test set accuracy (Precision@1) = 0.6133813131313132\n",
      "Epoch 64 Iteration 0: Loss = 0.3982541859149933\n"
     ]
    },
    {
     "name": "stderr",
     "output_type": "stream",
     "text": [
      "100%|█████████████████████████████████████████████████████████████████████████████████████████████████████| 295/295 [00:13<00:00, 21.75it/s]\n",
      "100%|███████████████████████████████████████████████████████████████████████████████████████████████████████| 74/74 [00:03<00:00, 21.81it/s]\n"
     ]
    },
    {
     "name": "stdout",
     "output_type": "stream",
     "text": [
      "Computing accuracy\n",
      "Test set accuracy (Precision@1) = 0.6135025252525252\n",
      "Epoch 65 Iteration 0: Loss = 0.40510666370391846\n"
     ]
    },
    {
     "name": "stderr",
     "output_type": "stream",
     "text": [
      "100%|█████████████████████████████████████████████████████████████████████████████████████████████████████| 295/295 [00:13<00:00, 21.71it/s]\n",
      "100%|███████████████████████████████████████████████████████████████████████████████████████████████████████| 74/74 [00:03<00:00, 21.76it/s]\n"
     ]
    },
    {
     "name": "stdout",
     "output_type": "stream",
     "text": [
      "Computing accuracy\n",
      "Test set accuracy (Precision@1) = 0.6110934343434343\n",
      "Epoch 66 Iteration 0: Loss = 0.3508806824684143\n"
     ]
    },
    {
     "name": "stderr",
     "output_type": "stream",
     "text": [
      "100%|█████████████████████████████████████████████████████████████████████████████████████████████████████| 295/295 [00:13<00:00, 21.67it/s]\n",
      "100%|███████████████████████████████████████████████████████████████████████████████████████████████████████| 74/74 [00:03<00:00, 21.69it/s]\n"
     ]
    },
    {
     "name": "stdout",
     "output_type": "stream",
     "text": [
      "Computing accuracy\n",
      "Test set accuracy (Precision@1) = 0.6137525252525253\n",
      "Epoch 67 Iteration 0: Loss = 0.352613240480423\n"
     ]
    },
    {
     "name": "stderr",
     "output_type": "stream",
     "text": [
      "100%|█████████████████████████████████████████████████████████████████████████████████████████████████████| 295/295 [00:13<00:00, 21.53it/s]\n",
      "100%|███████████████████████████████████████████████████████████████████████████████████████████████████████| 74/74 [00:03<00:00, 21.73it/s]\n"
     ]
    },
    {
     "name": "stdout",
     "output_type": "stream",
     "text": [
      "Computing accuracy\n",
      "Test set accuracy (Precision@1) = 0.6198813131313131\n",
      "Epoch 68 Iteration 0: Loss = 0.3720093071460724\n"
     ]
    },
    {
     "name": "stderr",
     "output_type": "stream",
     "text": [
      "100%|█████████████████████████████████████████████████████████████████████████████████████████████████████| 295/295 [00:13<00:00, 21.74it/s]\n",
      "100%|███████████████████████████████████████████████████████████████████████████████████████████████████████| 74/74 [00:03<00:00, 21.78it/s]\n"
     ]
    },
    {
     "name": "stdout",
     "output_type": "stream",
     "text": [
      "Computing accuracy\n",
      "Test set accuracy (Precision@1) = 0.6140757575757576\n",
      "Epoch 69 Iteration 0: Loss = 0.34741953015327454\n"
     ]
    },
    {
     "name": "stderr",
     "output_type": "stream",
     "text": [
      "100%|█████████████████████████████████████████████████████████████████████████████████████████████████████| 295/295 [00:13<00:00, 21.67it/s]\n",
      "100%|███████████████████████████████████████████████████████████████████████████████████████████████████████| 74/74 [00:03<00:00, 21.81it/s]\n"
     ]
    },
    {
     "name": "stdout",
     "output_type": "stream",
     "text": [
      "Computing accuracy\n",
      "Test set accuracy (Precision@1) = 0.6216868686868686\n",
      "Epoch 70 Iteration 0: Loss = 0.43831127882003784\n"
     ]
    },
    {
     "name": "stderr",
     "output_type": "stream",
     "text": [
      "100%|█████████████████████████████████████████████████████████████████████████████████████████████████████| 295/295 [00:13<00:00, 21.74it/s]\n",
      "100%|███████████████████████████████████████████████████████████████████████████████████████████████████████| 74/74 [00:03<00:00, 21.86it/s]\n"
     ]
    },
    {
     "name": "stdout",
     "output_type": "stream",
     "text": [
      "Computing accuracy\n",
      "Test set accuracy (Precision@1) = 0.6185681818181817\n",
      "Epoch 71 Iteration 0: Loss = 0.41918304562568665\n"
     ]
    },
    {
     "name": "stderr",
     "output_type": "stream",
     "text": [
      "100%|█████████████████████████████████████████████████████████████████████████████████████████████████████| 295/295 [00:13<00:00, 21.61it/s]\n",
      "100%|███████████████████████████████████████████████████████████████████████████████████████████████████████| 74/74 [00:03<00:00, 21.80it/s]\n"
     ]
    },
    {
     "name": "stdout",
     "output_type": "stream",
     "text": [
      "Computing accuracy\n",
      "Test set accuracy (Precision@1) = 0.6172424242424244\n",
      "Epoch 72 Iteration 0: Loss = 0.3526211678981781\n"
     ]
    },
    {
     "name": "stderr",
     "output_type": "stream",
     "text": [
      "100%|█████████████████████████████████████████████████████████████████████████████████████████████████████| 295/295 [00:13<00:00, 21.68it/s]\n",
      "100%|███████████████████████████████████████████████████████████████████████████████████████████████████████| 74/74 [00:03<00:00, 21.76it/s]\n"
     ]
    },
    {
     "name": "stdout",
     "output_type": "stream",
     "text": [
      "Computing accuracy\n",
      "Test set accuracy (Precision@1) = 0.6173156565656566\n",
      "Epoch 73 Iteration 0: Loss = 0.4539494216442108\n"
     ]
    },
    {
     "name": "stderr",
     "output_type": "stream",
     "text": [
      "100%|█████████████████████████████████████████████████████████████████████████████████████████████████████| 295/295 [00:13<00:00, 21.53it/s]\n",
      "100%|███████████████████████████████████████████████████████████████████████████████████████████████████████| 74/74 [00:03<00:00, 21.41it/s]\n"
     ]
    },
    {
     "name": "stdout",
     "output_type": "stream",
     "text": [
      "Computing accuracy\n",
      "Test set accuracy (Precision@1) = 0.6208535353535354\n",
      "Epoch 74 Iteration 0: Loss = 0.3333263099193573\n"
     ]
    },
    {
     "name": "stderr",
     "output_type": "stream",
     "text": [
      "100%|█████████████████████████████████████████████████████████████████████████████████████████████████████| 295/295 [00:13<00:00, 21.66it/s]\n",
      "100%|███████████████████████████████████████████████████████████████████████████████████████████████████████| 74/74 [00:03<00:00, 21.68it/s]\n"
     ]
    },
    {
     "name": "stdout",
     "output_type": "stream",
     "text": [
      "Computing accuracy\n",
      "Test set accuracy (Precision@1) = 0.6215580808080808\n",
      "Epoch 75 Iteration 0: Loss = 0.3775993883609772\n"
     ]
    },
    {
     "name": "stderr",
     "output_type": "stream",
     "text": [
      "100%|█████████████████████████████████████████████████████████████████████████████████████████████████████| 295/295 [00:13<00:00, 21.62it/s]\n",
      "100%|███████████████████████████████████████████████████████████████████████████████████████████████████████| 74/74 [00:03<00:00, 21.85it/s]\n"
     ]
    },
    {
     "name": "stdout",
     "output_type": "stream",
     "text": [
      "Computing accuracy\n",
      "Test set accuracy (Precision@1) = 0.6301035353535354\n",
      "Epoch 76 Iteration 0: Loss = 0.3999546766281128\n"
     ]
    },
    {
     "name": "stderr",
     "output_type": "stream",
     "text": [
      "100%|█████████████████████████████████████████████████████████████████████████████████████████████████████| 295/295 [00:13<00:00, 21.68it/s]\n",
      "100%|███████████████████████████████████████████████████████████████████████████████████████████████████████| 74/74 [00:03<00:00, 21.67it/s]\n"
     ]
    },
    {
     "name": "stdout",
     "output_type": "stream",
     "text": [
      "Computing accuracy\n",
      "Test set accuracy (Precision@1) = 0.6268358585858586\n",
      "Epoch 77 Iteration 0: Loss = 0.4273541271686554\n"
     ]
    },
    {
     "name": "stderr",
     "output_type": "stream",
     "text": [
      "100%|█████████████████████████████████████████████████████████████████████████████████████████████████████| 295/295 [00:13<00:00, 21.26it/s]\n",
      "100%|███████████████████████████████████████████████████████████████████████████████████████████████████████| 74/74 [00:03<00:00, 21.57it/s]\n"
     ]
    },
    {
     "name": "stdout",
     "output_type": "stream",
     "text": [
      "Computing accuracy\n",
      "Test set accuracy (Precision@1) = 0.6248813131313131\n",
      "Epoch 78 Iteration 0: Loss = 0.42639678716659546\n"
     ]
    },
    {
     "name": "stderr",
     "output_type": "stream",
     "text": [
      "100%|█████████████████████████████████████████████████████████████████████████████████████████████████████| 295/295 [00:14<00:00, 19.85it/s]\n",
      "100%|███████████████████████████████████████████████████████████████████████████████████████████████████████| 74/74 [00:03<00:00, 20.41it/s]\n"
     ]
    },
    {
     "name": "stdout",
     "output_type": "stream",
     "text": [
      "Computing accuracy\n",
      "Test set accuracy (Precision@1) = 0.6279368686868687\n",
      "Epoch 79 Iteration 0: Loss = 0.3679318130016327\n"
     ]
    },
    {
     "name": "stderr",
     "output_type": "stream",
     "text": [
      "100%|█████████████████████████████████████████████████████████████████████████████████████████████████████| 295/295 [00:14<00:00, 20.56it/s]\n",
      "100%|███████████████████████████████████████████████████████████████████████████████████████████████████████| 74/74 [00:03<00:00, 20.81it/s]\n"
     ]
    },
    {
     "name": "stdout",
     "output_type": "stream",
     "text": [
      "Computing accuracy\n",
      "Test set accuracy (Precision@1) = 0.633270202020202\n",
      "Epoch 80 Iteration 0: Loss = 0.415469765663147\n"
     ]
    },
    {
     "name": "stderr",
     "output_type": "stream",
     "text": [
      "100%|█████████████████████████████████████████████████████████████████████████████████████████████████████| 295/295 [00:13<00:00, 21.64it/s]\n",
      "100%|███████████████████████████████████████████████████████████████████████████████████████████████████████| 74/74 [00:03<00:00, 21.50it/s]\n"
     ]
    },
    {
     "name": "stdout",
     "output_type": "stream",
     "text": [
      "Computing accuracy\n",
      "Test set accuracy (Precision@1) = 0.6314368686868688\n",
      "Epoch 81 Iteration 0: Loss = 0.36627739667892456\n"
     ]
    },
    {
     "name": "stderr",
     "output_type": "stream",
     "text": [
      "100%|█████████████████████████████████████████████████████████████████████████████████████████████████████| 295/295 [00:13<00:00, 21.81it/s]\n",
      "100%|███████████████████████████████████████████████████████████████████████████████████████████████████████| 74/74 [00:03<00:00, 21.77it/s]\n"
     ]
    },
    {
     "name": "stdout",
     "output_type": "stream",
     "text": [
      "Computing accuracy\n",
      "Test set accuracy (Precision@1) = 0.6283813131313132\n",
      "Epoch 82 Iteration 0: Loss = 0.33788594603538513\n"
     ]
    },
    {
     "name": "stderr",
     "output_type": "stream",
     "text": [
      "100%|█████████████████████████████████████████████████████████████████████████████████████████████████████| 295/295 [00:14<00:00, 20.87it/s]\n",
      "100%|███████████████████████████████████████████████████████████████████████████████████████████████████████| 74/74 [00:03<00:00, 21.51it/s]\n"
     ]
    },
    {
     "name": "stdout",
     "output_type": "stream",
     "text": [
      "Computing accuracy\n",
      "Test set accuracy (Precision@1) = 0.6335757575757576\n",
      "Epoch 83 Iteration 0: Loss = 0.3590587079524994\n"
     ]
    },
    {
     "name": "stderr",
     "output_type": "stream",
     "text": [
      "100%|█████████████████████████████████████████████████████████████████████████████████████████████████████| 295/295 [00:13<00:00, 21.21it/s]\n",
      "100%|███████████████████████████████████████████████████████████████████████████████████████████████████████| 74/74 [00:03<00:00, 21.50it/s]\n"
     ]
    },
    {
     "name": "stdout",
     "output_type": "stream",
     "text": [
      "Computing accuracy\n",
      "Test set accuracy (Precision@1) = 0.6293636363636363\n",
      "Epoch 84 Iteration 0: Loss = 0.42330092191696167\n"
     ]
    },
    {
     "name": "stderr",
     "output_type": "stream",
     "text": [
      "100%|█████████████████████████████████████████████████████████████████████████████████████████████████████| 295/295 [00:13<00:00, 21.32it/s]\n",
      "100%|███████████████████████████████████████████████████████████████████████████████████████████████████████| 74/74 [00:03<00:00, 21.57it/s]\n"
     ]
    },
    {
     "name": "stdout",
     "output_type": "stream",
     "text": [
      "Computing accuracy\n",
      "Test set accuracy (Precision@1) = 0.6294368686868688\n",
      "Epoch 85 Iteration 0: Loss = 0.3722120225429535\n"
     ]
    },
    {
     "name": "stderr",
     "output_type": "stream",
     "text": [
      "100%|█████████████████████████████████████████████████████████████████████████████████████████████████████| 295/295 [00:13<00:00, 21.66it/s]\n",
      "100%|███████████████████████████████████████████████████████████████████████████████████████████████████████| 74/74 [00:03<00:00, 21.69it/s]\n"
     ]
    },
    {
     "name": "stdout",
     "output_type": "stream",
     "text": [
      "Computing accuracy\n",
      "Test set accuracy (Precision@1) = 0.6351035353535355\n",
      "Epoch 86 Iteration 0: Loss = 0.3453454077243805\n"
     ]
    },
    {
     "name": "stderr",
     "output_type": "stream",
     "text": [
      "100%|█████████████████████████████████████████████████████████████████████████████████████████████████████| 295/295 [00:13<00:00, 21.47it/s]\n",
      "100%|███████████████████████████████████████████████████████████████████████████████████████████████████████| 74/74 [00:03<00:00, 21.88it/s]\n"
     ]
    },
    {
     "name": "stdout",
     "output_type": "stream",
     "text": [
      "Computing accuracy\n",
      "Test set accuracy (Precision@1) = 0.6351414141414141\n",
      "Epoch 87 Iteration 0: Loss = 0.37967830896377563\n"
     ]
    },
    {
     "name": "stderr",
     "output_type": "stream",
     "text": [
      "100%|█████████████████████████████████████████████████████████████████████████████████████████████████████| 295/295 [00:13<00:00, 21.78it/s]\n",
      "100%|███████████████████████████████████████████████████████████████████████████████████████████████████████| 74/74 [00:03<00:00, 21.88it/s]\n"
     ]
    },
    {
     "name": "stdout",
     "output_type": "stream",
     "text": [
      "Computing accuracy\n",
      "Test set accuracy (Precision@1) = 0.6372247474747473\n",
      "Epoch 88 Iteration 0: Loss = 0.2870587706565857\n"
     ]
    },
    {
     "name": "stderr",
     "output_type": "stream",
     "text": [
      "100%|█████████████████████████████████████████████████████████████████████████████████████████████████████| 295/295 [00:13<00:00, 21.66it/s]\n",
      "100%|███████████████████████████████████████████████████████████████████████████████████████████████████████| 74/74 [00:03<00:00, 20.89it/s]\n"
     ]
    },
    {
     "name": "stdout",
     "output_type": "stream",
     "text": [
      "Computing accuracy\n",
      "Test set accuracy (Precision@1) = 0.6355959595959596\n",
      "Epoch 89 Iteration 0: Loss = 0.3573687672615051\n"
     ]
    },
    {
     "name": "stderr",
     "output_type": "stream",
     "text": [
      "100%|█████████████████████████████████████████████████████████████████████████████████████████████████████| 295/295 [00:13<00:00, 21.51it/s]\n",
      "100%|███████████████████████████████████████████████████████████████████████████████████████████████████████| 74/74 [00:03<00:00, 21.21it/s]\n"
     ]
    },
    {
     "name": "stdout",
     "output_type": "stream",
     "text": [
      "Computing accuracy\n",
      "Test set accuracy (Precision@1) = 0.6344191919191919\n",
      "Epoch 90 Iteration 0: Loss = 0.4174293279647827\n"
     ]
    },
    {
     "name": "stderr",
     "output_type": "stream",
     "text": [
      "100%|█████████████████████████████████████████████████████████████████████████████████████████████████████| 295/295 [00:14<00:00, 20.34it/s]\n",
      "100%|███████████████████████████████████████████████████████████████████████████████████████████████████████| 74/74 [00:03<00:00, 20.17it/s]\n"
     ]
    },
    {
     "name": "stdout",
     "output_type": "stream",
     "text": [
      "Computing accuracy\n",
      "Test set accuracy (Precision@1) = 0.6337247474747476\n",
      "Epoch 91 Iteration 0: Loss = 0.33346307277679443\n"
     ]
    },
    {
     "name": "stderr",
     "output_type": "stream",
     "text": [
      "100%|█████████████████████████████████████████████████████████████████████████████████████████████████████| 295/295 [00:14<00:00, 21.05it/s]\n",
      "100%|███████████████████████████████████████████████████████████████████████████████████████████████████████| 74/74 [00:03<00:00, 21.45it/s]\n"
     ]
    },
    {
     "name": "stdout",
     "output_type": "stream",
     "text": [
      "Computing accuracy\n",
      "Test set accuracy (Precision@1) = 0.6391035353535354\n",
      "Epoch 92 Iteration 0: Loss = 0.3611784279346466\n"
     ]
    },
    {
     "name": "stderr",
     "output_type": "stream",
     "text": [
      "100%|█████████████████████████████████████████████████████████████████████████████████████████████████████| 295/295 [00:13<00:00, 21.23it/s]\n",
      "100%|███████████████████████████████████████████████████████████████████████████████████████████████████████| 74/74 [00:03<00:00, 21.54it/s]\n"
     ]
    },
    {
     "name": "stdout",
     "output_type": "stream",
     "text": [
      "Computing accuracy\n",
      "Test set accuracy (Precision@1) = 0.6376868686868686\n",
      "Epoch 93 Iteration 0: Loss = 0.342570960521698\n"
     ]
    },
    {
     "name": "stderr",
     "output_type": "stream",
     "text": [
      "100%|█████████████████████████████████████████████████████████████████████████████████████████████████████| 295/295 [00:13<00:00, 21.24it/s]\n",
      "100%|███████████████████████████████████████████████████████████████████████████████████████████████████████| 74/74 [00:03<00:00, 21.61it/s]\n"
     ]
    },
    {
     "name": "stdout",
     "output_type": "stream",
     "text": [
      "Computing accuracy\n",
      "Test set accuracy (Precision@1) = 0.6379823232323233\n",
      "Epoch 94 Iteration 0: Loss = 0.35343819856643677\n"
     ]
    },
    {
     "name": "stderr",
     "output_type": "stream",
     "text": [
      "100%|█████████████████████████████████████████████████████████████████████████████████████████████████████| 295/295 [00:13<00:00, 21.60it/s]\n",
      "100%|███████████████████████████████████████████████████████████████████████████████████████████████████████| 74/74 [00:03<00:00, 21.65it/s]\n"
     ]
    },
    {
     "name": "stdout",
     "output_type": "stream",
     "text": [
      "Computing accuracy\n",
      "Test set accuracy (Precision@1) = 0.6365202020202021\n",
      "Epoch 95 Iteration 0: Loss = 0.3262740969657898\n"
     ]
    },
    {
     "name": "stderr",
     "output_type": "stream",
     "text": [
      "100%|█████████████████████████████████████████████████████████████████████████████████████████████████████| 295/295 [00:13<00:00, 21.45it/s]\n",
      "100%|███████████████████████████████████████████████████████████████████████████████████████████████████████| 74/74 [00:03<00:00, 21.58it/s]\n"
     ]
    },
    {
     "name": "stdout",
     "output_type": "stream",
     "text": [
      "Computing accuracy\n",
      "Test set accuracy (Precision@1) = 0.6379368686868688\n",
      "Epoch 96 Iteration 0: Loss = 0.35633742809295654\n"
     ]
    },
    {
     "name": "stderr",
     "output_type": "stream",
     "text": [
      "100%|█████████████████████████████████████████████████████████████████████████████████████████████████████| 295/295 [00:13<00:00, 21.20it/s]\n",
      "100%|███████████████████████████████████████████████████████████████████████████████████████████████████████| 74/74 [00:03<00:00, 21.49it/s]\n"
     ]
    },
    {
     "name": "stdout",
     "output_type": "stream",
     "text": [
      "Computing accuracy\n",
      "Test set accuracy (Precision@1) = 0.6394962121212121\n",
      "Epoch 97 Iteration 0: Loss = 0.28204044699668884\n"
     ]
    },
    {
     "name": "stderr",
     "output_type": "stream",
     "text": [
      "100%|█████████████████████████████████████████████████████████████████████████████████████████████████████| 295/295 [00:13<00:00, 21.19it/s]\n",
      "100%|███████████████████████████████████████████████████████████████████████████████████████████████████████| 74/74 [00:03<00:00, 21.57it/s]\n"
     ]
    },
    {
     "name": "stdout",
     "output_type": "stream",
     "text": [
      "Computing accuracy\n",
      "Test set accuracy (Precision@1) = 0.6373712121212121\n",
      "Epoch 98 Iteration 0: Loss = 0.3920958936214447\n"
     ]
    },
    {
     "name": "stderr",
     "output_type": "stream",
     "text": [
      "100%|█████████████████████████████████████████████████████████████████████████████████████████████████████| 295/295 [00:13<00:00, 21.39it/s]\n",
      "100%|███████████████████████████████████████████████████████████████████████████████████████████████████████| 74/74 [00:03<00:00, 21.59it/s]\n"
     ]
    },
    {
     "name": "stdout",
     "output_type": "stream",
     "text": [
      "Computing accuracy\n",
      "Test set accuracy (Precision@1) = 0.6397878787878789\n",
      "Epoch 99 Iteration 0: Loss = 0.28653618693351746\n"
     ]
    },
    {
     "name": "stderr",
     "output_type": "stream",
     "text": [
      "100%|█████████████████████████████████████████████████████████████████████████████████████████████████████| 295/295 [00:14<00:00, 21.05it/s]\n",
      "100%|███████████████████████████████████████████████████████████████████████████████████████████████████████| 74/74 [00:03<00:00, 21.77it/s]\n"
     ]
    },
    {
     "name": "stdout",
     "output_type": "stream",
     "text": [
      "Computing accuracy\n",
      "Test set accuracy (Precision@1) = 0.639621212121212\n",
      "Epoch 100 Iteration 0: Loss = 0.25897419452667236\n"
     ]
    },
    {
     "name": "stderr",
     "output_type": "stream",
     "text": [
      "100%|█████████████████████████████████████████████████████████████████████████████████████████████████████| 295/295 [00:13<00:00, 21.31it/s]\n",
      "100%|███████████████████████████████████████████████████████████████████████████████████████████████████████| 74/74 [00:03<00:00, 21.65it/s]"
     ]
    },
    {
     "name": "stdout",
     "output_type": "stream",
     "text": [
      "Computing accuracy\n",
      "Test set accuracy (Precision@1) = 0.6446489898989899\n"
     ]
    },
    {
     "name": "stderr",
     "output_type": "stream",
     "text": [
      "\n"
     ]
    }
   ],
   "source": [
    "#total_loss = []\n",
    "#total_acc = []\n",
    "for epoch in range(1, num_epochs + 1):\n",
    "    train_loss = train(model, loss_func,mining_func, device, train_loader, optimizer, epoch)\n",
    "    #total_loss.extend(train_loss)\n",
    "    test_acc = test(train_dataset, test_dataset, model, accuracy_calculator)\n",
    "    #total_acc.append(test_acc)\n",
    "    wandb.log({\"test_accuracy\": test_acc, \"train_loss\": train_loss,'epoch':epoch})"
   ]
  },
  {
   "cell_type": "code",
   "execution_count": 21,
   "id": "f4e33826-711a-4780-b22f-8089e23719da",
   "metadata": {},
   "outputs": [],
   "source": [
    "torch.save(model,'models/cub_triplet_loss_epshn_cosine_resnet18_sgd_200.pth')"
   ]
  },
  {
   "cell_type": "code",
   "execution_count": 37,
   "id": "8468f5a6-8c26-4f43-b780-898e6e6cbc12",
   "metadata": {
    "scrolled": true
   },
   "outputs": [],
   "source": [
    "model = torch.load('models/cub_triplet_loss_epshn_cosine_resnet18_sgd_200.pth',map_location='cuda')"
   ]
  },
  {
   "cell_type": "code",
   "execution_count": 38,
   "id": "ee72491a-6daa-4df4-8905-9d237e26b24f",
   "metadata": {
    "scrolled": true
   },
   "outputs": [
    {
     "data": {
      "text/plain": [
       "ResNetFeatrueExtractor18(\n",
       "  (conv1): Conv2d(3, 64, kernel_size=(7, 7), stride=(2, 2), padding=(3, 3), bias=False)\n",
       "  (bn1): BatchNorm2d(64, eps=1e-05, momentum=0.1, affine=True, track_running_stats=True)\n",
       "  (relu): ReLU(inplace=True)\n",
       "  (maxpool): MaxPool2d(kernel_size=3, stride=2, padding=1, dilation=1, ceil_mode=False)\n",
       "  (layer1): Sequential(\n",
       "    (0): BasicBlock(\n",
       "      (conv1): Conv2d(64, 64, kernel_size=(3, 3), stride=(1, 1), padding=(1, 1), bias=False)\n",
       "      (bn1): BatchNorm2d(64, eps=1e-05, momentum=0.1, affine=True, track_running_stats=True)\n",
       "      (relu): ReLU(inplace=True)\n",
       "      (conv2): Conv2d(64, 64, kernel_size=(3, 3), stride=(1, 1), padding=(1, 1), bias=False)\n",
       "      (bn2): BatchNorm2d(64, eps=1e-05, momentum=0.1, affine=True, track_running_stats=True)\n",
       "    )\n",
       "    (1): BasicBlock(\n",
       "      (conv1): Conv2d(64, 64, kernel_size=(3, 3), stride=(1, 1), padding=(1, 1), bias=False)\n",
       "      (bn1): BatchNorm2d(64, eps=1e-05, momentum=0.1, affine=True, track_running_stats=True)\n",
       "      (relu): ReLU(inplace=True)\n",
       "      (conv2): Conv2d(64, 64, kernel_size=(3, 3), stride=(1, 1), padding=(1, 1), bias=False)\n",
       "      (bn2): BatchNorm2d(64, eps=1e-05, momentum=0.1, affine=True, track_running_stats=True)\n",
       "    )\n",
       "  )\n",
       "  (layer2): Sequential(\n",
       "    (0): BasicBlock(\n",
       "      (conv1): Conv2d(64, 128, kernel_size=(3, 3), stride=(2, 2), padding=(1, 1), bias=False)\n",
       "      (bn1): BatchNorm2d(128, eps=1e-05, momentum=0.1, affine=True, track_running_stats=True)\n",
       "      (relu): ReLU(inplace=True)\n",
       "      (conv2): Conv2d(128, 128, kernel_size=(3, 3), stride=(1, 1), padding=(1, 1), bias=False)\n",
       "      (bn2): BatchNorm2d(128, eps=1e-05, momentum=0.1, affine=True, track_running_stats=True)\n",
       "      (downsample): Sequential(\n",
       "        (0): Conv2d(64, 128, kernel_size=(1, 1), stride=(2, 2), bias=False)\n",
       "        (1): BatchNorm2d(128, eps=1e-05, momentum=0.1, affine=True, track_running_stats=True)\n",
       "      )\n",
       "    )\n",
       "    (1): BasicBlock(\n",
       "      (conv1): Conv2d(128, 128, kernel_size=(3, 3), stride=(1, 1), padding=(1, 1), bias=False)\n",
       "      (bn1): BatchNorm2d(128, eps=1e-05, momentum=0.1, affine=True, track_running_stats=True)\n",
       "      (relu): ReLU(inplace=True)\n",
       "      (conv2): Conv2d(128, 128, kernel_size=(3, 3), stride=(1, 1), padding=(1, 1), bias=False)\n",
       "      (bn2): BatchNorm2d(128, eps=1e-05, momentum=0.1, affine=True, track_running_stats=True)\n",
       "    )\n",
       "  )\n",
       "  (layer3): Sequential(\n",
       "    (0): BasicBlock(\n",
       "      (conv1): Conv2d(128, 256, kernel_size=(3, 3), stride=(2, 2), padding=(1, 1), bias=False)\n",
       "      (bn1): BatchNorm2d(256, eps=1e-05, momentum=0.1, affine=True, track_running_stats=True)\n",
       "      (relu): ReLU(inplace=True)\n",
       "      (conv2): Conv2d(256, 256, kernel_size=(3, 3), stride=(1, 1), padding=(1, 1), bias=False)\n",
       "      (bn2): BatchNorm2d(256, eps=1e-05, momentum=0.1, affine=True, track_running_stats=True)\n",
       "      (downsample): Sequential(\n",
       "        (0): Conv2d(128, 256, kernel_size=(1, 1), stride=(2, 2), bias=False)\n",
       "        (1): BatchNorm2d(256, eps=1e-05, momentum=0.1, affine=True, track_running_stats=True)\n",
       "      )\n",
       "    )\n",
       "    (1): BasicBlock(\n",
       "      (conv1): Conv2d(256, 256, kernel_size=(3, 3), stride=(1, 1), padding=(1, 1), bias=False)\n",
       "      (bn1): BatchNorm2d(256, eps=1e-05, momentum=0.1, affine=True, track_running_stats=True)\n",
       "      (relu): ReLU(inplace=True)\n",
       "      (conv2): Conv2d(256, 256, kernel_size=(3, 3), stride=(1, 1), padding=(1, 1), bias=False)\n",
       "      (bn2): BatchNorm2d(256, eps=1e-05, momentum=0.1, affine=True, track_running_stats=True)\n",
       "    )\n",
       "  )\n",
       "  (layer4): Sequential(\n",
       "    (0): BasicBlock(\n",
       "      (conv1): Conv2d(256, 512, kernel_size=(3, 3), stride=(2, 2), padding=(1, 1), bias=False)\n",
       "      (bn1): BatchNorm2d(512, eps=1e-05, momentum=0.1, affine=True, track_running_stats=True)\n",
       "      (relu): ReLU(inplace=True)\n",
       "      (conv2): Conv2d(512, 512, kernel_size=(3, 3), stride=(1, 1), padding=(1, 1), bias=False)\n",
       "      (bn2): BatchNorm2d(512, eps=1e-05, momentum=0.1, affine=True, track_running_stats=True)\n",
       "      (downsample): Sequential(\n",
       "        (0): Conv2d(256, 512, kernel_size=(1, 1), stride=(2, 2), bias=False)\n",
       "        (1): BatchNorm2d(512, eps=1e-05, momentum=0.1, affine=True, track_running_stats=True)\n",
       "      )\n",
       "    )\n",
       "    (1): BasicBlock(\n",
       "      (conv1): Conv2d(512, 512, kernel_size=(3, 3), stride=(1, 1), padding=(1, 1), bias=False)\n",
       "      (bn1): BatchNorm2d(512, eps=1e-05, momentum=0.1, affine=True, track_running_stats=True)\n",
       "      (relu): ReLU(inplace=True)\n",
       "      (conv2): Conv2d(512, 512, kernel_size=(3, 3), stride=(1, 1), padding=(1, 1), bias=False)\n",
       "      (bn2): BatchNorm2d(512, eps=1e-05, momentum=0.1, affine=True, track_running_stats=True)\n",
       "    )\n",
       "  )\n",
       "  (avgpool): AdaptiveAvgPool2d(output_size=(1, 1))\n",
       "  (fc1): Linear(in_features=512, out_features=128, bias=True)\n",
       ")"
      ]
     },
     "execution_count": 38,
     "metadata": {},
     "output_type": "execute_result"
    }
   ],
   "source": [
    "model.eval()"
   ]
  },
  {
   "cell_type": "code",
   "execution_count": 39,
   "id": "c99fe1cb-ce19-41bf-bb1d-658c8b1b89d9",
   "metadata": {},
   "outputs": [],
   "source": [
    "from pytorch_metric_learning.distances import LpDistance,CosineSimilarity\n",
    "from pytorch_metric_learning.utils.inference import CustomKNN\n",
    "knn_func = CustomKNN(CosineSimilarity())\n",
    "accuracy_calculator = AccuracyCalculator(include=(\"precision_at_1\",),k=1,knn_func=knn_func,avg_of_avgs=False,return_per_class=True)\n",
    "#test(train_dataset, test_dataset, model, accuracy_calculator)"
   ]
  },
  {
   "cell_type": "code",
   "execution_count": 40,
   "id": "248f5f10-0423-47bf-a7b1-83de1a863c7f",
   "metadata": {},
   "outputs": [
    {
     "name": "stderr",
     "output_type": "stream",
     "text": [
      "100%|█████████████████████████████████████████████████████████████████████████████████████████████████████| 295/295 [00:14<00:00, 20.17it/s]\n",
      "100%|███████████████████████████████████████████████████████████████████████████████████████████████████████| 74/74 [00:03<00:00, 20.33it/s]\n"
     ]
    }
   ],
   "source": [
    "train_embeddings, train_labels = get_all_embeddings(train_dataset, model)\n",
    "test_embeddings, test_labels = get_all_embeddings(test_dataset, model)\n",
    "train_labels = train_labels.squeeze(1)\n",
    "test_labels = test_labels.squeeze(1)"
   ]
  },
  {
   "cell_type": "code",
   "execution_count": 41,
   "id": "66e97839-85a9-4d96-80f3-1c29e80ccf81",
   "metadata": {},
   "outputs": [],
   "source": [
    "data_dict = {v:k for k,v in class_dict.items()}"
   ]
  },
  {
   "cell_type": "code",
   "execution_count": 42,
   "id": "a0bbe361-a4e0-4ff3-a62d-4abc0aea8099",
   "metadata": {},
   "outputs": [
    {
     "name": "stdout",
     "output_type": "stream",
     "text": [
      "001.Black_footed_Albatross     test samples 12   , training samples 48   : 0.75\n",
      "002.Laysan_Albatross           test samples 12   , training samples 48   : 0.75\n",
      "003.Sooty_Albatross            test samples 12   , training samples 46   : 0.5833333333333334\n",
      "004.Groove_billed_Ani          test samples 12   , training samples 48   : 0.9166666666666666\n",
      "005.Crested_Auklet             test samples 9    , training samples 35   : 0.6666666666666666\n",
      "006.Least_Auklet               test samples 8    , training samples 33   : 0.75\n",
      "007.Parakeet_Auklet            test samples 10   , training samples 43   : 1.0\n",
      "008.Rhinoceros_Auklet          test samples 9    , training samples 39   : 0.6666666666666666\n",
      "009.Brewer_Blackbird           test samples 12   , training samples 47   : 0.3333333333333333\n",
      "010.Red_winged_Blackbird       test samples 12   , training samples 48   : 0.8333333333333334\n",
      "011.Rusty_Blackbird            test samples 12   , training samples 48   : 0.3333333333333333\n",
      "012.Yellow_headed_Blackbird    test samples 11   , training samples 45   : 0.8181818181818182\n",
      "013.Bobolink                   test samples 12   , training samples 48   : 0.6666666666666666\n",
      "014.Indigo_Bunting             test samples 12   , training samples 48   : 0.8333333333333334\n",
      "015.Lazuli_Bunting             test samples 11   , training samples 47   : 0.5454545454545454\n",
      "016.Painted_Bunting            test samples 11   , training samples 47   : 0.5454545454545454\n",
      "017.Cardinal                   test samples 11   , training samples 46   : 0.7272727272727273\n",
      "018.Spotted_Catbird            test samples 9    , training samples 36   : 0.8888888888888888\n",
      "019.Gray_Catbird               test samples 12   , training samples 47   : 0.75\n",
      "020.Yellow_breasted_Chat       test samples 12   , training samples 47   : 0.5833333333333334\n",
      "021.Eastern_Towhee             test samples 12   , training samples 48   : 0.5\n",
      "022.Chuck_will_Widow           test samples 11   , training samples 45   : 0.36363636363636365\n",
      "023.Brandt_Cormorant           test samples 12   , training samples 47   : 0.3333333333333333\n",
      "024.Red_faced_Cormorant        test samples 10   , training samples 42   : 0.8\n",
      "025.Pelagic_Cormorant          test samples 12   , training samples 48   : 0.16666666666666666\n",
      "026.Bronzed_Cowbird            test samples 12   , training samples 48   : 0.6666666666666666\n",
      "027.Shiny_Cowbird              test samples 12   , training samples 48   : 0.25\n",
      "028.Brown_Creeper              test samples 12   , training samples 47   : 0.9166666666666666\n",
      "029.American_Crow              test samples 12   , training samples 48   : 0.4166666666666667\n",
      "030.Fish_Crow                  test samples 12   , training samples 48   : 0.08333333333333333\n",
      "031.Black_billed_Cuckoo        test samples 12   , training samples 48   : 0.6666666666666666\n",
      "032.Mangrove_Cuckoo            test samples 10   , training samples 43   : 0.6\n",
      "033.Yellow_billed_Cuckoo       test samples 12   , training samples 47   : 0.16666666666666666\n",
      "034.Gray_crowned_Rosy_Finch    test samples 12   , training samples 47   : 0.8333333333333334\n",
      "035.Purple_Finch               test samples 12   , training samples 48   : 0.8333333333333334\n",
      "036.Northern_Flicker           test samples 12   , training samples 48   : 0.6666666666666666\n",
      "037.Acadian_Flycatcher         test samples 12   , training samples 47   : 0.5\n",
      "038.Great_Crested_Flycatcher   test samples 12   , training samples 48   : 0.5833333333333334\n",
      "039.Least_Flycatcher           test samples 12   , training samples 47   : 0.08333333333333333\n",
      "040.Olive_sided_Flycatcher     test samples 12   , training samples 48   : 0.5833333333333334\n",
      "041.Scissor_tailed_Flycatcher  test samples 12   , training samples 48   : 0.75\n",
      "042.Vermilion_Flycatcher       test samples 12   , training samples 48   : 0.8333333333333334\n",
      "043.Yellow_bellied_Flycatcher  test samples 12   , training samples 47   : 0.3333333333333333\n",
      "044.Frigatebird                test samples 12   , training samples 48   : 0.75\n",
      "045.Northern_Fulmar            test samples 12   , training samples 48   : 0.6666666666666666\n",
      "046.Gadwall                    test samples 12   , training samples 48   : 0.9166666666666666\n",
      "047.American_Goldfinch         test samples 12   , training samples 48   : 0.8333333333333334\n",
      "048.European_Goldfinch         test samples 12   , training samples 48   : 0.8333333333333334\n",
      "049.Boat_tailed_Grackle        test samples 12   , training samples 48   : 0.3333333333333333\n",
      "050.Eared_Grebe                test samples 12   , training samples 48   : 0.5833333333333334\n",
      "051.Horned_Grebe               test samples 12   , training samples 48   : 0.75\n",
      "052.Pied_billed_Grebe          test samples 12   , training samples 48   : 0.8333333333333334\n",
      "053.Western_Grebe              test samples 12   , training samples 48   : 0.8333333333333334\n",
      "054.Blue_Grosbeak              test samples 12   , training samples 48   : 0.8333333333333334\n",
      "055.Evening_Grosbeak           test samples 12   , training samples 48   : 0.9166666666666666\n",
      "056.Pine_Grosbeak              test samples 12   , training samples 48   : 0.8333333333333334\n",
      "057.Rose_breasted_Grosbeak     test samples 12   , training samples 48   : 0.8333333333333334\n",
      "058.Pigeon_Guillemot           test samples 12   , training samples 46   : 0.75\n",
      "059.California_Gull            test samples 12   , training samples 48   : 0.5\n",
      "060.Glaucous_winged_Gull       test samples 12   , training samples 47   : 0.08333333333333333\n",
      "061.Heermann_Gull              test samples 12   , training samples 48   : 0.75\n",
      "062.Herring_Gull               test samples 12   , training samples 48   : 0.3333333333333333\n",
      "063.Ivory_Gull                 test samples 12   , training samples 48   : 0.8333333333333334\n",
      "064.Ring_billed_Gull           test samples 12   , training samples 48   : 0.5833333333333334\n",
      "065.Slaty_backed_Gull          test samples 10   , training samples 40   : 0.4\n",
      "066.Western_Gull               test samples 12   , training samples 48   : 0.5\n",
      "067.Anna_Hummingbird           test samples 12   , training samples 48   : 0.4166666666666667\n",
      "068.Ruby_throated_Hummingbird  test samples 12   , training samples 48   : 0.6666666666666666\n",
      "069.Rufous_Hummingbird         test samples 12   , training samples 48   : 0.8333333333333334\n",
      "070.Green_Violetear            test samples 12   , training samples 48   : 0.8333333333333334\n",
      "071.Long_tailed_Jaeger         test samples 12   , training samples 48   : 0.3333333333333333\n",
      "072.Pomarine_Jaeger            test samples 12   , training samples 48   : 0.5\n",
      "073.Blue_Jay                   test samples 12   , training samples 48   : 0.6666666666666666\n",
      "074.Florida_Jay                test samples 12   , training samples 48   : 0.6666666666666666\n",
      "075.Green_Jay                  test samples 11   , training samples 46   : 0.8181818181818182\n",
      "076.Dark_eyed_Junco            test samples 12   , training samples 48   : 0.8333333333333334\n",
      "077.Tropical_Kingbird          test samples 12   , training samples 48   : 0.75\n",
      "078.Gray_Kingbird              test samples 12   , training samples 47   : 0.5\n",
      "079.Belted_Kingfisher          test samples 12   , training samples 48   : 0.8333333333333334\n",
      "080.Green_Kingfisher           test samples 12   , training samples 48   : 0.6666666666666666\n",
      "081.Pied_Kingfisher            test samples 12   , training samples 48   : 0.8333333333333334\n",
      "082.Ringed_Kingfisher          test samples 12   , training samples 48   : 0.8333333333333334\n",
      "083.White_breasted_Kingfisher  test samples 12   , training samples 48   : 0.9166666666666666\n",
      "084.Red_legged_Kittiwake       test samples 10   , training samples 43   : 0.7\n",
      "085.Horned_Lark                test samples 12   , training samples 48   : 0.8333333333333334\n",
      "086.Pacific_Loon               test samples 12   , training samples 48   : 0.6666666666666666\n",
      "087.Mallard                    test samples 12   , training samples 48   : 0.8333333333333334\n",
      "088.Western_Meadowlark         test samples 12   , training samples 48   : 1.0\n",
      "089.Hooded_Merganser           test samples 12   , training samples 48   : 0.75\n",
      "090.Red_breasted_Merganser     test samples 12   , training samples 48   : 0.9166666666666666\n",
      "091.Mockingbird                test samples 12   , training samples 48   : 0.25\n",
      "092.Nighthawk                  test samples 12   , training samples 48   : 0.5833333333333334\n",
      "093.Clark_Nutcracker           test samples 12   , training samples 48   : 0.8333333333333334\n",
      "094.White_breasted_Nuthatch    test samples 12   , training samples 48   : 0.9166666666666666\n",
      "095.Baltimore_Oriole           test samples 12   , training samples 48   : 0.8333333333333334\n",
      "096.Hooded_Oriole              test samples 12   , training samples 48   : 0.9166666666666666\n",
      "097.Orchard_Oriole             test samples 12   , training samples 47   : 0.5833333333333334\n",
      "098.Scott_Oriole               test samples 12   , training samples 48   : 0.9166666666666666\n",
      "099.Ovenbird                   test samples 12   , training samples 48   : 0.75\n",
      "100.Brown_Pelican              test samples 12   , training samples 48   : 1.0\n",
      "101.White_Pelican              test samples 10   , training samples 40   : 0.9\n",
      "102.Western_Wood_Pewee         test samples 12   , training samples 48   : 0.16666666666666666\n",
      "103.Sayornis                   test samples 12   , training samples 48   : 0.25\n",
      "104.American_Pipit             test samples 12   , training samples 48   : 0.5\n",
      "105.Whip_poor_Will             test samples 10   , training samples 39   : 0.4\n",
      "106.Horned_Puffin              test samples 12   , training samples 48   : 0.5833333333333334\n",
      "107.Common_Raven               test samples 12   , training samples 47   : 0.25\n",
      "108.White_necked_Raven         test samples 12   , training samples 48   : 0.5\n",
      "109.American_Redstart          test samples 12   , training samples 48   : 1.0\n",
      "110.Geococcyx                  test samples 12   , training samples 48   : 0.9166666666666666\n",
      "111.Loggerhead_Shrike          test samples 12   , training samples 48   : 0.5833333333333334\n",
      "112.Great_Grey_Shrike          test samples 12   , training samples 48   : 0.5\n",
      "113.Baird_Sparrow              test samples 10   , training samples 40   : 0.6\n",
      "114.Black_throated_Sparrow     test samples 12   , training samples 48   : 0.5\n",
      "115.Brewer_Sparrow             test samples 12   , training samples 47   : 0.4166666666666667\n",
      "116.Chipping_Sparrow           test samples 12   , training samples 48   : 0.5\n",
      "117.Clay_colored_Sparrow       test samples 12   , training samples 47   : 0.75\n",
      "118.House_Sparrow              test samples 12   , training samples 48   : 0.3333333333333333\n",
      "119.Field_Sparrow              test samples 12   , training samples 47   : 0.6666666666666666\n",
      "120.Fox_Sparrow                test samples 12   , training samples 48   : 0.5833333333333334\n",
      "121.Grasshopper_Sparrow        test samples 12   , training samples 48   : 0.3333333333333333\n",
      "122.Harris_Sparrow             test samples 12   , training samples 48   : 0.6666666666666666\n",
      "123.Henslow_Sparrow            test samples 12   , training samples 48   : 0.5\n",
      "124.Le_Conte_Sparrow           test samples 12   , training samples 47   : 0.5833333333333334\n",
      "125.Lincoln_Sparrow            test samples 12   , training samples 47   : 0.5833333333333334\n",
      "126.Nelson_Sharp_tailed_Sparrow test samples 12   , training samples 47   : 0.6666666666666666\n",
      "127.Savannah_Sparrow           test samples 12   , training samples 48   : 0.4166666666666667\n",
      "128.Seaside_Sparrow            test samples 12   , training samples 48   : 0.6666666666666666\n",
      "129.Song_Sparrow               test samples 12   , training samples 48   : 0.3333333333333333\n",
      "130.Tree_Sparrow               test samples 12   , training samples 48   : 0.4166666666666667\n",
      "131.Vesper_Sparrow             test samples 12   , training samples 48   : 0.5833333333333334\n",
      "132.White_crowned_Sparrow      test samples 12   , training samples 48   : 0.5833333333333334\n",
      "133.White_throated_Sparrow     test samples 12   , training samples 48   : 0.6666666666666666\n",
      "134.Cape_Glossy_Starling       test samples 12   , training samples 48   : 0.9166666666666666\n",
      "135.Bank_Swallow               test samples 12   , training samples 47   : 0.4166666666666667\n",
      "136.Barn_Swallow               test samples 12   , training samples 48   : 0.6666666666666666\n",
      "137.Cliff_Swallow              test samples 12   , training samples 48   : 0.5\n",
      "138.Tree_Swallow               test samples 12   , training samples 48   : 0.8333333333333334\n",
      "139.Scarlet_Tanager            test samples 12   , training samples 48   : 1.0\n",
      "140.Summer_Tanager             test samples 12   , training samples 48   : 0.8333333333333334\n",
      "141.Artic_Tern                 test samples 11   , training samples 47   : 0.8181818181818182\n",
      "142.Black_Tern                 test samples 12   , training samples 48   : 0.3333333333333333\n",
      "143.Caspian_Tern               test samples 12   , training samples 48   : 0.16666666666666666\n",
      "144.Common_Tern                test samples 12   , training samples 48   : 0.3333333333333333\n",
      "145.Elegant_Tern               test samples 12   , training samples 48   : 0.3333333333333333\n",
      "146.Forsters_Tern              test samples 12   , training samples 48   : 0.5833333333333334\n",
      "147.Least_Tern                 test samples 12   , training samples 48   : 0.8333333333333334\n",
      "148.Green_tailed_Towhee        test samples 12   , training samples 48   : 0.6666666666666666\n",
      "149.Brown_Thrasher             test samples 12   , training samples 47   : 0.5\n",
      "150.Sage_Thrasher              test samples 12   , training samples 48   : 0.5\n",
      "151.Black_capped_Vireo         test samples 10   , training samples 41   : 0.6\n",
      "152.Blue_headed_Vireo          test samples 12   , training samples 48   : 0.5\n",
      "153.Philadelphia_Vireo         test samples 12   , training samples 47   : 0.5833333333333334\n",
      "154.Red_eyed_Vireo             test samples 12   , training samples 48   : 0.4166666666666667\n",
      "155.Warbling_Vireo             test samples 12   , training samples 48   : 0.5\n",
      "156.White_eyed_Vireo           test samples 12   , training samples 48   : 0.6666666666666666\n",
      "157.Yellow_throated_Vireo      test samples 12   , training samples 47   : 0.5833333333333334\n",
      "158.Bay_breasted_Warbler       test samples 12   , training samples 48   : 0.9166666666666666\n",
      "159.Black_and_white_Warbler    test samples 12   , training samples 48   : 0.8333333333333334\n",
      "160.Black_throated_Blue_Warbler test samples 12   , training samples 47   : 0.6666666666666666\n",
      "161.Blue_winged_Warbler        test samples 12   , training samples 48   : 0.5833333333333334\n",
      "162.Canada_Warbler             test samples 12   , training samples 48   : 0.4166666666666667\n",
      "163.Cape_May_Warbler           test samples 12   , training samples 48   : 0.9166666666666666\n",
      "164.Cerulean_Warbler           test samples 12   , training samples 48   : 0.8333333333333334\n",
      "165.Chestnut_sided_Warbler     test samples 12   , training samples 48   : 0.75\n",
      "166.Golden_winged_Warbler      test samples 12   , training samples 47   : 0.8333333333333334\n",
      "167.Hooded_Warbler             test samples 12   , training samples 48   : 0.5\n",
      "168.Kentucky_Warbler           test samples 12   , training samples 47   : 0.75\n",
      "169.Magnolia_Warbler           test samples 12   , training samples 47   : 0.8333333333333334\n",
      "170.Mourning_Warbler           test samples 12   , training samples 48   : 0.75\n",
      "171.Myrtle_Warbler             test samples 12   , training samples 48   : 0.6666666666666666\n",
      "172.Nashville_Warbler          test samples 12   , training samples 48   : 0.5\n",
      "173.Orange_crowned_Warbler     test samples 12   , training samples 48   : 0.5833333333333334\n",
      "174.Palm_Warbler               test samples 12   , training samples 48   : 0.5\n",
      "175.Pine_Warbler               test samples 12   , training samples 48   : 0.5\n",
      "176.Prairie_Warbler            test samples 12   , training samples 48   : 0.75\n",
      "177.Prothonotary_Warbler       test samples 12   , training samples 48   : 0.75\n",
      "178.Swainson_Warbler           test samples 11   , training samples 45   : 0.5454545454545454\n",
      "179.Tennessee_Warbler          test samples 12   , training samples 47   : 0.08333333333333333\n",
      "180.Wilson_Warbler             test samples 12   , training samples 48   : 0.5833333333333334\n",
      "181.Worm_eating_Warbler        test samples 12   , training samples 47   : 0.8333333333333334\n",
      "182.Yellow_Warbler             test samples 12   , training samples 48   : 0.5\n",
      "183.Northern_Waterthrush       test samples 12   , training samples 48   : 0.8333333333333334\n",
      "184.Louisiana_Waterthrush      test samples 12   , training samples 48   : 0.4166666666666667\n",
      "185.Bohemian_Waxwing           test samples 12   , training samples 48   : 1.0\n",
      "186.Cedar_Waxwing              test samples 12   , training samples 48   : 0.8333333333333334\n",
      "187.American_Three_toed_Woodpecker test samples 10   , training samples 40   : 0.7\n",
      "188.Pileated_Woodpecker        test samples 12   , training samples 48   : 0.9166666666666666\n",
      "189.Red_bellied_Woodpecker     test samples 12   , training samples 48   : 1.0\n",
      "190.Red_cockaded_Woodpecker    test samples 11   , training samples 47   : 0.9090909090909091\n",
      "191.Red_headed_Woodpecker      test samples 12   , training samples 48   : 0.8333333333333334\n",
      "192.Downy_Woodpecker           test samples 12   , training samples 48   : 0.9166666666666666\n",
      "193.Bewick_Wren                test samples 12   , training samples 48   : 0.5833333333333334\n",
      "194.Cactus_Wren                test samples 12   , training samples 48   : 0.5833333333333334\n",
      "195.Carolina_Wren              test samples 12   , training samples 48   : 0.75\n",
      "196.House_Wren                 test samples 12   , training samples 47   : 0.5833333333333334\n",
      "197.Marsh_Wren                 test samples 12   , training samples 48   : 0.5\n",
      "198.Rock_Wren                  test samples 12   , training samples 48   : 0.8333333333333334\n",
      "199.Winter_Wren                test samples 12   , training samples 48   : 0.8333333333333334\n",
      "200.Common_Yellowthroat        test samples 12   , training samples 48   : 1.0\n"
     ]
    }
   ],
   "source": [
    "acc_dict = {}\n",
    "for i in test_labels.unique():\n",
    "    new_labels = test_labels[test_labels==i]\n",
    "    new_embeddings = test_embeddings[test_labels==i]\n",
    "    accuracies = accuracy_calculator.get_accuracy(\n",
    "        new_embeddings, new_labels, train_embeddings, train_labels, False\n",
    "    )\n",
    "    acc_dict[data_dict[int(i.detach().cpu().numpy())]]=[ \n",
    "                  len(new_labels),\n",
    "                  len(train_labels[train_labels==i]),\n",
    "                  accuracies[\"precision_at_1\"][0]]\n",
    "    print(\"{:<30} test samples {:<5}, training samples {:<5}: {}\".format(data_dict[int(i.detach().cpu().numpy())],\n",
    "                                                                  len(new_labels),\n",
    "                                                                  len(train_labels[train_labels==i]),\n",
    "                                                                  accuracies[\"precision_at_1\"][0]))"
   ]
  },
  {
   "cell_type": "code",
   "execution_count": 27,
   "id": "971a3f40-43ba-47d0-b313-b6f86dd13d81",
   "metadata": {},
   "outputs": [],
   "source": [
    "all_table = [[k]+v for k,v in acc_dict.items()]"
   ]
  },
  {
   "cell_type": "code",
   "execution_count": 28,
   "id": "c4d9d6d7-2f79-410e-9e8d-b03d5df6092d",
   "metadata": {},
   "outputs": [],
   "source": [
    "columns = [\"class_name\", \"no. of test samples\", \"no. of train samples\", \"precision@1\"]\n",
    "train_table = wandb.Table(data=all_table, columns=columns)"
   ]
  },
  {
   "cell_type": "code",
   "execution_count": 29,
   "id": "76dc029c-15da-4f8d-9a24-d2a6e13e4e3f",
   "metadata": {},
   "outputs": [],
   "source": [
    "run.log({\"all_classes_metrics\": train_table})"
   ]
  },
  {
   "cell_type": "code",
   "execution_count": 30,
   "id": "314f5a94-c661-4bf1-8f4e-2ed603c00941",
   "metadata": {},
   "outputs": [
    {
     "name": "stderr",
     "output_type": "stream",
     "text": [
      "100%|█████████████████████████████████████████████████████████████████████████████████████████████████████| 295/295 [00:13<00:00, 21.24it/s]\n",
      "100%|███████████████████████████████████████████████████████████████████████████████████████████████████████| 74/74 [00:03<00:00, 20.80it/s]\n"
     ]
    }
   ],
   "source": [
    "train_embeddings, train_labels = get_all_embeddings(train_dataset, model)\n",
    "test_embeddings, test_labels = get_all_embeddings(test_dataset, model)\n",
    "train_labels = train_labels.squeeze(1)\n",
    "test_labels = test_labels.squeeze(1)"
   ]
  },
  {
   "cell_type": "code",
   "execution_count": 31,
   "id": "3a95fea1-6b58-4dcf-aeb7-de1a40ee731b",
   "metadata": {},
   "outputs": [],
   "source": [
    "import faiss\n",
    "# Create a Faiss index\n",
    "index = faiss.IndexFlatIP(128)\n",
    "# Add some vectors to the index\n",
    "index.add(train_embeddings.detach().cpu().numpy())"
   ]
  },
  {
   "cell_type": "code",
   "execution_count": 32,
   "id": "b7865da3-0493-4c18-b748-9ed4858e4168",
   "metadata": {},
   "outputs": [],
   "source": [
    "pred_labels = [] \n",
    "for embedding,label in zip(test_embeddings.detach().cpu().numpy(),test_labels):\n",
    "    _, indices = index.search(embedding.reshape(1,-1).astype(np.float32), 1)\n",
    "    pred_class = train_labels[indices[0][0]]\n",
    "    pred_labels.append(pred_class)"
   ]
  },
  {
   "cell_type": "code",
   "execution_count": 33,
   "id": "4dfd3a2f-3e63-45ec-9429-abb80862949d",
   "metadata": {},
   "outputs": [],
   "source": [
    "pred_labels = [i.detach().cpu().numpy() for i in pred_labels]"
   ]
  },
  {
   "cell_type": "code",
   "execution_count": 34,
   "id": "09e38eb6-ef8a-4a3d-bd0d-41939ffe9133",
   "metadata": {
    "scrolled": true
   },
   "outputs": [],
   "source": [
    "from sklearn.metrics import classification_report\n",
    "report = classification_report(test_labels.detach().cpu().numpy(), pred_labels, target_names=list(class_dict.keys()),output_dict=True)"
   ]
  },
  {
   "cell_type": "code",
   "execution_count": 35,
   "id": "bc382f16-271b-482f-ba83-7d9f2e382e81",
   "metadata": {},
   "outputs": [
    {
     "name": "stdout",
     "output_type": "stream",
     "text": [
      "                                    precision    recall  f1-score   support\n",
      "\n",
      "        001.Black_footed_Albatross       0.56      0.75      0.64        12\n",
      "              002.Laysan_Albatross       0.64      0.75      0.69        12\n",
      "               003.Sooty_Albatross       0.58      0.58      0.58        12\n",
      "             004.Groove_billed_Ani       0.65      0.92      0.76        12\n",
      "                005.Crested_Auklet       0.86      0.67      0.75         9\n",
      "                  006.Least_Auklet       0.86      0.75      0.80         8\n",
      "               007.Parakeet_Auklet       0.77      1.00      0.87        10\n",
      "             008.Rhinoceros_Auklet       0.75      0.67      0.71         9\n",
      "              009.Brewer_Blackbird       0.36      0.33      0.35        12\n",
      "          010.Red_winged_Blackbird       1.00      0.83      0.91        12\n",
      "               011.Rusty_Blackbird       0.44      0.33      0.38        12\n",
      "       012.Yellow_headed_Blackbird       0.75      0.82      0.78        11\n",
      "                      013.Bobolink       0.73      0.67      0.70        12\n",
      "                014.Indigo_Bunting       0.67      0.83      0.74        12\n",
      "                015.Lazuli_Bunting       0.86      0.55      0.67        11\n",
      "               016.Painted_Bunting       0.86      0.55      0.67        11\n",
      "                      017.Cardinal       1.00      0.73      0.84        11\n",
      "               018.Spotted_Catbird       0.80      0.89      0.84         9\n",
      "                  019.Gray_Catbird       0.53      0.75      0.62        12\n",
      "          020.Yellow_breasted_Chat       0.78      0.58      0.67        12\n",
      "                021.Eastern_Towhee       0.67      0.50      0.57        12\n",
      "              022.Chuck_will_Widow       0.40      0.36      0.38        11\n",
      "              023.Brandt_Cormorant       0.50      0.33      0.40        12\n",
      "           024.Red_faced_Cormorant       0.73      0.80      0.76        10\n",
      "             025.Pelagic_Cormorant       0.13      0.17      0.15        12\n",
      "               026.Bronzed_Cowbird       0.89      0.67      0.76        12\n",
      "                 027.Shiny_Cowbird       0.21      0.25      0.23        12\n",
      "                 028.Brown_Creeper       0.92      0.92      0.92        12\n",
      "                 029.American_Crow       0.18      0.42      0.25        12\n",
      "                     030.Fish_Crow       0.10      0.08      0.09        12\n",
      "           031.Black_billed_Cuckoo       0.50      0.67      0.57        12\n",
      "               032.Mangrove_Cuckoo       0.50      0.60      0.55        10\n",
      "          033.Yellow_billed_Cuckoo       0.17      0.17      0.17        12\n",
      "       034.Gray_crowned_Rosy_Finch       0.83      0.83      0.83        12\n",
      "                  035.Purple_Finch       1.00      0.83      0.91        12\n",
      "              036.Northern_Flicker       0.89      0.67      0.76        12\n",
      "            037.Acadian_Flycatcher       0.50      0.50      0.50        12\n",
      "      038.Great_Crested_Flycatcher       0.58      0.58      0.58        12\n",
      "              039.Least_Flycatcher       0.08      0.08      0.08        12\n",
      "        040.Olive_sided_Flycatcher       0.58      0.58      0.58        12\n",
      "     041.Scissor_tailed_Flycatcher       0.82      0.75      0.78        12\n",
      "          042.Vermilion_Flycatcher       0.83      0.83      0.83        12\n",
      "     043.Yellow_bellied_Flycatcher       0.40      0.33      0.36        12\n",
      "                   044.Frigatebird       0.90      0.75      0.82        12\n",
      "               045.Northern_Fulmar       0.67      0.67      0.67        12\n",
      "                       046.Gadwall       0.79      0.92      0.85        12\n",
      "            047.American_Goldfinch       0.91      0.83      0.87        12\n",
      "            048.European_Goldfinch       1.00      0.83      0.91        12\n",
      "           049.Boat_tailed_Grackle       0.50      0.33      0.40        12\n",
      "                   050.Eared_Grebe       0.47      0.58      0.52        12\n",
      "                  051.Horned_Grebe       0.75      0.75      0.75        12\n",
      "             052.Pied_billed_Grebe       0.91      0.83      0.87        12\n",
      "                 053.Western_Grebe       0.83      0.83      0.83        12\n",
      "                 054.Blue_Grosbeak       0.77      0.83      0.80        12\n",
      "              055.Evening_Grosbeak       0.92      0.92      0.92        12\n",
      "                 056.Pine_Grosbeak       0.71      0.83      0.77        12\n",
      "        057.Rose_breasted_Grosbeak       1.00      0.83      0.91        12\n",
      "              058.Pigeon_Guillemot       0.90      0.75      0.82        12\n",
      "               059.California_Gull       0.40      0.50      0.44        12\n",
      "          060.Glaucous_winged_Gull       0.12      0.08      0.10        12\n",
      "                 061.Heermann_Gull       0.82      0.75      0.78        12\n",
      "                  062.Herring_Gull       0.50      0.33      0.40        12\n",
      "                    063.Ivory_Gull       0.83      0.83      0.83        12\n",
      "              064.Ring_billed_Gull       0.41      0.58      0.48        12\n",
      "             065.Slaty_backed_Gull       0.50      0.40      0.44        10\n",
      "                  066.Western_Gull       0.43      0.50      0.46        12\n",
      "              067.Anna_Hummingbird       0.62      0.42      0.50        12\n",
      "     068.Ruby_throated_Hummingbird       0.67      0.67      0.67        12\n",
      "            069.Rufous_Hummingbird       0.67      0.83      0.74        12\n",
      "               070.Green_Violetear       0.71      0.83      0.77        12\n",
      "            071.Long_tailed_Jaeger       0.50      0.33      0.40        12\n",
      "               072.Pomarine_Jaeger       0.50      0.50      0.50        12\n",
      "                      073.Blue_Jay       0.73      0.67      0.70        12\n",
      "                   074.Florida_Jay       0.73      0.67      0.70        12\n",
      "                     075.Green_Jay       0.90      0.82      0.86        11\n",
      "               076.Dark_eyed_Junco       0.77      0.83      0.80        12\n",
      "             077.Tropical_Kingbird       0.69      0.75      0.72        12\n",
      "                 078.Gray_Kingbird       0.75      0.50      0.60        12\n",
      "             079.Belted_Kingfisher       0.67      0.83      0.74        12\n",
      "              080.Green_Kingfisher       0.80      0.67      0.73        12\n",
      "               081.Pied_Kingfisher       0.83      0.83      0.83        12\n",
      "             082.Ringed_Kingfisher       0.71      0.83      0.77        12\n",
      "     083.White_breasted_Kingfisher       1.00      0.92      0.96        12\n",
      "          084.Red_legged_Kittiwake       0.64      0.70      0.67        10\n",
      "                   085.Horned_Lark       0.83      0.83      0.83        12\n",
      "                  086.Pacific_Loon       0.53      0.67      0.59        12\n",
      "                       087.Mallard       0.91      0.83      0.87        12\n",
      "            088.Western_Meadowlark       0.80      1.00      0.89        12\n",
      "              089.Hooded_Merganser       1.00      0.75      0.86        12\n",
      "        090.Red_breasted_Merganser       0.73      0.92      0.81        12\n",
      "                   091.Mockingbird       0.43      0.25      0.32        12\n",
      "                     092.Nighthawk       0.47      0.58      0.52        12\n",
      "              093.Clark_Nutcracker       0.91      0.83      0.87        12\n",
      "       094.White_breasted_Nuthatch       1.00      0.92      0.96        12\n",
      "              095.Baltimore_Oriole       0.83      0.83      0.83        12\n",
      "                 096.Hooded_Oriole       0.69      0.92      0.79        12\n",
      "                097.Orchard_Oriole       0.70      0.58      0.64        12\n",
      "                  098.Scott_Oriole       0.85      0.92      0.88        12\n",
      "                      099.Ovenbird       0.82      0.75      0.78        12\n",
      "                 100.Brown_Pelican       0.86      1.00      0.92        12\n",
      "                 101.White_Pelican       1.00      0.90      0.95        10\n",
      "            102.Western_Wood_Pewee       0.12      0.17      0.14        12\n",
      "                      103.Sayornis       0.30      0.25      0.27        12\n",
      "                104.American_Pipit       0.30      0.50      0.38        12\n",
      "                105.Whip_poor_Will       0.33      0.40      0.36        10\n",
      "                 106.Horned_Puffin       1.00      0.58      0.74        12\n",
      "                  107.Common_Raven       0.27      0.25      0.26        12\n",
      "            108.White_necked_Raven       0.60      0.50      0.55        12\n",
      "             109.American_Redstart       0.80      1.00      0.89        12\n",
      "                     110.Geococcyx       1.00      0.92      0.96        12\n",
      "             111.Loggerhead_Shrike       0.54      0.58      0.56        12\n",
      "             112.Great_Grey_Shrike       0.50      0.50      0.50        12\n",
      "                 113.Baird_Sparrow       0.40      0.60      0.48        10\n",
      "        114.Black_throated_Sparrow       0.50      0.50      0.50        12\n",
      "                115.Brewer_Sparrow       0.50      0.42      0.45        12\n",
      "              116.Chipping_Sparrow       0.35      0.50      0.41        12\n",
      "          117.Clay_colored_Sparrow       0.47      0.75      0.58        12\n",
      "                 118.House_Sparrow       0.57      0.33      0.42        12\n",
      "                 119.Field_Sparrow       0.53      0.67      0.59        12\n",
      "                   120.Fox_Sparrow       0.54      0.58      0.56        12\n",
      "           121.Grasshopper_Sparrow       0.44      0.33      0.38        12\n",
      "                122.Harris_Sparrow       0.89      0.67      0.76        12\n",
      "               123.Henslow_Sparrow       0.75      0.50      0.60        12\n",
      "              124.Le_Conte_Sparrow       0.64      0.58      0.61        12\n",
      "               125.Lincoln_Sparrow       0.47      0.58      0.52        12\n",
      "   126.Nelson_Sharp_tailed_Sparrow       0.73      0.67      0.70        12\n",
      "              127.Savannah_Sparrow       0.45      0.42      0.43        12\n",
      "               128.Seaside_Sparrow       0.73      0.67      0.70        12\n",
      "                  129.Song_Sparrow       0.40      0.33      0.36        12\n",
      "                  130.Tree_Sparrow       0.33      0.42      0.37        12\n",
      "                131.Vesper_Sparrow       0.44      0.58      0.50        12\n",
      "         132.White_crowned_Sparrow       0.78      0.58      0.67        12\n",
      "        133.White_throated_Sparrow       0.57      0.67      0.62        12\n",
      "          134.Cape_Glossy_Starling       0.73      0.92      0.81        12\n",
      "                  135.Bank_Swallow       0.45      0.42      0.43        12\n",
      "                  136.Barn_Swallow       0.73      0.67      0.70        12\n",
      "                 137.Cliff_Swallow       0.55      0.50      0.52        12\n",
      "                  138.Tree_Swallow       0.71      0.83      0.77        12\n",
      "               139.Scarlet_Tanager       0.75      1.00      0.86        12\n",
      "                140.Summer_Tanager       0.91      0.83      0.87        12\n",
      "                    141.Artic_Tern       0.47      0.82      0.60        11\n",
      "                    142.Black_Tern       0.67      0.33      0.44        12\n",
      "                  143.Caspian_Tern       0.22      0.17      0.19        12\n",
      "                   144.Common_Tern       0.44      0.33      0.38        12\n",
      "                  145.Elegant_Tern       0.36      0.33      0.35        12\n",
      "                 146.Forsters_Tern       0.64      0.58      0.61        12\n",
      "                    147.Least_Tern       0.62      0.83      0.71        12\n",
      "           148.Green_tailed_Towhee       1.00      0.67      0.80        12\n",
      "                149.Brown_Thrasher       0.75      0.50      0.60        12\n",
      "                 150.Sage_Thrasher       0.60      0.50      0.55        12\n",
      "            151.Black_capped_Vireo       0.67      0.60      0.63        10\n",
      "             152.Blue_headed_Vireo       0.86      0.50      0.63        12\n",
      "            153.Philadelphia_Vireo       0.47      0.58      0.52        12\n",
      "                154.Red_eyed_Vireo       0.42      0.42      0.42        12\n",
      "                155.Warbling_Vireo       0.40      0.50      0.44        12\n",
      "              156.White_eyed_Vireo       0.80      0.67      0.73        12\n",
      "         157.Yellow_throated_Vireo       0.78      0.58      0.67        12\n",
      "          158.Bay_breasted_Warbler       0.79      0.92      0.85        12\n",
      "       159.Black_and_white_Warbler       1.00      0.83      0.91        12\n",
      "   160.Black_throated_Blue_Warbler       0.80      0.67      0.73        12\n",
      "           161.Blue_winged_Warbler       0.58      0.58      0.58        12\n",
      "                162.Canada_Warbler       0.38      0.42      0.40        12\n",
      "              163.Cape_May_Warbler       0.69      0.92      0.79        12\n",
      "              164.Cerulean_Warbler       0.62      0.83      0.71        12\n",
      "        165.Chestnut_sided_Warbler       0.90      0.75      0.82        12\n",
      "         166.Golden_winged_Warbler       0.91      0.83      0.87        12\n",
      "                167.Hooded_Warbler       0.55      0.50      0.52        12\n",
      "              168.Kentucky_Warbler       0.82      0.75      0.78        12\n",
      "              169.Magnolia_Warbler       0.83      0.83      0.83        12\n",
      "              170.Mourning_Warbler       0.69      0.75      0.72        12\n",
      "                171.Myrtle_Warbler       0.80      0.67      0.73        12\n",
      "             172.Nashville_Warbler       0.50      0.50      0.50        12\n",
      "        173.Orange_crowned_Warbler       0.44      0.58      0.50        12\n",
      "                  174.Palm_Warbler       0.60      0.50      0.55        12\n",
      "                  175.Pine_Warbler       0.67      0.50      0.57        12\n",
      "               176.Prairie_Warbler       0.82      0.75      0.78        12\n",
      "          177.Prothonotary_Warbler       0.82      0.75      0.78        12\n",
      "              178.Swainson_Warbler       0.43      0.55      0.48        11\n",
      "             179.Tennessee_Warbler       0.10      0.08      0.09        12\n",
      "                180.Wilson_Warbler       0.44      0.58      0.50        12\n",
      "           181.Worm_eating_Warbler       1.00      0.83      0.91        12\n",
      "                182.Yellow_Warbler       0.67      0.50      0.57        12\n",
      "          183.Northern_Waterthrush       0.59      0.83      0.69        12\n",
      "         184.Louisiana_Waterthrush       0.71      0.42      0.53        12\n",
      "              185.Bohemian_Waxwing       0.80      1.00      0.89        12\n",
      "                 186.Cedar_Waxwing       1.00      0.83      0.91        12\n",
      "187.American_Three_toed_Woodpecker       0.88      0.70      0.78        10\n",
      "           188.Pileated_Woodpecker       0.92      0.92      0.92        12\n",
      "        189.Red_bellied_Woodpecker       0.86      1.00      0.92        12\n",
      "       190.Red_cockaded_Woodpecker       0.83      0.91      0.87        11\n",
      "         191.Red_headed_Woodpecker       0.91      0.83      0.87        12\n",
      "              192.Downy_Woodpecker       0.85      0.92      0.88        12\n",
      "                   193.Bewick_Wren       0.58      0.58      0.58        12\n",
      "                   194.Cactus_Wren       0.70      0.58      0.64        12\n",
      "                 195.Carolina_Wren       0.82      0.75      0.78        12\n",
      "                    196.House_Wren       0.58      0.58      0.58        12\n",
      "                    197.Marsh_Wren       0.46      0.50      0.48        12\n",
      "                     198.Rock_Wren       0.91      0.83      0.87        12\n",
      "                   199.Winter_Wren       0.71      0.83      0.77        12\n",
      "           200.Common_Yellowthroat       0.92      1.00      0.96        12\n",
      "\n",
      "                          accuracy                           0.64      2358\n",
      "                         macro avg       0.66      0.64      0.65      2358\n",
      "                      weighted avg       0.66      0.64      0.64      2358\n",
      "\n"
     ]
    }
   ],
   "source": [
    "print(classification_report(test_labels.detach().cpu().numpy(), pred_labels, target_names=list(class_dict.keys())))"
   ]
  },
  {
   "cell_type": "code",
   "execution_count": 36,
   "id": "1e8845dc-c978-4b7b-99e4-9729b79d87c1",
   "metadata": {},
   "outputs": [],
   "source": [
    "df = pd.DataFrame(report).transpose()"
   ]
  },
  {
   "cell_type": "code",
   "execution_count": 37,
   "id": "282eb152-50d2-46bd-ad7c-5904c9b2f0a4",
   "metadata": {},
   "outputs": [
    {
     "data": {
      "text/html": [
       "<div>\n",
       "<style scoped>\n",
       "    .dataframe tbody tr th:only-of-type {\n",
       "        vertical-align: middle;\n",
       "    }\n",
       "\n",
       "    .dataframe tbody tr th {\n",
       "        vertical-align: top;\n",
       "    }\n",
       "\n",
       "    .dataframe thead th {\n",
       "        text-align: right;\n",
       "    }\n",
       "</style>\n",
       "<table border=\"1\" class=\"dataframe\">\n",
       "  <thead>\n",
       "    <tr style=\"text-align: right;\">\n",
       "      <th></th>\n",
       "      <th>precision</th>\n",
       "      <th>recall</th>\n",
       "      <th>f1-score</th>\n",
       "      <th>support</th>\n",
       "    </tr>\n",
       "  </thead>\n",
       "  <tbody>\n",
       "    <tr>\n",
       "      <th>001.Black_footed_Albatross</th>\n",
       "      <td>0.562500</td>\n",
       "      <td>0.750000</td>\n",
       "      <td>0.642857</td>\n",
       "      <td>12.0</td>\n",
       "    </tr>\n",
       "    <tr>\n",
       "      <th>002.Laysan_Albatross</th>\n",
       "      <td>0.642857</td>\n",
       "      <td>0.750000</td>\n",
       "      <td>0.692308</td>\n",
       "      <td>12.0</td>\n",
       "    </tr>\n",
       "    <tr>\n",
       "      <th>003.Sooty_Albatross</th>\n",
       "      <td>0.583333</td>\n",
       "      <td>0.583333</td>\n",
       "      <td>0.583333</td>\n",
       "      <td>12.0</td>\n",
       "    </tr>\n",
       "    <tr>\n",
       "      <th>004.Groove_billed_Ani</th>\n",
       "      <td>0.647059</td>\n",
       "      <td>0.916667</td>\n",
       "      <td>0.758621</td>\n",
       "      <td>12.0</td>\n",
       "    </tr>\n",
       "    <tr>\n",
       "      <th>005.Crested_Auklet</th>\n",
       "      <td>0.857143</td>\n",
       "      <td>0.666667</td>\n",
       "      <td>0.750000</td>\n",
       "      <td>9.0</td>\n",
       "    </tr>\n",
       "  </tbody>\n",
       "</table>\n",
       "</div>"
      ],
      "text/plain": [
       "                            precision    recall  f1-score  support\n",
       "001.Black_footed_Albatross   0.562500  0.750000  0.642857     12.0\n",
       "002.Laysan_Albatross         0.642857  0.750000  0.692308     12.0\n",
       "003.Sooty_Albatross          0.583333  0.583333  0.583333     12.0\n",
       "004.Groove_billed_Ani        0.647059  0.916667  0.758621     12.0\n",
       "005.Crested_Auklet           0.857143  0.666667  0.750000      9.0"
      ]
     },
     "execution_count": 37,
     "metadata": {},
     "output_type": "execute_result"
    }
   ],
   "source": [
    "df.head()"
   ]
  },
  {
   "cell_type": "code",
   "execution_count": 38,
   "id": "32e24514-4ae2-4dc2-b671-781c8c3d6180",
   "metadata": {},
   "outputs": [],
   "source": [
    "df.reset_index(inplace=True)"
   ]
  },
  {
   "cell_type": "code",
   "execution_count": 39,
   "id": "71ff6ed3-bcd9-4d2e-9371-b4c409d8a76c",
   "metadata": {},
   "outputs": [],
   "source": [
    "df.rename(columns={\"index\":'class_name'},inplace=True)"
   ]
  },
  {
   "cell_type": "code",
   "execution_count": 40,
   "id": "945dce04-630d-40b1-9e3d-8738875d3bd7",
   "metadata": {},
   "outputs": [],
   "source": [
    "classification_report_table = wandb.Table(dataframe=df)"
   ]
  },
  {
   "cell_type": "code",
   "execution_count": 41,
   "id": "3a1baa45-ad12-41e6-8e44-dd5ab0ba2eb7",
   "metadata": {},
   "outputs": [],
   "source": [
    "run.log({\"all_classes_classification_report\": classification_report_table})"
   ]
  },
  {
   "cell_type": "markdown",
   "id": "bbfc4b6e-d88c-45ac-9caf-6c5f26a0d52a",
   "metadata": {},
   "source": [
    "## Removing classes from training dataset and seeing performance"
   ]
  },
  {
   "cell_type": "code",
   "execution_count": 42,
   "id": "3597a740-157c-4c24-8d23-65c675de8f7d",
   "metadata": {},
   "outputs": [],
   "source": [
    "train_image_paths = []\n",
    "train_labels = []\n",
    "for folder_path,i in class_dict.items():\n",
    "    if i >= 180:\n",
    "        break\n",
    "    folder_images = glob.glob('CUB_200_2011/images/'+'/'+str(folder_path)+'/*')\n",
    "    train_image_paths.extend(folder_images)\n",
    "    train_labels.extend([i]*len(folder_images))"
   ]
  },
  {
   "cell_type": "code",
   "execution_count": 43,
   "id": "c353dd9e-9064-4774-8244-5770ac9c53cf",
   "metadata": {},
   "outputs": [],
   "source": [
    "test_image_paths = []\n",
    "test_labels = []\n",
    "for folder_path,i in class_dict.items():\n",
    "    if i >= 180:\n",
    "        folder_images = glob.glob('CUB_200_2011/images/'+'/'+str(folder_path)+'/*')\n",
    "        test_image_paths.extend(folder_images)\n",
    "        test_labels.extend([i]*len(folder_images))"
   ]
  },
  {
   "cell_type": "code",
   "execution_count": 44,
   "id": "7a58b988-aa16-4d57-99ef-c889b3bb72d6",
   "metadata": {},
   "outputs": [],
   "source": [
    "from sklearn.model_selection import train_test_split\n",
    "X_train, X_test, y_train, y_test = train_test_split(train_image_paths,train_labels, test_size=config['train_test_split'],\n",
    "                                                    stratify=train_labels, random_state=config['random_seed'])"
   ]
  },
  {
   "cell_type": "code",
   "execution_count": 45,
   "id": "c0902fb2-bd40-40c0-be84-81c2776bdfc6",
   "metadata": {},
   "outputs": [],
   "source": [
    "train_dataset  = CUBDataset(X_train,y_train,transform)\n",
    "test_dataset  = CUBDataset(X_test,y_test,transform)\n",
    "train_loader = torch.utils.data.DataLoader(train_dataset, batch_size=config['batch_size'], shuffle=True)\n",
    "test_loader = torch.utils.data.DataLoader(test_dataset, batch_size=config['batch_size'], shuffle=False)"
   ]
  },
  {
   "cell_type": "code",
   "execution_count": 46,
   "id": "74998763-e319-4389-a9cb-a14ef5a5ef47",
   "metadata": {},
   "outputs": [
    {
     "name": "stderr",
     "output_type": "stream",
     "text": [
      "/opt/conda/lib/python3.10/site-packages/torchvision/models/_utils.py:208: UserWarning: The parameter 'pretrained' is deprecated since 0.13 and may be removed in the future, please use 'weights' instead.\n",
      "  warnings.warn(\n",
      "/opt/conda/lib/python3.10/site-packages/torchvision/models/_utils.py:223: UserWarning: Arguments other than a weight enum or `None` for 'weights' are deprecated since 0.13 and may be removed in the future. The current behavior is equivalent to passing `weights=ResNet18_Weights.IMAGENET1K_V1`. You can also use `weights=ResNet18_Weights.DEFAULT` to get the most up-to-date weights.\n",
      "  warnings.warn(msg)\n"
     ]
    }
   ],
   "source": [
    "model = ResNetFeatrueExtractor18(pretrained=True)\n",
    "model = model.to(device)\n",
    "optimizer = optim.SGD(model.parameters(), lr=config['learning_rate'])\n",
    "num_epochs = config['num_epochs']\n",
    "\n",
    "### pytorch-metric-learning stuff ###\n",
    "distance = distances.CosineSimilarity()\n",
    "reducer = reducers.MeanReducer()\n",
    "loss_func = losses.NTXentLoss(temperature=config['temperature'], distance=distance, reducer=reducer)\n",
    "mining_func = miners.BatchEasyHardMiner(pos_strategy=\"easy\",neg_strategy=\"semihard\")\n",
    "\n",
    "knn_func = CustomKNN(CosineSimilarity())\n",
    "accuracy_calculator = AccuracyCalculator(include=(\"precision_at_1\",),k=1,knn_func=knn_func,avg_of_avgs=True,return_per_class=False)"
   ]
  },
  {
   "cell_type": "code",
   "execution_count": 47,
   "id": "51ad322f-f35f-44bf-b296-a546c9a9ae34",
   "metadata": {
    "scrolled": true
   },
   "outputs": [
    {
     "name": "stdout",
     "output_type": "stream",
     "text": [
      "Epoch 1 Iteration 0: Loss = 0.6457518935203552\n"
     ]
    },
    {
     "name": "stderr",
     "output_type": "stream",
     "text": [
      "100%|█████████████████████████████████████████████████████████████████████████████████████████████████████| 266/266 [00:12<00:00, 20.60it/s]\n",
      "100%|███████████████████████████████████████████████████████████████████████████████████████████████████████| 67/67 [00:08<00:00,  7.85it/s]\n"
     ]
    },
    {
     "name": "stdout",
     "output_type": "stream",
     "text": [
      "Computing accuracy\n",
      "Test set accuracy (Precision@1) = 0.3023821548821549\n",
      "Epoch 2 Iteration 0: Loss = 0.6440796256065369\n"
     ]
    },
    {
     "name": "stderr",
     "output_type": "stream",
     "text": [
      "100%|█████████████████████████████████████████████████████████████████████████████████████████████████████| 266/266 [00:12<00:00, 20.99it/s]\n",
      "100%|███████████████████████████████████████████████████████████████████████████████████████████████████████| 67/67 [00:03<00:00, 21.03it/s]\n"
     ]
    },
    {
     "name": "stdout",
     "output_type": "stream",
     "text": [
      "Computing accuracy\n",
      "Test set accuracy (Precision@1) = 0.33033529741863077\n",
      "Epoch 3 Iteration 0: Loss = 0.6473373770713806\n"
     ]
    },
    {
     "name": "stderr",
     "output_type": "stream",
     "text": [
      "100%|█████████████████████████████████████████████████████████████████████████████████████████████████████| 266/266 [00:12<00:00, 21.00it/s]\n",
      "100%|███████████████████████████████████████████████████████████████████████████████████████████████████████| 67/67 [00:03<00:00, 21.04it/s]\n"
     ]
    },
    {
     "name": "stdout",
     "output_type": "stream",
     "text": [
      "Computing accuracy\n",
      "Test set accuracy (Precision@1) = 0.34717171717171713\n",
      "Epoch 4 Iteration 0: Loss = 0.6502939462661743\n"
     ]
    },
    {
     "name": "stderr",
     "output_type": "stream",
     "text": [
      "100%|█████████████████████████████████████████████████████████████████████████████████████████████████████| 266/266 [00:12<00:00, 21.13it/s]\n",
      "100%|███████████████████████████████████████████████████████████████████████████████████████████████████████| 67/67 [00:03<00:00, 21.14it/s]\n"
     ]
    },
    {
     "name": "stdout",
     "output_type": "stream",
     "text": [
      "Computing accuracy\n",
      "Test set accuracy (Precision@1) = 0.3667957351290685\n",
      "Epoch 5 Iteration 0: Loss = 0.6055819392204285\n"
     ]
    },
    {
     "name": "stderr",
     "output_type": "stream",
     "text": [
      "100%|█████████████████████████████████████████████████████████████████████████████████████████████████████| 266/266 [00:13<00:00, 19.99it/s]\n",
      "100%|███████████████████████████████████████████████████████████████████████████████████████████████████████| 67/67 [00:03<00:00, 19.62it/s]\n"
     ]
    },
    {
     "name": "stdout",
     "output_type": "stream",
     "text": [
      "Computing accuracy\n",
      "Test set accuracy (Precision@1) = 0.38094696969696973\n",
      "Epoch 6 Iteration 0: Loss = 0.598000168800354\n"
     ]
    },
    {
     "name": "stderr",
     "output_type": "stream",
     "text": [
      "100%|█████████████████████████████████████████████████████████████████████████████████████████████████████| 266/266 [00:13<00:00, 19.77it/s]\n",
      "100%|███████████████████████████████████████████████████████████████████████████████████████████████████████| 67/67 [00:03<00:00, 19.67it/s]\n"
     ]
    },
    {
     "name": "stdout",
     "output_type": "stream",
     "text": [
      "Computing accuracy\n",
      "Test set accuracy (Precision@1) = 0.4036349607182941\n",
      "Epoch 7 Iteration 0: Loss = 0.5874130725860596\n"
     ]
    },
    {
     "name": "stderr",
     "output_type": "stream",
     "text": [
      "100%|█████████████████████████████████████████████████████████████████████████████████████████████████████| 266/266 [00:13<00:00, 19.70it/s]\n",
      "100%|███████████████████████████████████████████████████████████████████████████████████████████████████████| 67/67 [00:03<00:00, 19.78it/s]\n"
     ]
    },
    {
     "name": "stdout",
     "output_type": "stream",
     "text": [
      "Computing accuracy\n",
      "Test set accuracy (Precision@1) = 0.42196829405162745\n",
      "Epoch 8 Iteration 0: Loss = 0.5276062488555908\n"
     ]
    },
    {
     "name": "stderr",
     "output_type": "stream",
     "text": [
      "100%|█████████████████████████████████████████████████████████████████████████████████████████████████████| 266/266 [00:13<00:00, 20.28it/s]\n",
      "100%|███████████████████████████████████████████████████████████████████████████████████████████████████████| 67/67 [00:03<00:00, 20.98it/s]\n"
     ]
    },
    {
     "name": "stdout",
     "output_type": "stream",
     "text": [
      "Computing accuracy\n",
      "Test set accuracy (Precision@1) = 0.42921296296296296\n",
      "Epoch 9 Iteration 0: Loss = 0.5814259648323059\n"
     ]
    },
    {
     "name": "stderr",
     "output_type": "stream",
     "text": [
      "100%|█████████████████████████████████████████████████████████████████████████████████████████████████████| 266/266 [00:13<00:00, 19.46it/s]\n",
      "100%|███████████████████████████████████████████████████████████████████████████████████████████████████████| 67/67 [00:03<00:00, 19.40it/s]\n"
     ]
    },
    {
     "name": "stdout",
     "output_type": "stream",
     "text": [
      "Computing accuracy\n",
      "Test set accuracy (Precision@1) = 0.44305134680134683\n",
      "Epoch 10 Iteration 0: Loss = 0.5373483896255493\n"
     ]
    },
    {
     "name": "stderr",
     "output_type": "stream",
     "text": [
      "100%|█████████████████████████████████████████████████████████████████████████████████████████████████████| 266/266 [00:13<00:00, 19.76it/s]\n",
      "100%|███████████████████████████████████████████████████████████████████████████████████████████████████████| 67/67 [00:03<00:00, 19.54it/s]\n"
     ]
    },
    {
     "name": "stdout",
     "output_type": "stream",
     "text": [
      "Computing accuracy\n",
      "Test set accuracy (Precision@1) = 0.4497516835016835\n",
      "Epoch 11 Iteration 0: Loss = 0.5476813912391663\n"
     ]
    },
    {
     "name": "stderr",
     "output_type": "stream",
     "text": [
      "100%|█████████████████████████████████████████████████████████████████████████████████████████████████████| 266/266 [00:13<00:00, 19.66it/s]\n",
      "100%|███████████████████████████████████████████████████████████████████████████████████████████████████████| 67/67 [00:03<00:00, 19.73it/s]\n"
     ]
    },
    {
     "name": "stdout",
     "output_type": "stream",
     "text": [
      "Computing accuracy\n",
      "Test set accuracy (Precision@1) = 0.4549901795735129\n",
      "Epoch 12 Iteration 0: Loss = 0.4990997314453125\n"
     ]
    },
    {
     "name": "stderr",
     "output_type": "stream",
     "text": [
      "100%|█████████████████████████████████████████████████████████████████████████████████████████████████████| 266/266 [00:13<00:00, 19.73it/s]\n",
      "100%|███████████████████████████████████████████████████████████████████████████████████████████████████████| 67/67 [00:03<00:00, 19.91it/s]\n"
     ]
    },
    {
     "name": "stdout",
     "output_type": "stream",
     "text": [
      "Computing accuracy\n",
      "Test set accuracy (Precision@1) = 0.4676753647586981\n",
      "Epoch 13 Iteration 0: Loss = 0.5265401005744934\n"
     ]
    },
    {
     "name": "stderr",
     "output_type": "stream",
     "text": [
      "100%|█████████████████████████████████████████████████████████████████████████████████████████████████████| 266/266 [00:13<00:00, 19.79it/s]\n",
      "100%|███████████████████████████████████████████████████████████████████████████████████████████████████████| 67/67 [00:03<00:00, 19.90it/s]\n"
     ]
    },
    {
     "name": "stdout",
     "output_type": "stream",
     "text": [
      "Computing accuracy\n",
      "Test set accuracy (Precision@1) = 0.47165684624017956\n",
      "Epoch 14 Iteration 0: Loss = 0.5392605066299438\n"
     ]
    },
    {
     "name": "stderr",
     "output_type": "stream",
     "text": [
      "100%|█████████████████████████████████████████████████████████████████████████████████████████████████████| 266/266 [00:13<00:00, 19.70it/s]\n",
      "100%|███████████████████████████████████████████████████████████████████████████████████████████████████████| 67/67 [00:03<00:00, 19.79it/s]\n"
     ]
    },
    {
     "name": "stdout",
     "output_type": "stream",
     "text": [
      "Computing accuracy\n",
      "Test set accuracy (Precision@1) = 0.4728521324354658\n",
      "Epoch 15 Iteration 0: Loss = 0.4556683897972107\n"
     ]
    },
    {
     "name": "stderr",
     "output_type": "stream",
     "text": [
      "100%|█████████████████████████████████████████████████████████████████████████████████████████████████████| 266/266 [00:13<00:00, 19.74it/s]\n",
      "100%|███████████████████████████████████████████████████████████████████████████████████████████████████████| 67/67 [00:03<00:00, 19.44it/s]\n"
     ]
    },
    {
     "name": "stdout",
     "output_type": "stream",
     "text": [
      "Computing accuracy\n",
      "Test set accuracy (Precision@1) = 0.4821198092031425\n",
      "Epoch 16 Iteration 0: Loss = 0.5584407448768616\n"
     ]
    },
    {
     "name": "stderr",
     "output_type": "stream",
     "text": [
      "100%|█████████████████████████████████████████████████████████████████████████████████████████████████████| 266/266 [00:13<00:00, 19.65it/s]\n",
      "100%|███████████████████████████████████████████████████████████████████████████████████████████████████████| 67/67 [00:03<00:00, 19.86it/s]\n"
     ]
    },
    {
     "name": "stdout",
     "output_type": "stream",
     "text": [
      "Computing accuracy\n",
      "Test set accuracy (Precision@1) = 0.4854755892255892\n",
      "Epoch 17 Iteration 0: Loss = 0.5635547041893005\n"
     ]
    },
    {
     "name": "stderr",
     "output_type": "stream",
     "text": [
      "100%|█████████████████████████████████████████████████████████████████████████████████████████████████████| 266/266 [00:13<00:00, 19.66it/s]\n",
      "100%|███████████████████████████████████████████████████████████████████████████████████████████████████████| 67/67 [00:03<00:00, 19.76it/s]\n"
     ]
    },
    {
     "name": "stdout",
     "output_type": "stream",
     "text": [
      "Computing accuracy\n",
      "Test set accuracy (Precision@1) = 0.4933038720538721\n",
      "Epoch 18 Iteration 0: Loss = 0.4888125956058502\n"
     ]
    },
    {
     "name": "stderr",
     "output_type": "stream",
     "text": [
      "100%|█████████████████████████████████████████████████████████████████████████████████████████████████████| 266/266 [00:13<00:00, 19.71it/s]\n",
      "100%|███████████████████████████████████████████████████████████████████████████████████████████████████████| 67/67 [00:03<00:00, 19.96it/s]\n"
     ]
    },
    {
     "name": "stdout",
     "output_type": "stream",
     "text": [
      "Computing accuracy\n",
      "Test set accuracy (Precision@1) = 0.4963089225589226\n",
      "Epoch 19 Iteration 0: Loss = 0.536481499671936\n"
     ]
    },
    {
     "name": "stderr",
     "output_type": "stream",
     "text": [
      "100%|█████████████████████████████████████████████████████████████████████████████████████████████████████| 266/266 [00:13<00:00, 19.73it/s]\n",
      "100%|███████████████████████████████████████████████████████████████████████████████████████████████████████| 67/67 [00:03<00:00, 19.75it/s]\n"
     ]
    },
    {
     "name": "stdout",
     "output_type": "stream",
     "text": [
      "Computing accuracy\n",
      "Test set accuracy (Precision@1) = 0.49544472502805836\n",
      "Epoch 20 Iteration 0: Loss = 0.4422401785850525\n"
     ]
    },
    {
     "name": "stderr",
     "output_type": "stream",
     "text": [
      "100%|█████████████████████████████████████████████████████████████████████████████████████████████████████| 266/266 [00:13<00:00, 19.30it/s]\n",
      "100%|███████████████████████████████████████████████████████████████████████████████████████████████████████| 67/67 [00:03<00:00, 19.84it/s]\n"
     ]
    },
    {
     "name": "stdout",
     "output_type": "stream",
     "text": [
      "Computing accuracy\n",
      "Test set accuracy (Precision@1) = 0.5069767115600449\n",
      "Epoch 21 Iteration 0: Loss = 0.5233669281005859\n"
     ]
    },
    {
     "name": "stderr",
     "output_type": "stream",
     "text": [
      "100%|█████████████████████████████████████████████████████████████████████████████████████████████████████| 266/266 [00:13<00:00, 19.46it/s]\n",
      "100%|███████████████████████████████████████████████████████████████████████████████████████████████████████| 67/67 [00:03<00:00, 19.80it/s]\n"
     ]
    },
    {
     "name": "stdout",
     "output_type": "stream",
     "text": [
      "Computing accuracy\n",
      "Test set accuracy (Precision@1) = 0.513500280583614\n",
      "Epoch 22 Iteration 0: Loss = 0.4880906641483307\n"
     ]
    },
    {
     "name": "stderr",
     "output_type": "stream",
     "text": [
      "100%|█████████████████████████████████████████████████████████████████████████████████████████████████████| 266/266 [00:13<00:00, 19.80it/s]\n",
      "100%|███████████████████████████████████████████████████████████████████████████████████████████████████████| 67/67 [00:03<00:00, 19.72it/s]\n"
     ]
    },
    {
     "name": "stdout",
     "output_type": "stream",
     "text": [
      "Computing accuracy\n",
      "Test set accuracy (Precision@1) = 0.5157645903479237\n",
      "Epoch 23 Iteration 0: Loss = 0.4864019751548767\n"
     ]
    },
    {
     "name": "stderr",
     "output_type": "stream",
     "text": [
      "100%|█████████████████████████████████████████████████████████████████████████████████████████████████████| 266/266 [00:13<00:00, 19.49it/s]\n",
      "100%|███████████████████████████████████████████████████████████████████████████████████████████████████████| 67/67 [00:03<00:00, 19.62it/s]\n"
     ]
    },
    {
     "name": "stdout",
     "output_type": "stream",
     "text": [
      "Computing accuracy\n",
      "Test set accuracy (Precision@1) = 0.5203521324354657\n",
      "Epoch 24 Iteration 0: Loss = 0.48367756605148315\n"
     ]
    },
    {
     "name": "stderr",
     "output_type": "stream",
     "text": [
      "100%|█████████████████████████████████████████████████████████████████████████████████████████████████████| 266/266 [00:13<00:00, 19.85it/s]\n",
      "100%|███████████████████████████████████████████████████████████████████████████████████████████████████████| 67/67 [00:03<00:00, 19.86it/s]\n"
     ]
    },
    {
     "name": "stdout",
     "output_type": "stream",
     "text": [
      "Computing accuracy\n",
      "Test set accuracy (Precision@1) = 0.5298386644219978\n",
      "Epoch 25 Iteration 0: Loss = 0.5361446142196655\n"
     ]
    },
    {
     "name": "stderr",
     "output_type": "stream",
     "text": [
      "100%|█████████████████████████████████████████████████████████████████████████████████████████████████████| 266/266 [00:13<00:00, 19.66it/s]\n",
      "100%|███████████████████████████████████████████████████████████████████████████████████████████████████████| 67/67 [00:03<00:00, 19.66it/s]\n"
     ]
    },
    {
     "name": "stdout",
     "output_type": "stream",
     "text": [
      "Computing accuracy\n",
      "Test set accuracy (Precision@1) = 0.52702721661055\n",
      "Epoch 26 Iteration 0: Loss = 0.4707784056663513\n"
     ]
    },
    {
     "name": "stderr",
     "output_type": "stream",
     "text": [
      "100%|█████████████████████████████████████████████████████████████████████████████████████████████████████| 266/266 [00:13<00:00, 19.71it/s]\n",
      "100%|███████████████████████████████████████████████████████████████████████████████████████████████████████| 67/67 [00:03<00:00, 19.84it/s]\n"
     ]
    },
    {
     "name": "stdout",
     "output_type": "stream",
     "text": [
      "Computing accuracy\n",
      "Test set accuracy (Precision@1) = 0.5335423681257015\n",
      "Epoch 27 Iteration 0: Loss = 0.5015994310379028\n"
     ]
    },
    {
     "name": "stderr",
     "output_type": "stream",
     "text": [
      "100%|█████████████████████████████████████████████████████████████████████████████████████████████████████| 266/266 [00:13<00:00, 19.56it/s]\n",
      "100%|███████████████████████████████████████████████████████████████████████████████████████████████████████| 67/67 [00:03<00:00, 19.63it/s]\n"
     ]
    },
    {
     "name": "stdout",
     "output_type": "stream",
     "text": [
      "Computing accuracy\n",
      "Test set accuracy (Precision@1) = 0.5303016273849608\n",
      "Epoch 28 Iteration 0: Loss = 0.5264167189598083\n"
     ]
    },
    {
     "name": "stderr",
     "output_type": "stream",
     "text": [
      "100%|█████████████████████████████████████████████████████████████████████████████████████████████████████| 266/266 [00:13<00:00, 19.69it/s]\n",
      "100%|███████████████████████████████████████████████████████████████████████████████████████████████████████| 67/67 [00:03<00:00, 19.74it/s]\n"
     ]
    },
    {
     "name": "stdout",
     "output_type": "stream",
     "text": [
      "Computing accuracy\n",
      "Test set accuracy (Precision@1) = 0.536547418630752\n",
      "Epoch 29 Iteration 0: Loss = 0.419181227684021\n"
     ]
    },
    {
     "name": "stderr",
     "output_type": "stream",
     "text": [
      "100%|█████████████████████████████████████████████████████████████████████████████████████████████████████| 266/266 [00:13<00:00, 19.56it/s]\n",
      "100%|███████████████████████████████████████████████████████████████████████████████████████████████████████| 67/67 [00:03<00:00, 19.28it/s]\n"
     ]
    },
    {
     "name": "stdout",
     "output_type": "stream",
     "text": [
      "Computing accuracy\n",
      "Test set accuracy (Precision@1) = 0.5375505050505051\n",
      "Epoch 30 Iteration 0: Loss = 0.44836661219596863\n"
     ]
    },
    {
     "name": "stderr",
     "output_type": "stream",
     "text": [
      "100%|█████████████████████████████████████████████████████████████████████████████████████████████████████| 266/266 [00:13<00:00, 19.56it/s]\n",
      "100%|███████████████████████████████████████████████████████████████████████████████████████████████████████| 67/67 [00:03<00:00, 19.94it/s]\n"
     ]
    },
    {
     "name": "stdout",
     "output_type": "stream",
     "text": [
      "Computing accuracy\n",
      "Test set accuracy (Precision@1) = 0.5491736812570146\n",
      "Epoch 31 Iteration 0: Loss = 0.48096963763237\n"
     ]
    },
    {
     "name": "stderr",
     "output_type": "stream",
     "text": [
      "100%|█████████████████████████████████████████████████████████████████████████████████████████████████████| 266/266 [00:13<00:00, 19.20it/s]\n",
      "100%|███████████████████████████████████████████████████████████████████████████████████████████████████████| 67/67 [00:03<00:00, 19.87it/s]\n"
     ]
    },
    {
     "name": "stdout",
     "output_type": "stream",
     "text": [
      "Computing accuracy\n",
      "Test set accuracy (Precision@1) = 0.5468055555555557\n",
      "Epoch 32 Iteration 0: Loss = 0.45636799931526184\n"
     ]
    },
    {
     "name": "stderr",
     "output_type": "stream",
     "text": [
      "100%|█████████████████████████████████████████████████████████████████████████████████████████████████████| 266/266 [00:13<00:00, 19.68it/s]\n",
      "100%|███████████████████████████████████████████████████████████████████████████████████████████████████████| 67/67 [00:03<00:00, 19.90it/s]\n"
     ]
    },
    {
     "name": "stdout",
     "output_type": "stream",
     "text": [
      "Computing accuracy\n",
      "Test set accuracy (Precision@1) = 0.5563229517396184\n",
      "Epoch 33 Iteration 0: Loss = 0.4282371401786804\n"
     ]
    },
    {
     "name": "stderr",
     "output_type": "stream",
     "text": [
      "100%|█████████████████████████████████████████████████████████████████████████████████████████████████████| 266/266 [00:13<00:00, 19.58it/s]\n",
      "100%|███████████████████████████████████████████████████████████████████████████████████████████████████████| 67/67 [00:03<00:00, 19.81it/s]\n"
     ]
    },
    {
     "name": "stdout",
     "output_type": "stream",
     "text": [
      "Computing accuracy\n",
      "Test set accuracy (Precision@1) = 0.54959455667789\n",
      "Epoch 34 Iteration 0: Loss = 0.4735678434371948\n"
     ]
    },
    {
     "name": "stderr",
     "output_type": "stream",
     "text": [
      "100%|█████████████████████████████████████████████████████████████████████████████████████████████████████| 266/266 [00:13<00:00, 19.31it/s]\n",
      "100%|███████████████████████████████████████████████████████████████████████████████████████████████████████| 67/67 [00:03<00:00, 19.38it/s]\n"
     ]
    },
    {
     "name": "stdout",
     "output_type": "stream",
     "text": [
      "Computing accuracy\n",
      "Test set accuracy (Precision@1) = 0.5564309764309765\n",
      "Epoch 35 Iteration 0: Loss = 0.40682995319366455\n"
     ]
    },
    {
     "name": "stderr",
     "output_type": "stream",
     "text": [
      "100%|█████████████████████████████████████████████████████████████████████████████████████████████████████| 266/266 [00:13<00:00, 19.40it/s]\n",
      "100%|███████████████████████████████████████████████████████████████████████████████████████████████████████| 67/67 [00:03<00:00, 19.29it/s]\n"
     ]
    },
    {
     "name": "stdout",
     "output_type": "stream",
     "text": [
      "Computing accuracy\n",
      "Test set accuracy (Precision@1) = 0.5624031986531987\n",
      "Epoch 36 Iteration 0: Loss = 0.4604453444480896\n"
     ]
    },
    {
     "name": "stderr",
     "output_type": "stream",
     "text": [
      "100%|█████████████████████████████████████████████████████████████████████████████████████████████████████| 266/266 [00:13<00:00, 19.44it/s]\n",
      "100%|███████████████████████████████████████████████████████████████████████████████████████████████████████| 67/67 [00:03<00:00, 19.55it/s]\n"
     ]
    },
    {
     "name": "stdout",
     "output_type": "stream",
     "text": [
      "Computing accuracy\n",
      "Test set accuracy (Precision@1) = 0.5588973063973064\n",
      "Epoch 37 Iteration 0: Loss = 0.4459213614463806\n"
     ]
    },
    {
     "name": "stderr",
     "output_type": "stream",
     "text": [
      "100%|█████████████████████████████████████████████████████████████████████████████████████████████████████| 266/266 [00:13<00:00, 19.57it/s]\n",
      "100%|███████████████████████████████████████████████████████████████████████████████████████████████████████| 67/67 [00:03<00:00, 19.73it/s]\n"
     ]
    },
    {
     "name": "stdout",
     "output_type": "stream",
     "text": [
      "Computing accuracy\n",
      "Test set accuracy (Precision@1) = 0.5648639169472504\n",
      "Epoch 38 Iteration 0: Loss = 0.48546725511550903\n"
     ]
    },
    {
     "name": "stderr",
     "output_type": "stream",
     "text": [
      "100%|█████████████████████████████████████████████████████████████████████████████████████████████████████| 266/266 [00:13<00:00, 19.41it/s]\n",
      "100%|███████████████████████████████████████████████████████████████████████████████████████████████████████| 67/67 [00:03<00:00, 19.29it/s]\n"
     ]
    },
    {
     "name": "stdout",
     "output_type": "stream",
     "text": [
      "Computing accuracy\n",
      "Test set accuracy (Precision@1) = 0.5647685185185185\n",
      "Epoch 39 Iteration 0: Loss = 0.4072573482990265\n"
     ]
    },
    {
     "name": "stderr",
     "output_type": "stream",
     "text": [
      "100%|█████████████████████████████████████████████████████████████████████████████████████████████████████| 266/266 [00:13<00:00, 19.23it/s]\n",
      "100%|███████████████████████████████████████████████████████████████████████████████████████████████████████| 67/67 [00:03<00:00, 19.44it/s]\n"
     ]
    },
    {
     "name": "stdout",
     "output_type": "stream",
     "text": [
      "Computing accuracy\n",
      "Test set accuracy (Precision@1) = 0.5699340628507296\n",
      "Epoch 40 Iteration 0: Loss = 0.4587720036506653\n"
     ]
    },
    {
     "name": "stderr",
     "output_type": "stream",
     "text": [
      "100%|█████████████████████████████████████████████████████████████████████████████████████████████████████| 266/266 [00:13<00:00, 19.77it/s]\n",
      "100%|███████████████████████████████████████████████████████████████████████████████████████████████████████| 67/67 [00:03<00:00, 19.88it/s]\n"
     ]
    },
    {
     "name": "stdout",
     "output_type": "stream",
     "text": [
      "Computing accuracy\n",
      "Test set accuracy (Precision@1) = 0.575253928170595\n",
      "Epoch 41 Iteration 0: Loss = 0.37916773557662964\n"
     ]
    },
    {
     "name": "stderr",
     "output_type": "stream",
     "text": [
      "100%|█████████████████████████████████████████████████████████████████████████████████████████████████████| 266/266 [00:13<00:00, 19.67it/s]\n",
      "100%|███████████████████████████████████████████████████████████████████████████████████████████████████████| 67/67 [00:03<00:00, 19.77it/s]\n"
     ]
    },
    {
     "name": "stdout",
     "output_type": "stream",
     "text": [
      "Computing accuracy\n",
      "Test set accuracy (Precision@1) = 0.5776108305274973\n",
      "Epoch 42 Iteration 0: Loss = 0.36621254682540894\n"
     ]
    },
    {
     "name": "stderr",
     "output_type": "stream",
     "text": [
      "100%|█████████████████████████████████████████████████████████████████████████████████████████████████████| 266/266 [00:13<00:00, 19.71it/s]\n",
      "100%|███████████████████████████████████████████████████████████████████████████████████████████████████████| 67/67 [00:03<00:00, 19.92it/s]\n"
     ]
    },
    {
     "name": "stdout",
     "output_type": "stream",
     "text": [
      "Computing accuracy\n",
      "Test set accuracy (Precision@1) = 0.5790347923681257\n",
      "Epoch 43 Iteration 0: Loss = 0.4565008282661438\n"
     ]
    },
    {
     "name": "stderr",
     "output_type": "stream",
     "text": [
      "100%|█████████████████████████████████████████████████████████████████████████████████████████████████████| 266/266 [00:13<00:00, 19.56it/s]\n",
      "100%|███████████████████████████████████████████████████████████████████████████████████████████████████████| 67/67 [00:03<00:00, 19.91it/s]\n"
     ]
    },
    {
     "name": "stdout",
     "output_type": "stream",
     "text": [
      "Computing accuracy\n",
      "Test set accuracy (Precision@1) = 0.5781972502805837\n",
      "Epoch 44 Iteration 0: Loss = 0.365768700838089\n"
     ]
    },
    {
     "name": "stderr",
     "output_type": "stream",
     "text": [
      "100%|█████████████████████████████████████████████████████████████████████████████████████████████████████| 266/266 [00:13<00:00, 19.53it/s]\n",
      "100%|███████████████████████████████████████████████████████████████████████████████████████████████████████| 67/67 [00:03<00:00, 19.84it/s]\n"
     ]
    },
    {
     "name": "stdout",
     "output_type": "stream",
     "text": [
      "Computing accuracy\n",
      "Test set accuracy (Precision@1) = 0.578078002244669\n",
      "Epoch 45 Iteration 0: Loss = 0.4293285012245178\n"
     ]
    },
    {
     "name": "stderr",
     "output_type": "stream",
     "text": [
      "100%|█████████████████████████████████████████████████████████████████████████████████████████████████████| 266/266 [00:13<00:00, 19.81it/s]\n",
      "100%|███████████████████████████████████████████████████████████████████████████████████████████████████████| 67/67 [00:03<00:00, 19.84it/s]\n"
     ]
    },
    {
     "name": "stdout",
     "output_type": "stream",
     "text": [
      "Computing accuracy\n",
      "Test set accuracy (Precision@1) = 0.5820622895622897\n",
      "Epoch 46 Iteration 0: Loss = 0.42560049891471863\n"
     ]
    },
    {
     "name": "stderr",
     "output_type": "stream",
     "text": [
      "100%|█████████████████████████████████████████████████████████████████████████████████████████████████████| 266/266 [00:13<00:00, 19.61it/s]\n",
      "100%|███████████████████████████████████████████████████████████████████████████████████████████████████████| 67/67 [00:03<00:00, 19.61it/s]\n"
     ]
    },
    {
     "name": "stdout",
     "output_type": "stream",
     "text": [
      "Computing accuracy\n",
      "Test set accuracy (Precision@1) = 0.5864141414141415\n",
      "Epoch 47 Iteration 0: Loss = 0.3573128879070282\n"
     ]
    },
    {
     "name": "stderr",
     "output_type": "stream",
     "text": [
      "100%|█████████████████████████████████████████████████████████████████████████████████████████████████████| 266/266 [00:13<00:00, 19.67it/s]\n",
      "100%|███████████████████████████████████████████████████████████████████████████████████████████████████████| 67/67 [00:03<00:00, 19.79it/s]\n"
     ]
    },
    {
     "name": "stdout",
     "output_type": "stream",
     "text": [
      "Computing accuracy\n",
      "Test set accuracy (Precision@1) = 0.5849565095398429\n",
      "Epoch 48 Iteration 0: Loss = 0.35436996817588806\n"
     ]
    },
    {
     "name": "stderr",
     "output_type": "stream",
     "text": [
      "100%|█████████████████████████████████████████████████████████████████████████████████████████████████████| 266/266 [00:13<00:00, 19.59it/s]\n",
      "100%|███████████████████████████████████████████████████████████████████████████████████████████████████████| 67/67 [00:03<00:00, 18.42it/s]\n"
     ]
    },
    {
     "name": "stdout",
     "output_type": "stream",
     "text": [
      "Computing accuracy\n",
      "Test set accuracy (Precision@1) = 0.5871212121212122\n",
      "Epoch 49 Iteration 0: Loss = 0.4308772385120392\n"
     ]
    },
    {
     "name": "stderr",
     "output_type": "stream",
     "text": [
      "100%|█████████████████████████████████████████████████████████████████████████████████████████████████████| 266/266 [00:14<00:00, 18.75it/s]\n",
      "100%|███████████████████████████████████████████████████████████████████████████████████████████████████████| 67/67 [00:03<00:00, 19.26it/s]\n"
     ]
    },
    {
     "name": "stdout",
     "output_type": "stream",
     "text": [
      "Computing accuracy\n",
      "Test set accuracy (Precision@1) = 0.5917031425364759\n",
      "Epoch 50 Iteration 0: Loss = 0.46247196197509766\n"
     ]
    },
    {
     "name": "stderr",
     "output_type": "stream",
     "text": [
      "100%|█████████████████████████████████████████████████████████████████████████████████████████████████████| 266/266 [00:13<00:00, 19.81it/s]\n",
      "100%|███████████████████████████████████████████████████████████████████████████████████████████████████████| 67/67 [00:03<00:00, 19.62it/s]\n"
     ]
    },
    {
     "name": "stdout",
     "output_type": "stream",
     "text": [
      "Computing accuracy\n",
      "Test set accuracy (Precision@1) = 0.5951206509539844\n",
      "Epoch 51 Iteration 0: Loss = 0.48764121532440186\n"
     ]
    },
    {
     "name": "stderr",
     "output_type": "stream",
     "text": [
      "100%|█████████████████████████████████████████████████████████████████████████████████████████████████████| 266/266 [00:13<00:00, 19.13it/s]\n",
      "100%|███████████████████████████████████████████████████████████████████████████████████████████████████████| 67/67 [00:03<00:00, 19.63it/s]\n"
     ]
    },
    {
     "name": "stdout",
     "output_type": "stream",
     "text": [
      "Computing accuracy\n",
      "Test set accuracy (Precision@1) = 0.5967255892255893\n",
      "Epoch 52 Iteration 0: Loss = 0.4324459135532379\n"
     ]
    },
    {
     "name": "stderr",
     "output_type": "stream",
     "text": [
      "100%|█████████████████████████████████████████████████████████████████████████████████████████████████████| 266/266 [00:13<00:00, 19.64it/s]\n",
      "100%|███████████████████████████████████████████████████████████████████████████████████████████████████████| 67/67 [00:03<00:00, 19.67it/s]\n"
     ]
    },
    {
     "name": "stdout",
     "output_type": "stream",
     "text": [
      "Computing accuracy\n",
      "Test set accuracy (Precision@1) = 0.5972278338945005\n",
      "Epoch 53 Iteration 0: Loss = 0.4929993152618408\n"
     ]
    },
    {
     "name": "stderr",
     "output_type": "stream",
     "text": [
      "100%|█████████████████████████████████████████████████████████████████████████████████████████████████████| 266/266 [00:13<00:00, 19.62it/s]\n",
      "100%|███████████████████████████████████████████████████████████████████████████████████████████████████████| 67/67 [00:03<00:00, 19.81it/s]\n"
     ]
    },
    {
     "name": "stdout",
     "output_type": "stream",
     "text": [
      "Computing accuracy\n",
      "Test set accuracy (Precision@1) = 0.5999438832772166\n",
      "Epoch 54 Iteration 0: Loss = 0.43579962849617004\n"
     ]
    },
    {
     "name": "stderr",
     "output_type": "stream",
     "text": [
      "100%|█████████████████████████████████████████████████████████████████████████████████████████████████████| 266/266 [00:13<00:00, 19.58it/s]\n",
      "100%|███████████████████████████████████████████████████████████████████████████████████████████████████████| 67/67 [00:03<00:00, 19.68it/s]\n"
     ]
    },
    {
     "name": "stdout",
     "output_type": "stream",
     "text": [
      "Computing accuracy\n",
      "Test set accuracy (Precision@1) = 0.602236251402918\n",
      "Epoch 55 Iteration 0: Loss = 0.44033071398735046\n"
     ]
    },
    {
     "name": "stderr",
     "output_type": "stream",
     "text": [
      "100%|█████████████████████████████████████████████████████████████████████████████████████████████████████| 266/266 [00:13<00:00, 19.68it/s]\n",
      "100%|███████████████████████████████████████████████████████████████████████████████████████████████████████| 67/67 [00:03<00:00, 19.91it/s]\n"
     ]
    },
    {
     "name": "stdout",
     "output_type": "stream",
     "text": [
      "Computing accuracy\n",
      "Test set accuracy (Precision@1) = 0.599419191919192\n",
      "Epoch 56 Iteration 0: Loss = 0.4238608777523041\n"
     ]
    },
    {
     "name": "stderr",
     "output_type": "stream",
     "text": [
      "100%|█████████████████████████████████████████████████████████████████████████████████████████████████████| 266/266 [00:13<00:00, 19.58it/s]\n",
      "100%|███████████████████████████████████████████████████████████████████████████████████████████████████████| 67/67 [00:03<00:00, 19.80it/s]\n"
     ]
    },
    {
     "name": "stdout",
     "output_type": "stream",
     "text": [
      "Computing accuracy\n",
      "Test set accuracy (Precision@1) = 0.6037752525252525\n",
      "Epoch 57 Iteration 0: Loss = 0.3851996660232544\n"
     ]
    },
    {
     "name": "stderr",
     "output_type": "stream",
     "text": [
      "100%|█████████████████████████████████████████████████████████████████████████████████████████████████████| 266/266 [00:13<00:00, 19.54it/s]\n",
      "100%|███████████████████████████████████████████████████████████████████████████████████████████████████████| 67/67 [00:03<00:00, 19.76it/s]\n"
     ]
    },
    {
     "name": "stdout",
     "output_type": "stream",
     "text": [
      "Computing accuracy\n",
      "Test set accuracy (Precision@1) = 0.6024789562289563\n",
      "Epoch 58 Iteration 0: Loss = 0.44702136516571045\n"
     ]
    },
    {
     "name": "stderr",
     "output_type": "stream",
     "text": [
      "100%|█████████████████████████████████████████████████████████████████████████████████████████████████████| 266/266 [00:13<00:00, 19.83it/s]\n",
      "100%|███████████████████████████████████████████████████████████████████████████████████████████████████████| 67/67 [00:03<00:00, 19.83it/s]\n"
     ]
    },
    {
     "name": "stdout",
     "output_type": "stream",
     "text": [
      "Computing accuracy\n",
      "Test set accuracy (Precision@1) = 0.6062485970819304\n",
      "Epoch 59 Iteration 0: Loss = 0.374330997467041\n"
     ]
    },
    {
     "name": "stderr",
     "output_type": "stream",
     "text": [
      "100%|█████████████████████████████████████████████████████████████████████████████████████████████████████| 266/266 [00:13<00:00, 19.73it/s]\n",
      "100%|███████████████████████████████████████████████████████████████████████████████████████████████████████| 67/67 [00:03<00:00, 19.81it/s]\n"
     ]
    },
    {
     "name": "stdout",
     "output_type": "stream",
     "text": [
      "Computing accuracy\n",
      "Test set accuracy (Precision@1) = 0.6009427609427609\n",
      "Epoch 60 Iteration 0: Loss = 0.43854209780693054\n"
     ]
    },
    {
     "name": "stderr",
     "output_type": "stream",
     "text": [
      "100%|█████████████████████████████████████████████████████████████████████████████████████████████████████| 266/266 [00:13<00:00, 19.58it/s]\n",
      "100%|███████████████████████████████████████████████████████████████████████████████████████████████████████| 67/67 [00:03<00:00, 19.82it/s]\n"
     ]
    },
    {
     "name": "stdout",
     "output_type": "stream",
     "text": [
      "Computing accuracy\n",
      "Test set accuracy (Precision@1) = 0.6067297979797981\n",
      "Epoch 61 Iteration 0: Loss = 0.41865816712379456\n"
     ]
    },
    {
     "name": "stderr",
     "output_type": "stream",
     "text": [
      "100%|█████████████████████████████████████████████████████████████████████████████████████████████████████| 266/266 [00:13<00:00, 19.74it/s]\n",
      "100%|███████████████████████████████████████████████████████████████████████████████████████████████████████| 67/67 [00:03<00:00, 19.69it/s]\n"
     ]
    },
    {
     "name": "stdout",
     "output_type": "stream",
     "text": [
      "Computing accuracy\n",
      "Test set accuracy (Precision@1) = 0.6092101571268237\n",
      "Epoch 62 Iteration 0: Loss = 0.3143492341041565\n"
     ]
    },
    {
     "name": "stderr",
     "output_type": "stream",
     "text": [
      "100%|█████████████████████████████████████████████████████████████████████████████████████████████████████| 266/266 [00:13<00:00, 19.60it/s]\n",
      "100%|███████████████████████████████████████████████████████████████████████████████████████████████████████| 67/67 [00:03<00:00, 19.75it/s]\n"
     ]
    },
    {
     "name": "stdout",
     "output_type": "stream",
     "text": [
      "Computing accuracy\n",
      "Test set accuracy (Precision@1) = 0.6032645903479237\n",
      "Epoch 63 Iteration 0: Loss = 0.40003839135169983\n"
     ]
    },
    {
     "name": "stderr",
     "output_type": "stream",
     "text": [
      "100%|█████████████████████████████████████████████████████████████████████████████████████████████████████| 266/266 [00:13<00:00, 19.49it/s]\n",
      "100%|███████████████████████████████████████████████████████████████████████████████████████████████████████| 67/67 [00:03<00:00, 19.91it/s]\n"
     ]
    },
    {
     "name": "stdout",
     "output_type": "stream",
     "text": [
      "Computing accuracy\n",
      "Test set accuracy (Precision@1) = 0.6042606621773289\n",
      "Epoch 64 Iteration 0: Loss = 0.4790603518486023\n"
     ]
    },
    {
     "name": "stderr",
     "output_type": "stream",
     "text": [
      "100%|█████████████████████████████████████████████████████████████████████████████████████████████████████| 266/266 [00:13<00:00, 19.63it/s]\n",
      "100%|███████████████████████████████████████████████████████████████████████████████████████████████████████| 67/67 [00:03<00:00, 19.81it/s]\n"
     ]
    },
    {
     "name": "stdout",
     "output_type": "stream",
     "text": [
      "Computing accuracy\n",
      "Test set accuracy (Precision@1) = 0.6087780583613918\n",
      "Epoch 65 Iteration 0: Loss = 0.3598639965057373\n"
     ]
    },
    {
     "name": "stderr",
     "output_type": "stream",
     "text": [
      "100%|█████████████████████████████████████████████████████████████████████████████████████████████████████| 266/266 [00:13<00:00, 19.01it/s]\n",
      "100%|███████████████████████████████████████████████████████████████████████████████████████████████████████| 67/67 [00:03<00:00, 19.68it/s]\n"
     ]
    },
    {
     "name": "stdout",
     "output_type": "stream",
     "text": [
      "Computing accuracy\n",
      "Test set accuracy (Precision@1) = 0.6122544893378227\n",
      "Epoch 66 Iteration 0: Loss = 0.38290226459503174\n"
     ]
    },
    {
     "name": "stderr",
     "output_type": "stream",
     "text": [
      "100%|█████████████████████████████████████████████████████████████████████████████████████████████████████| 266/266 [00:13<00:00, 19.61it/s]\n",
      "100%|███████████████████████████████████████████████████████████████████████████████████████████████████████| 67/67 [00:03<00:00, 19.82it/s]\n"
     ]
    },
    {
     "name": "stdout",
     "output_type": "stream",
     "text": [
      "Computing accuracy\n",
      "Test set accuracy (Precision@1) = 0.6118223905723906\n",
      "Epoch 67 Iteration 0: Loss = 0.3552456200122833\n"
     ]
    },
    {
     "name": "stderr",
     "output_type": "stream",
     "text": [
      "100%|█████████████████████████████████████████████████████████████████████████████████████████████████████| 266/266 [00:13<00:00, 19.29it/s]\n",
      "100%|███████████████████████████████████████████████████████████████████████████████████████████████████████| 67/67 [00:03<00:00, 19.61it/s]\n"
     ]
    },
    {
     "name": "stdout",
     "output_type": "stream",
     "text": [
      "Computing accuracy\n",
      "Test set accuracy (Precision@1) = 0.6127202581369249\n",
      "Epoch 68 Iteration 0: Loss = 0.3280477523803711\n"
     ]
    },
    {
     "name": "stderr",
     "output_type": "stream",
     "text": [
      "100%|█████████████████████████████████████████████████████████████████████████████████████████████████████| 266/266 [00:13<00:00, 19.48it/s]\n",
      "100%|███████████████████████████████████████████████████████████████████████████████████████████████████████| 67/67 [00:03<00:00, 19.84it/s]\n"
     ]
    },
    {
     "name": "stdout",
     "output_type": "stream",
     "text": [
      "Computing accuracy\n",
      "Test set accuracy (Precision@1) = 0.6160535914702582\n",
      "Epoch 69 Iteration 0: Loss = 0.37475457787513733\n"
     ]
    },
    {
     "name": "stderr",
     "output_type": "stream",
     "text": [
      "100%|█████████████████████████████████████████████████████████████████████████████████████████████████████| 266/266 [00:13<00:00, 19.62it/s]\n",
      "100%|███████████████████████████████████████████████████████████████████████████████████████████████████████| 67/67 [00:03<00:00, 19.74it/s]\n"
     ]
    },
    {
     "name": "stdout",
     "output_type": "stream",
     "text": [
      "Computing accuracy\n",
      "Test set accuracy (Precision@1) = 0.6139744668911336\n",
      "Epoch 70 Iteration 0: Loss = 0.3567775785923004\n"
     ]
    },
    {
     "name": "stderr",
     "output_type": "stream",
     "text": [
      "100%|█████████████████████████████████████████████████████████████████████████████████████████████████████| 266/266 [00:13<00:00, 19.64it/s]\n",
      "100%|███████████████████████████████████████████████████████████████████████████████████████████████████████| 67/67 [00:03<00:00, 19.90it/s]\n"
     ]
    },
    {
     "name": "stdout",
     "output_type": "stream",
     "text": [
      "Computing accuracy\n",
      "Test set accuracy (Precision@1) = 0.6128324915824916\n",
      "Epoch 71 Iteration 0: Loss = 0.3839417099952698\n"
     ]
    },
    {
     "name": "stderr",
     "output_type": "stream",
     "text": [
      "100%|█████████████████████████████████████████████████████████████████████████████████████████████████████| 266/266 [00:13<00:00, 19.65it/s]\n",
      "100%|███████████████████████████████████████████████████████████████████████████████████████████████████████| 67/67 [00:03<00:00, 19.76it/s]\n"
     ]
    },
    {
     "name": "stdout",
     "output_type": "stream",
     "text": [
      "Computing accuracy\n",
      "Test set accuracy (Precision@1) = 0.6143027497194165\n",
      "Epoch 72 Iteration 0: Loss = 0.42833954095840454\n"
     ]
    },
    {
     "name": "stderr",
     "output_type": "stream",
     "text": [
      "100%|█████████████████████████████████████████████████████████████████████████████████████████████████████| 266/266 [00:13<00:00, 19.59it/s]\n",
      "100%|███████████████████████████████████████████████████████████████████████████████████████████████████████| 67/67 [00:03<00:00, 19.70it/s]\n"
     ]
    },
    {
     "name": "stdout",
     "output_type": "stream",
     "text": [
      "Computing accuracy\n",
      "Test set accuracy (Precision@1) = 0.6146647025813693\n",
      "Epoch 73 Iteration 0: Loss = 0.3032683730125427\n"
     ]
    },
    {
     "name": "stderr",
     "output_type": "stream",
     "text": [
      "100%|█████████████████████████████████████████████████████████████████████████████████████████████████████| 266/266 [00:13<00:00, 19.67it/s]\n",
      "100%|███████████████████████████████████████████████████████████████████████████████████████████████████████| 67/67 [00:03<00:00, 19.50it/s]\n"
     ]
    },
    {
     "name": "stdout",
     "output_type": "stream",
     "text": [
      "Computing accuracy\n",
      "Test set accuracy (Precision@1) = 0.617226430976431\n",
      "Epoch 74 Iteration 0: Loss = 0.3791842758655548\n"
     ]
    },
    {
     "name": "stderr",
     "output_type": "stream",
     "text": [
      "100%|█████████████████████████████████████████████████████████████████████████████████████████████████████| 266/266 [00:13<00:00, 19.34it/s]\n",
      "100%|███████████████████████████████████████████████████████████████████████████████████████████████████████| 67/67 [00:03<00:00, 19.65it/s]\n"
     ]
    },
    {
     "name": "stdout",
     "output_type": "stream",
     "text": [
      "Computing accuracy\n",
      "Test set accuracy (Precision@1) = 0.6186153198653199\n",
      "Epoch 75 Iteration 0: Loss = 0.3633081018924713\n"
     ]
    },
    {
     "name": "stderr",
     "output_type": "stream",
     "text": [
      "100%|█████████████████████████████████████████████████████████████████████████████████████████████████████| 266/266 [00:13<00:00, 19.77it/s]\n",
      "100%|███████████████████████████████████████████████████████████████████████████████████████████████████████| 67/67 [00:03<00:00, 19.74it/s]\n"
     ]
    },
    {
     "name": "stdout",
     "output_type": "stream",
     "text": [
      "Computing accuracy\n",
      "Test set accuracy (Precision@1) = 0.6170496632996633\n",
      "Epoch 76 Iteration 0: Loss = 0.3374026119709015\n"
     ]
    },
    {
     "name": "stderr",
     "output_type": "stream",
     "text": [
      "100%|█████████████████████████████████████████████████████████████████████████████████████████████████████| 266/266 [00:13<00:00, 19.62it/s]\n",
      "100%|███████████████████████████████████████████████████████████████████████████████████████████████████████| 67/67 [00:03<00:00, 19.72it/s]\n"
     ]
    },
    {
     "name": "stdout",
     "output_type": "stream",
     "text": [
      "Computing accuracy\n",
      "Test set accuracy (Precision@1) = 0.6165165544332212\n",
      "Epoch 77 Iteration 0: Loss = 0.389897882938385\n"
     ]
    },
    {
     "name": "stderr",
     "output_type": "stream",
     "text": [
      "100%|█████████████████████████████████████████████████████████████████████████████████████████████████████| 266/266 [00:13<00:00, 19.57it/s]\n",
      "100%|███████████████████████████████████████████████████████████████████████████████████████████████████████| 67/67 [00:03<00:00, 19.76it/s]\n"
     ]
    },
    {
     "name": "stdout",
     "output_type": "stream",
     "text": [
      "Computing accuracy\n",
      "Test set accuracy (Precision@1) = 0.6224537037037037\n",
      "Epoch 78 Iteration 0: Loss = 0.3046081066131592\n"
     ]
    },
    {
     "name": "stderr",
     "output_type": "stream",
     "text": [
      "100%|█████████████████████████████████████████████████████████████████████████████████████████████████████| 266/266 [00:13<00:00, 19.58it/s]\n",
      "100%|███████████████████████████████████████████████████████████████████████████████████████████████████████| 67/67 [00:03<00:00, 19.79it/s]\n"
     ]
    },
    {
     "name": "stdout",
     "output_type": "stream",
     "text": [
      "Computing accuracy\n",
      "Test set accuracy (Precision@1) = 0.6173190235690236\n",
      "Epoch 79 Iteration 0: Loss = 0.4080425500869751\n"
     ]
    },
    {
     "name": "stderr",
     "output_type": "stream",
     "text": [
      "100%|█████████████████████████████████████████████████████████████████████████████████████████████████████| 266/266 [00:13<00:00, 19.81it/s]\n",
      "100%|███████████████████████████████████████████████████████████████████████████████████████████████████████| 67/67 [00:03<00:00, 19.89it/s]\n"
     ]
    },
    {
     "name": "stdout",
     "output_type": "stream",
     "text": [
      "Computing accuracy\n",
      "Test set accuracy (Precision@1) = 0.6196338383838383\n",
      "Epoch 80 Iteration 0: Loss = 0.38578537106513977\n"
     ]
    },
    {
     "name": "stderr",
     "output_type": "stream",
     "text": [
      "100%|█████████████████████████████████████████████████████████████████████████████████████████████████████| 266/266 [00:13<00:00, 19.41it/s]\n",
      "100%|███████████████████████████████████████████████████████████████████████████████████████████████████████| 67/67 [00:03<00:00, 19.86it/s]\n"
     ]
    },
    {
     "name": "stdout",
     "output_type": "stream",
     "text": [
      "Computing accuracy\n",
      "Test set accuracy (Precision@1) = 0.622226430976431\n",
      "Epoch 81 Iteration 0: Loss = 0.3916018009185791\n"
     ]
    },
    {
     "name": "stderr",
     "output_type": "stream",
     "text": [
      "100%|█████████████████████████████████████████████████████████████████████████████████████████████████████| 266/266 [00:13<00:00, 19.56it/s]\n",
      "100%|███████████████████████████████████████████████████████████████████████████████████████████████████████| 67/67 [00:03<00:00, 19.89it/s]\n"
     ]
    },
    {
     "name": "stdout",
     "output_type": "stream",
     "text": [
      "Computing accuracy\n",
      "Test set accuracy (Precision@1) = 0.6206986531986531\n",
      "Epoch 82 Iteration 0: Loss = 0.3727032542228699\n"
     ]
    },
    {
     "name": "stderr",
     "output_type": "stream",
     "text": [
      "100%|█████████████████████████████████████████████████████████████████████████████████████████████████████| 266/266 [00:13<00:00, 19.64it/s]\n",
      "100%|███████████████████████████████████████████████████████████████████████████████████████████████████████| 67/67 [00:03<00:00, 19.78it/s]\n"
     ]
    },
    {
     "name": "stdout",
     "output_type": "stream",
     "text": [
      "Computing accuracy\n",
      "Test set accuracy (Precision@1) = 0.6142017396184063\n",
      "Epoch 83 Iteration 0: Loss = 0.32206231355667114\n"
     ]
    },
    {
     "name": "stderr",
     "output_type": "stream",
     "text": [
      "100%|█████████████████████████████████████████████████████████████████████████████████████████████████████| 266/266 [00:13<00:00, 19.54it/s]\n",
      "100%|███████████████████████████████████████████████████████████████████████████████████████████████████████| 67/67 [00:03<00:00, 19.89it/s]\n"
     ]
    },
    {
     "name": "stdout",
     "output_type": "stream",
     "text": [
      "Computing accuracy\n",
      "Test set accuracy (Precision@1) = 0.6242129629629629\n",
      "Epoch 84 Iteration 0: Loss = 0.4060109257698059\n"
     ]
    },
    {
     "name": "stderr",
     "output_type": "stream",
     "text": [
      "100%|█████████████████████████████████████████████████████████████████████████████████████████████████████| 266/266 [00:13<00:00, 19.72it/s]\n",
      "100%|███████████████████████████████████████████████████████████████████████████████████████████████████████| 67/67 [00:03<00:00, 19.70it/s]\n"
     ]
    },
    {
     "name": "stdout",
     "output_type": "stream",
     "text": [
      "Computing accuracy\n",
      "Test set accuracy (Precision@1) = 0.6254124579124579\n",
      "Epoch 85 Iteration 0: Loss = 0.3741992115974426\n"
     ]
    },
    {
     "name": "stderr",
     "output_type": "stream",
     "text": [
      "100%|█████████████████████████████████████████████████████████████████████████████████████████████████████| 266/266 [00:13<00:00, 19.71it/s]\n",
      "100%|███████████████████████████████████████████████████████████████████████████████████████████████████████| 67/67 [00:03<00:00, 19.77it/s]\n"
     ]
    },
    {
     "name": "stdout",
     "output_type": "stream",
     "text": [
      "Computing accuracy\n",
      "Test set accuracy (Precision@1) = 0.6231944444444445\n",
      "Epoch 86 Iteration 0: Loss = 0.3741430342197418\n"
     ]
    },
    {
     "name": "stderr",
     "output_type": "stream",
     "text": [
      "100%|█████████████████████████████████████████████████████████████████████████████████████████████████████| 266/266 [00:13<00:00, 19.31it/s]\n",
      "100%|███████████████████████████████████████████████████████████████████████████████████████████████████████| 67/67 [00:03<00:00, 19.77it/s]\n"
     ]
    },
    {
     "name": "stdout",
     "output_type": "stream",
     "text": [
      "Computing accuracy\n",
      "Test set accuracy (Precision@1) = 0.624378507295174\n",
      "Epoch 87 Iteration 0: Loss = 0.3686102330684662\n"
     ]
    },
    {
     "name": "stderr",
     "output_type": "stream",
     "text": [
      "100%|█████████████████████████████████████████████████████████████████████████████████████████████████████| 266/266 [00:13<00:00, 19.70it/s]\n",
      "100%|███████████████████████████████████████████████████████████████████████████████████████████████████████| 67/67 [00:03<00:00, 19.76it/s]\n"
     ]
    },
    {
     "name": "stdout",
     "output_type": "stream",
     "text": [
      "Computing accuracy\n",
      "Test set accuracy (Precision@1) = 0.6265740740740741\n",
      "Epoch 88 Iteration 0: Loss = 0.3630947172641754\n"
     ]
    },
    {
     "name": "stderr",
     "output_type": "stream",
     "text": [
      "100%|█████████████████████████████████████████████████████████████████████████████████████████████████████| 266/266 [00:13<00:00, 19.71it/s]\n",
      "100%|███████████████████████████████████████████████████████████████████████████████████████████████████████| 67/67 [00:03<00:00, 19.77it/s]\n"
     ]
    },
    {
     "name": "stdout",
     "output_type": "stream",
     "text": [
      "Computing accuracy\n",
      "Test set accuracy (Precision@1) = 0.6290123456790124\n",
      "Epoch 89 Iteration 0: Loss = 0.40820398926734924\n"
     ]
    },
    {
     "name": "stderr",
     "output_type": "stream",
     "text": [
      "100%|█████████████████████████████████████████████████████████████████████████████████████████████████████| 266/266 [00:13<00:00, 19.47it/s]\n",
      "100%|███████████████████████████████████████████████████████████████████████████████████████████████████████| 67/67 [00:03<00:00, 19.70it/s]\n"
     ]
    },
    {
     "name": "stdout",
     "output_type": "stream",
     "text": [
      "Computing accuracy\n",
      "Test set accuracy (Precision@1) = 0.6278282828282828\n",
      "Epoch 90 Iteration 0: Loss = 0.33038330078125\n"
     ]
    },
    {
     "name": "stderr",
     "output_type": "stream",
     "text": [
      "100%|█████████████████████████████████████████████████████████████████████████████████████████████████████| 266/266 [00:13<00:00, 19.60it/s]\n",
      "100%|███████████████████████████████████████████████████████████████████████████████████████████████████████| 67/67 [00:03<00:00, 19.76it/s]\n"
     ]
    },
    {
     "name": "stdout",
     "output_type": "stream",
     "text": [
      "Computing accuracy\n",
      "Test set accuracy (Precision@1) = 0.6363425925925925\n",
      "Epoch 91 Iteration 0: Loss = 0.32608601450920105\n"
     ]
    },
    {
     "name": "stderr",
     "output_type": "stream",
     "text": [
      "100%|█████████████████████████████████████████████████████████████████████████████████████████████████████| 266/266 [00:13<00:00, 19.65it/s]\n",
      "100%|███████████████████████████████████████████████████████████████████████████████████████████████████████| 67/67 [00:03<00:00, 19.73it/s]\n"
     ]
    },
    {
     "name": "stdout",
     "output_type": "stream",
     "text": [
      "Computing accuracy\n",
      "Test set accuracy (Precision@1) = 0.6317943322109989\n",
      "Epoch 92 Iteration 0: Loss = 0.2903807461261749\n"
     ]
    },
    {
     "name": "stderr",
     "output_type": "stream",
     "text": [
      "100%|█████████████████████████████████████████████████████████████████████████████████████████████████████| 266/266 [00:13<00:00, 19.44it/s]\n",
      "100%|███████████████████████████████████████████████████████████████████████████████████████████████████████| 67/67 [00:03<00:00, 19.66it/s]\n"
     ]
    },
    {
     "name": "stdout",
     "output_type": "stream",
     "text": [
      "Computing accuracy\n",
      "Test set accuracy (Precision@1) = 0.6258179012345678\n",
      "Epoch 93 Iteration 0: Loss = 0.3797526955604553\n"
     ]
    },
    {
     "name": "stderr",
     "output_type": "stream",
     "text": [
      "100%|█████████████████████████████████████████████████████████████████████████████████████████████████████| 266/266 [00:13<00:00, 19.67it/s]\n",
      "100%|███████████████████████████████████████████████████████████████████████████████████████████████████████| 67/67 [00:03<00:00, 19.94it/s]\n"
     ]
    },
    {
     "name": "stdout",
     "output_type": "stream",
     "text": [
      "Computing accuracy\n",
      "Test set accuracy (Precision@1) = 0.6287808641975309\n",
      "Epoch 94 Iteration 0: Loss = 0.328777015209198\n"
     ]
    },
    {
     "name": "stderr",
     "output_type": "stream",
     "text": [
      "100%|█████████████████████████████████████████████████████████████████████████████████████████████████████| 266/266 [00:13<00:00, 19.64it/s]\n",
      "100%|███████████████████████████████████████████████████████████████████████████████████████████████████████| 67/67 [00:03<00:00, 19.79it/s]\n"
     ]
    },
    {
     "name": "stdout",
     "output_type": "stream",
     "text": [
      "Computing accuracy\n",
      "Test set accuracy (Precision@1) = 0.630189393939394\n",
      "Epoch 95 Iteration 0: Loss = 0.4014863073825836\n"
     ]
    },
    {
     "name": "stderr",
     "output_type": "stream",
     "text": [
      "100%|█████████████████████████████████████████████████████████████████████████████████████████████████████| 266/266 [00:13<00:00, 19.49it/s]\n",
      "100%|███████████████████████████████████████████████████████████████████████████████████████████████████████| 67/67 [00:03<00:00, 19.78it/s]\n"
     ]
    },
    {
     "name": "stdout",
     "output_type": "stream",
     "text": [
      "Computing accuracy\n",
      "Test set accuracy (Precision@1) = 0.6316203703703703\n",
      "Epoch 96 Iteration 0: Loss = 0.39372286200523376\n"
     ]
    },
    {
     "name": "stderr",
     "output_type": "stream",
     "text": [
      "100%|█████████████████████████████████████████████████████████████████████████████████████████████████████| 266/266 [00:13<00:00, 19.60it/s]\n",
      "100%|███████████████████████████████████████████████████████████████████████████████████████████████████████| 67/67 [00:03<00:00, 19.76it/s]\n"
     ]
    },
    {
     "name": "stdout",
     "output_type": "stream",
     "text": [
      "Computing accuracy\n",
      "Test set accuracy (Precision@1) = 0.6328745791245791\n",
      "Epoch 97 Iteration 0: Loss = 0.3445543646812439\n"
     ]
    },
    {
     "name": "stderr",
     "output_type": "stream",
     "text": [
      "100%|█████████████████████████████████████████████████████████████████████████████████████████████████████| 266/266 [00:13<00:00, 19.67it/s]\n",
      "100%|███████████████████████████████████████████████████████████████████████████████████████████████████████| 67/67 [00:03<00:00, 19.81it/s]\n"
     ]
    },
    {
     "name": "stdout",
     "output_type": "stream",
     "text": [
      "Computing accuracy\n",
      "Test set accuracy (Precision@1) = 0.6361307519640853\n",
      "Epoch 98 Iteration 0: Loss = 0.39320552349090576\n"
     ]
    },
    {
     "name": "stderr",
     "output_type": "stream",
     "text": [
      "100%|█████████████████████████████████████████████████████████████████████████████████████████████████████| 266/266 [00:13<00:00, 19.56it/s]\n",
      "100%|███████████████████████████████████████████████████████████████████████████████████████████████████████| 67/67 [00:03<00:00, 19.62it/s]\n"
     ]
    },
    {
     "name": "stdout",
     "output_type": "stream",
     "text": [
      "Computing accuracy\n",
      "Test set accuracy (Precision@1) = 0.636496913580247\n",
      "Epoch 99 Iteration 0: Loss = 0.3411232531070709\n"
     ]
    },
    {
     "name": "stderr",
     "output_type": "stream",
     "text": [
      "100%|█████████████████████████████████████████████████████████████████████████████████████████████████████| 266/266 [00:13<00:00, 19.58it/s]\n",
      "100%|███████████████████████████████████████████████████████████████████████████████████████████████████████| 67/67 [00:03<00:00, 19.78it/s]\n"
     ]
    },
    {
     "name": "stdout",
     "output_type": "stream",
     "text": [
      "Computing accuracy\n",
      "Test set accuracy (Precision@1) = 0.6379278900112234\n",
      "Epoch 100 Iteration 0: Loss = 0.35075050592422485\n"
     ]
    },
    {
     "name": "stderr",
     "output_type": "stream",
     "text": [
      "100%|█████████████████████████████████████████████████████████████████████████████████████████████████████| 266/266 [00:13<00:00, 19.63it/s]\n",
      "100%|███████████████████████████████████████████████████████████████████████████████████████████████████████| 67/67 [00:03<00:00, 19.66it/s]"
     ]
    },
    {
     "name": "stdout",
     "output_type": "stream",
     "text": [
      "Computing accuracy\n",
      "Test set accuracy (Precision@1) = 0.6337654320987655\n"
     ]
    },
    {
     "name": "stderr",
     "output_type": "stream",
     "text": [
      "\n"
     ]
    }
   ],
   "source": [
    "#total_loss = []\n",
    "#total_acc = []\n",
    "for epoch in range(1, num_epochs + 1):\n",
    "    train_loss = train(model, loss_func,mining_func, device, train_loader, optimizer, epoch)\n",
    "    #total_loss.extend(train_loss)\n",
    "    test_acc = test(train_dataset, test_dataset, model, accuracy_calculator)\n",
    "    #total_acc.append(test_acc)\n",
    "    wandb.log({\"test_accuracy2\": test_acc, \"train_loss2\": train_loss,\"epoch\": epoch})"
   ]
  },
  {
   "cell_type": "code",
   "execution_count": 53,
   "id": "440edbeb-80f8-42ec-9547-7bf913aa64b2",
   "metadata": {},
   "outputs": [],
   "source": [
    "torch.save(model,'models/cub_triplet_loss_epshn_resnet18_sgd_180.pth')"
   ]
  },
  {
   "cell_type": "code",
   "execution_count": 15,
   "id": "b87a601f-653d-483c-9109-0fcb36ea70eb",
   "metadata": {},
   "outputs": [],
   "source": [
    "model = torch.load('models/cub_triplet_loss_epshn_resnet18_sgd_180.pth')"
   ]
  },
  {
   "cell_type": "code",
   "execution_count": 16,
   "id": "1ae29c0e-7b43-4364-a8b8-fcd403a56cbc",
   "metadata": {
    "scrolled": true
   },
   "outputs": [
    {
     "data": {
      "text/plain": [
       "ResNetFeatrueExtractor18(\n",
       "  (conv1): Conv2d(3, 64, kernel_size=(7, 7), stride=(2, 2), padding=(3, 3), bias=False)\n",
       "  (bn1): BatchNorm2d(64, eps=1e-05, momentum=0.1, affine=True, track_running_stats=True)\n",
       "  (relu): ReLU(inplace=True)\n",
       "  (maxpool): MaxPool2d(kernel_size=3, stride=2, padding=1, dilation=1, ceil_mode=False)\n",
       "  (layer1): Sequential(\n",
       "    (0): BasicBlock(\n",
       "      (conv1): Conv2d(64, 64, kernel_size=(3, 3), stride=(1, 1), padding=(1, 1), bias=False)\n",
       "      (bn1): BatchNorm2d(64, eps=1e-05, momentum=0.1, affine=True, track_running_stats=True)\n",
       "      (relu): ReLU(inplace=True)\n",
       "      (conv2): Conv2d(64, 64, kernel_size=(3, 3), stride=(1, 1), padding=(1, 1), bias=False)\n",
       "      (bn2): BatchNorm2d(64, eps=1e-05, momentum=0.1, affine=True, track_running_stats=True)\n",
       "    )\n",
       "    (1): BasicBlock(\n",
       "      (conv1): Conv2d(64, 64, kernel_size=(3, 3), stride=(1, 1), padding=(1, 1), bias=False)\n",
       "      (bn1): BatchNorm2d(64, eps=1e-05, momentum=0.1, affine=True, track_running_stats=True)\n",
       "      (relu): ReLU(inplace=True)\n",
       "      (conv2): Conv2d(64, 64, kernel_size=(3, 3), stride=(1, 1), padding=(1, 1), bias=False)\n",
       "      (bn2): BatchNorm2d(64, eps=1e-05, momentum=0.1, affine=True, track_running_stats=True)\n",
       "    )\n",
       "  )\n",
       "  (layer2): Sequential(\n",
       "    (0): BasicBlock(\n",
       "      (conv1): Conv2d(64, 128, kernel_size=(3, 3), stride=(2, 2), padding=(1, 1), bias=False)\n",
       "      (bn1): BatchNorm2d(128, eps=1e-05, momentum=0.1, affine=True, track_running_stats=True)\n",
       "      (relu): ReLU(inplace=True)\n",
       "      (conv2): Conv2d(128, 128, kernel_size=(3, 3), stride=(1, 1), padding=(1, 1), bias=False)\n",
       "      (bn2): BatchNorm2d(128, eps=1e-05, momentum=0.1, affine=True, track_running_stats=True)\n",
       "      (downsample): Sequential(\n",
       "        (0): Conv2d(64, 128, kernel_size=(1, 1), stride=(2, 2), bias=False)\n",
       "        (1): BatchNorm2d(128, eps=1e-05, momentum=0.1, affine=True, track_running_stats=True)\n",
       "      )\n",
       "    )\n",
       "    (1): BasicBlock(\n",
       "      (conv1): Conv2d(128, 128, kernel_size=(3, 3), stride=(1, 1), padding=(1, 1), bias=False)\n",
       "      (bn1): BatchNorm2d(128, eps=1e-05, momentum=0.1, affine=True, track_running_stats=True)\n",
       "      (relu): ReLU(inplace=True)\n",
       "      (conv2): Conv2d(128, 128, kernel_size=(3, 3), stride=(1, 1), padding=(1, 1), bias=False)\n",
       "      (bn2): BatchNorm2d(128, eps=1e-05, momentum=0.1, affine=True, track_running_stats=True)\n",
       "    )\n",
       "  )\n",
       "  (layer3): Sequential(\n",
       "    (0): BasicBlock(\n",
       "      (conv1): Conv2d(128, 256, kernel_size=(3, 3), stride=(2, 2), padding=(1, 1), bias=False)\n",
       "      (bn1): BatchNorm2d(256, eps=1e-05, momentum=0.1, affine=True, track_running_stats=True)\n",
       "      (relu): ReLU(inplace=True)\n",
       "      (conv2): Conv2d(256, 256, kernel_size=(3, 3), stride=(1, 1), padding=(1, 1), bias=False)\n",
       "      (bn2): BatchNorm2d(256, eps=1e-05, momentum=0.1, affine=True, track_running_stats=True)\n",
       "      (downsample): Sequential(\n",
       "        (0): Conv2d(128, 256, kernel_size=(1, 1), stride=(2, 2), bias=False)\n",
       "        (1): BatchNorm2d(256, eps=1e-05, momentum=0.1, affine=True, track_running_stats=True)\n",
       "      )\n",
       "    )\n",
       "    (1): BasicBlock(\n",
       "      (conv1): Conv2d(256, 256, kernel_size=(3, 3), stride=(1, 1), padding=(1, 1), bias=False)\n",
       "      (bn1): BatchNorm2d(256, eps=1e-05, momentum=0.1, affine=True, track_running_stats=True)\n",
       "      (relu): ReLU(inplace=True)\n",
       "      (conv2): Conv2d(256, 256, kernel_size=(3, 3), stride=(1, 1), padding=(1, 1), bias=False)\n",
       "      (bn2): BatchNorm2d(256, eps=1e-05, momentum=0.1, affine=True, track_running_stats=True)\n",
       "    )\n",
       "  )\n",
       "  (layer4): Sequential(\n",
       "    (0): BasicBlock(\n",
       "      (conv1): Conv2d(256, 512, kernel_size=(3, 3), stride=(2, 2), padding=(1, 1), bias=False)\n",
       "      (bn1): BatchNorm2d(512, eps=1e-05, momentum=0.1, affine=True, track_running_stats=True)\n",
       "      (relu): ReLU(inplace=True)\n",
       "      (conv2): Conv2d(512, 512, kernel_size=(3, 3), stride=(1, 1), padding=(1, 1), bias=False)\n",
       "      (bn2): BatchNorm2d(512, eps=1e-05, momentum=0.1, affine=True, track_running_stats=True)\n",
       "      (downsample): Sequential(\n",
       "        (0): Conv2d(256, 512, kernel_size=(1, 1), stride=(2, 2), bias=False)\n",
       "        (1): BatchNorm2d(512, eps=1e-05, momentum=0.1, affine=True, track_running_stats=True)\n",
       "      )\n",
       "    )\n",
       "    (1): BasicBlock(\n",
       "      (conv1): Conv2d(512, 512, kernel_size=(3, 3), stride=(1, 1), padding=(1, 1), bias=False)\n",
       "      (bn1): BatchNorm2d(512, eps=1e-05, momentum=0.1, affine=True, track_running_stats=True)\n",
       "      (relu): ReLU(inplace=True)\n",
       "      (conv2): Conv2d(512, 512, kernel_size=(3, 3), stride=(1, 1), padding=(1, 1), bias=False)\n",
       "      (bn2): BatchNorm2d(512, eps=1e-05, momentum=0.1, affine=True, track_running_stats=True)\n",
       "    )\n",
       "  )\n",
       "  (avgpool): AdaptiveAvgPool2d(output_size=(1, 1))\n",
       "  (fc1): Linear(in_features=512, out_features=128, bias=True)\n",
       ")"
      ]
     },
     "execution_count": 16,
     "metadata": {},
     "output_type": "execute_result"
    }
   ],
   "source": [
    "model.eval()"
   ]
  },
  {
   "cell_type": "code",
   "execution_count": 17,
   "id": "9baeaa00-0932-4952-9620-b49a1de77f88",
   "metadata": {},
   "outputs": [],
   "source": [
    "image_paths = []\n",
    "labels = []\n",
    "for folder_path,i in class_dict.items():\n",
    "    folder_images = glob.glob('CUB_200_2011/images/'+'/'+str(folder_path)+'/*')\n",
    "    image_paths.extend(folder_images)\n",
    "    labels.extend([i]*len(folder_images))"
   ]
  },
  {
   "cell_type": "code",
   "execution_count": 18,
   "id": "ba1ed4c4-806c-4b70-a1f1-fd61510cc52b",
   "metadata": {},
   "outputs": [],
   "source": [
    "from sklearn.model_selection import train_test_split\n",
    "X_train, X_test, y_train, y_test = train_test_split(image_paths, labels, test_size=config['train_test_split'],\n",
    "                                                    stratify=labels,\n",
    "                                                    random_state=config['random_seed'])"
   ]
  },
  {
   "cell_type": "code",
   "execution_count": 21,
   "id": "0df461d6-47c4-4213-8e78-aba9f59d0648",
   "metadata": {},
   "outputs": [],
   "source": [
    "train_dataset  = CUBDataset(X_train,y_train,transform)\n",
    "test_dataset  = CUBDataset(X_test,y_test,transform)"
   ]
  },
  {
   "cell_type": "code",
   "execution_count": 22,
   "id": "fba86090-7819-434c-af9f-28c001b83ad1",
   "metadata": {},
   "outputs": [
    {
     "name": "stderr",
     "output_type": "stream",
     "text": [
      "100%|█████████████████████████████████████████████████████████████████████████████████████████████████████| 295/295 [00:41<00:00,  7.15it/s]\n",
      "100%|███████████████████████████████████████████████████████████████████████████████████████████████████████| 74/74 [00:09<00:00,  7.57it/s]\n"
     ]
    }
   ],
   "source": [
    "train_embeddings, train_labels = get_all_embeddings(train_dataset, model)\n",
    "test_embeddings, test_labels = get_all_embeddings(test_dataset, model)\n",
    "train_labels = train_labels.squeeze(1)\n",
    "test_labels = test_labels.squeeze(1)"
   ]
  },
  {
   "cell_type": "code",
   "execution_count": 24,
   "id": "916a49c0-3c45-43d8-96d6-a5c84c7658b1",
   "metadata": {},
   "outputs": [],
   "source": [
    "knn_func = CustomKNN(CosineSimilarity())\n",
    "accuracy_calculator = AccuracyCalculator(include=(\"precision_at_1\",),k=1,knn_func=knn_func,avg_of_avgs=True,return_per_class=False)"
   ]
  },
  {
   "cell_type": "code",
   "execution_count": 28,
   "id": "d3f4c51f-4298-475f-bd91-c620cb17060a",
   "metadata": {
    "scrolled": true
   },
   "outputs": [
    {
     "name": "stdout",
     "output_type": "stream",
     "text": [
      "001.Black_footed_Albatross     test samples 12   , training samples 48   : 0.9166666666666666\n",
      "002.Laysan_Albatross           test samples 12   , training samples 48   : 0.75\n",
      "003.Sooty_Albatross            test samples 12   , training samples 46   : 0.5\n",
      "004.Groove_billed_Ani          test samples 12   , training samples 48   : 1.0\n",
      "005.Crested_Auklet             test samples 9    , training samples 35   : 0.7777777777777778\n",
      "006.Least_Auklet               test samples 8    , training samples 33   : 0.75\n",
      "007.Parakeet_Auklet            test samples 10   , training samples 43   : 0.9\n",
      "008.Rhinoceros_Auklet          test samples 9    , training samples 39   : 0.6666666666666666\n",
      "009.Brewer_Blackbird           test samples 12   , training samples 47   : 0.5\n",
      "010.Red_winged_Blackbird       test samples 12   , training samples 48   : 0.9166666666666666\n",
      "011.Rusty_Blackbird            test samples 12   , training samples 48   : 0.3333333333333333\n",
      "012.Yellow_headed_Blackbird    test samples 11   , training samples 45   : 0.9090909090909091\n",
      "013.Bobolink                   test samples 12   , training samples 48   : 0.6666666666666666\n",
      "014.Indigo_Bunting             test samples 12   , training samples 48   : 0.75\n",
      "015.Lazuli_Bunting             test samples 11   , training samples 47   : 0.45454545454545453\n",
      "016.Painted_Bunting            test samples 11   , training samples 47   : 0.6363636363636364\n",
      "017.Cardinal                   test samples 11   , training samples 46   : 0.7272727272727273\n",
      "018.Spotted_Catbird            test samples 9    , training samples 36   : 0.8888888888888888\n",
      "019.Gray_Catbird               test samples 12   , training samples 47   : 0.9166666666666666\n",
      "020.Yellow_breasted_Chat       test samples 12   , training samples 47   : 0.5833333333333334\n",
      "021.Eastern_Towhee             test samples 12   , training samples 48   : 0.5833333333333334\n",
      "022.Chuck_will_Widow           test samples 11   , training samples 45   : 0.45454545454545453\n",
      "023.Brandt_Cormorant           test samples 12   , training samples 47   : 0.4166666666666667\n",
      "024.Red_faced_Cormorant        test samples 10   , training samples 42   : 0.8\n",
      "025.Pelagic_Cormorant          test samples 12   , training samples 48   : 0.16666666666666666\n",
      "026.Bronzed_Cowbird            test samples 12   , training samples 48   : 0.6666666666666666\n",
      "027.Shiny_Cowbird              test samples 12   , training samples 48   : 0.16666666666666666\n",
      "028.Brown_Creeper              test samples 12   , training samples 47   : 0.9166666666666666\n",
      "029.American_Crow              test samples 12   , training samples 48   : 0.25\n",
      "030.Fish_Crow                  test samples 12   , training samples 48   : 0.4166666666666667\n",
      "031.Black_billed_Cuckoo        test samples 12   , training samples 48   : 0.75\n",
      "032.Mangrove_Cuckoo            test samples 10   , training samples 43   : 0.5\n",
      "033.Yellow_billed_Cuckoo       test samples 12   , training samples 47   : 0.5833333333333334\n",
      "034.Gray_crowned_Rosy_Finch    test samples 12   , training samples 47   : 0.75\n",
      "035.Purple_Finch               test samples 12   , training samples 48   : 0.9166666666666666\n",
      "036.Northern_Flicker           test samples 12   , training samples 48   : 0.5833333333333334\n",
      "037.Acadian_Flycatcher         test samples 12   , training samples 47   : 0.4166666666666667\n",
      "038.Great_Crested_Flycatcher   test samples 12   , training samples 48   : 0.5833333333333334\n",
      "039.Least_Flycatcher           test samples 12   , training samples 47   : 0.25\n",
      "040.Olive_sided_Flycatcher     test samples 12   , training samples 48   : 0.4166666666666667\n",
      "041.Scissor_tailed_Flycatcher  test samples 12   , training samples 48   : 0.75\n",
      "042.Vermilion_Flycatcher       test samples 12   , training samples 48   : 0.9166666666666666\n",
      "043.Yellow_bellied_Flycatcher  test samples 12   , training samples 47   : 0.08333333333333333\n",
      "044.Frigatebird                test samples 12   , training samples 48   : 0.6666666666666666\n",
      "045.Northern_Fulmar            test samples 12   , training samples 48   : 0.5833333333333334\n",
      "046.Gadwall                    test samples 12   , training samples 48   : 0.75\n",
      "047.American_Goldfinch         test samples 12   , training samples 48   : 0.6666666666666666\n",
      "048.European_Goldfinch         test samples 12   , training samples 48   : 0.9166666666666666\n",
      "049.Boat_tailed_Grackle        test samples 12   , training samples 48   : 0.3333333333333333\n",
      "050.Eared_Grebe                test samples 12   , training samples 48   : 0.5\n",
      "051.Horned_Grebe               test samples 12   , training samples 48   : 0.6666666666666666\n",
      "052.Pied_billed_Grebe          test samples 12   , training samples 48   : 0.8333333333333334\n",
      "053.Western_Grebe              test samples 12   , training samples 48   : 0.75\n",
      "054.Blue_Grosbeak              test samples 12   , training samples 48   : 0.5833333333333334\n",
      "055.Evening_Grosbeak           test samples 12   , training samples 48   : 0.9166666666666666\n",
      "056.Pine_Grosbeak              test samples 12   , training samples 48   : 0.5833333333333334\n",
      "057.Rose_breasted_Grosbeak     test samples 12   , training samples 48   : 0.9166666666666666\n",
      "058.Pigeon_Guillemot           test samples 12   , training samples 46   : 0.8333333333333334\n",
      "059.California_Gull            test samples 12   , training samples 48   : 0.5833333333333334\n",
      "060.Glaucous_winged_Gull       test samples 12   , training samples 47   : 0.16666666666666666\n",
      "061.Heermann_Gull              test samples 12   , training samples 48   : 0.9166666666666666\n",
      "062.Herring_Gull               test samples 12   , training samples 48   : 0.08333333333333333\n",
      "063.Ivory_Gull                 test samples 12   , training samples 48   : 0.9166666666666666\n",
      "064.Ring_billed_Gull           test samples 12   , training samples 48   : 0.16666666666666666\n",
      "065.Slaty_backed_Gull          test samples 10   , training samples 40   : 0.2\n",
      "066.Western_Gull               test samples 12   , training samples 48   : 0.4166666666666667\n",
      "067.Anna_Hummingbird           test samples 12   , training samples 48   : 0.25\n",
      "068.Ruby_throated_Hummingbird  test samples 12   , training samples 48   : 0.6666666666666666\n",
      "069.Rufous_Hummingbird         test samples 12   , training samples 48   : 0.75\n",
      "070.Green_Violetear            test samples 12   , training samples 48   : 0.9166666666666666\n",
      "071.Long_tailed_Jaeger         test samples 12   , training samples 48   : 0.25\n",
      "072.Pomarine_Jaeger            test samples 12   , training samples 48   : 0.25\n",
      "073.Blue_Jay                   test samples 12   , training samples 48   : 0.6666666666666666\n",
      "074.Florida_Jay                test samples 12   , training samples 48   : 0.6666666666666666\n",
      "075.Green_Jay                  test samples 11   , training samples 46   : 0.9090909090909091\n",
      "076.Dark_eyed_Junco            test samples 12   , training samples 48   : 0.8333333333333334\n",
      "077.Tropical_Kingbird          test samples 12   , training samples 48   : 0.75\n",
      "078.Gray_Kingbird              test samples 12   , training samples 47   : 0.3333333333333333\n",
      "079.Belted_Kingfisher          test samples 12   , training samples 48   : 0.5833333333333334\n",
      "080.Green_Kingfisher           test samples 12   , training samples 48   : 0.6666666666666666\n",
      "081.Pied_Kingfisher            test samples 12   , training samples 48   : 0.8333333333333334\n",
      "082.Ringed_Kingfisher          test samples 12   , training samples 48   : 0.75\n",
      "083.White_breasted_Kingfisher  test samples 12   , training samples 48   : 0.9166666666666666\n",
      "084.Red_legged_Kittiwake       test samples 10   , training samples 43   : 0.7\n",
      "085.Horned_Lark                test samples 12   , training samples 48   : 0.8333333333333334\n",
      "086.Pacific_Loon               test samples 12   , training samples 48   : 0.6666666666666666\n",
      "087.Mallard                    test samples 12   , training samples 48   : 0.9166666666666666\n",
      "088.Western_Meadowlark         test samples 12   , training samples 48   : 1.0\n",
      "089.Hooded_Merganser           test samples 12   , training samples 48   : 0.9166666666666666\n",
      "090.Red_breasted_Merganser     test samples 12   , training samples 48   : 0.8333333333333334\n",
      "091.Mockingbird                test samples 12   , training samples 48   : 0.3333333333333333\n",
      "092.Nighthawk                  test samples 12   , training samples 48   : 0.6666666666666666\n",
      "093.Clark_Nutcracker           test samples 12   , training samples 48   : 0.8333333333333334\n",
      "094.White_breasted_Nuthatch    test samples 12   , training samples 48   : 0.9166666666666666\n",
      "095.Baltimore_Oriole           test samples 12   , training samples 48   : 0.75\n",
      "096.Hooded_Oriole              test samples 12   , training samples 48   : 0.8333333333333334\n",
      "097.Orchard_Oriole             test samples 12   , training samples 47   : 0.5\n",
      "098.Scott_Oriole               test samples 12   , training samples 48   : 0.8333333333333334\n",
      "099.Ovenbird                   test samples 12   , training samples 48   : 0.6666666666666666\n",
      "100.Brown_Pelican              test samples 12   , training samples 48   : 1.0\n",
      "101.White_Pelican              test samples 10   , training samples 40   : 0.8\n",
      "102.Western_Wood_Pewee         test samples 12   , training samples 48   : 0.16666666666666666\n",
      "103.Sayornis                   test samples 12   , training samples 48   : 0.3333333333333333\n",
      "104.American_Pipit             test samples 12   , training samples 48   : 0.4166666666666667\n",
      "105.Whip_poor_Will             test samples 10   , training samples 39   : 0.4\n",
      "106.Horned_Puffin              test samples 12   , training samples 48   : 0.75\n",
      "107.Common_Raven               test samples 12   , training samples 47   : 0.4166666666666667\n",
      "108.White_necked_Raven         test samples 12   , training samples 48   : 0.3333333333333333\n",
      "109.American_Redstart          test samples 12   , training samples 48   : 1.0\n",
      "110.Geococcyx                  test samples 12   , training samples 48   : 0.8333333333333334\n",
      "111.Loggerhead_Shrike          test samples 12   , training samples 48   : 0.75\n",
      "112.Great_Grey_Shrike          test samples 12   , training samples 48   : 0.5833333333333334\n",
      "113.Baird_Sparrow              test samples 10   , training samples 40   : 0.6\n",
      "114.Black_throated_Sparrow     test samples 12   , training samples 48   : 0.6666666666666666\n",
      "115.Brewer_Sparrow             test samples 12   , training samples 47   : 0.5\n",
      "116.Chipping_Sparrow           test samples 12   , training samples 48   : 0.5\n",
      "117.Clay_colored_Sparrow       test samples 12   , training samples 47   : 0.75\n",
      "118.House_Sparrow              test samples 12   , training samples 48   : 0.4166666666666667\n",
      "119.Field_Sparrow              test samples 12   , training samples 47   : 0.3333333333333333\n",
      "120.Fox_Sparrow                test samples 12   , training samples 48   : 0.5833333333333334\n",
      "121.Grasshopper_Sparrow        test samples 12   , training samples 48   : 0.25\n",
      "122.Harris_Sparrow             test samples 12   , training samples 48   : 0.5\n",
      "123.Henslow_Sparrow            test samples 12   , training samples 48   : 0.5\n",
      "124.Le_Conte_Sparrow           test samples 12   , training samples 47   : 0.4166666666666667\n",
      "125.Lincoln_Sparrow            test samples 12   , training samples 47   : 0.3333333333333333\n",
      "126.Nelson_Sharp_tailed_Sparrow test samples 12   , training samples 47   : 0.8333333333333334\n",
      "127.Savannah_Sparrow           test samples 12   , training samples 48   : 0.5\n",
      "128.Seaside_Sparrow            test samples 12   , training samples 48   : 0.75\n",
      "129.Song_Sparrow               test samples 12   , training samples 48   : 0.3333333333333333\n",
      "130.Tree_Sparrow               test samples 12   , training samples 48   : 0.4166666666666667\n",
      "131.Vesper_Sparrow             test samples 12   , training samples 48   : 0.5833333333333334\n",
      "132.White_crowned_Sparrow      test samples 12   , training samples 48   : 0.6666666666666666\n",
      "133.White_throated_Sparrow     test samples 12   , training samples 48   : 0.6666666666666666\n",
      "134.Cape_Glossy_Starling       test samples 12   , training samples 48   : 0.8333333333333334\n",
      "135.Bank_Swallow               test samples 12   , training samples 47   : 0.5833333333333334\n",
      "136.Barn_Swallow               test samples 12   , training samples 48   : 0.9166666666666666\n",
      "137.Cliff_Swallow              test samples 12   , training samples 48   : 0.16666666666666666\n",
      "138.Tree_Swallow               test samples 12   , training samples 48   : 0.75\n",
      "139.Scarlet_Tanager            test samples 12   , training samples 48   : 0.8333333333333334\n",
      "140.Summer_Tanager             test samples 12   , training samples 48   : 0.9166666666666666\n",
      "141.Artic_Tern                 test samples 11   , training samples 47   : 0.9090909090909091\n",
      "142.Black_Tern                 test samples 12   , training samples 48   : 0.25\n",
      "143.Caspian_Tern               test samples 12   , training samples 48   : 0.16666666666666666\n",
      "144.Common_Tern                test samples 12   , training samples 48   : 0.5\n",
      "145.Elegant_Tern               test samples 12   , training samples 48   : 0.5\n",
      "146.Forsters_Tern              test samples 12   , training samples 48   : 0.5\n",
      "147.Least_Tern                 test samples 12   , training samples 48   : 0.8333333333333334\n",
      "148.Green_tailed_Towhee        test samples 12   , training samples 48   : 0.8333333333333334\n",
      "149.Brown_Thrasher             test samples 12   , training samples 47   : 0.5\n",
      "150.Sage_Thrasher              test samples 12   , training samples 48   : 0.4166666666666667\n",
      "151.Black_capped_Vireo         test samples 10   , training samples 41   : 0.5\n",
      "152.Blue_headed_Vireo          test samples 12   , training samples 48   : 0.6666666666666666\n",
      "153.Philadelphia_Vireo         test samples 12   , training samples 47   : 0.5\n",
      "154.Red_eyed_Vireo             test samples 12   , training samples 48   : 0.6666666666666666\n",
      "155.Warbling_Vireo             test samples 12   , training samples 48   : 0.3333333333333333\n",
      "156.White_eyed_Vireo           test samples 12   , training samples 48   : 0.5833333333333334\n",
      "157.Yellow_throated_Vireo      test samples 12   , training samples 47   : 0.5\n",
      "158.Bay_breasted_Warbler       test samples 12   , training samples 48   : 0.8333333333333334\n",
      "159.Black_and_white_Warbler    test samples 12   , training samples 48   : 0.9166666666666666\n",
      "160.Black_throated_Blue_Warbler test samples 12   , training samples 47   : 0.6666666666666666\n",
      "161.Blue_winged_Warbler        test samples 12   , training samples 48   : 0.5833333333333334\n",
      "162.Canada_Warbler             test samples 12   , training samples 48   : 0.3333333333333333\n",
      "163.Cape_May_Warbler           test samples 12   , training samples 48   : 0.9166666666666666\n",
      "164.Cerulean_Warbler           test samples 12   , training samples 48   : 1.0\n",
      "165.Chestnut_sided_Warbler     test samples 12   , training samples 48   : 0.6666666666666666\n",
      "166.Golden_winged_Warbler      test samples 12   , training samples 47   : 0.6666666666666666\n",
      "167.Hooded_Warbler             test samples 12   , training samples 48   : 0.5833333333333334\n",
      "168.Kentucky_Warbler           test samples 12   , training samples 47   : 0.8333333333333334\n",
      "169.Magnolia_Warbler           test samples 12   , training samples 47   : 0.8333333333333334\n",
      "170.Mourning_Warbler           test samples 12   , training samples 48   : 0.9166666666666666\n",
      "171.Myrtle_Warbler             test samples 12   , training samples 48   : 0.6666666666666666\n",
      "172.Nashville_Warbler          test samples 12   , training samples 48   : 0.5\n",
      "173.Orange_crowned_Warbler     test samples 12   , training samples 48   : 0.6666666666666666\n",
      "174.Palm_Warbler               test samples 12   , training samples 48   : 0.5\n",
      "175.Pine_Warbler               test samples 12   , training samples 48   : 0.5\n",
      "176.Prairie_Warbler            test samples 12   , training samples 48   : 0.8333333333333334\n",
      "177.Prothonotary_Warbler       test samples 12   , training samples 48   : 0.9166666666666666\n",
      "178.Swainson_Warbler           test samples 11   , training samples 45   : 0.6363636363636364\n",
      "179.Tennessee_Warbler          test samples 12   , training samples 47   : 0.4166666666666667\n",
      "180.Wilson_Warbler             test samples 12   , training samples 48   : 0.8333333333333334\n",
      "181.Worm_eating_Warbler        test samples 12   , training samples 47   : 0.5\n",
      "182.Yellow_Warbler             test samples 12   , training samples 48   : 0.5833333333333334\n",
      "183.Northern_Waterthrush       test samples 12   , training samples 48   : 0.3333333333333333\n",
      "184.Louisiana_Waterthrush      test samples 12   , training samples 48   : 0.25\n",
      "185.Bohemian_Waxwing           test samples 12   , training samples 48   : 0.6666666666666666\n",
      "186.Cedar_Waxwing              test samples 12   , training samples 48   : 0.75\n",
      "187.American_Three_toed_Woodpecker test samples 10   , training samples 40   : 0.6\n",
      "188.Pileated_Woodpecker        test samples 12   , training samples 48   : 0.8333333333333334\n",
      "189.Red_bellied_Woodpecker     test samples 12   , training samples 48   : 1.0\n",
      "190.Red_cockaded_Woodpecker    test samples 11   , training samples 47   : 0.8181818181818182\n",
      "191.Red_headed_Woodpecker      test samples 12   , training samples 48   : 0.8333333333333334\n",
      "192.Downy_Woodpecker           test samples 12   , training samples 48   : 0.9166666666666666\n",
      "193.Bewick_Wren                test samples 12   , training samples 48   : 0.16666666666666666\n",
      "194.Cactus_Wren                test samples 12   , training samples 48   : 0.5\n",
      "195.Carolina_Wren              test samples 12   , training samples 48   : 0.8333333333333334\n",
      "196.House_Wren                 test samples 12   , training samples 47   : 0.16666666666666666\n",
      "197.Marsh_Wren                 test samples 12   , training samples 48   : 0.0\n",
      "198.Rock_Wren                  test samples 12   , training samples 48   : 0.6666666666666666\n",
      "199.Winter_Wren                test samples 12   , training samples 48   : 0.75\n",
      "200.Common_Yellowthroat        test samples 12   , training samples 48   : 0.6666666666666666\n"
     ]
    }
   ],
   "source": [
    "acc_dict2 = {}\n",
    "for i in test_labels.unique():\n",
    "    new_labels = test_labels[test_labels==i]\n",
    "    new_embeddings = test_embeddings[test_labels==i]\n",
    "    accuracies = accuracy_calculator.get_accuracy(\n",
    "        new_embeddings, new_labels, train_embeddings, train_labels, False\n",
    "    )\n",
    "    acc_dict2[data_dict[int(i.detach().cpu().numpy())]]=[ \n",
    "                  len(new_labels),\n",
    "                  len(train_labels[train_labels==i]),\n",
    "                  accuracies[\"precision_at_1\"]]\n",
    "    print(\"{:<30} test samples {:<5}, training samples {:<5}: {}\".format(data_dict[int(i.detach().cpu().numpy())],\n",
    "                                                                  len(new_labels),\n",
    "                                                                  len(train_labels[train_labels==i]),\n",
    "                                                                  accuracies[\"precision_at_1\"]))"
   ]
  },
  {
   "cell_type": "code",
   "execution_count": 29,
   "id": "a4b11cdb-01fc-426d-8708-aa4bd126db7c",
   "metadata": {},
   "outputs": [],
   "source": [
    "all_table = [[k]+v for k,v in acc_dict2.items()]\n",
    "columns = [\"class_name\", \"no. of test samples\", \"no. of train samples\", \"precision@1\"]\n",
    "train_table = wandb.Table(data=all_table, columns=columns)\n",
    "run.log({\"limited_classes_metrics\": train_table})"
   ]
  },
  {
   "cell_type": "code",
   "execution_count": 61,
   "id": "45d49f8e-987f-46c7-a2da-c8fe3b6c29c8",
   "metadata": {},
   "outputs": [
    {
     "name": "stderr",
     "output_type": "stream",
     "text": [
      "100%|█████████████████████████████████████████████████████████████████████████████████████████████████████| 295/295 [00:15<00:00, 19.38it/s]\n",
      "100%|███████████████████████████████████████████████████████████████████████████████████████████████████████| 74/74 [00:03<00:00, 19.45it/s]\n"
     ]
    }
   ],
   "source": [
    "train_embeddings, train_labels = get_all_embeddings(train_dataset, model)\n",
    "test_embeddings, test_labels = get_all_embeddings(test_dataset, model)\n",
    "train_labels = train_labels.squeeze(1)\n",
    "test_labels = test_labels.squeeze(1)"
   ]
  },
  {
   "cell_type": "code",
   "execution_count": 30,
   "id": "da619f84-3f14-4f62-95e1-09970154fd4c",
   "metadata": {},
   "outputs": [],
   "source": [
    "import faiss\n",
    "# Create a Faiss index\n",
    "index = faiss.IndexFlatIP(128)\n",
    "# Add some vectors to the index\n",
    "index.add(train_embeddings.detach().cpu().numpy())"
   ]
  },
  {
   "cell_type": "code",
   "execution_count": 31,
   "id": "1ee1a034-2fb6-4c8a-83a6-5dd028770c4d",
   "metadata": {},
   "outputs": [],
   "source": [
    "pred_labels = [] \n",
    "for embedding,label in zip(test_embeddings.detach().cpu().numpy(),test_labels):\n",
    "    distances, indices = index.search(embedding.reshape(1,-1).astype(np.float32), 2)\n",
    "    pred_class = train_labels[indices[0][1]]\n",
    "    pred_labels.append(pred_class)"
   ]
  },
  {
   "cell_type": "code",
   "execution_count": 32,
   "id": "7648e35a-de8c-42cc-aa9d-19fea3acdfcb",
   "metadata": {},
   "outputs": [],
   "source": [
    "pred_labels = [i.detach().cpu().numpy() for i in pred_labels]"
   ]
  },
  {
   "cell_type": "code",
   "execution_count": 33,
   "id": "0fd4ff45-4722-456e-81c0-c7a2cb8e31c7",
   "metadata": {
    "scrolled": true
   },
   "outputs": [
    {
     "name": "stdout",
     "output_type": "stream",
     "text": [
      "                                    precision    recall  f1-score   support\n",
      "\n",
      "        001.Black_footed_Albatross       0.45      0.83      0.59        12\n",
      "              002.Laysan_Albatross       0.73      0.67      0.70        12\n",
      "               003.Sooty_Albatross       0.31      0.42      0.36        12\n",
      "             004.Groove_billed_Ani       0.50      0.92      0.65        12\n",
      "                005.Crested_Auklet       0.90      1.00      0.95         9\n",
      "                  006.Least_Auklet       1.00      0.88      0.93         8\n",
      "               007.Parakeet_Auklet       0.69      0.90      0.78        10\n",
      "             008.Rhinoceros_Auklet       0.70      0.78      0.74         9\n",
      "              009.Brewer_Blackbird       0.20      0.25      0.22        12\n",
      "          010.Red_winged_Blackbird       1.00      0.92      0.96        12\n",
      "               011.Rusty_Blackbird       0.42      0.42      0.42        12\n",
      "       012.Yellow_headed_Blackbird       1.00      0.91      0.95        11\n",
      "                      013.Bobolink       0.78      0.58      0.67        12\n",
      "                014.Indigo_Bunting       0.55      0.92      0.69        12\n",
      "                015.Lazuli_Bunting       1.00      0.64      0.78        11\n",
      "               016.Painted_Bunting       0.78      0.64      0.70        11\n",
      "                      017.Cardinal       0.70      0.64      0.67        11\n",
      "               018.Spotted_Catbird       0.78      0.78      0.78         9\n",
      "                  019.Gray_Catbird       0.53      0.75      0.62        12\n",
      "          020.Yellow_breasted_Chat       0.45      0.42      0.43        12\n",
      "                021.Eastern_Towhee       0.64      0.58      0.61        12\n",
      "              022.Chuck_will_Widow       0.42      0.45      0.43        11\n",
      "              023.Brandt_Cormorant       0.57      0.33      0.42        12\n",
      "           024.Red_faced_Cormorant       0.80      0.80      0.80        10\n",
      "             025.Pelagic_Cormorant       0.42      0.42      0.42        12\n",
      "               026.Bronzed_Cowbird       0.82      0.75      0.78        12\n",
      "                 027.Shiny_Cowbird       0.22      0.17      0.19        12\n",
      "                 028.Brown_Creeper       0.77      0.83      0.80        12\n",
      "                 029.American_Crow       0.21      0.33      0.26        12\n",
      "                     030.Fish_Crow       0.17      0.08      0.11        12\n",
      "           031.Black_billed_Cuckoo       0.38      0.42      0.40        12\n",
      "               032.Mangrove_Cuckoo       0.62      0.50      0.56        10\n",
      "          033.Yellow_billed_Cuckoo       0.31      0.33      0.32        12\n",
      "       034.Gray_crowned_Rosy_Finch       0.88      0.58      0.70        12\n",
      "                  035.Purple_Finch       0.90      0.75      0.82        12\n",
      "              036.Northern_Flicker       1.00      0.50      0.67        12\n",
      "            037.Acadian_Flycatcher       0.30      0.25      0.27        12\n",
      "      038.Great_Crested_Flycatcher       0.50      0.42      0.45        12\n",
      "              039.Least_Flycatcher       0.08      0.08      0.08        12\n",
      "        040.Olive_sided_Flycatcher       0.43      0.25      0.32        12\n",
      "     041.Scissor_tailed_Flycatcher       0.89      0.67      0.76        12\n",
      "          042.Vermilion_Flycatcher       0.80      0.67      0.73        12\n",
      "     043.Yellow_bellied_Flycatcher       0.50      0.42      0.45        12\n",
      "                   044.Frigatebird       0.78      0.58      0.67        12\n",
      "               045.Northern_Fulmar       0.56      0.42      0.48        12\n",
      "                       046.Gadwall       0.75      0.75      0.75        12\n",
      "            047.American_Goldfinch       0.69      0.75      0.72        12\n",
      "            048.European_Goldfinch       0.85      0.92      0.88        12\n",
      "           049.Boat_tailed_Grackle       0.30      0.25      0.27        12\n",
      "                   050.Eared_Grebe       0.42      0.42      0.42        12\n",
      "                  051.Horned_Grebe       0.56      0.75      0.64        12\n",
      "             052.Pied_billed_Grebe       0.62      0.83      0.71        12\n",
      "                 053.Western_Grebe       0.92      1.00      0.96        12\n",
      "                 054.Blue_Grosbeak       0.83      0.42      0.56        12\n",
      "              055.Evening_Grosbeak       0.92      0.92      0.92        12\n",
      "                 056.Pine_Grosbeak       0.50      0.67      0.57        12\n",
      "        057.Rose_breasted_Grosbeak       1.00      0.92      0.96        12\n",
      "              058.Pigeon_Guillemot       0.78      0.58      0.67        12\n",
      "               059.California_Gull       0.18      0.25      0.21        12\n",
      "          060.Glaucous_winged_Gull       0.17      0.17      0.17        12\n",
      "                 061.Heermann_Gull       0.83      0.83      0.83        12\n",
      "                  062.Herring_Gull       0.33      0.25      0.29        12\n",
      "                    063.Ivory_Gull       0.91      0.83      0.87        12\n",
      "              064.Ring_billed_Gull       0.50      0.50      0.50        12\n",
      "             065.Slaty_backed_Gull       0.17      0.10      0.12        10\n",
      "                  066.Western_Gull       0.38      0.50      0.43        12\n",
      "              067.Anna_Hummingbird       0.67      0.50      0.57        12\n",
      "     068.Ruby_throated_Hummingbird       0.62      0.67      0.64        12\n",
      "            069.Rufous_Hummingbird       0.50      0.75      0.60        12\n",
      "               070.Green_Violetear       0.79      0.92      0.85        12\n",
      "            071.Long_tailed_Jaeger       0.33      0.25      0.29        12\n",
      "               072.Pomarine_Jaeger       0.33      0.25      0.29        12\n",
      "                      073.Blue_Jay       1.00      0.75      0.86        12\n",
      "                   074.Florida_Jay       0.83      0.83      0.83        12\n",
      "                     075.Green_Jay       0.90      0.82      0.86        11\n",
      "               076.Dark_eyed_Junco       0.82      0.75      0.78        12\n",
      "             077.Tropical_Kingbird       0.83      0.83      0.83        12\n",
      "                 078.Gray_Kingbird       0.50      0.42      0.45        12\n",
      "             079.Belted_Kingfisher       0.60      0.50      0.55        12\n",
      "              080.Green_Kingfisher       0.64      0.58      0.61        12\n",
      "               081.Pied_Kingfisher       0.83      0.83      0.83        12\n",
      "             082.Ringed_Kingfisher       0.65      0.92      0.76        12\n",
      "     083.White_breasted_Kingfisher       0.91      0.83      0.87        12\n",
      "          084.Red_legged_Kittiwake       0.64      0.70      0.67        10\n",
      "                   085.Horned_Lark       0.90      0.75      0.82        12\n",
      "                  086.Pacific_Loon       0.58      0.58      0.58        12\n",
      "                       087.Mallard       0.92      0.92      0.92        12\n",
      "            088.Western_Meadowlark       0.92      0.92      0.92        12\n",
      "              089.Hooded_Merganser       0.77      0.83      0.80        12\n",
      "        090.Red_breasted_Merganser       0.92      1.00      0.96        12\n",
      "                   091.Mockingbird       0.25      0.17      0.20        12\n",
      "                     092.Nighthawk       0.60      0.75      0.67        12\n",
      "              093.Clark_Nutcracker       0.90      0.75      0.82        12\n",
      "       094.White_breasted_Nuthatch       0.92      0.92      0.92        12\n",
      "              095.Baltimore_Oriole       0.82      0.75      0.78        12\n",
      "                 096.Hooded_Oriole       0.53      0.67      0.59        12\n",
      "                097.Orchard_Oriole       0.50      0.42      0.45        12\n",
      "                  098.Scott_Oriole       0.73      0.92      0.81        12\n",
      "                      099.Ovenbird       0.73      0.67      0.70        12\n",
      "                 100.Brown_Pelican       0.92      0.92      0.92        12\n",
      "                 101.White_Pelican       0.89      0.80      0.84        10\n",
      "            102.Western_Wood_Pewee       0.11      0.17      0.13        12\n",
      "                      103.Sayornis       0.23      0.25      0.24        12\n",
      "                104.American_Pipit       0.46      0.50      0.48        12\n",
      "                105.Whip_poor_Will       0.38      0.30      0.33        10\n",
      "                 106.Horned_Puffin       1.00      0.75      0.86        12\n",
      "                  107.Common_Raven       0.35      0.67      0.46        12\n",
      "            108.White_necked_Raven       0.50      0.33      0.40        12\n",
      "             109.American_Redstart       0.79      0.92      0.85        12\n",
      "                     110.Geococcyx       0.71      0.83      0.77        12\n",
      "             111.Loggerhead_Shrike       0.36      0.33      0.35        12\n",
      "             112.Great_Grey_Shrike       0.41      0.58      0.48        12\n",
      "                 113.Baird_Sparrow       0.38      0.50      0.43        10\n",
      "        114.Black_throated_Sparrow       0.64      0.58      0.61        12\n",
      "                115.Brewer_Sparrow       0.50      0.58      0.54        12\n",
      "              116.Chipping_Sparrow       0.40      0.50      0.44        12\n",
      "          117.Clay_colored_Sparrow       0.67      0.67      0.67        12\n",
      "                 118.House_Sparrow       0.27      0.25      0.26        12\n",
      "                 119.Field_Sparrow       0.42      0.42      0.42        12\n",
      "                   120.Fox_Sparrow       0.80      0.67      0.73        12\n",
      "           121.Grasshopper_Sparrow       0.36      0.33      0.35        12\n",
      "                122.Harris_Sparrow       0.90      0.75      0.82        12\n",
      "               123.Henslow_Sparrow       0.50      0.42      0.45        12\n",
      "              124.Le_Conte_Sparrow       0.62      0.42      0.50        12\n",
      "               125.Lincoln_Sparrow       0.36      0.42      0.38        12\n",
      "   126.Nelson_Sharp_tailed_Sparrow       0.75      0.75      0.75        12\n",
      "              127.Savannah_Sparrow       0.25      0.17      0.20        12\n",
      "               128.Seaside_Sparrow       0.57      0.67      0.62        12\n",
      "                  129.Song_Sparrow       0.38      0.42      0.40        12\n",
      "                  130.Tree_Sparrow       0.62      0.67      0.64        12\n",
      "                131.Vesper_Sparrow       0.39      0.58      0.47        12\n",
      "         132.White_crowned_Sparrow       0.58      0.58      0.58        12\n",
      "        133.White_throated_Sparrow       0.44      0.58      0.50        12\n",
      "          134.Cape_Glossy_Starling       0.92      1.00      0.96        12\n",
      "                  135.Bank_Swallow       0.62      0.42      0.50        12\n",
      "                  136.Barn_Swallow       0.54      0.58      0.56        12\n",
      "                 137.Cliff_Swallow       0.62      0.42      0.50        12\n",
      "                  138.Tree_Swallow       0.71      0.83      0.77        12\n",
      "               139.Scarlet_Tanager       0.83      0.83      0.83        12\n",
      "                140.Summer_Tanager       0.73      0.92      0.81        12\n",
      "                    141.Artic_Tern       0.40      0.55      0.46        11\n",
      "                    142.Black_Tern       0.33      0.08      0.13        12\n",
      "                  143.Caspian_Tern       0.33      0.33      0.33        12\n",
      "                   144.Common_Tern       0.30      0.25      0.27        12\n",
      "                  145.Elegant_Tern       0.42      0.42      0.42        12\n",
      "                 146.Forsters_Tern       0.42      0.42      0.42        12\n",
      "                    147.Least_Tern       0.71      0.83      0.77        12\n",
      "           148.Green_tailed_Towhee       0.89      0.67      0.76        12\n",
      "                149.Brown_Thrasher       0.58      0.58      0.58        12\n",
      "                 150.Sage_Thrasher       0.36      0.42      0.38        12\n",
      "            151.Black_capped_Vireo       0.83      0.50      0.62        10\n",
      "             152.Blue_headed_Vireo       0.67      0.83      0.74        12\n",
      "            153.Philadelphia_Vireo       0.53      0.75      0.62        12\n",
      "                154.Red_eyed_Vireo       0.30      0.50      0.38        12\n",
      "                155.Warbling_Vireo       0.29      0.42      0.34        12\n",
      "              156.White_eyed_Vireo       0.58      0.58      0.58        12\n",
      "         157.Yellow_throated_Vireo       0.55      0.50      0.52        12\n",
      "          158.Bay_breasted_Warbler       0.67      0.67      0.67        12\n",
      "       159.Black_and_white_Warbler       0.75      1.00      0.86        12\n",
      "   160.Black_throated_Blue_Warbler       0.62      0.67      0.64        12\n",
      "           161.Blue_winged_Warbler       0.58      0.58      0.58        12\n",
      "                162.Canada_Warbler       0.42      0.42      0.42        12\n",
      "              163.Cape_May_Warbler       0.73      0.92      0.81        12\n",
      "              164.Cerulean_Warbler       0.73      0.67      0.70        12\n",
      "        165.Chestnut_sided_Warbler       0.62      0.42      0.50        12\n",
      "         166.Golden_winged_Warbler       0.67      0.67      0.67        12\n",
      "                167.Hooded_Warbler       0.67      0.50      0.57        12\n",
      "              168.Kentucky_Warbler       0.69      0.75      0.72        12\n",
      "              169.Magnolia_Warbler       0.67      0.83      0.74        12\n",
      "              170.Mourning_Warbler       0.60      0.75      0.67        12\n",
      "                171.Myrtle_Warbler       0.83      0.42      0.56        12\n",
      "             172.Nashville_Warbler       0.50      0.75      0.60        12\n",
      "        173.Orange_crowned_Warbler       0.55      0.50      0.52        12\n",
      "                  174.Palm_Warbler       0.57      0.33      0.42        12\n",
      "                  175.Pine_Warbler       0.62      0.42      0.50        12\n",
      "               176.Prairie_Warbler       0.91      0.83      0.87        12\n",
      "          177.Prothonotary_Warbler       0.56      0.75      0.64        12\n",
      "              178.Swainson_Warbler       0.33      0.36      0.35        11\n",
      "             179.Tennessee_Warbler       0.30      0.25      0.27        12\n",
      "                180.Wilson_Warbler       0.47      0.58      0.52        12\n",
      "           181.Worm_eating_Warbler       0.60      0.50      0.55        12\n",
      "                182.Yellow_Warbler       0.46      0.50      0.48        12\n",
      "          183.Northern_Waterthrush       0.43      0.50      0.46        12\n",
      "         184.Louisiana_Waterthrush       0.00      0.00      0.00        12\n",
      "              185.Bohemian_Waxwing       0.86      0.50      0.63        12\n",
      "                 186.Cedar_Waxwing       0.67      0.83      0.74        12\n",
      "187.American_Three_toed_Woodpecker       0.60      0.60      0.60        10\n",
      "           188.Pileated_Woodpecker       0.91      0.83      0.87        12\n",
      "        189.Red_bellied_Woodpecker       0.80      1.00      0.89        12\n",
      "       190.Red_cockaded_Woodpecker       0.75      0.82      0.78        11\n",
      "         191.Red_headed_Woodpecker       0.90      0.75      0.82        12\n",
      "              192.Downy_Woodpecker       0.83      0.83      0.83        12\n",
      "                   193.Bewick_Wren       0.20      0.17      0.18        12\n",
      "                   194.Cactus_Wren       0.45      0.42      0.43        12\n",
      "                 195.Carolina_Wren       0.60      0.50      0.55        12\n",
      "                    196.House_Wren       0.60      0.25      0.35        12\n",
      "                    197.Marsh_Wren       0.25      0.08      0.12        12\n",
      "                     198.Rock_Wren       0.32      0.58      0.41        12\n",
      "                   199.Winter_Wren       0.62      0.42      0.50        12\n",
      "           200.Common_Yellowthroat       0.55      0.50      0.52        12\n",
      "\n",
      "                          accuracy                           0.59      2358\n",
      "                         macro avg       0.60      0.59      0.59      2358\n",
      "                      weighted avg       0.60      0.59      0.58      2358\n",
      "\n"
     ]
    }
   ],
   "source": [
    "from sklearn.metrics import classification_report\n",
    "print(classification_report(test_labels.detach().cpu().numpy(), pred_labels, target_names=list(class_dict.keys())))"
   ]
  },
  {
   "cell_type": "code",
   "execution_count": 34,
   "id": "f6154bd0-11f0-42b4-b860-b3b34ea93d52",
   "metadata": {},
   "outputs": [],
   "source": [
    "from sklearn.metrics import classification_report\n",
    "report = classification_report(test_labels.detach().cpu().numpy(), pred_labels, target_names=list(class_dict.keys()),output_dict=True)\n",
    "df = pd.DataFrame(report).transpose()\n",
    "df.reset_index(inplace=True)\n",
    "df.rename(columns={\"index\":'class_name'},inplace=True)\n",
    "classification_report_table = wandb.Table(dataframe=df)"
   ]
  },
  {
   "cell_type": "code",
   "execution_count": 35,
   "id": "8967c721-10c7-4d82-9c44-cf69368c9cf2",
   "metadata": {},
   "outputs": [],
   "source": [
    "run.log({\"limited_classes_classification_report\": classification_report_table})"
   ]
  },
  {
   "cell_type": "markdown",
   "id": "25ca19e9-fde4-4738-b3fe-35d7f6c3f8b8",
   "metadata": {},
   "source": [
    "## metric drop for unseen classes"
   ]
  },
  {
   "cell_type": "code",
   "execution_count": 43,
   "id": "308604b3-e2e4-48ce-b3a8-09b38ca315df",
   "metadata": {},
   "outputs": [],
   "source": [
    "unseen_class_names = sorted(key for key in acc_dict.keys() if int(key.split('.')[0]) >= 180)"
   ]
  },
  {
   "cell_type": "code",
   "execution_count": 44,
   "id": "b27e7a53-584d-410e-ad34-466aedca1350",
   "metadata": {
    "scrolled": true
   },
   "outputs": [],
   "source": [
    "comparison_table_data = []\n",
    "for class_name in unseen_class_names:\n",
    "    comparison_table_data.append([class_name,acc_dict[class_name][-1],acc_dict2[class_name][-1]])"
   ]
  },
  {
   "cell_type": "code",
   "execution_count": 45,
   "id": "2400629c-33f5-4b19-bbab-9d75c92dd6d4",
   "metadata": {},
   "outputs": [],
   "source": [
    "comparison_table = wandb.Table(data=comparison_table_data, columns=['class_name','all_classes_precision@1','unseen_classes_precision@1'])"
   ]
  },
  {
   "cell_type": "code",
   "execution_count": 46,
   "id": "daa9ab4f-6abe-4469-91b8-2c48f17f7400",
   "metadata": {},
   "outputs": [],
   "source": [
    "run.log({\"comparison_unseen_classes_metrics\": comparison_table})"
   ]
  },
  {
   "cell_type": "code",
   "execution_count": 47,
   "id": "288120aa-ccc7-4249-8498-63c82972342a",
   "metadata": {},
   "outputs": [],
   "source": [
    "precisions = np.array(comparison_table_data)[:,1:3].astype(np.float32)"
   ]
  },
  {
   "cell_type": "code",
   "execution_count": 48,
   "id": "aea80d7d-48d9-45b2-9b80-50df8c6f2e73",
   "metadata": {},
   "outputs": [],
   "source": [
    "wandb.log({'precision_drop_unseen_classes':np.mean(np.subtract(precisions[:,0],precisions[:,1]))})"
   ]
  },
  {
   "cell_type": "markdown",
   "id": "8474d6e8-63e1-4bd8-b170-b13a1803634e",
   "metadata": {},
   "source": [
    "## metric drop for all classes because of new unseen classes"
   ]
  },
  {
   "cell_type": "code",
   "execution_count": 49,
   "id": "0d53c17d-3ee9-4947-84a0-61e87855daf0",
   "metadata": {},
   "outputs": [],
   "source": [
    "comparison_table_data = []\n",
    "for class_name in acc_dict.keys():\n",
    "    comparison_table_data.append([class_name,acc_dict[class_name][-1],acc_dict2[class_name][-1]])"
   ]
  },
  {
   "cell_type": "code",
   "execution_count": 50,
   "id": "bd465f2b-8fd1-419f-a3bb-8daa56d9956e",
   "metadata": {},
   "outputs": [],
   "source": [
    "precisions = np.array(comparison_table_data)[:,1:3].astype(np.float32)"
   ]
  },
  {
   "cell_type": "code",
   "execution_count": 51,
   "id": "2af3e145-3fd1-4e2f-b10e-8ed86ecda2b5",
   "metadata": {},
   "outputs": [
    {
     "data": {
      "text/plain": [
       "array([[0.75      , 0.9166667 ],\n",
       "       [0.75      , 0.75      ],\n",
       "       [0.5833333 , 0.5       ],\n",
       "       [0.9166667 , 1.        ],\n",
       "       [0.6666667 , 0.7777778 ],\n",
       "       [0.75      , 0.75      ],\n",
       "       [1.        , 0.9       ],\n",
       "       [0.6666667 , 0.6666667 ],\n",
       "       [0.33333334, 0.5       ],\n",
       "       [0.8333333 , 0.9166667 ],\n",
       "       [0.33333334, 0.33333334],\n",
       "       [0.8181818 , 0.90909094],\n",
       "       [0.6666667 , 0.6666667 ],\n",
       "       [0.8333333 , 0.75      ],\n",
       "       [0.54545456, 0.45454547],\n",
       "       [0.54545456, 0.6363636 ],\n",
       "       [0.72727275, 0.72727275],\n",
       "       [0.8888889 , 0.8888889 ],\n",
       "       [0.75      , 0.9166667 ],\n",
       "       [0.5833333 , 0.5833333 ],\n",
       "       [0.5       , 0.5833333 ],\n",
       "       [0.36363637, 0.45454547],\n",
       "       [0.33333334, 0.41666666],\n",
       "       [0.8       , 0.8       ],\n",
       "       [0.16666667, 0.16666667],\n",
       "       [0.6666667 , 0.6666667 ],\n",
       "       [0.25      , 0.16666667],\n",
       "       [0.9166667 , 0.9166667 ],\n",
       "       [0.41666666, 0.25      ],\n",
       "       [0.08333334, 0.41666666],\n",
       "       [0.6666667 , 0.75      ],\n",
       "       [0.6       , 0.5       ],\n",
       "       [0.16666667, 0.5833333 ],\n",
       "       [0.8333333 , 0.75      ],\n",
       "       [0.8333333 , 0.9166667 ],\n",
       "       [0.6666667 , 0.5833333 ],\n",
       "       [0.5       , 0.41666666],\n",
       "       [0.5833333 , 0.5833333 ],\n",
       "       [0.08333334, 0.25      ],\n",
       "       [0.5833333 , 0.41666666],\n",
       "       [0.75      , 0.75      ],\n",
       "       [0.8333333 , 0.9166667 ],\n",
       "       [0.33333334, 0.08333334],\n",
       "       [0.75      , 0.6666667 ],\n",
       "       [0.6666667 , 0.5833333 ],\n",
       "       [0.9166667 , 0.75      ],\n",
       "       [0.8333333 , 0.6666667 ],\n",
       "       [0.8333333 , 0.9166667 ],\n",
       "       [0.33333334, 0.33333334],\n",
       "       [0.5833333 , 0.5       ],\n",
       "       [0.75      , 0.6666667 ],\n",
       "       [0.8333333 , 0.8333333 ],\n",
       "       [0.8333333 , 0.75      ],\n",
       "       [0.8333333 , 0.5833333 ],\n",
       "       [0.9166667 , 0.9166667 ],\n",
       "       [0.8333333 , 0.5833333 ],\n",
       "       [0.8333333 , 0.9166667 ],\n",
       "       [0.75      , 0.8333333 ],\n",
       "       [0.5       , 0.5833333 ],\n",
       "       [0.08333334, 0.16666667],\n",
       "       [0.75      , 0.9166667 ],\n",
       "       [0.33333334, 0.08333334],\n",
       "       [0.8333333 , 0.9166667 ],\n",
       "       [0.5833333 , 0.16666667],\n",
       "       [0.4       , 0.2       ],\n",
       "       [0.5       , 0.41666666],\n",
       "       [0.41666666, 0.25      ],\n",
       "       [0.6666667 , 0.6666667 ],\n",
       "       [0.8333333 , 0.75      ],\n",
       "       [0.8333333 , 0.9166667 ],\n",
       "       [0.33333334, 0.25      ],\n",
       "       [0.5       , 0.25      ],\n",
       "       [0.6666667 , 0.6666667 ],\n",
       "       [0.6666667 , 0.6666667 ],\n",
       "       [0.8181818 , 0.90909094],\n",
       "       [0.8333333 , 0.8333333 ],\n",
       "       [0.75      , 0.75      ],\n",
       "       [0.5       , 0.33333334],\n",
       "       [0.8333333 , 0.5833333 ],\n",
       "       [0.6666667 , 0.6666667 ],\n",
       "       [0.8333333 , 0.8333333 ],\n",
       "       [0.8333333 , 0.75      ],\n",
       "       [0.9166667 , 0.9166667 ],\n",
       "       [0.7       , 0.7       ],\n",
       "       [0.8333333 , 0.8333333 ],\n",
       "       [0.6666667 , 0.6666667 ],\n",
       "       [0.8333333 , 0.9166667 ],\n",
       "       [1.        , 1.        ],\n",
       "       [0.75      , 0.9166667 ],\n",
       "       [0.9166667 , 0.8333333 ],\n",
       "       [0.25      , 0.33333334],\n",
       "       [0.5833333 , 0.6666667 ],\n",
       "       [0.8333333 , 0.8333333 ],\n",
       "       [0.9166667 , 0.9166667 ],\n",
       "       [0.8333333 , 0.75      ],\n",
       "       [0.9166667 , 0.8333333 ],\n",
       "       [0.5833333 , 0.5       ],\n",
       "       [0.9166667 , 0.8333333 ],\n",
       "       [0.75      , 0.6666667 ],\n",
       "       [1.        , 1.        ],\n",
       "       [0.9       , 0.8       ],\n",
       "       [0.16666667, 0.16666667],\n",
       "       [0.25      , 0.33333334],\n",
       "       [0.5       , 0.41666666],\n",
       "       [0.4       , 0.4       ],\n",
       "       [0.5833333 , 0.75      ],\n",
       "       [0.25      , 0.41666666],\n",
       "       [0.5       , 0.33333334],\n",
       "       [1.        , 1.        ],\n",
       "       [0.9166667 , 0.8333333 ],\n",
       "       [0.5833333 , 0.75      ],\n",
       "       [0.5       , 0.5833333 ],\n",
       "       [0.6       , 0.6       ],\n",
       "       [0.5       , 0.6666667 ],\n",
       "       [0.41666666, 0.5       ],\n",
       "       [0.5       , 0.5       ],\n",
       "       [0.75      , 0.75      ],\n",
       "       [0.33333334, 0.41666666],\n",
       "       [0.6666667 , 0.33333334],\n",
       "       [0.5833333 , 0.5833333 ],\n",
       "       [0.33333334, 0.25      ],\n",
       "       [0.6666667 , 0.5       ],\n",
       "       [0.5       , 0.5       ],\n",
       "       [0.5833333 , 0.41666666],\n",
       "       [0.5833333 , 0.33333334],\n",
       "       [0.6666667 , 0.8333333 ],\n",
       "       [0.41666666, 0.5       ],\n",
       "       [0.6666667 , 0.75      ],\n",
       "       [0.33333334, 0.33333334],\n",
       "       [0.41666666, 0.41666666],\n",
       "       [0.5833333 , 0.5833333 ],\n",
       "       [0.5833333 , 0.6666667 ],\n",
       "       [0.6666667 , 0.6666667 ],\n",
       "       [0.9166667 , 0.8333333 ],\n",
       "       [0.41666666, 0.5833333 ],\n",
       "       [0.6666667 , 0.9166667 ],\n",
       "       [0.5       , 0.16666667],\n",
       "       [0.8333333 , 0.75      ],\n",
       "       [1.        , 0.8333333 ],\n",
       "       [0.8333333 , 0.9166667 ],\n",
       "       [0.8181818 , 0.90909094],\n",
       "       [0.33333334, 0.25      ],\n",
       "       [0.16666667, 0.16666667],\n",
       "       [0.33333334, 0.5       ],\n",
       "       [0.33333334, 0.5       ],\n",
       "       [0.5833333 , 0.5       ],\n",
       "       [0.8333333 , 0.8333333 ],\n",
       "       [0.6666667 , 0.8333333 ],\n",
       "       [0.5       , 0.5       ],\n",
       "       [0.5       , 0.41666666],\n",
       "       [0.6       , 0.5       ],\n",
       "       [0.5       , 0.6666667 ],\n",
       "       [0.5833333 , 0.5       ],\n",
       "       [0.41666666, 0.6666667 ],\n",
       "       [0.5       , 0.33333334],\n",
       "       [0.6666667 , 0.5833333 ],\n",
       "       [0.5833333 , 0.5       ],\n",
       "       [0.9166667 , 0.8333333 ],\n",
       "       [0.8333333 , 0.9166667 ],\n",
       "       [0.6666667 , 0.6666667 ],\n",
       "       [0.5833333 , 0.5833333 ],\n",
       "       [0.41666666, 0.33333334],\n",
       "       [0.9166667 , 0.9166667 ],\n",
       "       [0.8333333 , 1.        ],\n",
       "       [0.75      , 0.6666667 ],\n",
       "       [0.8333333 , 0.6666667 ],\n",
       "       [0.5       , 0.5833333 ],\n",
       "       [0.75      , 0.8333333 ],\n",
       "       [0.8333333 , 0.8333333 ],\n",
       "       [0.75      , 0.9166667 ],\n",
       "       [0.6666667 , 0.6666667 ],\n",
       "       [0.5       , 0.5       ],\n",
       "       [0.5833333 , 0.6666667 ],\n",
       "       [0.5       , 0.5       ],\n",
       "       [0.5       , 0.5       ],\n",
       "       [0.75      , 0.8333333 ],\n",
       "       [0.75      , 0.9166667 ],\n",
       "       [0.54545456, 0.6363636 ],\n",
       "       [0.08333334, 0.41666666],\n",
       "       [0.5833333 , 0.8333333 ],\n",
       "       [0.8333333 , 0.5       ],\n",
       "       [0.5       , 0.5833333 ],\n",
       "       [0.8333333 , 0.33333334],\n",
       "       [0.41666666, 0.25      ],\n",
       "       [1.        , 0.6666667 ],\n",
       "       [0.8333333 , 0.75      ],\n",
       "       [0.7       , 0.6       ],\n",
       "       [0.9166667 , 0.8333333 ],\n",
       "       [1.        , 1.        ],\n",
       "       [0.90909094, 0.8181818 ],\n",
       "       [0.8333333 , 0.8333333 ],\n",
       "       [0.9166667 , 0.9166667 ],\n",
       "       [0.5833333 , 0.16666667],\n",
       "       [0.5833333 , 0.5       ],\n",
       "       [0.75      , 0.8333333 ],\n",
       "       [0.5833333 , 0.16666667],\n",
       "       [0.5       , 0.        ],\n",
       "       [0.8333333 , 0.6666667 ],\n",
       "       [0.8333333 , 0.75      ],\n",
       "       [1.        , 0.6666667 ]], dtype=float32)"
      ]
     },
     "execution_count": 51,
     "metadata": {},
     "output_type": "execute_result"
    }
   ],
   "source": [
    "precisions"
   ]
  },
  {
   "cell_type": "code",
   "execution_count": 52,
   "id": "7d8a6e83-8a54-44f6-9f00-2842e8b53e6a",
   "metadata": {},
   "outputs": [],
   "source": [
    "wandb.log({'precision_drop_all_classes':np.mean(np.subtract(precisions[:,0],precisions[:,1]))})"
   ]
  },
  {
   "cell_type": "code",
   "execution_count": null,
   "id": "3a2d6dd0-2165-4c2d-a053-51454eed7af9",
   "metadata": {},
   "outputs": [],
   "source": []
  }
 ],
 "metadata": {
  "kernelspec": {
   "display_name": "Python 3 (ipykernel)",
   "language": "python",
   "name": "python3"
  },
  "language_info": {
   "codemirror_mode": {
    "name": "ipython",
    "version": 3
   },
   "file_extension": ".py",
   "mimetype": "text/x-python",
   "name": "python",
   "nbconvert_exporter": "python",
   "pygments_lexer": "ipython3",
   "version": "3.10.13"
  }
 },
 "nbformat": 4,
 "nbformat_minor": 5
}
