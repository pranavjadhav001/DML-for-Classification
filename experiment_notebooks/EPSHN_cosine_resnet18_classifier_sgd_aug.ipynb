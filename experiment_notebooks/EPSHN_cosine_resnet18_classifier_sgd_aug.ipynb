{
 "cells": [
  {
   "cell_type": "code",
   "execution_count": 15,
   "id": "5ffca082-4e33-4910-bddd-7467769c68a2",
   "metadata": {},
   "outputs": [],
   "source": [
    "import numpy as np\n",
    "import PIL\n",
    "import umap\n",
    "import pandas as pd\n",
    "import json\n",
    "import glob\n",
    "from pytorch_metric_learning import distances, losses, miners, reducers\n",
    "import torch.nn as nn\n",
    "import os\n",
    "import matplotlib.pyplot as plt"
   ]
  },
  {
   "cell_type": "code",
   "execution_count": 16,
   "id": "df805f67-18d4-4f50-a057-90ebe6d234ee",
   "metadata": {},
   "outputs": [],
   "source": [
    "import torch\n",
    "import torchvision\n",
    "from torchvision import models\n",
    "import torch\n",
    "import torch.nn as nn\n",
    "import torch.nn.functional as F\n",
    "import torch.optim as optim\n",
    "from torchvision import datasets, transforms\n",
    "from torch.utils.data.sampler import SubsetRandomSampler\n",
    "from tqdm import tqdm\n",
    "from pytorch_metric_learning import losses, testers\n",
    "from pytorch_metric_learning.utils.accuracy_calculator import AccuracyCalculator"
   ]
  },
  {
   "cell_type": "code",
   "execution_count": 17,
   "id": "e1f8f3ef-c0a5-492e-a89e-a126cd3709cc",
   "metadata": {},
   "outputs": [],
   "source": [
    "%matplotlib inline\n",
    "import torch\n",
    "import torch.nn as nn\n",
    "from matplotlib import pyplot as plt\n",
    "import numpy as np\n",
    "import torchvision\n",
    "import torchvision.datasets as datasets\n",
    "import torchvision.models as models\n",
    "from torchvision import transforms\n",
    "import torch.optim as optim\n",
    "import time\n",
    "import tqdm as tqdm\n",
    "from torch.autograd import Variable"
   ]
  },
  {
   "cell_type": "code",
   "execution_count": 18,
   "id": "e90d2b46-62b6-4d65-accd-b65666481d53",
   "metadata": {},
   "outputs": [
    {
     "name": "stderr",
     "output_type": "stream",
     "text": [
      "\u001b[34m\u001b[1mwandb\u001b[0m: \u001b[33mWARNING\u001b[0m Calling wandb.login() after wandb.init() has no effect.\n"
     ]
    },
    {
     "data": {
      "text/plain": [
       "True"
      ]
     },
     "execution_count": 18,
     "metadata": {},
     "output_type": "execute_result"
    }
   ],
   "source": [
    "import wandb\n",
    "import random  # for demo script\n",
    "\n",
    "wandb.login()"
   ]
  },
  {
   "cell_type": "code",
   "execution_count": 19,
   "id": "dfc3914e-3d5f-4c4a-a6d6-6a55ff22c849",
   "metadata": {},
   "outputs": [],
   "source": [
    "config = {\n",
    "    'name':'cub_triplet_loss_epshn_resnet18_sgd_aug_classifier',\n",
    "    'dataset':'CUB_200_2011',\n",
    "    'random_seed':42,\n",
    "    'model_architecture':'resnet18',\n",
    "    'embedding_dim':128,\n",
    "    'distance':'cosine',\n",
    "    'image_height':224,\n",
    "    'image_width':224,\n",
    "    'train_test_split':0.2,\n",
    "    'class_split':0.1,\n",
    "    'batch_size':128,\n",
    "    'optimizer':'sgd',\n",
    "    'learning_rate':0.01,\n",
    "    'num_epochs':100,\n",
    "    'loss':'NTXentLoss',\n",
    "    'miner':'epshn',\n",
    "    'pretrained_model_path':'models/classifier_resnet18_180.pth',\n",
    "    'reducer':0,\n",
    "    'metric':'precision_at_1',\n",
    "    'model_save_path':'models/cub_triplet_loss_epshn_resnet18_sgd_aug_classifier',\n",
    "    'temperature': 0.1\n",
    "}"
   ]
  },
  {
   "cell_type": "code",
   "execution_count": 20,
   "id": "ea1ac4e6-27ce-4223-8633-6c4bb31e07bc",
   "metadata": {},
   "outputs": [
    {
     "data": {
      "text/html": [
       "Finishing last run (ID:cdd8j9bo) before initializing another..."
      ],
      "text/plain": [
       "<IPython.core.display.HTML object>"
      ]
     },
     "metadata": {},
     "output_type": "display_data"
    },
    {
     "data": {
      "application/vnd.jupyter.widget-view+json": {
       "model_id": "",
       "version_major": 2,
       "version_minor": 0
      },
      "text/plain": [
       "VBox(children=(Label(value='0.003 MB of 0.003 MB uploaded\\r'), FloatProgress(value=1.0, max=1.0)))"
      ]
     },
     "metadata": {},
     "output_type": "display_data"
    },
    {
     "data": {
      "text/html": [
       " View run <strong style=\"color:#cdcd00\">cub_triplet_loss_epshn_resnet18_sgd_aug_classifier</strong> at: <a href='https://wandb.ai/pranavjadhav001/embedding_based_classification/runs/cdd8j9bo' target=\"_blank\">https://wandb.ai/pranavjadhav001/embedding_based_classification/runs/cdd8j9bo</a><br/>Synced 6 W&B file(s), 0 media file(s), 0 artifact file(s) and 0 other file(s)"
      ],
      "text/plain": [
       "<IPython.core.display.HTML object>"
      ]
     },
     "metadata": {},
     "output_type": "display_data"
    },
    {
     "data": {
      "text/html": [
       "Find logs at: <code>./wandb/run-20240401_094816-cdd8j9bo/logs</code>"
      ],
      "text/plain": [
       "<IPython.core.display.HTML object>"
      ]
     },
     "metadata": {},
     "output_type": "display_data"
    },
    {
     "data": {
      "text/html": [
       "Successfully finished last run (ID:cdd8j9bo). Initializing new run:<br/>"
      ],
      "text/plain": [
       "<IPython.core.display.HTML object>"
      ]
     },
     "metadata": {},
     "output_type": "display_data"
    },
    {
     "data": {
      "application/vnd.jupyter.widget-view+json": {
       "model_id": "18e2df959aad4367a2e642febd3c7458",
       "version_major": 2,
       "version_minor": 0
      },
      "text/plain": [
       "VBox(children=(Label(value='Waiting for wandb.init()...\\r'), FloatProgress(value=0.01111245355555689, max=1.0)…"
      ]
     },
     "metadata": {},
     "output_type": "display_data"
    },
    {
     "data": {
      "text/html": [
       "wandb version 0.16.5 is available!  To upgrade, please run:\n",
       " $ pip install wandb --upgrade"
      ],
      "text/plain": [
       "<IPython.core.display.HTML object>"
      ]
     },
     "metadata": {},
     "output_type": "display_data"
    },
    {
     "data": {
      "text/html": [
       "Tracking run with wandb version 0.16.4"
      ],
      "text/plain": [
       "<IPython.core.display.HTML object>"
      ]
     },
     "metadata": {},
     "output_type": "display_data"
    },
    {
     "data": {
      "text/html": [
       "Run data is saved locally in <code>/embedding_classification/wandb/run-20240401_094839-gc4qmbr6</code>"
      ],
      "text/plain": [
       "<IPython.core.display.HTML object>"
      ]
     },
     "metadata": {},
     "output_type": "display_data"
    },
    {
     "data": {
      "text/html": [
       "Syncing run <strong><a href='https://wandb.ai/pranavjadhav001/embedding_based_classification/runs/gc4qmbr6' target=\"_blank\">cub_triplet_loss_epshn_resnet18_sgd_aug_classifier</a></strong> to <a href='https://wandb.ai/pranavjadhav001/embedding_based_classification' target=\"_blank\">Weights & Biases</a> (<a href='https://wandb.me/run' target=\"_blank\">docs</a>)<br/>"
      ],
      "text/plain": [
       "<IPython.core.display.HTML object>"
      ]
     },
     "metadata": {},
     "output_type": "display_data"
    },
    {
     "data": {
      "text/html": [
       " View project at <a href='https://wandb.ai/pranavjadhav001/embedding_based_classification' target=\"_blank\">https://wandb.ai/pranavjadhav001/embedding_based_classification</a>"
      ],
      "text/plain": [
       "<IPython.core.display.HTML object>"
      ]
     },
     "metadata": {},
     "output_type": "display_data"
    },
    {
     "data": {
      "text/html": [
       " View run at <a href='https://wandb.ai/pranavjadhav001/embedding_based_classification/runs/gc4qmbr6' target=\"_blank\">https://wandb.ai/pranavjadhav001/embedding_based_classification/runs/gc4qmbr6</a>"
      ],
      "text/plain": [
       "<IPython.core.display.HTML object>"
      ]
     },
     "metadata": {},
     "output_type": "display_data"
    },
    {
     "name": "stdout",
     "output_type": "stream",
     "text": [
      "gc4qmbr6\n"
     ]
    }
   ],
   "source": [
    "id = wandb.util.generate_id()\n",
    "run = wandb.init(\n",
    "    id=id,\n",
    "    name = config['name'],\n",
    "    # Set the project where this run will be logged\n",
    "    project=\"embedding_based_classification\",\n",
    "    # Track hyperparameters and run metadata\n",
    "    config=config,\n",
    "    resume=\"allow\"\n",
    ")\n",
    "print(id)"
   ]
  },
  {
   "cell_type": "code",
   "execution_count": null,
   "id": "491f5624-b1e4-498b-8984-f38046157308",
   "metadata": {},
   "outputs": [],
   "source": [
    "np.random.seed(config['random_seed'])\n",
    "torch.manual_seed(config['random_seed'])\n",
    "torch.cuda.manual_seed(config['random_seed'])\n",
    "torch.backends.cudnn.deterministic = False"
   ]
  },
  {
   "cell_type": "code",
   "execution_count": 21,
   "id": "fd54e43e-bcb2-4be5-9f51-1366b8a5cfb6",
   "metadata": {},
   "outputs": [],
   "source": [
    "os.chdir('..')\n",
    "if not os.path.exists('models'):\n",
    "    os.makedirs('models')"
   ]
  },
  {
   "cell_type": "code",
   "execution_count": 22,
   "id": "86a9b19c-f95a-4976-bed3-47cd97da3fbf",
   "metadata": {},
   "outputs": [],
   "source": [
    "# print(models.resnet18())\n",
    "class ResNetFeatrueExtractor18(nn.Module):\n",
    "    def __init__(self, pretrained = True):\n",
    "        super(ResNetFeatrueExtractor18, self).__init__()\n",
    "        model_resnet18 = models.resnet18(pretrained=pretrained)\n",
    "        self.conv1 = model_resnet18.conv1\n",
    "        self.bn1 = model_resnet18.bn1\n",
    "        self.relu = model_resnet18.relu\n",
    "        self.maxpool = model_resnet18.maxpool\n",
    "        self.layer1 = model_resnet18.layer1\n",
    "        self.layer2 = model_resnet18.layer2\n",
    "        self.layer3 = model_resnet18.layer3\n",
    "        self.layer4 = model_resnet18.layer4\n",
    "        self.avgpool = model_resnet18.avgpool\n",
    "        self.fc2 = nn.Linear(512, config['embedding_dim'])\n",
    "        \n",
    "    def forward(self, x):\n",
    "        x = self.relu(self.bn1(self.conv1(x)))\n",
    "        x = self.maxpool(x)\n",
    "        x = self.layer1(x)\n",
    "        x = self.layer2(x)\n",
    "        x = self.layer3(x)\n",
    "        x = self.layer4(x)\n",
    "        x = self.avgpool(x)\n",
    "        x = x.view(x.size(0), -1)\n",
    "        x = self.fc2(x)\n",
    "        return x"
   ]
  },
  {
   "cell_type": "code",
   "execution_count": 23,
   "id": "3113a9df-ae34-49a4-be12-cfc0168aa08a",
   "metadata": {},
   "outputs": [
    {
     "name": "stderr",
     "output_type": "stream",
     "text": [
      "/opt/conda/lib/python3.10/site-packages/torchvision/models/_utils.py:208: UserWarning: The parameter 'pretrained' is deprecated since 0.13 and may be removed in the future, please use 'weights' instead.\n",
      "  warnings.warn(\n",
      "/opt/conda/lib/python3.10/site-packages/torchvision/models/_utils.py:223: UserWarning: Arguments other than a weight enum or `None` for 'weights' are deprecated since 0.13 and may be removed in the future. The current behavior is equivalent to passing `weights=None`.\n",
      "  warnings.warn(msg)\n"
     ]
    }
   ],
   "source": [
    "model = ResNetFeatrueExtractor18(pretrained=False)"
   ]
  },
  {
   "cell_type": "code",
   "execution_count": 24,
   "id": "aa5abdd6-3aaf-43ea-9f14-ffeb90fd9649",
   "metadata": {},
   "outputs": [
    {
     "data": {
      "text/plain": [
       "_IncompatibleKeys(missing_keys=['fc2.weight', 'fc2.bias'], unexpected_keys=['fc1.weight', 'fc1.bias'])"
      ]
     },
     "execution_count": 24,
     "metadata": {},
     "output_type": "execute_result"
    }
   ],
   "source": [
    "pretrained_weights = torch.load(config['pretrained_model_path'])\n",
    "model.load_state_dict(pretrained_weights['model_state_dict'],strict=False)"
   ]
  },
  {
   "cell_type": "code",
   "execution_count": 25,
   "id": "1d2af52d-f3cf-4fb5-9d46-01d52b7eecd5",
   "metadata": {
    "scrolled": true
   },
   "outputs": [],
   "source": [
    "### MNIST code originally from https://github.com/pytorch/examples/blob/master/mnist/main.py ###\n",
    "def train(model, loss_func,mining_func, device, train_loader, optimizer, epoch):\n",
    "    model.train()\n",
    "    train_losses = []\n",
    "    for batch_idx, (data, labels) in enumerate(train_loader):\n",
    "        data, labels = data.to(device), labels.to(device)\n",
    "        optimizer.zero_grad()\n",
    "        embeddings = model(data)\n",
    "        indices_tuple = mining_func(embeddings, labels)\n",
    "        loss = loss_func(embeddings, labels, indices_tuple)\n",
    "        loss.backward()\n",
    "        optimizer.step()\n",
    "        train_losses.append(loss)\n",
    "        if batch_idx % 100 == 0:\n",
    "            print(\"Epoch {} Iteration {}: Loss = {}\".format(epoch, batch_idx, loss))\n",
    "    return torch.mean(torch.tensor(train_losses)).item()\n",
    "    \n",
    "### convenient function from pytorch-metric-learning ###\n",
    "def get_all_embeddings(dataset, model):\n",
    "    tester = testers.BaseTester(dataloader_num_workers=0)\n",
    "    return tester.get_all_embeddings(dataset, model)\n",
    "\n",
    "### compute accuracy using AccuracyCalculator from pytorch-metric-learning ###\n",
    "def test(train_set, test_set, model, accuracy_calculator):\n",
    "    train_embeddings, train_labels = get_all_embeddings(train_set, model)\n",
    "    test_embeddings, test_labels = get_all_embeddings(test_set, model)\n",
    "    train_labels = train_labels.squeeze(1)\n",
    "    test_labels = test_labels.squeeze(1)\n",
    "    print(\"Computing accuracy\")\n",
    "    accuracies = accuracy_calculator.get_accuracy(\n",
    "        test_embeddings, test_labels, train_embeddings, train_labels, False\n",
    "    )\n",
    "    print(\"Test set accuracy (Precision@1) = {}\".format(accuracies[\"precision_at_1\"]))\n",
    "    return accuracies[\"precision_at_1\"]\n",
    "    \n",
    "device = torch.device(\"cuda\")\n",
    "\n",
    "mean = [0.485, 0.456, 0.406]\n",
    "std = [0.229, 0.224, 0.225]\n",
    "\n",
    "# create train and test transforms\n",
    "transform = transforms.Compose(\n",
    "    [\n",
    "        transforms.Resize((config['image_height'], config['image_width'])),\n",
    "        transforms.ToTensor(),\n",
    "        transforms.Normalize(mean, std),\n",
    "    ]\n",
    ")\n",
    "\n",
    "batch_size = 128"
   ]
  },
  {
   "cell_type": "code",
   "execution_count": 26,
   "id": "74bc7144-4ac1-46af-acb8-abf120dc0312",
   "metadata": {},
   "outputs": [],
   "source": [
    "def tra_transforms(imgsize, RGBmean, RGBstdv):\n",
    "    return transforms.Compose([transforms.Resize(int(imgsize*1.1)),\n",
    "                                 transforms.RandomCrop(imgsize),\n",
    "                                 transforms.RandomHorizontalFlip(),\n",
    "                                 transforms.ToTensor(),\n",
    "                                 transforms.Normalize(RGBmean, RGBstdv)])\n",
    "\n",
    "def eva_transforms(imgsize, RGBmean, RGBstdv):\n",
    "    return transforms.Compose([transforms.Resize(imgsize),\n",
    "                                 transforms.CenterCrop(imgsize),\n",
    "                                 transforms.ToTensor(),\n",
    "                                 transforms.Normalize(RGBmean, RGBstdv)])\n"
   ]
  },
  {
   "cell_type": "code",
   "execution_count": 27,
   "id": "012c1d87-698e-4abe-919e-9050c600673d",
   "metadata": {},
   "outputs": [],
   "source": [
    "train_transform = tra_transforms(224,mean,std)\n",
    "test_transform = eva_transforms(224,mean,std)"
   ]
  },
  {
   "cell_type": "code",
   "execution_count": 28,
   "id": "4edc54cc-56a9-4889-bc86-a2caef18b958",
   "metadata": {},
   "outputs": [],
   "source": [
    "with open('CUB_200_2011/classes.txt','r') as f:\n",
    "    classes = f.readlines()\n",
    "classes = [i.replace('\\n','') for i in classes]\n",
    "classes = [i.split(' ')[1] for i in classes]\n",
    "class_dict = {k:v for k,v in zip(classes,range(200))}"
   ]
  },
  {
   "cell_type": "code",
   "execution_count": 29,
   "id": "565c42ed-11e7-42f1-9bbc-6cc8b089816c",
   "metadata": {},
   "outputs": [],
   "source": [
    "image_paths = []\n",
    "labels = []\n",
    "for folder_path,i in class_dict.items():\n",
    "    folder_images = glob.glob('CUB_200_2011/images/'+'/'+str(folder_path)+'/*')\n",
    "    image_paths.extend(folder_images)\n",
    "    labels.extend([i]*len(folder_images))"
   ]
  },
  {
   "cell_type": "code",
   "execution_count": 30,
   "id": "e3ed0eff-8d29-481e-b7b3-ecd842781f12",
   "metadata": {},
   "outputs": [],
   "source": [
    "from sklearn.model_selection import train_test_split\n",
    "X_train, X_test, y_train, y_test = train_test_split(image_paths, labels, test_size=config['train_test_split'],\n",
    "                                                    stratify=labels,\n",
    "                                                    random_state=config['random_seed'])"
   ]
  },
  {
   "cell_type": "code",
   "execution_count": 31,
   "id": "373894a5-b193-433b-8c42-1d5ac082d312",
   "metadata": {},
   "outputs": [
    {
     "name": "stdout",
     "output_type": "stream",
     "text": [
      "9430 2358 9430 2358\n"
     ]
    }
   ],
   "source": [
    "print(len(X_train), len(X_test), len(y_train), len(y_test))"
   ]
  },
  {
   "cell_type": "code",
   "execution_count": 32,
   "id": "d85fde76-4b7a-4e4e-9207-51596442dc80",
   "metadata": {},
   "outputs": [],
   "source": [
    "import torch\n",
    "from torch.utils.data import Dataset, DataLoader\n",
    "import torchvision.transforms as transforms\n",
    "\n",
    "class CUBDataset(Dataset):\n",
    "    def __init__(self, image_paths,labels,transform=None):\n",
    "        self.image_paths = image_paths\n",
    "        self.labels = labels\n",
    "        self.transform = transform\n",
    "        self.load_image_from_paths()\n",
    "        \n",
    "    def load_image_from_paths(self):\n",
    "        self.images = []\n",
    "        for i in self.image_paths:\n",
    "            img = PIL.Image.open(i)\n",
    "            if len(img.getbands()) ==1 :\n",
    "                img = img.convert(\"RGB\")\n",
    "            self.images.append(img)\n",
    "            \n",
    "    def __len__(self):\n",
    "        return len(self.images)\n",
    "\n",
    "    def __getitem__(self, idx):\n",
    "        image = self.images[idx]\n",
    "        label = self.labels[idx]\n",
    "        if self.transform:\n",
    "            image = self.transform(image)\n",
    "        return image, label"
   ]
  },
  {
   "cell_type": "code",
   "execution_count": 33,
   "id": "27cbe2f3-e65f-4705-bc31-3b382ddd2e59",
   "metadata": {},
   "outputs": [],
   "source": [
    "train_dataset  = CUBDataset(X_train,y_train,train_transform)\n",
    "test_dataset  = CUBDataset(X_test,y_test,test_transform)\n",
    "train_loader = torch.utils.data.DataLoader(train_dataset, batch_size=128, shuffle=True)\n",
    "test_loader = torch.utils.data.DataLoader(test_dataset, batch_size=128, shuffle=False)"
   ]
  },
  {
   "cell_type": "code",
   "execution_count": 34,
   "id": "6f22dd74-3ef4-47d1-a43c-aecc01d59822",
   "metadata": {},
   "outputs": [],
   "source": [
    "#model = ResNetFeatrueExtractor18(pretrained=False)\n",
    "model = model.to(device)\n",
    "optimizer = optim.SGD(model.parameters(), lr=config['learning_rate'])\n",
    "num_epochs = config['num_epochs']\n",
    "\n",
    "### pytorch-metric-learning stuff ###\n",
    "distance = distances.LpDistance()\n",
    "reducer = reducers.MeanReducer()\n",
    "loss_func = losses.NTXentLoss(temperature=config['temperature'], distance=distance, reducer=reducer)\n",
    "mining_func = miners.BatchEasyHardMiner(pos_strategy=\"easy\",neg_strategy=\"semihard\")\n",
    "accuracy_calculator = AccuracyCalculator(include=(config['metric'],), k=1)"
   ]
  },
  {
   "cell_type": "code",
   "execution_count": 35,
   "id": "e5bb77dd-c3e8-42d8-8074-27b2210cdb77",
   "metadata": {},
   "outputs": [
    {
     "name": "stdout",
     "output_type": "stream",
     "text": [
      "Epoch 1 Iteration 0: Loss = 0.5198911428451538\n"
     ]
    },
    {
     "name": "stderr",
     "output_type": "stream",
     "text": [
      "100%|█████████████████████████████████████████████████████████████████████████████████████████████████████| 295/295 [00:16<00:00, 17.52it/s]\n",
      "100%|███████████████████████████████████████████████████████████████████████████████████████████████████████| 74/74 [00:09<00:00,  7.49it/s]\n"
     ]
    },
    {
     "name": "stdout",
     "output_type": "stream",
     "text": [
      "Computing accuracy\n"
     ]
    },
    {
     "name": "stderr",
     "output_type": "stream",
     "text": [
      "/opt/conda/lib/python3.10/site-packages/faiss/contrib/torch_utils.py:51: UserWarning: TypedStorage is deprecated. It will be removed in the future and UntypedStorage will be the only storage class. This should only matter to you if you are using storages directly.  To access UntypedStorage directly, use tensor.untyped_storage() instead of tensor.storage()\n",
      "  x.storage().data_ptr() + x.storage_offset() * 4)\n"
     ]
    },
    {
     "name": "stdout",
     "output_type": "stream",
     "text": [
      "Test set accuracy (Precision@1) = 0.453774385072095\n",
      "Epoch 2 Iteration 0: Loss = 0.4149881601333618\n"
     ]
    },
    {
     "name": "stderr",
     "output_type": "stream",
     "text": [
      "100%|█████████████████████████████████████████████████████████████████████████████████████████████████████| 295/295 [00:16<00:00, 17.48it/s]\n",
      "100%|███████████████████████████████████████████████████████████████████████████████████████████████████████| 74/74 [00:03<00:00, 18.95it/s]\n"
     ]
    },
    {
     "name": "stdout",
     "output_type": "stream",
     "text": [
      "Computing accuracy\n",
      "Test set accuracy (Precision@1) = 0.4669211195928753\n",
      "Epoch 3 Iteration 0: Loss = 0.48675164580345154\n"
     ]
    },
    {
     "name": "stderr",
     "output_type": "stream",
     "text": [
      "100%|█████████████████████████████████████████████████████████████████████████████████████████████████████| 295/295 [00:17<00:00, 17.30it/s]\n",
      "100%|███████████████████████████████████████████████████████████████████████████████████████████████████████| 74/74 [00:03<00:00, 19.11it/s]\n"
     ]
    },
    {
     "name": "stdout",
     "output_type": "stream",
     "text": [
      "Computing accuracy\n",
      "Test set accuracy (Precision@1) = 0.47794741306191685\n",
      "Epoch 4 Iteration 0: Loss = 0.4413973391056061\n"
     ]
    },
    {
     "name": "stderr",
     "output_type": "stream",
     "text": [
      "100%|█████████████████████████████████████████████████████████████████████████████████████████████████████| 295/295 [00:16<00:00, 17.47it/s]\n",
      "100%|███████████████████████████████████████████████████████████████████████████████████████████████████████| 74/74 [00:03<00:00, 19.69it/s]\n"
     ]
    },
    {
     "name": "stdout",
     "output_type": "stream",
     "text": [
      "Computing accuracy\n",
      "Test set accuracy (Precision@1) = 0.4872773536895674\n",
      "Epoch 5 Iteration 0: Loss = 0.37623846530914307\n"
     ]
    },
    {
     "name": "stderr",
     "output_type": "stream",
     "text": [
      "100%|█████████████████████████████████████████████████████████████████████████████████████████████████████| 295/295 [00:16<00:00, 18.22it/s]\n",
      "100%|███████████████████████████████████████████████████████████████████████████████████████████████████████| 74/74 [00:03<00:00, 18.87it/s]\n"
     ]
    },
    {
     "name": "stdout",
     "output_type": "stream",
     "text": [
      "Computing accuracy\n",
      "Test set accuracy (Precision@1) = 0.4860050890585242\n",
      "Epoch 6 Iteration 0: Loss = 0.3306882381439209\n"
     ]
    },
    {
     "name": "stderr",
     "output_type": "stream",
     "text": [
      "100%|█████████████████████████████████████████████████████████████████████████████████████████████████████| 295/295 [00:16<00:00, 17.98it/s]\n",
      "100%|███████████████████████████████████████████████████████████████████████████████████████████████████████| 74/74 [00:03<00:00, 19.36it/s]\n"
     ]
    },
    {
     "name": "stdout",
     "output_type": "stream",
     "text": [
      "Computing accuracy\n",
      "Test set accuracy (Precision@1) = 0.48854961832061067\n",
      "Epoch 7 Iteration 0: Loss = 0.41831910610198975\n"
     ]
    },
    {
     "name": "stderr",
     "output_type": "stream",
     "text": [
      "100%|█████████████████████████████████████████████████████████████████████████████████████████████████████| 295/295 [00:17<00:00, 17.15it/s]\n",
      "100%|███████████████████████████████████████████████████████████████████████████████████████████████████████| 74/74 [00:03<00:00, 19.37it/s]\n"
     ]
    },
    {
     "name": "stdout",
     "output_type": "stream",
     "text": [
      "Computing accuracy\n",
      "Test set accuracy (Precision@1) = 0.5055131467345207\n",
      "Epoch 8 Iteration 0: Loss = 0.28362736105918884\n"
     ]
    },
    {
     "name": "stderr",
     "output_type": "stream",
     "text": [
      "100%|█████████████████████████████████████████████████████████████████████████████████████████████████████| 295/295 [00:16<00:00, 17.66it/s]\n",
      "100%|███████████████████████████████████████████████████████████████████████████████████████████████████████| 74/74 [00:03<00:00, 19.57it/s]\n"
     ]
    },
    {
     "name": "stdout",
     "output_type": "stream",
     "text": [
      "Computing accuracy\n",
      "Test set accuracy (Precision@1) = 0.4944868532654792\n",
      "Epoch 9 Iteration 0: Loss = 0.38332289457321167\n"
     ]
    },
    {
     "name": "stderr",
     "output_type": "stream",
     "text": [
      "100%|█████████████████████████████████████████████████████████████████████████████████████████████████████| 295/295 [00:16<00:00, 18.03it/s]\n",
      "100%|███████████████████████████████████████████████████████████████████████████████████████████████████████| 74/74 [00:03<00:00, 19.01it/s]\n"
     ]
    },
    {
     "name": "stdout",
     "output_type": "stream",
     "text": [
      "Computing accuracy\n",
      "Test set accuracy (Precision@1) = 0.49236641221374045\n",
      "Epoch 10 Iteration 0: Loss = 0.3659347891807556\n"
     ]
    },
    {
     "name": "stderr",
     "output_type": "stream",
     "text": [
      "100%|█████████████████████████████████████████████████████████████████████████████████████████████████████| 295/295 [00:16<00:00, 18.02it/s]\n",
      "100%|███████████████████████████████████████████████████████████████████████████████████████████████████████| 74/74 [00:03<00:00, 19.30it/s]\n"
     ]
    },
    {
     "name": "stdout",
     "output_type": "stream",
     "text": [
      "Computing accuracy\n",
      "Test set accuracy (Precision@1) = 0.5004240882103478\n",
      "Epoch 11 Iteration 0: Loss = 0.43673861026763916\n"
     ]
    },
    {
     "name": "stderr",
     "output_type": "stream",
     "text": [
      "100%|█████████████████████████████████████████████████████████████████████████████████████████████████████| 295/295 [00:16<00:00, 17.88it/s]\n",
      "100%|███████████████████████████████████████████████████████████████████████████████████████████████████████| 74/74 [00:03<00:00, 18.72it/s]\n"
     ]
    },
    {
     "name": "stdout",
     "output_type": "stream",
     "text": [
      "Computing accuracy\n",
      "Test set accuracy (Precision@1) = 0.4910941475826972\n",
      "Epoch 12 Iteration 0: Loss = 0.3425673842430115\n"
     ]
    },
    {
     "name": "stderr",
     "output_type": "stream",
     "text": [
      "100%|█████████████████████████████████████████████████████████████████████████████████████████████████████| 295/295 [00:16<00:00, 17.79it/s]\n",
      "100%|███████████████████████████████████████████████████████████████████████████████████████████████████████| 74/74 [00:03<00:00, 19.91it/s]\n"
     ]
    },
    {
     "name": "stdout",
     "output_type": "stream",
     "text": [
      "Computing accuracy\n",
      "Test set accuracy (Precision@1) = 0.5042408821034775\n",
      "Epoch 13 Iteration 0: Loss = 0.3974857032299042\n"
     ]
    },
    {
     "name": "stderr",
     "output_type": "stream",
     "text": [
      "100%|█████████████████████████████████████████████████████████████████████████████████████████████████████| 295/295 [00:16<00:00, 17.97it/s]\n",
      "100%|███████████████████████████████████████████████████████████████████████████████████████████████████████| 74/74 [00:03<00:00, 19.53it/s]\n"
     ]
    },
    {
     "name": "stdout",
     "output_type": "stream",
     "text": [
      "Computing accuracy\n",
      "Test set accuracy (Precision@1) = 0.501696352841391\n",
      "Epoch 14 Iteration 0: Loss = 0.2851642072200775\n"
     ]
    },
    {
     "name": "stderr",
     "output_type": "stream",
     "text": [
      "100%|█████████████████████████████████████████████████████████████████████████████████████████████████████| 295/295 [00:16<00:00, 18.19it/s]\n",
      "100%|███████████████████████████████████████████████████████████████████████████████████████████████████████| 74/74 [00:03<00:00, 19.30it/s]\n"
     ]
    },
    {
     "name": "stdout",
     "output_type": "stream",
     "text": [
      "Computing accuracy\n",
      "Test set accuracy (Precision@1) = 0.49321458863443596\n",
      "Epoch 15 Iteration 0: Loss = 0.36279261112213135\n"
     ]
    },
    {
     "name": "stderr",
     "output_type": "stream",
     "text": [
      "100%|█████████████████████████████████████████████████████████████████████████████████████████████████████| 295/295 [00:16<00:00, 18.05it/s]\n",
      "100%|███████████████████████████████████████████████████████████████████████████████████████████████████████| 74/74 [00:04<00:00, 18.12it/s]\n"
     ]
    },
    {
     "name": "stdout",
     "output_type": "stream",
     "text": [
      "Computing accuracy\n",
      "Test set accuracy (Precision@1) = 0.5114503816793893\n",
      "Epoch 16 Iteration 0: Loss = 0.2847011387348175\n"
     ]
    },
    {
     "name": "stderr",
     "output_type": "stream",
     "text": [
      "100%|█████████████████████████████████████████████████████████████████████████████████████████████████████| 295/295 [00:16<00:00, 17.64it/s]\n",
      "100%|███████████████████████████████████████████████████████████████████████████████████████████████████████| 74/74 [00:03<00:00, 19.84it/s]\n"
     ]
    },
    {
     "name": "stdout",
     "output_type": "stream",
     "text": [
      "Computing accuracy\n",
      "Test set accuracy (Precision@1) = 0.506785411365564\n",
      "Epoch 17 Iteration 0: Loss = 0.33755412697792053\n"
     ]
    },
    {
     "name": "stderr",
     "output_type": "stream",
     "text": [
      "100%|█████████████████████████████████████████████████████████████████████████████████████████████████████| 295/295 [00:16<00:00, 18.21it/s]\n",
      "100%|███████████████████████████████████████████████████████████████████████████████████████████████████████| 74/74 [00:03<00:00, 19.82it/s]\n"
     ]
    },
    {
     "name": "stdout",
     "output_type": "stream",
     "text": [
      "Computing accuracy\n",
      "Test set accuracy (Precision@1) = 0.503392705682782\n",
      "Epoch 18 Iteration 0: Loss = 0.2627255320549011\n"
     ]
    },
    {
     "name": "stderr",
     "output_type": "stream",
     "text": [
      "100%|█████████████████████████████████████████████████████████████████████████████████████████████████████| 295/295 [00:17<00:00, 17.08it/s]\n",
      "100%|███████████████████████████████████████████████████████████████████████████████████████████████████████| 74/74 [00:03<00:00, 19.79it/s]\n"
     ]
    },
    {
     "name": "stdout",
     "output_type": "stream",
     "text": [
      "Computing accuracy\n",
      "Test set accuracy (Precision@1) = 0.5139949109414759\n",
      "Epoch 19 Iteration 0: Loss = 0.3731558918952942\n"
     ]
    },
    {
     "name": "stderr",
     "output_type": "stream",
     "text": [
      "100%|█████████████████████████████████████████████████████████████████████████████████████████████████████| 295/295 [00:16<00:00, 17.53it/s]\n",
      "100%|███████████████████████████████████████████████████████████████████████████████████████████████████████| 74/74 [00:03<00:00, 19.66it/s]\n"
     ]
    },
    {
     "name": "stdout",
     "output_type": "stream",
     "text": [
      "Computing accuracy\n",
      "Test set accuracy (Precision@1) = 0.5046649703138253\n",
      "Epoch 20 Iteration 0: Loss = 0.37003597617149353\n"
     ]
    },
    {
     "name": "stderr",
     "output_type": "stream",
     "text": [
      "100%|█████████████████████████████████████████████████████████████████████████████████████████████████████| 295/295 [00:16<00:00, 17.54it/s]\n",
      "100%|███████████████████████████████████████████████████████████████████████████████████████████████████████| 74/74 [00:03<00:00, 19.67it/s]\n"
     ]
    },
    {
     "name": "stdout",
     "output_type": "stream",
     "text": [
      "Computing accuracy\n",
      "Test set accuracy (Precision@1) = 0.5118744698897371\n",
      "Epoch 21 Iteration 0: Loss = 0.33058130741119385\n"
     ]
    },
    {
     "name": "stderr",
     "output_type": "stream",
     "text": [
      "100%|█████████████████████████████████████████████████████████████████████████████████████████████████████| 295/295 [00:16<00:00, 17.50it/s]\n",
      "100%|███████████████████████████████████████████████████████████████████████████████████████████████████████| 74/74 [00:03<00:00, 19.02it/s]\n"
     ]
    },
    {
     "name": "stdout",
     "output_type": "stream",
     "text": [
      "Computing accuracy\n",
      "Test set accuracy (Precision@1) = 0.5110262934690416\n",
      "Epoch 22 Iteration 0: Loss = 0.32484760880470276\n"
     ]
    },
    {
     "name": "stderr",
     "output_type": "stream",
     "text": [
      "100%|█████████████████████████████████████████████████████████████████████████████████████████████████████| 295/295 [00:16<00:00, 17.90it/s]\n",
      "100%|███████████████████████████████████████████████████████████████████████████████████████████████████████| 74/74 [00:03<00:00, 19.35it/s]\n"
     ]
    },
    {
     "name": "stdout",
     "output_type": "stream",
     "text": [
      "Computing accuracy\n",
      "Test set accuracy (Precision@1) = 0.5059372349448685\n",
      "Epoch 23 Iteration 0: Loss = 0.3045194149017334\n"
     ]
    },
    {
     "name": "stderr",
     "output_type": "stream",
     "text": [
      "100%|█████████████████████████████████████████████████████████████████████████████████████████████████████| 295/295 [00:16<00:00, 18.03it/s]\n",
      "100%|███████████████████████████████████████████████████████████████████████████████████████████████████████| 74/74 [00:03<00:00, 18.93it/s]\n"
     ]
    },
    {
     "name": "stdout",
     "output_type": "stream",
     "text": [
      "Computing accuracy\n",
      "Test set accuracy (Precision@1) = 0.5262934690415606\n",
      "Epoch 24 Iteration 0: Loss = 0.3047584295272827\n"
     ]
    },
    {
     "name": "stderr",
     "output_type": "stream",
     "text": [
      "100%|█████████████████████████████████████████████████████████████████████████████████████████████████████| 295/295 [00:16<00:00, 17.80it/s]\n",
      "100%|███████████████████████████████████████████████████████████████████████████████████████████████████████| 74/74 [00:03<00:00, 18.84it/s]\n"
     ]
    },
    {
     "name": "stdout",
     "output_type": "stream",
     "text": [
      "Computing accuracy\n",
      "Test set accuracy (Precision@1) = 0.5156912637828668\n",
      "Epoch 25 Iteration 0: Loss = 0.3212904632091522\n"
     ]
    },
    {
     "name": "stderr",
     "output_type": "stream",
     "text": [
      "100%|█████████████████████████████████████████████████████████████████████████████████████████████████████| 295/295 [00:16<00:00, 17.69it/s]\n",
      "100%|███████████████████████████████████████████████████████████████████████████████████████████████████████| 74/74 [00:03<00:00, 19.54it/s]\n"
     ]
    },
    {
     "name": "stdout",
     "output_type": "stream",
     "text": [
      "Computing accuracy\n",
      "Test set accuracy (Precision@1) = 0.5212044105173876\n",
      "Epoch 26 Iteration 0: Loss = 0.31871193647384644\n"
     ]
    },
    {
     "name": "stderr",
     "output_type": "stream",
     "text": [
      "100%|█████████████████████████████████████████████████████████████████████████████████████████████████████| 295/295 [00:17<00:00, 17.04it/s]\n",
      "100%|███████████████████████████████████████████████████████████████████████████████████████████████████████| 74/74 [00:03<00:00, 19.46it/s]\n"
     ]
    },
    {
     "name": "stdout",
     "output_type": "stream",
     "text": [
      "Computing accuracy\n",
      "Test set accuracy (Precision@1) = 0.5224766751484309\n",
      "Epoch 27 Iteration 0: Loss = 0.3259929418563843\n"
     ]
    },
    {
     "name": "stderr",
     "output_type": "stream",
     "text": [
      "100%|█████████████████████████████████████████████████████████████████████████████████████████████████████| 295/295 [00:16<00:00, 17.87it/s]\n",
      "100%|███████████████████████████████████████████████████████████████████████████████████████████████████████| 74/74 [00:03<00:00, 19.95it/s]\n"
     ]
    },
    {
     "name": "stdout",
     "output_type": "stream",
     "text": [
      "Computing accuracy\n",
      "Test set accuracy (Precision@1) = 0.5144189991518235\n",
      "Epoch 28 Iteration 0: Loss = 0.338985800743103\n"
     ]
    },
    {
     "name": "stderr",
     "output_type": "stream",
     "text": [
      "100%|█████████████████████████████████████████████████████████████████████████████████████████████████████| 295/295 [00:16<00:00, 18.02it/s]\n",
      "100%|███████████████████████████████████████████████████████████████████████████████████████████████████████| 74/74 [00:03<00:00, 19.42it/s]\n"
     ]
    },
    {
     "name": "stdout",
     "output_type": "stream",
     "text": [
      "Computing accuracy\n",
      "Test set accuracy (Precision@1) = 0.5144189991518235\n",
      "Epoch 29 Iteration 0: Loss = 0.29226797819137573\n"
     ]
    },
    {
     "name": "stderr",
     "output_type": "stream",
     "text": [
      "100%|█████████████████████████████████████████████████████████████████████████████████████████████████████| 295/295 [00:16<00:00, 18.15it/s]\n",
      "100%|███████████████████████████████████████████████████████████████████████████████████████████████████████| 74/74 [00:04<00:00, 17.69it/s]\n"
     ]
    },
    {
     "name": "stdout",
     "output_type": "stream",
     "text": [
      "Computing accuracy\n",
      "Test set accuracy (Precision@1) = 0.5190839694656488\n",
      "Epoch 30 Iteration 0: Loss = 0.34667250514030457\n"
     ]
    },
    {
     "name": "stderr",
     "output_type": "stream",
     "text": [
      "100%|█████████████████████████████████████████████████████████████████████████████████████████████████████| 295/295 [00:16<00:00, 17.86it/s]\n",
      "100%|███████████████████████████████████████████████████████████████████████████████████████████████████████| 74/74 [00:03<00:00, 19.34it/s]\n"
     ]
    },
    {
     "name": "stdout",
     "output_type": "stream",
     "text": [
      "Computing accuracy\n",
      "Test set accuracy (Precision@1) = 0.5131467345207803\n",
      "Epoch 31 Iteration 0: Loss = 0.32164934277534485\n"
     ]
    },
    {
     "name": "stderr",
     "output_type": "stream",
     "text": [
      "100%|█████████████████████████████████████████████████████████████████████████████████████████████████████| 295/295 [00:16<00:00, 17.93it/s]\n",
      "100%|███████████████████████████████████████████████████████████████████████████████████████████████████████| 74/74 [00:03<00:00, 18.98it/s]\n"
     ]
    },
    {
     "name": "stdout",
     "output_type": "stream",
     "text": [
      "Computing accuracy\n",
      "Test set accuracy (Precision@1) = 0.518659881255301\n",
      "Epoch 32 Iteration 0: Loss = 0.3342333436012268\n"
     ]
    },
    {
     "name": "stderr",
     "output_type": "stream",
     "text": [
      "100%|█████████████████████████████████████████████████████████████████████████████████████████████████████| 295/295 [00:16<00:00, 17.56it/s]\n",
      "100%|███████████████████████████████████████████████████████████████████████████████████████████████████████| 74/74 [00:03<00:00, 20.37it/s]\n"
     ]
    },
    {
     "name": "stdout",
     "output_type": "stream",
     "text": [
      "Computing accuracy\n",
      "Test set accuracy (Precision@1) = 0.5237489397794741\n",
      "Epoch 33 Iteration 0: Loss = 0.3133116364479065\n"
     ]
    },
    {
     "name": "stderr",
     "output_type": "stream",
     "text": [
      "100%|█████████████████████████████████████████████████████████████████████████████████████████████████████| 295/295 [00:16<00:00, 18.06it/s]\n",
      "100%|███████████████████████████████████████████████████████████████████████████████████████████████████████| 74/74 [00:03<00:00, 18.95it/s]\n"
     ]
    },
    {
     "name": "stdout",
     "output_type": "stream",
     "text": [
      "Computing accuracy\n",
      "Test set accuracy (Precision@1) = 0.5267175572519084\n",
      "Epoch 34 Iteration 0: Loss = 0.3262863755226135\n"
     ]
    },
    {
     "name": "stderr",
     "output_type": "stream",
     "text": [
      "100%|█████████████████████████████████████████████████████████████████████████████████████████████████████| 295/295 [00:16<00:00, 17.89it/s]\n",
      "100%|███████████████████████████████████████████████████████████████████████████████████████████████████████| 74/74 [00:03<00:00, 19.51it/s]\n"
     ]
    },
    {
     "name": "stdout",
     "output_type": "stream",
     "text": [
      "Computing accuracy\n",
      "Test set accuracy (Precision@1) = 0.5254452926208651\n",
      "Epoch 35 Iteration 0: Loss = 0.3204321265220642\n"
     ]
    },
    {
     "name": "stderr",
     "output_type": "stream",
     "text": [
      "100%|█████████████████████████████████████████████████████████████████████████████████████████████████████| 295/295 [00:16<00:00, 17.50it/s]\n",
      "100%|███████████████████████████████████████████████████████████████████████████████████████████████████████| 74/74 [00:03<00:00, 19.46it/s]\n"
     ]
    },
    {
     "name": "stdout",
     "output_type": "stream",
     "text": [
      "Computing accuracy\n",
      "Test set accuracy (Precision@1) = 0.5237489397794741\n",
      "Epoch 36 Iteration 0: Loss = 0.3340221345424652\n"
     ]
    },
    {
     "name": "stderr",
     "output_type": "stream",
     "text": [
      "100%|█████████████████████████████████████████████████████████████████████████████████████████████████████| 295/295 [00:16<00:00, 17.90it/s]\n",
      "100%|███████████████████████████████████████████████████████████████████████████████████████████████████████| 74/74 [00:03<00:00, 18.96it/s]\n"
     ]
    },
    {
     "name": "stdout",
     "output_type": "stream",
     "text": [
      "Computing accuracy\n",
      "Test set accuracy (Precision@1) = 0.5275657336726038\n",
      "Epoch 37 Iteration 0: Loss = 0.2855024039745331\n"
     ]
    },
    {
     "name": "stderr",
     "output_type": "stream",
     "text": [
      "100%|█████████████████████████████████████████████████████████████████████████████████████████████████████| 295/295 [00:16<00:00, 17.55it/s]\n",
      "100%|███████████████████████████████████████████████████████████████████████████████████████████████████████| 74/74 [00:04<00:00, 17.98it/s]\n"
     ]
    },
    {
     "name": "stdout",
     "output_type": "stream",
     "text": [
      "Computing accuracy\n",
      "Test set accuracy (Precision@1) = 0.5267175572519084\n",
      "Epoch 38 Iteration 0: Loss = 0.28479939699172974\n"
     ]
    },
    {
     "name": "stderr",
     "output_type": "stream",
     "text": [
      "100%|█████████████████████████████████████████████████████████████████████████████████████████████████████| 295/295 [00:16<00:00, 17.37it/s]\n",
      "100%|███████████████████████████████████████████████████████████████████████████████████████████████████████| 74/74 [00:03<00:00, 19.23it/s]\n"
     ]
    },
    {
     "name": "stdout",
     "output_type": "stream",
     "text": [
      "Computing accuracy\n",
      "Test set accuracy (Precision@1) = 0.5254452926208651\n",
      "Epoch 39 Iteration 0: Loss = 0.2994496822357178\n"
     ]
    },
    {
     "name": "stderr",
     "output_type": "stream",
     "text": [
      "100%|█████████████████████████████████████████████████████████████████████████████████████████████████████| 295/295 [00:16<00:00, 17.80it/s]\n",
      "100%|███████████████████████████████████████████████████████████████████████████████████████████████████████| 74/74 [00:04<00:00, 18.38it/s]\n"
     ]
    },
    {
     "name": "stdout",
     "output_type": "stream",
     "text": [
      "Computing accuracy\n",
      "Test set accuracy (Precision@1) = 0.5118744698897371\n",
      "Epoch 40 Iteration 0: Loss = 0.3290313184261322\n"
     ]
    },
    {
     "name": "stderr",
     "output_type": "stream",
     "text": [
      "100%|█████████████████████████████████████████████████████████████████████████████████████████████████████| 295/295 [00:16<00:00, 17.84it/s]\n",
      "100%|███████████████████████████████████████████████████████████████████████████████████████████████████████| 74/74 [00:03<00:00, 18.77it/s]\n"
     ]
    },
    {
     "name": "stdout",
     "output_type": "stream",
     "text": [
      "Computing accuracy\n",
      "Test set accuracy (Precision@1) = 0.5139949109414759\n",
      "Epoch 41 Iteration 0: Loss = 0.2596135437488556\n"
     ]
    },
    {
     "name": "stderr",
     "output_type": "stream",
     "text": [
      "100%|█████████████████████████████████████████████████████████████████████████████████████████████████████| 295/295 [00:16<00:00, 17.51it/s]\n",
      "100%|███████████████████████████████████████████████████████████████████████████████████████████████████████| 74/74 [00:03<00:00, 19.06it/s]\n"
     ]
    },
    {
     "name": "stdout",
     "output_type": "stream",
     "text": [
      "Computing accuracy\n",
      "Test set accuracy (Precision@1) = 0.5212044105173876\n",
      "Epoch 42 Iteration 0: Loss = 0.3493594229221344\n"
     ]
    },
    {
     "name": "stderr",
     "output_type": "stream",
     "text": [
      "100%|█████████████████████████████████████████████████████████████████████████████████████████████████████| 295/295 [00:16<00:00, 17.53it/s]\n",
      "100%|███████████████████████████████████████████████████████████████████████████████████████████████████████| 74/74 [00:03<00:00, 19.22it/s]\n"
     ]
    },
    {
     "name": "stdout",
     "output_type": "stream",
     "text": [
      "Computing accuracy\n",
      "Test set accuracy (Precision@1) = 0.5182357930449534\n",
      "Epoch 43 Iteration 0: Loss = 0.29495900869369507\n"
     ]
    },
    {
     "name": "stderr",
     "output_type": "stream",
     "text": [
      "100%|█████████████████████████████████████████████████████████████████████████████████████████████████████| 295/295 [00:16<00:00, 17.54it/s]\n",
      "100%|███████████████████████████████████████████████████████████████████████████████████████████████████████| 74/74 [00:03<00:00, 19.23it/s]\n"
     ]
    },
    {
     "name": "stdout",
     "output_type": "stream",
     "text": [
      "Computing accuracy\n",
      "Test set accuracy (Precision@1) = 0.5305343511450381\n",
      "Epoch 44 Iteration 0: Loss = 0.36171793937683105\n"
     ]
    },
    {
     "name": "stderr",
     "output_type": "stream",
     "text": [
      "100%|█████████████████████████████████████████████████████████████████████████████████████████████████████| 295/295 [00:16<00:00, 17.88it/s]\n",
      "100%|███████████████████████████████████████████████████████████████████████████████████████████████████████| 74/74 [00:03<00:00, 19.86it/s]\n"
     ]
    },
    {
     "name": "stdout",
     "output_type": "stream",
     "text": [
      "Computing accuracy\n",
      "Test set accuracy (Precision@1) = 0.5250212044105174\n",
      "Epoch 45 Iteration 0: Loss = 0.3104458749294281\n"
     ]
    },
    {
     "name": "stderr",
     "output_type": "stream",
     "text": [
      "100%|█████████████████████████████████████████████████████████████████████████████████████████████████████| 295/295 [00:16<00:00, 17.77it/s]\n",
      "100%|███████████████████████████████████████████████████████████████████████████████████████████████████████| 74/74 [00:04<00:00, 17.52it/s]\n"
     ]
    },
    {
     "name": "stdout",
     "output_type": "stream",
     "text": [
      "Computing accuracy\n",
      "Test set accuracy (Precision@1) = 0.5275657336726038\n",
      "Epoch 46 Iteration 0: Loss = 0.3557988703250885\n"
     ]
    },
    {
     "name": "stderr",
     "output_type": "stream",
     "text": [
      "100%|█████████████████████████████████████████████████████████████████████████████████████████████████████| 295/295 [00:16<00:00, 17.75it/s]\n",
      "100%|███████████████████████████████████████████████████████████████████████████████████████████████████████| 74/74 [00:03<00:00, 19.38it/s]\n"
     ]
    },
    {
     "name": "stdout",
     "output_type": "stream",
     "text": [
      "Computing accuracy\n",
      "Test set accuracy (Precision@1) = 0.5284139100932994\n",
      "Epoch 47 Iteration 0: Loss = 0.3520856499671936\n"
     ]
    },
    {
     "name": "stderr",
     "output_type": "stream",
     "text": [
      "100%|█████████████████████████████████████████████████████████████████████████████████████████████████████| 295/295 [00:16<00:00, 17.89it/s]\n",
      "100%|███████████████████████████████████████████████████████████████████████████████████████████████████████| 74/74 [00:03<00:00, 19.79it/s]\n"
     ]
    },
    {
     "name": "stdout",
     "output_type": "stream",
     "text": [
      "Computing accuracy\n",
      "Test set accuracy (Precision@1) = 0.5288379983036472\n",
      "Epoch 48 Iteration 0: Loss = 0.25285112857818604\n"
     ]
    },
    {
     "name": "stderr",
     "output_type": "stream",
     "text": [
      "100%|█████████████████████████████████████████████████████████████████████████████████████████████████████| 295/295 [00:16<00:00, 17.83it/s]\n",
      "100%|███████████████████████████████████████████████████████████████████████████████████████████████████████| 74/74 [00:03<00:00, 19.71it/s]\n"
     ]
    },
    {
     "name": "stdout",
     "output_type": "stream",
     "text": [
      "Computing accuracy\n",
      "Test set accuracy (Precision@1) = 0.5301102629346904\n",
      "Epoch 49 Iteration 0: Loss = 0.32729393243789673\n"
     ]
    },
    {
     "name": "stderr",
     "output_type": "stream",
     "text": [
      "100%|█████████████████████████████████████████████████████████████████████████████████████████████████████| 295/295 [00:16<00:00, 17.99it/s]\n",
      "100%|███████████████████████████████████████████████████████████████████████████████████████████████████████| 74/74 [00:03<00:00, 19.13it/s]\n"
     ]
    },
    {
     "name": "stdout",
     "output_type": "stream",
     "text": [
      "Computing accuracy\n",
      "Test set accuracy (Precision@1) = 0.5301102629346904\n",
      "Epoch 50 Iteration 0: Loss = 0.3329317271709442\n"
     ]
    },
    {
     "name": "stderr",
     "output_type": "stream",
     "text": [
      "100%|█████████████████████████████████████████████████████████████████████████████████████████████████████| 295/295 [00:16<00:00, 17.92it/s]\n",
      "100%|███████████████████████████████████████████████████████████████████████████████████████████████████████| 74/74 [00:03<00:00, 19.41it/s]\n"
     ]
    },
    {
     "name": "stdout",
     "output_type": "stream",
     "text": [
      "Computing accuracy\n",
      "Test set accuracy (Precision@1) = 0.5262934690415606\n",
      "Epoch 51 Iteration 0: Loss = 0.33277854323387146\n"
     ]
    },
    {
     "name": "stderr",
     "output_type": "stream",
     "text": [
      "100%|█████████████████████████████████████████████████████████████████████████████████████████████████████| 295/295 [00:16<00:00, 17.64it/s]\n",
      "100%|███████████████████████████████████████████████████████████████████████████████████████████████████████| 74/74 [00:03<00:00, 19.62it/s]\n"
     ]
    },
    {
     "name": "stdout",
     "output_type": "stream",
     "text": [
      "Computing accuracy\n",
      "Test set accuracy (Precision@1) = 0.5254452926208651\n",
      "Epoch 52 Iteration 0: Loss = 0.33552342653274536\n"
     ]
    },
    {
     "name": "stderr",
     "output_type": "stream",
     "text": [
      "100%|█████████████████████████████████████████████████████████████████████████████████████████████████████| 295/295 [00:16<00:00, 17.54it/s]\n",
      "100%|███████████████████████████████████████████████████████████████████████████████████████████████████████| 74/74 [00:04<00:00, 17.93it/s]\n"
     ]
    },
    {
     "name": "stdout",
     "output_type": "stream",
     "text": [
      "Computing accuracy\n",
      "Test set accuracy (Precision@1) = 0.5284139100932994\n",
      "Epoch 53 Iteration 0: Loss = 0.3192302882671356\n"
     ]
    },
    {
     "name": "stderr",
     "output_type": "stream",
     "text": [
      "100%|█████████████████████████████████████████████████████████████████████████████████████████████████████| 295/295 [00:16<00:00, 17.53it/s]\n",
      "100%|███████████████████████████████████████████████████████████████████████████████████████████████████████| 74/74 [00:03<00:00, 18.92it/s]\n"
     ]
    },
    {
     "name": "stdout",
     "output_type": "stream",
     "text": [
      "Computing accuracy\n",
      "Test set accuracy (Precision@1) = 0.5313825275657337\n",
      "Epoch 54 Iteration 0: Loss = 0.25282570719718933\n"
     ]
    },
    {
     "name": "stderr",
     "output_type": "stream",
     "text": [
      "100%|█████████████████████████████████████████████████████████████████████████████████████████████████████| 295/295 [00:17<00:00, 17.28it/s]\n",
      "100%|███████████████████████████████████████████████████████████████████████████████████████████████████████| 74/74 [00:03<00:00, 19.32it/s]\n"
     ]
    },
    {
     "name": "stdout",
     "output_type": "stream",
     "text": [
      "Computing accuracy\n",
      "Test set accuracy (Precision@1) = 0.5267175572519084\n",
      "Epoch 55 Iteration 0: Loss = 0.3116231858730316\n"
     ]
    },
    {
     "name": "stderr",
     "output_type": "stream",
     "text": [
      "100%|█████████████████████████████████████████████████████████████████████████████████████████████████████| 295/295 [00:16<00:00, 17.41it/s]\n",
      "100%|███████████████████████████████████████████████████████████████████████████████████████████████████████| 74/74 [00:03<00:00, 19.90it/s]\n"
     ]
    },
    {
     "name": "stdout",
     "output_type": "stream",
     "text": [
      "Computing accuracy\n",
      "Test set accuracy (Precision@1) = 0.5241730279898219\n",
      "Epoch 56 Iteration 0: Loss = 0.27102571725845337\n"
     ]
    },
    {
     "name": "stderr",
     "output_type": "stream",
     "text": [
      "100%|█████████████████████████████████████████████████████████████████████████████████████████████████████| 295/295 [00:16<00:00, 17.73it/s]\n",
      "100%|███████████████████████████████████████████████████████████████████████████████████████████████████████| 74/74 [00:03<00:00, 18.79it/s]\n"
     ]
    },
    {
     "name": "stdout",
     "output_type": "stream",
     "text": [
      "Computing accuracy\n",
      "Test set accuracy (Precision@1) = 0.5279898218829516\n",
      "Epoch 57 Iteration 0: Loss = 0.3647944927215576\n"
     ]
    },
    {
     "name": "stderr",
     "output_type": "stream",
     "text": [
      "100%|█████████████████████████████████████████████████████████████████████████████████████████████████████| 295/295 [00:17<00:00, 17.28it/s]\n",
      "100%|███████████████████████████████████████████████████████████████████████████████████████████████████████| 74/74 [00:04<00:00, 18.33it/s]\n"
     ]
    },
    {
     "name": "stdout",
     "output_type": "stream",
     "text": [
      "Computing accuracy\n",
      "Test set accuracy (Precision@1) = 0.5275657336726038\n",
      "Epoch 58 Iteration 0: Loss = 0.3373350203037262\n"
     ]
    },
    {
     "name": "stderr",
     "output_type": "stream",
     "text": [
      "100%|█████████████████████████████████████████████████████████████████████████████████████████████████████| 295/295 [00:16<00:00, 17.57it/s]\n",
      "100%|███████████████████████████████████████████████████████████████████████████████████████████████████████| 74/74 [00:03<00:00, 19.07it/s]\n"
     ]
    },
    {
     "name": "stdout",
     "output_type": "stream",
     "text": [
      "Computing accuracy\n",
      "Test set accuracy (Precision@1) = 0.5343511450381679\n",
      "Epoch 59 Iteration 0: Loss = 0.3350224792957306\n"
     ]
    },
    {
     "name": "stderr",
     "output_type": "stream",
     "text": [
      "100%|█████████████████████████████████████████████████████████████████████████████████████████████████████| 295/295 [00:17<00:00, 17.30it/s]\n",
      "100%|███████████████████████████████████████████████████████████████████████████████████████████████████████| 74/74 [00:03<00:00, 19.27it/s]\n"
     ]
    },
    {
     "name": "stdout",
     "output_type": "stream",
     "text": [
      "Computing accuracy\n",
      "Test set accuracy (Precision@1) = 0.5309584393553859\n",
      "Epoch 60 Iteration 0: Loss = 0.30509889125823975\n"
     ]
    },
    {
     "name": "stderr",
     "output_type": "stream",
     "text": [
      "100%|█████████████████████████████████████████████████████████████████████████████████████████████████████| 295/295 [00:17<00:00, 16.91it/s]\n",
      "100%|███████████████████████████████████████████████████████████████████████████████████████████████████████| 74/74 [00:03<00:00, 18.99it/s]\n"
     ]
    },
    {
     "name": "stdout",
     "output_type": "stream",
     "text": [
      "Computing accuracy\n",
      "Test set accuracy (Precision@1) = 0.53774385072095\n",
      "Epoch 61 Iteration 0: Loss = 0.24143123626708984\n"
     ]
    },
    {
     "name": "stderr",
     "output_type": "stream",
     "text": [
      "100%|█████████████████████████████████████████████████████████████████████████████████████████████████████| 295/295 [00:16<00:00, 17.56it/s]\n",
      "100%|███████████████████████████████████████████████████████████████████████████████████████████████████████| 74/74 [00:03<00:00, 19.99it/s]\n"
     ]
    },
    {
     "name": "stdout",
     "output_type": "stream",
     "text": [
      "Computing accuracy\n",
      "Test set accuracy (Precision@1) = 0.5356234096692112\n",
      "Epoch 62 Iteration 0: Loss = 0.3796798586845398\n"
     ]
    },
    {
     "name": "stderr",
     "output_type": "stream",
     "text": [
      "100%|█████████████████████████████████████████████████████████████████████████████████████████████████████| 295/295 [00:16<00:00, 17.81it/s]\n",
      "100%|███████████████████████████████████████████████████████████████████████████████████████████████████████| 74/74 [00:03<00:00, 19.22it/s]\n"
     ]
    },
    {
     "name": "stdout",
     "output_type": "stream",
     "text": [
      "Computing accuracy\n",
      "Test set accuracy (Precision@1) = 0.5322307039864291\n",
      "Epoch 63 Iteration 0: Loss = 0.3364427983760834\n"
     ]
    },
    {
     "name": "stderr",
     "output_type": "stream",
     "text": [
      "100%|█████████████████████████████████████████████████████████████████████████████████████████████████████| 295/295 [00:16<00:00, 17.78it/s]\n",
      "100%|███████████████████████████████████████████████████████████████████████████████████████████████████████| 74/74 [00:03<00:00, 19.23it/s]\n"
     ]
    },
    {
     "name": "stdout",
     "output_type": "stream",
     "text": [
      "Computing accuracy\n",
      "Test set accuracy (Precision@1) = 0.5343511450381679\n",
      "Epoch 64 Iteration 0: Loss = 0.27694982290267944\n"
     ]
    },
    {
     "name": "stderr",
     "output_type": "stream",
     "text": [
      "100%|█████████████████████████████████████████████████████████████████████████████████████████████████████| 295/295 [00:16<00:00, 17.90it/s]\n",
      "100%|███████████████████████████████████████████████████████████████████████████████████████████████████████| 74/74 [00:03<00:00, 19.41it/s]\n"
     ]
    },
    {
     "name": "stdout",
     "output_type": "stream",
     "text": [
      "Computing accuracy\n",
      "Test set accuracy (Precision@1) = 0.5309584393553859\n",
      "Epoch 65 Iteration 0: Loss = 0.23050788044929504\n"
     ]
    },
    {
     "name": "stderr",
     "output_type": "stream",
     "text": [
      "100%|█████████████████████████████████████████████████████████████████████████████████████████████████████| 295/295 [00:16<00:00, 17.79it/s]\n",
      "100%|███████████████████████████████████████████████████████████████████████████████████████████████████████| 74/74 [00:04<00:00, 18.47it/s]\n"
     ]
    },
    {
     "name": "stdout",
     "output_type": "stream",
     "text": [
      "Computing accuracy\n",
      "Test set accuracy (Precision@1) = 0.5309584393553859\n",
      "Epoch 66 Iteration 0: Loss = 0.28054288029670715\n"
     ]
    },
    {
     "name": "stderr",
     "output_type": "stream",
     "text": [
      "100%|█████████████████████████████████████████████████████████████████████████████████████████████████████| 295/295 [00:16<00:00, 18.07it/s]\n",
      "100%|███████████████████████████████████████████████████████████████████████████████████████████████████████| 74/74 [00:03<00:00, 19.53it/s]\n"
     ]
    },
    {
     "name": "stdout",
     "output_type": "stream",
     "text": [
      "Computing accuracy\n",
      "Test set accuracy (Precision@1) = 0.5288379983036472\n",
      "Epoch 67 Iteration 0: Loss = 0.3228687047958374\n"
     ]
    },
    {
     "name": "stderr",
     "output_type": "stream",
     "text": [
      "100%|█████████████████████████████████████████████████████████████████████████████████████████████████████| 295/295 [00:16<00:00, 17.40it/s]\n",
      "100%|███████████████████████████████████████████████████████████████████████████████████████████████████████| 74/74 [00:03<00:00, 19.45it/s]\n"
     ]
    },
    {
     "name": "stdout",
     "output_type": "stream",
     "text": [
      "Computing accuracy\n",
      "Test set accuracy (Precision@1) = 0.5313825275657337\n",
      "Epoch 68 Iteration 0: Loss = 0.3137322962284088\n"
     ]
    },
    {
     "name": "stderr",
     "output_type": "stream",
     "text": [
      "100%|█████████████████████████████████████████████████████████████████████████████████████████████████████| 295/295 [00:16<00:00, 17.95it/s]\n",
      "100%|███████████████████████████████████████████████████████████████████████████████████████████████████████| 74/74 [00:03<00:00, 19.42it/s]\n"
     ]
    },
    {
     "name": "stdout",
     "output_type": "stream",
     "text": [
      "Computing accuracy\n",
      "Test set accuracy (Precision@1) = 0.5292620865139949\n",
      "Epoch 69 Iteration 0: Loss = 0.3059697449207306\n"
     ]
    },
    {
     "name": "stderr",
     "output_type": "stream",
     "text": [
      "100%|█████████████████████████████████████████████████████████████████████████████████████████████████████| 295/295 [00:16<00:00, 17.70it/s]\n",
      "100%|███████████████████████████████████████████████████████████████████████████████████████████████████████| 74/74 [00:03<00:00, 18.96it/s]\n"
     ]
    },
    {
     "name": "stdout",
     "output_type": "stream",
     "text": [
      "Computing accuracy\n",
      "Test set accuracy (Precision@1) = 0.5313825275657337\n",
      "Epoch 70 Iteration 0: Loss = 0.36236071586608887\n"
     ]
    },
    {
     "name": "stderr",
     "output_type": "stream",
     "text": [
      "100%|█████████████████████████████████████████████████████████████████████████████████████████████████████| 295/295 [00:16<00:00, 17.51it/s]\n",
      "100%|███████████████████████████████████████████████████████████████████████████████████████████████████████| 74/74 [00:03<00:00, 19.06it/s]\n"
     ]
    },
    {
     "name": "stdout",
     "output_type": "stream",
     "text": [
      "Computing accuracy\n",
      "Test set accuracy (Precision@1) = 0.5267175572519084\n",
      "Epoch 71 Iteration 0: Loss = 0.2876601219177246\n"
     ]
    },
    {
     "name": "stderr",
     "output_type": "stream",
     "text": [
      "100%|█████████████████████████████████████████████████████████████████████████████████████████████████████| 295/295 [00:16<00:00, 17.60it/s]\n",
      "100%|███████████████████████████████████████████████████████████████████████████████████████████████████████| 74/74 [00:03<00:00, 18.85it/s]\n"
     ]
    },
    {
     "name": "stdout",
     "output_type": "stream",
     "text": [
      "Computing accuracy\n",
      "Test set accuracy (Precision@1) = 0.5309584393553859\n",
      "Epoch 72 Iteration 0: Loss = 0.23981285095214844\n"
     ]
    },
    {
     "name": "stderr",
     "output_type": "stream",
     "text": [
      "100%|█████████████████████████████████████████████████████████████████████████████████████████████████████| 295/295 [00:16<00:00, 18.00it/s]\n",
      "100%|███████████████████████████████████████████████████████████████████████████████████████████████████████| 74/74 [00:03<00:00, 19.49it/s]\n"
     ]
    },
    {
     "name": "stdout",
     "output_type": "stream",
     "text": [
      "Computing accuracy\n",
      "Test set accuracy (Precision@1) = 0.5424088210347753\n",
      "Epoch 73 Iteration 0: Loss = 0.27109867334365845\n"
     ]
    },
    {
     "name": "stderr",
     "output_type": "stream",
     "text": [
      "100%|█████████████████████████████████████████████████████████████████████████████████████████████████████| 295/295 [00:16<00:00, 17.73it/s]\n",
      "100%|███████████████████████████████████████████████████████████████████████████████████████████████████████| 74/74 [00:03<00:00, 18.65it/s]\n"
     ]
    },
    {
     "name": "stdout",
     "output_type": "stream",
     "text": [
      "Computing accuracy\n",
      "Test set accuracy (Precision@1) = 0.539440203562341\n",
      "Epoch 74 Iteration 0: Loss = 0.3005891442298889\n"
     ]
    },
    {
     "name": "stderr",
     "output_type": "stream",
     "text": [
      "100%|█████████████████████████████████████████████████████████████████████████████████████████████████████| 295/295 [00:16<00:00, 17.64it/s]\n",
      "100%|███████████████████████████████████████████████████████████████████████████████████████████████████████| 74/74 [00:04<00:00, 17.61it/s]\n"
     ]
    },
    {
     "name": "stdout",
     "output_type": "stream",
     "text": [
      "Computing accuracy\n",
      "Test set accuracy (Precision@1) = 0.5318066157760815\n",
      "Epoch 75 Iteration 0: Loss = 0.27317187190055847\n"
     ]
    },
    {
     "name": "stderr",
     "output_type": "stream",
     "text": [
      "100%|█████████████████████████████████████████████████████████████████████████████████████████████████████| 295/295 [00:16<00:00, 17.74it/s]\n",
      "100%|███████████████████████████████████████████████████████████████████████████████████████████████████████| 74/74 [00:03<00:00, 19.05it/s]\n"
     ]
    },
    {
     "name": "stdout",
     "output_type": "stream",
     "text": [
      "Computing accuracy\n",
      "Test set accuracy (Precision@1) = 0.5271416454622562\n",
      "Epoch 76 Iteration 0: Loss = 0.28901761770248413\n"
     ]
    },
    {
     "name": "stderr",
     "output_type": "stream",
     "text": [
      "100%|█████████████████████████████████████████████████████████████████████████████████████████████████████| 295/295 [00:17<00:00, 17.27it/s]\n",
      "100%|███████████████████████████████████████████████████████████████████████████████████████████████████████| 74/74 [00:03<00:00, 19.00it/s]\n"
     ]
    },
    {
     "name": "stdout",
     "output_type": "stream",
     "text": [
      "Computing accuracy\n",
      "Test set accuracy (Precision@1) = 0.5415606446140797\n",
      "Epoch 77 Iteration 0: Loss = 0.2840225100517273\n"
     ]
    },
    {
     "name": "stderr",
     "output_type": "stream",
     "text": [
      "100%|█████████████████████████████████████████████████████████████████████████████████████████████████████| 295/295 [00:16<00:00, 18.12it/s]\n",
      "100%|███████████████████████████████████████████████████████████████████████████████████████████████████████| 74/74 [00:03<00:00, 20.00it/s]\n"
     ]
    },
    {
     "name": "stdout",
     "output_type": "stream",
     "text": [
      "Computing accuracy\n",
      "Test set accuracy (Precision@1) = 0.5339270568278202\n",
      "Epoch 78 Iteration 0: Loss = 0.277636855840683\n"
     ]
    },
    {
     "name": "stderr",
     "output_type": "stream",
     "text": [
      "100%|█████████████████████████████████████████████████████████████████████████████████████████████████████| 295/295 [00:16<00:00, 17.71it/s]\n",
      "100%|███████████████████████████████████████████████████████████████████████████████████████████████████████| 74/74 [00:03<00:00, 19.49it/s]\n"
     ]
    },
    {
     "name": "stdout",
     "output_type": "stream",
     "text": [
      "Computing accuracy\n",
      "Test set accuracy (Precision@1) = 0.5305343511450381\n",
      "Epoch 79 Iteration 0: Loss = 0.19718852639198303\n"
     ]
    },
    {
     "name": "stderr",
     "output_type": "stream",
     "text": [
      "100%|█████████████████████████████████████████████████████████████████████████████████████████████████████| 295/295 [00:16<00:00, 17.78it/s]\n",
      "100%|███████████████████████████████████████████████████████████████████████████████████████████████████████| 74/74 [00:04<00:00, 18.49it/s]\n"
     ]
    },
    {
     "name": "stdout",
     "output_type": "stream",
     "text": [
      "Computing accuracy\n",
      "Test set accuracy (Precision@1) = 0.5415606446140797\n",
      "Epoch 80 Iteration 0: Loss = 0.31204351782798767\n"
     ]
    },
    {
     "name": "stderr",
     "output_type": "stream",
     "text": [
      "100%|█████████████████████████████████████████████████████████████████████████████████████████████████████| 295/295 [00:16<00:00, 17.88it/s]\n",
      "100%|███████████████████████████████████████████████████████████████████████████████████████████████████████| 74/74 [00:03<00:00, 19.04it/s]\n"
     ]
    },
    {
     "name": "stdout",
     "output_type": "stream",
     "text": [
      "Computing accuracy\n",
      "Test set accuracy (Precision@1) = 0.5254452926208651\n",
      "Epoch 81 Iteration 0: Loss = 0.27810099720954895\n"
     ]
    },
    {
     "name": "stderr",
     "output_type": "stream",
     "text": [
      "100%|█████████████████████████████████████████████████████████████████████████████████████████████████████| 295/295 [00:16<00:00, 17.56it/s]\n",
      "100%|███████████████████████████████████████████████████████████████████████████████████████████████████████| 74/74 [00:04<00:00, 18.33it/s]\n"
     ]
    },
    {
     "name": "stdout",
     "output_type": "stream",
     "text": [
      "Computing accuracy\n",
      "Test set accuracy (Precision@1) = 0.5407124681933843\n",
      "Epoch 82 Iteration 0: Loss = 0.3369862735271454\n"
     ]
    },
    {
     "name": "stderr",
     "output_type": "stream",
     "text": [
      "100%|█████████████████████████████████████████████████████████████████████████████████████████████████████| 295/295 [00:16<00:00, 17.38it/s]\n",
      "100%|███████████████████████████████████████████████████████████████████████████████████████████████████████| 74/74 [00:03<00:00, 19.18it/s]\n"
     ]
    },
    {
     "name": "stdout",
     "output_type": "stream",
     "text": [
      "Computing accuracy\n",
      "Test set accuracy (Precision@1) = 0.5351993214588634\n",
      "Epoch 83 Iteration 0: Loss = 0.22231657803058624\n"
     ]
    },
    {
     "name": "stderr",
     "output_type": "stream",
     "text": [
      "100%|█████████████████████████████████████████████████████████████████████████████████████████████████████| 295/295 [00:16<00:00, 18.01it/s]\n",
      "100%|███████████████████████████████████████████████████████████████████████████████████████████████████████| 74/74 [00:03<00:00, 19.08it/s]\n"
     ]
    },
    {
     "name": "stdout",
     "output_type": "stream",
     "text": [
      "Computing accuracy\n",
      "Test set accuracy (Precision@1) = 0.5339270568278202\n",
      "Epoch 84 Iteration 0: Loss = 0.30169612169265747\n"
     ]
    },
    {
     "name": "stderr",
     "output_type": "stream",
     "text": [
      "100%|█████████████████████████████████████████████████████████████████████████████████████████████████████| 295/295 [00:16<00:00, 17.93it/s]\n",
      "100%|███████████████████████████████████████████████████████████████████████████████████████████████████████| 74/74 [00:04<00:00, 18.39it/s]\n"
     ]
    },
    {
     "name": "stdout",
     "output_type": "stream",
     "text": [
      "Computing accuracy\n",
      "Test set accuracy (Precision@1) = 0.5381679389312977\n",
      "Epoch 85 Iteration 0: Loss = 0.33293500542640686\n"
     ]
    },
    {
     "name": "stderr",
     "output_type": "stream",
     "text": [
      "100%|█████████████████████████████████████████████████████████████████████████████████████████████████████| 295/295 [00:16<00:00, 17.73it/s]\n",
      "100%|███████████████████████████████████████████████████████████████████████████████████████████████████████| 74/74 [00:03<00:00, 18.84it/s]\n"
     ]
    },
    {
     "name": "stdout",
     "output_type": "stream",
     "text": [
      "Computing accuracy\n",
      "Test set accuracy (Precision@1) = 0.5407124681933843\n",
      "Epoch 86 Iteration 0: Loss = 0.21994730830192566\n"
     ]
    },
    {
     "name": "stderr",
     "output_type": "stream",
     "text": [
      "100%|█████████████████████████████████████████████████████████████████████████████████████████████████████| 295/295 [00:16<00:00, 17.77it/s]\n",
      "100%|███████████████████████████████████████████████████████████████████████████████████████████████████████| 74/74 [00:03<00:00, 19.41it/s]\n"
     ]
    },
    {
     "name": "stdout",
     "output_type": "stream",
     "text": [
      "Computing accuracy\n",
      "Test set accuracy (Precision@1) = 0.5432569974554707\n",
      "Epoch 87 Iteration 0: Loss = 0.3001381754875183\n"
     ]
    },
    {
     "name": "stderr",
     "output_type": "stream",
     "text": [
      "100%|█████████████████████████████████████████████████████████████████████████████████████████████████████| 295/295 [00:16<00:00, 17.51it/s]\n",
      "100%|███████████████████████████████████████████████████████████████████████████████████████████████████████| 74/74 [00:03<00:00, 19.18it/s]\n"
     ]
    },
    {
     "name": "stdout",
     "output_type": "stream",
     "text": [
      "Computing accuracy\n",
      "Test set accuracy (Precision@1) = 0.5411365564037319\n",
      "Epoch 88 Iteration 0: Loss = 0.2760184109210968\n"
     ]
    },
    {
     "name": "stderr",
     "output_type": "stream",
     "text": [
      "100%|█████████████████████████████████████████████████████████████████████████████████████████████████████| 295/295 [00:16<00:00, 17.49it/s]\n",
      "100%|███████████████████████████████████████████████████████████████████████████████████████████████████████| 74/74 [00:03<00:00, 20.07it/s]\n"
     ]
    },
    {
     "name": "stdout",
     "output_type": "stream",
     "text": [
      "Computing accuracy\n",
      "Test set accuracy (Precision@1) = 0.539440203562341\n",
      "Epoch 89 Iteration 0: Loss = 0.2957979738712311\n"
     ]
    },
    {
     "name": "stderr",
     "output_type": "stream",
     "text": [
      "100%|█████████████████████████████████████████████████████████████████████████████████████████████████████| 295/295 [00:16<00:00, 17.83it/s]\n",
      "100%|███████████████████████████████████████████████████████████████████████████████████████████████████████| 74/74 [00:03<00:00, 19.09it/s]\n"
     ]
    },
    {
     "name": "stdout",
     "output_type": "stream",
     "text": [
      "Computing accuracy\n",
      "Test set accuracy (Precision@1) = 0.5436810856658185\n",
      "Epoch 90 Iteration 0: Loss = 0.3218132257461548\n"
     ]
    },
    {
     "name": "stderr",
     "output_type": "stream",
     "text": [
      "100%|█████████████████████████████████████████████████████████████████████████████████████████████████████| 295/295 [00:16<00:00, 17.96it/s]\n",
      "100%|███████████████████████████████████████████████████████████████████████████████████████████████████████| 74/74 [00:03<00:00, 19.64it/s]\n"
     ]
    },
    {
     "name": "stdout",
     "output_type": "stream",
     "text": [
      "Computing accuracy\n",
      "Test set accuracy (Precision@1) = 0.539440203562341\n",
      "Epoch 91 Iteration 0: Loss = 0.24302294850349426\n"
     ]
    },
    {
     "name": "stderr",
     "output_type": "stream",
     "text": [
      "100%|█████████████████████████████████████████████████████████████████████████████████████████████████████| 295/295 [00:16<00:00, 17.56it/s]\n",
      "100%|███████████████████████████████████████████████████████████████████████████████████████████████████████| 74/74 [00:03<00:00, 19.00it/s]\n"
     ]
    },
    {
     "name": "stdout",
     "output_type": "stream",
     "text": [
      "Computing accuracy\n",
      "Test set accuracy (Precision@1) = 0.5453774385072095\n",
      "Epoch 92 Iteration 0: Loss = 0.2917756140232086\n"
     ]
    },
    {
     "name": "stderr",
     "output_type": "stream",
     "text": [
      "100%|█████████████████████████████████████████████████████████████████████████████████████████████████████| 295/295 [00:16<00:00, 17.80it/s]\n",
      "100%|███████████████████████████████████████████████████████████████████████████████████████████████████████| 74/74 [00:03<00:00, 19.04it/s]\n"
     ]
    },
    {
     "name": "stdout",
     "output_type": "stream",
     "text": [
      "Computing accuracy\n",
      "Test set accuracy (Precision@1) = 0.53774385072095\n",
      "Epoch 93 Iteration 0: Loss = 0.3236018717288971\n"
     ]
    },
    {
     "name": "stderr",
     "output_type": "stream",
     "text": [
      "100%|█████████████████████████████████████████████████████████████████████████████████████████████████████| 295/295 [00:16<00:00, 17.61it/s]\n",
      "100%|███████████████████████████████████████████████████████████████████████████████████████████████████████| 74/74 [00:03<00:00, 19.40it/s]\n"
     ]
    },
    {
     "name": "stdout",
     "output_type": "stream",
     "text": [
      "Computing accuracy\n",
      "Test set accuracy (Precision@1) = 0.544529262086514\n",
      "Epoch 94 Iteration 0: Loss = 0.25978198647499084\n"
     ]
    },
    {
     "name": "stderr",
     "output_type": "stream",
     "text": [
      "100%|█████████████████████████████████████████████████████████████████████████████████████████████████████| 295/295 [00:16<00:00, 17.49it/s]\n",
      "100%|███████████████████████████████████████████████████████████████████████████████████████████████████████| 74/74 [00:04<00:00, 17.40it/s]\n"
     ]
    },
    {
     "name": "stdout",
     "output_type": "stream",
     "text": [
      "Computing accuracy\n",
      "Test set accuracy (Precision@1) = 0.5483460559796438\n",
      "Epoch 95 Iteration 0: Loss = 0.2617347836494446\n"
     ]
    },
    {
     "name": "stderr",
     "output_type": "stream",
     "text": [
      "100%|█████████████████████████████████████████████████████████████████████████████████████████████████████| 295/295 [00:16<00:00, 17.79it/s]\n",
      "100%|███████████████████████████████████████████████████████████████████████████████████████████████████████| 74/74 [00:03<00:00, 19.40it/s]\n"
     ]
    },
    {
     "name": "stdout",
     "output_type": "stream",
     "text": [
      "Computing accuracy\n",
      "Test set accuracy (Precision@1) = 0.5419847328244275\n",
      "Epoch 96 Iteration 0: Loss = 0.2971329391002655\n"
     ]
    },
    {
     "name": "stderr",
     "output_type": "stream",
     "text": [
      "100%|█████████████████████████████████████████████████████████████████████████████████████████████████████| 295/295 [00:16<00:00, 17.53it/s]\n",
      "100%|███████████████████████████████████████████████████████████████████████████████████████████████████████| 74/74 [00:03<00:00, 19.09it/s]\n"
     ]
    },
    {
     "name": "stdout",
     "output_type": "stream",
     "text": [
      "Computing accuracy\n",
      "Test set accuracy (Precision@1) = 0.5364715860899067\n",
      "Epoch 97 Iteration 0: Loss = 0.2156280279159546\n"
     ]
    },
    {
     "name": "stderr",
     "output_type": "stream",
     "text": [
      "100%|█████████████████████████████████████████████████████████████████████████████████████████████████████| 295/295 [00:16<00:00, 17.57it/s]\n",
      "100%|███████████████████████████████████████████████████████████████████████████████████████████████████████| 74/74 [00:03<00:00, 19.56it/s]\n"
     ]
    },
    {
     "name": "stdout",
     "output_type": "stream",
     "text": [
      "Computing accuracy\n",
      "Test set accuracy (Precision@1) = 0.5402883799830365\n",
      "Epoch 98 Iteration 0: Loss = 0.2898347079753876\n"
     ]
    },
    {
     "name": "stderr",
     "output_type": "stream",
     "text": [
      "100%|█████████████████████████████████████████████████████████████████████████████████████████████████████| 295/295 [00:16<00:00, 17.82it/s]\n",
      "100%|███████████████████████████████████████████████████████████████████████████████████████████████████████| 74/74 [00:03<00:00, 19.38it/s]\n"
     ]
    },
    {
     "name": "stdout",
     "output_type": "stream",
     "text": [
      "Computing accuracy\n",
      "Test set accuracy (Precision@1) = 0.5415606446140797\n",
      "Epoch 99 Iteration 0: Loss = 0.25143033266067505\n"
     ]
    },
    {
     "name": "stderr",
     "output_type": "stream",
     "text": [
      "100%|█████████████████████████████████████████████████████████████████████████████████████████████████████| 295/295 [00:17<00:00, 16.86it/s]\n",
      "100%|███████████████████████████████████████████████████████████████████████████████████████████████████████| 74/74 [00:03<00:00, 19.30it/s]\n"
     ]
    },
    {
     "name": "stdout",
     "output_type": "stream",
     "text": [
      "Computing accuracy\n",
      "Test set accuracy (Precision@1) = 0.5500424088210347\n",
      "Epoch 100 Iteration 0: Loss = 0.22140006721019745\n"
     ]
    },
    {
     "name": "stderr",
     "output_type": "stream",
     "text": [
      "100%|█████████████████████████████████████████████████████████████████████████████████████████████████████| 295/295 [00:16<00:00, 17.98it/s]\n",
      "100%|███████████████████████████████████████████████████████████████████████████████████████████████████████| 74/74 [00:03<00:00, 19.23it/s]"
     ]
    },
    {
     "name": "stdout",
     "output_type": "stream",
     "text": [
      "Computing accuracy\n",
      "Test set accuracy (Precision@1) = 0.5368956743002544\n"
     ]
    },
    {
     "name": "stderr",
     "output_type": "stream",
     "text": [
      "\n"
     ]
    }
   ],
   "source": [
    "#total_loss = []\n",
    "#total_acc = []\n",
    "for epoch in range(1, num_epochs + 1):\n",
    "    train_loss = train(model, loss_func,mining_func, device, train_loader, optimizer, epoch)\n",
    "    #total_loss.extend(train_loss)\n",
    "    test_acc = test(train_dataset, test_dataset, model, accuracy_calculator)\n",
    "    #total_acc.append(test_acc)\n",
    "    wandb.log({\"test_accuracy\": test_acc, \"train_loss\": train_loss,'epoch':epoch})"
   ]
  },
  {
   "cell_type": "code",
   "execution_count": 36,
   "id": "f4e33826-711a-4780-b22f-8089e23719da",
   "metadata": {},
   "outputs": [],
   "source": [
    "torch.save(model,config['model_save_path']+'.pth')"
   ]
  },
  {
   "cell_type": "code",
   "execution_count": 48,
   "id": "8468f5a6-8c26-4f43-b780-898e6e6cbc12",
   "metadata": {
    "scrolled": true
   },
   "outputs": [],
   "source": [
    "model = torch.load('models/cub_triplet_loss_epshn_resnet18_200.pth',map_location='cuda')"
   ]
  },
  {
   "cell_type": "code",
   "execution_count": 26,
   "id": "ee72491a-6daa-4df4-8905-9d237e26b24f",
   "metadata": {
    "scrolled": true
   },
   "outputs": [
    {
     "data": {
      "text/plain": [
       "ResNetFeatrueExtractor18(\n",
       "  (conv1): Conv2d(3, 64, kernel_size=(7, 7), stride=(2, 2), padding=(3, 3), bias=False)\n",
       "  (bn1): BatchNorm2d(64, eps=1e-05, momentum=0.1, affine=True, track_running_stats=True)\n",
       "  (relu): ReLU(inplace=True)\n",
       "  (maxpool): MaxPool2d(kernel_size=3, stride=2, padding=1, dilation=1, ceil_mode=False)\n",
       "  (layer1): Sequential(\n",
       "    (0): BasicBlock(\n",
       "      (conv1): Conv2d(64, 64, kernel_size=(3, 3), stride=(1, 1), padding=(1, 1), bias=False)\n",
       "      (bn1): BatchNorm2d(64, eps=1e-05, momentum=0.1, affine=True, track_running_stats=True)\n",
       "      (relu): ReLU(inplace=True)\n",
       "      (conv2): Conv2d(64, 64, kernel_size=(3, 3), stride=(1, 1), padding=(1, 1), bias=False)\n",
       "      (bn2): BatchNorm2d(64, eps=1e-05, momentum=0.1, affine=True, track_running_stats=True)\n",
       "    )\n",
       "    (1): BasicBlock(\n",
       "      (conv1): Conv2d(64, 64, kernel_size=(3, 3), stride=(1, 1), padding=(1, 1), bias=False)\n",
       "      (bn1): BatchNorm2d(64, eps=1e-05, momentum=0.1, affine=True, track_running_stats=True)\n",
       "      (relu): ReLU(inplace=True)\n",
       "      (conv2): Conv2d(64, 64, kernel_size=(3, 3), stride=(1, 1), padding=(1, 1), bias=False)\n",
       "      (bn2): BatchNorm2d(64, eps=1e-05, momentum=0.1, affine=True, track_running_stats=True)\n",
       "    )\n",
       "  )\n",
       "  (layer2): Sequential(\n",
       "    (0): BasicBlock(\n",
       "      (conv1): Conv2d(64, 128, kernel_size=(3, 3), stride=(2, 2), padding=(1, 1), bias=False)\n",
       "      (bn1): BatchNorm2d(128, eps=1e-05, momentum=0.1, affine=True, track_running_stats=True)\n",
       "      (relu): ReLU(inplace=True)\n",
       "      (conv2): Conv2d(128, 128, kernel_size=(3, 3), stride=(1, 1), padding=(1, 1), bias=False)\n",
       "      (bn2): BatchNorm2d(128, eps=1e-05, momentum=0.1, affine=True, track_running_stats=True)\n",
       "      (downsample): Sequential(\n",
       "        (0): Conv2d(64, 128, kernel_size=(1, 1), stride=(2, 2), bias=False)\n",
       "        (1): BatchNorm2d(128, eps=1e-05, momentum=0.1, affine=True, track_running_stats=True)\n",
       "      )\n",
       "    )\n",
       "    (1): BasicBlock(\n",
       "      (conv1): Conv2d(128, 128, kernel_size=(3, 3), stride=(1, 1), padding=(1, 1), bias=False)\n",
       "      (bn1): BatchNorm2d(128, eps=1e-05, momentum=0.1, affine=True, track_running_stats=True)\n",
       "      (relu): ReLU(inplace=True)\n",
       "      (conv2): Conv2d(128, 128, kernel_size=(3, 3), stride=(1, 1), padding=(1, 1), bias=False)\n",
       "      (bn2): BatchNorm2d(128, eps=1e-05, momentum=0.1, affine=True, track_running_stats=True)\n",
       "    )\n",
       "  )\n",
       "  (layer3): Sequential(\n",
       "    (0): BasicBlock(\n",
       "      (conv1): Conv2d(128, 256, kernel_size=(3, 3), stride=(2, 2), padding=(1, 1), bias=False)\n",
       "      (bn1): BatchNorm2d(256, eps=1e-05, momentum=0.1, affine=True, track_running_stats=True)\n",
       "      (relu): ReLU(inplace=True)\n",
       "      (conv2): Conv2d(256, 256, kernel_size=(3, 3), stride=(1, 1), padding=(1, 1), bias=False)\n",
       "      (bn2): BatchNorm2d(256, eps=1e-05, momentum=0.1, affine=True, track_running_stats=True)\n",
       "      (downsample): Sequential(\n",
       "        (0): Conv2d(128, 256, kernel_size=(1, 1), stride=(2, 2), bias=False)\n",
       "        (1): BatchNorm2d(256, eps=1e-05, momentum=0.1, affine=True, track_running_stats=True)\n",
       "      )\n",
       "    )\n",
       "    (1): BasicBlock(\n",
       "      (conv1): Conv2d(256, 256, kernel_size=(3, 3), stride=(1, 1), padding=(1, 1), bias=False)\n",
       "      (bn1): BatchNorm2d(256, eps=1e-05, momentum=0.1, affine=True, track_running_stats=True)\n",
       "      (relu): ReLU(inplace=True)\n",
       "      (conv2): Conv2d(256, 256, kernel_size=(3, 3), stride=(1, 1), padding=(1, 1), bias=False)\n",
       "      (bn2): BatchNorm2d(256, eps=1e-05, momentum=0.1, affine=True, track_running_stats=True)\n",
       "    )\n",
       "  )\n",
       "  (layer4): Sequential(\n",
       "    (0): BasicBlock(\n",
       "      (conv1): Conv2d(256, 512, kernel_size=(3, 3), stride=(2, 2), padding=(1, 1), bias=False)\n",
       "      (bn1): BatchNorm2d(512, eps=1e-05, momentum=0.1, affine=True, track_running_stats=True)\n",
       "      (relu): ReLU(inplace=True)\n",
       "      (conv2): Conv2d(512, 512, kernel_size=(3, 3), stride=(1, 1), padding=(1, 1), bias=False)\n",
       "      (bn2): BatchNorm2d(512, eps=1e-05, momentum=0.1, affine=True, track_running_stats=True)\n",
       "      (downsample): Sequential(\n",
       "        (0): Conv2d(256, 512, kernel_size=(1, 1), stride=(2, 2), bias=False)\n",
       "        (1): BatchNorm2d(512, eps=1e-05, momentum=0.1, affine=True, track_running_stats=True)\n",
       "      )\n",
       "    )\n",
       "    (1): BasicBlock(\n",
       "      (conv1): Conv2d(512, 512, kernel_size=(3, 3), stride=(1, 1), padding=(1, 1), bias=False)\n",
       "      (bn1): BatchNorm2d(512, eps=1e-05, momentum=0.1, affine=True, track_running_stats=True)\n",
       "      (relu): ReLU(inplace=True)\n",
       "      (conv2): Conv2d(512, 512, kernel_size=(3, 3), stride=(1, 1), padding=(1, 1), bias=False)\n",
       "      (bn2): BatchNorm2d(512, eps=1e-05, momentum=0.1, affine=True, track_running_stats=True)\n",
       "    )\n",
       "  )\n",
       "  (avgpool): AdaptiveAvgPool2d(output_size=(1, 1))\n",
       "  (fc1): Linear(in_features=512, out_features=128, bias=True)\n",
       ")"
      ]
     },
     "execution_count": 26,
     "metadata": {},
     "output_type": "execute_result"
    }
   ],
   "source": [
    "model.eval()"
   ]
  },
  {
   "cell_type": "code",
   "execution_count": 27,
   "id": "c99fe1cb-ce19-41bf-bb1d-658c8b1b89d9",
   "metadata": {},
   "outputs": [],
   "source": [
    "from pytorch_metric_learning.distances import LpDistance,CosineSimilarity\n",
    "from pytorch_metric_learning.utils.inference import CustomKNN\n",
    "knn_func = CustomKNN(CosineSimilarity())\n",
    "accuracy_calculator = AccuracyCalculator(include=(\"precision_at_1\",),k=1,knn_func=knn_func,avg_of_avgs=False,return_per_class=True)\n",
    "#test(train_dataset, test_dataset, model, accuracy_calculator)"
   ]
  },
  {
   "cell_type": "code",
   "execution_count": 28,
   "id": "248f5f10-0423-47bf-a7b1-83de1a863c7f",
   "metadata": {},
   "outputs": [
    {
     "name": "stderr",
     "output_type": "stream",
     "text": [
      "100%|█████████████████████████████████████████████████████████████████████████████████████████████████████| 295/295 [00:16<00:00, 17.78it/s]\n",
      "100%|███████████████████████████████████████████████████████████████████████████████████████████████████████| 74/74 [00:03<00:00, 19.74it/s]\n"
     ]
    }
   ],
   "source": [
    "train_embeddings, train_labels = get_all_embeddings(train_dataset, model)\n",
    "test_embeddings, test_labels = get_all_embeddings(test_dataset, model)\n",
    "train_labels = train_labels.squeeze(1)\n",
    "test_labels = test_labels.squeeze(1)"
   ]
  },
  {
   "cell_type": "code",
   "execution_count": 29,
   "id": "eba43667-c551-46c0-93aa-dbcf38f695f7",
   "metadata": {},
   "outputs": [
    {
     "name": "stdout",
     "output_type": "stream",
     "text": [
      "{'precision_at_1': [0.75, 0.5833333333333334, 0.5, 0.8333333333333334, 0.7777777777777778, 0.625, 0.9, 0.7777777777777778, 0.16666666666666666, 0.9166666666666666, 0.5, 1.0, 0.75, 0.5833333333333334, 0.7272727272727273, 0.7272727272727273, 0.45454545454545453, 1.0, 0.75, 0.5833333333333334, 0.5833333333333334, 0.5454545454545454, 0.3333333333333333, 0.9, 0.25, 0.75, 0.3333333333333333, 0.9166666666666666, 0.4166666666666667, 0.25, 0.5833333333333334, 0.4, 0.5, 0.75, 1.0, 0.75, 0.3333333333333333, 0.6666666666666666, 0.3333333333333333, 0.5, 1.0, 1.0, 0.16666666666666666, 0.8333333333333334, 0.5, 0.8333333333333334, 0.5833333333333334, 0.9166666666666666, 0.3333333333333333, 0.6666666666666666, 0.5833333333333334, 0.6666666666666666, 0.75, 0.5, 1.0, 0.8333333333333334, 0.9166666666666666, 0.5833333333333334, 0.3333333333333333, 0.4166666666666667, 0.9166666666666666, 0.08333333333333333, 1.0, 0.16666666666666666, 0.2, 0.75, 0.5833333333333334, 0.5833333333333334, 1.0, 0.8333333333333334, 0.5, 0.5, 0.75, 0.75, 1.0, 0.8333333333333334, 0.75, 0.5833333333333334, 0.8333333333333334, 0.6666666666666666, 0.9166666666666666, 0.9166666666666666, 0.8333333333333334, 0.8, 0.75, 0.8333333333333334, 0.8333333333333334, 0.9166666666666666, 0.9166666666666666, 0.9166666666666666, 0.16666666666666666, 0.75, 0.9166666666666666, 0.9166666666666666, 1.0, 0.75, 0.5, 0.8333333333333334, 0.8333333333333334, 0.9166666666666666, 0.9, 0.25, 0.5833333333333334, 0.6666666666666666, 0.5, 0.8333333333333334, 0.25, 0.4166666666666667, 0.9166666666666666, 0.9166666666666666, 0.5, 0.4166666666666667, 0.6, 0.75, 0.5833333333333334, 0.5833333333333334, 0.75, 0.25, 0.75, 0.6666666666666666, 0.5, 0.75, 0.5833333333333334, 0.6666666666666666, 0.5, 0.75, 0.25, 0.9166666666666666, 0.5833333333333334, 0.75, 0.75, 0.4166666666666667, 0.6666666666666666, 0.9166666666666666, 0.6666666666666666, 0.75, 0.5833333333333334, 0.9166666666666666, 0.9166666666666666, 1.0, 0.7272727272727273, 0.3333333333333333, 0.16666666666666666, 0.3333333333333333, 0.3333333333333333, 0.3333333333333333, 0.8333333333333334, 0.5833333333333334, 0.5833333333333334, 0.4166666666666667, 0.6, 0.6666666666666666, 0.4166666666666667, 0.8333333333333334, 0.4166666666666667, 0.5, 0.5833333333333334, 0.9166666666666666, 1.0, 0.75, 0.6666666666666666, 0.5833333333333334, 0.75, 0.8333333333333334, 0.75, 0.75, 0.8333333333333334, 0.6666666666666666, 0.9166666666666666, 0.8333333333333334, 0.6666666666666666, 0.9166666666666666, 0.5, 0.25, 0.5833333333333334, 0.75, 1.0, 0.5454545454545454, 0.08333333333333333, 0.5833333333333334, 0.5, 0.5833333333333334, 0.6666666666666666, 0.5, 0.9166666666666666, 0.8333333333333334, 0.8, 0.9166666666666666, 1.0, 0.6363636363636364, 0.6666666666666666, 0.8333333333333334, 0.5, 0.8333333333333334, 0.5, 0.6666666666666666, 0.5833333333333334, 0.9166666666666666, 0.9166666666666666, 0.8333333333333334]}\n"
     ]
    }
   ],
   "source": [
    "accuracies = accuracy_calculator.get_accuracy(\n",
    "        test_embeddings, test_labels, train_embeddings, train_labels)\n",
    "print(accuracies)"
   ]
  },
  {
   "cell_type": "code",
   "execution_count": 30,
   "id": "7495055f-d27b-4f36-9d16-5d12608d3881",
   "metadata": {},
   "outputs": [
    {
     "name": "stderr",
     "output_type": "stream",
     "text": [
      "100%|█████████████████████████████████████████████████████████████████████████████████████████████████████| 295/295 [00:16<00:00, 18.23it/s]\n",
      "100%|███████████████████████████████████████████████████████████████████████████████████████████████████████| 74/74 [00:03<00:00, 19.65it/s]\n"
     ]
    }
   ],
   "source": [
    "train_embeddings, train_labels = get_all_embeddings(train_dataset, model)\n",
    "test_embeddings, test_labels = get_all_embeddings(test_dataset, model)\n",
    "train_labels = train_labels.squeeze(1)\n",
    "test_labels = test_labels.squeeze(1)"
   ]
  },
  {
   "cell_type": "code",
   "execution_count": 31,
   "id": "66e97839-85a9-4d96-80f3-1c29e80ccf81",
   "metadata": {},
   "outputs": [],
   "source": [
    "data_dict = {v:k for k,v in class_dict.items()}"
   ]
  },
  {
   "cell_type": "code",
   "execution_count": 32,
   "id": "a0bbe361-a4e0-4ff3-a62d-4abc0aea8099",
   "metadata": {},
   "outputs": [
    {
     "name": "stdout",
     "output_type": "stream",
     "text": [
      "001.Black_footed_Albatross     test samples 12   , training samples 48   : [0.75]\n",
      "002.Laysan_Albatross           test samples 12   , training samples 48   : [0.6666666666666666]\n",
      "003.Sooty_Albatross            test samples 12   , training samples 46   : [0.5]\n",
      "004.Groove_billed_Ani          test samples 12   , training samples 48   : [0.8333333333333334]\n",
      "005.Crested_Auklet             test samples 9    , training samples 35   : [0.6666666666666666]\n",
      "006.Least_Auklet               test samples 8    , training samples 33   : [0.75]\n",
      "007.Parakeet_Auklet            test samples 10   , training samples 43   : [1.0]\n",
      "008.Rhinoceros_Auklet          test samples 9    , training samples 39   : [0.7777777777777778]\n",
      "009.Brewer_Blackbird           test samples 12   , training samples 47   : [0.16666666666666666]\n",
      "010.Red_winged_Blackbird       test samples 12   , training samples 48   : [0.8333333333333334]\n",
      "011.Rusty_Blackbird            test samples 12   , training samples 48   : [0.3333333333333333]\n",
      "012.Yellow_headed_Blackbird    test samples 11   , training samples 45   : [1.0]\n",
      "013.Bobolink                   test samples 12   , training samples 48   : [0.8333333333333334]\n",
      "014.Indigo_Bunting             test samples 12   , training samples 48   : [0.6666666666666666]\n",
      "015.Lazuli_Bunting             test samples 11   , training samples 47   : [0.7272727272727273]\n",
      "016.Painted_Bunting            test samples 11   , training samples 47   : [0.6363636363636364]\n",
      "017.Cardinal                   test samples 11   , training samples 46   : [0.6363636363636364]\n",
      "018.Spotted_Catbird            test samples 9    , training samples 36   : [1.0]\n",
      "019.Gray_Catbird               test samples 12   , training samples 47   : [0.6666666666666666]\n",
      "020.Yellow_breasted_Chat       test samples 12   , training samples 47   : [0.5833333333333334]\n",
      "021.Eastern_Towhee             test samples 12   , training samples 48   : [0.5833333333333334]\n",
      "022.Chuck_will_Widow           test samples 11   , training samples 45   : [0.6363636363636364]\n",
      "023.Brandt_Cormorant           test samples 12   , training samples 47   : [0.5]\n",
      "024.Red_faced_Cormorant        test samples 10   , training samples 42   : [0.9]\n",
      "025.Pelagic_Cormorant          test samples 12   , training samples 48   : [0.5]\n",
      "026.Bronzed_Cowbird            test samples 12   , training samples 48   : [0.6666666666666666]\n",
      "027.Shiny_Cowbird              test samples 12   , training samples 48   : [0.25]\n",
      "028.Brown_Creeper              test samples 12   , training samples 47   : [0.8333333333333334]\n",
      "029.American_Crow              test samples 12   , training samples 48   : [0.3333333333333333]\n",
      "030.Fish_Crow                  test samples 12   , training samples 48   : [0.25]\n",
      "031.Black_billed_Cuckoo        test samples 12   , training samples 48   : [0.5833333333333334]\n",
      "032.Mangrove_Cuckoo            test samples 10   , training samples 43   : [0.6]\n",
      "033.Yellow_billed_Cuckoo       test samples 12   , training samples 47   : [0.5]\n",
      "034.Gray_crowned_Rosy_Finch    test samples 12   , training samples 47   : [0.8333333333333334]\n",
      "035.Purple_Finch               test samples 12   , training samples 48   : [0.9166666666666666]\n",
      "036.Northern_Flicker           test samples 12   , training samples 48   : [0.75]\n",
      "037.Acadian_Flycatcher         test samples 12   , training samples 47   : [0.4166666666666667]\n",
      "038.Great_Crested_Flycatcher   test samples 12   , training samples 48   : [0.6666666666666666]\n",
      "039.Least_Flycatcher           test samples 12   , training samples 47   : [0.08333333333333333]\n",
      "040.Olive_sided_Flycatcher     test samples 12   , training samples 48   : [0.4166666666666667]\n",
      "041.Scissor_tailed_Flycatcher  test samples 12   , training samples 48   : [1.0]\n",
      "042.Vermilion_Flycatcher       test samples 12   , training samples 48   : [1.0]\n",
      "043.Yellow_bellied_Flycatcher  test samples 12   , training samples 47   : [0.16666666666666666]\n",
      "044.Frigatebird                test samples 12   , training samples 48   : [0.75]\n",
      "045.Northern_Fulmar            test samples 12   , training samples 48   : [0.4166666666666667]\n",
      "046.Gadwall                    test samples 12   , training samples 48   : [1.0]\n",
      "047.American_Goldfinch         test samples 12   , training samples 48   : [0.75]\n",
      "048.European_Goldfinch         test samples 12   , training samples 48   : [0.9166666666666666]\n",
      "049.Boat_tailed_Grackle        test samples 12   , training samples 48   : [0.4166666666666667]\n",
      "050.Eared_Grebe                test samples 12   , training samples 48   : [0.6666666666666666]\n",
      "051.Horned_Grebe               test samples 12   , training samples 48   : [0.75]\n",
      "052.Pied_billed_Grebe          test samples 12   , training samples 48   : [0.8333333333333334]\n",
      "053.Western_Grebe              test samples 12   , training samples 48   : [0.75]\n",
      "054.Blue_Grosbeak              test samples 12   , training samples 48   : [0.5833333333333334]\n",
      "055.Evening_Grosbeak           test samples 12   , training samples 48   : [1.0]\n",
      "056.Pine_Grosbeak              test samples 12   , training samples 48   : [0.9166666666666666]\n",
      "057.Rose_breasted_Grosbeak     test samples 12   , training samples 48   : [0.9166666666666666]\n",
      "058.Pigeon_Guillemot           test samples 12   , training samples 46   : [0.5833333333333334]\n",
      "059.California_Gull            test samples 12   , training samples 48   : [0.25]\n",
      "060.Glaucous_winged_Gull       test samples 12   , training samples 47   : [0.3333333333333333]\n",
      "061.Heermann_Gull              test samples 12   , training samples 48   : [0.9166666666666666]\n",
      "062.Herring_Gull               test samples 12   , training samples 48   : [0.08333333333333333]\n",
      "063.Ivory_Gull                 test samples 12   , training samples 48   : [1.0]\n",
      "064.Ring_billed_Gull           test samples 12   , training samples 48   : [0.3333333333333333]\n",
      "065.Slaty_backed_Gull          test samples 10   , training samples 40   : [0.4]\n",
      "066.Western_Gull               test samples 12   , training samples 48   : [0.25]\n",
      "067.Anna_Hummingbird           test samples 12   , training samples 48   : [0.5833333333333334]\n",
      "068.Ruby_throated_Hummingbird  test samples 12   , training samples 48   : [0.6666666666666666]\n",
      "069.Rufous_Hummingbird         test samples 12   , training samples 48   : [1.0]\n",
      "070.Green_Violetear            test samples 12   , training samples 48   : [0.9166666666666666]\n",
      "071.Long_tailed_Jaeger         test samples 12   , training samples 48   : [0.16666666666666666]\n",
      "072.Pomarine_Jaeger            test samples 12   , training samples 48   : [0.4166666666666667]\n",
      "073.Blue_Jay                   test samples 12   , training samples 48   : [0.6666666666666666]\n",
      "074.Florida_Jay                test samples 12   , training samples 48   : [0.75]\n",
      "075.Green_Jay                  test samples 11   , training samples 46   : [0.9090909090909091]\n",
      "076.Dark_eyed_Junco            test samples 12   , training samples 48   : [0.9166666666666666]\n",
      "077.Tropical_Kingbird          test samples 12   , training samples 48   : [0.8333333333333334]\n",
      "078.Gray_Kingbird              test samples 12   , training samples 47   : [0.6666666666666666]\n",
      "079.Belted_Kingfisher          test samples 12   , training samples 48   : [0.8333333333333334]\n",
      "080.Green_Kingfisher           test samples 12   , training samples 48   : [0.75]\n",
      "081.Pied_Kingfisher            test samples 12   , training samples 48   : [0.75]\n",
      "082.Ringed_Kingfisher          test samples 12   , training samples 48   : [0.9166666666666666]\n",
      "083.White_breasted_Kingfisher  test samples 12   , training samples 48   : [0.9166666666666666]\n",
      "084.Red_legged_Kittiwake       test samples 10   , training samples 43   : [0.7]\n",
      "085.Horned_Lark                test samples 12   , training samples 48   : [0.75]\n",
      "086.Pacific_Loon               test samples 12   , training samples 48   : [0.8333333333333334]\n",
      "087.Mallard                    test samples 12   , training samples 48   : [0.8333333333333334]\n",
      "088.Western_Meadowlark         test samples 12   , training samples 48   : [0.9166666666666666]\n",
      "089.Hooded_Merganser           test samples 12   , training samples 48   : [0.9166666666666666]\n",
      "090.Red_breasted_Merganser     test samples 12   , training samples 48   : [0.9166666666666666]\n",
      "091.Mockingbird                test samples 12   , training samples 48   : [0.16666666666666666]\n",
      "092.Nighthawk                  test samples 12   , training samples 48   : [0.75]\n",
      "093.Clark_Nutcracker           test samples 12   , training samples 48   : [0.8333333333333334]\n",
      "094.White_breasted_Nuthatch    test samples 12   , training samples 48   : [1.0]\n",
      "095.Baltimore_Oriole           test samples 12   , training samples 48   : [0.8333333333333334]\n",
      "096.Hooded_Oriole              test samples 12   , training samples 48   : [0.6666666666666666]\n",
      "097.Orchard_Oriole             test samples 12   , training samples 47   : [0.4166666666666667]\n",
      "098.Scott_Oriole               test samples 12   , training samples 48   : [0.75]\n",
      "099.Ovenbird                   test samples 12   , training samples 48   : [0.8333333333333334]\n",
      "100.Brown_Pelican              test samples 12   , training samples 48   : [1.0]\n",
      "101.White_Pelican              test samples 10   , training samples 40   : [0.9]\n",
      "102.Western_Wood_Pewee         test samples 12   , training samples 48   : [0.4166666666666667]\n",
      "103.Sayornis                   test samples 12   , training samples 48   : [0.6666666666666666]\n",
      "104.American_Pipit             test samples 12   , training samples 48   : [0.4166666666666667]\n",
      "105.Whip_poor_Will             test samples 10   , training samples 39   : [0.4]\n",
      "106.Horned_Puffin              test samples 12   , training samples 48   : [0.8333333333333334]\n",
      "107.Common_Raven               test samples 12   , training samples 47   : [0.08333333333333333]\n",
      "108.White_necked_Raven         test samples 12   , training samples 48   : [0.5]\n",
      "109.American_Redstart          test samples 12   , training samples 48   : [1.0]\n",
      "110.Geococcyx                  test samples 12   , training samples 48   : [0.9166666666666666]\n",
      "111.Loggerhead_Shrike          test samples 12   , training samples 48   : [0.5833333333333334]\n",
      "112.Great_Grey_Shrike          test samples 12   , training samples 48   : [0.4166666666666667]\n",
      "113.Baird_Sparrow              test samples 10   , training samples 40   : [0.4]\n",
      "114.Black_throated_Sparrow     test samples 12   , training samples 48   : [0.75]\n",
      "115.Brewer_Sparrow             test samples 12   , training samples 47   : [0.5833333333333334]\n",
      "116.Chipping_Sparrow           test samples 12   , training samples 48   : [0.6666666666666666]\n",
      "117.Clay_colored_Sparrow       test samples 12   , training samples 47   : [0.5833333333333334]\n",
      "118.House_Sparrow              test samples 12   , training samples 48   : [0.5]\n",
      "119.Field_Sparrow              test samples 12   , training samples 47   : [0.5833333333333334]\n",
      "120.Fox_Sparrow                test samples 12   , training samples 48   : [0.6666666666666666]\n",
      "121.Grasshopper_Sparrow        test samples 12   , training samples 48   : [0.25]\n",
      "122.Harris_Sparrow             test samples 12   , training samples 48   : [0.75]\n",
      "123.Henslow_Sparrow            test samples 12   , training samples 48   : [0.6666666666666666]\n",
      "124.Le_Conte_Sparrow           test samples 12   , training samples 47   : [0.6666666666666666]\n",
      "125.Lincoln_Sparrow            test samples 12   , training samples 47   : [0.5]\n",
      "126.Nelson_Sharp_tailed_Sparrow test samples 12   , training samples 47   : [1.0]\n",
      "127.Savannah_Sparrow           test samples 12   , training samples 48   : [0.4166666666666667]\n",
      "128.Seaside_Sparrow            test samples 12   , training samples 48   : [0.9166666666666666]\n",
      "129.Song_Sparrow               test samples 12   , training samples 48   : [0.5]\n",
      "130.Tree_Sparrow               test samples 12   , training samples 48   : [0.5833333333333334]\n",
      "131.Vesper_Sparrow             test samples 12   , training samples 48   : [0.5833333333333334]\n",
      "132.White_crowned_Sparrow      test samples 12   , training samples 48   : [0.4166666666666667]\n",
      "133.White_throated_Sparrow     test samples 12   , training samples 48   : [0.5833333333333334]\n",
      "134.Cape_Glossy_Starling       test samples 12   , training samples 48   : [0.9166666666666666]\n",
      "135.Bank_Swallow               test samples 12   , training samples 47   : [0.5]\n",
      "136.Barn_Swallow               test samples 12   , training samples 48   : [0.6666666666666666]\n",
      "137.Cliff_Swallow              test samples 12   , training samples 48   : [0.6666666666666666]\n",
      "138.Tree_Swallow               test samples 12   , training samples 48   : [0.8333333333333334]\n",
      "139.Scarlet_Tanager            test samples 12   , training samples 48   : [0.9166666666666666]\n",
      "140.Summer_Tanager             test samples 12   , training samples 48   : [0.8333333333333334]\n",
      "141.Artic_Tern                 test samples 11   , training samples 47   : [0.9090909090909091]\n",
      "142.Black_Tern                 test samples 12   , training samples 48   : [0.25]\n",
      "143.Caspian_Tern               test samples 12   , training samples 48   : [0.3333333333333333]\n",
      "144.Common_Tern                test samples 12   , training samples 48   : [0.5]\n",
      "145.Elegant_Tern               test samples 12   , training samples 48   : [0.16666666666666666]\n",
      "146.Forsters_Tern              test samples 12   , training samples 48   : [0.4166666666666667]\n",
      "147.Least_Tern                 test samples 12   , training samples 48   : [0.8333333333333334]\n",
      "148.Green_tailed_Towhee        test samples 12   , training samples 48   : [0.75]\n",
      "149.Brown_Thrasher             test samples 12   , training samples 47   : [0.5]\n",
      "150.Sage_Thrasher              test samples 12   , training samples 48   : [0.5]\n",
      "151.Black_capped_Vireo         test samples 10   , training samples 41   : [0.6]\n",
      "152.Blue_headed_Vireo          test samples 12   , training samples 48   : [0.6666666666666666]\n",
      "153.Philadelphia_Vireo         test samples 12   , training samples 47   : [0.5]\n",
      "154.Red_eyed_Vireo             test samples 12   , training samples 48   : [0.8333333333333334]\n",
      "155.Warbling_Vireo             test samples 12   , training samples 48   : [0.4166666666666667]\n",
      "156.White_eyed_Vireo           test samples 12   , training samples 48   : [0.6666666666666666]\n",
      "157.Yellow_throated_Vireo      test samples 12   , training samples 47   : [0.5833333333333334]\n",
      "158.Bay_breasted_Warbler       test samples 12   , training samples 48   : [0.9166666666666666]\n",
      "159.Black_and_white_Warbler    test samples 12   , training samples 48   : [0.9166666666666666]\n",
      "160.Black_throated_Blue_Warbler test samples 12   , training samples 47   : [0.75]\n",
      "161.Blue_winged_Warbler        test samples 12   , training samples 48   : [0.6666666666666666]\n",
      "162.Canada_Warbler             test samples 12   , training samples 48   : [0.5]\n",
      "163.Cape_May_Warbler           test samples 12   , training samples 48   : [0.8333333333333334]\n",
      "164.Cerulean_Warbler           test samples 12   , training samples 48   : [0.6666666666666666]\n",
      "165.Chestnut_sided_Warbler     test samples 12   , training samples 48   : [0.6666666666666666]\n",
      "166.Golden_winged_Warbler      test samples 12   , training samples 47   : [0.75]\n",
      "167.Hooded_Warbler             test samples 12   , training samples 48   : [0.9166666666666666]\n",
      "168.Kentucky_Warbler           test samples 12   , training samples 47   : [0.8333333333333334]\n",
      "169.Magnolia_Warbler           test samples 12   , training samples 47   : [0.9166666666666666]\n",
      "170.Mourning_Warbler           test samples 12   , training samples 48   : [0.75]\n",
      "171.Myrtle_Warbler             test samples 12   , training samples 48   : [0.6666666666666666]\n",
      "172.Nashville_Warbler          test samples 12   , training samples 48   : [0.9166666666666666]\n",
      "173.Orange_crowned_Warbler     test samples 12   , training samples 48   : [0.5]\n",
      "174.Palm_Warbler               test samples 12   , training samples 48   : [0.3333333333333333]\n",
      "175.Pine_Warbler               test samples 12   , training samples 48   : [0.5833333333333334]\n",
      "176.Prairie_Warbler            test samples 12   , training samples 48   : [0.6666666666666666]\n",
      "177.Prothonotary_Warbler       test samples 12   , training samples 48   : [0.9166666666666666]\n",
      "178.Swainson_Warbler           test samples 11   , training samples 45   : [0.6363636363636364]\n",
      "179.Tennessee_Warbler          test samples 12   , training samples 47   : [0.16666666666666666]\n",
      "180.Wilson_Warbler             test samples 12   , training samples 48   : [0.5]\n",
      "181.Worm_eating_Warbler        test samples 12   , training samples 47   : [0.5833333333333334]\n",
      "182.Yellow_Warbler             test samples 12   , training samples 48   : [0.6666666666666666]\n",
      "183.Northern_Waterthrush       test samples 12   , training samples 48   : [0.6666666666666666]\n",
      "184.Louisiana_Waterthrush      test samples 12   , training samples 48   : [0.6666666666666666]\n",
      "185.Bohemian_Waxwing           test samples 12   , training samples 48   : [1.0]\n",
      "186.Cedar_Waxwing              test samples 12   , training samples 48   : [0.8333333333333334]\n",
      "187.American_Three_toed_Woodpecker test samples 10   , training samples 40   : [0.8]\n",
      "188.Pileated_Woodpecker        test samples 12   , training samples 48   : [0.9166666666666666]\n",
      "189.Red_bellied_Woodpecker     test samples 12   , training samples 48   : [1.0]\n",
      "190.Red_cockaded_Woodpecker    test samples 11   , training samples 47   : [0.8181818181818182]\n",
      "191.Red_headed_Woodpecker      test samples 12   , training samples 48   : [0.75]\n",
      "192.Downy_Woodpecker           test samples 12   , training samples 48   : [0.9166666666666666]\n",
      "193.Bewick_Wren                test samples 12   , training samples 48   : [0.6666666666666666]\n",
      "194.Cactus_Wren                test samples 12   , training samples 48   : [0.9166666666666666]\n",
      "195.Carolina_Wren              test samples 12   , training samples 48   : [0.6666666666666666]\n",
      "196.House_Wren                 test samples 12   , training samples 47   : [0.6666666666666666]\n",
      "197.Marsh_Wren                 test samples 12   , training samples 48   : [0.4166666666666667]\n",
      "198.Rock_Wren                  test samples 12   , training samples 48   : [0.5833333333333334]\n",
      "199.Winter_Wren                test samples 12   , training samples 48   : [0.75]\n",
      "200.Common_Yellowthroat        test samples 12   , training samples 48   : [0.8333333333333334]\n"
     ]
    }
   ],
   "source": [
    "acc_dict = {}\n",
    "for i in test_labels.unique():\n",
    "    new_labels = test_labels[test_labels==i]\n",
    "    new_embeddings = test_embeddings[test_labels==i]\n",
    "    accuracies = accuracy_calculator.get_accuracy(\n",
    "        new_embeddings, new_labels, train_embeddings, train_labels, False\n",
    "    )\n",
    "    acc_dict[data_dict[int(i.detach().cpu().numpy())]]=[ \n",
    "                  len(new_labels),\n",
    "                  len(train_labels[train_labels==i]),\n",
    "                  accuracies[\"precision_at_1\"][0]]\n",
    "    print(\"{:<30} test samples {:<5}, training samples {:<5}: {}\".format(data_dict[int(i.detach().cpu().numpy())],\n",
    "                                                                  len(new_labels),\n",
    "                                                                  len(train_labels[train_labels==i]),\n",
    "                                                                  accuracies[\"precision_at_1\"]))"
   ]
  },
  {
   "cell_type": "code",
   "execution_count": 33,
   "id": "971a3f40-43ba-47d0-b313-b6f86dd13d81",
   "metadata": {},
   "outputs": [],
   "source": [
    "all_table = [[k]+v for k,v in acc_dict.items()]"
   ]
  },
  {
   "cell_type": "code",
   "execution_count": 34,
   "id": "c4d9d6d7-2f79-410e-9e8d-b03d5df6092d",
   "metadata": {},
   "outputs": [],
   "source": [
    "columns = [\"class_name\", \"no. of test samples\", \"no. of train samples\", \"precision@1\"]\n",
    "train_table = wandb.Table(data=all_table, columns=columns)"
   ]
  },
  {
   "cell_type": "code",
   "execution_count": 35,
   "id": "76dc029c-15da-4f8d-9a24-d2a6e13e4e3f",
   "metadata": {},
   "outputs": [],
   "source": [
    "run.log({\"all_classes_metrics\": train_table})"
   ]
  },
  {
   "cell_type": "markdown",
   "id": "4c293f29-4fb8-48c2-a622-d8a9f229474a",
   "metadata": {},
   "source": [
    "## classification report for all classes when entire  dataset in vecto"
   ]
  },
  {
   "cell_type": "code",
   "execution_count": 36,
   "id": "314f5a94-c661-4bf1-8f4e-2ed603c00941",
   "metadata": {},
   "outputs": [
    {
     "name": "stderr",
     "output_type": "stream",
     "text": [
      "100%|█████████████████████████████████████████████████████████████████████████████████████████████████████| 295/295 [00:16<00:00, 18.17it/s]\n",
      "100%|███████████████████████████████████████████████████████████████████████████████████████████████████████| 74/74 [00:03<00:00, 19.52it/s]\n"
     ]
    }
   ],
   "source": [
    "train_embeddings, train_labels = get_all_embeddings(train_dataset, model)\n",
    "test_embeddings, test_labels = get_all_embeddings(test_dataset, model)\n",
    "train_labels = train_labels.squeeze(1)\n",
    "test_labels = test_labels.squeeze(1)"
   ]
  },
  {
   "cell_type": "code",
   "execution_count": 37,
   "id": "3a95fea1-6b58-4dcf-aeb7-de1a40ee731b",
   "metadata": {},
   "outputs": [],
   "source": [
    "import faiss\n",
    "# Create a Faiss index\n",
    "index = faiss.IndexFlatIP(128)\n",
    "# Add some vectors to the index\n",
    "index.add(train_embeddings.detach().cpu().numpy())"
   ]
  },
  {
   "cell_type": "code",
   "execution_count": 38,
   "id": "b7865da3-0493-4c18-b748-9ed4858e4168",
   "metadata": {},
   "outputs": [],
   "source": [
    "pred_labels = [] \n",
    "for embedding,label in zip(test_embeddings.detach().cpu().numpy(),test_labels):\n",
    "    _, indices = index.search(embedding.reshape(1,-1).astype(np.float32), 1)\n",
    "    pred_class = train_labels[indices[0][0]]\n",
    "    pred_labels.append(pred_class)"
   ]
  },
  {
   "cell_type": "code",
   "execution_count": 39,
   "id": "4dfd3a2f-3e63-45ec-9429-abb80862949d",
   "metadata": {},
   "outputs": [],
   "source": [
    "pred_labels = [i.detach().cpu().numpy() for i in pred_labels]"
   ]
  },
  {
   "cell_type": "code",
   "execution_count": 40,
   "id": "09e38eb6-ef8a-4a3d-bd0d-41939ffe9133",
   "metadata": {
    "scrolled": true
   },
   "outputs": [],
   "source": [
    "from sklearn.metrics import classification_report\n",
    "report = classification_report(test_labels.detach().cpu().numpy(), pred_labels, target_names=list(class_dict.keys()),output_dict=True)"
   ]
  },
  {
   "cell_type": "code",
   "execution_count": 41,
   "id": "bc382f16-271b-482f-ba83-7d9f2e382e81",
   "metadata": {},
   "outputs": [
    {
     "name": "stdout",
     "output_type": "stream",
     "text": [
      "                                    precision    recall  f1-score   support\n",
      "\n",
      "        001.Black_footed_Albatross       0.64      0.75      0.69        12\n",
      "              002.Laysan_Albatross       0.53      0.67      0.59        12\n",
      "               003.Sooty_Albatross       0.56      0.42      0.48        12\n",
      "             004.Groove_billed_Ani       0.65      0.92      0.76        12\n",
      "                005.Crested_Auklet       0.83      0.56      0.67         9\n",
      "                  006.Least_Auklet       0.75      0.75      0.75         8\n",
      "               007.Parakeet_Auklet       0.77      1.00      0.87        10\n",
      "             008.Rhinoceros_Auklet       0.64      0.78      0.70         9\n",
      "              009.Brewer_Blackbird       0.56      0.42      0.48        12\n",
      "          010.Red_winged_Blackbird       1.00      0.83      0.91        12\n",
      "               011.Rusty_Blackbird       0.55      0.50      0.52        12\n",
      "       012.Yellow_headed_Blackbird       1.00      0.91      0.95        11\n",
      "                      013.Bobolink       0.77      0.83      0.80        12\n",
      "                014.Indigo_Bunting       0.56      0.75      0.64        12\n",
      "                015.Lazuli_Bunting       0.89      0.73      0.80        11\n",
      "               016.Painted_Bunting       1.00      0.73      0.84        11\n",
      "                      017.Cardinal       0.60      0.55      0.57        11\n",
      "               018.Spotted_Catbird       1.00      1.00      1.00         9\n",
      "                  019.Gray_Catbird       0.77      0.83      0.80        12\n",
      "          020.Yellow_breasted_Chat       0.55      0.50      0.52        12\n",
      "                021.Eastern_Towhee       0.91      0.83      0.87        12\n",
      "              022.Chuck_will_Widow       0.67      0.55      0.60        11\n",
      "              023.Brandt_Cormorant       0.62      0.42      0.50        12\n",
      "           024.Red_faced_Cormorant       0.75      0.90      0.82        10\n",
      "             025.Pelagic_Cormorant       0.50      0.50      0.50        12\n",
      "               026.Bronzed_Cowbird       0.90      0.75      0.82        12\n",
      "                 027.Shiny_Cowbird       0.27      0.25      0.26        12\n",
      "                 028.Brown_Creeper       0.92      1.00      0.96        12\n",
      "                 029.American_Crow       0.12      0.17      0.14        12\n",
      "                     030.Fish_Crow       0.07      0.08      0.07        12\n",
      "           031.Black_billed_Cuckoo       0.57      0.67      0.62        12\n",
      "               032.Mangrove_Cuckoo       0.46      0.60      0.52        10\n",
      "          033.Yellow_billed_Cuckoo       0.53      0.67      0.59        12\n",
      "       034.Gray_crowned_Rosy_Finch       1.00      0.83      0.91        12\n",
      "                  035.Purple_Finch       0.71      0.83      0.77        12\n",
      "              036.Northern_Flicker       1.00      0.67      0.80        12\n",
      "            037.Acadian_Flycatcher       0.57      0.33      0.42        12\n",
      "      038.Great_Crested_Flycatcher       0.62      0.67      0.64        12\n",
      "              039.Least_Flycatcher       0.35      0.50      0.41        12\n",
      "        040.Olive_sided_Flycatcher       0.60      0.50      0.55        12\n",
      "     041.Scissor_tailed_Flycatcher       0.73      0.92      0.81        12\n",
      "          042.Vermilion_Flycatcher       0.85      0.92      0.88        12\n",
      "     043.Yellow_bellied_Flycatcher       0.33      0.33      0.33        12\n",
      "                   044.Frigatebird       0.92      0.92      0.92        12\n",
      "               045.Northern_Fulmar       0.30      0.25      0.27        12\n",
      "                       046.Gadwall       0.69      0.92      0.79        12\n",
      "            047.American_Goldfinch       0.75      0.75      0.75        12\n",
      "            048.European_Goldfinch       0.92      0.92      0.92        12\n",
      "           049.Boat_tailed_Grackle       0.40      0.33      0.36        12\n",
      "                   050.Eared_Grebe       0.58      0.58      0.58        12\n",
      "                  051.Horned_Grebe       0.69      0.75      0.72        12\n",
      "             052.Pied_billed_Grebe       0.64      0.75      0.69        12\n",
      "                 053.Western_Grebe       0.83      0.83      0.83        12\n",
      "                 054.Blue_Grosbeak       0.58      0.58      0.58        12\n",
      "              055.Evening_Grosbeak       0.92      1.00      0.96        12\n",
      "                 056.Pine_Grosbeak       0.75      0.75      0.75        12\n",
      "        057.Rose_breasted_Grosbeak       0.92      0.92      0.92        12\n",
      "              058.Pigeon_Guillemot       0.70      0.58      0.64        12\n",
      "               059.California_Gull       0.09      0.17      0.12        12\n",
      "          060.Glaucous_winged_Gull       0.18      0.17      0.17        12\n",
      "                 061.Heermann_Gull       0.92      0.92      0.92        12\n",
      "                  062.Herring_Gull       0.38      0.25      0.30        12\n",
      "                    063.Ivory_Gull       0.71      1.00      0.83        12\n",
      "              064.Ring_billed_Gull       0.23      0.25      0.24        12\n",
      "             065.Slaty_backed_Gull       0.67      0.40      0.50        10\n",
      "                  066.Western_Gull       0.36      0.33      0.35        12\n",
      "              067.Anna_Hummingbird       0.86      0.50      0.63        12\n",
      "     068.Ruby_throated_Hummingbird       0.69      0.92      0.79        12\n",
      "            069.Rufous_Hummingbird       0.80      1.00      0.89        12\n",
      "               070.Green_Violetear       0.85      0.92      0.88        12\n",
      "            071.Long_tailed_Jaeger       0.42      0.42      0.42        12\n",
      "               072.Pomarine_Jaeger       0.38      0.25      0.30        12\n",
      "                      073.Blue_Jay       1.00      0.83      0.91        12\n",
      "                   074.Florida_Jay       0.90      0.75      0.82        12\n",
      "                     075.Green_Jay       0.91      0.91      0.91        11\n",
      "               076.Dark_eyed_Junco       0.83      0.83      0.83        12\n",
      "             077.Tropical_Kingbird       0.80      0.67      0.73        12\n",
      "                 078.Gray_Kingbird       0.75      0.50      0.60        12\n",
      "             079.Belted_Kingfisher       0.83      0.83      0.83        12\n",
      "              080.Green_Kingfisher       0.57      0.67      0.62        12\n",
      "               081.Pied_Kingfisher       1.00      0.75      0.86        12\n",
      "             082.Ringed_Kingfisher       0.60      0.75      0.67        12\n",
      "     083.White_breasted_Kingfisher       1.00      0.92      0.96        12\n",
      "          084.Red_legged_Kittiwake       0.78      0.70      0.74        10\n",
      "                   085.Horned_Lark       0.75      0.75      0.75        12\n",
      "                  086.Pacific_Loon       0.59      0.83      0.69        12\n",
      "                       087.Mallard       0.91      0.83      0.87        12\n",
      "            088.Western_Meadowlark       0.85      0.92      0.88        12\n",
      "              089.Hooded_Merganser       0.92      0.92      0.92        12\n",
      "        090.Red_breasted_Merganser       0.85      0.92      0.88        12\n",
      "                   091.Mockingbird       0.50      0.17      0.25        12\n",
      "                     092.Nighthawk       0.64      0.75      0.69        12\n",
      "              093.Clark_Nutcracker       1.00      0.83      0.91        12\n",
      "       094.White_breasted_Nuthatch       1.00      1.00      1.00        12\n",
      "              095.Baltimore_Oriole       0.82      0.75      0.78        12\n",
      "                 096.Hooded_Oriole       0.73      0.67      0.70        12\n",
      "                097.Orchard_Oriole       0.86      0.50      0.63        12\n",
      "                  098.Scott_Oriole       0.83      0.83      0.83        12\n",
      "                      099.Ovenbird       0.90      0.75      0.82        12\n",
      "                 100.Brown_Pelican       0.92      1.00      0.96        12\n",
      "                 101.White_Pelican       1.00      0.90      0.95        10\n",
      "            102.Western_Wood_Pewee       0.20      0.25      0.22        12\n",
      "                      103.Sayornis       0.36      0.33      0.35        12\n",
      "                104.American_Pipit       0.50      0.67      0.57        12\n",
      "                105.Whip_poor_Will       0.71      0.50      0.59        10\n",
      "                 106.Horned_Puffin       1.00      0.75      0.86        12\n",
      "                  107.Common_Raven       0.21      0.25      0.23        12\n",
      "            108.White_necked_Raven       0.70      0.58      0.64        12\n",
      "             109.American_Redstart       0.92      1.00      0.96        12\n",
      "                     110.Geococcyx       0.91      0.83      0.87        12\n",
      "             111.Loggerhead_Shrike       0.35      0.50      0.41        12\n",
      "             112.Great_Grey_Shrike       0.38      0.42      0.40        12\n",
      "                 113.Baird_Sparrow       0.56      0.50      0.53        10\n",
      "        114.Black_throated_Sparrow       0.64      0.75      0.69        12\n",
      "                115.Brewer_Sparrow       0.70      0.58      0.64        12\n",
      "              116.Chipping_Sparrow       0.47      0.75      0.58        12\n",
      "          117.Clay_colored_Sparrow       0.70      0.58      0.64        12\n",
      "                 118.House_Sparrow       0.60      0.25      0.35        12\n",
      "                 119.Field_Sparrow       0.43      0.75      0.55        12\n",
      "                   120.Fox_Sparrow       0.57      0.67      0.62        12\n",
      "           121.Grasshopper_Sparrow       0.50      0.33      0.40        12\n",
      "                122.Harris_Sparrow       0.67      0.83      0.74        12\n",
      "               123.Henslow_Sparrow       0.56      0.75      0.64        12\n",
      "              124.Le_Conte_Sparrow       0.55      0.50      0.52        12\n",
      "               125.Lincoln_Sparrow       0.38      0.50      0.43        12\n",
      "   126.Nelson_Sharp_tailed_Sparrow       0.73      0.67      0.70        12\n",
      "              127.Savannah_Sparrow       0.56      0.42      0.48        12\n",
      "               128.Seaside_Sparrow       0.56      0.75      0.64        12\n",
      "                  129.Song_Sparrow       0.55      0.50      0.52        12\n",
      "                  130.Tree_Sparrow       0.64      0.75      0.69        12\n",
      "                131.Vesper_Sparrow       0.50      0.75      0.60        12\n",
      "         132.White_crowned_Sparrow       0.56      0.42      0.48        12\n",
      "        133.White_throated_Sparrow       0.70      0.58      0.64        12\n",
      "          134.Cape_Glossy_Starling       0.77      0.83      0.80        12\n",
      "                  135.Bank_Swallow       0.64      0.58      0.61        12\n",
      "                  136.Barn_Swallow       1.00      0.83      0.91        12\n",
      "                 137.Cliff_Swallow       0.80      0.67      0.73        12\n",
      "                  138.Tree_Swallow       0.83      0.83      0.83        12\n",
      "               139.Scarlet_Tanager       0.91      0.83      0.87        12\n",
      "                140.Summer_Tanager       1.00      0.92      0.96        12\n",
      "                    141.Artic_Tern       0.45      0.82      0.58        11\n",
      "                    142.Black_Tern       0.80      0.33      0.47        12\n",
      "                  143.Caspian_Tern       0.46      0.50      0.48        12\n",
      "                   144.Common_Tern       0.43      0.25      0.32        12\n",
      "                  145.Elegant_Tern       0.45      0.42      0.43        12\n",
      "                 146.Forsters_Tern       0.56      0.42      0.48        12\n",
      "                    147.Least_Tern       0.83      0.83      0.83        12\n",
      "           148.Green_tailed_Towhee       0.88      0.58      0.70        12\n",
      "                149.Brown_Thrasher       0.86      0.50      0.63        12\n",
      "                 150.Sage_Thrasher       0.55      0.50      0.52        12\n",
      "            151.Black_capped_Vireo       0.88      0.70      0.78        10\n",
      "             152.Blue_headed_Vireo       0.50      0.75      0.60        12\n",
      "            153.Philadelphia_Vireo       0.50      0.67      0.57        12\n",
      "                154.Red_eyed_Vireo       0.57      0.67      0.62        12\n",
      "                155.Warbling_Vireo       0.40      0.33      0.36        12\n",
      "              156.White_eyed_Vireo       0.73      0.67      0.70        12\n",
      "         157.Yellow_throated_Vireo       0.78      0.58      0.67        12\n",
      "          158.Bay_breasted_Warbler       0.83      0.83      0.83        12\n",
      "       159.Black_and_white_Warbler       0.92      0.92      0.92        12\n",
      "   160.Black_throated_Blue_Warbler       0.83      0.83      0.83        12\n",
      "           161.Blue_winged_Warbler       0.60      0.50      0.55        12\n",
      "                162.Canada_Warbler       0.64      0.58      0.61        12\n",
      "              163.Cape_May_Warbler       0.71      0.83      0.77        12\n",
      "              164.Cerulean_Warbler       0.62      0.83      0.71        12\n",
      "        165.Chestnut_sided_Warbler       0.75      0.75      0.75        12\n",
      "         166.Golden_winged_Warbler       0.90      0.75      0.82        12\n",
      "                167.Hooded_Warbler       0.56      0.75      0.64        12\n",
      "              168.Kentucky_Warbler       0.75      0.75      0.75        12\n",
      "              169.Magnolia_Warbler       1.00      0.83      0.91        12\n",
      "              170.Mourning_Warbler       0.75      0.75      0.75        12\n",
      "                171.Myrtle_Warbler       0.64      0.58      0.61        12\n",
      "             172.Nashville_Warbler       0.77      0.83      0.80        12\n",
      "        173.Orange_crowned_Warbler       0.38      0.42      0.40        12\n",
      "                  174.Palm_Warbler       0.44      0.33      0.38        12\n",
      "                  175.Pine_Warbler       0.50      0.50      0.50        12\n",
      "               176.Prairie_Warbler       0.90      0.75      0.82        12\n",
      "          177.Prothonotary_Warbler       0.73      0.92      0.81        12\n",
      "              178.Swainson_Warbler       0.50      0.55      0.52        11\n",
      "             179.Tennessee_Warbler       0.27      0.25      0.26        12\n",
      "                180.Wilson_Warbler       0.55      0.50      0.52        12\n",
      "           181.Worm_eating_Warbler       0.80      0.67      0.73        12\n",
      "                182.Yellow_Warbler       0.58      0.58      0.58        12\n",
      "          183.Northern_Waterthrush       0.58      0.58      0.58        12\n",
      "         184.Louisiana_Waterthrush       0.58      0.58      0.58        12\n",
      "              185.Bohemian_Waxwing       0.92      0.92      0.92        12\n",
      "                 186.Cedar_Waxwing       1.00      0.83      0.91        12\n",
      "187.American_Three_toed_Woodpecker       0.60      0.60      0.60        10\n",
      "           188.Pileated_Woodpecker       0.91      0.83      0.87        12\n",
      "        189.Red_bellied_Woodpecker       0.75      1.00      0.86        12\n",
      "       190.Red_cockaded_Woodpecker       0.73      0.73      0.73        11\n",
      "         191.Red_headed_Woodpecker       0.82      0.75      0.78        12\n",
      "              192.Downy_Woodpecker       0.85      0.92      0.88        12\n",
      "                   193.Bewick_Wren       0.54      0.58      0.56        12\n",
      "                   194.Cactus_Wren       0.79      0.92      0.85        12\n",
      "                 195.Carolina_Wren       0.67      0.67      0.67        12\n",
      "                    196.House_Wren       0.50      0.33      0.40        12\n",
      "                    197.Marsh_Wren       0.58      0.58      0.58        12\n",
      "                     198.Rock_Wren       0.82      0.75      0.78        12\n",
      "                   199.Winter_Wren       0.73      0.92      0.81        12\n",
      "           200.Common_Yellowthroat       0.83      0.83      0.83        12\n",
      "\n",
      "                          accuracy                           0.66      2358\n",
      "                         macro avg       0.68      0.66      0.66      2358\n",
      "                      weighted avg       0.68      0.66      0.66      2358\n",
      "\n"
     ]
    }
   ],
   "source": [
    "print(classification_report(test_labels.detach().cpu().numpy(), pred_labels, target_names=list(class_dict.keys())))"
   ]
  },
  {
   "cell_type": "code",
   "execution_count": 42,
   "id": "1e8845dc-c978-4b7b-99e4-9729b79d87c1",
   "metadata": {},
   "outputs": [],
   "source": [
    "df = pd.DataFrame(report).transpose()"
   ]
  },
  {
   "cell_type": "code",
   "execution_count": 43,
   "id": "282eb152-50d2-46bd-ad7c-5904c9b2f0a4",
   "metadata": {},
   "outputs": [
    {
     "data": {
      "text/html": [
       "<div>\n",
       "<style scoped>\n",
       "    .dataframe tbody tr th:only-of-type {\n",
       "        vertical-align: middle;\n",
       "    }\n",
       "\n",
       "    .dataframe tbody tr th {\n",
       "        vertical-align: top;\n",
       "    }\n",
       "\n",
       "    .dataframe thead th {\n",
       "        text-align: right;\n",
       "    }\n",
       "</style>\n",
       "<table border=\"1\" class=\"dataframe\">\n",
       "  <thead>\n",
       "    <tr style=\"text-align: right;\">\n",
       "      <th></th>\n",
       "      <th>precision</th>\n",
       "      <th>recall</th>\n",
       "      <th>f1-score</th>\n",
       "      <th>support</th>\n",
       "    </tr>\n",
       "  </thead>\n",
       "  <tbody>\n",
       "    <tr>\n",
       "      <th>001.Black_footed_Albatross</th>\n",
       "      <td>0.642857</td>\n",
       "      <td>0.750000</td>\n",
       "      <td>0.692308</td>\n",
       "      <td>12.0</td>\n",
       "    </tr>\n",
       "    <tr>\n",
       "      <th>002.Laysan_Albatross</th>\n",
       "      <td>0.533333</td>\n",
       "      <td>0.666667</td>\n",
       "      <td>0.592593</td>\n",
       "      <td>12.0</td>\n",
       "    </tr>\n",
       "    <tr>\n",
       "      <th>003.Sooty_Albatross</th>\n",
       "      <td>0.555556</td>\n",
       "      <td>0.416667</td>\n",
       "      <td>0.476190</td>\n",
       "      <td>12.0</td>\n",
       "    </tr>\n",
       "    <tr>\n",
       "      <th>004.Groove_billed_Ani</th>\n",
       "      <td>0.647059</td>\n",
       "      <td>0.916667</td>\n",
       "      <td>0.758621</td>\n",
       "      <td>12.0</td>\n",
       "    </tr>\n",
       "    <tr>\n",
       "      <th>005.Crested_Auklet</th>\n",
       "      <td>0.833333</td>\n",
       "      <td>0.555556</td>\n",
       "      <td>0.666667</td>\n",
       "      <td>9.0</td>\n",
       "    </tr>\n",
       "  </tbody>\n",
       "</table>\n",
       "</div>"
      ],
      "text/plain": [
       "                            precision    recall  f1-score  support\n",
       "001.Black_footed_Albatross   0.642857  0.750000  0.692308     12.0\n",
       "002.Laysan_Albatross         0.533333  0.666667  0.592593     12.0\n",
       "003.Sooty_Albatross          0.555556  0.416667  0.476190     12.0\n",
       "004.Groove_billed_Ani        0.647059  0.916667  0.758621     12.0\n",
       "005.Crested_Auklet           0.833333  0.555556  0.666667      9.0"
      ]
     },
     "execution_count": 43,
     "metadata": {},
     "output_type": "execute_result"
    }
   ],
   "source": [
    "df.head()"
   ]
  },
  {
   "cell_type": "code",
   "execution_count": 44,
   "id": "32e24514-4ae2-4dc2-b671-781c8c3d6180",
   "metadata": {},
   "outputs": [],
   "source": [
    "df.reset_index(inplace=True)"
   ]
  },
  {
   "cell_type": "code",
   "execution_count": 45,
   "id": "71ff6ed3-bcd9-4d2e-9371-b4c409d8a76c",
   "metadata": {},
   "outputs": [],
   "source": [
    "df.rename(columns={\"index\":'class_name'},inplace=True)"
   ]
  },
  {
   "cell_type": "code",
   "execution_count": 46,
   "id": "945dce04-630d-40b1-9e3d-8738875d3bd7",
   "metadata": {},
   "outputs": [],
   "source": [
    "classification_report_table = wandb.Table(dataframe=df)"
   ]
  },
  {
   "cell_type": "code",
   "execution_count": 47,
   "id": "3a1baa45-ad12-41e6-8e44-dd5ab0ba2eb7",
   "metadata": {},
   "outputs": [],
   "source": [
    "run.log({\"all_classes_classification_report\": classification_report_table})"
   ]
  },
  {
   "cell_type": "markdown",
   "id": "bbfc4b6e-d88c-45ac-9caf-6c5f26a0d52a",
   "metadata": {},
   "source": [
    "## Removing classes from training dataset and seeing performance"
   ]
  },
  {
   "cell_type": "code",
   "execution_count": 48,
   "id": "3597a740-157c-4c24-8d23-65c675de8f7d",
   "metadata": {},
   "outputs": [],
   "source": [
    "train_image_paths = []\n",
    "train_labels = []\n",
    "for folder_path,i in class_dict.items():\n",
    "    if i >= 180:\n",
    "        break\n",
    "    folder_images = glob.glob('CUB_200_2011/images/'+'/'+str(folder_path)+'/*')\n",
    "    train_image_paths.extend(folder_images)\n",
    "    train_labels.extend([i]*len(folder_images))"
   ]
  },
  {
   "cell_type": "code",
   "execution_count": 49,
   "id": "c353dd9e-9064-4774-8244-5770ac9c53cf",
   "metadata": {},
   "outputs": [],
   "source": [
    "test_image_paths = []\n",
    "test_labels = []\n",
    "for folder_path,i in class_dict.items():\n",
    "    if i >= 180:\n",
    "        folder_images = glob.glob('CUB_200_2011/images/'+'/'+str(folder_path)+'/*')\n",
    "        test_image_paths.extend(folder_images)\n",
    "        test_labels.extend([i]*len(folder_images))"
   ]
  },
  {
   "cell_type": "code",
   "execution_count": 50,
   "id": "7a58b988-aa16-4d57-99ef-c889b3bb72d6",
   "metadata": {},
   "outputs": [],
   "source": [
    "from sklearn.model_selection import train_test_split\n",
    "X_train, X_test, y_train, y_test = train_test_split(train_image_paths,train_labels, test_size=config['train_test_split'],\n",
    "                                                    stratify=train_labels, random_state=config['random_seed'])"
   ]
  },
  {
   "cell_type": "code",
   "execution_count": 51,
   "id": "c0902fb2-bd40-40c0-be84-81c2776bdfc6",
   "metadata": {},
   "outputs": [],
   "source": [
    "train_dataset  = CUBDataset(X_train,y_train,train_transform)\n",
    "test_dataset  = CUBDataset(X_test,y_test,test_transform)\n",
    "train_loader = torch.utils.data.DataLoader(train_dataset, batch_size=config['batch_size'], shuffle=True)\n",
    "test_loader = torch.utils.data.DataLoader(test_dataset, batch_size=config['batch_size'], shuffle=False)"
   ]
  },
  {
   "cell_type": "code",
   "execution_count": 52,
   "id": "74998763-e319-4389-a9cb-a14ef5a5ef47",
   "metadata": {},
   "outputs": [
    {
     "name": "stderr",
     "output_type": "stream",
     "text": [
      "/opt/conda/lib/python3.10/site-packages/torchvision/models/_utils.py:208: UserWarning: The parameter 'pretrained' is deprecated since 0.13 and may be removed in the future, please use 'weights' instead.\n",
      "  warnings.warn(\n",
      "/opt/conda/lib/python3.10/site-packages/torchvision/models/_utils.py:223: UserWarning: Arguments other than a weight enum or `None` for 'weights' are deprecated since 0.13 and may be removed in the future. The current behavior is equivalent to passing `weights=ResNet18_Weights.IMAGENET1K_V1`. You can also use `weights=ResNet18_Weights.DEFAULT` to get the most up-to-date weights.\n",
      "  warnings.warn(msg)\n"
     ]
    }
   ],
   "source": [
    "model = ResNetFeatrueExtractor18()\n",
    "model = model.to(device)\n",
    "optimizer = optim.SGD(model.parameters(), lr=config['learning_rate'])\n",
    "num_epochs = config['num_epochs']\n",
    "\n",
    "### pytorch-metric-learning stuff ###\n",
    "distance = distances.LpDistance()\n",
    "reducer = reducers.MeanReducer()\n",
    "loss_func = losses.NTXentLoss(temperature=config['temperature'], distance=distance, reducer=reducer)\n",
    "mining_func = miners.BatchEasyHardMiner(pos_strategy=\"easy\",neg_strategy=\"semihard\")\n",
    "accuracy_calculator = AccuracyCalculator(include=(config['metric'],), k=1)"
   ]
  },
  {
   "cell_type": "code",
   "execution_count": 53,
   "id": "51ad322f-f35f-44bf-b296-a546c9a9ae34",
   "metadata": {
    "scrolled": true
   },
   "outputs": [
    {
     "name": "stdout",
     "output_type": "stream",
     "text": [
      "Epoch 1 Iteration 0: Loss = 0.6216442584991455\n"
     ]
    },
    {
     "name": "stderr",
     "output_type": "stream",
     "text": [
      "100%|█████████████████████████████████████████████████████████████████████████████████████████████████████| 266/266 [00:15<00:00, 17.41it/s]\n",
      "100%|███████████████████████████████████████████████████████████████████████████████████████████████████████| 67/67 [00:09<00:00,  7.42it/s]\n"
     ]
    },
    {
     "name": "stdout",
     "output_type": "stream",
     "text": [
      "Computing accuracy\n",
      "Test set accuracy (Precision@1) = 0.3540782649693541\n",
      "Epoch 2 Iteration 0: Loss = 0.6072370409965515\n"
     ]
    },
    {
     "name": "stderr",
     "output_type": "stream",
     "text": [
      "100%|█████████████████████████████████████████████████████████████████████████████████████████████████████| 266/266 [00:15<00:00, 17.40it/s]\n",
      "100%|███████████████████████████████████████████████████████████████████████████████████████████████████████| 67/67 [00:03<00:00, 18.90it/s]\n"
     ]
    },
    {
     "name": "stdout",
     "output_type": "stream",
     "text": [
      "Computing accuracy\n",
      "Test set accuracy (Precision@1) = 0.3913248467703913\n",
      "Epoch 3 Iteration 0: Loss = 0.6084579229354858\n"
     ]
    },
    {
     "name": "stderr",
     "output_type": "stream",
     "text": [
      "100%|█████████████████████████████████████████████████████████████████████████████████████████████████████| 266/266 [00:15<00:00, 17.40it/s]\n",
      "100%|███████████████████████████████████████████████████████████████████████████████████████████████████████| 67/67 [00:03<00:00, 18.94it/s]\n"
     ]
    },
    {
     "name": "stdout",
     "output_type": "stream",
     "text": [
      "Computing accuracy\n",
      "Test set accuracy (Precision@1) = 0.3851956624233852\n",
      "Epoch 4 Iteration 0: Loss = 0.6031984686851501\n"
     ]
    },
    {
     "name": "stderr",
     "output_type": "stream",
     "text": [
      "100%|█████████████████████████████████████████████████████████████████████████████████████████████████████| 266/266 [00:15<00:00, 17.40it/s]\n",
      "100%|███████████████████████████████████████████████████████████████████████████████████████████████████████| 67/67 [00:03<00:00, 18.85it/s]\n"
     ]
    },
    {
     "name": "stdout",
     "output_type": "stream",
     "text": [
      "Computing accuracy\n",
      "Test set accuracy (Precision@1) = 0.4115983026874116\n",
      "Epoch 5 Iteration 0: Loss = 0.5958212018013\n"
     ]
    },
    {
     "name": "stderr",
     "output_type": "stream",
     "text": [
      "100%|█████████████████████████████████████████████████████████████████████████████████████████████████████| 266/266 [00:15<00:00, 17.41it/s]\n",
      "100%|███████████████████████████████████████████████████████████████████████████████████████████████████████| 67/67 [00:03<00:00, 18.90it/s]\n"
     ]
    },
    {
     "name": "stdout",
     "output_type": "stream",
     "text": [
      "Computing accuracy\n",
      "Test set accuracy (Precision@1) = 0.42102781706742104\n",
      "Epoch 6 Iteration 0: Loss = 0.5856047868728638\n"
     ]
    },
    {
     "name": "stderr",
     "output_type": "stream",
     "text": [
      "100%|█████████████████████████████████████████████████████████████████████████████████████████████████████| 266/266 [00:15<00:00, 17.29it/s]\n",
      "100%|███████████████████████████████████████████████████████████████████████████████████████████████████████| 67/67 [00:03<00:00, 18.70it/s]\n"
     ]
    },
    {
     "name": "stdout",
     "output_type": "stream",
     "text": [
      "Computing accuracy\n",
      "Test set accuracy (Precision@1) = 0.4408297972654408\n",
      "Epoch 7 Iteration 0: Loss = 0.5422427654266357\n"
     ]
    },
    {
     "name": "stderr",
     "output_type": "stream",
     "text": [
      "100%|█████████████████████████████████████████████████████████████████████████████████████████████████████| 266/266 [00:15<00:00, 17.35it/s]\n",
      "100%|███████████████████████████████████████████████████████████████████████████████████████████████████████| 67/67 [00:03<00:00, 18.91it/s]\n"
     ]
    },
    {
     "name": "stdout",
     "output_type": "stream",
     "text": [
      "Computing accuracy\n",
      "Test set accuracy (Precision@1) = 0.44884488448844884\n",
      "Epoch 8 Iteration 0: Loss = 0.5541074872016907\n"
     ]
    },
    {
     "name": "stderr",
     "output_type": "stream",
     "text": [
      "100%|█████████████████████████████████████████████████████████████████████████████████████████████████████| 266/266 [00:15<00:00, 17.42it/s]\n",
      "100%|███████████████████████████████████████████████████████████████████████████████████████████████████████| 67/67 [00:03<00:00, 18.88it/s]\n"
     ]
    },
    {
     "name": "stdout",
     "output_type": "stream",
     "text": [
      "Computing accuracy\n",
      "Test set accuracy (Precision@1) = 0.46723243752946725\n",
      "Epoch 9 Iteration 0: Loss = 0.5138855576515198\n"
     ]
    },
    {
     "name": "stderr",
     "output_type": "stream",
     "text": [
      "100%|█████████████████████████████████████████████████████████████████████████████████████████████████████| 266/266 [00:15<00:00, 17.38it/s]\n",
      "100%|███████████████████████████████████████████████████████████████████████████████████████████████████████| 67/67 [00:03<00:00, 18.94it/s]\n"
     ]
    },
    {
     "name": "stdout",
     "output_type": "stream",
     "text": [
      "Computing accuracy\n",
      "Test set accuracy (Precision@1) = 0.47147571900047147\n",
      "Epoch 10 Iteration 0: Loss = 0.5532358288764954\n"
     ]
    },
    {
     "name": "stderr",
     "output_type": "stream",
     "text": [
      "100%|█████████████████████████████████████████████████████████████████████████████████████████████████████| 266/266 [00:15<00:00, 17.35it/s]\n",
      "100%|███████████████████████████████████████████████████████████████████████████████████████████████████████| 67/67 [00:03<00:00, 18.86it/s]\n"
     ]
    },
    {
     "name": "stdout",
     "output_type": "stream",
     "text": [
      "Computing accuracy\n",
      "Test set accuracy (Precision@1) = 0.4809052333804809\n",
      "Epoch 11 Iteration 0: Loss = 0.5411855578422546\n"
     ]
    },
    {
     "name": "stderr",
     "output_type": "stream",
     "text": [
      "100%|█████████████████████████████████████████████████████████████████████████████████████████████████████| 266/266 [00:15<00:00, 17.17it/s]\n",
      "100%|███████████████████████████████████████████████████████████████████████████████████████████████████████| 67/67 [00:03<00:00, 18.83it/s]\n"
     ]
    },
    {
     "name": "stdout",
     "output_type": "stream",
     "text": [
      "Computing accuracy\n",
      "Test set accuracy (Precision@1) = 0.49033474776049035\n",
      "Epoch 12 Iteration 0: Loss = 0.536784827709198\n"
     ]
    },
    {
     "name": "stderr",
     "output_type": "stream",
     "text": [
      "100%|█████████████████████████████████████████████████████████████████████████████████████████████████████| 266/266 [00:15<00:00, 17.41it/s]\n",
      "100%|███████████████████████████████████████████████████████████████████████████████████████████████████████| 67/67 [00:03<00:00, 18.91it/s]\n"
     ]
    },
    {
     "name": "stdout",
     "output_type": "stream",
     "text": [
      "Computing accuracy\n",
      "Test set accuracy (Precision@1) = 0.4856199905704856\n",
      "Epoch 13 Iteration 0: Loss = 0.4800201952457428\n"
     ]
    },
    {
     "name": "stderr",
     "output_type": "stream",
     "text": [
      "100%|█████████████████████████████████████████████████████████████████████████████████████████████████████| 266/266 [00:15<00:00, 17.35it/s]\n",
      "100%|███████████████████████████████████████████████████████████████████████████████████████████████████████| 67/67 [00:03<00:00, 18.82it/s]\n"
     ]
    },
    {
     "name": "stdout",
     "output_type": "stream",
     "text": [
      "Computing accuracy\n",
      "Test set accuracy (Precision@1) = 0.5025931164545026\n",
      "Epoch 14 Iteration 0: Loss = 0.5290507078170776\n"
     ]
    },
    {
     "name": "stderr",
     "output_type": "stream",
     "text": [
      "100%|█████████████████████████████████████████████████████████████████████████████████████████████████████| 266/266 [00:15<00:00, 17.30it/s]\n",
      "100%|███████████████████████████████████████████████████████████████████████████████████████████████████████| 67/67 [00:03<00:00, 18.92it/s]\n"
     ]
    },
    {
     "name": "stdout",
     "output_type": "stream",
     "text": [
      "Computing accuracy\n",
      "Test set accuracy (Precision@1) = 0.5101367279585102\n",
      "Epoch 15 Iteration 0: Loss = 0.5032509565353394\n"
     ]
    },
    {
     "name": "stderr",
     "output_type": "stream",
     "text": [
      "100%|█████████████████████████████████████████████████████████████████████████████████████████████████████| 266/266 [00:15<00:00, 17.36it/s]\n",
      "100%|███████████████████████████████████████████████████████████████████████████████████████████████████████| 67/67 [00:03<00:00, 18.90it/s]\n"
     ]
    },
    {
     "name": "stdout",
     "output_type": "stream",
     "text": [
      "Computing accuracy\n",
      "Test set accuracy (Precision@1) = 0.49929278642149927\n",
      "Epoch 16 Iteration 0: Loss = 0.5102360248565674\n"
     ]
    },
    {
     "name": "stderr",
     "output_type": "stream",
     "text": [
      "100%|█████████████████████████████████████████████████████████████████████████████████████████████████████| 266/266 [00:15<00:00, 17.16it/s]\n",
      "100%|███████████████████████████████████████████████████████████████████████████████████████████████████████| 67/67 [00:03<00:00, 18.69it/s]\n"
     ]
    },
    {
     "name": "stdout",
     "output_type": "stream",
     "text": [
      "Computing accuracy\n",
      "Test set accuracy (Precision@1) = 0.5289957567185289\n",
      "Epoch 17 Iteration 0: Loss = 0.542698860168457\n"
     ]
    },
    {
     "name": "stderr",
     "output_type": "stream",
     "text": [
      "100%|█████████████████████████████████████████████████████████████████████████████████████████████████████| 266/266 [00:15<00:00, 17.36it/s]\n",
      "100%|███████████████████████████████████████████████████████████████████████████████████████████████████████| 67/67 [00:03<00:00, 18.95it/s]\n"
     ]
    },
    {
     "name": "stdout",
     "output_type": "stream",
     "text": [
      "Computing accuracy\n",
      "Test set accuracy (Precision@1) = 0.5242809995285242\n",
      "Epoch 18 Iteration 0: Loss = 0.5133298635482788\n"
     ]
    },
    {
     "name": "stderr",
     "output_type": "stream",
     "text": [
      "100%|█████████████████████████████████████████████████████████████████████████████████████████████████████| 266/266 [00:15<00:00, 17.42it/s]\n",
      "100%|███████████████████████████████████████████████████████████████████████████████████████████████████████| 67/67 [00:03<00:00, 18.81it/s]\n"
     ]
    },
    {
     "name": "stdout",
     "output_type": "stream",
     "text": [
      "Computing accuracy\n",
      "Test set accuracy (Precision@1) = 0.5261669024045261\n",
      "Epoch 19 Iteration 0: Loss = 0.4647001326084137\n"
     ]
    },
    {
     "name": "stderr",
     "output_type": "stream",
     "text": [
      "100%|█████████████████████████████████████████████████████████████████████████████████████████████████████| 266/266 [00:15<00:00, 17.43it/s]\n",
      "100%|███████████████████████████████████████████████████████████████████████████████████████████████████████| 67/67 [00:03<00:00, 18.84it/s]\n"
     ]
    },
    {
     "name": "stdout",
     "output_type": "stream",
     "text": [
      "Computing accuracy\n",
      "Test set accuracy (Precision@1) = 0.5261669024045261\n",
      "Epoch 20 Iteration 0: Loss = 0.4908163547515869\n"
     ]
    },
    {
     "name": "stderr",
     "output_type": "stream",
     "text": [
      "100%|█████████████████████████████████████████████████████████████████████████████████████████████████████| 266/266 [00:15<00:00, 17.43it/s]\n",
      "100%|███████████████████████████████████████████████████████████████████████████████████████████████████████| 67/67 [00:03<00:00, 18.92it/s]\n"
     ]
    },
    {
     "name": "stdout",
     "output_type": "stream",
     "text": [
      "Computing accuracy\n",
      "Test set accuracy (Precision@1) = 0.5304101838755304\n",
      "Epoch 21 Iteration 0: Loss = 0.49540725350379944\n"
     ]
    },
    {
     "name": "stderr",
     "output_type": "stream",
     "text": [
      "100%|█████████████████████████████████████████████████████████████████████████████████████████████████████| 266/266 [00:15<00:00, 17.39it/s]\n",
      "100%|███████████████████████████████████████████████████████████████████████████████████████████████████████| 67/67 [00:03<00:00, 18.89it/s]\n"
     ]
    },
    {
     "name": "stdout",
     "output_type": "stream",
     "text": [
      "Computing accuracy\n",
      "Test set accuracy (Precision@1) = 0.5256954266855257\n",
      "Epoch 22 Iteration 0: Loss = 0.4370567500591278\n"
     ]
    },
    {
     "name": "stderr",
     "output_type": "stream",
     "text": [
      "100%|█████████████████████████████████████████████████████████████████████████████████████████████████████| 266/266 [00:15<00:00, 17.38it/s]\n",
      "100%|███████████████████████████████████████████████████████████████████████████████████████████████████████| 67/67 [00:03<00:00, 18.93it/s]\n"
     ]
    },
    {
     "name": "stdout",
     "output_type": "stream",
     "text": [
      "Computing accuracy\n",
      "Test set accuracy (Precision@1) = 0.5294672324375295\n",
      "Epoch 23 Iteration 0: Loss = 0.5466414093971252\n"
     ]
    },
    {
     "name": "stderr",
     "output_type": "stream",
     "text": [
      "100%|█████████████████████████████████████████████████████████████████████████████████████████████████████| 266/266 [00:15<00:00, 17.36it/s]\n",
      "100%|███████████████████████████████████████████████████████████████████████████████████████████████████████| 67/67 [00:03<00:00, 18.77it/s]\n"
     ]
    },
    {
     "name": "stdout",
     "output_type": "stream",
     "text": [
      "Computing accuracy\n",
      "Test set accuracy (Precision@1) = 0.5407826496935407\n",
      "Epoch 24 Iteration 0: Loss = 0.4979081451892853\n"
     ]
    },
    {
     "name": "stderr",
     "output_type": "stream",
     "text": [
      "100%|█████████████████████████████████████████████████████████████████████████████████████████████████████| 266/266 [00:15<00:00, 17.38it/s]\n",
      "100%|███████████████████████████████████████████████████████████████████████████████████████████████████████| 67/67 [00:03<00:00, 19.01it/s]\n"
     ]
    },
    {
     "name": "stdout",
     "output_type": "stream",
     "text": [
      "Computing accuracy\n",
      "Test set accuracy (Precision@1) = 0.537010843941537\n",
      "Epoch 25 Iteration 0: Loss = 0.41289040446281433\n"
     ]
    },
    {
     "name": "stderr",
     "output_type": "stream",
     "text": [
      "100%|█████████████████████████████████████████████████████████████████████████████████████████████████████| 266/266 [00:15<00:00, 17.38it/s]\n",
      "100%|███████████████████████████████████████████████████████████████████████████████████████████████████████| 67/67 [00:03<00:00, 18.84it/s]\n"
     ]
    },
    {
     "name": "stdout",
     "output_type": "stream",
     "text": [
      "Computing accuracy\n",
      "Test set accuracy (Precision@1) = 0.5454974068835455\n",
      "Epoch 26 Iteration 0: Loss = 0.46859118342399597\n"
     ]
    },
    {
     "name": "stderr",
     "output_type": "stream",
     "text": [
      "100%|█████████████████████████████████████████████████████████████████████████████████████████████████████| 266/266 [00:15<00:00, 17.49it/s]\n",
      "100%|███████████████████████████████████████████████████████████████████████████████████████████████████████| 67/67 [00:03<00:00, 18.87it/s]\n"
     ]
    },
    {
     "name": "stdout",
     "output_type": "stream",
     "text": [
      "Computing accuracy\n",
      "Test set accuracy (Precision@1) = 0.5572842998585573\n",
      "Epoch 27 Iteration 0: Loss = 0.5070240497589111\n"
     ]
    },
    {
     "name": "stderr",
     "output_type": "stream",
     "text": [
      "100%|█████████████████████████████████████████████████████████████████████████████████████████████████████| 266/266 [00:15<00:00, 17.33it/s]\n",
      "100%|███████████████████████████████████████████████████████████████████████████████████████████████████████| 67/67 [00:03<00:00, 18.96it/s]\n"
     ]
    },
    {
     "name": "stdout",
     "output_type": "stream",
     "text": [
      "Computing accuracy\n",
      "Test set accuracy (Precision@1) = 0.5535124941065536\n",
      "Epoch 28 Iteration 0: Loss = 0.44173499941825867\n"
     ]
    },
    {
     "name": "stderr",
     "output_type": "stream",
     "text": [
      "100%|█████████████████████████████████████████████████████████████████████████████████████████████████████| 266/266 [00:15<00:00, 17.44it/s]\n",
      "100%|███████████████████████████████████████████████████████████████████████████████████████████████████████| 67/67 [00:03<00:00, 18.78it/s]\n"
     ]
    },
    {
     "name": "stdout",
     "output_type": "stream",
     "text": [
      "Computing accuracy\n",
      "Test set accuracy (Precision@1) = 0.5610561056105611\n",
      "Epoch 29 Iteration 0: Loss = 0.4643821716308594\n"
     ]
    },
    {
     "name": "stderr",
     "output_type": "stream",
     "text": [
      "100%|█████████████████████████████████████████████████████████████████████████████████████████████████████| 266/266 [00:15<00:00, 17.48it/s]\n",
      "100%|███████████████████████████████████████████████████████████████████████████████████████████████████████| 67/67 [00:03<00:00, 18.78it/s]\n"
     ]
    },
    {
     "name": "stdout",
     "output_type": "stream",
     "text": [
      "Computing accuracy\n",
      "Test set accuracy (Precision@1) = 0.5436115040075437\n",
      "Epoch 30 Iteration 0: Loss = 0.43483421206474304\n"
     ]
    },
    {
     "name": "stderr",
     "output_type": "stream",
     "text": [
      "100%|█████████████████████████████████████████████████████████████████████████████████████████████████████| 266/266 [00:15<00:00, 17.40it/s]\n",
      "100%|███████████████████████████████████████████████████████████████████████████████████████████████████████| 67/67 [00:03<00:00, 18.90it/s]\n"
     ]
    },
    {
     "name": "stdout",
     "output_type": "stream",
     "text": [
      "Computing accuracy\n",
      "Test set accuracy (Precision@1) = 0.5638849599245639\n",
      "Epoch 31 Iteration 0: Loss = 0.4556032121181488\n"
     ]
    },
    {
     "name": "stderr",
     "output_type": "stream",
     "text": [
      "100%|█████████████████████████████████████████████████████████████████████████████████████████████████████| 266/266 [00:15<00:00, 17.41it/s]\n",
      "100%|███████████████████████████████████████████████████████████████████████████████████████████████████████| 67/67 [00:03<00:00, 19.05it/s]\n"
     ]
    },
    {
     "name": "stdout",
     "output_type": "stream",
     "text": [
      "Computing accuracy\n",
      "Test set accuracy (Precision@1) = 0.5558698727015559\n",
      "Epoch 32 Iteration 0: Loss = 0.4921729564666748\n"
     ]
    },
    {
     "name": "stderr",
     "output_type": "stream",
     "text": [
      "100%|█████████████████████████████████████████████████████████████████████████████████████████████████████| 266/266 [00:15<00:00, 17.11it/s]\n",
      "100%|███████████████████████████████████████████████████████████████████████████████████████████████████████| 67/67 [00:03<00:00, 18.85it/s]\n"
     ]
    },
    {
     "name": "stdout",
     "output_type": "stream",
     "text": [
      "Computing accuracy\n",
      "Test set accuracy (Precision@1) = 0.5553983969825554\n",
      "Epoch 33 Iteration 0: Loss = 0.5089830756187439\n"
     ]
    },
    {
     "name": "stderr",
     "output_type": "stream",
     "text": [
      "100%|█████████████████████████████████████████████████████████████████████████████████████████████████████| 266/266 [00:15<00:00, 17.47it/s]\n",
      "100%|███████████████████████████████████████████████████████████████████████████████████████████████████████| 67/67 [00:03<00:00, 18.95it/s]\n"
     ]
    },
    {
     "name": "stdout",
     "output_type": "stream",
     "text": [
      "Computing accuracy\n",
      "Test set accuracy (Precision@1) = 0.561999057048562\n",
      "Epoch 34 Iteration 0: Loss = 0.5169404149055481\n"
     ]
    },
    {
     "name": "stderr",
     "output_type": "stream",
     "text": [
      "100%|█████████████████████████████████████████████████████████████████████████████████████████████████████| 266/266 [00:15<00:00, 17.49it/s]\n",
      "100%|███████████████████████████████████████████████████████████████████████████████████████████████████████| 67/67 [00:03<00:00, 18.82it/s]\n"
     ]
    },
    {
     "name": "stdout",
     "output_type": "stream",
     "text": [
      "Computing accuracy\n",
      "Test set accuracy (Precision@1) = 0.5780292314945781\n",
      "Epoch 35 Iteration 0: Loss = 0.49157023429870605\n"
     ]
    },
    {
     "name": "stderr",
     "output_type": "stream",
     "text": [
      "100%|█████████████████████████████████████████████████████████████████████████████████████████████████████| 266/266 [00:15<00:00, 17.44it/s]\n",
      "100%|███████████████████████████████████████████████████████████████████████████████████████████████████████| 67/67 [00:03<00:00, 18.74it/s]\n"
     ]
    },
    {
     "name": "stdout",
     "output_type": "stream",
     "text": [
      "Computing accuracy\n",
      "Test set accuracy (Precision@1) = 0.5803866100895804\n",
      "Epoch 36 Iteration 0: Loss = 0.48006051778793335\n"
     ]
    },
    {
     "name": "stderr",
     "output_type": "stream",
     "text": [
      "100%|█████████████████████████████████████████████████████████████████████████████████████████████████████| 266/266 [00:15<00:00, 17.43it/s]\n",
      "100%|███████████████████████████████████████████████████████████████████████████████████████████████████████| 67/67 [00:03<00:00, 18.88it/s]\n"
     ]
    },
    {
     "name": "stdout",
     "output_type": "stream",
     "text": [
      "Computing accuracy\n",
      "Test set accuracy (Precision@1) = 0.586044318717586\n",
      "Epoch 37 Iteration 0: Loss = 0.44228047132492065\n"
     ]
    },
    {
     "name": "stderr",
     "output_type": "stream",
     "text": [
      "100%|█████████████████████████████████████████████████████████████████████████████████████████████████████| 266/266 [00:15<00:00, 17.28it/s]\n",
      "100%|███████████████████████████████████████████████████████████████████████████████████████████████████████| 67/67 [00:03<00:00, 18.83it/s]\n"
     ]
    },
    {
     "name": "stdout",
     "output_type": "stream",
     "text": [
      "Computing accuracy\n",
      "Test set accuracy (Precision@1) = 0.5733144743045733\n",
      "Epoch 38 Iteration 0: Loss = 0.445614218711853\n"
     ]
    },
    {
     "name": "stderr",
     "output_type": "stream",
     "text": [
      "100%|█████████████████████████████████████████████████████████████████████████████████████████████████████| 266/266 [00:15<00:00, 17.45it/s]\n",
      "100%|███████████████████████████████████████████████████████████████████████████████████████████████████████| 67/67 [00:03<00:00, 18.91it/s]\n"
     ]
    },
    {
     "name": "stdout",
     "output_type": "stream",
     "text": [
      "Computing accuracy\n",
      "Test set accuracy (Precision@1) = 0.5841584158415841\n",
      "Epoch 39 Iteration 0: Loss = 0.42195814847946167\n"
     ]
    },
    {
     "name": "stderr",
     "output_type": "stream",
     "text": [
      "100%|█████████████████████████████████████████████████████████████████████████████████████████████████████| 266/266 [00:15<00:00, 17.42it/s]\n",
      "100%|███████████████████████████████████████████████████████████████████████████████████████████████████████| 67/67 [00:03<00:00, 18.86it/s]\n"
     ]
    },
    {
     "name": "stdout",
     "output_type": "stream",
     "text": [
      "Computing accuracy\n",
      "Test set accuracy (Precision@1) = 0.5808580858085809\n",
      "Epoch 40 Iteration 0: Loss = 0.4711259603500366\n"
     ]
    },
    {
     "name": "stderr",
     "output_type": "stream",
     "text": [
      "100%|█████████████████████████████████████████████████████████████████████████████████████████████████████| 266/266 [00:15<00:00, 17.48it/s]\n",
      "100%|███████████████████████████████████████████████████████████████████████████████████████████████████████| 67/67 [00:03<00:00, 18.96it/s]\n"
     ]
    },
    {
     "name": "stdout",
     "output_type": "stream",
     "text": [
      "Computing accuracy\n",
      "Test set accuracy (Precision@1) = 0.5865157944365865\n",
      "Epoch 41 Iteration 0: Loss = 0.44726577401161194\n"
     ]
    },
    {
     "name": "stderr",
     "output_type": "stream",
     "text": [
      "100%|█████████████████████████████████████████████████████████████████████████████████████████████████████| 266/266 [00:15<00:00, 17.45it/s]\n",
      "100%|███████████████████████████████████████████████████████████████████████████████████████████████████████| 67/67 [00:03<00:00, 18.98it/s]\n"
     ]
    },
    {
     "name": "stdout",
     "output_type": "stream",
     "text": [
      "Computing accuracy\n",
      "Test set accuracy (Precision@1) = 0.5893446487505893\n",
      "Epoch 42 Iteration 0: Loss = 0.3728073239326477\n"
     ]
    },
    {
     "name": "stderr",
     "output_type": "stream",
     "text": [
      "100%|█████████████████████████████████████████████████████████████████████████████████████████████████████| 266/266 [00:15<00:00, 17.48it/s]\n",
      "100%|███████████████████████████████████████████████████████████████████████████████████████████████████████| 67/67 [00:03<00:00, 18.76it/s]\n"
     ]
    },
    {
     "name": "stdout",
     "output_type": "stream",
     "text": [
      "Computing accuracy\n",
      "Test set accuracy (Precision@1) = 0.5851013672795851\n",
      "Epoch 43 Iteration 0: Loss = 0.4640662670135498\n"
     ]
    },
    {
     "name": "stderr",
     "output_type": "stream",
     "text": [
      "100%|█████████████████████████████████████████████████████████████████████████████████████████████████████| 266/266 [00:15<00:00, 17.45it/s]\n",
      "100%|███████████████████████████████████████████████████████████████████████████████████████████████████████| 67/67 [00:03<00:00, 18.94it/s]\n"
     ]
    },
    {
     "name": "stdout",
     "output_type": "stream",
     "text": [
      "Computing accuracy\n",
      "Test set accuracy (Precision@1) = 0.5851013672795851\n",
      "Epoch 44 Iteration 0: Loss = 0.4365569055080414\n"
     ]
    },
    {
     "name": "stderr",
     "output_type": "stream",
     "text": [
      "100%|█████████████████████████████████████████████████████████████████████████████████████████████████████| 266/266 [00:15<00:00, 17.41it/s]\n",
      "100%|███████████████████████████████████████████████████████████████████████████████████████████████████████| 67/67 [00:03<00:00, 18.91it/s]\n"
     ]
    },
    {
     "name": "stdout",
     "output_type": "stream",
     "text": [
      "Computing accuracy\n",
      "Test set accuracy (Precision@1) = 0.5954738330975955\n",
      "Epoch 45 Iteration 0: Loss = 0.42699185013771057\n"
     ]
    },
    {
     "name": "stderr",
     "output_type": "stream",
     "text": [
      "100%|█████████████████████████████████████████████████████████████████████████████████████████████████████| 266/266 [00:15<00:00, 17.45it/s]\n",
      "100%|███████████████████████████████████████████████████████████████████████████████████████████████████████| 67/67 [00:03<00:00, 18.86it/s]\n"
     ]
    },
    {
     "name": "stdout",
     "output_type": "stream",
     "text": [
      "Computing accuracy\n",
      "Test set accuracy (Precision@1) = 0.594059405940594\n",
      "Epoch 46 Iteration 0: Loss = 0.4407702088356018\n"
     ]
    },
    {
     "name": "stderr",
     "output_type": "stream",
     "text": [
      "100%|█████████████████████████████████████████████████████████████████████████████████████████████████████| 266/266 [00:15<00:00, 17.44it/s]\n",
      "100%|███████████████████████████████████████████████████████████████████████████████████████████████████████| 67/67 [00:03<00:00, 18.90it/s]\n"
     ]
    },
    {
     "name": "stdout",
     "output_type": "stream",
     "text": [
      "Computing accuracy\n",
      "Test set accuracy (Precision@1) = 0.5926449787835927\n",
      "Epoch 47 Iteration 0: Loss = 0.48401179909706116\n"
     ]
    },
    {
     "name": "stderr",
     "output_type": "stream",
     "text": [
      "100%|█████████████████████████████████████████████████████████████████████████████████████████████████████| 266/266 [00:15<00:00, 17.42it/s]\n",
      "100%|███████████████████████████████████████████████████████████████████████████████████████████████████████| 67/67 [00:03<00:00, 18.94it/s]\n"
     ]
    },
    {
     "name": "stdout",
     "output_type": "stream",
     "text": [
      "Computing accuracy\n",
      "Test set accuracy (Precision@1) = 0.5978312116925978\n",
      "Epoch 48 Iteration 0: Loss = 0.4326707124710083\n"
     ]
    },
    {
     "name": "stderr",
     "output_type": "stream",
     "text": [
      "100%|█████████████████████████████████████████████████████████████████████████████████████████████████████| 266/266 [00:15<00:00, 17.42it/s]\n",
      "100%|███████████████████████████████████████████████████████████████████████████████████████████████████████| 67/67 [00:03<00:00, 18.90it/s]\n"
     ]
    },
    {
     "name": "stdout",
     "output_type": "stream",
     "text": [
      "Computing accuracy\n",
      "Test set accuracy (Precision@1) = 0.6020744931636021\n",
      "Epoch 49 Iteration 0: Loss = 0.43701812624931335\n"
     ]
    },
    {
     "name": "stderr",
     "output_type": "stream",
     "text": [
      "100%|█████████████████████████████████████████████████████████████████████████████████████████████████████| 266/266 [00:15<00:00, 17.47it/s]\n",
      "100%|███████████████████████████████████████████████████████████████████████████████████████████████████████| 67/67 [00:03<00:00, 18.83it/s]\n"
     ]
    },
    {
     "name": "stdout",
     "output_type": "stream",
     "text": [
      "Computing accuracy\n",
      "Test set accuracy (Precision@1) = 0.6082036775106082\n",
      "Epoch 50 Iteration 0: Loss = 0.38320282101631165\n"
     ]
    },
    {
     "name": "stderr",
     "output_type": "stream",
     "text": [
      "100%|█████████████████████████████████████████████████████████████████████████████████████████████████████| 266/266 [00:15<00:00, 17.41it/s]\n",
      "100%|███████████████████████████████████████████████████████████████████████████████████████████████████████| 67/67 [00:03<00:00, 19.01it/s]\n"
     ]
    },
    {
     "name": "stdout",
     "output_type": "stream",
     "text": [
      "Computing accuracy\n",
      "Test set accuracy (Precision@1) = 0.594059405940594\n",
      "Epoch 51 Iteration 0: Loss = 0.4760049879550934\n"
     ]
    },
    {
     "name": "stderr",
     "output_type": "stream",
     "text": [
      "100%|█████████████████████████████████████████████████████████████████████████████████████████████████████| 266/266 [00:15<00:00, 17.41it/s]\n",
      "100%|███████████████████████████████████████████████████████████████████████████████████████████████████████| 67/67 [00:03<00:00, 18.75it/s]\n"
     ]
    },
    {
     "name": "stdout",
     "output_type": "stream",
     "text": [
      "Computing accuracy\n",
      "Test set accuracy (Precision@1) = 0.6058462989156058\n",
      "Epoch 52 Iteration 0: Loss = 0.41260507702827454\n"
     ]
    },
    {
     "name": "stderr",
     "output_type": "stream",
     "text": [
      "100%|█████████████████████████████████████████████████████████████████████████████████████████████████████| 266/266 [00:15<00:00, 17.42it/s]\n",
      "100%|███████████████████████████████████████████████████████████████████████████████████████████████████████| 67/67 [00:03<00:00, 18.87it/s]\n"
     ]
    },
    {
     "name": "stdout",
     "output_type": "stream",
     "text": [
      "Computing accuracy\n",
      "Test set accuracy (Precision@1) = 0.6001885902876002\n",
      "Epoch 53 Iteration 0: Loss = 0.5112397074699402\n"
     ]
    },
    {
     "name": "stderr",
     "output_type": "stream",
     "text": [
      "100%|█████████████████████████████████████████████████████████████████████████████████████████████████████| 266/266 [00:15<00:00, 16.93it/s]\n",
      "100%|███████████████████████████████████████████████████████████████████████████████████████████████████████| 67/67 [00:03<00:00, 18.83it/s]\n"
     ]
    },
    {
     "name": "stdout",
     "output_type": "stream",
     "text": [
      "Computing accuracy\n",
      "Test set accuracy (Precision@1) = 0.6049033474776049\n",
      "Epoch 54 Iteration 0: Loss = 0.46336862444877625\n"
     ]
    },
    {
     "name": "stderr",
     "output_type": "stream",
     "text": [
      "100%|█████████████████████████████████████████████████████████████████████████████████████████████████████| 266/266 [00:15<00:00, 17.47it/s]\n",
      "100%|███████████████████████████████████████████████████████████████████████████████████████████████████████| 67/67 [00:03<00:00, 18.91it/s]\n"
     ]
    },
    {
     "name": "stdout",
     "output_type": "stream",
     "text": [
      "Computing accuracy\n",
      "Test set accuracy (Precision@1) = 0.6082036775106082\n",
      "Epoch 55 Iteration 0: Loss = 0.421527236700058\n"
     ]
    },
    {
     "name": "stderr",
     "output_type": "stream",
     "text": [
      "100%|█████████████████████████████████████████████████████████████████████████████████████████████████████| 266/266 [00:15<00:00, 17.46it/s]\n",
      "100%|███████████████████████████████████████████████████████████████████████████████████████████████████████| 67/67 [00:03<00:00, 18.76it/s]\n"
     ]
    },
    {
     "name": "stdout",
     "output_type": "stream",
     "text": [
      "Computing accuracy\n",
      "Test set accuracy (Precision@1) = 0.5997171145685997\n",
      "Epoch 56 Iteration 0: Loss = 0.41438356041908264\n"
     ]
    },
    {
     "name": "stderr",
     "output_type": "stream",
     "text": [
      "100%|█████████████████████████████████████████████████████████████████████████████████████████████████████| 266/266 [00:15<00:00, 17.43it/s]\n",
      "100%|███████████████████████████████████████████████████████████████████████████████████████████████████████| 67/67 [00:03<00:00, 18.86it/s]\n"
     ]
    },
    {
     "name": "stdout",
     "output_type": "stream",
     "text": [
      "Computing accuracy\n",
      "Test set accuracy (Precision@1) = 0.6086751532296086\n",
      "Epoch 57 Iteration 0: Loss = 0.4395483136177063\n"
     ]
    },
    {
     "name": "stderr",
     "output_type": "stream",
     "text": [
      "100%|█████████████████████████████████████████████████████████████████████████████████████████████████████| 266/266 [00:15<00:00, 17.45it/s]\n",
      "100%|███████████████████████████████████████████████████████████████████████████████████████████████████████| 67/67 [00:03<00:00, 18.96it/s]\n"
     ]
    },
    {
     "name": "stdout",
     "output_type": "stream",
     "text": [
      "Computing accuracy\n",
      "Test set accuracy (Precision@1) = 0.6143328618576144\n",
      "Epoch 58 Iteration 0: Loss = 0.39479899406433105\n"
     ]
    },
    {
     "name": "stderr",
     "output_type": "stream",
     "text": [
      "100%|█████████████████████████████████████████████████████████████████████████████████████████████████████| 266/266 [00:15<00:00, 17.33it/s]\n",
      "100%|███████████████████████████████████████████████████████████████████████████████████████████████████████| 67/67 [00:03<00:00, 18.86it/s]\n"
     ]
    },
    {
     "name": "stdout",
     "output_type": "stream",
     "text": [
      "Computing accuracy\n",
      "Test set accuracy (Precision@1) = 0.6124469589816125\n",
      "Epoch 59 Iteration 0: Loss = 0.36110013723373413\n"
     ]
    },
    {
     "name": "stderr",
     "output_type": "stream",
     "text": [
      "100%|█████████████████████████████████████████████████████████████████████████████████████████████████████| 266/266 [00:15<00:00, 17.39it/s]\n",
      "100%|███████████████████████████████████████████████████████████████████████████████████████████████████████| 67/67 [00:03<00:00, 18.91it/s]\n"
     ]
    },
    {
     "name": "stdout",
     "output_type": "stream",
     "text": [
      "Computing accuracy\n",
      "Test set accuracy (Precision@1) = 0.5964167845355964\n",
      "Epoch 60 Iteration 0: Loss = 0.4038761854171753\n"
     ]
    },
    {
     "name": "stderr",
     "output_type": "stream",
     "text": [
      "100%|█████████████████████████████████████████████████████████████████████████████████████████████████████| 266/266 [00:15<00:00, 17.46it/s]\n",
      "100%|███████████████████████████████████████████████████████████████████████████████████████████████████████| 67/67 [00:03<00:00, 18.82it/s]\n"
     ]
    },
    {
     "name": "stdout",
     "output_type": "stream",
     "text": [
      "Computing accuracy\n",
      "Test set accuracy (Precision@1) = 0.6204620462046204\n",
      "Epoch 61 Iteration 0: Loss = 0.3720231354236603\n"
     ]
    },
    {
     "name": "stderr",
     "output_type": "stream",
     "text": [
      "100%|█████████████████████████████████████████████████████████████████████████████████████████████████████| 266/266 [00:15<00:00, 17.44it/s]\n",
      "100%|███████████████████████████████████████████████████████████████████████████████████████████████████████| 67/67 [00:03<00:00, 18.94it/s]\n"
     ]
    },
    {
     "name": "stdout",
     "output_type": "stream",
     "text": [
      "Computing accuracy\n",
      "Test set accuracy (Precision@1) = 0.6251768033946252\n",
      "Epoch 62 Iteration 0: Loss = 0.41666966676712036\n"
     ]
    },
    {
     "name": "stderr",
     "output_type": "stream",
     "text": [
      "100%|█████████████████████████████████████████████████████████████████████████████████████████████████████| 266/266 [00:15<00:00, 17.39it/s]\n",
      "100%|███████████████████████████████████████████████████████████████████████████████████████████████████████| 67/67 [00:03<00:00, 18.84it/s]\n"
     ]
    },
    {
     "name": "stdout",
     "output_type": "stream",
     "text": [
      "Computing accuracy\n",
      "Test set accuracy (Precision@1) = 0.6195190947666195\n",
      "Epoch 63 Iteration 0: Loss = 0.42125746607780457\n"
     ]
    },
    {
     "name": "stderr",
     "output_type": "stream",
     "text": [
      "100%|█████████████████████████████████████████████████████████████████████████████████████████████████████| 266/266 [00:15<00:00, 17.51it/s]\n",
      "100%|███████████████████████████████████████████████████████████████████████████████████████████████████████| 67/67 [00:03<00:00, 17.67it/s]\n"
     ]
    },
    {
     "name": "stdout",
     "output_type": "stream",
     "text": [
      "Computing accuracy\n",
      "Test set accuracy (Precision@1) = 0.6176331918906176\n",
      "Epoch 64 Iteration 0: Loss = 0.4037480652332306\n"
     ]
    },
    {
     "name": "stderr",
     "output_type": "stream",
     "text": [
      "100%|█████████████████████████████████████████████████████████████████████████████████████████████████████| 266/266 [00:15<00:00, 17.43it/s]\n",
      "100%|███████████████████████████████████████████████████████████████████████████████████████████████████████| 67/67 [00:03<00:00, 18.88it/s]\n"
     ]
    },
    {
     "name": "stdout",
     "output_type": "stream",
     "text": [
      "Computing accuracy\n",
      "Test set accuracy (Precision@1) = 0.6270627062706271\n",
      "Epoch 65 Iteration 0: Loss = 0.49495500326156616\n"
     ]
    },
    {
     "name": "stderr",
     "output_type": "stream",
     "text": [
      "100%|█████████████████████████████████████████████████████████████████████████████████████████████████████| 266/266 [00:15<00:00, 17.45it/s]\n",
      "100%|███████████████████████████████████████████████████████████████████████████████████████████████████████| 67/67 [00:03<00:00, 18.88it/s]\n"
     ]
    },
    {
     "name": "stdout",
     "output_type": "stream",
     "text": [
      "Computing accuracy\n",
      "Test set accuracy (Precision@1) = 0.6284771334276285\n",
      "Epoch 66 Iteration 0: Loss = 0.4816412031650543\n"
     ]
    },
    {
     "name": "stderr",
     "output_type": "stream",
     "text": [
      "100%|█████████████████████████████████████████████████████████████████████████████████████████████████████| 266/266 [00:15<00:00, 17.45it/s]\n",
      "100%|███████████████████████████████████████████████████████████████████████████████████████████████████████| 67/67 [00:03<00:00, 18.90it/s]\n"
     ]
    },
    {
     "name": "stdout",
     "output_type": "stream",
     "text": [
      "Computing accuracy\n",
      "Test set accuracy (Precision@1) = 0.6228194247996228\n",
      "Epoch 67 Iteration 0: Loss = 0.3994811177253723\n"
     ]
    },
    {
     "name": "stderr",
     "output_type": "stream",
     "text": [
      "100%|█████████████████████████████████████████████████████████████████████████████████████████████████████| 266/266 [00:15<00:00, 17.43it/s]\n",
      "100%|███████████████████████████████████████████████████████████████████████████████████████████████████████| 67/67 [00:03<00:00, 18.83it/s]\n"
     ]
    },
    {
     "name": "stdout",
     "output_type": "stream",
     "text": [
      "Computing accuracy\n",
      "Test set accuracy (Precision@1) = 0.6129184347006129\n",
      "Epoch 68 Iteration 0: Loss = 0.43516477942466736\n"
     ]
    },
    {
     "name": "stderr",
     "output_type": "stream",
     "text": [
      "100%|█████████████████████████████████████████████████████████████████████████████████████████████████████| 266/266 [00:15<00:00, 17.46it/s]\n",
      "100%|███████████████████████████████████████████████████████████████████████████████████████████████████████| 67/67 [00:03<00:00, 18.94it/s]\n"
     ]
    },
    {
     "name": "stdout",
     "output_type": "stream",
     "text": [
      "Computing accuracy\n",
      "Test set accuracy (Precision@1) = 0.6181046676096181\n",
      "Epoch 69 Iteration 0: Loss = 0.4072349965572357\n"
     ]
    },
    {
     "name": "stderr",
     "output_type": "stream",
     "text": [
      "100%|█████████████████████████████████████████████████████████████████████████████████████████████████████| 266/266 [00:15<00:00, 17.46it/s]\n",
      "100%|███████████████████████████████████████████████████████████████████████████████████████████████████████| 67/67 [00:03<00:00, 18.79it/s]\n"
     ]
    },
    {
     "name": "stdout",
     "output_type": "stream",
     "text": [
      "Computing accuracy\n",
      "Test set accuracy (Precision@1) = 0.6237623762376238\n",
      "Epoch 70 Iteration 0: Loss = 0.3659670650959015\n"
     ]
    },
    {
     "name": "stderr",
     "output_type": "stream",
     "text": [
      "100%|█████████████████████████████████████████████████████████████████████████████████████████████████████| 266/266 [00:15<00:00, 17.46it/s]\n",
      "100%|███████████████████████████████████████████████████████████████████████████████████████████████████████| 67/67 [00:03<00:00, 18.95it/s]\n"
     ]
    },
    {
     "name": "stdout",
     "output_type": "stream",
     "text": [
      "Computing accuracy\n",
      "Test set accuracy (Precision@1) = 0.620933521923621\n",
      "Epoch 71 Iteration 0: Loss = 0.40913811326026917\n"
     ]
    },
    {
     "name": "stderr",
     "output_type": "stream",
     "text": [
      "100%|█████████████████████████████████████████████████████████████████████████████████████████████████████| 266/266 [00:15<00:00, 17.45it/s]\n",
      "100%|███████████████████████████████████████████████████████████████████████████████████████████████████████| 67/67 [00:03<00:00, 18.96it/s]\n"
     ]
    },
    {
     "name": "stdout",
     "output_type": "stream",
     "text": [
      "Computing accuracy\n",
      "Test set accuracy (Precision@1) = 0.6364922206506365\n",
      "Epoch 72 Iteration 0: Loss = 0.3997895419597626\n"
     ]
    },
    {
     "name": "stderr",
     "output_type": "stream",
     "text": [
      "100%|█████████████████████████████████████████████████████████████████████████████████████████████████████| 266/266 [00:15<00:00, 17.38it/s]\n",
      "100%|███████████████████████████████████████████████████████████████████████████████████████████████████████| 67/67 [00:03<00:00, 18.84it/s]\n"
     ]
    },
    {
     "name": "stdout",
     "output_type": "stream",
     "text": [
      "Computing accuracy\n",
      "Test set accuracy (Precision@1) = 0.6242338519566243\n",
      "Epoch 73 Iteration 0: Loss = 0.3632907271385193\n"
     ]
    },
    {
     "name": "stderr",
     "output_type": "stream",
     "text": [
      "100%|█████████████████████████████████████████████████████████████████████████████████████████████████████| 266/266 [00:15<00:00, 17.47it/s]\n",
      "100%|███████████████████████████████████████████████████████████████████████████████████████████████████████| 67/67 [00:03<00:00, 18.92it/s]\n"
     ]
    },
    {
     "name": "stdout",
     "output_type": "stream",
     "text": [
      "Computing accuracy\n",
      "Test set accuracy (Precision@1) = 0.6317774634606318\n",
      "Epoch 74 Iteration 0: Loss = 0.41387641429901123\n"
     ]
    },
    {
     "name": "stderr",
     "output_type": "stream",
     "text": [
      "100%|█████████████████████████████████████████████████████████████████████████████████████████████████████| 266/266 [00:15<00:00, 17.19it/s]\n",
      "100%|███████████████████████████████████████████████████████████████████████████████████████████████████████| 67/67 [00:03<00:00, 18.91it/s]\n"
     ]
    },
    {
     "name": "stdout",
     "output_type": "stream",
     "text": [
      "Computing accuracy\n",
      "Test set accuracy (Precision@1) = 0.6449787835926449\n",
      "Epoch 75 Iteration 0: Loss = 0.37407630681991577\n"
     ]
    },
    {
     "name": "stderr",
     "output_type": "stream",
     "text": [
      "100%|█████████████████████████████████████████████████████████████████████████████████████████████████████| 266/266 [00:15<00:00, 17.43it/s]\n",
      "100%|███████████████████████████████████████████████████████████████████████████████████████████████████████| 67/67 [00:03<00:00, 18.90it/s]\n"
     ]
    },
    {
     "name": "stdout",
     "output_type": "stream",
     "text": [
      "Computing accuracy\n",
      "Test set accuracy (Precision@1) = 0.6383781235266384\n",
      "Epoch 76 Iteration 0: Loss = 0.4512236416339874\n"
     ]
    },
    {
     "name": "stderr",
     "output_type": "stream",
     "text": [
      "100%|█████████████████████████████████████████████████████████████████████████████████████████████████████| 266/266 [00:15<00:00, 17.47it/s]\n",
      "100%|███████████████████████████████████████████████████████████████████████████████████████████████████████| 67/67 [00:03<00:00, 18.83it/s]\n"
     ]
    },
    {
     "name": "stdout",
     "output_type": "stream",
     "text": [
      "Computing accuracy\n",
      "Test set accuracy (Precision@1) = 0.6322489391796322\n",
      "Epoch 77 Iteration 0: Loss = 0.44578200578689575\n"
     ]
    },
    {
     "name": "stderr",
     "output_type": "stream",
     "text": [
      "100%|█████████████████████████████████████████████████████████████████████████████████████████████████████| 266/266 [00:15<00:00, 17.49it/s]\n",
      "100%|███████████████████████████████████████████████████████████████████████████████████████████████████████| 67/67 [00:03<00:00, 18.84it/s]\n"
     ]
    },
    {
     "name": "stdout",
     "output_type": "stream",
     "text": [
      "Computing accuracy\n",
      "Test set accuracy (Precision@1) = 0.6308345120226309\n",
      "Epoch 78 Iteration 0: Loss = 0.34766122698783875\n"
     ]
    },
    {
     "name": "stderr",
     "output_type": "stream",
     "text": [
      "100%|█████████████████████████████████████████████████████████████████████████████████████████████████████| 266/266 [00:15<00:00, 17.43it/s]\n",
      "100%|███████████████████████████████████████████████████████████████████████████████████████████████████████| 67/67 [00:03<00:00, 18.80it/s]\n"
     ]
    },
    {
     "name": "stdout",
     "output_type": "stream",
     "text": [
      "Computing accuracy\n",
      "Test set accuracy (Precision@1) = 0.637906647807638\n",
      "Epoch 79 Iteration 0: Loss = 0.4005974531173706\n"
     ]
    },
    {
     "name": "stderr",
     "output_type": "stream",
     "text": [
      "100%|█████████████████████████████████████████████████████████████████████████████████████████████████████| 266/266 [00:15<00:00, 17.22it/s]\n",
      "100%|███████████████████████████████████████████████████████████████████████████████████████████████████████| 67/67 [00:03<00:00, 18.87it/s]\n"
     ]
    },
    {
     "name": "stdout",
     "output_type": "stream",
     "text": [
      "Computing accuracy\n",
      "Test set accuracy (Precision@1) = 0.6383781235266384\n",
      "Epoch 80 Iteration 0: Loss = 0.3606147766113281\n"
     ]
    },
    {
     "name": "stderr",
     "output_type": "stream",
     "text": [
      "100%|█████████████████████████████████████████████████████████████████████████████████████████████████████| 266/266 [00:15<00:00, 17.44it/s]\n",
      "100%|███████████████████████████████████████████████████████████████████████████████████████████████████████| 67/67 [00:03<00:00, 18.88it/s]\n"
     ]
    },
    {
     "name": "stdout",
     "output_type": "stream",
     "text": [
      "Computing accuracy\n",
      "Test set accuracy (Precision@1) = 0.6412069778406412\n",
      "Epoch 81 Iteration 0: Loss = 0.42783835530281067\n"
     ]
    },
    {
     "name": "stderr",
     "output_type": "stream",
     "text": [
      "100%|█████████████████████████████████████████████████████████████████████████████████████████████████████| 266/266 [00:15<00:00, 17.42it/s]\n",
      "100%|███████████████████████████████████████████████████████████████████████████████████████████████████████| 67/67 [00:03<00:00, 19.00it/s]\n"
     ]
    },
    {
     "name": "stdout",
     "output_type": "stream",
     "text": [
      "Computing accuracy\n",
      "Test set accuracy (Precision@1) = 0.6435643564356436\n",
      "Epoch 82 Iteration 0: Loss = 0.42476633191108704\n"
     ]
    },
    {
     "name": "stderr",
     "output_type": "stream",
     "text": [
      "100%|█████████████████████████████████████████████████████████████████████████████████████████████████████| 266/266 [00:15<00:00, 17.46it/s]\n",
      "100%|███████████████████████████████████████████████████████████████████████████████████████████████████████| 67/67 [00:03<00:00, 19.01it/s]\n"
     ]
    },
    {
     "name": "stdout",
     "output_type": "stream",
     "text": [
      "Computing accuracy\n",
      "Test set accuracy (Precision@1) = 0.6360207449316361\n",
      "Epoch 83 Iteration 0: Loss = 0.3879797160625458\n"
     ]
    },
    {
     "name": "stderr",
     "output_type": "stream",
     "text": [
      "100%|█████████████████████████████████████████████████████████████████████████████████████████████████████| 266/266 [00:15<00:00, 17.47it/s]\n",
      "100%|███████████████████████████████████████████████████████████████████████████████████████████████████████| 67/67 [00:03<00:00, 18.96it/s]\n"
     ]
    },
    {
     "name": "stdout",
     "output_type": "stream",
     "text": [
      "Computing accuracy\n",
      "Test set accuracy (Precision@1) = 0.6383781235266384\n",
      "Epoch 84 Iteration 0: Loss = 0.4656921625137329\n"
     ]
    },
    {
     "name": "stderr",
     "output_type": "stream",
     "text": [
      "100%|█████████████████████████████████████████████████████████████████████████████████████████████████████| 266/266 [00:15<00:00, 17.14it/s]\n",
      "100%|███████████████████████████████████████████████████████████████████████████████████████████████████████| 67/67 [00:03<00:00, 18.70it/s]\n"
     ]
    },
    {
     "name": "stdout",
     "output_type": "stream",
     "text": [
      "Computing accuracy\n",
      "Test set accuracy (Precision@1) = 0.6435643564356436\n",
      "Epoch 85 Iteration 0: Loss = 0.4174937903881073\n"
     ]
    },
    {
     "name": "stderr",
     "output_type": "stream",
     "text": [
      "100%|█████████████████████████████████████████████████████████████████████████████████████████████████████| 266/266 [00:15<00:00, 17.41it/s]\n",
      "100%|███████████████████████████████████████████████████████████████████████████████████████████████████████| 67/67 [00:03<00:00, 18.84it/s]\n"
     ]
    },
    {
     "name": "stdout",
     "output_type": "stream",
     "text": [
      "Computing accuracy\n",
      "Test set accuracy (Precision@1) = 0.6473361621876473\n",
      "Epoch 86 Iteration 0: Loss = 0.43542391061782837\n"
     ]
    },
    {
     "name": "stderr",
     "output_type": "stream",
     "text": [
      "100%|█████████████████████████████████████████████████████████████████████████████████████████████████████| 266/266 [00:15<00:00, 17.33it/s]\n",
      "100%|███████████████████████████████████████████████████████████████████████████████████████████████████████| 67/67 [00:03<00:00, 18.89it/s]\n"
     ]
    },
    {
     "name": "stdout",
     "output_type": "stream",
     "text": [
      "Computing accuracy\n",
      "Test set accuracy (Precision@1) = 0.6355492692126355\n",
      "Epoch 87 Iteration 0: Loss = 0.42377907037734985\n"
     ]
    },
    {
     "name": "stderr",
     "output_type": "stream",
     "text": [
      "100%|█████████████████████████████████████████████████████████████████████████████████████████████████████| 266/266 [00:15<00:00, 17.48it/s]\n",
      "100%|███████████████████████████████████████████████████████████████████████████████████████████████████████| 67/67 [00:03<00:00, 18.92it/s]\n"
     ]
    },
    {
     "name": "stdout",
     "output_type": "stream",
     "text": [
      "Computing accuracy\n",
      "Test set accuracy (Precision@1) = 0.6421499292786421\n",
      "Epoch 88 Iteration 0: Loss = 0.27401480078697205\n"
     ]
    },
    {
     "name": "stderr",
     "output_type": "stream",
     "text": [
      "100%|█████████████████████████████████████████████████████████████████████████████████████████████████████| 266/266 [00:15<00:00, 17.44it/s]\n",
      "100%|███████████████████████████████████████████████████████████████████████████████████████████████████████| 67/67 [00:03<00:00, 18.86it/s]\n"
     ]
    },
    {
     "name": "stdout",
     "output_type": "stream",
     "text": [
      "Computing accuracy\n",
      "Test set accuracy (Precision@1) = 0.6336633663366337\n",
      "Epoch 89 Iteration 0: Loss = 0.3994087874889374\n"
     ]
    },
    {
     "name": "stderr",
     "output_type": "stream",
     "text": [
      "100%|█████████████████████████████████████████████████████████████████████████████████████████████████████| 266/266 [00:15<00:00, 17.49it/s]\n",
      "100%|███████████████████████████████████████████████████████████████████████████████████████████████████████| 67/67 [00:03<00:00, 18.88it/s]\n"
     ]
    },
    {
     "name": "stdout",
     "output_type": "stream",
     "text": [
      "Computing accuracy\n",
      "Test set accuracy (Precision@1) = 0.6407355021216408\n",
      "Epoch 90 Iteration 0: Loss = 0.3957820534706116\n"
     ]
    },
    {
     "name": "stderr",
     "output_type": "stream",
     "text": [
      "100%|█████████████████████████████████████████████████████████████████████████████████████████████████████| 266/266 [00:15<00:00, 17.42it/s]\n",
      "100%|███████████████████████████████████████████████████████████████████████████████████████████████████████| 67/67 [00:03<00:00, 18.80it/s]\n"
     ]
    },
    {
     "name": "stdout",
     "output_type": "stream",
     "text": [
      "Computing accuracy\n",
      "Test set accuracy (Precision@1) = 0.6364922206506365\n",
      "Epoch 91 Iteration 0: Loss = 0.42021793127059937\n"
     ]
    },
    {
     "name": "stderr",
     "output_type": "stream",
     "text": [
      "100%|█████████████████████████████████████████████████████████████████████████████████████████████████████| 266/266 [00:15<00:00, 17.44it/s]\n",
      "100%|███████████████████████████████████████████████████████████████████████████████████████████████████████| 67/67 [00:03<00:00, 18.90it/s]\n"
     ]
    },
    {
     "name": "stdout",
     "output_type": "stream",
     "text": [
      "Computing accuracy\n",
      "Test set accuracy (Precision@1) = 0.6577086280056577\n",
      "Epoch 92 Iteration 0: Loss = 0.41406893730163574\n"
     ]
    },
    {
     "name": "stderr",
     "output_type": "stream",
     "text": [
      "100%|█████████████████████████████████████████████████████████████████████████████████████████████████████| 266/266 [00:15<00:00, 17.46it/s]\n",
      "100%|███████████████████████████████████████████████████████████████████████████████████████████████████████| 67/67 [00:03<00:00, 18.97it/s]\n"
     ]
    },
    {
     "name": "stdout",
     "output_type": "stream",
     "text": [
      "Computing accuracy\n",
      "Test set accuracy (Precision@1) = 0.6449787835926449\n",
      "Epoch 93 Iteration 0: Loss = 0.3766854703426361\n"
     ]
    },
    {
     "name": "stderr",
     "output_type": "stream",
     "text": [
      "100%|█████████████████████████████████████████████████████████████████████████████████████████████████████| 266/266 [00:15<00:00, 17.42it/s]\n",
      "100%|███████████████████████████████████████████████████████████████████████████████████████████████████████| 67/67 [00:03<00:00, 18.95it/s]\n"
     ]
    },
    {
     "name": "stdout",
     "output_type": "stream",
     "text": [
      "Computing accuracy\n",
      "Test set accuracy (Precision@1) = 0.644035832154644\n",
      "Epoch 94 Iteration 0: Loss = 0.3786565959453583\n"
     ]
    },
    {
     "name": "stderr",
     "output_type": "stream",
     "text": [
      "100%|█████████████████████████████████████████████████████████████████████████████████████████████████████| 266/266 [00:15<00:00, 17.43it/s]\n",
      "100%|███████████████████████████████████████████████████████████████████████████████████████████████████████| 67/67 [00:03<00:00, 18.85it/s]\n"
     ]
    },
    {
     "name": "stdout",
     "output_type": "stream",
     "text": [
      "Computing accuracy\n",
      "Test set accuracy (Precision@1) = 0.6487505893446488\n",
      "Epoch 95 Iteration 0: Loss = 0.4519524872303009\n"
     ]
    },
    {
     "name": "stderr",
     "output_type": "stream",
     "text": [
      "100%|█████████████████████████████████████████████████████████████████████████████████████████████████████| 266/266 [00:15<00:00, 17.39it/s]\n",
      "100%|███████████████████████████████████████████████████████████████████████████████████████████████████████| 67/67 [00:03<00:00, 18.83it/s]\n"
     ]
    },
    {
     "name": "stdout",
     "output_type": "stream",
     "text": [
      "Computing accuracy\n",
      "Test set accuracy (Precision@1) = 0.6562942008486563\n",
      "Epoch 96 Iteration 0: Loss = 0.41845715045928955\n"
     ]
    },
    {
     "name": "stderr",
     "output_type": "stream",
     "text": [
      "100%|█████████████████████████████████████████████████████████████████████████████████████████████████████| 266/266 [00:15<00:00, 17.46it/s]\n",
      "100%|███████████████████████████████████████████████████████████████████████████████████████████████████████| 67/67 [00:03<00:00, 18.88it/s]\n"
     ]
    },
    {
     "name": "stdout",
     "output_type": "stream",
     "text": [
      "Computing accuracy\n",
      "Test set accuracy (Precision@1) = 0.6544082979726544\n",
      "Epoch 97 Iteration 0: Loss = 0.3706842064857483\n"
     ]
    },
    {
     "name": "stderr",
     "output_type": "stream",
     "text": [
      "100%|█████████████████████████████████████████████████████████████████████████████████████████████████████| 266/266 [00:15<00:00, 17.42it/s]\n",
      "100%|███████████████████████████████████████████████████████████████████████████████████████████████████████| 67/67 [00:03<00:00, 18.90it/s]\n"
     ]
    },
    {
     "name": "stdout",
     "output_type": "stream",
     "text": [
      "Computing accuracy\n",
      "Test set accuracy (Precision@1) = 0.6600660066006601\n",
      "Epoch 98 Iteration 0: Loss = 0.36685121059417725\n"
     ]
    },
    {
     "name": "stderr",
     "output_type": "stream",
     "text": [
      "100%|█████████████████████████████████████████████████████████████████████████████████████████████████████| 266/266 [00:15<00:00, 17.42it/s]\n",
      "100%|███████████████████████████████████████████████████████████████████████████████████████████████████████| 67/67 [00:03<00:00, 18.91it/s]\n"
     ]
    },
    {
     "name": "stdout",
     "output_type": "stream",
     "text": [
      "Computing accuracy\n",
      "Test set accuracy (Precision@1) = 0.6539368222536539\n",
      "Epoch 99 Iteration 0: Loss = 0.42410770058631897\n"
     ]
    },
    {
     "name": "stderr",
     "output_type": "stream",
     "text": [
      "100%|█████████████████████████████████████████████████████████████████████████████████████████████████████| 266/266 [00:15<00:00, 17.45it/s]\n",
      "100%|███████████████████████████████████████████████████████████████████████████████████████████████████████| 67/67 [00:03<00:00, 18.85it/s]\n"
     ]
    },
    {
     "name": "stdout",
     "output_type": "stream",
     "text": [
      "Computing accuracy\n",
      "Test set accuracy (Precision@1) = 0.6468646864686468\n",
      "Epoch 100 Iteration 0: Loss = 0.3644569516181946\n"
     ]
    },
    {
     "name": "stderr",
     "output_type": "stream",
     "text": [
      "100%|█████████████████████████████████████████████████████████████████████████████████████████████████████| 266/266 [00:15<00:00, 17.17it/s]\n",
      "100%|███████████████████████████████████████████████████████████████████████████████████████████████████████| 67/67 [00:03<00:00, 18.81it/s]\n"
     ]
    },
    {
     "name": "stdout",
     "output_type": "stream",
     "text": [
      "Computing accuracy\n",
      "Test set accuracy (Precision@1) = 0.6515794436586516\n"
     ]
    }
   ],
   "source": [
    "#total_loss = []\n",
    "#total_acc = []\n",
    "for epoch in range(1, num_epochs + 1):\n",
    "    train_loss = train(model, loss_func,mining_func, device, train_loader, optimizer, epoch)\n",
    "    #total_loss.extend(train_loss)\n",
    "    test_acc = test(train_dataset, test_dataset, model, accuracy_calculator)\n",
    "    #total_acc.append(test_acc)\n",
    "    wandb.log({\"test_accuracy2\": test_acc, \"train_loss2\": train_loss,\"epoch\": epoch})"
   ]
  },
  {
   "cell_type": "code",
   "execution_count": 54,
   "id": "440edbeb-80f8-42ec-9547-7bf913aa64b2",
   "metadata": {},
   "outputs": [],
   "source": [
    "torch.save(model,'models/cub_triplet_loss_epshn_resnet18_sgd_aug_180.pth')"
   ]
  },
  {
   "cell_type": "code",
   "execution_count": 55,
   "id": "1ae29c0e-7b43-4364-a8b8-fcd403a56cbc",
   "metadata": {
    "scrolled": true
   },
   "outputs": [
    {
     "data": {
      "text/plain": [
       "ResNetFeatrueExtractor18(\n",
       "  (conv1): Conv2d(3, 64, kernel_size=(7, 7), stride=(2, 2), padding=(3, 3), bias=False)\n",
       "  (bn1): BatchNorm2d(64, eps=1e-05, momentum=0.1, affine=True, track_running_stats=True)\n",
       "  (relu): ReLU(inplace=True)\n",
       "  (maxpool): MaxPool2d(kernel_size=3, stride=2, padding=1, dilation=1, ceil_mode=False)\n",
       "  (layer1): Sequential(\n",
       "    (0): BasicBlock(\n",
       "      (conv1): Conv2d(64, 64, kernel_size=(3, 3), stride=(1, 1), padding=(1, 1), bias=False)\n",
       "      (bn1): BatchNorm2d(64, eps=1e-05, momentum=0.1, affine=True, track_running_stats=True)\n",
       "      (relu): ReLU(inplace=True)\n",
       "      (conv2): Conv2d(64, 64, kernel_size=(3, 3), stride=(1, 1), padding=(1, 1), bias=False)\n",
       "      (bn2): BatchNorm2d(64, eps=1e-05, momentum=0.1, affine=True, track_running_stats=True)\n",
       "    )\n",
       "    (1): BasicBlock(\n",
       "      (conv1): Conv2d(64, 64, kernel_size=(3, 3), stride=(1, 1), padding=(1, 1), bias=False)\n",
       "      (bn1): BatchNorm2d(64, eps=1e-05, momentum=0.1, affine=True, track_running_stats=True)\n",
       "      (relu): ReLU(inplace=True)\n",
       "      (conv2): Conv2d(64, 64, kernel_size=(3, 3), stride=(1, 1), padding=(1, 1), bias=False)\n",
       "      (bn2): BatchNorm2d(64, eps=1e-05, momentum=0.1, affine=True, track_running_stats=True)\n",
       "    )\n",
       "  )\n",
       "  (layer2): Sequential(\n",
       "    (0): BasicBlock(\n",
       "      (conv1): Conv2d(64, 128, kernel_size=(3, 3), stride=(2, 2), padding=(1, 1), bias=False)\n",
       "      (bn1): BatchNorm2d(128, eps=1e-05, momentum=0.1, affine=True, track_running_stats=True)\n",
       "      (relu): ReLU(inplace=True)\n",
       "      (conv2): Conv2d(128, 128, kernel_size=(3, 3), stride=(1, 1), padding=(1, 1), bias=False)\n",
       "      (bn2): BatchNorm2d(128, eps=1e-05, momentum=0.1, affine=True, track_running_stats=True)\n",
       "      (downsample): Sequential(\n",
       "        (0): Conv2d(64, 128, kernel_size=(1, 1), stride=(2, 2), bias=False)\n",
       "        (1): BatchNorm2d(128, eps=1e-05, momentum=0.1, affine=True, track_running_stats=True)\n",
       "      )\n",
       "    )\n",
       "    (1): BasicBlock(\n",
       "      (conv1): Conv2d(128, 128, kernel_size=(3, 3), stride=(1, 1), padding=(1, 1), bias=False)\n",
       "      (bn1): BatchNorm2d(128, eps=1e-05, momentum=0.1, affine=True, track_running_stats=True)\n",
       "      (relu): ReLU(inplace=True)\n",
       "      (conv2): Conv2d(128, 128, kernel_size=(3, 3), stride=(1, 1), padding=(1, 1), bias=False)\n",
       "      (bn2): BatchNorm2d(128, eps=1e-05, momentum=0.1, affine=True, track_running_stats=True)\n",
       "    )\n",
       "  )\n",
       "  (layer3): Sequential(\n",
       "    (0): BasicBlock(\n",
       "      (conv1): Conv2d(128, 256, kernel_size=(3, 3), stride=(2, 2), padding=(1, 1), bias=False)\n",
       "      (bn1): BatchNorm2d(256, eps=1e-05, momentum=0.1, affine=True, track_running_stats=True)\n",
       "      (relu): ReLU(inplace=True)\n",
       "      (conv2): Conv2d(256, 256, kernel_size=(3, 3), stride=(1, 1), padding=(1, 1), bias=False)\n",
       "      (bn2): BatchNorm2d(256, eps=1e-05, momentum=0.1, affine=True, track_running_stats=True)\n",
       "      (downsample): Sequential(\n",
       "        (0): Conv2d(128, 256, kernel_size=(1, 1), stride=(2, 2), bias=False)\n",
       "        (1): BatchNorm2d(256, eps=1e-05, momentum=0.1, affine=True, track_running_stats=True)\n",
       "      )\n",
       "    )\n",
       "    (1): BasicBlock(\n",
       "      (conv1): Conv2d(256, 256, kernel_size=(3, 3), stride=(1, 1), padding=(1, 1), bias=False)\n",
       "      (bn1): BatchNorm2d(256, eps=1e-05, momentum=0.1, affine=True, track_running_stats=True)\n",
       "      (relu): ReLU(inplace=True)\n",
       "      (conv2): Conv2d(256, 256, kernel_size=(3, 3), stride=(1, 1), padding=(1, 1), bias=False)\n",
       "      (bn2): BatchNorm2d(256, eps=1e-05, momentum=0.1, affine=True, track_running_stats=True)\n",
       "    )\n",
       "  )\n",
       "  (layer4): Sequential(\n",
       "    (0): BasicBlock(\n",
       "      (conv1): Conv2d(256, 512, kernel_size=(3, 3), stride=(2, 2), padding=(1, 1), bias=False)\n",
       "      (bn1): BatchNorm2d(512, eps=1e-05, momentum=0.1, affine=True, track_running_stats=True)\n",
       "      (relu): ReLU(inplace=True)\n",
       "      (conv2): Conv2d(512, 512, kernel_size=(3, 3), stride=(1, 1), padding=(1, 1), bias=False)\n",
       "      (bn2): BatchNorm2d(512, eps=1e-05, momentum=0.1, affine=True, track_running_stats=True)\n",
       "      (downsample): Sequential(\n",
       "        (0): Conv2d(256, 512, kernel_size=(1, 1), stride=(2, 2), bias=False)\n",
       "        (1): BatchNorm2d(512, eps=1e-05, momentum=0.1, affine=True, track_running_stats=True)\n",
       "      )\n",
       "    )\n",
       "    (1): BasicBlock(\n",
       "      (conv1): Conv2d(512, 512, kernel_size=(3, 3), stride=(1, 1), padding=(1, 1), bias=False)\n",
       "      (bn1): BatchNorm2d(512, eps=1e-05, momentum=0.1, affine=True, track_running_stats=True)\n",
       "      (relu): ReLU(inplace=True)\n",
       "      (conv2): Conv2d(512, 512, kernel_size=(3, 3), stride=(1, 1), padding=(1, 1), bias=False)\n",
       "      (bn2): BatchNorm2d(512, eps=1e-05, momentum=0.1, affine=True, track_running_stats=True)\n",
       "    )\n",
       "  )\n",
       "  (avgpool): AdaptiveAvgPool2d(output_size=(1, 1))\n",
       "  (fc1): Linear(in_features=512, out_features=128, bias=True)\n",
       ")"
      ]
     },
     "execution_count": 55,
     "metadata": {},
     "output_type": "execute_result"
    }
   ],
   "source": [
    "model.eval()"
   ]
  },
  {
   "cell_type": "code",
   "execution_count": 56,
   "id": "9baeaa00-0932-4952-9620-b49a1de77f88",
   "metadata": {},
   "outputs": [],
   "source": [
    "image_paths = []\n",
    "labels = []\n",
    "for folder_path,i in class_dict.items():\n",
    "    folder_images = glob.glob('CUB_200_2011/images/'+'/'+str(folder_path)+'/*')\n",
    "    image_paths.extend(folder_images)\n",
    "    labels.extend([i]*len(folder_images))"
   ]
  },
  {
   "cell_type": "code",
   "execution_count": 57,
   "id": "ba1ed4c4-806c-4b70-a1f1-fd61510cc52b",
   "metadata": {},
   "outputs": [],
   "source": [
    "from sklearn.model_selection import train_test_split\n",
    "X_train, X_test, y_train, y_test = train_test_split(image_paths, labels, test_size=config['train_test_split'],\n",
    "                                                    stratify=labels,\n",
    "                                                    random_state=config['random_seed'])"
   ]
  },
  {
   "cell_type": "code",
   "execution_count": 58,
   "id": "0df461d6-47c4-4213-8e78-aba9f59d0648",
   "metadata": {},
   "outputs": [],
   "source": [
    "train_dataset  = CUBDataset(X_train,y_train,transform)\n",
    "test_dataset  = CUBDataset(X_test,y_test,transform)"
   ]
  },
  {
   "cell_type": "code",
   "execution_count": 59,
   "id": "fba86090-7819-434c-af9f-28c001b83ad1",
   "metadata": {},
   "outputs": [
    {
     "name": "stderr",
     "output_type": "stream",
     "text": [
      "100%|█████████████████████████████████████████████████████████████████████████████████████████████████████| 295/295 [00:38<00:00,  7.70it/s]\n",
      "100%|███████████████████████████████████████████████████████████████████████████████████████████████████████| 74/74 [00:09<00:00,  7.79it/s]\n"
     ]
    }
   ],
   "source": [
    "train_embeddings, train_labels = get_all_embeddings(train_dataset, model)\n",
    "test_embeddings, test_labels = get_all_embeddings(test_dataset, model)\n",
    "train_labels = train_labels.squeeze(1)\n",
    "test_labels = test_labels.squeeze(1)"
   ]
  },
  {
   "cell_type": "code",
   "execution_count": 60,
   "id": "d3f4c51f-4298-475f-bd91-c620cb17060a",
   "metadata": {
    "scrolled": true
   },
   "outputs": [
    {
     "name": "stdout",
     "output_type": "stream",
     "text": [
      "001.Black_footed_Albatross     test samples 12   , training samples 48   : 0.75\n",
      "002.Laysan_Albatross           test samples 12   , training samples 48   : 0.75\n",
      "003.Sooty_Albatross            test samples 12   , training samples 46   : 0.5833333333333333\n",
      "004.Groove_billed_Ani          test samples 12   , training samples 48   : 0.9166666666666666\n",
      "005.Crested_Auklet             test samples 9    , training samples 35   : 0.8888888888888888\n",
      "006.Least_Auklet               test samples 8    , training samples 33   : 0.75\n",
      "007.Parakeet_Auklet            test samples 10   , training samples 43   : 1.0\n",
      "008.Rhinoceros_Auklet          test samples 9    , training samples 39   : 0.6666666666666666\n",
      "009.Brewer_Blackbird           test samples 12   , training samples 47   : 0.41666666666666663\n",
      "010.Red_winged_Blackbird       test samples 12   , training samples 48   : 0.9166666666666666\n",
      "011.Rusty_Blackbird            test samples 12   , training samples 48   : 0.41666666666666663\n",
      "012.Yellow_headed_Blackbird    test samples 11   , training samples 45   : 1.0\n",
      "013.Bobolink                   test samples 12   , training samples 48   : 0.6666666666666666\n",
      "014.Indigo_Bunting             test samples 12   , training samples 48   : 0.8333333333333333\n",
      "015.Lazuli_Bunting             test samples 11   , training samples 47   : 0.5454545454545454\n",
      "016.Painted_Bunting            test samples 11   , training samples 47   : 0.7272727272727273\n",
      "017.Cardinal                   test samples 11   , training samples 46   : 0.6363636363636364\n",
      "018.Spotted_Catbird            test samples 9    , training samples 36   : 0.8888888888888888\n",
      "019.Gray_Catbird               test samples 12   , training samples 47   : 0.75\n",
      "020.Yellow_breasted_Chat       test samples 12   , training samples 47   : 0.5833333333333333\n",
      "021.Eastern_Towhee             test samples 12   , training samples 48   : 0.5833333333333333\n",
      "022.Chuck_will_Widow           test samples 11   , training samples 45   : 0.5454545454545454\n",
      "023.Brandt_Cormorant           test samples 12   , training samples 47   : 0.25\n",
      "024.Red_faced_Cormorant        test samples 10   , training samples 42   : 0.7000000000000001\n",
      "025.Pelagic_Cormorant          test samples 12   , training samples 48   : 0.16666666666666666\n",
      "026.Bronzed_Cowbird            test samples 12   , training samples 48   : 0.5833333333333333\n",
      "027.Shiny_Cowbird              test samples 12   , training samples 48   : 0.08333333333333333\n",
      "028.Brown_Creeper              test samples 12   , training samples 47   : 0.9166666666666666\n",
      "029.American_Crow              test samples 12   , training samples 48   : 0.16666666666666666\n",
      "030.Fish_Crow                  test samples 12   , training samples 48   : 0.16666666666666666\n",
      "031.Black_billed_Cuckoo        test samples 12   , training samples 48   : 0.5833333333333333\n",
      "032.Mangrove_Cuckoo            test samples 10   , training samples 43   : 0.5\n",
      "033.Yellow_billed_Cuckoo       test samples 12   , training samples 47   : 0.25\n",
      "034.Gray_crowned_Rosy_Finch    test samples 12   , training samples 47   : 0.75\n",
      "035.Purple_Finch               test samples 12   , training samples 48   : 0.9166666666666666\n",
      "036.Northern_Flicker           test samples 12   , training samples 48   : 0.8333333333333333\n",
      "037.Acadian_Flycatcher         test samples 12   , training samples 47   : 0.5833333333333333\n",
      "038.Great_Crested_Flycatcher   test samples 12   , training samples 48   : 0.5833333333333333\n",
      "039.Least_Flycatcher           test samples 12   , training samples 47   : 0.25\n",
      "040.Olive_sided_Flycatcher     test samples 12   , training samples 48   : 0.3333333333333333\n",
      "041.Scissor_tailed_Flycatcher  test samples 12   , training samples 48   : 0.8333333333333333\n",
      "042.Vermilion_Flycatcher       test samples 12   , training samples 48   : 0.8333333333333333\n",
      "043.Yellow_bellied_Flycatcher  test samples 12   , training samples 47   : 0.08333333333333333\n",
      "044.Frigatebird                test samples 12   , training samples 48   : 0.5833333333333333\n",
      "045.Northern_Fulmar            test samples 12   , training samples 48   : 0.5\n",
      "046.Gadwall                    test samples 12   , training samples 48   : 0.9166666666666666\n",
      "047.American_Goldfinch         test samples 12   , training samples 48   : 0.75\n",
      "048.European_Goldfinch         test samples 12   , training samples 48   : 0.8333333333333333\n",
      "049.Boat_tailed_Grackle        test samples 12   , training samples 48   : 0.41666666666666663\n",
      "050.Eared_Grebe                test samples 12   , training samples 48   : 0.5833333333333333\n",
      "051.Horned_Grebe               test samples 12   , training samples 48   : 0.6666666666666666\n",
      "052.Pied_billed_Grebe          test samples 12   , training samples 48   : 0.8333333333333333\n",
      "053.Western_Grebe              test samples 12   , training samples 48   : 0.75\n",
      "054.Blue_Grosbeak              test samples 12   , training samples 48   : 0.5833333333333333\n",
      "055.Evening_Grosbeak           test samples 12   , training samples 48   : 0.9166666666666666\n",
      "056.Pine_Grosbeak              test samples 12   , training samples 48   : 0.75\n",
      "057.Rose_breasted_Grosbeak     test samples 12   , training samples 48   : 0.9166666666666666\n",
      "058.Pigeon_Guillemot           test samples 12   , training samples 46   : 0.8333333333333333\n",
      "059.California_Gull            test samples 12   , training samples 48   : 0.3333333333333333\n",
      "060.Glaucous_winged_Gull       test samples 12   , training samples 47   : 0.25\n",
      "061.Heermann_Gull              test samples 12   , training samples 48   : 0.8333333333333333\n",
      "062.Herring_Gull               test samples 12   , training samples 48   : 0.16666666666666666\n",
      "063.Ivory_Gull                 test samples 12   , training samples 48   : 0.8333333333333333\n",
      "064.Ring_billed_Gull           test samples 12   , training samples 48   : 0.5\n",
      "065.Slaty_backed_Gull          test samples 10   , training samples 40   : 0.30000000000000004\n",
      "066.Western_Gull               test samples 12   , training samples 48   : 0.41666666666666663\n",
      "067.Anna_Hummingbird           test samples 12   , training samples 48   : 0.41666666666666663\n",
      "068.Ruby_throated_Hummingbird  test samples 12   , training samples 48   : 0.8333333333333333\n",
      "069.Rufous_Hummingbird         test samples 12   , training samples 48   : 0.8333333333333333\n",
      "070.Green_Violetear            test samples 12   , training samples 48   : 0.8333333333333333\n",
      "071.Long_tailed_Jaeger         test samples 12   , training samples 48   : 0.16666666666666666\n",
      "072.Pomarine_Jaeger            test samples 12   , training samples 48   : 0.25\n",
      "073.Blue_Jay                   test samples 12   , training samples 48   : 0.8333333333333333\n",
      "074.Florida_Jay                test samples 12   , training samples 48   : 0.6666666666666666\n",
      "075.Green_Jay                  test samples 11   , training samples 46   : 0.8181818181818182\n",
      "076.Dark_eyed_Junco            test samples 12   , training samples 48   : 0.75\n",
      "077.Tropical_Kingbird          test samples 12   , training samples 48   : 0.8333333333333333\n",
      "078.Gray_Kingbird              test samples 12   , training samples 47   : 0.5\n",
      "079.Belted_Kingfisher          test samples 12   , training samples 48   : 0.75\n",
      "080.Green_Kingfisher           test samples 12   , training samples 48   : 0.75\n",
      "081.Pied_Kingfisher            test samples 12   , training samples 48   : 0.8333333333333333\n",
      "082.Ringed_Kingfisher          test samples 12   , training samples 48   : 0.8333333333333333\n",
      "083.White_breasted_Kingfisher  test samples 12   , training samples 48   : 0.9166666666666666\n",
      "084.Red_legged_Kittiwake       test samples 10   , training samples 43   : 0.6000000000000001\n",
      "085.Horned_Lark                test samples 12   , training samples 48   : 0.6666666666666666\n",
      "086.Pacific_Loon               test samples 12   , training samples 48   : 0.8333333333333333\n",
      "087.Mallard                    test samples 12   , training samples 48   : 0.8333333333333333\n",
      "088.Western_Meadowlark         test samples 12   , training samples 48   : 0.9166666666666666\n",
      "089.Hooded_Merganser           test samples 12   , training samples 48   : 0.75\n",
      "090.Red_breasted_Merganser     test samples 12   , training samples 48   : 1.0\n",
      "091.Mockingbird                test samples 12   , training samples 48   : 0.25\n",
      "092.Nighthawk                  test samples 12   , training samples 48   : 0.6666666666666666\n",
      "093.Clark_Nutcracker           test samples 12   , training samples 48   : 0.9166666666666666\n",
      "094.White_breasted_Nuthatch    test samples 12   , training samples 48   : 1.0\n",
      "095.Baltimore_Oriole           test samples 12   , training samples 48   : 0.6666666666666666\n",
      "096.Hooded_Oriole              test samples 12   , training samples 48   : 0.75\n",
      "097.Orchard_Oriole             test samples 12   , training samples 47   : 0.5\n",
      "098.Scott_Oriole               test samples 12   , training samples 48   : 0.8333333333333333\n",
      "099.Ovenbird                   test samples 12   , training samples 48   : 0.75\n",
      "100.Brown_Pelican              test samples 12   , training samples 48   : 1.0\n",
      "101.White_Pelican              test samples 10   , training samples 40   : 0.8\n",
      "102.Western_Wood_Pewee         test samples 12   , training samples 48   : 0.3333333333333333\n",
      "103.Sayornis                   test samples 12   , training samples 48   : 0.25\n",
      "104.American_Pipit             test samples 12   , training samples 48   : 0.5\n",
      "105.Whip_poor_Will             test samples 10   , training samples 39   : 0.4\n",
      "106.Horned_Puffin              test samples 12   , training samples 48   : 0.8333333333333333\n",
      "107.Common_Raven               test samples 12   , training samples 47   : 0.3333333333333333\n",
      "108.White_necked_Raven         test samples 12   , training samples 48   : 0.6666666666666666\n",
      "109.American_Redstart          test samples 12   , training samples 48   : 1.0\n",
      "110.Geococcyx                  test samples 12   , training samples 48   : 0.9166666666666666\n",
      "111.Loggerhead_Shrike          test samples 12   , training samples 48   : 0.5\n",
      "112.Great_Grey_Shrike          test samples 12   , training samples 48   : 0.3333333333333333\n",
      "113.Baird_Sparrow              test samples 10   , training samples 40   : 0.4\n",
      "114.Black_throated_Sparrow     test samples 12   , training samples 48   : 0.6666666666666666\n",
      "115.Brewer_Sparrow             test samples 12   , training samples 47   : 0.3333333333333333\n",
      "116.Chipping_Sparrow           test samples 12   , training samples 48   : 0.3333333333333333\n",
      "117.Clay_colored_Sparrow       test samples 12   , training samples 47   : 0.5833333333333333\n",
      "118.House_Sparrow              test samples 12   , training samples 48   : 0.41666666666666663\n",
      "119.Field_Sparrow              test samples 12   , training samples 47   : 0.3333333333333333\n",
      "120.Fox_Sparrow                test samples 12   , training samples 48   : 0.6666666666666666\n",
      "121.Grasshopper_Sparrow        test samples 12   , training samples 48   : 0.3333333333333333\n",
      "122.Harris_Sparrow             test samples 12   , training samples 48   : 0.5833333333333333\n",
      "123.Henslow_Sparrow            test samples 12   , training samples 48   : 0.41666666666666663\n",
      "124.Le_Conte_Sparrow           test samples 12   , training samples 47   : 0.41666666666666663\n",
      "125.Lincoln_Sparrow            test samples 12   , training samples 47   : 0.5\n",
      "126.Nelson_Sharp_tailed_Sparrow test samples 12   , training samples 47   : 0.5\n",
      "127.Savannah_Sparrow           test samples 12   , training samples 48   : 0.25\n",
      "128.Seaside_Sparrow            test samples 12   , training samples 48   : 0.8333333333333333\n",
      "129.Song_Sparrow               test samples 12   , training samples 48   : 0.41666666666666663\n",
      "130.Tree_Sparrow               test samples 12   , training samples 48   : 0.3333333333333333\n",
      "131.Vesper_Sparrow             test samples 12   , training samples 48   : 0.5833333333333333\n",
      "132.White_crowned_Sparrow      test samples 12   , training samples 48   : 0.5833333333333333\n",
      "133.White_throated_Sparrow     test samples 12   , training samples 48   : 0.5833333333333333\n",
      "134.Cape_Glossy_Starling       test samples 12   , training samples 48   : 0.9166666666666666\n",
      "135.Bank_Swallow               test samples 12   , training samples 47   : 0.3333333333333333\n",
      "136.Barn_Swallow               test samples 12   , training samples 48   : 0.6666666666666666\n",
      "137.Cliff_Swallow              test samples 12   , training samples 48   : 0.41666666666666663\n",
      "138.Tree_Swallow               test samples 12   , training samples 48   : 0.75\n",
      "139.Scarlet_Tanager            test samples 12   , training samples 48   : 0.75\n",
      "140.Summer_Tanager             test samples 12   , training samples 48   : 0.8333333333333333\n",
      "141.Artic_Tern                 test samples 11   , training samples 47   : 0.9090909090909092\n",
      "142.Black_Tern                 test samples 12   , training samples 48   : 0.16666666666666666\n",
      "143.Caspian_Tern               test samples 12   , training samples 48   : 0.41666666666666663\n",
      "144.Common_Tern                test samples 12   , training samples 48   : 0.3333333333333333\n",
      "145.Elegant_Tern               test samples 12   , training samples 48   : 0.3333333333333333\n",
      "146.Forsters_Tern              test samples 12   , training samples 48   : 0.5\n",
      "147.Least_Tern                 test samples 12   , training samples 48   : 0.8333333333333333\n",
      "148.Green_tailed_Towhee        test samples 12   , training samples 48   : 0.75\n",
      "149.Brown_Thrasher             test samples 12   , training samples 47   : 0.6666666666666666\n",
      "150.Sage_Thrasher              test samples 12   , training samples 48   : 0.41666666666666663\n",
      "151.Black_capped_Vireo         test samples 10   , training samples 41   : 0.5\n",
      "152.Blue_headed_Vireo          test samples 12   , training samples 48   : 0.5833333333333333\n",
      "153.Philadelphia_Vireo         test samples 12   , training samples 47   : 0.5833333333333333\n",
      "154.Red_eyed_Vireo             test samples 12   , training samples 48   : 0.5\n",
      "155.Warbling_Vireo             test samples 12   , training samples 48   : 0.25\n",
      "156.White_eyed_Vireo           test samples 12   , training samples 48   : 0.6666666666666666\n",
      "157.Yellow_throated_Vireo      test samples 12   , training samples 47   : 0.5833333333333333\n",
      "158.Bay_breasted_Warbler       test samples 12   , training samples 48   : 0.75\n",
      "159.Black_and_white_Warbler    test samples 12   , training samples 48   : 0.9166666666666666\n",
      "160.Black_throated_Blue_Warbler test samples 12   , training samples 47   : 0.5833333333333333\n",
      "161.Blue_winged_Warbler        test samples 12   , training samples 48   : 0.41666666666666663\n",
      "162.Canada_Warbler             test samples 12   , training samples 48   : 0.5\n",
      "163.Cape_May_Warbler           test samples 12   , training samples 48   : 0.8333333333333333\n",
      "164.Cerulean_Warbler           test samples 12   , training samples 48   : 0.6666666666666666\n",
      "165.Chestnut_sided_Warbler     test samples 12   , training samples 48   : 0.75\n",
      "166.Golden_winged_Warbler      test samples 12   , training samples 47   : 0.5833333333333333\n",
      "167.Hooded_Warbler             test samples 12   , training samples 48   : 0.6666666666666666\n",
      "168.Kentucky_Warbler           test samples 12   , training samples 47   : 0.75\n",
      "169.Magnolia_Warbler           test samples 12   , training samples 47   : 0.9166666666666666\n",
      "170.Mourning_Warbler           test samples 12   , training samples 48   : 0.5833333333333333\n",
      "171.Myrtle_Warbler             test samples 12   , training samples 48   : 0.75\n",
      "172.Nashville_Warbler          test samples 12   , training samples 48   : 0.5833333333333333\n",
      "173.Orange_crowned_Warbler     test samples 12   , training samples 48   : 0.5833333333333333\n",
      "174.Palm_Warbler               test samples 12   , training samples 48   : 0.41666666666666663\n",
      "175.Pine_Warbler               test samples 12   , training samples 48   : 0.3333333333333333\n",
      "176.Prairie_Warbler            test samples 12   , training samples 48   : 0.9166666666666666\n",
      "177.Prothonotary_Warbler       test samples 12   , training samples 48   : 0.75\n",
      "178.Swainson_Warbler           test samples 11   , training samples 45   : 0.4545454545454546\n",
      "179.Tennessee_Warbler          test samples 12   , training samples 47   : 0.3333333333333333\n",
      "180.Wilson_Warbler             test samples 12   , training samples 48   : 0.6666666666666666\n",
      "181.Worm_eating_Warbler        test samples 12   , training samples 47   : 0.5\n",
      "182.Yellow_Warbler             test samples 12   , training samples 48   : 0.41666666666666663\n",
      "183.Northern_Waterthrush       test samples 12   , training samples 48   : 0.75\n",
      "184.Louisiana_Waterthrush      test samples 12   , training samples 48   : 0.25\n",
      "185.Bohemian_Waxwing           test samples 12   , training samples 48   : 0.6666666666666666\n",
      "186.Cedar_Waxwing              test samples 12   , training samples 48   : 0.75\n",
      "187.American_Three_toed_Woodpecker test samples 10   , training samples 40   : 0.5\n",
      "188.Pileated_Woodpecker        test samples 12   , training samples 48   : 0.75\n",
      "189.Red_bellied_Woodpecker     test samples 12   , training samples 48   : 1.0\n",
      "190.Red_cockaded_Woodpecker    test samples 11   , training samples 47   : 0.6363636363636364\n",
      "191.Red_headed_Woodpecker      test samples 12   , training samples 48   : 0.75\n",
      "192.Downy_Woodpecker           test samples 12   , training samples 48   : 1.0\n",
      "193.Bewick_Wren                test samples 12   , training samples 48   : 0.6666666666666666\n",
      "194.Cactus_Wren                test samples 12   , training samples 48   : 0.75\n",
      "195.Carolina_Wren              test samples 12   , training samples 48   : 0.6666666666666666\n",
      "196.House_Wren                 test samples 12   , training samples 47   : 0.16666666666666666\n",
      "197.Marsh_Wren                 test samples 12   , training samples 48   : 0.25\n",
      "198.Rock_Wren                  test samples 12   , training samples 48   : 0.5\n",
      "199.Winter_Wren                test samples 12   , training samples 48   : 0.5\n",
      "200.Common_Yellowthroat        test samples 12   , training samples 48   : 0.6666666666666666\n"
     ]
    }
   ],
   "source": [
    "acc_dict2 = {}\n",
    "for i in test_labels.unique():\n",
    "    new_labels = test_labels[test_labels==i]\n",
    "    new_embeddings = test_embeddings[test_labels==i]\n",
    "    accuracies = accuracy_calculator.get_accuracy(\n",
    "        new_embeddings, new_labels, train_embeddings, train_labels, False\n",
    "    )\n",
    "    acc_dict2[data_dict[int(i.detach().cpu().numpy())]]=[ \n",
    "                  len(new_labels),\n",
    "                  len(train_labels[train_labels==i]),\n",
    "                  accuracies[\"precision_at_1\"]]\n",
    "    print(\"{:<30} test samples {:<5}, training samples {:<5}: {}\".format(data_dict[int(i.detach().cpu().numpy())],\n",
    "                                                                  len(new_labels),\n",
    "                                                                  len(train_labels[train_labels==i]),\n",
    "                                                                  accuracies[\"precision_at_1\"]))"
   ]
  },
  {
   "cell_type": "code",
   "execution_count": 61,
   "id": "a4b11cdb-01fc-426d-8708-aa4bd126db7c",
   "metadata": {},
   "outputs": [],
   "source": [
    "all_table = [[k]+v for k,v in acc_dict2.items()]\n",
    "columns = [\"class_name\", \"no. of test samples\", \"no. of train samples\", \"precision@1\"]\n",
    "train_table = wandb.Table(data=all_table, columns=columns)\n",
    "run.log({\"limited_classes_metrics\": train_table})"
   ]
  },
  {
   "cell_type": "code",
   "execution_count": 62,
   "id": "45d49f8e-987f-46c7-a2da-c8fe3b6c29c8",
   "metadata": {},
   "outputs": [
    {
     "name": "stderr",
     "output_type": "stream",
     "text": [
      "100%|█████████████████████████████████████████████████████████████████████████████████████████████████████| 295/295 [00:14<00:00, 19.85it/s]\n",
      "100%|███████████████████████████████████████████████████████████████████████████████████████████████████████| 74/74 [00:03<00:00, 19.75it/s]\n"
     ]
    }
   ],
   "source": [
    "train_embeddings, train_labels = get_all_embeddings(train_dataset, model)\n",
    "test_embeddings, test_labels = get_all_embeddings(test_dataset, model)\n",
    "train_labels = train_labels.squeeze(1)\n",
    "test_labels = test_labels.squeeze(1)"
   ]
  },
  {
   "cell_type": "code",
   "execution_count": 63,
   "id": "da619f84-3f14-4f62-95e1-09970154fd4c",
   "metadata": {},
   "outputs": [],
   "source": [
    "import faiss\n",
    "# Create a Faiss index\n",
    "index = faiss.IndexFlatIP(128)\n",
    "# Add some vectors to the index\n",
    "index.add(train_embeddings.detach().cpu().numpy())"
   ]
  },
  {
   "cell_type": "code",
   "execution_count": 64,
   "id": "1ee1a034-2fb6-4c8a-83a6-5dd028770c4d",
   "metadata": {},
   "outputs": [],
   "source": [
    "pred_labels = [] \n",
    "for embedding,label in zip(test_embeddings.detach().cpu().numpy(),test_labels):\n",
    "    distances, indices = index.search(embedding.reshape(1,-1).astype(np.float32), 2)\n",
    "    pred_class = train_labels[indices[0][1]]\n",
    "    pred_labels.append(pred_class)"
   ]
  },
  {
   "cell_type": "code",
   "execution_count": 65,
   "id": "7648e35a-de8c-42cc-aa9d-19fea3acdfcb",
   "metadata": {},
   "outputs": [],
   "source": [
    "pred_labels = [i.detach().cpu().numpy() for i in pred_labels]"
   ]
  },
  {
   "cell_type": "code",
   "execution_count": 66,
   "id": "0fd4ff45-4722-456e-81c0-c7a2cb8e31c7",
   "metadata": {
    "scrolled": true
   },
   "outputs": [
    {
     "name": "stdout",
     "output_type": "stream",
     "text": [
      "                                    precision    recall  f1-score   support\n",
      "\n",
      "        001.Black_footed_Albatross       0.50      0.75      0.60        12\n",
      "              002.Laysan_Albatross       0.55      0.50      0.52        12\n",
      "               003.Sooty_Albatross       0.23      0.25      0.24        12\n",
      "             004.Groove_billed_Ani       0.50      0.58      0.54        12\n",
      "                005.Crested_Auklet       0.75      1.00      0.86         9\n",
      "                  006.Least_Auklet       0.83      0.62      0.71         8\n",
      "               007.Parakeet_Auklet       0.90      0.90      0.90        10\n",
      "             008.Rhinoceros_Auklet       0.67      0.44      0.53         9\n",
      "              009.Brewer_Blackbird       0.07      0.08      0.08        12\n",
      "          010.Red_winged_Blackbird       0.91      0.83      0.87        12\n",
      "               011.Rusty_Blackbird       0.29      0.17      0.21        12\n",
      "       012.Yellow_headed_Blackbird       0.91      0.91      0.91        11\n",
      "                      013.Bobolink       0.82      0.75      0.78        12\n",
      "                014.Indigo_Bunting       0.53      0.83      0.65        12\n",
      "                015.Lazuli_Bunting       0.60      0.55      0.57        11\n",
      "               016.Painted_Bunting       1.00      0.64      0.78        11\n",
      "                      017.Cardinal       0.86      0.55      0.67        11\n",
      "               018.Spotted_Catbird       1.00      0.78      0.88         9\n",
      "                  019.Gray_Catbird       0.57      0.67      0.62        12\n",
      "          020.Yellow_breasted_Chat       0.71      0.42      0.53        12\n",
      "                021.Eastern_Towhee       0.60      0.50      0.55        12\n",
      "              022.Chuck_will_Widow       0.54      0.64      0.58        11\n",
      "              023.Brandt_Cormorant       0.67      0.33      0.44        12\n",
      "           024.Red_faced_Cormorant       0.64      0.90      0.75        10\n",
      "             025.Pelagic_Cormorant       0.44      0.33      0.38        12\n",
      "               026.Bronzed_Cowbird       0.58      0.58      0.58        12\n",
      "                 027.Shiny_Cowbird       0.33      0.33      0.33        12\n",
      "                 028.Brown_Creeper       0.85      0.92      0.88        12\n",
      "                 029.American_Crow       0.30      0.58      0.40        12\n",
      "                     030.Fish_Crow       0.40      0.17      0.24        12\n",
      "           031.Black_billed_Cuckoo       0.33      0.33      0.33        12\n",
      "               032.Mangrove_Cuckoo       0.56      0.50      0.53        10\n",
      "          033.Yellow_billed_Cuckoo       0.25      0.33      0.29        12\n",
      "       034.Gray_crowned_Rosy_Finch       0.82      0.75      0.78        12\n",
      "                  035.Purple_Finch       0.85      0.92      0.88        12\n",
      "              036.Northern_Flicker       0.80      0.67      0.73        12\n",
      "            037.Acadian_Flycatcher       0.31      0.33      0.32        12\n",
      "      038.Great_Crested_Flycatcher       1.00      0.50      0.67        12\n",
      "              039.Least_Flycatcher       0.25      0.42      0.31        12\n",
      "        040.Olive_sided_Flycatcher       0.67      0.33      0.44        12\n",
      "     041.Scissor_tailed_Flycatcher       0.80      0.67      0.73        12\n",
      "          042.Vermilion_Flycatcher       0.71      0.83      0.77        12\n",
      "     043.Yellow_bellied_Flycatcher       0.62      0.42      0.50        12\n",
      "                   044.Frigatebird       1.00      0.50      0.67        12\n",
      "               045.Northern_Fulmar       0.55      0.50      0.52        12\n",
      "                       046.Gadwall       0.77      0.83      0.80        12\n",
      "            047.American_Goldfinch       0.64      0.75      0.69        12\n",
      "            048.European_Goldfinch       0.85      0.92      0.88        12\n",
      "           049.Boat_tailed_Grackle       0.44      0.33      0.38        12\n",
      "                   050.Eared_Grebe       0.31      0.33      0.32        12\n",
      "                  051.Horned_Grebe       0.62      0.42      0.50        12\n",
      "             052.Pied_billed_Grebe       0.64      0.75      0.69        12\n",
      "                 053.Western_Grebe       0.85      0.92      0.88        12\n",
      "                 054.Blue_Grosbeak       0.64      0.58      0.61        12\n",
      "              055.Evening_Grosbeak       1.00      0.75      0.86        12\n",
      "                 056.Pine_Grosbeak       0.46      0.50      0.48        12\n",
      "        057.Rose_breasted_Grosbeak       0.79      0.92      0.85        12\n",
      "              058.Pigeon_Guillemot       0.75      0.75      0.75        12\n",
      "               059.California_Gull       0.22      0.33      0.27        12\n",
      "          060.Glaucous_winged_Gull       0.21      0.25      0.23        12\n",
      "                 061.Heermann_Gull       0.83      0.83      0.83        12\n",
      "                  062.Herring_Gull       0.11      0.08      0.10        12\n",
      "                    063.Ivory_Gull       0.80      0.67      0.73        12\n",
      "              064.Ring_billed_Gull       0.33      0.33      0.33        12\n",
      "             065.Slaty_backed_Gull       0.60      0.60      0.60        10\n",
      "                  066.Western_Gull       0.42      0.42      0.42        12\n",
      "              067.Anna_Hummingbird       0.60      0.50      0.55        12\n",
      "     068.Ruby_throated_Hummingbird       0.73      0.67      0.70        12\n",
      "            069.Rufous_Hummingbird       0.69      0.75      0.72        12\n",
      "               070.Green_Violetear       0.73      0.92      0.81        12\n",
      "            071.Long_tailed_Jaeger       0.36      0.33      0.35        12\n",
      "               072.Pomarine_Jaeger       0.55      0.50      0.52        12\n",
      "                      073.Blue_Jay       0.82      0.75      0.78        12\n",
      "                   074.Florida_Jay       1.00      0.75      0.86        12\n",
      "                     075.Green_Jay       0.89      0.73      0.80        11\n",
      "               076.Dark_eyed_Junco       0.83      0.83      0.83        12\n",
      "             077.Tropical_Kingbird       0.58      0.58      0.58        12\n",
      "                 078.Gray_Kingbird       0.47      0.58      0.52        12\n",
      "             079.Belted_Kingfisher       0.57      0.67      0.62        12\n",
      "              080.Green_Kingfisher       0.50      0.58      0.54        12\n",
      "               081.Pied_Kingfisher       0.75      0.75      0.75        12\n",
      "             082.Ringed_Kingfisher       0.75      0.75      0.75        12\n",
      "     083.White_breasted_Kingfisher       1.00      0.83      0.91        12\n",
      "          084.Red_legged_Kittiwake       0.70      0.70      0.70        10\n",
      "                   085.Horned_Lark       0.90      0.75      0.82        12\n",
      "                  086.Pacific_Loon       0.47      0.75      0.58        12\n",
      "                       087.Mallard       1.00      0.92      0.96        12\n",
      "            088.Western_Meadowlark       0.85      0.92      0.88        12\n",
      "              089.Hooded_Merganser       0.83      0.83      0.83        12\n",
      "        090.Red_breasted_Merganser       0.67      0.83      0.74        12\n",
      "                   091.Mockingbird       0.20      0.08      0.12        12\n",
      "                     092.Nighthawk       0.62      0.67      0.64        12\n",
      "              093.Clark_Nutcracker       1.00      0.83      0.91        12\n",
      "       094.White_breasted_Nuthatch       0.92      0.92      0.92        12\n",
      "              095.Baltimore_Oriole       0.83      0.83      0.83        12\n",
      "                 096.Hooded_Oriole       0.62      0.67      0.64        12\n",
      "                097.Orchard_Oriole       0.46      0.50      0.48        12\n",
      "                  098.Scott_Oriole       0.71      0.83      0.77        12\n",
      "                      099.Ovenbird       0.62      0.67      0.64        12\n",
      "                 100.Brown_Pelican       0.79      0.92      0.85        12\n",
      "                 101.White_Pelican       0.89      0.80      0.84        10\n",
      "            102.Western_Wood_Pewee       0.19      0.33      0.24        12\n",
      "                      103.Sayornis       0.11      0.08      0.10        12\n",
      "                104.American_Pipit       0.25      0.33      0.29        12\n",
      "                105.Whip_poor_Will       0.50      0.40      0.44        10\n",
      "                 106.Horned_Puffin       0.90      0.75      0.82        12\n",
      "                  107.Common_Raven       0.20      0.33      0.25        12\n",
      "            108.White_necked_Raven       0.40      0.33      0.36        12\n",
      "             109.American_Redstart       0.69      0.92      0.79        12\n",
      "                     110.Geococcyx       0.67      0.83      0.74        12\n",
      "             111.Loggerhead_Shrike       0.43      0.50      0.46        12\n",
      "             112.Great_Grey_Shrike       0.46      0.50      0.48        12\n",
      "                 113.Baird_Sparrow       0.54      0.70      0.61        10\n",
      "        114.Black_throated_Sparrow       0.46      0.50      0.48        12\n",
      "                115.Brewer_Sparrow       0.30      0.25      0.27        12\n",
      "              116.Chipping_Sparrow       0.36      0.42      0.38        12\n",
      "          117.Clay_colored_Sparrow       0.58      0.58      0.58        12\n",
      "                 118.House_Sparrow       0.38      0.25      0.30        12\n",
      "                 119.Field_Sparrow       0.50      0.58      0.54        12\n",
      "                   120.Fox_Sparrow       0.57      0.67      0.62        12\n",
      "           121.Grasshopper_Sparrow       0.22      0.17      0.19        12\n",
      "                122.Harris_Sparrow       0.88      0.58      0.70        12\n",
      "               123.Henslow_Sparrow       0.50      0.58      0.54        12\n",
      "              124.Le_Conte_Sparrow       0.67      0.50      0.57        12\n",
      "               125.Lincoln_Sparrow       0.47      0.58      0.52        12\n",
      "   126.Nelson_Sharp_tailed_Sparrow       0.69      0.75      0.72        12\n",
      "              127.Savannah_Sparrow       0.31      0.42      0.36        12\n",
      "               128.Seaside_Sparrow       0.60      0.50      0.55        12\n",
      "                  129.Song_Sparrow       0.36      0.33      0.35        12\n",
      "                  130.Tree_Sparrow       0.40      0.67      0.50        12\n",
      "                131.Vesper_Sparrow       0.27      0.25      0.26        12\n",
      "         132.White_crowned_Sparrow       0.73      0.67      0.70        12\n",
      "        133.White_throated_Sparrow       0.64      0.58      0.61        12\n",
      "          134.Cape_Glossy_Starling       0.83      0.83      0.83        12\n",
      "                  135.Bank_Swallow       0.31      0.42      0.36        12\n",
      "                  136.Barn_Swallow       0.64      0.58      0.61        12\n",
      "                 137.Cliff_Swallow       0.50      0.42      0.45        12\n",
      "                  138.Tree_Swallow       0.69      0.75      0.72        12\n",
      "               139.Scarlet_Tanager       0.86      1.00      0.92        12\n",
      "                140.Summer_Tanager       0.83      0.83      0.83        12\n",
      "                    141.Artic_Tern       0.50      0.64      0.56        11\n",
      "                    142.Black_Tern       0.00      0.00      0.00        12\n",
      "                  143.Caspian_Tern       0.43      0.25      0.32        12\n",
      "                   144.Common_Tern       0.31      0.33      0.32        12\n",
      "                  145.Elegant_Tern       0.58      0.58      0.58        12\n",
      "                 146.Forsters_Tern       0.33      0.33      0.33        12\n",
      "                    147.Least_Tern       0.71      0.83      0.77        12\n",
      "           148.Green_tailed_Towhee       1.00      0.67      0.80        12\n",
      "                149.Brown_Thrasher       0.54      0.58      0.56        12\n",
      "                 150.Sage_Thrasher       0.43      0.50      0.46        12\n",
      "            151.Black_capped_Vireo       0.71      0.50      0.59        10\n",
      "             152.Blue_headed_Vireo       0.54      0.58      0.56        12\n",
      "            153.Philadelphia_Vireo       0.41      0.58      0.48        12\n",
      "                154.Red_eyed_Vireo       0.47      0.58      0.52        12\n",
      "                155.Warbling_Vireo       0.33      0.25      0.29        12\n",
      "              156.White_eyed_Vireo       0.54      0.58      0.56        12\n",
      "         157.Yellow_throated_Vireo       0.60      0.50      0.55        12\n",
      "          158.Bay_breasted_Warbler       0.67      0.50      0.57        12\n",
      "       159.Black_and_white_Warbler       0.69      0.92      0.79        12\n",
      "   160.Black_throated_Blue_Warbler       0.78      0.58      0.67        12\n",
      "           161.Blue_winged_Warbler       0.44      0.58      0.50        12\n",
      "                162.Canada_Warbler       0.40      0.33      0.36        12\n",
      "              163.Cape_May_Warbler       0.58      0.58      0.58        12\n",
      "              164.Cerulean_Warbler       0.69      0.75      0.72        12\n",
      "        165.Chestnut_sided_Warbler       0.67      0.67      0.67        12\n",
      "         166.Golden_winged_Warbler       0.80      0.67      0.73        12\n",
      "                167.Hooded_Warbler       0.67      0.67      0.67        12\n",
      "              168.Kentucky_Warbler       1.00      0.83      0.91        12\n",
      "              169.Magnolia_Warbler       0.67      0.67      0.67        12\n",
      "              170.Mourning_Warbler       0.67      0.67      0.67        12\n",
      "                171.Myrtle_Warbler       0.64      0.58      0.61        12\n",
      "             172.Nashville_Warbler       0.21      0.25      0.23        12\n",
      "        173.Orange_crowned_Warbler       0.29      0.42      0.34        12\n",
      "                  174.Palm_Warbler       0.80      0.33      0.47        12\n",
      "                  175.Pine_Warbler       0.50      0.17      0.25        12\n",
      "               176.Prairie_Warbler       0.71      0.83      0.77        12\n",
      "          177.Prothonotary_Warbler       0.67      0.67      0.67        12\n",
      "              178.Swainson_Warbler       0.31      0.45      0.37        11\n",
      "             179.Tennessee_Warbler       0.09      0.08      0.09        12\n",
      "                180.Wilson_Warbler       0.57      0.67      0.62        12\n",
      "           181.Worm_eating_Warbler       0.40      0.33      0.36        12\n",
      "                182.Yellow_Warbler       0.57      0.67      0.62        12\n",
      "          183.Northern_Waterthrush       0.42      0.42      0.42        12\n",
      "         184.Louisiana_Waterthrush       1.00      0.25      0.40        12\n",
      "              185.Bohemian_Waxwing       0.70      0.58      0.64        12\n",
      "                 186.Cedar_Waxwing       0.64      0.75      0.69        12\n",
      "187.American_Three_toed_Woodpecker       0.80      0.40      0.53        10\n",
      "           188.Pileated_Woodpecker       0.56      0.42      0.48        12\n",
      "        189.Red_bellied_Woodpecker       0.85      0.92      0.88        12\n",
      "       190.Red_cockaded_Woodpecker       0.53      0.73      0.62        11\n",
      "         191.Red_headed_Woodpecker       0.82      0.75      0.78        12\n",
      "              192.Downy_Woodpecker       0.61      0.92      0.73        12\n",
      "                   193.Bewick_Wren       0.25      0.17      0.20        12\n",
      "                   194.Cactus_Wren       0.50      0.33      0.40        12\n",
      "                 195.Carolina_Wren       0.55      0.50      0.52        12\n",
      "                    196.House_Wren       0.45      0.42      0.43        12\n",
      "                    197.Marsh_Wren       0.33      0.33      0.33        12\n",
      "                     198.Rock_Wren       0.58      0.58      0.58        12\n",
      "                   199.Winter_Wren       0.45      0.42      0.43        12\n",
      "           200.Common_Yellowthroat       0.50      0.75      0.60        12\n",
      "\n",
      "                          accuracy                           0.57      2358\n",
      "                         macro avg       0.59      0.58      0.57      2358\n",
      "                      weighted avg       0.59      0.57      0.57      2358\n",
      "\n"
     ]
    }
   ],
   "source": [
    "from sklearn.metrics import classification_report\n",
    "print(classification_report(test_labels.detach().cpu().numpy(), pred_labels, target_names=list(class_dict.keys())))"
   ]
  },
  {
   "cell_type": "code",
   "execution_count": 67,
   "id": "f6154bd0-11f0-42b4-b860-b3b34ea93d52",
   "metadata": {},
   "outputs": [],
   "source": [
    "from sklearn.metrics import classification_report\n",
    "report = classification_report(test_labels.detach().cpu().numpy(), pred_labels, target_names=list(class_dict.keys()),output_dict=True)\n",
    "df = pd.DataFrame(report).transpose()\n",
    "df.reset_index(inplace=True)\n",
    "df.rename(columns={\"index\":'class_name'},inplace=True)\n",
    "classification_report_table = wandb.Table(dataframe=df)"
   ]
  },
  {
   "cell_type": "code",
   "execution_count": 68,
   "id": "8967c721-10c7-4d82-9c44-cf69368c9cf2",
   "metadata": {},
   "outputs": [],
   "source": [
    "run.log({\"limited_classes_classification_report\": classification_report_table})"
   ]
  },
  {
   "cell_type": "markdown",
   "id": "25ca19e9-fde4-4738-b3fe-35d7f6c3f8b8",
   "metadata": {},
   "source": [
    "## metric drop for unseen classes"
   ]
  },
  {
   "cell_type": "code",
   "execution_count": 69,
   "id": "308604b3-e2e4-48ce-b3a8-09b38ca315df",
   "metadata": {},
   "outputs": [],
   "source": [
    "unseen_class_names = sorted(key for key in acc_dict.keys() if int(key.split('.')[0]) >= 180)"
   ]
  },
  {
   "cell_type": "code",
   "execution_count": 70,
   "id": "b27e7a53-584d-410e-ad34-466aedca1350",
   "metadata": {
    "scrolled": true
   },
   "outputs": [],
   "source": [
    "comparison_table_data = []\n",
    "for class_name in unseen_class_names:\n",
    "    comparison_table_data.append([class_name,acc_dict[class_name][-1],acc_dict2[class_name][-1]])"
   ]
  },
  {
   "cell_type": "code",
   "execution_count": 71,
   "id": "2400629c-33f5-4b19-bbab-9d75c92dd6d4",
   "metadata": {},
   "outputs": [],
   "source": [
    "comparison_table = wandb.Table(data=comparison_table_data, columns=['class_name','all_classes_precision@1','unseen_classes_precision@1'])"
   ]
  },
  {
   "cell_type": "code",
   "execution_count": 72,
   "id": "daa9ab4f-6abe-4469-91b8-2c48f17f7400",
   "metadata": {},
   "outputs": [],
   "source": [
    "run.log({\"comparison_unseen_classes_metrics\": comparison_table})"
   ]
  },
  {
   "cell_type": "code",
   "execution_count": 73,
   "id": "288120aa-ccc7-4249-8498-63c82972342a",
   "metadata": {},
   "outputs": [],
   "source": [
    "precisions = np.array(comparison_table_data)[:,1:3].astype(np.float32)"
   ]
  },
  {
   "cell_type": "code",
   "execution_count": 74,
   "id": "aea80d7d-48d9-45b2-9b80-50df8c6f2e73",
   "metadata": {},
   "outputs": [],
   "source": [
    "wandb.log({'precision_drop_unseen_classes':np.mean(np.subtract(precisions[:,0],precisions[:,1]))})"
   ]
  },
  {
   "cell_type": "markdown",
   "id": "8474d6e8-63e1-4bd8-b170-b13a1803634e",
   "metadata": {},
   "source": [
    "## metric drop for all classes because of new unseen classes"
   ]
  },
  {
   "cell_type": "code",
   "execution_count": 75,
   "id": "0d53c17d-3ee9-4947-84a0-61e87855daf0",
   "metadata": {},
   "outputs": [],
   "source": [
    "comparison_table_data = []\n",
    "for class_name in acc_dict.keys():\n",
    "    comparison_table_data.append([class_name,acc_dict[class_name][-1],acc_dict2[class_name][-1]])"
   ]
  },
  {
   "cell_type": "code",
   "execution_count": 76,
   "id": "bd465f2b-8fd1-419f-a3bb-8daa56d9956e",
   "metadata": {},
   "outputs": [],
   "source": [
    "precisions = np.array(comparison_table_data)[:,1:3].astype(np.float32)"
   ]
  },
  {
   "cell_type": "code",
   "execution_count": 77,
   "id": "2af3e145-3fd1-4e2f-b10e-8ed86ecda2b5",
   "metadata": {},
   "outputs": [
    {
     "data": {
      "text/plain": [
       "array([[0.75      , 0.75      ],\n",
       "       [0.6666667 , 0.75      ],\n",
       "       [0.5       , 0.5833333 ],\n",
       "       [0.8333333 , 0.9166667 ],\n",
       "       [0.6666667 , 0.8888889 ],\n",
       "       [0.75      , 0.75      ],\n",
       "       [1.        , 1.        ],\n",
       "       [0.7777778 , 0.6666667 ],\n",
       "       [0.16666667, 0.41666666],\n",
       "       [0.8333333 , 0.9166667 ],\n",
       "       [0.33333334, 0.41666666],\n",
       "       [1.        , 1.        ],\n",
       "       [0.8333333 , 0.6666667 ],\n",
       "       [0.6666667 , 0.8333333 ],\n",
       "       [0.72727275, 0.54545456],\n",
       "       [0.6363636 , 0.72727275],\n",
       "       [0.6363636 , 0.6363636 ],\n",
       "       [1.        , 0.8888889 ],\n",
       "       [0.6666667 , 0.75      ],\n",
       "       [0.5833333 , 0.5833333 ],\n",
       "       [0.5833333 , 0.5833333 ],\n",
       "       [0.6363636 , 0.54545456],\n",
       "       [0.5       , 0.25      ],\n",
       "       [0.9       , 0.7       ],\n",
       "       [0.5       , 0.16666667],\n",
       "       [0.6666667 , 0.5833333 ],\n",
       "       [0.25      , 0.08333334],\n",
       "       [0.8333333 , 0.9166667 ],\n",
       "       [0.33333334, 0.16666667],\n",
       "       [0.25      , 0.16666667],\n",
       "       [0.5833333 , 0.5833333 ],\n",
       "       [0.6       , 0.5       ],\n",
       "       [0.5       , 0.25      ],\n",
       "       [0.8333333 , 0.75      ],\n",
       "       [0.9166667 , 0.9166667 ],\n",
       "       [0.75      , 0.8333333 ],\n",
       "       [0.41666666, 0.5833333 ],\n",
       "       [0.6666667 , 0.5833333 ],\n",
       "       [0.08333334, 0.25      ],\n",
       "       [0.41666666, 0.33333334],\n",
       "       [1.        , 0.8333333 ],\n",
       "       [1.        , 0.8333333 ],\n",
       "       [0.16666667, 0.08333334],\n",
       "       [0.75      , 0.5833333 ],\n",
       "       [0.41666666, 0.5       ],\n",
       "       [1.        , 0.9166667 ],\n",
       "       [0.75      , 0.75      ],\n",
       "       [0.9166667 , 0.8333333 ],\n",
       "       [0.41666666, 0.41666666],\n",
       "       [0.6666667 , 0.5833333 ],\n",
       "       [0.75      , 0.6666667 ],\n",
       "       [0.8333333 , 0.8333333 ],\n",
       "       [0.75      , 0.75      ],\n",
       "       [0.5833333 , 0.5833333 ],\n",
       "       [1.        , 0.9166667 ],\n",
       "       [0.9166667 , 0.75      ],\n",
       "       [0.9166667 , 0.9166667 ],\n",
       "       [0.5833333 , 0.8333333 ],\n",
       "       [0.25      , 0.33333334],\n",
       "       [0.33333334, 0.25      ],\n",
       "       [0.9166667 , 0.8333333 ],\n",
       "       [0.08333334, 0.16666667],\n",
       "       [1.        , 0.8333333 ],\n",
       "       [0.33333334, 0.5       ],\n",
       "       [0.4       , 0.3       ],\n",
       "       [0.25      , 0.41666666],\n",
       "       [0.5833333 , 0.41666666],\n",
       "       [0.6666667 , 0.8333333 ],\n",
       "       [1.        , 0.8333333 ],\n",
       "       [0.9166667 , 0.8333333 ],\n",
       "       [0.16666667, 0.16666667],\n",
       "       [0.41666666, 0.25      ],\n",
       "       [0.6666667 , 0.8333333 ],\n",
       "       [0.75      , 0.6666667 ],\n",
       "       [0.90909094, 0.8181818 ],\n",
       "       [0.9166667 , 0.75      ],\n",
       "       [0.8333333 , 0.8333333 ],\n",
       "       [0.6666667 , 0.5       ],\n",
       "       [0.8333333 , 0.75      ],\n",
       "       [0.75      , 0.75      ],\n",
       "       [0.75      , 0.8333333 ],\n",
       "       [0.9166667 , 0.8333333 ],\n",
       "       [0.9166667 , 0.9166667 ],\n",
       "       [0.7       , 0.6       ],\n",
       "       [0.75      , 0.6666667 ],\n",
       "       [0.8333333 , 0.8333333 ],\n",
       "       [0.8333333 , 0.8333333 ],\n",
       "       [0.9166667 , 0.9166667 ],\n",
       "       [0.9166667 , 0.75      ],\n",
       "       [0.9166667 , 1.        ],\n",
       "       [0.16666667, 0.25      ],\n",
       "       [0.75      , 0.6666667 ],\n",
       "       [0.8333333 , 0.9166667 ],\n",
       "       [1.        , 1.        ],\n",
       "       [0.8333333 , 0.6666667 ],\n",
       "       [0.6666667 , 0.75      ],\n",
       "       [0.41666666, 0.5       ],\n",
       "       [0.75      , 0.8333333 ],\n",
       "       [0.8333333 , 0.75      ],\n",
       "       [1.        , 1.        ],\n",
       "       [0.9       , 0.8       ],\n",
       "       [0.41666666, 0.33333334],\n",
       "       [0.6666667 , 0.25      ],\n",
       "       [0.41666666, 0.5       ],\n",
       "       [0.4       , 0.4       ],\n",
       "       [0.8333333 , 0.8333333 ],\n",
       "       [0.08333334, 0.33333334],\n",
       "       [0.5       , 0.6666667 ],\n",
       "       [1.        , 1.        ],\n",
       "       [0.9166667 , 0.9166667 ],\n",
       "       [0.5833333 , 0.5       ],\n",
       "       [0.41666666, 0.33333334],\n",
       "       [0.4       , 0.4       ],\n",
       "       [0.75      , 0.6666667 ],\n",
       "       [0.5833333 , 0.33333334],\n",
       "       [0.6666667 , 0.33333334],\n",
       "       [0.5833333 , 0.5833333 ],\n",
       "       [0.5       , 0.41666666],\n",
       "       [0.5833333 , 0.33333334],\n",
       "       [0.6666667 , 0.6666667 ],\n",
       "       [0.25      , 0.33333334],\n",
       "       [0.75      , 0.5833333 ],\n",
       "       [0.6666667 , 0.41666666],\n",
       "       [0.6666667 , 0.41666666],\n",
       "       [0.5       , 0.5       ],\n",
       "       [1.        , 0.5       ],\n",
       "       [0.41666666, 0.25      ],\n",
       "       [0.9166667 , 0.8333333 ],\n",
       "       [0.5       , 0.41666666],\n",
       "       [0.5833333 , 0.33333334],\n",
       "       [0.5833333 , 0.5833333 ],\n",
       "       [0.41666666, 0.5833333 ],\n",
       "       [0.5833333 , 0.5833333 ],\n",
       "       [0.9166667 , 0.9166667 ],\n",
       "       [0.5       , 0.33333334],\n",
       "       [0.6666667 , 0.6666667 ],\n",
       "       [0.6666667 , 0.41666666],\n",
       "       [0.8333333 , 0.75      ],\n",
       "       [0.9166667 , 0.75      ],\n",
       "       [0.8333333 , 0.8333333 ],\n",
       "       [0.90909094, 0.90909094],\n",
       "       [0.25      , 0.16666667],\n",
       "       [0.33333334, 0.41666666],\n",
       "       [0.5       , 0.33333334],\n",
       "       [0.16666667, 0.33333334],\n",
       "       [0.41666666, 0.5       ],\n",
       "       [0.8333333 , 0.8333333 ],\n",
       "       [0.75      , 0.75      ],\n",
       "       [0.5       , 0.6666667 ],\n",
       "       [0.5       , 0.41666666],\n",
       "       [0.6       , 0.5       ],\n",
       "       [0.6666667 , 0.5833333 ],\n",
       "       [0.5       , 0.5833333 ],\n",
       "       [0.8333333 , 0.5       ],\n",
       "       [0.41666666, 0.25      ],\n",
       "       [0.6666667 , 0.6666667 ],\n",
       "       [0.5833333 , 0.5833333 ],\n",
       "       [0.9166667 , 0.75      ],\n",
       "       [0.9166667 , 0.9166667 ],\n",
       "       [0.75      , 0.5833333 ],\n",
       "       [0.6666667 , 0.41666666],\n",
       "       [0.5       , 0.5       ],\n",
       "       [0.8333333 , 0.8333333 ],\n",
       "       [0.6666667 , 0.6666667 ],\n",
       "       [0.6666667 , 0.75      ],\n",
       "       [0.75      , 0.5833333 ],\n",
       "       [0.9166667 , 0.6666667 ],\n",
       "       [0.8333333 , 0.75      ],\n",
       "       [0.9166667 , 0.9166667 ],\n",
       "       [0.75      , 0.5833333 ],\n",
       "       [0.6666667 , 0.75      ],\n",
       "       [0.9166667 , 0.5833333 ],\n",
       "       [0.5       , 0.5833333 ],\n",
       "       [0.33333334, 0.41666666],\n",
       "       [0.5833333 , 0.33333334],\n",
       "       [0.6666667 , 0.9166667 ],\n",
       "       [0.9166667 , 0.75      ],\n",
       "       [0.6363636 , 0.45454547],\n",
       "       [0.16666667, 0.33333334],\n",
       "       [0.5       , 0.6666667 ],\n",
       "       [0.5833333 , 0.5       ],\n",
       "       [0.6666667 , 0.41666666],\n",
       "       [0.6666667 , 0.75      ],\n",
       "       [0.6666667 , 0.25      ],\n",
       "       [1.        , 0.6666667 ],\n",
       "       [0.8333333 , 0.75      ],\n",
       "       [0.8       , 0.5       ],\n",
       "       [0.9166667 , 0.75      ],\n",
       "       [1.        , 1.        ],\n",
       "       [0.8181818 , 0.6363636 ],\n",
       "       [0.75      , 0.75      ],\n",
       "       [0.9166667 , 1.        ],\n",
       "       [0.6666667 , 0.6666667 ],\n",
       "       [0.9166667 , 0.75      ],\n",
       "       [0.6666667 , 0.6666667 ],\n",
       "       [0.6666667 , 0.16666667],\n",
       "       [0.41666666, 0.25      ],\n",
       "       [0.5833333 , 0.5       ],\n",
       "       [0.75      , 0.5       ],\n",
       "       [0.8333333 , 0.6666667 ]], dtype=float32)"
      ]
     },
     "execution_count": 77,
     "metadata": {},
     "output_type": "execute_result"
    }
   ],
   "source": [
    "precisions"
   ]
  },
  {
   "cell_type": "code",
   "execution_count": 78,
   "id": "7d8a6e83-8a54-44f6-9f00-2842e8b53e6a",
   "metadata": {},
   "outputs": [],
   "source": [
    "wandb.log({'precision_drop_all_classes':np.mean(np.subtract(precisions[:,0],precisions[:,1]))})"
   ]
  },
  {
   "cell_type": "code",
   "execution_count": null,
   "id": "3a2d6dd0-2165-4c2d-a053-51454eed7af9",
   "metadata": {},
   "outputs": [],
   "source": []
  }
 ],
 "metadata": {
  "kernelspec": {
   "display_name": "Python 3 (ipykernel)",
   "language": "python",
   "name": "python3"
  },
  "language_info": {
   "codemirror_mode": {
    "name": "ipython",
    "version": 3
   },
   "file_extension": ".py",
   "mimetype": "text/x-python",
   "name": "python",
   "nbconvert_exporter": "python",
   "pygments_lexer": "ipython3",
   "version": "3.10.13"
  }
 },
 "nbformat": 4,
 "nbformat_minor": 5
}
