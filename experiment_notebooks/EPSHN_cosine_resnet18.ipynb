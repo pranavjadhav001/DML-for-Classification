{
 "cells": [
  {
   "cell_type": "code",
   "execution_count": 49,
   "id": "5ffca082-4e33-4910-bddd-7467769c68a2",
   "metadata": {},
   "outputs": [],
   "source": [
    "import numpy as np\n",
    "import PIL\n",
    "import umap\n",
    "import pandas as pd\n",
    "import json\n",
    "import glob\n",
    "from pytorch_metric_learning import distances, losses, miners, reducers\n",
    "import torch.nn as nn\n",
    "from pytorch_metric_learning.distances import LpDistance,CosineSimilarity\n",
    "from pytorch_metric_learning.utils.inference import CustomKNN\n",
    "import os\n",
    "import matplotlib.pyplot as plt"
   ]
  },
  {
   "cell_type": "code",
   "execution_count": 50,
   "id": "df805f67-18d4-4f50-a057-90ebe6d234ee",
   "metadata": {},
   "outputs": [],
   "source": [
    "import torch\n",
    "import torchvision\n",
    "from torchvision import models\n",
    "import torch\n",
    "import torch.nn as nn\n",
    "import torch.nn.functional as F\n",
    "import torch.optim as optim\n",
    "from torchvision import datasets, transforms\n",
    "from torch.utils.data.sampler import SubsetRandomSampler\n",
    "from tqdm import tqdm\n",
    "from pytorch_metric_learning import losses, testers\n",
    "from pytorch_metric_learning.utils.accuracy_calculator import AccuracyCalculator"
   ]
  },
  {
   "cell_type": "code",
   "execution_count": 51,
   "id": "e1f8f3ef-c0a5-492e-a89e-a126cd3709cc",
   "metadata": {},
   "outputs": [],
   "source": [
    "%matplotlib inline\n",
    "import torch\n",
    "import torch.nn as nn\n",
    "from matplotlib import pyplot as plt\n",
    "import numpy as np\n",
    "import torchvision\n",
    "import torchvision.datasets as datasets\n",
    "import torchvision.models as models\n",
    "from torchvision import transforms\n",
    "import torch.optim as optim\n",
    "import time\n",
    "import tqdm as tqdm\n",
    "from torch.autograd import Variable"
   ]
  },
  {
   "cell_type": "code",
   "execution_count": 4,
   "id": "e90d2b46-62b6-4d65-accd-b65666481d53",
   "metadata": {},
   "outputs": [
    {
     "name": "stderr",
     "output_type": "stream",
     "text": [
      "\u001b[34m\u001b[1mwandb\u001b[0m: Currently logged in as: \u001b[33mpranavjadhav001\u001b[0m. Use \u001b[1m`wandb login --relogin`\u001b[0m to force relogin\n"
     ]
    },
    {
     "data": {
      "text/plain": [
       "True"
      ]
     },
     "execution_count": 4,
     "metadata": {},
     "output_type": "execute_result"
    }
   ],
   "source": [
    "import wandb\n",
    "import random  # for demo script\n",
    "\n",
    "wandb.login()"
   ]
  },
  {
   "cell_type": "code",
   "execution_count": 5,
   "id": "dfc3914e-3d5f-4c4a-a6d6-6a55ff22c849",
   "metadata": {},
   "outputs": [],
   "source": [
    "config = {\n",
    "    'name':'cub_triplet_loss_epshn_cosine_resnet18',\n",
    "    'dataset':'CUB_200_2011',\n",
    "    'random_seed':42,\n",
    "    'model_architecture':'resnet18',\n",
    "    'embedding_dim':128,\n",
    "    'distance':'cosine',\n",
    "    'image_height':224,\n",
    "    'image_width':224,\n",
    "    'train_test_split':0.2,\n",
    "    'pretrained_weights':'imagenet',\n",
    "    'class_split':0.1,\n",
    "    'batch_size':128,\n",
    "    'optimizer':'adam',\n",
    "    'learning_rate':0.001,\n",
    "    'distance':'cosine',\n",
    "    'num_epochs':100,\n",
    "    'loss':'NTXentLoss',\n",
    "    'miner':'epshn',\n",
    "    'reducer':0,\n",
    "    'metric':'precision_at_1',\n",
    "    'model_save_path':'models/cub_triplet_loss_epshn_cosine_resnet18',\n",
    "    'temperature': 0.1\n",
    "}"
   ]
  },
  {
   "cell_type": "code",
   "execution_count": 6,
   "id": "ea1ac4e6-27ce-4223-8633-6c4bb31e07bc",
   "metadata": {},
   "outputs": [
    {
     "data": {
      "application/vnd.jupyter.widget-view+json": {
       "model_id": "702f1ce21c724a7983d6a7be57bb8be1",
       "version_major": 2,
       "version_minor": 0
      },
      "text/plain": [
       "VBox(children=(Label(value='Waiting for wandb.init()...\\r'), FloatProgress(value=0.011111964822222514, max=1.0…"
      ]
     },
     "metadata": {},
     "output_type": "display_data"
    },
    {
     "data": {
      "text/html": [
       "wandb version 0.16.5 is available!  To upgrade, please run:\n",
       " $ pip install wandb --upgrade"
      ],
      "text/plain": [
       "<IPython.core.display.HTML object>"
      ]
     },
     "metadata": {},
     "output_type": "display_data"
    },
    {
     "data": {
      "text/html": [
       "Tracking run with wandb version 0.16.4"
      ],
      "text/plain": [
       "<IPython.core.display.HTML object>"
      ]
     },
     "metadata": {},
     "output_type": "display_data"
    },
    {
     "data": {
      "text/html": [
       "Run data is saved locally in <code>/embedding_classification/wandb/run-20240402_145907-fjgep4nn</code>"
      ],
      "text/plain": [
       "<IPython.core.display.HTML object>"
      ]
     },
     "metadata": {},
     "output_type": "display_data"
    },
    {
     "data": {
      "text/html": [
       "Syncing run <strong><a href='https://wandb.ai/pranavjadhav001/embedding_based_classification/runs/fjgep4nn' target=\"_blank\">cub_triplet_loss_epshn_cosine_resnet18</a></strong> to <a href='https://wandb.ai/pranavjadhav001/embedding_based_classification' target=\"_blank\">Weights & Biases</a> (<a href='https://wandb.me/run' target=\"_blank\">docs</a>)<br/>"
      ],
      "text/plain": [
       "<IPython.core.display.HTML object>"
      ]
     },
     "metadata": {},
     "output_type": "display_data"
    },
    {
     "data": {
      "text/html": [
       " View project at <a href='https://wandb.ai/pranavjadhav001/embedding_based_classification' target=\"_blank\">https://wandb.ai/pranavjadhav001/embedding_based_classification</a>"
      ],
      "text/plain": [
       "<IPython.core.display.HTML object>"
      ]
     },
     "metadata": {},
     "output_type": "display_data"
    },
    {
     "data": {
      "text/html": [
       " View run at <a href='https://wandb.ai/pranavjadhav001/embedding_based_classification/runs/fjgep4nn' target=\"_blank\">https://wandb.ai/pranavjadhav001/embedding_based_classification/runs/fjgep4nn</a>"
      ],
      "text/plain": [
       "<IPython.core.display.HTML object>"
      ]
     },
     "metadata": {},
     "output_type": "display_data"
    }
   ],
   "source": [
    "id = wandb.util.generate_id()\n",
    "run = wandb.init(\n",
    "    id=id,\n",
    "    name = config['name'],\n",
    "    # Set the project where this run will be logged\n",
    "    project=\"embedding_based_classification\",\n",
    "    # Track hyperparameters and run metadata\n",
    "    config=config,\n",
    "    resume=\"allow\"\n",
    ")"
   ]
  },
  {
   "cell_type": "code",
   "execution_count": 7,
   "id": "2762de2f-b1ec-49ae-bdc8-56ad406334e1",
   "metadata": {},
   "outputs": [],
   "source": [
    "np.random.seed(config['random_seed'])\n",
    "torch.manual_seed(config['random_seed'])\n",
    "torch.cuda.manual_seed(config['random_seed'])\n",
    "torch.backends.cudnn.deterministic = False"
   ]
  },
  {
   "cell_type": "code",
   "execution_count": null,
   "id": "7e15c4cb-656c-4e53-bfc7-b801b2d2ae1f",
   "metadata": {},
   "outputs": [],
   "source": [
    "os.chdir('..')\n",
    "if not os.path.exists('models'):\n",
    "    os.makedirs('models')"
   ]
  },
  {
   "cell_type": "code",
   "execution_count": 8,
   "id": "86a9b19c-f95a-4976-bed3-47cd97da3fbf",
   "metadata": {},
   "outputs": [],
   "source": [
    "# print(models.resnet18())\n",
    "class ResNetFeatrueExtractor18(nn.Module):\n",
    "    def __init__(self, pretrained = True):\n",
    "        super(ResNetFeatrueExtractor18, self).__init__()\n",
    "        model_resnet18 = models.resnet18(pretrained=pretrained)\n",
    "        self.conv1 = model_resnet18.conv1\n",
    "        self.bn1 = model_resnet18.bn1\n",
    "        self.relu = model_resnet18.relu\n",
    "        self.maxpool = model_resnet18.maxpool\n",
    "        self.layer1 = model_resnet18.layer1\n",
    "        self.layer2 = model_resnet18.layer2\n",
    "        self.layer3 = model_resnet18.layer3\n",
    "        self.layer4 = model_resnet18.layer4\n",
    "        self.avgpool = model_resnet18.avgpool\n",
    "        self.fc1 = nn.Linear(512, config['embedding_dim'])\n",
    "        \n",
    "    def forward(self, x):\n",
    "        x = self.relu(self.bn1(self.conv1(x)))\n",
    "        x = self.maxpool(x)\n",
    "        x = self.layer1(x)\n",
    "        x = self.layer2(x)\n",
    "        x = self.layer3(x)\n",
    "        x = self.layer4(x)\n",
    "        x = self.avgpool(x)\n",
    "        x = x.view(x.size(0), -1)\n",
    "        x = self.fc1(x)\n",
    "        return x"
   ]
  },
  {
   "cell_type": "code",
   "execution_count": 9,
   "id": "3113a9df-ae34-49a4-be12-cfc0168aa08a",
   "metadata": {},
   "outputs": [
    {
     "name": "stderr",
     "output_type": "stream",
     "text": [
      "/opt/conda/lib/python3.10/site-packages/torchvision/models/_utils.py:208: UserWarning: The parameter 'pretrained' is deprecated since 0.13 and may be removed in the future, please use 'weights' instead.\n",
      "  warnings.warn(\n",
      "/opt/conda/lib/python3.10/site-packages/torchvision/models/_utils.py:223: UserWarning: Arguments other than a weight enum or `None` for 'weights' are deprecated since 0.13 and may be removed in the future. The current behavior is equivalent to passing `weights=ResNet18_Weights.IMAGENET1K_V1`. You can also use `weights=ResNet18_Weights.DEFAULT` to get the most up-to-date weights.\n",
      "  warnings.warn(msg)\n"
     ]
    },
    {
     "data": {
      "text/plain": [
       "torch.Size([18, 128])"
      ]
     },
     "execution_count": 9,
     "metadata": {},
     "output_type": "execute_result"
    }
   ],
   "source": [
    "ResNetFeatrueExtractor18()(torch.zeros(18,3,28,28)).shape"
   ]
  },
  {
   "cell_type": "code",
   "execution_count": 10,
   "id": "1d2af52d-f3cf-4fb5-9d46-01d52b7eecd5",
   "metadata": {
    "scrolled": true
   },
   "outputs": [],
   "source": [
    "### MNIST code originally from https://github.com/pytorch/examples/blob/master/mnist/main.py ###\n",
    "def train(model, loss_func,mining_func, device, train_loader, optimizer, epoch):\n",
    "    model.train()\n",
    "    train_losses = []\n",
    "    for batch_idx, (data, labels) in enumerate(train_loader):\n",
    "        data, labels = data.to(device), labels.to(device)\n",
    "        optimizer.zero_grad()\n",
    "        embeddings = model(data)\n",
    "        indices_tuple = mining_func(embeddings, labels)\n",
    "        loss = loss_func(embeddings, labels, indices_tuple)\n",
    "        loss.backward()\n",
    "        optimizer.step()\n",
    "        train_losses.append(loss)\n",
    "        if batch_idx % 100 == 0:\n",
    "            print(\"Epoch {} Iteration {}: Loss = {}\".format(epoch, batch_idx, loss))\n",
    "    return torch.mean(torch.tensor(train_losses)).item()\n",
    "    \n",
    "### convenient function from pytorch-metric-learning ###\n",
    "def get_all_embeddings(dataset, model):\n",
    "    tester = testers.BaseTester(dataloader_num_workers=0)\n",
    "    return tester.get_all_embeddings(dataset, model)\n",
    "\n",
    "### compute accuracy using AccuracyCalculator from pytorch-metric-learning ###\n",
    "def test(train_set, test_set, model, accuracy_calculator):\n",
    "    train_embeddings, train_labels = get_all_embeddings(train_set, model)\n",
    "    test_embeddings, test_labels = get_all_embeddings(test_set, model)\n",
    "    train_labels = train_labels.squeeze(1)\n",
    "    test_labels = test_labels.squeeze(1)\n",
    "    print(\"Computing accuracy\")\n",
    "    accuracies = accuracy_calculator.get_accuracy(\n",
    "        test_embeddings, test_labels, train_embeddings, train_labels, False\n",
    "    )\n",
    "    print(\"Test set accuracy (Precision@1) = {}\".format(accuracies[\"precision_at_1\"]))\n",
    "    return accuracies[\"precision_at_1\"]\n",
    "    \n",
    "device = torch.device(\"cuda\")\n",
    "\n",
    "mean = [0.485, 0.456, 0.406]\n",
    "std = [0.229, 0.224, 0.225]\n",
    "\n",
    "# create train and test transforms\n",
    "transform = transforms.Compose(\n",
    "    [\n",
    "        transforms.Resize((config['image_height'], config['image_width'])),\n",
    "        transforms.ToTensor(),\n",
    "        transforms.Normalize(mean, std),\n",
    "    ]\n",
    ")\n",
    "\n",
    "batch_size = 128"
   ]
  },
  {
   "cell_type": "code",
   "execution_count": 11,
   "id": "4edc54cc-56a9-4889-bc86-a2caef18b958",
   "metadata": {},
   "outputs": [],
   "source": [
    "with open('CUB_200_2011/classes.txt','r') as f:\n",
    "    classes = f.readlines()\n",
    "classes = [i.replace('\\n','') for i in classes]\n",
    "classes = [i.split(' ')[1] for i in classes]\n",
    "class_dict = {k:v for k,v in zip(classes,range(200))}"
   ]
  },
  {
   "cell_type": "code",
   "execution_count": 12,
   "id": "565c42ed-11e7-42f1-9bbc-6cc8b089816c",
   "metadata": {},
   "outputs": [],
   "source": [
    "image_paths = []\n",
    "labels = []\n",
    "for folder_path,i in class_dict.items():\n",
    "    folder_images = glob.glob('CUB_200_2011/images/'+'/'+str(folder_path)+'/*')\n",
    "    image_paths.extend(folder_images)\n",
    "    labels.extend([i]*len(folder_images))"
   ]
  },
  {
   "cell_type": "code",
   "execution_count": 13,
   "id": "e3ed0eff-8d29-481e-b7b3-ecd842781f12",
   "metadata": {},
   "outputs": [],
   "source": [
    "from sklearn.model_selection import train_test_split\n",
    "X_train, X_test, y_train, y_test = train_test_split(image_paths, labels, test_size=config['train_test_split'],\n",
    "                                                    stratify=labels,\n",
    "                                                    random_state=config['random_seed'])"
   ]
  },
  {
   "cell_type": "code",
   "execution_count": 14,
   "id": "373894a5-b193-433b-8c42-1d5ac082d312",
   "metadata": {},
   "outputs": [
    {
     "name": "stdout",
     "output_type": "stream",
     "text": [
      "9430 2358 9430 2358\n"
     ]
    }
   ],
   "source": [
    "print(len(X_train), len(X_test), len(y_train), len(y_test))"
   ]
  },
  {
   "cell_type": "code",
   "execution_count": 15,
   "id": "d85fde76-4b7a-4e4e-9207-51596442dc80",
   "metadata": {},
   "outputs": [],
   "source": [
    "import torch\n",
    "from torch.utils.data import Dataset, DataLoader\n",
    "import torchvision.transforms as transforms\n",
    "\n",
    "class CUBDataset(Dataset):\n",
    "    def __init__(self, image_paths,labels,transform=None):\n",
    "        self.image_paths = image_paths\n",
    "        self.labels = labels\n",
    "        self.transform = transform\n",
    "        self.load_image_from_paths()\n",
    "        \n",
    "    def load_image_from_paths(self):\n",
    "        self.images = []\n",
    "        for i in self.image_paths:\n",
    "            img = PIL.Image.open(i)\n",
    "            if len(img.getbands()) ==1 :\n",
    "                img = img.convert(\"RGB\")\n",
    "            self.images.append(img)\n",
    "            \n",
    "    def __len__(self):\n",
    "        return len(self.images)\n",
    "\n",
    "    def __getitem__(self, idx):\n",
    "        image = self.images[idx]\n",
    "        label = self.labels[idx]\n",
    "        if self.transform:\n",
    "            image = self.transform(image)\n",
    "        return image, label"
   ]
  },
  {
   "cell_type": "code",
   "execution_count": 16,
   "id": "27cbe2f3-e65f-4705-bc31-3b382ddd2e59",
   "metadata": {},
   "outputs": [],
   "source": [
    "train_dataset  = CUBDataset(X_train,y_train,transform)\n",
    "test_dataset  = CUBDataset(X_test,y_test,transform)\n",
    "train_loader = torch.utils.data.DataLoader(train_dataset, batch_size=128, shuffle=True)\n",
    "test_loader = torch.utils.data.DataLoader(test_dataset, batch_size=128, shuffle=False)"
   ]
  },
  {
   "cell_type": "code",
   "execution_count": 17,
   "id": "6f22dd74-3ef4-47d1-a43c-aecc01d59822",
   "metadata": {},
   "outputs": [
    {
     "name": "stderr",
     "output_type": "stream",
     "text": [
      "/opt/conda/lib/python3.10/site-packages/torchvision/models/_utils.py:208: UserWarning: The parameter 'pretrained' is deprecated since 0.13 and may be removed in the future, please use 'weights' instead.\n",
      "  warnings.warn(\n",
      "/opt/conda/lib/python3.10/site-packages/torchvision/models/_utils.py:223: UserWarning: Arguments other than a weight enum or `None` for 'weights' are deprecated since 0.13 and may be removed in the future. The current behavior is equivalent to passing `weights=ResNet18_Weights.IMAGENET1K_V1`. You can also use `weights=ResNet18_Weights.DEFAULT` to get the most up-to-date weights.\n",
      "  warnings.warn(msg)\n"
     ]
    }
   ],
   "source": [
    "model = ResNetFeatrueExtractor18(pretrained=True)\n",
    "model = model.to(device)\n",
    "optimizer = optim.Adam(model.parameters(), lr=config['learning_rate'])\n",
    "num_epochs = config['num_epochs']\n",
    "\n",
    "### pytorch-metric-learning stuff ###\n",
    "distance = distances.CosineSimilarity()\n",
    "reducer = reducers.MeanReducer()\n",
    "loss_func = losses.NTXentLoss(temperature=config['temperature'], distance=distance, reducer=reducer)\n",
    "mining_func = miners.BatchEasyHardMiner(pos_strategy=\"easy\",neg_strategy=\"semihard\")\n",
    "\n",
    "knn_func = CustomKNN(CosineSimilarity())\n",
    "accuracy_calculator = AccuracyCalculator(include=(\"precision_at_1\",),k=1,knn_func=knn_func,avg_of_avgs=True,return_per_class=False)"
   ]
  },
  {
   "cell_type": "code",
   "execution_count": 18,
   "id": "e5bb77dd-c3e8-42d8-8074-27b2210cdb77",
   "metadata": {
    "scrolled": true
   },
   "outputs": [
    {
     "name": "stdout",
     "output_type": "stream",
     "text": [
      "Epoch 1 Iteration 0: Loss = 0.6487637758255005\n"
     ]
    },
    {
     "name": "stderr",
     "output_type": "stream",
     "text": [
      "100%|█████████████████████████████████████████████████████████████████████████████████████████████████████| 295/295 [00:14<00:00, 20.90it/s]\n",
      "100%|███████████████████████████████████████████████████████████████████████████████████████████████████████| 74/74 [00:09<00:00,  7.67it/s]\n"
     ]
    },
    {
     "name": "stdout",
     "output_type": "stream",
     "text": [
      "Computing accuracy\n",
      "Test set accuracy (Precision@1) = 0.0531199494949495\n",
      "Epoch 2 Iteration 0: Loss = 0.6166460514068604\n"
     ]
    },
    {
     "name": "stderr",
     "output_type": "stream",
     "text": [
      "100%|█████████████████████████████████████████████████████████████████████████████████████████████████████| 295/295 [00:14<00:00, 20.87it/s]\n",
      "100%|███████████████████████████████████████████████████████████████████████████████████████████████████████| 74/74 [00:03<00:00, 20.81it/s]\n"
     ]
    },
    {
     "name": "stdout",
     "output_type": "stream",
     "text": [
      "Computing accuracy\n",
      "Test set accuracy (Precision@1) = 0.03431565656565656\n",
      "Epoch 3 Iteration 0: Loss = 0.6479020714759827\n"
     ]
    },
    {
     "name": "stderr",
     "output_type": "stream",
     "text": [
      "100%|█████████████████████████████████████████████████████████████████████████████████████████████████████| 295/295 [00:14<00:00, 20.74it/s]\n",
      "100%|███████████████████████████████████████████████████████████████████████████████████████████████████████| 74/74 [00:03<00:00, 21.01it/s]\n"
     ]
    },
    {
     "name": "stdout",
     "output_type": "stream",
     "text": [
      "Computing accuracy\n",
      "Test set accuracy (Precision@1) = 0.06375378787878788\n",
      "Epoch 4 Iteration 0: Loss = 0.6181637644767761\n"
     ]
    },
    {
     "name": "stderr",
     "output_type": "stream",
     "text": [
      "100%|█████████████████████████████████████████████████████████████████████████████████████████████████████| 295/295 [00:14<00:00, 20.43it/s]\n",
      "100%|███████████████████████████████████████████████████████████████████████████████████████████████████████| 74/74 [00:03<00:00, 19.71it/s]\n"
     ]
    },
    {
     "name": "stdout",
     "output_type": "stream",
     "text": [
      "Computing accuracy\n",
      "Test set accuracy (Precision@1) = 0.07841666666666666\n",
      "Epoch 5 Iteration 0: Loss = 0.627539336681366\n"
     ]
    },
    {
     "name": "stderr",
     "output_type": "stream",
     "text": [
      "100%|█████████████████████████████████████████████████████████████████████████████████████████████████████| 295/295 [00:14<00:00, 19.98it/s]\n",
      "100%|███████████████████████████████████████████████████████████████████████████████████████████████████████| 74/74 [00:03<00:00, 20.45it/s]\n"
     ]
    },
    {
     "name": "stdout",
     "output_type": "stream",
     "text": [
      "Computing accuracy\n",
      "Test set accuracy (Precision@1) = 0.08656818181818181\n",
      "Epoch 6 Iteration 0: Loss = 0.6015633940696716\n"
     ]
    },
    {
     "name": "stderr",
     "output_type": "stream",
     "text": [
      "100%|█████████████████████████████████████████████████████████████████████████████████████████████████████| 295/295 [00:14<00:00, 20.18it/s]\n",
      "100%|███████████████████████████████████████████████████████████████████████████████████████████████████████| 74/74 [00:03<00:00, 20.69it/s]\n"
     ]
    },
    {
     "name": "stdout",
     "output_type": "stream",
     "text": [
      "Computing accuracy\n",
      "Test set accuracy (Precision@1) = 0.11041287878787878\n",
      "Epoch 7 Iteration 0: Loss = 0.5956256985664368\n"
     ]
    },
    {
     "name": "stderr",
     "output_type": "stream",
     "text": [
      "100%|█████████████████████████████████████████████████████████████████████████████████████████████████████| 295/295 [00:14<00:00, 19.73it/s]\n",
      "100%|███████████████████████████████████████████████████████████████████████████████████████████████████████| 74/74 [00:03<00:00, 19.26it/s]\n"
     ]
    },
    {
     "name": "stdout",
     "output_type": "stream",
     "text": [
      "Computing accuracy\n",
      "Test set accuracy (Precision@1) = 0.11167171717171716\n",
      "Epoch 8 Iteration 0: Loss = 0.6168802380561829\n"
     ]
    },
    {
     "name": "stderr",
     "output_type": "stream",
     "text": [
      "100%|█████████████████████████████████████████████████████████████████████████████████████████████████████| 295/295 [00:15<00:00, 19.49it/s]\n",
      "100%|███████████████████████████████████████████████████████████████████████████████████████████████████████| 74/74 [00:03<00:00, 19.39it/s]\n"
     ]
    },
    {
     "name": "stdout",
     "output_type": "stream",
     "text": [
      "Computing accuracy\n",
      "Test set accuracy (Precision@1) = 0.12533459595959595\n",
      "Epoch 9 Iteration 0: Loss = 0.5861194729804993\n"
     ]
    },
    {
     "name": "stderr",
     "output_type": "stream",
     "text": [
      "100%|█████████████████████████████████████████████████████████████████████████████████████████████████████| 295/295 [00:15<00:00, 19.40it/s]\n",
      "100%|███████████████████████████████████████████████████████████████████████████████████████████████████████| 74/74 [00:03<00:00, 19.42it/s]\n"
     ]
    },
    {
     "name": "stdout",
     "output_type": "stream",
     "text": [
      "Computing accuracy\n",
      "Test set accuracy (Precision@1) = 0.13617424242424242\n",
      "Epoch 10 Iteration 0: Loss = 0.5978874564170837\n"
     ]
    },
    {
     "name": "stderr",
     "output_type": "stream",
     "text": [
      "100%|█████████████████████████████████████████████████████████████████████████████████████████████████████| 295/295 [00:15<00:00, 19.28it/s]\n",
      "100%|███████████████████████████████████████████████████████████████████████████████████████████████████████| 74/74 [00:03<00:00, 19.22it/s]\n"
     ]
    },
    {
     "name": "stdout",
     "output_type": "stream",
     "text": [
      "Computing accuracy\n",
      "Test set accuracy (Precision@1) = 0.15827651515151517\n",
      "Epoch 11 Iteration 0: Loss = 0.5664879679679871\n"
     ]
    },
    {
     "name": "stderr",
     "output_type": "stream",
     "text": [
      "100%|█████████████████████████████████████████████████████████████████████████████████████████████████████| 295/295 [00:15<00:00, 19.07it/s]\n",
      "100%|███████████████████████████████████████████████████████████████████████████████████████████████████████| 74/74 [00:03<00:00, 19.24it/s]\n"
     ]
    },
    {
     "name": "stdout",
     "output_type": "stream",
     "text": [
      "Computing accuracy\n",
      "Test set accuracy (Precision@1) = 0.14735984848484848\n",
      "Epoch 12 Iteration 0: Loss = 0.5718938708305359\n"
     ]
    },
    {
     "name": "stderr",
     "output_type": "stream",
     "text": [
      "100%|█████████████████████████████████████████████████████████████████████████████████████████████████████| 295/295 [00:15<00:00, 19.19it/s]\n",
      "100%|███████████████████████████████████████████████████████████████████████████████████████████████████████| 74/74 [00:03<00:00, 19.35it/s]\n"
     ]
    },
    {
     "name": "stdout",
     "output_type": "stream",
     "text": [
      "Computing accuracy\n",
      "Test set accuracy (Precision@1) = 0.16967424242424245\n",
      "Epoch 13 Iteration 0: Loss = 0.5873949527740479\n"
     ]
    },
    {
     "name": "stderr",
     "output_type": "stream",
     "text": [
      "100%|█████████████████████████████████████████████████████████████████████████████████████████████████████| 295/295 [00:15<00:00, 19.48it/s]\n",
      "100%|███████████████████████████████████████████████████████████████████████████████████████████████████████| 74/74 [00:03<00:00, 19.25it/s]\n"
     ]
    },
    {
     "name": "stdout",
     "output_type": "stream",
     "text": [
      "Computing accuracy\n",
      "Test set accuracy (Precision@1) = 0.147229797979798\n",
      "Epoch 14 Iteration 0: Loss = 0.5690031051635742\n"
     ]
    },
    {
     "name": "stderr",
     "output_type": "stream",
     "text": [
      "100%|█████████████████████████████████████████████████████████████████████████████████████████████████████| 295/295 [00:15<00:00, 19.25it/s]\n",
      "100%|███████████████████████████████████████████████████████████████████████████████████████████████████████| 74/74 [00:03<00:00, 19.07it/s]\n"
     ]
    },
    {
     "name": "stdout",
     "output_type": "stream",
     "text": [
      "Computing accuracy\n",
      "Test set accuracy (Precision@1) = 0.18244444444444444\n",
      "Epoch 15 Iteration 0: Loss = 0.5828560590744019\n"
     ]
    },
    {
     "name": "stderr",
     "output_type": "stream",
     "text": [
      "100%|█████████████████████████████████████████████████████████████████████████████████████████████████████| 295/295 [00:15<00:00, 19.08it/s]\n",
      "100%|███████████████████████████████████████████████████████████████████████████████████████████████████████| 74/74 [00:03<00:00, 19.12it/s]\n"
     ]
    },
    {
     "name": "stdout",
     "output_type": "stream",
     "text": [
      "Computing accuracy\n",
      "Test set accuracy (Precision@1) = 0.18175505050505047\n",
      "Epoch 16 Iteration 0: Loss = 0.5762239098548889\n"
     ]
    },
    {
     "name": "stderr",
     "output_type": "stream",
     "text": [
      "100%|█████████████████████████████████████████████████████████████████████████████████████████████████████| 295/295 [00:14<00:00, 20.24it/s]\n",
      "100%|███████████████████████████████████████████████████████████████████████████████████████████████████████| 74/74 [00:03<00:00, 20.42it/s]\n"
     ]
    },
    {
     "name": "stdout",
     "output_type": "stream",
     "text": [
      "Computing accuracy\n",
      "Test set accuracy (Precision@1) = 0.21103661616161618\n",
      "Epoch 17 Iteration 0: Loss = 0.5492751598358154\n"
     ]
    },
    {
     "name": "stderr",
     "output_type": "stream",
     "text": [
      "100%|█████████████████████████████████████████████████████████████████████████████████████████████████████| 295/295 [00:14<00:00, 20.34it/s]\n",
      "100%|███████████████████████████████████████████████████████████████████████████████████████████████████████| 74/74 [00:03<00:00, 20.50it/s]\n"
     ]
    },
    {
     "name": "stdout",
     "output_type": "stream",
     "text": [
      "Computing accuracy\n",
      "Test set accuracy (Precision@1) = 0.2237739898989899\n",
      "Epoch 18 Iteration 0: Loss = 0.5458904504776001\n"
     ]
    },
    {
     "name": "stderr",
     "output_type": "stream",
     "text": [
      "100%|█████████████████████████████████████████████████████████████████████████████████████████████████████| 295/295 [00:14<00:00, 20.32it/s]\n",
      "100%|███████████████████████████████████████████████████████████████████████████████████████████████████████| 74/74 [00:03<00:00, 20.39it/s]\n"
     ]
    },
    {
     "name": "stdout",
     "output_type": "stream",
     "text": [
      "Computing accuracy\n",
      "Test set accuracy (Precision@1) = 0.2314962121212121\n",
      "Epoch 19 Iteration 0: Loss = 0.5467981100082397\n"
     ]
    },
    {
     "name": "stderr",
     "output_type": "stream",
     "text": [
      "100%|█████████████████████████████████████████████████████████████████████████████████████████████████████| 295/295 [00:14<00:00, 20.33it/s]\n",
      "100%|███████████████████████████████████████████████████████████████████████████████████████████████████████| 74/74 [00:03<00:00, 20.44it/s]\n"
     ]
    },
    {
     "name": "stdout",
     "output_type": "stream",
     "text": [
      "Computing accuracy\n",
      "Test set accuracy (Precision@1) = 0.23027525252525252\n",
      "Epoch 20 Iteration 0: Loss = 0.5358961820602417\n"
     ]
    },
    {
     "name": "stderr",
     "output_type": "stream",
     "text": [
      "100%|█████████████████████████████████████████████████████████████████████████████████████████████████████| 295/295 [00:14<00:00, 20.15it/s]\n",
      "100%|███████████████████████████████████████████████████████████████████████████████████████████████████████| 74/74 [00:03<00:00, 20.45it/s]\n"
     ]
    },
    {
     "name": "stdout",
     "output_type": "stream",
     "text": [
      "Computing accuracy\n",
      "Test set accuracy (Precision@1) = 0.22243434343434346\n",
      "Epoch 21 Iteration 0: Loss = 0.5696062445640564\n"
     ]
    },
    {
     "name": "stderr",
     "output_type": "stream",
     "text": [
      "100%|█████████████████████████████████████████████████████████████████████████████████████████████████████| 295/295 [00:14<00:00, 20.27it/s]\n",
      "100%|███████████████████████████████████████████████████████████████████████████████████████████████████████| 74/74 [00:03<00:00, 20.33it/s]\n"
     ]
    },
    {
     "name": "stdout",
     "output_type": "stream",
     "text": [
      "Computing accuracy\n",
      "Test set accuracy (Precision@1) = 0.24829040404040406\n",
      "Epoch 22 Iteration 0: Loss = 0.5072461366653442\n"
     ]
    },
    {
     "name": "stderr",
     "output_type": "stream",
     "text": [
      "100%|█████████████████████████████████████████████████████████████████████████████████████████████████████| 295/295 [00:14<00:00, 20.27it/s]\n",
      "100%|███████████████████████████████████████████████████████████████████████████████████████████████████████| 74/74 [00:03<00:00, 20.40it/s]\n"
     ]
    },
    {
     "name": "stdout",
     "output_type": "stream",
     "text": [
      "Computing accuracy\n",
      "Test set accuracy (Precision@1) = 0.24183712121212123\n",
      "Epoch 23 Iteration 0: Loss = 0.5153710842132568\n"
     ]
    },
    {
     "name": "stderr",
     "output_type": "stream",
     "text": [
      "100%|█████████████████████████████████████████████████████████████████████████████████████████████████████| 295/295 [00:14<00:00, 20.29it/s]\n",
      "100%|███████████████████████████████████████████████████████████████████████████████████████████████████████| 74/74 [00:03<00:00, 20.02it/s]\n"
     ]
    },
    {
     "name": "stdout",
     "output_type": "stream",
     "text": [
      "Computing accuracy\n",
      "Test set accuracy (Precision@1) = 0.24904924242424245\n",
      "Epoch 24 Iteration 0: Loss = 0.527056872844696\n"
     ]
    },
    {
     "name": "stderr",
     "output_type": "stream",
     "text": [
      "100%|█████████████████████████████████████████████████████████████████████████████████████████████████████| 295/295 [00:14<00:00, 20.13it/s]\n",
      "100%|███████████████████████████████████████████████████████████████████████████████████████████████████████| 74/74 [00:03<00:00, 20.08it/s]\n"
     ]
    },
    {
     "name": "stdout",
     "output_type": "stream",
     "text": [
      "Computing accuracy\n",
      "Test set accuracy (Precision@1) = 0.2847222222222222\n",
      "Epoch 25 Iteration 0: Loss = 0.48765015602111816\n"
     ]
    },
    {
     "name": "stderr",
     "output_type": "stream",
     "text": [
      "100%|█████████████████████████████████████████████████████████████████████████████████████████████████████| 295/295 [00:14<00:00, 20.34it/s]\n",
      "100%|███████████████████████████████████████████████████████████████████████████████████████████████████████| 74/74 [00:03<00:00, 20.15it/s]\n"
     ]
    },
    {
     "name": "stdout",
     "output_type": "stream",
     "text": [
      "Computing accuracy\n",
      "Test set accuracy (Precision@1) = 0.2672121212121212\n",
      "Epoch 26 Iteration 0: Loss = 0.45521706342697144\n"
     ]
    },
    {
     "name": "stderr",
     "output_type": "stream",
     "text": [
      "100%|█████████████████████████████████████████████████████████████████████████████████████████████████████| 295/295 [00:14<00:00, 20.18it/s]\n",
      "100%|███████████████████████████████████████████████████████████████████████████████████████████████████████| 74/74 [00:03<00:00, 20.14it/s]\n"
     ]
    },
    {
     "name": "stdout",
     "output_type": "stream",
     "text": [
      "Computing accuracy\n",
      "Test set accuracy (Precision@1) = 0.295834595959596\n",
      "Epoch 27 Iteration 0: Loss = 0.47102928161621094\n"
     ]
    },
    {
     "name": "stderr",
     "output_type": "stream",
     "text": [
      "100%|█████████████████████████████████████████████████████████████████████████████████████████████████████| 295/295 [00:14<00:00, 20.26it/s]\n",
      "100%|███████████████████████████████████████████████████████████████████████████████████████████████████████| 74/74 [00:03<00:00, 20.24it/s]\n"
     ]
    },
    {
     "name": "stdout",
     "output_type": "stream",
     "text": [
      "Computing accuracy\n",
      "Test set accuracy (Precision@1) = 0.2870037878787879\n",
      "Epoch 28 Iteration 0: Loss = 0.49093103408813477\n"
     ]
    },
    {
     "name": "stderr",
     "output_type": "stream",
     "text": [
      "100%|█████████████████████████████████████████████████████████████████████████████████████████████████████| 295/295 [00:14<00:00, 20.18it/s]\n",
      "100%|███████████████████████████████████████████████████████████████████████████████████████████████████████| 74/74 [00:03<00:00, 20.39it/s]\n"
     ]
    },
    {
     "name": "stdout",
     "output_type": "stream",
     "text": [
      "Computing accuracy\n",
      "Test set accuracy (Precision@1) = 0.2922449494949495\n",
      "Epoch 29 Iteration 0: Loss = 0.5034595131874084\n"
     ]
    },
    {
     "name": "stderr",
     "output_type": "stream",
     "text": [
      "100%|█████████████████████████████████████████████████████████████████████████████████████████████████████| 295/295 [00:14<00:00, 20.73it/s]\n",
      "100%|███████████████████████████████████████████████████████████████████████████████████████████████████████| 74/74 [00:03<00:00, 20.79it/s]\n"
     ]
    },
    {
     "name": "stdout",
     "output_type": "stream",
     "text": [
      "Computing accuracy\n",
      "Test set accuracy (Precision@1) = 0.31128409090909087\n",
      "Epoch 30 Iteration 0: Loss = 0.4463542401790619\n"
     ]
    },
    {
     "name": "stderr",
     "output_type": "stream",
     "text": [
      "100%|█████████████████████████████████████████████████████████████████████████████████████████████████████| 295/295 [00:14<00:00, 20.81it/s]\n",
      "100%|███████████████████████████████████████████████████████████████████████████████████████████████████████| 74/74 [00:03<00:00, 20.74it/s]\n"
     ]
    },
    {
     "name": "stdout",
     "output_type": "stream",
     "text": [
      "Computing accuracy\n",
      "Test set accuracy (Precision@1) = 0.3285530303030303\n",
      "Epoch 31 Iteration 0: Loss = 0.42819884419441223\n"
     ]
    },
    {
     "name": "stderr",
     "output_type": "stream",
     "text": [
      "100%|█████████████████████████████████████████████████████████████████████████████████████████████████████| 295/295 [00:14<00:00, 20.08it/s]\n",
      "100%|███████████████████████████████████████████████████████████████████████████████████████████████████████| 74/74 [00:03<00:00, 20.14it/s]\n"
     ]
    },
    {
     "name": "stdout",
     "output_type": "stream",
     "text": [
      "Computing accuracy\n",
      "Test set accuracy (Precision@1) = 0.3139659090909091\n",
      "Epoch 32 Iteration 0: Loss = 0.43089666962623596\n"
     ]
    },
    {
     "name": "stderr",
     "output_type": "stream",
     "text": [
      "100%|█████████████████████████████████████████████████████████████████████████████████████████████████████| 295/295 [00:14<00:00, 20.20it/s]\n",
      "100%|███████████████████████████████████████████████████████████████████████████████████████████████████████| 74/74 [00:03<00:00, 20.09it/s]\n"
     ]
    },
    {
     "name": "stdout",
     "output_type": "stream",
     "text": [
      "Computing accuracy\n",
      "Test set accuracy (Precision@1) = 0.31329671717171714\n",
      "Epoch 33 Iteration 0: Loss = 0.4895969033241272\n"
     ]
    },
    {
     "name": "stderr",
     "output_type": "stream",
     "text": [
      "100%|█████████████████████████████████████████████████████████████████████████████████████████████████████| 295/295 [00:14<00:00, 20.35it/s]\n",
      "100%|███████████████████████████████████████████████████████████████████████████████████████████████████████| 74/74 [00:03<00:00, 20.27it/s]\n"
     ]
    },
    {
     "name": "stdout",
     "output_type": "stream",
     "text": [
      "Computing accuracy\n",
      "Test set accuracy (Precision@1) = 0.3282449494949495\n",
      "Epoch 34 Iteration 0: Loss = 0.44033631682395935\n"
     ]
    },
    {
     "name": "stderr",
     "output_type": "stream",
     "text": [
      "100%|█████████████████████████████████████████████████████████████████████████████████████████████████████| 295/295 [00:14<00:00, 20.44it/s]\n",
      "100%|███████████████████████████████████████████████████████████████████████████████████████████████████████| 74/74 [00:03<00:00, 20.70it/s]\n"
     ]
    },
    {
     "name": "stdout",
     "output_type": "stream",
     "text": [
      "Computing accuracy\n",
      "Test set accuracy (Precision@1) = 0.3400555555555556\n",
      "Epoch 35 Iteration 0: Loss = 0.3864825665950775\n"
     ]
    },
    {
     "name": "stderr",
     "output_type": "stream",
     "text": [
      "100%|█████████████████████████████████████████████████████████████████████████████████████████████████████| 295/295 [00:14<00:00, 20.54it/s]\n",
      "100%|███████████████████████████████████████████████████████████████████████████████████████████████████████| 74/74 [00:03<00:00, 20.54it/s]\n"
     ]
    },
    {
     "name": "stdout",
     "output_type": "stream",
     "text": [
      "Computing accuracy\n",
      "Test set accuracy (Precision@1) = 0.35188257575757576\n",
      "Epoch 36 Iteration 0: Loss = 0.4319697916507721\n"
     ]
    },
    {
     "name": "stderr",
     "output_type": "stream",
     "text": [
      "100%|█████████████████████████████████████████████████████████████████████████████████████████████████████| 295/295 [00:14<00:00, 20.45it/s]\n",
      "100%|███████████████████████████████████████████████████████████████████████████████████████████████████████| 74/74 [00:03<00:00, 20.58it/s]\n"
     ]
    },
    {
     "name": "stdout",
     "output_type": "stream",
     "text": [
      "Computing accuracy\n",
      "Test set accuracy (Precision@1) = 0.3501729797979798\n",
      "Epoch 37 Iteration 0: Loss = 0.4269693195819855\n"
     ]
    },
    {
     "name": "stderr",
     "output_type": "stream",
     "text": [
      "100%|█████████████████████████████████████████████████████████████████████████████████████████████████████| 295/295 [00:14<00:00, 20.47it/s]\n",
      "100%|███████████████████████████████████████████████████████████████████████████████████████████████████████| 74/74 [00:03<00:00, 20.39it/s]\n"
     ]
    },
    {
     "name": "stdout",
     "output_type": "stream",
     "text": [
      "Computing accuracy\n",
      "Test set accuracy (Precision@1) = 0.3598686868686869\n",
      "Epoch 38 Iteration 0: Loss = 0.465170681476593\n"
     ]
    },
    {
     "name": "stderr",
     "output_type": "stream",
     "text": [
      "100%|█████████████████████████████████████████████████████████████████████████████████████████████████████| 295/295 [00:14<00:00, 20.37it/s]\n",
      "100%|███████████████████████████████████████████████████████████████████████████████████████████████████████| 74/74 [00:03<00:00, 20.45it/s]\n"
     ]
    },
    {
     "name": "stdout",
     "output_type": "stream",
     "text": [
      "Computing accuracy\n",
      "Test set accuracy (Precision@1) = 0.3512272727272728\n",
      "Epoch 39 Iteration 0: Loss = 0.4445085823535919\n"
     ]
    },
    {
     "name": "stderr",
     "output_type": "stream",
     "text": [
      "100%|█████████████████████████████████████████████████████████████████████████████████████████████████████| 295/295 [00:14<00:00, 20.45it/s]\n",
      "100%|███████████████████████████████████████████████████████████████████████████████████████████████████████| 74/74 [00:03<00:00, 20.07it/s]\n"
     ]
    },
    {
     "name": "stdout",
     "output_type": "stream",
     "text": [
      "Computing accuracy\n",
      "Test set accuracy (Precision@1) = 0.3475441919191919\n",
      "Epoch 40 Iteration 0: Loss = 0.38491085171699524\n"
     ]
    },
    {
     "name": "stderr",
     "output_type": "stream",
     "text": [
      "100%|█████████████████████████████████████████████████████████████████████████████████████████████████████| 295/295 [00:14<00:00, 20.39it/s]\n",
      "100%|███████████████████████████████████████████████████████████████████████████████████████████████████████| 74/74 [00:03<00:00, 20.37it/s]\n"
     ]
    },
    {
     "name": "stdout",
     "output_type": "stream",
     "text": [
      "Computing accuracy\n",
      "Test set accuracy (Precision@1) = 0.3518358585858586\n",
      "Epoch 41 Iteration 0: Loss = 0.4363737404346466\n"
     ]
    },
    {
     "name": "stderr",
     "output_type": "stream",
     "text": [
      "100%|█████████████████████████████████████████████████████████████████████████████████████████████████████| 295/295 [00:14<00:00, 20.60it/s]\n",
      "100%|███████████████████████████████████████████████████████████████████████████████████████████████████████| 74/74 [00:03<00:00, 20.57it/s]\n"
     ]
    },
    {
     "name": "stdout",
     "output_type": "stream",
     "text": [
      "Computing accuracy\n",
      "Test set accuracy (Precision@1) = 0.3698320707070707\n",
      "Epoch 42 Iteration 0: Loss = 0.3982783257961273\n"
     ]
    },
    {
     "name": "stderr",
     "output_type": "stream",
     "text": [
      "100%|█████████████████████████████████████████████████████████████████████████████████████████████████████| 295/295 [00:14<00:00, 20.46it/s]\n",
      "100%|███████████████████████████████████████████████████████████████████████████████████████████████████████| 74/74 [00:03<00:00, 20.45it/s]\n"
     ]
    },
    {
     "name": "stdout",
     "output_type": "stream",
     "text": [
      "Computing accuracy\n",
      "Test set accuracy (Precision@1) = 0.3842411616161616\n",
      "Epoch 43 Iteration 0: Loss = 0.3795619606971741\n"
     ]
    },
    {
     "name": "stderr",
     "output_type": "stream",
     "text": [
      "100%|█████████████████████████████████████████████████████████████████████████████████████████████████████| 295/295 [00:14<00:00, 20.40it/s]\n",
      "100%|███████████████████████████████████████████████████████████████████████████████████████████████████████| 74/74 [00:03<00:00, 20.60it/s]\n"
     ]
    },
    {
     "name": "stdout",
     "output_type": "stream",
     "text": [
      "Computing accuracy\n",
      "Test set accuracy (Precision@1) = 0.3959785353535354\n",
      "Epoch 44 Iteration 0: Loss = 0.3952079117298126\n"
     ]
    },
    {
     "name": "stderr",
     "output_type": "stream",
     "text": [
      "100%|█████████████████████████████████████████████████████████████████████████████████████████████████████| 295/295 [00:14<00:00, 20.42it/s]\n",
      "100%|███████████████████████████████████████████████████████████████████████████████████████████████████████| 74/74 [00:03<00:00, 20.47it/s]\n"
     ]
    },
    {
     "name": "stdout",
     "output_type": "stream",
     "text": [
      "Computing accuracy\n",
      "Test set accuracy (Precision@1) = 0.38782954545454545\n",
      "Epoch 45 Iteration 0: Loss = 0.33658739924430847\n"
     ]
    },
    {
     "name": "stderr",
     "output_type": "stream",
     "text": [
      "100%|█████████████████████████████████████████████████████████████████████████████████████████████████████| 295/295 [00:14<00:00, 20.53it/s]\n",
      "100%|███████████████████████████████████████████████████████████████████████████████████████████████████████| 74/74 [00:03<00:00, 20.48it/s]\n"
     ]
    },
    {
     "name": "stdout",
     "output_type": "stream",
     "text": [
      "Computing accuracy\n",
      "Test set accuracy (Precision@1) = 0.39529924242424247\n",
      "Epoch 46 Iteration 0: Loss = 0.32117408514022827\n"
     ]
    },
    {
     "name": "stderr",
     "output_type": "stream",
     "text": [
      "100%|█████████████████████████████████████████████████████████████████████████████████████████████████████| 295/295 [00:14<00:00, 20.43it/s]\n",
      "100%|███████████████████████████████████████████████████████████████████████████████████████████████████████| 74/74 [00:03<00:00, 20.57it/s]\n"
     ]
    },
    {
     "name": "stdout",
     "output_type": "stream",
     "text": [
      "Computing accuracy\n",
      "Test set accuracy (Precision@1) = 0.39797853535353533\n",
      "Epoch 47 Iteration 0: Loss = 0.3725460469722748\n"
     ]
    },
    {
     "name": "stderr",
     "output_type": "stream",
     "text": [
      "100%|█████████████████████████████████████████████████████████████████████████████████████████████████████| 295/295 [00:14<00:00, 20.27it/s]\n",
      "100%|███████████████████████████████████████████████████████████████████████████████████████████████████████| 74/74 [00:03<00:00, 20.26it/s]\n"
     ]
    },
    {
     "name": "stdout",
     "output_type": "stream",
     "text": [
      "Computing accuracy\n",
      "Test set accuracy (Precision@1) = 0.3965681818181818\n",
      "Epoch 48 Iteration 0: Loss = 0.3706260919570923\n"
     ]
    },
    {
     "name": "stderr",
     "output_type": "stream",
     "text": [
      "100%|█████████████████████████████████████████████████████████████████████████████████████████████████████| 295/295 [00:14<00:00, 20.39it/s]\n",
      "100%|███████████████████████████████████████████████████████████████████████████████████████████████████████| 74/74 [00:03<00:00, 20.41it/s]\n"
     ]
    },
    {
     "name": "stdout",
     "output_type": "stream",
     "text": [
      "Computing accuracy\n",
      "Test set accuracy (Precision@1) = 0.41817803030303036\n",
      "Epoch 49 Iteration 0: Loss = 0.3475165069103241\n"
     ]
    },
    {
     "name": "stderr",
     "output_type": "stream",
     "text": [
      "100%|█████████████████████████████████████████████████████████████████████████████████████████████████████| 295/295 [00:13<00:00, 21.11it/s]\n",
      "100%|███████████████████████████████████████████████████████████████████████████████████████████████████████| 74/74 [00:03<00:00, 20.48it/s]\n"
     ]
    },
    {
     "name": "stdout",
     "output_type": "stream",
     "text": [
      "Computing accuracy\n",
      "Test set accuracy (Precision@1) = 0.4107234848484849\n",
      "Epoch 50 Iteration 0: Loss = 0.3086029887199402\n"
     ]
    },
    {
     "name": "stderr",
     "output_type": "stream",
     "text": [
      "100%|█████████████████████████████████████████████████████████████████████████████████████████████████████| 295/295 [00:14<00:00, 20.30it/s]\n",
      "100%|███████████████████████████████████████████████████████████████████████████████████████████████████████| 74/74 [00:03<00:00, 20.44it/s]\n"
     ]
    },
    {
     "name": "stdout",
     "output_type": "stream",
     "text": [
      "Computing accuracy\n",
      "Test set accuracy (Precision@1) = 0.4139936868686869\n",
      "Epoch 51 Iteration 0: Loss = 0.3287607431411743\n"
     ]
    },
    {
     "name": "stderr",
     "output_type": "stream",
     "text": [
      "100%|█████████████████████████████████████████████████████████████████████████████████████████████████████| 295/295 [00:14<00:00, 20.52it/s]\n",
      "100%|███████████████████████████████████████████████████████████████████████████████████████████████████████| 74/74 [00:03<00:00, 20.54it/s]\n"
     ]
    },
    {
     "name": "stdout",
     "output_type": "stream",
     "text": [
      "Computing accuracy\n",
      "Test set accuracy (Precision@1) = 0.41145707070707077\n",
      "Epoch 52 Iteration 0: Loss = 0.335784912109375\n"
     ]
    },
    {
     "name": "stderr",
     "output_type": "stream",
     "text": [
      "100%|█████████████████████████████████████████████████████████████████████████████████████████████████████| 295/295 [00:14<00:00, 20.36it/s]\n",
      "100%|███████████████████████████████████████████████████████████████████████████████████████████████████████| 74/74 [00:03<00:00, 20.42it/s]\n"
     ]
    },
    {
     "name": "stdout",
     "output_type": "stream",
     "text": [
      "Computing accuracy\n",
      "Test set accuracy (Precision@1) = 0.4093661616161617\n",
      "Epoch 53 Iteration 0: Loss = 0.30638521909713745\n"
     ]
    },
    {
     "name": "stderr",
     "output_type": "stream",
     "text": [
      "100%|█████████████████████████████████████████████████████████████████████████████████████████████████████| 295/295 [00:14<00:00, 20.42it/s]\n",
      "100%|███████████████████████████████████████████████████████████████████████████████████████████████████████| 74/74 [00:03<00:00, 20.45it/s]\n"
     ]
    },
    {
     "name": "stdout",
     "output_type": "stream",
     "text": [
      "Computing accuracy\n",
      "Test set accuracy (Precision@1) = 0.42115151515151517\n",
      "Epoch 54 Iteration 0: Loss = 0.2717404067516327\n"
     ]
    },
    {
     "name": "stderr",
     "output_type": "stream",
     "text": [
      "100%|█████████████████████████████████████████████████████████████████████████████████████████████████████| 295/295 [00:14<00:00, 20.46it/s]\n",
      "100%|███████████████████████████████████████████████████████████████████████████████████████████████████████| 74/74 [00:03<00:00, 20.51it/s]\n"
     ]
    },
    {
     "name": "stdout",
     "output_type": "stream",
     "text": [
      "Computing accuracy\n",
      "Test set accuracy (Precision@1) = 0.42514267676767675\n",
      "Epoch 55 Iteration 0: Loss = 0.2760752737522125\n"
     ]
    },
    {
     "name": "stderr",
     "output_type": "stream",
     "text": [
      "100%|█████████████████████████████████████████████████████████████████████████████████████████████████████| 295/295 [00:14<00:00, 20.44it/s]\n",
      "100%|███████████████████████████████████████████████████████████████████████████████████████████████████████| 74/74 [00:03<00:00, 20.54it/s]\n"
     ]
    },
    {
     "name": "stdout",
     "output_type": "stream",
     "text": [
      "Computing accuracy\n",
      "Test set accuracy (Precision@1) = 0.4154659090909091\n",
      "Epoch 56 Iteration 0: Loss = 0.26878949999809265\n"
     ]
    },
    {
     "name": "stderr",
     "output_type": "stream",
     "text": [
      "100%|█████████████████████████████████████████████████████████████████████████████████████████████████████| 295/295 [00:14<00:00, 20.54it/s]\n",
      "100%|███████████████████████████████████████████████████████████████████████████████████████████████████████| 74/74 [00:03<00:00, 20.50it/s]\n"
     ]
    },
    {
     "name": "stdout",
     "output_type": "stream",
     "text": [
      "Computing accuracy\n",
      "Test set accuracy (Precision@1) = 0.4214583333333334\n",
      "Epoch 57 Iteration 0: Loss = 0.264421671628952\n"
     ]
    },
    {
     "name": "stderr",
     "output_type": "stream",
     "text": [
      "100%|█████████████████████████████████████████████████████████████████████████████████████████████████████| 295/295 [00:14<00:00, 20.49it/s]\n",
      "100%|███████████████████████████████████████████████████████████████████████████████████████████████████████| 74/74 [00:03<00:00, 20.43it/s]\n"
     ]
    },
    {
     "name": "stdout",
     "output_type": "stream",
     "text": [
      "Computing accuracy\n",
      "Test set accuracy (Precision@1) = 0.43533080808080804\n",
      "Epoch 58 Iteration 0: Loss = 0.25105857849121094\n"
     ]
    },
    {
     "name": "stderr",
     "output_type": "stream",
     "text": [
      "100%|█████████████████████████████████████████████████████████████████████████████████████████████████████| 295/295 [00:14<00:00, 20.51it/s]\n",
      "100%|███████████████████████████████████████████████████████████████████████████████████████████████████████| 74/74 [00:03<00:00, 20.56it/s]\n"
     ]
    },
    {
     "name": "stdout",
     "output_type": "stream",
     "text": [
      "Computing accuracy\n",
      "Test set accuracy (Precision@1) = 0.4479785353535354\n",
      "Epoch 59 Iteration 0: Loss = 0.28948527574539185\n"
     ]
    },
    {
     "name": "stderr",
     "output_type": "stream",
     "text": [
      "100%|█████████████████████████████████████████████████████████████████████████████████████████████████████| 295/295 [00:14<00:00, 20.48it/s]\n",
      "100%|███████████████████████████████████████████████████████████████████████████████████████████████████████| 74/74 [00:03<00:00, 20.46it/s]\n"
     ]
    },
    {
     "name": "stdout",
     "output_type": "stream",
     "text": [
      "Computing accuracy\n",
      "Test set accuracy (Precision@1) = 0.42291666666666666\n",
      "Epoch 60 Iteration 0: Loss = 0.2725861966609955\n"
     ]
    },
    {
     "name": "stderr",
     "output_type": "stream",
     "text": [
      "100%|█████████████████████████████████████████████████████████████████████████████████████████████████████| 295/295 [00:14<00:00, 20.48it/s]\n",
      "100%|███████████████████████████████████████████████████████████████████████████████████████████████████████| 74/74 [00:03<00:00, 20.56it/s]\n"
     ]
    },
    {
     "name": "stdout",
     "output_type": "stream",
     "text": [
      "Computing accuracy\n",
      "Test set accuracy (Precision@1) = 0.45438131313131314\n",
      "Epoch 61 Iteration 0: Loss = 0.22019046545028687\n"
     ]
    },
    {
     "name": "stderr",
     "output_type": "stream",
     "text": [
      "100%|█████████████████████████████████████████████████████████████████████████████████████████████████████| 295/295 [00:14<00:00, 20.38it/s]\n",
      "100%|███████████████████████████████████████████████████████████████████████████████████████████████████████| 74/74 [00:03<00:00, 20.41it/s]\n"
     ]
    },
    {
     "name": "stdout",
     "output_type": "stream",
     "text": [
      "Computing accuracy\n",
      "Test set accuracy (Precision@1) = 0.45082070707070715\n",
      "Epoch 62 Iteration 0: Loss = 0.2581247389316559\n"
     ]
    },
    {
     "name": "stderr",
     "output_type": "stream",
     "text": [
      "100%|█████████████████████████████████████████████████████████████████████████████████████████████████████| 295/295 [00:14<00:00, 20.57it/s]\n",
      "100%|███████████████████████████████████████████████████████████████████████████████████████████████████████| 74/74 [00:03<00:00, 20.61it/s]\n"
     ]
    },
    {
     "name": "stdout",
     "output_type": "stream",
     "text": [
      "Computing accuracy\n",
      "Test set accuracy (Precision@1) = 0.4360517676767677\n",
      "Epoch 63 Iteration 0: Loss = 0.21412281692028046\n"
     ]
    },
    {
     "name": "stderr",
     "output_type": "stream",
     "text": [
      "100%|█████████████████████████████████████████████████████████████████████████████████████████████████████| 295/295 [00:14<00:00, 20.40it/s]\n",
      "100%|███████████████████████████████████████████████████████████████████████████████████████████████████████| 74/74 [00:03<00:00, 20.53it/s]\n"
     ]
    },
    {
     "name": "stdout",
     "output_type": "stream",
     "text": [
      "Computing accuracy\n",
      "Test set accuracy (Precision@1) = 0.4449570707070707\n",
      "Epoch 64 Iteration 0: Loss = 0.22556337714195251\n"
     ]
    },
    {
     "name": "stderr",
     "output_type": "stream",
     "text": [
      "100%|█████████████████████████████████████████████████████████████████████████████████████████████████████| 295/295 [00:14<00:00, 20.33it/s]\n",
      "100%|███████████████████████████████████████████████████████████████████████████████████████████████████████| 74/74 [00:03<00:00, 20.58it/s]\n"
     ]
    },
    {
     "name": "stdout",
     "output_type": "stream",
     "text": [
      "Computing accuracy\n",
      "Test set accuracy (Precision@1) = 0.44794065656565657\n",
      "Epoch 65 Iteration 0: Loss = 0.21009834110736847\n"
     ]
    },
    {
     "name": "stderr",
     "output_type": "stream",
     "text": [
      "100%|█████████████████████████████████████████████████████████████████████████████████████████████████████| 295/295 [00:14<00:00, 20.54it/s]\n",
      "100%|███████████████████████████████████████████████████████████████████████████████████████████████████████| 74/74 [00:03<00:00, 20.05it/s]\n"
     ]
    },
    {
     "name": "stdout",
     "output_type": "stream",
     "text": [
      "Computing accuracy\n",
      "Test set accuracy (Precision@1) = 0.44949621212121216\n",
      "Epoch 66 Iteration 0: Loss = 0.16365520656108856\n"
     ]
    },
    {
     "name": "stderr",
     "output_type": "stream",
     "text": [
      "100%|█████████████████████████████████████████████████████████████████████████████████████████████████████| 295/295 [00:14<00:00, 20.18it/s]\n",
      "100%|███████████████████████████████████████████████████████████████████████████████████████████████████████| 74/74 [00:03<00:00, 19.91it/s]\n"
     ]
    },
    {
     "name": "stdout",
     "output_type": "stream",
     "text": [
      "Computing accuracy\n",
      "Test set accuracy (Precision@1) = 0.46572095959595966\n",
      "Epoch 67 Iteration 0: Loss = 0.2510007917881012\n"
     ]
    },
    {
     "name": "stderr",
     "output_type": "stream",
     "text": [
      "100%|█████████████████████████████████████████████████████████████████████████████████████████████████████| 295/295 [00:14<00:00, 19.96it/s]\n",
      "100%|███████████████████████████████████████████████████████████████████████████████████████████████████████| 74/74 [00:03<00:00, 20.19it/s]\n"
     ]
    },
    {
     "name": "stdout",
     "output_type": "stream",
     "text": [
      "Computing accuracy\n",
      "Test set accuracy (Precision@1) = 0.45361111111111113\n",
      "Epoch 68 Iteration 0: Loss = 0.18308819830417633\n"
     ]
    },
    {
     "name": "stderr",
     "output_type": "stream",
     "text": [
      "100%|█████████████████████████████████████████████████████████████████████████████████████████████████████| 295/295 [00:14<00:00, 20.34it/s]\n",
      "100%|███████████████████████████████████████████████████████████████████████████████████████████████████████| 74/74 [00:03<00:00, 20.28it/s]\n"
     ]
    },
    {
     "name": "stdout",
     "output_type": "stream",
     "text": [
      "Computing accuracy\n",
      "Test set accuracy (Precision@1) = 0.47459090909090906\n",
      "Epoch 69 Iteration 0: Loss = 0.17446228861808777\n"
     ]
    },
    {
     "name": "stderr",
     "output_type": "stream",
     "text": [
      "100%|█████████████████████████████████████████████████████████████████████████████████████████████████████| 295/295 [00:14<00:00, 19.92it/s]\n",
      "100%|███████████████████████████████████████████████████████████████████████████████████████████████████████| 74/74 [00:03<00:00, 19.94it/s]\n"
     ]
    },
    {
     "name": "stdout",
     "output_type": "stream",
     "text": [
      "Computing accuracy\n",
      "Test set accuracy (Precision@1) = 0.46436111111111117\n",
      "Epoch 70 Iteration 0: Loss = 0.1437014937400818\n"
     ]
    },
    {
     "name": "stderr",
     "output_type": "stream",
     "text": [
      "100%|█████████████████████████████████████████████████████████████████████████████████████████████████████| 295/295 [00:14<00:00, 20.06it/s]\n",
      "100%|███████████████████████████████████████████████████████████████████████████████████████████████████████| 74/74 [00:03<00:00, 20.12it/s]\n"
     ]
    },
    {
     "name": "stdout",
     "output_type": "stream",
     "text": [
      "Computing accuracy\n",
      "Test set accuracy (Precision@1) = 0.4656388888888888\n",
      "Epoch 71 Iteration 0: Loss = 0.14248086512088776\n"
     ]
    },
    {
     "name": "stderr",
     "output_type": "stream",
     "text": [
      "100%|█████████████████████████████████████████████████████████████████████████████████████████████████████| 295/295 [00:14<00:00, 20.24it/s]\n",
      "100%|███████████████████████████████████████████████████████████████████████████████████████████████████████| 74/74 [00:03<00:00, 20.27it/s]\n"
     ]
    },
    {
     "name": "stdout",
     "output_type": "stream",
     "text": [
      "Computing accuracy\n",
      "Test set accuracy (Precision@1) = 0.4754810606060606\n",
      "Epoch 72 Iteration 0: Loss = 0.13389118015766144\n"
     ]
    },
    {
     "name": "stderr",
     "output_type": "stream",
     "text": [
      "100%|█████████████████████████████████████████████████████████████████████████████████████████████████████| 295/295 [00:14<00:00, 20.18it/s]\n",
      "100%|███████████████████████████████████████████████████████████████████████████████████████████████████████| 74/74 [00:03<00:00, 19.85it/s]\n"
     ]
    },
    {
     "name": "stdout",
     "output_type": "stream",
     "text": [
      "Computing accuracy\n",
      "Test set accuracy (Precision@1) = 0.46532575757575756\n",
      "Epoch 73 Iteration 0: Loss = 0.15878623723983765\n"
     ]
    },
    {
     "name": "stderr",
     "output_type": "stream",
     "text": [
      "100%|█████████████████████████████████████████████████████████████████████████████████████████████████████| 295/295 [00:14<00:00, 20.24it/s]\n",
      "100%|███████████████████████████████████████████████████████████████████████████████████████████████████████| 74/74 [00:03<00:00, 20.20it/s]\n"
     ]
    },
    {
     "name": "stdout",
     "output_type": "stream",
     "text": [
      "Computing accuracy\n",
      "Test set accuracy (Precision@1) = 0.47077777777777785\n",
      "Epoch 74 Iteration 0: Loss = 0.12078599631786346\n"
     ]
    },
    {
     "name": "stderr",
     "output_type": "stream",
     "text": [
      "100%|█████████████████████████████████████████████████████████████████████████████████████████████████████| 295/295 [00:14<00:00, 20.12it/s]\n",
      "100%|███████████████████████████████████████████████████████████████████████████████████████████████████████| 74/74 [00:03<00:00, 20.05it/s]\n"
     ]
    },
    {
     "name": "stdout",
     "output_type": "stream",
     "text": [
      "Computing accuracy\n",
      "Test set accuracy (Precision@1) = 0.47711616161616166\n",
      "Epoch 75 Iteration 0: Loss = 0.12087841331958771\n"
     ]
    },
    {
     "name": "stderr",
     "output_type": "stream",
     "text": [
      "100%|█████████████████████████████████████████████████████████████████████████████████████████████████████| 295/295 [00:14<00:00, 20.11it/s]\n",
      "100%|███████████████████████████████████████████████████████████████████████████████████████████████████████| 74/74 [00:03<00:00, 20.00it/s]\n"
     ]
    },
    {
     "name": "stdout",
     "output_type": "stream",
     "text": [
      "Computing accuracy\n",
      "Test set accuracy (Precision@1) = 0.47975883838383837\n",
      "Epoch 76 Iteration 0: Loss = 0.11838557571172714\n"
     ]
    },
    {
     "name": "stderr",
     "output_type": "stream",
     "text": [
      "100%|█████████████████████████████████████████████████████████████████████████████████████████████████████| 295/295 [00:14<00:00, 19.80it/s]\n",
      "100%|███████████████████████████████████████████████████████████████████████████████████████████████████████| 74/74 [00:03<00:00, 19.91it/s]\n"
     ]
    },
    {
     "name": "stdout",
     "output_type": "stream",
     "text": [
      "Computing accuracy\n",
      "Test set accuracy (Precision@1) = 0.46592676767676766\n",
      "Epoch 77 Iteration 0: Loss = 0.1434202343225479\n"
     ]
    },
    {
     "name": "stderr",
     "output_type": "stream",
     "text": [
      "100%|█████████████████████████████████████████████████████████████████████████████████████████████████████| 295/295 [00:14<00:00, 20.05it/s]\n",
      "100%|███████████████████████████████████████████████████████████████████████████████████████████████████████| 74/74 [00:03<00:00, 20.17it/s]\n"
     ]
    },
    {
     "name": "stdout",
     "output_type": "stream",
     "text": [
      "Computing accuracy\n",
      "Test set accuracy (Precision@1) = 0.4791414141414142\n",
      "Epoch 78 Iteration 0: Loss = 0.09207293391227722\n"
     ]
    },
    {
     "name": "stderr",
     "output_type": "stream",
     "text": [
      "100%|█████████████████████████████████████████████████████████████████████████████████████████████████████| 295/295 [00:14<00:00, 20.03it/s]\n",
      "100%|███████████████████████████████████████████████████████████████████████████████████████████████████████| 74/74 [00:03<00:00, 20.17it/s]\n"
     ]
    },
    {
     "name": "stdout",
     "output_type": "stream",
     "text": [
      "Computing accuracy\n",
      "Test set accuracy (Precision@1) = 0.4727878787878788\n",
      "Epoch 79 Iteration 0: Loss = 0.14980272948741913\n"
     ]
    },
    {
     "name": "stderr",
     "output_type": "stream",
     "text": [
      "100%|█████████████████████████████████████████████████████████████████████████████████████████████████████| 295/295 [00:14<00:00, 20.32it/s]\n",
      "100%|███████████████████████████████████████████████████████████████████████████████████████████████████████| 74/74 [00:03<00:00, 19.91it/s]\n"
     ]
    },
    {
     "name": "stdout",
     "output_type": "stream",
     "text": [
      "Computing accuracy\n",
      "Test set accuracy (Precision@1) = 0.4684810606060606\n",
      "Epoch 80 Iteration 0: Loss = 0.1185079887509346\n"
     ]
    },
    {
     "name": "stderr",
     "output_type": "stream",
     "text": [
      "100%|█████████████████████████████████████████████████████████████████████████████████████████████████████| 295/295 [00:14<00:00, 19.92it/s]\n",
      "100%|███████████████████████████████████████████████████████████████████████████████████████████████████████| 74/74 [00:03<00:00, 19.95it/s]\n"
     ]
    },
    {
     "name": "stdout",
     "output_type": "stream",
     "text": [
      "Computing accuracy\n",
      "Test set accuracy (Precision@1) = 0.4699684343434343\n",
      "Epoch 81 Iteration 0: Loss = 0.10320150852203369\n"
     ]
    },
    {
     "name": "stderr",
     "output_type": "stream",
     "text": [
      "100%|█████████████████████████████████████████████████████████████████████████████████████████████████████| 295/295 [00:14<00:00, 20.22it/s]\n",
      "100%|███████████████████████████████████████████████████████████████████████████████████████████████████████| 74/74 [00:03<00:00, 20.22it/s]\n"
     ]
    },
    {
     "name": "stdout",
     "output_type": "stream",
     "text": [
      "Computing accuracy\n",
      "Test set accuracy (Precision@1) = 0.4804015151515151\n",
      "Epoch 82 Iteration 0: Loss = 0.08016616106033325\n"
     ]
    },
    {
     "name": "stderr",
     "output_type": "stream",
     "text": [
      "100%|█████████████████████████████████████████████████████████████████████████████████████████████████████| 295/295 [00:14<00:00, 20.19it/s]\n",
      "100%|███████████████████████████████████████████████████████████████████████████████████████████████████████| 74/74 [00:03<00:00, 19.96it/s]\n"
     ]
    },
    {
     "name": "stdout",
     "output_type": "stream",
     "text": [
      "Computing accuracy\n",
      "Test set accuracy (Precision@1) = 0.4762070707070707\n",
      "Epoch 83 Iteration 0: Loss = 0.1098494678735733\n"
     ]
    },
    {
     "name": "stderr",
     "output_type": "stream",
     "text": [
      "100%|█████████████████████████████████████████████████████████████████████████████████████████████████████| 295/295 [00:14<00:00, 20.23it/s]\n",
      "100%|███████████████████████████████████████████████████████████████████████████████████████████████████████| 74/74 [00:03<00:00, 20.35it/s]\n"
     ]
    },
    {
     "name": "stdout",
     "output_type": "stream",
     "text": [
      "Computing accuracy\n",
      "Test set accuracy (Precision@1) = 0.4701654040404041\n",
      "Epoch 84 Iteration 0: Loss = 0.04368579760193825\n"
     ]
    },
    {
     "name": "stderr",
     "output_type": "stream",
     "text": [
      "100%|█████████████████████████████████████████████████████████████████████████████████████████████████████| 295/295 [00:14<00:00, 20.25it/s]\n",
      "100%|███████████████████████████████████████████████████████████████████████████████████████████████████████| 74/74 [00:03<00:00, 19.91it/s]\n"
     ]
    },
    {
     "name": "stdout",
     "output_type": "stream",
     "text": [
      "Computing accuracy\n",
      "Test set accuracy (Precision@1) = 0.48701515151515157\n",
      "Epoch 85 Iteration 0: Loss = 0.08546169847249985\n"
     ]
    },
    {
     "name": "stderr",
     "output_type": "stream",
     "text": [
      "100%|█████████████████████████████████████████████████████████████████████████████████████████████████████| 295/295 [00:14<00:00, 20.09it/s]\n",
      "100%|███████████████████████████████████████████████████████████████████████████████████████████████████████| 74/74 [00:03<00:00, 20.13it/s]\n"
     ]
    },
    {
     "name": "stdout",
     "output_type": "stream",
     "text": [
      "Computing accuracy\n",
      "Test set accuracy (Precision@1) = 0.48810606060606065\n",
      "Epoch 86 Iteration 0: Loss = 0.07839275151491165\n"
     ]
    },
    {
     "name": "stderr",
     "output_type": "stream",
     "text": [
      "100%|█████████████████████████████████████████████████████████████████████████████████████████████████████| 295/295 [00:14<00:00, 20.12it/s]\n",
      "100%|███████████████████████████████████████████████████████████████████████████████████████████████████████| 74/74 [00:03<00:00, 20.25it/s]\n"
     ]
    },
    {
     "name": "stdout",
     "output_type": "stream",
     "text": [
      "Computing accuracy\n",
      "Test set accuracy (Precision@1) = 0.49477525252525256\n",
      "Epoch 87 Iteration 0: Loss = 0.09006042033433914\n"
     ]
    },
    {
     "name": "stderr",
     "output_type": "stream",
     "text": [
      "100%|█████████████████████████████████████████████████████████████████████████████████████████████████████| 295/295 [00:14<00:00, 20.08it/s]\n",
      "100%|███████████████████████████████████████████████████████████████████████████████████████████████████████| 74/74 [00:03<00:00, 20.23it/s]\n"
     ]
    },
    {
     "name": "stdout",
     "output_type": "stream",
     "text": [
      "Computing accuracy\n",
      "Test set accuracy (Precision@1) = 0.49160227272727275\n",
      "Epoch 88 Iteration 0: Loss = 0.05465035140514374\n"
     ]
    },
    {
     "name": "stderr",
     "output_type": "stream",
     "text": [
      "100%|█████████████████████████████████████████████████████████████████████████████████████████████████████| 295/295 [00:14<00:00, 20.30it/s]\n",
      "100%|███████████████████████████████████████████████████████████████████████████████████████████████████████| 74/74 [00:03<00:00, 20.35it/s]\n"
     ]
    },
    {
     "name": "stdout",
     "output_type": "stream",
     "text": [
      "Computing accuracy\n",
      "Test set accuracy (Precision@1) = 0.49321464646464647\n",
      "Epoch 89 Iteration 0: Loss = 0.04390843212604523\n"
     ]
    },
    {
     "name": "stderr",
     "output_type": "stream",
     "text": [
      "100%|█████████████████████████████████████████████████████████████████████████████████████████████████████| 295/295 [00:14<00:00, 20.21it/s]\n",
      "100%|███████████████████████████████████████████████████████████████████████████████████████████████████████| 74/74 [00:03<00:00, 20.19it/s]\n"
     ]
    },
    {
     "name": "stdout",
     "output_type": "stream",
     "text": [
      "Computing accuracy\n",
      "Test set accuracy (Precision@1) = 0.48329797979797984\n",
      "Epoch 90 Iteration 0: Loss = 0.06204385682940483\n"
     ]
    },
    {
     "name": "stderr",
     "output_type": "stream",
     "text": [
      "100%|█████████████████████████████████████████████████████████████████████████████████████████████████████| 295/295 [00:14<00:00, 20.14it/s]\n",
      "100%|███████████████████████████████████████████████████████████████████████████████████████████████████████| 74/74 [00:03<00:00, 20.22it/s]\n"
     ]
    },
    {
     "name": "stdout",
     "output_type": "stream",
     "text": [
      "Computing accuracy\n",
      "Test set accuracy (Precision@1) = 0.49188383838383837\n",
      "Epoch 91 Iteration 0: Loss = 0.02916759066283703\n"
     ]
    },
    {
     "name": "stderr",
     "output_type": "stream",
     "text": [
      "100%|█████████████████████████████████████████████████████████████████████████████████████████████████████| 295/295 [00:14<00:00, 20.40it/s]\n",
      "100%|███████████████████████████████████████████████████████████████████████████████████████████████████████| 74/74 [00:03<00:00, 20.34it/s]\n"
     ]
    },
    {
     "name": "stdout",
     "output_type": "stream",
     "text": [
      "Computing accuracy\n",
      "Test set accuracy (Precision@1) = 0.49104292929292925\n",
      "Epoch 92 Iteration 0: Loss = 0.07133425027132034\n"
     ]
    },
    {
     "name": "stderr",
     "output_type": "stream",
     "text": [
      "100%|█████████████████████████████████████████████████████████████████████████████████████████████████████| 295/295 [00:14<00:00, 20.17it/s]\n",
      "100%|███████████████████████████████████████████████████████████████████████████████████████████████████████| 74/74 [00:03<00:00, 20.19it/s]\n"
     ]
    },
    {
     "name": "stdout",
     "output_type": "stream",
     "text": [
      "Computing accuracy\n",
      "Test set accuracy (Precision@1) = 0.49606060606060604\n",
      "Epoch 93 Iteration 0: Loss = 0.05407915636897087\n"
     ]
    },
    {
     "name": "stderr",
     "output_type": "stream",
     "text": [
      "100%|█████████████████████████████████████████████████████████████████████████████████████████████████████| 295/295 [00:14<00:00, 20.02it/s]\n",
      "100%|███████████████████████████████████████████████████████████████████████████████████████████████████████| 74/74 [00:03<00:00, 20.26it/s]\n"
     ]
    },
    {
     "name": "stdout",
     "output_type": "stream",
     "text": [
      "Computing accuracy\n",
      "Test set accuracy (Precision@1) = 0.5113131313131313\n",
      "Epoch 94 Iteration 0: Loss = 0.0414264015853405\n"
     ]
    },
    {
     "name": "stderr",
     "output_type": "stream",
     "text": [
      "100%|█████████████████████████████████████████████████████████████████████████████████████████████████████| 295/295 [00:14<00:00, 20.20it/s]\n",
      "100%|███████████████████████████████████████████████████████████████████████████████████████████████████████| 74/74 [00:03<00:00, 20.27it/s]\n"
     ]
    },
    {
     "name": "stdout",
     "output_type": "stream",
     "text": [
      "Computing accuracy\n",
      "Test set accuracy (Precision@1) = 0.5063964646464646\n",
      "Epoch 95 Iteration 0: Loss = 0.020796531811356544\n"
     ]
    },
    {
     "name": "stderr",
     "output_type": "stream",
     "text": [
      "100%|█████████████████████████████████████████████████████████████████████████████████████████████████████| 295/295 [00:14<00:00, 20.01it/s]\n",
      "100%|███████████████████████████████████████████████████████████████████████████████████████████████████████| 74/74 [00:03<00:00, 20.03it/s]\n"
     ]
    },
    {
     "name": "stdout",
     "output_type": "stream",
     "text": [
      "Computing accuracy\n",
      "Test set accuracy (Precision@1) = 0.49389267676767673\n",
      "Epoch 96 Iteration 0: Loss = 0.029273247346282005\n"
     ]
    },
    {
     "name": "stderr",
     "output_type": "stream",
     "text": [
      "100%|█████████████████████████████████████████████████████████████████████████████████████████████████████| 295/295 [00:14<00:00, 20.13it/s]\n",
      "100%|███████████████████████████████████████████████████████████████████████████████████████████████████████| 74/74 [00:03<00:00, 20.38it/s]\n"
     ]
    },
    {
     "name": "stdout",
     "output_type": "stream",
     "text": [
      "Computing accuracy\n",
      "Test set accuracy (Precision@1) = 0.5096111111111111\n",
      "Epoch 97 Iteration 0: Loss = 0.04477696120738983\n"
     ]
    },
    {
     "name": "stderr",
     "output_type": "stream",
     "text": [
      "100%|█████████████████████████████████████████████████████████████████████████████████████████████████████| 295/295 [00:14<00:00, 20.15it/s]\n",
      "100%|███████████████████████████████████████████████████████████████████████████████████████████████████████| 74/74 [00:03<00:00, 20.09it/s]\n"
     ]
    },
    {
     "name": "stdout",
     "output_type": "stream",
     "text": [
      "Computing accuracy\n",
      "Test set accuracy (Precision@1) = 0.49734469696969696\n",
      "Epoch 98 Iteration 0: Loss = 0.028200367465615273\n"
     ]
    },
    {
     "name": "stderr",
     "output_type": "stream",
     "text": [
      "100%|█████████████████████████████████████████████████████████████████████████████████████████████████████| 295/295 [00:13<00:00, 21.71it/s]\n",
      "100%|███████████████████████████████████████████████████████████████████████████████████████████████████████| 74/74 [00:03<00:00, 21.81it/s]\n"
     ]
    },
    {
     "name": "stdout",
     "output_type": "stream",
     "text": [
      "Computing accuracy\n",
      "Test set accuracy (Precision@1) = 0.5012777777777778\n",
      "Epoch 99 Iteration 0: Loss = 0.012116902507841587\n"
     ]
    },
    {
     "name": "stderr",
     "output_type": "stream",
     "text": [
      "100%|█████████████████████████████████████████████████████████████████████████████████████████████████████| 295/295 [00:13<00:00, 21.55it/s]\n",
      "100%|███████████████████████████████████████████████████████████████████████████████████████████████████████| 74/74 [00:03<00:00, 21.29it/s]\n"
     ]
    },
    {
     "name": "stdout",
     "output_type": "stream",
     "text": [
      "Computing accuracy\n",
      "Test set accuracy (Precision@1) = 0.4935505050505051\n",
      "Epoch 100 Iteration 0: Loss = 0.024231767281889915\n"
     ]
    },
    {
     "name": "stderr",
     "output_type": "stream",
     "text": [
      "100%|█████████████████████████████████████████████████████████████████████████████████████████████████████| 295/295 [00:13<00:00, 21.66it/s]\n",
      "100%|███████████████████████████████████████████████████████████████████████████████████████████████████████| 74/74 [00:03<00:00, 21.77it/s]"
     ]
    },
    {
     "name": "stdout",
     "output_type": "stream",
     "text": [
      "Computing accuracy\n",
      "Test set accuracy (Precision@1) = 0.489959595959596\n"
     ]
    },
    {
     "name": "stderr",
     "output_type": "stream",
     "text": [
      "\n"
     ]
    }
   ],
   "source": [
    "#total_loss = []\n",
    "#total_acc = []\n",
    "for epoch in range(1, num_epochs + 1):\n",
    "    train_loss = train(model, loss_func,mining_func, device, train_loader, optimizer, epoch)\n",
    "    #total_loss.extend(train_loss)\n",
    "    test_acc = test(train_dataset, test_dataset, model, accuracy_calculator)\n",
    "    #total_acc.append(test_acc)\n",
    "    wandb.log({\"test_accuracy\": test_acc, \"train_loss\": train_loss,'epoch':epoch})"
   ]
  },
  {
   "cell_type": "code",
   "execution_count": 19,
   "id": "f4e33826-711a-4780-b22f-8089e23719da",
   "metadata": {},
   "outputs": [],
   "source": [
    "torch.save(model,config['model_save_path']+'.pth')"
   ]
  },
  {
   "cell_type": "code",
   "execution_count": 48,
   "id": "8468f5a6-8c26-4f43-b780-898e6e6cbc12",
   "metadata": {
    "scrolled": true
   },
   "outputs": [],
   "source": [
    "#model = torch.load('models/cub_triplet_loss_epshn_resnet18_200.pth',map_location='cuda')"
   ]
  },
  {
   "cell_type": "code",
   "execution_count": 20,
   "id": "ee72491a-6daa-4df4-8905-9d237e26b24f",
   "metadata": {
    "scrolled": true
   },
   "outputs": [
    {
     "data": {
      "text/plain": [
       "ResNetFeatrueExtractor18(\n",
       "  (conv1): Conv2d(3, 64, kernel_size=(7, 7), stride=(2, 2), padding=(3, 3), bias=False)\n",
       "  (bn1): BatchNorm2d(64, eps=1e-05, momentum=0.1, affine=True, track_running_stats=True)\n",
       "  (relu): ReLU(inplace=True)\n",
       "  (maxpool): MaxPool2d(kernel_size=3, stride=2, padding=1, dilation=1, ceil_mode=False)\n",
       "  (layer1): Sequential(\n",
       "    (0): BasicBlock(\n",
       "      (conv1): Conv2d(64, 64, kernel_size=(3, 3), stride=(1, 1), padding=(1, 1), bias=False)\n",
       "      (bn1): BatchNorm2d(64, eps=1e-05, momentum=0.1, affine=True, track_running_stats=True)\n",
       "      (relu): ReLU(inplace=True)\n",
       "      (conv2): Conv2d(64, 64, kernel_size=(3, 3), stride=(1, 1), padding=(1, 1), bias=False)\n",
       "      (bn2): BatchNorm2d(64, eps=1e-05, momentum=0.1, affine=True, track_running_stats=True)\n",
       "    )\n",
       "    (1): BasicBlock(\n",
       "      (conv1): Conv2d(64, 64, kernel_size=(3, 3), stride=(1, 1), padding=(1, 1), bias=False)\n",
       "      (bn1): BatchNorm2d(64, eps=1e-05, momentum=0.1, affine=True, track_running_stats=True)\n",
       "      (relu): ReLU(inplace=True)\n",
       "      (conv2): Conv2d(64, 64, kernel_size=(3, 3), stride=(1, 1), padding=(1, 1), bias=False)\n",
       "      (bn2): BatchNorm2d(64, eps=1e-05, momentum=0.1, affine=True, track_running_stats=True)\n",
       "    )\n",
       "  )\n",
       "  (layer2): Sequential(\n",
       "    (0): BasicBlock(\n",
       "      (conv1): Conv2d(64, 128, kernel_size=(3, 3), stride=(2, 2), padding=(1, 1), bias=False)\n",
       "      (bn1): BatchNorm2d(128, eps=1e-05, momentum=0.1, affine=True, track_running_stats=True)\n",
       "      (relu): ReLU(inplace=True)\n",
       "      (conv2): Conv2d(128, 128, kernel_size=(3, 3), stride=(1, 1), padding=(1, 1), bias=False)\n",
       "      (bn2): BatchNorm2d(128, eps=1e-05, momentum=0.1, affine=True, track_running_stats=True)\n",
       "      (downsample): Sequential(\n",
       "        (0): Conv2d(64, 128, kernel_size=(1, 1), stride=(2, 2), bias=False)\n",
       "        (1): BatchNorm2d(128, eps=1e-05, momentum=0.1, affine=True, track_running_stats=True)\n",
       "      )\n",
       "    )\n",
       "    (1): BasicBlock(\n",
       "      (conv1): Conv2d(128, 128, kernel_size=(3, 3), stride=(1, 1), padding=(1, 1), bias=False)\n",
       "      (bn1): BatchNorm2d(128, eps=1e-05, momentum=0.1, affine=True, track_running_stats=True)\n",
       "      (relu): ReLU(inplace=True)\n",
       "      (conv2): Conv2d(128, 128, kernel_size=(3, 3), stride=(1, 1), padding=(1, 1), bias=False)\n",
       "      (bn2): BatchNorm2d(128, eps=1e-05, momentum=0.1, affine=True, track_running_stats=True)\n",
       "    )\n",
       "  )\n",
       "  (layer3): Sequential(\n",
       "    (0): BasicBlock(\n",
       "      (conv1): Conv2d(128, 256, kernel_size=(3, 3), stride=(2, 2), padding=(1, 1), bias=False)\n",
       "      (bn1): BatchNorm2d(256, eps=1e-05, momentum=0.1, affine=True, track_running_stats=True)\n",
       "      (relu): ReLU(inplace=True)\n",
       "      (conv2): Conv2d(256, 256, kernel_size=(3, 3), stride=(1, 1), padding=(1, 1), bias=False)\n",
       "      (bn2): BatchNorm2d(256, eps=1e-05, momentum=0.1, affine=True, track_running_stats=True)\n",
       "      (downsample): Sequential(\n",
       "        (0): Conv2d(128, 256, kernel_size=(1, 1), stride=(2, 2), bias=False)\n",
       "        (1): BatchNorm2d(256, eps=1e-05, momentum=0.1, affine=True, track_running_stats=True)\n",
       "      )\n",
       "    )\n",
       "    (1): BasicBlock(\n",
       "      (conv1): Conv2d(256, 256, kernel_size=(3, 3), stride=(1, 1), padding=(1, 1), bias=False)\n",
       "      (bn1): BatchNorm2d(256, eps=1e-05, momentum=0.1, affine=True, track_running_stats=True)\n",
       "      (relu): ReLU(inplace=True)\n",
       "      (conv2): Conv2d(256, 256, kernel_size=(3, 3), stride=(1, 1), padding=(1, 1), bias=False)\n",
       "      (bn2): BatchNorm2d(256, eps=1e-05, momentum=0.1, affine=True, track_running_stats=True)\n",
       "    )\n",
       "  )\n",
       "  (layer4): Sequential(\n",
       "    (0): BasicBlock(\n",
       "      (conv1): Conv2d(256, 512, kernel_size=(3, 3), stride=(2, 2), padding=(1, 1), bias=False)\n",
       "      (bn1): BatchNorm2d(512, eps=1e-05, momentum=0.1, affine=True, track_running_stats=True)\n",
       "      (relu): ReLU(inplace=True)\n",
       "      (conv2): Conv2d(512, 512, kernel_size=(3, 3), stride=(1, 1), padding=(1, 1), bias=False)\n",
       "      (bn2): BatchNorm2d(512, eps=1e-05, momentum=0.1, affine=True, track_running_stats=True)\n",
       "      (downsample): Sequential(\n",
       "        (0): Conv2d(256, 512, kernel_size=(1, 1), stride=(2, 2), bias=False)\n",
       "        (1): BatchNorm2d(512, eps=1e-05, momentum=0.1, affine=True, track_running_stats=True)\n",
       "      )\n",
       "    )\n",
       "    (1): BasicBlock(\n",
       "      (conv1): Conv2d(512, 512, kernel_size=(3, 3), stride=(1, 1), padding=(1, 1), bias=False)\n",
       "      (bn1): BatchNorm2d(512, eps=1e-05, momentum=0.1, affine=True, track_running_stats=True)\n",
       "      (relu): ReLU(inplace=True)\n",
       "      (conv2): Conv2d(512, 512, kernel_size=(3, 3), stride=(1, 1), padding=(1, 1), bias=False)\n",
       "      (bn2): BatchNorm2d(512, eps=1e-05, momentum=0.1, affine=True, track_running_stats=True)\n",
       "    )\n",
       "  )\n",
       "  (avgpool): AdaptiveAvgPool2d(output_size=(1, 1))\n",
       "  (fc1): Linear(in_features=512, out_features=128, bias=True)\n",
       ")"
      ]
     },
     "execution_count": 20,
     "metadata": {},
     "output_type": "execute_result"
    }
   ],
   "source": [
    "model.eval()"
   ]
  },
  {
   "cell_type": "code",
   "execution_count": 24,
   "id": "c99fe1cb-ce19-41bf-bb1d-658c8b1b89d9",
   "metadata": {},
   "outputs": [],
   "source": [
    "from pytorch_metric_learning.distances import LpDistance,CosineSimilarity\n",
    "from pytorch_metric_learning.utils.inference import CustomKNN\n",
    "knn_func = CustomKNN(CosineSimilarity())\n",
    "accuracy_calculator = AccuracyCalculator(include=(\"precision_at_1\",),k=1,knn_func=knn_func,avg_of_avgs=False,return_per_class=True)\n",
    "#test(train_dataset, test_dataset, model, accuracy_calculator)"
   ]
  },
  {
   "cell_type": "code",
   "execution_count": 25,
   "id": "7495055f-d27b-4f36-9d16-5d12608d3881",
   "metadata": {},
   "outputs": [
    {
     "name": "stderr",
     "output_type": "stream",
     "text": [
      "100%|█████████████████████████████████████████████████████████████████████████████████████████████████████| 295/295 [00:13<00:00, 21.20it/s]\n",
      "100%|███████████████████████████████████████████████████████████████████████████████████████████████████████| 74/74 [00:03<00:00, 20.97it/s]\n"
     ]
    }
   ],
   "source": [
    "train_embeddings, train_labels = get_all_embeddings(train_dataset, model)\n",
    "test_embeddings, test_labels = get_all_embeddings(test_dataset, model)\n",
    "train_labels = train_labels.squeeze(1)\n",
    "test_labels = test_labels.squeeze(1)"
   ]
  },
  {
   "cell_type": "code",
   "execution_count": 26,
   "id": "66e97839-85a9-4d96-80f3-1c29e80ccf81",
   "metadata": {},
   "outputs": [],
   "source": [
    "data_dict = {v:k for k,v in class_dict.items()}"
   ]
  },
  {
   "cell_type": "code",
   "execution_count": 28,
   "id": "a0bbe361-a4e0-4ff3-a62d-4abc0aea8099",
   "metadata": {
    "scrolled": true
   },
   "outputs": [
    {
     "name": "stdout",
     "output_type": "stream",
     "text": [
      "001.Black_footed_Albatross     test samples 12   , training samples 48   : 0.4166666666666667\n",
      "002.Laysan_Albatross           test samples 12   , training samples 48   : 0.4166666666666667\n",
      "003.Sooty_Albatross            test samples 12   , training samples 46   : 0.08333333333333333\n",
      "004.Groove_billed_Ani          test samples 12   , training samples 48   : 0.25\n",
      "005.Crested_Auklet             test samples 9    , training samples 35   : 0.6666666666666666\n",
      "006.Least_Auklet               test samples 8    , training samples 33   : 0.5\n",
      "007.Parakeet_Auklet            test samples 10   , training samples 43   : 0.6\n",
      "008.Rhinoceros_Auklet          test samples 9    , training samples 39   : 0.4444444444444444\n",
      "009.Brewer_Blackbird           test samples 12   , training samples 47   : 0.16666666666666666\n",
      "010.Red_winged_Blackbird       test samples 12   , training samples 48   : 0.75\n",
      "011.Rusty_Blackbird            test samples 12   , training samples 48   : 0.25\n",
      "012.Yellow_headed_Blackbird    test samples 11   , training samples 45   : 1.0\n",
      "013.Bobolink                   test samples 12   , training samples 48   : 0.6666666666666666\n",
      "014.Indigo_Bunting             test samples 12   , training samples 48   : 0.6666666666666666\n",
      "015.Lazuli_Bunting             test samples 11   , training samples 47   : 0.6363636363636364\n",
      "016.Painted_Bunting            test samples 11   , training samples 47   : 0.7272727272727273\n",
      "017.Cardinal                   test samples 11   , training samples 46   : 0.8181818181818182\n",
      "018.Spotted_Catbird            test samples 9    , training samples 36   : 0.4444444444444444\n",
      "019.Gray_Catbird               test samples 12   , training samples 47   : 0.4166666666666667\n",
      "020.Yellow_breasted_Chat       test samples 12   , training samples 47   : 0.25\n",
      "021.Eastern_Towhee             test samples 12   , training samples 48   : 0.5\n",
      "022.Chuck_will_Widow           test samples 11   , training samples 45   : 0.2727272727272727\n",
      "023.Brandt_Cormorant           test samples 12   , training samples 47   : 0.3333333333333333\n",
      "024.Red_faced_Cormorant        test samples 10   , training samples 42   : 0.4\n",
      "025.Pelagic_Cormorant          test samples 12   , training samples 48   : 0.08333333333333333\n",
      "026.Bronzed_Cowbird            test samples 12   , training samples 48   : 0.6666666666666666\n",
      "027.Shiny_Cowbird              test samples 12   , training samples 48   : 0.16666666666666666\n",
      "028.Brown_Creeper              test samples 12   , training samples 47   : 0.5\n",
      "029.American_Crow              test samples 12   , training samples 48   : 0.25\n",
      "030.Fish_Crow                  test samples 12   , training samples 48   : 0.5\n",
      "031.Black_billed_Cuckoo        test samples 12   , training samples 48   : 0.3333333333333333\n",
      "032.Mangrove_Cuckoo            test samples 10   , training samples 43   : 0.5\n",
      "033.Yellow_billed_Cuckoo       test samples 12   , training samples 47   : 0.4166666666666667\n",
      "034.Gray_crowned_Rosy_Finch    test samples 12   , training samples 47   : 0.5833333333333334\n",
      "035.Purple_Finch               test samples 12   , training samples 48   : 0.6666666666666666\n",
      "036.Northern_Flicker           test samples 12   , training samples 48   : 0.5\n",
      "037.Acadian_Flycatcher         test samples 12   , training samples 47   : 0.25\n",
      "038.Great_Crested_Flycatcher   test samples 12   , training samples 48   : 0.25\n",
      "039.Least_Flycatcher           test samples 12   , training samples 47   : 0.08333333333333333\n",
      "040.Olive_sided_Flycatcher     test samples 12   , training samples 48   : 0.25\n",
      "041.Scissor_tailed_Flycatcher  test samples 12   , training samples 48   : 0.5\n",
      "042.Vermilion_Flycatcher       test samples 12   , training samples 48   : 0.5\n",
      "043.Yellow_bellied_Flycatcher  test samples 12   , training samples 47   : 0.3333333333333333\n",
      "044.Frigatebird                test samples 12   , training samples 48   : 0.5\n",
      "045.Northern_Fulmar            test samples 12   , training samples 48   : 0.25\n",
      "046.Gadwall                    test samples 12   , training samples 48   : 0.4166666666666667\n",
      "047.American_Goldfinch         test samples 12   , training samples 48   : 0.25\n",
      "048.European_Goldfinch         test samples 12   , training samples 48   : 0.9166666666666666\n",
      "049.Boat_tailed_Grackle        test samples 12   , training samples 48   : 0.4166666666666667\n",
      "050.Eared_Grebe                test samples 12   , training samples 48   : 0.6666666666666666\n",
      "051.Horned_Grebe               test samples 12   , training samples 48   : 0.4166666666666667\n",
      "052.Pied_billed_Grebe          test samples 12   , training samples 48   : 0.5833333333333334\n",
      "053.Western_Grebe              test samples 12   , training samples 48   : 0.6666666666666666\n",
      "054.Blue_Grosbeak              test samples 12   , training samples 48   : 0.5833333333333334\n",
      "055.Evening_Grosbeak           test samples 12   , training samples 48   : 0.9166666666666666\n",
      "056.Pine_Grosbeak              test samples 12   , training samples 48   : 0.6666666666666666\n",
      "057.Rose_breasted_Grosbeak     test samples 12   , training samples 48   : 0.6666666666666666\n",
      "058.Pigeon_Guillemot           test samples 12   , training samples 46   : 0.25\n",
      "059.California_Gull            test samples 12   , training samples 48   : 0.08333333333333333\n",
      "060.Glaucous_winged_Gull       test samples 12   , training samples 47   : 0.08333333333333333\n",
      "061.Heermann_Gull              test samples 12   , training samples 48   : 0.75\n",
      "062.Herring_Gull               test samples 12   , training samples 48   : 0.25\n",
      "063.Ivory_Gull                 test samples 12   , training samples 48   : 0.5\n",
      "064.Ring_billed_Gull           test samples 12   , training samples 48   : 0.25\n",
      "065.Slaty_backed_Gull          test samples 10   , training samples 40   : 0.6\n",
      "066.Western_Gull               test samples 12   , training samples 48   : 0.4166666666666667\n",
      "067.Anna_Hummingbird           test samples 12   , training samples 48   : 0.5\n",
      "068.Ruby_throated_Hummingbird  test samples 12   , training samples 48   : 0.5\n",
      "069.Rufous_Hummingbird         test samples 12   , training samples 48   : 0.8333333333333334\n",
      "070.Green_Violetear            test samples 12   , training samples 48   : 0.8333333333333334\n",
      "071.Long_tailed_Jaeger         test samples 12   , training samples 48   : 0.08333333333333333\n",
      "072.Pomarine_Jaeger            test samples 12   , training samples 48   : 0.25\n",
      "073.Blue_Jay                   test samples 12   , training samples 48   : 0.5833333333333334\n",
      "074.Florida_Jay                test samples 12   , training samples 48   : 0.3333333333333333\n",
      "075.Green_Jay                  test samples 11   , training samples 46   : 0.8181818181818182\n",
      "076.Dark_eyed_Junco            test samples 12   , training samples 48   : 0.4166666666666667\n",
      "077.Tropical_Kingbird          test samples 12   , training samples 48   : 0.6666666666666666\n",
      "078.Gray_Kingbird              test samples 12   , training samples 47   : 0.4166666666666667\n",
      "079.Belted_Kingfisher          test samples 12   , training samples 48   : 0.6666666666666666\n",
      "080.Green_Kingfisher           test samples 12   , training samples 48   : 0.16666666666666666\n",
      "081.Pied_Kingfisher            test samples 12   , training samples 48   : 0.75\n",
      "082.Ringed_Kingfisher          test samples 12   , training samples 48   : 0.5\n",
      "083.White_breasted_Kingfisher  test samples 12   , training samples 48   : 0.8333333333333334\n",
      "084.Red_legged_Kittiwake       test samples 10   , training samples 43   : 0.7\n",
      "085.Horned_Lark                test samples 12   , training samples 48   : 0.4166666666666667\n",
      "086.Pacific_Loon               test samples 12   , training samples 48   : 0.6666666666666666\n",
      "087.Mallard                    test samples 12   , training samples 48   : 0.75\n",
      "088.Western_Meadowlark         test samples 12   , training samples 48   : 0.8333333333333334\n",
      "089.Hooded_Merganser           test samples 12   , training samples 48   : 0.5833333333333334\n",
      "090.Red_breasted_Merganser     test samples 12   , training samples 48   : 0.75\n",
      "091.Mockingbird                test samples 12   , training samples 48   : 0.16666666666666666\n",
      "092.Nighthawk                  test samples 12   , training samples 48   : 0.4166666666666667\n",
      "093.Clark_Nutcracker           test samples 12   , training samples 48   : 0.5833333333333334\n",
      "094.White_breasted_Nuthatch    test samples 12   , training samples 48   : 0.5\n",
      "095.Baltimore_Oriole           test samples 12   , training samples 48   : 0.5833333333333334\n",
      "096.Hooded_Oriole              test samples 12   , training samples 48   : 0.6666666666666666\n",
      "097.Orchard_Oriole             test samples 12   , training samples 47   : 0.5\n",
      "098.Scott_Oriole               test samples 12   , training samples 48   : 0.75\n",
      "099.Ovenbird                   test samples 12   , training samples 48   : 0.5\n",
      "100.Brown_Pelican              test samples 12   , training samples 48   : 0.5\n",
      "101.White_Pelican              test samples 10   , training samples 40   : 0.5\n",
      "102.Western_Wood_Pewee         test samples 12   , training samples 48   : 0.5833333333333334\n",
      "103.Sayornis                   test samples 12   , training samples 48   : 0.25\n",
      "104.American_Pipit             test samples 12   , training samples 48   : 0.5\n",
      "105.Whip_poor_Will             test samples 10   , training samples 39   : 0.1\n",
      "106.Horned_Puffin              test samples 12   , training samples 48   : 0.75\n",
      "107.Common_Raven               test samples 12   , training samples 47   : 0.5\n",
      "108.White_necked_Raven         test samples 12   , training samples 48   : 0.25\n",
      "109.American_Redstart          test samples 12   , training samples 48   : 0.75\n",
      "110.Geococcyx                  test samples 12   , training samples 48   : 0.5833333333333334\n",
      "111.Loggerhead_Shrike          test samples 12   , training samples 48   : 0.5\n",
      "112.Great_Grey_Shrike          test samples 12   , training samples 48   : 0.16666666666666666\n",
      "113.Baird_Sparrow              test samples 10   , training samples 40   : 0.6\n",
      "114.Black_throated_Sparrow     test samples 12   , training samples 48   : 0.5\n",
      "115.Brewer_Sparrow             test samples 12   , training samples 47   : 0.3333333333333333\n",
      "116.Chipping_Sparrow           test samples 12   , training samples 48   : 0.6666666666666666\n",
      "117.Clay_colored_Sparrow       test samples 12   , training samples 47   : 0.5\n",
      "118.House_Sparrow              test samples 12   , training samples 48   : 0.25\n",
      "119.Field_Sparrow              test samples 12   , training samples 47   : 0.3333333333333333\n",
      "120.Fox_Sparrow                test samples 12   , training samples 48   : 0.5833333333333334\n",
      "121.Grasshopper_Sparrow        test samples 12   , training samples 48   : 0.16666666666666666\n",
      "122.Harris_Sparrow             test samples 12   , training samples 48   : 0.16666666666666666\n",
      "123.Henslow_Sparrow            test samples 12   , training samples 48   : 0.5833333333333334\n",
      "124.Le_Conte_Sparrow           test samples 12   , training samples 47   : 0.5\n",
      "125.Lincoln_Sparrow            test samples 12   , training samples 47   : 0.5\n",
      "126.Nelson_Sharp_tailed_Sparrow test samples 12   , training samples 47   : 0.3333333333333333\n",
      "127.Savannah_Sparrow           test samples 12   , training samples 48   : 0.5\n",
      "128.Seaside_Sparrow            test samples 12   , training samples 48   : 0.3333333333333333\n",
      "129.Song_Sparrow               test samples 12   , training samples 48   : 0.25\n",
      "130.Tree_Sparrow               test samples 12   , training samples 48   : 0.25\n",
      "131.Vesper_Sparrow             test samples 12   , training samples 48   : 0.5833333333333334\n",
      "132.White_crowned_Sparrow      test samples 12   , training samples 48   : 0.4166666666666667\n",
      "133.White_throated_Sparrow     test samples 12   , training samples 48   : 0.75\n",
      "134.Cape_Glossy_Starling       test samples 12   , training samples 48   : 0.8333333333333334\n",
      "135.Bank_Swallow               test samples 12   , training samples 47   : 0.08333333333333333\n",
      "136.Barn_Swallow               test samples 12   , training samples 48   : 0.5833333333333334\n",
      "137.Cliff_Swallow              test samples 12   , training samples 48   : 0.08333333333333333\n",
      "138.Tree_Swallow               test samples 12   , training samples 48   : 0.6666666666666666\n",
      "139.Scarlet_Tanager            test samples 12   , training samples 48   : 0.9166666666666666\n",
      "140.Summer_Tanager             test samples 12   , training samples 48   : 0.9166666666666666\n",
      "141.Artic_Tern                 test samples 11   , training samples 47   : 0.36363636363636365\n",
      "142.Black_Tern                 test samples 12   , training samples 48   : 0.08333333333333333\n",
      "143.Caspian_Tern               test samples 12   , training samples 48   : 0.08333333333333333\n",
      "144.Common_Tern                test samples 12   , training samples 48   : 0.25\n",
      "145.Elegant_Tern               test samples 12   , training samples 48   : 0.25\n",
      "146.Forsters_Tern              test samples 12   , training samples 48   : 0.16666666666666666\n",
      "147.Least_Tern                 test samples 12   , training samples 48   : 0.75\n",
      "148.Green_tailed_Towhee        test samples 12   , training samples 48   : 0.8333333333333334\n",
      "149.Brown_Thrasher             test samples 12   , training samples 47   : 0.3333333333333333\n",
      "150.Sage_Thrasher              test samples 12   , training samples 48   : 0.5\n",
      "151.Black_capped_Vireo         test samples 10   , training samples 41   : 0.4\n",
      "152.Blue_headed_Vireo          test samples 12   , training samples 48   : 0.5833333333333334\n",
      "153.Philadelphia_Vireo         test samples 12   , training samples 47   : 0.6666666666666666\n",
      "154.Red_eyed_Vireo             test samples 12   , training samples 48   : 0.4166666666666667\n",
      "155.Warbling_Vireo             test samples 12   , training samples 48   : 0.6666666666666666\n",
      "156.White_eyed_Vireo           test samples 12   , training samples 48   : 0.5833333333333334\n",
      "157.Yellow_throated_Vireo      test samples 12   , training samples 47   : 0.3333333333333333\n",
      "158.Bay_breasted_Warbler       test samples 12   , training samples 48   : 0.5\n",
      "159.Black_and_white_Warbler    test samples 12   , training samples 48   : 0.75\n",
      "160.Black_throated_Blue_Warbler test samples 12   , training samples 47   : 0.75\n",
      "161.Blue_winged_Warbler        test samples 12   , training samples 48   : 0.25\n",
      "162.Canada_Warbler             test samples 12   , training samples 48   : 0.4166666666666667\n",
      "163.Cape_May_Warbler           test samples 12   , training samples 48   : 0.5\n",
      "164.Cerulean_Warbler           test samples 12   , training samples 48   : 0.75\n",
      "165.Chestnut_sided_Warbler     test samples 12   , training samples 48   : 0.6666666666666666\n",
      "166.Golden_winged_Warbler      test samples 12   , training samples 47   : 0.5833333333333334\n",
      "167.Hooded_Warbler             test samples 12   , training samples 48   : 0.6666666666666666\n",
      "168.Kentucky_Warbler           test samples 12   , training samples 47   : 0.6666666666666666\n",
      "169.Magnolia_Warbler           test samples 12   , training samples 47   : 0.5\n",
      "170.Mourning_Warbler           test samples 12   , training samples 48   : 0.5833333333333334\n",
      "171.Myrtle_Warbler             test samples 12   , training samples 48   : 0.4166666666666667\n",
      "172.Nashville_Warbler          test samples 12   , training samples 48   : 0.6666666666666666\n",
      "173.Orange_crowned_Warbler     test samples 12   , training samples 48   : 0.3333333333333333\n",
      "174.Palm_Warbler               test samples 12   , training samples 48   : 0.3333333333333333\n",
      "175.Pine_Warbler               test samples 12   , training samples 48   : 0.3333333333333333\n",
      "176.Prairie_Warbler            test samples 12   , training samples 48   : 0.9166666666666666\n",
      "177.Prothonotary_Warbler       test samples 12   , training samples 48   : 0.8333333333333334\n",
      "178.Swainson_Warbler           test samples 11   , training samples 45   : 0.36363636363636365\n",
      "179.Tennessee_Warbler          test samples 12   , training samples 47   : 0.4166666666666667\n",
      "180.Wilson_Warbler             test samples 12   , training samples 48   : 0.75\n",
      "181.Worm_eating_Warbler        test samples 12   , training samples 47   : 0.5\n",
      "182.Yellow_Warbler             test samples 12   , training samples 48   : 0.16666666666666666\n",
      "183.Northern_Waterthrush       test samples 12   , training samples 48   : 0.3333333333333333\n",
      "184.Louisiana_Waterthrush      test samples 12   , training samples 48   : 0.4166666666666667\n",
      "185.Bohemian_Waxwing           test samples 12   , training samples 48   : 0.75\n",
      "186.Cedar_Waxwing              test samples 12   , training samples 48   : 0.6666666666666666\n",
      "187.American_Three_toed_Woodpecker test samples 10   , training samples 40   : 0.4\n",
      "188.Pileated_Woodpecker        test samples 12   , training samples 48   : 0.8333333333333334\n",
      "189.Red_bellied_Woodpecker     test samples 12   , training samples 48   : 0.8333333333333334\n",
      "190.Red_cockaded_Woodpecker    test samples 11   , training samples 47   : 0.6363636363636364\n",
      "191.Red_headed_Woodpecker      test samples 12   , training samples 48   : 0.75\n",
      "192.Downy_Woodpecker           test samples 12   , training samples 48   : 0.8333333333333334\n",
      "193.Bewick_Wren                test samples 12   , training samples 48   : 0.3333333333333333\n",
      "194.Cactus_Wren                test samples 12   , training samples 48   : 0.4166666666666667\n",
      "195.Carolina_Wren              test samples 12   , training samples 48   : 0.25\n",
      "196.House_Wren                 test samples 12   , training samples 47   : 0.08333333333333333\n",
      "197.Marsh_Wren                 test samples 12   , training samples 48   : 0.25\n",
      "198.Rock_Wren                  test samples 12   , training samples 48   : 0.25\n",
      "199.Winter_Wren                test samples 12   , training samples 48   : 0.75\n",
      "200.Common_Yellowthroat        test samples 12   , training samples 48   : 0.5833333333333334\n"
     ]
    }
   ],
   "source": [
    "acc_dict = {}\n",
    "for i in test_labels.unique():\n",
    "    new_labels = test_labels[test_labels==i]\n",
    "    new_embeddings = test_embeddings[test_labels==i]\n",
    "    accuracies = accuracy_calculator.get_accuracy(\n",
    "        new_embeddings, new_labels, train_embeddings, train_labels, False\n",
    "    )\n",
    "    acc_dict[data_dict[int(i.detach().cpu().numpy())]]=[ \n",
    "                  len(new_labels),\n",
    "                  len(train_labels[train_labels==i]),\n",
    "                  accuracies[\"precision_at_1\"][0]]\n",
    "    print(\"{:<30} test samples {:<5}, training samples {:<5}: {}\".format(data_dict[int(i.detach().cpu().numpy())],\n",
    "                                                                  len(new_labels),\n",
    "                                                                  len(train_labels[train_labels==i]),\n",
    "                                                                  accuracies[\"precision_at_1\"][0]))"
   ]
  },
  {
   "cell_type": "code",
   "execution_count": 29,
   "id": "971a3f40-43ba-47d0-b313-b6f86dd13d81",
   "metadata": {},
   "outputs": [],
   "source": [
    "all_table = [[k]+v for k,v in acc_dict.items()]"
   ]
  },
  {
   "cell_type": "code",
   "execution_count": 30,
   "id": "c4d9d6d7-2f79-410e-9e8d-b03d5df6092d",
   "metadata": {},
   "outputs": [],
   "source": [
    "columns = [\"class_name\", \"no. of test samples\", \"no. of train samples\", \"precision@1\"]\n",
    "train_table = wandb.Table(data=all_table, columns=columns)"
   ]
  },
  {
   "cell_type": "code",
   "execution_count": 31,
   "id": "76dc029c-15da-4f8d-9a24-d2a6e13e4e3f",
   "metadata": {},
   "outputs": [],
   "source": [
    "run.log({\"all_classes_metrics\": train_table})"
   ]
  },
  {
   "cell_type": "code",
   "execution_count": 29,
   "id": "48f001d0-dfdb-49ca-bee6-de0cda9c846b",
   "metadata": {},
   "outputs": [
    {
     "name": "stderr",
     "output_type": "stream",
     "text": [
      "100%|█████████████████████████████████████████████████████████████████████████████████████████████████████| 295/295 [00:16<00:00, 17.66it/s]\n",
      "100%|███████████████████████████████████████████████████████████████████████████████████████████████████████| 74/74 [00:04<00:00, 17.84it/s]\n"
     ]
    }
   ],
   "source": [
    "train_embeddings, train_labels = get_all_embeddings(train_dataset, model)\n",
    "test_embeddings, test_labels = get_all_embeddings(test_dataset, model)\n",
    "train_labels = train_labels.squeeze(1)\n",
    "test_labels = test_labels.squeeze(1)"
   ]
  },
  {
   "cell_type": "code",
   "execution_count": 33,
   "id": "3a95fea1-6b58-4dcf-aeb7-de1a40ee731b",
   "metadata": {},
   "outputs": [],
   "source": [
    "import faiss\n",
    "# Create a Faiss index\n",
    "index = faiss.IndexFlatIP(128)\n",
    "# Add some vectors to the index\n",
    "index.add(train_embeddings.detach().cpu().numpy())"
   ]
  },
  {
   "cell_type": "code",
   "execution_count": 34,
   "id": "b7865da3-0493-4c18-b748-9ed4858e4168",
   "metadata": {},
   "outputs": [],
   "source": [
    "pred_labels = [] \n",
    "for embedding,label in zip(test_embeddings.detach().cpu().numpy(),test_labels):\n",
    "    distances, indices = index.search(embedding.reshape(1,-1).astype(np.float32), 1)\n",
    "    pred_class = train_labels[indices[0][0]]\n",
    "    pred_labels.append(pred_class)"
   ]
  },
  {
   "cell_type": "code",
   "execution_count": 35,
   "id": "4dfd3a2f-3e63-45ec-9429-abb80862949d",
   "metadata": {},
   "outputs": [],
   "source": [
    "pred_labels = [i.detach().cpu().numpy() for i in pred_labels]"
   ]
  },
  {
   "cell_type": "code",
   "execution_count": 36,
   "id": "09e38eb6-ef8a-4a3d-bd0d-41939ffe9133",
   "metadata": {
    "scrolled": true
   },
   "outputs": [],
   "source": [
    "from sklearn.metrics import classification_report\n",
    "report = classification_report(test_labels.detach().cpu().numpy(), pred_labels, target_names=list(class_dict.keys()),output_dict=True)"
   ]
  },
  {
   "cell_type": "code",
   "execution_count": 37,
   "id": "bc382f16-271b-482f-ba83-7d9f2e382e81",
   "metadata": {},
   "outputs": [
    {
     "name": "stdout",
     "output_type": "stream",
     "text": [
      "                                    precision    recall  f1-score   support\n",
      "\n",
      "        001.Black_footed_Albatross       0.33      0.42      0.37        12\n",
      "              002.Laysan_Albatross       0.33      0.42      0.37        12\n",
      "               003.Sooty_Albatross       0.14      0.08      0.11        12\n",
      "             004.Groove_billed_Ani       0.18      0.25      0.21        12\n",
      "                005.Crested_Auklet       0.50      0.67      0.57         9\n",
      "                  006.Least_Auklet       0.80      0.50      0.62         8\n",
      "               007.Parakeet_Auklet       0.75      0.60      0.67        10\n",
      "             008.Rhinoceros_Auklet       0.40      0.44      0.42         9\n",
      "              009.Brewer_Blackbird       0.29      0.17      0.21        12\n",
      "          010.Red_winged_Blackbird       0.69      0.75      0.72        12\n",
      "               011.Rusty_Blackbird       0.38      0.25      0.30        12\n",
      "       012.Yellow_headed_Blackbird       1.00      1.00      1.00        11\n",
      "                      013.Bobolink       0.67      0.67      0.67        12\n",
      "                014.Indigo_Bunting       0.50      0.67      0.57        12\n",
      "                015.Lazuli_Bunting       0.70      0.64      0.67        11\n",
      "               016.Painted_Bunting       1.00      0.73      0.84        11\n",
      "                      017.Cardinal       0.56      0.82      0.67        11\n",
      "               018.Spotted_Catbird       0.50      0.44      0.47         9\n",
      "                  019.Gray_Catbird       0.56      0.42      0.48        12\n",
      "          020.Yellow_breasted_Chat       0.21      0.25      0.23        12\n",
      "                021.Eastern_Towhee       0.60      0.50      0.55        12\n",
      "              022.Chuck_will_Widow       0.25      0.27      0.26        11\n",
      "              023.Brandt_Cormorant       0.29      0.33      0.31        12\n",
      "           024.Red_faced_Cormorant       0.57      0.40      0.47        10\n",
      "             025.Pelagic_Cormorant       0.12      0.08      0.10        12\n",
      "               026.Bronzed_Cowbird       0.67      0.67      0.67        12\n",
      "                 027.Shiny_Cowbird       0.11      0.17      0.13        12\n",
      "                 028.Brown_Creeper       0.67      0.50      0.57        12\n",
      "                 029.American_Crow       0.21      0.25      0.23        12\n",
      "                     030.Fish_Crow       0.24      0.50      0.32        12\n",
      "           031.Black_billed_Cuckoo       0.40      0.33      0.36        12\n",
      "               032.Mangrove_Cuckoo       0.14      0.50      0.22        10\n",
      "          033.Yellow_billed_Cuckoo       0.13      0.42      0.20        12\n",
      "       034.Gray_crowned_Rosy_Finch       0.58      0.58      0.58        12\n",
      "                  035.Purple_Finch       0.62      0.67      0.64        12\n",
      "              036.Northern_Flicker       0.86      0.50      0.63        12\n",
      "            037.Acadian_Flycatcher       0.38      0.25      0.30        12\n",
      "      038.Great_Crested_Flycatcher       0.38      0.25      0.30        12\n",
      "              039.Least_Flycatcher       0.17      0.08      0.11        12\n",
      "        040.Olive_sided_Flycatcher       0.60      0.25      0.35        12\n",
      "     041.Scissor_tailed_Flycatcher       0.60      0.50      0.55        12\n",
      "          042.Vermilion_Flycatcher       0.60      0.50      0.55        12\n",
      "     043.Yellow_bellied_Flycatcher       0.44      0.33      0.38        12\n",
      "                   044.Frigatebird       0.50      0.50      0.50        12\n",
      "               045.Northern_Fulmar       0.18      0.25      0.21        12\n",
      "                       046.Gadwall       0.62      0.42      0.50        12\n",
      "            047.American_Goldfinch       0.60      0.25      0.35        12\n",
      "            048.European_Goldfinch       0.92      0.92      0.92        12\n",
      "           049.Boat_tailed_Grackle       0.56      0.42      0.48        12\n",
      "                   050.Eared_Grebe       0.62      0.67      0.64        12\n",
      "                  051.Horned_Grebe       0.62      0.42      0.50        12\n",
      "             052.Pied_billed_Grebe       0.64      0.58      0.61        12\n",
      "                 053.Western_Grebe       0.73      0.67      0.70        12\n",
      "                 054.Blue_Grosbeak       1.00      0.58      0.74        12\n",
      "              055.Evening_Grosbeak       0.58      0.92      0.71        12\n",
      "                 056.Pine_Grosbeak       0.57      0.67      0.62        12\n",
      "        057.Rose_breasted_Grosbeak       0.73      0.67      0.70        12\n",
      "              058.Pigeon_Guillemot       0.33      0.25      0.29        12\n",
      "               059.California_Gull       0.25      0.08      0.12        12\n",
      "          060.Glaucous_winged_Gull       0.08      0.08      0.08        12\n",
      "                 061.Heermann_Gull       1.00      0.75      0.86        12\n",
      "                  062.Herring_Gull       0.33      0.25      0.29        12\n",
      "                    063.Ivory_Gull       0.60      0.50      0.55        12\n",
      "              064.Ring_billed_Gull       0.43      0.25      0.32        12\n",
      "             065.Slaty_backed_Gull       0.30      0.60      0.40        10\n",
      "                  066.Western_Gull       0.36      0.42      0.38        12\n",
      "              067.Anna_Hummingbird       0.60      0.50      0.55        12\n",
      "     068.Ruby_throated_Hummingbird       0.55      0.50      0.52        12\n",
      "            069.Rufous_Hummingbird       0.59      0.83      0.69        12\n",
      "               070.Green_Violetear       0.91      0.83      0.87        12\n",
      "            071.Long_tailed_Jaeger       0.10      0.08      0.09        12\n",
      "               072.Pomarine_Jaeger       0.19      0.25      0.21        12\n",
      "                      073.Blue_Jay       0.58      0.58      0.58        12\n",
      "                   074.Florida_Jay       0.44      0.33      0.38        12\n",
      "                     075.Green_Jay       0.90      0.82      0.86        11\n",
      "               076.Dark_eyed_Junco       0.33      0.42      0.37        12\n",
      "             077.Tropical_Kingbird       0.73      0.67      0.70        12\n",
      "                 078.Gray_Kingbird       0.38      0.42      0.40        12\n",
      "             079.Belted_Kingfisher       0.35      0.67      0.46        12\n",
      "              080.Green_Kingfisher       0.50      0.17      0.25        12\n",
      "               081.Pied_Kingfisher       0.82      0.75      0.78        12\n",
      "             082.Ringed_Kingfisher       0.40      0.50      0.44        12\n",
      "     083.White_breasted_Kingfisher       0.91      0.83      0.87        12\n",
      "          084.Red_legged_Kittiwake       0.50      0.70      0.58        10\n",
      "                   085.Horned_Lark       0.62      0.42      0.50        12\n",
      "                  086.Pacific_Loon       0.36      0.67      0.47        12\n",
      "                       087.Mallard       0.56      0.75      0.64        12\n",
      "            088.Western_Meadowlark       0.59      0.83      0.69        12\n",
      "              089.Hooded_Merganser       0.64      0.58      0.61        12\n",
      "        090.Red_breasted_Merganser       0.90      0.75      0.82        12\n",
      "                   091.Mockingbird       0.13      0.17      0.15        12\n",
      "                     092.Nighthawk       0.62      0.42      0.50        12\n",
      "              093.Clark_Nutcracker       0.78      0.58      0.67        12\n",
      "       094.White_breasted_Nuthatch       0.67      0.50      0.57        12\n",
      "              095.Baltimore_Oriole       0.58      0.58      0.58        12\n",
      "                 096.Hooded_Oriole       0.57      0.67      0.62        12\n",
      "                097.Orchard_Oriole       0.75      0.50      0.60        12\n",
      "                  098.Scott_Oriole       0.69      0.75      0.72        12\n",
      "                      099.Ovenbird       0.86      0.50      0.63        12\n",
      "                 100.Brown_Pelican       0.46      0.50      0.48        12\n",
      "                 101.White_Pelican       0.62      0.50      0.56        10\n",
      "            102.Western_Wood_Pewee       0.35      0.58      0.44        12\n",
      "                      103.Sayornis       0.30      0.25      0.27        12\n",
      "                104.American_Pipit       0.50      0.50      0.50        12\n",
      "                105.Whip_poor_Will       0.09      0.10      0.10        10\n",
      "                 106.Horned_Puffin       0.90      0.75      0.82        12\n",
      "                  107.Common_Raven       0.40      0.50      0.44        12\n",
      "            108.White_necked_Raven       0.27      0.25      0.26        12\n",
      "             109.American_Redstart       0.64      0.75      0.69        12\n",
      "                     110.Geococcyx       0.88      0.58      0.70        12\n",
      "             111.Loggerhead_Shrike       0.32      0.50      0.39        12\n",
      "             112.Great_Grey_Shrike       0.18      0.17      0.17        12\n",
      "                 113.Baird_Sparrow       0.46      0.60      0.52        10\n",
      "        114.Black_throated_Sparrow       0.67      0.50      0.57        12\n",
      "                115.Brewer_Sparrow       0.29      0.33      0.31        12\n",
      "              116.Chipping_Sparrow       0.62      0.67      0.64        12\n",
      "          117.Clay_colored_Sparrow       0.46      0.50      0.48        12\n",
      "                 118.House_Sparrow       0.38      0.25      0.30        12\n",
      "                 119.Field_Sparrow       0.29      0.33      0.31        12\n",
      "                   120.Fox_Sparrow       0.50      0.58      0.54        12\n",
      "           121.Grasshopper_Sparrow       0.18      0.17      0.17        12\n",
      "                122.Harris_Sparrow       0.29      0.17      0.21        12\n",
      "               123.Henslow_Sparrow       0.70      0.58      0.64        12\n",
      "              124.Le_Conte_Sparrow       0.75      0.50      0.60        12\n",
      "               125.Lincoln_Sparrow       0.60      0.50      0.55        12\n",
      "   126.Nelson_Sharp_tailed_Sparrow       0.57      0.33      0.42        12\n",
      "              127.Savannah_Sparrow       0.50      0.50      0.50        12\n",
      "               128.Seaside_Sparrow       0.50      0.33      0.40        12\n",
      "                  129.Song_Sparrow       0.25      0.25      0.25        12\n",
      "                  130.Tree_Sparrow       0.30      0.25      0.27        12\n",
      "                131.Vesper_Sparrow       0.44      0.58      0.50        12\n",
      "         132.White_crowned_Sparrow       0.83      0.42      0.56        12\n",
      "        133.White_throated_Sparrow       0.75      0.75      0.75        12\n",
      "          134.Cape_Glossy_Starling       0.91      0.83      0.87        12\n",
      "                  135.Bank_Swallow       0.10      0.08      0.09        12\n",
      "                  136.Barn_Swallow       0.88      0.58      0.70        12\n",
      "                 137.Cliff_Swallow       0.17      0.08      0.11        12\n",
      "                  138.Tree_Swallow       0.50      0.67      0.57        12\n",
      "               139.Scarlet_Tanager       0.85      0.92      0.88        12\n",
      "                140.Summer_Tanager       0.92      0.92      0.92        12\n",
      "                    141.Artic_Tern       0.44      0.36      0.40        11\n",
      "                    142.Black_Tern       0.12      0.08      0.10        12\n",
      "                  143.Caspian_Tern       0.12      0.08      0.10        12\n",
      "                   144.Common_Tern       0.16      0.25      0.19        12\n",
      "                  145.Elegant_Tern       0.38      0.25      0.30        12\n",
      "                 146.Forsters_Tern       0.22      0.17      0.19        12\n",
      "                    147.Least_Tern       0.75      0.75      0.75        12\n",
      "           148.Green_tailed_Towhee       0.83      0.83      0.83        12\n",
      "                149.Brown_Thrasher       0.40      0.33      0.36        12\n",
      "                 150.Sage_Thrasher       0.60      0.50      0.55        12\n",
      "            151.Black_capped_Vireo       0.67      0.40      0.50        10\n",
      "             152.Blue_headed_Vireo       0.41      0.58      0.48        12\n",
      "            153.Philadelphia_Vireo       0.42      0.67      0.52        12\n",
      "                154.Red_eyed_Vireo       0.33      0.42      0.37        12\n",
      "                155.Warbling_Vireo       0.44      0.67      0.53        12\n",
      "              156.White_eyed_Vireo       0.44      0.58      0.50        12\n",
      "         157.Yellow_throated_Vireo       0.40      0.33      0.36        12\n",
      "          158.Bay_breasted_Warbler       0.86      0.50      0.63        12\n",
      "       159.Black_and_white_Warbler       0.60      0.75      0.67        12\n",
      "   160.Black_throated_Blue_Warbler       0.56      0.75      0.64        12\n",
      "           161.Blue_winged_Warbler       0.30      0.25      0.27        12\n",
      "                162.Canada_Warbler       0.83      0.42      0.56        12\n",
      "              163.Cape_May_Warbler       0.86      0.50      0.63        12\n",
      "              164.Cerulean_Warbler       0.64      0.75      0.69        12\n",
      "        165.Chestnut_sided_Warbler       0.67      0.67      0.67        12\n",
      "         166.Golden_winged_Warbler       0.64      0.58      0.61        12\n",
      "                167.Hooded_Warbler       0.57      0.67      0.62        12\n",
      "              168.Kentucky_Warbler       0.73      0.67      0.70        12\n",
      "              169.Magnolia_Warbler       1.00      0.50      0.67        12\n",
      "              170.Mourning_Warbler       0.54      0.58      0.56        12\n",
      "                171.Myrtle_Warbler       0.56      0.42      0.48        12\n",
      "             172.Nashville_Warbler       0.40      0.67      0.50        12\n",
      "        173.Orange_crowned_Warbler       0.50      0.33      0.40        12\n",
      "                  174.Palm_Warbler       0.50      0.33      0.40        12\n",
      "                  175.Pine_Warbler       0.33      0.33      0.33        12\n",
      "               176.Prairie_Warbler       0.79      0.92      0.85        12\n",
      "          177.Prothonotary_Warbler       0.62      0.83      0.71        12\n",
      "              178.Swainson_Warbler       0.27      0.36      0.31        11\n",
      "             179.Tennessee_Warbler       0.38      0.42      0.40        12\n",
      "                180.Wilson_Warbler       0.47      0.75      0.58        12\n",
      "           181.Worm_eating_Warbler       0.46      0.50      0.48        12\n",
      "                182.Yellow_Warbler       0.33      0.17      0.22        12\n",
      "          183.Northern_Waterthrush       0.44      0.33      0.38        12\n",
      "         184.Louisiana_Waterthrush       0.42      0.42      0.42        12\n",
      "              185.Bohemian_Waxwing       0.47      0.75      0.58        12\n",
      "                 186.Cedar_Waxwing       0.89      0.67      0.76        12\n",
      "187.American_Three_toed_Woodpecker       0.67      0.40      0.50        10\n",
      "           188.Pileated_Woodpecker       0.77      0.83      0.80        12\n",
      "        189.Red_bellied_Woodpecker       0.83      0.83      0.83        12\n",
      "       190.Red_cockaded_Woodpecker       0.47      0.64      0.54        11\n",
      "         191.Red_headed_Woodpecker       0.64      0.75      0.69        12\n",
      "              192.Downy_Woodpecker       0.91      0.83      0.87        12\n",
      "                   193.Bewick_Wren       0.21      0.33      0.26        12\n",
      "                   194.Cactus_Wren       0.36      0.42      0.38        12\n",
      "                 195.Carolina_Wren       0.30      0.25      0.27        12\n",
      "                    196.House_Wren       0.25      0.08      0.12        12\n",
      "                    197.Marsh_Wren       0.18      0.25      0.21        12\n",
      "                     198.Rock_Wren       0.30      0.25      0.27        12\n",
      "                   199.Winter_Wren       0.75      0.75      0.75        12\n",
      "           200.Common_Yellowthroat       0.64      0.58      0.61        12\n",
      "\n",
      "                          accuracy                           0.49      2358\n",
      "                         macro avg       0.52      0.49      0.49      2358\n",
      "                      weighted avg       0.52      0.49      0.49      2358\n",
      "\n"
     ]
    }
   ],
   "source": [
    "print(classification_report(test_labels.detach().cpu().numpy(), pred_labels, target_names=list(class_dict.keys())))"
   ]
  },
  {
   "cell_type": "code",
   "execution_count": 38,
   "id": "1e8845dc-c978-4b7b-99e4-9729b79d87c1",
   "metadata": {},
   "outputs": [],
   "source": [
    "df = pd.DataFrame(report).transpose()"
   ]
  },
  {
   "cell_type": "code",
   "execution_count": 39,
   "id": "282eb152-50d2-46bd-ad7c-5904c9b2f0a4",
   "metadata": {},
   "outputs": [
    {
     "data": {
      "text/html": [
       "<div>\n",
       "<style scoped>\n",
       "    .dataframe tbody tr th:only-of-type {\n",
       "        vertical-align: middle;\n",
       "    }\n",
       "\n",
       "    .dataframe tbody tr th {\n",
       "        vertical-align: top;\n",
       "    }\n",
       "\n",
       "    .dataframe thead th {\n",
       "        text-align: right;\n",
       "    }\n",
       "</style>\n",
       "<table border=\"1\" class=\"dataframe\">\n",
       "  <thead>\n",
       "    <tr style=\"text-align: right;\">\n",
       "      <th></th>\n",
       "      <th>precision</th>\n",
       "      <th>recall</th>\n",
       "      <th>f1-score</th>\n",
       "      <th>support</th>\n",
       "    </tr>\n",
       "  </thead>\n",
       "  <tbody>\n",
       "    <tr>\n",
       "      <th>001.Black_footed_Albatross</th>\n",
       "      <td>0.333333</td>\n",
       "      <td>0.416667</td>\n",
       "      <td>0.370370</td>\n",
       "      <td>12.0</td>\n",
       "    </tr>\n",
       "    <tr>\n",
       "      <th>002.Laysan_Albatross</th>\n",
       "      <td>0.333333</td>\n",
       "      <td>0.416667</td>\n",
       "      <td>0.370370</td>\n",
       "      <td>12.0</td>\n",
       "    </tr>\n",
       "    <tr>\n",
       "      <th>003.Sooty_Albatross</th>\n",
       "      <td>0.142857</td>\n",
       "      <td>0.083333</td>\n",
       "      <td>0.105263</td>\n",
       "      <td>12.0</td>\n",
       "    </tr>\n",
       "    <tr>\n",
       "      <th>004.Groove_billed_Ani</th>\n",
       "      <td>0.176471</td>\n",
       "      <td>0.250000</td>\n",
       "      <td>0.206897</td>\n",
       "      <td>12.0</td>\n",
       "    </tr>\n",
       "    <tr>\n",
       "      <th>005.Crested_Auklet</th>\n",
       "      <td>0.500000</td>\n",
       "      <td>0.666667</td>\n",
       "      <td>0.571429</td>\n",
       "      <td>9.0</td>\n",
       "    </tr>\n",
       "  </tbody>\n",
       "</table>\n",
       "</div>"
      ],
      "text/plain": [
       "                            precision    recall  f1-score  support\n",
       "001.Black_footed_Albatross   0.333333  0.416667  0.370370     12.0\n",
       "002.Laysan_Albatross         0.333333  0.416667  0.370370     12.0\n",
       "003.Sooty_Albatross          0.142857  0.083333  0.105263     12.0\n",
       "004.Groove_billed_Ani        0.176471  0.250000  0.206897     12.0\n",
       "005.Crested_Auklet           0.500000  0.666667  0.571429      9.0"
      ]
     },
     "execution_count": 39,
     "metadata": {},
     "output_type": "execute_result"
    }
   ],
   "source": [
    "df.head()"
   ]
  },
  {
   "cell_type": "code",
   "execution_count": 40,
   "id": "32e24514-4ae2-4dc2-b671-781c8c3d6180",
   "metadata": {},
   "outputs": [],
   "source": [
    "df.reset_index(inplace=True)"
   ]
  },
  {
   "cell_type": "code",
   "execution_count": 41,
   "id": "71ff6ed3-bcd9-4d2e-9371-b4c409d8a76c",
   "metadata": {},
   "outputs": [],
   "source": [
    "df.rename(columns={\"index\":'class_name'},inplace=True)"
   ]
  },
  {
   "cell_type": "code",
   "execution_count": 42,
   "id": "945dce04-630d-40b1-9e3d-8738875d3bd7",
   "metadata": {},
   "outputs": [],
   "source": [
    "classification_report_table = wandb.Table(dataframe=df)"
   ]
  },
  {
   "cell_type": "code",
   "execution_count": 43,
   "id": "3a1baa45-ad12-41e6-8e44-dd5ab0ba2eb7",
   "metadata": {},
   "outputs": [],
   "source": [
    "run.log({\"all_classes_classification_report\": classification_report_table})"
   ]
  },
  {
   "cell_type": "markdown",
   "id": "bbfc4b6e-d88c-45ac-9caf-6c5f26a0d52a",
   "metadata": {},
   "source": [
    "## Removing classes from training dataset and seeing performance"
   ]
  },
  {
   "cell_type": "code",
   "execution_count": 44,
   "id": "3597a740-157c-4c24-8d23-65c675de8f7d",
   "metadata": {},
   "outputs": [],
   "source": [
    "train_image_paths = []\n",
    "train_labels = []\n",
    "for folder_path,i in class_dict.items():\n",
    "    if i >= 180:\n",
    "        break\n",
    "    folder_images = glob.glob('CUB_200_2011/images/'+'/'+str(folder_path)+'/*')\n",
    "    train_image_paths.extend(folder_images)\n",
    "    train_labels.extend([i]*len(folder_images))"
   ]
  },
  {
   "cell_type": "code",
   "execution_count": 45,
   "id": "c353dd9e-9064-4774-8244-5770ac9c53cf",
   "metadata": {},
   "outputs": [],
   "source": [
    "test_image_paths = []\n",
    "test_labels = []\n",
    "for folder_path,i in class_dict.items():\n",
    "    if i >= 180:\n",
    "        folder_images = glob.glob('CUB_200_2011/images/'+'/'+str(folder_path)+'/*')\n",
    "        test_image_paths.extend(folder_images)\n",
    "        test_labels.extend([i]*len(folder_images))"
   ]
  },
  {
   "cell_type": "code",
   "execution_count": 46,
   "id": "7a58b988-aa16-4d57-99ef-c889b3bb72d6",
   "metadata": {},
   "outputs": [],
   "source": [
    "from sklearn.model_selection import train_test_split\n",
    "X_train, X_test, y_train, y_test = train_test_split(train_image_paths,train_labels, test_size=config['train_test_split'],\n",
    "                                                    stratify=train_labels, random_state=config['random_seed'])"
   ]
  },
  {
   "cell_type": "code",
   "execution_count": 47,
   "id": "c0902fb2-bd40-40c0-be84-81c2776bdfc6",
   "metadata": {},
   "outputs": [],
   "source": [
    "train_dataset  = CUBDataset(X_train,y_train,transform)\n",
    "test_dataset  = CUBDataset(X_test,y_test,transform)\n",
    "train_loader = torch.utils.data.DataLoader(train_dataset, batch_size=config['batch_size'], shuffle=True)\n",
    "test_loader = torch.utils.data.DataLoader(test_dataset, batch_size=config['batch_size'], shuffle=False)"
   ]
  },
  {
   "cell_type": "code",
   "execution_count": 52,
   "id": "74998763-e319-4389-a9cb-a14ef5a5ef47",
   "metadata": {},
   "outputs": [],
   "source": [
    "model = ResNetFeatrueExtractor18(pretrained=True)\n",
    "model = model.to(device)\n",
    "optimizer = optim.Adam(model.parameters(), lr=config['learning_rate'])\n",
    "num_epochs = config['num_epochs']\n",
    "\n",
    "### pytorch-metric-learning stuff ###\n",
    "distance = distances.CosineSimilarity()\n",
    "reducer = reducers.MeanReducer()\n",
    "loss_func = losses.NTXentLoss(temperature=config['temperature'], distance=distance, reducer=reducer)\n",
    "mining_func = miners.BatchEasyHardMiner(pos_strategy=\"easy\",neg_strategy=\"semihard\")\n",
    "\n",
    "knn_func = CustomKNN(CosineSimilarity())\n",
    "accuracy_calculator = AccuracyCalculator(include=(\"precision_at_1\",),k=1,knn_func=knn_func,avg_of_avgs=True,return_per_class=False)"
   ]
  },
  {
   "cell_type": "code",
   "execution_count": 53,
   "id": "51ad322f-f35f-44bf-b296-a546c9a9ae34",
   "metadata": {
    "scrolled": true
   },
   "outputs": [
    {
     "name": "stdout",
     "output_type": "stream",
     "text": [
      "Epoch 1 Iteration 0: Loss = 0.6494377851486206\n"
     ]
    },
    {
     "name": "stderr",
     "output_type": "stream",
     "text": [
      "100%|█████████████████████████████████████████████████████████████████████████████████████████████████████| 266/266 [00:12<00:00, 21.06it/s]\n",
      "100%|███████████████████████████████████████████████████████████████████████████████████████████████████████| 67/67 [00:08<00:00,  8.05it/s]\n"
     ]
    },
    {
     "name": "stdout",
     "output_type": "stream",
     "text": [
      "Computing accuracy\n",
      "Test set accuracy (Precision@1) = 0.04516273849607182\n",
      "Epoch 2 Iteration 0: Loss = 0.6185256838798523\n"
     ]
    },
    {
     "name": "stderr",
     "output_type": "stream",
     "text": [
      "100%|█████████████████████████████████████████████████████████████████████████████████████████████████████| 266/266 [00:12<00:00, 21.11it/s]\n",
      "100%|███████████████████████████████████████████████████████████████████████████████████████████████████████| 67/67 [00:03<00:00, 21.04it/s]\n"
     ]
    },
    {
     "name": "stdout",
     "output_type": "stream",
     "text": [
      "Computing accuracy\n",
      "Test set accuracy (Precision@1) = 0.07518237934904601\n",
      "Epoch 3 Iteration 0: Loss = 0.6206299066543579\n"
     ]
    },
    {
     "name": "stderr",
     "output_type": "stream",
     "text": [
      "100%|█████████████████████████████████████████████████████████████████████████████████████████████████████| 266/266 [00:12<00:00, 21.04it/s]\n",
      "100%|███████████████████████████████████████████████████████████████████████████████████████████████████████| 67/67 [00:03<00:00, 21.21it/s]\n"
     ]
    },
    {
     "name": "stdout",
     "output_type": "stream",
     "text": [
      "Computing accuracy\n",
      "Test set accuracy (Precision@1) = 0.08707631874298541\n",
      "Epoch 4 Iteration 0: Loss = 0.6243012547492981\n"
     ]
    },
    {
     "name": "stderr",
     "output_type": "stream",
     "text": [
      "100%|█████████████████████████████████████████████████████████████████████████████████████████████████████| 266/266 [00:12<00:00, 21.15it/s]\n",
      "100%|███████████████████████████████████████████████████████████████████████████████████████████████████████| 67/67 [00:03<00:00, 21.13it/s]\n"
     ]
    },
    {
     "name": "stdout",
     "output_type": "stream",
     "text": [
      "Computing accuracy\n",
      "Test set accuracy (Precision@1) = 0.09784371492704826\n",
      "Epoch 5 Iteration 0: Loss = 0.6307435035705566\n"
     ]
    },
    {
     "name": "stderr",
     "output_type": "stream",
     "text": [
      "100%|█████████████████████████████████████████████████████████████████████████████████████████████████████| 266/266 [00:12<00:00, 21.16it/s]\n",
      "100%|███████████████████████████████████████████████████████████████████████████████████████████████████████| 67/67 [00:03<00:00, 21.28it/s]\n"
     ]
    },
    {
     "name": "stdout",
     "output_type": "stream",
     "text": [
      "Computing accuracy\n",
      "Test set accuracy (Precision@1) = 0.10359988776655442\n",
      "Epoch 6 Iteration 0: Loss = 0.6007393002510071\n"
     ]
    },
    {
     "name": "stderr",
     "output_type": "stream",
     "text": [
      "100%|█████████████████████████████████████████████████████████████████████████████████████████████████████| 266/266 [00:12<00:00, 21.11it/s]\n",
      "100%|███████████████████████████████████████████████████████████████████████████████████████████████████████| 67/67 [00:03<00:00, 21.20it/s]\n"
     ]
    },
    {
     "name": "stdout",
     "output_type": "stream",
     "text": [
      "Computing accuracy\n",
      "Test set accuracy (Precision@1) = 0.08422138047138046\n",
      "Epoch 7 Iteration 0: Loss = 0.6232229471206665\n"
     ]
    },
    {
     "name": "stderr",
     "output_type": "stream",
     "text": [
      "100%|█████████████████████████████████████████████████████████████████████████████████████████████████████| 266/266 [00:12<00:00, 21.16it/s]\n",
      "100%|███████████████████████████████████████████████████████████████████████████████████████████████████████| 67/67 [00:03<00:00, 21.14it/s]\n"
     ]
    },
    {
     "name": "stdout",
     "output_type": "stream",
     "text": [
      "Computing accuracy\n",
      "Test set accuracy (Precision@1) = 0.10238916947250282\n",
      "Epoch 8 Iteration 0: Loss = 0.6145118474960327\n"
     ]
    },
    {
     "name": "stderr",
     "output_type": "stream",
     "text": [
      "100%|█████████████████████████████████████████████████████████████████████████████████████████████████████| 266/266 [00:12<00:00, 21.19it/s]\n",
      "100%|███████████████████████████████████████████████████████████████████████████████████████████████████████| 67/67 [00:03<00:00, 21.27it/s]\n"
     ]
    },
    {
     "name": "stdout",
     "output_type": "stream",
     "text": [
      "Computing accuracy\n",
      "Test set accuracy (Precision@1) = 0.11895061728395062\n",
      "Epoch 9 Iteration 0: Loss = 0.6118305325508118\n"
     ]
    },
    {
     "name": "stderr",
     "output_type": "stream",
     "text": [
      "100%|█████████████████████████████████████████████████████████████████████████████████████████████████████| 266/266 [00:12<00:00, 21.14it/s]\n",
      "100%|███████████████████████████████████████████████████████████████████████████████████████████████████████| 67/67 [00:03<00:00, 21.29it/s]\n"
     ]
    },
    {
     "name": "stdout",
     "output_type": "stream",
     "text": [
      "Computing accuracy\n",
      "Test set accuracy (Precision@1) = 0.1168125701459035\n",
      "Epoch 10 Iteration 0: Loss = 0.595600962638855\n"
     ]
    },
    {
     "name": "stderr",
     "output_type": "stream",
     "text": [
      "100%|█████████████████████████████████████████████████████████████████████████████████████████████████████| 266/266 [00:12<00:00, 21.13it/s]\n",
      "100%|███████████████████████████████████████████████████████████████████████████████████████████████████████| 67/67 [00:03<00:00, 21.40it/s]\n"
     ]
    },
    {
     "name": "stdout",
     "output_type": "stream",
     "text": [
      "Computing accuracy\n",
      "Test set accuracy (Precision@1) = 0.14554713804713806\n",
      "Epoch 11 Iteration 0: Loss = 0.6113683581352234\n"
     ]
    },
    {
     "name": "stderr",
     "output_type": "stream",
     "text": [
      "100%|█████████████████████████████████████████████████████████████████████████████████████████████████████| 266/266 [00:12<00:00, 21.15it/s]\n",
      "100%|███████████████████████████████████████████████████████████████████████████████████████████████████████| 67/67 [00:03<00:00, 21.21it/s]\n"
     ]
    },
    {
     "name": "stdout",
     "output_type": "stream",
     "text": [
      "Computing accuracy\n",
      "Test set accuracy (Precision@1) = 0.1361672278338945\n",
      "Epoch 12 Iteration 0: Loss = 0.6074816584587097\n"
     ]
    },
    {
     "name": "stderr",
     "output_type": "stream",
     "text": [
      "100%|█████████████████████████████████████████████████████████████████████████████████████████████████████| 266/266 [00:12<00:00, 21.15it/s]\n",
      "100%|███████████████████████████████████████████████████████████████████████████████████████████████████████| 67/67 [00:03<00:00, 21.35it/s]\n"
     ]
    },
    {
     "name": "stdout",
     "output_type": "stream",
     "text": [
      "Computing accuracy\n",
      "Test set accuracy (Precision@1) = 0.15698793490460158\n",
      "Epoch 13 Iteration 0: Loss = 0.5699571967124939\n"
     ]
    },
    {
     "name": "stderr",
     "output_type": "stream",
     "text": [
      "100%|█████████████████████████████████████████████████████████████████████████████████████████████████████| 266/266 [00:12<00:00, 21.19it/s]\n",
      "100%|███████████████████████████████████████████████████████████████████████████████████████████████████████| 67/67 [00:03<00:00, 21.46it/s]\n"
     ]
    },
    {
     "name": "stdout",
     "output_type": "stream",
     "text": [
      "Computing accuracy\n",
      "Test set accuracy (Precision@1) = 0.17449354657687993\n",
      "Epoch 14 Iteration 0: Loss = 0.609035313129425\n"
     ]
    },
    {
     "name": "stderr",
     "output_type": "stream",
     "text": [
      "100%|█████████████████████████████████████████████████████████████████████████████████████████████████████| 266/266 [00:12<00:00, 21.22it/s]\n",
      "100%|███████████████████████████████████████████████████████████████████████████████████████████████████████| 67/67 [00:03<00:00, 21.30it/s]\n"
     ]
    },
    {
     "name": "stdout",
     "output_type": "stream",
     "text": [
      "Computing accuracy\n",
      "Test set accuracy (Precision@1) = 0.15257575757575756\n",
      "Epoch 15 Iteration 0: Loss = 0.5801786780357361\n"
     ]
    },
    {
     "name": "stderr",
     "output_type": "stream",
     "text": [
      "100%|█████████████████████████████████████████████████████████████████████████████████████████████████████| 266/266 [00:12<00:00, 21.18it/s]\n",
      "100%|███████████████████████████████████████████████████████████████████████████████████████████████████████| 67/67 [00:03<00:00, 21.11it/s]\n"
     ]
    },
    {
     "name": "stdout",
     "output_type": "stream",
     "text": [
      "Computing accuracy\n",
      "Test set accuracy (Precision@1) = 0.1754503367003367\n",
      "Epoch 16 Iteration 0: Loss = 0.5764075517654419\n"
     ]
    },
    {
     "name": "stderr",
     "output_type": "stream",
     "text": [
      "100%|█████████████████████████████████████████████████████████████████████████████████████████████████████| 266/266 [00:12<00:00, 21.11it/s]\n",
      "100%|███████████████████████████████████████████████████████████████████████████████████████████████████████| 67/67 [00:03<00:00, 21.27it/s]\n"
     ]
    },
    {
     "name": "stdout",
     "output_type": "stream",
     "text": [
      "Computing accuracy\n",
      "Test set accuracy (Precision@1) = 0.1847727272727273\n",
      "Epoch 17 Iteration 0: Loss = 0.5517606139183044\n"
     ]
    },
    {
     "name": "stderr",
     "output_type": "stream",
     "text": [
      "100%|█████████████████████████████████████████████████████████████████████████████████████████████████████| 266/266 [00:12<00:00, 21.14it/s]\n",
      "100%|███████████████████████████████████████████████████████████████████████████████████████████████████████| 67/67 [00:03<00:00, 21.29it/s]\n"
     ]
    },
    {
     "name": "stdout",
     "output_type": "stream",
     "text": [
      "Computing accuracy\n",
      "Test set accuracy (Precision@1) = 0.1981902356902357\n",
      "Epoch 18 Iteration 0: Loss = 0.57109135389328\n"
     ]
    },
    {
     "name": "stderr",
     "output_type": "stream",
     "text": [
      "100%|█████████████████████████████████████████████████████████████████████████████████████████████████████| 266/266 [00:12<00:00, 21.22it/s]\n",
      "100%|███████████████████████████████████████████████████████████████████████████████████████████████████████| 67/67 [00:03<00:00, 21.48it/s]\n"
     ]
    },
    {
     "name": "stdout",
     "output_type": "stream",
     "text": [
      "Computing accuracy\n",
      "Test set accuracy (Precision@1) = 0.19039001122334456\n",
      "Epoch 19 Iteration 0: Loss = 0.5570010542869568\n"
     ]
    },
    {
     "name": "stderr",
     "output_type": "stream",
     "text": [
      "100%|█████████████████████████████████████████████████████████████████████████████████████████████████████| 266/266 [00:12<00:00, 21.14it/s]\n",
      "100%|███████████████████████████████████████████████████████████████████████████████████████████████████████| 67/67 [00:03<00:00, 21.28it/s]\n"
     ]
    },
    {
     "name": "stdout",
     "output_type": "stream",
     "text": [
      "Computing accuracy\n",
      "Test set accuracy (Precision@1) = 0.1980499438832772\n",
      "Epoch 20 Iteration 0: Loss = 0.5321603417396545\n"
     ]
    },
    {
     "name": "stderr",
     "output_type": "stream",
     "text": [
      "100%|█████████████████████████████████████████████████████████████████████████████████████████████████████| 266/266 [00:12<00:00, 21.16it/s]\n",
      "100%|███████████████████████████████████████████████████████████████████████████████████████████████████████| 67/67 [00:03<00:00, 21.27it/s]\n"
     ]
    },
    {
     "name": "stdout",
     "output_type": "stream",
     "text": [
      "Computing accuracy\n",
      "Test set accuracy (Precision@1) = 0.2292185746352413\n",
      "Epoch 21 Iteration 0: Loss = 0.5473588705062866\n"
     ]
    },
    {
     "name": "stderr",
     "output_type": "stream",
     "text": [
      "100%|█████████████████████████████████████████████████████████████████████████████████████████████████████| 266/266 [00:12<00:00, 21.17it/s]\n",
      "100%|███████████████████████████████████████████████████████████████████████████████████████████████████████| 67/67 [00:03<00:00, 21.26it/s]\n"
     ]
    },
    {
     "name": "stdout",
     "output_type": "stream",
     "text": [
      "Computing accuracy\n",
      "Test set accuracy (Precision@1) = 0.21905022446689115\n",
      "Epoch 22 Iteration 0: Loss = 0.5374760627746582\n"
     ]
    },
    {
     "name": "stderr",
     "output_type": "stream",
     "text": [
      "100%|█████████████████████████████████████████████████████████████████████████████████████████████████████| 266/266 [00:12<00:00, 21.17it/s]\n",
      "100%|███████████████████████████████████████████████████████████████████████████████████████████████████████| 67/67 [00:03<00:00, 21.39it/s]\n"
     ]
    },
    {
     "name": "stdout",
     "output_type": "stream",
     "text": [
      "Computing accuracy\n",
      "Test set accuracy (Precision@1) = 0.21690375982042648\n",
      "Epoch 23 Iteration 0: Loss = 0.541072428226471\n"
     ]
    },
    {
     "name": "stderr",
     "output_type": "stream",
     "text": [
      "100%|█████████████████████████████████████████████████████████████████████████████████████████████████████| 266/266 [00:12<00:00, 21.16it/s]\n",
      "100%|███████████████████████████████████████████████████████████████████████████████████████████████████████| 67/67 [00:03<00:00, 21.32it/s]\n"
     ]
    },
    {
     "name": "stdout",
     "output_type": "stream",
     "text": [
      "Computing accuracy\n",
      "Test set accuracy (Precision@1) = 0.22252665544332212\n",
      "Epoch 24 Iteration 0: Loss = 0.5747891664505005\n"
     ]
    },
    {
     "name": "stderr",
     "output_type": "stream",
     "text": [
      "100%|█████████████████████████████████████████████████████████████████████████████████████████████████████| 266/266 [00:12<00:00, 21.14it/s]\n",
      "100%|███████████████████████████████████████████████████████████████████████████████████████████████████████| 67/67 [00:03<00:00, 21.43it/s]\n"
     ]
    },
    {
     "name": "stdout",
     "output_type": "stream",
     "text": [
      "Computing accuracy\n",
      "Test set accuracy (Precision@1) = 0.22448232323232323\n",
      "Epoch 25 Iteration 0: Loss = 0.5315460562705994\n"
     ]
    },
    {
     "name": "stderr",
     "output_type": "stream",
     "text": [
      "100%|█████████████████████████████████████████████████████████████████████████████████████████████████████| 266/266 [00:12<00:00, 20.91it/s]\n",
      "100%|███████████████████████████████████████████████████████████████████████████████████████████████████████| 67/67 [00:03<00:00, 21.18it/s]\n"
     ]
    },
    {
     "name": "stdout",
     "output_type": "stream",
     "text": [
      "Computing accuracy\n",
      "Test set accuracy (Precision@1) = 0.2244205948372615\n",
      "Epoch 26 Iteration 0: Loss = 0.5414168238639832\n"
     ]
    },
    {
     "name": "stderr",
     "output_type": "stream",
     "text": [
      "100%|█████████████████████████████████████████████████████████████████████████████████████████████████████| 266/266 [00:12<00:00, 21.23it/s]\n",
      "100%|███████████████████████████████████████████████████████████████████████████████████████████████████████| 67/67 [00:03<00:00, 21.42it/s]\n"
     ]
    },
    {
     "name": "stdout",
     "output_type": "stream",
     "text": [
      "Computing accuracy\n",
      "Test set accuracy (Precision@1) = 0.26388327721661053\n",
      "Epoch 27 Iteration 0: Loss = 0.5187582969665527\n"
     ]
    },
    {
     "name": "stderr",
     "output_type": "stream",
     "text": [
      "100%|█████████████████████████████████████████████████████████████████████████████████████████████████████| 266/266 [00:12<00:00, 21.19it/s]\n",
      "100%|███████████████████████████████████████████████████████████████████████████████████████████████████████| 67/67 [00:03<00:00, 21.47it/s]\n"
     ]
    },
    {
     "name": "stdout",
     "output_type": "stream",
     "text": [
      "Computing accuracy\n",
      "Test set accuracy (Precision@1) = 0.26298260381593713\n",
      "Epoch 28 Iteration 0: Loss = 0.5423291921615601\n"
     ]
    },
    {
     "name": "stderr",
     "output_type": "stream",
     "text": [
      "100%|█████████████████████████████████████████████████████████████████████████████████████████████████████| 266/266 [00:12<00:00, 21.13it/s]\n",
      "100%|███████████████████████████████████████████████████████████████████████████████████████████████████████| 67/67 [00:03<00:00, 21.28it/s]\n"
     ]
    },
    {
     "name": "stdout",
     "output_type": "stream",
     "text": [
      "Computing accuracy\n",
      "Test set accuracy (Precision@1) = 0.2553745791245791\n",
      "Epoch 29 Iteration 0: Loss = 0.5718367099761963\n"
     ]
    },
    {
     "name": "stderr",
     "output_type": "stream",
     "text": [
      "100%|█████████████████████████████████████████████████████████████████████████████████████████████████████| 266/266 [00:12<00:00, 21.28it/s]\n",
      "100%|███████████████████████████████████████████████████████████████████████████████████████████████████████| 67/67 [00:03<00:00, 21.31it/s]\n"
     ]
    },
    {
     "name": "stdout",
     "output_type": "stream",
     "text": [
      "Computing accuracy\n",
      "Test set accuracy (Precision@1) = 0.2638860830527497\n",
      "Epoch 30 Iteration 0: Loss = 0.501189112663269\n"
     ]
    },
    {
     "name": "stderr",
     "output_type": "stream",
     "text": [
      "100%|█████████████████████████████████████████████████████████████████████████████████████████████████████| 266/266 [00:12<00:00, 21.19it/s]\n",
      "100%|███████████████████████████████████████████████████████████████████████████████████████████████████████| 67/67 [00:03<00:00, 21.35it/s]\n"
     ]
    },
    {
     "name": "stdout",
     "output_type": "stream",
     "text": [
      "Computing accuracy\n",
      "Test set accuracy (Precision@1) = 0.2861616161616162\n",
      "Epoch 31 Iteration 0: Loss = 0.4783141016960144\n"
     ]
    },
    {
     "name": "stderr",
     "output_type": "stream",
     "text": [
      "100%|█████████████████████████████████████████████████████████████████████████████████████████████████████| 266/266 [00:12<00:00, 21.07it/s]\n",
      "100%|███████████████████████████████████████████████████████████████████████████████████████████████████████| 67/67 [00:03<00:00, 21.31it/s]\n"
     ]
    },
    {
     "name": "stdout",
     "output_type": "stream",
     "text": [
      "Computing accuracy\n",
      "Test set accuracy (Precision@1) = 0.28144781144781145\n",
      "Epoch 32 Iteration 0: Loss = 0.5163359642028809\n"
     ]
    },
    {
     "name": "stderr",
     "output_type": "stream",
     "text": [
      "100%|█████████████████████████████████████████████████████████████████████████████████████████████████████| 266/266 [00:12<00:00, 21.21it/s]\n",
      "100%|███████████████████████████████████████████████████████████████████████████████████████████████████████| 67/67 [00:03<00:00, 21.25it/s]\n"
     ]
    },
    {
     "name": "stdout",
     "output_type": "stream",
     "text": [
      "Computing accuracy\n",
      "Test set accuracy (Precision@1) = 0.27250841750841753\n",
      "Epoch 33 Iteration 0: Loss = 0.473659485578537\n"
     ]
    },
    {
     "name": "stderr",
     "output_type": "stream",
     "text": [
      "100%|█████████████████████████████████████████████████████████████████████████████████████████████████████| 266/266 [00:12<00:00, 21.24it/s]\n",
      "100%|███████████████████████████████████████████████████████████████████████████████████████████████████████| 67/67 [00:03<00:00, 21.35it/s]\n"
     ]
    },
    {
     "name": "stdout",
     "output_type": "stream",
     "text": [
      "Computing accuracy\n",
      "Test set accuracy (Precision@1) = 0.2932281144781145\n",
      "Epoch 34 Iteration 0: Loss = 0.500581681728363\n"
     ]
    },
    {
     "name": "stderr",
     "output_type": "stream",
     "text": [
      "100%|█████████████████████████████████████████████████████████████████████████████████████████████████████| 266/266 [00:12<00:00, 21.26it/s]\n",
      "100%|███████████████████████████████████████████████████████████████████████████████████████████████████████| 67/67 [00:03<00:00, 21.46it/s]\n"
     ]
    },
    {
     "name": "stdout",
     "output_type": "stream",
     "text": [
      "Computing accuracy\n",
      "Test set accuracy (Precision@1) = 0.2979264870931538\n",
      "Epoch 35 Iteration 0: Loss = 0.49703526496887207\n"
     ]
    },
    {
     "name": "stderr",
     "output_type": "stream",
     "text": [
      "100%|█████████████████████████████████████████████████████████████████████████████████████████████████████| 266/266 [00:12<00:00, 21.19it/s]\n",
      "100%|███████████████████████████████████████████████████████████████████████████████████████████████████████| 67/67 [00:03<00:00, 21.33it/s]\n"
     ]
    },
    {
     "name": "stdout",
     "output_type": "stream",
     "text": [
      "Computing accuracy\n",
      "Test set accuracy (Precision@1) = 0.3037724466891134\n",
      "Epoch 36 Iteration 0: Loss = 0.4912451505661011\n"
     ]
    },
    {
     "name": "stderr",
     "output_type": "stream",
     "text": [
      "100%|█████████████████████████████████████████████████████████████████████████████████████████████████████| 266/266 [00:12<00:00, 21.18it/s]\n",
      "100%|███████████████████████████████████████████████████████████████████████████████████████████████████████| 67/67 [00:03<00:00, 21.34it/s]\n"
     ]
    },
    {
     "name": "stdout",
     "output_type": "stream",
     "text": [
      "Computing accuracy\n",
      "Test set accuracy (Precision@1) = 0.2950897867564535\n",
      "Epoch 37 Iteration 0: Loss = 0.5044671893119812\n"
     ]
    },
    {
     "name": "stderr",
     "output_type": "stream",
     "text": [
      "100%|█████████████████████████████████████████████████████████████████████████████████████████████████████| 266/266 [00:12<00:00, 21.27it/s]\n",
      "100%|███████████████████████████████████████████████████████████████████████████████████████████████████████| 67/67 [00:03<00:00, 21.42it/s]\n"
     ]
    },
    {
     "name": "stdout",
     "output_type": "stream",
     "text": [
      "Computing accuracy\n",
      "Test set accuracy (Precision@1) = 0.27088383838383845\n",
      "Epoch 38 Iteration 0: Loss = 0.512815535068512\n"
     ]
    },
    {
     "name": "stderr",
     "output_type": "stream",
     "text": [
      "100%|█████████████████████████████████████████████████████████████████████████████████████████████████████| 266/266 [00:12<00:00, 21.21it/s]\n",
      "100%|███████████████████████████████████████████████████████████████████████████████████████████████████████| 67/67 [00:03<00:00, 21.44it/s]\n"
     ]
    },
    {
     "name": "stdout",
     "output_type": "stream",
     "text": [
      "Computing accuracy\n",
      "Test set accuracy (Precision@1) = 0.291820987654321\n",
      "Epoch 39 Iteration 0: Loss = 0.4347061514854431\n"
     ]
    },
    {
     "name": "stderr",
     "output_type": "stream",
     "text": [
      "100%|█████████████████████████████████████████████████████████████████████████████████████████████████████| 266/266 [00:12<00:00, 21.22it/s]\n",
      "100%|███████████████████████████████████████████████████████████████████████████████████████████████████████| 67/67 [00:03<00:00, 21.46it/s]\n"
     ]
    },
    {
     "name": "stdout",
     "output_type": "stream",
     "text": [
      "Computing accuracy\n",
      "Test set accuracy (Precision@1) = 0.3186742424242424\n",
      "Epoch 40 Iteration 0: Loss = 0.4055482745170593\n"
     ]
    },
    {
     "name": "stderr",
     "output_type": "stream",
     "text": [
      "100%|█████████████████████████████████████████████████████████████████████████████████████████████████████| 266/266 [00:12<00:00, 21.17it/s]\n",
      "100%|███████████████████████████████████████████████████████████████████████████████████████████████████████| 67/67 [00:03<00:00, 21.35it/s]\n"
     ]
    },
    {
     "name": "stdout",
     "output_type": "stream",
     "text": [
      "Computing accuracy\n",
      "Test set accuracy (Precision@1) = 0.32341610549943883\n",
      "Epoch 41 Iteration 0: Loss = 0.45562225580215454\n"
     ]
    },
    {
     "name": "stderr",
     "output_type": "stream",
     "text": [
      "100%|█████████████████████████████████████████████████████████████████████████████████████████████████████| 266/266 [00:12<00:00, 21.22it/s]\n",
      "100%|███████████████████████████████████████████████████████████████████████████████████████████████████████| 67/67 [00:03<00:00, 21.41it/s]\n"
     ]
    },
    {
     "name": "stdout",
     "output_type": "stream",
     "text": [
      "Computing accuracy\n",
      "Test set accuracy (Precision@1) = 0.3319710998877666\n",
      "Epoch 42 Iteration 0: Loss = 0.4644586443901062\n"
     ]
    },
    {
     "name": "stderr",
     "output_type": "stream",
     "text": [
      "100%|█████████████████████████████████████████████████████████████████████████████████████████████████████| 266/266 [00:12<00:00, 21.22it/s]\n",
      "100%|███████████████████████████████████████████████████████████████████████████████████████████████████████| 67/67 [00:03<00:00, 21.47it/s]\n"
     ]
    },
    {
     "name": "stdout",
     "output_type": "stream",
     "text": [
      "Computing accuracy\n",
      "Test set accuracy (Precision@1) = 0.32316077441077445\n",
      "Epoch 43 Iteration 0: Loss = 0.4117385149002075\n"
     ]
    },
    {
     "name": "stderr",
     "output_type": "stream",
     "text": [
      "100%|█████████████████████████████████████████████████████████████████████████████████████████████████████| 266/266 [00:12<00:00, 21.26it/s]\n",
      "100%|███████████████████████████████████████████████████████████████████████████████████████████████████████| 67/67 [00:03<00:00, 21.26it/s]\n"
     ]
    },
    {
     "name": "stdout",
     "output_type": "stream",
     "text": [
      "Computing accuracy\n",
      "Test set accuracy (Precision@1) = 0.33330246913580247\n",
      "Epoch 44 Iteration 0: Loss = 0.4255278408527374\n"
     ]
    },
    {
     "name": "stderr",
     "output_type": "stream",
     "text": [
      "100%|█████████████████████████████████████████████████████████████████████████████████████████████████████| 266/266 [00:12<00:00, 21.09it/s]\n",
      "100%|███████████████████████████████████████████████████████████████████████████████████████████████████████| 67/67 [00:03<00:00, 21.45it/s]\n"
     ]
    },
    {
     "name": "stdout",
     "output_type": "stream",
     "text": [
      "Computing accuracy\n",
      "Test set accuracy (Precision@1) = 0.26465347923681254\n",
      "Epoch 45 Iteration 0: Loss = 0.48911523818969727\n"
     ]
    },
    {
     "name": "stderr",
     "output_type": "stream",
     "text": [
      "100%|█████████████████████████████████████████████████████████████████████████████████████████████████████| 266/266 [00:12<00:00, 21.27it/s]\n",
      "100%|███████████████████████████████████████████████████████████████████████████████████████████████████████| 67/67 [00:03<00:00, 21.35it/s]\n"
     ]
    },
    {
     "name": "stdout",
     "output_type": "stream",
     "text": [
      "Computing accuracy\n",
      "Test set accuracy (Precision@1) = 0.31708473625140293\n",
      "Epoch 46 Iteration 0: Loss = 0.44599947333335876\n"
     ]
    },
    {
     "name": "stderr",
     "output_type": "stream",
     "text": [
      "100%|█████████████████████████████████████████████████████████████████████████████████████████████████████| 266/266 [00:12<00:00, 21.21it/s]\n",
      "100%|███████████████████████████████████████████████████████████████████████████████████████████████████████| 67/67 [00:03<00:00, 21.39it/s]\n"
     ]
    },
    {
     "name": "stdout",
     "output_type": "stream",
     "text": [
      "Computing accuracy\n",
      "Test set accuracy (Precision@1) = 0.3519921436588103\n",
      "Epoch 47 Iteration 0: Loss = 0.4276588261127472\n"
     ]
    },
    {
     "name": "stderr",
     "output_type": "stream",
     "text": [
      "100%|█████████████████████████████████████████████████████████████████████████████████████████████████████| 266/266 [00:12<00:00, 21.23it/s]\n",
      "100%|███████████████████████████████████████████████████████████████████████████████████████████████████████| 67/67 [00:03<00:00, 21.43it/s]\n"
     ]
    },
    {
     "name": "stdout",
     "output_type": "stream",
     "text": [
      "Computing accuracy\n",
      "Test set accuracy (Precision@1) = 0.3489997194163861\n",
      "Epoch 48 Iteration 0: Loss = 0.43683502078056335\n"
     ]
    },
    {
     "name": "stderr",
     "output_type": "stream",
     "text": [
      "100%|█████████████████████████████████████████████████████████████████████████████████████████████████████| 266/266 [00:12<00:00, 21.23it/s]\n",
      "100%|███████████████████████████████████████████████████████████████████████████████████████████████████████| 67/67 [00:03<00:00, 21.35it/s]\n"
     ]
    },
    {
     "name": "stdout",
     "output_type": "stream",
     "text": [
      "Computing accuracy\n",
      "Test set accuracy (Precision@1) = 0.3587289562289563\n",
      "Epoch 49 Iteration 0: Loss = 0.38565853238105774\n"
     ]
    },
    {
     "name": "stderr",
     "output_type": "stream",
     "text": [
      "100%|█████████████████████████████████████████████████████████████████████████████████████████████████████| 266/266 [00:12<00:00, 21.23it/s]\n",
      "100%|███████████████████████████████████████████████████████████████████████████████████████████████████████| 67/67 [00:03<00:00, 21.36it/s]\n"
     ]
    },
    {
     "name": "stdout",
     "output_type": "stream",
     "text": [
      "Computing accuracy\n",
      "Test set accuracy (Precision@1) = 0.35816077441077443\n",
      "Epoch 50 Iteration 0: Loss = 0.37845301628112793\n"
     ]
    },
    {
     "name": "stderr",
     "output_type": "stream",
     "text": [
      "100%|█████████████████████████████████████████████████████████████████████████████████████████████████████| 266/266 [00:12<00:00, 20.98it/s]\n",
      "100%|███████████████████████████████████████████████████████████████████████████████████████████████████████| 67/67 [00:03<00:00, 20.70it/s]\n"
     ]
    },
    {
     "name": "stdout",
     "output_type": "stream",
     "text": [
      "Computing accuracy\n",
      "Test set accuracy (Precision@1) = 0.3573933782267116\n",
      "Epoch 51 Iteration 0: Loss = 0.46119117736816406\n"
     ]
    },
    {
     "name": "stderr",
     "output_type": "stream",
     "text": [
      "100%|█████████████████████████████████████████████████████████████████████████████████████████████████████| 266/266 [00:12<00:00, 21.19it/s]\n",
      "100%|███████████████████████████████████████████████████████████████████████████████████████████████████████| 67/67 [00:03<00:00, 21.26it/s]\n"
     ]
    },
    {
     "name": "stdout",
     "output_type": "stream",
     "text": [
      "Computing accuracy\n",
      "Test set accuracy (Precision@1) = 0.3613902918069584\n",
      "Epoch 52 Iteration 0: Loss = 0.39532217383384705\n"
     ]
    },
    {
     "name": "stderr",
     "output_type": "stream",
     "text": [
      "100%|█████████████████████████████████████████████████████████████████████████████████████████████████████| 266/266 [00:12<00:00, 21.20it/s]\n",
      "100%|███████████████████████████████████████████████████████████████████████████████████████████████████████| 67/67 [00:03<00:00, 21.37it/s]\n"
     ]
    },
    {
     "name": "stdout",
     "output_type": "stream",
     "text": [
      "Computing accuracy\n",
      "Test set accuracy (Precision@1) = 0.3339436026936027\n",
      "Epoch 53 Iteration 0: Loss = 0.374733567237854\n"
     ]
    },
    {
     "name": "stderr",
     "output_type": "stream",
     "text": [
      "100%|█████████████████████████████████████████████████████████████████████████████████████████████████████| 266/266 [00:12<00:00, 21.17it/s]\n",
      "100%|███████████████████████████████████████████████████████████████████████████████████████████████████████| 67/67 [00:03<00:00, 21.26it/s]\n"
     ]
    },
    {
     "name": "stdout",
     "output_type": "stream",
     "text": [
      "Computing accuracy\n",
      "Test set accuracy (Precision@1) = 0.3713678451178451\n",
      "Epoch 54 Iteration 0: Loss = 0.39768773317337036\n"
     ]
    },
    {
     "name": "stderr",
     "output_type": "stream",
     "text": [
      "100%|█████████████████████████████████████████████████████████████████████████████████████████████████████| 266/266 [00:12<00:00, 21.24it/s]\n",
      "100%|███████████████████████████████████████████████████████████████████████████████████████████████████████| 67/67 [00:03<00:00, 21.43it/s]\n"
     ]
    },
    {
     "name": "stdout",
     "output_type": "stream",
     "text": [
      "Computing accuracy\n",
      "Test set accuracy (Precision@1) = 0.3800631313131313\n",
      "Epoch 55 Iteration 0: Loss = 0.43270576000213623\n"
     ]
    },
    {
     "name": "stderr",
     "output_type": "stream",
     "text": [
      "100%|█████████████████████████████████████████████████████████████████████████████████████████████████████| 266/266 [00:12<00:00, 21.24it/s]\n",
      "100%|███████████████████████████████████████████████████████████████████████████████████████████████████████| 67/67 [00:03<00:00, 21.46it/s]\n"
     ]
    },
    {
     "name": "stdout",
     "output_type": "stream",
     "text": [
      "Computing accuracy\n",
      "Test set accuracy (Precision@1) = 0.38030162738496076\n",
      "Epoch 56 Iteration 0: Loss = 0.30115896463394165\n"
     ]
    },
    {
     "name": "stderr",
     "output_type": "stream",
     "text": [
      "100%|█████████████████████████████████████████████████████████████████████████████████████████████████████| 266/266 [00:12<00:00, 21.19it/s]\n",
      "100%|███████████████████████████████████████████████████████████████████████████████████████████████████████| 67/67 [00:03<00:00, 20.70it/s]\n"
     ]
    },
    {
     "name": "stdout",
     "output_type": "stream",
     "text": [
      "Computing accuracy\n",
      "Test set accuracy (Precision@1) = 0.38603395061728396\n",
      "Epoch 57 Iteration 0: Loss = 0.3153402507305145\n"
     ]
    },
    {
     "name": "stderr",
     "output_type": "stream",
     "text": [
      "100%|█████████████████████████████████████████████████████████████████████████████████████████████████████| 266/266 [00:12<00:00, 21.24it/s]\n",
      "100%|███████████████████████████████████████████████████████████████████████████████████████████████████████| 67/67 [00:03<00:00, 21.34it/s]\n"
     ]
    },
    {
     "name": "stdout",
     "output_type": "stream",
     "text": [
      "Computing accuracy\n",
      "Test set accuracy (Precision@1) = 0.38848484848484854\n",
      "Epoch 58 Iteration 0: Loss = 0.33606210350990295\n"
     ]
    },
    {
     "name": "stderr",
     "output_type": "stream",
     "text": [
      "100%|█████████████████████████████████████████████████████████████████████████████████████████████████████| 266/266 [00:12<00:00, 21.23it/s]\n",
      "100%|███████████████████████████████████████████████████████████████████████████████████████████████████████| 67/67 [00:03<00:00, 21.36it/s]\n"
     ]
    },
    {
     "name": "stdout",
     "output_type": "stream",
     "text": [
      "Computing accuracy\n",
      "Test set accuracy (Precision@1) = 0.3927791806958474\n",
      "Epoch 59 Iteration 0: Loss = 0.3038778007030487\n"
     ]
    },
    {
     "name": "stderr",
     "output_type": "stream",
     "text": [
      "100%|█████████████████████████████████████████████████████████████████████████████████████████████████████| 266/266 [00:12<00:00, 21.19it/s]\n",
      "100%|███████████████████████████████████████████████████████████████████████████████████████████████████████| 67/67 [00:03<00:00, 21.37it/s]\n"
     ]
    },
    {
     "name": "stdout",
     "output_type": "stream",
     "text": [
      "Computing accuracy\n",
      "Test set accuracy (Precision@1) = 0.39564393939393944\n",
      "Epoch 60 Iteration 0: Loss = 0.2917855381965637\n"
     ]
    },
    {
     "name": "stderr",
     "output_type": "stream",
     "text": [
      "100%|█████████████████████████████████████████████████████████████████████████████████████████████████████| 266/266 [00:12<00:00, 21.25it/s]\n",
      "100%|███████████████████████████████████████████████████████████████████████████████████████████████████████| 67/67 [00:03<00:00, 21.41it/s]\n"
     ]
    },
    {
     "name": "stdout",
     "output_type": "stream",
     "text": [
      "Computing accuracy\n",
      "Test set accuracy (Precision@1) = 0.40488355780022445\n",
      "Epoch 61 Iteration 0: Loss = 0.35085275769233704\n"
     ]
    },
    {
     "name": "stderr",
     "output_type": "stream",
     "text": [
      "100%|█████████████████████████████████████████████████████████████████████████████████████████████████████| 266/266 [00:12<00:00, 21.20it/s]\n",
      "100%|███████████████████████████████████████████████████████████████████████████████████████████████████████| 67/67 [00:03<00:00, 21.38it/s]\n"
     ]
    },
    {
     "name": "stdout",
     "output_type": "stream",
     "text": [
      "Computing accuracy\n",
      "Test set accuracy (Precision@1) = 0.39744949494949494\n",
      "Epoch 62 Iteration 0: Loss = 0.345378041267395\n"
     ]
    },
    {
     "name": "stderr",
     "output_type": "stream",
     "text": [
      "100%|█████████████████████████████████████████████████████████████████████████████████████████████████████| 266/266 [00:12<00:00, 21.27it/s]\n",
      "100%|███████████████████████████████████████████████████████████████████████████████████████████████████████| 67/67 [00:03<00:00, 21.38it/s]\n"
     ]
    },
    {
     "name": "stdout",
     "output_type": "stream",
     "text": [
      "Computing accuracy\n",
      "Test set accuracy (Precision@1) = 0.3974242424242424\n",
      "Epoch 63 Iteration 0: Loss = 0.273918092250824\n"
     ]
    },
    {
     "name": "stderr",
     "output_type": "stream",
     "text": [
      "100%|█████████████████████████████████████████████████████████████████████████████████████████████████████| 266/266 [00:12<00:00, 21.10it/s]\n",
      "100%|███████████████████████████████████████████████████████████████████████████████████████████████████████| 67/67 [00:03<00:00, 21.44it/s]\n"
     ]
    },
    {
     "name": "stdout",
     "output_type": "stream",
     "text": [
      "Computing accuracy\n",
      "Test set accuracy (Precision@1) = 0.4083487654320988\n",
      "Epoch 64 Iteration 0: Loss = 0.20276160538196564\n"
     ]
    },
    {
     "name": "stderr",
     "output_type": "stream",
     "text": [
      "100%|█████████████████████████████████████████████████████████████████████████████████████████████████████| 266/266 [00:12<00:00, 21.19it/s]\n",
      "100%|███████████████████████████████████████████████████████████████████████████████████████████████████████| 67/67 [00:03<00:00, 21.16it/s]\n"
     ]
    },
    {
     "name": "stdout",
     "output_type": "stream",
     "text": [
      "Computing accuracy\n",
      "Test set accuracy (Precision@1) = 0.41203282828282833\n",
      "Epoch 65 Iteration 0: Loss = 0.2590123116970062\n"
     ]
    },
    {
     "name": "stderr",
     "output_type": "stream",
     "text": [
      "100%|█████████████████████████████████████████████████████████████████████████████████████████████████████| 266/266 [00:12<00:00, 21.29it/s]\n",
      "100%|███████████████████████████████████████████████████████████████████████████████████████████████████████| 67/67 [00:03<00:00, 21.38it/s]\n"
     ]
    },
    {
     "name": "stdout",
     "output_type": "stream",
     "text": [
      "Computing accuracy\n",
      "Test set accuracy (Precision@1) = 0.41849326599326603\n",
      "Epoch 66 Iteration 0: Loss = 0.24707190692424774\n"
     ]
    },
    {
     "name": "stderr",
     "output_type": "stream",
     "text": [
      "100%|█████████████████████████████████████████████████████████████████████████████████████████████████████| 266/266 [00:12<00:00, 21.17it/s]\n",
      "100%|███████████████████████████████████████████████████████████████████████████████████████████████████████| 67/67 [00:03<00:00, 21.28it/s]\n"
     ]
    },
    {
     "name": "stdout",
     "output_type": "stream",
     "text": [
      "Computing accuracy\n",
      "Test set accuracy (Precision@1) = 0.3928324915824916\n",
      "Epoch 67 Iteration 0: Loss = 0.20735694468021393\n"
     ]
    },
    {
     "name": "stderr",
     "output_type": "stream",
     "text": [
      "100%|█████████████████████████████████████████████████████████████████████████████████████████████████████| 266/266 [00:12<00:00, 21.21it/s]\n",
      "100%|███████████████████████████████████████████████████████████████████████████████████████████████████████| 67/67 [00:03<00:00, 21.29it/s]\n"
     ]
    },
    {
     "name": "stdout",
     "output_type": "stream",
     "text": [
      "Computing accuracy\n",
      "Test set accuracy (Precision@1) = 0.4252609427609428\n",
      "Epoch 68 Iteration 0: Loss = 0.27673235535621643\n"
     ]
    },
    {
     "name": "stderr",
     "output_type": "stream",
     "text": [
      "100%|█████████████████████████████████████████████████████████████████████████████████████████████████████| 266/266 [00:12<00:00, 21.25it/s]\n",
      "100%|███████████████████████████████████████████████████████████████████████████████████████████████████████| 67/67 [00:03<00:00, 21.31it/s]\n"
     ]
    },
    {
     "name": "stdout",
     "output_type": "stream",
     "text": [
      "Computing accuracy\n",
      "Test set accuracy (Precision@1) = 0.42934624017957346\n",
      "Epoch 69 Iteration 0: Loss = 0.17804637551307678\n"
     ]
    },
    {
     "name": "stderr",
     "output_type": "stream",
     "text": [
      "100%|█████████████████████████████████████████████████████████████████████████████████████████████████████| 266/266 [00:12<00:00, 20.65it/s]\n",
      "100%|███████████████████████████████████████████████████████████████████████████████████████████████████████| 67/67 [00:03<00:00, 21.28it/s]\n"
     ]
    },
    {
     "name": "stdout",
     "output_type": "stream",
     "text": [
      "Computing accuracy\n",
      "Test set accuracy (Precision@1) = 0.4043167789001122\n",
      "Epoch 70 Iteration 0: Loss = 0.23975083231925964\n"
     ]
    },
    {
     "name": "stderr",
     "output_type": "stream",
     "text": [
      "100%|█████████████████████████████████████████████████████████████████████████████████████████████████████| 266/266 [00:12<00:00, 21.17it/s]\n",
      "100%|███████████████████████████████████████████████████████████████████████████████████████████████████████| 67/67 [00:03<00:00, 21.33it/s]\n"
     ]
    },
    {
     "name": "stdout",
     "output_type": "stream",
     "text": [
      "Computing accuracy\n",
      "Test set accuracy (Precision@1) = 0.43252665544332214\n",
      "Epoch 71 Iteration 0: Loss = 0.15080967545509338\n"
     ]
    },
    {
     "name": "stderr",
     "output_type": "stream",
     "text": [
      "100%|█████████████████████████████████████████████████████████████████████████████████████████████████████| 266/266 [00:12<00:00, 21.21it/s]\n",
      "100%|███████████████████████████████████████████████████████████████████████████████████████████████████████| 67/67 [00:03<00:00, 21.30it/s]\n"
     ]
    },
    {
     "name": "stdout",
     "output_type": "stream",
     "text": [
      "Computing accuracy\n",
      "Test set accuracy (Precision@1) = 0.408989898989899\n",
      "Epoch 72 Iteration 0: Loss = 0.15371547639369965\n"
     ]
    },
    {
     "name": "stderr",
     "output_type": "stream",
     "text": [
      "100%|█████████████████████████████████████████████████████████████████████████████████████████████████████| 266/266 [00:12<00:00, 21.20it/s]\n",
      "100%|███████████████████████████████████████████████████████████████████████████████████████████████████████| 67/67 [00:03<00:00, 20.14it/s]\n"
     ]
    },
    {
     "name": "stdout",
     "output_type": "stream",
     "text": [
      "Computing accuracy\n",
      "Test set accuracy (Precision@1) = 0.40989898989898993\n",
      "Epoch 73 Iteration 0: Loss = 0.22743730247020721\n"
     ]
    },
    {
     "name": "stderr",
     "output_type": "stream",
     "text": [
      "100%|█████████████████████████████████████████████████████████████████████████████████████████████████████| 266/266 [00:12<00:00, 21.25it/s]\n",
      "100%|███████████████████████████████████████████████████████████████████████████████████████████████████████| 67/67 [00:03<00:00, 21.23it/s]\n"
     ]
    },
    {
     "name": "stdout",
     "output_type": "stream",
     "text": [
      "Computing accuracy\n",
      "Test set accuracy (Precision@1) = 0.4330120650953985\n",
      "Epoch 74 Iteration 0: Loss = 0.16459061205387115\n"
     ]
    },
    {
     "name": "stderr",
     "output_type": "stream",
     "text": [
      "100%|█████████████████████████████████████████████████████████████████████████████████████████████████████| 266/266 [00:12<00:00, 21.20it/s]\n",
      "100%|███████████████████████████████████████████████████████████████████████████████████████████████████████| 67/67 [00:03<00:00, 21.36it/s]\n"
     ]
    },
    {
     "name": "stdout",
     "output_type": "stream",
     "text": [
      "Computing accuracy\n",
      "Test set accuracy (Precision@1) = 0.4464295735129069\n",
      "Epoch 75 Iteration 0: Loss = 0.1514502614736557\n"
     ]
    },
    {
     "name": "stderr",
     "output_type": "stream",
     "text": [
      "100%|█████████████████████████████████████████████████████████████████████████████████████████████████████| 266/266 [00:12<00:00, 21.05it/s]\n",
      "100%|███████████████████████████████████████████████████████████████████████████████████████████████████████| 67/67 [00:03<00:00, 21.30it/s]\n"
     ]
    },
    {
     "name": "stdout",
     "output_type": "stream",
     "text": [
      "Computing accuracy\n",
      "Test set accuracy (Precision@1) = 0.4256986531986532\n",
      "Epoch 76 Iteration 0: Loss = 0.14367152750492096\n"
     ]
    },
    {
     "name": "stderr",
     "output_type": "stream",
     "text": [
      "100%|█████████████████████████████████████████████████████████████████████████████████████████████████████| 266/266 [00:12<00:00, 21.17it/s]\n",
      "100%|███████████████████████████████████████████████████████████████████████████████████████████████████████| 67/67 [00:03<00:00, 21.27it/s]\n"
     ]
    },
    {
     "name": "stdout",
     "output_type": "stream",
     "text": [
      "Computing accuracy\n",
      "Test set accuracy (Precision@1) = 0.43767676767676766\n",
      "Epoch 77 Iteration 0: Loss = 0.17486576735973358\n"
     ]
    },
    {
     "name": "stderr",
     "output_type": "stream",
     "text": [
      "100%|█████████████████████████████████████████████████████████████████████████████████████████████████████| 266/266 [00:12<00:00, 21.18it/s]\n",
      "100%|███████████████████████████████████████████████████████████████████████████████████████████████████████| 67/67 [00:03<00:00, 21.25it/s]\n"
     ]
    },
    {
     "name": "stdout",
     "output_type": "stream",
     "text": [
      "Computing accuracy\n",
      "Test set accuracy (Precision@1) = 0.44241863075196414\n",
      "Epoch 78 Iteration 0: Loss = 0.128549262881279\n"
     ]
    },
    {
     "name": "stderr",
     "output_type": "stream",
     "text": [
      "100%|█████████████████████████████████████████████████████████████████████████████████████████████████████| 266/266 [00:12<00:00, 21.12it/s]\n",
      "100%|███████████████████████████████████████████████████████████████████████████████████████████████████████| 67/67 [00:03<00:00, 21.21it/s]\n"
     ]
    },
    {
     "name": "stdout",
     "output_type": "stream",
     "text": [
      "Computing accuracy\n",
      "Test set accuracy (Precision@1) = 0.4415965207631874\n",
      "Epoch 79 Iteration 0: Loss = 0.12387976795434952\n"
     ]
    },
    {
     "name": "stderr",
     "output_type": "stream",
     "text": [
      "100%|█████████████████████████████████████████████████████████████████████████████████████████████████████| 266/266 [00:12<00:00, 21.14it/s]\n",
      "100%|███████████████████████████████████████████████████████████████████████████████████████████████████████| 67/67 [00:03<00:00, 21.31it/s]\n"
     ]
    },
    {
     "name": "stdout",
     "output_type": "stream",
     "text": [
      "Computing accuracy\n",
      "Test set accuracy (Precision@1) = 0.43951459034792373\n",
      "Epoch 80 Iteration 0: Loss = 0.13529278337955475\n"
     ]
    },
    {
     "name": "stderr",
     "output_type": "stream",
     "text": [
      "100%|█████████████████████████████████████████████████████████████████████████████████████████████████████| 266/266 [00:12<00:00, 21.25it/s]\n",
      "100%|███████████████████████████████████████████████████████████████████████████████████████████████████████| 67/67 [00:03<00:00, 21.35it/s]\n"
     ]
    },
    {
     "name": "stdout",
     "output_type": "stream",
     "text": [
      "Computing accuracy\n",
      "Test set accuracy (Precision@1) = 0.44353114478114486\n",
      "Epoch 81 Iteration 0: Loss = 0.1529017984867096\n"
     ]
    },
    {
     "name": "stderr",
     "output_type": "stream",
     "text": [
      "100%|█████████████████████████████████████████████████████████████████████████████████████████████████████| 266/266 [00:12<00:00, 21.26it/s]\n",
      "100%|███████████████████████████████████████████████████████████████████████████████████████████████████████| 67/67 [00:03<00:00, 21.27it/s]\n"
     ]
    },
    {
     "name": "stdout",
     "output_type": "stream",
     "text": [
      "Computing accuracy\n",
      "Test set accuracy (Precision@1) = 0.44889730639730646\n",
      "Epoch 82 Iteration 0: Loss = 0.10570148378610611\n"
     ]
    },
    {
     "name": "stderr",
     "output_type": "stream",
     "text": [
      "100%|█████████████████████████████████████████████████████████████████████████████████████████████████████| 266/266 [00:12<00:00, 21.17it/s]\n",
      "100%|███████████████████████████████████████████████████████████████████████████████████████████████████████| 67/67 [00:03<00:00, 21.31it/s]\n"
     ]
    },
    {
     "name": "stdout",
     "output_type": "stream",
     "text": [
      "Computing accuracy\n",
      "Test set accuracy (Precision@1) = 0.45142676767676776\n",
      "Epoch 83 Iteration 0: Loss = 0.1775929480791092\n"
     ]
    },
    {
     "name": "stderr",
     "output_type": "stream",
     "text": [
      "100%|█████████████████████████████████████████████████████████████████████████████████████████████████████| 266/266 [00:12<00:00, 21.18it/s]\n",
      "100%|███████████████████████████████████████████████████████████████████████████████████████████████████████| 67/67 [00:03<00:00, 21.36it/s]\n"
     ]
    },
    {
     "name": "stdout",
     "output_type": "stream",
     "text": [
      "Computing accuracy\n",
      "Test set accuracy (Precision@1) = 0.4411882716049383\n",
      "Epoch 84 Iteration 0: Loss = 0.11469873785972595\n"
     ]
    },
    {
     "name": "stderr",
     "output_type": "stream",
     "text": [
      "100%|█████████████████████████████████████████████████████████████████████████████████████████████████████| 266/266 [00:12<00:00, 21.21it/s]\n",
      "100%|███████████████████████████████████████████████████████████████████████████████████████████████████████| 67/67 [00:03<00:00, 21.36it/s]\n"
     ]
    },
    {
     "name": "stdout",
     "output_type": "stream",
     "text": [
      "Computing accuracy\n",
      "Test set accuracy (Precision@1) = 0.4546408529741863\n",
      "Epoch 85 Iteration 0: Loss = 0.09649182856082916\n"
     ]
    },
    {
     "name": "stderr",
     "output_type": "stream",
     "text": [
      "100%|█████████████████████████████████████████████████████████████████████████████████████████████████████| 266/266 [00:12<00:00, 21.11it/s]\n",
      "100%|███████████████████████████████████████████████████████████████████████████████████████████████████████| 67/67 [00:03<00:00, 21.56it/s]\n"
     ]
    },
    {
     "name": "stdout",
     "output_type": "stream",
     "text": [
      "Computing accuracy\n",
      "Test set accuracy (Precision@1) = 0.4411882716049383\n",
      "Epoch 86 Iteration 0: Loss = 0.13943487405776978\n"
     ]
    },
    {
     "name": "stderr",
     "output_type": "stream",
     "text": [
      "100%|█████████████████████████████████████████████████████████████████████████████████████████████████████| 266/266 [00:12<00:00, 21.21it/s]\n",
      "100%|███████████████████████████████████████████████████████████████████████████████████████████████████████| 67/67 [00:03<00:00, 21.20it/s]\n"
     ]
    },
    {
     "name": "stdout",
     "output_type": "stream",
     "text": [
      "Computing accuracy\n",
      "Test set accuracy (Precision@1) = 0.45220117845117846\n",
      "Epoch 87 Iteration 0: Loss = 0.13862992823123932\n"
     ]
    },
    {
     "name": "stderr",
     "output_type": "stream",
     "text": [
      "100%|█████████████████████████████████████████████████████████████████████████████████████████████████████| 266/266 [00:12<00:00, 21.14it/s]\n",
      "100%|███████████████████████████████████████████████████████████████████████████████████████████████████████| 67/67 [00:03<00:00, 21.29it/s]\n"
     ]
    },
    {
     "name": "stdout",
     "output_type": "stream",
     "text": [
      "Computing accuracy\n",
      "Test set accuracy (Precision@1) = 0.4414001122334456\n",
      "Epoch 88 Iteration 0: Loss = 0.11341308802366257\n"
     ]
    },
    {
     "name": "stderr",
     "output_type": "stream",
     "text": [
      "100%|█████████████████████████████████████████████████████████████████████████████████████████████████████| 266/266 [00:12<00:00, 21.16it/s]\n",
      "100%|███████████████████████████████████████████████████████████████████████████████████████████████████████| 67/67 [00:03<00:00, 21.29it/s]\n"
     ]
    },
    {
     "name": "stdout",
     "output_type": "stream",
     "text": [
      "Computing accuracy\n",
      "Test set accuracy (Precision@1) = 0.44949915824915826\n",
      "Epoch 89 Iteration 0: Loss = 0.06914981454610825\n"
     ]
    },
    {
     "name": "stderr",
     "output_type": "stream",
     "text": [
      "100%|█████████████████████████████████████████████████████████████████████████████████████████████████████| 266/266 [00:12<00:00, 21.22it/s]\n",
      "100%|███████████████████████████████████████████████████████████████████████████████████████████████████████| 67/67 [00:03<00:00, 21.38it/s]\n"
     ]
    },
    {
     "name": "stdout",
     "output_type": "stream",
     "text": [
      "Computing accuracy\n",
      "Test set accuracy (Precision@1) = 0.4411602132435466\n",
      "Epoch 90 Iteration 0: Loss = 0.13179779052734375\n"
     ]
    },
    {
     "name": "stderr",
     "output_type": "stream",
     "text": [
      "100%|█████████████████████████████████████████████████████████████████████████████████████████████████████| 266/266 [00:12<00:00, 21.20it/s]\n",
      "100%|███████████████████████████████████████████████████████████████████████████████████████████████████████| 67/67 [00:03<00:00, 21.21it/s]\n"
     ]
    },
    {
     "name": "stdout",
     "output_type": "stream",
     "text": [
      "Computing accuracy\n",
      "Test set accuracy (Precision@1) = 0.4378773849607182\n",
      "Epoch 91 Iteration 0: Loss = 0.09984099864959717\n"
     ]
    },
    {
     "name": "stderr",
     "output_type": "stream",
     "text": [
      "100%|█████████████████████████████████████████████████████████████████████████████████████████████████████| 266/266 [00:12<00:00, 21.26it/s]\n",
      "100%|███████████████████████████████████████████████████████████████████████████████████████████████████████| 67/67 [00:03<00:00, 21.41it/s]\n"
     ]
    },
    {
     "name": "stdout",
     "output_type": "stream",
     "text": [
      "Computing accuracy\n",
      "Test set accuracy (Precision@1) = 0.4424340628507295\n",
      "Epoch 92 Iteration 0: Loss = 0.08048880845308304\n"
     ]
    },
    {
     "name": "stderr",
     "output_type": "stream",
     "text": [
      "100%|█████████████████████████████████████████████████████████████████████████████████████████████████████| 266/266 [00:12<00:00, 21.23it/s]\n",
      "100%|███████████████████████████████████████████████████████████████████████████████████████████████████████| 67/67 [00:03<00:00, 21.14it/s]\n"
     ]
    },
    {
     "name": "stdout",
     "output_type": "stream",
     "text": [
      "Computing accuracy\n",
      "Test set accuracy (Precision@1) = 0.46098204264870934\n",
      "Epoch 93 Iteration 0: Loss = 0.0969107374548912\n"
     ]
    },
    {
     "name": "stderr",
     "output_type": "stream",
     "text": [
      "100%|█████████████████████████████████████████████████████████████████████████████████████████████████████| 266/266 [00:12<00:00, 21.22it/s]\n",
      "100%|███████████████████████████████████████████████████████████████████████████████████████████████████████| 67/67 [00:03<00:00, 21.40it/s]\n"
     ]
    },
    {
     "name": "stdout",
     "output_type": "stream",
     "text": [
      "Computing accuracy\n",
      "Test set accuracy (Precision@1) = 0.46068602693602695\n",
      "Epoch 94 Iteration 0: Loss = 0.0714975968003273\n"
     ]
    },
    {
     "name": "stderr",
     "output_type": "stream",
     "text": [
      "100%|█████████████████████████████████████████████████████████████████████████████████████████████████████| 266/266 [00:12<00:00, 21.03it/s]\n",
      "100%|███████████████████████████████████████████████████████████████████████████████████████████████████████| 67/67 [00:03<00:00, 21.02it/s]\n"
     ]
    },
    {
     "name": "stdout",
     "output_type": "stream",
     "text": [
      "Computing accuracy\n",
      "Test set accuracy (Precision@1) = 0.461936026936027\n",
      "Epoch 95 Iteration 0: Loss = 0.046541664749383926\n"
     ]
    },
    {
     "name": "stderr",
     "output_type": "stream",
     "text": [
      "100%|█████████████████████████████████████████████████████████████████████████████████████████████████████| 266/266 [00:12<00:00, 21.21it/s]\n",
      "100%|███████████████████████████████████████████████████████████████████████████████████████████████████████| 67/67 [00:03<00:00, 21.31it/s]\n"
     ]
    },
    {
     "name": "stdout",
     "output_type": "stream",
     "text": [
      "Computing accuracy\n",
      "Test set accuracy (Precision@1) = 0.4502960157126824\n",
      "Epoch 96 Iteration 0: Loss = 0.04003289341926575\n"
     ]
    },
    {
     "name": "stderr",
     "output_type": "stream",
     "text": [
      "100%|█████████████████████████████████████████████████████████████████████████████████████████████████████| 266/266 [00:12<00:00, 21.28it/s]\n",
      "100%|███████████████████████████████████████████████████████████████████████████████████████████████████████| 67/67 [00:03<00:00, 21.15it/s]\n"
     ]
    },
    {
     "name": "stdout",
     "output_type": "stream",
     "text": [
      "Computing accuracy\n",
      "Test set accuracy (Precision@1) = 0.47428591470258136\n",
      "Epoch 97 Iteration 0: Loss = 0.04922892898321152\n"
     ]
    },
    {
     "name": "stderr",
     "output_type": "stream",
     "text": [
      "100%|█████████████████████████████████████████████████████████████████████████████████████████████████████| 266/266 [00:12<00:00, 21.19it/s]\n",
      "100%|███████████████████████████████████████████████████████████████████████████████████████████████████████| 67/67 [00:03<00:00, 21.50it/s]\n"
     ]
    },
    {
     "name": "stdout",
     "output_type": "stream",
     "text": [
      "Computing accuracy\n",
      "Test set accuracy (Precision@1) = 0.45749579124579126\n",
      "Epoch 98 Iteration 0: Loss = 0.0683542788028717\n"
     ]
    },
    {
     "name": "stderr",
     "output_type": "stream",
     "text": [
      "100%|█████████████████████████████████████████████████████████████████████████████████████████████████████| 266/266 [00:12<00:00, 21.26it/s]\n",
      "100%|███████████████████████████████████████████████████████████████████████████████████████████████████████| 67/67 [00:03<00:00, 21.42it/s]\n"
     ]
    },
    {
     "name": "stdout",
     "output_type": "stream",
     "text": [
      "Computing accuracy\n",
      "Test set accuracy (Precision@1) = 0.4674649270482604\n",
      "Epoch 99 Iteration 0: Loss = 0.0383492149412632\n"
     ]
    },
    {
     "name": "stderr",
     "output_type": "stream",
     "text": [
      "100%|█████████████████████████████████████████████████████████████████████████████████████████████████████| 266/266 [00:12<00:00, 21.24it/s]\n",
      "100%|███████████████████████████████████████████████████████████████████████████████████████████████████████| 67/67 [00:03<00:00, 21.39it/s]\n"
     ]
    },
    {
     "name": "stdout",
     "output_type": "stream",
     "text": [
      "Computing accuracy\n",
      "Test set accuracy (Precision@1) = 0.4735704264870932\n",
      "Epoch 100 Iteration 0: Loss = 0.03150412067770958\n"
     ]
    },
    {
     "name": "stderr",
     "output_type": "stream",
     "text": [
      "100%|█████████████████████████████████████████████████████████████████████████████████████████████████████| 266/266 [00:12<00:00, 21.26it/s]\n",
      "100%|███████████████████████████████████████████████████████████████████████████████████████████████████████| 67/67 [00:03<00:00, 20.61it/s]"
     ]
    },
    {
     "name": "stdout",
     "output_type": "stream",
     "text": [
      "Computing accuracy\n",
      "Test set accuracy (Precision@1) = 0.47548400673400676\n"
     ]
    },
    {
     "name": "stderr",
     "output_type": "stream",
     "text": [
      "\n"
     ]
    }
   ],
   "source": [
    "#total_loss = []\n",
    "#total_acc = []\n",
    "for epoch in range(1, num_epochs + 1):\n",
    "    train_loss = train(model, loss_func,mining_func, device, train_loader, optimizer, epoch)\n",
    "    #total_loss.extend(train_loss)\n",
    "    test_acc = test(train_dataset, test_dataset, model, accuracy_calculator)\n",
    "    #total_acc.append(test_acc)\n",
    "    wandb.log({\"test_accuracy2\": test_acc, \"train_loss2\": train_loss,'epoch':epoch})"
   ]
  },
  {
   "cell_type": "code",
   "execution_count": 54,
   "id": "440edbeb-80f8-42ec-9547-7bf913aa64b2",
   "metadata": {},
   "outputs": [],
   "source": [
    "torch.save(model,'models/cub_triplet_loss_epshn_cosine_resnet18_180.pth')"
   ]
  },
  {
   "cell_type": "code",
   "execution_count": 55,
   "id": "1ae29c0e-7b43-4364-a8b8-fcd403a56cbc",
   "metadata": {
    "scrolled": true
   },
   "outputs": [
    {
     "data": {
      "text/plain": [
       "ResNetFeatrueExtractor18(\n",
       "  (conv1): Conv2d(3, 64, kernel_size=(7, 7), stride=(2, 2), padding=(3, 3), bias=False)\n",
       "  (bn1): BatchNorm2d(64, eps=1e-05, momentum=0.1, affine=True, track_running_stats=True)\n",
       "  (relu): ReLU(inplace=True)\n",
       "  (maxpool): MaxPool2d(kernel_size=3, stride=2, padding=1, dilation=1, ceil_mode=False)\n",
       "  (layer1): Sequential(\n",
       "    (0): BasicBlock(\n",
       "      (conv1): Conv2d(64, 64, kernel_size=(3, 3), stride=(1, 1), padding=(1, 1), bias=False)\n",
       "      (bn1): BatchNorm2d(64, eps=1e-05, momentum=0.1, affine=True, track_running_stats=True)\n",
       "      (relu): ReLU(inplace=True)\n",
       "      (conv2): Conv2d(64, 64, kernel_size=(3, 3), stride=(1, 1), padding=(1, 1), bias=False)\n",
       "      (bn2): BatchNorm2d(64, eps=1e-05, momentum=0.1, affine=True, track_running_stats=True)\n",
       "    )\n",
       "    (1): BasicBlock(\n",
       "      (conv1): Conv2d(64, 64, kernel_size=(3, 3), stride=(1, 1), padding=(1, 1), bias=False)\n",
       "      (bn1): BatchNorm2d(64, eps=1e-05, momentum=0.1, affine=True, track_running_stats=True)\n",
       "      (relu): ReLU(inplace=True)\n",
       "      (conv2): Conv2d(64, 64, kernel_size=(3, 3), stride=(1, 1), padding=(1, 1), bias=False)\n",
       "      (bn2): BatchNorm2d(64, eps=1e-05, momentum=0.1, affine=True, track_running_stats=True)\n",
       "    )\n",
       "  )\n",
       "  (layer2): Sequential(\n",
       "    (0): BasicBlock(\n",
       "      (conv1): Conv2d(64, 128, kernel_size=(3, 3), stride=(2, 2), padding=(1, 1), bias=False)\n",
       "      (bn1): BatchNorm2d(128, eps=1e-05, momentum=0.1, affine=True, track_running_stats=True)\n",
       "      (relu): ReLU(inplace=True)\n",
       "      (conv2): Conv2d(128, 128, kernel_size=(3, 3), stride=(1, 1), padding=(1, 1), bias=False)\n",
       "      (bn2): BatchNorm2d(128, eps=1e-05, momentum=0.1, affine=True, track_running_stats=True)\n",
       "      (downsample): Sequential(\n",
       "        (0): Conv2d(64, 128, kernel_size=(1, 1), stride=(2, 2), bias=False)\n",
       "        (1): BatchNorm2d(128, eps=1e-05, momentum=0.1, affine=True, track_running_stats=True)\n",
       "      )\n",
       "    )\n",
       "    (1): BasicBlock(\n",
       "      (conv1): Conv2d(128, 128, kernel_size=(3, 3), stride=(1, 1), padding=(1, 1), bias=False)\n",
       "      (bn1): BatchNorm2d(128, eps=1e-05, momentum=0.1, affine=True, track_running_stats=True)\n",
       "      (relu): ReLU(inplace=True)\n",
       "      (conv2): Conv2d(128, 128, kernel_size=(3, 3), stride=(1, 1), padding=(1, 1), bias=False)\n",
       "      (bn2): BatchNorm2d(128, eps=1e-05, momentum=0.1, affine=True, track_running_stats=True)\n",
       "    )\n",
       "  )\n",
       "  (layer3): Sequential(\n",
       "    (0): BasicBlock(\n",
       "      (conv1): Conv2d(128, 256, kernel_size=(3, 3), stride=(2, 2), padding=(1, 1), bias=False)\n",
       "      (bn1): BatchNorm2d(256, eps=1e-05, momentum=0.1, affine=True, track_running_stats=True)\n",
       "      (relu): ReLU(inplace=True)\n",
       "      (conv2): Conv2d(256, 256, kernel_size=(3, 3), stride=(1, 1), padding=(1, 1), bias=False)\n",
       "      (bn2): BatchNorm2d(256, eps=1e-05, momentum=0.1, affine=True, track_running_stats=True)\n",
       "      (downsample): Sequential(\n",
       "        (0): Conv2d(128, 256, kernel_size=(1, 1), stride=(2, 2), bias=False)\n",
       "        (1): BatchNorm2d(256, eps=1e-05, momentum=0.1, affine=True, track_running_stats=True)\n",
       "      )\n",
       "    )\n",
       "    (1): BasicBlock(\n",
       "      (conv1): Conv2d(256, 256, kernel_size=(3, 3), stride=(1, 1), padding=(1, 1), bias=False)\n",
       "      (bn1): BatchNorm2d(256, eps=1e-05, momentum=0.1, affine=True, track_running_stats=True)\n",
       "      (relu): ReLU(inplace=True)\n",
       "      (conv2): Conv2d(256, 256, kernel_size=(3, 3), stride=(1, 1), padding=(1, 1), bias=False)\n",
       "      (bn2): BatchNorm2d(256, eps=1e-05, momentum=0.1, affine=True, track_running_stats=True)\n",
       "    )\n",
       "  )\n",
       "  (layer4): Sequential(\n",
       "    (0): BasicBlock(\n",
       "      (conv1): Conv2d(256, 512, kernel_size=(3, 3), stride=(2, 2), padding=(1, 1), bias=False)\n",
       "      (bn1): BatchNorm2d(512, eps=1e-05, momentum=0.1, affine=True, track_running_stats=True)\n",
       "      (relu): ReLU(inplace=True)\n",
       "      (conv2): Conv2d(512, 512, kernel_size=(3, 3), stride=(1, 1), padding=(1, 1), bias=False)\n",
       "      (bn2): BatchNorm2d(512, eps=1e-05, momentum=0.1, affine=True, track_running_stats=True)\n",
       "      (downsample): Sequential(\n",
       "        (0): Conv2d(256, 512, kernel_size=(1, 1), stride=(2, 2), bias=False)\n",
       "        (1): BatchNorm2d(512, eps=1e-05, momentum=0.1, affine=True, track_running_stats=True)\n",
       "      )\n",
       "    )\n",
       "    (1): BasicBlock(\n",
       "      (conv1): Conv2d(512, 512, kernel_size=(3, 3), stride=(1, 1), padding=(1, 1), bias=False)\n",
       "      (bn1): BatchNorm2d(512, eps=1e-05, momentum=0.1, affine=True, track_running_stats=True)\n",
       "      (relu): ReLU(inplace=True)\n",
       "      (conv2): Conv2d(512, 512, kernel_size=(3, 3), stride=(1, 1), padding=(1, 1), bias=False)\n",
       "      (bn2): BatchNorm2d(512, eps=1e-05, momentum=0.1, affine=True, track_running_stats=True)\n",
       "    )\n",
       "  )\n",
       "  (avgpool): AdaptiveAvgPool2d(output_size=(1, 1))\n",
       "  (fc1): Linear(in_features=512, out_features=128, bias=True)\n",
       ")"
      ]
     },
     "execution_count": 55,
     "metadata": {},
     "output_type": "execute_result"
    }
   ],
   "source": [
    "model.eval()"
   ]
  },
  {
   "cell_type": "code",
   "execution_count": 56,
   "id": "9baeaa00-0932-4952-9620-b49a1de77f88",
   "metadata": {},
   "outputs": [],
   "source": [
    "image_paths = []\n",
    "labels = []\n",
    "for folder_path,i in class_dict.items():\n",
    "    folder_images = glob.glob('CUB_200_2011/images/'+'/'+str(folder_path)+'/*')\n",
    "    image_paths.extend(folder_images)\n",
    "    labels.extend([i]*len(folder_images))"
   ]
  },
  {
   "cell_type": "code",
   "execution_count": 57,
   "id": "ba1ed4c4-806c-4b70-a1f1-fd61510cc52b",
   "metadata": {},
   "outputs": [],
   "source": [
    "from sklearn.model_selection import train_test_split\n",
    "X_train, X_test, y_train, y_test = train_test_split(image_paths, labels, test_size=config['train_test_split'],\n",
    "                                                    stratify=labels,\n",
    "                                                    random_state=config['random_seed'])"
   ]
  },
  {
   "cell_type": "code",
   "execution_count": 58,
   "id": "0df461d6-47c4-4213-8e78-aba9f59d0648",
   "metadata": {},
   "outputs": [],
   "source": [
    "train_dataset  = CUBDataset(X_train,y_train,transform)\n",
    "test_dataset  = CUBDataset(X_test,y_test,transform)"
   ]
  },
  {
   "cell_type": "code",
   "execution_count": 59,
   "id": "fba86090-7819-434c-af9f-28c001b83ad1",
   "metadata": {},
   "outputs": [
    {
     "name": "stderr",
     "output_type": "stream",
     "text": [
      "100%|█████████████████████████████████████████████████████████████████████████████████████████████████████| 295/295 [00:37<00:00,  7.90it/s]\n",
      "100%|███████████████████████████████████████████████████████████████████████████████████████████████████████| 74/74 [00:09<00:00,  8.02it/s]\n"
     ]
    }
   ],
   "source": [
    "train_embeddings, train_labels = get_all_embeddings(train_dataset, model)\n",
    "test_embeddings, test_labels = get_all_embeddings(test_dataset, model)\n",
    "train_labels = train_labels.squeeze(1)\n",
    "test_labels = test_labels.squeeze(1)"
   ]
  },
  {
   "cell_type": "code",
   "execution_count": 60,
   "id": "d3f4c51f-4298-475f-bd91-c620cb17060a",
   "metadata": {
    "scrolled": true
   },
   "outputs": [
    {
     "name": "stdout",
     "output_type": "stream",
     "text": [
      "001.Black_footed_Albatross     test samples 12   , training samples 48   : 0.9166666666666666\n",
      "002.Laysan_Albatross           test samples 12   , training samples 48   : 0.75\n",
      "003.Sooty_Albatross            test samples 12   , training samples 46   : 0.9166666666666666\n",
      "004.Groove_billed_Ani          test samples 12   , training samples 48   : 1.0\n",
      "005.Crested_Auklet             test samples 9    , training samples 35   : 0.7777777777777778\n",
      "006.Least_Auklet               test samples 8    , training samples 33   : 0.875\n",
      "007.Parakeet_Auklet            test samples 10   , training samples 43   : 0.8\n",
      "008.Rhinoceros_Auklet          test samples 9    , training samples 39   : 0.7777777777777778\n",
      "009.Brewer_Blackbird           test samples 12   , training samples 47   : 0.5\n",
      "010.Red_winged_Blackbird       test samples 12   , training samples 48   : 0.75\n",
      "011.Rusty_Blackbird            test samples 12   , training samples 48   : 0.16666666666666666\n",
      "012.Yellow_headed_Blackbird    test samples 11   , training samples 45   : 0.9090909090909091\n",
      "013.Bobolink                   test samples 12   , training samples 48   : 0.25\n",
      "014.Indigo_Bunting             test samples 12   , training samples 48   : 0.75\n",
      "015.Lazuli_Bunting             test samples 11   , training samples 47   : 0.7272727272727273\n",
      "016.Painted_Bunting            test samples 11   , training samples 47   : 0.6363636363636364\n",
      "017.Cardinal                   test samples 11   , training samples 46   : 0.6363636363636364\n",
      "018.Spotted_Catbird            test samples 9    , training samples 36   : 0.4444444444444444\n",
      "019.Gray_Catbird               test samples 12   , training samples 47   : 0.4166666666666667\n",
      "020.Yellow_breasted_Chat       test samples 12   , training samples 47   : 0.16666666666666666\n",
      "021.Eastern_Towhee             test samples 12   , training samples 48   : 0.3333333333333333\n",
      "022.Chuck_will_Widow           test samples 11   , training samples 45   : 0.18181818181818182\n",
      "023.Brandt_Cormorant           test samples 12   , training samples 47   : 0.25\n",
      "024.Red_faced_Cormorant        test samples 10   , training samples 42   : 0.5\n",
      "025.Pelagic_Cormorant          test samples 12   , training samples 48   : 0.16666666666666666\n",
      "026.Bronzed_Cowbird            test samples 12   , training samples 48   : 0.5\n",
      "027.Shiny_Cowbird              test samples 12   , training samples 48   : 0.16666666666666666\n",
      "028.Brown_Creeper              test samples 12   , training samples 47   : 0.5833333333333334\n",
      "029.American_Crow              test samples 12   , training samples 48   : 0.16666666666666666\n",
      "030.Fish_Crow                  test samples 12   , training samples 48   : 0.4166666666666667\n",
      "031.Black_billed_Cuckoo        test samples 12   , training samples 48   : 0.25\n",
      "032.Mangrove_Cuckoo            test samples 10   , training samples 43   : 0.2\n",
      "033.Yellow_billed_Cuckoo       test samples 12   , training samples 47   : 0.5833333333333334\n",
      "034.Gray_crowned_Rosy_Finch    test samples 12   , training samples 47   : 0.4166666666666667\n",
      "035.Purple_Finch               test samples 12   , training samples 48   : 0.5833333333333334\n",
      "036.Northern_Flicker           test samples 12   , training samples 48   : 0.4166666666666667\n",
      "037.Acadian_Flycatcher         test samples 12   , training samples 47   : 0.25\n",
      "038.Great_Crested_Flycatcher   test samples 12   , training samples 48   : 0.3333333333333333\n",
      "039.Least_Flycatcher           test samples 12   , training samples 47   : 0.08333333333333333\n",
      "040.Olive_sided_Flycatcher     test samples 12   , training samples 48   : 0.25\n",
      "041.Scissor_tailed_Flycatcher  test samples 12   , training samples 48   : 0.25\n",
      "042.Vermilion_Flycatcher       test samples 12   , training samples 48   : 0.4166666666666667\n",
      "043.Yellow_bellied_Flycatcher  test samples 12   , training samples 47   : 0.16666666666666666\n",
      "044.Frigatebird                test samples 12   , training samples 48   : 0.5\n",
      "045.Northern_Fulmar            test samples 12   , training samples 48   : 0.3333333333333333\n",
      "046.Gadwall                    test samples 12   , training samples 48   : 0.8333333333333334\n",
      "047.American_Goldfinch         test samples 12   , training samples 48   : 0.16666666666666666\n",
      "048.European_Goldfinch         test samples 12   , training samples 48   : 0.8333333333333334\n",
      "049.Boat_tailed_Grackle        test samples 12   , training samples 48   : 0.0\n",
      "050.Eared_Grebe                test samples 12   , training samples 48   : 0.4166666666666667\n",
      "051.Horned_Grebe               test samples 12   , training samples 48   : 0.3333333333333333\n",
      "052.Pied_billed_Grebe          test samples 12   , training samples 48   : 0.6666666666666666\n",
      "053.Western_Grebe              test samples 12   , training samples 48   : 0.75\n",
      "054.Blue_Grosbeak              test samples 12   , training samples 48   : 0.5\n",
      "055.Evening_Grosbeak           test samples 12   , training samples 48   : 0.9166666666666666\n",
      "056.Pine_Grosbeak              test samples 12   , training samples 48   : 0.3333333333333333\n",
      "057.Rose_breasted_Grosbeak     test samples 12   , training samples 48   : 0.6666666666666666\n",
      "058.Pigeon_Guillemot           test samples 12   , training samples 46   : 0.3333333333333333\n",
      "059.California_Gull            test samples 12   , training samples 48   : 0.25\n",
      "060.Glaucous_winged_Gull       test samples 12   , training samples 47   : 0.25\n",
      "061.Heermann_Gull              test samples 12   , training samples 48   : 0.3333333333333333\n",
      "062.Herring_Gull               test samples 12   , training samples 48   : 0.16666666666666666\n",
      "063.Ivory_Gull                 test samples 12   , training samples 48   : 0.3333333333333333\n",
      "064.Ring_billed_Gull           test samples 12   , training samples 48   : 0.16666666666666666\n",
      "065.Slaty_backed_Gull          test samples 10   , training samples 40   : 0.2\n",
      "066.Western_Gull               test samples 12   , training samples 48   : 0.4166666666666667\n",
      "067.Anna_Hummingbird           test samples 12   , training samples 48   : 0.25\n",
      "068.Ruby_throated_Hummingbird  test samples 12   , training samples 48   : 0.25\n",
      "069.Rufous_Hummingbird         test samples 12   , training samples 48   : 0.3333333333333333\n",
      "070.Green_Violetear            test samples 12   , training samples 48   : 0.8333333333333334\n",
      "071.Long_tailed_Jaeger         test samples 12   , training samples 48   : 0.0\n",
      "072.Pomarine_Jaeger            test samples 12   , training samples 48   : 0.25\n",
      "073.Blue_Jay                   test samples 12   , training samples 48   : 0.5833333333333334\n",
      "074.Florida_Jay                test samples 12   , training samples 48   : 0.5\n",
      "075.Green_Jay                  test samples 11   , training samples 46   : 0.7272727272727273\n",
      "076.Dark_eyed_Junco            test samples 12   , training samples 48   : 0.25\n",
      "077.Tropical_Kingbird          test samples 12   , training samples 48   : 0.75\n",
      "078.Gray_Kingbird              test samples 12   , training samples 47   : 0.5833333333333334\n",
      "079.Belted_Kingfisher          test samples 12   , training samples 48   : 0.4166666666666667\n",
      "080.Green_Kingfisher           test samples 12   , training samples 48   : 0.3333333333333333\n",
      "081.Pied_Kingfisher            test samples 12   , training samples 48   : 0.5\n",
      "082.Ringed_Kingfisher          test samples 12   , training samples 48   : 0.5\n",
      "083.White_breasted_Kingfisher  test samples 12   , training samples 48   : 0.75\n",
      "084.Red_legged_Kittiwake       test samples 10   , training samples 43   : 0.7\n",
      "085.Horned_Lark                test samples 12   , training samples 48   : 0.3333333333333333\n",
      "086.Pacific_Loon               test samples 12   , training samples 48   : 0.4166666666666667\n",
      "087.Mallard                    test samples 12   , training samples 48   : 0.6666666666666666\n",
      "088.Western_Meadowlark         test samples 12   , training samples 48   : 0.8333333333333334\n",
      "089.Hooded_Merganser           test samples 12   , training samples 48   : 0.75\n",
      "090.Red_breasted_Merganser     test samples 12   , training samples 48   : 0.8333333333333334\n",
      "091.Mockingbird                test samples 12   , training samples 48   : 0.08333333333333333\n",
      "092.Nighthawk                  test samples 12   , training samples 48   : 0.25\n",
      "093.Clark_Nutcracker           test samples 12   , training samples 48   : 0.4166666666666667\n",
      "094.White_breasted_Nuthatch    test samples 12   , training samples 48   : 0.3333333333333333\n",
      "095.Baltimore_Oriole           test samples 12   , training samples 48   : 0.5833333333333334\n",
      "096.Hooded_Oriole              test samples 12   , training samples 48   : 0.6666666666666666\n",
      "097.Orchard_Oriole             test samples 12   , training samples 47   : 0.16666666666666666\n",
      "098.Scott_Oriole               test samples 12   , training samples 48   : 0.8333333333333334\n",
      "099.Ovenbird                   test samples 12   , training samples 48   : 0.4166666666666667\n",
      "100.Brown_Pelican              test samples 12   , training samples 48   : 0.25\n",
      "101.White_Pelican              test samples 10   , training samples 40   : 0.5\n",
      "102.Western_Wood_Pewee         test samples 12   , training samples 48   : 0.16666666666666666\n",
      "103.Sayornis                   test samples 12   , training samples 48   : 0.16666666666666666\n",
      "104.American_Pipit             test samples 12   , training samples 48   : 0.4166666666666667\n",
      "105.Whip_poor_Will             test samples 10   , training samples 39   : 0.3\n",
      "106.Horned_Puffin              test samples 12   , training samples 48   : 0.5833333333333334\n",
      "107.Common_Raven               test samples 12   , training samples 47   : 0.3333333333333333\n",
      "108.White_necked_Raven         test samples 12   , training samples 48   : 0.08333333333333333\n",
      "109.American_Redstart          test samples 12   , training samples 48   : 0.6666666666666666\n",
      "110.Geococcyx                  test samples 12   , training samples 48   : 0.4166666666666667\n",
      "111.Loggerhead_Shrike          test samples 12   , training samples 48   : 0.5833333333333334\n",
      "112.Great_Grey_Shrike          test samples 12   , training samples 48   : 0.16666666666666666\n",
      "113.Baird_Sparrow              test samples 10   , training samples 40   : 0.5\n",
      "114.Black_throated_Sparrow     test samples 12   , training samples 48   : 0.5\n",
      "115.Brewer_Sparrow             test samples 12   , training samples 47   : 0.4166666666666667\n",
      "116.Chipping_Sparrow           test samples 12   , training samples 48   : 0.3333333333333333\n",
      "117.Clay_colored_Sparrow       test samples 12   , training samples 47   : 0.16666666666666666\n",
      "118.House_Sparrow              test samples 12   , training samples 48   : 0.4166666666666667\n",
      "119.Field_Sparrow              test samples 12   , training samples 47   : 0.4166666666666667\n",
      "120.Fox_Sparrow                test samples 12   , training samples 48   : 0.4166666666666667\n",
      "121.Grasshopper_Sparrow        test samples 12   , training samples 48   : 0.25\n",
      "122.Harris_Sparrow             test samples 12   , training samples 48   : 0.3333333333333333\n",
      "123.Henslow_Sparrow            test samples 12   , training samples 48   : 0.5833333333333334\n",
      "124.Le_Conte_Sparrow           test samples 12   , training samples 47   : 0.4166666666666667\n",
      "125.Lincoln_Sparrow            test samples 12   , training samples 47   : 0.3333333333333333\n",
      "126.Nelson_Sharp_tailed_Sparrow test samples 12   , training samples 47   : 0.5\n",
      "127.Savannah_Sparrow           test samples 12   , training samples 48   : 0.25\n",
      "128.Seaside_Sparrow            test samples 12   , training samples 48   : 0.5\n",
      "129.Song_Sparrow               test samples 12   , training samples 48   : 0.25\n",
      "130.Tree_Sparrow               test samples 12   , training samples 48   : 0.16666666666666666\n",
      "131.Vesper_Sparrow             test samples 12   , training samples 48   : 0.5833333333333334\n",
      "132.White_crowned_Sparrow      test samples 12   , training samples 48   : 0.3333333333333333\n",
      "133.White_throated_Sparrow     test samples 12   , training samples 48   : 0.6666666666666666\n",
      "134.Cape_Glossy_Starling       test samples 12   , training samples 48   : 0.6666666666666666\n",
      "135.Bank_Swallow               test samples 12   , training samples 47   : 0.16666666666666666\n",
      "136.Barn_Swallow               test samples 12   , training samples 48   : 0.5833333333333334\n",
      "137.Cliff_Swallow              test samples 12   , training samples 48   : 0.08333333333333333\n",
      "138.Tree_Swallow               test samples 12   , training samples 48   : 0.6666666666666666\n",
      "139.Scarlet_Tanager            test samples 12   , training samples 48   : 0.8333333333333334\n",
      "140.Summer_Tanager             test samples 12   , training samples 48   : 0.5\n",
      "141.Artic_Tern                 test samples 11   , training samples 47   : 0.5454545454545454\n",
      "142.Black_Tern                 test samples 12   , training samples 48   : 0.16666666666666666\n",
      "143.Caspian_Tern               test samples 12   , training samples 48   : 0.25\n",
      "144.Common_Tern                test samples 12   , training samples 48   : 0.25\n",
      "145.Elegant_Tern               test samples 12   , training samples 48   : 0.08333333333333333\n",
      "146.Forsters_Tern              test samples 12   , training samples 48   : 0.3333333333333333\n",
      "147.Least_Tern                 test samples 12   , training samples 48   : 0.6666666666666666\n",
      "148.Green_tailed_Towhee        test samples 12   , training samples 48   : 0.5\n",
      "149.Brown_Thrasher             test samples 12   , training samples 47   : 0.25\n",
      "150.Sage_Thrasher              test samples 12   , training samples 48   : 0.25\n",
      "151.Black_capped_Vireo         test samples 10   , training samples 41   : 0.3\n",
      "152.Blue_headed_Vireo          test samples 12   , training samples 48   : 0.3333333333333333\n",
      "153.Philadelphia_Vireo         test samples 12   , training samples 47   : 0.4166666666666667\n",
      "154.Red_eyed_Vireo             test samples 12   , training samples 48   : 0.25\n",
      "155.Warbling_Vireo             test samples 12   , training samples 48   : 0.6666666666666666\n",
      "156.White_eyed_Vireo           test samples 12   , training samples 48   : 0.6666666666666666\n",
      "157.Yellow_throated_Vireo      test samples 12   , training samples 47   : 0.25\n",
      "158.Bay_breasted_Warbler       test samples 12   , training samples 48   : 0.5\n",
      "159.Black_and_white_Warbler    test samples 12   , training samples 48   : 0.6666666666666666\n",
      "160.Black_throated_Blue_Warbler test samples 12   , training samples 47   : 0.75\n",
      "161.Blue_winged_Warbler        test samples 12   , training samples 48   : 0.5833333333333334\n",
      "162.Canada_Warbler             test samples 12   , training samples 48   : 0.4166666666666667\n",
      "163.Cape_May_Warbler           test samples 12   , training samples 48   : 0.5\n",
      "164.Cerulean_Warbler           test samples 12   , training samples 48   : 0.75\n",
      "165.Chestnut_sided_Warbler     test samples 12   , training samples 48   : 0.6666666666666666\n",
      "166.Golden_winged_Warbler      test samples 12   , training samples 47   : 0.75\n",
      "167.Hooded_Warbler             test samples 12   , training samples 48   : 0.5833333333333334\n",
      "168.Kentucky_Warbler           test samples 12   , training samples 47   : 0.3333333333333333\n",
      "169.Magnolia_Warbler           test samples 12   , training samples 47   : 0.5833333333333334\n",
      "170.Mourning_Warbler           test samples 12   , training samples 48   : 0.5\n",
      "171.Myrtle_Warbler             test samples 12   , training samples 48   : 0.3333333333333333\n",
      "172.Nashville_Warbler          test samples 12   , training samples 48   : 0.5\n",
      "173.Orange_crowned_Warbler     test samples 12   , training samples 48   : 0.5\n",
      "174.Palm_Warbler               test samples 12   , training samples 48   : 0.3333333333333333\n",
      "175.Pine_Warbler               test samples 12   , training samples 48   : 0.6666666666666666\n",
      "176.Prairie_Warbler            test samples 12   , training samples 48   : 0.75\n",
      "177.Prothonotary_Warbler       test samples 12   , training samples 48   : 0.5\n",
      "178.Swainson_Warbler           test samples 11   , training samples 45   : 0.09090909090909091\n",
      "179.Tennessee_Warbler          test samples 12   , training samples 47   : 0.4166666666666667\n",
      "180.Wilson_Warbler             test samples 12   , training samples 48   : 0.16666666666666666\n",
      "181.Worm_eating_Warbler        test samples 12   , training samples 47   : 0.4166666666666667\n",
      "182.Yellow_Warbler             test samples 12   , training samples 48   : 0.3333333333333333\n",
      "183.Northern_Waterthrush       test samples 12   , training samples 48   : 0.25\n",
      "184.Louisiana_Waterthrush      test samples 12   , training samples 48   : 0.3333333333333333\n",
      "185.Bohemian_Waxwing           test samples 12   , training samples 48   : 0.3333333333333333\n",
      "186.Cedar_Waxwing              test samples 12   , training samples 48   : 0.25\n",
      "187.American_Three_toed_Woodpecker test samples 10   , training samples 40   : 0.2\n",
      "188.Pileated_Woodpecker        test samples 12   , training samples 48   : 0.3333333333333333\n",
      "189.Red_bellied_Woodpecker     test samples 12   , training samples 48   : 0.6666666666666666\n",
      "190.Red_cockaded_Woodpecker    test samples 11   , training samples 47   : 0.2727272727272727\n",
      "191.Red_headed_Woodpecker      test samples 12   , training samples 48   : 0.5833333333333334\n",
      "192.Downy_Woodpecker           test samples 12   , training samples 48   : 0.4166666666666667\n",
      "193.Bewick_Wren                test samples 12   , training samples 48   : 0.08333333333333333\n",
      "194.Cactus_Wren                test samples 12   , training samples 48   : 0.16666666666666666\n",
      "195.Carolina_Wren              test samples 12   , training samples 48   : 0.3333333333333333\n",
      "196.House_Wren                 test samples 12   , training samples 47   : 0.0\n",
      "197.Marsh_Wren                 test samples 12   , training samples 48   : 0.08333333333333333\n",
      "198.Rock_Wren                  test samples 12   , training samples 48   : 0.3333333333333333\n",
      "199.Winter_Wren                test samples 12   , training samples 48   : 0.25\n",
      "200.Common_Yellowthroat        test samples 12   , training samples 48   : 0.6666666666666666\n"
     ]
    }
   ],
   "source": [
    "acc_dict2 = {}\n",
    "for i in test_labels.unique():\n",
    "    new_labels = test_labels[test_labels==i]\n",
    "    new_embeddings = test_embeddings[test_labels==i]\n",
    "    accuracies = accuracy_calculator.get_accuracy(\n",
    "        new_embeddings, new_labels, train_embeddings, train_labels, False\n",
    "    )\n",
    "    acc_dict2[data_dict[int(i.detach().cpu().numpy())]]=[ \n",
    "                  len(new_labels),\n",
    "                  len(train_labels[train_labels==i]),\n",
    "                  accuracies[\"precision_at_1\"]]\n",
    "    print(\"{:<30} test samples {:<5}, training samples {:<5}: {}\".format(data_dict[int(i.detach().cpu().numpy())],\n",
    "                                                                  len(new_labels),\n",
    "                                                                  len(train_labels[train_labels==i]),\n",
    "                                                                  accuracies[\"precision_at_1\"]))"
   ]
  },
  {
   "cell_type": "code",
   "execution_count": 61,
   "id": "a4b11cdb-01fc-426d-8708-aa4bd126db7c",
   "metadata": {},
   "outputs": [],
   "source": [
    "all_table = [[k]+v for k,v in acc_dict2.items()]\n",
    "columns = [\"class_name\", \"no. of test samples\", \"no. of train samples\", \"precision@1\"]\n",
    "train_table = wandb.Table(data=all_table, columns=columns)\n",
    "run.log({\"limited_classes_metrics\": train_table})"
   ]
  },
  {
   "cell_type": "code",
   "execution_count": 62,
   "id": "45d49f8e-987f-46c7-a2da-c8fe3b6c29c8",
   "metadata": {},
   "outputs": [
    {
     "name": "stderr",
     "output_type": "stream",
     "text": [
      "100%|█████████████████████████████████████████████████████████████████████████████████████████████████████| 295/295 [00:13<00:00, 21.16it/s]\n",
      "100%|███████████████████████████████████████████████████████████████████████████████████████████████████████| 74/74 [00:03<00:00, 21.17it/s]\n"
     ]
    }
   ],
   "source": [
    "train_embeddings, train_labels = get_all_embeddings(train_dataset, model)\n",
    "test_embeddings, test_labels = get_all_embeddings(test_dataset, model)\n",
    "train_labels = train_labels.squeeze(1)\n",
    "test_labels = test_labels.squeeze(1)"
   ]
  },
  {
   "cell_type": "code",
   "execution_count": 63,
   "id": "da619f84-3f14-4f62-95e1-09970154fd4c",
   "metadata": {},
   "outputs": [],
   "source": [
    "\n",
    "import faiss\n",
    "# Create a Faiss index\n",
    "index = faiss.IndexFlatIP(128)\n",
    "# Add some vectors to the index\n",
    "index.add(train_embeddings.detach().cpu().numpy())"
   ]
  },
  {
   "cell_type": "code",
   "execution_count": 64,
   "id": "1ee1a034-2fb6-4c8a-83a6-5dd028770c4d",
   "metadata": {},
   "outputs": [],
   "source": [
    "pred_labels = [] \n",
    "for embedding,label in zip(test_embeddings.detach().cpu().numpy(),test_labels):\n",
    "    distances, indices = index.search(embedding.reshape(1,-1).astype(np.float32), 2)\n",
    "    pred_class = train_labels[indices[0][1]]\n",
    "    pred_labels.append(pred_class)"
   ]
  },
  {
   "cell_type": "code",
   "execution_count": 65,
   "id": "7648e35a-de8c-42cc-aa9d-19fea3acdfcb",
   "metadata": {},
   "outputs": [],
   "source": [
    "pred_labels = [i.detach().cpu().numpy() for i in pred_labels]"
   ]
  },
  {
   "cell_type": "code",
   "execution_count": 66,
   "id": "0fd4ff45-4722-456e-81c0-c7a2cb8e31c7",
   "metadata": {
    "scrolled": true
   },
   "outputs": [
    {
     "name": "stdout",
     "output_type": "stream",
     "text": [
      "                                    precision    recall  f1-score   support\n",
      "\n",
      "        001.Black_footed_Albatross       0.57      1.00      0.73        12\n",
      "              002.Laysan_Albatross       0.56      0.75      0.64        12\n",
      "               003.Sooty_Albatross       0.58      0.92      0.71        12\n",
      "             004.Groove_billed_Ani       0.33      0.92      0.49        12\n",
      "                005.Crested_Auklet       0.73      0.89      0.80         9\n",
      "                  006.Least_Auklet       0.50      0.88      0.64         8\n",
      "               007.Parakeet_Auklet       0.57      0.80      0.67        10\n",
      "             008.Rhinoceros_Auklet       0.53      1.00      0.69         9\n",
      "              009.Brewer_Blackbird       0.29      0.42      0.34        12\n",
      "          010.Red_winged_Blackbird       0.75      0.75      0.75        12\n",
      "               011.Rusty_Blackbird       0.50      0.08      0.14        12\n",
      "       012.Yellow_headed_Blackbird       0.91      0.91      0.91        11\n",
      "                      013.Bobolink       0.43      0.25      0.32        12\n",
      "                014.Indigo_Bunting       0.64      0.75      0.69        12\n",
      "                015.Lazuli_Bunting       0.80      0.73      0.76        11\n",
      "               016.Painted_Bunting       0.88      0.64      0.74        11\n",
      "                      017.Cardinal       0.50      0.73      0.59        11\n",
      "               018.Spotted_Catbird       0.67      0.44      0.53         9\n",
      "                  019.Gray_Catbird       0.67      0.33      0.44        12\n",
      "          020.Yellow_breasted_Chat       0.67      0.33      0.44        12\n",
      "                021.Eastern_Towhee       0.50      0.33      0.40        12\n",
      "              022.Chuck_will_Widow       0.33      0.18      0.24        11\n",
      "              023.Brandt_Cormorant       0.11      0.08      0.10        12\n",
      "           024.Red_faced_Cormorant       0.55      0.60      0.57        10\n",
      "             025.Pelagic_Cormorant       0.17      0.17      0.17        12\n",
      "               026.Bronzed_Cowbird       0.67      0.50      0.57        12\n",
      "                 027.Shiny_Cowbird       0.14      0.25      0.18        12\n",
      "                 028.Brown_Creeper       0.78      0.58      0.67        12\n",
      "                 029.American_Crow       0.20      0.25      0.22        12\n",
      "                     030.Fish_Crow       0.40      0.33      0.36        12\n",
      "           031.Black_billed_Cuckoo       0.18      0.17      0.17        12\n",
      "               032.Mangrove_Cuckoo       0.29      0.20      0.24        10\n",
      "          033.Yellow_billed_Cuckoo       0.28      0.58      0.38        12\n",
      "       034.Gray_crowned_Rosy_Finch       0.56      0.42      0.48        12\n",
      "                  035.Purple_Finch       0.54      0.58      0.56        12\n",
      "              036.Northern_Flicker       0.44      0.33      0.38        12\n",
      "            037.Acadian_Flycatcher       0.17      0.17      0.17        12\n",
      "      038.Great_Crested_Flycatcher       0.50      0.42      0.45        12\n",
      "              039.Least_Flycatcher       0.07      0.08      0.08        12\n",
      "        040.Olive_sided_Flycatcher       0.30      0.25      0.27        12\n",
      "     041.Scissor_tailed_Flycatcher       0.23      0.25      0.24        12\n",
      "          042.Vermilion_Flycatcher       0.58      0.58      0.58        12\n",
      "     043.Yellow_bellied_Flycatcher       0.17      0.17      0.17        12\n",
      "                   044.Frigatebird       0.55      0.50      0.52        12\n",
      "               045.Northern_Fulmar       0.45      0.42      0.43        12\n",
      "                       046.Gadwall       0.64      0.75      0.69        12\n",
      "            047.American_Goldfinch       0.67      0.17      0.27        12\n",
      "            048.European_Goldfinch       0.56      0.75      0.64        12\n",
      "           049.Boat_tailed_Grackle       0.00      0.00      0.00        12\n",
      "                   050.Eared_Grebe       0.44      0.33      0.38        12\n",
      "                  051.Horned_Grebe       0.45      0.42      0.43        12\n",
      "             052.Pied_billed_Grebe       0.50      0.58      0.54        12\n",
      "                 053.Western_Grebe       0.73      0.67      0.70        12\n",
      "                 054.Blue_Grosbeak       0.75      0.50      0.60        12\n",
      "              055.Evening_Grosbeak       0.55      0.92      0.69        12\n",
      "                 056.Pine_Grosbeak       0.43      0.25      0.32        12\n",
      "        057.Rose_breasted_Grosbeak       0.73      0.67      0.70        12\n",
      "              058.Pigeon_Guillemot       0.67      0.33      0.44        12\n",
      "               059.California_Gull       0.10      0.25      0.15        12\n",
      "          060.Glaucous_winged_Gull       0.18      0.25      0.21        12\n",
      "                 061.Heermann_Gull       1.00      0.42      0.59        12\n",
      "                  062.Herring_Gull       0.50      0.08      0.14        12\n",
      "                    063.Ivory_Gull       0.60      0.25      0.35        12\n",
      "              064.Ring_billed_Gull       0.50      0.17      0.25        12\n",
      "             065.Slaty_backed_Gull       0.14      0.20      0.17        10\n",
      "                  066.Western_Gull       0.44      0.33      0.38        12\n",
      "              067.Anna_Hummingbird       0.60      0.25      0.35        12\n",
      "     068.Ruby_throated_Hummingbird       0.25      0.25      0.25        12\n",
      "            069.Rufous_Hummingbird       0.50      0.25      0.33        12\n",
      "               070.Green_Violetear       0.91      0.83      0.87        12\n",
      "            071.Long_tailed_Jaeger       0.00      0.00      0.00        12\n",
      "               072.Pomarine_Jaeger       0.17      0.25      0.20        12\n",
      "                      073.Blue_Jay       0.70      0.58      0.64        12\n",
      "                   074.Florida_Jay       0.78      0.58      0.67        12\n",
      "                     075.Green_Jay       0.73      0.73      0.73        11\n",
      "               076.Dark_eyed_Junco       0.62      0.42      0.50        12\n",
      "             077.Tropical_Kingbird       0.75      0.50      0.60        12\n",
      "                 078.Gray_Kingbird       0.58      0.58      0.58        12\n",
      "             079.Belted_Kingfisher       0.31      0.33      0.32        12\n",
      "              080.Green_Kingfisher       0.31      0.42      0.36        12\n",
      "               081.Pied_Kingfisher       0.50      0.58      0.54        12\n",
      "             082.Ringed_Kingfisher       0.38      0.42      0.40        12\n",
      "     083.White_breasted_Kingfisher       0.69      0.75      0.72        12\n",
      "          084.Red_legged_Kittiwake       0.80      0.80      0.80        10\n",
      "                   085.Horned_Lark       0.40      0.33      0.36        12\n",
      "                  086.Pacific_Loon       0.67      0.50      0.57        12\n",
      "                       087.Mallard       0.73      0.67      0.70        12\n",
      "            088.Western_Meadowlark       0.69      0.92      0.79        12\n",
      "              089.Hooded_Merganser       0.89      0.67      0.76        12\n",
      "        090.Red_breasted_Merganser       0.64      0.75      0.69        12\n",
      "                   091.Mockingbird       0.10      0.08      0.09        12\n",
      "                     092.Nighthawk       0.33      0.25      0.29        12\n",
      "              093.Clark_Nutcracker       0.62      0.42      0.50        12\n",
      "       094.White_breasted_Nuthatch       1.00      0.50      0.67        12\n",
      "              095.Baltimore_Oriole       0.67      0.67      0.67        12\n",
      "                 096.Hooded_Oriole       0.62      0.67      0.64        12\n",
      "                097.Orchard_Oriole       0.43      0.25      0.32        12\n",
      "                  098.Scott_Oriole       0.91      0.83      0.87        12\n",
      "                      099.Ovenbird       0.50      0.50      0.50        12\n",
      "                 100.Brown_Pelican       0.43      0.25      0.32        12\n",
      "                 101.White_Pelican       0.71      0.50      0.59        10\n",
      "            102.Western_Wood_Pewee       0.13      0.17      0.15        12\n",
      "                      103.Sayornis       0.18      0.17      0.17        12\n",
      "                104.American_Pipit       0.38      0.42      0.40        12\n",
      "                105.Whip_poor_Will       0.27      0.30      0.29        10\n",
      "                 106.Horned_Puffin       0.78      0.58      0.67        12\n",
      "                  107.Common_Raven       0.86      0.50      0.63        12\n",
      "            108.White_necked_Raven       0.12      0.08      0.10        12\n",
      "             109.American_Redstart       0.90      0.75      0.82        12\n",
      "                     110.Geococcyx       0.50      0.42      0.45        12\n",
      "             111.Loggerhead_Shrike       0.47      0.58      0.52        12\n",
      "             112.Great_Grey_Shrike       0.23      0.25      0.24        12\n",
      "                 113.Baird_Sparrow       0.56      0.50      0.53        10\n",
      "        114.Black_throated_Sparrow       0.62      0.42      0.50        12\n",
      "                115.Brewer_Sparrow       0.27      0.33      0.30        12\n",
      "              116.Chipping_Sparrow       0.38      0.42      0.40        12\n",
      "          117.Clay_colored_Sparrow       0.22      0.17      0.19        12\n",
      "                 118.House_Sparrow       0.57      0.33      0.42        12\n",
      "                 119.Field_Sparrow       0.50      0.42      0.45        12\n",
      "                   120.Fox_Sparrow       0.28      0.42      0.33        12\n",
      "           121.Grasshopper_Sparrow       0.43      0.25      0.32        12\n",
      "                122.Harris_Sparrow       0.36      0.42      0.38        12\n",
      "               123.Henslow_Sparrow       1.00      0.58      0.74        12\n",
      "              124.Le_Conte_Sparrow       0.44      0.33      0.38        12\n",
      "               125.Lincoln_Sparrow       0.50      0.42      0.45        12\n",
      "   126.Nelson_Sharp_tailed_Sparrow       0.47      0.58      0.52        12\n",
      "              127.Savannah_Sparrow       0.43      0.25      0.32        12\n",
      "               128.Seaside_Sparrow       0.56      0.42      0.48        12\n",
      "                  129.Song_Sparrow       0.57      0.33      0.42        12\n",
      "                  130.Tree_Sparrow       0.50      0.17      0.25        12\n",
      "                131.Vesper_Sparrow       0.64      0.58      0.61        12\n",
      "         132.White_crowned_Sparrow       1.00      0.33      0.50        12\n",
      "        133.White_throated_Sparrow       0.50      0.58      0.54        12\n",
      "          134.Cape_Glossy_Starling       0.89      0.67      0.76        12\n",
      "                  135.Bank_Swallow       0.33      0.17      0.22        12\n",
      "                  136.Barn_Swallow       0.44      0.58      0.50        12\n",
      "                 137.Cliff_Swallow       0.20      0.08      0.12        12\n",
      "                  138.Tree_Swallow       0.58      0.58      0.58        12\n",
      "               139.Scarlet_Tanager       0.77      0.83      0.80        12\n",
      "                140.Summer_Tanager       0.86      0.50      0.63        12\n",
      "                    141.Artic_Tern       0.44      0.36      0.40        11\n",
      "                    142.Black_Tern       0.12      0.08      0.10        12\n",
      "                  143.Caspian_Tern       0.20      0.17      0.18        12\n",
      "                   144.Common_Tern       0.21      0.25      0.23        12\n",
      "                  145.Elegant_Tern       0.20      0.17      0.18        12\n",
      "                 146.Forsters_Tern       0.43      0.50      0.46        12\n",
      "                    147.Least_Tern       0.60      0.75      0.67        12\n",
      "           148.Green_tailed_Towhee       0.67      0.50      0.57        12\n",
      "                149.Brown_Thrasher       0.50      0.25      0.33        12\n",
      "                 150.Sage_Thrasher       0.25      0.25      0.25        12\n",
      "            151.Black_capped_Vireo       0.57      0.40      0.47        10\n",
      "             152.Blue_headed_Vireo       0.57      0.33      0.42        12\n",
      "            153.Philadelphia_Vireo       0.43      0.50      0.46        12\n",
      "                154.Red_eyed_Vireo       0.44      0.33      0.38        12\n",
      "                155.Warbling_Vireo       0.44      0.67      0.53        12\n",
      "              156.White_eyed_Vireo       0.62      0.67      0.64        12\n",
      "         157.Yellow_throated_Vireo       0.56      0.42      0.48        12\n",
      "          158.Bay_breasted_Warbler       0.86      0.50      0.63        12\n",
      "       159.Black_and_white_Warbler       0.88      0.58      0.70        12\n",
      "   160.Black_throated_Blue_Warbler       0.75      0.75      0.75        12\n",
      "           161.Blue_winged_Warbler       0.60      0.50      0.55        12\n",
      "                162.Canada_Warbler       0.70      0.58      0.64        12\n",
      "              163.Cape_May_Warbler       0.86      0.50      0.63        12\n",
      "              164.Cerulean_Warbler       0.73      0.67      0.70        12\n",
      "        165.Chestnut_sided_Warbler       0.67      0.67      0.67        12\n",
      "         166.Golden_winged_Warbler       0.69      0.75      0.72        12\n",
      "                167.Hooded_Warbler       0.60      0.50      0.55        12\n",
      "              168.Kentucky_Warbler       0.40      0.50      0.44        12\n",
      "              169.Magnolia_Warbler       0.88      0.58      0.70        12\n",
      "              170.Mourning_Warbler       0.62      0.42      0.50        12\n",
      "                171.Myrtle_Warbler       0.50      0.25      0.33        12\n",
      "             172.Nashville_Warbler       0.38      0.42      0.40        12\n",
      "        173.Orange_crowned_Warbler       0.38      0.50      0.43        12\n",
      "                  174.Palm_Warbler       0.50      0.33      0.40        12\n",
      "                  175.Pine_Warbler       0.67      0.67      0.67        12\n",
      "               176.Prairie_Warbler       0.69      0.92      0.79        12\n",
      "          177.Prothonotary_Warbler       0.88      0.58      0.70        12\n",
      "              178.Swainson_Warbler       0.10      0.09      0.10        11\n",
      "             179.Tennessee_Warbler       0.31      0.33      0.32        12\n",
      "                180.Wilson_Warbler       0.71      0.42      0.53        12\n",
      "           181.Worm_eating_Warbler       0.38      0.42      0.40        12\n",
      "                182.Yellow_Warbler       0.25      0.42      0.31        12\n",
      "          183.Northern_Waterthrush       0.16      0.25      0.19        12\n",
      "         184.Louisiana_Waterthrush       0.10      0.17      0.12        12\n",
      "              185.Bohemian_Waxwing       0.14      0.17      0.15        12\n",
      "                 186.Cedar_Waxwing       0.21      0.33      0.26        12\n",
      "187.American_Three_toed_Woodpecker       0.00      0.00      0.00        10\n",
      "           188.Pileated_Woodpecker       0.26      0.42      0.32        12\n",
      "        189.Red_bellied_Woodpecker       0.32      0.58      0.41        12\n",
      "       190.Red_cockaded_Woodpecker       0.20      0.27      0.23        11\n",
      "         191.Red_headed_Woodpecker       0.25      0.42      0.31        12\n",
      "              192.Downy_Woodpecker       0.45      0.42      0.43        12\n",
      "                   193.Bewick_Wren       0.05      0.08      0.06        12\n",
      "                   194.Cactus_Wren       0.07      0.17      0.10        12\n",
      "                 195.Carolina_Wren       0.00      0.00      0.00        12\n",
      "                    196.House_Wren       0.15      0.33      0.21        12\n",
      "                    197.Marsh_Wren       0.03      0.08      0.05        12\n",
      "                     198.Rock_Wren       0.16      0.33      0.22        12\n",
      "                   199.Winter_Wren       0.06      0.08      0.07        12\n",
      "           200.Common_Yellowthroat       0.24      0.67      0.35        12\n",
      "\n",
      "                          accuracy                           0.44      2358\n",
      "                         macro avg       0.48      0.44      0.44      2358\n",
      "                      weighted avg       0.48      0.44      0.44      2358\n",
      "\n"
     ]
    }
   ],
   "source": [
    "from sklearn.metrics import classification_report\n",
    "print(classification_report(test_labels.detach().cpu().numpy(), pred_labels, target_names=list(class_dict.keys())))"
   ]
  },
  {
   "cell_type": "code",
   "execution_count": 67,
   "id": "f6154bd0-11f0-42b4-b860-b3b34ea93d52",
   "metadata": {},
   "outputs": [],
   "source": [
    "from sklearn.metrics import classification_report\n",
    "report = classification_report(test_labels.detach().cpu().numpy(), pred_labels, target_names=list(class_dict.keys()),output_dict=True)\n",
    "df = pd.DataFrame(report).transpose()\n",
    "df.reset_index(inplace=True)\n",
    "df.rename(columns={\"index\":'class_name'},inplace=True)\n",
    "classification_report_table = wandb.Table(dataframe=df)"
   ]
  },
  {
   "cell_type": "code",
   "execution_count": 68,
   "id": "8967c721-10c7-4d82-9c44-cf69368c9cf2",
   "metadata": {},
   "outputs": [],
   "source": [
    "run.log({\"limited_classes_classification_report\": classification_report_table})"
   ]
  },
  {
   "cell_type": "markdown",
   "id": "25ca19e9-fde4-4738-b3fe-35d7f6c3f8b8",
   "metadata": {},
   "source": [
    "## metric drop for unseen classes"
   ]
  },
  {
   "cell_type": "code",
   "execution_count": 69,
   "id": "308604b3-e2e4-48ce-b3a8-09b38ca315df",
   "metadata": {},
   "outputs": [],
   "source": [
    "unseen_class_names = sorted(key for key in acc_dict.keys() if int(key.split('.')[0]) >= 180)"
   ]
  },
  {
   "cell_type": "code",
   "execution_count": 70,
   "id": "b27e7a53-584d-410e-ad34-466aedca1350",
   "metadata": {
    "scrolled": true
   },
   "outputs": [],
   "source": [
    "comparison_table_data = []\n",
    "for class_name in unseen_class_names:\n",
    "    comparison_table_data.append([class_name,acc_dict[class_name][-1],acc_dict2[class_name][-1]])"
   ]
  },
  {
   "cell_type": "code",
   "execution_count": 71,
   "id": "2400629c-33f5-4b19-bbab-9d75c92dd6d4",
   "metadata": {},
   "outputs": [],
   "source": [
    "comparison_table = wandb.Table(data=comparison_table_data, columns=['class_name','all_classes_precision@1','unseen_classes_precision@1'])"
   ]
  },
  {
   "cell_type": "code",
   "execution_count": 72,
   "id": "daa9ab4f-6abe-4469-91b8-2c48f17f7400",
   "metadata": {},
   "outputs": [],
   "source": [
    "run.log({\"comparison_unseen_classes_metrics\": comparison_table})"
   ]
  },
  {
   "cell_type": "code",
   "execution_count": 73,
   "id": "288120aa-ccc7-4249-8498-63c82972342a",
   "metadata": {},
   "outputs": [],
   "source": [
    "precisions = np.array(comparison_table_data)[:,1:3].astype(np.float32)"
   ]
  },
  {
   "cell_type": "code",
   "execution_count": 74,
   "id": "aea80d7d-48d9-45b2-9b80-50df8c6f2e73",
   "metadata": {},
   "outputs": [],
   "source": [
    "wandb.log({'precision_drop_unseen_classes':np.mean(np.subtract(precisions[:,0],precisions[:,1]))})"
   ]
  },
  {
   "cell_type": "markdown",
   "id": "8474d6e8-63e1-4bd8-b170-b13a1803634e",
   "metadata": {},
   "source": [
    "## metric drop for all classes because of new unseen classes"
   ]
  },
  {
   "cell_type": "code",
   "execution_count": 75,
   "id": "0d53c17d-3ee9-4947-84a0-61e87855daf0",
   "metadata": {},
   "outputs": [],
   "source": [
    "comparison_table_data = []\n",
    "for class_name in acc_dict.keys():\n",
    "    comparison_table_data.append([class_name,acc_dict[class_name][-1],acc_dict2[class_name][-1]])"
   ]
  },
  {
   "cell_type": "code",
   "execution_count": 76,
   "id": "bd465f2b-8fd1-419f-a3bb-8daa56d9956e",
   "metadata": {},
   "outputs": [],
   "source": [
    "precisions = np.array(comparison_table_data)[:,1:3].astype(np.float32)"
   ]
  },
  {
   "cell_type": "code",
   "execution_count": 77,
   "id": "2af3e145-3fd1-4e2f-b10e-8ed86ecda2b5",
   "metadata": {},
   "outputs": [
    {
     "data": {
      "text/plain": [
       "array([[0.41666666, 0.9166667 ],\n",
       "       [0.41666666, 0.75      ],\n",
       "       [0.08333334, 0.9166667 ],\n",
       "       [0.25      , 1.        ],\n",
       "       [0.6666667 , 0.7777778 ],\n",
       "       [0.5       , 0.875     ],\n",
       "       [0.6       , 0.8       ],\n",
       "       [0.44444445, 0.7777778 ],\n",
       "       [0.16666667, 0.5       ],\n",
       "       [0.75      , 0.75      ],\n",
       "       [0.25      , 0.16666667],\n",
       "       [1.        , 0.90909094],\n",
       "       [0.6666667 , 0.25      ],\n",
       "       [0.6666667 , 0.75      ],\n",
       "       [0.6363636 , 0.72727275],\n",
       "       [0.72727275, 0.6363636 ],\n",
       "       [0.8181818 , 0.6363636 ],\n",
       "       [0.44444445, 0.44444445],\n",
       "       [0.41666666, 0.41666666],\n",
       "       [0.25      , 0.16666667],\n",
       "       [0.5       , 0.33333334],\n",
       "       [0.27272728, 0.18181819],\n",
       "       [0.33333334, 0.25      ],\n",
       "       [0.4       , 0.5       ],\n",
       "       [0.08333334, 0.16666667],\n",
       "       [0.6666667 , 0.5       ],\n",
       "       [0.16666667, 0.16666667],\n",
       "       [0.5       , 0.5833333 ],\n",
       "       [0.25      , 0.16666667],\n",
       "       [0.5       , 0.41666666],\n",
       "       [0.33333334, 0.25      ],\n",
       "       [0.5       , 0.2       ],\n",
       "       [0.41666666, 0.5833333 ],\n",
       "       [0.5833333 , 0.41666666],\n",
       "       [0.6666667 , 0.5833333 ],\n",
       "       [0.5       , 0.41666666],\n",
       "       [0.25      , 0.25      ],\n",
       "       [0.25      , 0.33333334],\n",
       "       [0.08333334, 0.08333334],\n",
       "       [0.25      , 0.25      ],\n",
       "       [0.5       , 0.25      ],\n",
       "       [0.5       , 0.41666666],\n",
       "       [0.33333334, 0.16666667],\n",
       "       [0.5       , 0.5       ],\n",
       "       [0.25      , 0.33333334],\n",
       "       [0.41666666, 0.8333333 ],\n",
       "       [0.25      , 0.16666667],\n",
       "       [0.9166667 , 0.8333333 ],\n",
       "       [0.41666666, 0.        ],\n",
       "       [0.6666667 , 0.41666666],\n",
       "       [0.41666666, 0.33333334],\n",
       "       [0.5833333 , 0.6666667 ],\n",
       "       [0.6666667 , 0.75      ],\n",
       "       [0.5833333 , 0.5       ],\n",
       "       [0.9166667 , 0.9166667 ],\n",
       "       [0.6666667 , 0.33333334],\n",
       "       [0.6666667 , 0.6666667 ],\n",
       "       [0.25      , 0.33333334],\n",
       "       [0.08333334, 0.25      ],\n",
       "       [0.08333334, 0.25      ],\n",
       "       [0.75      , 0.33333334],\n",
       "       [0.25      , 0.16666667],\n",
       "       [0.5       , 0.33333334],\n",
       "       [0.25      , 0.16666667],\n",
       "       [0.6       , 0.2       ],\n",
       "       [0.41666666, 0.41666666],\n",
       "       [0.5       , 0.25      ],\n",
       "       [0.5       , 0.25      ],\n",
       "       [0.8333333 , 0.33333334],\n",
       "       [0.8333333 , 0.8333333 ],\n",
       "       [0.08333334, 0.        ],\n",
       "       [0.25      , 0.25      ],\n",
       "       [0.5833333 , 0.5833333 ],\n",
       "       [0.33333334, 0.5       ],\n",
       "       [0.8181818 , 0.72727275],\n",
       "       [0.41666666, 0.25      ],\n",
       "       [0.6666667 , 0.75      ],\n",
       "       [0.41666666, 0.5833333 ],\n",
       "       [0.6666667 , 0.41666666],\n",
       "       [0.16666667, 0.33333334],\n",
       "       [0.75      , 0.5       ],\n",
       "       [0.5       , 0.5       ],\n",
       "       [0.8333333 , 0.75      ],\n",
       "       [0.7       , 0.7       ],\n",
       "       [0.41666666, 0.33333334],\n",
       "       [0.6666667 , 0.41666666],\n",
       "       [0.75      , 0.6666667 ],\n",
       "       [0.8333333 , 0.8333333 ],\n",
       "       [0.5833333 , 0.75      ],\n",
       "       [0.75      , 0.8333333 ],\n",
       "       [0.16666667, 0.08333334],\n",
       "       [0.41666666, 0.25      ],\n",
       "       [0.5833333 , 0.41666666],\n",
       "       [0.5       , 0.33333334],\n",
       "       [0.5833333 , 0.5833333 ],\n",
       "       [0.6666667 , 0.6666667 ],\n",
       "       [0.5       , 0.16666667],\n",
       "       [0.75      , 0.8333333 ],\n",
       "       [0.5       , 0.41666666],\n",
       "       [0.5       , 0.25      ],\n",
       "       [0.5       , 0.5       ],\n",
       "       [0.5833333 , 0.16666667],\n",
       "       [0.25      , 0.16666667],\n",
       "       [0.5       , 0.41666666],\n",
       "       [0.1       , 0.3       ],\n",
       "       [0.75      , 0.5833333 ],\n",
       "       [0.5       , 0.33333334],\n",
       "       [0.25      , 0.08333334],\n",
       "       [0.75      , 0.6666667 ],\n",
       "       [0.5833333 , 0.41666666],\n",
       "       [0.5       , 0.5833333 ],\n",
       "       [0.16666667, 0.16666667],\n",
       "       [0.6       , 0.5       ],\n",
       "       [0.5       , 0.5       ],\n",
       "       [0.33333334, 0.41666666],\n",
       "       [0.6666667 , 0.33333334],\n",
       "       [0.5       , 0.16666667],\n",
       "       [0.25      , 0.41666666],\n",
       "       [0.33333334, 0.41666666],\n",
       "       [0.5833333 , 0.41666666],\n",
       "       [0.16666667, 0.25      ],\n",
       "       [0.16666667, 0.33333334],\n",
       "       [0.5833333 , 0.5833333 ],\n",
       "       [0.5       , 0.41666666],\n",
       "       [0.5       , 0.33333334],\n",
       "       [0.33333334, 0.5       ],\n",
       "       [0.5       , 0.25      ],\n",
       "       [0.33333334, 0.5       ],\n",
       "       [0.25      , 0.25      ],\n",
       "       [0.25      , 0.16666667],\n",
       "       [0.5833333 , 0.5833333 ],\n",
       "       [0.41666666, 0.33333334],\n",
       "       [0.75      , 0.6666667 ],\n",
       "       [0.8333333 , 0.6666667 ],\n",
       "       [0.08333334, 0.16666667],\n",
       "       [0.5833333 , 0.5833333 ],\n",
       "       [0.08333334, 0.08333334],\n",
       "       [0.6666667 , 0.6666667 ],\n",
       "       [0.9166667 , 0.8333333 ],\n",
       "       [0.9166667 , 0.5       ],\n",
       "       [0.36363637, 0.54545456],\n",
       "       [0.08333334, 0.16666667],\n",
       "       [0.08333334, 0.25      ],\n",
       "       [0.25      , 0.25      ],\n",
       "       [0.25      , 0.08333334],\n",
       "       [0.16666667, 0.33333334],\n",
       "       [0.75      , 0.6666667 ],\n",
       "       [0.8333333 , 0.5       ],\n",
       "       [0.33333334, 0.25      ],\n",
       "       [0.5       , 0.25      ],\n",
       "       [0.4       , 0.3       ],\n",
       "       [0.5833333 , 0.33333334],\n",
       "       [0.6666667 , 0.41666666],\n",
       "       [0.41666666, 0.25      ],\n",
       "       [0.6666667 , 0.6666667 ],\n",
       "       [0.5833333 , 0.6666667 ],\n",
       "       [0.33333334, 0.25      ],\n",
       "       [0.5       , 0.5       ],\n",
       "       [0.75      , 0.6666667 ],\n",
       "       [0.75      , 0.75      ],\n",
       "       [0.25      , 0.5833333 ],\n",
       "       [0.41666666, 0.41666666],\n",
       "       [0.5       , 0.5       ],\n",
       "       [0.75      , 0.75      ],\n",
       "       [0.6666667 , 0.6666667 ],\n",
       "       [0.5833333 , 0.75      ],\n",
       "       [0.6666667 , 0.5833333 ],\n",
       "       [0.6666667 , 0.33333334],\n",
       "       [0.5       , 0.5833333 ],\n",
       "       [0.5833333 , 0.5       ],\n",
       "       [0.41666666, 0.33333334],\n",
       "       [0.6666667 , 0.5       ],\n",
       "       [0.33333334, 0.5       ],\n",
       "       [0.33333334, 0.33333334],\n",
       "       [0.33333334, 0.6666667 ],\n",
       "       [0.9166667 , 0.75      ],\n",
       "       [0.8333333 , 0.5       ],\n",
       "       [0.36363637, 0.09090909],\n",
       "       [0.41666666, 0.41666666],\n",
       "       [0.75      , 0.16666667],\n",
       "       [0.5       , 0.41666666],\n",
       "       [0.16666667, 0.33333334],\n",
       "       [0.33333334, 0.25      ],\n",
       "       [0.41666666, 0.33333334],\n",
       "       [0.75      , 0.33333334],\n",
       "       [0.6666667 , 0.25      ],\n",
       "       [0.4       , 0.2       ],\n",
       "       [0.8333333 , 0.33333334],\n",
       "       [0.8333333 , 0.6666667 ],\n",
       "       [0.6363636 , 0.27272728],\n",
       "       [0.75      , 0.5833333 ],\n",
       "       [0.8333333 , 0.41666666],\n",
       "       [0.33333334, 0.08333334],\n",
       "       [0.41666666, 0.16666667],\n",
       "       [0.25      , 0.33333334],\n",
       "       [0.08333334, 0.        ],\n",
       "       [0.25      , 0.08333334],\n",
       "       [0.25      , 0.33333334],\n",
       "       [0.75      , 0.25      ],\n",
       "       [0.5833333 , 0.6666667 ]], dtype=float32)"
      ]
     },
     "execution_count": 77,
     "metadata": {},
     "output_type": "execute_result"
    }
   ],
   "source": [
    "precisions"
   ]
  },
  {
   "cell_type": "code",
   "execution_count": 78,
   "id": "7d8a6e83-8a54-44f6-9f00-2842e8b53e6a",
   "metadata": {},
   "outputs": [],
   "source": [
    "wandb.log({'precision_drop_all_classes':np.mean(np.subtract(precisions[:,0],precisions[:,1]))})"
   ]
  },
  {
   "cell_type": "code",
   "execution_count": null,
   "id": "3a2d6dd0-2165-4c2d-a053-51454eed7af9",
   "metadata": {},
   "outputs": [],
   "source": []
  }
 ],
 "metadata": {
  "kernelspec": {
   "display_name": "Python 3 (ipykernel)",
   "language": "python",
   "name": "python3"
  },
  "language_info": {
   "codemirror_mode": {
    "name": "ipython",
    "version": 3
   },
   "file_extension": ".py",
   "mimetype": "text/x-python",
   "name": "python",
   "nbconvert_exporter": "python",
   "pygments_lexer": "ipython3",
   "version": "3.10.13"
  }
 },
 "nbformat": 4,
 "nbformat_minor": 5
}
