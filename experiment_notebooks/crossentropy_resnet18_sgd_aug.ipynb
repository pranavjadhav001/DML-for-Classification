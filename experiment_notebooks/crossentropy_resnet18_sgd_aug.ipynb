{
 "cells": [
  {
   "cell_type": "code",
   "execution_count": 1,
   "id": "5ffca082-4e33-4910-bddd-7467769c68a2",
   "metadata": {},
   "outputs": [],
   "source": [
    "import numpy as np\n",
    "import PIL\n",
    "import umap\n",
    "import pandas as pd\n",
    "import json\n",
    "import glob\n",
    "from pytorch_metric_learning import distances, losses, miners, reducers\n",
    "import torch.nn as nn\n",
    "import os\n",
    "import matplotlib.pyplot as plt"
   ]
  },
  {
   "cell_type": "code",
   "execution_count": 2,
   "id": "df805f67-18d4-4f50-a057-90ebe6d234ee",
   "metadata": {},
   "outputs": [],
   "source": [
    "import torch\n",
    "import torchvision\n",
    "from torchvision import models\n",
    "import torch\n",
    "import torch.nn as nn\n",
    "import torch.nn.functional as F\n",
    "import torch.optim as optim\n",
    "from torchvision import datasets, transforms\n",
    "from torch.utils.data.sampler import SubsetRandomSampler\n",
    "from tqdm import tqdm\n",
    "from pytorch_metric_learning import losses, testers\n",
    "from pytorch_metric_learning.utils.accuracy_calculator import AccuracyCalculator\n",
    "from pytorch_metric_learning.distances import LpDistance,CosineSimilarity\n",
    "from pytorch_metric_learning.utils.inference import CustomKNN"
   ]
  },
  {
   "cell_type": "code",
   "execution_count": 3,
   "id": "e1f8f3ef-c0a5-492e-a89e-a126cd3709cc",
   "metadata": {},
   "outputs": [],
   "source": [
    "%matplotlib inline\n",
    "import torch\n",
    "import torch.nn as nn\n",
    "from matplotlib import pyplot as plt\n",
    "import numpy as np\n",
    "import torchvision\n",
    "import torchvision.datasets as datasets\n",
    "import torchvision.models as models\n",
    "from torchvision import transforms\n",
    "import torch.optim as optim\n",
    "import time\n",
    "import tqdm as tqdm\n",
    "from torch.autograd import Variable"
   ]
  },
  {
   "cell_type": "code",
   "execution_count": 4,
   "id": "e90d2b46-62b6-4d65-accd-b65666481d53",
   "metadata": {},
   "outputs": [
    {
     "name": "stderr",
     "output_type": "stream",
     "text": [
      "\u001b[34m\u001b[1mwandb\u001b[0m: Currently logged in as: \u001b[33mpranavjadhav001\u001b[0m. Use \u001b[1m`wandb login --relogin`\u001b[0m to force relogin\n"
     ]
    },
    {
     "data": {
      "text/plain": [
       "True"
      ]
     },
     "execution_count": 4,
     "metadata": {},
     "output_type": "execute_result"
    }
   ],
   "source": [
    "import wandb\n",
    "import random  # for demo script\n",
    "\n",
    "wandb.login()"
   ]
  },
  {
   "cell_type": "code",
   "execution_count": 5,
   "id": "dfc3914e-3d5f-4c4a-a6d6-6a55ff22c849",
   "metadata": {},
   "outputs": [],
   "source": [
    "config = {\n",
    "    'name':'cub_resnet18_sgd_aug',\n",
    "    'dataset':'CUB_200_2011',\n",
    "    'random_seed':42,\n",
    "    'model_architecture':'resnet18',\n",
    "    'image_height':224,\n",
    "    'image_width':224,\n",
    "    'train_test_split':0.2,\n",
    "    'class_split':0.1,\n",
    "    'batch_size':128,\n",
    "    'optimizer':'sgd',\n",
    "    'learning_rate':0.01,\n",
    "    'num_epochs':100,\n",
    "    'loss':'crossentropyloss',\n",
    "    'metric':'precision_at_1',\n",
    "    'model_save_path':'models/cub_resnet18_sgd_aug'\n",
    "}"
   ]
  },
  {
   "cell_type": "code",
   "execution_count": 6,
   "id": "ea1ac4e6-27ce-4223-8633-6c4bb31e07bc",
   "metadata": {},
   "outputs": [
    {
     "data": {
      "application/vnd.jupyter.widget-view+json": {
       "model_id": "29db02ea4a76460eb676866df7d0e174",
       "version_major": 2,
       "version_minor": 0
      },
      "text/plain": [
       "VBox(children=(Label(value='Waiting for wandb.init()...\\r'), FloatProgress(value=0.01111252051111175, max=1.0)…"
      ]
     },
     "metadata": {},
     "output_type": "display_data"
    },
    {
     "data": {
      "text/html": [
       "wandb version 0.16.6 is available!  To upgrade, please run:\n",
       " $ pip install wandb --upgrade"
      ],
      "text/plain": [
       "<IPython.core.display.HTML object>"
      ]
     },
     "metadata": {},
     "output_type": "display_data"
    },
    {
     "data": {
      "text/html": [
       "Tracking run with wandb version 0.16.4"
      ],
      "text/plain": [
       "<IPython.core.display.HTML object>"
      ]
     },
     "metadata": {},
     "output_type": "display_data"
    },
    {
     "data": {
      "text/html": [
       "Run data is saved locally in <code>/embedding_classification/wandb/run-20240501_090444-n3458z8f</code>"
      ],
      "text/plain": [
       "<IPython.core.display.HTML object>"
      ]
     },
     "metadata": {},
     "output_type": "display_data"
    },
    {
     "data": {
      "text/html": [
       "Syncing run <strong><a href='https://wandb.ai/pranavjadhav001/embedding_based_classification/runs/n3458z8f' target=\"_blank\">cub_resnet18_sgd_aug</a></strong> to <a href='https://wandb.ai/pranavjadhav001/embedding_based_classification' target=\"_blank\">Weights & Biases</a> (<a href='https://wandb.me/run' target=\"_blank\">docs</a>)<br/>"
      ],
      "text/plain": [
       "<IPython.core.display.HTML object>"
      ]
     },
     "metadata": {},
     "output_type": "display_data"
    },
    {
     "data": {
      "text/html": [
       " View project at <a href='https://wandb.ai/pranavjadhav001/embedding_based_classification' target=\"_blank\">https://wandb.ai/pranavjadhav001/embedding_based_classification</a>"
      ],
      "text/plain": [
       "<IPython.core.display.HTML object>"
      ]
     },
     "metadata": {},
     "output_type": "display_data"
    },
    {
     "data": {
      "text/html": [
       " View run at <a href='https://wandb.ai/pranavjadhav001/embedding_based_classification/runs/n3458z8f' target=\"_blank\">https://wandb.ai/pranavjadhav001/embedding_based_classification/runs/n3458z8f</a>"
      ],
      "text/plain": [
       "<IPython.core.display.HTML object>"
      ]
     },
     "metadata": {},
     "output_type": "display_data"
    },
    {
     "name": "stdout",
     "output_type": "stream",
     "text": [
      "n3458z8f\n"
     ]
    }
   ],
   "source": [
    "id = wandb.util.generate_id()\n",
    "run = wandb.init(\n",
    "    id=id,\n",
    "    name = config['name'],\n",
    "    # Set the project where this run will be logged\n",
    "    project=\"embedding_based_classification\",\n",
    "    # Track hyperparameters and run metadata\n",
    "    config=config,\n",
    "    resume=\"allow\"\n",
    ")\n",
    "print(id)"
   ]
  },
  {
   "cell_type": "code",
   "execution_count": 8,
   "id": "2762de2f-b1ec-49ae-bdc8-56ad406334e1",
   "metadata": {},
   "outputs": [],
   "source": [
    "np.random.seed(config['random_seed'])\n",
    "torch.manual_seed(config['random_seed'])\n",
    "torch.cuda.manual_seed(config['random_seed'])\n",
    "torch.backends.cudnn.deterministic = False"
   ]
  },
  {
   "cell_type": "code",
   "execution_count": 7,
   "id": "fd54e43e-bcb2-4be5-9f51-1366b8a5cfb6",
   "metadata": {},
   "outputs": [],
   "source": [
    "os.chdir('..')\n",
    "if not os.path.exists('models'):\n",
    "    os.makedirs('models')"
   ]
  },
  {
   "cell_type": "code",
   "execution_count": 9,
   "id": "86a9b19c-f95a-4976-bed3-47cd97da3fbf",
   "metadata": {},
   "outputs": [],
   "source": [
    "# print(models.resnet18())\n",
    "class ResNetFeatrueExtractor18(nn.Module):\n",
    "    def __init__(self, pretrained = True):\n",
    "        super(ResNetFeatrueExtractor18, self).__init__()\n",
    "        model_resnet18 = models.resnet18(pretrained=pretrained)\n",
    "        self.conv1 = model_resnet18.conv1\n",
    "        self.bn1 = model_resnet18.bn1\n",
    "        self.relu = model_resnet18.relu\n",
    "        self.maxpool = model_resnet18.maxpool\n",
    "        self.layer1 = model_resnet18.layer1\n",
    "        self.layer2 = model_resnet18.layer2\n",
    "        self.layer3 = model_resnet18.layer3\n",
    "        self.layer4 = model_resnet18.layer4\n",
    "        self.avgpool = model_resnet18.avgpool\n",
    "        self.fc1 = nn.Linear(512, 200)\n",
    "        \n",
    "    def forward(self, x):\n",
    "        x = self.relu(self.bn1(self.conv1(x)))\n",
    "        x = self.maxpool(x)\n",
    "        x = self.layer1(x)\n",
    "        x = self.layer2(x)\n",
    "        x = self.layer3(x)\n",
    "        x = self.layer4(x)\n",
    "        x = self.avgpool(x)\n",
    "        x = x.view(x.size(0), -1)\n",
    "        x = self.fc1(x)\n",
    "        return x"
   ]
  },
  {
   "cell_type": "code",
   "execution_count": 10,
   "id": "3113a9df-ae34-49a4-be12-cfc0168aa08a",
   "metadata": {},
   "outputs": [
    {
     "name": "stderr",
     "output_type": "stream",
     "text": [
      "/opt/conda/lib/python3.10/site-packages/torchvision/models/_utils.py:208: UserWarning: The parameter 'pretrained' is deprecated since 0.13 and may be removed in the future, please use 'weights' instead.\n",
      "  warnings.warn(\n",
      "/opt/conda/lib/python3.10/site-packages/torchvision/models/_utils.py:223: UserWarning: Arguments other than a weight enum or `None` for 'weights' are deprecated since 0.13 and may be removed in the future. The current behavior is equivalent to passing `weights=ResNet18_Weights.IMAGENET1K_V1`. You can also use `weights=ResNet18_Weights.DEFAULT` to get the most up-to-date weights.\n",
      "  warnings.warn(msg)\n"
     ]
    },
    {
     "data": {
      "text/plain": [
       "torch.Size([18, 200])"
      ]
     },
     "execution_count": 10,
     "metadata": {},
     "output_type": "execute_result"
    }
   ],
   "source": [
    "ResNetFeatrueExtractor18()(torch.zeros(18,3,28,28)).shape"
   ]
  },
  {
   "cell_type": "code",
   "execution_count": 11,
   "id": "1d2af52d-f3cf-4fb5-9d46-01d52b7eecd5",
   "metadata": {
    "scrolled": true
   },
   "outputs": [],
   "source": [
    "### MNIST code originally from https://github.com/pytorch/examples/blob/master/mnist/main.py ###\n",
    "def train(model, loss_func, device, train_loader, optimizer, epoch):\n",
    "    model.train()\n",
    "    train_losses = []\n",
    "    for batch_idx, (data, labels) in enumerate(train_loader):\n",
    "        data, labels = data.to(device), labels.to(device)\n",
    "        optimizer.zero_grad()\n",
    "        logits = model(data)\n",
    "        #indices_tuple = mining_func(embeddings, labels)\n",
    "        loss = loss_func(logits, labels)\n",
    "        loss.backward()\n",
    "        optimizer.step()\n",
    "        train_losses.append(loss)\n",
    "        if batch_idx % 100 == 0:\n",
    "            print(\"Epoch {} Iteration {}: Loss = {}\".format(epoch, batch_idx, loss))\n",
    "    return torch.mean(torch.tensor(train_losses)).item()\n",
    "    \n",
    "### compute accuracy using AccuracyCalculator from pytorch-metric-learning ###\n",
    "def test(testloader, net):\n",
    "    correct = 0\n",
    "    total = 0\n",
    "    with torch.no_grad():\n",
    "        for data in testloader:\n",
    "            images, labels = data\n",
    "            outputs = net(images.to('cuda'))\n",
    "            _, predicted = torch.max(outputs.data, 1)\n",
    "            total += labels.size(0)\n",
    "            correct += (predicted.detach().cpu() == labels).sum()\n",
    "    \n",
    "    print('Accuracy of the network on the 10000 test images: %d %%' % (\n",
    "        100 * correct / total))\n",
    "    return correct / total\n",
    "device = torch.device(\"cuda\")\n",
    "\n",
    "mean = [0.485, 0.456, 0.406]\n",
    "std = [0.229, 0.224, 0.225]\n",
    "\n",
    "# create train and test transforms\n",
    "transform = transforms.Compose(\n",
    "    [\n",
    "        transforms.Resize((config['image_height'], config['image_width'])),\n",
    "        transforms.ToTensor(),\n",
    "        transforms.Normalize(mean, std),\n",
    "    ]\n",
    ")\n",
    "\n",
    "batch_size = 128"
   ]
  },
  {
   "cell_type": "code",
   "execution_count": 12,
   "id": "74bc7144-4ac1-46af-acb8-abf120dc0312",
   "metadata": {},
   "outputs": [],
   "source": [
    "def tra_transforms(imgsize, RGBmean, RGBstdv):\n",
    "    return transforms.Compose([transforms.Resize(int(imgsize*1.1)),\n",
    "                                 transforms.RandomCrop(imgsize),\n",
    "                                 transforms.RandomHorizontalFlip(),\n",
    "                                 transforms.ToTensor(),\n",
    "                                 transforms.Normalize(RGBmean, RGBstdv)])\n",
    "\n",
    "def eva_transforms(imgsize, RGBmean, RGBstdv):\n",
    "    return transforms.Compose([transforms.Resize(imgsize),\n",
    "                                 transforms.CenterCrop(imgsize),\n",
    "                                 transforms.ToTensor(),\n",
    "                                 transforms.Normalize(RGBmean, RGBstdv)])\n"
   ]
  },
  {
   "cell_type": "code",
   "execution_count": 13,
   "id": "012c1d87-698e-4abe-919e-9050c600673d",
   "metadata": {},
   "outputs": [],
   "source": [
    "train_transform = tra_transforms(224,mean,std)\n",
    "test_transform = eva_transforms(224,mean,std)"
   ]
  },
  {
   "cell_type": "code",
   "execution_count": 14,
   "id": "4edc54cc-56a9-4889-bc86-a2caef18b958",
   "metadata": {},
   "outputs": [],
   "source": [
    "with open('CUB_200_2011/classes.txt','r') as f:\n",
    "    classes = f.readlines()\n",
    "classes = [i.replace('\\n','') for i in classes]\n",
    "classes = [i.split(' ')[1] for i in classes]\n",
    "class_dict = {k:v for k,v in zip(classes,range(200))}"
   ]
  },
  {
   "cell_type": "code",
   "execution_count": 15,
   "id": "565c42ed-11e7-42f1-9bbc-6cc8b089816c",
   "metadata": {},
   "outputs": [],
   "source": [
    "image_paths = []\n",
    "labels = []\n",
    "for folder_path,i in class_dict.items():\n",
    "    folder_images = glob.glob('CUB_200_2011/images/'+'/'+str(folder_path)+'/*')\n",
    "    image_paths.extend(folder_images)\n",
    "    labels.extend([i]*len(folder_images))"
   ]
  },
  {
   "cell_type": "code",
   "execution_count": 16,
   "id": "e3ed0eff-8d29-481e-b7b3-ecd842781f12",
   "metadata": {},
   "outputs": [],
   "source": [
    "from sklearn.model_selection import train_test_split\n",
    "X_train, X_test, y_train, y_test = train_test_split(image_paths, labels, test_size=config['train_test_split'],\n",
    "                                                    stratify=labels,\n",
    "                                                    random_state=config['random_seed'])"
   ]
  },
  {
   "cell_type": "code",
   "execution_count": 17,
   "id": "373894a5-b193-433b-8c42-1d5ac082d312",
   "metadata": {},
   "outputs": [
    {
     "name": "stdout",
     "output_type": "stream",
     "text": [
      "9430 2358 9430 2358\n"
     ]
    }
   ],
   "source": [
    "print(len(X_train), len(X_test), len(y_train), len(y_test))"
   ]
  },
  {
   "cell_type": "code",
   "execution_count": 18,
   "id": "d85fde76-4b7a-4e4e-9207-51596442dc80",
   "metadata": {},
   "outputs": [],
   "source": [
    "import torch\n",
    "from torch.utils.data import Dataset, DataLoader\n",
    "import torchvision.transforms as transforms\n",
    "\n",
    "class CUBDataset(Dataset):\n",
    "    def __init__(self, image_paths,labels,transform=None):\n",
    "        self.image_paths = image_paths\n",
    "        self.labels = labels\n",
    "        self.transform = transform\n",
    "        self.load_image_from_paths()\n",
    "        \n",
    "    def load_image_from_paths(self):\n",
    "        self.images = []\n",
    "        for i in self.image_paths:\n",
    "            img = PIL.Image.open(i)\n",
    "            if len(img.getbands()) ==1 :\n",
    "                img = img.convert(\"RGB\")\n",
    "            self.images.append(img)\n",
    "            \n",
    "    def __len__(self):\n",
    "        return len(self.images)\n",
    "\n",
    "    def __getitem__(self, idx):\n",
    "        image = self.images[idx]\n",
    "        label = self.labels[idx]\n",
    "        if self.transform:\n",
    "            image = self.transform(image)\n",
    "        return image, label"
   ]
  },
  {
   "cell_type": "code",
   "execution_count": 19,
   "id": "27cbe2f3-e65f-4705-bc31-3b382ddd2e59",
   "metadata": {},
   "outputs": [],
   "source": [
    "train_dataset  = CUBDataset(X_train,y_train,train_transform)\n",
    "test_dataset  = CUBDataset(X_test,y_test,test_transform)\n",
    "train_loader = torch.utils.data.DataLoader(train_dataset, batch_size=128, shuffle=True)\n",
    "test_loader = torch.utils.data.DataLoader(test_dataset, batch_size=128, shuffle=False)"
   ]
  },
  {
   "cell_type": "code",
   "execution_count": 20,
   "id": "6f22dd74-3ef4-47d1-a43c-aecc01d59822",
   "metadata": {},
   "outputs": [
    {
     "name": "stderr",
     "output_type": "stream",
     "text": [
      "/opt/conda/lib/python3.10/site-packages/torchvision/models/_utils.py:208: UserWarning: The parameter 'pretrained' is deprecated since 0.13 and may be removed in the future, please use 'weights' instead.\n",
      "  warnings.warn(\n",
      "/opt/conda/lib/python3.10/site-packages/torchvision/models/_utils.py:223: UserWarning: Arguments other than a weight enum or `None` for 'weights' are deprecated since 0.13 and may be removed in the future. The current behavior is equivalent to passing `weights=ResNet18_Weights.IMAGENET1K_V1`. You can also use `weights=ResNet18_Weights.DEFAULT` to get the most up-to-date weights.\n",
      "  warnings.warn(msg)\n"
     ]
    }
   ],
   "source": [
    "model = ResNetFeatrueExtractor18(pretrained=True)\n",
    "model = model.to(device)\n",
    "optimizer = optim.SGD(model.parameters(), lr=config['learning_rate'])\n",
    "num_epochs = config['num_epochs']"
   ]
  },
  {
   "cell_type": "code",
   "execution_count": 21,
   "id": "a5ef8b4c-290f-4fe9-a0bf-65d5ff477af2",
   "metadata": {},
   "outputs": [],
   "source": [
    "loss_func = torch.nn.CrossEntropyLoss()"
   ]
  },
  {
   "cell_type": "code",
   "execution_count": 22,
   "id": "e5bb77dd-c3e8-42d8-8074-27b2210cdb77",
   "metadata": {
    "scrolled": true
   },
   "outputs": [
    {
     "name": "stdout",
     "output_type": "stream",
     "text": [
      "Epoch 1 Iteration 0: Loss = 5.540274620056152\n",
      "Accuracy of the network on the 10000 test images: 5 %\n",
      "Epoch 2 Iteration 0: Loss = 4.887190341949463\n",
      "Accuracy of the network on the 10000 test images: 16 %\n",
      "Epoch 3 Iteration 0: Loss = 4.555792808532715\n",
      "Accuracy of the network on the 10000 test images: 25 %\n",
      "Epoch 4 Iteration 0: Loss = 3.9945735931396484\n",
      "Accuracy of the network on the 10000 test images: 32 %\n",
      "Epoch 5 Iteration 0: Loss = 3.5831775665283203\n",
      "Accuracy of the network on the 10000 test images: 40 %\n",
      "Epoch 6 Iteration 0: Loss = 3.136648178100586\n",
      "Accuracy of the network on the 10000 test images: 46 %\n",
      "Epoch 7 Iteration 0: Loss = 3.014160633087158\n",
      "Accuracy of the network on the 10000 test images: 50 %\n",
      "Epoch 8 Iteration 0: Loss = 2.5221283435821533\n",
      "Accuracy of the network on the 10000 test images: 54 %\n",
      "Epoch 9 Iteration 0: Loss = 2.4161179065704346\n",
      "Accuracy of the network on the 10000 test images: 57 %\n",
      "Epoch 10 Iteration 0: Loss = 2.2435829639434814\n",
      "Accuracy of the network on the 10000 test images: 59 %\n",
      "Epoch 11 Iteration 0: Loss = 2.100925922393799\n",
      "Accuracy of the network on the 10000 test images: 62 %\n",
      "Epoch 12 Iteration 0: Loss = 1.8592913150787354\n",
      "Accuracy of the network on the 10000 test images: 63 %\n",
      "Epoch 13 Iteration 0: Loss = 1.6547802686691284\n",
      "Accuracy of the network on the 10000 test images: 64 %\n",
      "Epoch 14 Iteration 0: Loss = 1.6134499311447144\n",
      "Accuracy of the network on the 10000 test images: 66 %\n",
      "Epoch 15 Iteration 0: Loss = 1.5381211042404175\n",
      "Accuracy of the network on the 10000 test images: 67 %\n",
      "Epoch 16 Iteration 0: Loss = 1.4383527040481567\n",
      "Accuracy of the network on the 10000 test images: 68 %\n",
      "Epoch 17 Iteration 0: Loss = 1.4286515712738037\n",
      "Accuracy of the network on the 10000 test images: 68 %\n",
      "Epoch 18 Iteration 0: Loss = 1.3343530893325806\n",
      "Accuracy of the network on the 10000 test images: 69 %\n",
      "Epoch 19 Iteration 0: Loss = 1.3184622526168823\n",
      "Accuracy of the network on the 10000 test images: 70 %\n",
      "Epoch 20 Iteration 0: Loss = 1.2305747270584106\n",
      "Accuracy of the network on the 10000 test images: 71 %\n",
      "Epoch 21 Iteration 0: Loss = 1.223590612411499\n",
      "Accuracy of the network on the 10000 test images: 71 %\n",
      "Epoch 22 Iteration 0: Loss = 1.1864129304885864\n",
      "Accuracy of the network on the 10000 test images: 71 %\n",
      "Epoch 23 Iteration 0: Loss = 1.0007681846618652\n",
      "Accuracy of the network on the 10000 test images: 72 %\n",
      "Epoch 24 Iteration 0: Loss = 1.035786509513855\n",
      "Accuracy of the network on the 10000 test images: 73 %\n",
      "Epoch 25 Iteration 0: Loss = 0.8321982026100159\n",
      "Accuracy of the network on the 10000 test images: 73 %\n",
      "Epoch 26 Iteration 0: Loss = 0.9573310017585754\n",
      "Accuracy of the network on the 10000 test images: 73 %\n",
      "Epoch 27 Iteration 0: Loss = 0.7684582471847534\n",
      "Accuracy of the network on the 10000 test images: 74 %\n",
      "Epoch 28 Iteration 0: Loss = 0.8020936846733093\n",
      "Accuracy of the network on the 10000 test images: 73 %\n",
      "Epoch 29 Iteration 0: Loss = 0.8457022309303284\n",
      "Accuracy of the network on the 10000 test images: 74 %\n",
      "Epoch 30 Iteration 0: Loss = 0.7450315356254578\n",
      "Accuracy of the network on the 10000 test images: 74 %\n",
      "Epoch 31 Iteration 0: Loss = 0.7402687668800354\n",
      "Accuracy of the network on the 10000 test images: 75 %\n",
      "Epoch 32 Iteration 0: Loss = 0.7367534637451172\n",
      "Accuracy of the network on the 10000 test images: 74 %\n",
      "Epoch 33 Iteration 0: Loss = 0.6420148611068726\n",
      "Accuracy of the network on the 10000 test images: 74 %\n",
      "Epoch 34 Iteration 0: Loss = 0.6288197040557861\n",
      "Accuracy of the network on the 10000 test images: 75 %\n",
      "Epoch 35 Iteration 0: Loss = 0.6759771108627319\n",
      "Accuracy of the network on the 10000 test images: 75 %\n",
      "Epoch 36 Iteration 0: Loss = 0.7249181270599365\n",
      "Accuracy of the network on the 10000 test images: 75 %\n",
      "Epoch 37 Iteration 0: Loss = 0.745116114616394\n",
      "Accuracy of the network on the 10000 test images: 75 %\n",
      "Epoch 38 Iteration 0: Loss = 0.5390439033508301\n",
      "Accuracy of the network on the 10000 test images: 75 %\n",
      "Epoch 39 Iteration 0: Loss = 0.5597787499427795\n",
      "Accuracy of the network on the 10000 test images: 76 %\n",
      "Epoch 40 Iteration 0: Loss = 0.5240361094474792\n",
      "Accuracy of the network on the 10000 test images: 76 %\n",
      "Epoch 41 Iteration 0: Loss = 0.5399932265281677\n",
      "Accuracy of the network on the 10000 test images: 76 %\n",
      "Epoch 42 Iteration 0: Loss = 0.5151917934417725\n",
      "Accuracy of the network on the 10000 test images: 76 %\n",
      "Epoch 43 Iteration 0: Loss = 0.3849449157714844\n",
      "Accuracy of the network on the 10000 test images: 76 %\n",
      "Epoch 44 Iteration 0: Loss = 0.48707062005996704\n",
      "Accuracy of the network on the 10000 test images: 76 %\n",
      "Epoch 45 Iteration 0: Loss = 0.45694640278816223\n",
      "Accuracy of the network on the 10000 test images: 76 %\n",
      "Epoch 46 Iteration 0: Loss = 0.4084152579307556\n",
      "Accuracy of the network on the 10000 test images: 77 %\n",
      "Epoch 47 Iteration 0: Loss = 0.4259249269962311\n",
      "Accuracy of the network on the 10000 test images: 77 %\n",
      "Epoch 48 Iteration 0: Loss = 0.3223590552806854\n",
      "Accuracy of the network on the 10000 test images: 76 %\n",
      "Epoch 49 Iteration 0: Loss = 0.39325669407844543\n",
      "Accuracy of the network on the 10000 test images: 77 %\n",
      "Epoch 50 Iteration 0: Loss = 0.3027471899986267\n",
      "Accuracy of the network on the 10000 test images: 77 %\n",
      "Epoch 51 Iteration 0: Loss = 0.3421618640422821\n",
      "Accuracy of the network on the 10000 test images: 77 %\n",
      "Epoch 52 Iteration 0: Loss = 0.38829994201660156\n",
      "Accuracy of the network on the 10000 test images: 77 %\n",
      "Epoch 53 Iteration 0: Loss = 0.37341320514678955\n",
      "Accuracy of the network on the 10000 test images: 77 %\n",
      "Epoch 54 Iteration 0: Loss = 0.4646315574645996\n",
      "Accuracy of the network on the 10000 test images: 77 %\n",
      "Epoch 55 Iteration 0: Loss = 0.3332316279411316\n",
      "Accuracy of the network on the 10000 test images: 77 %\n",
      "Epoch 56 Iteration 0: Loss = 0.38958728313446045\n",
      "Accuracy of the network on the 10000 test images: 77 %\n",
      "Epoch 57 Iteration 0: Loss = 0.40688949823379517\n",
      "Accuracy of the network on the 10000 test images: 77 %\n",
      "Epoch 58 Iteration 0: Loss = 0.25979793071746826\n",
      "Accuracy of the network on the 10000 test images: 77 %\n",
      "Epoch 59 Iteration 0: Loss = 0.3115626871585846\n",
      "Accuracy of the network on the 10000 test images: 77 %\n",
      "Epoch 60 Iteration 0: Loss = 0.28954750299453735\n",
      "Accuracy of the network on the 10000 test images: 77 %\n",
      "Epoch 61 Iteration 0: Loss = 0.24732182919979095\n",
      "Accuracy of the network on the 10000 test images: 77 %\n",
      "Epoch 62 Iteration 0: Loss = 0.26975277066230774\n",
      "Accuracy of the network on the 10000 test images: 77 %\n",
      "Epoch 63 Iteration 0: Loss = 0.2913067042827606\n",
      "Accuracy of the network on the 10000 test images: 77 %\n",
      "Epoch 64 Iteration 0: Loss = 0.29011669754981995\n",
      "Accuracy of the network on the 10000 test images: 77 %\n",
      "Epoch 65 Iteration 0: Loss = 0.19686973094940186\n",
      "Accuracy of the network on the 10000 test images: 77 %\n",
      "Epoch 66 Iteration 0: Loss = 0.22217056155204773\n",
      "Accuracy of the network on the 10000 test images: 77 %\n",
      "Epoch 67 Iteration 0: Loss = 0.2841953933238983\n",
      "Accuracy of the network on the 10000 test images: 77 %\n",
      "Epoch 68 Iteration 0: Loss = 0.2076614797115326\n",
      "Accuracy of the network on the 10000 test images: 77 %\n",
      "Epoch 69 Iteration 0: Loss = 0.19414125382900238\n",
      "Accuracy of the network on the 10000 test images: 77 %\n",
      "Epoch 70 Iteration 0: Loss = 0.19673536717891693\n",
      "Accuracy of the network on the 10000 test images: 77 %\n",
      "Epoch 71 Iteration 0: Loss = 0.18253719806671143\n",
      "Accuracy of the network on the 10000 test images: 77 %\n",
      "Epoch 72 Iteration 0: Loss = 0.20113636553287506\n",
      "Accuracy of the network on the 10000 test images: 77 %\n",
      "Epoch 73 Iteration 0: Loss = 0.2019556611776352\n",
      "Accuracy of the network on the 10000 test images: 77 %\n",
      "Epoch 74 Iteration 0: Loss = 0.24996457993984222\n",
      "Accuracy of the network on the 10000 test images: 78 %\n",
      "Epoch 75 Iteration 0: Loss = 0.21402309834957123\n",
      "Accuracy of the network on the 10000 test images: 77 %\n",
      "Epoch 76 Iteration 0: Loss = 0.1851094663143158\n",
      "Accuracy of the network on the 10000 test images: 77 %\n",
      "Epoch 77 Iteration 0: Loss = 0.18442252278327942\n",
      "Accuracy of the network on the 10000 test images: 77 %\n",
      "Epoch 78 Iteration 0: Loss = 0.16323448717594147\n",
      "Accuracy of the network on the 10000 test images: 78 %\n",
      "Epoch 79 Iteration 0: Loss = 0.19102513790130615\n",
      "Accuracy of the network on the 10000 test images: 78 %\n",
      "Epoch 80 Iteration 0: Loss = 0.15701629221439362\n",
      "Accuracy of the network on the 10000 test images: 77 %\n",
      "Epoch 81 Iteration 0: Loss = 0.1712440401315689\n",
      "Accuracy of the network on the 10000 test images: 77 %\n",
      "Epoch 82 Iteration 0: Loss = 0.1532214879989624\n",
      "Accuracy of the network on the 10000 test images: 77 %\n",
      "Epoch 83 Iteration 0: Loss = 0.14515501260757446\n",
      "Accuracy of the network on the 10000 test images: 77 %\n",
      "Epoch 84 Iteration 0: Loss = 0.10609063506126404\n",
      "Accuracy of the network on the 10000 test images: 77 %\n",
      "Epoch 85 Iteration 0: Loss = 0.13939553499221802\n",
      "Accuracy of the network on the 10000 test images: 77 %\n",
      "Epoch 86 Iteration 0: Loss = 0.21269935369491577\n",
      "Accuracy of the network on the 10000 test images: 77 %\n",
      "Epoch 87 Iteration 0: Loss = 0.11357050389051437\n",
      "Accuracy of the network on the 10000 test images: 77 %\n",
      "Epoch 88 Iteration 0: Loss = 0.13647209107875824\n",
      "Accuracy of the network on the 10000 test images: 77 %\n",
      "Epoch 89 Iteration 0: Loss = 0.13758231699466705\n",
      "Accuracy of the network on the 10000 test images: 77 %\n",
      "Epoch 90 Iteration 0: Loss = 0.11633577942848206\n",
      "Accuracy of the network on the 10000 test images: 77 %\n",
      "Epoch 91 Iteration 0: Loss = 0.15517640113830566\n",
      "Accuracy of the network on the 10000 test images: 77 %\n",
      "Epoch 92 Iteration 0: Loss = 0.1247682124376297\n",
      "Accuracy of the network on the 10000 test images: 77 %\n",
      "Epoch 93 Iteration 0: Loss = 0.12958812713623047\n",
      "Accuracy of the network on the 10000 test images: 77 %\n",
      "Epoch 94 Iteration 0: Loss = 0.1187785342335701\n",
      "Accuracy of the network on the 10000 test images: 77 %\n",
      "Epoch 95 Iteration 0: Loss = 0.15289399027824402\n",
      "Accuracy of the network on the 10000 test images: 77 %\n",
      "Epoch 96 Iteration 0: Loss = 0.13582062721252441\n",
      "Accuracy of the network on the 10000 test images: 77 %\n",
      "Epoch 97 Iteration 0: Loss = 0.1309095025062561\n",
      "Accuracy of the network on the 10000 test images: 77 %\n",
      "Epoch 98 Iteration 0: Loss = 0.08606701344251633\n",
      "Accuracy of the network on the 10000 test images: 77 %\n",
      "Epoch 99 Iteration 0: Loss = 0.10921202600002289\n",
      "Accuracy of the network on the 10000 test images: 77 %\n",
      "Epoch 100 Iteration 0: Loss = 0.07230302691459656\n",
      "Accuracy of the network on the 10000 test images: 77 %\n"
     ]
    }
   ],
   "source": [
    "for epoch in range(1, num_epochs + 1):\n",
    "    train_loss = train(model, loss_func, device, train_loader, optimizer, epoch)\n",
    "    test_acc = test(test_loader,model)\n",
    "    wandb.log({\"test_accuracy\": test_acc, \"train_loss\": train_loss,'epoch':epoch})"
   ]
  },
  {
   "cell_type": "code",
   "execution_count": 23,
   "id": "9236a48b-c38b-48fc-8b65-1ff4e81ae7b1",
   "metadata": {},
   "outputs": [
    {
     "data": {
      "text/plain": [
       "tensor(71.7557)"
      ]
     },
     "execution_count": 23,
     "metadata": {},
     "output_type": "execute_result"
    }
   ],
   "source": [
    "test_acc"
   ]
  },
  {
   "cell_type": "code",
   "execution_count": 23,
   "id": "f4e33826-711a-4780-b22f-8089e23719da",
   "metadata": {},
   "outputs": [],
   "source": [
    "torch.save(model,config['model_save_path']+'_200.pth')"
   ]
  },
  {
   "cell_type": "code",
   "execution_count": 19,
   "id": "8468f5a6-8c26-4f43-b780-898e6e6cbc12",
   "metadata": {
    "scrolled": true
   },
   "outputs": [],
   "source": [
    "model = torch.load('models/cub_triplet_loss_epshn_resnet18_sgd_aug_200.pth',map_location='cuda')"
   ]
  },
  {
   "cell_type": "code",
   "execution_count": 24,
   "id": "ee72491a-6daa-4df4-8905-9d237e26b24f",
   "metadata": {
    "scrolled": true
   },
   "outputs": [
    {
     "data": {
      "text/plain": [
       "ResNetFeatrueExtractor18(\n",
       "  (conv1): Conv2d(3, 64, kernel_size=(7, 7), stride=(2, 2), padding=(3, 3), bias=False)\n",
       "  (bn1): BatchNorm2d(64, eps=1e-05, momentum=0.1, affine=True, track_running_stats=True)\n",
       "  (relu): ReLU(inplace=True)\n",
       "  (maxpool): MaxPool2d(kernel_size=3, stride=2, padding=1, dilation=1, ceil_mode=False)\n",
       "  (layer1): Sequential(\n",
       "    (0): BasicBlock(\n",
       "      (conv1): Conv2d(64, 64, kernel_size=(3, 3), stride=(1, 1), padding=(1, 1), bias=False)\n",
       "      (bn1): BatchNorm2d(64, eps=1e-05, momentum=0.1, affine=True, track_running_stats=True)\n",
       "      (relu): ReLU(inplace=True)\n",
       "      (conv2): Conv2d(64, 64, kernel_size=(3, 3), stride=(1, 1), padding=(1, 1), bias=False)\n",
       "      (bn2): BatchNorm2d(64, eps=1e-05, momentum=0.1, affine=True, track_running_stats=True)\n",
       "    )\n",
       "    (1): BasicBlock(\n",
       "      (conv1): Conv2d(64, 64, kernel_size=(3, 3), stride=(1, 1), padding=(1, 1), bias=False)\n",
       "      (bn1): BatchNorm2d(64, eps=1e-05, momentum=0.1, affine=True, track_running_stats=True)\n",
       "      (relu): ReLU(inplace=True)\n",
       "      (conv2): Conv2d(64, 64, kernel_size=(3, 3), stride=(1, 1), padding=(1, 1), bias=False)\n",
       "      (bn2): BatchNorm2d(64, eps=1e-05, momentum=0.1, affine=True, track_running_stats=True)\n",
       "    )\n",
       "  )\n",
       "  (layer2): Sequential(\n",
       "    (0): BasicBlock(\n",
       "      (conv1): Conv2d(64, 128, kernel_size=(3, 3), stride=(2, 2), padding=(1, 1), bias=False)\n",
       "      (bn1): BatchNorm2d(128, eps=1e-05, momentum=0.1, affine=True, track_running_stats=True)\n",
       "      (relu): ReLU(inplace=True)\n",
       "      (conv2): Conv2d(128, 128, kernel_size=(3, 3), stride=(1, 1), padding=(1, 1), bias=False)\n",
       "      (bn2): BatchNorm2d(128, eps=1e-05, momentum=0.1, affine=True, track_running_stats=True)\n",
       "      (downsample): Sequential(\n",
       "        (0): Conv2d(64, 128, kernel_size=(1, 1), stride=(2, 2), bias=False)\n",
       "        (1): BatchNorm2d(128, eps=1e-05, momentum=0.1, affine=True, track_running_stats=True)\n",
       "      )\n",
       "    )\n",
       "    (1): BasicBlock(\n",
       "      (conv1): Conv2d(128, 128, kernel_size=(3, 3), stride=(1, 1), padding=(1, 1), bias=False)\n",
       "      (bn1): BatchNorm2d(128, eps=1e-05, momentum=0.1, affine=True, track_running_stats=True)\n",
       "      (relu): ReLU(inplace=True)\n",
       "      (conv2): Conv2d(128, 128, kernel_size=(3, 3), stride=(1, 1), padding=(1, 1), bias=False)\n",
       "      (bn2): BatchNorm2d(128, eps=1e-05, momentum=0.1, affine=True, track_running_stats=True)\n",
       "    )\n",
       "  )\n",
       "  (layer3): Sequential(\n",
       "    (0): BasicBlock(\n",
       "      (conv1): Conv2d(128, 256, kernel_size=(3, 3), stride=(2, 2), padding=(1, 1), bias=False)\n",
       "      (bn1): BatchNorm2d(256, eps=1e-05, momentum=0.1, affine=True, track_running_stats=True)\n",
       "      (relu): ReLU(inplace=True)\n",
       "      (conv2): Conv2d(256, 256, kernel_size=(3, 3), stride=(1, 1), padding=(1, 1), bias=False)\n",
       "      (bn2): BatchNorm2d(256, eps=1e-05, momentum=0.1, affine=True, track_running_stats=True)\n",
       "      (downsample): Sequential(\n",
       "        (0): Conv2d(128, 256, kernel_size=(1, 1), stride=(2, 2), bias=False)\n",
       "        (1): BatchNorm2d(256, eps=1e-05, momentum=0.1, affine=True, track_running_stats=True)\n",
       "      )\n",
       "    )\n",
       "    (1): BasicBlock(\n",
       "      (conv1): Conv2d(256, 256, kernel_size=(3, 3), stride=(1, 1), padding=(1, 1), bias=False)\n",
       "      (bn1): BatchNorm2d(256, eps=1e-05, momentum=0.1, affine=True, track_running_stats=True)\n",
       "      (relu): ReLU(inplace=True)\n",
       "      (conv2): Conv2d(256, 256, kernel_size=(3, 3), stride=(1, 1), padding=(1, 1), bias=False)\n",
       "      (bn2): BatchNorm2d(256, eps=1e-05, momentum=0.1, affine=True, track_running_stats=True)\n",
       "    )\n",
       "  )\n",
       "  (layer4): Sequential(\n",
       "    (0): BasicBlock(\n",
       "      (conv1): Conv2d(256, 512, kernel_size=(3, 3), stride=(2, 2), padding=(1, 1), bias=False)\n",
       "      (bn1): BatchNorm2d(512, eps=1e-05, momentum=0.1, affine=True, track_running_stats=True)\n",
       "      (relu): ReLU(inplace=True)\n",
       "      (conv2): Conv2d(512, 512, kernel_size=(3, 3), stride=(1, 1), padding=(1, 1), bias=False)\n",
       "      (bn2): BatchNorm2d(512, eps=1e-05, momentum=0.1, affine=True, track_running_stats=True)\n",
       "      (downsample): Sequential(\n",
       "        (0): Conv2d(256, 512, kernel_size=(1, 1), stride=(2, 2), bias=False)\n",
       "        (1): BatchNorm2d(512, eps=1e-05, momentum=0.1, affine=True, track_running_stats=True)\n",
       "      )\n",
       "    )\n",
       "    (1): BasicBlock(\n",
       "      (conv1): Conv2d(512, 512, kernel_size=(3, 3), stride=(1, 1), padding=(1, 1), bias=False)\n",
       "      (bn1): BatchNorm2d(512, eps=1e-05, momentum=0.1, affine=True, track_running_stats=True)\n",
       "      (relu): ReLU(inplace=True)\n",
       "      (conv2): Conv2d(512, 512, kernel_size=(3, 3), stride=(1, 1), padding=(1, 1), bias=False)\n",
       "      (bn2): BatchNorm2d(512, eps=1e-05, momentum=0.1, affine=True, track_running_stats=True)\n",
       "    )\n",
       "  )\n",
       "  (avgpool): AdaptiveAvgPool2d(output_size=(1, 1))\n",
       "  (fc1): Linear(in_features=512, out_features=200, bias=True)\n",
       ")"
      ]
     },
     "execution_count": 24,
     "metadata": {},
     "output_type": "execute_result"
    }
   ],
   "source": [
    "model.eval()"
   ]
  },
  {
   "cell_type": "code",
   "execution_count": null,
   "id": "fd1fcd5e-fb23-48ce-9a39-a4e12e34f9b9",
   "metadata": {},
   "outputs": [],
   "source": []
  },
  {
   "cell_type": "code",
   "execution_count": 21,
   "id": "c99fe1cb-ce19-41bf-bb1d-658c8b1b89d9",
   "metadata": {},
   "outputs": [],
   "source": [
    "from pytorch_metric_learning.distances import LpDistance,CosineSimilarity\n",
    "from pytorch_metric_learning.utils.inference import CustomKNN\n",
    "knn_func = CustomKNN(CosineSimilarity())\n",
    "accuracy_calculator = AccuracyCalculator(include=(\"precision_at_1\",),k=1,knn_func=knn_func,avg_of_avgs=False,return_per_class=True)\n",
    "#test(train_dataset, test_dataset, model, accuracy_calculator)"
   ]
  },
  {
   "cell_type": "code",
   "execution_count": 22,
   "id": "248f5f10-0423-47bf-a7b1-83de1a863c7f",
   "metadata": {},
   "outputs": [
    {
     "name": "stderr",
     "output_type": "stream",
     "text": [
      "100%|█████████████████████████████████████████████████████████████████████████████████████████████████████| 295/295 [00:44<00:00,  6.70it/s]\n",
      "100%|███████████████████████████████████████████████████████████████████████████████████████████████████████| 74/74 [00:10<00:00,  7.24it/s]\n"
     ]
    }
   ],
   "source": [
    "train_embeddings, train_labels = get_all_embeddings(train_dataset, model)\n",
    "test_embeddings, test_labels = get_all_embeddings(test_dataset, model)\n",
    "train_labels = train_labels.squeeze(1)\n",
    "test_labels = test_labels.squeeze(1)"
   ]
  },
  {
   "cell_type": "code",
   "execution_count": 23,
   "id": "eba43667-c551-46c0-93aa-dbcf38f695f7",
   "metadata": {},
   "outputs": [
    {
     "name": "stdout",
     "output_type": "stream",
     "text": [
      "{'precision_at_1': [0.9166666666666666, 0.6666666666666666, 0.8333333333333334, 0.8333333333333334, 0.7777777777777778, 0.875, 1.0, 0.6666666666666666, 0.25, 0.75, 0.5833333333333334, 1.0, 0.75, 0.75, 0.7272727272727273, 0.6363636363636364, 0.8181818181818182, 1.0, 0.75, 0.5, 1.0, 0.5454545454545454, 0.3333333333333333, 0.8, 0.5, 0.6666666666666666, 0.25, 1.0, 0.25, 0.25, 0.5833333333333334, 0.5, 0.8333333333333334, 0.75, 0.9166666666666666, 0.6666666666666666, 0.3333333333333333, 0.9166666666666666, 0.5, 0.5, 0.9166666666666666, 0.9166666666666666, 0.16666666666666666, 0.75, 0.5, 0.9166666666666666, 0.8333333333333334, 0.9166666666666666, 0.4166666666666667, 0.75, 0.75, 0.6666666666666666, 0.9166666666666666, 0.6666666666666666, 1.0, 0.8333333333333334, 1.0, 0.75, 0.4166666666666667, 0.4166666666666667, 0.8333333333333334, 0.25, 0.9166666666666666, 0.25, 0.2, 0.5833333333333334, 0.4166666666666667, 0.8333333333333334, 0.75, 0.9166666666666666, 0.4166666666666667, 0.3333333333333333, 0.8333333333333334, 0.8333333333333334, 0.8181818181818182, 1.0, 1.0, 0.5833333333333334, 0.75, 0.6666666666666666, 0.9166666666666666, 0.75, 0.8333333333333334, 0.7, 0.8333333333333334, 0.8333333333333334, 0.9166666666666666, 0.9166666666666666, 0.9166666666666666, 0.9166666666666666, 0.16666666666666666, 0.5, 0.8333333333333334, 0.9166666666666666, 0.6666666666666666, 1.0, 0.5, 0.75, 0.75, 1.0, 0.9, 0.5833333333333334, 0.5, 0.5, 0.4, 0.9166666666666666, 0.5, 0.4166666666666667, 0.8333333333333334, 0.9166666666666666, 0.4166666666666667, 0.4166666666666667, 0.3, 0.9166666666666666, 0.5833333333333334, 0.75, 0.5, 0.3333333333333333, 0.6666666666666666, 0.75, 0.25, 0.6666666666666666, 0.5833333333333334, 0.6666666666666666, 0.3333333333333333, 0.5833333333333334, 0.25, 0.75, 0.3333333333333333, 0.6666666666666666, 0.6666666666666666, 0.6666666666666666, 0.6666666666666666, 0.8333333333333334, 0.5833333333333334, 0.6666666666666666, 0.5, 0.6666666666666666, 0.8333333333333334, 0.75, 0.9090909090909091, 0.25, 0.5, 0.3333333333333333, 0.16666666666666666, 0.5, 0.8333333333333334, 0.6666666666666666, 0.5833333333333334, 0.5, 0.7, 0.5, 0.5, 0.75, 0.3333333333333333, 0.6666666666666666, 0.3333333333333333, 0.9166666666666666, 0.9166666666666666, 0.75, 0.6666666666666666, 0.4166666666666667, 0.75, 0.9166666666666666, 0.8333333333333334, 0.75, 0.75, 0.8333333333333334, 0.9166666666666666, 0.6666666666666666, 0.8333333333333334, 0.75, 0.5833333333333334, 0.4166666666666667, 0.6666666666666666, 0.8333333333333334, 0.6666666666666666, 0.45454545454545453, 0.25, 0.75, 0.75, 0.6666666666666666, 0.8333333333333334, 0.5, 0.6666666666666666, 0.9166666666666666, 0.9, 0.8333333333333334, 1.0, 0.8181818181818182, 0.75, 1.0, 0.5, 0.9166666666666666, 0.6666666666666666, 0.5, 0.75, 0.9166666666666666, 0.8333333333333334, 0.8333333333333334]}\n"
     ]
    }
   ],
   "source": [
    "accuracies = accuracy_calculator.get_accuracy(\n",
    "        test_embeddings, test_labels, train_embeddings, train_labels)\n",
    "print(accuracies)"
   ]
  },
  {
   "cell_type": "code",
   "execution_count": 24,
   "id": "66e97839-85a9-4d96-80f3-1c29e80ccf81",
   "metadata": {},
   "outputs": [],
   "source": [
    "data_dict = {v:k for k,v in class_dict.items()}"
   ]
  },
  {
   "cell_type": "code",
   "execution_count": 25,
   "id": "a0bbe361-a4e0-4ff3-a62d-4abc0aea8099",
   "metadata": {},
   "outputs": [
    {
     "name": "stdout",
     "output_type": "stream",
     "text": [
      "001.Black_footed_Albatross     test samples 12   , training samples 48   : [0.9166666666666666]\n",
      "002.Laysan_Albatross           test samples 12   , training samples 48   : [0.6666666666666666]\n",
      "003.Sooty_Albatross            test samples 12   , training samples 46   : [0.8333333333333334]\n",
      "004.Groove_billed_Ani          test samples 12   , training samples 48   : [0.8333333333333334]\n",
      "005.Crested_Auklet             test samples 9    , training samples 35   : [0.7777777777777778]\n",
      "006.Least_Auklet               test samples 8    , training samples 33   : [0.875]\n",
      "007.Parakeet_Auklet            test samples 10   , training samples 43   : [1.0]\n",
      "008.Rhinoceros_Auklet          test samples 9    , training samples 39   : [0.6666666666666666]\n",
      "009.Brewer_Blackbird           test samples 12   , training samples 47   : [0.25]\n",
      "010.Red_winged_Blackbird       test samples 12   , training samples 48   : [0.75]\n",
      "011.Rusty_Blackbird            test samples 12   , training samples 48   : [0.5833333333333334]\n",
      "012.Yellow_headed_Blackbird    test samples 11   , training samples 45   : [1.0]\n",
      "013.Bobolink                   test samples 12   , training samples 48   : [0.75]\n",
      "014.Indigo_Bunting             test samples 12   , training samples 48   : [0.75]\n",
      "015.Lazuli_Bunting             test samples 11   , training samples 47   : [0.7272727272727273]\n",
      "016.Painted_Bunting            test samples 11   , training samples 47   : [0.6363636363636364]\n",
      "017.Cardinal                   test samples 11   , training samples 46   : [0.8181818181818182]\n",
      "018.Spotted_Catbird            test samples 9    , training samples 36   : [1.0]\n",
      "019.Gray_Catbird               test samples 12   , training samples 47   : [0.75]\n",
      "020.Yellow_breasted_Chat       test samples 12   , training samples 47   : [0.5]\n",
      "021.Eastern_Towhee             test samples 12   , training samples 48   : [1.0]\n",
      "022.Chuck_will_Widow           test samples 11   , training samples 45   : [0.5454545454545454]\n",
      "023.Brandt_Cormorant           test samples 12   , training samples 47   : [0.3333333333333333]\n",
      "024.Red_faced_Cormorant        test samples 10   , training samples 42   : [0.8]\n",
      "025.Pelagic_Cormorant          test samples 12   , training samples 48   : [0.5]\n",
      "026.Bronzed_Cowbird            test samples 12   , training samples 48   : [0.6666666666666666]\n",
      "027.Shiny_Cowbird              test samples 12   , training samples 48   : [0.25]\n",
      "028.Brown_Creeper              test samples 12   , training samples 47   : [1.0]\n",
      "029.American_Crow              test samples 12   , training samples 48   : [0.25]\n",
      "030.Fish_Crow                  test samples 12   , training samples 48   : [0.25]\n",
      "031.Black_billed_Cuckoo        test samples 12   , training samples 48   : [0.5833333333333334]\n",
      "032.Mangrove_Cuckoo            test samples 10   , training samples 43   : [0.5]\n",
      "033.Yellow_billed_Cuckoo       test samples 12   , training samples 47   : [0.8333333333333334]\n",
      "034.Gray_crowned_Rosy_Finch    test samples 12   , training samples 47   : [0.75]\n",
      "035.Purple_Finch               test samples 12   , training samples 48   : [0.9166666666666666]\n",
      "036.Northern_Flicker           test samples 12   , training samples 48   : [0.6666666666666666]\n",
      "037.Acadian_Flycatcher         test samples 12   , training samples 47   : [0.3333333333333333]\n",
      "038.Great_Crested_Flycatcher   test samples 12   , training samples 48   : [0.9166666666666666]\n",
      "039.Least_Flycatcher           test samples 12   , training samples 47   : [0.5]\n",
      "040.Olive_sided_Flycatcher     test samples 12   , training samples 48   : [0.5]\n",
      "041.Scissor_tailed_Flycatcher  test samples 12   , training samples 48   : [0.9166666666666666]\n",
      "042.Vermilion_Flycatcher       test samples 12   , training samples 48   : [0.9166666666666666]\n",
      "043.Yellow_bellied_Flycatcher  test samples 12   , training samples 47   : [0.16666666666666666]\n",
      "044.Frigatebird                test samples 12   , training samples 48   : [0.75]\n",
      "045.Northern_Fulmar            test samples 12   , training samples 48   : [0.5]\n",
      "046.Gadwall                    test samples 12   , training samples 48   : [0.9166666666666666]\n",
      "047.American_Goldfinch         test samples 12   , training samples 48   : [0.8333333333333334]\n",
      "048.European_Goldfinch         test samples 12   , training samples 48   : [0.9166666666666666]\n",
      "049.Boat_tailed_Grackle        test samples 12   , training samples 48   : [0.4166666666666667]\n",
      "050.Eared_Grebe                test samples 12   , training samples 48   : [0.75]\n",
      "051.Horned_Grebe               test samples 12   , training samples 48   : [0.75]\n",
      "052.Pied_billed_Grebe          test samples 12   , training samples 48   : [0.6666666666666666]\n",
      "053.Western_Grebe              test samples 12   , training samples 48   : [0.9166666666666666]\n",
      "054.Blue_Grosbeak              test samples 12   , training samples 48   : [0.6666666666666666]\n",
      "055.Evening_Grosbeak           test samples 12   , training samples 48   : [1.0]\n",
      "056.Pine_Grosbeak              test samples 12   , training samples 48   : [0.8333333333333334]\n",
      "057.Rose_breasted_Grosbeak     test samples 12   , training samples 48   : [1.0]\n",
      "058.Pigeon_Guillemot           test samples 12   , training samples 46   : [0.75]\n",
      "059.California_Gull            test samples 12   , training samples 48   : [0.4166666666666667]\n",
      "060.Glaucous_winged_Gull       test samples 12   , training samples 47   : [0.4166666666666667]\n",
      "061.Heermann_Gull              test samples 12   , training samples 48   : [0.8333333333333334]\n",
      "062.Herring_Gull               test samples 12   , training samples 48   : [0.25]\n",
      "063.Ivory_Gull                 test samples 12   , training samples 48   : [0.9166666666666666]\n",
      "064.Ring_billed_Gull           test samples 12   , training samples 48   : [0.25]\n",
      "065.Slaty_backed_Gull          test samples 10   , training samples 40   : [0.2]\n",
      "066.Western_Gull               test samples 12   , training samples 48   : [0.5833333333333334]\n",
      "067.Anna_Hummingbird           test samples 12   , training samples 48   : [0.4166666666666667]\n",
      "068.Ruby_throated_Hummingbird  test samples 12   , training samples 48   : [0.8333333333333334]\n",
      "069.Rufous_Hummingbird         test samples 12   , training samples 48   : [0.75]\n",
      "070.Green_Violetear            test samples 12   , training samples 48   : [0.9166666666666666]\n",
      "071.Long_tailed_Jaeger         test samples 12   , training samples 48   : [0.4166666666666667]\n",
      "072.Pomarine_Jaeger            test samples 12   , training samples 48   : [0.3333333333333333]\n",
      "073.Blue_Jay                   test samples 12   , training samples 48   : [0.8333333333333334]\n",
      "074.Florida_Jay                test samples 12   , training samples 48   : [0.8333333333333334]\n",
      "075.Green_Jay                  test samples 11   , training samples 46   : [0.8181818181818182]\n",
      "076.Dark_eyed_Junco            test samples 12   , training samples 48   : [1.0]\n",
      "077.Tropical_Kingbird          test samples 12   , training samples 48   : [1.0]\n",
      "078.Gray_Kingbird              test samples 12   , training samples 47   : [0.5833333333333334]\n",
      "079.Belted_Kingfisher          test samples 12   , training samples 48   : [0.75]\n",
      "080.Green_Kingfisher           test samples 12   , training samples 48   : [0.6666666666666666]\n",
      "081.Pied_Kingfisher            test samples 12   , training samples 48   : [0.9166666666666666]\n",
      "082.Ringed_Kingfisher          test samples 12   , training samples 48   : [0.75]\n",
      "083.White_breasted_Kingfisher  test samples 12   , training samples 48   : [0.8333333333333334]\n",
      "084.Red_legged_Kittiwake       test samples 10   , training samples 43   : [0.7]\n",
      "085.Horned_Lark                test samples 12   , training samples 48   : [0.8333333333333334]\n",
      "086.Pacific_Loon               test samples 12   , training samples 48   : [0.8333333333333334]\n",
      "087.Mallard                    test samples 12   , training samples 48   : [0.9166666666666666]\n",
      "088.Western_Meadowlark         test samples 12   , training samples 48   : [0.9166666666666666]\n",
      "089.Hooded_Merganser           test samples 12   , training samples 48   : [0.9166666666666666]\n",
      "090.Red_breasted_Merganser     test samples 12   , training samples 48   : [0.9166666666666666]\n",
      "091.Mockingbird                test samples 12   , training samples 48   : [0.16666666666666666]\n",
      "092.Nighthawk                  test samples 12   , training samples 48   : [0.5]\n",
      "093.Clark_Nutcracker           test samples 12   , training samples 48   : [0.8333333333333334]\n",
      "094.White_breasted_Nuthatch    test samples 12   , training samples 48   : [0.9166666666666666]\n",
      "095.Baltimore_Oriole           test samples 12   , training samples 48   : [0.6666666666666666]\n",
      "096.Hooded_Oriole              test samples 12   , training samples 48   : [1.0]\n",
      "097.Orchard_Oriole             test samples 12   , training samples 47   : [0.5]\n",
      "098.Scott_Oriole               test samples 12   , training samples 48   : [0.75]\n",
      "099.Ovenbird                   test samples 12   , training samples 48   : [0.75]\n",
      "100.Brown_Pelican              test samples 12   , training samples 48   : [1.0]\n",
      "101.White_Pelican              test samples 10   , training samples 40   : [0.9]\n",
      "102.Western_Wood_Pewee         test samples 12   , training samples 48   : [0.5833333333333334]\n",
      "103.Sayornis                   test samples 12   , training samples 48   : [0.5]\n",
      "104.American_Pipit             test samples 12   , training samples 48   : [0.5]\n",
      "105.Whip_poor_Will             test samples 10   , training samples 39   : [0.4]\n",
      "106.Horned_Puffin              test samples 12   , training samples 48   : [0.9166666666666666]\n",
      "107.Common_Raven               test samples 12   , training samples 47   : [0.5]\n",
      "108.White_necked_Raven         test samples 12   , training samples 48   : [0.4166666666666667]\n",
      "109.American_Redstart          test samples 12   , training samples 48   : [0.8333333333333334]\n",
      "110.Geococcyx                  test samples 12   , training samples 48   : [0.9166666666666666]\n",
      "111.Loggerhead_Shrike          test samples 12   , training samples 48   : [0.4166666666666667]\n",
      "112.Great_Grey_Shrike          test samples 12   , training samples 48   : [0.4166666666666667]\n",
      "113.Baird_Sparrow              test samples 10   , training samples 40   : [0.3]\n",
      "114.Black_throated_Sparrow     test samples 12   , training samples 48   : [0.9166666666666666]\n",
      "115.Brewer_Sparrow             test samples 12   , training samples 47   : [0.5833333333333334]\n",
      "116.Chipping_Sparrow           test samples 12   , training samples 48   : [0.75]\n",
      "117.Clay_colored_Sparrow       test samples 12   , training samples 47   : [0.5]\n",
      "118.House_Sparrow              test samples 12   , training samples 48   : [0.3333333333333333]\n",
      "119.Field_Sparrow              test samples 12   , training samples 47   : [0.6666666666666666]\n",
      "120.Fox_Sparrow                test samples 12   , training samples 48   : [0.75]\n",
      "121.Grasshopper_Sparrow        test samples 12   , training samples 48   : [0.25]\n",
      "122.Harris_Sparrow             test samples 12   , training samples 48   : [0.6666666666666666]\n",
      "123.Henslow_Sparrow            test samples 12   , training samples 48   : [0.5833333333333334]\n",
      "124.Le_Conte_Sparrow           test samples 12   , training samples 47   : [0.6666666666666666]\n",
      "125.Lincoln_Sparrow            test samples 12   , training samples 47   : [0.3333333333333333]\n",
      "126.Nelson_Sharp_tailed_Sparrow test samples 12   , training samples 47   : [0.5833333333333334]\n",
      "127.Savannah_Sparrow           test samples 12   , training samples 48   : [0.25]\n",
      "128.Seaside_Sparrow            test samples 12   , training samples 48   : [0.75]\n",
      "129.Song_Sparrow               test samples 12   , training samples 48   : [0.3333333333333333]\n",
      "130.Tree_Sparrow               test samples 12   , training samples 48   : [0.6666666666666666]\n",
      "131.Vesper_Sparrow             test samples 12   , training samples 48   : [0.6666666666666666]\n",
      "132.White_crowned_Sparrow      test samples 12   , training samples 48   : [0.6666666666666666]\n",
      "133.White_throated_Sparrow     test samples 12   , training samples 48   : [0.6666666666666666]\n",
      "134.Cape_Glossy_Starling       test samples 12   , training samples 48   : [0.8333333333333334]\n",
      "135.Bank_Swallow               test samples 12   , training samples 47   : [0.5833333333333334]\n",
      "136.Barn_Swallow               test samples 12   , training samples 48   : [0.6666666666666666]\n",
      "137.Cliff_Swallow              test samples 12   , training samples 48   : [0.5]\n",
      "138.Tree_Swallow               test samples 12   , training samples 48   : [0.6666666666666666]\n",
      "139.Scarlet_Tanager            test samples 12   , training samples 48   : [0.8333333333333334]\n",
      "140.Summer_Tanager             test samples 12   , training samples 48   : [0.75]\n",
      "141.Artic_Tern                 test samples 11   , training samples 47   : [0.9090909090909091]\n",
      "142.Black_Tern                 test samples 12   , training samples 48   : [0.25]\n",
      "143.Caspian_Tern               test samples 12   , training samples 48   : [0.5]\n",
      "144.Common_Tern                test samples 12   , training samples 48   : [0.3333333333333333]\n",
      "145.Elegant_Tern               test samples 12   , training samples 48   : [0.16666666666666666]\n",
      "146.Forsters_Tern              test samples 12   , training samples 48   : [0.5]\n",
      "147.Least_Tern                 test samples 12   , training samples 48   : [0.8333333333333334]\n",
      "148.Green_tailed_Towhee        test samples 12   , training samples 48   : [0.6666666666666666]\n",
      "149.Brown_Thrasher             test samples 12   , training samples 47   : [0.5833333333333334]\n",
      "150.Sage_Thrasher              test samples 12   , training samples 48   : [0.5]\n",
      "151.Black_capped_Vireo         test samples 10   , training samples 41   : [0.7]\n",
      "152.Blue_headed_Vireo          test samples 12   , training samples 48   : [0.5]\n",
      "153.Philadelphia_Vireo         test samples 12   , training samples 47   : [0.5]\n",
      "154.Red_eyed_Vireo             test samples 12   , training samples 48   : [0.75]\n",
      "155.Warbling_Vireo             test samples 12   , training samples 48   : [0.3333333333333333]\n",
      "156.White_eyed_Vireo           test samples 12   , training samples 48   : [0.6666666666666666]\n",
      "157.Yellow_throated_Vireo      test samples 12   , training samples 47   : [0.3333333333333333]\n",
      "158.Bay_breasted_Warbler       test samples 12   , training samples 48   : [0.9166666666666666]\n",
      "159.Black_and_white_Warbler    test samples 12   , training samples 48   : [0.9166666666666666]\n",
      "160.Black_throated_Blue_Warbler test samples 12   , training samples 47   : [0.75]\n",
      "161.Blue_winged_Warbler        test samples 12   , training samples 48   : [0.6666666666666666]\n",
      "162.Canada_Warbler             test samples 12   , training samples 48   : [0.4166666666666667]\n",
      "163.Cape_May_Warbler           test samples 12   , training samples 48   : [0.75]\n",
      "164.Cerulean_Warbler           test samples 12   , training samples 48   : [0.9166666666666666]\n",
      "165.Chestnut_sided_Warbler     test samples 12   , training samples 48   : [0.8333333333333334]\n",
      "166.Golden_winged_Warbler      test samples 12   , training samples 47   : [0.75]\n",
      "167.Hooded_Warbler             test samples 12   , training samples 48   : [0.75]\n",
      "168.Kentucky_Warbler           test samples 12   , training samples 47   : [0.8333333333333334]\n",
      "169.Magnolia_Warbler           test samples 12   , training samples 47   : [0.9166666666666666]\n",
      "170.Mourning_Warbler           test samples 12   , training samples 48   : [0.6666666666666666]\n",
      "171.Myrtle_Warbler             test samples 12   , training samples 48   : [0.8333333333333334]\n",
      "172.Nashville_Warbler          test samples 12   , training samples 48   : [0.75]\n",
      "173.Orange_crowned_Warbler     test samples 12   , training samples 48   : [0.5833333333333334]\n",
      "174.Palm_Warbler               test samples 12   , training samples 48   : [0.4166666666666667]\n",
      "175.Pine_Warbler               test samples 12   , training samples 48   : [0.6666666666666666]\n",
      "176.Prairie_Warbler            test samples 12   , training samples 48   : [0.8333333333333334]\n",
      "177.Prothonotary_Warbler       test samples 12   , training samples 48   : [0.6666666666666666]\n",
      "178.Swainson_Warbler           test samples 11   , training samples 45   : [0.45454545454545453]\n",
      "179.Tennessee_Warbler          test samples 12   , training samples 47   : [0.25]\n",
      "180.Wilson_Warbler             test samples 12   , training samples 48   : [0.75]\n",
      "181.Worm_eating_Warbler        test samples 12   , training samples 47   : [0.75]\n",
      "182.Yellow_Warbler             test samples 12   , training samples 48   : [0.6666666666666666]\n",
      "183.Northern_Waterthrush       test samples 12   , training samples 48   : [0.8333333333333334]\n",
      "184.Louisiana_Waterthrush      test samples 12   , training samples 48   : [0.5]\n",
      "185.Bohemian_Waxwing           test samples 12   , training samples 48   : [0.6666666666666666]\n",
      "186.Cedar_Waxwing              test samples 12   , training samples 48   : [0.9166666666666666]\n",
      "187.American_Three_toed_Woodpecker test samples 10   , training samples 40   : [0.9]\n",
      "188.Pileated_Woodpecker        test samples 12   , training samples 48   : [0.8333333333333334]\n",
      "189.Red_bellied_Woodpecker     test samples 12   , training samples 48   : [1.0]\n",
      "190.Red_cockaded_Woodpecker    test samples 11   , training samples 47   : [0.8181818181818182]\n",
      "191.Red_headed_Woodpecker      test samples 12   , training samples 48   : [0.75]\n",
      "192.Downy_Woodpecker           test samples 12   , training samples 48   : [1.0]\n",
      "193.Bewick_Wren                test samples 12   , training samples 48   : [0.5]\n",
      "194.Cactus_Wren                test samples 12   , training samples 48   : [0.9166666666666666]\n",
      "195.Carolina_Wren              test samples 12   , training samples 48   : [0.6666666666666666]\n",
      "196.House_Wren                 test samples 12   , training samples 47   : [0.5]\n",
      "197.Marsh_Wren                 test samples 12   , training samples 48   : [0.75]\n",
      "198.Rock_Wren                  test samples 12   , training samples 48   : [0.9166666666666666]\n",
      "199.Winter_Wren                test samples 12   , training samples 48   : [0.8333333333333334]\n",
      "200.Common_Yellowthroat        test samples 12   , training samples 48   : [0.8333333333333334]\n"
     ]
    }
   ],
   "source": [
    "acc_dict = {}\n",
    "for i in test_labels.unique():\n",
    "    new_labels = test_labels[test_labels==i]\n",
    "    new_embeddings = test_embeddings[test_labels==i]\n",
    "    accuracies = accuracy_calculator.get_accuracy(\n",
    "        new_embeddings, new_labels, train_embeddings, train_labels, False\n",
    "    )\n",
    "    acc_dict[data_dict[int(i.detach().cpu().numpy())]]=[ \n",
    "                  len(new_labels),\n",
    "                  len(train_labels[train_labels==i]),\n",
    "                  accuracies[\"precision_at_1\"][0]]\n",
    "    print(\"{:<30} test samples {:<5}, training samples {:<5}: {}\".format(data_dict[int(i.detach().cpu().numpy())],\n",
    "                                                                  len(new_labels),\n",
    "                                                                  len(train_labels[train_labels==i]),\n",
    "                                                                  accuracies[\"precision_at_1\"]))"
   ]
  },
  {
   "cell_type": "code",
   "execution_count": 27,
   "id": "971a3f40-43ba-47d0-b313-b6f86dd13d81",
   "metadata": {},
   "outputs": [],
   "source": [
    "all_table = [[k]+v for k,v in acc_dict.items()]"
   ]
  },
  {
   "cell_type": "code",
   "execution_count": 28,
   "id": "c4d9d6d7-2f79-410e-9e8d-b03d5df6092d",
   "metadata": {},
   "outputs": [],
   "source": [
    "columns = [\"class_name\", \"no. of test samples\", \"no. of train samples\", \"precision@1\"]\n",
    "train_table = wandb.Table(data=all_table, columns=columns)"
   ]
  },
  {
   "cell_type": "code",
   "execution_count": 29,
   "id": "76dc029c-15da-4f8d-9a24-d2a6e13e4e3f",
   "metadata": {},
   "outputs": [],
   "source": [
    "run.log({\"all_classes_metrics\": train_table})"
   ]
  },
  {
   "cell_type": "code",
   "execution_count": 30,
   "id": "48f001d0-dfdb-49ca-bee6-de0cda9c846b",
   "metadata": {
    "scrolled": true
   },
   "outputs": [
    {
     "name": "stderr",
     "output_type": "stream",
     "text": [
      " 29%|██████████████████████████████                                                                        | 87/295 [00:05<00:12, 16.55it/s]\n"
     ]
    },
    {
     "ename": "KeyboardInterrupt",
     "evalue": "",
     "output_type": "error",
     "traceback": [
      "\u001b[0;31m---------------------------------------------------------------------------\u001b[0m",
      "\u001b[0;31mKeyboardInterrupt\u001b[0m                         Traceback (most recent call last)",
      "Cell \u001b[0;32mIn[30], line 1\u001b[0m\n\u001b[0;32m----> 1\u001b[0m train_embeddings, train_labels \u001b[38;5;241m=\u001b[39m \u001b[43mget_all_embeddings\u001b[49m\u001b[43m(\u001b[49m\u001b[43mtrain_dataset\u001b[49m\u001b[43m,\u001b[49m\u001b[43m \u001b[49m\u001b[43mmodel\u001b[49m\u001b[43m)\u001b[49m\n\u001b[1;32m      2\u001b[0m test_embeddings, test_labels \u001b[38;5;241m=\u001b[39m get_all_embeddings(test_dataset, model)\n\u001b[1;32m      3\u001b[0m train_labels \u001b[38;5;241m=\u001b[39m train_labels\u001b[38;5;241m.\u001b[39msqueeze(\u001b[38;5;241m1\u001b[39m)\n",
      "Cell \u001b[0;32mIn[10], line 21\u001b[0m, in \u001b[0;36mget_all_embeddings\u001b[0;34m(dataset, model)\u001b[0m\n\u001b[1;32m     19\u001b[0m \u001b[38;5;28;01mdef\u001b[39;00m \u001b[38;5;21mget_all_embeddings\u001b[39m(dataset, model):\n\u001b[1;32m     20\u001b[0m     tester \u001b[38;5;241m=\u001b[39m testers\u001b[38;5;241m.\u001b[39mBaseTester(dataloader_num_workers\u001b[38;5;241m=\u001b[39m\u001b[38;5;241m0\u001b[39m)\n\u001b[0;32m---> 21\u001b[0m     \u001b[38;5;28;01mreturn\u001b[39;00m \u001b[43mtester\u001b[49m\u001b[38;5;241;43m.\u001b[39;49m\u001b[43mget_all_embeddings\u001b[49m\u001b[43m(\u001b[49m\u001b[43mdataset\u001b[49m\u001b[43m,\u001b[49m\u001b[43m \u001b[49m\u001b[43mmodel\u001b[49m\u001b[43m)\u001b[49m\n",
      "File \u001b[0;32m/opt/conda/lib/python3.10/site-packages/pytorch_metric_learning/testers/base_tester.py:119\u001b[0m, in \u001b[0;36mBaseTester.get_all_embeddings\u001b[0;34m(self, dataset, trunk_model, embedder_model, collate_fn, eval, return_as_numpy)\u001b[0m\n\u001b[1;32m    115\u001b[0m     embedder_model\u001b[38;5;241m.\u001b[39meval()\n\u001b[1;32m    116\u001b[0m dataloader \u001b[38;5;241m=\u001b[39m c_f\u001b[38;5;241m.\u001b[39mget_eval_dataloader(\n\u001b[1;32m    117\u001b[0m     dataset, \u001b[38;5;28mself\u001b[39m\u001b[38;5;241m.\u001b[39mbatch_size, \u001b[38;5;28mself\u001b[39m\u001b[38;5;241m.\u001b[39mdataloader_num_workers, collate_fn\n\u001b[1;32m    118\u001b[0m )\n\u001b[0;32m--> 119\u001b[0m embeddings, labels \u001b[38;5;241m=\u001b[39m \u001b[38;5;28;43mself\u001b[39;49m\u001b[38;5;241;43m.\u001b[39;49m\u001b[43mcompute_all_embeddings\u001b[49m\u001b[43m(\u001b[49m\n\u001b[1;32m    120\u001b[0m \u001b[43m    \u001b[49m\u001b[43mdataloader\u001b[49m\u001b[43m,\u001b[49m\u001b[43m \u001b[49m\u001b[43mtrunk_model\u001b[49m\u001b[43m,\u001b[49m\u001b[43m \u001b[49m\u001b[43membedder_model\u001b[49m\n\u001b[1;32m    121\u001b[0m \u001b[43m\u001b[49m\u001b[43m)\u001b[49m\n\u001b[1;32m    122\u001b[0m embeddings \u001b[38;5;241m=\u001b[39m \u001b[38;5;28mself\u001b[39m\u001b[38;5;241m.\u001b[39mmaybe_normalize(embeddings)\n\u001b[1;32m    123\u001b[0m \u001b[38;5;28;01mif\u001b[39;00m return_as_numpy:\n",
      "File \u001b[0;32m/opt/conda/lib/python3.10/site-packages/pytorch_metric_learning/testers/base_tester.py:99\u001b[0m, in \u001b[0;36mBaseTester.compute_all_embeddings\u001b[0;34m(self, dataloader, trunk_model, embedder_model)\u001b[0m\n\u001b[1;32m     97\u001b[0m         all_q[s:e] \u001b[38;5;241m=\u001b[39m q\n\u001b[1;32m     98\u001b[0m         labels[s:e] \u001b[38;5;241m=\u001b[39m label\n\u001b[0;32m---> 99\u001b[0m         s \u001b[38;5;241m=\u001b[39m e\n\u001b[1;32m    100\u001b[0m \u001b[38;5;28;01mreturn\u001b[39;00m all_q, labels\n",
      "\u001b[0;31mKeyboardInterrupt\u001b[0m: "
     ]
    }
   ],
   "source": [
    "train_embeddings, train_labels = get_all_embeddings(train_dataset, model)\n",
    "test_embeddings, test_labels = get_all_embeddings(test_dataset, model)\n",
    "train_labels = train_labels.squeeze(1)\n",
    "test_labels = test_labels.squeeze(1)"
   ]
  },
  {
   "cell_type": "code",
   "execution_count": null,
   "id": "25194d4e-3422-4d6b-9fa6-6470d2a93556",
   "metadata": {},
   "outputs": [],
   "source": [
    "mapper = umap.UMAP().fit(train_embeddings.detach().cpu().numpy())\n",
    "hover_data = pd.DataFrame({'index':np.arange(len(train_embeddings.detach().cpu().numpy())),\n",
    "                           'label':train_labels.detach().cpu().numpy()})"
   ]
  },
  {
   "cell_type": "code",
   "execution_count": 64,
   "id": "655e189a-2181-4d20-a7eb-876c257a21f0",
   "metadata": {},
   "outputs": [],
   "source": [
    "hover_data['item'] = hover_data.label.map(data_dict)"
   ]
  },
  {
   "cell_type": "code",
   "execution_count": 65,
   "id": "284981bf-b69a-4463-a34e-a38eb5fe1cea",
   "metadata": {},
   "outputs": [],
   "source": [
    "import umap.plot"
   ]
  },
  {
   "cell_type": "code",
   "execution_count": 66,
   "id": "4d93f1cc-cd7b-4ca2-ae86-a5899e88cb5b",
   "metadata": {},
   "outputs": [
    {
     "data": {
      "text/html": [
       "    <style>\n",
       "        .bk-notebook-logo {\n",
       "            display: block;\n",
       "            width: 20px;\n",
       "            height: 20px;\n",
       "            background-image: url(data:image/png;base64,iVBORw0KGgoAAAANSUhEUgAAABQAAAAUCAYAAACNiR0NAAAABHNCSVQICAgIfAhkiAAAAAlwSFlzAAALEgAACxIB0t1+/AAAABx0RVh0U29mdHdhcmUAQWRvYmUgRmlyZXdvcmtzIENTNui8sowAAAOkSURBVDiNjZRtaJVlGMd/1/08zzln5zjP1LWcU9N0NkN8m2CYjpgQYQXqSs0I84OLIC0hkEKoPtiH3gmKoiJDU7QpLgoLjLIQCpEsNJ1vqUOdO7ppbuec5+V+rj4ctwzd8IIbbi6u+8f1539dt3A78eXC7QizUF7gyV1fD1Yqg4JWz84yffhm0qkFqBogB9rM8tZdtwVsPUhWhGcFJngGeWrPzHm5oaMmkfEg1usvLFyc8jLRqDOMru7AyC8saQr7GG7f5fvDeH7Ej8CM66nIF+8yngt6HWaKh7k49Soy9nXurCi1o3qUbS3zWfrYeQDTB/Qj6kX6Ybhw4B+bOYoLKCC9H3Nu/leUTZ1JdRWkkn2ldcCamzrcf47KKXdAJllSlxAOkRgyHsGC/zRday5Qld9DyoM4/q/rUoy/CXh3jzOu3bHUVZeU+DEn8FInkPBFlu3+nW3Nw0mk6vCDiWg8CeJaxEwuHS3+z5RgY+YBR6V1Z1nxSOfoaPa4LASWxxdNp+VWTk7+4vzaou8v8PN+xo+KY2xsw6une2frhw05CTYOmQvsEhjhWjn0bmXPjpE1+kplmmkP3suftwTubK9Vq22qKmrBhpY4jvd5afdRA3wGjFAgcnTK2s4hY0/GPNIb0nErGMCRxWOOX64Z8RAC4oCXdklmEvcL8o0BfkNK4lUg9HTl+oPlQxdNo3Mg4Nv175e/1LDGzZen30MEjRUtmXSfiTVu1kK8W4txyV6BMKlbgk3lMwYCiusNy9fVfvvwMxv8Ynl6vxoByANLTWplvuj/nF9m2+PDtt1eiHPBr1oIfhCChQMBw6Aw0UulqTKZdfVvfG7VcfIqLG9bcldL/+pdWTLxLUy8Qq38heUIjh4XlzZxzQm19lLFlr8vdQ97rjZVOLf8nclzckbcD4wxXMidpX30sFd37Fv/GtwwhzhxGVAprjbg0gCAEeIgwCZyTV2Z1REEW8O4py0wsjeloKoMr6iCY6dP92H6Vw/oTyICIthibxjm/DfN9lVz8IqtqKYLUXfoKVMVQVVJOElGjrnnUt9T9wbgp8AyYKaGlqingHZU/uG2NTZSVqwHQTWkx9hxjkpWDaCg6Ckj5qebgBVbT3V3NNXMSiWSDdGV3hrtzla7J+duwPOToIg42ChPQOQjspnSlp1V+Gjdged7+8UN5CRAV7a5EdFNwCjEaBR27b3W890TE7g24NAP/mMDXRWrGoFPQI9ls/MWO2dWFAar/xcOIImbbpA3zgAAAABJRU5ErkJggg==);\n",
       "        }\n",
       "    </style>\n",
       "    <div>\n",
       "        <a href=\"https://bokeh.org\" target=\"_blank\" class=\"bk-notebook-logo\"></a>\n",
       "        <span id=\"d47daf56-dfd0-4535-b4ec-541613944987\">Loading BokehJS ...</span>\n",
       "    </div>\n"
      ]
     },
     "metadata": {},
     "output_type": "display_data"
    },
    {
     "data": {
      "application/javascript": [
       "(function(root) {\n",
       "  function now() {\n",
       "    return new Date();\n",
       "  }\n",
       "\n",
       "  const force = true;\n",
       "\n",
       "  if (typeof root._bokeh_onload_callbacks === \"undefined\" || force === true) {\n",
       "    root._bokeh_onload_callbacks = [];\n",
       "    root._bokeh_is_loading = undefined;\n",
       "  }\n",
       "\n",
       "const JS_MIME_TYPE = 'application/javascript';\n",
       "  const HTML_MIME_TYPE = 'text/html';\n",
       "  const EXEC_MIME_TYPE = 'application/vnd.bokehjs_exec.v0+json';\n",
       "  const CLASS_NAME = 'output_bokeh rendered_html';\n",
       "\n",
       "  /**\n",
       "   * Render data to the DOM node\n",
       "   */\n",
       "  function render(props, node) {\n",
       "    const script = document.createElement(\"script\");\n",
       "    node.appendChild(script);\n",
       "  }\n",
       "\n",
       "  /**\n",
       "   * Handle when an output is cleared or removed\n",
       "   */\n",
       "  function handleClearOutput(event, handle) {\n",
       "    function drop(id) {\n",
       "      const view = Bokeh.index.get_by_id(id)\n",
       "      if (view != null) {\n",
       "        view.model.document.clear()\n",
       "        Bokeh.index.delete(view)\n",
       "      }\n",
       "    }\n",
       "\n",
       "    const cell = handle.cell;\n",
       "\n",
       "    const id = cell.output_area._bokeh_element_id;\n",
       "    const server_id = cell.output_area._bokeh_server_id;\n",
       "\n",
       "    // Clean up Bokeh references\n",
       "    if (id != null) {\n",
       "      drop(id)\n",
       "    }\n",
       "\n",
       "    if (server_id !== undefined) {\n",
       "      // Clean up Bokeh references\n",
       "      const cmd_clean = \"from bokeh.io.state import curstate; print(curstate().uuid_to_server['\" + server_id + \"'].get_sessions()[0].document.roots[0]._id)\";\n",
       "      cell.notebook.kernel.execute(cmd_clean, {\n",
       "        iopub: {\n",
       "          output: function(msg) {\n",
       "            const id = msg.content.text.trim()\n",
       "            drop(id)\n",
       "          }\n",
       "        }\n",
       "      });\n",
       "      // Destroy server and session\n",
       "      const cmd_destroy = \"import bokeh.io.notebook as ion; ion.destroy_server('\" + server_id + \"')\";\n",
       "      cell.notebook.kernel.execute(cmd_destroy);\n",
       "    }\n",
       "  }\n",
       "\n",
       "  /**\n",
       "   * Handle when a new output is added\n",
       "   */\n",
       "  function handleAddOutput(event, handle) {\n",
       "    const output_area = handle.output_area;\n",
       "    const output = handle.output;\n",
       "\n",
       "    // limit handleAddOutput to display_data with EXEC_MIME_TYPE content only\n",
       "    if ((output.output_type != \"display_data\") || (!Object.prototype.hasOwnProperty.call(output.data, EXEC_MIME_TYPE))) {\n",
       "      return\n",
       "    }\n",
       "\n",
       "    const toinsert = output_area.element.find(\".\" + CLASS_NAME.split(' ')[0]);\n",
       "\n",
       "    if (output.metadata[EXEC_MIME_TYPE][\"id\"] !== undefined) {\n",
       "      toinsert[toinsert.length - 1].firstChild.textContent = output.data[JS_MIME_TYPE];\n",
       "      // store reference to embed id on output_area\n",
       "      output_area._bokeh_element_id = output.metadata[EXEC_MIME_TYPE][\"id\"];\n",
       "    }\n",
       "    if (output.metadata[EXEC_MIME_TYPE][\"server_id\"] !== undefined) {\n",
       "      const bk_div = document.createElement(\"div\");\n",
       "      bk_div.innerHTML = output.data[HTML_MIME_TYPE];\n",
       "      const script_attrs = bk_div.children[0].attributes;\n",
       "      for (let i = 0; i < script_attrs.length; i++) {\n",
       "        toinsert[toinsert.length - 1].firstChild.setAttribute(script_attrs[i].name, script_attrs[i].value);\n",
       "        toinsert[toinsert.length - 1].firstChild.textContent = bk_div.children[0].textContent\n",
       "      }\n",
       "      // store reference to server id on output_area\n",
       "      output_area._bokeh_server_id = output.metadata[EXEC_MIME_TYPE][\"server_id\"];\n",
       "    }\n",
       "  }\n",
       "\n",
       "  function register_renderer(events, OutputArea) {\n",
       "\n",
       "    function append_mime(data, metadata, element) {\n",
       "      // create a DOM node to render to\n",
       "      const toinsert = this.create_output_subarea(\n",
       "        metadata,\n",
       "        CLASS_NAME,\n",
       "        EXEC_MIME_TYPE\n",
       "      );\n",
       "      this.keyboard_manager.register_events(toinsert);\n",
       "      // Render to node\n",
       "      const props = {data: data, metadata: metadata[EXEC_MIME_TYPE]};\n",
       "      render(props, toinsert[toinsert.length - 1]);\n",
       "      element.append(toinsert);\n",
       "      return toinsert\n",
       "    }\n",
       "\n",
       "    /* Handle when an output is cleared or removed */\n",
       "    events.on('clear_output.CodeCell', handleClearOutput);\n",
       "    events.on('delete.Cell', handleClearOutput);\n",
       "\n",
       "    /* Handle when a new output is added */\n",
       "    events.on('output_added.OutputArea', handleAddOutput);\n",
       "\n",
       "    /**\n",
       "     * Register the mime type and append_mime function with output_area\n",
       "     */\n",
       "    OutputArea.prototype.register_mime_type(EXEC_MIME_TYPE, append_mime, {\n",
       "      /* Is output safe? */\n",
       "      safe: true,\n",
       "      /* Index of renderer in `output_area.display_order` */\n",
       "      index: 0\n",
       "    });\n",
       "  }\n",
       "\n",
       "  // register the mime type if in Jupyter Notebook environment and previously unregistered\n",
       "  if (root.Jupyter !== undefined) {\n",
       "    const events = require('base/js/events');\n",
       "    const OutputArea = require('notebook/js/outputarea').OutputArea;\n",
       "\n",
       "    if (OutputArea.prototype.mime_types().indexOf(EXEC_MIME_TYPE) == -1) {\n",
       "      register_renderer(events, OutputArea);\n",
       "    }\n",
       "  }\n",
       "  if (typeof (root._bokeh_timeout) === \"undefined\" || force === true) {\n",
       "    root._bokeh_timeout = Date.now() + 5000;\n",
       "    root._bokeh_failed_load = false;\n",
       "  }\n",
       "\n",
       "  const NB_LOAD_WARNING = {'data': {'text/html':\n",
       "     \"<div style='background-color: #fdd'>\\n\"+\n",
       "     \"<p>\\n\"+\n",
       "     \"BokehJS does not appear to have successfully loaded. If loading BokehJS from CDN, this \\n\"+\n",
       "     \"may be due to a slow or bad network connection. Possible fixes:\\n\"+\n",
       "     \"</p>\\n\"+\n",
       "     \"<ul>\\n\"+\n",
       "     \"<li>re-rerun `output_notebook()` to attempt to load from CDN again, or</li>\\n\"+\n",
       "     \"<li>use INLINE resources instead, as so:</li>\\n\"+\n",
       "     \"</ul>\\n\"+\n",
       "     \"<code>\\n\"+\n",
       "     \"from bokeh.resources import INLINE\\n\"+\n",
       "     \"output_notebook(resources=INLINE)\\n\"+\n",
       "     \"</code>\\n\"+\n",
       "     \"</div>\"}};\n",
       "\n",
       "  function display_loaded() {\n",
       "    const el = document.getElementById(\"d47daf56-dfd0-4535-b4ec-541613944987\");\n",
       "    if (el != null) {\n",
       "      el.textContent = \"BokehJS is loading...\";\n",
       "    }\n",
       "    if (root.Bokeh !== undefined) {\n",
       "      if (el != null) {\n",
       "        el.textContent = \"BokehJS \" + root.Bokeh.version + \" successfully loaded.\";\n",
       "      }\n",
       "    } else if (Date.now() < root._bokeh_timeout) {\n",
       "      setTimeout(display_loaded, 100)\n",
       "    }\n",
       "  }\n",
       "\n",
       "  function run_callbacks() {\n",
       "    try {\n",
       "      root._bokeh_onload_callbacks.forEach(function(callback) {\n",
       "        if (callback != null)\n",
       "          callback();\n",
       "      });\n",
       "    } finally {\n",
       "      delete root._bokeh_onload_callbacks\n",
       "    }\n",
       "    console.debug(\"Bokeh: all callbacks have finished\");\n",
       "  }\n",
       "\n",
       "  function load_libs(css_urls, js_urls, callback) {\n",
       "    if (css_urls == null) css_urls = [];\n",
       "    if (js_urls == null) js_urls = [];\n",
       "\n",
       "    root._bokeh_onload_callbacks.push(callback);\n",
       "    if (root._bokeh_is_loading > 0) {\n",
       "      console.debug(\"Bokeh: BokehJS is being loaded, scheduling callback at\", now());\n",
       "      return null;\n",
       "    }\n",
       "    if (js_urls == null || js_urls.length === 0) {\n",
       "      run_callbacks();\n",
       "      return null;\n",
       "    }\n",
       "    console.debug(\"Bokeh: BokehJS not loaded, scheduling load and callback at\", now());\n",
       "    root._bokeh_is_loading = css_urls.length + js_urls.length;\n",
       "\n",
       "    function on_load() {\n",
       "      root._bokeh_is_loading--;\n",
       "      if (root._bokeh_is_loading === 0) {\n",
       "        console.debug(\"Bokeh: all BokehJS libraries/stylesheets loaded\");\n",
       "        run_callbacks()\n",
       "      }\n",
       "    }\n",
       "\n",
       "    function on_error(url) {\n",
       "      console.error(\"failed to load \" + url);\n",
       "    }\n",
       "\n",
       "    for (let i = 0; i < css_urls.length; i++) {\n",
       "      const url = css_urls[i];\n",
       "      const element = document.createElement(\"link\");\n",
       "      element.onload = on_load;\n",
       "      element.onerror = on_error.bind(null, url);\n",
       "      element.rel = \"stylesheet\";\n",
       "      element.type = \"text/css\";\n",
       "      element.href = url;\n",
       "      console.debug(\"Bokeh: injecting link tag for BokehJS stylesheet: \", url);\n",
       "      document.body.appendChild(element);\n",
       "    }\n",
       "\n",
       "    for (let i = 0; i < js_urls.length; i++) {\n",
       "      const url = js_urls[i];\n",
       "      const element = document.createElement('script');\n",
       "      element.onload = on_load;\n",
       "      element.onerror = on_error.bind(null, url);\n",
       "      element.async = false;\n",
       "      element.src = url;\n",
       "      console.debug(\"Bokeh: injecting script tag for BokehJS library: \", url);\n",
       "      document.head.appendChild(element);\n",
       "    }\n",
       "  };\n",
       "\n",
       "  function inject_raw_css(css) {\n",
       "    const element = document.createElement(\"style\");\n",
       "    element.appendChild(document.createTextNode(css));\n",
       "    document.body.appendChild(element);\n",
       "  }\n",
       "\n",
       "  const js_urls = [\"https://cdn.bokeh.org/bokeh/release/bokeh-3.3.4.min.js\", \"https://cdn.bokeh.org/bokeh/release/bokeh-gl-3.3.4.min.js\", \"https://cdn.bokeh.org/bokeh/release/bokeh-widgets-3.3.4.min.js\", \"https://cdn.bokeh.org/bokeh/release/bokeh-tables-3.3.4.min.js\", \"https://cdn.bokeh.org/bokeh/release/bokeh-mathjax-3.3.4.min.js\", \"https://unpkg.com/@holoviz/panel@1.3.8/dist/panel.min.js\"];\n",
       "  const css_urls = [];\n",
       "\n",
       "  const inline_js = [    function(Bokeh) {\n",
       "      Bokeh.set_log_level(\"info\");\n",
       "    },\n",
       "function(Bokeh) {\n",
       "    }\n",
       "  ];\n",
       "\n",
       "  function run_inline_js() {\n",
       "    if (root.Bokeh !== undefined || force === true) {\n",
       "          for (let i = 0; i < inline_js.length; i++) {\n",
       "      inline_js[i].call(root, root.Bokeh);\n",
       "    }\n",
       "if (force === true) {\n",
       "        display_loaded();\n",
       "      }} else if (Date.now() < root._bokeh_timeout) {\n",
       "      setTimeout(run_inline_js, 100);\n",
       "    } else if (!root._bokeh_failed_load) {\n",
       "      console.log(\"Bokeh: BokehJS failed to load within specified timeout.\");\n",
       "      root._bokeh_failed_load = true;\n",
       "    } else if (force !== true) {\n",
       "      const cell = $(document.getElementById(\"d47daf56-dfd0-4535-b4ec-541613944987\")).parents('.cell').data().cell;\n",
       "      cell.output_area.append_execute_result(NB_LOAD_WARNING)\n",
       "    }\n",
       "  }\n",
       "\n",
       "  if (root._bokeh_is_loading === 0) {\n",
       "    console.debug(\"Bokeh: BokehJS loaded, going straight to plotting\");\n",
       "    run_inline_js();\n",
       "  } else {\n",
       "    load_libs(css_urls, js_urls, function() {\n",
       "      console.debug(\"Bokeh: BokehJS plotting callback run at\", now());\n",
       "      run_inline_js();\n",
       "    });\n",
       "  }\n",
       "}(window));"
      ],
      "application/vnd.bokehjs_load.v0+json": "(function(root) {\n  function now() {\n    return new Date();\n  }\n\n  const force = true;\n\n  if (typeof root._bokeh_onload_callbacks === \"undefined\" || force === true) {\n    root._bokeh_onload_callbacks = [];\n    root._bokeh_is_loading = undefined;\n  }\n\n\n  if (typeof (root._bokeh_timeout) === \"undefined\" || force === true) {\n    root._bokeh_timeout = Date.now() + 5000;\n    root._bokeh_failed_load = false;\n  }\n\n  const NB_LOAD_WARNING = {'data': {'text/html':\n     \"<div style='background-color: #fdd'>\\n\"+\n     \"<p>\\n\"+\n     \"BokehJS does not appear to have successfully loaded. If loading BokehJS from CDN, this \\n\"+\n     \"may be due to a slow or bad network connection. Possible fixes:\\n\"+\n     \"</p>\\n\"+\n     \"<ul>\\n\"+\n     \"<li>re-rerun `output_notebook()` to attempt to load from CDN again, or</li>\\n\"+\n     \"<li>use INLINE resources instead, as so:</li>\\n\"+\n     \"</ul>\\n\"+\n     \"<code>\\n\"+\n     \"from bokeh.resources import INLINE\\n\"+\n     \"output_notebook(resources=INLINE)\\n\"+\n     \"</code>\\n\"+\n     \"</div>\"}};\n\n  function display_loaded() {\n    const el = document.getElementById(\"d47daf56-dfd0-4535-b4ec-541613944987\");\n    if (el != null) {\n      el.textContent = \"BokehJS is loading...\";\n    }\n    if (root.Bokeh !== undefined) {\n      if (el != null) {\n        el.textContent = \"BokehJS \" + root.Bokeh.version + \" successfully loaded.\";\n      }\n    } else if (Date.now() < root._bokeh_timeout) {\n      setTimeout(display_loaded, 100)\n    }\n  }\n\n  function run_callbacks() {\n    try {\n      root._bokeh_onload_callbacks.forEach(function(callback) {\n        if (callback != null)\n          callback();\n      });\n    } finally {\n      delete root._bokeh_onload_callbacks\n    }\n    console.debug(\"Bokeh: all callbacks have finished\");\n  }\n\n  function load_libs(css_urls, js_urls, callback) {\n    if (css_urls == null) css_urls = [];\n    if (js_urls == null) js_urls = [];\n\n    root._bokeh_onload_callbacks.push(callback);\n    if (root._bokeh_is_loading > 0) {\n      console.debug(\"Bokeh: BokehJS is being loaded, scheduling callback at\", now());\n      return null;\n    }\n    if (js_urls == null || js_urls.length === 0) {\n      run_callbacks();\n      return null;\n    }\n    console.debug(\"Bokeh: BokehJS not loaded, scheduling load and callback at\", now());\n    root._bokeh_is_loading = css_urls.length + js_urls.length;\n\n    function on_load() {\n      root._bokeh_is_loading--;\n      if (root._bokeh_is_loading === 0) {\n        console.debug(\"Bokeh: all BokehJS libraries/stylesheets loaded\");\n        run_callbacks()\n      }\n    }\n\n    function on_error(url) {\n      console.error(\"failed to load \" + url);\n    }\n\n    for (let i = 0; i < css_urls.length; i++) {\n      const url = css_urls[i];\n      const element = document.createElement(\"link\");\n      element.onload = on_load;\n      element.onerror = on_error.bind(null, url);\n      element.rel = \"stylesheet\";\n      element.type = \"text/css\";\n      element.href = url;\n      console.debug(\"Bokeh: injecting link tag for BokehJS stylesheet: \", url);\n      document.body.appendChild(element);\n    }\n\n    for (let i = 0; i < js_urls.length; i++) {\n      const url = js_urls[i];\n      const element = document.createElement('script');\n      element.onload = on_load;\n      element.onerror = on_error.bind(null, url);\n      element.async = false;\n      element.src = url;\n      console.debug(\"Bokeh: injecting script tag for BokehJS library: \", url);\n      document.head.appendChild(element);\n    }\n  };\n\n  function inject_raw_css(css) {\n    const element = document.createElement(\"style\");\n    element.appendChild(document.createTextNode(css));\n    document.body.appendChild(element);\n  }\n\n  const js_urls = [\"https://cdn.bokeh.org/bokeh/release/bokeh-3.3.4.min.js\", \"https://cdn.bokeh.org/bokeh/release/bokeh-gl-3.3.4.min.js\", \"https://cdn.bokeh.org/bokeh/release/bokeh-widgets-3.3.4.min.js\", \"https://cdn.bokeh.org/bokeh/release/bokeh-tables-3.3.4.min.js\", \"https://cdn.bokeh.org/bokeh/release/bokeh-mathjax-3.3.4.min.js\", \"https://unpkg.com/@holoviz/panel@1.3.8/dist/panel.min.js\"];\n  const css_urls = [];\n\n  const inline_js = [    function(Bokeh) {\n      Bokeh.set_log_level(\"info\");\n    },\nfunction(Bokeh) {\n    }\n  ];\n\n  function run_inline_js() {\n    if (root.Bokeh !== undefined || force === true) {\n          for (let i = 0; i < inline_js.length; i++) {\n      inline_js[i].call(root, root.Bokeh);\n    }\nif (force === true) {\n        display_loaded();\n      }} else if (Date.now() < root._bokeh_timeout) {\n      setTimeout(run_inline_js, 100);\n    } else if (!root._bokeh_failed_load) {\n      console.log(\"Bokeh: BokehJS failed to load within specified timeout.\");\n      root._bokeh_failed_load = true;\n    } else if (force !== true) {\n      const cell = $(document.getElementById(\"d47daf56-dfd0-4535-b4ec-541613944987\")).parents('.cell').data().cell;\n      cell.output_area.append_execute_result(NB_LOAD_WARNING)\n    }\n  }\n\n  if (root._bokeh_is_loading === 0) {\n    console.debug(\"Bokeh: BokehJS loaded, going straight to plotting\");\n    run_inline_js();\n  } else {\n    load_libs(css_urls, js_urls, function() {\n      console.debug(\"Bokeh: BokehJS plotting callback run at\", now());\n      run_inline_js();\n    });\n  }\n}(window));"
     },
     "metadata": {},
     "output_type": "display_data"
    }
   ],
   "source": [
    "umap.plot.output_notebook()"
   ]
  },
  {
   "cell_type": "code",
   "execution_count": 67,
   "id": "baa8abe0-f8d3-4783-9d1f-faf559951bcd",
   "metadata": {
    "scrolled": true
   },
   "outputs": [
    {
     "data": {
      "text/html": [
       "\n",
       "  <div id=\"b45906f7-e960-4ebf-a1d9-311ef224cefa\" data-root-id=\"p1005\" style=\"display: contents;\"></div>\n"
      ]
     },
     "metadata": {},
     "output_type": "display_data"
    },
    {
     "data": {
      "application/javascript": [
       "(function(root) {\n",
       "  function embed_document(root) {\n",
       "  const docs_json = {\"8b422e2f-e0d2-497e-8dcd-9af72125b24c\":{\"version\":\"3.3.4\",\"title\":\"Bokeh Application\",\"roots\":[{\"type\":\"object\",\"name\":\"Figure\",\"id\":\"p1005\",\"attributes\":{\"width\":800,\"height\":800,\"x_range\":{\"type\":\"object\",\"name\":\"DataRange1d\",\"id\":\"p1006\"},\"y_range\":{\"type\":\"object\",\"name\":\"DataRange1d\",\"id\":\"p1007\"},\"x_scale\":{\"type\":\"object\",\"name\":\"LinearScale\",\"id\":\"p1014\"},\"y_scale\":{\"type\":\"object\",\"name\":\"LinearScale\",\"id\":\"p1015\"},\"title\":{\"type\":\"object\",\"name\":\"Title\",\"id\":\"p1012\"},\"renderers\":[{\"type\":\"object\",\"name\":\"GlyphRenderer\",\"id\":\"p1044\",\"attributes\":{\"data_source\":{\"type\":\"object\",\"name\":\"ColumnDataSource\",\"id\":\"p1002\",\"attributes\":{\"selected\":{\"type\":\"object\",\"name\":\"Selection\",\"id\":\"p1003\",\"attributes\":{\"indices\":[],\"line_indices\":[]}},\"selection_policy\":{\"type\":\"object\",\"name\":\"UnionRenderers\",\"id\":\"p1004\"},\"data\":{\"type\":\"map\",\"entries\":[[\"level_0\",{\"type\":\"ndarray\",\"array\":{\"type\":\"bytes\",\"data\":\"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\"},\"shape\":[9430],\"dtype\":\"int32\",\"order\":\"little\"}],[\"x\",{\"type\":\"ndarray\",\"array\":{\"type\":\"bytes\",\"data\":\"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\"},\"shape\":[9430],\"dtype\":\"float32\",\"order\":\"little\"}],[\"y\",{\"type\":\"ndarray\",\"array\":{\"type\":\"bytes\",\"data\":\"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\"},\"shape\":[9430],\"dtype\":\"float32\",\"order\":\"little\"}],[\"label\",{\"type\":\"ndarray\",\"array\":{\"type\":\"bytes\",\"data\":\"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\"},\"shape\":[9430],\"dtype\":\"int32\",\"order\":\"little\"}],[\"color\",{\"type\":\"ndarray\",\"array\":[\"#4e63ac\",\"#8cd1a4\",\"#3990ba\",\"#d1ed9c\",\"#d8434e\",\"#fdbd6d\",\"#fba35c\",\"#47a0b3\",\"#74c7a5\",\"#fecc7b\",\"#c1274a\",\"#fffdbc\",\"#a20643\",\"#fec877\",\"#c1274a\",\"#fdb163\",\"#fdc372\",\"#fdb96a\",\"#52abae\",\"#fffbb8\",\"#fb9d59\",\"#86cfa5\",\"#f7814c\",\"#acdda4\",\"#4471b2\",\"#fffebe\",\"#bc2249\",\"#a4daa4\",\"#c3e79f\",\"#9fd8a4\",\"#aedea3\",\"#eaf79e\",\"#5c51a3\",\"#feea9b\",\"#c6e89f\",\"#4ba4b1\",\"#545ca8\",\"#ed6246\",\"#a4daa4\",\"#edf8a3\",\"#fdb768\",\"#86cfa5\",\"#dff299\",\"#a90d45\",\"#b1dfa3\",\"#fede89\",\"#e2514a\",\"#47a0b3\",\"#d23a4e\",\"#ed6246\",\"#71c6a5\",\"#9e0142\",\"#f3faac\",\"#fa9857\",\"#466eb1\",\"#fdb163\",\"#f67c4a\",\"#f06744\",\"#caea9e\",\"#daf09a\",\"#feda86\",\"#3387bc\",\"#fca55d\",\"#aedea3\",\"#56b0ad\",\"#f8fcb4\",\"#e2514a\",\"#cfec9d\",\"#ffffbe\",\"#acdda4\",\"#feeb9d\",\"#b1dfa3\",\"#dff299\",\"#66c2a5\",\"#358bbc\",\"#c1e6a0\",\"#fff5ae\",\"#f57547\",\"#e2514a\",\"#d8434e\",\"#eef8a4\",\"#5eb9a9\",\"#66c2a5\",\"#439bb5\",\"#5cb7aa\",\"#de4c4b\",\"#eff9a6\",\"#fff6b0\",\"#4199b6\",\"#5e4fa2\",\"#64c0a6\",\"#f36b43\",\"#f2faaa\",\"#3a7eb8\",\"#d8ef9b\",\"#bc2249\",\"#5956a5\",\"#fdbd6d\",\"#d1ed9c\",\"#94d4a4\",\"#5e4fa2\",\"#fdbd6d\",\"#e4f498\",\"#f3faac\",\"#fee999\",\"#a00343\",\"#4273b3\",\"#c9314c\",\"#fed27f\",\"#fff3ac\",\"#b81e48\",\"#c3e79f\",\"#3387bc\",\"#f1f9a9\",\"#fff6b0\",\"#f7844e\",\"#f36b43\",\"#7ccaa5\",\"#ee6445\",\"#eaf79e\",\"#eaf79e\",\"#3f97b7\",\"#9fd8a4\",\"#eff9a6\",\"#fee28f\",\"#97d5a4\",\"#e1f399\",\"#fb9d59\",\"#76c8a5\",\"#fdb768\",\"#3d79b6\",\"#fff3ac\",\"#f36b43\",\"#52abae\",\"#5956a5\",\"#fee999\",\"#4e63ac\",\"#c1e6a0\",\"#a40844\",\"#fdc574\",\"#a2d9a4\",\"#60bba8\",\"#b5e1a2\",\"#d8434e\",\"#fed27f\",\"#cb334d\",\"#fffbb8\",\"#99d6a4\",\"#a90d45\",\"#466eb1\",\"#dd4a4c\",\"#fca55d\",\"#e2514a\",\"#ed6246\",\"#fcaa5f\",\"#feda86\",\"#edf8a3\",\"#4471b2\",\"#bae3a1\",\"#ea5e47\",\"#71c6a5\",\"#66c2a5\",\"#9e0142\",\"#66c2a5\",\"#71c6a5\",\"#f99153\",\"#d7414e\",\"#fca55d\",\"#e1f399\",\"#3d79b6\",\"#3d79b6\",\"#3f97b7\",\"#555aa7\",\"#fcfeba\",\"#fdb768\",\"#f67c4a\",\"#4d65ad\",\"#f6fbb0\",\"#a7dba4\",\"#f88c51\",\"#fed683\",\"#f46d43\",\"#7ecca5\",\"#c1e6a0\",\"#5eb9a9\",\"#358bbc\",\"#ad1246\",\"#fefebd\",\"#fdc574\",\"#fafdb7\",\"#fff0a6\",\"#fdc171\",\"#feda86\",\"#fffab6\",\"#66c2a5\",\"#c9314c\",\"#54aead\",\"#7ecca5\",\"#ffffbe\",\"#fca85e\",\"#c72e4c\",\"#f1f9a9\",\"#4ba4b1\",\"#f7fcb2\",\"#f36b43\",\"#acdda4\",\"#dd4a4c\",\"#e4f498\",\"#fba35c\",\"#f7814c\",\"#3387bc\",\"#daf09a\",\"#f99355\",\"#76c8a5\",\"#c52c4b\",\"#d43d4f\",\"#8cd1a4\",\"#60bba8\",\"#4ea7b0\",\"#de4c4b\",\"#fcaa5f\",\"#fec877\",\"#f99355\",\"#fdc372\",\"#496aaf\",\"#a2d9a4\",\"#f57748\",\"#b1dfa3\",\"#f36b43\",\"#4273b3\",\"#e8f69b\",\"#b41947\",\"#fdbd6d\",\"#5c51a3\",\"#f5fbaf\",\"#3b92b9\",\"#fee08b\",\"#fafdb7\",\"#fcfeba\",\"#f57748\",\"#5ab4ab\",\"#89d0a4\",\"#7ecca5\",\"#feeb9d\",\"#5e4fa2\",\"#3f97b7\",\"#fcfeba\",\"#bce4a0\",\"#fff3ac\",\"#fee999\",\"#7ccaa5\",\"#fff2aa\",\"#fed27f\",\"#b41947\",\"#d8434e\",\"#f1f9a9\",\"#e95c47\",\"#3990ba\",\"#fffbb8\",\"#fdaf62\",\"#fec877\",\"#da464d\",\"#fcaa5f\",\"#e2514a\",\"#f6fbb0\",\"#fefebd\",\"#f46d43\",\"#8fd2a4\",\"#fba35c\",\"#f8864f\",\"#e3534a\",\"#dff299\",\"#4d65ad\",\"#5cb7aa\",\"#df4e4b\",\"#74c7a5\",\"#ef6645\",\"#f7844e\",\"#eef8a4\",\"#5cb7aa\",\"#fdc574\",\"#fbfdb8\",\"#e9f69d\",\"#8cd1a4\",\"#fffab6\",\"#a00343\",\"#e9f69d\",\"#3990ba\",\"#5eb9a9\",\"#fa9857\",\"#da464d\",\"#5956a5\",\"#b5e1a2\",\"#d9444d\",\"#74c7a5\",\"#358bbc\",\"#dd4a4c\",\"#a00343\",\"#c3e79f\",\"#fb9d59\",\"#52abae\",\"#3d79b6\",\"#8cd1a4\",\"#fed27f\",\"#fee28f\",\"#fee797\",\"#fdb365\",\"#fed683\",\"#fee593\",\"#fdb365\",\"#76c8a5\",\"#86cfa5\",\"#5c51a3\",\"#64c0a6\",\"#e4f498\",\"#d6ee9b\",\"#d6ee9b\",\"#a90d45\",\"#3682ba\",\"#56b0ad\",\"#c3e79f\",\"#e8f69b\",\"#feefa3\",\"#81cda5\",\"#4471b2\",\"#fdc171\",\"#d43d4f\",\"#f57547\",\"#fdc372\",\"#fb9d59\",\"#feda86\",\"#a20643\",\"#5b53a4\",\"#bc2249\",\"#e3534a\",\"#fba35c\",\"#feda86\",\"#f57748\",\"#f57547\",\"#fed683\",\"#c6e89f\",\"#caea9e\",\"#f67c4a\",\"#fffbb8\",\"#acdda4\",\"#3b92b9\",\"#fdc574\",\"#555aa7\",\"#bae3a1\",\"#fff3ac\",\"#fdb96a\",\"#f3faac\",\"#d8434e\",\"#fff2aa\",\"#496aaf\",\"#49a2b2\",\"#d43d4f\",\"#f2faaa\",\"#81cda5\",\"#b81e48\",\"#d8ef9b\",\"#3387bc\",\"#fa9b58\",\"#f1f9a9\",\"#fefebd\",\"#fcfeba\",\"#a20643\",\"#f7844e\",\"#fee593\",\"#bce4a0\",\"#fdc171\",\"#f57547\",\"#f3faac\",\"#feca79\",\"#3a7eb8\",\"#f99355\",\"#4ba4b1\",\"#d0384e\",\"#525fa9\",\"#d1ed9c\",\"#d9444d\",\"#f67a49\",\"#fed481\",\"#fefebd\",\"#f8fcb4\",\"#fca85e\",\"#e95c47\",\"#fece7c\",\"#3990ba\",\"#f7fcb2\",\"#eaf79e\",\"#5b53a4\",\"#fee593\",\"#a00343\",\"#fa9b58\",\"#fefebd\",\"#5ab4ab\",\"#d7414e\",\"#e45549\",\"#378ebb\",\"#f99153\",\"#da464d\",\"#caea9e\",\"#3b92b9\",\"#f5fbaf\",\"#fed27f\",\"#fee797\",\"#49a2b2\",\"#5956a5\",\"#f36b43\",\"#f7fcb2\",\"#dff299\",\"#b11747\",\"#edf8a3\",\"#acdda4\",\"#f7844e\",\"#4d65ad\",\"#cb334d\",\"#f7814c\",\"#5e4fa2\",\"#cfec9d\",\"#d1ed9c\",\"#fafdb7\",\"#a90d45\",\"#fed481\",\"#6ec5a5\",\"#3990ba\",\"#d23a4e\",\"#acdda4\",\"#feeb9d\",\"#6ec5a5\",\"#f1f9a9\",\"#5eb9a9\",\"#97d5a4\",\"#fdaf62\",\"#4ba4b1\",\"#e8f69b\",\"#bce4a0\",\"#fa9857\",\"#fdb163\",\"#555aa7\",\"#f7fcb2\",\"#feea9b\",\"#3f77b5\",\"#f7844e\",\"#f2faaa\",\"#439bb5\",\"#f99355\",\"#fba35c\",\"#e1f399\",\"#a90d45\",\"#fed683\",\"#df4e4b\",\"#ed6246\",\"#f46d43\",\"#d6ee9b\",\"#da464d\",\"#e3534a\",\"#aedea3\",\"#fece7c\",\"#fcaa5f\",\"#fdb768\",\"#f7fcb2\",\"#bae3a1\",\"#b5e1a2\",\"#fed481\",\"#fba35c\",\"#4ba4b1\",\"#fffab6\",\"#5eb9a9\",\"#e3534a\",\"#feeda1\",\"#fee491\",\"#b81e48\",\"#f99355\",\"#c6e89f\",\"#81cda5\",\"#378ebb\",\"#5cb7aa\",\"#c9314c\",\"#fee797\",\"#feeda1\",\"#f6fbb0\",\"#bce4a0\",\"#f98e52\",\"#c1274a\",\"#e4f498\",\"#9fd8a4\",\"#3f77b5\",\"#b8e2a1\",\"#fee08b\",\"#f5fbaf\",\"#f8fcb4\",\"#99d6a4\",\"#66c2a5\",\"#64c0a6\",\"#c6e89f\",\"#e2514a\",\"#fdbd6d\",\"#fdc574\",\"#feefa3\",\"#8fd2a4\",\"#4ea7b0\",\"#fefebd\",\"#5e4fa2\",\"#525fa9\",\"#f7fcb2\",\"#fcfeba\",\"#d9444d\",\"#5cb7aa\",\"#b1dfa3\",\"#f88c51\",\"#fee999\",\"#fdc171\",\"#fefebd\",\"#a4daa4\",\"#cb334d\",\"#eaf79e\",\"#47a0b3\",\"#bce4a0\",\"#ee6445\",\"#fee491\",\"#eaf79e\",\"#f1f9a9\",\"#fca85e\",\"#f8fcb4\",\"#e55749\",\"#e45549\",\"#5b53a4\",\"#bae3a1\",\"#b81e48\",\"#3f97b7\",\"#358bbc\",\"#feeb9d\",\"#f46d43\",\"#eef8a4\",\"#86cfa5\",\"#5eb9a9\",\"#fdbd6d\",\"#f99153\",\"#a40844\",\"#ea5e47\",\"#eef8a4\",\"#fafdb7\",\"#3387bc\",\"#f8864f\",\"#fee08b\",\"#fdc171\",\"#fecc7b\",\"#8fd2a4\",\"#d0384e\",\"#74c7a5\",\"#52abae\",\"#feefa3\",\"#5956a5\",\"#dd4a4c\",\"#feeda1\",\"#f47044\",\"#fca85e\",\"#3387bc\",\"#fff6b0\",\"#fee593\",\"#60bba8\",\"#a7dba4\",\"#74c7a5\",\"#fdc372\",\"#feda86\",\"#fffab6\",\"#fed683\",\"#ed6246\",\"#47a0b3\",\"#ef6645\",\"#bae3a1\",\"#e55749\",\"#3f97b7\",\"#f3faac\",\"#fed27f\",\"#3387bc\",\"#f6fbb0\",\"#fdc574\",\"#dff299\",\"#fa9b58\",\"#525fa9\",\"#e6f598\",\"#66c2a5\",\"#f7fcb2\",\"#9fd8a4\",\"#9e0142\",\"#fdb96a\",\"#f6fbb0\",\"#f98e52\",\"#feea9b\",\"#496aaf\",\"#fecc7b\",\"#5956a5\",\"#47a0b3\",\"#ef6645\",\"#5b53a4\",\"#439bb5\",\"#ee6445\",\"#f5fbaf\",\"#a40844\",\"#a4daa4\",\"#49a2b2\",\"#dff299\",\"#3682ba\",\"#525fa9\",\"#b8e2a1\",\"#3f77b5\",\"#525fa9\",\"#e6f598\",\"#d8ef9b\",\"#4199b6\",\"#fffab6\",\"#a4daa4\",\"#b5e1a2\",\"#ffffbe\",\"#b81e48\",\"#5cb7aa\",\"#fff5ae\",\"#feefa3\",\"#c9314c\",\"#fdc574\",\"#daf09a\",\"#e3534a\",\"#3387bc\",\"#b11747\",\"#496aaf\",\"#545ca8\",\"#b41947\",\"#fb9d59\",\"#60bba8\",\"#fa9b58\",\"#466eb1\",\"#f47044\",\"#a7dba4\",\"#c1e6a0\",\"#fffdbc\",\"#97d5a4\",\"#60bba8\",\"#fffab6\",\"#f99355\",\"#fa9857\",\"#c1274a\",\"#c9314c\",\"#97d5a4\",\"#df4e4b\",\"#feeda1\",\"#e2514a\",\"#d7414e\",\"#f7844e\",\"#fcaa5f\",\"#6ec5a5\",\"#8cd1a4\",\"#fca85e\",\"#f1f9a9\",\"#b8e2a1\",\"#fff5ae\",\"#4471b2\",\"#5ab4ab\",\"#ef6645\",\"#f98e52\",\"#d23a4e\",\"#e2514a\",\"#fee999\",\"#5ab4ab\",\"#3990ba\",\"#3990ba\",\"#b1dfa3\",\"#7ecca5\",\"#f1f9a9\",\"#d23a4e\",\"#378ebb\",\"#f2faaa\",\"#ee6445\",\"#d7414e\",\"#66c2a5\",\"#bae3a1\",\"#feeb9d\",\"#54aead\",\"#fffebe\",\"#cfec9d\",\"#fca55d\",\"#fee593\",\"#5ab4ab\",\"#8fd2a4\",\"#f98e52\",\"#4ea7b0\",\"#5956a5\",\"#e9f69d\",\"#e45549\",\"#4471b2\",\"#feeda1\",\"#e95c47\",\"#3d79b6\",\"#f88c51\",\"#fec877\",\"#5ab4ab\",\"#a90d45\",\"#fff0a6\",\"#d0384e\",\"#fee08b\",\"#e9f69d\",\"#f06744\",\"#daf09a\",\"#4ea7b0\",\"#feeb9d\",\"#4d65ad\",\"#fed481\",\"#fdb365\",\"#cdeb9d\",\"#3f77b5\",\"#f67a49\",\"#fece7c\",\"#49a2b2\",\"#e8f69b\",\"#e4f498\",\"#d6ee9b\",\"#cdeb9d\",\"#feeb9d\",\"#9e0142\",\"#de4c4b\",\"#f6fbb0\",\"#4471b2\",\"#56b0ad\",\"#fee797\",\"#f67a49\",\"#4ba4b1\",\"#c72e4c\",\"#ed6246\",\"#b5e1a2\",\"#bae3a1\",\"#4d65ad\",\"#f67c4a\",\"#358bbc\",\"#ea5e47\",\"#feefa3\",\"#a20643\",\"#f67a49\",\"#f36b43\",\"#bc2249\",\"#e4f498\",\"#54aead\",\"#fdb96a\",\"#d7414e\",\"#fdb96a\",\"#fff8b4\",\"#edf8a3\",\"#60bba8\",\"#b5e1a2\",\"#ab0f45\",\"#d7414e\",\"#fed683\",\"#fed481\",\"#47a0b3\",\"#fecc7b\",\"#fdaf62\",\"#fee491\",\"#f8864f\",\"#feeb9d\",\"#fed683\",\"#fa9b58\",\"#3b7cb7\",\"#fdc171\",\"#f57547\",\"#3f77b5\",\"#fece7c\",\"#feea9b\",\"#f8864f\",\"#caea9e\",\"#c9314c\",\"#fede89\",\"#8cd1a4\",\"#f1f9a9\",\"#e85b48\",\"#fcfeba\",\"#c72e4c\",\"#e45549\",\"#54aead\",\"#e9f69d\",\"#fedc88\",\"#66c2a5\",\"#6ec5a5\",\"#7ecca5\",\"#5cb7aa\",\"#e85b48\",\"#a2d9a4\",\"#fedc88\",\"#fca85e\",\"#3d79b6\",\"#4ea7b0\",\"#acdda4\",\"#d23a4e\",\"#a40844\",\"#b5e1a2\",\"#feca79\",\"#4ea7b0\",\"#56b0ad\",\"#d0384e\",\"#fff6b0\",\"#c3e79f\",\"#f06744\",\"#99d6a4\",\"#a20643\",\"#60bba8\",\"#fff0a6\",\"#fec877\",\"#fdb96a\",\"#caea9e\",\"#fff6b0\",\"#f1f9a9\",\"#f7814c\",\"#feca79\",\"#fff3ac\",\"#bc2249\",\"#dd4a4c\",\"#5eb9a9\",\"#e1f399\",\"#fee593\",\"#fed481\",\"#bae3a1\",\"#8cd1a4\",\"#d8434e\",\"#a4daa4\",\"#fdc372\",\"#e85b48\",\"#a7dba4\",\"#60bba8\",\"#fff8b4\",\"#fee999\",\"#b41947\",\"#e85b48\",\"#fff8b4\",\"#56b0ad\",\"#b11747\",\"#b11747\",\"#97d5a4\",\"#b61b48\",\"#f67c4a\",\"#5b53a4\",\"#4471b2\",\"#da464d\",\"#7ccaa5\",\"#fdbd6d\",\"#b61b48\",\"#f67c4a\",\"#fefebd\",\"#86cfa5\",\"#ea5e47\",\"#e8f69b\",\"#a20643\",\"#52abae\",\"#c1e6a0\",\"#3990ba\",\"#eff9a6\",\"#cfec9d\",\"#f7814c\",\"#fee08b\",\"#d8ef9b\",\"#47a0b3\",\"#4e63ac\",\"#74c7a5\",\"#be254a\",\"#acdda4\",\"#f1f9a9\",\"#d23a4e\",\"#fff0a6\",\"#feefa3\",\"#d6ee9b\",\"#7ecca5\",\"#feefa3\",\"#fee797\",\"#b61b48\",\"#fee999\",\"#feefa3\",\"#5c51a3\",\"#daf09a\",\"#cb334d\",\"#81cda5\",\"#f99153\",\"#f1f9a9\",\"#f8864f\",\"#f7844e\",\"#ef6645\",\"#c1e6a0\",\"#5c51a3\",\"#a2d9a4\",\"#dd4a4c\",\"#439bb5\",\"#f7fcb2\",\"#fba35c\",\"#fecc7b\",\"#94d4a4\",\"#fff0a6\",\"#f8864f\",\"#5b53a4\",\"#3585bb\",\"#fede89\",\"#97d5a4\",\"#b41947\",\"#f7844e\",\"#e85b48\",\"#439bb5\",\"#f57547\",\"#3b92b9\",\"#d43d4f\",\"#ab0f45\",\"#3f77b5\",\"#f8fcb4\",\"#f3faac\",\"#fdb365\",\"#fffebe\",\"#a2d9a4\",\"#6ec5a5\",\"#f7844e\",\"#ed6246\",\"#aedea3\",\"#97d5a4\",\"#56b0ad\",\"#e9f69d\",\"#6ec5a5\",\"#b11747\",\"#feeb9d\",\"#daf09a\",\"#49a2b2\",\"#ef6645\",\"#89d0a4\",\"#4199b6\",\"#a4daa4\",\"#fdbd6d\",\"#f46d43\",\"#74c7a5\",\"#fff6b0\",\"#3682ba\",\"#4ba4b1\",\"#fee28f\",\"#66c2a5\",\"#e9f69d\",\"#3b7cb7\",\"#3b7cb7\",\"#c1e6a0\",\"#a40844\",\"#ad1246\",\"#fdb365\",\"#f67a49\",\"#358bbc\",\"#f88c51\",\"#3a7eb8\",\"#3b7cb7\",\"#4b68ae\",\"#f5fbaf\",\"#fdaf62\",\"#a7dba4\",\"#d43d4f\",\"#94d4a4\",\"#3d79b6\",\"#3b7cb7\",\"#f67c4a\",\"#e55749\",\"#fa9b58\",\"#fff5ae\",\"#64c0a6\",\"#a00343\",\"#56b0ad\",\"#74c7a5\",\"#f7844e\",\"#fece7c\",\"#c1e6a0\",\"#feea9b\",\"#5cb7aa\",\"#edf8a3\",\"#52abae\",\"#ffffbe\",\"#c72e4c\",\"#e2514a\",\"#feea9b\",\"#fff6b0\",\"#fee593\",\"#caea9e\",\"#9e0142\",\"#fcfeba\",\"#de4c4b\",\"#fff2aa\",\"#47a0b3\",\"#feeb9d\",\"#fca55d\",\"#d43d4f\",\"#fff8b4\",\"#f7814c\",\"#feeda1\",\"#4e63ac\",\"#feeb9d\",\"#5956a5\",\"#fafdb7\",\"#4273b3\",\"#c52c4b\",\"#4b68ae\",\"#66c2a5\",\"#466eb1\",\"#feda86\",\"#c6e89f\",\"#e95c47\",\"#fca55d\",\"#4471b2\",\"#fdb365\",\"#f3faac\",\"#7ccaa5\",\"#f98e52\",\"#a20643\",\"#fbfdb8\",\"#f06744\",\"#fca85e\",\"#fca85e\",\"#ea5e47\",\"#fee28f\",\"#a4daa4\",\"#fecc7b\",\"#47a0b3\",\"#f7fcb2\",\"#f06744\",\"#fdb768\",\"#8cd1a4\",\"#fdc171\",\"#e45549\",\"#e2514a\",\"#fed481\",\"#5b53a4\",\"#eaf79e\",\"#3f77b5\",\"#3f97b7\",\"#f8864f\",\"#3b92b9\",\"#d8434e\",\"#fede89\",\"#dd4a4c\",\"#a7dba4\",\"#e6f598\",\"#cdeb9d\",\"#7ecca5\",\"#ab0f45\",\"#fbfdb8\",\"#fff6b0\",\"#e55749\",\"#fdb365\",\"#4ba4b1\",\"#4b68ae\",\"#b5e1a2\",\"#c72e4c\",\"#fffab6\",\"#3990ba\",\"#3f97b7\",\"#fede89\",\"#a2d9a4\",\"#7ccaa5\",\"#edf8a3\",\"#e1f399\",\"#fed683\",\"#74c7a5\",\"#e95c47\",\"#fed683\",\"#e3534a\",\"#a90d45\",\"#97d5a4\",\"#fee491\",\"#fafdb7\",\"#3d79b6\",\"#fdb768\",\"#496aaf\",\"#fedc88\",\"#b61b48\",\"#ed6246\",\"#fdb768\",\"#d8434e\",\"#dff299\",\"#fdb96a\",\"#fa9857\",\"#caea9e\",\"#fdc171\",\"#d23a4e\",\"#525fa9\",\"#b11747\",\"#c1e6a0\",\"#fff2aa\",\"#3b92b9\",\"#81cda5\",\"#5ab4ab\",\"#a00343\",\"#9fd8a4\",\"#eaf79e\",\"#fff6b0\",\"#fee08b\",\"#b8e2a1\",\"#d9444d\",\"#496aaf\",\"#da464d\",\"#74c7a5\",\"#fff6b0\",\"#7ecca5\",\"#4273b3\",\"#fffab6\",\"#dd4a4c\",\"#fcaa5f\",\"#74c7a5\",\"#3990ba\",\"#99d6a4\",\"#cfec9d\",\"#ffffbe\",\"#ffffbe\",\"#fffebe\",\"#bce4a0\",\"#c3e79f\",\"#525fa9\",\"#fff0a6\",\"#aedea3\",\"#f47044\",\"#5b53a4\",\"#b5e1a2\",\"#4ea7b0\",\"#e8f69b\",\"#ea5e47\",\"#f99355\",\"#cdeb9d\",\"#4ba4b1\",\"#fffab6\",\"#fece7c\",\"#f1f9a9\",\"#d6ee9b\",\"#fca85e\",\"#a90d45\",\"#fba35c\",\"#eff9a6\",\"#f5fbaf\",\"#fedc88\",\"#f8fcb4\",\"#3a7eb8\",\"#bc2249\",\"#60bba8\",\"#4b68ae\",\"#e1f399\",\"#fecc7b\",\"#e8f69b\",\"#4e63ac\",\"#e55749\",\"#e1f399\",\"#fdc372\",\"#d1ed9c\",\"#feefa3\",\"#e3534a\",\"#b81e48\",\"#a00343\",\"#fdb163\",\"#e2514a\",\"#94d4a4\",\"#f7814c\",\"#71c6a5\",\"#7ccaa5\",\"#f8fcb4\",\"#466eb1\",\"#8cd1a4\",\"#f8864f\",\"#edf8a3\",\"#fdb768\",\"#fed683\",\"#fec877\",\"#d23a4e\",\"#ef6645\",\"#94d4a4\",\"#fdb163\",\"#94d4a4\",\"#c9314c\",\"#fdb768\",\"#6ec5a5\",\"#fcaa5f\",\"#feefa3\",\"#a2d9a4\",\"#fffdbc\",\"#fcaa5f\",\"#dff299\",\"#fafdb7\",\"#fff3ac\",\"#f7814c\",\"#a90d45\",\"#fb9d59\",\"#9fd8a4\",\"#fbfdb8\",\"#fdaf62\",\"#edf8a3\",\"#feea9b\",\"#fff6b0\",\"#f99355\",\"#f67c4a\",\"#d43d4f\",\"#e95c47\",\"#7ecca5\",\"#4ba4b1\",\"#b8e2a1\",\"#fdbb6c\",\"#ecf7a1\",\"#56b0ad\",\"#da464d\",\"#9fd8a4\",\"#71c6a5\",\"#f57547\",\"#358bbc\",\"#4273b3\",\"#cb334d\",\"#fcfeba\",\"#feca79\",\"#eef8a4\",\"#5e4fa2\",\"#4b68ae\",\"#a2d9a4\",\"#3a7eb8\",\"#64c0a6\",\"#5c51a3\",\"#d6ee9b\",\"#3585bb\",\"#e95c47\",\"#a90d45\",\"#fdb163\",\"#4273b3\",\"#edf8a3\",\"#daf09a\",\"#fee28f\",\"#fefebd\",\"#eaf79e\",\"#3387bc\",\"#60bba8\",\"#d8ef9b\",\"#4273b3\",\"#c1274a\",\"#f99153\",\"#97d5a4\",\"#69c3a5\",\"#f99153\",\"#f36b43\",\"#caea9e\",\"#fee797\",\"#69c3a5\",\"#fffab6\",\"#f6fbb0\",\"#b5e1a2\",\"#fdb96a\",\"#fca85e\",\"#466eb1\",\"#cdeb9d\",\"#b81e48\",\"#74c7a5\",\"#d8ef9b\",\"#fffab6\",\"#4273b3\",\"#fafdb7\",\"#e95c47\",\"#feefa3\",\"#ea5e47\",\"#b8e2a1\",\"#439bb5\",\"#97d5a4\",\"#da464d\",\"#fede89\",\"#3b92b9\",\"#5cb7aa\",\"#fca85e\",\"#fff2aa\",\"#fffbb8\",\"#feca79\",\"#5e4fa2\",\"#fffbb8\",\"#fff6b0\",\"#c3e79f\",\"#feea9b\",\"#feda86\",\"#f7814c\",\"#466eb1\",\"#fffebe\",\"#a20643\",\"#439bb5\",\"#be254a\",\"#feda86\",\"#df4e4b\",\"#da464d\",\"#fed27f\",\"#fdc372\",\"#3a7eb8\",\"#3990ba\",\"#fee797\",\"#ad1246\",\"#3f77b5\",\"#e8f69b\",\"#f3faac\",\"#5cb7aa\",\"#52abae\",\"#3585bb\",\"#5ab4ab\",\"#daf09a\",\"#5956a5\",\"#feea9b\",\"#d23a4e\",\"#466eb1\",\"#d6ee9b\",\"#3d79b6\",\"#d9444d\",\"#b1dfa3\",\"#7ecca5\",\"#fdc574\",\"#d0384e\",\"#c52c4b\",\"#e2514a\",\"#f98e52\",\"#fed481\",\"#e4f498\",\"#fdb163\",\"#fdc372\",\"#d1ed9c\",\"#f3faac\",\"#b61b48\",\"#5e4fa2\",\"#525fa9\",\"#3b7cb7\",\"#3a7eb8\",\"#f2faaa\",\"#f57748\",\"#89d0a4\",\"#fece7c\",\"#fca85e\",\"#3f97b7\",\"#f2faaa\",\"#ef6645\",\"#fee28f\",\"#d1ed9c\",\"#9fd8a4\",\"#76c8a5\",\"#a40844\",\"#cfec9d\",\"#fdbd6d\",\"#b61b48\",\"#49a2b2\",\"#e2514a\",\"#ab0f45\",\"#b1dfa3\",\"#fede89\",\"#acdda4\",\"#b61b48\",\"#a90d45\",\"#feeda1\",\"#5ab4ab\",\"#f88c51\",\"#fee593\",\"#f47044\",\"#f67c4a\",\"#8fd2a4\",\"#fca85e\",\"#4e63ac\",\"#49a2b2\",\"#9e0142\",\"#b41947\",\"#d7414e\",\"#fa9b58\",\"#fff2aa\",\"#fee999\",\"#fffdbc\",\"#fee797\",\"#fdbb6c\",\"#fec877\",\"#acdda4\",\"#fffebe\",\"#feeb9d\",\"#f88c51\",\"#7ccaa5\",\"#ecf7a1\",\"#b1dfa3\",\"#3a7eb8\",\"#f99153\",\"#d7414e\",\"#3990ba\",\"#5b53a4\",\"#9e0142\",\"#378ebb\",\"#d8ef9b\",\"#f88c51\",\"#fee797\",\"#545ca8\",\"#fdc574\",\"#4199b6\",\"#a20643\",\"#fecc7b\",\"#e1f399\",\"#f57748\",\"#358bbc\",\"#f7844e\",\"#fca55d\",\"#d8ef9b\",\"#71c6a5\",\"#fee999\",\"#fdb365\",\"#ef6645\",\"#f99153\",\"#4e63ac\",\"#4199b6\",\"#525fa9\",\"#f8864f\",\"#94d4a4\",\"#d8434e\",\"#fbfdb8\",\"#fede89\",\"#f47044\",\"#4e63ac\",\"#a90d45\",\"#fff6b0\",\"#fee08b\",\"#89d0a4\",\"#fee797\",\"#71c6a5\",\"#fffebe\",\"#6ec5a5\",\"#439bb5\",\"#a00343\",\"#f7844e\",\"#a2d9a4\",\"#8cd1a4\",\"#8fd2a4\",\"#caea9e\",\"#e4f498\",\"#b81e48\",\"#8fd2a4\",\"#fff6b0\",\"#fdc372\",\"#fdbd6d\",\"#fed481\",\"#b61b48\",\"#fffab6\",\"#fdb163\",\"#f98e52\",\"#fefebd\",\"#b5e1a2\",\"#3682ba\",\"#99d6a4\",\"#60bba8\",\"#f3faac\",\"#cdeb9d\",\"#b41947\",\"#fafdb7\",\"#fcaa5f\",\"#f98e52\",\"#bae3a1\",\"#b41947\",\"#4d65ad\",\"#b41947\",\"#b1dfa3\",\"#76c8a5\",\"#358bbc\",\"#feefa3\",\"#fefebd\",\"#b61b48\",\"#94d4a4\",\"#3a7eb8\",\"#5b53a4\",\"#a7dba4\",\"#496aaf\",\"#6ec5a5\",\"#fdc171\",\"#c52c4b\",\"#ad1246\",\"#3a7eb8\",\"#3585bb\",\"#8cd1a4\",\"#f5fbaf\",\"#feca79\",\"#d43d4f\",\"#378ebb\",\"#4199b6\",\"#9fd8a4\",\"#f88c51\",\"#bce4a0\",\"#feea9b\",\"#81cda5\",\"#56b0ad\",\"#fedc88\",\"#feda86\",\"#fede89\",\"#fff3ac\",\"#fed27f\",\"#47a0b3\",\"#7ecca5\",\"#4471b2\",\"#fdaf62\",\"#d6ee9b\",\"#e6f598\",\"#e8f69b\",\"#f2faaa\",\"#5c51a3\",\"#feea9b\",\"#fff5ae\",\"#4e63ac\",\"#fdb768\",\"#aedea3\",\"#f47044\",\"#fdbd6d\",\"#fdbb6c\",\"#fa9b58\",\"#edf8a3\",\"#fdc171\",\"#5b53a4\",\"#52abae\",\"#555aa7\",\"#8fd2a4\",\"#358bbc\",\"#5c51a3\",\"#f6fbb0\",\"#4e63ac\",\"#fec877\",\"#ef6645\",\"#ea5e47\",\"#fffbb8\",\"#81cda5\",\"#4e63ac\",\"#fafdb7\",\"#e2514a\",\"#3f77b5\",\"#fece7c\",\"#5e4fa2\",\"#358bbc\",\"#74c7a5\",\"#fee797\",\"#439bb5\",\"#545ca8\",\"#7ccaa5\",\"#fedc88\",\"#e4f498\",\"#9e0142\",\"#3990ba\",\"#bc2249\",\"#c3e79f\",\"#b8e2a1\",\"#ad1246\",\"#4273b3\",\"#cfec9d\",\"#b41947\",\"#3682ba\",\"#bc2249\",\"#feca79\",\"#fffbb8\",\"#dff299\",\"#4471b2\",\"#e55749\",\"#fdc171\",\"#b41947\",\"#66c2a5\",\"#fdc372\",\"#fdc574\",\"#9e0142\",\"#4471b2\",\"#fdbd6d\",\"#e95c47\",\"#64c0a6\",\"#fff8b4\",\"#fcfeba\",\"#cb334d\",\"#fffab6\",\"#d1ed9c\",\"#fffdbc\",\"#fdb365\",\"#e55749\",\"#ad1246\",\"#e95c47\",\"#fdc171\",\"#fffebe\",\"#52abae\",\"#5cb7aa\",\"#fed683\",\"#fec877\",\"#8fd2a4\",\"#fdc171\",\"#aedea3\",\"#9e0142\",\"#a90d45\",\"#4ba4b1\",\"#cdeb9d\",\"#fdb365\",\"#aedea3\",\"#5c51a3\",\"#fba35c\",\"#a40844\",\"#fed481\",\"#fed683\",\"#be254a\",\"#f57547\",\"#4ba4b1\",\"#e8f69b\",\"#fee593\",\"#fdb96a\",\"#fffdbc\",\"#fdb768\",\"#3585bb\",\"#f57748\",\"#fdb163\",\"#eef8a4\",\"#fee593\",\"#fff3ac\",\"#3f97b7\",\"#c1e6a0\",\"#f57748\",\"#fdb768\",\"#e45549\",\"#fed481\",\"#fcaa5f\",\"#a40844\",\"#eaf79e\",\"#eef8a4\",\"#fefebd\",\"#fff0a6\",\"#71c6a5\",\"#a4daa4\",\"#fdaf62\",\"#f67a49\",\"#5eb9a9\",\"#3b92b9\",\"#52abae\",\"#fed27f\",\"#feeb9d\",\"#cfec9d\",\"#dff299\",\"#eff9a6\",\"#54aead\",\"#fff6b0\",\"#fbfdb8\",\"#fefebd\",\"#f2faaa\",\"#feca79\",\"#378ebb\",\"#c3e79f\",\"#4199b6\",\"#f99355\",\"#5e4fa2\",\"#3b7cb7\",\"#fee797\",\"#f3faac\",\"#c72e4c\",\"#4ea7b0\",\"#daf09a\",\"#fede89\",\"#f2faaa\",\"#fecc7b\",\"#c72e4c\",\"#fefebd\",\"#60bba8\",\"#4b68ae\",\"#feda86\",\"#3990ba\",\"#ea5e47\",\"#fed481\",\"#5b53a4\",\"#fcfeba\",\"#fed481\",\"#d1ed9c\",\"#fede89\",\"#5eb9a9\",\"#fee593\",\"#89d0a4\",\"#3b7cb7\",\"#fb9d59\",\"#a00343\",\"#fb9d59\",\"#fffebe\",\"#be254a\",\"#fa9857\",\"#c52c4b\",\"#3b92b9\",\"#3682ba\",\"#e45549\",\"#8fd2a4\",\"#99d6a4\",\"#e1f399\",\"#3f97b7\",\"#d6ee9b\",\"#81cda5\",\"#ef6645\",\"#a4daa4\",\"#de4c4b\",\"#5eb9a9\",\"#acdda4\",\"#49a2b2\",\"#bae3a1\",\"#b1dfa3\",\"#9fd8a4\",\"#f06744\",\"#fca85e\",\"#b61b48\",\"#4b68ae\",\"#71c6a5\",\"#94d4a4\",\"#bc2249\",\"#c6e89f\",\"#e55749\",\"#f88c51\",\"#439bb5\",\"#fdc574\",\"#ef6645\",\"#3682ba\",\"#df4e4b\",\"#e8f69b\",\"#a20643\",\"#81cda5\",\"#fff6b0\",\"#dff299\",\"#fee797\",\"#e8f69b\",\"#f47044\",\"#eef8a4\",\"#f98e52\",\"#fff8b4\",\"#fff3ac\",\"#fdc372\",\"#d8434e\",\"#d23a4e\",\"#fdc574\",\"#f7fcb2\",\"#f67a49\",\"#3387bc\",\"#71c6a5\",\"#555aa7\",\"#feeda1\",\"#b1dfa3\",\"#97d5a4\",\"#b81e48\",\"#e6f598\",\"#dff299\",\"#fdc171\",\"#c3e79f\",\"#d6ee9b\",\"#daf09a\",\"#fffebe\",\"#f57748\",\"#f57748\",\"#ffffbe\",\"#feda86\",\"#b5e1a2\",\"#fff8b4\",\"#d6ee9b\",\"#c52c4b\",\"#dd4a4c\",\"#439bb5\",\"#cfec9d\",\"#3d79b6\",\"#aedea3\",\"#fbfdb8\",\"#86cfa5\",\"#fed481\",\"#fa9b58\",\"#dff299\",\"#b61b48\",\"#fffdbc\",\"#fcfeba\",\"#4e63ac\",\"#feeb9d\",\"#89d0a4\",\"#f3faac\",\"#fee08b\",\"#69c3a5\",\"#e3534a\",\"#b5e1a2\",\"#4e63ac\",\"#6ec5a5\",\"#f99153\",\"#e4f498\",\"#feeb9d\",\"#c52c4b\",\"#d0384e\",\"#f7fcb2\",\"#ed6246\",\"#feeda1\",\"#d23a4e\",\"#fff8b4\",\"#f5fbaf\",\"#4e63ac\",\"#e85b48\",\"#be254a\",\"#5ab4ab\",\"#5cb7aa\",\"#ef6645\",\"#496aaf\",\"#feca79\",\"#555aa7\",\"#e55749\",\"#69c3a5\",\"#4471b2\",\"#fdb365\",\"#d0384e\",\"#f8864f\",\"#bae3a1\",\"#fee08b\",\"#3f97b7\",\"#fff2aa\",\"#fee999\",\"#ad1246\",\"#fbfdb8\",\"#f1f9a9\",\"#c3e79f\",\"#fcaa5f\",\"#fec877\",\"#5eb9a9\",\"#fedc88\",\"#4ea7b0\",\"#47a0b3\",\"#4d65ad\",\"#fdb163\",\"#e4f498\",\"#fa9b58\",\"#c6e89f\",\"#c52c4b\",\"#ad1246\",\"#d23a4e\",\"#7ecca5\",\"#eff9a6\",\"#3585bb\",\"#5c51a3\",\"#f6fbb0\",\"#b81e48\",\"#fa9b58\",\"#5c51a3\",\"#edf8a3\",\"#dff299\",\"#c72e4c\",\"#cfec9d\",\"#d23a4e\",\"#fdbd6d\",\"#fec877\",\"#aedea3\",\"#89d0a4\",\"#94d4a4\",\"#4d65ad\",\"#b1dfa3\",\"#acdda4\",\"#f7814c\",\"#4ba4b1\",\"#ef6645\",\"#fefebd\",\"#f7814c\",\"#6ec5a5\",\"#4ea7b0\",\"#e95c47\",\"#d7414e\",\"#f8864f\",\"#4d65ad\",\"#b81e48\",\"#c6e89f\",\"#f5fbaf\",\"#eef8a4\",\"#8fd2a4\",\"#fff8b4\",\"#fdb96a\",\"#dd4a4c\",\"#fdaf62\",\"#f36b43\",\"#4d65ad\",\"#545ca8\",\"#4b68ae\",\"#c72e4c\",\"#fed683\",\"#c52c4b\",\"#4273b3\",\"#5956a5\",\"#cfec9d\",\"#f2faaa\",\"#fdaf62\",\"#66c2a5\",\"#f99153\",\"#f1f9a9\",\"#64c0a6\",\"#de4c4b\",\"#fed27f\",\"#f57748\",\"#4199b6\",\"#439bb5\",\"#e4f498\",\"#fdc574\",\"#7ecca5\",\"#81cda5\",\"#52abae\",\"#bae3a1\",\"#d23a4e\",\"#c3e79f\",\"#d23a4e\",\"#b81e48\",\"#fece7c\",\"#fa9b58\",\"#f67a49\",\"#fffdbc\",\"#fee08b\",\"#fec877\",\"#d8434e\",\"#3f97b7\",\"#c1e6a0\",\"#3585bb\",\"#fec877\",\"#c9314c\",\"#5eb9a9\",\"#da464d\",\"#fcaa5f\",\"#fcaa5f\",\"#da464d\",\"#f98e52\",\"#b81e48\",\"#d9444d\",\"#feea9b\",\"#8cd1a4\",\"#3585bb\",\"#fcaa5f\",\"#fee28f\",\"#fca85e\",\"#f47044\",\"#fdc574\",\"#feea9b\",\"#fffdbc\",\"#fff8b4\",\"#466eb1\",\"#c9314c\",\"#64c0a6\",\"#d8ef9b\",\"#dd4a4c\",\"#b5e1a2\",\"#e1f399\",\"#f5fbaf\",\"#56b0ad\",\"#e8f69b\",\"#5b53a4\",\"#3682ba\",\"#fed27f\",\"#a00343\",\"#e55749\",\"#fca85e\",\"#71c6a5\",\"#9e0142\",\"#fff5ae\",\"#f67a49\",\"#b8e2a1\",\"#fee999\",\"#fca85e\",\"#c52c4b\",\"#e3534a\",\"#4b68ae\",\"#fed683\",\"#8cd1a4\",\"#4b68ae\",\"#e55749\",\"#f6fbb0\",\"#fb9d59\",\"#da464d\",\"#fdc574\",\"#496aaf\",\"#3b92b9\",\"#60bba8\",\"#f7fcb2\",\"#f88c51\",\"#fca85e\",\"#daf09a\",\"#74c7a5\",\"#e9f69d\",\"#e3534a\",\"#ed6246\",\"#bce4a0\",\"#3a7eb8\",\"#439bb5\",\"#f57547\",\"#99d6a4\",\"#f67c4a\",\"#f7814c\",\"#fff0a6\",\"#e4f498\",\"#fdc171\",\"#feea9b\",\"#f57547\",\"#f06744\",\"#e3534a\",\"#a00343\",\"#dff299\",\"#9e0142\",\"#97d5a4\",\"#64c0a6\",\"#fee491\",\"#a20643\",\"#4d65ad\",\"#fee593\",\"#fdb96a\",\"#fba35c\",\"#fa9857\",\"#fdbb6c\",\"#c1274a\",\"#c72e4c\",\"#4199b6\",\"#b11747\",\"#5eb9a9\",\"#fa9857\",\"#fcaa5f\",\"#eff9a6\",\"#fed27f\",\"#fa9857\",\"#fff2aa\",\"#eef8a4\",\"#fee593\",\"#fee797\",\"#fdb96a\",\"#df4e4b\",\"#eaf79e\",\"#ed6246\",\"#4199b6\",\"#f7814c\",\"#feda86\",\"#5956a5\",\"#fcfeba\",\"#fff5ae\",\"#b8e2a1\",\"#525fa9\",\"#5cb7aa\",\"#fffbb8\",\"#feea9b\",\"#3f97b7\",\"#358bbc\",\"#3387bc\",\"#3b7cb7\",\"#f88c51\",\"#fffdbc\",\"#fff0a6\",\"#52abae\",\"#5cb7aa\",\"#8cd1a4\",\"#fa9857\",\"#fdbd6d\",\"#97d5a4\",\"#e3534a\",\"#d8434e\",\"#f98e52\",\"#47a0b3\",\"#fed27f\",\"#fed683\",\"#df4e4b\",\"#dff299\",\"#8fd2a4\",\"#8fd2a4\",\"#439bb5\",\"#fffab6\",\"#f98e52\",\"#e4f498\",\"#69c3a5\",\"#4ea7b0\",\"#b1dfa3\",\"#edf8a3\",\"#555aa7\",\"#a4daa4\",\"#4b68ae\",\"#f46d43\",\"#fa9b58\",\"#f99153\",\"#f06744\",\"#c6e89f\",\"#f1f9a9\",\"#c52c4b\",\"#ffffbe\",\"#bce4a0\",\"#3b7cb7\",\"#5b53a4\",\"#fff8b4\",\"#378ebb\",\"#bae3a1\",\"#9fd8a4\",\"#9e0142\",\"#daf09a\",\"#a40844\",\"#555aa7\",\"#d8ef9b\",\"#caea9e\",\"#fff0a6\",\"#d1ed9c\",\"#fed481\",\"#c52c4b\",\"#fb9d59\",\"#cdeb9d\",\"#f67c4a\",\"#e3534a\",\"#fecc7b\",\"#f47044\",\"#f99355\",\"#dd4a4c\",\"#d43d4f\",\"#eaf79e\",\"#4199b6\",\"#fee28f\",\"#4b68ae\",\"#e55749\",\"#fdb96a\",\"#555aa7\",\"#a90d45\",\"#ab0f45\",\"#f99153\",\"#e45549\",\"#89d0a4\",\"#fee491\",\"#d0384e\",\"#4ba4b1\",\"#f06744\",\"#fdc574\",\"#fecc7b\",\"#49a2b2\",\"#a4daa4\",\"#ad1246\",\"#a20643\",\"#fedc88\",\"#66c2a5\",\"#fffdbc\",\"#e85b48\",\"#76c8a5\",\"#fec877\",\"#fed27f\",\"#eff9a6\",\"#f46d43\",\"#358bbc\",\"#fca55d\",\"#fdbd6d\",\"#7ecca5\",\"#fede89\",\"#3387bc\",\"#b61b48\",\"#acdda4\",\"#fed481\",\"#fffbb8\",\"#6ec5a5\",\"#d9444d\",\"#8fd2a4\",\"#7ccaa5\",\"#d0384e\",\"#66c2a5\",\"#fdbb6c\",\"#fece7c\",\"#e4f498\",\"#b5e1a2\",\"#fed481\",\"#b41947\",\"#496aaf\",\"#fca85e\",\"#4ea7b0\",\"#fbfdb8\",\"#fee999\",\"#fb9d59\",\"#a20643\",\"#60bba8\",\"#f8fcb4\",\"#81cda5\",\"#7ccaa5\",\"#71c6a5\",\"#f67a49\",\"#fff6b0\",\"#466eb1\",\"#e55749\",\"#caea9e\",\"#e45549\",\"#ad1246\",\"#a4daa4\",\"#f6fbb0\",\"#bc2249\",\"#fedc88\",\"#fdb365\",\"#5c51a3\",\"#fff3ac\",\"#3f77b5\",\"#3d79b6\",\"#f98e52\",\"#525fa9\",\"#fed27f\",\"#daf09a\",\"#f7fcb2\",\"#fbfdb8\",\"#c1e6a0\",\"#cb334d\",\"#555aa7\",\"#a2d9a4\",\"#feefa3\",\"#545ca8\",\"#f6fbb0\",\"#c3e79f\",\"#de4c4b\",\"#76c8a5\",\"#b81e48\",\"#fdb163\",\"#5c51a3\",\"#fedc88\",\"#94d4a4\",\"#3b92b9\",\"#fff6b0\",\"#bae3a1\",\"#d8ef9b\",\"#5cb7aa\",\"#ef6645\",\"#fdbd6d\",\"#f8864f\",\"#eef8a4\",\"#b81e48\",\"#fec877\",\"#bce4a0\",\"#fa9b58\",\"#fffdbc\",\"#fcaa5f\",\"#ad1246\",\"#fba35c\",\"#3682ba\",\"#3f97b7\",\"#c1e6a0\",\"#5956a5\",\"#fffbb8\",\"#f98e52\",\"#d7414e\",\"#d0384e\",\"#b5e1a2\",\"#acdda4\",\"#9fd8a4\",\"#f99153\",\"#fb9d59\",\"#daf09a\",\"#fec877\",\"#fffdbc\",\"#c1274a\",\"#feefa3\",\"#ecf7a1\",\"#358bbc\",\"#d8434e\",\"#b5e1a2\",\"#c9314c\",\"#e95c47\",\"#3585bb\",\"#f88c51\",\"#f99153\",\"#94d4a4\",\"#fffab6\",\"#4e63ac\",\"#47a0b3\",\"#4ba4b1\",\"#e3534a\",\"#cfec9d\",\"#fba35c\",\"#4e63ac\",\"#fff5ae\",\"#5956a5\",\"#c1e6a0\",\"#99d6a4\",\"#fede89\",\"#cfec9d\",\"#fff5ae\",\"#f5fbaf\",\"#e55749\",\"#439bb5\",\"#daf09a\",\"#8cd1a4\",\"#fdbb6c\",\"#3d79b6\",\"#feefa3\",\"#dff299\",\"#3585bb\",\"#fff0a6\",\"#da464d\",\"#52abae\",\"#a4daa4\",\"#4ba4b1\",\"#fdaf62\",\"#5cb7aa\",\"#fffbb8\",\"#fffab6\",\"#52abae\",\"#fdc171\",\"#d43d4f\",\"#da464d\",\"#fece7c\",\"#86cfa5\",\"#f36b43\",\"#fff5ae\",\"#fefebd\",\"#d0384e\",\"#e3534a\",\"#496aaf\",\"#acdda4\",\"#8fd2a4\",\"#47a0b3\",\"#f8864f\",\"#5eb9a9\",\"#fed481\",\"#e1f399\",\"#acdda4\",\"#4471b2\",\"#fff6b0\",\"#d8ef9b\",\"#525fa9\",\"#f3faac\",\"#f7814c\",\"#fffab6\",\"#4e63ac\",\"#bae3a1\",\"#fee491\",\"#eef8a4\",\"#52abae\",\"#4b68ae\",\"#e45549\",\"#5ab4ab\",\"#6ec5a5\",\"#e3534a\",\"#fdbd6d\",\"#feca79\",\"#d1ed9c\",\"#a40844\",\"#d0384e\",\"#e9f69d\",\"#feda86\",\"#439bb5\",\"#fa9857\",\"#7ecca5\",\"#496aaf\",\"#545ca8\",\"#f6fbb0\",\"#4d65ad\",\"#ecf7a1\",\"#fff5ae\",\"#feeb9d\",\"#a20643\",\"#69c3a5\",\"#fff8b4\",\"#fff5ae\",\"#fdaf62\",\"#3a7eb8\",\"#d43d4f\",\"#feeda1\",\"#378ebb\",\"#feda86\",\"#fece7c\",\"#feea9b\",\"#54aead\",\"#3990ba\",\"#4ea7b0\",\"#ffffbe\",\"#fdc372\",\"#3682ba\",\"#4b68ae\",\"#edf8a3\",\"#e45549\",\"#7ccaa5\",\"#e9f69d\",\"#378ebb\",\"#fefebd\",\"#ffffbe\",\"#7ecca5\",\"#60bba8\",\"#52abae\",\"#fefebd\",\"#c1e6a0\",\"#fafdb7\",\"#fa9857\",\"#e95c47\",\"#d0384e\",\"#bae3a1\",\"#f57547\",\"#76c8a5\",\"#f67c4a\",\"#f36b43\",\"#de4c4b\",\"#a7dba4\",\"#eff9a6\",\"#f88c51\",\"#fdc372\",\"#5b53a4\",\"#feca79\",\"#e9f69d\",\"#466eb1\",\"#74c7a5\",\"#4273b3\",\"#f8fcb4\",\"#5c51a3\",\"#c1e6a0\",\"#5eb9a9\",\"#3d79b6\",\"#c6e89f\",\"#fecc7b\",\"#f67c4a\",\"#fa9857\",\"#f7814c\",\"#a7dba4\",\"#c72e4c\",\"#fff3ac\",\"#f99355\",\"#d9444d\",\"#ed6246\",\"#fff6b0\",\"#fdbb6c\",\"#86cfa5\",\"#aedea3\",\"#9e0142\",\"#fff5ae\",\"#fee08b\",\"#5c51a3\",\"#3387bc\",\"#f3faac\",\"#f88c51\",\"#fba35c\",\"#a7dba4\",\"#bae3a1\",\"#daf09a\",\"#eff9a6\",\"#496aaf\",\"#fee08b\",\"#4ba4b1\",\"#c1274a\",\"#c9314c\",\"#fffab6\",\"#d8434e\",\"#3f77b5\",\"#ab0f45\",\"#52abae\",\"#4471b2\",\"#f8fcb4\",\"#feefa3\",\"#3585bb\",\"#3d79b6\",\"#3990ba\",\"#71c6a5\",\"#69c3a5\",\"#4273b3\",\"#c1274a\",\"#fee593\",\"#a90d45\",\"#4d65ad\",\"#eaf79e\",\"#a40844\",\"#df4e4b\",\"#f67c4a\",\"#caea9e\",\"#fdb163\",\"#f7844e\",\"#bce4a0\",\"#feda86\",\"#eff9a6\",\"#f7fcb2\",\"#feca79\",\"#f47044\",\"#be254a\",\"#fa9857\",\"#fff0a6\",\"#3a7eb8\",\"#bce4a0\",\"#4b68ae\",\"#f8fcb4\",\"#fede89\",\"#fed27f\",\"#ab0f45\",\"#4199b6\",\"#e8f69b\",\"#89d0a4\",\"#c6e89f\",\"#466eb1\",\"#496aaf\",\"#fdc372\",\"#d1ed9c\",\"#47a0b3\",\"#e85b48\",\"#fb9d59\",\"#3585bb\",\"#cfec9d\",\"#fff3ac\",\"#ed6246\",\"#fdc171\",\"#d6ee9b\",\"#fedc88\",\"#4ba4b1\",\"#fff6b0\",\"#9fd8a4\",\"#e4f498\",\"#fecc7b\",\"#54aead\",\"#e1f399\",\"#f8864f\",\"#a7dba4\",\"#54aead\",\"#f46d43\",\"#5ab4ab\",\"#d43d4f\",\"#d0384e\",\"#3682ba\",\"#7ccaa5\",\"#fffdbc\",\"#f7844e\",\"#de4c4b\",\"#64c0a6\",\"#3a7eb8\",\"#e2514a\",\"#fed683\",\"#f1f9a9\",\"#4ba4b1\",\"#c72e4c\",\"#ee6445\",\"#aedea3\",\"#fdc574\",\"#47a0b3\",\"#525fa9\",\"#b41947\",\"#fed481\",\"#9fd8a4\",\"#eaf79e\",\"#fffbb8\",\"#89d0a4\",\"#fefebd\",\"#81cda5\",\"#fee797\",\"#64c0a6\",\"#69c3a5\",\"#feeb9d\",\"#fff5ae\",\"#54aead\",\"#b1dfa3\",\"#f6fbb0\",\"#4471b2\",\"#dd4a4c\",\"#f5fbaf\",\"#378ebb\",\"#eff9a6\",\"#b81e48\",\"#f3faac\",\"#60bba8\",\"#fee491\",\"#ad1246\",\"#60bba8\",\"#be254a\",\"#f3faac\",\"#e45549\",\"#b41947\",\"#e9f69d\",\"#fa9b58\",\"#bce4a0\",\"#545ca8\",\"#feea9b\",\"#3d79b6\",\"#eff9a6\",\"#f2faaa\",\"#466eb1\",\"#fdbd6d\",\"#bae3a1\",\"#fed27f\",\"#f3faac\",\"#c1274a\",\"#d43d4f\",\"#f88c51\",\"#fb9d59\",\"#fdbd6d\",\"#edf8a3\",\"#eff9a6\",\"#fefebd\",\"#ad1246\",\"#f67a49\",\"#f7844e\",\"#439bb5\",\"#f99153\",\"#52abae\",\"#ab0f45\",\"#4471b2\",\"#fdb365\",\"#dff299\",\"#99d6a4\",\"#da464d\",\"#fedc88\",\"#c52c4b\",\"#d8ef9b\",\"#525fa9\",\"#4273b3\",\"#fedc88\",\"#eef8a4\",\"#a4daa4\",\"#fb9d59\",\"#69c3a5\",\"#f7fcb2\",\"#f2faaa\",\"#7ccaa5\",\"#f2faaa\",\"#fec877\",\"#5e4fa2\",\"#3f97b7\",\"#c1e6a0\",\"#fffab6\",\"#feeda1\",\"#bce4a0\",\"#e1f399\",\"#99d6a4\",\"#eff9a6\",\"#76c8a5\",\"#fedc88\",\"#fba35c\",\"#fefebd\",\"#a7dba4\",\"#b41947\",\"#fdc372\",\"#fffdbc\",\"#378ebb\",\"#49a2b2\",\"#feca79\",\"#fdb163\",\"#fdc171\",\"#9e0142\",\"#f7fcb2\",\"#b5e1a2\",\"#fdaf62\",\"#378ebb\",\"#9e0142\",\"#ef6645\",\"#9fd8a4\",\"#71c6a5\",\"#fffab6\",\"#b11747\",\"#fed27f\",\"#aedea3\",\"#f57547\",\"#bc2249\",\"#b8e2a1\",\"#4471b2\",\"#4d65ad\",\"#fdbd6d\",\"#d43d4f\",\"#cb334d\",\"#f7844e\",\"#f36b43\",\"#bc2249\",\"#3d79b6\",\"#a40844\",\"#3f77b5\",\"#fdb96a\",\"#f1f9a9\",\"#378ebb\",\"#fa9b58\",\"#fefebd\",\"#fff5ae\",\"#d8434e\",\"#fdb365\",\"#fdc574\",\"#aedea3\",\"#fffdbc\",\"#fed27f\",\"#ed6246\",\"#3a7eb8\",\"#94d4a4\",\"#fdb163\",\"#b61b48\",\"#89d0a4\",\"#a20643\",\"#ab0f45\",\"#df4e4b\",\"#a4daa4\",\"#4e63ac\",\"#52abae\",\"#a90d45\",\"#fffab6\",\"#d8ef9b\",\"#caea9e\",\"#fffdbc\",\"#3a7eb8\",\"#4e63ac\",\"#fff3ac\",\"#5cb7aa\",\"#545ca8\",\"#d8ef9b\",\"#bc2249\",\"#3585bb\",\"#d7414e\",\"#daf09a\",\"#b1dfa3\",\"#b81e48\",\"#e1f399\",\"#56b0ad\",\"#aedea3\",\"#f8864f\",\"#d1ed9c\",\"#a4daa4\",\"#d1ed9c\",\"#6ec5a5\",\"#ee6445\",\"#a7dba4\",\"#b5e1a2\",\"#fed27f\",\"#6ec5a5\",\"#ea5e47\",\"#3d79b6\",\"#76c8a5\",\"#fff2aa\",\"#b1dfa3\",\"#fee08b\",\"#fa9b58\",\"#df4e4b\",\"#4b68ae\",\"#fdc372\",\"#60bba8\",\"#f7fcb2\",\"#fee797\",\"#e6f598\",\"#74c7a5\",\"#e45549\",\"#358bbc\",\"#d6ee9b\",\"#c72e4c\",\"#feeda1\",\"#c1274a\",\"#fee999\",\"#f3faac\",\"#49a2b2\",\"#fdc574\",\"#feefa3\",\"#5c51a3\",\"#5e4fa2\",\"#f7814c\",\"#525fa9\",\"#439bb5\",\"#f36b43\",\"#d8ef9b\",\"#ecf7a1\",\"#a90d45\",\"#4471b2\",\"#fff0a6\",\"#fba35c\",\"#3990ba\",\"#fa9b58\",\"#a2d9a4\",\"#fca55d\",\"#c9314c\",\"#b61b48\",\"#fff0a6\",\"#e85b48\",\"#acdda4\",\"#9e0142\",\"#56b0ad\",\"#eff9a6\",\"#fdb768\",\"#fed481\",\"#4273b3\",\"#f67c4a\",\"#b81e48\",\"#fede89\",\"#a20643\",\"#f7fcb2\",\"#fdb163\",\"#c52c4b\",\"#fefebd\",\"#aedea3\",\"#fafdb7\",\"#ad1246\",\"#e3534a\",\"#3990ba\",\"#fdb768\",\"#cfec9d\",\"#4199b6\",\"#a00343\",\"#d6ee9b\",\"#b61b48\",\"#3b92b9\",\"#fed683\",\"#3682ba\",\"#47a0b3\",\"#d8ef9b\",\"#64c0a6\",\"#74c7a5\",\"#496aaf\",\"#fa9b58\",\"#feeb9d\",\"#66c2a5\",\"#caea9e\",\"#e4f498\",\"#496aaf\",\"#feefa3\",\"#df4e4b\",\"#4d65ad\",\"#7ccaa5\",\"#f5fbaf\",\"#a4daa4\",\"#466eb1\",\"#3990ba\",\"#aedea3\",\"#f88c51\",\"#5eb9a9\",\"#7ecca5\",\"#feca79\",\"#fee797\",\"#3f77b5\",\"#7ccaa5\",\"#47a0b3\",\"#a20643\",\"#fdbd6d\",\"#d9444d\",\"#a40844\",\"#eef8a4\",\"#9fd8a4\",\"#fba35c\",\"#e85b48\",\"#b1dfa3\",\"#fafdb7\",\"#f6fbb0\",\"#fbfdb8\",\"#a40844\",\"#a90d45\",\"#e9f69d\",\"#ffffbe\",\"#56b0ad\",\"#fee28f\",\"#fba35c\",\"#555aa7\",\"#ed6246\",\"#fca55d\",\"#fca55d\",\"#de4c4b\",\"#fee28f\",\"#fedc88\",\"#ef6645\",\"#4ea7b0\",\"#a7dba4\",\"#fffbb8\",\"#c72e4c\",\"#d8434e\",\"#e55749\",\"#fb9d59\",\"#fcaa5f\",\"#a20643\",\"#acdda4\",\"#d8434e\",\"#4e63ac\",\"#edf8a3\",\"#54aead\",\"#b41947\",\"#d8434e\",\"#f67c4a\",\"#4273b3\",\"#3f97b7\",\"#4d65ad\",\"#e3534a\",\"#fed683\",\"#3d79b6\",\"#f5fbaf\",\"#eef8a4\",\"#fffab6\",\"#e1f399\",\"#52abae\",\"#e9f69d\",\"#5b53a4\",\"#e2514a\",\"#f67c4a\",\"#a20643\",\"#a20643\",\"#3f77b5\",\"#545ca8\",\"#f8864f\",\"#fcaa5f\",\"#eff9a6\",\"#fca55d\",\"#fdc574\",\"#4ba4b1\",\"#acdda4\",\"#b5e1a2\",\"#3b92b9\",\"#fca85e\",\"#b61b48\",\"#ee6445\",\"#fdc372\",\"#545ca8\",\"#e85b48\",\"#4ea7b0\",\"#feca79\",\"#d9444d\",\"#c52c4b\",\"#d0384e\",\"#fcfeba\",\"#fece7c\",\"#fff8b4\",\"#fdbb6c\",\"#e4f498\",\"#4471b2\",\"#fff2aa\",\"#c72e4c\",\"#ee6445\",\"#3387bc\",\"#4199b6\",\"#fcaa5f\",\"#3f97b7\",\"#c9314c\",\"#fff8b4\",\"#4471b2\",\"#d0384e\",\"#4b68ae\",\"#eef8a4\",\"#54aead\",\"#74c7a5\",\"#f1f9a9\",\"#fff5ae\",\"#a40844\",\"#9e0142\",\"#fff2aa\",\"#e9f69d\",\"#fff0a6\",\"#49a2b2\",\"#5eb9a9\",\"#fcaa5f\",\"#a7dba4\",\"#dd4a4c\",\"#89d0a4\",\"#f8fcb4\",\"#fec877\",\"#fee999\",\"#fff6b0\",\"#a20643\",\"#df4e4b\",\"#d0384e\",\"#a4daa4\",\"#358bbc\",\"#fff3ac\",\"#ecf7a1\",\"#caea9e\",\"#ffffbe\",\"#cb334d\",\"#a2d9a4\",\"#b61b48\",\"#7ccaa5\",\"#fee999\",\"#fece7c\",\"#fbfdb8\",\"#b5e1a2\",\"#fefebd\",\"#fca85e\",\"#76c8a5\",\"#3d79b6\",\"#3682ba\",\"#89d0a4\",\"#fdc574\",\"#69c3a5\",\"#d7414e\",\"#9fd8a4\",\"#f57547\",\"#df4e4b\",\"#e8f69b\",\"#3f97b7\",\"#7ccaa5\",\"#3b92b9\",\"#fa9b58\",\"#8fd2a4\",\"#feda86\",\"#4e63ac\",\"#fcaa5f\",\"#d43d4f\",\"#fdc171\",\"#bc2249\",\"#49a2b2\",\"#69c3a5\",\"#feeda1\",\"#f7814c\",\"#fee797\",\"#f1f9a9\",\"#d43d4f\",\"#81cda5\",\"#fffbb8\",\"#3f77b5\",\"#4ea7b0\",\"#fdc171\",\"#fafdb7\",\"#ed6246\",\"#c72e4c\",\"#3a7eb8\",\"#74c7a5\",\"#bae3a1\",\"#e85b48\",\"#8fd2a4\",\"#d6ee9b\",\"#94d4a4\",\"#5eb9a9\",\"#fff0a6\",\"#a90d45\",\"#e1f399\",\"#439bb5\",\"#71c6a5\",\"#525fa9\",\"#358bbc\",\"#c6e89f\",\"#d1ed9c\",\"#fff3ac\",\"#fdaf62\",\"#3f97b7\",\"#525fa9\",\"#f5fbaf\",\"#5956a5\",\"#89d0a4\",\"#b8e2a1\",\"#e8f69b\",\"#acdda4\",\"#fba35c\",\"#fefebd\",\"#fffebe\",\"#bc2249\",\"#feefa3\",\"#71c6a5\",\"#fbfdb8\",\"#feda86\",\"#feda86\",\"#8cd1a4\",\"#99d6a4\",\"#fffdbc\",\"#f2faaa\",\"#e45549\",\"#74c7a5\",\"#555aa7\",\"#b5e1a2\",\"#fbfdb8\",\"#feea9b\",\"#fee08b\",\"#c1274a\",\"#ab0f45\",\"#99d6a4\",\"#d1ed9c\",\"#eef8a4\",\"#81cda5\",\"#496aaf\",\"#e1f399\",\"#e2514a\",\"#fed683\",\"#ea5e47\",\"#fecc7b\",\"#ed6246\",\"#f6fbb0\",\"#3387bc\",\"#cdeb9d\",\"#f2faaa\",\"#cfec9d\",\"#fba35c\",\"#71c6a5\",\"#5e4fa2\",\"#f06744\",\"#e2514a\",\"#4199b6\",\"#f7814c\",\"#3b92b9\",\"#ef6645\",\"#d8ef9b\",\"#bc2249\",\"#3b7cb7\",\"#fed683\",\"#d8ef9b\",\"#fdb365\",\"#fa9857\",\"#fdaf62\",\"#3585bb\",\"#ef6645\",\"#fca85e\",\"#d9444d\",\"#a2d9a4\",\"#8fd2a4\",\"#cfec9d\",\"#9e0142\",\"#e4f498\",\"#d9444d\",\"#f6fbb0\",\"#66c2a5\",\"#de4c4b\",\"#d43d4f\",\"#fff8b4\",\"#c9314c\",\"#f99355\",\"#a40844\",\"#fa9857\",\"#f99355\",\"#aedea3\",\"#cb334d\",\"#fcaa5f\",\"#f7814c\",\"#76c8a5\",\"#ef6645\",\"#fff3ac\",\"#3f97b7\",\"#f67a49\",\"#ee6445\",\"#f98e52\",\"#fffdbc\",\"#fff6b0\",\"#49a2b2\",\"#555aa7\",\"#fffebe\",\"#4ba4b1\",\"#f1f9a9\",\"#9fd8a4\",\"#f2faaa\",\"#9fd8a4\",\"#94d4a4\",\"#358bbc\",\"#fb9d59\",\"#3682ba\",\"#56b0ad\",\"#de4c4b\",\"#fff5ae\",\"#ea5e47\",\"#fffbb8\",\"#64c0a6\",\"#de4c4b\",\"#fdc574\",\"#7ecca5\",\"#fff0a6\",\"#fff2aa\",\"#f57748\",\"#cdeb9d\",\"#c9314c\",\"#aedea3\",\"#a4daa4\",\"#d8434e\",\"#da464d\",\"#fcfeba\",\"#358bbc\",\"#e8f69b\",\"#fed683\",\"#f67a49\",\"#358bbc\",\"#d1ed9c\",\"#5b53a4\",\"#fdc574\",\"#f67a49\",\"#fec877\",\"#b81e48\",\"#e55749\",\"#fee593\",\"#f3faac\",\"#fdbb6c\",\"#f7fcb2\",\"#eef8a4\",\"#c1e6a0\",\"#ee6445\",\"#fba35c\",\"#52abae\",\"#4199b6\",\"#fecc7b\",\"#54aead\",\"#6ec5a5\",\"#b5e1a2\",\"#5b53a4\",\"#f5fbaf\",\"#c52c4b\",\"#5e4fa2\",\"#fdbb6c\",\"#fff8b4\",\"#e6f598\",\"#4471b2\",\"#d8434e\",\"#8cd1a4\",\"#b1dfa3\",\"#71c6a5\",\"#f67c4a\",\"#fee08b\",\"#eef8a4\",\"#a2d9a4\",\"#acdda4\",\"#fff3ac\",\"#fece7c\",\"#466eb1\",\"#f57547\",\"#c6e89f\",\"#fa9857\",\"#47a0b3\",\"#4e63ac\",\"#c72e4c\",\"#f57547\",\"#de4c4b\",\"#a7dba4\",\"#69c3a5\",\"#e45549\",\"#c52c4b\",\"#c6e89f\",\"#a90d45\",\"#da464d\",\"#f88c51\",\"#5cb7aa\",\"#5cb7aa\",\"#fedc88\",\"#cb334d\",\"#f7844e\",\"#ffffbe\",\"#fffbb8\",\"#f8864f\",\"#fff8b4\",\"#ad1246\",\"#fed683\",\"#e6f598\",\"#f36b43\",\"#fff2aa\",\"#7ecca5\",\"#d6ee9b\",\"#f3faac\",\"#5ab4ab\",\"#4199b6\",\"#fcfeba\",\"#fff5ae\",\"#49a2b2\",\"#f06744\",\"#e85b48\",\"#fcaa5f\",\"#fca85e\",\"#f06744\",\"#8cd1a4\",\"#fca85e\",\"#b41947\",\"#fdb96a\",\"#97d5a4\",\"#ad1246\",\"#eef8a4\",\"#fbfdb8\",\"#66c2a5\",\"#fbfdb8\",\"#fede89\",\"#fff0a6\",\"#edf8a3\",\"#be254a\",\"#56b0ad\",\"#da464d\",\"#fdb365\",\"#89d0a4\",\"#bc2249\",\"#fdbb6c\",\"#4e63ac\",\"#feefa3\",\"#74c7a5\",\"#bce4a0\",\"#3387bc\",\"#fece7c\",\"#feefa3\",\"#fff3ac\",\"#4273b3\",\"#ef6645\",\"#3585bb\",\"#4ea7b0\",\"#7ccaa5\",\"#f67a49\",\"#d7414e\",\"#76c8a5\",\"#4d65ad\",\"#e2514a\",\"#fffdbc\",\"#555aa7\",\"#fed27f\",\"#466eb1\",\"#f36b43\",\"#4ea7b0\",\"#fdbb6c\",\"#dd4a4c\",\"#86cfa5\",\"#378ebb\",\"#e3534a\",\"#fdbd6d\",\"#e6f598\",\"#e4f498\",\"#c72e4c\",\"#a7dba4\",\"#eef8a4\",\"#f2faaa\",\"#f8864f\",\"#9fd8a4\",\"#97d5a4\",\"#d1ed9c\",\"#89d0a4\",\"#a2d9a4\",\"#69c3a5\",\"#fff3ac\",\"#fee28f\",\"#fedc88\",\"#b41947\",\"#f7814c\",\"#97d5a4\",\"#fdb768\",\"#d8434e\",\"#4471b2\",\"#fdc372\",\"#5b53a4\",\"#f46d43\",\"#e3534a\",\"#c6e89f\",\"#3f77b5\",\"#3d79b6\",\"#feeda1\",\"#eaf79e\",\"#fffdbc\",\"#a00343\",\"#f99153\",\"#fdb365\",\"#fdb768\",\"#fefebd\",\"#bce4a0\",\"#fff6b0\",\"#bae3a1\",\"#99d6a4\",\"#496aaf\",\"#5b53a4\",\"#4e63ac\",\"#64c0a6\",\"#e2514a\",\"#fa9857\",\"#89d0a4\",\"#60bba8\",\"#d7414e\",\"#fdb96a\",\"#fbfdb8\",\"#e45549\",\"#fdb96a\",\"#56b0ad\",\"#8fd2a4\",\"#dd4a4c\",\"#f8864f\",\"#fdbb6c\",\"#b61b48\",\"#9fd8a4\",\"#e85b48\",\"#eaf79e\",\"#52abae\",\"#a40844\",\"#b11747\",\"#66c2a5\",\"#e2514a\",\"#466eb1\",\"#ea5e47\",\"#d6ee9b\",\"#c9314c\",\"#d0384e\",\"#a7dba4\",\"#99d6a4\",\"#f46d43\",\"#feca79\",\"#3387bc\",\"#df4e4b\",\"#f8fcb4\",\"#fffdbc\",\"#52abae\",\"#a00343\",\"#fdb768\",\"#fefebd\",\"#fdb768\",\"#358bbc\",\"#fffbb8\",\"#a20643\",\"#b61b48\",\"#eef8a4\",\"#99d6a4\",\"#feea9b\",\"#fefebd\",\"#dff299\",\"#fee999\",\"#ecf7a1\",\"#3a7eb8\",\"#a2d9a4\",\"#feefa3\",\"#fdc574\",\"#fffebe\",\"#69c3a5\",\"#ffffbe\",\"#fdb163\",\"#f67c4a\",\"#ef6645\",\"#fff8b4\",\"#c52c4b\",\"#a00343\",\"#df4e4b\",\"#76c8a5\",\"#56b0ad\",\"#64c0a6\",\"#c3e79f\",\"#ad1246\",\"#fec877\",\"#fee08b\",\"#49a2b2\",\"#d8ef9b\",\"#e8f69b\",\"#74c7a5\",\"#e85b48\",\"#dd4a4c\",\"#3d79b6\",\"#4b68ae\",\"#c1e6a0\",\"#fff3ac\",\"#fffbb8\",\"#eff9a6\",\"#f7844e\",\"#c1274a\",\"#f7fcb2\",\"#496aaf\",\"#9e0142\",\"#e3534a\",\"#4b68ae\",\"#ffffbe\",\"#9fd8a4\",\"#fffdbc\",\"#b61b48\",\"#d0384e\",\"#aedea3\",\"#f6fbb0\",\"#fa9857\",\"#df4e4b\",\"#e4f498\",\"#e6f598\",\"#5b53a4\",\"#aedea3\",\"#eaf79e\",\"#feefa3\",\"#c3e79f\",\"#cb334d\",\"#f36b43\",\"#5b53a4\",\"#f99355\",\"#fdb96a\",\"#f67c4a\",\"#5b53a4\",\"#fdb768\",\"#feeb9d\",\"#f5fbaf\",\"#fee593\",\"#fee491\",\"#fdb768\",\"#f57547\",\"#3b7cb7\",\"#dff299\",\"#e6f598\",\"#fdc574\",\"#545ca8\",\"#3d79b6\",\"#f7814c\",\"#f98e52\",\"#56b0ad\",\"#d8434e\",\"#496aaf\",\"#ef6645\",\"#fede89\",\"#fee08b\",\"#b11747\",\"#f57748\",\"#dff299\",\"#f67a49\",\"#b5e1a2\",\"#c3e79f\",\"#c6e89f\",\"#fee999\",\"#f8fcb4\",\"#5b53a4\",\"#c52c4b\",\"#3585bb\",\"#c9314c\",\"#f67c4a\",\"#e3534a\",\"#b1dfa3\",\"#fee28f\",\"#d8434e\",\"#edf8a3\",\"#d0384e\",\"#76c8a5\",\"#56b0ad\",\"#be254a\",\"#bae3a1\",\"#fece7c\",\"#555aa7\",\"#b8e2a1\",\"#cfec9d\",\"#cdeb9d\",\"#fedc88\",\"#545ca8\",\"#be254a\",\"#fee491\",\"#fee797\",\"#4ba4b1\",\"#b1dfa3\",\"#f99153\",\"#c1274a\",\"#fee491\",\"#a7dba4\",\"#c1e6a0\",\"#f99153\",\"#9e0142\",\"#fff6b0\",\"#49a2b2\",\"#4471b2\",\"#f47044\",\"#f2faaa\",\"#d1ed9c\",\"#496aaf\",\"#de4c4b\",\"#fcaa5f\",\"#e4f498\",\"#f57547\",\"#d0384e\",\"#e55749\",\"#fba35c\",\"#fedc88\",\"#66c2a5\",\"#fffebe\",\"#cfec9d\",\"#edf8a3\",\"#f99153\",\"#be254a\",\"#52abae\",\"#fca55d\",\"#be254a\",\"#c9314c\",\"#f57748\",\"#f7fcb2\",\"#81cda5\",\"#f7814c\",\"#fffab6\",\"#caea9e\",\"#d9444d\",\"#acdda4\",\"#f46d43\",\"#cb334d\",\"#d23a4e\",\"#b61b48\",\"#fdb365\",\"#de4c4b\",\"#f57748\",\"#3682ba\",\"#ffffbe\",\"#d7414e\",\"#4199b6\",\"#f2faaa\",\"#fefebd\",\"#daf09a\",\"#7ccaa5\",\"#fede89\",\"#fee28f\",\"#3682ba\",\"#caea9e\",\"#c9314c\",\"#4273b3\",\"#fdb365\",\"#5e4fa2\",\"#f88c51\",\"#d9444d\",\"#ef6645\",\"#eff9a6\",\"#fee08b\",\"#ffffbe\",\"#69c3a5\",\"#b61b48\",\"#fee491\",\"#f99153\",\"#fec877\",\"#c9314c\",\"#fee08b\",\"#ed6246\",\"#5b53a4\",\"#fecc7b\",\"#d8434e\",\"#74c7a5\",\"#be254a\",\"#3387bc\",\"#d9444d\",\"#99d6a4\",\"#fdc574\",\"#a40844\",\"#fee593\",\"#fee999\",\"#6ec5a5\",\"#ab0f45\",\"#496aaf\",\"#5956a5\",\"#49a2b2\",\"#439bb5\",\"#c6e89f\",\"#ef6645\",\"#f57547\",\"#d8ef9b\",\"#f7814c\",\"#ea5e47\",\"#555aa7\",\"#fff2aa\",\"#496aaf\",\"#df4e4b\",\"#e6f598\",\"#4b68ae\",\"#fffdbc\",\"#fca55d\",\"#d0384e\",\"#f67c4a\",\"#fffdbc\",\"#cdeb9d\",\"#ab0f45\",\"#496aaf\",\"#4ea7b0\",\"#9e0142\",\"#f2faaa\",\"#fdc372\",\"#fed27f\",\"#f3faac\",\"#fece7c\",\"#7ccaa5\",\"#4ba4b1\",\"#f7814c\",\"#e45549\",\"#47a0b3\",\"#60bba8\",\"#fee491\",\"#3387bc\",\"#f67a49\",\"#5ab4ab\",\"#525fa9\",\"#f3faac\",\"#b1dfa3\",\"#f88c51\",\"#56b0ad\",\"#daf09a\",\"#fede89\",\"#fed683\",\"#5956a5\",\"#4d65ad\",\"#e1f399\",\"#ea5e47\",\"#5c51a3\",\"#4ba4b1\",\"#56b0ad\",\"#4ea7b0\",\"#47a0b3\",\"#eaf79e\",\"#5eb9a9\",\"#eaf79e\",\"#ecf7a1\",\"#f3faac\",\"#b8e2a1\",\"#a20643\",\"#86cfa5\",\"#fee593\",\"#5c51a3\",\"#7ecca5\",\"#aedea3\",\"#feeb9d\",\"#fffab6\",\"#fece7c\",\"#d1ed9c\",\"#eff9a6\",\"#ecf7a1\",\"#4ea7b0\",\"#9e0142\",\"#e9f69d\",\"#daf09a\",\"#358bbc\",\"#b8e2a1\",\"#5ab4ab\",\"#fee593\",\"#97d5a4\",\"#b61b48\",\"#b1dfa3\",\"#3990ba\",\"#5cb7aa\",\"#54aead\",\"#de4c4b\",\"#feeb9d\",\"#fecc7b\",\"#cb334d\",\"#4ea7b0\",\"#ad1246\",\"#f2faaa\",\"#89d0a4\",\"#5ab4ab\",\"#bc2249\",\"#c9314c\",\"#fdc372\",\"#fed683\",\"#cdeb9d\",\"#a90d45\",\"#e95c47\",\"#76c8a5\",\"#c6e89f\",\"#3b7cb7\",\"#fee491\",\"#f5fbaf\",\"#fec877\",\"#ecf7a1\",\"#d1ed9c\",\"#fafdb7\",\"#fede89\",\"#54aead\",\"#5956a5\",\"#dd4a4c\",\"#466eb1\",\"#7ecca5\",\"#fff0a6\",\"#fee491\",\"#fba35c\",\"#feefa3\",\"#7ccaa5\",\"#4b68ae\",\"#bce4a0\",\"#f06744\",\"#e55749\",\"#dd4a4c\",\"#e8f69b\",\"#466eb1\",\"#e8f69b\",\"#fdb768\",\"#a4daa4\",\"#64c0a6\",\"#a2d9a4\",\"#ed6246\",\"#eaf79e\",\"#94d4a4\",\"#5b53a4\",\"#71c6a5\",\"#fecc7b\",\"#d43d4f\",\"#3a7eb8\",\"#378ebb\",\"#f1f9a9\",\"#fed481\",\"#edf8a3\",\"#7ecca5\",\"#acdda4\",\"#5956a5\",\"#fec877\",\"#c1274a\",\"#f5fbaf\",\"#e95c47\",\"#9fd8a4\",\"#f99355\",\"#3585bb\",\"#b8e2a1\",\"#edf8a3\",\"#f1f9a9\",\"#5cb7aa\",\"#4471b2\",\"#ef6645\",\"#f57748\",\"#d6ee9b\",\"#fff3ac\",\"#c6e89f\",\"#fec877\",\"#f67a49\",\"#6ec5a5\",\"#e4f498\",\"#d0384e\",\"#b5e1a2\",\"#fbfdb8\",\"#64c0a6\",\"#5e4fa2\",\"#ab0f45\",\"#3f77b5\",\"#4d65ad\",\"#b61b48\",\"#c1e6a0\",\"#555aa7\",\"#fee999\",\"#545ca8\",\"#dd4a4c\",\"#74c7a5\",\"#3682ba\",\"#caea9e\",\"#74c7a5\",\"#7ecca5\",\"#ea5e47\",\"#5eb9a9\",\"#bc2249\",\"#5c51a3\",\"#e3534a\",\"#fdb96a\",\"#ea5e47\",\"#f57748\",\"#4ea7b0\",\"#a2d9a4\",\"#e4f498\",\"#bae3a1\",\"#fff8b4\",\"#a20643\",\"#f99153\",\"#fee08b\",\"#fa9857\",\"#f7814c\",\"#496aaf\",\"#cdeb9d\",\"#5956a5\",\"#d43d4f\",\"#ea5e47\",\"#eef8a4\",\"#aedea3\",\"#fcaa5f\",\"#c1e6a0\",\"#e3534a\",\"#f8fcb4\",\"#f8fcb4\",\"#4b68ae\",\"#7ccaa5\",\"#feeb9d\",\"#4e63ac\",\"#fffab6\",\"#f7fcb2\",\"#f57748\",\"#5b53a4\",\"#49a2b2\",\"#fcaa5f\",\"#4b68ae\",\"#c3e79f\",\"#fbfdb8\",\"#fb9d59\",\"#fff5ae\",\"#c72e4c\",\"#a20643\",\"#fba35c\",\"#e8f69b\",\"#9e0142\",\"#f67c4a\",\"#66c2a5\",\"#94d4a4\",\"#fee999\",\"#feefa3\",\"#d7414e\",\"#3682ba\",\"#71c6a5\",\"#fff8b4\",\"#81cda5\",\"#c52c4b\",\"#bce4a0\",\"#7ccaa5\",\"#d1ed9c\",\"#e45549\",\"#5956a5\",\"#fa9b58\",\"#ecf7a1\",\"#e2514a\",\"#e8f69b\",\"#c6e89f\",\"#ef6645\",\"#ecf7a1\",\"#ed6246\",\"#d8434e\",\"#fca85e\",\"#ee6445\",\"#5c51a3\",\"#fee491\",\"#be254a\",\"#4ea7b0\",\"#cdeb9d\",\"#fdb768\",\"#60bba8\",\"#5eb9a9\",\"#f46d43\",\"#f67a49\",\"#fffbb8\",\"#fff6b0\",\"#496aaf\",\"#acdda4\",\"#358bbc\",\"#fca85e\",\"#c52c4b\",\"#cfec9d\",\"#de4c4b\",\"#fecc7b\",\"#a20643\",\"#fede89\",\"#3a7eb8\",\"#c72e4c\",\"#f3faac\",\"#5cb7aa\",\"#378ebb\",\"#74c7a5\",\"#a20643\",\"#56b0ad\",\"#da464d\",\"#fdc171\",\"#d8ef9b\",\"#fdb163\",\"#fed481\",\"#4b68ae\",\"#fee28f\",\"#e95c47\",\"#fefebd\",\"#e55749\",\"#b41947\",\"#f6fbb0\",\"#fdc372\",\"#fee491\",\"#fba35c\",\"#c6e89f\",\"#71c6a5\",\"#fa9b58\",\"#fee593\",\"#fba35c\",\"#358bbc\",\"#3f77b5\",\"#fca55d\",\"#5956a5\",\"#cdeb9d\",\"#fed683\",\"#e3534a\",\"#3f77b5\",\"#555aa7\",\"#9e0142\",\"#e85b48\",\"#f8fcb4\",\"#d6ee9b\",\"#e2514a\",\"#3a7eb8\",\"#69c3a5\",\"#3585bb\",\"#60bba8\",\"#54aead\",\"#f7844e\",\"#a00343\",\"#feea9b\",\"#69c3a5\",\"#e2514a\",\"#89d0a4\",\"#fdb768\",\"#3f77b5\",\"#e45549\",\"#4273b3\",\"#feca79\",\"#5ab4ab\",\"#76c8a5\",\"#66c2a5\",\"#fdb96a\",\"#4199b6\",\"#f06744\",\"#fee491\",\"#4ea7b0\",\"#ad1246\",\"#5eb9a9\",\"#fffebe\",\"#3a7eb8\",\"#f36b43\",\"#5ab4ab\",\"#aedea3\",\"#f06744\",\"#76c8a5\",\"#3f77b5\",\"#3a7eb8\",\"#f46d43\",\"#64c0a6\",\"#c1274a\",\"#f8864f\",\"#8cd1a4\",\"#e4f498\",\"#fece7c\",\"#cfec9d\",\"#b8e2a1\",\"#fed481\",\"#e55749\",\"#f1f9a9\",\"#feda86\",\"#d6ee9b\",\"#4199b6\",\"#a2d9a4\",\"#89d0a4\",\"#a4daa4\",\"#4d65ad\",\"#fdc171\",\"#f57748\",\"#fdb163\",\"#f7fcb2\",\"#feeda1\",\"#fee593\",\"#caea9e\",\"#d8434e\",\"#d9444d\",\"#466eb1\",\"#df4e4b\",\"#66c2a5\",\"#fcfeba\",\"#64c0a6\",\"#fff8b4\",\"#fba35c\",\"#d9444d\",\"#dff299\",\"#6ec5a5\",\"#a00343\",\"#fffbb8\",\"#fff6b0\",\"#a2d9a4\",\"#e8f69b\",\"#e45549\",\"#8cd1a4\",\"#fff3ac\",\"#f7814c\",\"#caea9e\",\"#545ca8\",\"#fca55d\",\"#4e63ac\",\"#fec877\",\"#f8864f\",\"#5cb7aa\",\"#fffdbc\",\"#c1274a\",\"#fdb365\",\"#ab0f45\",\"#fdc372\",\"#f46d43\",\"#fdb768\",\"#f88c51\",\"#c6e89f\",\"#fcfeba\",\"#5e4fa2\",\"#fdb163\",\"#d6ee9b\",\"#acdda4\",\"#fcfeba\",\"#4ba4b1\",\"#94d4a4\",\"#fff3ac\",\"#fee08b\",\"#feda86\",\"#fee28f\",\"#5b53a4\",\"#e2514a\",\"#439bb5\",\"#5956a5\",\"#feeda1\",\"#f7844e\",\"#466eb1\",\"#fecc7b\",\"#fa9857\",\"#64c0a6\",\"#fba35c\",\"#feea9b\",\"#dd4a4c\",\"#f3faac\",\"#81cda5\",\"#fffebe\",\"#de4c4b\",\"#eef8a4\",\"#fee491\",\"#9fd8a4\",\"#a90d45\",\"#fed481\",\"#b1dfa3\",\"#d6ee9b\",\"#545ca8\",\"#f99355\",\"#b1dfa3\",\"#f8864f\",\"#5ab4ab\",\"#f57547\",\"#f46d43\",\"#ea5e47\",\"#e45549\",\"#f88c51\",\"#496aaf\",\"#76c8a5\",\"#bce4a0\",\"#f57748\",\"#f36b43\",\"#f67c4a\",\"#d8ef9b\",\"#fcfeba\",\"#fa9b58\",\"#e9f69d\",\"#378ebb\",\"#fff2aa\",\"#f57748\",\"#f7814c\",\"#fb9d59\",\"#ecf7a1\",\"#f88c51\",\"#4199b6\",\"#fffbb8\",\"#aedea3\",\"#3682ba\",\"#feca79\",\"#d43d4f\",\"#69c3a5\",\"#64c0a6\",\"#a40844\",\"#d9444d\",\"#f46d43\",\"#c1e6a0\",\"#fece7c\",\"#f5fbaf\",\"#f46d43\",\"#fff0a6\",\"#acdda4\",\"#fff0a6\",\"#60bba8\",\"#545ca8\",\"#94d4a4\",\"#e85b48\",\"#3585bb\",\"#c52c4b\",\"#daf09a\",\"#fee797\",\"#fffebe\",\"#ecf7a1\",\"#d8ef9b\",\"#fdbb6c\",\"#f47044\",\"#439bb5\",\"#d23a4e\",\"#bae3a1\",\"#e95c47\",\"#fefebd\",\"#5cb7aa\",\"#fee999\",\"#fafdb7\",\"#a00343\",\"#64c0a6\",\"#fedc88\",\"#a7dba4\",\"#fa9857\",\"#9fd8a4\",\"#f5fbaf\",\"#8fd2a4\",\"#d1ed9c\",\"#b8e2a1\",\"#c72e4c\",\"#e6f598\",\"#edf8a3\",\"#e9f69d\",\"#f7844e\",\"#c72e4c\",\"#feeda1\",\"#54aead\",\"#3682ba\",\"#99d6a4\",\"#fffdbc\",\"#fece7c\",\"#fee999\",\"#c6e89f\",\"#aedea3\",\"#f67c4a\",\"#e9f69d\",\"#cdeb9d\",\"#fb9d59\",\"#f1f9a9\",\"#f1f9a9\",\"#aedea3\",\"#f47044\",\"#fff0a6\",\"#b81e48\",\"#feefa3\",\"#fb9d59\",\"#e1f399\",\"#fdbb6c\",\"#d23a4e\",\"#d9444d\",\"#fdb365\",\"#8cd1a4\",\"#f99355\",\"#e9f69d\",\"#81cda5\",\"#fee491\",\"#4273b3\",\"#aedea3\",\"#f67c4a\",\"#fee491\",\"#de4c4b\",\"#fafdb7\",\"#fed27f\",\"#d8434e\",\"#feefa3\",\"#e95c47\",\"#378ebb\",\"#49a2b2\",\"#3d79b6\",\"#94d4a4\",\"#d43d4f\",\"#9fd8a4\",\"#52abae\",\"#f57547\",\"#e3534a\",\"#f3faac\",\"#b41947\",\"#dff299\",\"#c52c4b\",\"#d7414e\",\"#49a2b2\",\"#dd4a4c\",\"#fdb768\",\"#f67a49\",\"#f67a49\",\"#439bb5\",\"#76c8a5\",\"#3f97b7\",\"#e45549\",\"#3682ba\",\"#fffdbc\",\"#97d5a4\",\"#3f77b5\",\"#fdc171\",\"#99d6a4\",\"#d7414e\",\"#f1f9a9\",\"#f2faaa\",\"#7ccaa5\",\"#fede89\",\"#feda86\",\"#3585bb\",\"#f5fbaf\",\"#fffbb8\",\"#e3534a\",\"#f7fcb2\",\"#feca79\",\"#ffffbe\",\"#fff2aa\",\"#c6e89f\",\"#fff8b4\",\"#feefa3\",\"#47a0b3\",\"#3f97b7\",\"#f99153\",\"#54aead\",\"#358bbc\",\"#fcfeba\",\"#f99355\",\"#feca79\",\"#feeda1\",\"#e9f69d\",\"#66c2a5\",\"#94d4a4\",\"#52abae\",\"#97d5a4\",\"#fed481\",\"#fdbd6d\",\"#fec877\",\"#fcaa5f\",\"#a20643\",\"#ecf7a1\",\"#ee6445\",\"#5cb7aa\",\"#3682ba\",\"#439bb5\",\"#e6f598\",\"#69c3a5\",\"#5956a5\",\"#89d0a4\",\"#ef6645\",\"#fffbb8\",\"#feefa3\",\"#ad1246\",\"#bc2249\",\"#3d79b6\",\"#9fd8a4\",\"#feca79\",\"#f57748\",\"#f98e52\",\"#f6fbb0\",\"#d43d4f\",\"#d8434e\",\"#86cfa5\",\"#fed27f\",\"#f7814c\",\"#64c0a6\",\"#6ec5a5\",\"#555aa7\",\"#f46d43\",\"#fdc171\",\"#ab0f45\",\"#daf09a\",\"#de4c4b\",\"#fff5ae\",\"#da464d\",\"#94d4a4\",\"#555aa7\",\"#4b68ae\",\"#c52c4b\",\"#fdbb6c\",\"#3b92b9\",\"#76c8a5\",\"#fdb96a\",\"#b8e2a1\",\"#fecc7b\",\"#e3534a\",\"#f06744\",\"#fff2aa\",\"#525fa9\",\"#b8e2a1\",\"#3f77b5\",\"#fed683\",\"#a20643\",\"#3b7cb7\",\"#c6e89f\",\"#fede89\",\"#caea9e\",\"#5e4fa2\",\"#fee593\",\"#f36b43\",\"#3f97b7\",\"#fed683\",\"#ffffbe\",\"#a4daa4\",\"#fb9d59\",\"#fff5ae\",\"#4273b3\",\"#4199b6\",\"#f7844e\",\"#fdb96a\",\"#fee28f\",\"#edf8a3\",\"#fcfeba\",\"#f7fcb2\",\"#3990ba\",\"#5956a5\",\"#ecf7a1\",\"#4199b6\",\"#fee797\",\"#fee999\",\"#f67c4a\",\"#f5fbaf\",\"#d6ee9b\",\"#3b92b9\",\"#fdc574\",\"#fffab6\",\"#89d0a4\",\"#d23a4e\",\"#b81e48\",\"#f8864f\",\"#ab0f45\",\"#ef6645\",\"#99d6a4\",\"#64c0a6\",\"#f98e52\",\"#c3e79f\",\"#be254a\",\"#76c8a5\",\"#545ca8\",\"#f46d43\",\"#f6fbb0\",\"#47a0b3\",\"#358bbc\",\"#b81e48\",\"#5cb7aa\",\"#f47044\",\"#4b68ae\",\"#bce4a0\",\"#ee6445\",\"#e9f69d\",\"#fff2aa\",\"#f8fcb4\",\"#fee797\",\"#f99355\",\"#3585bb\",\"#525fa9\",\"#fffab6\",\"#b81e48\",\"#f57748\",\"#f7814c\",\"#a40844\",\"#fee491\",\"#a40844\",\"#fefebd\",\"#3990ba\",\"#eef8a4\",\"#fdc372\",\"#f46d43\",\"#a20643\",\"#cfec9d\",\"#b5e1a2\",\"#439bb5\",\"#edf8a3\",\"#439bb5\",\"#d0384e\",\"#ef6645\",\"#ab0f45\",\"#f98e52\",\"#5e4fa2\",\"#e2514a\",\"#a00343\",\"#358bbc\",\"#358bbc\",\"#64c0a6\",\"#fee797\",\"#525fa9\",\"#d43d4f\",\"#7ecca5\",\"#fff3ac\",\"#358bbc\",\"#fff8b4\",\"#a4daa4\",\"#f57748\",\"#cb334d\",\"#b8e2a1\",\"#fdb163\",\"#56b0ad\",\"#d9444d\",\"#fca85e\",\"#6ec5a5\",\"#439bb5\",\"#5c51a3\",\"#86cfa5\",\"#c1e6a0\",\"#fede89\",\"#fefebd\",\"#d7414e\",\"#5e4fa2\",\"#c6e89f\",\"#feca79\",\"#4d65ad\",\"#fdbd6d\",\"#4471b2\",\"#94d4a4\",\"#e95c47\",\"#3b7cb7\",\"#fca85e\",\"#f88c51\",\"#cdeb9d\",\"#5e4fa2\",\"#3682ba\",\"#f99355\",\"#fee999\",\"#caea9e\",\"#8fd2a4\",\"#4b68ae\",\"#fff2aa\",\"#e9f69d\",\"#fff6b0\",\"#e55749\",\"#69c3a5\",\"#4b68ae\",\"#3a7eb8\",\"#e3534a\",\"#e1f399\",\"#fdb365\",\"#c72e4c\",\"#fffab6\",\"#f57748\",\"#9fd8a4\",\"#f99355\",\"#fdb163\",\"#d8ef9b\",\"#fed683\",\"#fff5ae\",\"#525fa9\",\"#99d6a4\",\"#fee593\",\"#de4c4b\",\"#f57547\",\"#358bbc\",\"#a7dba4\",\"#a2d9a4\",\"#fffab6\",\"#fdaf62\",\"#4ea7b0\",\"#be254a\",\"#fffbb8\",\"#dd4a4c\",\"#fff3ac\",\"#feeb9d\",\"#b1dfa3\",\"#8fd2a4\",\"#3f77b5\",\"#fffebe\",\"#c1274a\",\"#e2514a\",\"#d8434e\",\"#ef6645\",\"#fdc574\",\"#fed481\",\"#e8f69b\",\"#a2d9a4\",\"#89d0a4\",\"#f57748\",\"#eef8a4\",\"#fffdbc\",\"#4199b6\",\"#f7844e\",\"#fdaf62\",\"#a2d9a4\",\"#da464d\",\"#fca55d\",\"#fed27f\",\"#c3e79f\",\"#f57547\",\"#fca55d\",\"#555aa7\",\"#fecc7b\",\"#ee6445\",\"#fed481\",\"#feefa3\",\"#f46d43\",\"#ecf7a1\",\"#d23a4e\",\"#3f97b7\",\"#d9444d\",\"#fb9d59\",\"#c6e89f\",\"#d7414e\",\"#caea9e\",\"#fffebe\",\"#cb334d\",\"#47a0b3\",\"#3387bc\",\"#f8864f\",\"#b41947\",\"#b41947\",\"#f67a49\",\"#3f97b7\",\"#f7814c\",\"#d1ed9c\",\"#54aead\",\"#fafdb7\",\"#5ab4ab\",\"#d23a4e\",\"#f8864f\",\"#feeb9d\",\"#ecf7a1\",\"#feea9b\",\"#f7844e\",\"#daf09a\",\"#fff3ac\",\"#466eb1\",\"#a2d9a4\",\"#c3e79f\",\"#d8ef9b\",\"#fafdb7\",\"#fbfdb8\",\"#5e4fa2\",\"#fca85e\",\"#74c7a5\",\"#df4e4b\",\"#fba35c\",\"#fff3ac\",\"#fff5ae\",\"#fca55d\",\"#49a2b2\",\"#60bba8\",\"#4d65ad\",\"#f2faaa\",\"#e3534a\",\"#a20643\",\"#555aa7\",\"#97d5a4\",\"#e1f399\",\"#f7814c\",\"#fff2aa\",\"#f7814c\",\"#f47044\",\"#4ba4b1\",\"#d23a4e\",\"#60bba8\",\"#8fd2a4\",\"#b41947\",\"#94d4a4\",\"#fcaa5f\",\"#fdb365\",\"#69c3a5\",\"#cdeb9d\",\"#a20643\",\"#5b53a4\",\"#81cda5\",\"#ef6645\",\"#fee797\",\"#cdeb9d\",\"#feea9b\",\"#fed481\",\"#cdeb9d\",\"#7ecca5\",\"#fcfeba\",\"#f67c4a\",\"#c1274a\",\"#94d4a4\",\"#fdb96a\",\"#fee999\",\"#3990ba\",\"#fbfdb8\",\"#fffdbc\",\"#fdb365\",\"#fec877\",\"#5c51a3\",\"#b61b48\",\"#f57748\",\"#f99355\",\"#e8f69b\",\"#fdc171\",\"#d8ef9b\",\"#358bbc\",\"#fafdb7\",\"#5c51a3\",\"#b8e2a1\",\"#3a7eb8\",\"#5b53a4\",\"#81cda5\",\"#4ba4b1\",\"#fdc574\",\"#3387bc\",\"#f36b43\",\"#fedc88\",\"#bc2249\",\"#d8ef9b\",\"#fee593\",\"#f7844e\",\"#e45549\",\"#ee6445\",\"#5c51a3\",\"#f98e52\",\"#3d79b6\",\"#94d4a4\",\"#c52c4b\",\"#d8ef9b\",\"#4d65ad\",\"#fdc574\",\"#e1f399\",\"#fca85e\",\"#da464d\",\"#feea9b\",\"#47a0b3\",\"#b41947\",\"#f67c4a\",\"#64c0a6\",\"#fdb96a\",\"#daf09a\",\"#e2514a\",\"#f8fcb4\",\"#fff2aa\",\"#c72e4c\",\"#f1f9a9\",\"#ef6645\",\"#f7814c\",\"#3b7cb7\",\"#d6ee9b\",\"#e85b48\",\"#fa9b58\",\"#5c51a3\",\"#9fd8a4\",\"#aedea3\",\"#ad1246\",\"#fb9d59\",\"#60bba8\",\"#d23a4e\",\"#5ab4ab\",\"#74c7a5\",\"#ee6445\",\"#c6e89f\",\"#ef6645\",\"#3682ba\",\"#eef8a4\",\"#f99153\",\"#feefa3\",\"#99d6a4\",\"#c52c4b\",\"#fff2aa\",\"#feeda1\",\"#fffdbc\",\"#be254a\",\"#cb334d\",\"#5cb7aa\",\"#fdc372\",\"#b8e2a1\",\"#e2514a\",\"#66c2a5\",\"#fff2aa\",\"#fffab6\",\"#3b7cb7\",\"#e8f69b\",\"#e9f69d\",\"#edf8a3\",\"#dff299\",\"#feeda1\",\"#3682ba\",\"#496aaf\",\"#e9f69d\",\"#f36b43\",\"#378ebb\",\"#d9444d\",\"#f57547\",\"#fba35c\",\"#439bb5\",\"#fee593\",\"#8cd1a4\",\"#fa9b58\",\"#f1f9a9\",\"#fffab6\",\"#eaf79e\",\"#d1ed9c\",\"#8fd2a4\",\"#acdda4\",\"#99d6a4\",\"#9fd8a4\",\"#f6fbb0\",\"#fa9b58\",\"#b5e1a2\",\"#fee593\",\"#b8e2a1\",\"#f88c51\",\"#3b7cb7\",\"#3387bc\",\"#b61b48\",\"#ad1246\",\"#d8434e\",\"#69c3a5\",\"#fdc372\",\"#eef8a4\",\"#439bb5\",\"#cdeb9d\",\"#fee28f\",\"#d8434e\",\"#fdc574\",\"#fff2aa\",\"#fcaa5f\",\"#5eb9a9\",\"#b11747\",\"#dff299\",\"#f47044\",\"#74c7a5\",\"#3b7cb7\",\"#fecc7b\",\"#5b53a4\",\"#f8fcb4\",\"#e55749\",\"#a40844\",\"#f99153\",\"#378ebb\",\"#c72e4c\",\"#b5e1a2\",\"#5956a5\",\"#a40844\",\"#caea9e\",\"#60bba8\",\"#fece7c\",\"#de4c4b\",\"#3b7cb7\",\"#fee999\",\"#cfec9d\",\"#5e4fa2\",\"#fdc372\",\"#daf09a\",\"#aedea3\",\"#bce4a0\",\"#60bba8\",\"#fff3ac\",\"#a7dba4\",\"#fca55d\",\"#a40844\",\"#f8fcb4\",\"#b41947\",\"#fee28f\",\"#49a2b2\",\"#e2514a\",\"#94d4a4\",\"#bce4a0\",\"#eaf79e\",\"#e95c47\",\"#a20643\",\"#9e0142\",\"#e8f69b\",\"#3d79b6\",\"#c52c4b\",\"#da464d\",\"#fee08b\",\"#4199b6\",\"#ad1246\",\"#f57547\",\"#f8864f\",\"#fedc88\",\"#54aead\",\"#df4e4b\",\"#fedc88\",\"#f99355\",\"#fdc171\",\"#f67c4a\",\"#f36b43\",\"#fa9857\",\"#89d0a4\",\"#3387bc\",\"#fba35c\",\"#d23a4e\",\"#d0384e\",\"#64c0a6\",\"#ed6246\",\"#feeda1\",\"#fdbb6c\",\"#fcaa5f\",\"#fed27f\",\"#4471b2\",\"#5b53a4\",\"#e2514a\",\"#f8fcb4\",\"#ee6445\",\"#545ca8\",\"#e1f399\",\"#fec877\",\"#f99153\",\"#c52c4b\",\"#f47044\",\"#fff3ac\",\"#b11747\",\"#fee593\",\"#f36b43\",\"#d1ed9c\",\"#49a2b2\",\"#fece7c\",\"#fee491\",\"#fee797\",\"#aedea3\",\"#eef8a4\",\"#f7814c\",\"#3b92b9\",\"#f8864f\",\"#fed27f\",\"#daf09a\",\"#feda86\",\"#fdb163\",\"#e3534a\",\"#f99153\",\"#ab0f45\",\"#f57547\",\"#a40844\",\"#ecf7a1\",\"#8cd1a4\",\"#545ca8\",\"#ad1246\",\"#be254a\",\"#fff8b4\",\"#b61b48\",\"#b5e1a2\",\"#c1e6a0\",\"#a40844\",\"#fdbb6c\",\"#64c0a6\",\"#a00343\",\"#f57748\",\"#a7dba4\",\"#f6fbb0\",\"#ed6246\",\"#f5fbaf\",\"#fefebd\",\"#fed683\",\"#e85b48\",\"#86cfa5\",\"#fafdb7\",\"#76c8a5\",\"#f99355\",\"#3b92b9\",\"#64c0a6\",\"#ee6445\",\"#feca79\",\"#fee08b\",\"#feeda1\",\"#5c51a3\",\"#fa9b58\",\"#b1dfa3\",\"#e4f498\",\"#f47044\",\"#3b92b9\",\"#cfec9d\",\"#f2faaa\",\"#f57547\",\"#de4c4b\",\"#3d79b6\",\"#ed6246\",\"#c1e6a0\",\"#89d0a4\",\"#fca55d\",\"#f7fcb2\",\"#ab0f45\",\"#feca79\",\"#fecc7b\",\"#fdbb6c\",\"#e85b48\",\"#c1274a\",\"#56b0ad\",\"#e85b48\",\"#eaf79e\",\"#97d5a4\",\"#feeb9d\",\"#fffbb8\",\"#caea9e\",\"#fffebe\",\"#f46d43\",\"#e3534a\",\"#6ec5a5\",\"#a7dba4\",\"#f98e52\",\"#fca55d\",\"#ef6645\",\"#a90d45\",\"#7ecca5\",\"#f67a49\",\"#f7fcb2\",\"#5b53a4\",\"#eaf79e\",\"#fee491\",\"#54aead\",\"#feeb9d\",\"#3585bb\",\"#f46d43\",\"#66c2a5\",\"#fca85e\",\"#f47044\",\"#b11747\",\"#6ec5a5\",\"#fdb768\",\"#fdb163\",\"#cfec9d\",\"#f5fbaf\",\"#81cda5\",\"#fdaf62\",\"#e9f69d\",\"#d7414e\",\"#ab0f45\",\"#97d5a4\",\"#f7fcb2\",\"#9e0142\",\"#74c7a5\",\"#ed6246\",\"#97d5a4\",\"#3990ba\",\"#b8e2a1\",\"#fff8b4\",\"#fff5ae\",\"#edf8a3\",\"#60bba8\",\"#f7fcb2\",\"#3b7cb7\",\"#9fd8a4\",\"#f57547\",\"#d8434e\",\"#ea5e47\",\"#f67a49\",\"#52abae\",\"#edf8a3\",\"#fed683\",\"#52abae\",\"#daf09a\",\"#f99153\",\"#5eb9a9\",\"#fdb365\",\"#66c2a5\",\"#b8e2a1\",\"#99d6a4\",\"#4d65ad\",\"#df4e4b\",\"#86cfa5\",\"#fee999\",\"#ea5e47\",\"#5cb7aa\",\"#8fd2a4\",\"#c72e4c\",\"#e3534a\",\"#fdb163\",\"#5e4fa2\",\"#4199b6\",\"#a7dba4\",\"#fee999\",\"#4ea7b0\",\"#e2514a\",\"#4d65ad\",\"#cb334d\",\"#4273b3\",\"#fff3ac\",\"#bae3a1\",\"#c6e89f\",\"#fca85e\",\"#fff0a6\",\"#fdbd6d\",\"#9e0142\",\"#feda86\",\"#e85b48\",\"#daf09a\",\"#fedc88\",\"#da464d\",\"#fdb365\",\"#f8fcb4\",\"#fffbb8\",\"#3f97b7\",\"#4e63ac\",\"#d8ef9b\",\"#5eb9a9\",\"#d9444d\",\"#cfec9d\",\"#cfec9d\",\"#76c8a5\",\"#439bb5\",\"#fff3ac\",\"#97d5a4\",\"#aedea3\",\"#bae3a1\",\"#fdaf62\",\"#fff3ac\",\"#49a2b2\",\"#feeb9d\",\"#b11747\",\"#378ebb\",\"#e8f69b\",\"#5e4fa2\",\"#f2faaa\",\"#e9f69d\",\"#81cda5\",\"#a2d9a4\",\"#ab0f45\",\"#bc2249\",\"#6ec5a5\",\"#b8e2a1\",\"#4ea7b0\",\"#b5e1a2\",\"#a90d45\",\"#fee797\",\"#358bbc\",\"#60bba8\",\"#c9314c\",\"#4471b2\",\"#439bb5\",\"#c9314c\",\"#fffab6\",\"#a40844\",\"#fca55d\",\"#3682ba\",\"#fca55d\",\"#ffffbe\",\"#b61b48\",\"#fec877\",\"#89d0a4\",\"#fcfeba\",\"#5956a5\",\"#f99153\",\"#ffffbe\",\"#b11747\",\"#b41947\",\"#d43d4f\",\"#56b0ad\",\"#545ca8\",\"#a7dba4\",\"#b41947\",\"#c52c4b\",\"#e9f69d\",\"#edf8a3\",\"#5b53a4\",\"#8fd2a4\",\"#fff5ae\",\"#bc2249\",\"#f6fbb0\",\"#f1f9a9\",\"#d7414e\",\"#b81e48\",\"#3b7cb7\",\"#fee08b\",\"#8cd1a4\",\"#b61b48\",\"#f8fcb4\",\"#66c2a5\",\"#496aaf\",\"#f57748\",\"#acdda4\",\"#fff6b0\",\"#fafdb7\",\"#fcfeba\",\"#c72e4c\",\"#86cfa5\",\"#df4e4b\",\"#3990ba\",\"#caea9e\",\"#df4e4b\",\"#fed27f\",\"#d43d4f\",\"#5eb9a9\",\"#466eb1\",\"#439bb5\",\"#f5fbaf\",\"#fee08b\",\"#64c0a6\",\"#b41947\",\"#f8864f\",\"#fdbd6d\",\"#e85b48\",\"#fdb96a\",\"#bce4a0\",\"#d6ee9b\",\"#ab0f45\",\"#f7fcb2\",\"#ee6445\",\"#fff5ae\",\"#fece7c\",\"#e95c47\",\"#dff299\",\"#555aa7\",\"#49a2b2\",\"#de4c4b\",\"#b41947\",\"#555aa7\",\"#b81e48\",\"#e85b48\",\"#6ec5a5\",\"#f57748\",\"#edf8a3\",\"#a00343\",\"#c1e6a0\",\"#a40844\",\"#e1f399\",\"#cfec9d\",\"#3b92b9\",\"#f1f9a9\",\"#525fa9\",\"#c9314c\",\"#e55749\",\"#5b53a4\",\"#f8864f\",\"#feea9b\",\"#525fa9\",\"#feeda1\",\"#a7dba4\",\"#3b7cb7\",\"#81cda5\",\"#fff0a6\",\"#c1274a\",\"#f99355\",\"#eaf79e\",\"#f67a49\",\"#89d0a4\",\"#be254a\",\"#f98e52\",\"#5b53a4\",\"#da464d\",\"#fdc171\",\"#f7844e\",\"#feeda1\",\"#c52c4b\",\"#f5fbaf\",\"#f8fcb4\",\"#89d0a4\",\"#eff9a6\",\"#feeb9d\",\"#439bb5\",\"#fed683\",\"#a7dba4\",\"#fff8b4\",\"#a40844\",\"#eff9a6\",\"#c6e89f\",\"#fffab6\",\"#e3534a\",\"#b5e1a2\",\"#acdda4\",\"#b61b48\",\"#fba35c\",\"#da464d\",\"#e85b48\",\"#f47044\",\"#3387bc\",\"#a2d9a4\",\"#cfec9d\",\"#3f97b7\",\"#feda86\",\"#cfec9d\",\"#fed683\",\"#d8434e\",\"#f99355\",\"#f47044\",\"#f8fcb4\",\"#4e63ac\",\"#5956a5\",\"#d7414e\",\"#bce4a0\",\"#d43d4f\",\"#fdb768\",\"#e45549\",\"#4199b6\",\"#ecf7a1\",\"#fff8b4\",\"#cdeb9d\",\"#fca85e\",\"#e9f69d\",\"#fdbd6d\",\"#81cda5\",\"#bc2249\",\"#feea9b\",\"#a2d9a4\",\"#a7dba4\",\"#fdc171\",\"#fffebe\",\"#fee08b\",\"#9e0142\",\"#bce4a0\",\"#3387bc\",\"#fefebd\",\"#d0384e\",\"#97d5a4\",\"#8cd1a4\",\"#f5fbaf\",\"#ab0f45\",\"#e1f399\",\"#d43d4f\",\"#3f97b7\",\"#fdbb6c\",\"#71c6a5\",\"#fff8b4\",\"#fdbd6d\",\"#f57748\",\"#ecf7a1\",\"#cfec9d\",\"#fca85e\",\"#54aead\",\"#d6ee9b\",\"#d7414e\",\"#ef6645\",\"#fdaf62\",\"#e6f598\",\"#fff5ae\",\"#f99355\",\"#496aaf\",\"#fbfdb8\",\"#fec877\",\"#feea9b\",\"#fa9857\",\"#71c6a5\",\"#3b7cb7\",\"#3682ba\",\"#fed481\",\"#3990ba\",\"#bc2249\",\"#4471b2\",\"#a00343\",\"#fffbb8\",\"#fee28f\",\"#fb9d59\",\"#4e63ac\",\"#f36b43\",\"#fff0a6\",\"#bce4a0\",\"#60bba8\",\"#4199b6\",\"#dd4a4c\",\"#9e0142\",\"#fca85e\",\"#66c2a5\",\"#99d6a4\",\"#feeb9d\",\"#b1dfa3\",\"#3d79b6\",\"#3a7eb8\",\"#ea5e47\",\"#5ab4ab\",\"#feda86\",\"#378ebb\",\"#5c51a3\",\"#f99153\",\"#3682ba\",\"#b11747\",\"#fdb365\",\"#d23a4e\",\"#d9444d\",\"#acdda4\",\"#fca85e\",\"#4273b3\",\"#f06744\",\"#b11747\",\"#fee999\",\"#5e4fa2\",\"#69c3a5\",\"#fee491\",\"#a4daa4\",\"#5eb9a9\",\"#7ecca5\",\"#cfec9d\",\"#a90d45\",\"#4d65ad\",\"#e6f598\",\"#fee593\",\"#f88c51\",\"#f1f9a9\",\"#fff8b4\",\"#3585bb\",\"#df4e4b\",\"#49a2b2\",\"#fff0a6\",\"#e6f598\",\"#3a7eb8\",\"#fede89\",\"#bc2249\",\"#ee6445\",\"#6ec5a5\",\"#f7844e\",\"#dd4a4c\",\"#b41947\",\"#b8e2a1\",\"#c1274a\",\"#5c51a3\",\"#b11747\",\"#9fd8a4\",\"#cdeb9d\",\"#fca55d\",\"#fffbb8\",\"#6ec5a5\",\"#fff2aa\",\"#97d5a4\",\"#5e4fa2\",\"#c72e4c\",\"#fee491\",\"#f5fbaf\",\"#3a7eb8\",\"#aedea3\",\"#cb334d\",\"#86cfa5\",\"#a2d9a4\",\"#74c7a5\",\"#f36b43\",\"#fdc171\",\"#71c6a5\",\"#feeb9d\",\"#69c3a5\",\"#52abae\",\"#4e63ac\",\"#a40844\",\"#e3534a\",\"#fdc372\",\"#feea9b\",\"#f88c51\",\"#fedc88\",\"#c6e89f\",\"#5c51a3\",\"#fdaf62\",\"#ee6445\",\"#8fd2a4\",\"#d1ed9c\",\"#f57547\",\"#5b53a4\",\"#555aa7\",\"#dff299\",\"#3387bc\",\"#b8e2a1\",\"#358bbc\",\"#feea9b\",\"#fffbb8\",\"#be254a\",\"#fee28f\",\"#b81e48\",\"#fff6b0\",\"#fffdbc\",\"#bce4a0\",\"#fee08b\",\"#3f97b7\",\"#c3e79f\",\"#ed6246\",\"#fefebd\",\"#89d0a4\",\"#df4e4b\",\"#c1e6a0\",\"#be254a\",\"#8fd2a4\",\"#caea9e\",\"#fba35c\",\"#fee08b\",\"#d7414e\",\"#4273b3\",\"#6ec5a5\",\"#4d65ad\",\"#fff0a6\",\"#fffab6\",\"#fdb96a\",\"#86cfa5\",\"#ea5e47\",\"#fec877\",\"#3f97b7\",\"#c1e6a0\",\"#fffab6\",\"#466eb1\",\"#fcfeba\",\"#bce4a0\",\"#fed481\",\"#e95c47\",\"#f99355\",\"#bae3a1\",\"#fba35c\",\"#5e4fa2\",\"#fdc372\",\"#fdaf62\",\"#a4daa4\",\"#c6e89f\",\"#e2514a\",\"#fb9d59\",\"#3f97b7\",\"#545ca8\",\"#fa9857\",\"#fec877\",\"#f67c4a\",\"#e85b48\",\"#f1f9a9\",\"#fff8b4\",\"#4d65ad\",\"#5cb7aa\",\"#acdda4\",\"#fffdbc\",\"#c52c4b\",\"#a2d9a4\",\"#feeda1\",\"#fdc171\",\"#69c3a5\",\"#feda86\",\"#d8ef9b\",\"#d9444d\",\"#7ecca5\",\"#fff2aa\",\"#5eb9a9\",\"#bae3a1\",\"#f57547\",\"#feeb9d\",\"#e2514a\",\"#feea9b\",\"#eef8a4\",\"#ee6445\",\"#feda86\",\"#fecc7b\",\"#a7dba4\",\"#fee593\",\"#fdb96a\",\"#fff6b0\",\"#3990ba\",\"#3f77b5\",\"#3990ba\",\"#99d6a4\",\"#fdbd6d\",\"#f88c51\",\"#5cb7aa\",\"#496aaf\",\"#d8ef9b\",\"#fee999\",\"#5956a5\",\"#6ec5a5\",\"#d23a4e\",\"#3682ba\",\"#fee28f\",\"#fdaf62\",\"#3b92b9\",\"#89d0a4\",\"#f57547\",\"#fca85e\",\"#a40844\",\"#feeb9d\",\"#a40844\",\"#fed683\",\"#fa9857\",\"#8fd2a4\",\"#f46d43\",\"#aedea3\",\"#e6f598\",\"#378ebb\",\"#dd4a4c\",\"#fff5ae\",\"#acdda4\",\"#feea9b\",\"#ffffbe\",\"#3b92b9\",\"#76c8a5\",\"#fdb96a\",\"#e95c47\",\"#d9444d\",\"#5956a5\",\"#71c6a5\",\"#4273b3\",\"#3b92b9\",\"#fb9d59\",\"#4d65ad\",\"#d1ed9c\",\"#3387bc\",\"#f67c4a\",\"#3d79b6\",\"#fdc171\",\"#feda86\",\"#b61b48\",\"#bc2249\",\"#a90d45\",\"#d8434e\",\"#d6ee9b\",\"#fffbb8\",\"#feeb9d\",\"#f5fbaf\",\"#fff2aa\",\"#f98e52\",\"#c72e4c\",\"#4b68ae\",\"#e2514a\",\"#feefa3\",\"#49a2b2\",\"#eaf79e\",\"#fdaf62\",\"#3990ba\",\"#feca79\",\"#fdaf62\",\"#5ab4ab\",\"#5956a5\",\"#eef8a4\",\"#ea5e47\",\"#fecc7b\",\"#e3534a\",\"#99d6a4\",\"#b5e1a2\",\"#3990ba\",\"#d43d4f\",\"#f8864f\",\"#3a7eb8\",\"#ee6445\",\"#fca55d\",\"#d6ee9b\",\"#f1f9a9\",\"#47a0b3\",\"#e8f69b\",\"#3585bb\",\"#b81e48\",\"#5eb9a9\",\"#e4f498\",\"#fffdbc\",\"#d43d4f\",\"#fdb163\",\"#fb9d59\",\"#fff8b4\",\"#fed27f\",\"#fdc372\",\"#f36b43\",\"#dd4a4c\",\"#439bb5\",\"#99d6a4\",\"#3a7eb8\",\"#cdeb9d\",\"#94d4a4\",\"#be254a\",\"#4d65ad\",\"#fb9d59\",\"#8cd1a4\",\"#fdaf62\",\"#e6f598\",\"#f7814c\",\"#f06744\",\"#d6ee9b\",\"#fffbb8\",\"#89d0a4\",\"#fcaa5f\",\"#f6fbb0\",\"#ad1246\",\"#fb9d59\",\"#bae3a1\",\"#f98e52\",\"#f8864f\",\"#d0384e\",\"#56b0ad\",\"#ed6246\",\"#f47044\",\"#bce4a0\",\"#c72e4c\",\"#fa9b58\",\"#fdc372\",\"#fed683\",\"#fdb96a\",\"#fff8b4\",\"#fede89\",\"#eef8a4\",\"#b11747\",\"#fdc372\",\"#4471b2\",\"#dd4a4c\",\"#8cd1a4\",\"#fede89\",\"#fff2aa\",\"#6ec5a5\",\"#be254a\",\"#3585bb\",\"#e3534a\",\"#fee593\",\"#f7844e\",\"#d9444d\",\"#feeda1\",\"#439bb5\",\"#da464d\",\"#bc2249\",\"#fdb163\",\"#56b0ad\",\"#e55749\",\"#fffbb8\",\"#fdbd6d\",\"#fee999\",\"#f7814c\",\"#5e4fa2\",\"#74c7a5\",\"#fecc7b\",\"#fff5ae\",\"#e4f498\",\"#fff0a6\",\"#aedea3\",\"#c1274a\",\"#81cda5\",\"#3b7cb7\",\"#d0384e\",\"#fee797\",\"#f99355\",\"#f88c51\",\"#f06744\",\"#be254a\",\"#fff0a6\",\"#f46d43\",\"#fece7c\",\"#be254a\",\"#fcfeba\",\"#378ebb\",\"#f57748\",\"#e45549\",\"#acdda4\",\"#fee08b\",\"#fee999\",\"#a90d45\",\"#e6f598\",\"#fee797\",\"#3f77b5\",\"#fff2aa\",\"#fdb365\",\"#fed481\",\"#97d5a4\",\"#bae3a1\",\"#fffebe\",\"#fffdbc\",\"#b81e48\",\"#d1ed9c\",\"#fafdb7\",\"#d8ef9b\",\"#b81e48\",\"#fffbb8\",\"#466eb1\",\"#99d6a4\",\"#54aead\",\"#3b7cb7\",\"#dff299\",\"#c6e89f\",\"#de4c4b\",\"#c1e6a0\",\"#d6ee9b\",\"#dd4a4c\",\"#fcaa5f\",\"#fff6b0\",\"#f36b43\",\"#e1f399\",\"#f99153\",\"#4ba4b1\",\"#5cb7aa\",\"#fede89\",\"#f6fbb0\",\"#525fa9\",\"#dff299\",\"#fece7c\",\"#d1ed9c\",\"#5c51a3\",\"#dd4a4c\",\"#fba35c\",\"#fff5ae\",\"#fff2aa\",\"#54aead\",\"#b81e48\",\"#81cda5\",\"#f8864f\",\"#fdc171\",\"#fdc574\",\"#ffffbe\",\"#c3e79f\",\"#94d4a4\",\"#49a2b2\",\"#4b68ae\",\"#fee491\",\"#f5fbaf\",\"#f06744\",\"#fdb768\",\"#fdb163\",\"#358bbc\",\"#52abae\",\"#49a2b2\",\"#3b7cb7\",\"#a40844\",\"#3f97b7\",\"#ab0f45\",\"#fed683\",\"#d23a4e\",\"#466eb1\",\"#feeb9d\",\"#e95c47\",\"#4199b6\",\"#eff9a6\",\"#fee797\",\"#f2faaa\",\"#3f97b7\",\"#3f77b5\",\"#86cfa5\",\"#7ecca5\",\"#fdc574\",\"#4ba4b1\",\"#b81e48\",\"#fffdbc\",\"#df4e4b\",\"#496aaf\",\"#f46d43\",\"#fcaa5f\",\"#4b68ae\",\"#439bb5\",\"#d0384e\",\"#466eb1\",\"#a2d9a4\",\"#c1274a\",\"#e3534a\",\"#7ccaa5\",\"#fece7c\",\"#f47044\",\"#81cda5\",\"#cfec9d\",\"#ee6445\",\"#e55749\",\"#cb334d\",\"#f67c4a\",\"#fee797\",\"#60bba8\",\"#a4daa4\",\"#e45549\",\"#99d6a4\",\"#545ca8\",\"#d1ed9c\",\"#8fd2a4\",\"#97d5a4\",\"#378ebb\",\"#3d79b6\",\"#ad1246\",\"#da464d\",\"#d23a4e\",\"#daf09a\",\"#555aa7\",\"#4ea7b0\",\"#4ea7b0\",\"#f8864f\",\"#86cfa5\",\"#f2faaa\",\"#fdbb6c\",\"#ed6246\",\"#feeda1\",\"#caea9e\",\"#9e0142\",\"#edf8a3\",\"#bae3a1\",\"#9fd8a4\",\"#feea9b\",\"#e4f498\",\"#c72e4c\",\"#fdaf62\",\"#fcaa5f\",\"#bae3a1\",\"#f67a49\",\"#3b7cb7\",\"#555aa7\",\"#f5fbaf\",\"#fee28f\",\"#e45549\",\"#fdbd6d\",\"#4471b2\",\"#fcfeba\",\"#fcfeba\",\"#fdc372\",\"#e45549\",\"#525fa9\",\"#74c7a5\",\"#5956a5\",\"#555aa7\",\"#fedc88\",\"#fede89\",\"#de4c4b\",\"#5ab4ab\",\"#60bba8\",\"#439bb5\",\"#5c51a3\",\"#fffebe\",\"#378ebb\",\"#c1e6a0\",\"#fed481\",\"#fee08b\",\"#e4f498\",\"#f88c51\",\"#9fd8a4\",\"#466eb1\",\"#caea9e\",\"#8cd1a4\",\"#97d5a4\",\"#fdc574\",\"#ecf7a1\",\"#acdda4\",\"#5e4fa2\",\"#feca79\",\"#eaf79e\",\"#60bba8\",\"#3b92b9\",\"#89d0a4\",\"#3d79b6\",\"#fa9b58\",\"#acdda4\",\"#fa9857\",\"#4ba4b1\",\"#d8ef9b\",\"#fba35c\",\"#f47044\",\"#f06744\",\"#a7dba4\",\"#f36b43\",\"#49a2b2\",\"#378ebb\",\"#a7dba4\",\"#4e63ac\",\"#ad1246\",\"#5b53a4\",\"#f7814c\",\"#545ca8\",\"#e8f69b\",\"#fff6b0\",\"#97d5a4\",\"#ea5e47\",\"#f3faac\",\"#fcfeba\",\"#94d4a4\",\"#5c51a3\",\"#a00343\",\"#ed6246\",\"#f47044\",\"#e45549\",\"#fdbd6d\",\"#e1f399\",\"#f6fbb0\",\"#e55749\",\"#64c0a6\",\"#f46d43\",\"#e45549\",\"#f47044\",\"#feeda1\",\"#cfec9d\",\"#94d4a4\",\"#fffebe\",\"#cdeb9d\",\"#3990ba\",\"#d6ee9b\",\"#545ca8\",\"#e6f598\",\"#fdb365\",\"#5eb9a9\",\"#bce4a0\",\"#bce4a0\",\"#fff5ae\",\"#fee28f\",\"#c9314c\",\"#52abae\",\"#b8e2a1\",\"#f57547\",\"#fcfeba\",\"#e55749\",\"#86cfa5\",\"#4ea7b0\",\"#f88c51\",\"#fed683\",\"#f06744\",\"#f99355\",\"#f8fcb4\",\"#ea5e47\",\"#e85b48\",\"#fafdb7\",\"#466eb1\",\"#6ec5a5\",\"#fdc171\",\"#7ccaa5\",\"#acdda4\",\"#54aead\",\"#f67c4a\",\"#64c0a6\",\"#c3e79f\",\"#fffdbc\",\"#f2faaa\",\"#df4e4b\",\"#8cd1a4\",\"#f06744\",\"#ee6445\",\"#466eb1\",\"#fdb163\",\"#ecf7a1\",\"#49a2b2\",\"#f7844e\",\"#c1274a\",\"#feca79\",\"#dd4a4c\",\"#8fd2a4\",\"#e85b48\",\"#fb9d59\",\"#fee491\",\"#fcfeba\",\"#f7814c\",\"#fcaa5f\",\"#4471b2\",\"#d8434e\",\"#3b7cb7\",\"#f67c4a\",\"#fa9857\",\"#d7414e\",\"#c3e79f\",\"#3f77b5\",\"#eaf79e\",\"#fbfdb8\",\"#466eb1\",\"#eff9a6\",\"#aedea3\",\"#47a0b3\",\"#df4e4b\",\"#3b7cb7\",\"#f67c4a\",\"#525fa9\",\"#5ab4ab\",\"#9fd8a4\",\"#525fa9\",\"#fec877\",\"#d43d4f\",\"#3d79b6\",\"#bce4a0\",\"#fdb163\",\"#99d6a4\",\"#b11747\",\"#f06744\",\"#94d4a4\",\"#caea9e\",\"#3b7cb7\",\"#f6fbb0\",\"#3990ba\",\"#56b0ad\",\"#f99355\",\"#e95c47\",\"#daf09a\",\"#eff9a6\",\"#fecc7b\",\"#fa9857\",\"#525fa9\",\"#fdc574\",\"#358bbc\",\"#52abae\",\"#fee28f\",\"#cb334d\",\"#a40844\",\"#daf09a\",\"#3b92b9\",\"#c6e89f\",\"#fba35c\",\"#b5e1a2\",\"#fdbd6d\",\"#f06744\",\"#f3faac\",\"#496aaf\",\"#eef8a4\",\"#da464d\",\"#fdbd6d\",\"#a00343\",\"#eef8a4\",\"#fec877\",\"#9e0142\",\"#5956a5\",\"#fdb163\",\"#fdbd6d\",\"#5c51a3\",\"#fca85e\",\"#fdb768\",\"#c72e4c\",\"#fff3ac\",\"#c1e6a0\",\"#e1f399\",\"#ed6246\",\"#edf8a3\",\"#cdeb9d\",\"#6ec5a5\",\"#8cd1a4\",\"#fff2aa\",\"#7ecca5\",\"#f3faac\",\"#f8864f\",\"#ea5e47\",\"#fdbb6c\",\"#fee28f\",\"#b1dfa3\",\"#3a7eb8\",\"#3990ba\",\"#358bbc\",\"#ea5e47\",\"#d1ed9c\",\"#fbfdb8\",\"#b1dfa3\",\"#b81e48\",\"#3f77b5\",\"#47a0b3\",\"#e6f598\",\"#fdc574\",\"#fedc88\",\"#555aa7\",\"#e4f498\",\"#fed481\",\"#66c2a5\",\"#f99153\",\"#fede89\",\"#b1dfa3\",\"#fecc7b\",\"#ecf7a1\",\"#3b7cb7\",\"#3f97b7\",\"#fdb768\",\"#fee797\",\"#56b0ad\",\"#a2d9a4\",\"#466eb1\",\"#ef6645\",\"#f67a49\",\"#e4f498\",\"#b61b48\",\"#fa9b58\",\"#a4daa4\",\"#fbfdb8\",\"#e95c47\",\"#fa9857\",\"#a7dba4\",\"#fdaf62\",\"#f7844e\",\"#fece7c\",\"#3990ba\",\"#ecf7a1\",\"#bc2249\",\"#fff2aa\",\"#fee08b\",\"#b11747\",\"#e4f498\",\"#3a7eb8\",\"#439bb5\",\"#6ec5a5\",\"#66c2a5\",\"#545ca8\",\"#c72e4c\",\"#c9314c\",\"#99d6a4\",\"#e8f69b\",\"#edf8a3\",\"#3b7cb7\",\"#439bb5\",\"#fdc574\",\"#496aaf\",\"#a7dba4\",\"#d43d4f\",\"#a90d45\",\"#7ccaa5\",\"#fdbb6c\",\"#4d65ad\",\"#fedc88\",\"#fed27f\",\"#f8fcb4\",\"#b8e2a1\",\"#e95c47\",\"#5ab4ab\",\"#545ca8\",\"#feca79\",\"#e45549\",\"#feefa3\",\"#fee999\",\"#e95c47\",\"#b5e1a2\",\"#fb9d59\",\"#fdbb6c\",\"#3f97b7\",\"#fa9b58\",\"#56b0ad\",\"#f36b43\",\"#378ebb\",\"#5e4fa2\",\"#b41947\",\"#5c51a3\",\"#f7814c\",\"#da464d\",\"#56b0ad\",\"#6ec5a5\",\"#f57547\",\"#fee999\",\"#fafdb7\",\"#3387bc\",\"#e4f498\",\"#4d65ad\",\"#4ea7b0\",\"#fee999\",\"#fece7c\",\"#cdeb9d\",\"#5cb7aa\",\"#de4c4b\",\"#cb334d\",\"#a7dba4\",\"#de4c4b\",\"#439bb5\",\"#daf09a\",\"#f7844e\",\"#f06744\",\"#fb9d59\",\"#fdb365\",\"#d8ef9b\",\"#fffbb8\",\"#f2faaa\",\"#c1e6a0\",\"#eaf79e\",\"#eef8a4\",\"#3387bc\",\"#fdb768\",\"#fee999\",\"#f7814c\",\"#d43d4f\",\"#f3faac\",\"#94d4a4\",\"#f7fcb2\",\"#f2faaa\",\"#fee28f\",\"#5b53a4\",\"#f88c51\",\"#8fd2a4\",\"#74c7a5\",\"#feda86\",\"#f5fbaf\",\"#545ca8\",\"#3387bc\",\"#fa9b58\",\"#f2faaa\",\"#3387bc\",\"#ee6445\",\"#f67a49\",\"#fee28f\",\"#c1e6a0\",\"#d0384e\",\"#fdb768\",\"#feea9b\",\"#feeb9d\",\"#4b68ae\",\"#f67c4a\",\"#7ecca5\",\"#52abae\",\"#fdbb6c\",\"#a40844\",\"#7ecca5\",\"#bce4a0\",\"#81cda5\",\"#fff2aa\",\"#fee593\",\"#fba35c\",\"#fec877\",\"#fed683\",\"#496aaf\",\"#74c7a5\",\"#e9f69d\",\"#cfec9d\",\"#feeb9d\",\"#df4e4b\",\"#fdb365\",\"#3585bb\",\"#5ab4ab\",\"#9e0142\",\"#e4f498\",\"#fefebd\",\"#fdaf62\",\"#fdb365\",\"#e4f498\",\"#8fd2a4\",\"#d1ed9c\",\"#5ab4ab\",\"#555aa7\",\"#71c6a5\",\"#ee6445\",\"#b8e2a1\",\"#bc2249\",\"#a20643\",\"#fba35c\",\"#fdb163\",\"#76c8a5\",\"#5ab4ab\",\"#fefebd\",\"#9e0142\",\"#fdc171\",\"#f6fbb0\",\"#dff299\",\"#fed27f\",\"#60bba8\",\"#3387bc\",\"#60bba8\",\"#47a0b3\",\"#525fa9\",\"#3990ba\",\"#fee08b\",\"#fdc574\",\"#fffbb8\",\"#fecc7b\",\"#a2d9a4\",\"#f57547\",\"#3b92b9\",\"#aedea3\",\"#c1e6a0\",\"#fbfdb8\",\"#b5e1a2\",\"#fee491\",\"#69c3a5\",\"#d23a4e\",\"#dd4a4c\",\"#fdb163\",\"#fede89\",\"#bc2249\",\"#fed27f\",\"#378ebb\",\"#f5fbaf\",\"#e9f69d\",\"#fdbb6c\",\"#de4c4b\",\"#a00343\",\"#d23a4e\",\"#5b53a4\",\"#fff5ae\",\"#fff5ae\",\"#b1dfa3\",\"#eaf79e\",\"#bae3a1\",\"#ffffbe\",\"#4d65ad\",\"#5b53a4\",\"#be254a\",\"#3682ba\",\"#ad1246\",\"#71c6a5\",\"#bce4a0\",\"#5eb9a9\",\"#fba35c\",\"#fffebe\",\"#eff9a6\",\"#c3e79f\",\"#cb334d\",\"#ffffbe\",\"#47a0b3\",\"#bae3a1\",\"#cdeb9d\",\"#f98e52\",\"#f99355\",\"#fefebd\",\"#d23a4e\",\"#d0384e\",\"#fa9b58\",\"#ee6445\",\"#c9314c\",\"#fed481\",\"#e9f69d\",\"#e8f69b\",\"#a90d45\",\"#fff8b4\",\"#a2d9a4\",\"#dd4a4c\",\"#5ab4ab\",\"#4471b2\",\"#b81e48\",\"#feeda1\",\"#fee593\",\"#fba35c\",\"#fdb365\",\"#d9444d\",\"#c3e79f\",\"#feca79\",\"#edf8a3\",\"#fdc372\",\"#f57748\",\"#f06744\",\"#fee797\",\"#ea5e47\",\"#ea5e47\",\"#e95c47\",\"#81cda5\",\"#ed6246\",\"#cdeb9d\",\"#bc2249\",\"#fee797\",\"#fb9d59\",\"#3585bb\",\"#fff6b0\",\"#e3534a\",\"#ecf7a1\",\"#466eb1\",\"#b1dfa3\",\"#bae3a1\",\"#e2514a\",\"#f6fbb0\",\"#fed683\",\"#99d6a4\",\"#ee6445\",\"#f06744\",\"#f98e52\",\"#d6ee9b\",\"#ed6246\",\"#b61b48\",\"#a90d45\",\"#feeda1\",\"#b1dfa3\",\"#74c7a5\",\"#edf8a3\",\"#be254a\",\"#f67a49\",\"#d8434e\",\"#76c8a5\",\"#525fa9\",\"#81cda5\",\"#ad1246\",\"#fba35c\",\"#fcfeba\",\"#c52c4b\",\"#fee28f\",\"#fdaf62\",\"#acdda4\",\"#545ca8\",\"#5c51a3\",\"#f67c4a\",\"#fca85e\",\"#fffebe\",\"#6ec5a5\",\"#df4e4b\",\"#4e63ac\",\"#fed683\",\"#5cb7aa\",\"#378ebb\",\"#a4daa4\",\"#d9444d\",\"#fefebd\",\"#f7fcb2\",\"#ee6445\",\"#fffab6\",\"#f57748\",\"#f8fcb4\",\"#54aead\",\"#54aead\",\"#66c2a5\",\"#71c6a5\",\"#5eb9a9\",\"#b61b48\",\"#fee28f\",\"#69c3a5\",\"#a20643\",\"#ffffbe\",\"#56b0ad\",\"#47a0b3\",\"#bce4a0\",\"#eaf79e\",\"#4d65ad\",\"#bae3a1\",\"#49a2b2\",\"#fdb365\",\"#555aa7\",\"#4ea7b0\",\"#76c8a5\",\"#c9314c\",\"#8cd1a4\",\"#5ab4ab\",\"#fdaf62\",\"#99d6a4\",\"#fed683\",\"#fee593\",\"#69c3a5\",\"#ecf7a1\",\"#94d4a4\",\"#fee491\",\"#f5fbaf\",\"#69c3a5\",\"#e6f598\",\"#66c2a5\",\"#d43d4f\",\"#fecc7b\",\"#496aaf\",\"#6ec5a5\",\"#df4e4b\",\"#a2d9a4\",\"#fee999\",\"#feca79\",\"#fefebd\",\"#feda86\",\"#8fd2a4\",\"#c6e89f\",\"#fdb768\",\"#439bb5\",\"#52abae\",\"#8fd2a4\",\"#69c3a5\",\"#fede89\",\"#fbfdb8\",\"#fa9857\",\"#fa9857\",\"#7ecca5\",\"#bce4a0\",\"#f8864f\",\"#fffebe\",\"#3f77b5\",\"#fee28f\",\"#f8864f\",\"#fee593\",\"#d7414e\",\"#e2514a\",\"#fff8b4\",\"#3387bc\",\"#f47044\",\"#4ea7b0\",\"#47a0b3\",\"#ef6645\",\"#feeb9d\",\"#545ca8\",\"#dd4a4c\",\"#a20643\",\"#e1f399\",\"#89d0a4\",\"#fffdbc\",\"#f7844e\",\"#f46d43\",\"#fcaa5f\",\"#bce4a0\",\"#fafdb7\",\"#de4c4b\",\"#e85b48\",\"#555aa7\",\"#94d4a4\",\"#b8e2a1\",\"#74c7a5\",\"#c1e6a0\",\"#ecf7a1\",\"#fed27f\",\"#99d6a4\",\"#e85b48\",\"#97d5a4\",\"#5cb7aa\",\"#edf8a3\",\"#b8e2a1\",\"#a4daa4\",\"#f7844e\",\"#81cda5\",\"#fdaf62\",\"#b81e48\",\"#a20643\",\"#ea5e47\",\"#e45549\",\"#f46d43\",\"#89d0a4\",\"#fee593\",\"#fca55d\",\"#feda86\",\"#c1274a\",\"#e6f598\",\"#3b7cb7\",\"#fbfdb8\",\"#89d0a4\",\"#f46d43\",\"#fdb163\",\"#f67a49\",\"#8fd2a4\",\"#fbfdb8\",\"#fec877\",\"#a00343\",\"#4b68ae\",\"#56b0ad\",\"#66c2a5\",\"#ea5e47\",\"#eaf79e\",\"#fdbb6c\",\"#c1e6a0\",\"#fee593\",\"#c3e79f\",\"#f67c4a\",\"#caea9e\",\"#c3e79f\",\"#fff8b4\",\"#f7844e\",\"#fee491\",\"#fff8b4\",\"#f67a49\",\"#4199b6\",\"#caea9e\",\"#fee08b\",\"#f36b43\",\"#8fd2a4\",\"#64c0a6\",\"#5c51a3\",\"#5ab4ab\",\"#fcfeba\",\"#ea5e47\",\"#caea9e\",\"#d8ef9b\",\"#f8864f\",\"#e85b48\",\"#caea9e\",\"#fffab6\",\"#3585bb\",\"#5956a5\",\"#fedc88\",\"#f8fcb4\",\"#e9f69d\",\"#a00343\",\"#f2faaa\",\"#f47044\",\"#fee28f\",\"#fff8b4\",\"#3d79b6\",\"#81cda5\",\"#e6f598\",\"#6ec5a5\",\"#feea9b\",\"#fafdb7\",\"#fee28f\",\"#f8864f\",\"#e55749\",\"#47a0b3\",\"#fee999\",\"#b81e48\",\"#9e0142\",\"#a7dba4\",\"#555aa7\",\"#feeda1\",\"#e8f69b\",\"#d0384e\",\"#f67c4a\",\"#5e4fa2\",\"#74c7a5\",\"#7ecca5\",\"#4ba4b1\",\"#99d6a4\",\"#dd4a4c\",\"#fb9d59\",\"#fca85e\",\"#f6fbb0\",\"#54aead\",\"#64c0a6\",\"#fdb365\",\"#4d65ad\",\"#7ecca5\",\"#545ca8\",\"#3682ba\",\"#3f97b7\",\"#54aead\",\"#d7414e\",\"#60bba8\",\"#fee797\",\"#fee08b\",\"#3682ba\",\"#a00343\",\"#f8fcb4\",\"#d43d4f\",\"#b5e1a2\",\"#d8434e\",\"#e95c47\",\"#c3e79f\",\"#e9f69d\",\"#e55749\",\"#525fa9\",\"#caea9e\",\"#fcfeba\",\"#f46d43\",\"#fa9b58\",\"#5eb9a9\",\"#f67c4a\",\"#496aaf\",\"#74c7a5\",\"#fdc574\",\"#fece7c\",\"#71c6a5\",\"#fdaf62\",\"#fed27f\",\"#b41947\",\"#fdb163\",\"#94d4a4\",\"#545ca8\",\"#fb9d59\",\"#3f97b7\",\"#e6f598\",\"#e55749\",\"#f98e52\",\"#fdb768\",\"#b81e48\",\"#fbfdb8\",\"#f3faac\",\"#3585bb\",\"#60bba8\",\"#eaf79e\",\"#97d5a4\",\"#a4daa4\",\"#edf8a3\",\"#fede89\",\"#525fa9\",\"#ed6246\",\"#3682ba\",\"#daf09a\",\"#dd4a4c\",\"#9e0142\",\"#378ebb\",\"#7ccaa5\",\"#fece7c\",\"#c72e4c\",\"#ef6645\",\"#fecc7b\",\"#fffab6\",\"#fee999\",\"#e3534a\",\"#3b7cb7\",\"#f7814c\",\"#4471b2\",\"#fdb365\",\"#fed683\",\"#fdaf62\",\"#b81e48\",\"#eef8a4\",\"#da464d\",\"#bae3a1\",\"#fdb365\",\"#f57748\",\"#d23a4e\",\"#fdc372\",\"#ad1246\",\"#60bba8\",\"#5b53a4\",\"#8fd2a4\",\"#69c3a5\",\"#b5e1a2\",\"#fff5ae\",\"#fdb96a\",\"#555aa7\",\"#fee28f\",\"#7ccaa5\",\"#f1f9a9\",\"#fff5ae\",\"#d9444d\",\"#71c6a5\",\"#74c7a5\",\"#3b7cb7\",\"#fece7c\",\"#edf8a3\",\"#fff3ac\",\"#fee999\",\"#5cb7aa\",\"#cb334d\",\"#fee08b\",\"#4199b6\",\"#fa9857\",\"#fdaf62\",\"#f46d43\",\"#3f77b5\",\"#f67a49\",\"#5ab4ab\",\"#fed481\",\"#f7844e\",\"#3682ba\",\"#3a7eb8\",\"#fdbb6c\",\"#fba35c\",\"#d9444d\",\"#5ab4ab\",\"#69c3a5\",\"#ee6445\",\"#4e63ac\",\"#76c8a5\",\"#60bba8\",\"#fff2aa\",\"#fee491\",\"#f46d43\",\"#6ec5a5\",\"#81cda5\",\"#f6fbb0\",\"#fecc7b\",\"#f06744\",\"#fefebd\",\"#e45549\",\"#fecc7b\",\"#eff9a6\",\"#76c8a5\",\"#f06744\",\"#d1ed9c\",\"#fca55d\",\"#bae3a1\",\"#a7dba4\",\"#cfec9d\",\"#3f77b5\",\"#fdbd6d\",\"#3f97b7\",\"#97d5a4\",\"#fed27f\",\"#6ec5a5\",\"#a90d45\",\"#fff5ae\",\"#69c3a5\",\"#be254a\",\"#b1dfa3\",\"#56b0ad\",\"#b41947\",\"#4ea7b0\",\"#e3534a\",\"#f7814c\",\"#feefa3\",\"#f8864f\",\"#54aead\",\"#c3e79f\",\"#d8ef9b\",\"#c1274a\",\"#f7814c\",\"#4471b2\",\"#edf8a3\",\"#fdb163\",\"#f36b43\",\"#fede89\",\"#4273b3\",\"#d0384e\",\"#5e4fa2\",\"#555aa7\",\"#f67a49\",\"#f67a49\",\"#f57748\",\"#f99355\",\"#feeb9d\",\"#fff3ac\",\"#71c6a5\",\"#b41947\",\"#f7fcb2\",\"#3682ba\",\"#49a2b2\",\"#ad1246\",\"#f47044\",\"#f99153\",\"#fed481\",\"#f67a49\",\"#fee28f\",\"#3b92b9\",\"#f5fbaf\",\"#99d6a4\",\"#b61b48\",\"#dff299\",\"#54aead\",\"#76c8a5\",\"#3682ba\",\"#feeda1\",\"#49a2b2\",\"#b5e1a2\",\"#fdc372\",\"#4ea7b0\",\"#ecf7a1\",\"#fecc7b\",\"#e8f69b\",\"#fffbb8\",\"#5eb9a9\",\"#64c0a6\",\"#5ab4ab\",\"#e1f399\",\"#8fd2a4\",\"#f46d43\",\"#60bba8\",\"#eaf79e\",\"#9fd8a4\",\"#eff9a6\",\"#fffebe\",\"#fca55d\",\"#7ccaa5\",\"#f3faac\",\"#5ab4ab\",\"#fdbd6d\",\"#99d6a4\",\"#a2d9a4\",\"#d23a4e\",\"#fdc574\",\"#fff5ae\",\"#7ccaa5\",\"#de4c4b\",\"#e95c47\",\"#fdb163\",\"#fafdb7\",\"#d43d4f\",\"#76c8a5\",\"#4b68ae\",\"#cdeb9d\",\"#8cd1a4\",\"#feeda1\",\"#fece7c\",\"#feeda1\",\"#56b0ad\",\"#fa9857\",\"#fff0a6\",\"#8fd2a4\",\"#c72e4c\",\"#edf8a3\",\"#feda86\",\"#e6f598\",\"#fca85e\",\"#e55749\",\"#c72e4c\",\"#ef6645\",\"#fff0a6\",\"#d43d4f\",\"#81cda5\",\"#fcfeba\",\"#4d65ad\",\"#3682ba\",\"#fdb365\",\"#feea9b\",\"#a4daa4\",\"#b81e48\",\"#f7fcb2\",\"#fdb163\",\"#71c6a5\",\"#fff0a6\",\"#74c7a5\",\"#eaf79e\",\"#b8e2a1\",\"#fee08b\",\"#49a2b2\",\"#df4e4b\",\"#f67a49\",\"#f99355\",\"#a00343\",\"#fee08b\",\"#f7814c\",\"#fca55d\",\"#fee593\",\"#4b68ae\",\"#b1dfa3\",\"#c6e89f\",\"#fee797\",\"#e95c47\",\"#fede89\",\"#feda86\",\"#cb334d\",\"#66c2a5\",\"#f46d43\",\"#caea9e\",\"#b11747\",\"#fffbb8\",\"#e3534a\",\"#f98e52\",\"#fee999\",\"#f57547\",\"#fa9857\",\"#fff2aa\",\"#f47044\",\"#e1f399\",\"#555aa7\",\"#358bbc\",\"#f8fcb4\",\"#4e63ac\",\"#eef8a4\",\"#76c8a5\",\"#dd4a4c\",\"#56b0ad\",\"#fff8b4\",\"#f46d43\",\"#9e0142\",\"#da464d\",\"#b11747\",\"#fff6b0\",\"#cdeb9d\",\"#f98e52\",\"#f1f9a9\",\"#ecf7a1\",\"#5c51a3\",\"#f47044\",\"#71c6a5\",\"#c1274a\",\"#fffebe\",\"#ab0f45\",\"#f2faaa\",\"#94d4a4\",\"#a2d9a4\",\"#b81e48\",\"#3387bc\",\"#e6f598\",\"#d6ee9b\",\"#3990ba\",\"#eff9a6\",\"#f06744\",\"#fdc372\",\"#d23a4e\",\"#fff0a6\",\"#eff9a6\",\"#dff299\",\"#fed27f\",\"#5c51a3\",\"#d8434e\",\"#ffffbe\",\"#f99153\",\"#a4daa4\",\"#ab0f45\",\"#fdb365\",\"#fdc574\",\"#b81e48\",\"#feca79\",\"#ef6645\",\"#5ab4ab\",\"#b8e2a1\",\"#fee08b\",\"#4199b6\",\"#4273b3\",\"#feeb9d\",\"#3387bc\",\"#5956a5\",\"#feefa3\",\"#fb9d59\",\"#feefa3\",\"#64c0a6\",\"#7ccaa5\",\"#99d6a4\",\"#71c6a5\",\"#3b7cb7\",\"#97d5a4\",\"#4e63ac\",\"#fafdb7\",\"#86cfa5\",\"#fdbb6c\",\"#5c51a3\",\"#52abae\",\"#ee6445\",\"#e9f69d\",\"#f98e52\",\"#fffebe\",\"#3f97b7\",\"#f57748\",\"#d8434e\",\"#feeda1\",\"#52abae\",\"#fff0a6\",\"#496aaf\",\"#e1f399\",\"#a7dba4\",\"#de4c4b\",\"#eff9a6\",\"#a4daa4\",\"#f7814c\",\"#5e4fa2\",\"#e4f498\",\"#4199b6\",\"#fee999\",\"#c9314c\",\"#3585bb\",\"#f2faaa\",\"#fdaf62\",\"#fee08b\",\"#a00343\",\"#fffbb8\",\"#f98e52\",\"#fffab6\",\"#fdaf62\",\"#b11747\",\"#fff8b4\",\"#f2faaa\",\"#54aead\",\"#f1f9a9\",\"#feeda1\",\"#3585bb\",\"#f3faac\",\"#a7dba4\",\"#f7844e\",\"#4e63ac\",\"#97d5a4\",\"#f99153\",\"#d8ef9b\",\"#99d6a4\",\"#c3e79f\",\"#54aead\",\"#b81e48\",\"#fff0a6\",\"#fff2aa\",\"#fff6b0\",\"#555aa7\",\"#e6f598\",\"#caea9e\",\"#4471b2\",\"#ecf7a1\",\"#a90d45\",\"#e6f598\",\"#c6e89f\",\"#fcfeba\",\"#5c51a3\",\"#fff5ae\",\"#f6fbb0\",\"#fdc171\",\"#3387bc\",\"#4d65ad\",\"#f6fbb0\",\"#a20643\",\"#3d79b6\",\"#fff8b4\",\"#fecc7b\",\"#e4f498\",\"#49a2b2\",\"#3682ba\",\"#4199b6\",\"#8cd1a4\",\"#aedea3\",\"#66c2a5\",\"#b8e2a1\",\"#fbfdb8\",\"#f5fbaf\",\"#fdbd6d\",\"#fdb768\",\"#e95c47\",\"#7ccaa5\",\"#3387bc\",\"#d7414e\",\"#4d65ad\",\"#ee6445\",\"#b81e48\",\"#76c8a5\",\"#4e63ac\",\"#e55749\",\"#f2faaa\",\"#378ebb\",\"#da464d\",\"#545ca8\",\"#fee28f\",\"#fca85e\",\"#3a7eb8\",\"#fcfeba\",\"#fdbb6c\",\"#fcfeba\",\"#f06744\",\"#555aa7\",\"#525fa9\",\"#7ecca5\",\"#fdc171\",\"#8cd1a4\",\"#f99153\",\"#c1e6a0\",\"#fedc88\",\"#bc2249\",\"#ed6246\",\"#fee999\",\"#a40844\",\"#f67c4a\",\"#b11747\",\"#f3faac\",\"#4273b3\",\"#3d79b6\",\"#f57748\",\"#e95c47\",\"#b61b48\",\"#f46d43\",\"#ecf7a1\",\"#c9314c\",\"#c1274a\",\"#e2514a\",\"#fca55d\",\"#4471b2\",\"#fff5ae\",\"#496aaf\",\"#3f77b5\",\"#f2faaa\",\"#4471b2\",\"#fdb96a\",\"#fdbd6d\",\"#de4c4b\",\"#e85b48\",\"#fed481\",\"#fdc372\",\"#fff8b4\",\"#f67a49\",\"#4ea7b0\",\"#ab0f45\",\"#fdb768\",\"#feea9b\",\"#fee593\",\"#b41947\",\"#ffffbe\",\"#da464d\",\"#df4e4b\",\"#3a7eb8\",\"#d6ee9b\",\"#a00343\",\"#fede89\",\"#fee28f\",\"#76c8a5\",\"#496aaf\",\"#fff0a6\",\"#54aead\",\"#52abae\",\"#ea5e47\",\"#d8ef9b\",\"#49a2b2\",\"#c9314c\",\"#e6f598\",\"#da464d\",\"#3d79b6\",\"#81cda5\",\"#fcaa5f\",\"#fdc372\",\"#fca55d\",\"#f3faac\",\"#fec877\",\"#fee491\",\"#60bba8\",\"#7ecca5\",\"#ffffbe\",\"#c52c4b\",\"#fff0a6\",\"#f88c51\",\"#fec877\",\"#cfec9d\",\"#fecc7b\",\"#fa9b58\",\"#a00343\",\"#e2514a\",\"#d8434e\",\"#feeb9d\",\"#b1dfa3\",\"#f7844e\",\"#378ebb\",\"#ea5e47\",\"#feca79\",\"#71c6a5\",\"#fed683\",\"#f98e52\",\"#e45549\",\"#99d6a4\",\"#fdbb6c\",\"#f36b43\",\"#fafdb7\",\"#f3faac\",\"#4e63ac\",\"#86cfa5\",\"#feeda1\",\"#f99153\",\"#cdeb9d\",\"#545ca8\",\"#3990ba\",\"#81cda5\",\"#acdda4\",\"#f57547\",\"#df4e4b\",\"#7ecca5\",\"#4b68ae\",\"#e95c47\",\"#4b68ae\",\"#fca55d\",\"#3387bc\",\"#4e63ac\",\"#b8e2a1\",\"#e55749\",\"#fff6b0\",\"#eff9a6\",\"#fca55d\",\"#c52c4b\",\"#8cd1a4\",\"#3990ba\",\"#fdc372\",\"#fca55d\",\"#e95c47\",\"#4ba4b1\",\"#439bb5\",\"#f6fbb0\",\"#f6fbb0\",\"#fee08b\",\"#f7844e\",\"#fa9b58\",\"#378ebb\",\"#fed683\",\"#3b92b9\",\"#5c51a3\",\"#fee593\",\"#f99355\",\"#fdc372\",\"#ee6445\",\"#b61b48\",\"#d23a4e\",\"#df4e4b\",\"#74c7a5\",\"#3b7cb7\",\"#f67a49\",\"#feca79\",\"#feda86\",\"#f88c51\",\"#f8fcb4\",\"#fffbb8\",\"#feea9b\",\"#4199b6\",\"#f47044\",\"#a90d45\",\"#a7dba4\",\"#feda86\",\"#ffffbe\",\"#edf8a3\",\"#c52c4b\",\"#d43d4f\",\"#edf8a3\",\"#eff9a6\",\"#fff6b0\",\"#f47044\",\"#fff8b4\",\"#4e63ac\",\"#fff6b0\",\"#fff2aa\",\"#f8fcb4\",\"#ecf7a1\",\"#fee08b\",\"#5c51a3\",\"#feca79\",\"#a90d45\",\"#d8ef9b\",\"#eef8a4\",\"#eef8a4\",\"#5e4fa2\",\"#e4f498\",\"#fedc88\",\"#64c0a6\",\"#fff0a6\",\"#e9f69d\",\"#f88c51\",\"#fff6b0\",\"#3d79b6\",\"#fee08b\",\"#b8e2a1\",\"#ed6246\",\"#69c3a5\",\"#3f77b5\",\"#fee797\",\"#52abae\",\"#e8f69b\",\"#69c3a5\",\"#ed6246\",\"#f67a49\",\"#da464d\",\"#f36b43\",\"#545ca8\",\"#f2faaa\",\"#cb334d\",\"#ea5e47\",\"#f46d43\",\"#d8434e\",\"#69c3a5\",\"#525fa9\",\"#3a7eb8\",\"#ef6645\",\"#ee6445\",\"#cb334d\",\"#466eb1\",\"#f67c4a\",\"#4273b3\",\"#f98e52\",\"#54aead\",\"#5cb7aa\",\"#b1dfa3\",\"#b61b48\",\"#d1ed9c\",\"#fece7c\",\"#b1dfa3\",\"#fb9d59\",\"#fff5ae\",\"#f8fcb4\",\"#f3faac\",\"#49a2b2\",\"#71c6a5\",\"#f7fcb2\",\"#fcaa5f\",\"#fca55d\",\"#c52c4b\",\"#49a2b2\",\"#525fa9\",\"#e1f399\",\"#e4f498\",\"#f67a49\",\"#fffebe\",\"#c52c4b\",\"#f67a49\",\"#66c2a5\",\"#8cd1a4\",\"#9e0142\",\"#e6f598\",\"#fff0a6\",\"#7ecca5\",\"#fee999\",\"#d9444d\",\"#ffffbe\",\"#fece7c\",\"#e9f69d\",\"#3f77b5\",\"#bc2249\",\"#d23a4e\",\"#fdaf62\",\"#c9314c\",\"#f46d43\",\"#fee08b\",\"#fca85e\",\"#feeb9d\",\"#e8f69b\",\"#fcaa5f\",\"#4ea7b0\",\"#71c6a5\",\"#e55749\",\"#de4c4b\",\"#4d65ad\",\"#be254a\",\"#f88c51\",\"#f57547\",\"#dff299\",\"#e45549\",\"#fee797\",\"#fff2aa\",\"#d7414e\",\"#fdbb6c\",\"#feea9b\",\"#f3faac\",\"#9e0142\",\"#d23a4e\",\"#ad1246\",\"#d43d4f\",\"#fed683\",\"#ee6445\",\"#b11747\",\"#e9f69d\",\"#d1ed9c\",\"#fedc88\",\"#e1f399\",\"#e9f69d\",\"#f2faaa\",\"#fa9857\",\"#9fd8a4\",\"#fdc372\",\"#e45549\",\"#9e0142\",\"#3682ba\",\"#bc2249\",\"#eaf79e\",\"#5e4fa2\",\"#5956a5\",\"#9fd8a4\",\"#fed481\",\"#f46d43\",\"#76c8a5\",\"#feeda1\",\"#fa9857\",\"#b8e2a1\",\"#fffbb8\",\"#358bbc\",\"#fee28f\",\"#f47044\",\"#d9444d\",\"#fdb365\",\"#f2faaa\",\"#7ecca5\",\"#e4f498\",\"#f46d43\",\"#e85b48\",\"#7ecca5\",\"#f98e52\",\"#fdaf62\",\"#86cfa5\",\"#fbfdb8\",\"#74c7a5\",\"#bce4a0\",\"#fed683\",\"#54aead\",\"#fffbb8\",\"#f7814c\",\"#3f97b7\",\"#8fd2a4\",\"#c3e79f\",\"#66c2a5\",\"#cb334d\",\"#f67c4a\",\"#3990ba\",\"#feeda1\",\"#cdeb9d\",\"#b41947\",\"#fdc574\",\"#de4c4b\",\"#3a7eb8\",\"#cdeb9d\",\"#97d5a4\",\"#d7414e\",\"#b8e2a1\",\"#b1dfa3\",\"#d9444d\",\"#f99153\",\"#ad1246\",\"#f57547\",\"#bae3a1\",\"#caea9e\",\"#fdbb6c\",\"#e8f69b\",\"#f06744\",\"#caea9e\",\"#feca79\",\"#a7dba4\",\"#3d79b6\",\"#b81e48\",\"#56b0ad\",\"#4d65ad\",\"#cfec9d\",\"#feeda1\",\"#d7414e\",\"#e3534a\",\"#76c8a5\",\"#a00343\",\"#d6ee9b\",\"#f5fbaf\",\"#fff2aa\",\"#f99355\",\"#4ea7b0\",\"#fdbb6c\",\"#54aead\",\"#89d0a4\",\"#fafdb7\",\"#f7844e\",\"#545ca8\",\"#c6e89f\",\"#fffdbc\",\"#fdc372\",\"#49a2b2\",\"#47a0b3\",\"#e85b48\",\"#fca55d\",\"#e2514a\",\"#fece7c\",\"#fb9d59\",\"#fafdb7\",\"#c52c4b\",\"#f36b43\",\"#fa9857\",\"#3f97b7\",\"#a00343\",\"#555aa7\",\"#358bbc\",\"#eef8a4\",\"#fdbd6d\",\"#47a0b3\",\"#66c2a5\",\"#8fd2a4\",\"#d6ee9b\",\"#466eb1\",\"#f2faaa\",\"#3b92b9\",\"#feeb9d\",\"#5b53a4\",\"#97d5a4\",\"#c52c4b\",\"#a2d9a4\",\"#f47044\",\"#8fd2a4\",\"#4ba4b1\",\"#fed27f\",\"#86cfa5\",\"#fdc171\",\"#feeb9d\",\"#ecf7a1\",\"#fede89\",\"#fdb768\",\"#fdb163\",\"#439bb5\",\"#d8434e\",\"#fdc171\",\"#99d6a4\",\"#ffffbe\",\"#f99355\",\"#f7fcb2\",\"#fdb163\",\"#99d6a4\",\"#aedea3\",\"#feca79\",\"#fece7c\",\"#fcaa5f\",\"#ab0f45\",\"#f7fcb2\",\"#f8fcb4\",\"#3682ba\",\"#3b92b9\",\"#6ec5a5\",\"#69c3a5\",\"#a2d9a4\",\"#feefa3\",\"#3f77b5\",\"#b61b48\",\"#fdaf62\",\"#3f97b7\",\"#f3faac\",\"#feeda1\",\"#ed6246\",\"#ea5e47\",\"#525fa9\",\"#ea5e47\",\"#b8e2a1\",\"#a40844\",\"#fafdb7\",\"#fdb163\",\"#fdc372\",\"#378ebb\",\"#3b7cb7\",\"#fedc88\",\"#f8864f\",\"#fcaa5f\",\"#d8434e\",\"#ecf7a1\",\"#60bba8\",\"#d7414e\",\"#bce4a0\",\"#e45549\",\"#5956a5\",\"#e2514a\",\"#c72e4c\",\"#3f77b5\",\"#d6ee9b\",\"#fdc171\",\"#e95c47\",\"#d43d4f\",\"#bce4a0\",\"#feca79\",\"#fee08b\",\"#71c6a5\",\"#c72e4c\",\"#e45549\",\"#e85b48\",\"#378ebb\",\"#d0384e\",\"#e6f598\",\"#c9314c\",\"#dff299\",\"#feea9b\",\"#cfec9d\",\"#fca85e\",\"#3b92b9\",\"#f7844e\",\"#fdbb6c\",\"#e95c47\",\"#71c6a5\",\"#c1274a\",\"#fff6b0\",\"#5e4fa2\",\"#fedc88\",\"#f1f9a9\",\"#e85b48\",\"#56b0ad\",\"#cfec9d\",\"#3a7eb8\",\"#bc2249\",\"#fdc171\",\"#e45549\",\"#86cfa5\",\"#eff9a6\",\"#a7dba4\",\"#d7414e\",\"#fdc171\",\"#d9444d\",\"#3682ba\",\"#3a7eb8\",\"#f8fcb4\",\"#fa9b58\",\"#545ca8\",\"#fece7c\",\"#fec877\",\"#de4c4b\",\"#a40844\",\"#d8ef9b\",\"#64c0a6\",\"#daf09a\",\"#60bba8\",\"#aedea3\",\"#e95c47\",\"#de4c4b\",\"#81cda5\",\"#fff3ac\",\"#fffebe\",\"#b1dfa3\",\"#f57748\",\"#cb334d\",\"#f36b43\",\"#fffebe\",\"#4ba4b1\",\"#fffebe\",\"#b41947\",\"#fecc7b\",\"#fdb96a\",\"#a00343\",\"#7ccaa5\",\"#fefebd\",\"#bc2249\",\"#eef8a4\",\"#feca79\",\"#da464d\",\"#fdbb6c\",\"#fdb163\",\"#358bbc\",\"#d0384e\",\"#eaf79e\",\"#f67a49\",\"#fff0a6\",\"#be254a\",\"#3b7cb7\",\"#ed6246\",\"#f8fcb4\",\"#f06744\",\"#fdc171\",\"#c6e89f\",\"#c1e6a0\",\"#fdb96a\",\"#fece7c\",\"#3f97b7\",\"#e55749\",\"#fbfdb8\",\"#e95c47\",\"#fca55d\",\"#3f97b7\",\"#4471b2\",\"#a7dba4\",\"#f5fbaf\",\"#3b92b9\",\"#7ccaa5\",\"#4199b6\",\"#fedc88\",\"#feea9b\",\"#f8864f\",\"#f06744\",\"#feefa3\",\"#fbfdb8\",\"#49a2b2\",\"#76c8a5\",\"#f36b43\",\"#d0384e\",\"#d23a4e\",\"#caea9e\",\"#4273b3\",\"#c1e6a0\",\"#e95c47\",\"#ecf7a1\",\"#89d0a4\",\"#4273b3\",\"#fec877\",\"#feeb9d\",\"#fee797\",\"#94d4a4\",\"#a2d9a4\",\"#c1274a\",\"#d6ee9b\",\"#81cda5\",\"#3b7cb7\",\"#f1f9a9\",\"#ecf7a1\",\"#fca55d\",\"#e9f69d\",\"#cfec9d\",\"#d0384e\",\"#56b0ad\",\"#fed481\",\"#47a0b3\",\"#3d79b6\",\"#fec877\",\"#c3e79f\",\"#ecf7a1\",\"#9fd8a4\",\"#df4e4b\",\"#f5fbaf\",\"#d6ee9b\",\"#fb9d59\",\"#f8fcb4\",\"#ecf7a1\",\"#f46d43\",\"#5cb7aa\",\"#e6f598\",\"#eef8a4\",\"#f06744\",\"#3d79b6\",\"#e9f69d\",\"#fece7c\",\"#fffab6\",\"#de4c4b\",\"#3b92b9\",\"#feea9b\",\"#b11747\",\"#e2514a\",\"#b81e48\",\"#74c7a5\",\"#81cda5\",\"#eef8a4\",\"#fff8b4\",\"#fecc7b\",\"#e3534a\",\"#b5e1a2\",\"#da464d\",\"#feda86\",\"#4ea7b0\",\"#fee28f\",\"#64c0a6\",\"#f06744\",\"#76c8a5\",\"#edf8a3\",\"#47a0b3\",\"#fed683\",\"#f57748\",\"#fed481\",\"#555aa7\",\"#ed6246\",\"#f5fbaf\",\"#feda86\",\"#5ab4ab\",\"#ea5e47\",\"#df4e4b\",\"#fffdbc\",\"#fecc7b\",\"#c6e89f\",\"#69c3a5\",\"#9fd8a4\",\"#9e0142\",\"#bc2249\",\"#c6e89f\",\"#eff9a6\",\"#d23a4e\",\"#4471b2\",\"#a20643\",\"#f6fbb0\",\"#fffdbc\",\"#e9f69d\",\"#555aa7\",\"#fee28f\",\"#bc2249\",\"#feda86\",\"#f98e52\",\"#fedc88\",\"#fcfeba\",\"#5e4fa2\",\"#c3e79f\",\"#e9f69d\",\"#69c3a5\",\"#fdc171\",\"#3b92b9\",\"#f57748\",\"#3f77b5\",\"#f1f9a9\",\"#3585bb\",\"#eff9a6\",\"#fec877\",\"#eff9a6\",\"#54aead\",\"#fee491\",\"#f99355\",\"#3387bc\",\"#feda86\",\"#bae3a1\",\"#94d4a4\",\"#f7844e\",\"#3b92b9\",\"#ea5e47\",\"#fff5ae\",\"#47a0b3\",\"#4471b2\",\"#f98e52\",\"#f6fbb0\",\"#8cd1a4\",\"#3585bb\",\"#525fa9\",\"#7ecca5\",\"#d23a4e\",\"#5b53a4\",\"#378ebb\",\"#4b68ae\",\"#64c0a6\",\"#c9314c\",\"#4ba4b1\",\"#d1ed9c\",\"#f99153\",\"#4ea7b0\",\"#f99355\",\"#97d5a4\",\"#f5fbaf\",\"#97d5a4\",\"#3990ba\",\"#60bba8\",\"#545ca8\",\"#fffab6\",\"#fcaa5f\",\"#b61b48\",\"#f57547\",\"#ecf7a1\",\"#f46d43\",\"#fdbb6c\",\"#fcfeba\",\"#3585bb\",\"#b11747\",\"#f57748\",\"#54aead\",\"#b61b48\",\"#5ab4ab\",\"#69c3a5\",\"#ea5e47\",\"#d43d4f\",\"#a7dba4\",\"#caea9e\",\"#fecc7b\",\"#74c7a5\",\"#fafdb7\",\"#e45549\",\"#c1274a\",\"#9e0142\",\"#fbfdb8\",\"#439bb5\",\"#b5e1a2\",\"#e85b48\",\"#466eb1\",\"#ea5e47\",\"#dff299\",\"#fdbb6c\",\"#5ab4ab\",\"#fee797\",\"#f3faac\",\"#b11747\",\"#eaf79e\",\"#e85b48\",\"#df4e4b\",\"#525fa9\",\"#fecc7b\",\"#cfec9d\",\"#cdeb9d\",\"#dd4a4c\",\"#378ebb\",\"#fa9b58\",\"#fed481\",\"#fff0a6\",\"#d43d4f\",\"#f7814c\",\"#c72e4c\",\"#f57547\",\"#fbfdb8\",\"#fedc88\",\"#fee491\",\"#acdda4\",\"#49a2b2\",\"#a40844\",\"#99d6a4\",\"#da464d\",\"#fed683\",\"#f47044\",\"#4199b6\",\"#c52c4b\",\"#ab0f45\",\"#f99153\",\"#47a0b3\",\"#4ba4b1\",\"#9fd8a4\",\"#c72e4c\",\"#ed6246\",\"#f47044\",\"#c1274a\",\"#f36b43\",\"#f8864f\",\"#3b7cb7\",\"#4199b6\",\"#f06744\",\"#daf09a\",\"#e6f598\",\"#a00343\",\"#eaf79e\",\"#5cb7aa\",\"#7ecca5\",\"#a00343\",\"#4d65ad\",\"#a4daa4\",\"#daf09a\",\"#de4c4b\",\"#4ea7b0\",\"#a00343\",\"#d0384e\",\"#f47044\",\"#fbfdb8\",\"#71c6a5\",\"#f57748\",\"#47a0b3\",\"#fdb96a\",\"#fdbd6d\",\"#b5e1a2\",\"#f57748\",\"#fb9d59\",\"#71c6a5\",\"#cfec9d\",\"#bce4a0\",\"#f47044\",\"#f67c4a\",\"#fff2aa\",\"#5cb7aa\",\"#fee08b\",\"#feefa3\",\"#bce4a0\",\"#cdeb9d\",\"#fba35c\",\"#fdb768\",\"#da464d\",\"#fdb365\",\"#b61b48\",\"#fed481\",\"#da464d\",\"#94d4a4\",\"#ea5e47\",\"#daf09a\",\"#fdb163\",\"#feeda1\",\"#545ca8\",\"#86cfa5\",\"#d43d4f\",\"#3b92b9\",\"#d7414e\",\"#466eb1\",\"#fdaf62\",\"#daf09a\",\"#3b7cb7\",\"#c72e4c\",\"#fdb96a\",\"#8cd1a4\",\"#fa9857\",\"#ea5e47\",\"#fdc574\",\"#cfec9d\",\"#feca79\",\"#feda86\",\"#c1274a\",\"#b8e2a1\",\"#439bb5\",\"#b41947\",\"#7ccaa5\",\"#a40844\",\"#466eb1\",\"#de4c4b\",\"#378ebb\",\"#dd4a4c\",\"#81cda5\",\"#ffffbe\",\"#3990ba\",\"#5956a5\",\"#fca85e\",\"#fff3ac\",\"#bce4a0\",\"#fffdbc\",\"#dd4a4c\",\"#c1274a\",\"#fa9857\",\"#f57748\",\"#fba35c\",\"#99d6a4\",\"#fa9857\",\"#9fd8a4\",\"#7ccaa5\",\"#fdb768\",\"#da464d\",\"#fdc372\",\"#e8f69b\",\"#a90d45\",\"#f7fcb2\",\"#d8ef9b\",\"#a40844\",\"#fede89\",\"#69c3a5\",\"#f47044\",\"#feda86\",\"#525fa9\",\"#feefa3\",\"#f98e52\",\"#fede89\",\"#fff2aa\",\"#feeb9d\",\"#e8f69b\",\"#daf09a\",\"#fecc7b\",\"#b5e1a2\",\"#feefa3\",\"#ed6246\",\"#81cda5\",\"#c1274a\",\"#3f97b7\",\"#df4e4b\",\"#cdeb9d\",\"#fedc88\",\"#d8434e\",\"#ad1246\",\"#fee593\",\"#fdc171\",\"#daf09a\",\"#d0384e\",\"#be254a\",\"#3b92b9\",\"#e8f69b\",\"#f3faac\",\"#e3534a\",\"#d1ed9c\",\"#4199b6\",\"#fff3ac\",\"#c72e4c\",\"#4d65ad\",\"#71c6a5\",\"#fafdb7\",\"#86cfa5\",\"#a4daa4\",\"#acdda4\",\"#dff299\",\"#f98e52\",\"#fecc7b\",\"#ee6445\",\"#5956a5\",\"#dff299\",\"#f88c51\",\"#be254a\",\"#69c3a5\",\"#fed27f\",\"#f99153\",\"#5956a5\",\"#fed27f\",\"#3f77b5\",\"#97d5a4\",\"#f1f9a9\",\"#b5e1a2\",\"#fba35c\",\"#fdbb6c\",\"#7ccaa5\",\"#a40844\",\"#74c7a5\",\"#e55749\",\"#5cb7aa\",\"#5c51a3\",\"#fffbb8\",\"#525fa9\",\"#b11747\",\"#feeda1\",\"#f06744\",\"#b11747\",\"#5cb7aa\",\"#49a2b2\",\"#fffab6\",\"#fffdbc\",\"#5c51a3\",\"#e85b48\",\"#feca79\",\"#fee999\",\"#b81e48\",\"#4471b2\",\"#de4c4b\",\"#4199b6\",\"#d6ee9b\",\"#feefa3\",\"#fcaa5f\",\"#6ec5a5\",\"#5ab4ab\",\"#545ca8\",\"#c3e79f\",\"#f3faac\",\"#5eb9a9\",\"#3990ba\",\"#feeda1\",\"#3d79b6\",\"#fdbd6d\",\"#7ccaa5\",\"#dff299\",\"#66c2a5\",\"#3585bb\",\"#b41947\",\"#a2d9a4\",\"#fa9b58\",\"#fece7c\",\"#49a2b2\",\"#3b92b9\",\"#fee999\",\"#ee6445\",\"#f98e52\",\"#feca79\",\"#5ab4ab\",\"#f57748\",\"#5956a5\",\"#4b68ae\",\"#be254a\",\"#f7fcb2\",\"#d0384e\",\"#fed481\",\"#feeb9d\",\"#f99355\",\"#fff8b4\",\"#c1e6a0\",\"#4273b3\",\"#f57547\",\"#f2faaa\",\"#e4f498\",\"#e95c47\",\"#66c2a5\",\"#b11747\",\"#56b0ad\",\"#daf09a\",\"#fb9d59\",\"#4273b3\",\"#3f77b5\",\"#f7fcb2\",\"#d7414e\",\"#bce4a0\",\"#5eb9a9\",\"#8fd2a4\",\"#f88c51\",\"#f6fbb0\",\"#fdbd6d\",\"#f06744\",\"#eef8a4\",\"#466eb1\",\"#fed683\",\"#fff8b4\",\"#52abae\",\"#feda86\",\"#5ab4ab\",\"#5cb7aa\",\"#fec877\",\"#76c8a5\",\"#dd4a4c\",\"#be254a\",\"#acdda4\",\"#47a0b3\",\"#3f77b5\",\"#fa9b58\",\"#fff5ae\",\"#56b0ad\",\"#d1ed9c\",\"#fee28f\",\"#66c2a5\",\"#3387bc\",\"#5cb7aa\",\"#4ea7b0\",\"#fb9d59\",\"#f1f9a9\",\"#56b0ad\",\"#81cda5\",\"#a40844\",\"#99d6a4\",\"#5eb9a9\",\"#f99355\",\"#4273b3\",\"#df4e4b\",\"#4e63ac\",\"#f67c4a\",\"#525fa9\",\"#f67a49\",\"#d23a4e\",\"#d6ee9b\",\"#fec877\",\"#ad1246\",\"#c52c4b\",\"#64c0a6\",\"#f8fcb4\",\"#89d0a4\",\"#fafdb7\",\"#a20643\",\"#3d79b6\",\"#9fd8a4\",\"#a7dba4\",\"#4471b2\",\"#fcfeba\",\"#545ca8\",\"#54aead\",\"#bae3a1\",\"#feefa3\",\"#7ecca5\",\"#6ec5a5\",\"#aedea3\",\"#b61b48\",\"#f36b43\",\"#378ebb\",\"#378ebb\",\"#feca79\",\"#5ab4ab\",\"#f67a49\",\"#fdaf62\",\"#86cfa5\",\"#c52c4b\",\"#f5fbaf\",\"#fee08b\",\"#86cfa5\",\"#3585bb\",\"#fcaa5f\",\"#be254a\",\"#bae3a1\",\"#aedea3\",\"#fa9b58\",\"#d8ef9b\",\"#b61b48\",\"#ffffbe\",\"#f6fbb0\",\"#f7844e\",\"#5956a5\",\"#8cd1a4\",\"#ecf7a1\",\"#fffdbc\",\"#fdbb6c\",\"#ee6445\",\"#e85b48\",\"#f98e52\",\"#f6fbb0\",\"#b41947\",\"#fdb768\",\"#acdda4\",\"#545ca8\",\"#a4daa4\",\"#4199b6\",\"#eaf79e\",\"#3d79b6\",\"#e6f598\",\"#94d4a4\",\"#cb334d\",\"#f1f9a9\",\"#64c0a6\",\"#fedc88\",\"#b41947\",\"#fede89\",\"#fa9b58\",\"#fece7c\",\"#c52c4b\",\"#c72e4c\",\"#fede89\",\"#fed27f\",\"#fdb163\",\"#525fa9\",\"#a40844\",\"#f99153\",\"#545ca8\",\"#feea9b\",\"#fcfeba\",\"#f46d43\",\"#fdc574\",\"#acdda4\",\"#eaf79e\",\"#fede89\",\"#fff3ac\",\"#fede89\",\"#4e63ac\",\"#56b0ad\",\"#e45549\",\"#feca79\",\"#bc2249\",\"#54aead\",\"#feea9b\",\"#fbfdb8\",\"#cb334d\",\"#c3e79f\",\"#a4daa4\",\"#fee999\",\"#ffffbe\",\"#d7414e\",\"#c52c4b\",\"#dd4a4c\",\"#d23a4e\",\"#bae3a1\",\"#a4daa4\",\"#cdeb9d\",\"#fff0a6\",\"#acdda4\",\"#b11747\",\"#3d79b6\",\"#3585bb\",\"#f88c51\",\"#fa9b58\",\"#f2faaa\",\"#4b68ae\",\"#fdbd6d\",\"#f47044\",\"#4471b2\",\"#525fa9\",\"#4273b3\",\"#c1e6a0\",\"#5eb9a9\",\"#f2faaa\",\"#4471b2\",\"#d8ef9b\",\"#3387bc\",\"#fff2aa\",\"#fff5ae\",\"#d1ed9c\",\"#ad1246\",\"#fffebe\",\"#3682ba\",\"#da464d\",\"#fece7c\",\"#8fd2a4\",\"#fffebe\",\"#86cfa5\",\"#cfec9d\",\"#81cda5\",\"#74c7a5\",\"#e85b48\",\"#4199b6\",\"#be254a\",\"#f99355\",\"#feea9b\",\"#fffebe\",\"#fdb365\",\"#fdaf62\",\"#f8864f\",\"#eaf79e\",\"#d9444d\",\"#3585bb\",\"#3b7cb7\",\"#ef6645\",\"#eff9a6\",\"#fa9857\",\"#99d6a4\",\"#c9314c\",\"#5c51a3\",\"#e9f69d\",\"#feca79\",\"#fff2aa\",\"#fff0a6\",\"#caea9e\",\"#e45549\",\"#a7dba4\",\"#fff3ac\",\"#fee491\",\"#69c3a5\",\"#fede89\",\"#dff299\",\"#fff5ae\",\"#c1e6a0\",\"#fdb365\",\"#f46d43\",\"#358bbc\",\"#ffffbe\",\"#fdb96a\",\"#86cfa5\",\"#9fd8a4\",\"#feca79\",\"#f1f9a9\",\"#4e63ac\",\"#c1274a\",\"#ee6445\",\"#fba35c\",\"#eaf79e\",\"#fedc88\",\"#b61b48\",\"#f57748\",\"#525fa9\",\"#fee491\",\"#c1274a\",\"#fff0a6\",\"#d43d4f\",\"#3682ba\",\"#7ccaa5\",\"#ef6645\",\"#dff299\",\"#c6e89f\",\"#e6f598\",\"#f99153\",\"#3990ba\",\"#fed27f\",\"#466eb1\",\"#fefebd\",\"#4b68ae\",\"#66c2a5\",\"#b81e48\",\"#feefa3\",\"#d7414e\",\"#b41947\",\"#d0384e\",\"#c72e4c\",\"#6ec5a5\",\"#aedea3\",\"#fca55d\",\"#edf8a3\",\"#5956a5\",\"#fca85e\",\"#fece7c\",\"#e8f69b\",\"#97d5a4\",\"#fa9857\",\"#4b68ae\",\"#f98e52\",\"#fbfdb8\",\"#fdbb6c\",\"#4ba4b1\",\"#c1274a\",\"#dd4a4c\",\"#fee593\",\"#c3e79f\",\"#fba35c\",\"#fa9b58\",\"#c72e4c\",\"#f2faaa\",\"#f57547\",\"#ffffbe\",\"#5ab4ab\",\"#e9f69d\",\"#d23a4e\",\"#49a2b2\",\"#fdaf62\",\"#3b92b9\",\"#fdc574\",\"#fffebe\",\"#fee08b\",\"#4e63ac\",\"#dd4a4c\",\"#feeda1\",\"#d9444d\",\"#f47044\",\"#5b53a4\",\"#a40844\",\"#cb334d\",\"#f88c51\",\"#86cfa5\",\"#fffdbc\",\"#acdda4\",\"#d43d4f\",\"#da464d\",\"#f88c51\",\"#3387bc\",\"#76c8a5\",\"#e4f498\",\"#c9314c\",\"#acdda4\",\"#feeda1\",\"#d7414e\",\"#3990ba\",\"#e2514a\",\"#7ccaa5\",\"#ef6645\",\"#d6ee9b\",\"#f8864f\",\"#a00343\",\"#c9314c\",\"#d7414e\",\"#c1274a\",\"#7ccaa5\",\"#e85b48\",\"#5ab4ab\",\"#64c0a6\",\"#c3e79f\",\"#3990ba\",\"#f99153\",\"#f8fcb4\",\"#4e63ac\",\"#cdeb9d\",\"#fff5ae\",\"#4471b2\",\"#fdc574\",\"#47a0b3\",\"#dff299\",\"#5cb7aa\",\"#bc2249\",\"#bc2249\",\"#a4daa4\",\"#fedc88\",\"#97d5a4\",\"#76c8a5\",\"#f99355\",\"#fffbb8\",\"#ed6246\",\"#9fd8a4\",\"#f99153\",\"#3585bb\",\"#e1f399\",\"#fcfeba\",\"#fee999\",\"#86cfa5\",\"#64c0a6\",\"#fedc88\",\"#54aead\",\"#acdda4\",\"#ed6246\",\"#3a7eb8\",\"#5956a5\",\"#ed6246\",\"#525fa9\",\"#b41947\",\"#358bbc\",\"#b8e2a1\",\"#f7fcb2\",\"#e8f69b\",\"#c6e89f\",\"#b5e1a2\",\"#4b68ae\",\"#e6f598\",\"#4471b2\",\"#47a0b3\",\"#f99153\",\"#fafdb7\",\"#fee28f\",\"#439bb5\",\"#aedea3\",\"#fdb365\",\"#fee08b\",\"#5eb9a9\",\"#d6ee9b\",\"#3585bb\",\"#71c6a5\",\"#64c0a6\",\"#fbfdb8\",\"#5cb7aa\",\"#a4daa4\",\"#fdb365\",\"#81cda5\",\"#c1274a\",\"#4d65ad\",\"#f98e52\",\"#fdb365\",\"#8cd1a4\",\"#fed481\",\"#c1e6a0\",\"#7ccaa5\",\"#4d65ad\",\"#fa9857\",\"#d1ed9c\",\"#52abae\",\"#edf8a3\",\"#fffbb8\",\"#f88c51\",\"#52abae\",\"#feeda1\",\"#5e4fa2\",\"#4e63ac\",\"#89d0a4\",\"#b1dfa3\",\"#cdeb9d\",\"#dd4a4c\",\"#fee797\",\"#74c7a5\",\"#f57547\",\"#a4daa4\",\"#fca55d\",\"#fee491\",\"#81cda5\",\"#ee6445\",\"#3f77b5\",\"#3a7eb8\",\"#4199b6\",\"#d43d4f\",\"#e4f498\",\"#f67a49\",\"#fee593\",\"#9fd8a4\",\"#4ea7b0\",\"#c3e79f\",\"#feca79\",\"#b81e48\",\"#ed6246\",\"#fcaa5f\",\"#545ca8\",\"#3387bc\",\"#e2514a\",\"#3b92b9\",\"#e1f399\",\"#f36b43\",\"#3585bb\",\"#439bb5\",\"#69c3a5\",\"#f67a49\",\"#e1f399\",\"#49a2b2\",\"#fcfeba\",\"#d23a4e\",\"#be254a\",\"#5eb9a9\",\"#f8fcb4\",\"#fca55d\",\"#f57748\",\"#f67a49\",\"#fff8b4\",\"#dff299\",\"#f7814c\",\"#54aead\",\"#d8434e\",\"#fca55d\",\"#b1dfa3\",\"#eaf79e\",\"#fffebe\",\"#e6f598\",\"#dd4a4c\",\"#bc2249\",\"#8cd1a4\",\"#378ebb\",\"#4199b6\",\"#d0384e\",\"#fffdbc\",\"#be254a\",\"#fee797\",\"#fbfdb8\",\"#fafdb7\",\"#94d4a4\",\"#c9314c\",\"#f5fbaf\",\"#ed6246\",\"#fbfdb8\",\"#3a7eb8\",\"#86cfa5\",\"#dd4a4c\",\"#c3e79f\",\"#6ec5a5\",\"#eef8a4\",\"#eaf79e\",\"#54aead\",\"#f2faaa\",\"#f36b43\",\"#fefebd\",\"#5c51a3\",\"#545ca8\",\"#54aead\",\"#be254a\",\"#f47044\",\"#a20643\",\"#daf09a\",\"#56b0ad\",\"#ab0f45\",\"#f57547\",\"#56b0ad\",\"#b41947\",\"#e6f598\",\"#f6fbb0\",\"#f99153\",\"#4273b3\",\"#e6f598\",\"#df4e4b\",\"#b8e2a1\",\"#71c6a5\",\"#d23a4e\",\"#f99153\",\"#52abae\",\"#f47044\",\"#c1e6a0\",\"#a2d9a4\",\"#e55749\",\"#fff3ac\",\"#de4c4b\",\"#fdbb6c\",\"#fee491\",\"#4ba4b1\",\"#5e4fa2\",\"#ad1246\",\"#c1274a\",\"#fffebe\",\"#fec877\",\"#89d0a4\",\"#555aa7\",\"#fee491\",\"#f57547\",\"#f7844e\",\"#7ecca5\",\"#60bba8\",\"#ffffbe\",\"#be254a\",\"#ffffbe\",\"#fece7c\",\"#fee491\",\"#6ec5a5\",\"#555aa7\",\"#fdc171\",\"#c1e6a0\",\"#555aa7\",\"#fec877\",\"#5eb9a9\",\"#c3e79f\",\"#5e4fa2\",\"#89d0a4\",\"#ea5e47\",\"#a40844\",\"#fee28f\",\"#f98e52\",\"#feea9b\",\"#ee6445\",\"#e55749\",\"#d0384e\",\"#496aaf\",\"#be254a\",\"#3f97b7\",\"#5956a5\",\"#545ca8\",\"#b5e1a2\",\"#fff3ac\",\"#fdb163\",\"#5eb9a9\",\"#fcfeba\",\"#be254a\",\"#a4daa4\",\"#71c6a5\",\"#fdc171\",\"#47a0b3\",\"#fdb768\",\"#ed6246\",\"#b61b48\",\"#99d6a4\",\"#545ca8\",\"#f7844e\",\"#ea5e47\",\"#fff3ac\",\"#ecf7a1\",\"#f99355\",\"#caea9e\",\"#e4f498\",\"#fdaf62\",\"#69c3a5\",\"#fa9b58\",\"#8cd1a4\",\"#ee6445\",\"#fee491\",\"#b1dfa3\",\"#fb9d59\",\"#d0384e\",\"#9fd8a4\",\"#fffdbc\",\"#f1f9a9\",\"#4ba4b1\",\"#f36b43\",\"#fffab6\",\"#fed481\",\"#fff2aa\",\"#c1274a\",\"#d43d4f\",\"#fdc574\",\"#496aaf\",\"#f6fbb0\",\"#d0384e\",\"#fec877\",\"#f06744\",\"#f7fcb2\",\"#cb334d\",\"#d43d4f\",\"#ecf7a1\",\"#fee797\",\"#fece7c\",\"#c6e89f\",\"#bc2249\",\"#9e0142\",\"#496aaf\",\"#f7fcb2\",\"#3990ba\",\"#be254a\",\"#f67c4a\",\"#fee28f\",\"#e8f69b\",\"#d23a4e\",\"#94d4a4\",\"#c1e6a0\",\"#ed6246\",\"#4e63ac\",\"#5c51a3\",\"#f88c51\",\"#d7414e\",\"#d7414e\",\"#97d5a4\",\"#fee28f\",\"#fa9857\",\"#fed481\",\"#f2faaa\",\"#de4c4b\",\"#d8434e\",\"#fdb768\",\"#b41947\",\"#f98e52\",\"#daf09a\",\"#f99153\",\"#8fd2a4\",\"#fffebe\",\"#a20643\",\"#5cb7aa\",\"#fa9b58\",\"#ecf7a1\",\"#d7414e\",\"#d43d4f\",\"#f7fcb2\",\"#e1f399\",\"#3585bb\",\"#69c3a5\",\"#4273b3\",\"#e6f598\",\"#e1f399\",\"#b11747\",\"#e3534a\",\"#a40844\",\"#3f97b7\",\"#ea5e47\",\"#f67c4a\",\"#358bbc\",\"#76c8a5\",\"#e4f498\",\"#fff5ae\",\"#4199b6\",\"#d7414e\",\"#466eb1\",\"#f98e52\",\"#d9444d\",\"#97d5a4\",\"#f1f9a9\",\"#fee491\",\"#525fa9\",\"#fff0a6\",\"#3387bc\",\"#f36b43\",\"#ef6645\",\"#f47044\",\"#fed27f\",\"#466eb1\",\"#b5e1a2\",\"#f3faac\",\"#ef6645\",\"#ad1246\",\"#f1f9a9\",\"#3b92b9\",\"#fa9857\",\"#f3faac\",\"#6ec5a5\",\"#3b92b9\",\"#a20643\",\"#e55749\",\"#fafdb7\",\"#feeb9d\",\"#edf8a3\",\"#f1f9a9\",\"#acdda4\",\"#496aaf\",\"#feca79\",\"#3387bc\",\"#f5fbaf\",\"#cdeb9d\",\"#a00343\",\"#4471b2\",\"#466eb1\",\"#fba35c\",\"#358bbc\",\"#feeda1\",\"#6ec5a5\",\"#a4daa4\",\"#c3e79f\",\"#e1f399\",\"#439bb5\",\"#b1dfa3\",\"#f36b43\",\"#f8fcb4\",\"#9fd8a4\",\"#b11747\",\"#fcfeba\",\"#feefa3\",\"#47a0b3\",\"#b11747\",\"#e6f598\",\"#4273b3\",\"#d1ed9c\",\"#e6f598\",\"#7ccaa5\",\"#e9f69d\",\"#f7844e\",\"#b11747\",\"#fdbd6d\",\"#daf09a\",\"#feca79\",\"#c1274a\",\"#60bba8\",\"#c9314c\",\"#fff3ac\",\"#daf09a\",\"#c3e79f\",\"#f46d43\",\"#fdc372\",\"#3a7eb8\",\"#ecf7a1\",\"#fffebe\",\"#e95c47\",\"#4e63ac\",\"#fca55d\",\"#66c2a5\",\"#f8864f\",\"#fed27f\",\"#fa9857\",\"#94d4a4\",\"#52abae\",\"#c6e89f\",\"#3d79b6\",\"#e2514a\",\"#89d0a4\",\"#5e4fa2\",\"#fff6b0\",\"#94d4a4\",\"#caea9e\",\"#fee797\",\"#7ccaa5\",\"#89d0a4\",\"#e1f399\",\"#555aa7\",\"#a00343\",\"#3585bb\",\"#a00343\",\"#3f97b7\",\"#a2d9a4\",\"#fff3ac\",\"#466eb1\",\"#466eb1\",\"#7ecca5\",\"#69c3a5\",\"#f99355\",\"#3682ba\",\"#fee797\",\"#fee28f\",\"#edf8a3\",\"#86cfa5\",\"#fdb96a\",\"#54aead\",\"#4ba4b1\",\"#fee491\",\"#5b53a4\",\"#97d5a4\",\"#fb9d59\",\"#4273b3\",\"#eaf79e\",\"#fff6b0\",\"#fffab6\",\"#3585bb\",\"#fffebe\",\"#cdeb9d\",\"#4471b2\",\"#4199b6\",\"#f7844e\",\"#a2d9a4\",\"#c6e89f\",\"#e85b48\",\"#5eb9a9\",\"#fff0a6\",\"#be254a\",\"#496aaf\",\"#8cd1a4\",\"#ecf7a1\",\"#c1e6a0\",\"#4d65ad\",\"#e1f399\",\"#a00343\",\"#de4c4b\",\"#fdb96a\",\"#fefebd\",\"#5956a5\",\"#3682ba\",\"#fdc372\",\"#e1f399\",\"#525fa9\",\"#f36b43\",\"#378ebb\",\"#ee6445\",\"#fff3ac\",\"#fdb96a\",\"#5eb9a9\",\"#da464d\",\"#49a2b2\",\"#3585bb\",\"#feeb9d\",\"#ad1246\",\"#aedea3\",\"#f06744\",\"#3387bc\",\"#c9314c\",\"#fed27f\",\"#81cda5\",\"#5ab4ab\",\"#f99355\",\"#5e4fa2\",\"#e85b48\",\"#3d79b6\",\"#5eb9a9\",\"#cfec9d\",\"#fff2aa\",\"#a4daa4\",\"#c72e4c\",\"#f3faac\",\"#9e0142\",\"#fdbb6c\",\"#a00343\",\"#be254a\",\"#fdbb6c\",\"#f67a49\",\"#fdbb6c\",\"#ecf7a1\",\"#c6e89f\",\"#fedc88\",\"#86cfa5\",\"#b8e2a1\",\"#52abae\",\"#4ba4b1\",\"#5e4fa2\",\"#8fd2a4\",\"#d9444d\",\"#4b68ae\",\"#fff6b0\",\"#a20643\",\"#8cd1a4\",\"#fff0a6\",\"#64c0a6\",\"#358bbc\",\"#e95c47\",\"#f88c51\",\"#fee491\",\"#daf09a\",\"#e6f598\",\"#fb9d59\",\"#f06744\",\"#fff3ac\",\"#5eb9a9\",\"#fedc88\",\"#feefa3\",\"#4ba4b1\",\"#feda86\",\"#e85b48\",\"#6ec5a5\",\"#e45549\",\"#555aa7\",\"#bce4a0\",\"#5e4fa2\",\"#3b7cb7\",\"#bae3a1\",\"#f6fbb0\",\"#7ccaa5\",\"#fedc88\",\"#f06744\",\"#d1ed9c\",\"#fecc7b\",\"#fee28f\",\"#e6f598\",\"#99d6a4\",\"#d8ef9b\",\"#a2d9a4\",\"#c6e89f\",\"#f6fbb0\",\"#555aa7\",\"#fee491\",\"#b8e2a1\",\"#fdc574\",\"#c1274a\",\"#f47044\",\"#d9444d\",\"#5956a5\",\"#e8f69b\",\"#56b0ad\",\"#c3e79f\",\"#c1274a\",\"#caea9e\",\"#5b53a4\",\"#fee28f\",\"#fdb96a\",\"#fec877\",\"#fdaf62\",\"#fca55d\",\"#f8fcb4\",\"#c9314c\",\"#f98e52\",\"#c9314c\",\"#eef8a4\",\"#feda86\",\"#a4daa4\",\"#3f77b5\",\"#a2d9a4\",\"#e55749\",\"#56b0ad\",\"#3d79b6\",\"#466eb1\",\"#c3e79f\",\"#fdbb6c\",\"#f99355\",\"#feda86\",\"#f99355\",\"#eff9a6\",\"#e8f69b\",\"#e3534a\",\"#3585bb\",\"#86cfa5\",\"#54aead\",\"#d6ee9b\",\"#3682ba\",\"#ed6246\",\"#3387bc\",\"#89d0a4\",\"#fdb365\",\"#fdc372\",\"#f88c51\",\"#fff2aa\",\"#e45549\",\"#eef8a4\",\"#fdbd6d\",\"#3b92b9\",\"#f57547\",\"#fbfdb8\",\"#cfec9d\",\"#e6f598\",\"#d9444d\",\"#fedc88\",\"#fb9d59\",\"#fa9857\",\"#f88c51\",\"#df4e4b\",\"#5e4fa2\",\"#52abae\",\"#fdb163\",\"#fdbb6c\",\"#e1f399\",\"#94d4a4\",\"#4273b3\",\"#fff6b0\",\"#f6fbb0\",\"#378ebb\",\"#b41947\",\"#f8864f\",\"#bce4a0\",\"#c1274a\",\"#86cfa5\",\"#e6f598\",\"#d6ee9b\",\"#f8fcb4\",\"#3f77b5\",\"#e85b48\",\"#378ebb\",\"#3f77b5\",\"#f88c51\",\"#fdb768\",\"#4d65ad\",\"#76c8a5\",\"#ab0f45\",\"#76c8a5\",\"#5b53a4\",\"#fffab6\",\"#4d65ad\",\"#a20643\",\"#fede89\",\"#a2d9a4\",\"#b61b48\",\"#aedea3\",\"#fcfeba\",\"#ab0f45\",\"#fa9b58\",\"#d0384e\",\"#3b7cb7\",\"#4273b3\",\"#e2514a\",\"#fffdbc\",\"#fcfeba\",\"#f8864f\",\"#f47044\",\"#64c0a6\",\"#edf8a3\",\"#9e0142\",\"#47a0b3\",\"#fefebd\",\"#545ca8\",\"#fdb768\",\"#a00343\",\"#fff8b4\",\"#fed481\",\"#fdb163\",\"#be254a\",\"#e95c47\",\"#fffbb8\",\"#b1dfa3\",\"#f46d43\",\"#f7844e\",\"#fee593\",\"#fca85e\",\"#3682ba\",\"#97d5a4\",\"#b61b48\",\"#52abae\",\"#b8e2a1\",\"#4ba4b1\",\"#c52c4b\",\"#f5fbaf\",\"#aedea3\",\"#dff299\",\"#bae3a1\",\"#3990ba\",\"#d1ed9c\",\"#fee491\",\"#47a0b3\",\"#47a0b3\",\"#bce4a0\",\"#f36b43\",\"#9e0142\",\"#5ab4ab\",\"#feefa3\",\"#466eb1\",\"#ea5e47\",\"#76c8a5\",\"#b5e1a2\",\"#5cb7aa\",\"#4b68ae\",\"#97d5a4\",\"#fede89\",\"#c52c4b\",\"#fca55d\",\"#4ea7b0\",\"#daf09a\",\"#fede89\",\"#81cda5\",\"#f6fbb0\",\"#86cfa5\",\"#fca85e\",\"#cb334d\",\"#de4c4b\",\"#f06744\",\"#3585bb\",\"#466eb1\",\"#89d0a4\",\"#76c8a5\",\"#c72e4c\",\"#feea9b\",\"#fede89\",\"#fee797\",\"#66c2a5\",\"#fece7c\",\"#fdb768\",\"#fa9b58\",\"#fffebe\",\"#358bbc\",\"#fefebd\",\"#bae3a1\",\"#a2d9a4\",\"#e9f69d\",\"#dd4a4c\",\"#cdeb9d\",\"#e8f69b\",\"#f36b43\",\"#f06744\",\"#5cb7aa\",\"#fed27f\",\"#4199b6\",\"#ef6645\",\"#4b68ae\",\"#60bba8\",\"#3d79b6\",\"#b1dfa3\",\"#f7fcb2\",\"#d8ef9b\",\"#fdb768\",\"#d1ed9c\",\"#71c6a5\",\"#ee6445\",\"#4199b6\",\"#df4e4b\",\"#8fd2a4\",\"#da464d\",\"#aedea3\",\"#e8f69b\",\"#7ccaa5\",\"#4b68ae\",\"#fdb365\",\"#fbfdb8\",\"#f88c51\",\"#94d4a4\",\"#a20643\",\"#5e4fa2\",\"#496aaf\",\"#3a7eb8\",\"#fbfdb8\",\"#edf8a3\",\"#3b92b9\",\"#df4e4b\",\"#a2d9a4\",\"#496aaf\",\"#5eb9a9\",\"#ad1246\",\"#fff8b4\",\"#fdaf62\",\"#3f77b5\",\"#f57547\",\"#be254a\",\"#ad1246\",\"#fbfdb8\",\"#64c0a6\",\"#fcaa5f\",\"#f98e52\",\"#c9314c\",\"#d1ed9c\",\"#3a7eb8\",\"#4ba4b1\",\"#f47044\",\"#f3faac\",\"#b11747\",\"#e95c47\",\"#e85b48\",\"#f57748\",\"#e45549\",\"#c9314c\",\"#e4f498\",\"#de4c4b\",\"#d1ed9c\",\"#d23a4e\",\"#f7fcb2\",\"#fee491\",\"#71c6a5\",\"#fed27f\",\"#cdeb9d\",\"#fcaa5f\",\"#fdaf62\",\"#df4e4b\",\"#4ba4b1\",\"#ecf7a1\",\"#5e4fa2\",\"#eaf79e\",\"#5956a5\",\"#3f77b5\",\"#ffffbe\",\"#e2514a\",\"#f2faaa\",\"#ab0f45\",\"#f88c51\",\"#54aead\",\"#fffbb8\",\"#b41947\",\"#be254a\",\"#d8434e\",\"#dff299\",\"#86cfa5\",\"#fdb768\",\"#d0384e\",\"#86cfa5\",\"#fff5ae\",\"#4ea7b0\",\"#fffebe\",\"#8cd1a4\",\"#b81e48\",\"#3b92b9\",\"#df4e4b\",\"#e1f399\",\"#5eb9a9\",\"#df4e4b\",\"#fff2aa\",\"#e45549\",\"#f8864f\",\"#fffebe\",\"#feda86\",\"#c52c4b\",\"#f7fcb2\",\"#f7844e\",\"#caea9e\",\"#f8fcb4\",\"#cdeb9d\",\"#bae3a1\",\"#fffbb8\",\"#e9f69d\",\"#89d0a4\",\"#b1dfa3\",\"#3387bc\",\"#f98e52\",\"#e1f399\",\"#5c51a3\",\"#f5fbaf\",\"#eef8a4\",\"#e55749\",\"#ad1246\",\"#3990ba\",\"#3682ba\",\"#52abae\",\"#fffab6\",\"#a4daa4\",\"#b5e1a2\",\"#b8e2a1\",\"#3a7eb8\",\"#fecc7b\",\"#dff299\",\"#89d0a4\",\"#3a7eb8\",\"#e55749\",\"#caea9e\",\"#4ba4b1\",\"#fff6b0\",\"#fffebe\",\"#69c3a5\",\"#bce4a0\",\"#4ba4b1\",\"#3a7eb8\",\"#e1f399\",\"#fff2aa\",\"#a00343\",\"#ad1246\",\"#dff299\",\"#3b7cb7\",\"#c3e79f\",\"#fb9d59\",\"#fdb163\",\"#fdb163\",\"#358bbc\",\"#f3faac\",\"#fff6b0\",\"#cdeb9d\",\"#f8fcb4\",\"#94d4a4\",\"#66c2a5\",\"#e55749\",\"#b11747\",\"#fee28f\",\"#4d65ad\",\"#4ba4b1\",\"#81cda5\",\"#fff3ac\",\"#ee6445\",\"#a00343\",\"#f46d43\",\"#cb334d\",\"#b1dfa3\",\"#e2514a\",\"#4ea7b0\",\"#fdc171\",\"#f57547\",\"#fbfdb8\",\"#5956a5\",\"#e3534a\",\"#3b92b9\",\"#fecc7b\",\"#d1ed9c\",\"#f5fbaf\",\"#dff299\",\"#feea9b\",\"#f06744\",\"#da464d\",\"#4b68ae\",\"#d6ee9b\",\"#f8fcb4\",\"#fee797\",\"#fee797\",\"#feea9b\",\"#e1f399\",\"#da464d\",\"#fff6b0\",\"#dff299\",\"#cb334d\",\"#f6fbb0\",\"#fdc171\",\"#e45549\",\"#fbfdb8\",\"#66c2a5\",\"#a40844\",\"#c3e79f\",\"#fed481\",\"#fffebe\",\"#76c8a5\",\"#caea9e\",\"#fdbb6c\",\"#fdbd6d\",\"#fdaf62\",\"#de4c4b\",\"#fecc7b\",\"#f36b43\",\"#feefa3\",\"#fff0a6\",\"#eff9a6\",\"#cfec9d\",\"#fedc88\",\"#fdbd6d\",\"#d9444d\",\"#7ecca5\",\"#c1274a\",\"#c9314c\",\"#e95c47\",\"#fedc88\",\"#d8ef9b\",\"#f3faac\",\"#e4f498\",\"#a4daa4\",\"#f36b43\",\"#9e0142\",\"#fdc372\",\"#c9314c\",\"#54aead\",\"#9e0142\",\"#fdb768\",\"#8cd1a4\",\"#a00343\",\"#89d0a4\",\"#bc2249\",\"#3f77b5\",\"#d7414e\",\"#3b7cb7\",\"#a7dba4\",\"#cdeb9d\",\"#8cd1a4\",\"#7ccaa5\",\"#3b92b9\",\"#bae3a1\",\"#fee797\",\"#fff5ae\",\"#e45549\",\"#c3e79f\",\"#fffab6\",\"#ee6445\",\"#97d5a4\"],\"shape\":[9430],\"dtype\":\"object\",\"order\":\"little\"}],[\"index\",{\"type\":\"ndarray\",\"array\":{\"type\":\"bytes\",\"data\":\"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\"},\"shape\":[9430],\"dtype\":\"int32\",\"order\":\"little\"}],[\"item\",{\"type\":\"ndarray\",\"array\":[\"193.Bewick_Wren\",\"149.Brown_Thrasher\",\"177.Prothonotary_Warbler\",\"127.Savannah_Sparrow\",\"023.Brandt_Cormorant\",\"067.Anna_Hummingbird\",\"057.Rose_breasted_Grosbeak\",\"172.Nashville_Warbler\",\"156.White_eyed_Vireo\",\"073.Blue_Jay\",\"014.Indigo_Bunting\",\"099.Ovenbird\",\"003.Sooty_Albatross\",\"071.Long_tailed_Jaeger\",\"014.Indigo_Bunting\",\"062.Herring_Gull\",\"069.Rufous_Hummingbird\",\"065.Slaty_backed_Gull\",\"168.Kentucky_Warbler\",\"098.Scott_Oriole\",\"056.Pine_Grosbeak\",\"151.Black_capped_Vireo\",\"047.American_Goldfinch\",\"140.Summer_Tanager\",\"188.Pileated_Woodpecker\",\"100.Brown_Pelican\",\"012.Yellow_headed_Blackbird\",\"142.Black_Tern\",\"132.White_crowned_Sparrow\",\"144.Common_Tern\",\"139.Scarlet_Tanager\",\"117.Clay_colored_Sparrow\",\"199.Winter_Wren\",\"087.Mallard\",\"131.Vesper_Sparrow\",\"170.Mourning_Warbler\",\"195.Carolina_Wren\",\"036.Northern_Flicker\",\"142.Black_Tern\",\"115.Brewer_Sparrow\",\"064.Ring_billed_Gull\",\"151.Black_capped_Vireo\",\"123.Henslow_Sparrow\",\"005.Crested_Auklet\",\"138.Tree_Swallow\",\"080.Green_Kingfisher\",\"029.American_Crow\",\"172.Nashville_Warbler\",\"020.Yellow_breasted_Chat\",\"036.Northern_Flicker\",\"157.Yellow_throated_Vireo\",\"001.Black_footed_Albatross\",\"110.Geococcyx\",\"054.Blue_Grosbeak\",\"189.Red_bellied_Woodpecker\",\"062.Herring_Gull\",\"046.Gadwall\",\"039.Least_Flycatcher\",\"130.Tree_Sparrow\",\"124.Le_Conte_Sparrow\",\"078.Gray_Kingbird\",\"180.Wilson_Warbler\",\"058.Pigeon_Guillemot\",\"139.Scarlet_Tanager\",\"166.Golden_winged_Warbler\",\"106.Horned_Puffin\",\"029.American_Crow\",\"128.Seaside_Sparrow\",\"101.White_Pelican\",\"140.Summer_Tanager\",\"088.Western_Meadowlark\",\"138.Tree_Swallow\",\"123.Henslow_Sparrow\",\"160.Black_throated_Blue_Warbler\",\"179.Tennessee_Warbler\",\"133.White_throated_Sparrow\",\"094.White_breasted_Nuthatch\",\"043.Yellow_bellied_Flycatcher\",\"029.American_Crow\",\"023.Brandt_Cormorant\",\"114.Black_throated_Sparrow\",\"163.Cape_May_Warbler\",\"160.Black_throated_Blue_Warbler\",\"173.Orange_crowned_Warbler\",\"164.Cerulean_Warbler\",\"027.Shiny_Cowbird\",\"113.Baird_Sparrow\",\"095.Baltimore_Oriole\",\"174.Palm_Warbler\",\"200.Common_Yellowthroat\",\"161.Blue_winged_Warbler\",\"040.Olive_sided_Flycatcher\",\"111.Loggerhead_Shrike\",\"183.Northern_Waterthrush\",\"125.Lincoln_Sparrow\",\"012.Yellow_headed_Blackbird\",\"197.Marsh_Wren\",\"067.Anna_Hummingbird\",\"127.Savannah_Sparrow\",\"147.Least_Tern\",\"200.Common_Yellowthroat\",\"067.Anna_Hummingbird\",\"121.Grasshopper_Sparrow\",\"110.Geococcyx\",\"086.Pacific_Loon\",\"002.Laysan_Albatross\",\"187.American_Three_toed_Woodpecker\",\"017.Cardinal\",\"075.Green_Jay\",\"093.Clark_Nutcracker\",\"011.Rusty_Blackbird\",\"132.White_crowned_Sparrow\",\"180.Wilson_Warbler\",\"112.Great_Grey_Shrike\",\"095.Baltimore_Oriole\",\"048.European_Goldfinch\",\"040.Olive_sided_Flycatcher\",\"154.Red_eyed_Vireo\",\"037.Acadian_Flycatcher\",\"117.Clay_colored_Sparrow\",\"117.Clay_colored_Sparrow\",\"175.Pine_Warbler\",\"144.Common_Tern\",\"113.Baird_Sparrow\",\"082.Ringed_Kingfisher\",\"146.Forsters_Tern\",\"122.Harris_Sparrow\",\"056.Pine_Grosbeak\",\"155.Warbling_Vireo\",\"064.Ring_billed_Gull\",\"185.Bohemian_Waxwing\",\"093.Clark_Nutcracker\",\"040.Olive_sided_Flycatcher\",\"168.Kentucky_Warbler\",\"197.Marsh_Wren\",\"086.Pacific_Loon\",\"193.Bewick_Wren\",\"133.White_throated_Sparrow\",\"004.Groove_billed_Ani\",\"070.Green_Violetear\",\"143.Caspian_Tern\",\"162.Canada_Warbler\",\"137.Cliff_Swallow\",\"023.Brandt_Cormorant\",\"075.Green_Jay\",\"018.Spotted_Catbird\",\"098.Scott_Oriole\",\"145.Elegant_Tern\",\"005.Crested_Auklet\",\"189.Red_bellied_Woodpecker\",\"026.Bronzed_Cowbird\",\"058.Pigeon_Guillemot\",\"029.American_Crow\",\"036.Northern_Flicker\",\"060.Glaucous_winged_Gull\",\"078.Gray_Kingbird\",\"115.Brewer_Sparrow\",\"188.Pileated_Woodpecker\",\"135.Bank_Swallow\",\"035.Purple_Finch\",\"157.Yellow_throated_Vireo\",\"160.Black_throated_Blue_Warbler\",\"001.Black_footed_Albatross\",\"160.Black_throated_Blue_Warbler\",\"157.Yellow_throated_Vireo\",\"052.Pied_billed_Grebe\",\"022.Chuck_will_Widow\",\"058.Pigeon_Guillemot\",\"122.Harris_Sparrow\",\"185.Bohemian_Waxwing\",\"185.Bohemian_Waxwing\",\"175.Pine_Warbler\",\"196.House_Wren\",\"103.Sayornis\",\"064.Ring_billed_Gull\",\"046.Gadwall\",\"192.Downy_Woodpecker\",\"108.White_necked_Raven\",\"141.Artic_Tern\",\"050.Eared_Grebe\",\"077.Tropical_Kingbird\",\"041.Scissor_tailed_Flycatcher\",\"153.Philadelphia_Vireo\",\"133.White_throated_Sparrow\",\"163.Cape_May_Warbler\",\"179.Tennessee_Warbler\",\"007.Parakeet_Auklet\",\"102.Western_Wood_Pewee\",\"070.Green_Violetear\",\"105.Whip_poor_Will\",\"091.Mockingbird\",\"068.Ruby_throated_Hummingbird\",\"078.Gray_Kingbird\",\"097.Orchard_Oriole\",\"160.Black_throated_Blue_Warbler\",\"017.Cardinal\",\"167.Hooded_Warbler\",\"153.Philadelphia_Vireo\",\"101.White_Pelican\",\"059.California_Gull\",\"016.Painted_Bunting\",\"112.Great_Grey_Shrike\",\"170.Mourning_Warbler\",\"107.Common_Raven\",\"040.Olive_sided_Flycatcher\",\"140.Summer_Tanager\",\"026.Bronzed_Cowbird\",\"121.Grasshopper_Sparrow\",\"057.Rose_breasted_Grosbeak\",\"047.American_Goldfinch\",\"180.Wilson_Warbler\",\"124.Le_Conte_Sparrow\",\"053.Western_Grebe\",\"155.Warbling_Vireo\",\"015.Lazuli_Bunting\",\"021.Eastern_Towhee\",\"149.Brown_Thrasher\",\"162.Canada_Warbler\",\"169.Magnolia_Warbler\",\"027.Shiny_Cowbird\",\"060.Glaucous_winged_Gull\",\"071.Long_tailed_Jaeger\",\"053.Western_Grebe\",\"069.Rufous_Hummingbird\",\"190.Red_cockaded_Woodpecker\",\"143.Caspian_Tern\",\"044.Frigatebird\",\"138.Tree_Swallow\",\"040.Olive_sided_Flycatcher\",\"187.American_Three_toed_Woodpecker\",\"119.Field_Sparrow\",\"009.Brewer_Blackbird\",\"067.Anna_Hummingbird\",\"199.Winter_Wren\",\"109.American_Redstart\",\"176.Prairie_Warbler\",\"081.Pied_Kingfisher\",\"105.Whip_poor_Will\",\"103.Sayornis\",\"044.Frigatebird\",\"165.Chestnut_sided_Warbler\",\"150.Sage_Thrasher\",\"153.Philadelphia_Vireo\",\"088.Western_Meadowlark\",\"200.Common_Yellowthroat\",\"175.Pine_Warbler\",\"103.Sayornis\",\"134.Cape_Glossy_Starling\",\"093.Clark_Nutcracker\",\"086.Pacific_Loon\",\"154.Red_eyed_Vireo\",\"092.Nighthawk\",\"075.Green_Jay\",\"009.Brewer_Blackbird\",\"023.Brandt_Cormorant\",\"112.Great_Grey_Shrike\",\"034.Gray_crowned_Rosy_Finch\",\"177.Prothonotary_Warbler\",\"098.Scott_Oriole\",\"061.Heermann_Gull\",\"071.Long_tailed_Jaeger\",\"025.Pelagic_Cormorant\",\"060.Glaucous_winged_Gull\",\"029.American_Crow\",\"108.White_necked_Raven\",\"102.Western_Wood_Pewee\",\"041.Scissor_tailed_Flycatcher\",\"148.Green_tailed_Towhee\",\"057.Rose_breasted_Grosbeak\",\"049.Boat_tailed_Grackle\",\"030.Fish_Crow\",\"123.Henslow_Sparrow\",\"192.Downy_Woodpecker\",\"164.Cerulean_Warbler\",\"028.Brown_Creeper\",\"156.White_eyed_Vireo\",\"038.Great_Crested_Flycatcher\",\"048.European_Goldfinch\",\"114.Black_throated_Sparrow\",\"164.Cerulean_Warbler\",\"070.Green_Violetear\",\"104.American_Pipit\",\"118.House_Sparrow\",\"149.Brown_Thrasher\",\"097.Orchard_Oriole\",\"002.Laysan_Albatross\",\"118.House_Sparrow\",\"177.Prothonotary_Warbler\",\"163.Cape_May_Warbler\",\"054.Blue_Grosbeak\",\"025.Pelagic_Cormorant\",\"197.Marsh_Wren\",\"137.Cliff_Swallow\",\"024.Red_faced_Cormorant\",\"156.White_eyed_Vireo\",\"179.Tennessee_Warbler\",\"026.Bronzed_Cowbird\",\"002.Laysan_Albatross\",\"132.White_crowned_Sparrow\",\"056.Pine_Grosbeak\",\"168.Kentucky_Warbler\",\"185.Bohemian_Waxwing\",\"149.Brown_Thrasher\",\"075.Green_Jay\",\"082.Ringed_Kingfisher\",\"085.Horned_Lark\",\"063.Ivory_Gull\",\"077.Tropical_Kingbird\",\"084.Red_legged_Kittiwake\",\"063.Ivory_Gull\",\"155.Warbling_Vireo\",\"151.Black_capped_Vireo\",\"199.Winter_Wren\",\"161.Blue_winged_Warbler\",\"121.Grasshopper_Sparrow\",\"126.Nelson_Sharp_tailed_Sparrow\",\"126.Nelson_Sharp_tailed_Sparrow\",\"005.Crested_Auklet\",\"182.Yellow_Warbler\",\"166.Golden_winged_Warbler\",\"132.White_crowned_Sparrow\",\"119.Field_Sparrow\",\"090.Red_breasted_Merganser\",\"152.Blue_headed_Vireo\",\"188.Pileated_Woodpecker\",\"068.Ruby_throated_Hummingbird\",\"021.Eastern_Towhee\",\"043.Yellow_bellied_Flycatcher\",\"069.Rufous_Hummingbird\",\"056.Pine_Grosbeak\",\"078.Gray_Kingbird\",\"003.Sooty_Albatross\",\"198.Rock_Wren\",\"012.Yellow_headed_Blackbird\",\"030.Fish_Crow\",\"057.Rose_breasted_Grosbeak\",\"078.Gray_Kingbird\",\"044.Frigatebird\",\"043.Yellow_bellied_Flycatcher\",\"077.Tropical_Kingbird\",\"131.Vesper_Sparrow\",\"130.Tree_Sparrow\",\"046.Gadwall\",\"098.Scott_Oriole\",\"140.Summer_Tanager\",\"176.Prairie_Warbler\",\"070.Green_Violetear\",\"196.House_Wren\",\"135.Bank_Swallow\",\"093.Clark_Nutcracker\",\"065.Slaty_backed_Gull\",\"110.Geococcyx\",\"023.Brandt_Cormorant\",\"092.Nighthawk\",\"190.Red_cockaded_Woodpecker\",\"171.Myrtle_Warbler\",\"021.Eastern_Towhee\",\"111.Loggerhead_Shrike\",\"152.Blue_headed_Vireo\",\"011.Rusty_Blackbird\",\"125.Lincoln_Sparrow\",\"180.Wilson_Warbler\",\"055.Evening_Grosbeak\",\"112.Great_Grey_Shrike\",\"102.Western_Wood_Pewee\",\"103.Sayornis\",\"003.Sooty_Albatross\",\"048.European_Goldfinch\",\"084.Red_legged_Kittiwake\",\"134.Cape_Glossy_Starling\",\"068.Ruby_throated_Hummingbird\",\"043.Yellow_bellied_Flycatcher\",\"110.Geococcyx\",\"072.Pomarine_Jaeger\",\"183.Northern_Waterthrush\",\"053.Western_Grebe\",\"170.Mourning_Warbler\",\"019.Gray_Catbird\",\"194.Cactus_Wren\",\"127.Savannah_Sparrow\",\"024.Red_faced_Cormorant\",\"045.Northern_Fulmar\",\"076.Dark_eyed_Junco\",\"102.Western_Wood_Pewee\",\"106.Horned_Puffin\",\"059.California_Gull\",\"034.Gray_crowned_Rosy_Finch\",\"074.Florida_Jay\",\"177.Prothonotary_Warbler\",\"107.Common_Raven\",\"117.Clay_colored_Sparrow\",\"198.Rock_Wren\",\"084.Red_legged_Kittiwake\",\"002.Laysan_Albatross\",\"055.Evening_Grosbeak\",\"102.Western_Wood_Pewee\",\"165.Chestnut_sided_Warbler\",\"022.Chuck_will_Widow\",\"031.Black_billed_Cuckoo\",\"178.Swainson_Warbler\",\"052.Pied_billed_Grebe\",\"025.Pelagic_Cormorant\",\"130.Tree_Sparrow\",\"176.Prairie_Warbler\",\"109.American_Redstart\",\"075.Green_Jay\",\"085.Horned_Lark\",\"171.Myrtle_Warbler\",\"197.Marsh_Wren\",\"040.Olive_sided_Flycatcher\",\"107.Common_Raven\",\"123.Henslow_Sparrow\",\"008.Rhinoceros_Auklet\",\"115.Brewer_Sparrow\",\"140.Summer_Tanager\",\"048.European_Goldfinch\",\"192.Downy_Woodpecker\",\"018.Spotted_Catbird\",\"047.American_Goldfinch\",\"200.Common_Yellowthroat\",\"128.Seaside_Sparrow\",\"127.Savannah_Sparrow\",\"105.Whip_poor_Will\",\"005.Crested_Auklet\",\"076.Dark_eyed_Junco\",\"158.Bay_breasted_Warbler\",\"177.Prothonotary_Warbler\",\"020.Yellow_breasted_Chat\",\"140.Summer_Tanager\",\"088.Western_Meadowlark\",\"158.Bay_breasted_Warbler\",\"112.Great_Grey_Shrike\",\"163.Cape_May_Warbler\",\"146.Forsters_Tern\",\"061.Heermann_Gull\",\"170.Mourning_Warbler\",\"119.Field_Sparrow\",\"134.Cape_Glossy_Starling\",\"054.Blue_Grosbeak\",\"062.Herring_Gull\",\"196.House_Wren\",\"107.Common_Raven\",\"087.Mallard\",\"186.Cedar_Waxwing\",\"048.European_Goldfinch\",\"111.Loggerhead_Shrike\",\"173.Orange_crowned_Warbler\",\"053.Western_Grebe\",\"057.Rose_breasted_Grosbeak\",\"122.Harris_Sparrow\",\"005.Crested_Auklet\",\"077.Tropical_Kingbird\",\"028.Brown_Creeper\",\"036.Northern_Flicker\",\"041.Scissor_tailed_Flycatcher\",\"126.Nelson_Sharp_tailed_Sparrow\",\"025.Pelagic_Cormorant\",\"030.Fish_Crow\",\"139.Scarlet_Tanager\",\"074.Florida_Jay\",\"060.Glaucous_winged_Gull\",\"064.Ring_billed_Gull\",\"107.Common_Raven\",\"135.Bank_Swallow\",\"137.Cliff_Swallow\",\"076.Dark_eyed_Junco\",\"057.Rose_breasted_Grosbeak\",\"170.Mourning_Warbler\",\"097.Orchard_Oriole\",\"163.Cape_May_Warbler\",\"030.Fish_Crow\",\"089.Hooded_Merganser\",\"083.White_breasted_Kingfisher\",\"011.Rusty_Blackbird\",\"053.Western_Grebe\",\"131.Vesper_Sparrow\",\"152.Blue_headed_Vireo\",\"178.Swainson_Warbler\",\"164.Cerulean_Warbler\",\"017.Cardinal\",\"085.Horned_Lark\",\"089.Hooded_Merganser\",\"108.White_necked_Raven\",\"134.Cape_Glossy_Starling\",\"051.Horned_Grebe\",\"014.Indigo_Bunting\",\"121.Grasshopper_Sparrow\",\"144.Common_Tern\",\"186.Cedar_Waxwing\",\"136.Barn_Swallow\",\"081.Pied_Kingfisher\",\"109.American_Redstart\",\"106.Horned_Puffin\",\"145.Elegant_Tern\",\"160.Black_throated_Blue_Warbler\",\"161.Blue_winged_Warbler\",\"131.Vesper_Sparrow\",\"029.American_Crow\",\"067.Anna_Hummingbird\",\"070.Green_Violetear\",\"090.Red_breasted_Merganser\",\"148.Green_tailed_Towhee\",\"169.Magnolia_Warbler\",\"102.Western_Wood_Pewee\",\"200.Common_Yellowthroat\",\"194.Cactus_Wren\",\"107.Common_Raven\",\"103.Sayornis\",\"024.Red_faced_Cormorant\",\"164.Cerulean_Warbler\",\"138.Tree_Swallow\",\"050.Eared_Grebe\",\"086.Pacific_Loon\",\"068.Ruby_throated_Hummingbird\",\"102.Western_Wood_Pewee\",\"142.Black_Tern\",\"018.Spotted_Catbird\",\"117.Clay_colored_Sparrow\",\"172.Nashville_Warbler\",\"134.Cape_Glossy_Starling\",\"037.Acadian_Flycatcher\",\"083.White_breasted_Kingfisher\",\"117.Clay_colored_Sparrow\",\"112.Great_Grey_Shrike\",\"059.California_Gull\",\"106.Horned_Puffin\",\"032.Mangrove_Cuckoo\",\"031.Black_billed_Cuckoo\",\"198.Rock_Wren\",\"135.Bank_Swallow\",\"011.Rusty_Blackbird\",\"175.Pine_Warbler\",\"179.Tennessee_Warbler\",\"088.Western_Meadowlark\",\"041.Scissor_tailed_Flycatcher\",\"114.Black_throated_Sparrow\",\"151.Black_capped_Vireo\",\"163.Cape_May_Warbler\",\"067.Anna_Hummingbird\",\"052.Pied_billed_Grebe\",\"004.Groove_billed_Ani\",\"035.Purple_Finch\",\"114.Black_throated_Sparrow\",\"105.Whip_poor_Will\",\"180.Wilson_Warbler\",\"049.Boat_tailed_Grackle\",\"081.Pied_Kingfisher\",\"068.Ruby_throated_Hummingbird\",\"073.Blue_Jay\",\"148.Green_tailed_Towhee\",\"019.Gray_Catbird\",\"156.White_eyed_Vireo\",\"168.Kentucky_Warbler\",\"090.Red_breasted_Merganser\",\"197.Marsh_Wren\",\"026.Bronzed_Cowbird\",\"089.Hooded_Merganser\",\"042.Vermilion_Flycatcher\",\"059.California_Gull\",\"180.Wilson_Warbler\",\"095.Baltimore_Oriole\",\"084.Red_legged_Kittiwake\",\"162.Canada_Warbler\",\"141.Artic_Tern\",\"156.White_eyed_Vireo\",\"069.Rufous_Hummingbird\",\"078.Gray_Kingbird\",\"097.Orchard_Oriole\",\"077.Tropical_Kingbird\",\"036.Northern_Flicker\",\"172.Nashville_Warbler\",\"038.Great_Crested_Flycatcher\",\"135.Bank_Swallow\",\"032.Mangrove_Cuckoo\",\"175.Pine_Warbler\",\"110.Geococcyx\",\"075.Green_Jay\",\"180.Wilson_Warbler\",\"108.White_necked_Raven\",\"070.Green_Violetear\",\"123.Henslow_Sparrow\",\"055.Evening_Grosbeak\",\"194.Cactus_Wren\",\"120.Fox_Sparrow\",\"160.Black_throated_Blue_Warbler\",\"107.Common_Raven\",\"144.Common_Tern\",\"001.Black_footed_Albatross\",\"065.Slaty_backed_Gull\",\"108.White_necked_Raven\",\"051.Horned_Grebe\",\"087.Mallard\",\"190.Red_cockaded_Woodpecker\",\"073.Blue_Jay\",\"197.Marsh_Wren\",\"172.Nashville_Warbler\",\"038.Great_Crested_Flycatcher\",\"198.Rock_Wren\",\"173.Orange_crowned_Warbler\",\"037.Acadian_Flycatcher\",\"109.American_Redstart\",\"004.Groove_billed_Ani\",\"142.Black_Tern\",\"171.Myrtle_Warbler\",\"123.Henslow_Sparrow\",\"182.Yellow_Warbler\",\"194.Cactus_Wren\",\"136.Barn_Swallow\",\"186.Cedar_Waxwing\",\"194.Cactus_Wren\",\"120.Fox_Sparrow\",\"125.Lincoln_Sparrow\",\"174.Palm_Warbler\",\"097.Orchard_Oriole\",\"142.Black_Tern\",\"137.Cliff_Swallow\",\"101.White_Pelican\",\"011.Rusty_Blackbird\",\"164.Cerulean_Warbler\",\"094.White_breasted_Nuthatch\",\"090.Red_breasted_Merganser\",\"017.Cardinal\",\"070.Green_Violetear\",\"124.Le_Conte_Sparrow\",\"030.Fish_Crow\",\"180.Wilson_Warbler\",\"008.Rhinoceros_Auklet\",\"190.Red_cockaded_Woodpecker\",\"195.Carolina_Wren\",\"009.Brewer_Blackbird\",\"056.Pine_Grosbeak\",\"162.Canada_Warbler\",\"055.Evening_Grosbeak\",\"189.Red_bellied_Woodpecker\",\"042.Vermilion_Flycatcher\",\"141.Artic_Tern\",\"133.White_throated_Sparrow\",\"099.Ovenbird\",\"146.Forsters_Tern\",\"162.Canada_Warbler\",\"097.Orchard_Oriole\",\"053.Western_Grebe\",\"054.Blue_Grosbeak\",\"014.Indigo_Bunting\",\"017.Cardinal\",\"146.Forsters_Tern\",\"028.Brown_Creeper\",\"089.Hooded_Merganser\",\"029.American_Crow\",\"022.Chuck_will_Widow\",\"048.European_Goldfinch\",\"060.Glaucous_winged_Gull\",\"158.Bay_breasted_Warbler\",\"149.Brown_Thrasher\",\"059.California_Gull\",\"112.Great_Grey_Shrike\",\"136.Barn_Swallow\",\"094.White_breasted_Nuthatch\",\"188.Pileated_Woodpecker\",\"165.Chestnut_sided_Warbler\",\"038.Great_Crested_Flycatcher\",\"051.Horned_Grebe\",\"020.Yellow_breasted_Chat\",\"029.American_Crow\",\"086.Pacific_Loon\",\"165.Chestnut_sided_Warbler\",\"177.Prothonotary_Warbler\",\"177.Prothonotary_Warbler\",\"138.Tree_Swallow\",\"153.Philadelphia_Vireo\",\"112.Great_Grey_Shrike\",\"020.Yellow_breasted_Chat\",\"178.Swainson_Warbler\",\"111.Loggerhead_Shrike\",\"037.Acadian_Flycatcher\",\"022.Chuck_will_Widow\",\"160.Black_throated_Blue_Warbler\",\"135.Bank_Swallow\",\"088.Western_Meadowlark\",\"167.Hooded_Warbler\",\"100.Brown_Pelican\",\"128.Seaside_Sparrow\",\"058.Pigeon_Guillemot\",\"084.Red_legged_Kittiwake\",\"165.Chestnut_sided_Warbler\",\"148.Green_tailed_Towhee\",\"051.Horned_Grebe\",\"169.Magnolia_Warbler\",\"197.Marsh_Wren\",\"118.House_Sparrow\",\"031.Black_billed_Cuckoo\",\"188.Pileated_Woodpecker\",\"089.Hooded_Merganser\",\"034.Gray_crowned_Rosy_Finch\",\"185.Bohemian_Waxwing\",\"050.Eared_Grebe\",\"071.Long_tailed_Jaeger\",\"165.Chestnut_sided_Warbler\",\"005.Crested_Auklet\",\"091.Mockingbird\",\"019.Gray_Catbird\",\"081.Pied_Kingfisher\",\"118.House_Sparrow\",\"039.Least_Flycatcher\",\"124.Le_Conte_Sparrow\",\"169.Magnolia_Warbler\",\"088.Western_Meadowlark\",\"192.Downy_Woodpecker\",\"076.Dark_eyed_Junco\",\"063.Ivory_Gull\",\"129.Song_Sparrow\",\"186.Cedar_Waxwing\",\"045.Northern_Fulmar\",\"074.Florida_Jay\",\"171.Myrtle_Warbler\",\"119.Field_Sparrow\",\"121.Grasshopper_Sparrow\",\"126.Nelson_Sharp_tailed_Sparrow\",\"129.Song_Sparrow\",\"088.Western_Meadowlark\",\"001.Black_footed_Albatross\",\"027.Shiny_Cowbird\",\"108.White_necked_Raven\",\"188.Pileated_Woodpecker\",\"166.Golden_winged_Warbler\",\"085.Horned_Lark\",\"045.Northern_Fulmar\",\"170.Mourning_Warbler\",\"016.Painted_Bunting\",\"036.Northern_Flicker\",\"137.Cliff_Swallow\",\"135.Bank_Swallow\",\"192.Downy_Woodpecker\",\"046.Gadwall\",\"179.Tennessee_Warbler\",\"035.Purple_Finch\",\"090.Red_breasted_Merganser\",\"003.Sooty_Albatross\",\"045.Northern_Fulmar\",\"040.Olive_sided_Flycatcher\",\"012.Yellow_headed_Blackbird\",\"121.Grasshopper_Sparrow\",\"167.Hooded_Warbler\",\"065.Slaty_backed_Gull\",\"022.Chuck_will_Widow\",\"065.Slaty_backed_Gull\",\"096.Hooded_Oriole\",\"115.Brewer_Sparrow\",\"162.Canada_Warbler\",\"137.Cliff_Swallow\",\"006.Least_Auklet\",\"022.Chuck_will_Widow\",\"077.Tropical_Kingbird\",\"076.Dark_eyed_Junco\",\"172.Nashville_Warbler\",\"073.Blue_Jay\",\"061.Heermann_Gull\",\"083.White_breasted_Kingfisher\",\"049.Boat_tailed_Grackle\",\"088.Western_Meadowlark\",\"077.Tropical_Kingbird\",\"055.Evening_Grosbeak\",\"184.Louisiana_Waterthrush\",\"068.Ruby_throated_Hummingbird\",\"043.Yellow_bellied_Flycatcher\",\"186.Cedar_Waxwing\",\"074.Florida_Jay\",\"087.Mallard\",\"049.Boat_tailed_Grackle\",\"130.Tree_Sparrow\",\"017.Cardinal\",\"080.Green_Kingfisher\",\"149.Brown_Thrasher\",\"112.Great_Grey_Shrike\",\"033.Yellow_billed_Cuckoo\",\"103.Sayornis\",\"016.Painted_Bunting\",\"031.Black_billed_Cuckoo\",\"167.Hooded_Warbler\",\"118.House_Sparrow\",\"079.Belted_Kingfisher\",\"160.Black_throated_Blue_Warbler\",\"158.Bay_breasted_Warbler\",\"153.Philadelphia_Vireo\",\"164.Cerulean_Warbler\",\"033.Yellow_billed_Cuckoo\",\"143.Caspian_Tern\",\"079.Belted_Kingfisher\",\"059.California_Gull\",\"185.Bohemian_Waxwing\",\"169.Magnolia_Warbler\",\"140.Summer_Tanager\",\"020.Yellow_breasted_Chat\",\"004.Groove_billed_Ani\",\"137.Cliff_Swallow\",\"072.Pomarine_Jaeger\",\"169.Magnolia_Warbler\",\"166.Golden_winged_Warbler\",\"019.Gray_Catbird\",\"095.Baltimore_Oriole\",\"132.White_crowned_Sparrow\",\"039.Least_Flycatcher\",\"145.Elegant_Tern\",\"003.Sooty_Albatross\",\"162.Canada_Warbler\",\"091.Mockingbird\",\"071.Long_tailed_Jaeger\",\"065.Slaty_backed_Gull\",\"130.Tree_Sparrow\",\"095.Baltimore_Oriole\",\"112.Great_Grey_Shrike\",\"047.American_Goldfinch\",\"072.Pomarine_Jaeger\",\"093.Clark_Nutcracker\",\"012.Yellow_headed_Blackbird\",\"026.Bronzed_Cowbird\",\"163.Cape_May_Warbler\",\"122.Harris_Sparrow\",\"084.Red_legged_Kittiwake\",\"076.Dark_eyed_Junco\",\"135.Bank_Swallow\",\"149.Brown_Thrasher\",\"023.Brandt_Cormorant\",\"142.Black_Tern\",\"069.Rufous_Hummingbird\",\"033.Yellow_billed_Cuckoo\",\"141.Artic_Tern\",\"162.Canada_Warbler\",\"096.Hooded_Oriole\",\"086.Pacific_Loon\",\"009.Brewer_Blackbird\",\"033.Yellow_billed_Cuckoo\",\"096.Hooded_Oriole\",\"166.Golden_winged_Warbler\",\"008.Rhinoceros_Auklet\",\"008.Rhinoceros_Auklet\",\"146.Forsters_Tern\",\"010.Red_winged_Blackbird\",\"046.Gadwall\",\"198.Rock_Wren\",\"188.Pileated_Woodpecker\",\"025.Pelagic_Cormorant\",\"154.Red_eyed_Vireo\",\"067.Anna_Hummingbird\",\"010.Red_winged_Blackbird\",\"046.Gadwall\",\"102.Western_Wood_Pewee\",\"151.Black_capped_Vireo\",\"035.Purple_Finch\",\"119.Field_Sparrow\",\"003.Sooty_Albatross\",\"168.Kentucky_Warbler\",\"133.White_throated_Sparrow\",\"177.Prothonotary_Warbler\",\"113.Baird_Sparrow\",\"128.Seaside_Sparrow\",\"047.American_Goldfinch\",\"081.Pied_Kingfisher\",\"125.Lincoln_Sparrow\",\"172.Nashville_Warbler\",\"193.Bewick_Wren\",\"156.White_eyed_Vireo\",\"013.Bobolink\",\"140.Summer_Tanager\",\"112.Great_Grey_Shrike\",\"020.Yellow_breasted_Chat\",\"091.Mockingbird\",\"090.Red_breasted_Merganser\",\"126.Nelson_Sharp_tailed_Sparrow\",\"153.Philadelphia_Vireo\",\"090.Red_breasted_Merganser\",\"085.Horned_Lark\",\"010.Red_winged_Blackbird\",\"086.Pacific_Loon\",\"090.Red_breasted_Merganser\",\"199.Winter_Wren\",\"124.Le_Conte_Sparrow\",\"018.Spotted_Catbird\",\"152.Blue_headed_Vireo\",\"052.Pied_billed_Grebe\",\"112.Great_Grey_Shrike\",\"049.Boat_tailed_Grackle\",\"048.European_Goldfinch\",\"038.Great_Crested_Flycatcher\",\"133.White_throated_Sparrow\",\"199.Winter_Wren\",\"143.Caspian_Tern\",\"026.Bronzed_Cowbird\",\"173.Orange_crowned_Warbler\",\"107.Common_Raven\",\"057.Rose_breasted_Grosbeak\",\"073.Blue_Jay\",\"147.Least_Tern\",\"091.Mockingbird\",\"049.Boat_tailed_Grackle\",\"198.Rock_Wren\",\"181.Worm_eating_Warbler\",\"080.Green_Kingfisher\",\"146.Forsters_Tern\",\"009.Brewer_Blackbird\",\"048.European_Goldfinch\",\"033.Yellow_billed_Cuckoo\",\"173.Orange_crowned_Warbler\",\"043.Yellow_bellied_Flycatcher\",\"176.Prairie_Warbler\",\"021.Eastern_Towhee\",\"006.Least_Auklet\",\"186.Cedar_Waxwing\",\"106.Horned_Puffin\",\"110.Geococcyx\",\"063.Ivory_Gull\",\"100.Brown_Pelican\",\"143.Caspian_Tern\",\"158.Bay_breasted_Warbler\",\"048.European_Goldfinch\",\"036.Northern_Flicker\",\"139.Scarlet_Tanager\",\"146.Forsters_Tern\",\"166.Golden_winged_Warbler\",\"118.House_Sparrow\",\"158.Bay_breasted_Warbler\",\"008.Rhinoceros_Auklet\",\"088.Western_Meadowlark\",\"124.Le_Conte_Sparrow\",\"171.Myrtle_Warbler\",\"038.Great_Crested_Flycatcher\",\"150.Sage_Thrasher\",\"174.Palm_Warbler\",\"142.Black_Tern\",\"067.Anna_Hummingbird\",\"041.Scissor_tailed_Flycatcher\",\"156.White_eyed_Vireo\",\"095.Baltimore_Oriole\",\"182.Yellow_Warbler\",\"170.Mourning_Warbler\",\"082.Ringed_Kingfisher\",\"160.Black_throated_Blue_Warbler\",\"118.House_Sparrow\",\"184.Louisiana_Waterthrush\",\"184.Louisiana_Waterthrush\",\"133.White_throated_Sparrow\",\"004.Groove_billed_Ani\",\"007.Parakeet_Auklet\",\"063.Ivory_Gull\",\"045.Northern_Fulmar\",\"179.Tennessee_Warbler\",\"050.Eared_Grebe\",\"183.Northern_Waterthrush\",\"184.Louisiana_Waterthrush\",\"191.Red_headed_Woodpecker\",\"109.American_Redstart\",\"061.Heermann_Gull\",\"141.Artic_Tern\",\"021.Eastern_Towhee\",\"147.Least_Tern\",\"185.Bohemian_Waxwing\",\"184.Louisiana_Waterthrush\",\"046.Gadwall\",\"032.Mangrove_Cuckoo\",\"055.Evening_Grosbeak\",\"094.White_breasted_Nuthatch\",\"161.Blue_winged_Warbler\",\"002.Laysan_Albatross\",\"166.Golden_winged_Warbler\",\"156.White_eyed_Vireo\",\"048.European_Goldfinch\",\"074.Florida_Jay\",\"133.White_throated_Sparrow\",\"087.Mallard\",\"164.Cerulean_Warbler\",\"115.Brewer_Sparrow\",\"168.Kentucky_Warbler\",\"101.White_Pelican\",\"016.Painted_Bunting\",\"029.American_Crow\",\"087.Mallard\",\"095.Baltimore_Oriole\",\"084.Red_legged_Kittiwake\",\"130.Tree_Sparrow\",\"001.Black_footed_Albatross\",\"103.Sayornis\",\"027.Shiny_Cowbird\",\"092.Nighthawk\",\"172.Nashville_Warbler\",\"088.Western_Meadowlark\",\"058.Pigeon_Guillemot\",\"021.Eastern_Towhee\",\"096.Hooded_Oriole\",\"047.American_Goldfinch\",\"089.Hooded_Merganser\",\"193.Bewick_Wren\",\"088.Western_Meadowlark\",\"197.Marsh_Wren\",\"105.Whip_poor_Will\",\"187.American_Three_toed_Woodpecker\",\"015.Lazuli_Bunting\",\"191.Red_headed_Woodpecker\",\"160.Black_throated_Blue_Warbler\",\"189.Red_bellied_Woodpecker\",\"078.Gray_Kingbird\",\"131.Vesper_Sparrow\",\"034.Gray_crowned_Rosy_Finch\",\"058.Pigeon_Guillemot\",\"188.Pileated_Woodpecker\",\"063.Ivory_Gull\",\"110.Geococcyx\",\"154.Red_eyed_Vireo\",\"051.Horned_Grebe\",\"003.Sooty_Albatross\",\"104.American_Pipit\",\"039.Least_Flycatcher\",\"059.California_Gull\",\"059.California_Gull\",\"035.Purple_Finch\",\"082.Ringed_Kingfisher\",\"142.Black_Tern\",\"073.Blue_Jay\",\"172.Nashville_Warbler\",\"107.Common_Raven\",\"039.Least_Flycatcher\",\"064.Ring_billed_Gull\",\"149.Brown_Thrasher\",\"068.Ruby_throated_Hummingbird\",\"031.Black_billed_Cuckoo\",\"029.American_Crow\",\"076.Dark_eyed_Junco\",\"198.Rock_Wren\",\"117.Clay_colored_Sparrow\",\"186.Cedar_Waxwing\",\"175.Pine_Warbler\",\"049.Boat_tailed_Grackle\",\"176.Prairie_Warbler\",\"023.Brandt_Cormorant\",\"080.Green_Kingfisher\",\"026.Bronzed_Cowbird\",\"141.Artic_Tern\",\"120.Fox_Sparrow\",\"129.Song_Sparrow\",\"153.Philadelphia_Vireo\",\"006.Least_Auklet\",\"104.American_Pipit\",\"095.Baltimore_Oriole\",\"032.Mangrove_Cuckoo\",\"063.Ivory_Gull\",\"170.Mourning_Warbler\",\"191.Red_headed_Woodpecker\",\"137.Cliff_Swallow\",\"016.Painted_Bunting\",\"097.Orchard_Oriole\",\"177.Prothonotary_Warbler\",\"175.Pine_Warbler\",\"080.Green_Kingfisher\",\"143.Caspian_Tern\",\"154.Red_eyed_Vireo\",\"115.Brewer_Sparrow\",\"122.Harris_Sparrow\",\"077.Tropical_Kingbird\",\"156.White_eyed_Vireo\",\"034.Gray_crowned_Rosy_Finch\",\"077.Tropical_Kingbird\",\"030.Fish_Crow\",\"005.Crested_Auklet\",\"146.Forsters_Tern\",\"083.White_breasted_Kingfisher\",\"105.Whip_poor_Will\",\"185.Bohemian_Waxwing\",\"064.Ring_billed_Gull\",\"190.Red_cockaded_Woodpecker\",\"079.Belted_Kingfisher\",\"010.Red_winged_Blackbird\",\"036.Northern_Flicker\",\"064.Ring_billed_Gull\",\"023.Brandt_Cormorant\",\"123.Henslow_Sparrow\",\"065.Slaty_backed_Gull\",\"054.Blue_Grosbeak\",\"130.Tree_Sparrow\",\"068.Ruby_throated_Hummingbird\",\"020.Yellow_breasted_Chat\",\"194.Cactus_Wren\",\"008.Rhinoceros_Auklet\",\"133.White_throated_Sparrow\",\"092.Nighthawk\",\"176.Prairie_Warbler\",\"152.Blue_headed_Vireo\",\"165.Chestnut_sided_Warbler\",\"002.Laysan_Albatross\",\"144.Common_Tern\",\"117.Clay_colored_Sparrow\",\"095.Baltimore_Oriole\",\"081.Pied_Kingfisher\",\"136.Barn_Swallow\",\"024.Red_faced_Cormorant\",\"190.Red_cockaded_Woodpecker\",\"025.Pelagic_Cormorant\",\"156.White_eyed_Vireo\",\"095.Baltimore_Oriole\",\"153.Philadelphia_Vireo\",\"187.American_Three_toed_Woodpecker\",\"097.Orchard_Oriole\",\"026.Bronzed_Cowbird\",\"060.Glaucous_winged_Gull\",\"156.White_eyed_Vireo\",\"177.Prothonotary_Warbler\",\"145.Elegant_Tern\",\"128.Seaside_Sparrow\",\"101.White_Pelican\",\"101.White_Pelican\",\"100.Brown_Pelican\",\"134.Cape_Glossy_Starling\",\"132.White_crowned_Sparrow\",\"194.Cactus_Wren\",\"091.Mockingbird\",\"139.Scarlet_Tanager\",\"042.Vermilion_Flycatcher\",\"198.Rock_Wren\",\"137.Cliff_Swallow\",\"169.Magnolia_Warbler\",\"119.Field_Sparrow\",\"035.Purple_Finch\",\"053.Western_Grebe\",\"129.Song_Sparrow\",\"170.Mourning_Warbler\",\"097.Orchard_Oriole\",\"074.Florida_Jay\",\"112.Great_Grey_Shrike\",\"126.Nelson_Sharp_tailed_Sparrow\",\"059.California_Gull\",\"005.Crested_Auklet\",\"057.Rose_breasted_Grosbeak\",\"113.Baird_Sparrow\",\"109.American_Redstart\",\"079.Belted_Kingfisher\",\"106.Horned_Puffin\",\"183.Northern_Waterthrush\",\"012.Yellow_headed_Blackbird\",\"162.Canada_Warbler\",\"191.Red_headed_Woodpecker\",\"122.Harris_Sparrow\",\"073.Blue_Jay\",\"119.Field_Sparrow\",\"193.Bewick_Wren\",\"032.Mangrove_Cuckoo\",\"122.Harris_Sparrow\",\"069.Rufous_Hummingbird\",\"127.Savannah_Sparrow\",\"090.Red_breasted_Merganser\",\"030.Fish_Crow\",\"011.Rusty_Blackbird\",\"002.Laysan_Albatross\",\"062.Herring_Gull\",\"029.American_Crow\",\"147.Least_Tern\",\"047.American_Goldfinch\",\"157.Yellow_throated_Vireo\",\"154.Red_eyed_Vireo\",\"106.Horned_Puffin\",\"189.Red_bellied_Woodpecker\",\"149.Brown_Thrasher\",\"049.Boat_tailed_Grackle\",\"115.Brewer_Sparrow\",\"064.Ring_billed_Gull\",\"077.Tropical_Kingbird\",\"071.Long_tailed_Jaeger\",\"020.Yellow_breasted_Chat\",\"038.Great_Crested_Flycatcher\",\"147.Least_Tern\",\"062.Herring_Gull\",\"147.Least_Tern\",\"017.Cardinal\",\"064.Ring_billed_Gull\",\"158.Bay_breasted_Warbler\",\"060.Glaucous_winged_Gull\",\"090.Red_breasted_Merganser\",\"143.Caspian_Tern\",\"099.Ovenbird\",\"060.Glaucous_winged_Gull\",\"123.Henslow_Sparrow\",\"105.Whip_poor_Will\",\"093.Clark_Nutcracker\",\"047.American_Goldfinch\",\"005.Crested_Auklet\",\"056.Pine_Grosbeak\",\"144.Common_Tern\",\"104.American_Pipit\",\"061.Heermann_Gull\",\"115.Brewer_Sparrow\",\"087.Mallard\",\"095.Baltimore_Oriole\",\"053.Western_Grebe\",\"046.Gadwall\",\"021.Eastern_Towhee\",\"034.Gray_crowned_Rosy_Finch\",\"153.Philadelphia_Vireo\",\"170.Mourning_Warbler\",\"136.Barn_Swallow\",\"066.Western_Gull\",\"116.Chipping_Sparrow\",\"166.Golden_winged_Warbler\",\"025.Pelagic_Cormorant\",\"144.Common_Tern\",\"157.Yellow_throated_Vireo\",\"043.Yellow_bellied_Flycatcher\",\"179.Tennessee_Warbler\",\"187.American_Three_toed_Woodpecker\",\"018.Spotted_Catbird\",\"103.Sayornis\",\"072.Pomarine_Jaeger\",\"114.Black_throated_Sparrow\",\"200.Common_Yellowthroat\",\"191.Red_headed_Woodpecker\",\"143.Caspian_Tern\",\"183.Northern_Waterthrush\",\"161.Blue_winged_Warbler\",\"199.Winter_Wren\",\"126.Nelson_Sharp_tailed_Sparrow\",\"181.Worm_eating_Warbler\",\"034.Gray_crowned_Rosy_Finch\",\"005.Crested_Auklet\",\"062.Herring_Gull\",\"187.American_Three_toed_Woodpecker\",\"115.Brewer_Sparrow\",\"124.Le_Conte_Sparrow\",\"082.Ringed_Kingfisher\",\"102.Western_Wood_Pewee\",\"117.Clay_colored_Sparrow\",\"180.Wilson_Warbler\",\"162.Canada_Warbler\",\"125.Lincoln_Sparrow\",\"187.American_Three_toed_Woodpecker\",\"014.Indigo_Bunting\",\"052.Pied_billed_Grebe\",\"146.Forsters_Tern\",\"159.Black_and_white_Warbler\",\"052.Pied_billed_Grebe\",\"040.Olive_sided_Flycatcher\",\"130.Tree_Sparrow\",\"085.Horned_Lark\",\"159.Black_and_white_Warbler\",\"097.Orchard_Oriole\",\"108.White_necked_Raven\",\"137.Cliff_Swallow\",\"065.Slaty_backed_Gull\",\"059.California_Gull\",\"189.Red_bellied_Woodpecker\",\"129.Song_Sparrow\",\"011.Rusty_Blackbird\",\"156.White_eyed_Vireo\",\"125.Lincoln_Sparrow\",\"097.Orchard_Oriole\",\"187.American_Three_toed_Woodpecker\",\"105.Whip_poor_Will\",\"034.Gray_crowned_Rosy_Finch\",\"090.Red_breasted_Merganser\",\"035.Purple_Finch\",\"136.Barn_Swallow\",\"173.Orange_crowned_Warbler\",\"146.Forsters_Tern\",\"025.Pelagic_Cormorant\",\"080.Green_Kingfisher\",\"176.Prairie_Warbler\",\"164.Cerulean_Warbler\",\"059.California_Gull\",\"092.Nighthawk\",\"098.Scott_Oriole\",\"072.Pomarine_Jaeger\",\"200.Common_Yellowthroat\",\"098.Scott_Oriole\",\"095.Baltimore_Oriole\",\"132.White_crowned_Sparrow\",\"087.Mallard\",\"078.Gray_Kingbird\",\"047.American_Goldfinch\",\"189.Red_bellied_Woodpecker\",\"100.Brown_Pelican\",\"003.Sooty_Albatross\",\"173.Orange_crowned_Warbler\",\"013.Bobolink\",\"078.Gray_Kingbird\",\"028.Brown_Creeper\",\"025.Pelagic_Cormorant\",\"075.Green_Jay\",\"069.Rufous_Hummingbird\",\"183.Northern_Waterthrush\",\"177.Prothonotary_Warbler\",\"085.Horned_Lark\",\"007.Parakeet_Auklet\",\"186.Cedar_Waxwing\",\"119.Field_Sparrow\",\"110.Geococcyx\",\"164.Cerulean_Warbler\",\"168.Kentucky_Warbler\",\"181.Worm_eating_Warbler\",\"165.Chestnut_sided_Warbler\",\"124.Le_Conte_Sparrow\",\"197.Marsh_Wren\",\"087.Mallard\",\"020.Yellow_breasted_Chat\",\"189.Red_bellied_Woodpecker\",\"126.Nelson_Sharp_tailed_Sparrow\",\"185.Bohemian_Waxwing\",\"024.Red_faced_Cormorant\",\"138.Tree_Swallow\",\"153.Philadelphia_Vireo\",\"070.Green_Violetear\",\"019.Gray_Catbird\",\"015.Lazuli_Bunting\",\"029.American_Crow\",\"051.Horned_Grebe\",\"076.Dark_eyed_Junco\",\"121.Grasshopper_Sparrow\",\"062.Herring_Gull\",\"069.Rufous_Hummingbird\",\"127.Savannah_Sparrow\",\"110.Geococcyx\",\"010.Red_winged_Blackbird\",\"200.Common_Yellowthroat\",\"194.Cactus_Wren\",\"184.Louisiana_Waterthrush\",\"183.Northern_Waterthrush\",\"111.Loggerhead_Shrike\",\"044.Frigatebird\",\"150.Sage_Thrasher\",\"074.Florida_Jay\",\"059.California_Gull\",\"175.Pine_Warbler\",\"111.Loggerhead_Shrike\",\"038.Great_Crested_Flycatcher\",\"082.Ringed_Kingfisher\",\"127.Savannah_Sparrow\",\"144.Common_Tern\",\"155.Warbling_Vireo\",\"004.Groove_billed_Ani\",\"128.Seaside_Sparrow\",\"067.Anna_Hummingbird\",\"010.Red_winged_Blackbird\",\"171.Myrtle_Warbler\",\"029.American_Crow\",\"006.Least_Auklet\",\"138.Tree_Swallow\",\"080.Green_Kingfisher\",\"140.Summer_Tanager\",\"010.Red_winged_Blackbird\",\"005.Crested_Auklet\",\"089.Hooded_Merganser\",\"165.Chestnut_sided_Warbler\",\"050.Eared_Grebe\",\"084.Red_legged_Kittiwake\",\"042.Vermilion_Flycatcher\",\"046.Gadwall\",\"148.Green_tailed_Towhee\",\"059.California_Gull\",\"193.Bewick_Wren\",\"171.Myrtle_Warbler\",\"001.Black_footed_Albatross\",\"009.Brewer_Blackbird\",\"022.Chuck_will_Widow\",\"055.Evening_Grosbeak\",\"092.Nighthawk\",\"086.Pacific_Loon\",\"099.Ovenbird\",\"085.Horned_Lark\",\"066.Western_Gull\",\"071.Long_tailed_Jaeger\",\"140.Summer_Tanager\",\"100.Brown_Pelican\",\"088.Western_Meadowlark\",\"050.Eared_Grebe\",\"154.Red_eyed_Vireo\",\"116.Chipping_Sparrow\",\"138.Tree_Swallow\",\"183.Northern_Waterthrush\",\"052.Pied_billed_Grebe\",\"022.Chuck_will_Widow\",\"177.Prothonotary_Warbler\",\"198.Rock_Wren\",\"001.Black_footed_Albatross\",\"178.Swainson_Warbler\",\"125.Lincoln_Sparrow\",\"050.Eared_Grebe\",\"085.Horned_Lark\",\"195.Carolina_Wren\",\"070.Green_Violetear\",\"174.Palm_Warbler\",\"003.Sooty_Albatross\",\"073.Blue_Jay\",\"122.Harris_Sparrow\",\"044.Frigatebird\",\"179.Tennessee_Warbler\",\"048.European_Goldfinch\",\"058.Pigeon_Guillemot\",\"125.Lincoln_Sparrow\",\"157.Yellow_throated_Vireo\",\"086.Pacific_Loon\",\"063.Ivory_Gull\",\"038.Great_Crested_Flycatcher\",\"052.Pied_billed_Grebe\",\"193.Bewick_Wren\",\"174.Palm_Warbler\",\"194.Cactus_Wren\",\"049.Boat_tailed_Grackle\",\"147.Least_Tern\",\"023.Brandt_Cormorant\",\"104.American_Pipit\",\"080.Green_Kingfisher\",\"042.Vermilion_Flycatcher\",\"193.Bewick_Wren\",\"005.Crested_Auklet\",\"095.Baltimore_Oriole\",\"081.Pied_Kingfisher\",\"150.Sage_Thrasher\",\"085.Horned_Lark\",\"157.Yellow_throated_Vireo\",\"100.Brown_Pelican\",\"158.Bay_breasted_Warbler\",\"173.Orange_crowned_Warbler\",\"002.Laysan_Albatross\",\"048.European_Goldfinch\",\"143.Caspian_Tern\",\"149.Brown_Thrasher\",\"148.Green_tailed_Towhee\",\"130.Tree_Sparrow\",\"121.Grasshopper_Sparrow\",\"011.Rusty_Blackbird\",\"148.Green_tailed_Towhee\",\"095.Baltimore_Oriole\",\"069.Rufous_Hummingbird\",\"067.Anna_Hummingbird\",\"076.Dark_eyed_Junco\",\"010.Red_winged_Blackbird\",\"097.Orchard_Oriole\",\"062.Herring_Gull\",\"051.Horned_Grebe\",\"102.Western_Wood_Pewee\",\"137.Cliff_Swallow\",\"182.Yellow_Warbler\",\"145.Elegant_Tern\",\"162.Canada_Warbler\",\"110.Geococcyx\",\"129.Song_Sparrow\",\"009.Brewer_Blackbird\",\"105.Whip_poor_Will\",\"060.Glaucous_winged_Gull\",\"051.Horned_Grebe\",\"135.Bank_Swallow\",\"009.Brewer_Blackbird\",\"192.Downy_Woodpecker\",\"009.Brewer_Blackbird\",\"138.Tree_Swallow\",\"155.Warbling_Vireo\",\"179.Tennessee_Warbler\",\"090.Red_breasted_Merganser\",\"102.Western_Wood_Pewee\",\"010.Red_winged_Blackbird\",\"147.Least_Tern\",\"183.Northern_Waterthrush\",\"198.Rock_Wren\",\"141.Artic_Tern\",\"190.Red_cockaded_Woodpecker\",\"158.Bay_breasted_Warbler\",\"068.Ruby_throated_Hummingbird\",\"015.Lazuli_Bunting\",\"007.Parakeet_Auklet\",\"183.Northern_Waterthrush\",\"181.Worm_eating_Warbler\",\"149.Brown_Thrasher\",\"109.American_Redstart\",\"072.Pomarine_Jaeger\",\"021.Eastern_Towhee\",\"178.Swainson_Warbler\",\"174.Palm_Warbler\",\"144.Common_Tern\",\"050.Eared_Grebe\",\"134.Cape_Glossy_Starling\",\"087.Mallard\",\"152.Blue_headed_Vireo\",\"166.Golden_winged_Warbler\",\"079.Belted_Kingfisher\",\"078.Gray_Kingbird\",\"080.Green_Kingfisher\",\"093.Clark_Nutcracker\",\"075.Green_Jay\",\"172.Nashville_Warbler\",\"153.Philadelphia_Vireo\",\"188.Pileated_Woodpecker\",\"061.Heermann_Gull\",\"126.Nelson_Sharp_tailed_Sparrow\",\"120.Fox_Sparrow\",\"119.Field_Sparrow\",\"111.Loggerhead_Shrike\",\"199.Winter_Wren\",\"087.Mallard\",\"094.White_breasted_Nuthatch\",\"193.Bewick_Wren\",\"064.Ring_billed_Gull\",\"139.Scarlet_Tanager\",\"042.Vermilion_Flycatcher\",\"067.Anna_Hummingbird\",\"066.Western_Gull\",\"055.Evening_Grosbeak\",\"115.Brewer_Sparrow\",\"068.Ruby_throated_Hummingbird\",\"198.Rock_Wren\",\"168.Kentucky_Warbler\",\"196.House_Wren\",\"148.Green_tailed_Towhee\",\"179.Tennessee_Warbler\",\"199.Winter_Wren\",\"108.White_necked_Raven\",\"193.Bewick_Wren\",\"071.Long_tailed_Jaeger\",\"038.Great_Crested_Flycatcher\",\"035.Purple_Finch\",\"098.Scott_Oriole\",\"152.Blue_headed_Vireo\",\"193.Bewick_Wren\",\"105.Whip_poor_Will\",\"029.American_Crow\",\"186.Cedar_Waxwing\",\"074.Florida_Jay\",\"200.Common_Yellowthroat\",\"179.Tennessee_Warbler\",\"156.White_eyed_Vireo\",\"085.Horned_Lark\",\"173.Orange_crowned_Warbler\",\"195.Carolina_Wren\",\"154.Red_eyed_Vireo\",\"079.Belted_Kingfisher\",\"121.Grasshopper_Sparrow\",\"001.Black_footed_Albatross\",\"177.Prothonotary_Warbler\",\"012.Yellow_headed_Blackbird\",\"132.White_crowned_Sparrow\",\"136.Barn_Swallow\",\"007.Parakeet_Auklet\",\"187.American_Three_toed_Woodpecker\",\"128.Seaside_Sparrow\",\"009.Brewer_Blackbird\",\"182.Yellow_Warbler\",\"012.Yellow_headed_Blackbird\",\"072.Pomarine_Jaeger\",\"098.Scott_Oriole\",\"123.Henslow_Sparrow\",\"188.Pileated_Woodpecker\",\"032.Mangrove_Cuckoo\",\"068.Ruby_throated_Hummingbird\",\"009.Brewer_Blackbird\",\"160.Black_throated_Blue_Warbler\",\"069.Rufous_Hummingbird\",\"070.Green_Violetear\",\"001.Black_footed_Albatross\",\"188.Pileated_Woodpecker\",\"067.Anna_Hummingbird\",\"034.Gray_crowned_Rosy_Finch\",\"161.Blue_winged_Warbler\",\"096.Hooded_Oriole\",\"103.Sayornis\",\"018.Spotted_Catbird\",\"097.Orchard_Oriole\",\"127.Savannah_Sparrow\",\"099.Ovenbird\",\"063.Ivory_Gull\",\"032.Mangrove_Cuckoo\",\"007.Parakeet_Auklet\",\"034.Gray_crowned_Rosy_Finch\",\"068.Ruby_throated_Hummingbird\",\"100.Brown_Pelican\",\"168.Kentucky_Warbler\",\"164.Cerulean_Warbler\",\"077.Tropical_Kingbird\",\"071.Long_tailed_Jaeger\",\"148.Green_tailed_Towhee\",\"068.Ruby_throated_Hummingbird\",\"139.Scarlet_Tanager\",\"001.Black_footed_Albatross\",\"005.Crested_Auklet\",\"170.Mourning_Warbler\",\"129.Song_Sparrow\",\"063.Ivory_Gull\",\"139.Scarlet_Tanager\",\"199.Winter_Wren\",\"057.Rose_breasted_Grosbeak\",\"004.Groove_billed_Ani\",\"076.Dark_eyed_Junco\",\"077.Tropical_Kingbird\",\"013.Bobolink\",\"043.Yellow_bellied_Flycatcher\",\"170.Mourning_Warbler\",\"119.Field_Sparrow\",\"084.Red_legged_Kittiwake\",\"065.Slaty_backed_Gull\",\"099.Ovenbird\",\"064.Ring_billed_Gull\",\"181.Worm_eating_Warbler\",\"044.Frigatebird\",\"062.Herring_Gull\",\"114.Black_throated_Sparrow\",\"084.Red_legged_Kittiwake\",\"093.Clark_Nutcracker\",\"175.Pine_Warbler\",\"133.White_throated_Sparrow\",\"044.Frigatebird\",\"064.Ring_billed_Gull\",\"031.Black_billed_Cuckoo\",\"076.Dark_eyed_Junco\",\"060.Glaucous_winged_Gull\",\"004.Groove_billed_Ani\",\"117.Clay_colored_Sparrow\",\"114.Black_throated_Sparrow\",\"102.Western_Wood_Pewee\",\"091.Mockingbird\",\"157.Yellow_throated_Vireo\",\"142.Black_Tern\",\"061.Heermann_Gull\",\"045.Northern_Fulmar\",\"163.Cape_May_Warbler\",\"176.Prairie_Warbler\",\"168.Kentucky_Warbler\",\"075.Green_Jay\",\"088.Western_Meadowlark\",\"128.Seaside_Sparrow\",\"123.Henslow_Sparrow\",\"113.Baird_Sparrow\",\"167.Hooded_Warbler\",\"095.Baltimore_Oriole\",\"104.American_Pipit\",\"102.Western_Wood_Pewee\",\"111.Loggerhead_Shrike\",\"072.Pomarine_Jaeger\",\"178.Swainson_Warbler\",\"132.White_crowned_Sparrow\",\"174.Palm_Warbler\",\"053.Western_Grebe\",\"200.Common_Yellowthroat\",\"184.Louisiana_Waterthrush\",\"085.Horned_Lark\",\"110.Geococcyx\",\"016.Painted_Bunting\",\"169.Magnolia_Warbler\",\"124.Le_Conte_Sparrow\",\"080.Green_Kingfisher\",\"111.Loggerhead_Shrike\",\"073.Blue_Jay\",\"016.Painted_Bunting\",\"102.Western_Wood_Pewee\",\"162.Canada_Warbler\",\"191.Red_headed_Woodpecker\",\"078.Gray_Kingbird\",\"177.Prothonotary_Warbler\",\"035.Purple_Finch\",\"076.Dark_eyed_Junco\",\"198.Rock_Wren\",\"103.Sayornis\",\"076.Dark_eyed_Junco\",\"127.Savannah_Sparrow\",\"080.Green_Kingfisher\",\"163.Cape_May_Warbler\",\"084.Red_legged_Kittiwake\",\"150.Sage_Thrasher\",\"184.Louisiana_Waterthrush\",\"056.Pine_Grosbeak\",\"002.Laysan_Albatross\",\"056.Pine_Grosbeak\",\"100.Brown_Pelican\",\"013.Bobolink\",\"054.Blue_Grosbeak\",\"015.Lazuli_Bunting\",\"176.Prairie_Warbler\",\"182.Yellow_Warbler\",\"031.Black_billed_Cuckoo\",\"148.Green_tailed_Towhee\",\"145.Elegant_Tern\",\"122.Harris_Sparrow\",\"175.Pine_Warbler\",\"126.Nelson_Sharp_tailed_Sparrow\",\"152.Blue_headed_Vireo\",\"038.Great_Crested_Flycatcher\",\"142.Black_Tern\",\"027.Shiny_Cowbird\",\"163.Cape_May_Warbler\",\"140.Summer_Tanager\",\"171.Myrtle_Warbler\",\"135.Bank_Swallow\",\"138.Tree_Swallow\",\"144.Common_Tern\",\"039.Least_Flycatcher\",\"059.California_Gull\",\"010.Red_winged_Blackbird\",\"191.Red_headed_Woodpecker\",\"157.Yellow_throated_Vireo\",\"147.Least_Tern\",\"012.Yellow_headed_Blackbird\",\"131.Vesper_Sparrow\",\"032.Mangrove_Cuckoo\",\"050.Eared_Grebe\",\"173.Orange_crowned_Warbler\",\"070.Green_Violetear\",\"038.Great_Crested_Flycatcher\",\"182.Yellow_Warbler\",\"028.Brown_Creeper\",\"119.Field_Sparrow\",\"003.Sooty_Albatross\",\"152.Blue_headed_Vireo\",\"095.Baltimore_Oriole\",\"123.Henslow_Sparrow\",\"085.Horned_Lark\",\"119.Field_Sparrow\",\"042.Vermilion_Flycatcher\",\"114.Black_throated_Sparrow\",\"051.Horned_Grebe\",\"096.Hooded_Oriole\",\"093.Clark_Nutcracker\",\"069.Rufous_Hummingbird\",\"023.Brandt_Cormorant\",\"020.Yellow_breasted_Chat\",\"070.Green_Violetear\",\"107.Common_Raven\",\"045.Northern_Fulmar\",\"180.Wilson_Warbler\",\"157.Yellow_throated_Vireo\",\"196.House_Wren\",\"089.Hooded_Merganser\",\"138.Tree_Swallow\",\"146.Forsters_Tern\",\"011.Rusty_Blackbird\",\"120.Fox_Sparrow\",\"123.Henslow_Sparrow\",\"068.Ruby_throated_Hummingbird\",\"132.White_crowned_Sparrow\",\"126.Nelson_Sharp_tailed_Sparrow\",\"124.Le_Conte_Sparrow\",\"100.Brown_Pelican\",\"044.Frigatebird\",\"044.Frigatebird\",\"101.White_Pelican\",\"078.Gray_Kingbird\",\"137.Cliff_Swallow\",\"096.Hooded_Oriole\",\"126.Nelson_Sharp_tailed_Sparrow\",\"015.Lazuli_Bunting\",\"026.Bronzed_Cowbird\",\"173.Orange_crowned_Warbler\",\"128.Seaside_Sparrow\",\"185.Bohemian_Waxwing\",\"139.Scarlet_Tanager\",\"104.American_Pipit\",\"151.Black_capped_Vireo\",\"076.Dark_eyed_Junco\",\"055.Evening_Grosbeak\",\"123.Henslow_Sparrow\",\"010.Red_winged_Blackbird\",\"099.Ovenbird\",\"103.Sayornis\",\"193.Bewick_Wren\",\"088.Western_Meadowlark\",\"150.Sage_Thrasher\",\"110.Geococcyx\",\"081.Pied_Kingfisher\",\"159.Black_and_white_Warbler\",\"030.Fish_Crow\",\"137.Cliff_Swallow\",\"193.Bewick_Wren\",\"158.Bay_breasted_Warbler\",\"052.Pied_billed_Grebe\",\"121.Grasshopper_Sparrow\",\"088.Western_Meadowlark\",\"015.Lazuli_Bunting\",\"019.Gray_Catbird\",\"107.Common_Raven\",\"036.Northern_Flicker\",\"089.Hooded_Merganser\",\"020.Yellow_breasted_Chat\",\"096.Hooded_Oriole\",\"109.American_Redstart\",\"193.Bewick_Wren\",\"033.Yellow_billed_Cuckoo\",\"013.Bobolink\",\"165.Chestnut_sided_Warbler\",\"164.Cerulean_Warbler\",\"038.Great_Crested_Flycatcher\",\"190.Red_cockaded_Woodpecker\",\"072.Pomarine_Jaeger\",\"196.House_Wren\",\"032.Mangrove_Cuckoo\",\"159.Black_and_white_Warbler\",\"188.Pileated_Woodpecker\",\"063.Ivory_Gull\",\"019.Gray_Catbird\",\"049.Boat_tailed_Grackle\",\"135.Bank_Swallow\",\"081.Pied_Kingfisher\",\"175.Pine_Warbler\",\"092.Nighthawk\",\"086.Pacific_Loon\",\"007.Parakeet_Auklet\",\"104.American_Pipit\",\"112.Great_Grey_Shrike\",\"132.White_crowned_Sparrow\",\"060.Glaucous_winged_Gull\",\"071.Long_tailed_Jaeger\",\"163.Cape_May_Warbler\",\"079.Belted_Kingfisher\",\"169.Magnolia_Warbler\",\"172.Nashville_Warbler\",\"192.Downy_Woodpecker\",\"062.Herring_Gull\",\"121.Grasshopper_Sparrow\",\"055.Evening_Grosbeak\",\"131.Vesper_Sparrow\",\"015.Lazuli_Bunting\",\"007.Parakeet_Auklet\",\"020.Yellow_breasted_Chat\",\"153.Philadelphia_Vireo\",\"113.Baird_Sparrow\",\"181.Worm_eating_Warbler\",\"199.Winter_Wren\",\"108.White_necked_Raven\",\"011.Rusty_Blackbird\",\"055.Evening_Grosbeak\",\"199.Winter_Wren\",\"115.Brewer_Sparrow\",\"123.Henslow_Sparrow\",\"016.Painted_Bunting\",\"128.Seaside_Sparrow\",\"020.Yellow_breasted_Chat\",\"067.Anna_Hummingbird\",\"071.Long_tailed_Jaeger\",\"139.Scarlet_Tanager\",\"150.Sage_Thrasher\",\"147.Least_Tern\",\"192.Downy_Woodpecker\",\"138.Tree_Swallow\",\"140.Summer_Tanager\",\"047.American_Goldfinch\",\"170.Mourning_Warbler\",\"038.Great_Crested_Flycatcher\",\"102.Western_Wood_Pewee\",\"047.American_Goldfinch\",\"158.Bay_breasted_Warbler\",\"169.Magnolia_Warbler\",\"034.Gray_crowned_Rosy_Finch\",\"022.Chuck_will_Widow\",\"049.Boat_tailed_Grackle\",\"192.Downy_Woodpecker\",\"011.Rusty_Blackbird\",\"131.Vesper_Sparrow\",\"109.American_Redstart\",\"114.Black_throated_Sparrow\",\"148.Green_tailed_Towhee\",\"096.Hooded_Oriole\",\"065.Slaty_backed_Gull\",\"026.Bronzed_Cowbird\",\"061.Heermann_Gull\",\"040.Olive_sided_Flycatcher\",\"192.Downy_Woodpecker\",\"195.Carolina_Wren\",\"191.Red_headed_Woodpecker\",\"016.Painted_Bunting\",\"077.Tropical_Kingbird\",\"015.Lazuli_Bunting\",\"187.American_Three_toed_Woodpecker\",\"197.Marsh_Wren\",\"128.Seaside_Sparrow\",\"111.Loggerhead_Shrike\",\"061.Heermann_Gull\",\"160.Black_throated_Blue_Warbler\",\"052.Pied_billed_Grebe\",\"112.Great_Grey_Shrike\",\"161.Blue_winged_Warbler\",\"027.Shiny_Cowbird\",\"075.Green_Jay\",\"044.Frigatebird\",\"174.Palm_Warbler\",\"173.Orange_crowned_Warbler\",\"121.Grasshopper_Sparrow\",\"070.Green_Violetear\",\"153.Philadelphia_Vireo\",\"152.Blue_headed_Vireo\",\"168.Kentucky_Warbler\",\"135.Bank_Swallow\",\"020.Yellow_breasted_Chat\",\"132.White_crowned_Sparrow\",\"020.Yellow_breasted_Chat\",\"011.Rusty_Blackbird\",\"074.Florida_Jay\",\"055.Evening_Grosbeak\",\"045.Northern_Fulmar\",\"099.Ovenbird\",\"081.Pied_Kingfisher\",\"071.Long_tailed_Jaeger\",\"023.Brandt_Cormorant\",\"175.Pine_Warbler\",\"133.White_throated_Sparrow\",\"181.Worm_eating_Warbler\",\"071.Long_tailed_Jaeger\",\"017.Cardinal\",\"163.Cape_May_Warbler\",\"025.Pelagic_Cormorant\",\"060.Glaucous_winged_Gull\",\"060.Glaucous_winged_Gull\",\"025.Pelagic_Cormorant\",\"051.Horned_Grebe\",\"011.Rusty_Blackbird\",\"024.Red_faced_Cormorant\",\"087.Mallard\",\"149.Brown_Thrasher\",\"181.Worm_eating_Warbler\",\"060.Glaucous_winged_Gull\",\"082.Ringed_Kingfisher\",\"059.California_Gull\",\"042.Vermilion_Flycatcher\",\"070.Green_Violetear\",\"087.Mallard\",\"099.Ovenbird\",\"096.Hooded_Oriole\",\"189.Red_bellied_Woodpecker\",\"017.Cardinal\",\"161.Blue_winged_Warbler\",\"125.Lincoln_Sparrow\",\"026.Bronzed_Cowbird\",\"137.Cliff_Swallow\",\"122.Harris_Sparrow\",\"109.American_Redstart\",\"166.Golden_winged_Warbler\",\"119.Field_Sparrow\",\"198.Rock_Wren\",\"182.Yellow_Warbler\",\"075.Green_Jay\",\"002.Laysan_Albatross\",\"032.Mangrove_Cuckoo\",\"059.California_Gull\",\"157.Yellow_throated_Vireo\",\"001.Black_footed_Albatross\",\"094.White_breasted_Nuthatch\",\"045.Northern_Fulmar\",\"136.Barn_Swallow\",\"086.Pacific_Loon\",\"059.California_Gull\",\"015.Lazuli_Bunting\",\"030.Fish_Crow\",\"191.Red_headed_Woodpecker\",\"077.Tropical_Kingbird\",\"149.Brown_Thrasher\",\"191.Red_headed_Woodpecker\",\"032.Mangrove_Cuckoo\",\"108.White_necked_Raven\",\"056.Pine_Grosbeak\",\"025.Pelagic_Cormorant\",\"070.Green_Violetear\",\"190.Red_cockaded_Woodpecker\",\"176.Prairie_Warbler\",\"162.Canada_Warbler\",\"107.Common_Raven\",\"050.Eared_Grebe\",\"059.California_Gull\",\"124.Le_Conte_Sparrow\",\"156.White_eyed_Vireo\",\"118.House_Sparrow\",\"030.Fish_Crow\",\"036.Northern_Flicker\",\"134.Cape_Glossy_Starling\",\"183.Northern_Waterthrush\",\"173.Orange_crowned_Warbler\",\"043.Yellow_bellied_Flycatcher\",\"145.Elegant_Tern\",\"046.Gadwall\",\"047.American_Goldfinch\",\"091.Mockingbird\",\"121.Grasshopper_Sparrow\",\"068.Ruby_throated_Hummingbird\",\"087.Mallard\",\"043.Yellow_bellied_Flycatcher\",\"039.Least_Flycatcher\",\"030.Fish_Crow\",\"002.Laysan_Albatross\",\"123.Henslow_Sparrow\",\"001.Black_footed_Albatross\",\"146.Forsters_Tern\",\"161.Blue_winged_Warbler\",\"083.White_breasted_Kingfisher\",\"003.Sooty_Albatross\",\"192.Downy_Woodpecker\",\"084.Red_legged_Kittiwake\",\"065.Slaty_backed_Gull\",\"057.Rose_breasted_Grosbeak\",\"054.Blue_Grosbeak\",\"066.Western_Gull\",\"014.Indigo_Bunting\",\"016.Painted_Bunting\",\"174.Palm_Warbler\",\"008.Rhinoceros_Auklet\",\"163.Cape_May_Warbler\",\"054.Blue_Grosbeak\",\"060.Glaucous_winged_Gull\",\"113.Baird_Sparrow\",\"075.Green_Jay\",\"054.Blue_Grosbeak\",\"092.Nighthawk\",\"114.Black_throated_Sparrow\",\"084.Red_legged_Kittiwake\",\"085.Horned_Lark\",\"065.Slaty_backed_Gull\",\"028.Brown_Creeper\",\"117.Clay_colored_Sparrow\",\"036.Northern_Flicker\",\"174.Palm_Warbler\",\"047.American_Goldfinch\",\"078.Gray_Kingbird\",\"197.Marsh_Wren\",\"103.Sayornis\",\"094.White_breasted_Nuthatch\",\"136.Barn_Swallow\",\"194.Cactus_Wren\",\"164.Cerulean_Warbler\",\"098.Scott_Oriole\",\"087.Mallard\",\"175.Pine_Warbler\",\"179.Tennessee_Warbler\",\"180.Wilson_Warbler\",\"184.Louisiana_Waterthrush\",\"050.Eared_Grebe\",\"099.Ovenbird\",\"091.Mockingbird\",\"168.Kentucky_Warbler\",\"164.Cerulean_Warbler\",\"149.Brown_Thrasher\",\"054.Blue_Grosbeak\",\"067.Anna_Hummingbird\",\"146.Forsters_Tern\",\"030.Fish_Crow\",\"023.Brandt_Cormorant\",\"051.Horned_Grebe\",\"172.Nashville_Warbler\",\"075.Green_Jay\",\"077.Tropical_Kingbird\",\"028.Brown_Creeper\",\"123.Henslow_Sparrow\",\"148.Green_tailed_Towhee\",\"148.Green_tailed_Towhee\",\"173.Orange_crowned_Warbler\",\"097.Orchard_Oriole\",\"051.Horned_Grebe\",\"121.Grasshopper_Sparrow\",\"159.Black_and_white_Warbler\",\"169.Magnolia_Warbler\",\"138.Tree_Swallow\",\"115.Brewer_Sparrow\",\"196.House_Wren\",\"142.Black_Tern\",\"191.Red_headed_Woodpecker\",\"041.Scissor_tailed_Flycatcher\",\"055.Evening_Grosbeak\",\"052.Pied_billed_Grebe\",\"039.Least_Flycatcher\",\"131.Vesper_Sparrow\",\"112.Great_Grey_Shrike\",\"015.Lazuli_Bunting\",\"101.White_Pelican\",\"134.Cape_Glossy_Starling\",\"184.Louisiana_Waterthrush\",\"198.Rock_Wren\",\"096.Hooded_Oriole\",\"178.Swainson_Warbler\",\"135.Bank_Swallow\",\"144.Common_Tern\",\"001.Black_footed_Albatross\",\"124.Le_Conte_Sparrow\",\"004.Groove_billed_Ani\",\"196.House_Wren\",\"125.Lincoln_Sparrow\",\"130.Tree_Sparrow\",\"091.Mockingbird\",\"127.Savannah_Sparrow\",\"076.Dark_eyed_Junco\",\"015.Lazuli_Bunting\",\"056.Pine_Grosbeak\",\"129.Song_Sparrow\",\"046.Gadwall\",\"030.Fish_Crow\",\"073.Blue_Jay\",\"042.Vermilion_Flycatcher\",\"053.Western_Grebe\",\"026.Bronzed_Cowbird\",\"021.Eastern_Towhee\",\"117.Clay_colored_Sparrow\",\"174.Palm_Warbler\",\"082.Ringed_Kingfisher\",\"191.Red_headed_Woodpecker\",\"032.Mangrove_Cuckoo\",\"065.Slaty_backed_Gull\",\"196.House_Wren\",\"005.Crested_Auklet\",\"006.Least_Auklet\",\"052.Pied_billed_Grebe\",\"031.Black_billed_Cuckoo\",\"150.Sage_Thrasher\",\"083.White_breasted_Kingfisher\",\"019.Gray_Catbird\",\"170.Mourning_Warbler\",\"039.Least_Flycatcher\",\"070.Green_Violetear\",\"073.Blue_Jay\",\"171.Myrtle_Warbler\",\"142.Black_Tern\",\"007.Parakeet_Auklet\",\"003.Sooty_Albatross\",\"079.Belted_Kingfisher\",\"160.Black_throated_Blue_Warbler\",\"099.Ovenbird\",\"033.Yellow_billed_Cuckoo\",\"155.Warbling_Vireo\",\"071.Long_tailed_Jaeger\",\"075.Green_Jay\",\"113.Baird_Sparrow\",\"041.Scissor_tailed_Flycatcher\",\"179.Tennessee_Warbler\",\"058.Pigeon_Guillemot\",\"067.Anna_Hummingbird\",\"153.Philadelphia_Vireo\",\"080.Green_Kingfisher\",\"180.Wilson_Warbler\",\"010.Red_winged_Blackbird\",\"140.Summer_Tanager\",\"076.Dark_eyed_Junco\",\"098.Scott_Oriole\",\"158.Bay_breasted_Warbler\",\"024.Red_faced_Cormorant\",\"148.Green_tailed_Towhee\",\"154.Red_eyed_Vireo\",\"019.Gray_Catbird\",\"160.Black_throated_Blue_Warbler\",\"066.Western_Gull\",\"074.Florida_Jay\",\"121.Grasshopper_Sparrow\",\"137.Cliff_Swallow\",\"076.Dark_eyed_Junco\",\"009.Brewer_Blackbird\",\"190.Red_cockaded_Woodpecker\",\"059.California_Gull\",\"169.Magnolia_Warbler\",\"104.American_Pipit\",\"086.Pacific_Loon\",\"056.Pine_Grosbeak\",\"003.Sooty_Albatross\",\"162.Canada_Warbler\",\"106.Horned_Puffin\",\"152.Blue_headed_Vireo\",\"154.Red_eyed_Vireo\",\"157.Yellow_throated_Vireo\",\"045.Northern_Fulmar\",\"095.Baltimore_Oriole\",\"189.Red_bellied_Woodpecker\",\"032.Mangrove_Cuckoo\",\"130.Tree_Sparrow\",\"031.Black_billed_Cuckoo\",\"007.Parakeet_Auklet\",\"142.Black_Tern\",\"108.White_necked_Raven\",\"012.Yellow_headed_Blackbird\",\"079.Belted_Kingfisher\",\"063.Ivory_Gull\",\"199.Winter_Wren\",\"093.Clark_Nutcracker\",\"186.Cedar_Waxwing\",\"185.Bohemian_Waxwing\",\"051.Horned_Grebe\",\"194.Cactus_Wren\",\"075.Green_Jay\",\"124.Le_Conte_Sparrow\",\"107.Common_Raven\",\"104.American_Pipit\",\"133.White_throated_Sparrow\",\"018.Spotted_Catbird\",\"196.House_Wren\",\"143.Caspian_Tern\",\"090.Red_breasted_Merganser\",\"195.Carolina_Wren\",\"108.White_necked_Raven\",\"132.White_crowned_Sparrow\",\"027.Shiny_Cowbird\",\"155.Warbling_Vireo\",\"011.Rusty_Blackbird\",\"062.Herring_Gull\",\"199.Winter_Wren\",\"079.Belted_Kingfisher\",\"147.Least_Tern\",\"176.Prairie_Warbler\",\"095.Baltimore_Oriole\",\"135.Bank_Swallow\",\"125.Lincoln_Sparrow\",\"164.Cerulean_Warbler\",\"038.Great_Crested_Flycatcher\",\"067.Anna_Hummingbird\",\"049.Boat_tailed_Grackle\",\"114.Black_throated_Sparrow\",\"011.Rusty_Blackbird\",\"071.Long_tailed_Jaeger\",\"134.Cape_Glossy_Starling\",\"055.Evening_Grosbeak\",\"099.Ovenbird\",\"060.Glaucous_winged_Gull\",\"007.Parakeet_Auklet\",\"057.Rose_breasted_Grosbeak\",\"182.Yellow_Warbler\",\"175.Pine_Warbler\",\"133.White_throated_Sparrow\",\"197.Marsh_Wren\",\"098.Scott_Oriole\",\"051.Horned_Grebe\",\"022.Chuck_will_Widow\",\"019.Gray_Catbird\",\"137.Cliff_Swallow\",\"140.Summer_Tanager\",\"144.Common_Tern\",\"052.Pied_billed_Grebe\",\"056.Pine_Grosbeak\",\"124.Le_Conte_Sparrow\",\"071.Long_tailed_Jaeger\",\"099.Ovenbird\",\"014.Indigo_Bunting\",\"090.Red_breasted_Merganser\",\"116.Chipping_Sparrow\",\"179.Tennessee_Warbler\",\"023.Brandt_Cormorant\",\"137.Cliff_Swallow\",\"017.Cardinal\",\"034.Gray_crowned_Rosy_Finch\",\"181.Worm_eating_Warbler\",\"050.Eared_Grebe\",\"052.Pied_billed_Grebe\",\"147.Least_Tern\",\"097.Orchard_Oriole\",\"193.Bewick_Wren\",\"172.Nashville_Warbler\",\"170.Mourning_Warbler\",\"030.Fish_Crow\",\"128.Seaside_Sparrow\",\"057.Rose_breasted_Grosbeak\",\"193.Bewick_Wren\",\"094.White_breasted_Nuthatch\",\"197.Marsh_Wren\",\"133.White_throated_Sparrow\",\"145.Elegant_Tern\",\"080.Green_Kingfisher\",\"128.Seaside_Sparrow\",\"094.White_breasted_Nuthatch\",\"109.American_Redstart\",\"032.Mangrove_Cuckoo\",\"173.Orange_crowned_Warbler\",\"124.Le_Conte_Sparrow\",\"149.Brown_Thrasher\",\"066.Western_Gull\",\"185.Bohemian_Waxwing\",\"090.Red_breasted_Merganser\",\"123.Henslow_Sparrow\",\"181.Worm_eating_Warbler\",\"091.Mockingbird\",\"025.Pelagic_Cormorant\",\"168.Kentucky_Warbler\",\"142.Black_Tern\",\"170.Mourning_Warbler\",\"061.Heermann_Gull\",\"164.Cerulean_Warbler\",\"098.Scott_Oriole\",\"097.Orchard_Oriole\",\"168.Kentucky_Warbler\",\"068.Ruby_throated_Hummingbird\",\"021.Eastern_Towhee\",\"025.Pelagic_Cormorant\",\"074.Florida_Jay\",\"151.Black_capped_Vireo\",\"040.Olive_sided_Flycatcher\",\"094.White_breasted_Nuthatch\",\"102.Western_Wood_Pewee\",\"019.Gray_Catbird\",\"030.Fish_Crow\",\"190.Red_cockaded_Woodpecker\",\"140.Summer_Tanager\",\"148.Green_tailed_Towhee\",\"172.Nashville_Warbler\",\"049.Boat_tailed_Grackle\",\"163.Cape_May_Warbler\",\"076.Dark_eyed_Junco\",\"122.Harris_Sparrow\",\"140.Summer_Tanager\",\"188.Pileated_Woodpecker\",\"095.Baltimore_Oriole\",\"125.Lincoln_Sparrow\",\"194.Cactus_Wren\",\"110.Geococcyx\",\"047.American_Goldfinch\",\"097.Orchard_Oriole\",\"193.Bewick_Wren\",\"135.Bank_Swallow\",\"083.White_breasted_Kingfisher\",\"114.Black_throated_Sparrow\",\"168.Kentucky_Warbler\",\"191.Red_headed_Woodpecker\",\"031.Black_billed_Cuckoo\",\"165.Chestnut_sided_Warbler\",\"158.Bay_breasted_Warbler\",\"030.Fish_Crow\",\"067.Anna_Hummingbird\",\"072.Pomarine_Jaeger\",\"127.Savannah_Sparrow\",\"004.Groove_billed_Ani\",\"019.Gray_Catbird\",\"118.House_Sparrow\",\"078.Gray_Kingbird\",\"173.Orange_crowned_Warbler\",\"054.Blue_Grosbeak\",\"153.Philadelphia_Vireo\",\"190.Red_cockaded_Woodpecker\",\"195.Carolina_Wren\",\"108.White_necked_Raven\",\"192.Downy_Woodpecker\",\"116.Chipping_Sparrow\",\"094.White_breasted_Nuthatch\",\"088.Western_Meadowlark\",\"003.Sooty_Albatross\",\"159.Black_and_white_Warbler\",\"096.Hooded_Oriole\",\"094.White_breasted_Nuthatch\",\"061.Heermann_Gull\",\"183.Northern_Waterthrush\",\"021.Eastern_Towhee\",\"089.Hooded_Merganser\",\"178.Swainson_Warbler\",\"078.Gray_Kingbird\",\"074.Florida_Jay\",\"087.Mallard\",\"167.Hooded_Warbler\",\"177.Prothonotary_Warbler\",\"169.Magnolia_Warbler\",\"101.White_Pelican\",\"069.Rufous_Hummingbird\",\"182.Yellow_Warbler\",\"191.Red_headed_Woodpecker\",\"115.Brewer_Sparrow\",\"031.Black_billed_Cuckoo\",\"154.Red_eyed_Vireo\",\"118.House_Sparrow\",\"178.Swainson_Warbler\",\"102.Western_Wood_Pewee\",\"101.White_Pelican\",\"153.Philadelphia_Vireo\",\"162.Canada_Warbler\",\"168.Kentucky_Warbler\",\"102.Western_Wood_Pewee\",\"133.White_throated_Sparrow\",\"105.Whip_poor_Will\",\"054.Blue_Grosbeak\",\"034.Gray_crowned_Rosy_Finch\",\"019.Gray_Catbird\",\"135.Bank_Swallow\",\"043.Yellow_bellied_Flycatcher\",\"155.Warbling_Vireo\",\"046.Gadwall\",\"040.Olive_sided_Flycatcher\",\"027.Shiny_Cowbird\",\"141.Artic_Tern\",\"113.Baird_Sparrow\",\"050.Eared_Grebe\",\"069.Rufous_Hummingbird\",\"198.Rock_Wren\",\"072.Pomarine_Jaeger\",\"118.House_Sparrow\",\"189.Red_bellied_Woodpecker\",\"156.White_eyed_Vireo\",\"187.American_Three_toed_Woodpecker\",\"106.Horned_Puffin\",\"199.Winter_Wren\",\"133.White_throated_Sparrow\",\"163.Cape_May_Warbler\",\"185.Bohemian_Waxwing\",\"131.Vesper_Sparrow\",\"073.Blue_Jay\",\"046.Gadwall\",\"054.Blue_Grosbeak\",\"047.American_Goldfinch\",\"141.Artic_Tern\",\"016.Painted_Bunting\",\"093.Clark_Nutcracker\",\"053.Western_Grebe\",\"024.Red_faced_Cormorant\",\"036.Northern_Flicker\",\"095.Baltimore_Oriole\",\"066.Western_Gull\",\"151.Black_capped_Vireo\",\"139.Scarlet_Tanager\",\"001.Black_footed_Albatross\",\"094.White_breasted_Nuthatch\",\"081.Pied_Kingfisher\",\"199.Winter_Wren\",\"180.Wilson_Warbler\",\"110.Geococcyx\",\"050.Eared_Grebe\",\"057.Rose_breasted_Grosbeak\",\"141.Artic_Tern\",\"135.Bank_Swallow\",\"124.Le_Conte_Sparrow\",\"113.Baird_Sparrow\",\"190.Red_cockaded_Woodpecker\",\"081.Pied_Kingfisher\",\"170.Mourning_Warbler\",\"014.Indigo_Bunting\",\"017.Cardinal\",\"097.Orchard_Oriole\",\"023.Brandt_Cormorant\",\"186.Cedar_Waxwing\",\"006.Least_Auklet\",\"168.Kentucky_Warbler\",\"188.Pileated_Woodpecker\",\"106.Horned_Puffin\",\"090.Red_breasted_Merganser\",\"181.Worm_eating_Warbler\",\"185.Bohemian_Waxwing\",\"177.Prothonotary_Warbler\",\"157.Yellow_throated_Vireo\",\"159.Black_and_white_Warbler\",\"187.American_Three_toed_Woodpecker\",\"014.Indigo_Bunting\",\"084.Red_legged_Kittiwake\",\"005.Crested_Auklet\",\"192.Downy_Woodpecker\",\"117.Clay_colored_Sparrow\",\"004.Groove_billed_Ani\",\"028.Brown_Creeper\",\"046.Gadwall\",\"130.Tree_Sparrow\",\"062.Herring_Gull\",\"048.European_Goldfinch\",\"134.Cape_Glossy_Starling\",\"078.Gray_Kingbird\",\"113.Baird_Sparrow\",\"107.Common_Raven\",\"072.Pomarine_Jaeger\",\"042.Vermilion_Flycatcher\",\"013.Bobolink\",\"054.Blue_Grosbeak\",\"091.Mockingbird\",\"183.Northern_Waterthrush\",\"134.Cape_Glossy_Starling\",\"191.Red_headed_Woodpecker\",\"106.Horned_Puffin\",\"080.Green_Kingfisher\",\"075.Green_Jay\",\"006.Least_Auklet\",\"174.Palm_Warbler\",\"119.Field_Sparrow\",\"150.Sage_Thrasher\",\"131.Vesper_Sparrow\",\"189.Red_bellied_Woodpecker\",\"190.Red_cockaded_Woodpecker\",\"069.Rufous_Hummingbird\",\"127.Savannah_Sparrow\",\"172.Nashville_Warbler\",\"033.Yellow_billed_Cuckoo\",\"056.Pine_Grosbeak\",\"181.Worm_eating_Warbler\",\"128.Seaside_Sparrow\",\"093.Clark_Nutcracker\",\"036.Northern_Flicker\",\"068.Ruby_throated_Hummingbird\",\"126.Nelson_Sharp_tailed_Sparrow\",\"079.Belted_Kingfisher\",\"170.Mourning_Warbler\",\"095.Baltimore_Oriole\",\"144.Common_Tern\",\"121.Grasshopper_Sparrow\",\"073.Blue_Jay\",\"167.Hooded_Warbler\",\"122.Harris_Sparrow\",\"049.Boat_tailed_Grackle\",\"141.Artic_Tern\",\"167.Hooded_Warbler\",\"041.Scissor_tailed_Flycatcher\",\"165.Chestnut_sided_Warbler\",\"021.Eastern_Towhee\",\"019.Gray_Catbird\",\"182.Yellow_Warbler\",\"154.Red_eyed_Vireo\",\"099.Ovenbird\",\"048.European_Goldfinch\",\"027.Shiny_Cowbird\",\"161.Blue_winged_Warbler\",\"183.Northern_Waterthrush\",\"029.American_Crow\",\"077.Tropical_Kingbird\",\"112.Great_Grey_Shrike\",\"170.Mourning_Warbler\",\"016.Painted_Bunting\",\"037.Acadian_Flycatcher\",\"139.Scarlet_Tanager\",\"070.Green_Violetear\",\"172.Nashville_Warbler\",\"194.Cactus_Wren\",\"009.Brewer_Blackbird\",\"076.Dark_eyed_Junco\",\"144.Common_Tern\",\"117.Clay_colored_Sparrow\",\"098.Scott_Oriole\",\"150.Sage_Thrasher\",\"102.Western_Wood_Pewee\",\"152.Blue_headed_Vireo\",\"085.Horned_Lark\",\"161.Blue_winged_Warbler\",\"159.Black_and_white_Warbler\",\"088.Western_Meadowlark\",\"094.White_breasted_Nuthatch\",\"167.Hooded_Warbler\",\"138.Tree_Swallow\",\"108.White_necked_Raven\",\"188.Pileated_Woodpecker\",\"026.Bronzed_Cowbird\",\"109.American_Redstart\",\"178.Swainson_Warbler\",\"113.Baird_Sparrow\",\"011.Rusty_Blackbird\",\"110.Geococcyx\",\"162.Canada_Warbler\",\"083.White_breasted_Kingfisher\",\"007.Parakeet_Auklet\",\"162.Canada_Warbler\",\"013.Bobolink\",\"110.Geococcyx\",\"031.Black_billed_Cuckoo\",\"009.Brewer_Blackbird\",\"118.House_Sparrow\",\"055.Evening_Grosbeak\",\"134.Cape_Glossy_Starling\",\"195.Carolina_Wren\",\"087.Mallard\",\"185.Bohemian_Waxwing\",\"113.Baird_Sparrow\",\"111.Loggerhead_Shrike\",\"189.Red_bellied_Woodpecker\",\"067.Anna_Hummingbird\",\"135.Bank_Swallow\",\"075.Green_Jay\",\"110.Geococcyx\",\"014.Indigo_Bunting\",\"021.Eastern_Towhee\",\"050.Eared_Grebe\",\"056.Pine_Grosbeak\",\"067.Anna_Hummingbird\",\"115.Brewer_Sparrow\",\"113.Baird_Sparrow\",\"102.Western_Wood_Pewee\",\"007.Parakeet_Auklet\",\"045.Northern_Fulmar\",\"048.European_Goldfinch\",\"173.Orange_crowned_Warbler\",\"052.Pied_billed_Grebe\",\"168.Kentucky_Warbler\",\"006.Least_Auklet\",\"188.Pileated_Woodpecker\",\"063.Ivory_Gull\",\"123.Henslow_Sparrow\",\"145.Elegant_Tern\",\"025.Pelagic_Cormorant\",\"079.Belted_Kingfisher\",\"015.Lazuli_Bunting\",\"125.Lincoln_Sparrow\",\"194.Cactus_Wren\",\"187.American_Three_toed_Woodpecker\",\"079.Belted_Kingfisher\",\"114.Black_throated_Sparrow\",\"142.Black_Tern\",\"056.Pine_Grosbeak\",\"159.Black_and_white_Warbler\",\"107.Common_Raven\",\"111.Loggerhead_Shrike\",\"154.Red_eyed_Vireo\",\"111.Loggerhead_Shrike\",\"071.Long_tailed_Jaeger\",\"200.Common_Yellowthroat\",\"175.Pine_Warbler\",\"133.White_throated_Sparrow\",\"097.Orchard_Oriole\",\"089.Hooded_Merganser\",\"134.Cape_Glossy_Starling\",\"122.Harris_Sparrow\",\"145.Elegant_Tern\",\"113.Baird_Sparrow\",\"155.Warbling_Vireo\",\"079.Belted_Kingfisher\",\"057.Rose_breasted_Grosbeak\",\"102.Western_Wood_Pewee\",\"141.Artic_Tern\",\"009.Brewer_Blackbird\",\"069.Rufous_Hummingbird\",\"099.Ovenbird\",\"178.Swainson_Warbler\",\"171.Myrtle_Warbler\",\"072.Pomarine_Jaeger\",\"062.Herring_Gull\",\"068.Ruby_throated_Hummingbird\",\"001.Black_footed_Albatross\",\"107.Common_Raven\",\"137.Cliff_Swallow\",\"061.Heermann_Gull\",\"178.Swainson_Warbler\",\"001.Black_footed_Albatross\",\"038.Great_Crested_Flycatcher\",\"144.Common_Tern\",\"157.Yellow_throated_Vireo\",\"097.Orchard_Oriole\",\"008.Rhinoceros_Auklet\",\"075.Green_Jay\",\"139.Scarlet_Tanager\",\"043.Yellow_bellied_Flycatcher\",\"012.Yellow_headed_Blackbird\",\"136.Barn_Swallow\",\"188.Pileated_Woodpecker\",\"192.Downy_Woodpecker\",\"067.Anna_Hummingbird\",\"021.Eastern_Towhee\",\"018.Spotted_Catbird\",\"048.European_Goldfinch\",\"040.Olive_sided_Flycatcher\",\"012.Yellow_headed_Blackbird\",\"185.Bohemian_Waxwing\",\"004.Groove_billed_Ani\",\"186.Cedar_Waxwing\",\"065.Slaty_backed_Gull\",\"112.Great_Grey_Shrike\",\"178.Swainson_Warbler\",\"055.Evening_Grosbeak\",\"102.Western_Wood_Pewee\",\"094.White_breasted_Nuthatch\",\"023.Brandt_Cormorant\",\"063.Ivory_Gull\",\"070.Green_Violetear\",\"139.Scarlet_Tanager\",\"099.Ovenbird\",\"075.Green_Jay\",\"036.Northern_Flicker\",\"183.Northern_Waterthrush\",\"147.Least_Tern\",\"062.Herring_Gull\",\"010.Red_winged_Blackbird\",\"150.Sage_Thrasher\",\"003.Sooty_Albatross\",\"006.Least_Auklet\",\"028.Brown_Creeper\",\"142.Black_Tern\",\"193.Bewick_Wren\",\"168.Kentucky_Warbler\",\"005.Crested_Auklet\",\"097.Orchard_Oriole\",\"125.Lincoln_Sparrow\",\"130.Tree_Sparrow\",\"099.Ovenbird\",\"183.Northern_Waterthrush\",\"193.Bewick_Wren\",\"093.Clark_Nutcracker\",\"164.Cerulean_Warbler\",\"195.Carolina_Wren\",\"125.Lincoln_Sparrow\",\"012.Yellow_headed_Blackbird\",\"181.Worm_eating_Warbler\",\"022.Chuck_will_Widow\",\"124.Le_Conte_Sparrow\",\"138.Tree_Swallow\",\"011.Rusty_Blackbird\",\"122.Harris_Sparrow\",\"166.Golden_winged_Warbler\",\"139.Scarlet_Tanager\",\"049.Boat_tailed_Grackle\",\"127.Savannah_Sparrow\",\"142.Black_Tern\",\"127.Savannah_Sparrow\",\"158.Bay_breasted_Warbler\",\"037.Acadian_Flycatcher\",\"141.Artic_Tern\",\"137.Cliff_Swallow\",\"075.Green_Jay\",\"158.Bay_breasted_Warbler\",\"035.Purple_Finch\",\"185.Bohemian_Waxwing\",\"155.Warbling_Vireo\",\"092.Nighthawk\",\"138.Tree_Swallow\",\"081.Pied_Kingfisher\",\"055.Evening_Grosbeak\",\"028.Brown_Creeper\",\"191.Red_headed_Woodpecker\",\"069.Rufous_Hummingbird\",\"162.Canada_Warbler\",\"107.Common_Raven\",\"085.Horned_Lark\",\"120.Fox_Sparrow\",\"156.White_eyed_Vireo\",\"031.Black_billed_Cuckoo\",\"179.Tennessee_Warbler\",\"126.Nelson_Sharp_tailed_Sparrow\",\"016.Painted_Bunting\",\"089.Hooded_Merganser\",\"014.Indigo_Bunting\",\"086.Pacific_Loon\",\"110.Geococcyx\",\"171.Myrtle_Warbler\",\"070.Green_Violetear\",\"090.Red_breasted_Merganser\",\"199.Winter_Wren\",\"200.Common_Yellowthroat\",\"047.American_Goldfinch\",\"194.Cactus_Wren\",\"173.Orange_crowned_Warbler\",\"040.Olive_sided_Flycatcher\",\"125.Lincoln_Sparrow\",\"116.Chipping_Sparrow\",\"005.Crested_Auklet\",\"188.Pileated_Woodpecker\",\"091.Mockingbird\",\"057.Rose_breasted_Grosbeak\",\"177.Prothonotary_Warbler\",\"055.Evening_Grosbeak\",\"143.Caspian_Tern\",\"058.Pigeon_Guillemot\",\"017.Cardinal\",\"010.Red_winged_Blackbird\",\"091.Mockingbird\",\"033.Yellow_billed_Cuckoo\",\"140.Summer_Tanager\",\"001.Black_footed_Albatross\",\"166.Golden_winged_Warbler\",\"113.Baird_Sparrow\",\"064.Ring_billed_Gull\",\"076.Dark_eyed_Junco\",\"187.American_Three_toed_Woodpecker\",\"046.Gadwall\",\"011.Rusty_Blackbird\",\"080.Green_Kingfisher\",\"003.Sooty_Albatross\",\"107.Common_Raven\",\"062.Herring_Gull\",\"015.Lazuli_Bunting\",\"102.Western_Wood_Pewee\",\"139.Scarlet_Tanager\",\"105.Whip_poor_Will\",\"007.Parakeet_Auklet\",\"030.Fish_Crow\",\"177.Prothonotary_Warbler\",\"064.Ring_billed_Gull\",\"128.Seaside_Sparrow\",\"174.Palm_Warbler\",\"002.Laysan_Albatross\",\"126.Nelson_Sharp_tailed_Sparrow\",\"010.Red_winged_Blackbird\",\"176.Prairie_Warbler\",\"077.Tropical_Kingbird\",\"182.Yellow_Warbler\",\"172.Nashville_Warbler\",\"125.Lincoln_Sparrow\",\"161.Blue_winged_Warbler\",\"156.White_eyed_Vireo\",\"190.Red_cockaded_Woodpecker\",\"055.Evening_Grosbeak\",\"088.Western_Meadowlark\",\"160.Black_throated_Blue_Warbler\",\"130.Tree_Sparrow\",\"121.Grasshopper_Sparrow\",\"190.Red_cockaded_Woodpecker\",\"090.Red_breasted_Merganser\",\"028.Brown_Creeper\",\"192.Downy_Woodpecker\",\"154.Red_eyed_Vireo\",\"109.American_Redstart\",\"142.Black_Tern\",\"189.Red_bellied_Woodpecker\",\"177.Prothonotary_Warbler\",\"139.Scarlet_Tanager\",\"050.Eared_Grebe\",\"163.Cape_May_Warbler\",\"153.Philadelphia_Vireo\",\"072.Pomarine_Jaeger\",\"085.Horned_Lark\",\"186.Cedar_Waxwing\",\"154.Red_eyed_Vireo\",\"172.Nashville_Warbler\",\"003.Sooty_Albatross\",\"067.Anna_Hummingbird\",\"024.Red_faced_Cormorant\",\"004.Groove_billed_Ani\",\"114.Black_throated_Sparrow\",\"144.Common_Tern\",\"057.Rose_breasted_Grosbeak\",\"033.Yellow_billed_Cuckoo\",\"138.Tree_Swallow\",\"105.Whip_poor_Will\",\"108.White_necked_Raven\",\"104.American_Pipit\",\"004.Groove_billed_Ani\",\"005.Crested_Auklet\",\"118.House_Sparrow\",\"101.White_Pelican\",\"166.Golden_winged_Warbler\",\"082.Ringed_Kingfisher\",\"057.Rose_breasted_Grosbeak\",\"196.House_Wren\",\"036.Northern_Flicker\",\"058.Pigeon_Guillemot\",\"058.Pigeon_Guillemot\",\"027.Shiny_Cowbird\",\"082.Ringed_Kingfisher\",\"079.Belted_Kingfisher\",\"038.Great_Crested_Flycatcher\",\"169.Magnolia_Warbler\",\"141.Artic_Tern\",\"098.Scott_Oriole\",\"016.Painted_Bunting\",\"023.Brandt_Cormorant\",\"032.Mangrove_Cuckoo\",\"056.Pine_Grosbeak\",\"060.Glaucous_winged_Gull\",\"003.Sooty_Albatross\",\"140.Summer_Tanager\",\"023.Brandt_Cormorant\",\"193.Bewick_Wren\",\"115.Brewer_Sparrow\",\"167.Hooded_Warbler\",\"009.Brewer_Blackbird\",\"023.Brandt_Cormorant\",\"046.Gadwall\",\"187.American_Three_toed_Woodpecker\",\"175.Pine_Warbler\",\"192.Downy_Woodpecker\",\"030.Fish_Crow\",\"077.Tropical_Kingbird\",\"185.Bohemian_Waxwing\",\"109.American_Redstart\",\"114.Black_throated_Sparrow\",\"097.Orchard_Oriole\",\"122.Harris_Sparrow\",\"168.Kentucky_Warbler\",\"118.House_Sparrow\",\"198.Rock_Wren\",\"029.American_Crow\",\"046.Gadwall\",\"003.Sooty_Albatross\",\"003.Sooty_Albatross\",\"186.Cedar_Waxwing\",\"195.Carolina_Wren\",\"049.Boat_tailed_Grackle\",\"060.Glaucous_winged_Gull\",\"113.Baird_Sparrow\",\"058.Pigeon_Guillemot\",\"070.Green_Violetear\",\"170.Mourning_Warbler\",\"140.Summer_Tanager\",\"137.Cliff_Swallow\",\"176.Prairie_Warbler\",\"059.California_Gull\",\"010.Red_winged_Blackbird\",\"037.Acadian_Flycatcher\",\"069.Rufous_Hummingbird\",\"195.Carolina_Wren\",\"033.Yellow_billed_Cuckoo\",\"169.Magnolia_Warbler\",\"072.Pomarine_Jaeger\",\"024.Red_faced_Cormorant\",\"015.Lazuli_Bunting\",\"019.Gray_Catbird\",\"103.Sayornis\",\"074.Florida_Jay\",\"096.Hooded_Oriole\",\"066.Western_Gull\",\"121.Grasshopper_Sparrow\",\"188.Pileated_Woodpecker\",\"092.Nighthawk\",\"016.Painted_Bunting\",\"037.Acadian_Flycatcher\",\"180.Wilson_Warbler\",\"174.Palm_Warbler\",\"060.Glaucous_winged_Gull\",\"175.Pine_Warbler\",\"017.Cardinal\",\"096.Hooded_Oriole\",\"188.Pileated_Woodpecker\",\"019.Gray_Catbird\",\"191.Red_headed_Woodpecker\",\"114.Black_throated_Sparrow\",\"167.Hooded_Warbler\",\"156.White_eyed_Vireo\",\"112.Great_Grey_Shrike\",\"094.White_breasted_Nuthatch\",\"004.Groove_billed_Ani\",\"001.Black_footed_Albatross\",\"092.Nighthawk\",\"118.House_Sparrow\",\"091.Mockingbird\",\"171.Myrtle_Warbler\",\"163.Cape_May_Warbler\",\"060.Glaucous_winged_Gull\",\"141.Artic_Tern\",\"026.Bronzed_Cowbird\",\"150.Sage_Thrasher\",\"106.Horned_Puffin\",\"071.Long_tailed_Jaeger\",\"086.Pacific_Loon\",\"095.Baltimore_Oriole\",\"003.Sooty_Albatross\",\"028.Brown_Creeper\",\"019.Gray_Catbird\",\"142.Black_Tern\",\"179.Tennessee_Warbler\",\"093.Clark_Nutcracker\",\"116.Chipping_Sparrow\",\"130.Tree_Sparrow\",\"101.White_Pelican\",\"018.Spotted_Catbird\",\"143.Caspian_Tern\",\"010.Red_winged_Blackbird\",\"154.Red_eyed_Vireo\",\"086.Pacific_Loon\",\"074.Florida_Jay\",\"104.American_Pipit\",\"137.Cliff_Swallow\",\"102.Western_Wood_Pewee\",\"059.California_Gull\",\"155.Warbling_Vireo\",\"185.Bohemian_Waxwing\",\"182.Yellow_Warbler\",\"150.Sage_Thrasher\",\"070.Green_Violetear\",\"159.Black_and_white_Warbler\",\"022.Chuck_will_Widow\",\"144.Common_Tern\",\"043.Yellow_bellied_Flycatcher\",\"028.Brown_Creeper\",\"119.Field_Sparrow\",\"175.Pine_Warbler\",\"154.Red_eyed_Vireo\",\"176.Prairie_Warbler\",\"055.Evening_Grosbeak\",\"148.Green_tailed_Towhee\",\"078.Gray_Kingbird\",\"193.Bewick_Wren\",\"060.Glaucous_winged_Gull\",\"021.Eastern_Towhee\",\"068.Ruby_throated_Hummingbird\",\"012.Yellow_headed_Blackbird\",\"171.Myrtle_Warbler\",\"159.Black_and_white_Warbler\",\"089.Hooded_Merganser\",\"047.American_Goldfinch\",\"085.Horned_Lark\",\"112.Great_Grey_Shrike\",\"021.Eastern_Towhee\",\"152.Blue_headed_Vireo\",\"098.Scott_Oriole\",\"186.Cedar_Waxwing\",\"169.Magnolia_Warbler\",\"068.Ruby_throated_Hummingbird\",\"105.Whip_poor_Will\",\"036.Northern_Flicker\",\"016.Painted_Bunting\",\"183.Northern_Waterthrush\",\"156.White_eyed_Vireo\",\"135.Bank_Swallow\",\"033.Yellow_billed_Cuckoo\",\"148.Green_tailed_Towhee\",\"126.Nelson_Sharp_tailed_Sparrow\",\"147.Least_Tern\",\"163.Cape_May_Warbler\",\"091.Mockingbird\",\"005.Crested_Auklet\",\"122.Harris_Sparrow\",\"173.Orange_crowned_Warbler\",\"157.Yellow_throated_Vireo\",\"194.Cactus_Wren\",\"179.Tennessee_Warbler\",\"131.Vesper_Sparrow\",\"127.Savannah_Sparrow\",\"093.Clark_Nutcracker\",\"061.Heermann_Gull\",\"175.Pine_Warbler\",\"194.Cactus_Wren\",\"109.American_Redstart\",\"197.Marsh_Wren\",\"150.Sage_Thrasher\",\"136.Barn_Swallow\",\"119.Field_Sparrow\",\"140.Summer_Tanager\",\"057.Rose_breasted_Grosbeak\",\"102.Western_Wood_Pewee\",\"100.Brown_Pelican\",\"012.Yellow_headed_Blackbird\",\"090.Red_breasted_Merganser\",\"157.Yellow_throated_Vireo\",\"104.American_Pipit\",\"078.Gray_Kingbird\",\"078.Gray_Kingbird\",\"149.Brown_Thrasher\",\"145.Elegant_Tern\",\"099.Ovenbird\",\"111.Loggerhead_Shrike\",\"031.Black_billed_Cuckoo\",\"156.White_eyed_Vireo\",\"196.House_Wren\",\"137.Cliff_Swallow\",\"104.American_Pipit\",\"087.Mallard\",\"081.Pied_Kingfisher\",\"014.Indigo_Bunting\",\"006.Least_Auklet\",\"145.Elegant_Tern\",\"127.Savannah_Sparrow\",\"114.Black_throated_Sparrow\",\"152.Blue_headed_Vireo\",\"190.Red_cockaded_Woodpecker\",\"122.Harris_Sparrow\",\"029.American_Crow\",\"077.Tropical_Kingbird\",\"035.Purple_Finch\",\"073.Blue_Jay\",\"036.Northern_Flicker\",\"108.White_necked_Raven\",\"180.Wilson_Warbler\",\"129.Song_Sparrow\",\"111.Loggerhead_Shrike\",\"128.Seaside_Sparrow\",\"057.Rose_breasted_Grosbeak\",\"157.Yellow_throated_Vireo\",\"200.Common_Yellowthroat\",\"039.Least_Flycatcher\",\"029.American_Crow\",\"174.Palm_Warbler\",\"047.American_Goldfinch\",\"176.Prairie_Warbler\",\"038.Great_Crested_Flycatcher\",\"125.Lincoln_Sparrow\",\"012.Yellow_headed_Blackbird\",\"184.Louisiana_Waterthrush\",\"077.Tropical_Kingbird\",\"125.Lincoln_Sparrow\",\"063.Ivory_Gull\",\"054.Blue_Grosbeak\",\"061.Heermann_Gull\",\"181.Worm_eating_Warbler\",\"038.Great_Crested_Flycatcher\",\"059.California_Gull\",\"024.Red_faced_Cormorant\",\"143.Caspian_Tern\",\"148.Green_tailed_Towhee\",\"128.Seaside_Sparrow\",\"001.Black_footed_Albatross\",\"121.Grasshopper_Sparrow\",\"024.Red_faced_Cormorant\",\"108.White_necked_Raven\",\"160.Black_throated_Blue_Warbler\",\"027.Shiny_Cowbird\",\"021.Eastern_Towhee\",\"096.Hooded_Oriole\",\"017.Cardinal\",\"053.Western_Grebe\",\"004.Groove_billed_Ani\",\"054.Blue_Grosbeak\",\"053.Western_Grebe\",\"139.Scarlet_Tanager\",\"018.Spotted_Catbird\",\"060.Glaucous_winged_Gull\",\"047.American_Goldfinch\",\"155.Warbling_Vireo\",\"038.Great_Crested_Flycatcher\",\"093.Clark_Nutcracker\",\"175.Pine_Warbler\",\"045.Northern_Fulmar\",\"037.Acadian_Flycatcher\",\"051.Horned_Grebe\",\"099.Ovenbird\",\"095.Baltimore_Oriole\",\"171.Myrtle_Warbler\",\"196.House_Wren\",\"100.Brown_Pelican\",\"170.Mourning_Warbler\",\"112.Great_Grey_Shrike\",\"144.Common_Tern\",\"111.Loggerhead_Shrike\",\"144.Common_Tern\",\"147.Least_Tern\",\"179.Tennessee_Warbler\",\"056.Pine_Grosbeak\",\"182.Yellow_Warbler\",\"166.Golden_winged_Warbler\",\"027.Shiny_Cowbird\",\"094.White_breasted_Nuthatch\",\"035.Purple_Finch\",\"098.Scott_Oriole\",\"161.Blue_winged_Warbler\",\"027.Shiny_Cowbird\",\"070.Green_Violetear\",\"153.Philadelphia_Vireo\",\"091.Mockingbird\",\"092.Nighthawk\",\"044.Frigatebird\",\"129.Song_Sparrow\",\"017.Cardinal\",\"139.Scarlet_Tanager\",\"142.Black_Tern\",\"023.Brandt_Cormorant\",\"025.Pelagic_Cormorant\",\"103.Sayornis\",\"179.Tennessee_Warbler\",\"119.Field_Sparrow\",\"077.Tropical_Kingbird\",\"045.Northern_Fulmar\",\"179.Tennessee_Warbler\",\"127.Savannah_Sparrow\",\"198.Rock_Wren\",\"070.Green_Violetear\",\"045.Northern_Fulmar\",\"071.Long_tailed_Jaeger\",\"011.Rusty_Blackbird\",\"032.Mangrove_Cuckoo\",\"084.Red_legged_Kittiwake\",\"110.Geococcyx\",\"066.Western_Gull\",\"107.Common_Raven\",\"114.Black_throated_Sparrow\",\"133.White_throated_Sparrow\",\"037.Acadian_Flycatcher\",\"057.Rose_breasted_Grosbeak\",\"168.Kentucky_Warbler\",\"174.Palm_Warbler\",\"073.Blue_Jay\",\"167.Hooded_Warbler\",\"158.Bay_breasted_Warbler\",\"137.Cliff_Swallow\",\"198.Rock_Wren\",\"109.American_Redstart\",\"015.Lazuli_Bunting\",\"200.Common_Yellowthroat\",\"066.Western_Gull\",\"096.Hooded_Oriole\",\"120.Fox_Sparrow\",\"188.Pileated_Woodpecker\",\"023.Brandt_Cormorant\",\"149.Brown_Thrasher\",\"138.Tree_Swallow\",\"157.Yellow_throated_Vireo\",\"046.Gadwall\",\"081.Pied_Kingfisher\",\"114.Black_throated_Sparrow\",\"143.Caspian_Tern\",\"140.Summer_Tanager\",\"093.Clark_Nutcracker\",\"074.Florida_Jay\",\"189.Red_bellied_Woodpecker\",\"043.Yellow_bellied_Flycatcher\",\"131.Vesper_Sparrow\",\"054.Blue_Grosbeak\",\"172.Nashville_Warbler\",\"193.Bewick_Wren\",\"016.Painted_Bunting\",\"043.Yellow_bellied_Flycatcher\",\"027.Shiny_Cowbird\",\"141.Artic_Tern\",\"159.Black_and_white_Warbler\",\"031.Black_billed_Cuckoo\",\"015.Lazuli_Bunting\",\"131.Vesper_Sparrow\",\"005.Crested_Auklet\",\"025.Pelagic_Cormorant\",\"050.Eared_Grebe\",\"164.Cerulean_Warbler\",\"164.Cerulean_Warbler\",\"079.Belted_Kingfisher\",\"018.Spotted_Catbird\",\"048.European_Goldfinch\",\"101.White_Pelican\",\"098.Scott_Oriole\",\"049.Boat_tailed_Grackle\",\"096.Hooded_Oriole\",\"007.Parakeet_Auklet\",\"077.Tropical_Kingbird\",\"120.Fox_Sparrow\",\"040.Olive_sided_Flycatcher\",\"092.Nighthawk\",\"153.Philadelphia_Vireo\",\"126.Nelson_Sharp_tailed_Sparrow\",\"110.Geococcyx\",\"165.Chestnut_sided_Warbler\",\"174.Palm_Warbler\",\"103.Sayornis\",\"094.White_breasted_Nuthatch\",\"171.Myrtle_Warbler\",\"039.Least_Flycatcher\",\"033.Yellow_billed_Cuckoo\",\"060.Glaucous_winged_Gull\",\"059.California_Gull\",\"039.Least_Flycatcher\",\"149.Brown_Thrasher\",\"059.California_Gull\",\"009.Brewer_Blackbird\",\"065.Slaty_backed_Gull\",\"146.Forsters_Tern\",\"007.Parakeet_Auklet\",\"114.Black_throated_Sparrow\",\"104.American_Pipit\",\"160.Black_throated_Blue_Warbler\",\"104.American_Pipit\",\"080.Green_Kingfisher\",\"091.Mockingbird\",\"115.Brewer_Sparrow\",\"013.Bobolink\",\"166.Golden_winged_Warbler\",\"025.Pelagic_Cormorant\",\"063.Ivory_Gull\",\"150.Sage_Thrasher\",\"012.Yellow_headed_Blackbird\",\"066.Western_Gull\",\"193.Bewick_Wren\",\"090.Red_breasted_Merganser\",\"156.White_eyed_Vireo\",\"134.Cape_Glossy_Starling\",\"180.Wilson_Warbler\",\"074.Florida_Jay\",\"090.Red_breasted_Merganser\",\"093.Clark_Nutcracker\",\"187.American_Three_toed_Woodpecker\",\"038.Great_Crested_Flycatcher\",\"181.Worm_eating_Warbler\",\"169.Magnolia_Warbler\",\"154.Red_eyed_Vireo\",\"045.Northern_Fulmar\",\"022.Chuck_will_Widow\",\"155.Warbling_Vireo\",\"192.Downy_Woodpecker\",\"029.American_Crow\",\"099.Ovenbird\",\"196.House_Wren\",\"075.Green_Jay\",\"189.Red_bellied_Woodpecker\",\"040.Olive_sided_Flycatcher\",\"169.Magnolia_Warbler\",\"066.Western_Gull\",\"026.Bronzed_Cowbird\",\"151.Black_capped_Vireo\",\"178.Swainson_Warbler\",\"030.Fish_Crow\",\"067.Anna_Hummingbird\",\"120.Fox_Sparrow\",\"121.Grasshopper_Sparrow\",\"016.Painted_Bunting\",\"141.Artic_Tern\",\"114.Black_throated_Sparrow\",\"111.Loggerhead_Shrike\",\"049.Boat_tailed_Grackle\",\"144.Common_Tern\",\"146.Forsters_Tern\",\"127.Savannah_Sparrow\",\"150.Sage_Thrasher\",\"143.Caspian_Tern\",\"159.Black_and_white_Warbler\",\"093.Clark_Nutcracker\",\"082.Ringed_Kingfisher\",\"079.Belted_Kingfisher\",\"009.Brewer_Blackbird\",\"047.American_Goldfinch\",\"146.Forsters_Tern\",\"064.Ring_billed_Gull\",\"023.Brandt_Cormorant\",\"188.Pileated_Woodpecker\",\"069.Rufous_Hummingbird\",\"198.Rock_Wren\",\"041.Scissor_tailed_Flycatcher\",\"030.Fish_Crow\",\"131.Vesper_Sparrow\",\"186.Cedar_Waxwing\",\"185.Bohemian_Waxwing\",\"089.Hooded_Merganser\",\"117.Clay_colored_Sparrow\",\"099.Ovenbird\",\"002.Laysan_Albatross\",\"052.Pied_billed_Grebe\",\"063.Ivory_Gull\",\"064.Ring_billed_Gull\",\"102.Western_Wood_Pewee\",\"134.Cape_Glossy_Starling\",\"095.Baltimore_Oriole\",\"135.Bank_Swallow\",\"145.Elegant_Tern\",\"190.Red_cockaded_Woodpecker\",\"198.Rock_Wren\",\"193.Bewick_Wren\",\"161.Blue_winged_Warbler\",\"029.American_Crow\",\"054.Blue_Grosbeak\",\"150.Sage_Thrasher\",\"162.Canada_Warbler\",\"022.Chuck_will_Widow\",\"065.Slaty_backed_Gull\",\"104.American_Pipit\",\"031.Black_billed_Cuckoo\",\"065.Slaty_backed_Gull\",\"166.Golden_winged_Warbler\",\"148.Green_tailed_Towhee\",\"026.Bronzed_Cowbird\",\"049.Boat_tailed_Grackle\",\"066.Western_Gull\",\"010.Red_winged_Blackbird\",\"144.Common_Tern\",\"033.Yellow_billed_Cuckoo\",\"117.Clay_colored_Sparrow\",\"168.Kentucky_Warbler\",\"004.Groove_billed_Ani\",\"008.Rhinoceros_Auklet\",\"160.Black_throated_Blue_Warbler\",\"029.American_Crow\",\"189.Red_bellied_Woodpecker\",\"035.Purple_Finch\",\"126.Nelson_Sharp_tailed_Sparrow\",\"017.Cardinal\",\"019.Gray_Catbird\",\"141.Artic_Tern\",\"145.Elegant_Tern\",\"041.Scissor_tailed_Flycatcher\",\"072.Pomarine_Jaeger\",\"180.Wilson_Warbler\",\"028.Brown_Creeper\",\"106.Horned_Puffin\",\"099.Ovenbird\",\"168.Kentucky_Warbler\",\"002.Laysan_Albatross\",\"064.Ring_billed_Gull\",\"102.Western_Wood_Pewee\",\"064.Ring_billed_Gull\",\"179.Tennessee_Warbler\",\"098.Scott_Oriole\",\"003.Sooty_Albatross\",\"010.Red_winged_Blackbird\",\"114.Black_throated_Sparrow\",\"145.Elegant_Tern\",\"087.Mallard\",\"102.Western_Wood_Pewee\",\"123.Henslow_Sparrow\",\"086.Pacific_Loon\",\"116.Chipping_Sparrow\",\"183.Northern_Waterthrush\",\"143.Caspian_Tern\",\"090.Red_breasted_Merganser\",\"070.Green_Violetear\",\"100.Brown_Pelican\",\"159.Black_and_white_Warbler\",\"101.White_Pelican\",\"062.Herring_Gull\",\"046.Gadwall\",\"038.Great_Crested_Flycatcher\",\"096.Hooded_Oriole\",\"015.Lazuli_Bunting\",\"002.Laysan_Albatross\",\"028.Brown_Creeper\",\"155.Warbling_Vireo\",\"166.Golden_winged_Warbler\",\"161.Blue_winged_Warbler\",\"132.White_crowned_Sparrow\",\"007.Parakeet_Auklet\",\"071.Long_tailed_Jaeger\",\"081.Pied_Kingfisher\",\"171.Myrtle_Warbler\",\"125.Lincoln_Sparrow\",\"119.Field_Sparrow\",\"156.White_eyed_Vireo\",\"033.Yellow_billed_Cuckoo\",\"026.Bronzed_Cowbird\",\"185.Bohemian_Waxwing\",\"191.Red_headed_Woodpecker\",\"133.White_throated_Sparrow\",\"093.Clark_Nutcracker\",\"098.Scott_Oriole\",\"113.Baird_Sparrow\",\"048.European_Goldfinch\",\"014.Indigo_Bunting\",\"107.Common_Raven\",\"190.Red_cockaded_Woodpecker\",\"001.Black_footed_Albatross\",\"030.Fish_Crow\",\"191.Red_headed_Woodpecker\",\"101.White_Pelican\",\"144.Common_Tern\",\"099.Ovenbird\",\"010.Red_winged_Blackbird\",\"019.Gray_Catbird\",\"139.Scarlet_Tanager\",\"108.White_necked_Raven\",\"054.Blue_Grosbeak\",\"028.Brown_Creeper\",\"121.Grasshopper_Sparrow\",\"120.Fox_Sparrow\",\"198.Rock_Wren\",\"139.Scarlet_Tanager\",\"117.Clay_colored_Sparrow\",\"090.Red_breasted_Merganser\",\"132.White_crowned_Sparrow\",\"018.Spotted_Catbird\",\"040.Olive_sided_Flycatcher\",\"198.Rock_Wren\",\"053.Western_Grebe\",\"065.Slaty_backed_Gull\",\"046.Gadwall\",\"198.Rock_Wren\",\"064.Ring_billed_Gull\",\"088.Western_Meadowlark\",\"109.American_Redstart\",\"084.Red_legged_Kittiwake\",\"083.White_breasted_Kingfisher\",\"064.Ring_billed_Gull\",\"043.Yellow_bellied_Flycatcher\",\"184.Louisiana_Waterthrush\",\"123.Henslow_Sparrow\",\"120.Fox_Sparrow\",\"070.Green_Violetear\",\"195.Carolina_Wren\",\"185.Bohemian_Waxwing\",\"047.American_Goldfinch\",\"051.Horned_Grebe\",\"166.Golden_winged_Warbler\",\"023.Brandt_Cormorant\",\"190.Red_cockaded_Woodpecker\",\"038.Great_Crested_Flycatcher\",\"080.Green_Kingfisher\",\"081.Pied_Kingfisher\",\"008.Rhinoceros_Auklet\",\"044.Frigatebird\",\"123.Henslow_Sparrow\",\"045.Northern_Fulmar\",\"137.Cliff_Swallow\",\"132.White_crowned_Sparrow\",\"131.Vesper_Sparrow\",\"086.Pacific_Loon\",\"106.Horned_Puffin\",\"198.Rock_Wren\",\"015.Lazuli_Bunting\",\"181.Worm_eating_Warbler\",\"017.Cardinal\",\"046.Gadwall\",\"030.Fish_Crow\",\"138.Tree_Swallow\",\"082.Ringed_Kingfisher\",\"023.Brandt_Cormorant\",\"115.Brewer_Sparrow\",\"019.Gray_Catbird\",\"155.Warbling_Vireo\",\"166.Golden_winged_Warbler\",\"013.Bobolink\",\"135.Bank_Swallow\",\"074.Florida_Jay\",\"196.House_Wren\",\"136.Barn_Swallow\",\"128.Seaside_Sparrow\",\"129.Song_Sparrow\",\"079.Belted_Kingfisher\",\"195.Carolina_Wren\",\"013.Bobolink\",\"083.White_breasted_Kingfisher\",\"085.Horned_Lark\",\"170.Mourning_Warbler\",\"138.Tree_Swallow\",\"052.Pied_billed_Grebe\",\"014.Indigo_Bunting\",\"083.White_breasted_Kingfisher\",\"141.Artic_Tern\",\"133.White_throated_Sparrow\",\"052.Pied_billed_Grebe\",\"001.Black_footed_Albatross\",\"095.Baltimore_Oriole\",\"171.Myrtle_Warbler\",\"188.Pileated_Woodpecker\",\"042.Vermilion_Flycatcher\",\"111.Loggerhead_Shrike\",\"127.Savannah_Sparrow\",\"190.Red_cockaded_Woodpecker\",\"027.Shiny_Cowbird\",\"060.Glaucous_winged_Gull\",\"121.Grasshopper_Sparrow\",\"043.Yellow_bellied_Flycatcher\",\"019.Gray_Catbird\",\"032.Mangrove_Cuckoo\",\"057.Rose_breasted_Grosbeak\",\"079.Belted_Kingfisher\",\"160.Black_throated_Blue_Warbler\",\"100.Brown_Pelican\",\"128.Seaside_Sparrow\",\"115.Brewer_Sparrow\",\"052.Pied_billed_Grebe\",\"013.Bobolink\",\"168.Kentucky_Warbler\",\"058.Pigeon_Guillemot\",\"013.Bobolink\",\"017.Cardinal\",\"044.Frigatebird\",\"107.Common_Raven\",\"152.Blue_headed_Vireo\",\"047.American_Goldfinch\",\"097.Orchard_Oriole\",\"130.Tree_Sparrow\",\"024.Red_faced_Cormorant\",\"140.Summer_Tanager\",\"041.Scissor_tailed_Flycatcher\",\"018.Spotted_Catbird\",\"020.Yellow_breasted_Chat\",\"010.Red_winged_Blackbird\",\"063.Ivory_Gull\",\"027.Shiny_Cowbird\",\"044.Frigatebird\",\"182.Yellow_Warbler\",\"101.White_Pelican\",\"022.Chuck_will_Widow\",\"174.Palm_Warbler\",\"111.Loggerhead_Shrike\",\"102.Western_Wood_Pewee\",\"124.Le_Conte_Sparrow\",\"154.Red_eyed_Vireo\",\"080.Green_Kingfisher\",\"082.Ringed_Kingfisher\",\"182.Yellow_Warbler\",\"130.Tree_Sparrow\",\"017.Cardinal\",\"187.American_Three_toed_Woodpecker\",\"063.Ivory_Gull\",\"200.Common_Yellowthroat\",\"050.Eared_Grebe\",\"024.Red_faced_Cormorant\",\"038.Great_Crested_Flycatcher\",\"113.Baird_Sparrow\",\"081.Pied_Kingfisher\",\"101.White_Pelican\",\"159.Black_and_white_Warbler\",\"010.Red_winged_Blackbird\",\"083.White_breasted_Kingfisher\",\"052.Pied_billed_Grebe\",\"071.Long_tailed_Jaeger\",\"017.Cardinal\",\"081.Pied_Kingfisher\",\"036.Northern_Flicker\",\"198.Rock_Wren\",\"073.Blue_Jay\",\"023.Brandt_Cormorant\",\"156.White_eyed_Vireo\",\"013.Bobolink\",\"180.Wilson_Warbler\",\"024.Red_faced_Cormorant\",\"145.Elegant_Tern\",\"070.Green_Violetear\",\"004.Groove_billed_Ani\",\"084.Red_legged_Kittiwake\",\"086.Pacific_Loon\",\"158.Bay_breasted_Warbler\",\"006.Least_Auklet\",\"190.Red_cockaded_Woodpecker\",\"197.Marsh_Wren\",\"171.Myrtle_Warbler\",\"173.Orange_crowned_Warbler\",\"131.Vesper_Sparrow\",\"038.Great_Crested_Flycatcher\",\"043.Yellow_bellied_Flycatcher\",\"125.Lincoln_Sparrow\",\"047.American_Goldfinch\",\"035.Purple_Finch\",\"196.House_Wren\",\"092.Nighthawk\",\"190.Red_cockaded_Woodpecker\",\"028.Brown_Creeper\",\"120.Fox_Sparrow\",\"191.Red_headed_Woodpecker\",\"099.Ovenbird\",\"058.Pigeon_Guillemot\",\"019.Gray_Catbird\",\"046.Gadwall\",\"099.Ovenbird\",\"129.Song_Sparrow\",\"006.Least_Auklet\",\"190.Red_cockaded_Woodpecker\",\"169.Magnolia_Warbler\",\"001.Black_footed_Albatross\",\"111.Loggerhead_Shrike\",\"069.Rufous_Hummingbird\",\"075.Green_Jay\",\"110.Geococcyx\",\"074.Florida_Jay\",\"154.Red_eyed_Vireo\",\"170.Mourning_Warbler\",\"047.American_Goldfinch\",\"031.Black_billed_Cuckoo\",\"172.Nashville_Warbler\",\"162.Canada_Warbler\",\"083.White_breasted_Kingfisher\",\"180.Wilson_Warbler\",\"045.Northern_Fulmar\",\"165.Chestnut_sided_Warbler\",\"194.Cactus_Wren\",\"110.Geococcyx\",\"138.Tree_Swallow\",\"050.Eared_Grebe\",\"166.Golden_winged_Warbler\",\"124.Le_Conte_Sparrow\",\"080.Green_Kingfisher\",\"077.Tropical_Kingbird\",\"197.Marsh_Wren\",\"192.Downy_Woodpecker\",\"122.Harris_Sparrow\",\"035.Purple_Finch\",\"199.Winter_Wren\",\"170.Mourning_Warbler\",\"166.Golden_winged_Warbler\",\"169.Magnolia_Warbler\",\"172.Nashville_Warbler\",\"117.Clay_colored_Sparrow\",\"163.Cape_May_Warbler\",\"117.Clay_colored_Sparrow\",\"116.Chipping_Sparrow\",\"110.Geococcyx\",\"136.Barn_Swallow\",\"003.Sooty_Albatross\",\"151.Black_capped_Vireo\",\"084.Red_legged_Kittiwake\",\"199.Winter_Wren\",\"153.Philadelphia_Vireo\",\"139.Scarlet_Tanager\",\"088.Western_Meadowlark\",\"097.Orchard_Oriole\",\"074.Florida_Jay\",\"127.Savannah_Sparrow\",\"113.Baird_Sparrow\",\"116.Chipping_Sparrow\",\"169.Magnolia_Warbler\",\"001.Black_footed_Albatross\",\"118.House_Sparrow\",\"124.Le_Conte_Sparrow\",\"179.Tennessee_Warbler\",\"136.Barn_Swallow\",\"165.Chestnut_sided_Warbler\",\"084.Red_legged_Kittiwake\",\"146.Forsters_Tern\",\"010.Red_winged_Blackbird\",\"138.Tree_Swallow\",\"177.Prothonotary_Warbler\",\"164.Cerulean_Warbler\",\"167.Hooded_Warbler\",\"027.Shiny_Cowbird\",\"088.Western_Meadowlark\",\"073.Blue_Jay\",\"018.Spotted_Catbird\",\"169.Magnolia_Warbler\",\"007.Parakeet_Auklet\",\"111.Loggerhead_Shrike\",\"150.Sage_Thrasher\",\"165.Chestnut_sided_Warbler\",\"012.Yellow_headed_Blackbird\",\"017.Cardinal\",\"069.Rufous_Hummingbird\",\"077.Tropical_Kingbird\",\"129.Song_Sparrow\",\"005.Crested_Auklet\",\"034.Gray_crowned_Rosy_Finch\",\"155.Warbling_Vireo\",\"131.Vesper_Sparrow\",\"184.Louisiana_Waterthrush\",\"083.White_breasted_Kingfisher\",\"109.American_Redstart\",\"071.Long_tailed_Jaeger\",\"116.Chipping_Sparrow\",\"127.Savannah_Sparrow\",\"105.Whip_poor_Will\",\"080.Green_Kingfisher\",\"167.Hooded_Warbler\",\"197.Marsh_Wren\",\"026.Bronzed_Cowbird\",\"189.Red_bellied_Woodpecker\",\"153.Philadelphia_Vireo\",\"091.Mockingbird\",\"083.White_breasted_Kingfisher\",\"057.Rose_breasted_Grosbeak\",\"090.Red_breasted_Merganser\",\"154.Red_eyed_Vireo\",\"191.Red_headed_Woodpecker\",\"134.Cape_Glossy_Starling\",\"039.Least_Flycatcher\",\"032.Mangrove_Cuckoo\",\"026.Bronzed_Cowbird\",\"119.Field_Sparrow\",\"189.Red_bellied_Woodpecker\",\"119.Field_Sparrow\",\"064.Ring_billed_Gull\",\"142.Black_Tern\",\"161.Blue_winged_Warbler\",\"143.Caspian_Tern\",\"036.Northern_Flicker\",\"117.Clay_colored_Sparrow\",\"147.Least_Tern\",\"198.Rock_Wren\",\"157.Yellow_throated_Vireo\",\"073.Blue_Jay\",\"021.Eastern_Towhee\",\"183.Northern_Waterthrush\",\"178.Swainson_Warbler\",\"112.Great_Grey_Shrike\",\"076.Dark_eyed_Junco\",\"115.Brewer_Sparrow\",\"153.Philadelphia_Vireo\",\"140.Summer_Tanager\",\"197.Marsh_Wren\",\"071.Long_tailed_Jaeger\",\"014.Indigo_Bunting\",\"109.American_Redstart\",\"034.Gray_crowned_Rosy_Finch\",\"144.Common_Tern\",\"053.Western_Grebe\",\"181.Worm_eating_Warbler\",\"136.Barn_Swallow\",\"115.Brewer_Sparrow\",\"112.Great_Grey_Shrike\",\"164.Cerulean_Warbler\",\"188.Pileated_Woodpecker\",\"038.Great_Crested_Flycatcher\",\"044.Frigatebird\",\"126.Nelson_Sharp_tailed_Sparrow\",\"093.Clark_Nutcracker\",\"131.Vesper_Sparrow\",\"071.Long_tailed_Jaeger\",\"045.Northern_Fulmar\",\"158.Bay_breasted_Warbler\",\"121.Grasshopper_Sparrow\",\"019.Gray_Catbird\",\"137.Cliff_Swallow\",\"104.American_Pipit\",\"161.Blue_winged_Warbler\",\"200.Common_Yellowthroat\",\"006.Least_Auklet\",\"186.Cedar_Waxwing\",\"192.Downy_Woodpecker\",\"010.Red_winged_Blackbird\",\"133.White_throated_Sparrow\",\"196.House_Wren\",\"086.Pacific_Loon\",\"195.Carolina_Wren\",\"026.Bronzed_Cowbird\",\"156.White_eyed_Vireo\",\"182.Yellow_Warbler\",\"130.Tree_Sparrow\",\"156.White_eyed_Vireo\",\"153.Philadelphia_Vireo\",\"035.Purple_Finch\",\"163.Cape_May_Warbler\",\"012.Yellow_headed_Blackbird\",\"199.Winter_Wren\",\"030.Fish_Crow\",\"065.Slaty_backed_Gull\",\"035.Purple_Finch\",\"044.Frigatebird\",\"169.Magnolia_Warbler\",\"143.Caspian_Tern\",\"121.Grasshopper_Sparrow\",\"135.Bank_Swallow\",\"096.Hooded_Oriole\",\"003.Sooty_Albatross\",\"052.Pied_billed_Grebe\",\"081.Pied_Kingfisher\",\"054.Blue_Grosbeak\",\"047.American_Goldfinch\",\"190.Red_cockaded_Woodpecker\",\"129.Song_Sparrow\",\"197.Marsh_Wren\",\"021.Eastern_Towhee\",\"035.Purple_Finch\",\"114.Black_throated_Sparrow\",\"139.Scarlet_Tanager\",\"060.Glaucous_winged_Gull\",\"133.White_throated_Sparrow\",\"030.Fish_Crow\",\"106.Horned_Puffin\",\"106.Horned_Puffin\",\"191.Red_headed_Woodpecker\",\"154.Red_eyed_Vireo\",\"088.Western_Meadowlark\",\"193.Bewick_Wren\",\"097.Orchard_Oriole\",\"107.Common_Raven\",\"044.Frigatebird\",\"198.Rock_Wren\",\"171.Myrtle_Warbler\",\"060.Glaucous_winged_Gull\",\"191.Red_headed_Woodpecker\",\"132.White_crowned_Sparrow\",\"104.American_Pipit\",\"056.Pine_Grosbeak\",\"094.White_breasted_Nuthatch\",\"016.Painted_Bunting\",\"003.Sooty_Albatross\",\"057.Rose_breasted_Grosbeak\",\"119.Field_Sparrow\",\"001.Black_footed_Albatross\",\"046.Gadwall\",\"160.Black_throated_Blue_Warbler\",\"147.Least_Tern\",\"086.Pacific_Loon\",\"090.Red_breasted_Merganser\",\"022.Chuck_will_Widow\",\"182.Yellow_Warbler\",\"157.Yellow_throated_Vireo\",\"096.Hooded_Oriole\",\"152.Blue_headed_Vireo\",\"015.Lazuli_Bunting\",\"134.Cape_Glossy_Starling\",\"154.Red_eyed_Vireo\",\"127.Savannah_Sparrow\",\"031.Black_billed_Cuckoo\",\"197.Marsh_Wren\",\"055.Evening_Grosbeak\",\"116.Chipping_Sparrow\",\"029.American_Crow\",\"119.Field_Sparrow\",\"131.Vesper_Sparrow\",\"038.Great_Crested_Flycatcher\",\"116.Chipping_Sparrow\",\"036.Northern_Flicker\",\"023.Brandt_Cormorant\",\"059.California_Gull\",\"037.Acadian_Flycatcher\",\"199.Winter_Wren\",\"083.White_breasted_Kingfisher\",\"013.Bobolink\",\"169.Magnolia_Warbler\",\"129.Song_Sparrow\",\"064.Ring_billed_Gull\",\"162.Canada_Warbler\",\"163.Cape_May_Warbler\",\"041.Scissor_tailed_Flycatcher\",\"045.Northern_Fulmar\",\"098.Scott_Oriole\",\"095.Baltimore_Oriole\",\"190.Red_cockaded_Woodpecker\",\"140.Summer_Tanager\",\"179.Tennessee_Warbler\",\"059.California_Gull\",\"015.Lazuli_Bunting\",\"128.Seaside_Sparrow\",\"027.Shiny_Cowbird\",\"073.Blue_Jay\",\"003.Sooty_Albatross\",\"080.Green_Kingfisher\",\"183.Northern_Waterthrush\",\"016.Painted_Bunting\",\"110.Geococcyx\",\"164.Cerulean_Warbler\",\"178.Swainson_Warbler\",\"156.White_eyed_Vireo\",\"003.Sooty_Albatross\",\"166.Golden_winged_Warbler\",\"025.Pelagic_Cormorant\",\"068.Ruby_throated_Hummingbird\",\"125.Lincoln_Sparrow\",\"062.Herring_Gull\",\"076.Dark_eyed_Junco\",\"191.Red_headed_Woodpecker\",\"082.Ringed_Kingfisher\",\"034.Gray_crowned_Rosy_Finch\",\"102.Western_Wood_Pewee\",\"032.Mangrove_Cuckoo\",\"009.Brewer_Blackbird\",\"108.White_necked_Raven\",\"069.Rufous_Hummingbird\",\"083.White_breasted_Kingfisher\",\"057.Rose_breasted_Grosbeak\",\"131.Vesper_Sparrow\",\"157.Yellow_throated_Vireo\",\"055.Evening_Grosbeak\",\"084.Red_legged_Kittiwake\",\"057.Rose_breasted_Grosbeak\",\"179.Tennessee_Warbler\",\"186.Cedar_Waxwing\",\"058.Pigeon_Guillemot\",\"197.Marsh_Wren\",\"129.Song_Sparrow\",\"077.Tropical_Kingbird\",\"030.Fish_Crow\",\"186.Cedar_Waxwing\",\"196.House_Wren\",\"001.Black_footed_Albatross\",\"033.Yellow_billed_Cuckoo\",\"106.Horned_Puffin\",\"126.Nelson_Sharp_tailed_Sparrow\",\"029.American_Crow\",\"183.Northern_Waterthrush\",\"159.Black_and_white_Warbler\",\"181.Worm_eating_Warbler\",\"162.Canada_Warbler\",\"167.Hooded_Warbler\",\"048.European_Goldfinch\",\"002.Laysan_Albatross\",\"087.Mallard\",\"159.Black_and_white_Warbler\",\"029.American_Crow\",\"150.Sage_Thrasher\",\"064.Ring_billed_Gull\",\"186.Cedar_Waxwing\",\"031.Black_billed_Cuckoo\",\"187.American_Three_toed_Woodpecker\",\"072.Pomarine_Jaeger\",\"165.Chestnut_sided_Warbler\",\"155.Warbling_Vireo\",\"160.Black_throated_Blue_Warbler\",\"065.Slaty_backed_Gull\",\"174.Palm_Warbler\",\"039.Least_Flycatcher\",\"083.White_breasted_Kingfisher\",\"169.Magnolia_Warbler\",\"007.Parakeet_Auklet\",\"163.Cape_May_Warbler\",\"100.Brown_Pelican\",\"183.Northern_Waterthrush\",\"040.Olive_sided_Flycatcher\",\"165.Chestnut_sided_Warbler\",\"139.Scarlet_Tanager\",\"039.Least_Flycatcher\",\"155.Warbling_Vireo\",\"186.Cedar_Waxwing\",\"183.Northern_Waterthrush\",\"041.Scissor_tailed_Flycatcher\",\"161.Blue_winged_Warbler\",\"014.Indigo_Bunting\",\"049.Boat_tailed_Grackle\",\"149.Brown_Thrasher\",\"121.Grasshopper_Sparrow\",\"074.Florida_Jay\",\"128.Seaside_Sparrow\",\"136.Barn_Swallow\",\"076.Dark_eyed_Junco\",\"032.Mangrove_Cuckoo\",\"112.Great_Grey_Shrike\",\"078.Gray_Kingbird\",\"126.Nelson_Sharp_tailed_Sparrow\",\"174.Palm_Warbler\",\"143.Caspian_Tern\",\"150.Sage_Thrasher\",\"142.Black_Tern\",\"192.Downy_Woodpecker\",\"068.Ruby_throated_Hummingbird\",\"044.Frigatebird\",\"062.Herring_Gull\",\"107.Common_Raven\",\"089.Hooded_Merganser\",\"084.Red_legged_Kittiwake\",\"130.Tree_Sparrow\",\"023.Brandt_Cormorant\",\"024.Red_faced_Cormorant\",\"189.Red_bellied_Woodpecker\",\"028.Brown_Creeper\",\"160.Black_throated_Blue_Warbler\",\"103.Sayornis\",\"161.Blue_winged_Warbler\",\"096.Hooded_Oriole\",\"057.Rose_breasted_Grosbeak\",\"024.Red_faced_Cormorant\",\"123.Henslow_Sparrow\",\"158.Bay_breasted_Warbler\",\"002.Laysan_Albatross\",\"098.Scott_Oriole\",\"095.Baltimore_Oriole\",\"143.Caspian_Tern\",\"119.Field_Sparrow\",\"031.Black_billed_Cuckoo\",\"149.Brown_Thrasher\",\"093.Clark_Nutcracker\",\"047.American_Goldfinch\",\"130.Tree_Sparrow\",\"195.Carolina_Wren\",\"058.Pigeon_Guillemot\",\"193.Bewick_Wren\",\"071.Long_tailed_Jaeger\",\"049.Boat_tailed_Grackle\",\"164.Cerulean_Warbler\",\"099.Ovenbird\",\"014.Indigo_Bunting\",\"063.Ivory_Gull\",\"006.Least_Auklet\",\"069.Rufous_Hummingbird\",\"041.Scissor_tailed_Flycatcher\",\"064.Ring_billed_Gull\",\"050.Eared_Grebe\",\"131.Vesper_Sparrow\",\"103.Sayornis\",\"200.Common_Yellowthroat\",\"062.Herring_Gull\",\"126.Nelson_Sharp_tailed_Sparrow\",\"140.Summer_Tanager\",\"103.Sayornis\",\"170.Mourning_Warbler\",\"147.Least_Tern\",\"093.Clark_Nutcracker\",\"081.Pied_Kingfisher\",\"078.Gray_Kingbird\",\"082.Ringed_Kingfisher\",\"198.Rock_Wren\",\"029.American_Crow\",\"173.Orange_crowned_Warbler\",\"197.Marsh_Wren\",\"089.Hooded_Merganser\",\"048.European_Goldfinch\",\"189.Red_bellied_Woodpecker\",\"073.Blue_Jay\",\"054.Blue_Grosbeak\",\"161.Blue_winged_Warbler\",\"057.Rose_breasted_Grosbeak\",\"087.Mallard\",\"026.Bronzed_Cowbird\",\"110.Geococcyx\",\"152.Blue_headed_Vireo\",\"100.Brown_Pelican\",\"027.Shiny_Cowbird\",\"114.Black_throated_Sparrow\",\"083.White_breasted_Kingfisher\",\"144.Common_Tern\",\"005.Crested_Auklet\",\"076.Dark_eyed_Junco\",\"138.Tree_Swallow\",\"126.Nelson_Sharp_tailed_Sparrow\",\"195.Carolina_Wren\",\"053.Western_Grebe\",\"138.Tree_Swallow\",\"049.Boat_tailed_Grackle\",\"165.Chestnut_sided_Warbler\",\"043.Yellow_bellied_Flycatcher\",\"041.Scissor_tailed_Flycatcher\",\"035.Purple_Finch\",\"031.Black_billed_Cuckoo\",\"050.Eared_Grebe\",\"190.Red_cockaded_Woodpecker\",\"155.Warbling_Vireo\",\"134.Cape_Glossy_Starling\",\"044.Frigatebird\",\"040.Olive_sided_Flycatcher\",\"046.Gadwall\",\"125.Lincoln_Sparrow\",\"103.Sayornis\",\"055.Evening_Grosbeak\",\"118.House_Sparrow\",\"178.Swainson_Warbler\",\"092.Nighthawk\",\"044.Frigatebird\",\"047.American_Goldfinch\",\"056.Pine_Grosbeak\",\"116.Chipping_Sparrow\",\"050.Eared_Grebe\",\"174.Palm_Warbler\",\"098.Scott_Oriole\",\"139.Scarlet_Tanager\",\"182.Yellow_Warbler\",\"072.Pomarine_Jaeger\",\"021.Eastern_Towhee\",\"159.Black_and_white_Warbler\",\"161.Blue_winged_Warbler\",\"004.Groove_billed_Ani\",\"024.Red_faced_Cormorant\",\"041.Scissor_tailed_Flycatcher\",\"133.White_throated_Sparrow\",\"074.Florida_Jay\",\"109.American_Redstart\",\"041.Scissor_tailed_Flycatcher\",\"091.Mockingbird\",\"140.Summer_Tanager\",\"091.Mockingbird\",\"162.Canada_Warbler\",\"195.Carolina_Wren\",\"147.Least_Tern\",\"033.Yellow_billed_Cuckoo\",\"181.Worm_eating_Warbler\",\"015.Lazuli_Bunting\",\"124.Le_Conte_Sparrow\",\"085.Horned_Lark\",\"100.Brown_Pelican\",\"116.Chipping_Sparrow\",\"125.Lincoln_Sparrow\",\"066.Western_Gull\",\"042.Vermilion_Flycatcher\",\"173.Orange_crowned_Warbler\",\"020.Yellow_breasted_Chat\",\"135.Bank_Swallow\",\"034.Gray_crowned_Rosy_Finch\",\"102.Western_Wood_Pewee\",\"164.Cerulean_Warbler\",\"086.Pacific_Loon\",\"105.Whip_poor_Will\",\"002.Laysan_Albatross\",\"161.Blue_winged_Warbler\",\"079.Belted_Kingfisher\",\"141.Artic_Tern\",\"054.Blue_Grosbeak\",\"144.Common_Tern\",\"109.American_Redstart\",\"148.Green_tailed_Towhee\",\"127.Savannah_Sparrow\",\"136.Barn_Swallow\",\"016.Painted_Bunting\",\"120.Fox_Sparrow\",\"115.Brewer_Sparrow\",\"118.House_Sparrow\",\"048.European_Goldfinch\",\"016.Painted_Bunting\",\"089.Hooded_Merganser\",\"167.Hooded_Warbler\",\"182.Yellow_Warbler\",\"145.Elegant_Tern\",\"099.Ovenbird\",\"074.Florida_Jay\",\"086.Pacific_Loon\",\"131.Vesper_Sparrow\",\"139.Scarlet_Tanager\",\"046.Gadwall\",\"118.House_Sparrow\",\"129.Song_Sparrow\",\"056.Pine_Grosbeak\",\"112.Great_Grey_Shrike\",\"112.Great_Grey_Shrike\",\"139.Scarlet_Tanager\",\"042.Vermilion_Flycatcher\",\"091.Mockingbird\",\"011.Rusty_Blackbird\",\"090.Red_breasted_Merganser\",\"056.Pine_Grosbeak\",\"122.Harris_Sparrow\",\"066.Western_Gull\",\"020.Yellow_breasted_Chat\",\"024.Red_faced_Cormorant\",\"063.Ivory_Gull\",\"149.Brown_Thrasher\",\"053.Western_Grebe\",\"118.House_Sparrow\",\"152.Blue_headed_Vireo\",\"083.White_breasted_Kingfisher\",\"187.American_Three_toed_Woodpecker\",\"139.Scarlet_Tanager\",\"046.Gadwall\",\"083.White_breasted_Kingfisher\",\"027.Shiny_Cowbird\",\"105.Whip_poor_Will\",\"075.Green_Jay\",\"023.Brandt_Cormorant\",\"090.Red_breasted_Merganser\",\"034.Gray_crowned_Rosy_Finch\",\"178.Swainson_Warbler\",\"171.Myrtle_Warbler\",\"185.Bohemian_Waxwing\",\"147.Least_Tern\",\"021.Eastern_Towhee\",\"144.Common_Tern\",\"168.Kentucky_Warbler\",\"043.Yellow_bellied_Flycatcher\",\"030.Fish_Crow\",\"110.Geococcyx\",\"009.Brewer_Blackbird\",\"123.Henslow_Sparrow\",\"015.Lazuli_Bunting\",\"022.Chuck_will_Widow\",\"171.Myrtle_Warbler\",\"026.Bronzed_Cowbird\",\"064.Ring_billed_Gull\",\"045.Northern_Fulmar\",\"045.Northern_Fulmar\",\"173.Orange_crowned_Warbler\",\"155.Warbling_Vireo\",\"175.Pine_Warbler\",\"031.Black_billed_Cuckoo\",\"182.Yellow_Warbler\",\"099.Ovenbird\",\"146.Forsters_Tern\",\"186.Cedar_Waxwing\",\"068.Ruby_throated_Hummingbird\",\"145.Elegant_Tern\",\"022.Chuck_will_Widow\",\"112.Great_Grey_Shrike\",\"111.Loggerhead_Shrike\",\"154.Red_eyed_Vireo\",\"080.Green_Kingfisher\",\"078.Gray_Kingbird\",\"181.Worm_eating_Warbler\",\"109.American_Redstart\",\"098.Scott_Oriole\",\"030.Fish_Crow\",\"107.Common_Raven\",\"072.Pomarine_Jaeger\",\"101.White_Pelican\",\"092.Nighthawk\",\"131.Vesper_Sparrow\",\"096.Hooded_Oriole\",\"090.Red_breasted_Merganser\",\"172.Nashville_Warbler\",\"175.Pine_Warbler\",\"052.Pied_billed_Grebe\",\"167.Hooded_Warbler\",\"179.Tennessee_Warbler\",\"103.Sayornis\",\"053.Western_Grebe\",\"072.Pomarine_Jaeger\",\"089.Hooded_Merganser\",\"118.House_Sparrow\",\"160.Black_throated_Blue_Warbler\",\"147.Least_Tern\",\"168.Kentucky_Warbler\",\"146.Forsters_Tern\",\"076.Dark_eyed_Junco\",\"067.Anna_Hummingbird\",\"071.Long_tailed_Jaeger\",\"060.Glaucous_winged_Gull\",\"003.Sooty_Albatross\",\"116.Chipping_Sparrow\",\"037.Acadian_Flycatcher\",\"164.Cerulean_Warbler\",\"182.Yellow_Warbler\",\"173.Orange_crowned_Warbler\",\"120.Fox_Sparrow\",\"159.Black_and_white_Warbler\",\"197.Marsh_Wren\",\"150.Sage_Thrasher\",\"038.Great_Crested_Flycatcher\",\"098.Scott_Oriole\",\"090.Red_breasted_Merganser\",\"007.Parakeet_Auklet\",\"012.Yellow_headed_Blackbird\",\"185.Bohemian_Waxwing\",\"144.Common_Tern\",\"072.Pomarine_Jaeger\",\"044.Frigatebird\",\"051.Horned_Grebe\",\"108.White_necked_Raven\",\"021.Eastern_Towhee\",\"023.Brandt_Cormorant\",\"151.Black_capped_Vireo\",\"075.Green_Jay\",\"047.American_Goldfinch\",\"161.Blue_winged_Warbler\",\"158.Bay_breasted_Warbler\",\"196.House_Wren\",\"041.Scissor_tailed_Flycatcher\",\"068.Ruby_throated_Hummingbird\",\"006.Least_Auklet\",\"124.Le_Conte_Sparrow\",\"027.Shiny_Cowbird\",\"094.White_breasted_Nuthatch\",\"025.Pelagic_Cormorant\",\"147.Least_Tern\",\"196.House_Wren\",\"191.Red_headed_Woodpecker\",\"015.Lazuli_Bunting\",\"066.Western_Gull\",\"176.Prairie_Warbler\",\"155.Warbling_Vireo\",\"065.Slaty_backed_Gull\",\"136.Barn_Swallow\",\"073.Blue_Jay\",\"030.Fish_Crow\",\"039.Least_Flycatcher\",\"092.Nighthawk\",\"194.Cactus_Wren\",\"136.Barn_Swallow\",\"186.Cedar_Waxwing\",\"077.Tropical_Kingbird\",\"003.Sooty_Albatross\",\"184.Louisiana_Waterthrush\",\"131.Vesper_Sparrow\",\"080.Green_Kingfisher\",\"130.Tree_Sparrow\",\"200.Common_Yellowthroat\",\"084.Red_legged_Kittiwake\",\"040.Olive_sided_Flycatcher\",\"175.Pine_Warbler\",\"077.Tropical_Kingbird\",\"101.White_Pelican\",\"142.Black_Tern\",\"056.Pine_Grosbeak\",\"094.White_breasted_Nuthatch\",\"187.American_Three_toed_Woodpecker\",\"174.Palm_Warbler\",\"048.European_Goldfinch\",\"065.Slaty_backed_Gull\",\"082.Ringed_Kingfisher\",\"115.Brewer_Sparrow\",\"103.Sayornis\",\"107.Common_Raven\",\"177.Prothonotary_Warbler\",\"197.Marsh_Wren\",\"116.Chipping_Sparrow\",\"174.Palm_Warbler\",\"085.Horned_Lark\",\"086.Pacific_Loon\",\"046.Gadwall\",\"109.American_Redstart\",\"126.Nelson_Sharp_tailed_Sparrow\",\"176.Prairie_Warbler\",\"070.Green_Violetear\",\"097.Orchard_Oriole\",\"150.Sage_Thrasher\",\"020.Yellow_breasted_Chat\",\"011.Rusty_Blackbird\",\"049.Boat_tailed_Grackle\",\"006.Least_Auklet\",\"038.Great_Crested_Flycatcher\",\"145.Elegant_Tern\",\"161.Blue_winged_Warbler\",\"051.Horned_Grebe\",\"132.White_crowned_Sparrow\",\"013.Bobolink\",\"155.Warbling_Vireo\",\"195.Carolina_Wren\",\"041.Scissor_tailed_Flycatcher\",\"108.White_necked_Raven\",\"172.Nashville_Warbler\",\"179.Tennessee_Warbler\",\"011.Rusty_Blackbird\",\"164.Cerulean_Warbler\",\"042.Vermilion_Flycatcher\",\"191.Red_headed_Woodpecker\",\"134.Cape_Glossy_Starling\",\"037.Acadian_Flycatcher\",\"118.House_Sparrow\",\"092.Nighthawk\",\"106.Horned_Puffin\",\"085.Horned_Lark\",\"053.Western_Grebe\",\"181.Worm_eating_Warbler\",\"194.Cactus_Wren\",\"097.Orchard_Oriole\",\"011.Rusty_Blackbird\",\"044.Frigatebird\",\"047.American_Goldfinch\",\"004.Groove_billed_Ani\",\"083.White_breasted_Kingfisher\",\"004.Groove_billed_Ani\",\"102.Western_Wood_Pewee\",\"177.Prothonotary_Warbler\",\"114.Black_throated_Sparrow\",\"069.Rufous_Hummingbird\",\"041.Scissor_tailed_Flycatcher\",\"003.Sooty_Albatross\",\"128.Seaside_Sparrow\",\"137.Cliff_Swallow\",\"173.Orange_crowned_Warbler\",\"115.Brewer_Sparrow\",\"173.Orange_crowned_Warbler\",\"019.Gray_Catbird\",\"038.Great_Crested_Flycatcher\",\"006.Least_Auklet\",\"051.Horned_Grebe\",\"200.Common_Yellowthroat\",\"029.American_Crow\",\"002.Laysan_Albatross\",\"179.Tennessee_Warbler\",\"179.Tennessee_Warbler\",\"161.Blue_winged_Warbler\",\"085.Horned_Lark\",\"194.Cactus_Wren\",\"021.Eastern_Towhee\",\"153.Philadelphia_Vireo\",\"093.Clark_Nutcracker\",\"179.Tennessee_Warbler\",\"096.Hooded_Oriole\",\"142.Black_Tern\",\"044.Frigatebird\",\"018.Spotted_Catbird\",\"136.Barn_Swallow\",\"062.Herring_Gull\",\"166.Golden_winged_Warbler\",\"024.Red_faced_Cormorant\",\"059.California_Gull\",\"158.Bay_breasted_Warbler\",\"173.Orange_crowned_Warbler\",\"199.Winter_Wren\",\"151.Black_capped_Vireo\",\"133.White_throated_Sparrow\",\"080.Green_Kingfisher\",\"102.Western_Wood_Pewee\",\"022.Chuck_will_Widow\",\"200.Common_Yellowthroat\",\"131.Vesper_Sparrow\",\"072.Pomarine_Jaeger\",\"192.Downy_Woodpecker\",\"067.Anna_Hummingbird\",\"188.Pileated_Woodpecker\",\"147.Least_Tern\",\"034.Gray_crowned_Rosy_Finch\",\"184.Louisiana_Waterthrush\",\"059.California_Gull\",\"050.Eared_Grebe\",\"129.Song_Sparrow\",\"200.Common_Yellowthroat\",\"182.Yellow_Warbler\",\"053.Western_Grebe\",\"086.Pacific_Loon\",\"130.Tree_Sparrow\",\"148.Green_tailed_Towhee\",\"191.Red_headed_Woodpecker\",\"092.Nighthawk\",\"118.House_Sparrow\",\"095.Baltimore_Oriole\",\"032.Mangrove_Cuckoo\",\"159.Black_and_white_Warbler\",\"191.Red_headed_Woodpecker\",\"183.Northern_Waterthrush\",\"030.Fish_Crow\",\"122.Harris_Sparrow\",\"063.Ivory_Gull\",\"016.Painted_Bunting\",\"097.Orchard_Oriole\",\"044.Frigatebird\",\"144.Common_Tern\",\"053.Western_Grebe\",\"062.Herring_Gull\",\"125.Lincoln_Sparrow\",\"077.Tropical_Kingbird\",\"094.White_breasted_Nuthatch\",\"194.Cactus_Wren\",\"145.Elegant_Tern\",\"084.Red_legged_Kittiwake\",\"027.Shiny_Cowbird\",\"043.Yellow_bellied_Flycatcher\",\"179.Tennessee_Warbler\",\"141.Artic_Tern\",\"143.Caspian_Tern\",\"097.Orchard_Oriole\",\"061.Heermann_Gull\",\"169.Magnolia_Warbler\",\"013.Bobolink\",\"098.Scott_Oriole\",\"026.Bronzed_Cowbird\",\"093.Clark_Nutcracker\",\"088.Western_Meadowlark\",\"138.Tree_Swallow\",\"148.Green_tailed_Towhee\",\"186.Cedar_Waxwing\",\"100.Brown_Pelican\",\"014.Indigo_Bunting\",\"029.American_Crow\",\"023.Brandt_Cormorant\",\"038.Great_Crested_Flycatcher\",\"070.Green_Violetear\",\"076.Dark_eyed_Junco\",\"119.Field_Sparrow\",\"143.Caspian_Tern\",\"150.Sage_Thrasher\",\"044.Frigatebird\",\"114.Black_throated_Sparrow\",\"099.Ovenbird\",\"174.Palm_Warbler\",\"048.European_Goldfinch\",\"061.Heermann_Gull\",\"143.Caspian_Tern\",\"025.Pelagic_Cormorant\",\"058.Pigeon_Guillemot\",\"075.Green_Jay\",\"132.White_crowned_Sparrow\",\"043.Yellow_bellied_Flycatcher\",\"058.Pigeon_Guillemot\",\"196.House_Wren\",\"073.Blue_Jay\",\"037.Acadian_Flycatcher\",\"076.Dark_eyed_Junco\",\"090.Red_breasted_Merganser\",\"041.Scissor_tailed_Flycatcher\",\"116.Chipping_Sparrow\",\"020.Yellow_breasted_Chat\",\"175.Pine_Warbler\",\"024.Red_faced_Cormorant\",\"056.Pine_Grosbeak\",\"131.Vesper_Sparrow\",\"022.Chuck_will_Widow\",\"130.Tree_Sparrow\",\"100.Brown_Pelican\",\"018.Spotted_Catbird\",\"172.Nashville_Warbler\",\"180.Wilson_Warbler\",\"049.Boat_tailed_Grackle\",\"009.Brewer_Blackbird\",\"009.Brewer_Blackbird\",\"045.Northern_Fulmar\",\"175.Pine_Warbler\",\"047.American_Goldfinch\",\"127.Savannah_Sparrow\",\"167.Hooded_Warbler\",\"105.Whip_poor_Will\",\"165.Chestnut_sided_Warbler\",\"020.Yellow_breasted_Chat\",\"049.Boat_tailed_Grackle\",\"088.Western_Meadowlark\",\"116.Chipping_Sparrow\",\"087.Mallard\",\"048.European_Goldfinch\",\"124.Le_Conte_Sparrow\",\"093.Clark_Nutcracker\",\"189.Red_bellied_Woodpecker\",\"143.Caspian_Tern\",\"132.White_crowned_Sparrow\",\"125.Lincoln_Sparrow\",\"105.Whip_poor_Will\",\"104.American_Pipit\",\"200.Common_Yellowthroat\",\"059.California_Gull\",\"156.White_eyed_Vireo\",\"028.Brown_Creeper\",\"057.Rose_breasted_Grosbeak\",\"093.Clark_Nutcracker\",\"094.White_breasted_Nuthatch\",\"058.Pigeon_Guillemot\",\"171.Myrtle_Warbler\",\"162.Canada_Warbler\",\"192.Downy_Woodpecker\",\"111.Loggerhead_Shrike\",\"030.Fish_Crow\",\"003.Sooty_Albatross\",\"196.House_Wren\",\"146.Forsters_Tern\",\"122.Harris_Sparrow\",\"047.American_Goldfinch\",\"092.Nighthawk\",\"047.American_Goldfinch\",\"042.Vermilion_Flycatcher\",\"170.Mourning_Warbler\",\"020.Yellow_breasted_Chat\",\"162.Canada_Warbler\",\"148.Green_tailed_Towhee\",\"009.Brewer_Blackbird\",\"147.Least_Tern\",\"060.Glaucous_winged_Gull\",\"063.Ivory_Gull\",\"159.Black_and_white_Warbler\",\"129.Song_Sparrow\",\"003.Sooty_Albatross\",\"198.Rock_Wren\",\"152.Blue_headed_Vireo\",\"038.Great_Crested_Flycatcher\",\"085.Horned_Lark\",\"129.Song_Sparrow\",\"087.Mallard\",\"076.Dark_eyed_Junco\",\"129.Song_Sparrow\",\"153.Philadelphia_Vireo\",\"103.Sayornis\",\"046.Gadwall\",\"014.Indigo_Bunting\",\"147.Least_Tern\",\"065.Slaty_backed_Gull\",\"086.Pacific_Loon\",\"177.Prothonotary_Warbler\",\"104.American_Pipit\",\"099.Ovenbird\",\"063.Ivory_Gull\",\"071.Long_tailed_Jaeger\",\"199.Winter_Wren\",\"010.Red_winged_Blackbird\",\"044.Frigatebird\",\"053.Western_Grebe\",\"119.Field_Sparrow\",\"068.Ruby_throated_Hummingbird\",\"125.Lincoln_Sparrow\",\"179.Tennessee_Warbler\",\"105.Whip_poor_Will\",\"199.Winter_Wren\",\"136.Barn_Swallow\",\"183.Northern_Waterthrush\",\"198.Rock_Wren\",\"152.Blue_headed_Vireo\",\"170.Mourning_Warbler\",\"070.Green_Violetear\",\"180.Wilson_Warbler\",\"040.Olive_sided_Flycatcher\",\"079.Belted_Kingfisher\",\"012.Yellow_headed_Blackbird\",\"125.Lincoln_Sparrow\",\"084.Red_legged_Kittiwake\",\"048.European_Goldfinch\",\"031.Black_billed_Cuckoo\",\"037.Acadian_Flycatcher\",\"199.Winter_Wren\",\"051.Horned_Grebe\",\"185.Bohemian_Waxwing\",\"147.Least_Tern\",\"015.Lazuli_Bunting\",\"125.Lincoln_Sparrow\",\"192.Downy_Woodpecker\",\"070.Green_Violetear\",\"122.Harris_Sparrow\",\"059.California_Gull\",\"025.Pelagic_Cormorant\",\"087.Mallard\",\"172.Nashville_Warbler\",\"009.Brewer_Blackbird\",\"046.Gadwall\",\"161.Blue_winged_Warbler\",\"065.Slaty_backed_Gull\",\"124.Le_Conte_Sparrow\",\"029.American_Crow\",\"106.Horned_Puffin\",\"092.Nighthawk\",\"016.Painted_Bunting\",\"112.Great_Grey_Shrike\",\"038.Great_Crested_Flycatcher\",\"047.American_Goldfinch\",\"184.Louisiana_Waterthrush\",\"126.Nelson_Sharp_tailed_Sparrow\",\"033.Yellow_billed_Cuckoo\",\"055.Evening_Grosbeak\",\"199.Winter_Wren\",\"144.Common_Tern\",\"139.Scarlet_Tanager\",\"007.Parakeet_Auklet\",\"056.Pine_Grosbeak\",\"162.Canada_Warbler\",\"020.Yellow_breasted_Chat\",\"165.Chestnut_sided_Warbler\",\"156.White_eyed_Vireo\",\"037.Acadian_Flycatcher\",\"131.Vesper_Sparrow\",\"038.Great_Crested_Flycatcher\",\"182.Yellow_Warbler\",\"114.Black_throated_Sparrow\",\"052.Pied_billed_Grebe\",\"090.Red_breasted_Merganser\",\"145.Elegant_Tern\",\"015.Lazuli_Bunting\",\"092.Nighthawk\",\"089.Hooded_Merganser\",\"099.Ovenbird\",\"013.Bobolink\",\"018.Spotted_Catbird\",\"164.Cerulean_Warbler\",\"069.Rufous_Hummingbird\",\"136.Barn_Swallow\",\"029.American_Crow\",\"160.Black_throated_Blue_Warbler\",\"092.Nighthawk\",\"097.Orchard_Oriole\",\"184.Louisiana_Waterthrush\",\"119.Field_Sparrow\",\"118.House_Sparrow\",\"115.Brewer_Sparrow\",\"123.Henslow_Sparrow\",\"089.Hooded_Merganser\",\"182.Yellow_Warbler\",\"190.Red_cockaded_Woodpecker\",\"118.House_Sparrow\",\"040.Olive_sided_Flycatcher\",\"178.Swainson_Warbler\",\"024.Red_faced_Cormorant\",\"043.Yellow_bellied_Flycatcher\",\"057.Rose_breasted_Grosbeak\",\"173.Orange_crowned_Warbler\",\"084.Red_legged_Kittiwake\",\"149.Brown_Thrasher\",\"055.Evening_Grosbeak\",\"112.Great_Grey_Shrike\",\"097.Orchard_Oriole\",\"117.Clay_colored_Sparrow\",\"127.Savannah_Sparrow\",\"148.Green_tailed_Towhee\",\"140.Summer_Tanager\",\"145.Elegant_Tern\",\"144.Common_Tern\",\"108.White_necked_Raven\",\"055.Evening_Grosbeak\",\"137.Cliff_Swallow\",\"084.Red_legged_Kittiwake\",\"136.Barn_Swallow\",\"050.Eared_Grebe\",\"184.Louisiana_Waterthrush\",\"180.Wilson_Warbler\",\"010.Red_winged_Blackbird\",\"007.Parakeet_Auklet\",\"023.Brandt_Cormorant\",\"159.Black_and_white_Warbler\",\"069.Rufous_Hummingbird\",\"114.Black_throated_Sparrow\",\"173.Orange_crowned_Warbler\",\"129.Song_Sparrow\",\"082.Ringed_Kingfisher\",\"023.Brandt_Cormorant\",\"070.Green_Violetear\",\"092.Nighthawk\",\"060.Glaucous_winged_Gull\",\"163.Cape_May_Warbler\",\"008.Rhinoceros_Auklet\",\"123.Henslow_Sparrow\",\"042.Vermilion_Flycatcher\",\"156.White_eyed_Vireo\",\"184.Louisiana_Waterthrush\",\"073.Blue_Jay\",\"198.Rock_Wren\",\"106.Horned_Puffin\",\"032.Mangrove_Cuckoo\",\"004.Groove_billed_Ani\",\"052.Pied_billed_Grebe\",\"178.Swainson_Warbler\",\"016.Painted_Bunting\",\"137.Cliff_Swallow\",\"197.Marsh_Wren\",\"004.Groove_billed_Ani\",\"130.Tree_Sparrow\",\"162.Canada_Warbler\",\"074.Florida_Jay\",\"027.Shiny_Cowbird\",\"184.Louisiana_Waterthrush\",\"086.Pacific_Loon\",\"128.Seaside_Sparrow\",\"200.Common_Yellowthroat\",\"069.Rufous_Hummingbird\",\"124.Le_Conte_Sparrow\",\"139.Scarlet_Tanager\",\"134.Cape_Glossy_Starling\",\"162.Canada_Warbler\",\"093.Clark_Nutcracker\",\"141.Artic_Tern\",\"058.Pigeon_Guillemot\",\"004.Groove_billed_Ani\",\"106.Horned_Puffin\",\"009.Brewer_Blackbird\",\"082.Ringed_Kingfisher\",\"171.Myrtle_Warbler\",\"029.American_Crow\",\"147.Least_Tern\",\"134.Cape_Glossy_Starling\",\"117.Clay_colored_Sparrow\",\"034.Gray_crowned_Rosy_Finch\",\"003.Sooty_Albatross\",\"001.Black_footed_Albatross\",\"119.Field_Sparrow\",\"185.Bohemian_Waxwing\",\"015.Lazuli_Bunting\",\"025.Pelagic_Cormorant\",\"081.Pied_Kingfisher\",\"174.Palm_Warbler\",\"007.Parakeet_Auklet\",\"043.Yellow_bellied_Flycatcher\",\"049.Boat_tailed_Grackle\",\"079.Belted_Kingfisher\",\"167.Hooded_Warbler\",\"028.Brown_Creeper\",\"079.Belted_Kingfisher\",\"053.Western_Grebe\",\"068.Ruby_throated_Hummingbird\",\"046.Gadwall\",\"040.Olive_sided_Flycatcher\",\"054.Blue_Grosbeak\",\"150.Sage_Thrasher\",\"180.Wilson_Warbler\",\"057.Rose_breasted_Grosbeak\",\"020.Yellow_breasted_Chat\",\"019.Gray_Catbird\",\"161.Blue_winged_Warbler\",\"036.Northern_Flicker\",\"089.Hooded_Merganser\",\"066.Western_Gull\",\"060.Glaucous_winged_Gull\",\"075.Green_Jay\",\"188.Pileated_Woodpecker\",\"198.Rock_Wren\",\"029.American_Crow\",\"106.Horned_Puffin\",\"037.Acadian_Flycatcher\",\"195.Carolina_Wren\",\"122.Harris_Sparrow\",\"071.Long_tailed_Jaeger\",\"052.Pied_billed_Grebe\",\"015.Lazuli_Bunting\",\"042.Vermilion_Flycatcher\",\"093.Clark_Nutcracker\",\"008.Rhinoceros_Auklet\",\"084.Red_legged_Kittiwake\",\"040.Olive_sided_Flycatcher\",\"127.Savannah_Sparrow\",\"171.Myrtle_Warbler\",\"074.Florida_Jay\",\"083.White_breasted_Kingfisher\",\"085.Horned_Lark\",\"139.Scarlet_Tanager\",\"114.Black_throated_Sparrow\",\"047.American_Goldfinch\",\"176.Prairie_Warbler\",\"049.Boat_tailed_Grackle\",\"075.Green_Jay\",\"124.Le_Conte_Sparrow\",\"078.Gray_Kingbird\",\"062.Herring_Gull\",\"030.Fish_Crow\",\"052.Pied_billed_Grebe\",\"006.Least_Auklet\",\"043.Yellow_bellied_Flycatcher\",\"004.Groove_billed_Ani\",\"116.Chipping_Sparrow\",\"149.Brown_Thrasher\",\"195.Carolina_Wren\",\"007.Parakeet_Auklet\",\"013.Bobolink\",\"096.Hooded_Oriole\",\"010.Red_winged_Blackbird\",\"137.Cliff_Swallow\",\"133.White_throated_Sparrow\",\"004.Groove_billed_Ani\",\"066.Western_Gull\",\"161.Blue_winged_Warbler\",\"002.Laysan_Albatross\",\"044.Frigatebird\",\"141.Artic_Tern\",\"108.White_necked_Raven\",\"036.Northern_Flicker\",\"109.American_Redstart\",\"102.Western_Wood_Pewee\",\"077.Tropical_Kingbird\",\"033.Yellow_billed_Cuckoo\",\"151.Black_capped_Vireo\",\"105.Whip_poor_Will\",\"155.Warbling_Vireo\",\"053.Western_Grebe\",\"176.Prairie_Warbler\",\"161.Blue_winged_Warbler\",\"037.Acadian_Flycatcher\",\"072.Pomarine_Jaeger\",\"081.Pied_Kingfisher\",\"089.Hooded_Merganser\",\"199.Winter_Wren\",\"055.Evening_Grosbeak\",\"138.Tree_Swallow\",\"121.Grasshopper_Sparrow\",\"042.Vermilion_Flycatcher\",\"176.Prairie_Warbler\",\"128.Seaside_Sparrow\",\"111.Loggerhead_Shrike\",\"043.Yellow_bellied_Flycatcher\",\"027.Shiny_Cowbird\",\"185.Bohemian_Waxwing\",\"036.Northern_Flicker\",\"133.White_throated_Sparrow\",\"150.Sage_Thrasher\",\"058.Pigeon_Guillemot\",\"107.Common_Raven\",\"006.Least_Auklet\",\"072.Pomarine_Jaeger\",\"073.Blue_Jay\",\"066.Western_Gull\",\"033.Yellow_billed_Cuckoo\",\"014.Indigo_Bunting\",\"166.Golden_winged_Warbler\",\"033.Yellow_billed_Cuckoo\",\"117.Clay_colored_Sparrow\",\"146.Forsters_Tern\",\"088.Western_Meadowlark\",\"098.Scott_Oriole\",\"130.Tree_Sparrow\",\"100.Brown_Pelican\",\"041.Scissor_tailed_Flycatcher\",\"030.Fish_Crow\",\"158.Bay_breasted_Warbler\",\"141.Artic_Tern\",\"051.Horned_Grebe\",\"058.Pigeon_Guillemot\",\"038.Great_Crested_Flycatcher\",\"005.Crested_Auklet\",\"153.Philadelphia_Vireo\",\"045.Northern_Fulmar\",\"107.Common_Raven\",\"198.Rock_Wren\",\"117.Clay_colored_Sparrow\",\"083.White_breasted_Kingfisher\",\"167.Hooded_Warbler\",\"088.Western_Meadowlark\",\"181.Worm_eating_Warbler\",\"041.Scissor_tailed_Flycatcher\",\"160.Black_throated_Blue_Warbler\",\"059.California_Gull\",\"042.Vermilion_Flycatcher\",\"008.Rhinoceros_Auklet\",\"158.Bay_breasted_Warbler\",\"064.Ring_billed_Gull\",\"062.Herring_Gull\",\"128.Seaside_Sparrow\",\"109.American_Redstart\",\"152.Blue_headed_Vireo\",\"061.Heermann_Gull\",\"118.House_Sparrow\",\"022.Chuck_will_Widow\",\"006.Least_Auklet\",\"146.Forsters_Tern\",\"107.Common_Raven\",\"001.Black_footed_Albatross\",\"156.White_eyed_Vireo\",\"036.Northern_Flicker\",\"146.Forsters_Tern\",\"177.Prothonotary_Warbler\",\"136.Barn_Swallow\",\"096.Hooded_Oriole\",\"094.White_breasted_Nuthatch\",\"115.Brewer_Sparrow\",\"162.Canada_Warbler\",\"107.Common_Raven\",\"184.Louisiana_Waterthrush\",\"144.Common_Tern\",\"043.Yellow_bellied_Flycatcher\",\"023.Brandt_Cormorant\",\"035.Purple_Finch\",\"045.Northern_Fulmar\",\"168.Kentucky_Warbler\",\"115.Brewer_Sparrow\",\"077.Tropical_Kingbird\",\"168.Kentucky_Warbler\",\"124.Le_Conte_Sparrow\",\"052.Pied_billed_Grebe\",\"163.Cape_May_Warbler\",\"063.Ivory_Gull\",\"160.Black_throated_Blue_Warbler\",\"136.Barn_Swallow\",\"145.Elegant_Tern\",\"192.Downy_Woodpecker\",\"028.Brown_Creeper\",\"151.Black_capped_Vireo\",\"086.Pacific_Loon\",\"035.Purple_Finch\",\"164.Cerulean_Warbler\",\"148.Green_tailed_Towhee\",\"016.Painted_Bunting\",\"030.Fish_Crow\",\"062.Herring_Gull\",\"200.Common_Yellowthroat\",\"174.Palm_Warbler\",\"141.Artic_Tern\",\"086.Pacific_Loon\",\"169.Magnolia_Warbler\",\"029.American_Crow\",\"192.Downy_Woodpecker\",\"018.Spotted_Catbird\",\"187.American_Three_toed_Woodpecker\",\"093.Clark_Nutcracker\",\"135.Bank_Swallow\",\"131.Vesper_Sparrow\",\"059.California_Gull\",\"091.Mockingbird\",\"067.Anna_Hummingbird\",\"001.Black_footed_Albatross\",\"078.Gray_Kingbird\",\"033.Yellow_billed_Cuckoo\",\"124.Le_Conte_Sparrow\",\"079.Belted_Kingfisher\",\"025.Pelagic_Cormorant\",\"063.Ivory_Gull\",\"106.Horned_Puffin\",\"098.Scott_Oriole\",\"175.Pine_Warbler\",\"193.Bewick_Wren\",\"125.Lincoln_Sparrow\",\"163.Cape_May_Warbler\",\"024.Red_faced_Cormorant\",\"128.Seaside_Sparrow\",\"128.Seaside_Sparrow\",\"155.Warbling_Vireo\",\"173.Orange_crowned_Warbler\",\"093.Clark_Nutcracker\",\"146.Forsters_Tern\",\"139.Scarlet_Tanager\",\"135.Bank_Swallow\",\"061.Heermann_Gull\",\"093.Clark_Nutcracker\",\"171.Myrtle_Warbler\",\"088.Western_Meadowlark\",\"008.Rhinoceros_Auklet\",\"178.Swainson_Warbler\",\"119.Field_Sparrow\",\"200.Common_Yellowthroat\",\"111.Loggerhead_Shrike\",\"118.House_Sparrow\",\"152.Blue_headed_Vireo\",\"143.Caspian_Tern\",\"006.Least_Auklet\",\"012.Yellow_headed_Blackbird\",\"158.Bay_breasted_Warbler\",\"136.Barn_Swallow\",\"169.Magnolia_Warbler\",\"137.Cliff_Swallow\",\"005.Crested_Auklet\",\"085.Horned_Lark\",\"179.Tennessee_Warbler\",\"162.Canada_Warbler\",\"017.Cardinal\",\"188.Pileated_Woodpecker\",\"173.Orange_crowned_Warbler\",\"017.Cardinal\",\"097.Orchard_Oriole\",\"004.Groove_billed_Ani\",\"058.Pigeon_Guillemot\",\"182.Yellow_Warbler\",\"058.Pigeon_Guillemot\",\"101.White_Pelican\",\"010.Red_winged_Blackbird\",\"071.Long_tailed_Jaeger\",\"150.Sage_Thrasher\",\"103.Sayornis\",\"197.Marsh_Wren\",\"052.Pied_billed_Grebe\",\"101.White_Pelican\",\"008.Rhinoceros_Auklet\",\"009.Brewer_Blackbird\",\"021.Eastern_Towhee\",\"166.Golden_winged_Warbler\",\"195.Carolina_Wren\",\"141.Artic_Tern\",\"009.Brewer_Blackbird\",\"015.Lazuli_Bunting\",\"118.House_Sparrow\",\"115.Brewer_Sparrow\",\"198.Rock_Wren\",\"148.Green_tailed_Towhee\",\"094.White_breasted_Nuthatch\",\"012.Yellow_headed_Blackbird\",\"108.White_necked_Raven\",\"112.Great_Grey_Shrike\",\"022.Chuck_will_Widow\",\"011.Rusty_Blackbird\",\"184.Louisiana_Waterthrush\",\"081.Pied_Kingfisher\",\"149.Brown_Thrasher\",\"010.Red_winged_Blackbird\",\"106.Horned_Puffin\",\"160.Black_throated_Blue_Warbler\",\"190.Red_cockaded_Woodpecker\",\"044.Frigatebird\",\"140.Summer_Tanager\",\"095.Baltimore_Oriole\",\"105.Whip_poor_Will\",\"103.Sayornis\",\"016.Painted_Bunting\",\"151.Black_capped_Vireo\",\"028.Brown_Creeper\",\"177.Prothonotary_Warbler\",\"130.Tree_Sparrow\",\"028.Brown_Creeper\",\"075.Green_Jay\",\"021.Eastern_Towhee\",\"163.Cape_May_Warbler\",\"189.Red_bellied_Woodpecker\",\"173.Orange_crowned_Warbler\",\"109.American_Redstart\",\"081.Pied_Kingfisher\",\"161.Blue_winged_Warbler\",\"009.Brewer_Blackbird\",\"049.Boat_tailed_Grackle\",\"067.Anna_Hummingbird\",\"033.Yellow_billed_Cuckoo\",\"065.Slaty_backed_Gull\",\"134.Cape_Glossy_Starling\",\"126.Nelson_Sharp_tailed_Sparrow\",\"006.Least_Auklet\",\"107.Common_Raven\",\"037.Acadian_Flycatcher\",\"094.White_breasted_Nuthatch\",\"074.Florida_Jay\",\"034.Gray_crowned_Rosy_Finch\",\"123.Henslow_Sparrow\",\"196.House_Wren\",\"171.Myrtle_Warbler\",\"027.Shiny_Cowbird\",\"009.Brewer_Blackbird\",\"196.House_Wren\",\"011.Rusty_Blackbird\",\"033.Yellow_billed_Cuckoo\",\"158.Bay_breasted_Warbler\",\"044.Frigatebird\",\"115.Brewer_Sparrow\",\"002.Laysan_Albatross\",\"133.White_throated_Sparrow\",\"004.Groove_billed_Ani\",\"122.Harris_Sparrow\",\"128.Seaside_Sparrow\",\"176.Prairie_Warbler\",\"112.Great_Grey_Shrike\",\"194.Cactus_Wren\",\"017.Cardinal\",\"032.Mangrove_Cuckoo\",\"198.Rock_Wren\",\"049.Boat_tailed_Grackle\",\"087.Mallard\",\"194.Cactus_Wren\",\"089.Hooded_Merganser\",\"141.Artic_Tern\",\"184.Louisiana_Waterthrush\",\"152.Blue_headed_Vireo\",\"091.Mockingbird\",\"014.Indigo_Bunting\",\"053.Western_Grebe\",\"117.Clay_colored_Sparrow\",\"045.Northern_Fulmar\",\"150.Sage_Thrasher\",\"013.Bobolink\",\"051.Horned_Grebe\",\"198.Rock_Wren\",\"025.Pelagic_Cormorant\",\"068.Ruby_throated_Hummingbird\",\"048.European_Goldfinch\",\"089.Hooded_Merganser\",\"015.Lazuli_Bunting\",\"109.American_Redstart\",\"106.Horned_Puffin\",\"150.Sage_Thrasher\",\"113.Baird_Sparrow\",\"088.Western_Meadowlark\",\"173.Orange_crowned_Warbler\",\"077.Tropical_Kingbird\",\"141.Artic_Tern\",\"096.Hooded_Oriole\",\"004.Groove_billed_Ani\",\"113.Baird_Sparrow\",\"131.Vesper_Sparrow\",\"097.Orchard_Oriole\",\"030.Fish_Crow\",\"137.Cliff_Swallow\",\"140.Summer_Tanager\",\"010.Red_winged_Blackbird\",\"057.Rose_breasted_Grosbeak\",\"025.Pelagic_Cormorant\",\"033.Yellow_billed_Cuckoo\",\"042.Vermilion_Flycatcher\",\"180.Wilson_Warbler\",\"143.Caspian_Tern\",\"128.Seaside_Sparrow\",\"175.Pine_Warbler\",\"078.Gray_Kingbird\",\"128.Seaside_Sparrow\",\"077.Tropical_Kingbird\",\"023.Brandt_Cormorant\",\"053.Western_Grebe\",\"042.Vermilion_Flycatcher\",\"106.Horned_Puffin\",\"193.Bewick_Wren\",\"197.Marsh_Wren\",\"022.Chuck_will_Widow\",\"134.Cape_Glossy_Starling\",\"021.Eastern_Towhee\",\"064.Ring_billed_Gull\",\"031.Black_billed_Cuckoo\",\"174.Palm_Warbler\",\"116.Chipping_Sparrow\",\"096.Hooded_Oriole\",\"129.Song_Sparrow\",\"059.California_Gull\",\"118.House_Sparrow\",\"067.Anna_Hummingbird\",\"152.Blue_headed_Vireo\",\"012.Yellow_headed_Blackbird\",\"087.Mallard\",\"143.Caspian_Tern\",\"141.Artic_Tern\",\"068.Ruby_throated_Hummingbird\",\"100.Brown_Pelican\",\"081.Pied_Kingfisher\",\"001.Black_footed_Albatross\",\"134.Cape_Glossy_Starling\",\"180.Wilson_Warbler\",\"102.Western_Wood_Pewee\",\"019.Gray_Catbird\",\"146.Forsters_Tern\",\"149.Brown_Thrasher\",\"109.American_Redstart\",\"006.Least_Auklet\",\"122.Harris_Sparrow\",\"021.Eastern_Towhee\",\"175.Pine_Warbler\",\"066.Western_Gull\",\"157.Yellow_throated_Vireo\",\"096.Hooded_Oriole\",\"067.Anna_Hummingbird\",\"044.Frigatebird\",\"116.Chipping_Sparrow\",\"128.Seaside_Sparrow\",\"059.California_Gull\",\"167.Hooded_Warbler\",\"126.Nelson_Sharp_tailed_Sparrow\",\"022.Chuck_will_Widow\",\"038.Great_Crested_Flycatcher\",\"061.Heermann_Gull\",\"120.Fox_Sparrow\",\"094.White_breasted_Nuthatch\",\"053.Western_Grebe\",\"190.Red_cockaded_Woodpecker\",\"104.American_Pipit\",\"071.Long_tailed_Jaeger\",\"087.Mallard\",\"054.Blue_Grosbeak\",\"157.Yellow_throated_Vireo\",\"184.Louisiana_Waterthrush\",\"182.Yellow_Warbler\",\"076.Dark_eyed_Junco\",\"177.Prothonotary_Warbler\",\"012.Yellow_headed_Blackbird\",\"188.Pileated_Woodpecker\",\"002.Laysan_Albatross\",\"098.Scott_Oriole\",\"082.Ringed_Kingfisher\",\"056.Pine_Grosbeak\",\"193.Bewick_Wren\",\"040.Olive_sided_Flycatcher\",\"091.Mockingbird\",\"134.Cape_Glossy_Starling\",\"162.Canada_Warbler\",\"174.Palm_Warbler\",\"026.Bronzed_Cowbird\",\"001.Black_footed_Albatross\",\"059.California_Gull\",\"160.Black_throated_Blue_Warbler\",\"145.Elegant_Tern\",\"088.Western_Meadowlark\",\"138.Tree_Swallow\",\"185.Bohemian_Waxwing\",\"183.Northern_Waterthrush\",\"035.Purple_Finch\",\"165.Chestnut_sided_Warbler\",\"078.Gray_Kingbird\",\"178.Swainson_Warbler\",\"199.Winter_Wren\",\"052.Pied_billed_Grebe\",\"182.Yellow_Warbler\",\"008.Rhinoceros_Auklet\",\"063.Ivory_Gull\",\"020.Yellow_breasted_Chat\",\"024.Red_faced_Cormorant\",\"140.Summer_Tanager\",\"059.California_Gull\",\"187.American_Three_toed_Woodpecker\",\"039.Least_Flycatcher\",\"008.Rhinoceros_Auklet\",\"086.Pacific_Loon\",\"200.Common_Yellowthroat\",\"159.Black_and_white_Warbler\",\"083.White_breasted_Kingfisher\",\"142.Black_Tern\",\"163.Cape_May_Warbler\",\"153.Philadelphia_Vireo\",\"128.Seaside_Sparrow\",\"005.Crested_Auklet\",\"192.Downy_Woodpecker\",\"120.Fox_Sparrow\",\"084.Red_legged_Kittiwake\",\"050.Eared_Grebe\",\"112.Great_Grey_Shrike\",\"096.Hooded_Oriole\",\"181.Worm_eating_Warbler\",\"028.Brown_Creeper\",\"171.Myrtle_Warbler\",\"091.Mockingbird\",\"120.Fox_Sparrow\",\"183.Northern_Waterthrush\",\"080.Green_Kingfisher\",\"012.Yellow_headed_Blackbird\",\"037.Acadian_Flycatcher\",\"158.Bay_breasted_Warbler\",\"048.European_Goldfinch\",\"026.Bronzed_Cowbird\",\"009.Brewer_Blackbird\",\"136.Barn_Swallow\",\"014.Indigo_Bunting\",\"199.Winter_Wren\",\"008.Rhinoceros_Auklet\",\"144.Common_Tern\",\"129.Song_Sparrow\",\"058.Pigeon_Guillemot\",\"098.Scott_Oriole\",\"158.Bay_breasted_Warbler\",\"092.Nighthawk\",\"146.Forsters_Tern\",\"200.Common_Yellowthroat\",\"016.Painted_Bunting\",\"083.White_breasted_Kingfisher\",\"109.American_Redstart\",\"183.Northern_Waterthrush\",\"139.Scarlet_Tanager\",\"018.Spotted_Catbird\",\"151.Black_capped_Vireo\",\"143.Caspian_Tern\",\"156.White_eyed_Vireo\",\"040.Olive_sided_Flycatcher\",\"068.Ruby_throated_Hummingbird\",\"157.Yellow_throated_Vireo\",\"088.Western_Meadowlark\",\"159.Black_and_white_Warbler\",\"168.Kentucky_Warbler\",\"193.Bewick_Wren\",\"004.Groove_billed_Ani\",\"030.Fish_Crow\",\"069.Rufous_Hummingbird\",\"087.Mallard\",\"050.Eared_Grebe\",\"079.Belted_Kingfisher\",\"131.Vesper_Sparrow\",\"199.Winter_Wren\",\"061.Heermann_Gull\",\"037.Acadian_Flycatcher\",\"148.Green_tailed_Towhee\",\"127.Savannah_Sparrow\",\"043.Yellow_bellied_Flycatcher\",\"198.Rock_Wren\",\"196.House_Wren\",\"123.Henslow_Sparrow\",\"180.Wilson_Warbler\",\"136.Barn_Swallow\",\"179.Tennessee_Warbler\",\"087.Mallard\",\"098.Scott_Oriole\",\"013.Bobolink\",\"082.Ringed_Kingfisher\",\"011.Rusty_Blackbird\",\"095.Baltimore_Oriole\",\"099.Ovenbird\",\"134.Cape_Glossy_Starling\",\"081.Pied_Kingfisher\",\"175.Pine_Warbler\",\"132.White_crowned_Sparrow\",\"036.Northern_Flicker\",\"102.Western_Wood_Pewee\",\"150.Sage_Thrasher\",\"028.Brown_Creeper\",\"133.White_throated_Sparrow\",\"013.Bobolink\",\"148.Green_tailed_Towhee\",\"130.Tree_Sparrow\",\"057.Rose_breasted_Grosbeak\",\"081.Pied_Kingfisher\",\"022.Chuck_will_Widow\",\"187.American_Three_toed_Woodpecker\",\"158.Bay_breasted_Warbler\",\"192.Downy_Woodpecker\",\"091.Mockingbird\",\"097.Orchard_Oriole\",\"065.Slaty_backed_Gull\",\"151.Black_capped_Vireo\",\"035.Purple_Finch\",\"071.Long_tailed_Jaeger\",\"175.Pine_Warbler\",\"133.White_throated_Sparrow\",\"097.Orchard_Oriole\",\"189.Red_bellied_Woodpecker\",\"103.Sayornis\",\"134.Cape_Glossy_Starling\",\"076.Dark_eyed_Junco\",\"034.Gray_crowned_Rosy_Finch\",\"053.Western_Grebe\",\"135.Bank_Swallow\",\"057.Rose_breasted_Grosbeak\",\"200.Common_Yellowthroat\",\"069.Rufous_Hummingbird\",\"061.Heermann_Gull\",\"142.Black_Tern\",\"131.Vesper_Sparrow\",\"029.American_Crow\",\"056.Pine_Grosbeak\",\"175.Pine_Warbler\",\"195.Carolina_Wren\",\"054.Blue_Grosbeak\",\"071.Long_tailed_Jaeger\",\"046.Gadwall\",\"033.Yellow_billed_Cuckoo\",\"112.Great_Grey_Shrike\",\"096.Hooded_Oriole\",\"192.Downy_Woodpecker\",\"164.Cerulean_Warbler\",\"140.Summer_Tanager\",\"099.Ovenbird\",\"015.Lazuli_Bunting\",\"143.Caspian_Tern\",\"089.Hooded_Merganser\",\"068.Ruby_throated_Hummingbird\",\"159.Black_and_white_Warbler\",\"078.Gray_Kingbird\",\"125.Lincoln_Sparrow\",\"024.Red_faced_Cormorant\",\"153.Philadelphia_Vireo\",\"092.Nighthawk\",\"163.Cape_May_Warbler\",\"135.Bank_Swallow\",\"043.Yellow_bellied_Flycatcher\",\"088.Western_Meadowlark\",\"029.American_Crow\",\"087.Mallard\",\"114.Black_throated_Sparrow\",\"037.Acadian_Flycatcher\",\"078.Gray_Kingbird\",\"073.Blue_Jay\",\"141.Artic_Tern\",\"084.Red_legged_Kittiwake\",\"065.Slaty_backed_Gull\",\"095.Baltimore_Oriole\",\"177.Prothonotary_Warbler\",\"186.Cedar_Waxwing\",\"177.Prothonotary_Warbler\",\"145.Elegant_Tern\",\"067.Anna_Hummingbird\",\"050.Eared_Grebe\",\"164.Cerulean_Warbler\",\"190.Red_cockaded_Woodpecker\",\"125.Lincoln_Sparrow\",\"086.Pacific_Loon\",\"197.Marsh_Wren\",\"158.Bay_breasted_Warbler\",\"020.Yellow_breasted_Chat\",\"182.Yellow_Warbler\",\"082.Ringed_Kingfisher\",\"061.Heermann_Gull\",\"176.Prairie_Warbler\",\"150.Sage_Thrasher\",\"043.Yellow_bellied_Flycatcher\",\"059.California_Gull\",\"004.Groove_billed_Ani\",\"088.Western_Meadowlark\",\"004.Groove_billed_Ani\",\"077.Tropical_Kingbird\",\"054.Blue_Grosbeak\",\"148.Green_tailed_Towhee\",\"041.Scissor_tailed_Flycatcher\",\"139.Scarlet_Tanager\",\"120.Fox_Sparrow\",\"178.Swainson_Warbler\",\"026.Bronzed_Cowbird\",\"094.White_breasted_Nuthatch\",\"140.Summer_Tanager\",\"087.Mallard\",\"101.White_Pelican\",\"176.Prairie_Warbler\",\"155.Warbling_Vireo\",\"065.Slaty_backed_Gull\",\"034.Gray_crowned_Rosy_Finch\",\"024.Red_faced_Cormorant\",\"197.Marsh_Wren\",\"157.Yellow_throated_Vireo\",\"187.American_Three_toed_Woodpecker\",\"176.Prairie_Warbler\",\"056.Pine_Grosbeak\",\"192.Downy_Woodpecker\",\"127.Savannah_Sparrow\",\"180.Wilson_Warbler\",\"046.Gadwall\",\"185.Bohemian_Waxwing\",\"068.Ruby_throated_Hummingbird\",\"078.Gray_Kingbird\",\"010.Red_winged_Blackbird\",\"012.Yellow_headed_Blackbird\",\"005.Crested_Auklet\",\"023.Brandt_Cormorant\",\"126.Nelson_Sharp_tailed_Sparrow\",\"098.Scott_Oriole\",\"088.Western_Meadowlark\",\"109.American_Redstart\",\"092.Nighthawk\",\"051.Horned_Grebe\",\"016.Painted_Bunting\",\"191.Red_headed_Woodpecker\",\"029.American_Crow\",\"090.Red_breasted_Merganser\",\"171.Myrtle_Warbler\",\"117.Clay_colored_Sparrow\",\"061.Heermann_Gull\",\"177.Prothonotary_Warbler\",\"072.Pomarine_Jaeger\",\"061.Heermann_Gull\",\"165.Chestnut_sided_Warbler\",\"197.Marsh_Wren\",\"114.Black_throated_Sparrow\",\"035.Purple_Finch\",\"073.Blue_Jay\",\"030.Fish_Crow\",\"145.Elegant_Tern\",\"137.Cliff_Swallow\",\"177.Prothonotary_Warbler\",\"021.Eastern_Towhee\",\"049.Boat_tailed_Grackle\",\"183.Northern_Waterthrush\",\"037.Acadian_Flycatcher\",\"058.Pigeon_Guillemot\",\"126.Nelson_Sharp_tailed_Sparrow\",\"112.Great_Grey_Shrike\",\"172.Nashville_Warbler\",\"119.Field_Sparrow\",\"181.Worm_eating_Warbler\",\"011.Rusty_Blackbird\",\"163.Cape_May_Warbler\",\"121.Grasshopper_Sparrow\",\"099.Ovenbird\",\"021.Eastern_Towhee\",\"062.Herring_Gull\",\"056.Pine_Grosbeak\",\"096.Hooded_Oriole\",\"075.Green_Jay\",\"069.Rufous_Hummingbird\",\"040.Olive_sided_Flycatcher\",\"026.Bronzed_Cowbird\",\"173.Orange_crowned_Warbler\",\"145.Elegant_Tern\",\"183.Northern_Waterthrush\",\"129.Song_Sparrow\",\"147.Least_Tern\",\"013.Bobolink\",\"192.Downy_Woodpecker\",\"056.Pine_Grosbeak\",\"149.Brown_Thrasher\",\"061.Heermann_Gull\",\"120.Fox_Sparrow\",\"047.American_Goldfinch\",\"039.Least_Flycatcher\",\"126.Nelson_Sharp_tailed_Sparrow\",\"098.Scott_Oriole\",\"150.Sage_Thrasher\",\"060.Glaucous_winged_Gull\",\"108.White_necked_Raven\",\"007.Parakeet_Auklet\",\"056.Pine_Grosbeak\",\"135.Bank_Swallow\",\"051.Horned_Grebe\",\"049.Boat_tailed_Grackle\",\"019.Gray_Catbird\",\"166.Golden_winged_Warbler\",\"036.Northern_Flicker\",\"042.Vermilion_Flycatcher\",\"134.Cape_Glossy_Starling\",\"016.Painted_Bunting\",\"055.Evening_Grosbeak\",\"069.Rufous_Hummingbird\",\"077.Tropical_Kingbird\",\"065.Slaty_backed_Gull\",\"096.Hooded_Oriole\",\"080.Green_Kingfisher\",\"114.Black_throated_Sparrow\",\"008.Rhinoceros_Auklet\",\"069.Rufous_Hummingbird\",\"188.Pileated_Woodpecker\",\"026.Bronzed_Cowbird\",\"149.Brown_Thrasher\",\"080.Green_Kingfisher\",\"092.Nighthawk\",\"158.Bay_breasted_Warbler\",\"013.Bobolink\",\"181.Worm_eating_Warbler\",\"030.Fish_Crow\",\"084.Red_legged_Kittiwake\",\"048.European_Goldfinch\",\"024.Red_faced_Cormorant\",\"089.Hooded_Merganser\",\"173.Orange_crowned_Warbler\",\"025.Pelagic_Cormorant\",\"012.Yellow_headed_Blackbird\",\"062.Herring_Gull\",\"166.Golden_winged_Warbler\",\"032.Mangrove_Cuckoo\",\"098.Scott_Oriole\",\"067.Anna_Hummingbird\",\"086.Pacific_Loon\",\"047.American_Goldfinch\",\"200.Common_Yellowthroat\",\"156.White_eyed_Vireo\",\"073.Blue_Jay\",\"094.White_breasted_Nuthatch\",\"121.Grasshopper_Sparrow\",\"091.Mockingbird\",\"139.Scarlet_Tanager\",\"014.Indigo_Bunting\",\"152.Blue_headed_Vireo\",\"184.Louisiana_Waterthrush\",\"019.Gray_Catbird\",\"085.Horned_Lark\",\"053.Western_Grebe\",\"050.Eared_Grebe\",\"039.Least_Flycatcher\",\"013.Bobolink\",\"091.Mockingbird\",\"041.Scissor_tailed_Flycatcher\",\"074.Florida_Jay\",\"013.Bobolink\",\"103.Sayornis\",\"178.Swainson_Warbler\",\"044.Frigatebird\",\"031.Black_billed_Cuckoo\",\"140.Summer_Tanager\",\"081.Pied_Kingfisher\",\"086.Pacific_Loon\",\"005.Crested_Auklet\",\"120.Fox_Sparrow\",\"085.Horned_Lark\",\"186.Cedar_Waxwing\",\"092.Nighthawk\",\"063.Ivory_Gull\",\"076.Dark_eyed_Junco\",\"146.Forsters_Tern\",\"135.Bank_Swallow\",\"100.Brown_Pelican\",\"099.Ovenbird\",\"011.Rusty_Blackbird\",\"127.Savannah_Sparrow\",\"105.Whip_poor_Will\",\"125.Lincoln_Sparrow\",\"011.Rusty_Blackbird\",\"098.Scott_Oriole\",\"189.Red_bellied_Woodpecker\",\"145.Elegant_Tern\",\"167.Hooded_Warbler\",\"184.Louisiana_Waterthrush\",\"123.Henslow_Sparrow\",\"131.Vesper_Sparrow\",\"027.Shiny_Cowbird\",\"133.White_throated_Sparrow\",\"126.Nelson_Sharp_tailed_Sparrow\",\"026.Bronzed_Cowbird\",\"060.Glaucous_winged_Gull\",\"095.Baltimore_Oriole\",\"040.Olive_sided_Flycatcher\",\"122.Harris_Sparrow\",\"052.Pied_billed_Grebe\",\"170.Mourning_Warbler\",\"164.Cerulean_Warbler\",\"080.Green_Kingfisher\",\"108.White_necked_Raven\",\"194.Cactus_Wren\",\"123.Henslow_Sparrow\",\"074.Florida_Jay\",\"127.Savannah_Sparrow\",\"199.Winter_Wren\",\"026.Bronzed_Cowbird\",\"057.Rose_breasted_Grosbeak\",\"094.White_breasted_Nuthatch\",\"092.Nighthawk\",\"167.Hooded_Warbler\",\"011.Rusty_Blackbird\",\"152.Blue_headed_Vireo\",\"049.Boat_tailed_Grackle\",\"068.Ruby_throated_Hummingbird\",\"070.Green_Violetear\",\"101.White_Pelican\",\"132.White_crowned_Sparrow\",\"147.Least_Tern\",\"171.Myrtle_Warbler\",\"191.Red_headed_Woodpecker\",\"083.White_breasted_Kingfisher\",\"109.American_Redstart\",\"039.Least_Flycatcher\",\"064.Ring_billed_Gull\",\"062.Herring_Gull\",\"179.Tennessee_Warbler\",\"168.Kentucky_Warbler\",\"171.Myrtle_Warbler\",\"184.Louisiana_Waterthrush\",\"004.Groove_billed_Ani\",\"175.Pine_Warbler\",\"006.Least_Auklet\",\"077.Tropical_Kingbird\",\"020.Yellow_breasted_Chat\",\"189.Red_bellied_Woodpecker\",\"088.Western_Meadowlark\",\"034.Gray_crowned_Rosy_Finch\",\"174.Palm_Warbler\",\"113.Baird_Sparrow\",\"085.Horned_Lark\",\"111.Loggerhead_Shrike\",\"175.Pine_Warbler\",\"186.Cedar_Waxwing\",\"151.Black_capped_Vireo\",\"153.Philadelphia_Vireo\",\"070.Green_Violetear\",\"170.Mourning_Warbler\",\"011.Rusty_Blackbird\",\"099.Ovenbird\",\"028.Brown_Creeper\",\"190.Red_cockaded_Woodpecker\",\"041.Scissor_tailed_Flycatcher\",\"060.Glaucous_winged_Gull\",\"191.Red_headed_Woodpecker\",\"173.Orange_crowned_Warbler\",\"019.Gray_Catbird\",\"189.Red_bellied_Woodpecker\",\"143.Caspian_Tern\",\"014.Indigo_Bunting\",\"030.Fish_Crow\",\"154.Red_eyed_Vireo\",\"074.Florida_Jay\",\"042.Vermilion_Flycatcher\",\"152.Blue_headed_Vireo\",\"128.Seaside_Sparrow\",\"037.Acadian_Flycatcher\",\"032.Mangrove_Cuckoo\",\"018.Spotted_Catbird\",\"046.Gadwall\",\"085.Horned_Lark\",\"162.Canada_Warbler\",\"142.Black_Tern\",\"031.Black_billed_Cuckoo\",\"145.Elegant_Tern\",\"195.Carolina_Wren\",\"127.Savannah_Sparrow\",\"148.Green_tailed_Towhee\",\"146.Forsters_Tern\",\"178.Swainson_Warbler\",\"185.Bohemian_Waxwing\",\"007.Parakeet_Auklet\",\"025.Pelagic_Cormorant\",\"020.Yellow_breasted_Chat\",\"124.Le_Conte_Sparrow\",\"196.House_Wren\",\"169.Magnolia_Warbler\",\"169.Magnolia_Warbler\",\"049.Boat_tailed_Grackle\",\"151.Black_capped_Vireo\",\"111.Loggerhead_Shrike\",\"066.Western_Gull\",\"036.Northern_Flicker\",\"089.Hooded_Merganser\",\"130.Tree_Sparrow\",\"001.Black_footed_Albatross\",\"115.Brewer_Sparrow\",\"135.Bank_Swallow\",\"144.Common_Tern\",\"087.Mallard\",\"121.Grasshopper_Sparrow\",\"016.Painted_Bunting\",\"061.Heermann_Gull\",\"060.Glaucous_winged_Gull\",\"135.Bank_Swallow\",\"045.Northern_Fulmar\",\"184.Louisiana_Waterthrush\",\"196.House_Wren\",\"109.American_Redstart\",\"082.Ringed_Kingfisher\",\"031.Black_billed_Cuckoo\",\"067.Anna_Hummingbird\",\"188.Pileated_Woodpecker\",\"103.Sayornis\",\"103.Sayornis\",\"069.Rufous_Hummingbird\",\"031.Black_billed_Cuckoo\",\"194.Cactus_Wren\",\"156.White_eyed_Vireo\",\"197.Marsh_Wren\",\"196.House_Wren\",\"079.Belted_Kingfisher\",\"080.Green_Kingfisher\",\"027.Shiny_Cowbird\",\"165.Chestnut_sided_Warbler\",\"162.Canada_Warbler\",\"173.Orange_crowned_Warbler\",\"199.Winter_Wren\",\"100.Brown_Pelican\",\"178.Swainson_Warbler\",\"133.White_throated_Sparrow\",\"076.Dark_eyed_Junco\",\"081.Pied_Kingfisher\",\"121.Grasshopper_Sparrow\",\"050.Eared_Grebe\",\"144.Common_Tern\",\"189.Red_bellied_Woodpecker\",\"130.Tree_Sparrow\",\"149.Brown_Thrasher\",\"146.Forsters_Tern\",\"070.Green_Violetear\",\"116.Chipping_Sparrow\",\"140.Summer_Tanager\",\"200.Common_Yellowthroat\",\"072.Pomarine_Jaeger\",\"117.Clay_colored_Sparrow\",\"162.Canada_Warbler\",\"176.Prairie_Warbler\",\"150.Sage_Thrasher\",\"185.Bohemian_Waxwing\",\"055.Evening_Grosbeak\",\"140.Summer_Tanager\",\"054.Blue_Grosbeak\",\"170.Mourning_Warbler\",\"125.Lincoln_Sparrow\",\"057.Rose_breasted_Grosbeak\",\"042.Vermilion_Flycatcher\",\"039.Least_Flycatcher\",\"141.Artic_Tern\",\"040.Olive_sided_Flycatcher\",\"171.Myrtle_Warbler\",\"178.Swainson_Warbler\",\"141.Artic_Tern\",\"193.Bewick_Wren\",\"007.Parakeet_Auklet\",\"198.Rock_Wren\",\"047.American_Goldfinch\",\"195.Carolina_Wren\",\"119.Field_Sparrow\",\"095.Baltimore_Oriole\",\"146.Forsters_Tern\",\"035.Purple_Finch\",\"110.Geococcyx\",\"103.Sayornis\",\"147.Least_Tern\",\"199.Winter_Wren\",\"002.Laysan_Albatross\",\"036.Northern_Flicker\",\"042.Vermilion_Flycatcher\",\"031.Black_billed_Cuckoo\",\"067.Anna_Hummingbird\",\"122.Harris_Sparrow\",\"108.White_necked_Raven\",\"032.Mangrove_Cuckoo\",\"161.Blue_winged_Warbler\",\"041.Scissor_tailed_Flycatcher\",\"031.Black_billed_Cuckoo\",\"042.Vermilion_Flycatcher\",\"089.Hooded_Merganser\",\"128.Seaside_Sparrow\",\"147.Least_Tern\",\"100.Brown_Pelican\",\"129.Song_Sparrow\",\"177.Prothonotary_Warbler\",\"126.Nelson_Sharp_tailed_Sparrow\",\"195.Carolina_Wren\",\"120.Fox_Sparrow\",\"063.Ivory_Gull\",\"163.Cape_May_Warbler\",\"134.Cape_Glossy_Starling\",\"134.Cape_Glossy_Starling\",\"094.White_breasted_Nuthatch\",\"082.Ringed_Kingfisher\",\"017.Cardinal\",\"168.Kentucky_Warbler\",\"136.Barn_Swallow\",\"043.Yellow_bellied_Flycatcher\",\"103.Sayornis\",\"032.Mangrove_Cuckoo\",\"151.Black_capped_Vireo\",\"169.Magnolia_Warbler\",\"050.Eared_Grebe\",\"077.Tropical_Kingbird\",\"039.Least_Flycatcher\",\"053.Western_Grebe\",\"106.Horned_Puffin\",\"035.Purple_Finch\",\"033.Yellow_billed_Cuckoo\",\"105.Whip_poor_Will\",\"189.Red_bellied_Woodpecker\",\"158.Bay_breasted_Warbler\",\"068.Ruby_throated_Hummingbird\",\"154.Red_eyed_Vireo\",\"140.Summer_Tanager\",\"167.Hooded_Warbler\",\"046.Gadwall\",\"161.Blue_winged_Warbler\",\"132.White_crowned_Sparrow\",\"099.Ovenbird\",\"111.Loggerhead_Shrike\",\"028.Brown_Creeper\",\"149.Brown_Thrasher\",\"039.Least_Flycatcher\",\"037.Acadian_Flycatcher\",\"189.Red_bellied_Woodpecker\",\"062.Herring_Gull\",\"116.Chipping_Sparrow\",\"171.Myrtle_Warbler\",\"048.European_Goldfinch\",\"014.Indigo_Bunting\",\"072.Pomarine_Jaeger\",\"026.Bronzed_Cowbird\",\"148.Green_tailed_Towhee\",\"033.Yellow_billed_Cuckoo\",\"056.Pine_Grosbeak\",\"083.White_breasted_Kingfisher\",\"103.Sayornis\",\"047.American_Goldfinch\",\"060.Glaucous_winged_Gull\",\"188.Pileated_Woodpecker\",\"023.Brandt_Cormorant\",\"184.Louisiana_Waterthrush\",\"046.Gadwall\",\"054.Blue_Grosbeak\",\"022.Chuck_will_Widow\",\"132.White_crowned_Sparrow\",\"186.Cedar_Waxwing\",\"117.Clay_colored_Sparrow\",\"104.American_Pipit\",\"189.Red_bellied_Woodpecker\",\"113.Baird_Sparrow\",\"139.Scarlet_Tanager\",\"172.Nashville_Warbler\",\"028.Brown_Creeper\",\"184.Louisiana_Waterthrush\",\"046.Gadwall\",\"194.Cactus_Wren\",\"165.Chestnut_sided_Warbler\",\"144.Common_Tern\",\"194.Cactus_Wren\",\"071.Long_tailed_Jaeger\",\"021.Eastern_Towhee\",\"185.Bohemian_Waxwing\",\"134.Cape_Glossy_Starling\",\"062.Herring_Gull\",\"145.Elegant_Tern\",\"008.Rhinoceros_Auklet\",\"039.Least_Flycatcher\",\"147.Least_Tern\",\"130.Tree_Sparrow\",\"184.Louisiana_Waterthrush\",\"108.White_necked_Raven\",\"177.Prothonotary_Warbler\",\"166.Golden_winged_Warbler\",\"053.Western_Grebe\",\"034.Gray_crowned_Rosy_Finch\",\"124.Le_Conte_Sparrow\",\"113.Baird_Sparrow\",\"073.Blue_Jay\",\"054.Blue_Grosbeak\",\"194.Cactus_Wren\",\"070.Green_Violetear\",\"179.Tennessee_Warbler\",\"168.Kentucky_Warbler\",\"082.Ringed_Kingfisher\",\"018.Spotted_Catbird\",\"004.Groove_billed_Ani\",\"124.Le_Conte_Sparrow\",\"176.Prairie_Warbler\",\"131.Vesper_Sparrow\",\"057.Rose_breasted_Grosbeak\",\"137.Cliff_Swallow\",\"067.Anna_Hummingbird\",\"039.Least_Flycatcher\",\"110.Geococcyx\",\"190.Red_cockaded_Woodpecker\",\"114.Black_throated_Sparrow\",\"025.Pelagic_Cormorant\",\"067.Anna_Hummingbird\",\"002.Laysan_Albatross\",\"114.Black_throated_Sparrow\",\"071.Long_tailed_Jaeger\",\"001.Black_footed_Albatross\",\"197.Marsh_Wren\",\"062.Herring_Gull\",\"067.Anna_Hummingbird\",\"199.Winter_Wren\",\"059.California_Gull\",\"064.Ring_billed_Gull\",\"016.Painted_Bunting\",\"093.Clark_Nutcracker\",\"133.White_throated_Sparrow\",\"122.Harris_Sparrow\",\"036.Northern_Flicker\",\"115.Brewer_Sparrow\",\"129.Song_Sparrow\",\"158.Bay_breasted_Warbler\",\"149.Brown_Thrasher\",\"092.Nighthawk\",\"153.Philadelphia_Vireo\",\"110.Geococcyx\",\"049.Boat_tailed_Grackle\",\"035.Purple_Finch\",\"066.Western_Gull\",\"082.Ringed_Kingfisher\",\"138.Tree_Swallow\",\"183.Northern_Waterthrush\",\"177.Prothonotary_Warbler\",\"179.Tennessee_Warbler\",\"035.Purple_Finch\",\"127.Savannah_Sparrow\",\"104.American_Pipit\",\"138.Tree_Swallow\",\"011.Rusty_Blackbird\",\"186.Cedar_Waxwing\",\"172.Nashville_Warbler\",\"120.Fox_Sparrow\",\"070.Green_Violetear\",\"079.Belted_Kingfisher\",\"196.House_Wren\",\"121.Grasshopper_Sparrow\",\"076.Dark_eyed_Junco\",\"160.Black_throated_Blue_Warbler\",\"052.Pied_billed_Grebe\",\"080.Green_Kingfisher\",\"138.Tree_Swallow\",\"073.Blue_Jay\",\"116.Chipping_Sparrow\",\"184.Louisiana_Waterthrush\",\"175.Pine_Warbler\",\"064.Ring_billed_Gull\",\"085.Horned_Lark\",\"166.Golden_winged_Warbler\",\"143.Caspian_Tern\",\"189.Red_bellied_Woodpecker\",\"038.Great_Crested_Flycatcher\",\"045.Northern_Fulmar\",\"121.Grasshopper_Sparrow\",\"010.Red_winged_Blackbird\",\"055.Evening_Grosbeak\",\"142.Black_Tern\",\"104.American_Pipit\",\"034.Gray_crowned_Rosy_Finch\",\"054.Blue_Grosbeak\",\"141.Artic_Tern\",\"061.Heermann_Gull\",\"048.European_Goldfinch\",\"074.Florida_Jay\",\"177.Prothonotary_Warbler\",\"116.Chipping_Sparrow\",\"012.Yellow_headed_Blackbird\",\"092.Nighthawk\",\"081.Pied_Kingfisher\",\"008.Rhinoceros_Auklet\",\"121.Grasshopper_Sparrow\",\"183.Northern_Waterthrush\",\"173.Orange_crowned_Warbler\",\"158.Bay_breasted_Warbler\",\"160.Black_throated_Blue_Warbler\",\"195.Carolina_Wren\",\"016.Painted_Bunting\",\"017.Cardinal\",\"145.Elegant_Tern\",\"119.Field_Sparrow\",\"115.Brewer_Sparrow\",\"184.Louisiana_Waterthrush\",\"173.Orange_crowned_Warbler\",\"070.Green_Violetear\",\"190.Red_cockaded_Woodpecker\",\"141.Artic_Tern\",\"021.Eastern_Towhee\",\"005.Crested_Auklet\",\"154.Red_eyed_Vireo\",\"066.Western_Gull\",\"192.Downy_Woodpecker\",\"079.Belted_Kingfisher\",\"075.Green_Jay\",\"106.Horned_Puffin\",\"136.Barn_Swallow\",\"034.Gray_crowned_Rosy_Finch\",\"165.Chestnut_sided_Warbler\",\"195.Carolina_Wren\",\"072.Pomarine_Jaeger\",\"031.Black_billed_Cuckoo\",\"090.Red_breasted_Merganser\",\"086.Pacific_Loon\",\"034.Gray_crowned_Rosy_Finch\",\"137.Cliff_Swallow\",\"056.Pine_Grosbeak\",\"066.Western_Gull\",\"175.Pine_Warbler\",\"055.Evening_Grosbeak\",\"166.Golden_winged_Warbler\",\"040.Olive_sided_Flycatcher\",\"178.Swainson_Warbler\",\"200.Common_Yellowthroat\",\"009.Brewer_Blackbird\",\"199.Winter_Wren\",\"047.American_Goldfinch\",\"025.Pelagic_Cormorant\",\"166.Golden_winged_Warbler\",\"158.Bay_breasted_Warbler\",\"043.Yellow_bellied_Flycatcher\",\"086.Pacific_Loon\",\"105.Whip_poor_Will\",\"180.Wilson_Warbler\",\"121.Grasshopper_Sparrow\",\"192.Downy_Woodpecker\",\"169.Magnolia_Warbler\",\"086.Pacific_Loon\",\"074.Florida_Jay\",\"129.Song_Sparrow\",\"164.Cerulean_Warbler\",\"027.Shiny_Cowbird\",\"018.Spotted_Catbird\",\"141.Artic_Tern\",\"027.Shiny_Cowbird\",\"173.Orange_crowned_Warbler\",\"124.Le_Conte_Sparrow\",\"048.European_Goldfinch\",\"039.Least_Flycatcher\",\"056.Pine_Grosbeak\",\"063.Ivory_Gull\",\"125.Lincoln_Sparrow\",\"098.Scott_Oriole\",\"111.Loggerhead_Shrike\",\"133.White_throated_Sparrow\",\"117.Clay_colored_Sparrow\",\"114.Black_throated_Sparrow\",\"180.Wilson_Warbler\",\"064.Ring_billed_Gull\",\"086.Pacific_Loon\",\"047.American_Goldfinch\",\"021.Eastern_Towhee\",\"110.Geococcyx\",\"147.Least_Tern\",\"107.Common_Raven\",\"111.Loggerhead_Shrike\",\"082.Ringed_Kingfisher\",\"198.Rock_Wren\",\"050.Eared_Grebe\",\"148.Green_tailed_Towhee\",\"156.White_eyed_Vireo\",\"078.Gray_Kingbird\",\"109.American_Redstart\",\"195.Carolina_Wren\",\"180.Wilson_Warbler\",\"055.Evening_Grosbeak\",\"111.Loggerhead_Shrike\",\"180.Wilson_Warbler\",\"037.Acadian_Flycatcher\",\"045.Northern_Fulmar\",\"082.Ringed_Kingfisher\",\"133.White_throated_Sparrow\",\"019.Gray_Catbird\",\"064.Ring_billed_Gull\",\"087.Mallard\",\"088.Western_Meadowlark\",\"191.Red_headed_Woodpecker\",\"046.Gadwall\",\"153.Philadelphia_Vireo\",\"168.Kentucky_Warbler\",\"066.Western_Gull\",\"004.Groove_billed_Ani\",\"153.Philadelphia_Vireo\",\"134.Cape_Glossy_Starling\",\"152.Blue_headed_Vireo\",\"092.Nighthawk\",\"084.Red_legged_Kittiwake\",\"057.Rose_breasted_Grosbeak\",\"071.Long_tailed_Jaeger\",\"077.Tropical_Kingbird\",\"190.Red_cockaded_Woodpecker\",\"156.White_eyed_Vireo\",\"118.House_Sparrow\",\"128.Seaside_Sparrow\",\"088.Western_Meadowlark\",\"028.Brown_Creeper\",\"063.Ivory_Gull\",\"181.Worm_eating_Warbler\",\"165.Chestnut_sided_Warbler\",\"001.Black_footed_Albatross\",\"121.Grasshopper_Sparrow\",\"102.Western_Wood_Pewee\",\"061.Heermann_Gull\",\"063.Ivory_Gull\",\"121.Grasshopper_Sparrow\",\"148.Green_tailed_Towhee\",\"127.Savannah_Sparrow\",\"165.Chestnut_sided_Warbler\",\"196.House_Wren\",\"157.Yellow_throated_Vireo\",\"037.Acadian_Flycatcher\",\"136.Barn_Swallow\",\"012.Yellow_headed_Blackbird\",\"003.Sooty_Albatross\",\"057.Rose_breasted_Grosbeak\",\"062.Herring_Gull\",\"155.Warbling_Vireo\",\"165.Chestnut_sided_Warbler\",\"102.Western_Wood_Pewee\",\"001.Black_footed_Albatross\",\"068.Ruby_throated_Hummingbird\",\"108.White_necked_Raven\",\"123.Henslow_Sparrow\",\"075.Green_Jay\",\"162.Canada_Warbler\",\"180.Wilson_Warbler\",\"162.Canada_Warbler\",\"172.Nashville_Warbler\",\"194.Cactus_Wren\",\"177.Prothonotary_Warbler\",\"081.Pied_Kingfisher\",\"070.Green_Violetear\",\"098.Scott_Oriole\",\"073.Blue_Jay\",\"143.Caspian_Tern\",\"043.Yellow_bellied_Flycatcher\",\"176.Prairie_Warbler\",\"139.Scarlet_Tanager\",\"133.White_throated_Sparrow\",\"104.American_Pipit\",\"137.Cliff_Swallow\",\"083.White_breasted_Kingfisher\",\"159.Black_and_white_Warbler\",\"020.Yellow_breasted_Chat\",\"026.Bronzed_Cowbird\",\"062.Herring_Gull\",\"080.Green_Kingfisher\",\"012.Yellow_headed_Blackbird\",\"075.Green_Jay\",\"178.Swainson_Warbler\",\"109.American_Redstart\",\"118.House_Sparrow\",\"066.Western_Gull\",\"027.Shiny_Cowbird\",\"002.Laysan_Albatross\",\"020.Yellow_breasted_Chat\",\"198.Rock_Wren\",\"094.White_breasted_Nuthatch\",\"094.White_breasted_Nuthatch\",\"138.Tree_Swallow\",\"117.Clay_colored_Sparrow\",\"135.Bank_Swallow\",\"101.White_Pelican\",\"192.Downy_Woodpecker\",\"198.Rock_Wren\",\"013.Bobolink\",\"182.Yellow_Warbler\",\"007.Parakeet_Auklet\",\"157.Yellow_throated_Vireo\",\"134.Cape_Glossy_Starling\",\"163.Cape_May_Warbler\",\"057.Rose_breasted_Grosbeak\",\"100.Brown_Pelican\",\"113.Baird_Sparrow\",\"132.White_crowned_Sparrow\",\"018.Spotted_Catbird\",\"101.White_Pelican\",\"172.Nashville_Warbler\",\"135.Bank_Swallow\",\"129.Song_Sparrow\",\"051.Horned_Grebe\",\"053.Western_Grebe\",\"102.Western_Wood_Pewee\",\"020.Yellow_breasted_Chat\",\"019.Gray_Catbird\",\"055.Evening_Grosbeak\",\"037.Acadian_Flycatcher\",\"017.Cardinal\",\"076.Dark_eyed_Junco\",\"118.House_Sparrow\",\"119.Field_Sparrow\",\"005.Crested_Auklet\",\"096.Hooded_Oriole\",\"143.Caspian_Tern\",\"026.Bronzed_Cowbird\",\"165.Chestnut_sided_Warbler\",\"188.Pileated_Woodpecker\",\"011.Rusty_Blackbird\",\"089.Hooded_Merganser\",\"084.Red_legged_Kittiwake\",\"057.Rose_breasted_Grosbeak\",\"063.Ivory_Gull\",\"024.Red_faced_Cormorant\",\"132.White_crowned_Sparrow\",\"072.Pomarine_Jaeger\",\"115.Brewer_Sparrow\",\"069.Rufous_Hummingbird\",\"044.Frigatebird\",\"039.Least_Flycatcher\",\"085.Horned_Lark\",\"035.Purple_Finch\",\"035.Purple_Finch\",\"034.Gray_crowned_Rosy_Finch\",\"152.Blue_headed_Vireo\",\"036.Northern_Flicker\",\"129.Song_Sparrow\",\"012.Yellow_headed_Blackbird\",\"085.Horned_Lark\",\"056.Pine_Grosbeak\",\"181.Worm_eating_Warbler\",\"095.Baltimore_Oriole\",\"030.Fish_Crow\",\"116.Chipping_Sparrow\",\"189.Red_bellied_Woodpecker\",\"138.Tree_Swallow\",\"135.Bank_Swallow\",\"029.American_Crow\",\"108.White_necked_Raven\",\"077.Tropical_Kingbird\",\"145.Elegant_Tern\",\"037.Acadian_Flycatcher\",\"039.Least_Flycatcher\",\"051.Horned_Grebe\",\"126.Nelson_Sharp_tailed_Sparrow\",\"036.Northern_Flicker\",\"010.Red_winged_Blackbird\",\"005.Crested_Auklet\",\"089.Hooded_Merganser\",\"138.Tree_Swallow\",\"156.White_eyed_Vireo\",\"115.Brewer_Sparrow\",\"013.Bobolink\",\"045.Northern_Fulmar\",\"023.Brandt_Cormorant\",\"155.Warbling_Vireo\",\"194.Cactus_Wren\",\"152.Blue_headed_Vireo\",\"007.Parakeet_Auklet\",\"057.Rose_breasted_Grosbeak\",\"103.Sayornis\",\"015.Lazuli_Bunting\",\"082.Ringed_Kingfisher\",\"061.Heermann_Gull\",\"140.Summer_Tanager\",\"195.Carolina_Wren\",\"199.Winter_Wren\",\"046.Gadwall\",\"059.California_Gull\",\"100.Brown_Pelican\",\"158.Bay_breasted_Warbler\",\"028.Brown_Creeper\",\"193.Bewick_Wren\",\"077.Tropical_Kingbird\",\"164.Cerulean_Warbler\",\"178.Swainson_Warbler\",\"142.Black_Tern\",\"024.Red_faced_Cormorant\",\"102.Western_Wood_Pewee\",\"107.Common_Raven\",\"037.Acadian_Flycatcher\",\"097.Orchard_Oriole\",\"044.Frigatebird\",\"106.Horned_Puffin\",\"167.Hooded_Warbler\",\"167.Hooded_Warbler\",\"160.Black_throated_Blue_Warbler\",\"157.Yellow_throated_Vireo\",\"163.Cape_May_Warbler\",\"010.Red_winged_Blackbird\",\"082.Ringed_Kingfisher\",\"159.Black_and_white_Warbler\",\"003.Sooty_Albatross\",\"101.White_Pelican\",\"166.Golden_winged_Warbler\",\"172.Nashville_Warbler\",\"134.Cape_Glossy_Starling\",\"117.Clay_colored_Sparrow\",\"192.Downy_Woodpecker\",\"135.Bank_Swallow\",\"171.Myrtle_Warbler\",\"063.Ivory_Gull\",\"196.House_Wren\",\"169.Magnolia_Warbler\",\"155.Warbling_Vireo\",\"017.Cardinal\",\"149.Brown_Thrasher\",\"165.Chestnut_sided_Warbler\",\"061.Heermann_Gull\",\"145.Elegant_Tern\",\"077.Tropical_Kingbird\",\"084.Red_legged_Kittiwake\",\"159.Black_and_white_Warbler\",\"116.Chipping_Sparrow\",\"147.Least_Tern\",\"083.White_breasted_Kingfisher\",\"109.American_Redstart\",\"159.Black_and_white_Warbler\",\"120.Fox_Sparrow\",\"160.Black_throated_Blue_Warbler\",\"021.Eastern_Towhee\",\"073.Blue_Jay\",\"190.Red_cockaded_Woodpecker\",\"158.Bay_breasted_Warbler\",\"028.Brown_Creeper\",\"143.Caspian_Tern\",\"086.Pacific_Loon\",\"072.Pomarine_Jaeger\",\"102.Western_Wood_Pewee\",\"078.Gray_Kingbird\",\"148.Green_tailed_Towhee\",\"131.Vesper_Sparrow\",\"064.Ring_billed_Gull\",\"173.Orange_crowned_Warbler\",\"168.Kentucky_Warbler\",\"148.Green_tailed_Towhee\",\"159.Black_and_white_Warbler\",\"080.Green_Kingfisher\",\"104.American_Pipit\",\"054.Blue_Grosbeak\",\"054.Blue_Grosbeak\",\"153.Philadelphia_Vireo\",\"134.Cape_Glossy_Starling\",\"049.Boat_tailed_Grackle\",\"100.Brown_Pelican\",\"186.Cedar_Waxwing\",\"082.Ringed_Kingfisher\",\"049.Boat_tailed_Grackle\",\"084.Red_legged_Kittiwake\",\"022.Chuck_will_Widow\",\"029.American_Crow\",\"096.Hooded_Oriole\",\"180.Wilson_Warbler\",\"042.Vermilion_Flycatcher\",\"169.Magnolia_Warbler\",\"172.Nashville_Warbler\",\"038.Great_Crested_Flycatcher\",\"088.Western_Meadowlark\",\"195.Carolina_Wren\",\"026.Bronzed_Cowbird\",\"003.Sooty_Albatross\",\"122.Harris_Sparrow\",\"150.Sage_Thrasher\",\"099.Ovenbird\",\"048.European_Goldfinch\",\"041.Scissor_tailed_Flycatcher\",\"060.Glaucous_winged_Gull\",\"134.Cape_Glossy_Starling\",\"105.Whip_poor_Will\",\"027.Shiny_Cowbird\",\"033.Yellow_billed_Cuckoo\",\"196.House_Wren\",\"147.Least_Tern\",\"136.Barn_Swallow\",\"156.White_eyed_Vireo\",\"133.White_throated_Sparrow\",\"116.Chipping_Sparrow\",\"075.Green_Jay\",\"145.Elegant_Tern\",\"033.Yellow_billed_Cuckoo\",\"146.Forsters_Tern\",\"164.Cerulean_Warbler\",\"115.Brewer_Sparrow\",\"136.Barn_Swallow\",\"142.Black_Tern\",\"048.European_Goldfinch\",\"152.Blue_headed_Vireo\",\"061.Heermann_Gull\",\"011.Rusty_Blackbird\",\"003.Sooty_Albatross\",\"035.Purple_Finch\",\"031.Black_billed_Cuckoo\",\"041.Scissor_tailed_Flycatcher\",\"150.Sage_Thrasher\",\"084.Red_legged_Kittiwake\",\"058.Pigeon_Guillemot\",\"078.Gray_Kingbird\",\"014.Indigo_Bunting\",\"120.Fox_Sparrow\",\"184.Louisiana_Waterthrush\",\"104.American_Pipit\",\"150.Sage_Thrasher\",\"041.Scissor_tailed_Flycatcher\",\"062.Herring_Gull\",\"045.Northern_Fulmar\",\"148.Green_tailed_Towhee\",\"104.American_Pipit\",\"071.Long_tailed_Jaeger\",\"002.Laysan_Albatross\",\"191.Red_headed_Woodpecker\",\"166.Golden_winged_Warbler\",\"160.Black_throated_Blue_Warbler\",\"035.Purple_Finch\",\"117.Clay_colored_Sparrow\",\"066.Western_Gull\",\"133.White_throated_Sparrow\",\"084.Red_legged_Kittiwake\",\"132.White_crowned_Sparrow\",\"046.Gadwall\",\"130.Tree_Sparrow\",\"132.White_crowned_Sparrow\",\"096.Hooded_Oriole\",\"048.European_Goldfinch\",\"083.White_breasted_Kingfisher\",\"096.Hooded_Oriole\",\"045.Northern_Fulmar\",\"174.Palm_Warbler\",\"130.Tree_Sparrow\",\"081.Pied_Kingfisher\",\"040.Olive_sided_Flycatcher\",\"148.Green_tailed_Towhee\",\"161.Blue_winged_Warbler\",\"199.Winter_Wren\",\"165.Chestnut_sided_Warbler\",\"103.Sayornis\",\"035.Purple_Finch\",\"130.Tree_Sparrow\",\"125.Lincoln_Sparrow\",\"049.Boat_tailed_Grackle\",\"033.Yellow_billed_Cuckoo\",\"130.Tree_Sparrow\",\"097.Orchard_Oriole\",\"181.Worm_eating_Warbler\",\"197.Marsh_Wren\",\"079.Belted_Kingfisher\",\"106.Horned_Puffin\",\"118.House_Sparrow\",\"002.Laysan_Albatross\",\"111.Loggerhead_Shrike\",\"042.Vermilion_Flycatcher\",\"082.Ringed_Kingfisher\",\"096.Hooded_Oriole\",\"185.Bohemian_Waxwing\",\"152.Blue_headed_Vireo\",\"120.Fox_Sparrow\",\"158.Bay_breasted_Warbler\",\"087.Mallard\",\"105.Whip_poor_Will\",\"082.Ringed_Kingfisher\",\"049.Boat_tailed_Grackle\",\"032.Mangrove_Cuckoo\",\"172.Nashville_Warbler\",\"086.Pacific_Loon\",\"011.Rusty_Blackbird\",\"001.Black_footed_Albatross\",\"141.Artic_Tern\",\"196.House_Wren\",\"089.Hooded_Merganser\",\"119.Field_Sparrow\",\"019.Gray_Catbird\",\"046.Gadwall\",\"200.Common_Yellowthroat\",\"156.White_eyed_Vireo\",\"153.Philadelphia_Vireo\",\"170.Mourning_Warbler\",\"145.Elegant_Tern\",\"026.Bronzed_Cowbird\",\"056.Pine_Grosbeak\",\"059.California_Gull\",\"108.White_necked_Raven\",\"167.Hooded_Warbler\",\"161.Blue_winged_Warbler\",\"063.Ivory_Gull\",\"192.Downy_Woodpecker\",\"153.Philadelphia_Vireo\",\"195.Carolina_Wren\",\"182.Yellow_Warbler\",\"175.Pine_Warbler\",\"167.Hooded_Warbler\",\"022.Chuck_will_Widow\",\"162.Canada_Warbler\",\"085.Horned_Lark\",\"081.Pied_Kingfisher\",\"182.Yellow_Warbler\",\"002.Laysan_Albatross\",\"106.Horned_Puffin\",\"021.Eastern_Towhee\",\"137.Cliff_Swallow\",\"023.Brandt_Cormorant\",\"034.Gray_crowned_Rosy_Finch\",\"132.White_crowned_Sparrow\",\"118.House_Sparrow\",\"032.Mangrove_Cuckoo\",\"194.Cactus_Wren\",\"130.Tree_Sparrow\",\"103.Sayornis\",\"041.Scissor_tailed_Flycatcher\",\"055.Evening_Grosbeak\",\"163.Cape_May_Warbler\",\"046.Gadwall\",\"190.Red_cockaded_Woodpecker\",\"156.White_eyed_Vireo\",\"070.Green_Violetear\",\"074.Florida_Jay\",\"157.Yellow_throated_Vireo\",\"061.Heermann_Gull\",\"075.Green_Jay\",\"009.Brewer_Blackbird\",\"062.Herring_Gull\",\"147.Least_Tern\",\"195.Carolina_Wren\",\"056.Pine_Grosbeak\",\"175.Pine_Warbler\",\"120.Fox_Sparrow\",\"032.Mangrove_Cuckoo\",\"051.Horned_Grebe\",\"064.Ring_billed_Gull\",\"011.Rusty_Blackbird\",\"104.American_Pipit\",\"110.Geococcyx\",\"181.Worm_eating_Warbler\",\"162.Canada_Warbler\",\"117.Clay_colored_Sparrow\",\"146.Forsters_Tern\",\"142.Black_Tern\",\"115.Brewer_Sparrow\",\"080.Green_Kingfisher\",\"194.Cactus_Wren\",\"036.Northern_Flicker\",\"182.Yellow_Warbler\",\"124.Le_Conte_Sparrow\",\"026.Bronzed_Cowbird\",\"001.Black_footed_Albatross\",\"178.Swainson_Warbler\",\"154.Red_eyed_Vireo\",\"074.Florida_Jay\",\"016.Painted_Bunting\",\"038.Great_Crested_Flycatcher\",\"073.Blue_Jay\",\"097.Orchard_Oriole\",\"086.Pacific_Loon\",\"030.Fish_Crow\",\"184.Louisiana_Waterthrush\",\"047.American_Goldfinch\",\"188.Pileated_Woodpecker\",\"063.Ivory_Gull\",\"077.Tropical_Kingbird\",\"061.Heermann_Gull\",\"011.Rusty_Blackbird\",\"114.Black_throated_Sparrow\",\"025.Pelagic_Cormorant\",\"135.Bank_Swallow\",\"063.Ivory_Gull\",\"044.Frigatebird\",\"020.Yellow_breasted_Chat\",\"069.Rufous_Hummingbird\",\"007.Parakeet_Auklet\",\"162.Canada_Warbler\",\"198.Rock_Wren\",\"148.Green_tailed_Towhee\",\"159.Black_and_white_Warbler\",\"137.Cliff_Swallow\",\"094.White_breasted_Nuthatch\",\"065.Slaty_backed_Gull\",\"196.House_Wren\",\"082.Ringed_Kingfisher\",\"154.Red_eyed_Vireo\",\"112.Great_Grey_Shrike\",\"094.White_breasted_Nuthatch\",\"024.Red_faced_Cormorant\",\"157.Yellow_throated_Vireo\",\"156.White_eyed_Vireo\",\"184.Louisiana_Waterthrush\",\"074.Florida_Jay\",\"115.Brewer_Sparrow\",\"093.Clark_Nutcracker\",\"086.Pacific_Loon\",\"164.Cerulean_Warbler\",\"018.Spotted_Catbird\",\"081.Pied_Kingfisher\",\"174.Palm_Warbler\",\"054.Blue_Grosbeak\",\"061.Heermann_Gull\",\"041.Scissor_tailed_Flycatcher\",\"186.Cedar_Waxwing\",\"045.Northern_Fulmar\",\"165.Chestnut_sided_Warbler\",\"076.Dark_eyed_Junco\",\"048.European_Goldfinch\",\"182.Yellow_Warbler\",\"183.Northern_Waterthrush\",\"066.Western_Gull\",\"057.Rose_breasted_Grosbeak\",\"024.Red_faced_Cormorant\",\"165.Chestnut_sided_Warbler\",\"159.Black_and_white_Warbler\",\"037.Acadian_Flycatcher\",\"193.Bewick_Wren\",\"155.Warbling_Vireo\",\"162.Canada_Warbler\",\"092.Nighthawk\",\"083.White_breasted_Kingfisher\",\"041.Scissor_tailed_Flycatcher\",\"158.Bay_breasted_Warbler\",\"152.Blue_headed_Vireo\",\"108.White_necked_Raven\",\"073.Blue_Jay\",\"039.Least_Flycatcher\",\"102.Western_Wood_Pewee\",\"031.Black_billed_Cuckoo\",\"073.Blue_Jay\",\"113.Baird_Sparrow\",\"155.Warbling_Vireo\",\"039.Least_Flycatcher\",\"127.Savannah_Sparrow\",\"058.Pigeon_Guillemot\",\"135.Bank_Swallow\",\"141.Artic_Tern\",\"128.Seaside_Sparrow\",\"186.Cedar_Waxwing\",\"067.Anna_Hummingbird\",\"175.Pine_Warbler\",\"146.Forsters_Tern\",\"075.Green_Jay\",\"158.Bay_breasted_Warbler\",\"005.Crested_Auklet\",\"094.White_breasted_Nuthatch\",\"159.Black_and_white_Warbler\",\"013.Bobolink\",\"138.Tree_Swallow\",\"166.Golden_winged_Warbler\",\"009.Brewer_Blackbird\",\"169.Magnolia_Warbler\",\"030.Fish_Crow\",\"047.American_Goldfinch\",\"090.Red_breasted_Merganser\",\"049.Boat_tailed_Grackle\",\"167.Hooded_Warbler\",\"132.White_crowned_Sparrow\",\"125.Lincoln_Sparrow\",\"014.Indigo_Bunting\",\"047.American_Goldfinch\",\"188.Pileated_Woodpecker\",\"115.Brewer_Sparrow\",\"062.Herring_Gull\",\"040.Olive_sided_Flycatcher\",\"080.Green_Kingfisher\",\"187.American_Three_toed_Woodpecker\",\"019.Gray_Catbird\",\"200.Common_Yellowthroat\",\"196.House_Wren\",\"045.Northern_Fulmar\",\"045.Northern_Fulmar\",\"044.Frigatebird\",\"053.Western_Grebe\",\"088.Western_Meadowlark\",\"093.Clark_Nutcracker\",\"157.Yellow_throated_Vireo\",\"009.Brewer_Blackbird\",\"107.Common_Raven\",\"182.Yellow_Warbler\",\"171.Myrtle_Warbler\",\"007.Parakeet_Auklet\",\"042.Vermilion_Flycatcher\",\"052.Pied_billed_Grebe\",\"076.Dark_eyed_Junco\",\"045.Northern_Fulmar\",\"082.Ringed_Kingfisher\",\"176.Prairie_Warbler\",\"109.American_Redstart\",\"145.Elegant_Tern\",\"010.Red_winged_Blackbird\",\"123.Henslow_Sparrow\",\"167.Hooded_Warbler\",\"155.Warbling_Vireo\",\"182.Yellow_Warbler\",\"089.Hooded_Merganser\",\"171.Myrtle_Warbler\",\"137.Cliff_Swallow\",\"069.Rufous_Hummingbird\",\"169.Magnolia_Warbler\",\"116.Chipping_Sparrow\",\"073.Blue_Jay\",\"119.Field_Sparrow\",\"098.Scott_Oriole\",\"163.Cape_May_Warbler\",\"161.Blue_winged_Warbler\",\"165.Chestnut_sided_Warbler\",\"122.Harris_Sparrow\",\"148.Green_tailed_Towhee\",\"041.Scissor_tailed_Flycatcher\",\"162.Canada_Warbler\",\"117.Clay_colored_Sparrow\",\"144.Common_Tern\",\"113.Baird_Sparrow\",\"100.Brown_Pelican\",\"058.Pigeon_Guillemot\",\"154.Red_eyed_Vireo\",\"110.Geococcyx\",\"165.Chestnut_sided_Warbler\",\"067.Anna_Hummingbird\",\"145.Elegant_Tern\",\"143.Caspian_Tern\",\"020.Yellow_breasted_Chat\",\"070.Green_Violetear\",\"094.White_breasted_Nuthatch\",\"154.Red_eyed_Vireo\",\"027.Shiny_Cowbird\",\"034.Gray_crowned_Rosy_Finch\",\"062.Herring_Gull\",\"105.Whip_poor_Will\",\"021.Eastern_Towhee\",\"155.Warbling_Vireo\",\"191.Red_headed_Woodpecker\",\"129.Song_Sparrow\",\"149.Brown_Thrasher\",\"089.Hooded_Merganser\",\"074.Florida_Jay\",\"089.Hooded_Merganser\",\"166.Golden_winged_Warbler\",\"054.Blue_Grosbeak\",\"091.Mockingbird\",\"148.Green_tailed_Towhee\",\"016.Painted_Bunting\",\"115.Brewer_Sparrow\",\"078.Gray_Kingbird\",\"120.Fox_Sparrow\",\"059.California_Gull\",\"032.Mangrove_Cuckoo\",\"016.Painted_Bunting\",\"038.Great_Crested_Flycatcher\",\"091.Mockingbird\",\"021.Eastern_Towhee\",\"152.Blue_headed_Vireo\",\"103.Sayornis\",\"192.Downy_Woodpecker\",\"182.Yellow_Warbler\",\"063.Ivory_Gull\",\"087.Mallard\",\"142.Black_Tern\",\"011.Rusty_Blackbird\",\"107.Common_Raven\",\"062.Herring_Gull\",\"157.Yellow_throated_Vireo\",\"091.Mockingbird\",\"156.White_eyed_Vireo\",\"117.Clay_colored_Sparrow\",\"136.Barn_Swallow\",\"081.Pied_Kingfisher\",\"171.Myrtle_Warbler\",\"028.Brown_Creeper\",\"045.Northern_Fulmar\",\"053.Western_Grebe\",\"002.Laysan_Albatross\",\"081.Pied_Kingfisher\",\"047.American_Goldfinch\",\"058.Pigeon_Guillemot\",\"084.Red_legged_Kittiwake\",\"191.Red_headed_Woodpecker\",\"138.Tree_Swallow\",\"131.Vesper_Sparrow\",\"085.Horned_Lark\",\"034.Gray_crowned_Rosy_Finch\",\"080.Green_Kingfisher\",\"078.Gray_Kingbird\",\"018.Spotted_Catbird\",\"160.Black_throated_Blue_Warbler\",\"041.Scissor_tailed_Flycatcher\",\"130.Tree_Sparrow\",\"008.Rhinoceros_Auklet\",\"098.Scott_Oriole\",\"030.Fish_Crow\",\"051.Horned_Grebe\",\"086.Pacific_Loon\",\"043.Yellow_bellied_Flycatcher\",\"054.Blue_Grosbeak\",\"092.Nighthawk\",\"042.Vermilion_Flycatcher\",\"122.Harris_Sparrow\",\"196.House_Wren\",\"179.Tennessee_Warbler\",\"106.Horned_Puffin\",\"193.Bewick_Wren\",\"114.Black_throated_Sparrow\",\"155.Warbling_Vireo\",\"026.Bronzed_Cowbird\",\"166.Golden_winged_Warbler\",\"096.Hooded_Oriole\",\"041.Scissor_tailed_Flycatcher\",\"001.Black_footed_Albatross\",\"025.Pelagic_Cormorant\",\"008.Rhinoceros_Auklet\",\"095.Baltimore_Oriole\",\"129.Song_Sparrow\",\"051.Horned_Grebe\",\"112.Great_Grey_Shrike\",\"116.Chipping_Sparrow\",\"199.Winter_Wren\",\"042.Vermilion_Flycatcher\",\"157.Yellow_throated_Vireo\",\"014.Indigo_Bunting\",\"100.Brown_Pelican\",\"006.Least_Auklet\",\"111.Loggerhead_Shrike\",\"147.Least_Tern\",\"143.Caspian_Tern\",\"011.Rusty_Blackbird\",\"180.Wilson_Warbler\",\"120.Fox_Sparrow\",\"126.Nelson_Sharp_tailed_Sparrow\",\"177.Prothonotary_Warbler\",\"113.Baird_Sparrow\",\"039.Least_Flycatcher\",\"069.Rufous_Hummingbird\",\"020.Yellow_breasted_Chat\",\"091.Mockingbird\",\"113.Baird_Sparrow\",\"123.Henslow_Sparrow\",\"075.Green_Jay\",\"199.Winter_Wren\",\"023.Brandt_Cormorant\",\"101.White_Pelican\",\"052.Pied_billed_Grebe\",\"142.Black_Tern\",\"006.Least_Auklet\",\"063.Ivory_Gull\",\"070.Green_Violetear\",\"011.Rusty_Blackbird\",\"072.Pomarine_Jaeger\",\"038.Great_Crested_Flycatcher\",\"165.Chestnut_sided_Warbler\",\"136.Barn_Swallow\",\"081.Pied_Kingfisher\",\"174.Palm_Warbler\",\"187.American_Three_toed_Woodpecker\",\"088.Western_Meadowlark\",\"180.Wilson_Warbler\",\"197.Marsh_Wren\",\"090.Red_breasted_Merganser\",\"056.Pine_Grosbeak\",\"090.Red_breasted_Merganser\",\"161.Blue_winged_Warbler\",\"154.Red_eyed_Vireo\",\"145.Elegant_Tern\",\"157.Yellow_throated_Vireo\",\"184.Louisiana_Waterthrush\",\"146.Forsters_Tern\",\"193.Bewick_Wren\",\"105.Whip_poor_Will\",\"151.Black_capped_Vireo\",\"066.Western_Gull\",\"199.Winter_Wren\",\"168.Kentucky_Warbler\",\"037.Acadian_Flycatcher\",\"118.House_Sparrow\",\"051.Horned_Grebe\",\"100.Brown_Pelican\",\"175.Pine_Warbler\",\"044.Frigatebird\",\"023.Brandt_Cormorant\",\"089.Hooded_Merganser\",\"168.Kentucky_Warbler\",\"091.Mockingbird\",\"190.Red_cockaded_Woodpecker\",\"122.Harris_Sparrow\",\"141.Artic_Tern\",\"027.Shiny_Cowbird\",\"113.Baird_Sparrow\",\"142.Black_Tern\",\"047.American_Goldfinch\",\"200.Common_Yellowthroat\",\"121.Grasshopper_Sparrow\",\"174.Palm_Warbler\",\"086.Pacific_Loon\",\"017.Cardinal\",\"181.Worm_eating_Warbler\",\"111.Loggerhead_Shrike\",\"061.Heermann_Gull\",\"081.Pied_Kingfisher\",\"002.Laysan_Albatross\",\"098.Scott_Oriole\",\"051.Horned_Grebe\",\"097.Orchard_Oriole\",\"061.Heermann_Gull\",\"008.Rhinoceros_Auklet\",\"096.Hooded_Oriole\",\"111.Loggerhead_Shrike\",\"167.Hooded_Warbler\",\"112.Great_Grey_Shrike\",\"089.Hooded_Merganser\",\"181.Worm_eating_Warbler\",\"110.Geococcyx\",\"141.Artic_Tern\",\"048.European_Goldfinch\",\"193.Bewick_Wren\",\"146.Forsters_Tern\",\"052.Pied_billed_Grebe\",\"125.Lincoln_Sparrow\",\"145.Elegant_Tern\",\"132.White_crowned_Sparrow\",\"167.Hooded_Warbler\",\"011.Rusty_Blackbird\",\"091.Mockingbird\",\"092.Nighthawk\",\"095.Baltimore_Oriole\",\"196.House_Wren\",\"120.Fox_Sparrow\",\"130.Tree_Sparrow\",\"188.Pileated_Woodpecker\",\"116.Chipping_Sparrow\",\"005.Crested_Auklet\",\"120.Fox_Sparrow\",\"131.Vesper_Sparrow\",\"103.Sayornis\",\"199.Winter_Wren\",\"094.White_breasted_Nuthatch\",\"108.White_necked_Raven\",\"068.Ruby_throated_Hummingbird\",\"180.Wilson_Warbler\",\"192.Downy_Woodpecker\",\"108.White_necked_Raven\",\"003.Sooty_Albatross\",\"185.Bohemian_Waxwing\",\"096.Hooded_Oriole\",\"073.Blue_Jay\",\"121.Grasshopper_Sparrow\",\"171.Myrtle_Warbler\",\"182.Yellow_Warbler\",\"174.Palm_Warbler\",\"149.Brown_Thrasher\",\"139.Scarlet_Tanager\",\"160.Black_throated_Blue_Warbler\",\"136.Barn_Swallow\",\"104.American_Pipit\",\"109.American_Redstart\",\"067.Anna_Hummingbird\",\"064.Ring_billed_Gull\",\"034.Gray_crowned_Rosy_Finch\",\"154.Red_eyed_Vireo\",\"180.Wilson_Warbler\",\"022.Chuck_will_Widow\",\"192.Downy_Woodpecker\",\"037.Acadian_Flycatcher\",\"011.Rusty_Blackbird\",\"155.Warbling_Vireo\",\"193.Bewick_Wren\",\"032.Mangrove_Cuckoo\",\"111.Loggerhead_Shrike\",\"178.Swainson_Warbler\",\"025.Pelagic_Cormorant\",\"195.Carolina_Wren\",\"082.Ringed_Kingfisher\",\"059.California_Gull\",\"183.Northern_Waterthrush\",\"103.Sayornis\",\"066.Western_Gull\",\"103.Sayornis\",\"039.Least_Flycatcher\",\"196.House_Wren\",\"194.Cactus_Wren\",\"153.Philadelphia_Vireo\",\"068.Ruby_throated_Hummingbird\",\"149.Brown_Thrasher\",\"052.Pied_billed_Grebe\",\"133.White_throated_Sparrow\",\"079.Belted_Kingfisher\",\"012.Yellow_headed_Blackbird\",\"036.Northern_Flicker\",\"086.Pacific_Loon\",\"004.Groove_billed_Ani\",\"046.Gadwall\",\"008.Rhinoceros_Auklet\",\"110.Geococcyx\",\"187.American_Three_toed_Woodpecker\",\"185.Bohemian_Waxwing\",\"044.Frigatebird\",\"034.Gray_crowned_Rosy_Finch\",\"010.Red_winged_Blackbird\",\"041.Scissor_tailed_Flycatcher\",\"116.Chipping_Sparrow\",\"017.Cardinal\",\"014.Indigo_Bunting\",\"029.American_Crow\",\"058.Pigeon_Guillemot\",\"188.Pileated_Woodpecker\",\"094.White_breasted_Nuthatch\",\"190.Red_cockaded_Woodpecker\",\"186.Cedar_Waxwing\",\"111.Loggerhead_Shrike\",\"188.Pileated_Woodpecker\",\"065.Slaty_backed_Gull\",\"067.Anna_Hummingbird\",\"027.Shiny_Cowbird\",\"033.Yellow_billed_Cuckoo\",\"076.Dark_eyed_Junco\",\"069.Rufous_Hummingbird\",\"096.Hooded_Oriole\",\"045.Northern_Fulmar\",\"169.Magnolia_Warbler\",\"006.Least_Auklet\",\"064.Ring_billed_Gull\",\"087.Mallard\",\"084.Red_legged_Kittiwake\",\"009.Brewer_Blackbird\",\"101.White_Pelican\",\"025.Pelagic_Cormorant\",\"028.Brown_Creeper\",\"183.Northern_Waterthrush\",\"126.Nelson_Sharp_tailed_Sparrow\",\"002.Laysan_Albatross\",\"080.Green_Kingfisher\",\"082.Ringed_Kingfisher\",\"155.Warbling_Vireo\",\"190.Red_cockaded_Woodpecker\",\"091.Mockingbird\",\"167.Hooded_Warbler\",\"168.Kentucky_Warbler\",\"035.Purple_Finch\",\"125.Lincoln_Sparrow\",\"171.Myrtle_Warbler\",\"017.Cardinal\",\"120.Fox_Sparrow\",\"025.Pelagic_Cormorant\",\"185.Bohemian_Waxwing\",\"152.Blue_headed_Vireo\",\"060.Glaucous_winged_Gull\",\"069.Rufous_Hummingbird\",\"058.Pigeon_Guillemot\",\"110.Geococcyx\",\"071.Long_tailed_Jaeger\",\"083.White_breasted_Kingfisher\",\"162.Canada_Warbler\",\"153.Philadelphia_Vireo\",\"101.White_Pelican\",\"015.Lazuli_Bunting\",\"091.Mockingbird\",\"050.Eared_Grebe\",\"071.Long_tailed_Jaeger\",\"128.Seaside_Sparrow\",\"073.Blue_Jay\",\"055.Evening_Grosbeak\",\"002.Laysan_Albatross\",\"029.American_Crow\",\"023.Brandt_Cormorant\",\"088.Western_Meadowlark\",\"138.Tree_Swallow\",\"048.European_Goldfinch\",\"178.Swainson_Warbler\",\"035.Purple_Finch\",\"072.Pomarine_Jaeger\",\"157.Yellow_throated_Vireo\",\"077.Tropical_Kingbird\",\"051.Horned_Grebe\",\"031.Black_billed_Cuckoo\",\"145.Elegant_Tern\",\"066.Western_Gull\",\"040.Olive_sided_Flycatcher\",\"105.Whip_poor_Will\",\"110.Geococcyx\",\"193.Bewick_Wren\",\"151.Black_capped_Vireo\",\"089.Hooded_Merganser\",\"052.Pied_billed_Grebe\",\"129.Song_Sparrow\",\"195.Carolina_Wren\",\"177.Prothonotary_Warbler\",\"152.Blue_headed_Vireo\",\"140.Summer_Tanager\",\"043.Yellow_bellied_Flycatcher\",\"028.Brown_Creeper\",\"153.Philadelphia_Vireo\",\"191.Red_headed_Woodpecker\",\"034.Gray_crowned_Rosy_Finch\",\"191.Red_headed_Woodpecker\",\"058.Pigeon_Guillemot\",\"180.Wilson_Warbler\",\"193.Bewick_Wren\",\"136.Barn_Swallow\",\"032.Mangrove_Cuckoo\",\"095.Baltimore_Oriole\",\"113.Baird_Sparrow\",\"058.Pigeon_Guillemot\",\"015.Lazuli_Bunting\",\"149.Brown_Thrasher\",\"177.Prothonotary_Warbler\",\"069.Rufous_Hummingbird\",\"058.Pigeon_Guillemot\",\"034.Gray_crowned_Rosy_Finch\",\"170.Mourning_Warbler\",\"173.Orange_crowned_Warbler\",\"108.White_necked_Raven\",\"108.White_necked_Raven\",\"081.Pied_Kingfisher\",\"048.European_Goldfinch\",\"055.Evening_Grosbeak\",\"178.Swainson_Warbler\",\"077.Tropical_Kingbird\",\"176.Prairie_Warbler\",\"199.Winter_Wren\",\"084.Red_legged_Kittiwake\",\"053.Western_Grebe\",\"069.Rufous_Hummingbird\",\"037.Acadian_Flycatcher\",\"010.Red_winged_Blackbird\",\"020.Yellow_breasted_Chat\",\"028.Brown_Creeper\",\"156.White_eyed_Vireo\",\"184.Louisiana_Waterthrush\",\"045.Northern_Fulmar\",\"072.Pomarine_Jaeger\",\"078.Gray_Kingbird\",\"050.Eared_Grebe\",\"106.Horned_Puffin\",\"098.Scott_Oriole\",\"087.Mallard\",\"174.Palm_Warbler\",\"042.Vermilion_Flycatcher\",\"005.Crested_Auklet\",\"141.Artic_Tern\",\"078.Gray_Kingbird\",\"101.White_Pelican\",\"115.Brewer_Sparrow\",\"015.Lazuli_Bunting\",\"021.Eastern_Towhee\",\"115.Brewer_Sparrow\",\"113.Baird_Sparrow\",\"095.Baltimore_Oriole\",\"042.Vermilion_Flycatcher\",\"096.Hooded_Oriole\",\"193.Bewick_Wren\",\"095.Baltimore_Oriole\",\"092.Nighthawk\",\"106.Horned_Puffin\",\"116.Chipping_Sparrow\",\"081.Pied_Kingfisher\",\"199.Winter_Wren\",\"072.Pomarine_Jaeger\",\"005.Crested_Auklet\",\"125.Lincoln_Sparrow\",\"114.Black_throated_Sparrow\",\"114.Black_throated_Sparrow\",\"200.Common_Yellowthroat\",\"121.Grasshopper_Sparrow\",\"079.Belted_Kingfisher\",\"161.Blue_winged_Warbler\",\"091.Mockingbird\",\"118.House_Sparrow\",\"050.Eared_Grebe\",\"095.Baltimore_Oriole\",\"185.Bohemian_Waxwing\",\"081.Pied_Kingfisher\",\"136.Barn_Swallow\",\"036.Northern_Flicker\",\"159.Black_and_white_Warbler\",\"186.Cedar_Waxwing\",\"085.Horned_Lark\",\"168.Kentucky_Warbler\",\"119.Field_Sparrow\",\"159.Black_and_white_Warbler\",\"036.Northern_Flicker\",\"045.Northern_Fulmar\",\"025.Pelagic_Cormorant\",\"040.Olive_sided_Flycatcher\",\"195.Carolina_Wren\",\"111.Loggerhead_Shrike\",\"018.Spotted_Catbird\",\"035.Purple_Finch\",\"041.Scissor_tailed_Flycatcher\",\"023.Brandt_Cormorant\",\"159.Black_and_white_Warbler\",\"194.Cactus_Wren\",\"183.Northern_Waterthrush\",\"038.Great_Crested_Flycatcher\",\"037.Acadian_Flycatcher\",\"018.Spotted_Catbird\",\"189.Red_bellied_Woodpecker\",\"046.Gadwall\",\"187.American_Three_toed_Woodpecker\",\"051.Horned_Grebe\",\"167.Hooded_Warbler\",\"164.Cerulean_Warbler\",\"138.Tree_Swallow\",\"010.Red_winged_Blackbird\",\"127.Savannah_Sparrow\",\"074.Florida_Jay\",\"138.Tree_Swallow\",\"056.Pine_Grosbeak\",\"094.White_breasted_Nuthatch\",\"106.Horned_Puffin\",\"110.Geococcyx\",\"171.Myrtle_Warbler\",\"157.Yellow_throated_Vireo\",\"107.Common_Raven\",\"060.Glaucous_winged_Gull\",\"058.Pigeon_Guillemot\",\"015.Lazuli_Bunting\",\"171.Myrtle_Warbler\",\"194.Cactus_Wren\",\"122.Harris_Sparrow\",\"121.Grasshopper_Sparrow\",\"045.Northern_Fulmar\",\"100.Brown_Pelican\",\"015.Lazuli_Bunting\",\"045.Northern_Fulmar\",\"160.Black_throated_Blue_Warbler\",\"149.Brown_Thrasher\",\"001.Black_footed_Albatross\",\"120.Fox_Sparrow\",\"091.Mockingbird\",\"153.Philadelphia_Vireo\",\"086.Pacific_Loon\",\"024.Red_faced_Cormorant\",\"101.White_Pelican\",\"074.Florida_Jay\",\"118.House_Sparrow\",\"186.Cedar_Waxwing\",\"012.Yellow_headed_Blackbird\",\"020.Yellow_breasted_Chat\",\"061.Heermann_Gull\",\"017.Cardinal\",\"041.Scissor_tailed_Flycatcher\",\"081.Pied_Kingfisher\",\"059.California_Gull\",\"088.Western_Meadowlark\",\"119.Field_Sparrow\",\"060.Glaucous_winged_Gull\",\"169.Magnolia_Warbler\",\"157.Yellow_throated_Vireo\",\"032.Mangrove_Cuckoo\",\"027.Shiny_Cowbird\",\"192.Downy_Woodpecker\",\"013.Bobolink\",\"050.Eared_Grebe\",\"043.Yellow_bellied_Flycatcher\",\"123.Henslow_Sparrow\",\"031.Black_billed_Cuckoo\",\"085.Horned_Lark\",\"092.Nighthawk\",\"022.Chuck_will_Widow\",\"066.Western_Gull\",\"087.Mallard\",\"110.Geococcyx\",\"001.Black_footed_Albatross\",\"020.Yellow_breasted_Chat\",\"007.Parakeet_Auklet\",\"021.Eastern_Towhee\",\"077.Tropical_Kingbird\",\"037.Acadian_Flycatcher\",\"008.Rhinoceros_Auklet\",\"118.House_Sparrow\",\"127.Savannah_Sparrow\",\"079.Belted_Kingfisher\",\"122.Harris_Sparrow\",\"118.House_Sparrow\",\"111.Loggerhead_Shrike\",\"054.Blue_Grosbeak\",\"144.Common_Tern\",\"069.Rufous_Hummingbird\",\"031.Black_billed_Cuckoo\",\"001.Black_footed_Albatross\",\"182.Yellow_Warbler\",\"012.Yellow_headed_Blackbird\",\"117.Clay_colored_Sparrow\",\"200.Common_Yellowthroat\",\"197.Marsh_Wren\",\"144.Common_Tern\",\"076.Dark_eyed_Junco\",\"041.Scissor_tailed_Flycatcher\",\"155.Warbling_Vireo\",\"089.Hooded_Merganser\",\"054.Blue_Grosbeak\",\"136.Barn_Swallow\",\"098.Scott_Oriole\",\"179.Tennessee_Warbler\",\"082.Ringed_Kingfisher\",\"042.Vermilion_Flycatcher\",\"024.Red_faced_Cormorant\",\"063.Ivory_Gull\",\"111.Loggerhead_Shrike\",\"153.Philadelphia_Vireo\",\"121.Grasshopper_Sparrow\",\"041.Scissor_tailed_Flycatcher\",\"033.Yellow_billed_Cuckoo\",\"153.Philadelphia_Vireo\",\"051.Horned_Grebe\",\"061.Heermann_Gull\",\"151.Black_capped_Vireo\",\"104.American_Pipit\",\"156.White_eyed_Vireo\",\"134.Cape_Glossy_Starling\",\"077.Tropical_Kingbird\",\"167.Hooded_Warbler\",\"098.Scott_Oriole\",\"047.American_Goldfinch\",\"175.Pine_Warbler\",\"148.Green_tailed_Towhee\",\"132.White_crowned_Sparrow\",\"160.Black_throated_Blue_Warbler\",\"018.Spotted_Catbird\",\"046.Gadwall\",\"177.Prothonotary_Warbler\",\"089.Hooded_Merganser\",\"129.Song_Sparrow\",\"009.Brewer_Blackbird\",\"070.Green_Violetear\",\"027.Shiny_Cowbird\",\"183.Northern_Waterthrush\",\"129.Song_Sparrow\",\"146.Forsters_Tern\",\"022.Chuck_will_Widow\",\"136.Barn_Swallow\",\"138.Tree_Swallow\",\"024.Red_faced_Cormorant\",\"052.Pied_billed_Grebe\",\"007.Parakeet_Auklet\",\"043.Yellow_bellied_Flycatcher\",\"135.Bank_Swallow\",\"130.Tree_Sparrow\",\"066.Western_Gull\",\"119.Field_Sparrow\",\"039.Least_Flycatcher\",\"130.Tree_Sparrow\",\"072.Pomarine_Jaeger\",\"141.Artic_Tern\",\"185.Bohemian_Waxwing\",\"011.Rusty_Blackbird\",\"166.Golden_winged_Warbler\",\"192.Downy_Woodpecker\",\"128.Seaside_Sparrow\",\"089.Hooded_Merganser\",\"022.Chuck_will_Widow\",\"030.Fish_Crow\",\"155.Warbling_Vireo\",\"002.Laysan_Albatross\",\"126.Nelson_Sharp_tailed_Sparrow\",\"109.American_Redstart\",\"092.Nighthawk\",\"053.Western_Grebe\",\"169.Magnolia_Warbler\",\"066.Western_Gull\",\"167.Hooded_Warbler\",\"150.Sage_Thrasher\",\"105.Whip_poor_Will\",\"048.European_Goldfinch\",\"195.Carolina_Wren\",\"131.Vesper_Sparrow\",\"099.Ovenbird\",\"069.Rufous_Hummingbird\",\"171.Myrtle_Warbler\",\"172.Nashville_Warbler\",\"033.Yellow_billed_Cuckoo\",\"058.Pigeon_Guillemot\",\"029.American_Crow\",\"074.Florida_Jay\",\"056.Pine_Grosbeak\",\"105.Whip_poor_Will\",\"015.Lazuli_Bunting\",\"040.Olive_sided_Flycatcher\",\"054.Blue_Grosbeak\",\"175.Pine_Warbler\",\"002.Laysan_Albatross\",\"196.House_Wren\",\"179.Tennessee_Warbler\",\"114.Black_throated_Sparrow\",\"067.Anna_Hummingbird\",\"172.Nashville_Warbler\",\"160.Black_throated_Blue_Warbler\",\"148.Green_tailed_Towhee\",\"126.Nelson_Sharp_tailed_Sparrow\",\"189.Red_bellied_Woodpecker\",\"111.Loggerhead_Shrike\",\"176.Prairie_Warbler\",\"088.Western_Meadowlark\",\"198.Rock_Wren\",\"146.Forsters_Tern\",\"015.Lazuli_Bunting\",\"143.Caspian_Tern\",\"042.Vermilion_Flycatcher\",\"148.Green_tailed_Towhee\",\"170.Mourning_Warbler\",\"075.Green_Jay\",\"151.Black_capped_Vireo\",\"068.Ruby_throated_Hummingbird\",\"088.Western_Meadowlark\",\"116.Chipping_Sparrow\",\"080.Green_Kingfisher\",\"064.Ring_billed_Gull\",\"062.Herring_Gull\",\"173.Orange_crowned_Warbler\",\"023.Brandt_Cormorant\",\"068.Ruby_throated_Hummingbird\",\"145.Elegant_Tern\",\"101.White_Pelican\",\"053.Western_Grebe\",\"107.Common_Raven\",\"062.Herring_Gull\",\"145.Elegant_Tern\",\"139.Scarlet_Tanager\",\"072.Pomarine_Jaeger\",\"074.Florida_Jay\",\"060.Glaucous_winged_Gull\",\"006.Least_Auklet\",\"107.Common_Raven\",\"106.Horned_Puffin\",\"182.Yellow_Warbler\",\"176.Prairie_Warbler\",\"158.Bay_breasted_Warbler\",\"159.Black_and_white_Warbler\",\"143.Caspian_Tern\",\"090.Red_breasted_Merganser\",\"186.Cedar_Waxwing\",\"010.Red_winged_Blackbird\",\"061.Heermann_Gull\",\"175.Pine_Warbler\",\"110.Geococcyx\",\"089.Hooded_Merganser\",\"036.Northern_Flicker\",\"035.Purple_Finch\",\"194.Cactus_Wren\",\"035.Purple_Finch\",\"136.Barn_Swallow\",\"004.Groove_billed_Ani\",\"105.Whip_poor_Will\",\"062.Herring_Gull\",\"069.Rufous_Hummingbird\",\"178.Swainson_Warbler\",\"184.Louisiana_Waterthrush\",\"079.Belted_Kingfisher\",\"049.Boat_tailed_Grackle\",\"060.Glaucous_winged_Gull\",\"023.Brandt_Cormorant\",\"116.Chipping_Sparrow\",\"162.Canada_Warbler\",\"022.Chuck_will_Widow\",\"134.Cape_Glossy_Starling\",\"031.Black_billed_Cuckoo\",\"197.Marsh_Wren\",\"029.American_Crow\",\"016.Painted_Bunting\",\"186.Cedar_Waxwing\",\"126.Nelson_Sharp_tailed_Sparrow\",\"068.Ruby_throated_Hummingbird\",\"034.Gray_crowned_Rosy_Finch\",\"021.Eastern_Towhee\",\"134.Cape_Glossy_Starling\",\"072.Pomarine_Jaeger\",\"081.Pied_Kingfisher\",\"157.Yellow_throated_Vireo\",\"016.Painted_Bunting\",\"031.Black_billed_Cuckoo\",\"033.Yellow_billed_Cuckoo\",\"178.Swainson_Warbler\",\"019.Gray_Catbird\",\"120.Fox_Sparrow\",\"017.Cardinal\",\"123.Henslow_Sparrow\",\"087.Mallard\",\"128.Seaside_Sparrow\",\"059.California_Gull\",\"176.Prairie_Warbler\",\"048.European_Goldfinch\",\"066.Western_Gull\",\"034.Gray_crowned_Rosy_Finch\",\"157.Yellow_throated_Vireo\",\"014.Indigo_Bunting\",\"095.Baltimore_Oriole\",\"200.Common_Yellowthroat\",\"079.Belted_Kingfisher\",\"112.Great_Grey_Shrike\",\"033.Yellow_billed_Cuckoo\",\"166.Golden_winged_Warbler\",\"128.Seaside_Sparrow\",\"183.Northern_Waterthrush\",\"012.Yellow_headed_Blackbird\",\"068.Ruby_throated_Hummingbird\",\"031.Black_billed_Cuckoo\",\"151.Black_capped_Vireo\",\"113.Baird_Sparrow\",\"141.Artic_Tern\",\"022.Chuck_will_Widow\",\"068.Ruby_throated_Hummingbird\",\"024.Red_faced_Cormorant\",\"182.Yellow_Warbler\",\"183.Northern_Waterthrush\",\"106.Horned_Puffin\",\"055.Evening_Grosbeak\",\"195.Carolina_Wren\",\"074.Florida_Jay\",\"071.Long_tailed_Jaeger\",\"027.Shiny_Cowbird\",\"004.Groove_billed_Ani\",\"125.Lincoln_Sparrow\",\"161.Blue_winged_Warbler\",\"124.Le_Conte_Sparrow\",\"162.Canada_Warbler\",\"139.Scarlet_Tanager\",\"034.Gray_crowned_Rosy_Finch\",\"027.Shiny_Cowbird\",\"152.Blue_headed_Vireo\",\"093.Clark_Nutcracker\",\"100.Brown_Pelican\",\"138.Tree_Swallow\",\"044.Frigatebird\",\"018.Spotted_Catbird\",\"040.Olive_sided_Flycatcher\",\"100.Brown_Pelican\",\"170.Mourning_Warbler\",\"100.Brown_Pelican\",\"009.Brewer_Blackbird\",\"073.Blue_Jay\",\"065.Slaty_backed_Gull\",\"002.Laysan_Albatross\",\"154.Red_eyed_Vireo\",\"102.Western_Wood_Pewee\",\"012.Yellow_headed_Blackbird\",\"114.Black_throated_Sparrow\",\"072.Pomarine_Jaeger\",\"025.Pelagic_Cormorant\",\"066.Western_Gull\",\"062.Herring_Gull\",\"179.Tennessee_Warbler\",\"019.Gray_Catbird\",\"117.Clay_colored_Sparrow\",\"045.Northern_Fulmar\",\"091.Mockingbird\",\"013.Bobolink\",\"184.Louisiana_Waterthrush\",\"036.Northern_Flicker\",\"106.Horned_Puffin\",\"039.Least_Flycatcher\",\"068.Ruby_throated_Hummingbird\",\"131.Vesper_Sparrow\",\"133.White_throated_Sparrow\",\"065.Slaty_backed_Gull\",\"074.Florida_Jay\",\"175.Pine_Warbler\",\"032.Mangrove_Cuckoo\",\"104.American_Pipit\",\"034.Gray_crowned_Rosy_Finch\",\"058.Pigeon_Guillemot\",\"175.Pine_Warbler\",\"188.Pileated_Woodpecker\",\"141.Artic_Tern\",\"109.American_Redstart\",\"176.Prairie_Warbler\",\"154.Red_eyed_Vireo\",\"174.Palm_Warbler\",\"079.Belted_Kingfisher\",\"087.Mallard\",\"049.Boat_tailed_Grackle\",\"039.Least_Flycatcher\",\"090.Red_breasted_Merganser\",\"104.American_Pipit\",\"171.Myrtle_Warbler\",\"155.Warbling_Vireo\",\"040.Olive_sided_Flycatcher\",\"019.Gray_Catbird\",\"020.Yellow_breasted_Chat\",\"130.Tree_Sparrow\",\"187.American_Three_toed_Woodpecker\",\"133.White_throated_Sparrow\",\"034.Gray_crowned_Rosy_Finch\",\"116.Chipping_Sparrow\",\"150.Sage_Thrasher\",\"187.American_Three_toed_Woodpecker\",\"071.Long_tailed_Jaeger\",\"088.Western_Meadowlark\",\"085.Horned_Lark\",\"147.Least_Tern\",\"143.Caspian_Tern\",\"014.Indigo_Bunting\",\"126.Nelson_Sharp_tailed_Sparrow\",\"152.Blue_headed_Vireo\",\"184.Louisiana_Waterthrush\",\"112.Great_Grey_Shrike\",\"116.Chipping_Sparrow\",\"058.Pigeon_Guillemot\",\"118.House_Sparrow\",\"128.Seaside_Sparrow\",\"019.Gray_Catbird\",\"166.Golden_winged_Warbler\",\"076.Dark_eyed_Junco\",\"172.Nashville_Warbler\",\"185.Bohemian_Waxwing\",\"071.Long_tailed_Jaeger\",\"132.White_crowned_Sparrow\",\"116.Chipping_Sparrow\",\"144.Common_Tern\",\"028.Brown_Creeper\",\"109.American_Redstart\",\"126.Nelson_Sharp_tailed_Sparrow\",\"056.Pine_Grosbeak\",\"106.Horned_Puffin\",\"116.Chipping_Sparrow\",\"041.Scissor_tailed_Flycatcher\",\"164.Cerulean_Warbler\",\"120.Fox_Sparrow\",\"114.Black_throated_Sparrow\",\"039.Least_Flycatcher\",\"185.Bohemian_Waxwing\",\"118.House_Sparrow\",\"074.Florida_Jay\",\"097.Orchard_Oriole\",\"027.Shiny_Cowbird\",\"176.Prairie_Warbler\",\"087.Mallard\",\"008.Rhinoceros_Auklet\",\"029.American_Crow\",\"011.Rusty_Blackbird\",\"156.White_eyed_Vireo\",\"152.Blue_headed_Vireo\",\"114.Black_throated_Sparrow\",\"096.Hooded_Oriole\",\"073.Blue_Jay\",\"030.Fish_Crow\",\"137.Cliff_Swallow\",\"025.Pelagic_Cormorant\",\"078.Gray_Kingbird\",\"169.Magnolia_Warbler\",\"082.Ringed_Kingfisher\",\"161.Blue_winged_Warbler\",\"039.Least_Flycatcher\",\"155.Warbling_Vireo\",\"115.Brewer_Sparrow\",\"172.Nashville_Warbler\",\"077.Tropical_Kingbird\",\"044.Frigatebird\",\"076.Dark_eyed_Junco\",\"196.House_Wren\",\"036.Northern_Flicker\",\"109.American_Redstart\",\"078.Gray_Kingbird\",\"165.Chestnut_sided_Warbler\",\"035.Purple_Finch\",\"028.Brown_Creeper\",\"099.Ovenbird\",\"073.Blue_Jay\",\"131.Vesper_Sparrow\",\"159.Black_and_white_Warbler\",\"144.Common_Tern\",\"001.Black_footed_Albatross\",\"012.Yellow_headed_Blackbird\",\"131.Vesper_Sparrow\",\"113.Baird_Sparrow\",\"020.Yellow_breasted_Chat\",\"188.Pileated_Woodpecker\",\"003.Sooty_Albatross\",\"108.White_necked_Raven\",\"099.Ovenbird\",\"118.House_Sparrow\",\"196.House_Wren\",\"082.Ringed_Kingfisher\",\"012.Yellow_headed_Blackbird\",\"078.Gray_Kingbird\",\"051.Horned_Grebe\",\"079.Belted_Kingfisher\",\"103.Sayornis\",\"200.Common_Yellowthroat\",\"132.White_crowned_Sparrow\",\"118.House_Sparrow\",\"159.Black_and_white_Warbler\",\"068.Ruby_throated_Hummingbird\",\"176.Prairie_Warbler\",\"044.Frigatebird\",\"186.Cedar_Waxwing\",\"112.Great_Grey_Shrike\",\"181.Worm_eating_Warbler\",\"113.Baird_Sparrow\",\"071.Long_tailed_Jaeger\",\"113.Baird_Sparrow\",\"167.Hooded_Warbler\",\"083.White_breasted_Kingfisher\",\"053.Western_Grebe\",\"180.Wilson_Warbler\",\"078.Gray_Kingbird\",\"135.Bank_Swallow\",\"147.Least_Tern\",\"048.European_Goldfinch\",\"176.Prairie_Warbler\",\"035.Purple_Finch\",\"094.White_breasted_Nuthatch\",\"172.Nashville_Warbler\",\"188.Pileated_Woodpecker\",\"051.Horned_Grebe\",\"108.White_necked_Raven\",\"149.Brown_Thrasher\",\"181.Worm_eating_Warbler\",\"194.Cactus_Wren\",\"153.Philadelphia_Vireo\",\"020.Yellow_breasted_Chat\",\"198.Rock_Wren\",\"178.Swainson_Warbler\",\"191.Red_headed_Woodpecker\",\"161.Blue_winged_Warbler\",\"017.Cardinal\",\"170.Mourning_Warbler\",\"127.Savannah_Sparrow\",\"052.Pied_billed_Grebe\",\"169.Magnolia_Warbler\",\"053.Western_Grebe\",\"146.Forsters_Tern\",\"109.American_Redstart\",\"146.Forsters_Tern\",\"177.Prothonotary_Warbler\",\"162.Canada_Warbler\",\"195.Carolina_Wren\",\"097.Orchard_Oriole\",\"060.Glaucous_winged_Gull\",\"010.Red_winged_Blackbird\",\"043.Yellow_bellied_Flycatcher\",\"116.Chipping_Sparrow\",\"041.Scissor_tailed_Flycatcher\",\"066.Western_Gull\",\"103.Sayornis\",\"181.Worm_eating_Warbler\",\"008.Rhinoceros_Auklet\",\"044.Frigatebird\",\"167.Hooded_Warbler\",\"010.Red_winged_Blackbird\",\"165.Chestnut_sided_Warbler\",\"159.Black_and_white_Warbler\",\"035.Purple_Finch\",\"021.Eastern_Towhee\",\"141.Artic_Tern\",\"130.Tree_Sparrow\",\"073.Blue_Jay\",\"156.White_eyed_Vireo\",\"105.Whip_poor_Will\",\"031.Black_billed_Cuckoo\",\"014.Indigo_Bunting\",\"001.Black_footed_Albatross\",\"104.American_Pipit\",\"173.Orange_crowned_Warbler\",\"137.Cliff_Swallow\",\"033.Yellow_billed_Cuckoo\",\"189.Red_bellied_Woodpecker\",\"035.Purple_Finch\",\"123.Henslow_Sparrow\",\"066.Western_Gull\",\"165.Chestnut_sided_Warbler\",\"085.Horned_Lark\",\"110.Geococcyx\",\"008.Rhinoceros_Auklet\",\"117.Clay_colored_Sparrow\",\"033.Yellow_billed_Cuckoo\",\"028.Brown_Creeper\",\"194.Cactus_Wren\",\"073.Blue_Jay\",\"128.Seaside_Sparrow\",\"129.Song_Sparrow\",\"026.Bronzed_Cowbird\",\"178.Swainson_Warbler\",\"055.Evening_Grosbeak\",\"076.Dark_eyed_Junco\",\"091.Mockingbird\",\"021.Eastern_Towhee\",\"047.American_Goldfinch\",\"016.Painted_Bunting\",\"043.Yellow_bellied_Flycatcher\",\"104.American_Pipit\",\"079.Belted_Kingfisher\",\"083.White_breasted_Kingfisher\",\"140.Summer_Tanager\",\"171.Myrtle_Warbler\",\"004.Groove_billed_Ani\",\"145.Elegant_Tern\",\"025.Pelagic_Cormorant\",\"077.Tropical_Kingbird\",\"042.Vermilion_Flycatcher\",\"174.Palm_Warbler\",\"015.Lazuli_Bunting\",\"006.Least_Auklet\",\"052.Pied_billed_Grebe\",\"172.Nashville_Warbler\",\"170.Mourning_Warbler\",\"144.Common_Tern\",\"016.Painted_Bunting\",\"036.Northern_Flicker\",\"042.Vermilion_Flycatcher\",\"014.Indigo_Bunting\",\"040.Olive_sided_Flycatcher\",\"049.Boat_tailed_Grackle\",\"184.Louisiana_Waterthrush\",\"174.Palm_Warbler\",\"039.Least_Flycatcher\",\"124.Le_Conte_Sparrow\",\"120.Fox_Sparrow\",\"002.Laysan_Albatross\",\"117.Clay_colored_Sparrow\",\"164.Cerulean_Warbler\",\"153.Philadelphia_Vireo\",\"002.Laysan_Albatross\",\"192.Downy_Woodpecker\",\"142.Black_Tern\",\"124.Le_Conte_Sparrow\",\"027.Shiny_Cowbird\",\"169.Magnolia_Warbler\",\"002.Laysan_Albatross\",\"019.Gray_Catbird\",\"042.Vermilion_Flycatcher\",\"104.American_Pipit\",\"157.Yellow_throated_Vireo\",\"044.Frigatebird\",\"172.Nashville_Warbler\",\"065.Slaty_backed_Gull\",\"067.Anna_Hummingbird\",\"137.Cliff_Swallow\",\"044.Frigatebird\",\"056.Pine_Grosbeak\",\"157.Yellow_throated_Vireo\",\"128.Seaside_Sparrow\",\"134.Cape_Glossy_Starling\",\"042.Vermilion_Flycatcher\",\"046.Gadwall\",\"092.Nighthawk\",\"164.Cerulean_Warbler\",\"081.Pied_Kingfisher\",\"090.Red_breasted_Merganser\",\"134.Cape_Glossy_Starling\",\"129.Song_Sparrow\",\"057.Rose_breasted_Grosbeak\",\"064.Ring_billed_Gull\",\"025.Pelagic_Cormorant\",\"063.Ivory_Gull\",\"010.Red_winged_Blackbird\",\"076.Dark_eyed_Junco\",\"025.Pelagic_Cormorant\",\"147.Least_Tern\",\"035.Purple_Finch\",\"124.Le_Conte_Sparrow\",\"062.Herring_Gull\",\"089.Hooded_Merganser\",\"195.Carolina_Wren\",\"151.Black_capped_Vireo\",\"021.Eastern_Towhee\",\"176.Prairie_Warbler\",\"022.Chuck_will_Widow\",\"189.Red_bellied_Woodpecker\",\"061.Heermann_Gull\",\"124.Le_Conte_Sparrow\",\"184.Louisiana_Waterthrush\",\"016.Painted_Bunting\",\"065.Slaty_backed_Gull\",\"149.Brown_Thrasher\",\"054.Blue_Grosbeak\",\"035.Purple_Finch\",\"070.Green_Violetear\",\"128.Seaside_Sparrow\",\"072.Pomarine_Jaeger\",\"078.Gray_Kingbird\",\"014.Indigo_Bunting\",\"136.Barn_Swallow\",\"173.Orange_crowned_Warbler\",\"009.Brewer_Blackbird\",\"154.Red_eyed_Vireo\",\"004.Groove_billed_Ani\",\"189.Red_bellied_Woodpecker\",\"027.Shiny_Cowbird\",\"178.Swainson_Warbler\",\"026.Bronzed_Cowbird\",\"152.Blue_headed_Vireo\",\"101.White_Pelican\",\"177.Prothonotary_Warbler\",\"197.Marsh_Wren\",\"059.California_Gull\",\"093.Clark_Nutcracker\",\"134.Cape_Glossy_Starling\",\"099.Ovenbird\",\"026.Bronzed_Cowbird\",\"014.Indigo_Bunting\",\"054.Blue_Grosbeak\",\"044.Frigatebird\",\"057.Rose_breasted_Grosbeak\",\"145.Elegant_Tern\",\"054.Blue_Grosbeak\",\"144.Common_Tern\",\"154.Red_eyed_Vireo\",\"064.Ring_billed_Gull\",\"025.Pelagic_Cormorant\",\"069.Rufous_Hummingbird\",\"119.Field_Sparrow\",\"005.Crested_Auklet\",\"107.Common_Raven\",\"125.Lincoln_Sparrow\",\"004.Groove_billed_Ani\",\"080.Green_Kingfisher\",\"159.Black_and_white_Warbler\",\"042.Vermilion_Flycatcher\",\"078.Gray_Kingbird\",\"194.Cactus_Wren\",\"090.Red_breasted_Merganser\",\"051.Horned_Grebe\",\"080.Green_Kingfisher\",\"092.Nighthawk\",\"088.Western_Meadowlark\",\"119.Field_Sparrow\",\"124.Le_Conte_Sparrow\",\"073.Blue_Jay\",\"137.Cliff_Swallow\",\"090.Red_breasted_Merganser\",\"036.Northern_Flicker\",\"152.Blue_headed_Vireo\",\"014.Indigo_Bunting\",\"175.Pine_Warbler\",\"028.Brown_Creeper\",\"129.Song_Sparrow\",\"079.Belted_Kingfisher\",\"023.Brandt_Cormorant\",\"007.Parakeet_Auklet\",\"084.Red_legged_Kittiwake\",\"068.Ruby_throated_Hummingbird\",\"124.Le_Conte_Sparrow\",\"019.Gray_Catbird\",\"013.Bobolink\",\"176.Prairie_Warbler\",\"119.Field_Sparrow\",\"110.Geococcyx\",\"030.Fish_Crow\",\"127.Savannah_Sparrow\",\"174.Palm_Warbler\",\"093.Clark_Nutcracker\",\"016.Painted_Bunting\",\"192.Downy_Woodpecker\",\"157.Yellow_throated_Vireo\",\"105.Whip_poor_Will\",\"151.Black_capped_Vireo\",\"142.Black_Tern\",\"140.Summer_Tanager\",\"123.Henslow_Sparrow\",\"051.Horned_Grebe\",\"073.Blue_Jay\",\"037.Acadian_Flycatcher\",\"197.Marsh_Wren\",\"123.Henslow_Sparrow\",\"050.Eared_Grebe\",\"013.Bobolink\",\"159.Black_and_white_Warbler\",\"075.Green_Jay\",\"052.Pied_billed_Grebe\",\"197.Marsh_Wren\",\"075.Green_Jay\",\"186.Cedar_Waxwing\",\"146.Forsters_Tern\",\"112.Great_Grey_Shrike\",\"137.Cliff_Swallow\",\"057.Rose_breasted_Grosbeak\",\"066.Western_Gull\",\"154.Red_eyed_Vireo\",\"004.Groove_billed_Ani\",\"156.White_eyed_Vireo\",\"032.Mangrove_Cuckoo\",\"164.Cerulean_Warbler\",\"199.Winter_Wren\",\"098.Scott_Oriole\",\"194.Cactus_Wren\",\"008.Rhinoceros_Auklet\",\"089.Hooded_Merganser\",\"039.Least_Flycatcher\",\"008.Rhinoceros_Auklet\",\"164.Cerulean_Warbler\",\"171.Myrtle_Warbler\",\"097.Orchard_Oriole\",\"099.Ovenbird\",\"199.Winter_Wren\",\"033.Yellow_billed_Cuckoo\",\"072.Pomarine_Jaeger\",\"086.Pacific_Loon\",\"011.Rusty_Blackbird\",\"188.Pileated_Woodpecker\",\"027.Shiny_Cowbird\",\"174.Palm_Warbler\",\"126.Nelson_Sharp_tailed_Sparrow\",\"090.Red_breasted_Merganser\",\"060.Glaucous_winged_Gull\",\"158.Bay_breasted_Warbler\",\"165.Chestnut_sided_Warbler\",\"195.Carolina_Wren\",\"132.White_crowned_Sparrow\",\"110.Geococcyx\",\"163.Cape_May_Warbler\",\"177.Prothonotary_Warbler\",\"089.Hooded_Merganser\",\"185.Bohemian_Waxwing\",\"067.Anna_Hummingbird\",\"154.Red_eyed_Vireo\",\"123.Henslow_Sparrow\",\"160.Black_throated_Blue_Warbler\",\"181.Worm_eating_Warbler\",\"009.Brewer_Blackbird\",\"143.Caspian_Tern\",\"055.Evening_Grosbeak\",\"074.Florida_Jay\",\"171.Myrtle_Warbler\",\"176.Prairie_Warbler\",\"086.Pacific_Loon\",\"037.Acadian_Flycatcher\",\"051.Horned_Grebe\",\"072.Pomarine_Jaeger\",\"165.Chestnut_sided_Warbler\",\"044.Frigatebird\",\"197.Marsh_Wren\",\"191.Red_headed_Woodpecker\",\"013.Bobolink\",\"107.Common_Raven\",\"019.Gray_Catbird\",\"076.Dark_eyed_Junco\",\"088.Western_Meadowlark\",\"053.Western_Grebe\",\"096.Hooded_Oriole\",\"133.White_throated_Sparrow\",\"187.American_Three_toed_Woodpecker\",\"043.Yellow_bellied_Flycatcher\",\"111.Loggerhead_Shrike\",\"121.Grasshopper_Sparrow\",\"034.Gray_crowned_Rosy_Finch\",\"160.Black_throated_Blue_Warbler\",\"008.Rhinoceros_Auklet\",\"166.Golden_winged_Warbler\",\"124.Le_Conte_Sparrow\",\"056.Pine_Grosbeak\",\"187.American_Three_toed_Woodpecker\",\"186.Cedar_Waxwing\",\"107.Common_Raven\",\"022.Chuck_will_Widow\",\"134.Cape_Glossy_Starling\",\"163.Cape_May_Warbler\",\"148.Green_tailed_Towhee\",\"050.Eared_Grebe\",\"108.White_necked_Raven\",\"067.Anna_Hummingbird\",\"039.Least_Flycatcher\",\"114.Black_throated_Sparrow\",\"189.Red_bellied_Woodpecker\",\"077.Tropical_Kingbird\",\"096.Hooded_Oriole\",\"168.Kentucky_Warbler\",\"078.Gray_Kingbird\",\"165.Chestnut_sided_Warbler\",\"164.Cerulean_Warbler\",\"071.Long_tailed_Jaeger\",\"155.Warbling_Vireo\",\"026.Bronzed_Cowbird\",\"013.Bobolink\",\"140.Summer_Tanager\",\"172.Nashville_Warbler\",\"186.Cedar_Waxwing\",\"055.Evening_Grosbeak\",\"094.White_breasted_Nuthatch\",\"166.Golden_winged_Warbler\",\"127.Savannah_Sparrow\",\"082.Ringed_Kingfisher\",\"160.Black_throated_Blue_Warbler\",\"180.Wilson_Warbler\",\"164.Cerulean_Warbler\",\"169.Magnolia_Warbler\",\"056.Pine_Grosbeak\",\"112.Great_Grey_Shrike\",\"166.Golden_winged_Warbler\",\"152.Blue_headed_Vireo\",\"004.Groove_billed_Ani\",\"145.Elegant_Tern\",\"163.Cape_May_Warbler\",\"053.Western_Grebe\",\"187.American_Three_toed_Woodpecker\",\"028.Brown_Creeper\",\"193.Bewick_Wren\",\"046.Gadwall\",\"194.Cactus_Wren\",\"045.Northern_Fulmar\",\"020.Yellow_breasted_Chat\",\"126.Nelson_Sharp_tailed_Sparrow\",\"071.Long_tailed_Jaeger\",\"007.Parakeet_Auklet\",\"015.Lazuli_Bunting\",\"161.Blue_winged_Warbler\",\"106.Horned_Puffin\",\"150.Sage_Thrasher\",\"105.Whip_poor_Will\",\"003.Sooty_Albatross\",\"185.Bohemian_Waxwing\",\"144.Common_Tern\",\"141.Artic_Tern\",\"188.Pileated_Woodpecker\",\"103.Sayornis\",\"195.Carolina_Wren\",\"167.Hooded_Warbler\",\"135.Bank_Swallow\",\"090.Red_breasted_Merganser\",\"153.Philadelphia_Vireo\",\"158.Bay_breasted_Warbler\",\"139.Scarlet_Tanager\",\"010.Red_winged_Blackbird\",\"040.Olive_sided_Flycatcher\",\"178.Swainson_Warbler\",\"178.Swainson_Warbler\",\"072.Pomarine_Jaeger\",\"165.Chestnut_sided_Warbler\",\"045.Northern_Fulmar\",\"061.Heermann_Gull\",\"151.Black_capped_Vireo\",\"015.Lazuli_Bunting\",\"109.American_Redstart\",\"081.Pied_Kingfisher\",\"151.Black_capped_Vireo\",\"181.Worm_eating_Warbler\",\"060.Glaucous_winged_Gull\",\"013.Bobolink\",\"135.Bank_Swallow\",\"139.Scarlet_Tanager\",\"055.Evening_Grosbeak\",\"125.Lincoln_Sparrow\",\"010.Red_winged_Blackbird\",\"101.White_Pelican\",\"108.White_necked_Raven\",\"048.European_Goldfinch\",\"197.Marsh_Wren\",\"149.Brown_Thrasher\",\"116.Chipping_Sparrow\",\"099.Ovenbird\",\"066.Western_Gull\",\"037.Acadian_Flycatcher\",\"033.Yellow_billed_Cuckoo\",\"051.Horned_Grebe\",\"108.White_necked_Raven\",\"009.Brewer_Blackbird\",\"064.Ring_billed_Gull\",\"140.Summer_Tanager\",\"195.Carolina_Wren\",\"142.Black_Tern\",\"174.Palm_Warbler\",\"117.Clay_colored_Sparrow\",\"185.Bohemian_Waxwing\",\"120.Fox_Sparrow\",\"147.Least_Tern\",\"018.Spotted_Catbird\",\"112.Great_Grey_Shrike\",\"161.Blue_winged_Warbler\",\"079.Belted_Kingfisher\",\"009.Brewer_Blackbird\",\"080.Green_Kingfisher\",\"055.Evening_Grosbeak\",\"074.Florida_Jay\",\"015.Lazuli_Bunting\",\"016.Painted_Bunting\",\"080.Green_Kingfisher\",\"075.Green_Jay\",\"062.Herring_Gull\",\"194.Cactus_Wren\",\"004.Groove_billed_Ani\",\"052.Pied_billed_Grebe\",\"195.Carolina_Wren\",\"087.Mallard\",\"103.Sayornis\",\"041.Scissor_tailed_Flycatcher\",\"070.Green_Violetear\",\"140.Summer_Tanager\",\"117.Clay_colored_Sparrow\",\"080.Green_Kingfisher\",\"093.Clark_Nutcracker\",\"080.Green_Kingfisher\",\"193.Bewick_Wren\",\"166.Golden_winged_Warbler\",\"031.Black_billed_Cuckoo\",\"072.Pomarine_Jaeger\",\"012.Yellow_headed_Blackbird\",\"167.Hooded_Warbler\",\"087.Mallard\",\"104.American_Pipit\",\"018.Spotted_Catbird\",\"132.White_crowned_Sparrow\",\"142.Black_Tern\",\"086.Pacific_Loon\",\"101.White_Pelican\",\"022.Chuck_will_Widow\",\"015.Lazuli_Bunting\",\"026.Bronzed_Cowbird\",\"020.Yellow_breasted_Chat\",\"135.Bank_Swallow\",\"142.Black_Tern\",\"129.Song_Sparrow\",\"091.Mockingbird\",\"140.Summer_Tanager\",\"008.Rhinoceros_Auklet\",\"185.Bohemian_Waxwing\",\"181.Worm_eating_Warbler\",\"050.Eared_Grebe\",\"055.Evening_Grosbeak\",\"111.Loggerhead_Shrike\",\"191.Red_headed_Woodpecker\",\"067.Anna_Hummingbird\",\"042.Vermilion_Flycatcher\",\"188.Pileated_Woodpecker\",\"194.Cactus_Wren\",\"187.American_Three_toed_Woodpecker\",\"133.White_throated_Sparrow\",\"163.Cape_May_Warbler\",\"111.Loggerhead_Shrike\",\"188.Pileated_Woodpecker\",\"125.Lincoln_Sparrow\",\"180.Wilson_Warbler\",\"092.Nighthawk\",\"094.White_breasted_Nuthatch\",\"127.Savannah_Sparrow\",\"007.Parakeet_Auklet\",\"100.Brown_Pelican\",\"182.Yellow_Warbler\",\"025.Pelagic_Cormorant\",\"074.Florida_Jay\",\"148.Green_tailed_Towhee\",\"100.Brown_Pelican\",\"151.Black_capped_Vireo\",\"128.Seaside_Sparrow\",\"152.Blue_headed_Vireo\",\"156.White_eyed_Vireo\",\"033.Yellow_billed_Cuckoo\",\"174.Palm_Warbler\",\"013.Bobolink\",\"053.Western_Grebe\",\"087.Mallard\",\"100.Brown_Pelican\",\"063.Ivory_Gull\",\"061.Heermann_Gull\",\"049.Boat_tailed_Grackle\",\"117.Clay_colored_Sparrow\",\"024.Red_faced_Cormorant\",\"181.Worm_eating_Warbler\",\"184.Louisiana_Waterthrush\",\"038.Great_Crested_Flycatcher\",\"113.Baird_Sparrow\",\"054.Blue_Grosbeak\",\"145.Elegant_Tern\",\"017.Cardinal\",\"199.Winter_Wren\",\"118.House_Sparrow\",\"072.Pomarine_Jaeger\",\"092.Nighthawk\",\"091.Mockingbird\",\"130.Tree_Sparrow\",\"031.Black_billed_Cuckoo\",\"141.Artic_Tern\",\"093.Clark_Nutcracker\",\"083.White_breasted_Kingfisher\",\"159.Black_and_white_Warbler\",\"080.Green_Kingfisher\",\"123.Henslow_Sparrow\",\"094.White_breasted_Nuthatch\",\"133.White_throated_Sparrow\",\"063.Ivory_Gull\",\"041.Scissor_tailed_Flycatcher\",\"179.Tennessee_Warbler\",\"101.White_Pelican\",\"065.Slaty_backed_Gull\",\"151.Black_capped_Vireo\",\"144.Common_Tern\",\"072.Pomarine_Jaeger\",\"112.Great_Grey_Shrike\",\"193.Bewick_Wren\",\"014.Indigo_Bunting\",\"037.Acadian_Flycatcher\",\"057.Rose_breasted_Grosbeak\",\"117.Clay_colored_Sparrow\",\"079.Belted_Kingfisher\",\"010.Red_winged_Blackbird\",\"044.Frigatebird\",\"194.Cactus_Wren\",\"083.White_breasted_Kingfisher\",\"014.Indigo_Bunting\",\"091.Mockingbird\",\"021.Eastern_Towhee\",\"182.Yellow_Warbler\",\"154.Red_eyed_Vireo\",\"038.Great_Crested_Flycatcher\",\"123.Henslow_Sparrow\",\"131.Vesper_Sparrow\",\"120.Fox_Sparrow\",\"052.Pied_billed_Grebe\",\"177.Prothonotary_Warbler\",\"075.Green_Jay\",\"189.Red_bellied_Woodpecker\",\"102.Western_Wood_Pewee\",\"191.Red_headed_Woodpecker\",\"160.Black_throated_Blue_Warbler\",\"011.Rusty_Blackbird\",\"090.Red_breasted_Merganser\",\"022.Chuck_will_Widow\",\"009.Brewer_Blackbird\",\"019.Gray_Catbird\",\"016.Painted_Bunting\",\"158.Bay_breasted_Warbler\",\"139.Scarlet_Tanager\",\"058.Pigeon_Guillemot\",\"115.Brewer_Sparrow\",\"197.Marsh_Wren\",\"059.California_Gull\",\"074.Florida_Jay\",\"119.Field_Sparrow\",\"146.Forsters_Tern\",\"054.Blue_Grosbeak\",\"191.Red_headed_Woodpecker\",\"051.Horned_Grebe\",\"104.American_Pipit\",\"066.Western_Gull\",\"170.Mourning_Warbler\",\"014.Indigo_Bunting\",\"026.Bronzed_Cowbird\",\"084.Red_legged_Kittiwake\",\"132.White_crowned_Sparrow\",\"057.Rose_breasted_Grosbeak\",\"055.Evening_Grosbeak\",\"016.Painted_Bunting\",\"111.Loggerhead_Shrike\",\"043.Yellow_bellied_Flycatcher\",\"101.White_Pelican\",\"165.Chestnut_sided_Warbler\",\"118.House_Sparrow\",\"020.Yellow_breasted_Chat\",\"171.Myrtle_Warbler\",\"061.Heermann_Gull\",\"176.Prairie_Warbler\",\"070.Green_Violetear\",\"100.Brown_Pelican\",\"081.Pied_Kingfisher\",\"193.Bewick_Wren\",\"026.Bronzed_Cowbird\",\"089.Hooded_Merganser\",\"024.Red_faced_Cormorant\",\"042.Vermilion_Flycatcher\",\"198.Rock_Wren\",\"004.Groove_billed_Ani\",\"018.Spotted_Catbird\",\"050.Eared_Grebe\",\"151.Black_capped_Vireo\",\"099.Ovenbird\",\"140.Summer_Tanager\",\"021.Eastern_Towhee\",\"025.Pelagic_Cormorant\",\"050.Eared_Grebe\",\"180.Wilson_Warbler\",\"155.Warbling_Vireo\",\"121.Grasshopper_Sparrow\",\"017.Cardinal\",\"140.Summer_Tanager\",\"089.Hooded_Merganser\",\"022.Chuck_will_Widow\",\"177.Prothonotary_Warbler\",\"029.American_Crow\",\"154.Red_eyed_Vireo\",\"038.Great_Crested_Flycatcher\",\"126.Nelson_Sharp_tailed_Sparrow\",\"049.Boat_tailed_Grackle\",\"002.Laysan_Albatross\",\"017.Cardinal\",\"022.Chuck_will_Widow\",\"014.Indigo_Bunting\",\"154.Red_eyed_Vireo\",\"033.Yellow_billed_Cuckoo\",\"165.Chestnut_sided_Warbler\",\"161.Blue_winged_Warbler\",\"132.White_crowned_Sparrow\",\"177.Prothonotary_Warbler\",\"052.Pied_billed_Grebe\",\"106.Horned_Puffin\",\"193.Bewick_Wren\",\"129.Song_Sparrow\",\"094.White_breasted_Nuthatch\",\"188.Pileated_Woodpecker\",\"070.Green_Violetear\",\"172.Nashville_Warbler\",\"123.Henslow_Sparrow\",\"164.Cerulean_Warbler\",\"012.Yellow_headed_Blackbird\",\"012.Yellow_headed_Blackbird\",\"142.Black_Tern\",\"079.Belted_Kingfisher\",\"146.Forsters_Tern\",\"155.Warbling_Vireo\",\"053.Western_Grebe\",\"098.Scott_Oriole\",\"036.Northern_Flicker\",\"144.Common_Tern\",\"052.Pied_billed_Grebe\",\"181.Worm_eating_Warbler\",\"122.Harris_Sparrow\",\"103.Sayornis\",\"086.Pacific_Loon\",\"151.Black_capped_Vireo\",\"161.Blue_winged_Warbler\",\"079.Belted_Kingfisher\",\"167.Hooded_Warbler\",\"140.Summer_Tanager\",\"036.Northern_Flicker\",\"183.Northern_Waterthrush\",\"197.Marsh_Wren\",\"036.Northern_Flicker\",\"194.Cactus_Wren\",\"009.Brewer_Blackbird\",\"179.Tennessee_Warbler\",\"136.Barn_Swallow\",\"107.Common_Raven\",\"119.Field_Sparrow\",\"131.Vesper_Sparrow\",\"137.Cliff_Swallow\",\"191.Red_headed_Woodpecker\",\"120.Fox_Sparrow\",\"188.Pileated_Woodpecker\",\"172.Nashville_Warbler\",\"052.Pied_billed_Grebe\",\"105.Whip_poor_Will\",\"082.Ringed_Kingfisher\",\"173.Orange_crowned_Warbler\",\"139.Scarlet_Tanager\",\"063.Ivory_Gull\",\"081.Pied_Kingfisher\",\"163.Cape_May_Warbler\",\"126.Nelson_Sharp_tailed_Sparrow\",\"181.Worm_eating_Warbler\",\"157.Yellow_throated_Vireo\",\"161.Blue_winged_Warbler\",\"104.American_Pipit\",\"164.Cerulean_Warbler\",\"142.Black_Tern\",\"063.Ivory_Gull\",\"152.Blue_headed_Vireo\",\"014.Indigo_Bunting\",\"192.Downy_Woodpecker\",\"051.Horned_Grebe\",\"063.Ivory_Gull\",\"149.Brown_Thrasher\",\"076.Dark_eyed_Junco\",\"133.White_throated_Sparrow\",\"154.Red_eyed_Vireo\",\"192.Downy_Woodpecker\",\"054.Blue_Grosbeak\",\"127.Savannah_Sparrow\",\"168.Kentucky_Warbler\",\"115.Brewer_Sparrow\",\"098.Scott_Oriole\",\"050.Eared_Grebe\",\"168.Kentucky_Warbler\",\"089.Hooded_Merganser\",\"200.Common_Yellowthroat\",\"193.Bewick_Wren\",\"150.Sage_Thrasher\",\"138.Tree_Swallow\",\"129.Song_Sparrow\",\"026.Bronzed_Cowbird\",\"085.Horned_Lark\",\"156.White_eyed_Vireo\",\"043.Yellow_bellied_Flycatcher\",\"142.Black_Tern\",\"058.Pigeon_Guillemot\",\"083.White_breasted_Kingfisher\",\"152.Blue_headed_Vireo\",\"037.Acadian_Flycatcher\",\"186.Cedar_Waxwing\",\"183.Northern_Waterthrush\",\"174.Palm_Warbler\",\"021.Eastern_Towhee\",\"121.Grasshopper_Sparrow\",\"045.Northern_Fulmar\",\"084.Red_legged_Kittiwake\",\"144.Common_Tern\",\"169.Magnolia_Warbler\",\"132.White_crowned_Sparrow\",\"072.Pomarine_Jaeger\",\"011.Rusty_Blackbird\",\"036.Northern_Flicker\",\"060.Glaucous_winged_Gull\",\"195.Carolina_Wren\",\"180.Wilson_Warbler\",\"029.American_Crow\",\"176.Prairie_Warbler\",\"122.Harris_Sparrow\",\"040.Olive_sided_Flycatcher\",\"181.Worm_eating_Warbler\",\"173.Orange_crowned_Warbler\",\"159.Black_and_white_Warbler\",\"045.Northern_Fulmar\",\"122.Harris_Sparrow\",\"171.Myrtle_Warbler\",\"103.Sayornis\",\"020.Yellow_breasted_Chat\",\"013.Bobolink\",\"163.Cape_May_Warbler\",\"106.Horned_Puffin\",\"058.Pigeon_Guillemot\",\"044.Frigatebird\",\"045.Northern_Fulmar\",\"096.Hooded_Oriole\",\"123.Henslow_Sparrow\",\"047.American_Goldfinch\",\"167.Hooded_Warbler\",\"023.Brandt_Cormorant\",\"058.Pigeon_Guillemot\",\"138.Tree_Swallow\",\"117.Clay_colored_Sparrow\",\"100.Brown_Pelican\",\"120.Fox_Sparrow\",\"026.Bronzed_Cowbird\",\"012.Yellow_headed_Blackbird\",\"149.Brown_Thrasher\",\"178.Swainson_Warbler\",\"174.Palm_Warbler\",\"019.Gray_Catbird\",\"099.Ovenbird\",\"013.Bobolink\",\"085.Horned_Lark\",\"104.American_Pipit\",\"105.Whip_poor_Will\",\"147.Least_Tern\",\"017.Cardinal\",\"109.American_Redstart\",\"036.Northern_Flicker\",\"104.American_Pipit\",\"183.Northern_Waterthrush\",\"151.Black_capped_Vireo\",\"026.Bronzed_Cowbird\",\"132.White_crowned_Sparrow\",\"158.Bay_breasted_Warbler\",\"114.Black_throated_Sparrow\",\"117.Clay_colored_Sparrow\",\"167.Hooded_Warbler\",\"111.Loggerhead_Shrike\",\"040.Olive_sided_Flycatcher\",\"102.Western_Wood_Pewee\",\"199.Winter_Wren\",\"195.Carolina_Wren\",\"167.Hooded_Warbler\",\"013.Bobolink\",\"042.Vermilion_Flycatcher\",\"003.Sooty_Albatross\",\"124.Le_Conte_Sparrow\",\"166.Golden_winged_Warbler\",\"006.Least_Auklet\",\"043.Yellow_bellied_Flycatcher\",\"166.Golden_winged_Warbler\",\"009.Brewer_Blackbird\",\"120.Fox_Sparrow\",\"108.White_necked_Raven\",\"052.Pied_billed_Grebe\",\"187.American_Three_toed_Woodpecker\",\"120.Fox_Sparrow\",\"028.Brown_Creeper\",\"136.Barn_Swallow\",\"157.Yellow_throated_Vireo\",\"020.Yellow_breasted_Chat\",\"052.Pied_billed_Grebe\",\"168.Kentucky_Warbler\",\"042.Vermilion_Flycatcher\",\"133.White_throated_Sparrow\",\"143.Caspian_Tern\",\"032.Mangrove_Cuckoo\",\"093.Clark_Nutcracker\",\"027.Shiny_Cowbird\",\"066.Western_Gull\",\"083.White_breasted_Kingfisher\",\"170.Mourning_Warbler\",\"200.Common_Yellowthroat\",\"007.Parakeet_Auklet\",\"014.Indigo_Bunting\",\"100.Brown_Pelican\",\"071.Long_tailed_Jaeger\",\"150.Sage_Thrasher\",\"196.House_Wren\",\"083.White_breasted_Kingfisher\",\"043.Yellow_bellied_Flycatcher\",\"048.European_Goldfinch\",\"153.Philadelphia_Vireo\",\"162.Canada_Warbler\",\"101.White_Pelican\",\"013.Bobolink\",\"101.White_Pelican\",\"074.Florida_Jay\",\"083.White_breasted_Kingfisher\",\"158.Bay_breasted_Warbler\",\"196.House_Wren\",\"068.Ruby_throated_Hummingbird\",\"133.White_throated_Sparrow\",\"196.House_Wren\",\"071.Long_tailed_Jaeger\",\"163.Cape_May_Warbler\",\"132.White_crowned_Sparrow\",\"200.Common_Yellowthroat\",\"150.Sage_Thrasher\",\"035.Purple_Finch\",\"004.Groove_billed_Ani\",\"082.Ringed_Kingfisher\",\"051.Horned_Grebe\",\"087.Mallard\",\"037.Acadian_Flycatcher\",\"032.Mangrove_Cuckoo\",\"019.Gray_Catbird\",\"190.Red_cockaded_Woodpecker\",\"013.Bobolink\",\"175.Pine_Warbler\",\"197.Marsh_Wren\",\"195.Carolina_Wren\",\"137.Cliff_Swallow\",\"093.Clark_Nutcracker\",\"062.Herring_Gull\",\"163.Cape_May_Warbler\",\"103.Sayornis\",\"013.Bobolink\",\"142.Black_Tern\",\"157.Yellow_throated_Vireo\",\"068.Ruby_throated_Hummingbird\",\"172.Nashville_Warbler\",\"064.Ring_billed_Gull\",\"036.Northern_Flicker\",\"010.Red_winged_Blackbird\",\"145.Elegant_Tern\",\"195.Carolina_Wren\",\"048.European_Goldfinch\",\"035.Purple_Finch\",\"093.Clark_Nutcracker\",\"116.Chipping_Sparrow\",\"053.Western_Grebe\",\"130.Tree_Sparrow\",\"121.Grasshopper_Sparrow\",\"061.Heermann_Gull\",\"159.Black_and_white_Warbler\",\"055.Evening_Grosbeak\",\"149.Brown_Thrasher\",\"037.Acadian_Flycatcher\",\"083.White_breasted_Kingfisher\",\"138.Tree_Swallow\",\"056.Pine_Grosbeak\",\"019.Gray_Catbird\",\"144.Common_Tern\",\"099.Ovenbird\",\"112.Great_Grey_Shrike\",\"170.Mourning_Warbler\",\"040.Olive_sided_Flycatcher\",\"097.Orchard_Oriole\",\"076.Dark_eyed_Junco\",\"092.Nighthawk\",\"014.Indigo_Bunting\",\"021.Eastern_Towhee\",\"070.Green_Violetear\",\"190.Red_cockaded_Woodpecker\",\"108.White_necked_Raven\",\"019.Gray_Catbird\",\"071.Long_tailed_Jaeger\",\"039.Least_Flycatcher\",\"107.Common_Raven\",\"018.Spotted_Catbird\",\"021.Eastern_Towhee\",\"116.Chipping_Sparrow\",\"085.Horned_Lark\",\"074.Florida_Jay\",\"131.Vesper_Sparrow\",\"012.Yellow_headed_Blackbird\",\"001.Black_footed_Albatross\",\"190.Red_cockaded_Woodpecker\",\"107.Common_Raven\",\"177.Prothonotary_Warbler\",\"013.Bobolink\",\"046.Gadwall\",\"082.Ringed_Kingfisher\",\"119.Field_Sparrow\",\"020.Yellow_breasted_Chat\",\"147.Least_Tern\",\"133.White_throated_Sparrow\",\"036.Northern_Flicker\",\"193.Bewick_Wren\",\"199.Winter_Wren\",\"050.Eared_Grebe\",\"022.Chuck_will_Widow\",\"022.Chuck_will_Widow\",\"146.Forsters_Tern\",\"082.Ringed_Kingfisher\",\"054.Blue_Grosbeak\",\"076.Dark_eyed_Junco\",\"111.Loggerhead_Shrike\",\"027.Shiny_Cowbird\",\"023.Brandt_Cormorant\",\"064.Ring_billed_Gull\",\"009.Brewer_Blackbird\",\"051.Horned_Grebe\",\"124.Le_Conte_Sparrow\",\"052.Pied_billed_Grebe\",\"148.Green_tailed_Towhee\",\"100.Brown_Pelican\",\"003.Sooty_Albatross\",\"164.Cerulean_Warbler\",\"055.Evening_Grosbeak\",\"116.Chipping_Sparrow\",\"022.Chuck_will_Widow\",\"021.Eastern_Towhee\",\"107.Common_Raven\",\"122.Harris_Sparrow\",\"181.Worm_eating_Warbler\",\"159.Black_and_white_Warbler\",\"187.American_Three_toed_Woodpecker\",\"120.Fox_Sparrow\",\"122.Harris_Sparrow\",\"008.Rhinoceros_Auklet\",\"030.Fish_Crow\",\"004.Groove_billed_Ani\",\"175.Pine_Warbler\",\"035.Purple_Finch\",\"046.Gadwall\",\"179.Tennessee_Warbler\",\"155.Warbling_Vireo\",\"121.Grasshopper_Sparrow\",\"094.White_breasted_Nuthatch\",\"174.Palm_Warbler\",\"022.Chuck_will_Widow\",\"189.Red_bellied_Woodpecker\",\"051.Horned_Grebe\",\"024.Red_faced_Cormorant\",\"146.Forsters_Tern\",\"112.Great_Grey_Shrike\",\"083.White_breasted_Kingfisher\",\"194.Cactus_Wren\",\"091.Mockingbird\",\"180.Wilson_Warbler\",\"040.Olive_sided_Flycatcher\",\"038.Great_Crested_Flycatcher\",\"042.Vermilion_Flycatcher\",\"075.Green_Jay\",\"189.Red_bellied_Woodpecker\",\"137.Cliff_Swallow\",\"110.Geococcyx\",\"038.Great_Crested_Flycatcher\",\"007.Parakeet_Auklet\",\"112.Great_Grey_Shrike\",\"176.Prairie_Warbler\",\"054.Blue_Grosbeak\",\"110.Geococcyx\",\"158.Bay_breasted_Warbler\",\"176.Prairie_Warbler\",\"003.Sooty_Albatross\",\"032.Mangrove_Cuckoo\",\"105.Whip_poor_Will\",\"088.Western_Meadowlark\",\"115.Brewer_Sparrow\",\"112.Great_Grey_Shrike\",\"140.Summer_Tanager\",\"190.Red_cockaded_Woodpecker\",\"072.Pomarine_Jaeger\",\"180.Wilson_Warbler\",\"109.American_Redstart\",\"129.Song_Sparrow\",\"002.Laysan_Albatross\",\"188.Pileated_Woodpecker\",\"189.Red_bellied_Woodpecker\",\"057.Rose_breasted_Grosbeak\",\"179.Tennessee_Warbler\",\"089.Hooded_Merganser\",\"158.Bay_breasted_Warbler\",\"142.Black_Tern\",\"132.White_crowned_Sparrow\",\"122.Harris_Sparrow\",\"173.Orange_crowned_Warbler\",\"138.Tree_Swallow\",\"040.Olive_sided_Flycatcher\",\"106.Horned_Puffin\",\"144.Common_Tern\",\"008.Rhinoceros_Auklet\",\"103.Sayornis\",\"090.Red_breasted_Merganser\",\"172.Nashville_Warbler\",\"008.Rhinoceros_Auklet\",\"120.Fox_Sparrow\",\"187.American_Three_toed_Woodpecker\",\"127.Savannah_Sparrow\",\"120.Fox_Sparrow\",\"154.Red_eyed_Vireo\",\"118.House_Sparrow\",\"048.European_Goldfinch\",\"008.Rhinoceros_Auklet\",\"067.Anna_Hummingbird\",\"124.Le_Conte_Sparrow\",\"072.Pomarine_Jaeger\",\"014.Indigo_Bunting\",\"162.Canada_Warbler\",\"017.Cardinal\",\"093.Clark_Nutcracker\",\"124.Le_Conte_Sparrow\",\"132.White_crowned_Sparrow\",\"041.Scissor_tailed_Flycatcher\",\"069.Rufous_Hummingbird\",\"183.Northern_Waterthrush\",\"116.Chipping_Sparrow\",\"100.Brown_Pelican\",\"034.Gray_crowned_Rosy_Finch\",\"193.Bewick_Wren\",\"058.Pigeon_Guillemot\",\"160.Black_throated_Blue_Warbler\",\"049.Boat_tailed_Grackle\",\"075.Green_Jay\",\"054.Blue_Grosbeak\",\"147.Least_Tern\",\"168.Kentucky_Warbler\",\"131.Vesper_Sparrow\",\"185.Bohemian_Waxwing\",\"029.American_Crow\",\"150.Sage_Thrasher\",\"200.Common_Yellowthroat\",\"095.Baltimore_Oriole\",\"147.Least_Tern\",\"130.Tree_Sparrow\",\"085.Horned_Lark\",\"154.Red_eyed_Vireo\",\"150.Sage_Thrasher\",\"122.Harris_Sparrow\",\"196.House_Wren\",\"002.Laysan_Albatross\",\"181.Worm_eating_Warbler\",\"002.Laysan_Albatross\",\"175.Pine_Warbler\",\"143.Caspian_Tern\",\"093.Clark_Nutcracker\",\"189.Red_bellied_Woodpecker\",\"189.Red_bellied_Woodpecker\",\"153.Philadelphia_Vireo\",\"159.Black_and_white_Warbler\",\"053.Western_Grebe\",\"182.Yellow_Warbler\",\"085.Horned_Lark\",\"082.Ringed_Kingfisher\",\"115.Brewer_Sparrow\",\"151.Black_capped_Vireo\",\"065.Slaty_backed_Gull\",\"167.Hooded_Warbler\",\"170.Mourning_Warbler\",\"083.White_breasted_Kingfisher\",\"198.Rock_Wren\",\"146.Forsters_Tern\",\"056.Pine_Grosbeak\",\"187.American_Three_toed_Woodpecker\",\"117.Clay_colored_Sparrow\",\"095.Baltimore_Oriole\",\"097.Orchard_Oriole\",\"181.Worm_eating_Warbler\",\"100.Brown_Pelican\",\"129.Song_Sparrow\",\"188.Pileated_Woodpecker\",\"174.Palm_Warbler\",\"048.European_Goldfinch\",\"143.Caspian_Tern\",\"131.Vesper_Sparrow\",\"033.Yellow_billed_Cuckoo\",\"163.Cape_May_Warbler\",\"091.Mockingbird\",\"013.Bobolink\",\"190.Red_cockaded_Woodpecker\",\"149.Brown_Thrasher\",\"116.Chipping_Sparrow\",\"133.White_throated_Sparrow\",\"192.Downy_Woodpecker\",\"122.Harris_Sparrow\",\"002.Laysan_Albatross\",\"027.Shiny_Cowbird\",\"065.Slaty_backed_Gull\",\"102.Western_Wood_Pewee\",\"197.Marsh_Wren\",\"182.Yellow_Warbler\",\"069.Rufous_Hummingbird\",\"122.Harris_Sparrow\",\"194.Cactus_Wren\",\"040.Olive_sided_Flycatcher\",\"178.Swainson_Warbler\",\"037.Acadian_Flycatcher\",\"093.Clark_Nutcracker\",\"065.Slaty_backed_Gull\",\"163.Cape_May_Warbler\",\"025.Pelagic_Cormorant\",\"171.Myrtle_Warbler\",\"181.Worm_eating_Warbler\",\"088.Western_Meadowlark\",\"007.Parakeet_Auklet\",\"139.Scarlet_Tanager\",\"039.Least_Flycatcher\",\"180.Wilson_Warbler\",\"017.Cardinal\",\"075.Green_Jay\",\"152.Blue_headed_Vireo\",\"165.Chestnut_sided_Warbler\",\"053.Western_Grebe\",\"200.Common_Yellowthroat\",\"033.Yellow_billed_Cuckoo\",\"185.Bohemian_Waxwing\",\"163.Cape_May_Warbler\",\"128.Seaside_Sparrow\",\"092.Nighthawk\",\"142.Black_Tern\",\"016.Painted_Bunting\",\"110.Geococcyx\",\"001.Black_footed_Albatross\",\"066.Western_Gull\",\"002.Laysan_Albatross\",\"013.Bobolink\",\"066.Western_Gull\",\"045.Northern_Fulmar\",\"066.Western_Gull\",\"116.Chipping_Sparrow\",\"131.Vesper_Sparrow\",\"079.Belted_Kingfisher\",\"151.Black_capped_Vireo\",\"136.Barn_Swallow\",\"168.Kentucky_Warbler\",\"170.Mourning_Warbler\",\"200.Common_Yellowthroat\",\"148.Green_tailed_Towhee\",\"024.Red_faced_Cormorant\",\"191.Red_headed_Woodpecker\",\"095.Baltimore_Oriole\",\"003.Sooty_Albatross\",\"149.Brown_Thrasher\",\"091.Mockingbird\",\"161.Blue_winged_Warbler\",\"179.Tennessee_Warbler\",\"034.Gray_crowned_Rosy_Finch\",\"050.Eared_Grebe\",\"083.White_breasted_Kingfisher\",\"124.Le_Conte_Sparrow\",\"120.Fox_Sparrow\",\"056.Pine_Grosbeak\",\"039.Least_Flycatcher\",\"093.Clark_Nutcracker\",\"163.Cape_May_Warbler\",\"079.Belted_Kingfisher\",\"090.Red_breasted_Merganser\",\"170.Mourning_Warbler\",\"078.Gray_Kingbird\",\"033.Yellow_billed_Cuckoo\",\"158.Bay_breasted_Warbler\",\"031.Black_billed_Cuckoo\",\"196.House_Wren\",\"134.Cape_Glossy_Starling\",\"200.Common_Yellowthroat\",\"184.Louisiana_Waterthrush\",\"135.Bank_Swallow\",\"108.White_necked_Raven\",\"154.Red_eyed_Vireo\",\"079.Belted_Kingfisher\",\"039.Least_Flycatcher\",\"127.Savannah_Sparrow\",\"073.Blue_Jay\",\"082.Ringed_Kingfisher\",\"120.Fox_Sparrow\",\"145.Elegant_Tern\",\"125.Lincoln_Sparrow\",\"143.Caspian_Tern\",\"131.Vesper_Sparrow\",\"108.White_necked_Raven\",\"196.House_Wren\",\"083.White_breasted_Kingfisher\",\"136.Barn_Swallow\",\"070.Green_Violetear\",\"014.Indigo_Bunting\",\"042.Vermilion_Flycatcher\",\"024.Red_faced_Cormorant\",\"197.Marsh_Wren\",\"119.Field_Sparrow\",\"166.Golden_winged_Warbler\",\"132.White_crowned_Sparrow\",\"014.Indigo_Bunting\",\"130.Tree_Sparrow\",\"198.Rock_Wren\",\"082.Ringed_Kingfisher\",\"065.Slaty_backed_Gull\",\"071.Long_tailed_Jaeger\",\"061.Heermann_Gull\",\"058.Pigeon_Guillemot\",\"106.Horned_Puffin\",\"017.Cardinal\",\"051.Horned_Grebe\",\"017.Cardinal\",\"114.Black_throated_Sparrow\",\"078.Gray_Kingbird\",\"142.Black_Tern\",\"186.Cedar_Waxwing\",\"143.Caspian_Tern\",\"032.Mangrove_Cuckoo\",\"166.Golden_winged_Warbler\",\"185.Bohemian_Waxwing\",\"189.Red_bellied_Woodpecker\",\"132.White_crowned_Sparrow\",\"066.Western_Gull\",\"053.Western_Grebe\",\"078.Gray_Kingbird\",\"053.Western_Grebe\",\"113.Baird_Sparrow\",\"119.Field_Sparrow\",\"030.Fish_Crow\",\"181.Worm_eating_Warbler\",\"151.Black_capped_Vireo\",\"167.Hooded_Warbler\",\"126.Nelson_Sharp_tailed_Sparrow\",\"182.Yellow_Warbler\",\"036.Northern_Flicker\",\"180.Wilson_Warbler\",\"150.Sage_Thrasher\",\"063.Ivory_Gull\",\"069.Rufous_Hummingbird\",\"050.Eared_Grebe\",\"092.Nighthawk\",\"031.Black_billed_Cuckoo\",\"114.Black_throated_Sparrow\",\"067.Anna_Hummingbird\",\"176.Prairie_Warbler\",\"043.Yellow_bellied_Flycatcher\",\"104.American_Pipit\",\"128.Seaside_Sparrow\",\"120.Fox_Sparrow\",\"024.Red_faced_Cormorant\",\"079.Belted_Kingfisher\",\"056.Pine_Grosbeak\",\"054.Blue_Grosbeak\",\"050.Eared_Grebe\",\"028.Brown_Creeper\",\"200.Common_Yellowthroat\",\"168.Kentucky_Warbler\",\"062.Herring_Gull\",\"066.Western_Gull\",\"122.Harris_Sparrow\",\"147.Least_Tern\",\"187.American_Three_toed_Woodpecker\",\"095.Baltimore_Oriole\",\"108.White_necked_Raven\",\"178.Swainson_Warbler\",\"009.Brewer_Blackbird\",\"049.Boat_tailed_Grackle\",\"134.Cape_Glossy_Starling\",\"014.Indigo_Bunting\",\"151.Black_capped_Vireo\",\"120.Fox_Sparrow\",\"126.Nelson_Sharp_tailed_Sparrow\",\"106.Horned_Puffin\",\"186.Cedar_Waxwing\",\"033.Yellow_billed_Cuckoo\",\"178.Swainson_Warbler\",\"186.Cedar_Waxwing\",\"050.Eared_Grebe\",\"064.Ring_billed_Gull\",\"192.Downy_Woodpecker\",\"155.Warbling_Vireo\",\"006.Least_Auklet\",\"155.Warbling_Vireo\",\"198.Rock_Wren\",\"097.Orchard_Oriole\",\"192.Downy_Woodpecker\",\"003.Sooty_Albatross\",\"080.Green_Kingfisher\",\"143.Caspian_Tern\",\"010.Red_winged_Blackbird\",\"139.Scarlet_Tanager\",\"103.Sayornis\",\"006.Least_Auklet\",\"055.Evening_Grosbeak\",\"019.Gray_Catbird\",\"184.Louisiana_Waterthrush\",\"187.American_Three_toed_Woodpecker\",\"029.American_Crow\",\"099.Ovenbird\",\"103.Sayornis\",\"049.Boat_tailed_Grackle\",\"042.Vermilion_Flycatcher\",\"161.Blue_winged_Warbler\",\"115.Brewer_Sparrow\",\"001.Black_footed_Albatross\",\"172.Nashville_Warbler\",\"102.Western_Wood_Pewee\",\"195.Carolina_Wren\",\"064.Ring_billed_Gull\",\"002.Laysan_Albatross\",\"096.Hooded_Oriole\",\"076.Dark_eyed_Junco\",\"062.Herring_Gull\",\"013.Bobolink\",\"034.Gray_crowned_Rosy_Finch\",\"098.Scott_Oriole\",\"138.Tree_Swallow\",\"041.Scissor_tailed_Flycatcher\",\"048.European_Goldfinch\",\"084.Red_legged_Kittiwake\",\"059.California_Gull\",\"182.Yellow_Warbler\",\"146.Forsters_Tern\",\"010.Red_winged_Blackbird\",\"168.Kentucky_Warbler\",\"136.Barn_Swallow\",\"170.Mourning_Warbler\",\"015.Lazuli_Bunting\",\"109.American_Redstart\",\"139.Scarlet_Tanager\",\"123.Henslow_Sparrow\",\"135.Bank_Swallow\",\"177.Prothonotary_Warbler\",\"127.Savannah_Sparrow\",\"083.White_breasted_Kingfisher\",\"172.Nashville_Warbler\",\"172.Nashville_Warbler\",\"134.Cape_Glossy_Starling\",\"040.Olive_sided_Flycatcher\",\"001.Black_footed_Albatross\",\"165.Chestnut_sided_Warbler\",\"090.Red_breasted_Merganser\",\"189.Red_bellied_Woodpecker\",\"035.Purple_Finch\",\"155.Warbling_Vireo\",\"137.Cliff_Swallow\",\"164.Cerulean_Warbler\",\"191.Red_headed_Woodpecker\",\"146.Forsters_Tern\",\"080.Green_Kingfisher\",\"015.Lazuli_Bunting\",\"058.Pigeon_Guillemot\",\"169.Magnolia_Warbler\",\"124.Le_Conte_Sparrow\",\"080.Green_Kingfisher\",\"152.Blue_headed_Vireo\",\"108.White_necked_Raven\",\"151.Black_capped_Vireo\",\"059.California_Gull\",\"018.Spotted_Catbird\",\"027.Shiny_Cowbird\",\"039.Least_Flycatcher\",\"181.Worm_eating_Warbler\",\"189.Red_bellied_Woodpecker\",\"150.Sage_Thrasher\",\"155.Warbling_Vireo\",\"016.Painted_Bunting\",\"087.Mallard\",\"080.Green_Kingfisher\",\"085.Horned_Lark\",\"160.Black_throated_Blue_Warbler\",\"074.Florida_Jay\",\"064.Ring_billed_Gull\",\"055.Evening_Grosbeak\",\"100.Brown_Pelican\",\"179.Tennessee_Warbler\",\"102.Western_Wood_Pewee\",\"135.Bank_Swallow\",\"143.Caspian_Tern\",\"118.House_Sparrow\",\"026.Bronzed_Cowbird\",\"129.Song_Sparrow\",\"119.Field_Sparrow\",\"040.Olive_sided_Flycatcher\",\"039.Least_Flycatcher\",\"164.Cerulean_Warbler\",\"075.Green_Jay\",\"174.Palm_Warbler\",\"038.Great_Crested_Flycatcher\",\"191.Red_headed_Woodpecker\",\"162.Canada_Warbler\",\"185.Bohemian_Waxwing\",\"138.Tree_Swallow\",\"107.Common_Raven\",\"125.Lincoln_Sparrow\",\"064.Ring_billed_Gull\",\"127.Savannah_Sparrow\",\"157.Yellow_throated_Vireo\",\"037.Acadian_Flycatcher\",\"174.Palm_Warbler\",\"028.Brown_Creeper\",\"148.Green_tailed_Towhee\",\"025.Pelagic_Cormorant\",\"139.Scarlet_Tanager\",\"119.Field_Sparrow\",\"154.Red_eyed_Vireo\",\"191.Red_headed_Woodpecker\",\"063.Ivory_Gull\",\"104.American_Pipit\",\"050.Eared_Grebe\",\"147.Least_Tern\",\"003.Sooty_Albatross\",\"200.Common_Yellowthroat\",\"190.Red_cockaded_Woodpecker\",\"183.Northern_Waterthrush\",\"104.American_Pipit\",\"115.Brewer_Sparrow\",\"176.Prairie_Warbler\",\"028.Brown_Creeper\",\"143.Caspian_Tern\",\"190.Red_cockaded_Woodpecker\",\"163.Cape_May_Warbler\",\"007.Parakeet_Auklet\",\"096.Hooded_Oriole\",\"061.Heermann_Gull\",\"186.Cedar_Waxwing\",\"043.Yellow_bellied_Flycatcher\",\"013.Bobolink\",\"007.Parakeet_Auklet\",\"104.American_Pipit\",\"161.Blue_winged_Warbler\",\"060.Glaucous_winged_Gull\",\"051.Horned_Grebe\",\"017.Cardinal\",\"127.Savannah_Sparrow\",\"183.Northern_Waterthrush\",\"170.Mourning_Warbler\",\"042.Vermilion_Flycatcher\",\"110.Geococcyx\",\"008.Rhinoceros_Auklet\",\"034.Gray_crowned_Rosy_Finch\",\"033.Yellow_billed_Cuckoo\",\"044.Frigatebird\",\"031.Black_billed_Cuckoo\",\"017.Cardinal\",\"121.Grasshopper_Sparrow\",\"027.Shiny_Cowbird\",\"127.Savannah_Sparrow\",\"020.Yellow_breasted_Chat\",\"107.Common_Raven\",\"083.White_breasted_Kingfisher\",\"157.Yellow_throated_Vireo\",\"075.Green_Jay\",\"129.Song_Sparrow\",\"060.Glaucous_winged_Gull\",\"061.Heermann_Gull\",\"028.Brown_Creeper\",\"170.Mourning_Warbler\",\"116.Chipping_Sparrow\",\"200.Common_Yellowthroat\",\"117.Clay_colored_Sparrow\",\"197.Marsh_Wren\",\"186.Cedar_Waxwing\",\"101.White_Pelican\",\"029.American_Crow\",\"111.Loggerhead_Shrike\",\"006.Least_Auklet\",\"050.Eared_Grebe\",\"167.Hooded_Warbler\",\"098.Scott_Oriole\",\"009.Brewer_Blackbird\",\"013.Bobolink\",\"023.Brandt_Cormorant\",\"123.Henslow_Sparrow\",\"151.Black_capped_Vireo\",\"064.Ring_billed_Gull\",\"019.Gray_Catbird\",\"151.Black_capped_Vireo\",\"094.White_breasted_Nuthatch\",\"169.Magnolia_Warbler\",\"100.Brown_Pelican\",\"149.Brown_Thrasher\",\"011.Rusty_Blackbird\",\"176.Prairie_Warbler\",\"028.Brown_Creeper\",\"122.Harris_Sparrow\",\"163.Cape_May_Warbler\",\"028.Brown_Creeper\",\"092.Nighthawk\",\"031.Black_billed_Cuckoo\",\"049.Boat_tailed_Grackle\",\"100.Brown_Pelican\",\"078.Gray_Kingbird\",\"015.Lazuli_Bunting\",\"107.Common_Raven\",\"048.European_Goldfinch\",\"130.Tree_Sparrow\",\"106.Horned_Puffin\",\"129.Song_Sparrow\",\"135.Bank_Swallow\",\"098.Scott_Oriole\",\"118.House_Sparrow\",\"150.Sage_Thrasher\",\"138.Tree_Swallow\",\"180.Wilson_Warbler\",\"051.Horned_Grebe\",\"122.Harris_Sparrow\",\"199.Winter_Wren\",\"109.American_Redstart\",\"114.Black_throated_Sparrow\",\"032.Mangrove_Cuckoo\",\"007.Parakeet_Auklet\",\"177.Prothonotary_Warbler\",\"182.Yellow_Warbler\",\"168.Kentucky_Warbler\",\"097.Orchard_Oriole\",\"142.Black_Tern\",\"137.Cliff_Swallow\",\"136.Barn_Swallow\",\"183.Northern_Waterthrush\",\"073.Blue_Jay\",\"123.Henslow_Sparrow\",\"150.Sage_Thrasher\",\"183.Northern_Waterthrush\",\"032.Mangrove_Cuckoo\",\"130.Tree_Sparrow\",\"170.Mourning_Warbler\",\"095.Baltimore_Oriole\",\"100.Brown_Pelican\",\"159.Black_and_white_Warbler\",\"134.Cape_Glossy_Starling\",\"170.Mourning_Warbler\",\"183.Northern_Waterthrush\",\"122.Harris_Sparrow\",\"092.Nighthawk\",\"002.Laysan_Albatross\",\"007.Parakeet_Auklet\",\"123.Henslow_Sparrow\",\"184.Louisiana_Waterthrush\",\"132.White_crowned_Sparrow\",\"056.Pine_Grosbeak\",\"062.Herring_Gull\",\"062.Herring_Gull\",\"179.Tennessee_Warbler\",\"110.Geococcyx\",\"095.Baltimore_Oriole\",\"129.Song_Sparrow\",\"106.Horned_Puffin\",\"147.Least_Tern\",\"160.Black_throated_Blue_Warbler\",\"032.Mangrove_Cuckoo\",\"008.Rhinoceros_Auklet\",\"082.Ringed_Kingfisher\",\"192.Downy_Woodpecker\",\"170.Mourning_Warbler\",\"152.Blue_headed_Vireo\",\"093.Clark_Nutcracker\",\"037.Acadian_Flycatcher\",\"002.Laysan_Albatross\",\"041.Scissor_tailed_Flycatcher\",\"018.Spotted_Catbird\",\"138.Tree_Swallow\",\"029.American_Crow\",\"169.Magnolia_Warbler\",\"068.Ruby_throated_Hummingbird\",\"043.Yellow_bellied_Flycatcher\",\"104.American_Pipit\",\"197.Marsh_Wren\",\"030.Fish_Crow\",\"176.Prairie_Warbler\",\"073.Blue_Jay\",\"127.Savannah_Sparrow\",\"109.American_Redstart\",\"123.Henslow_Sparrow\",\"087.Mallard\",\"039.Least_Flycatcher\",\"025.Pelagic_Cormorant\",\"191.Red_headed_Woodpecker\",\"126.Nelson_Sharp_tailed_Sparrow\",\"106.Horned_Puffin\",\"085.Horned_Lark\",\"085.Horned_Lark\",\"087.Mallard\",\"122.Harris_Sparrow\",\"025.Pelagic_Cormorant\",\"095.Baltimore_Oriole\",\"123.Henslow_Sparrow\",\"018.Spotted_Catbird\",\"108.White_necked_Raven\",\"068.Ruby_throated_Hummingbird\",\"031.Black_billed_Cuckoo\",\"104.American_Pipit\",\"160.Black_throated_Blue_Warbler\",\"004.Groove_billed_Ani\",\"132.White_crowned_Sparrow\",\"076.Dark_eyed_Junco\",\"100.Brown_Pelican\",\"155.Warbling_Vireo\",\"130.Tree_Sparrow\",\"066.Western_Gull\",\"067.Anna_Hummingbird\",\"061.Heermann_Gull\",\"027.Shiny_Cowbird\",\"073.Blue_Jay\",\"040.Olive_sided_Flycatcher\",\"090.Red_breasted_Merganser\",\"091.Mockingbird\",\"113.Baird_Sparrow\",\"128.Seaside_Sparrow\",\"079.Belted_Kingfisher\",\"067.Anna_Hummingbird\",\"024.Red_faced_Cormorant\",\"153.Philadelphia_Vireo\",\"014.Indigo_Bunting\",\"017.Cardinal\",\"034.Gray_crowned_Rosy_Finch\",\"079.Belted_Kingfisher\",\"125.Lincoln_Sparrow\",\"110.Geococcyx\",\"121.Grasshopper_Sparrow\",\"142.Black_Tern\",\"040.Olive_sided_Flycatcher\",\"001.Black_footed_Albatross\",\"069.Rufous_Hummingbird\",\"017.Cardinal\",\"167.Hooded_Warbler\",\"001.Black_footed_Albatross\",\"064.Ring_billed_Gull\",\"149.Brown_Thrasher\",\"002.Laysan_Albatross\",\"150.Sage_Thrasher\",\"012.Yellow_headed_Blackbird\",\"186.Cedar_Waxwing\",\"022.Chuck_will_Widow\",\"184.Louisiana_Waterthrush\",\"141.Artic_Tern\",\"129.Song_Sparrow\",\"149.Brown_Thrasher\",\"154.Red_eyed_Vireo\",\"176.Prairie_Warbler\",\"135.Bank_Swallow\",\"085.Horned_Lark\",\"094.White_breasted_Nuthatch\",\"031.Black_billed_Cuckoo\",\"132.White_crowned_Sparrow\",\"097.Orchard_Oriole\",\"037.Acadian_Flycatcher\",\"146.Forsters_Tern\"],\"shape\":[9430],\"dtype\":\"object\",\"order\":\"little\"}],[\"alpha\",{\"type\":\"ndarray\",\"array\":{\"type\":\"bytes\",\"data\":\"AQAAAAEAAAABAAAAAQAAAAEAAAABAAAAAQAAAAEAAAABAAAAAQAAAAEAAAABAAAAAQAAAAEAAAABAAAAAQAAAAEAAAABAAAAAQAAAAEAAAABAAAAAQAAAAEAAAABAAAAAQAAAAEAAAABAAAAAQAAAAEAAAABAAAAAQAAAAEAAAABAAAAAQAAAAEAAAABAAAAAQAAAAEAAAABAAAAAQAAAAEAAAABAAAAAQAAAAEAAAABAAAAAQAAAAEAAAABAAAAAQAAAAEAAAABAAAAAQAAAAEAAAABAAAAAQAAAAEAAAABAAAAAQAAAAEAAAABAAAAAQAAAAEAAAABAAAAAQAAAAEAAAABAAAAAQAAAAEAAAABAAAAAQAAAAEAAAABAAAAAQAAAAEAAAABAAAAAQAAAAEAAAABAAAAAQAAAAEAAAABAAAAAQAAAAEAAAABAAAAAQAAAAEAAAABAAAAAQAAAAEAAAABAAAAAQAAAAEAAAABAAAAAQAAAAEAAAABAAAAAQAAAAEAAAABAAAAAQAAAAEAAAABAAAAAQAAAAEAAAABAAAAAQAAAAEAAAABAAAAAQAAAAEAAAABAAAAAQAAAAEAAAABAAAAAQAAAAEAAAABAAAAAQAAAAEAAAABAAAAAQAAAAEAAAABAAAAAQAAAAEAAAABAAAAAQAAAAEAAAABAAAAAQAAAAEAAAABAAAAAQAAAAEAAAABAAAAAQAAAAEAAAABAAAAAQAAAAEAAAABAAAAAQAAAAEAAAABAAAAAQAAAAEAAAABAAAAAQAAAAEAAAABAAAAAQAAAAEAAAABAAAAAQAAAAEAAAABAAAAAQAAAAEAAAABAAAAAQAAAAEAAAABAAAAAQAAAAEAAAABAAAAAQAAAAEAAAABAAAAAQAAAAEAAAABAAAAAQAAAAEAAAABAAAAAQAAAAEAAAABAAAAAQAAAAEAAAABAAAAAQAAAAEAAAABAAAAAQAAAAEAAAABAAAAAQAAAAEAAAABAAAAAQAAAAEAAAABAAAAAQAAAAEAAAABAAAAAQAAAAEAAAABAAAAAQAAAAEAAAABAAAAAQAAAAEAAAABAAAAAQAAAAEAAAABAAAAAQAAAAEAAAABAAAAAQAAAAEAAAABAAAAAQAAAAEAAAABAAAAAQAAAAEAAAABAAAAAQAAAAEAAAABAAAAAQAAAAEAAAABAAAAAQAAAAEAAAABAAAAAQAAAAEAAAABAAAAAQAAAAEAAAABAAAAAQAAAAEAAAABAAAAAQAAAAEAAAABAAAAAQAAAAEAAAABAAAAAQAAAAEAAAABAAAAAQAAAAEAAAABAAAAAQAAAAEAAAABAAAAAQAAAAEAAAABAAAAAQAAAAEAAAABAAAAAQAAAAEAAAABAAAAAQAAAAEAAAABAAAAAQAAAAEAAAABAAAAAQAAAAEAAAABAAAAAQAAAAEAAAABAAAAAQAAAAEAAAABAAAAAQAAAAEAAAABAAAAAQAAAAEAAAABAAAAAQAAAAEAAAABAAAAAQAAAAEAAAABAAAAAQAAAAEAAAABAAAAAQAAAAEAAAABAAAAAQAAAAEAAAABAAAAAQAAAAEAAAABAAAAAQAAAAEAAAABAAAAAQAAAAEAAAABAAAAAQAAAAEAAAABAAAAAQAAAAEAAAABAAAAAQAAAAEAAAABAAAAAQAAAAEAAAABAAAAAQAAAAEAAAABAAAAAQAAAAEAAAABAAAAAQAAAAEAAAABAAAAAQAAAAEAAAABAAAAAQAAAAEAAAABAAAAAQAAAAEAAAABAAAAAQAAAAEAAAABAAAAAQAAAAEAAAABAAAAAQAAAAEAAAABAAAAAQAAAAEAAAABAAAAAQAAAAEAAAABAAAAAQAAAAEAAAABAAAAAQAAAAEAAAABAAAAAQAAAAEAAAABAAAAAQAAAAEAAAABAAAAAQAAAAEAAAABAAAAAQAAAAEAAAABAAAAAQAAAAEAAAABAAAAAQAAAAEAAAABAAAAAQAAAAEAAAABAAAAAQAAAAEAAAABAAAAAQAAAAEAAAABAAAAAQAAAAEAAAABAAAAAQAAAAEAAAABAAAAAQAAAAEAAAABAAAAAQAAAAEAAAABAAAAAQAAAAEAAAABAAAAAQAAAAEAAAABAAAAAQAAAAEAAAABAAAAAQAAAAEAAAABAAAAAQAAAAEAAAABAAAAAQAAAAEAAAABAAAAAQAAAAEAAAABAAAAAQAAAAEAAAABAAAAAQAAAAEAAAABAAAAAQAAAAEAAAABAAAAAQAAAAEAAAABAAAAAQAAAAEAAAABAAAAAQAAAAEAAAABAAAAAQAAAAEAAAABAAAAAQAAAAEAAAABAAAAAQAAAAEAAAABAAAAAQAAAAEAAAABAAAAAQAAAAEAAAABAAAAAQAAAAEAAAABAAAAAQAAAAEAAAABAAAAAQAAAAEAAAABAAAAAQAAAAEAAAABAAAAAQAAAAEAAAABAAAAAQAAAAEAAAABAAAAAQAAAAEAAAABAAAAAQAAAAEAAAABAAAAAQAAAAEAAAABAAAAAQAAAAEAAAABAAAAAQAAAAEAAAABAAAAAQAAAAEAAAABAAAAAQAAAAEAAAABAAAAAQAAAAEAAAABAAAAAQAAAAEAAAABAAAAAQAAAAEAAAABAAAAAQAAAAEAAAABAAAAAQAAAAEAAAABAAAAAQAAAAEAAAABAAAAAQAAAAEAAAABAAAAAQAAAAEAAAABAAAAAQAAAAEAAAABAAAAAQAAAAEAAAABAAAAAQAAAAEAAAABAAAAAQAAAAEAAAABAAAAAQAAAAEAAAABAAAAAQAAAAEAAAABAAAAAQAAAAEAAAABAAAAAQAAAAEAAAABAAAAAQAAAAEAAAABAAAAAQAAAAEAAAABAAAAAQAAAAEAAAABAAAAAQAAAAEAAAABAAAAAQAAAAEAAAABAAAAAQAAAAEAAAABAAAAAQAAAAEAAAABAAAAAQAAAAEAAAABAAAAAQAAAAEAAAABAAAAAQAAAAEAAAABAAAAAQAAAAEAAAABAAAAAQAAAAEAAAABAAAAAQAAAAEAAAABAAAAAQAAAAEAAAABAAAAAQAAAAEAAAABAAAAAQAAAAEAAAABAAAAAQAAAAEAAAABAAAAAQAAAAEAAAABAAAAAQAAAAEAAAABAAAAAQAAAAEAAAABAAAAAQAAAAEAAAABAAAAAQAAAAEAAAABAAAAAQAAAAEAAAABAAAAAQAAAAEAAAABAAAAAQAAAAEAAAABAAAAAQAAAAEAAAABAAAAAQAAAAEAAAABAAAAAQAAAAEAAAABAAAAAQAAAAEAAAABAAAAAQAAAAEAAAABAAAAAQAAAAEAAAABAAAAAQAAAAEAAAABAAAAAQAAAAEAAAABAAAAAQAAAAEAAAABAAAAAQAAAAEAAAABAAAAAQAAAAEAAAABAAAAAQAAAAEAAAABAAAAAQAAAAEAAAABAAAAAQAAAAEAAAABAAAAAQAAAAEAAAABAAAAAQAAAAEAAAABAAAAAQAAAAEAAAABAAAAAQAAAAEAAAABAAAAAQAAAAEAAAABAAAAAQAAAAEAAAABAAAAAQAAAAEAAAABAAAAAQAAAAEAAAABAAAAAQAAAAEAAAABAAAAAQAAAAEAAAABAAAAAQAAAAEAAAABAAAAAQAAAAEAAAABAAAAAQAAAAEAAAABAAAAAQAAAAEAAAABAAAAAQAAAAEAAAABAAAAAQAAAAEAAAABAAAAAQAAAAEAAAABAAAAAQAAAAEAAAABAAAAAQAAAAEAAAABAAAAAQAAAAEAAAABAAAAAQAAAAEAAAABAAAAAQAAAAEAAAABAAAAAQAAAAEAAAABAAAAAQAAAAEAAAABAAAAAQAAAAEAAAABAAAAAQAAAAEAAAABAAAAAQAAAAEAAAABAAAAAQAAAAEAAAABAAAAAQAAAAEAAAABAAAAAQAAAAEAAAABAAAAAQAAAAEAAAABAAAAAQAAAAEAAAABAAAAAQAAAAEAAAABAAAAAQAAAAEAAAABAAAAAQAAAAEAAAABAAAAAQAAAAEAAAABAAAAAQAAAAEAAAABAAAAAQAAAAEAAAABAAAAAQAAAAEAAAABAAAAAQAAAAEAAAABAAAAAQAAAAEAAAABAAAAAQAAAAEAAAABAAAAAQAAAAEAAAABAAAAAQAAAAEAAAABAAAAAQAAAAEAAAABAAAAAQAAAAEAAAABAAAAAQAAAAEAAAABAAAAAQAAAAEAAAABAAAAAQAAAAEAAAABAAAAAQAAAAEAAAABAAAAAQAAAAEAAAABAAAAAQAAAAEAAAABAAAAAQAAAAEAAAABAAAAAQAAAAEAAAABAAAAAQAAAAEAAAABAAAAAQAAAAEAAAABAAAAAQAAAAEAAAABAAAAAQAAAAEAAAABAAAAAQAAAAEAAAABAAAAAQAAAAEAAAABAAAAAQAAAAEAAAABAAAAAQAAAAEAAAABAAAAAQAAAAEAAAABAAAAAQAAAAEAAAABAAAAAQAAAAEAAAABAAAAAQAAAAEAAAABAAAAAQAAAAEAAAABAAAAAQAAAAEAAAABAAAAAQAAAAEAAAABAAAAAQAAAAEAAAABAAAAAQAAAAEAAAABAAAAAQAAAAEAAAABAAAAAQAAAAEAAAABAAAAAQAAAAEAAAABAAAAAQAAAAEAAAABAAAAAQAAAAEAAAABAAAAAQAAAAEAAAABAAAAAQAAAAEAAAABAAAAAQAAAAEAAAABAAAAAQAAAAEAAAABAAAAAQAAAAEAAAABAAAAAQAAAAEAAAABAAAAAQAAAAEAAAABAAAAAQAAAAEAAAABAAAAAQAAAAEAAAABAAAAAQAAAAEAAAABAAAAAQAAAAEAAAABAAAAAQAAAAEAAAABAAAAAQAAAAEAAAABAAAAAQAAAAEAAAABAAAAAQAAAAEAAAABAAAAAQAAAAEAAAABAAAAAQAAAAEAAAABAAAAAQAAAAEAAAABAAAAAQAAAAEAAAABAAAAAQAAAAEAAAABAAAAAQAAAAEAAAABAAAAAQAAAAEAAAABAAAAAQAAAAEAAAABAAAAAQAAAAEAAAABAAAAAQAAAAEAAAABAAAAAQAAAAEAAAABAAAAAQAAAAEAAAABAAAAAQAAAAEAAAABAAAAAQAAAAEAAAABAAAAAQAAAAEAAAABAAAAAQAAAAEAAAABAAAAAQAAAAEAAAABAAAAAQAAAAEAAAABAAAAAQAAAAEAAAABAAAAAQAAAAEAAAABAAAAAQAAAAEAAAABAAAAAQAAAAEAAAABAAAAAQAAAAEAAAABAAAAAQAAAAEAAAABAAAAAQAAAAEAAAABAAAAAQAAAAEAAAABAAAAAQAAAAEAAAABAAAAAQAAAAEAAAABAAAAAQAAAAEAAAABAAAAAQAAAAEAAAABAAAAAQAAAAEAAAABAAAAAQAAAAEAAAABAAAAAQAAAAEAAAABAAAAAQAAAAEAAAABAAAAAQAAAAEAAAABAAAAAQAAAAEAAAABAAAAAQAAAAEAAAABAAAAAQAAAAEAAAABAAAAAQAAAAEAAAABAAAAAQAAAAEAAAABAAAAAQAAAAEAAAABAAAAAQAAAAEAAAABAAAAAQAAAAEAAAABAAAAAQAAAAEAAAABAAAAAQAAAAEAAAABAAAAAQAAAAEAAAABAAAAAQAAAAEAAAABAAAAAQAAAAEAAAABAAAAAQAAAAEAAAABAAAAAQAAAAEAAAABAAAAAQAAAAEAAAABAAAAAQAAAAEAAAABAAAAAQAAAAEAAAABAAAAAQAAAAEAAAABAAAAAQAAAAEAAAABAAAAAQAAAAEAAAABAAAAAQAAAAEAAAABAAAAAQAAAAEAAAABAAAAAQAAAAEAAAABAAAAAQAAAAEAAAABAAAAAQAAAAEAAAABAAAAAQAAAAEAAAABAAAAAQAAAAEAAAABAAAAAQAAAAEAAAABAAAAAQAAAAEAAAABAAAAAQAAAAEAAAABAAAAAQAAAAEAAAABAAAAAQAAAAEAAAABAAAAAQAAAAEAAAABAAAAAQAAAAEAAAABAAAAAQAAAAEAAAABAAAAAQAAAAEAAAABAAAAAQAAAAEAAAABAAAAAQAAAAEAAAABAAAAAQAAAAEAAAABAAAAAQAAAAEAAAABAAAAAQAAAAEAAAABAAAAAQAAAAEAAAABAAAAAQAAAAEAAAABAAAAAQAAAAEAAAABAAAAAQAAAAEAAAABAAAAAQAAAAEAAAABAAAAAQAAAAEAAAABAAAAAQAAAAEAAAABAAAAAQAAAAEAAAABAAAAAQAAAAEAAAABAAAAAQAAAAEAAAABAAAAAQAAAAEAAAABAAAAAQAAAAEAAAABAAAAAQAAAAEAAAABAAAAAQAAAAEAAAABAAAAAQAAAAEAAAABAAAAAQAAAAEAAAABAAAAAQAAAAEAAAABAAAAAQAAAAEAAAABAAAAAQAAAAEAAAABAAAAAQAAAAEAAAABAAAAAQAAAAEAAAABAAAAAQAAAAEAAAABAAAAAQAAAAEAAAABAAAAAQAAAAEAAAABAAAAAQAAAAEAAAABAAAAAQAAAAEAAAABAAAAAQAAAAEAAAABAAAAAQAAAAEAAAABAAAAAQAAAAEAAAABAAAAAQAAAAEAAAABAAAAAQAAAAEAAAABAAAAAQAAAAEAAAABAAAAAQAAAAEAAAABAAAAAQAAAAEAAAABAAAAAQAAAAEAAAABAAAAAQAAAAEAAAABAAAAAQAAAAEAAAABAAAAAQAAAAEAAAABAAAAAQAAAAEAAAABAAAAAQAAAAEAAAABAAAAAQAAAAEAAAABAAAAAQAAAAEAAAABAAAAAQAAAAEAAAABAAAAAQAAAAEAAAABAAAAAQAAAAEAAAABAAAAAQAAAAEAAAABAAAAAQAAAAEAAAABAAAAAQAAAAEAAAABAAAAAQAAAAEAAAABAAAAAQAAAAEAAAABAAAAAQAAAAEAAAABAAAAAQAAAAEAAAABAAAAAQAAAAEAAAABAAAAAQAAAAEAAAABAAAAAQAAAAEAAAABAAAAAQAAAAEAAAABAAAAAQAAAAEAAAABAAAAAQAAAAEAAAABAAAAAQAAAAEAAAABAAAAAQAAAAEAAAABAAAAAQAAAAEAAAABAAAAAQAAAAEAAAABAAAAAQAAAAEAAAABAAAAAQAAAAEAAAABAAAAAQAAAAEAAAABAAAAAQAAAAEAAAABAAAAAQAAAAEAAAABAAAAAQAAAAEAAAABAAAAAQAAAAEAAAABAAAAAQAAAAEAAAABAAAAAQAAAAEAAAABAAAAAQAAAAEAAAABAAAAAQAAAAEAAAABAAAAAQAAAAEAAAABAAAAAQAAAAEAAAABAAAAAQAAAAEAAAABAAAAAQAAAAEAAAABAAAAAQAAAAEAAAABAAAAAQAAAAEAAAABAAAAAQAAAAEAAAABAAAAAQAAAAEAAAABAAAAAQAAAAEAAAABAAAAAQAAAAEAAAABAAAAAQAAAAEAAAABAAAAAQAAAAEAAAABAAAAAQAAAAEAAAABAAAAAQAAAAEAAAABAAAAAQAAAAEAAAABAAAAAQAAAAEAAAABAAAAAQAAAAEAAAABAAAAAQAAAAEAAAABAAAAAQAAAAEAAAABAAAAAQAAAAEAAAABAAAAAQAAAAEAAAABAAAAAQAAAAEAAAABAAAAAQAAAAEAAAABAAAAAQAAAAEAAAABAAAAAQAAAAEAAAABAAAAAQAAAAEAAAABAAAAAQAAAAEAAAABAAAAAQAAAAEAAAABAAAAAQAAAAEAAAABAAAAAQAAAAEAAAABAAAAAQAAAAEAAAABAAAAAQAAAAEAAAABAAAAAQAAAAEAAAABAAAAAQAAAAEAAAABAAAAAQAAAAEAAAABAAAAAQAAAAEAAAABAAAAAQAAAAEAAAABAAAAAQAAAAEAAAABAAAAAQAAAAEAAAABAAAAAQAAAAEAAAABAAAAAQAAAAEAAAABAAAAAQAAAAEAAAABAAAAAQAAAAEAAAABAAAAAQAAAAEAAAABAAAAAQAAAAEAAAABAAAAAQAAAAEAAAABAAAAAQAAAAEAAAABAAAAAQAAAAEAAAABAAAAAQAAAAEAAAABAAAAAQAAAAEAAAABAAAAAQAAAAEAAAABAAAAAQAAAAEAAAABAAAAAQAAAAEAAAABAAAAAQAAAAEAAAABAAAAAQAAAAEAAAABAAAAAQAAAAEAAAABAAAAAQAAAAEAAAABAAAAAQAAAAEAAAABAAAAAQAAAAEAAAABAAAAAQAAAAEAAAABAAAAAQAAAAEAAAABAAAAAQAAAAEAAAABAAAAAQAAAAEAAAABAAAAAQAAAAEAAAABAAAAAQAAAAEAAAABAAAAAQAAAAEAAAABAAAAAQAAAAEAAAABAAAAAQAAAAEAAAABAAAAAQAAAAEAAAABAAAAAQAAAAEAAAABAAAAAQAAAAEAAAABAAAAAQAAAAEAAAABAAAAAQAAAAEAAAABAAAAAQAAAAEAAAABAAAAAQAAAAEAAAABAAAAAQAAAAEAAAABAAAAAQAAAAEAAAABAAAAAQAAAAEAAAABAAAAAQAAAAEAAAABAAAAAQAAAAEAAAABAAAAAQAAAAEAAAABAAAAAQAAAAEAAAABAAAAAQAAAAEAAAABAAAAAQAAAAEAAAABAAAAAQAAAAEAAAABAAAAAQAAAAEAAAABAAAAAQAAAAEAAAABAAAAAQAAAAEAAAABAAAAAQAAAAEAAAABAAAAAQAAAAEAAAABAAAAAQAAAAEAAAABAAAAAQAAAAEAAAABAAAAAQAAAAEAAAABAAAAAQAAAAEAAAABAAAAAQAAAAEAAAABAAAAAQAAAAEAAAABAAAAAQAAAAEAAAABAAAAAQAAAAEAAAABAAAAAQAAAAEAAAABAAAAAQAAAAEAAAABAAAAAQAAAAEAAAABAAAAAQAAAAEAAAABAAAAAQAAAAEAAAABAAAAAQAAAAEAAAABAAAAAQAAAAEAAAABAAAAAQAAAAEAAAABAAAAAQAAAAEAAAABAAAAAQAAAAEAAAABAAAAAQAAAAEAAAABAAAAAQAAAAEAAAABAAAAAQAAAAEAAAABAAAAAQAAAAEAAAABAAAAAQAAAAEAAAABAAAAAQAAAAEAAAABAAAAAQAAAAEAAAABAAAAAQAAAAEAAAABAAAAAQAAAAEAAAABAAAAAQAAAAEAAAABAAAAAQAAAAEAAAABAAAAAQAAAAEAAAABAAAAAQAAAAEAAAABAAAAAQAAAAEAAAABAAAAAQAAAAEAAAABAAAAAQAAAAEAAAABAAAAAQAAAAEAAAABAAAAAQAAAAEAAAABAAAAAQAAAAEAAAABAAAAAQAAAAEAAAABAAAAAQAAAAEAAAABAAAAAQAAAAEAAAABAAAAAQAAAAEAAAABAAAAAQAAAAEAAAABAAAAAQAAAAEAAAABAAAAAQAAAAEAAAABAAAAAQAAAAEAAAABAAAAAQAAAAEAAAABAAAAAQAAAAEAAAABAAAAAQAAAAEAAAABAAAAAQAAAAEAAAABAAAAAQAAAAEAAAABAAAAAQAAAAEAAAABAAAAAQAAAAEAAAABAAAAAQAAAAEAAAABAAAAAQAAAAEAAAABAAAAAQAAAAEAAAABAAAAAQAAAAEAAAABAAAAAQAAAAEAAAABAAAAAQAAAAEAAAABAAAAAQAAAAEAAAABAAAAAQAAAAEAAAABAAAAAQAAAAEAAAABAAAAAQAAAAEAAAABAAAAAQAAAAEAAAABAAAAAQAAAAEAAAABAAAAAQAAAAEAAAABAAAAAQAAAAEAAAABAAAAAQAAAAEAAAABAAAAAQAAAAEAAAABAAAAAQAAAAEAAAABAAAAAQAAAAEAAAABAAAAAQAAAAEAAAABAAAAAQAAAAEAAAABAAAAAQAAAAEAAAABAAAAAQAAAAEAAAABAAAAAQAAAAEAAAABAAAAAQAAAAEAAAABAAAAAQAAAAEAAAABAAAAAQAAAAEAAAABAAAAAQAAAAEAAAABAAAAAQAAAAEAAAABAAAAAQAAAAEAAAABAAAAAQAAAAEAAAABAAAAAQAAAAEAAAABAAAAAQAAAAEAAAABAAAAAQAAAAEAAAABAAAAAQAAAAEAAAABAAAAAQAAAAEAAAABAAAAAQAAAAEAAAABAAAAAQAAAAEAAAABAAAAAQAAAAEAAAABAAAAAQAAAAEAAAABAAAAAQAAAAEAAAABAAAAAQAAAAEAAAABAAAAAQAAAAEAAAABAAAAAQAAAAEAAAABAAAAAQAAAAEAAAABAAAAAQAAAAEAAAABAAAAAQAAAAEAAAABAAAAAQAAAAEAAAABAAAAAQAAAAEAAAABAAAAAQAAAAEAAAABAAAAAQAAAAEAAAABAAAAAQAAAAEAAAABAAAAAQAAAAEAAAABAAAAAQAAAAEAAAABAAAAAQAAAAEAAAABAAAAAQAAAAEAAAABAAAAAQAAAAEAAAABAAAAAQAAAAEAAAABAAAAAQAAAAEAAAABAAAAAQAAAAEAAAABAAAAAQAAAAEAAAABAAAAAQAAAAEAAAABAAAAAQAAAAEAAAABAAAAAQAAAAEAAAABAAAAAQAAAAEAAAABAAAAAQAAAAEAAAABAAAAAQAAAAEAAAABAAAAAQAAAAEAAAABAAAAAQAAAAEAAAABAAAAAQAAAAEAAAABAAAAAQAAAAEAAAABAAAAAQAAAAEAAAABAAAAAQAAAAEAAAABAAAAAQAAAAEAAAABAAAAAQAAAAEAAAABAAAAAQAAAAEAAAABAAAAAQAAAAEAAAABAAAAAQAAAAEAAAABAAAAAQAAAAEAAAABAAAAAQAAAAEAAAABAAAAAQAAAAEAAAABAAAAAQAAAAEAAAABAAAAAQAAAAEAAAABAAAAAQAAAAEAAAABAAAAAQAAAAEAAAABAAAAAQAAAAEAAAABAAAAAQAAAAEAAAABAAAAAQAAAAEAAAABAAAAAQAAAAEAAAABAAAAAQAAAAEAAAABAAAAAQAAAAEAAAABAAAAAQAAAAEAAAABAAAAAQAAAAEAAAABAAAAAQAAAAEAAAABAAAAAQAAAAEAAAABAAAAAQAAAAEAAAABAAAAAQAAAAEAAAABAAAAAQAAAAEAAAABAAAAAQAAAAEAAAABAAAAAQAAAAEAAAABAAAAAQAAAAEAAAABAAAAAQAAAAEAAAABAAAAAQAAAAEAAAABAAAAAQAAAAEAAAABAAAAAQAAAAEAAAABAAAAAQAAAAEAAAABAAAAAQAAAAEAAAABAAAAAQAAAAEAAAABAAAAAQAAAAEAAAABAAAAAQAAAAEAAAABAAAAAQAAAAEAAAABAAAAAQAAAAEAAAABAAAAAQAAAAEAAAABAAAAAQAAAAEAAAABAAAAAQAAAAEAAAABAAAAAQAAAAEAAAABAAAAAQAAAAEAAAABAAAAAQAAAAEAAAABAAAAAQAAAAEAAAABAAAAAQAAAAEAAAABAAAAAQAAAAEAAAABAAAAAQAAAAEAAAABAAAAAQAAAAEAAAABAAAAAQAAAAEAAAABAAAAAQAAAAEAAAABAAAAAQAAAAEAAAABAAAAAQAAAAEAAAABAAAAAQAAAAEAAAABAAAAAQAAAAEAAAABAAAAAQAAAAEAAAABAAAAAQAAAAEAAAABAAAAAQAAAAEAAAABAAAAAQAAAAEAAAABAAAAAQAAAAEAAAABAAAAAQAAAAEAAAABAAAAAQAAAAEAAAABAAAAAQAAAAEAAAABAAAAAQAAAAEAAAABAAAAAQAAAAEAAAABAAAAAQAAAAEAAAABAAAAAQAAAAEAAAABAAAAAQAAAAEAAAABAAAAAQAAAAEAAAABAAAAAQAAAAEAAAABAAAAAQAAAAEAAAABAAAAAQAAAAEAAAABAAAAAQAAAAEAAAABAAAAAQAAAAEAAAABAAAAAQAAAAEAAAABAAAAAQAAAAEAAAABAAAAAQAAAAEAAAABAAAAAQAAAAEAAAABAAAAAQAAAAEAAAABAAAAAQAAAAEAAAABAAAAAQAAAAEAAAABAAAAAQAAAAEAAAABAAAAAQAAAAEAAAABAAAAAQAAAAEAAAABAAAAAQAAAAEAAAABAAAAAQAAAAEAAAABAAAAAQAAAAEAAAABAAAAAQAAAAEAAAABAAAAAQAAAAEAAAABAAAAAQAAAAEAAAABAAAAAQAAAAEAAAABAAAAAQAAAAEAAAABAAAAAQAAAAEAAAABAAAAAQAAAAEAAAABAAAAAQAAAAEAAAABAAAAAQAAAAEAAAABAAAAAQAAAAEAAAABAAAAAQAAAAEAAAABAAAAAQAAAAEAAAABAAAAAQAAAAEAAAABAAAAAQAAAAEAAAABAAAAAQAAAAEAAAABAAAAAQAAAAEAAAABAAAAAQAAAAEAAAABAAAAAQAAAAEAAAABAAAAAQAAAAEAAAABAAAAAQAAAAEAAAABAAAAAQAAAAEAAAABAAAAAQAAAAEAAAABAAAAAQAAAAEAAAABAAAAAQAAAAEAAAABAAAAAQAAAAEAAAABAAAAAQAAAAEAAAABAAAAAQAAAAEAAAABAAAAAQAAAAEAAAABAAAAAQAAAAEAAAABAAAAAQAAAAEAAAABAAAAAQAAAAEAAAABAAAAAQAAAAEAAAABAAAAAQAAAAEAAAABAAAAAQAAAAEAAAABAAAAAQAAAAEAAAABAAAAAQAAAAEAAAABAAAAAQAAAAEAAAABAAAAAQAAAAEAAAABAAAAAQAAAAEAAAABAAAAAQAAAAEAAAABAAAAAQAAAAEAAAABAAAAAQAAAAEAAAABAAAAAQAAAAEAAAABAAAAAQAAAAEAAAABAAAAAQAAAAEAAAABAAAAAQAAAAEAAAABAAAAAQAAAAEAAAABAAAAAQAAAAEAAAABAAAAAQAAAAEAAAABAAAAAQAAAAEAAAABAAAAAQAAAAEAAAABAAAAAQAAAAEAAAABAAAAAQAAAAEAAAABAAAAAQAAAAEAAAABAAAAAQAAAAEAAAABAAAAAQAAAAEAAAABAAAAAQAAAAEAAAABAAAAAQAAAAEAAAABAAAAAQAAAAEAAAABAAAAAQAAAAEAAAABAAAAAQAAAAEAAAABAAAAAQAAAAEAAAABAAAAAQAAAAEAAAABAAAAAQAAAAEAAAABAAAAAQAAAAEAAAABAAAAAQAAAAEAAAABAAAAAQAAAAEAAAABAAAAAQAAAAEAAAABAAAAAQAAAAEAAAABAAAAAQAAAAEAAAABAAAAAQAAAAEAAAABAAAAAQAAAAEAAAABAAAAAQAAAAEAAAABAAAAAQAAAAEAAAABAAAAAQAAAAEAAAABAAAAAQAAAAEAAAABAAAAAQAAAAEAAAABAAAAAQAAAAEAAAABAAAAAQAAAAEAAAABAAAAAQAAAAEAAAABAAAAAQAAAAEAAAABAAAAAQAAAAEAAAABAAAAAQAAAAEAAAABAAAAAQAAAAEAAAABAAAAAQAAAAEAAAABAAAAAQAAAAEAAAABAAAAAQAAAAEAAAABAAAAAQAAAAEAAAABAAAAAQAAAAEAAAABAAAAAQAAAAEAAAABAAAAAQAAAAEAAAABAAAAAQAAAAEAAAABAAAAAQAAAAEAAAABAAAAAQAAAAEAAAABAAAAAQAAAAEAAAABAAAAAQAAAAEAAAABAAAAAQAAAAEAAAABAAAAAQAAAAEAAAABAAAAAQAAAAEAAAABAAAAAQAAAAEAAAABAAAAAQAAAAEAAAABAAAAAQAAAAEAAAABAAAAAQAAAAEAAAABAAAAAQAAAAEAAAABAAAAAQAAAAEAAAABAAAAAQAAAAEAAAABAAAAAQAAAAEAAAABAAAAAQAAAAEAAAABAAAAAQAAAAEAAAABAAAAAQAAAAEAAAABAAAAAQAAAAEAAAABAAAAAQAAAAEAAAABAAAAAQAAAAEAAAABAAAAAQAAAAEAAAABAAAAAQAAAAEAAAABAAAAAQAAAAEAAAABAAAAAQAAAAEAAAABAAAAAQAAAAEAAAABAAAAAQAAAAEAAAABAAAAAQAAAAEAAAABAAAAAQAAAAEAAAABAAAAAQAAAAEAAAABAAAAAQAAAAEAAAABAAAAAQAAAAEAAAABAAAAAQAAAAEAAAABAAAAAQAAAAEAAAABAAAAAQAAAAEAAAABAAAAAQAAAAEAAAABAAAAAQAAAAEAAAABAAAAAQAAAAEAAAABAAAAAQAAAAEAAAABAAAAAQAAAAEAAAABAAAAAQAAAAEAAAABAAAAAQAAAAEAAAABAAAAAQAAAAEAAAABAAAAAQAAAAEAAAABAAAAAQAAAAEAAAABAAAAAQAAAAEAAAABAAAAAQAAAAEAAAABAAAAAQAAAAEAAAABAAAAAQAAAAEAAAABAAAAAQAAAAEAAAABAAAAAQAAAAEAAAABAAAAAQAAAAEAAAABAAAAAQAAAAEAAAABAAAAAQAAAAEAAAABAAAAAQAAAAEAAAABAAAAAQAAAAEAAAABAAAAAQAAAAEAAAABAAAAAQAAAAEAAAABAAAAAQAAAAEAAAABAAAAAQAAAAEAAAABAAAAAQAAAAEAAAABAAAAAQAAAAEAAAABAAAAAQAAAAEAAAABAAAAAQAAAAEAAAABAAAAAQAAAAEAAAABAAAAAQAAAAEAAAABAAAAAQAAAAEAAAABAAAAAQAAAAEAAAABAAAAAQAAAAEAAAABAAAAAQAAAAEAAAABAAAAAQAAAAEAAAABAAAAAQAAAAEAAAABAAAAAQAAAAEAAAABAAAAAQAAAAEAAAABAAAAAQAAAAEAAAABAAAAAQAAAAEAAAABAAAAAQAAAAEAAAABAAAAAQAAAAEAAAABAAAAAQAAAAEAAAABAAAAAQAAAAEAAAABAAAAAQAAAAEAAAABAAAAAQAAAAEAAAABAAAAAQAAAAEAAAABAAAAAQAAAAEAAAABAAAAAQAAAAEAAAABAAAAAQAAAAEAAAABAAAAAQAAAAEAAAABAAAAAQAAAAEAAAABAAAAAQAAAAEAAAABAAAAAQAAAAEAAAABAAAAAQAAAAEAAAABAAAAAQAAAAEAAAABAAAAAQAAAAEAAAABAAAAAQAAAAEAAAABAAAAAQAAAAEAAAABAAAAAQAAAAEAAAABAAAAAQAAAAEAAAABAAAAAQAAAAEAAAABAAAAAQAAAAEAAAABAAAAAQAAAAEAAAABAAAAAQAAAAEAAAABAAAAAQAAAAEAAAABAAAAAQAAAAEAAAABAAAAAQAAAAEAAAABAAAAAQAAAAEAAAABAAAAAQAAAAEAAAABAAAAAQAAAAEAAAABAAAAAQAAAAEAAAABAAAAAQAAAAEAAAABAAAAAQAAAAEAAAABAAAAAQAAAAEAAAABAAAAAQAAAAEAAAABAAAAAQAAAAEAAAABAAAAAQAAAAEAAAABAAAAAQAAAAEAAAABAAAAAQAAAAEAAAABAAAAAQAAAAEAAAABAAAAAQAAAAEAAAABAAAAAQAAAAEAAAABAAAAAQAAAAEAAAABAAAAAQAAAAEAAAABAAAAAQAAAAEAAAABAAAAAQAAAAEAAAABAAAAAQAAAAEAAAABAAAAAQAAAAEAAAABAAAAAQAAAAEAAAABAAAAAQAAAAEAAAABAAAAAQAAAAEAAAABAAAAAQAAAAEAAAABAAAAAQAAAAEAAAABAAAAAQAAAAEAAAABAAAAAQAAAAEAAAABAAAAAQAAAAEAAAABAAAAAQAAAAEAAAABAAAAAQAAAAEAAAABAAAAAQAAAAEAAAABAAAAAQAAAAEAAAABAAAAAQAAAAEAAAABAAAAAQAAAAEAAAABAAAAAQAAAAEAAAABAAAAAQAAAAEAAAABAAAAAQAAAAEAAAABAAAAAQAAAAEAAAABAAAAAQAAAAEAAAABAAAAAQAAAAEAAAABAAAAAQAAAAEAAAABAAAAAQAAAAEAAAABAAAAAQAAAAEAAAABAAAAAQAAAAEAAAABAAAAAQAAAAEAAAABAAAAAQAAAAEAAAABAAAAAQAAAAEAAAABAAAAAQAAAAEAAAABAAAAAQAAAAEAAAABAAAAAQAAAAEAAAABAAAAAQAAAAEAAAABAAAAAQAAAAEAAAABAAAAAQAAAAEAAAABAAAAAQAAAAEAAAABAAAAAQAAAAEAAAABAAAAAQAAAAEAAAABAAAAAQAAAAEAAAABAAAAAQAAAAEAAAABAAAAAQAAAAEAAAABAAAAAQAAAAEAAAABAAAAAQAAAAEAAAABAAAAAQAAAAEAAAABAAAAAQAAAAEAAAABAAAAAQAAAAEAAAABAAAAAQAAAAEAAAABAAAAAQAAAAEAAAABAAAAAQAAAAEAAAABAAAAAQAAAAEAAAABAAAAAQAAAAEAAAABAAAAAQAAAAEAAAABAAAAAQAAAAEAAAABAAAAAQAAAAEAAAABAAAAAQAAAAEAAAABAAAAAQAAAAEAAAABAAAAAQAAAAEAAAABAAAAAQAAAAEAAAABAAAAAQAAAAEAAAABAAAAAQAAAAEAAAABAAAAAQAAAAEAAAABAAAAAQAAAAEAAAABAAAAAQAAAAEAAAABAAAAAQAAAAEAAAABAAAAAQAAAAEAAAABAAAAAQAAAAEAAAABAAAAAQAAAAEAAAABAAAAAQAAAAEAAAABAAAAAQAAAAEAAAABAAAAAQAAAAEAAAABAAAAAQAAAAEAAAABAAAAAQAAAAEAAAABAAAAAQAAAAEAAAABAAAAAQAAAAEAAAABAAAAAQAAAAEAAAABAAAAAQAAAAEAAAABAAAAAQAAAAEAAAABAAAAAQAAAAEAAAABAAAAAQAAAAEAAAABAAAAAQAAAAEAAAABAAAAAQAAAAEAAAABAAAAAQAAAAEAAAABAAAAAQAAAAEAAAABAAAAAQAAAAEAAAABAAAAAQAAAAEAAAABAAAAAQAAAAEAAAABAAAAAQAAAAEAAAABAAAAAQAAAAEAAAABAAAAAQAAAAEAAAABAAAAAQAAAAEAAAABAAAAAQAAAAEAAAABAAAAAQAAAAEAAAABAAAAAQAAAAEAAAABAAAAAQAAAAEAAAABAAAAAQAAAAEAAAABAAAAAQAAAAEAAAABAAAAAQAAAAEAAAABAAAAAQAAAAEAAAABAAAAAQAAAAEAAAABAAAAAQAAAAEAAAABAAAAAQAAAAEAAAABAAAAAQAAAAEAAAABAAAAAQAAAAEAAAABAAAAAQAAAAEAAAABAAAAAQAAAAEAAAABAAAAAQAAAAEAAAABAAAAAQAAAAEAAAABAAAAAQAAAAEAAAABAAAAAQAAAAEAAAABAAAAAQAAAAEAAAABAAAAAQAAAAEAAAABAAAAAQAAAAEAAAABAAAAAQAAAAEAAAABAAAAAQAAAAEAAAABAAAAAQAAAAEAAAABAAAAAQAAAAEAAAABAAAAAQAAAAEAAAABAAAAAQAAAAEAAAABAAAAAQAAAAEAAAABAAAAAQAAAAEAAAABAAAAAQAAAAEAAAABAAAAAQAAAAEAAAABAAAAAQAAAAEAAAABAAAAAQAAAAEAAAABAAAAAQAAAAEAAAABAAAAAQAAAAEAAAABAAAAAQAAAAEAAAABAAAAAQAAAAEAAAABAAAAAQAAAAEAAAABAAAAAQAAAAEAAAABAAAAAQAAAAEAAAABAAAAAQAAAAEAAAABAAAAAQAAAAEAAAABAAAAAQAAAAEAAAABAAAAAQAAAAEAAAABAAAAAQAAAAEAAAABAAAAAQAAAAEAAAABAAAAAQAAAAEAAAABAAAAAQAAAAEAAAABAAAAAQAAAAEAAAABAAAAAQAAAAEAAAABAAAAAQAAAAEAAAABAAAAAQAAAAEAAAABAAAAAQAAAAEAAAABAAAAAQAAAAEAAAABAAAAAQAAAAEAAAABAAAAAQAAAAEAAAABAAAAAQAAAAEAAAABAAAAAQAAAAEAAAABAAAAAQAAAAEAAAABAAAAAQAAAAEAAAABAAAAAQAAAAEAAAABAAAAAQAAAAEAAAABAAAAAQAAAAEAAAABAAAAAQAAAAEAAAABAAAAAQAAAAEAAAABAAAAAQAAAAEAAAABAAAAAQAAAAEAAAABAAAAAQAAAAEAAAABAAAAAQAAAAEAAAABAAAAAQAAAAEAAAABAAAAAQAAAAEAAAABAAAAAQAAAAEAAAABAAAAAQAAAAEAAAABAAAAAQAAAAEAAAABAAAAAQAAAAEAAAABAAAAAQAAAAEAAAABAAAAAQAAAAEAAAABAAAAAQAAAAEAAAABAAAAAQAAAAEAAAABAAAAAQAAAAEAAAABAAAAAQAAAAEAAAABAAAAAQAAAAEAAAABAAAAAQAAAAEAAAABAAAAAQAAAAEAAAABAAAAAQAAAAEAAAABAAAAAQAAAAEAAAABAAAAAQAAAAEAAAABAAAAAQAAAAEAAAABAAAAAQAAAAEAAAABAAAAAQAAAAEAAAABAAAAAQAAAAEAAAABAAAAAQAAAAEAAAABAAAAAQAAAAEAAAABAAAAAQAAAAEAAAABAAAAAQAAAAEAAAABAAAAAQAAAAEAAAABAAAAAQAAAAEAAAABAAAAAQAAAAEAAAABAAAAAQAAAAEAAAABAAAAAQAAAAEAAAABAAAAAQAAAAEAAAABAAAAAQAAAAEAAAABAAAAAQAAAAEAAAABAAAAAQAAAAEAAAABAAAAAQAAAAEAAAABAAAAAQAAAAEAAAABAAAAAQAAAAEAAAABAAAAAQAAAAEAAAABAAAAAQAAAAEAAAABAAAAAQAAAAEAAAABAAAAAQAAAAEAAAABAAAAAQAAAAEAAAABAAAAAQAAAAEAAAABAAAAAQAAAAEAAAABAAAAAQAAAAEAAAABAAAAAQAAAAEAAAABAAAAAQAAAAEAAAABAAAAAQAAAAEAAAABAAAAAQAAAAEAAAABAAAAAQAAAAEAAAABAAAAAQAAAAEAAAABAAAAAQAAAAEAAAABAAAAAQAAAAEAAAABAAAAAQAAAAEAAAABAAAAAQAAAAEAAAABAAAAAQAAAAEAAAABAAAAAQAAAAEAAAABAAAAAQAAAAEAAAABAAAAAQAAAAEAAAABAAAAAQAAAAEAAAABAAAAAQAAAAEAAAABAAAAAQAAAAEAAAABAAAAAQAAAAEAAAABAAAAAQAAAAEAAAABAAAAAQAAAAEAAAABAAAAAQAAAAEAAAABAAAAAQAAAAEAAAABAAAAAQAAAAEAAAABAAAAAQAAAAEAAAABAAAAAQAAAAEAAAABAAAAAQAAAAEAAAABAAAAAQAAAAEAAAABAAAAAQAAAAEAAAABAAAAAQAAAAEAAAABAAAAAQAAAAEAAAABAAAAAQAAAAEAAAABAAAAAQAAAAEAAAABAAAAAQAAAAEAAAABAAAAAQAAAAEAAAABAAAAAQAAAAEAAAABAAAAAQAAAAEAAAABAAAAAQAAAAEAAAABAAAAAQAAAAEAAAABAAAAAQAAAAEAAAABAAAAAQAAAAEAAAABAAAAAQAAAAEAAAABAAAAAQAAAAEAAAABAAAAAQAAAAEAAAABAAAAAQAAAAEAAAABAAAAAQAAAAEAAAABAAAAAQAAAAEAAAABAAAAAQAAAAEAAAABAAAAAQAAAAEAAAABAAAAAQAAAAEAAAABAAAAAQAAAAEAAAABAAAAAQAAAAEAAAABAAAAAQAAAAEAAAABAAAAAQAAAAEAAAABAAAAAQAAAAEAAAABAAAAAQAAAAEAAAABAAAAAQAAAAEAAAABAAAAAQAAAAEAAAABAAAAAQAAAAEAAAABAAAAAQAAAAEAAAABAAAAAQAAAAEAAAABAAAAAQAAAAEAAAABAAAAAQAAAAEAAAABAAAAAQAAAAEAAAABAAAAAQAAAAEAAAABAAAAAQAAAAEAAAABAAAAAQAAAAEAAAABAAAAAQAAAAEAAAABAAAAAQAAAAEAAAABAAAAAQAAAAEAAAABAAAAAQAAAAEAAAABAAAAAQAAAAEAAAABAAAAAQAAAAEAAAABAAAAAQAAAAEAAAABAAAAAQAAAAEAAAABAAAAAQAAAAEAAAABAAAAAQAAAAEAAAABAAAAAQAAAAEAAAABAAAAAQAAAAEAAAABAAAAAQAAAAEAAAABAAAAAQAAAAEAAAABAAAAAQAAAAEAAAABAAAAAQAAAAEAAAABAAAAAQAAAAEAAAABAAAAAQAAAAEAAAABAAAAAQAAAAEAAAABAAAAAQAAAAEAAAABAAAAAQAAAAEAAAABAAAAAQAAAAEAAAABAAAAAQAAAAEAAAABAAAAAQAAAAEAAAABAAAAAQAAAAEAAAABAAAAAQAAAAEAAAABAAAAAQAAAAEAAAABAAAAAQAAAAEAAAABAAAAAQAAAAEAAAABAAAAAQAAAAEAAAABAAAAAQAAAAEAAAABAAAAAQAAAAEAAAABAAAAAQAAAAEAAAABAAAAAQAAAAEAAAABAAAAAQAAAAEAAAABAAAAAQAAAAEAAAABAAAAAQAAAAEAAAABAAAAAQAAAAEAAAABAAAAAQAAAAEAAAABAAAAAQAAAAEAAAABAAAAAQAAAAEAAAABAAAAAQAAAAEAAAABAAAAAQAAAAEAAAABAAAAAQAAAAEAAAABAAAAAQAAAAEAAAABAAAAAQAAAAEAAAABAAAAAQAAAAEAAAABAAAAAQAAAAEAAAABAAAAAQAAAAEAAAABAAAAAQAAAAEAAAABAAAAAQAAAAEAAAABAAAAAQAAAAEAAAABAAAAAQAAAAEAAAABAAAAAQAAAAEAAAABAAAAAQAAAAEAAAABAAAAAQAAAAEAAAABAAAAAQAAAAEAAAABAAAAAQAAAAEAAAABAAAAAQAAAAEAAAABAAAAAQAAAAEAAAABAAAAAQAAAAEAAAABAAAAAQAAAAEAAAABAAAAAQAAAAEAAAABAAAAAQAAAAEAAAABAAAAAQAAAAEAAAABAAAAAQAAAAEAAAABAAAAAQAAAAEAAAABAAAAAQAAAAEAAAABAAAAAQAAAAEAAAABAAAAAQAAAAEAAAABAAAAAQAAAAEAAAABAAAAAQAAAAEAAAABAAAAAQAAAAEAAAABAAAAAQAAAAEAAAABAAAAAQAAAAEAAAABAAAAAQAAAAEAAAABAAAAAQAAAAEAAAABAAAAAQAAAAEAAAABAAAAAQAAAAEAAAABAAAAAQAAAAEAAAABAAAAAQAAAAEAAAABAAAAAQAAAAEAAAABAAAAAQAAAAEAAAABAAAAAQAAAAEAAAABAAAAAQAAAAEAAAABAAAAAQAAAAEAAAABAAAAAQAAAAEAAAABAAAAAQAAAAEAAAABAAAAAQAAAAEAAAABAAAAAQAAAAEAAAABAAAAAQAAAAEAAAABAAAAAQAAAAEAAAABAAAAAQAAAAEAAAABAAAAAQAAAAEAAAABAAAAAQAAAAEAAAABAAAAAQAAAAEAAAABAAAAAQAAAAEAAAABAAAAAQAAAAEAAAABAAAAAQAAAAEAAAABAAAAAQAAAAEAAAABAAAAAQAAAAEAAAABAAAAAQAAAAEAAAABAAAAAQAAAAEAAAABAAAAAQAAAAEAAAABAAAAAQAAAAEAAAABAAAAAQAAAAEAAAABAAAAAQAAAAEAAAABAAAAAQAAAAEAAAABAAAAAQAAAAEAAAABAAAAAQAAAAEAAAABAAAAAQAAAAEAAAABAAAAAQAAAAEAAAABAAAAAQAAAAEAAAABAAAAAQAAAAEAAAABAAAAAQAAAAEAAAABAAAAAQAAAAEAAAABAAAAAQAAAAEAAAABAAAAAQAAAAEAAAABAAAAAQAAAAEAAAABAAAAAQAAAAEAAAABAAAAAQAAAAEAAAABAAAAAQAAAAEAAAABAAAAAQAAAAEAAAABAAAAAQAAAAEAAAABAAAAAQAAAAEAAAABAAAAAQAAAAEAAAABAAAAAQAAAAEAAAABAAAAAQAAAAEAAAABAAAAAQAAAAEAAAABAAAAAQAAAAEAAAABAAAAAQAAAAEAAAABAAAAAQAAAAEAAAABAAAAAQAAAAEAAAABAAAAAQAAAAEAAAABAAAAAQAAAAEAAAABAAAAAQAAAAEAAAABAAAAAQAAAAEAAAABAAAAAQAAAAEAAAABAAAAAQAAAAEAAAABAAAAAQAAAAEAAAABAAAAAQAAAAEAAAABAAAAAQAAAAEAAAABAAAAAQAAAAEAAAABAAAAAQAAAAEAAAABAAAAAQAAAAEAAAABAAAAAQAAAAEAAAABAAAAAQAAAAEAAAABAAAAAQAAAAEAAAABAAAAAQAAAAEAAAABAAAAAQAAAAEAAAABAAAAAQAAAAEAAAABAAAAAQAAAAEAAAABAAAAAQAAAAEAAAABAAAAAQAAAAEAAAABAAAAAQAAAAEAAAABAAAAAQAAAAEAAAABAAAAAQAAAAEAAAABAAAAAQAAAAEAAAABAAAAAQAAAAEAAAABAAAAAQAAAAEAAAABAAAAAQAAAAEAAAABAAAAAQAAAAEAAAABAAAAAQAAAAEAAAABAAAAAQAAAAEAAAABAAAAAQAAAAEAAAABAAAAAQAAAAEAAAABAAAAAQAAAAEAAAABAAAAAQAAAAEAAAABAAAAAQAAAAEAAAABAAAAAQAAAAEAAAABAAAAAQAAAAEAAAABAAAAAQAAAAEAAAABAAAAAQAAAAEAAAABAAAAAQAAAAEAAAABAAAAAQAAAAEAAAABAAAAAQAAAAEAAAABAAAAAQAAAAEAAAABAAAAAQAAAAEAAAABAAAAAQAAAAEAAAABAAAAAQAAAAEAAAABAAAAAQAAAAEAAAABAAAAAQAAAAEAAAABAAAAAQAAAAEAAAABAAAAAQAAAAEAAAABAAAAAQAAAAEAAAABAAAAAQAAAAEAAAABAAAAAQAAAAEAAAABAAAAAQAAAAEAAAABAAAAAQAAAAEAAAABAAAAAQAAAAEAAAABAAAAAQAAAAEAAAABAAAAAQAAAAEAAAABAAAAAQAAAAEAAAABAAAAAQAAAAEAAAABAAAAAQAAAAEAAAABAAAAAQAAAAEAAAABAAAAAQAAAAEAAAABAAAAAQAAAAEAAAABAAAAAQAAAAEAAAABAAAAAQAAAAEAAAABAAAAAQAAAAEAAAABAAAAAQAAAAEAAAABAAAAAQAAAAEAAAABAAAAAQAAAAEAAAABAAAAAQAAAAEAAAABAAAAAQAAAAEAAAABAAAAAQAAAAEAAAABAAAAAQAAAAEAAAABAAAAAQAAAAEAAAABAAAAAQAAAAEAAAABAAAAAQAAAAEAAAABAAAAAQAAAAEAAAABAAAAAQAAAAEAAAABAAAAAQAAAAEAAAABAAAAAQAAAAEAAAABAAAAAQAAAAEAAAABAAAAAQAAAAEAAAABAAAAAQAAAAEAAAABAAAAAQAAAAEAAAABAAAAAQAAAAEAAAABAAAAAQAAAAEAAAABAAAAAQAAAAEAAAABAAAAAQAAAAEAAAABAAAAAQAAAAEAAAABAAAAAQAAAAEAAAABAAAAAQAAAAEAAAABAAAAAQAAAAEAAAABAAAAAQAAAAEAAAABAAAAAQAAAAEAAAABAAAAAQAAAAEAAAABAAAAAQAAAAEAAAABAAAAAQAAAAEAAAABAAAAAQAAAAEAAAABAAAAAQAAAAEAAAABAAAAAQAAAAEAAAABAAAAAQAAAAEAAAABAAAAAQAAAAEAAAABAAAAAQAAAAEAAAABAAAAAQAAAAEAAAABAAAAAQAAAAEAAAABAAAAAQAAAAEAAAABAAAAAQAAAAEAAAABAAAAAQAAAAEAAAABAAAAAQAAAAEAAAABAAAAAQAAAAEAAAABAAAAAQAAAAEAAAABAAAAAQAAAAEAAAABAAAAAQAAAAEAAAABAAAAAQAAAAEAAAABAAAAAQAAAAEAAAABAAAAAQAAAAEAAAABAAAAAQAAAAEAAAABAAAAAQAAAAEAAAABAAAAAQAAAAEAAAABAAAAAQAAAAEAAAABAAAAAQAAAAEAAAABAAAAAQAAAAEAAAABAAAAAQAAAAEAAAABAAAAAQAAAAEAAAABAAAAAQAAAAEAAAABAAAAAQAAAAEAAAABAAAAAQAAAAEAAAABAAAAAQAAAAEAAAABAAAAAQAAAAEAAAABAAAAAQAAAAEAAAABAAAAAQAAAAEAAAABAAAAAQAAAAEAAAABAAAAAQAAAAEAAAABAAAAAQAAAAEAAAABAAAAAQAAAAEAAAABAAAAAQAAAAEAAAABAAAAAQAAAAEAAAABAAAAAQAAAAEAAAABAAAAAQAAAAEAAAABAAAAAQAAAAEAAAABAAAAAQAAAAEAAAABAAAAAQAAAAEAAAABAAAAAQAAAAEAAAABAAAAAQAAAAEAAAABAAAAAQAAAAEAAAABAAAAAQAAAAEAAAABAAAAAQAAAAEAAAABAAAAAQAAAAEAAAABAAAAAQAAAAEAAAABAAAAAQAAAAEAAAABAAAAAQAAAAEAAAABAAAAAQAAAAEAAAABAAAAAQAAAAEAAAABAAAAAQAAAAEAAAABAAAAAQAAAAEAAAABAAAAAQAAAAEAAAABAAAAAQAAAAEAAAABAAAAAQAAAAEAAAABAAAAAQAAAAEAAAABAAAAAQAAAAEAAAABAAAAAQAAAAEAAAABAAAAAQAAAAEAAAABAAAAAQAAAAEAAAABAAAAAQAAAAEAAAABAAAAAQAAAAEAAAABAAAAAQAAAAEAAAABAAAAAQAAAAEAAAABAAAAAQAAAAEAAAABAAAAAQAAAAEAAAABAAAAAQAAAAEAAAABAAAAAQAAAAEAAAABAAAAAQAAAAEAAAABAAAAAQAAAAEAAAABAAAAAQAAAAEAAAABAAAAAQAAAAEAAAABAAAAAQAAAAEAAAABAAAAAQAAAAEAAAABAAAAAQAAAAEAAAABAAAAAQAAAAEAAAABAAAAAQAAAAEAAAABAAAAAQAAAAEAAAABAAAAAQAAAAEAAAABAAAAAQAAAAEAAAABAAAAAQAAAAEAAAABAAAAAQAAAAEAAAABAAAAAQAAAAEAAAABAAAAAQAAAAEAAAABAAAAAQAAAAEAAAABAAAAAQAAAAEAAAABAAAAAQAAAAEAAAABAAAAAQAAAAEAAAABAAAAAQAAAAEAAAABAAAAAQAAAAEAAAABAAAAAQAAAAEAAAABAAAAAQAAAAEAAAABAAAAAQAAAAEAAAABAAAAAQAAAAEAAAABAAAAAQAAAAEAAAABAAAAAQAAAAEAAAABAAAAAQAAAAEAAAABAAAAAQAAAAEAAAABAAAAAQAAAAEAAAABAAAAAQAAAAEAAAABAAAAAQAAAAEAAAABAAAAAQAAAAEAAAABAAAAAQAAAAEAAAABAAAAAQAAAAEAAAABAAAAAQAAAAEAAAABAAAAAQAAAAEAAAABAAAAAQAAAAEAAAABAAAAAQAAAAEAAAABAAAAAQAAAAEAAAABAAAAAQAAAAEAAAABAAAAAQAAAAEAAAABAAAAAQAAAAEAAAABAAAAAQAAAAEAAAABAAAAAQAAAAEAAAABAAAAAQAAAAEAAAABAAAAAQAAAAEAAAABAAAAAQAAAAEAAAABAAAAAQAAAAEAAAABAAAAAQAAAAEAAAABAAAAAQAAAAEAAAABAAAAAQAAAAEAAAABAAAAAQAAAAEAAAABAAAAAQAAAAEAAAABAAAAAQAAAAEAAAABAAAAAQAAAAEAAAABAAAAAQAAAAEAAAABAAAAAQAAAAEAAAABAAAAAQAAAAEAAAABAAAAAQAAAAEAAAABAAAAAQAAAAEAAAABAAAAAQAAAAEAAAABAAAAAQAAAAEAAAABAAAAAQAAAAEAAAABAAAAAQAAAAEAAAABAAAAAQAAAAEAAAABAAAAAQAAAAEAAAABAAAAAQAAAAEAAAABAAAAAQAAAAEAAAABAAAAAQAAAAEAAAABAAAAAQAAAAEAAAABAAAAAQAAAAEAAAABAAAAAQAAAAEAAAABAAAAAQAAAAEAAAABAAAAAQAAAAEAAAABAAAAAQAAAAEAAAABAAAAAQAAAAEAAAABAAAAAQAAAAEAAAABAAAAAQAAAAEAAAABAAAAAQAAAAEAAAABAAAAAQAAAAEAAAABAAAAAQAAAAEAAAABAAAAAQAAAAEAAAABAAAAAQAAAAEAAAABAAAAAQAAAAEAAAABAAAAAQAAAAEAAAABAAAAAQAAAAEAAAABAAAAAQAAAAEAAAABAAAAAQAAAAEAAAABAAAAAQAAAAEAAAABAAAAAQAAAAEAAAABAAAAAQAAAAEAAAABAAAAAQAAAAEAAAABAAAAAQAAAAEAAAABAAAAAQAAAAEAAAABAAAAAQAAAAEAAAABAAAAAQAAAAEAAAABAAAAAQAAAAEAAAABAAAAAQAAAAEAAAABAAAAAQAAAAEAAAABAAAAAQAAAAEAAAABAAAAAQAAAAEAAAABAAAAAQAAAAEAAAABAAAAAQAAAAEAAAABAAAAAQAAAAEAAAABAAAAAQAAAAEAAAABAAAAAQAAAAEAAAABAAAAAQAAAAEAAAABAAAAAQAAAAEAAAABAAAAAQAAAAEAAAABAAAAAQAAAAEAAAABAAAAAQAAAAEAAAABAAAAAQAAAAEAAAABAAAAAQAAAAEAAAABAAAAAQAAAAEAAAABAAAAAQAAAAEAAAABAAAAAQAAAAEAAAABAAAAAQAAAAEAAAABAAAAAQAAAAEAAAABAAAAAQAAAAEAAAABAAAAAQAAAAEAAAABAAAAAQAAAAEAAAABAAAAAQAAAAEAAAABAAAAAQAAAAEAAAABAAAAAQAAAAEAAAABAAAAAQAAAAEAAAABAAAAAQAAAAEAAAABAAAAAQAAAAEAAAABAAAAAQAAAAEAAAABAAAAAQAAAAEAAAABAAAAAQAAAAEAAAABAAAAAQAAAAEAAAABAAAAAQAAAAEAAAABAAAAAQAAAAEAAAABAAAAAQAAAAEAAAABAAAAAQAAAAEAAAABAAAAAQAAAAEAAAABAAAAAQAAAAEAAAABAAAAAQAAAAEAAAABAAAAAQAAAAEAAAABAAAAAQAAAAEAAAABAAAAAQAAAAEAAAABAAAAAQAAAAEAAAABAAAAAQAAAAEAAAABAAAAAQAAAAEAAAABAAAAAQAAAAEAAAABAAAAAQAAAAEAAAABAAAAAQAAAAEAAAABAAAAAQAAAAEAAAABAAAAAQAAAAEAAAABAAAAAQAAAAEAAAABAAAAAQAAAAEAAAABAAAAAQAAAAEAAAABAAAAAQAAAAEAAAABAAAAAQAAAAEAAAABAAAAAQAAAAEAAAABAAAAAQAAAAEAAAABAAAAAQAAAAEAAAABAAAAAQAAAAEAAAABAAAAAQAAAAEAAAABAAAAAQAAAAEAAAABAAAAAQAAAAEAAAABAAAAAQAAAAEAAAABAAAAAQAAAAEAAAABAAAAAQAAAAEAAAABAAAAAQAAAAEAAAABAAAAAQAAAAEAAAABAAAAAQAAAAEAAAABAAAAAQAAAAEAAAABAAAAAQAAAAEAAAABAAAAAQAAAAEAAAABAAAAAQAAAAEAAAABAAAAAQAAAAEAAAABAAAAAQAAAAEAAAABAAAAAQAAAAEAAAABAAAAAQAAAAEAAAABAAAAAQAAAAEAAAABAAAAAQAAAAEAAAABAAAAAQAAAAEAAAABAAAAAQAAAAEAAAABAAAAAQAAAAEAAAABAAAAAQAAAAEAAAABAAAAAQAAAAEAAAABAAAAAQAAAAEAAAABAAAAAQAAAAEAAAABAAAAAQAAAAEAAAABAAAAAQAAAAEAAAABAAAAAQAAAAEAAAABAAAAAQAAAAEAAAABAAAAAQAAAAEAAAABAAAAAQAAAAEAAAABAAAAAQAAAAEAAAABAAAAAQAAAAEAAAABAAAAAQAAAAEAAAABAAAAAQAAAAEAAAABAAAAAQAAAAEAAAABAAAAAQAAAAEAAAABAAAAAQAAAAEAAAABAAAAAQAAAAEAAAABAAAAAQAAAAEAAAABAAAAAQAAAAEAAAABAAAAAQAAAAEAAAABAAAAAQAAAAEAAAABAAAAAQAAAAEAAAABAAAAAQAAAAEAAAABAAAAAQAAAAEAAAABAAAAAQAAAAEAAAABAAAAAQAAAAEAAAABAAAAAQAAAAEAAAABAAAAAQAAAAEAAAABAAAAAQAAAAEAAAABAAAAAQAAAAEAAAABAAAAAQAAAAEAAAABAAAAAQAAAAEAAAABAAAAAQAAAAEAAAABAAAAAQAAAAEAAAABAAAAAQAAAAEAAAABAAAAAQAAAAEAAAABAAAAAQAAAAEAAAABAAAAAQAAAAEAAAABAAAAAQAAAAEAAAABAAAAAQAAAAEAAAABAAAAAQAAAAEAAAABAAAAAQAAAAEAAAABAAAAAQAAAAEAAAABAAAAAQAAAAEAAAABAAAAAQAAAAEAAAABAAAAAQAAAAEAAAABAAAAAQAAAAEAAAABAAAAAQAAAAEAAAABAAAAAQAAAAEAAAABAAAAAQAAAAEAAAABAAAAAQAAAAEAAAABAAAAAQAAAAEAAAABAAAAAQAAAAEAAAABAAAAAQAAAAEAAAABAAAAAQAAAAEAAAABAAAAAQAAAAEAAAABAAAAAQAAAAEAAAABAAAAAQAAAAEAAAABAAAAAQAAAAEAAAABAAAAAQAAAAEAAAABAAAAAQAAAAEAAAABAAAAAQAAAAEAAAABAAAAAQAAAAEAAAABAAAAAQAAAAEAAAABAAAAAQAAAAEAAAABAAAAAQAAAAEAAAABAAAAAQAAAAEAAAABAAAAAQAAAAEAAAABAAAAAQAAAAEAAAABAAAAAQAAAAEAAAABAAAAAQAAAAEAAAABAAAAAQAAAAEAAAABAAAAAQAAAAEAAAABAAAAAQAAAAEAAAABAAAAAQAAAAEAAAABAAAAAQAAAAEAAAABAAAAAQAAAAEAAAABAAAAAQAAAAEAAAABAAAAAQAAAAEAAAABAAAAAQAAAAEAAAABAAAAAQAAAAEAAAABAAAAAQAAAAEAAAABAAAAAQAAAAEAAAABAAAAAQAAAAEAAAABAAAAAQAAAAEAAAABAAAAAQAAAAEAAAABAAAAAQAAAAEAAAABAAAAAQAAAAEAAAABAAAAAQAAAAEAAAABAAAAAQAAAAEAAAABAAAAAQAAAAEAAAABAAAAAQAAAAEAAAABAAAAAQAAAAEAAAABAAAAAQAAAAEAAAABAAAAAQAAAAEAAAABAAAAAQAAAAEAAAABAAAAAQAAAAEAAAABAAAAAQAAAAEAAAABAAAAAQAAAAEAAAABAAAAAQAAAAEAAAABAAAAAQAAAAEAAAABAAAAAQAAAAEAAAABAAAAAQAAAAEAAAABAAAAAQAAAAEAAAABAAAAAQAAAAEAAAABAAAAAQAAAAEAAAABAAAAAQAAAAEAAAABAAAAAQAAAAEAAAABAAAAAQAAAAEAAAABAAAAAQAAAAEAAAABAAAAAQAAAAEAAAABAAAAAQAAAAEAAAABAAAAAQAAAAEAAAABAAAAAQAAAAEAAAABAAAAAQAAAAEAAAABAAAAAQAAAAEAAAABAAAAAQAAAAEAAAABAAAAAQAAAAEAAAABAAAAAQAAAAEAAAABAAAAAQAAAAEAAAABAAAAAQAAAAEAAAABAAAAAQAAAAEAAAABAAAAAQAAAAEAAAABAAAAAQAAAAEAAAABAAAAAQAAAAEAAAABAAAAAQAAAAEAAAABAAAAAQAAAAEAAAABAAAAAQAAAAEAAAABAAAAAQAAAAEAAAABAAAAAQAAAAEAAAABAAAAAQAAAAEAAAABAAAAAQAAAAEAAAABAAAAAQAAAAEAAAABAAAAAQAAAAEAAAABAAAAAQAAAAEAAAABAAAAAQAAAAEAAAABAAAAAQAAAAEAAAABAAAAAQAAAAEAAAABAAAAAQAAAAEAAAABAAAAAQAAAAEAAAABAAAAAQAAAAEAAAABAAAAAQAAAAEAAAABAAAAAQAAAAEAAAABAAAAAQAAAAEAAAABAAAAAQAAAAEAAAABAAAAAQAAAAEAAAABAAAAAQAAAAEAAAABAAAAAQAAAAEAAAABAAAAAQAAAAEAAAABAAAAAQAAAAEAAAABAAAAAQAAAAEAAAABAAAAAQAAAAEAAAABAAAAAQAAAAEAAAABAAAAAQAAAAEAAAABAAAAAQAAAAEAAAABAAAAAQAAAAEAAAABAAAAAQAAAAEAAAABAAAAAQAAAAEAAAABAAAAAQAAAAEAAAABAAAAAQAAAAEAAAABAAAAAQAAAAEAAAABAAAAAQAAAAEAAAABAAAAAQAAAAEAAAABAAAAAQAAAAEAAAABAAAAAQAAAAEAAAABAAAAAQAAAAEAAAABAAAAAQAAAAEAAAABAAAAAQAAAAEAAAABAAAAAQAAAAEAAAABAAAAAQAAAAEAAAABAAAAAQAAAAEAAAABAAAAAQAAAAEAAAABAAAAAQAAAAEAAAABAAAAAQAAAAEAAAABAAAAAQAAAAEAAAABAAAAAQAAAAEAAAABAAAAAQAAAAEAAAABAAAAAQAAAAEAAAABAAAAAQAAAAEAAAABAAAAAQAAAAEAAAABAAAAAQAAAAEAAAABAAAAAQAAAAEAAAABAAAAAQAAAAEAAAABAAAAAQAAAAEAAAABAAAAAQAAAAEAAAABAAAAAQAAAAEAAAABAAAAAQAAAAEAAAABAAAAAQAAAAEAAAABAAAAAQAAAAEAAAABAAAAAQAAAAEAAAABAAAAAQAAAAEAAAABAAAAAQAAAAEAAAABAAAAAQAAAAEAAAABAAAAAQAAAAEAAAABAAAAAQAAAAEAAAABAAAAAQAAAAEAAAABAAAAAQAAAAEAAAABAAAAAQAAAAEAAAABAAAAAQAAAAEAAAABAAAAAQAAAAEAAAABAAAAAQAAAAEAAAABAAAAAQAAAAEAAAABAAAAAQAAAAEAAAABAAAAAQAAAAEAAAABAAAAAQAAAAEAAAABAAAAAQAAAAEAAAABAAAAAQAAAAEAAAABAAAAAQAAAAEAAAABAAAAAQAAAAEAAAABAAAAAQAAAAEAAAABAAAAAQAAAAEAAAABAAAAAQAAAAEAAAABAAAAAQAAAAEAAAABAAAAAQAAAAEAAAABAAAAAQAAAAEAAAABAAAAAQAAAAEAAAABAAAAAQAAAAEAAAABAAAAAQAAAAEAAAABAAAAAQAAAAEAAAABAAAAAQAAAAEAAAABAAAAAQAAAAEAAAABAAAAAQAAAAEAAAABAAAAAQAAAAEAAAABAAAAAQAAAAEAAAABAAAAAQAAAAEAAAABAAAAAQAAAAEAAAABAAAAAQAAAAEAAAABAAAAAQAAAAEAAAABAAAAAQAAAAEAAAABAAAAAQAAAAEAAAABAAAAAQAAAAEAAAABAAAAAQAAAAEAAAABAAAAAQAAAAEAAAABAAAAAQAAAAEAAAABAAAAAQAAAAEAAAABAAAAAQAAAAEAAAABAAAAAQAAAAEAAAABAAAAAQAAAAEAAAABAAAAAQAAAAEAAAABAAAAAQAAAAEAAAABAAAAAQAAAAEAAAABAAAAAQAAAAEAAAABAAAAAQAAAAEAAAABAAAAAQAAAAEAAAABAAAAAQAAAAEAAAABAAAAAQAAAAEAAAABAAAAAQAAAAEAAAABAAAAAQAAAAEAAAABAAAAAQAAAAEAAAABAAAAAQAAAAEAAAABAAAAAQAAAAEAAAABAAAAAQAAAAEAAAABAAAAAQAAAAEAAAABAAAAAQAAAAEAAAABAAAAAQAAAAEAAAABAAAAAQAAAAEAAAABAAAAAQAAAAEAAAABAAAAAQAAAAEAAAABAAAAAQAAAAEAAAABAAAAAQAAAAEAAAABAAAAAQAAAAEAAAABAAAAAQAAAAEAAAABAAAAAQAAAAEAAAABAAAAAQAAAAEAAAABAAAAAQAAAAEAAAABAAAAAQAAAAEAAAABAAAAAQAAAAEAAAABAAAAAQAAAAEAAAABAAAAAQAAAAEAAAABAAAAAQAAAAEAAAABAAAAAQAAAAEAAAABAAAAAQAAAAEAAAABAAAAAQAAAAEAAAABAAAAAQAAAAEAAAABAAAAAQAAAAEAAAABAAAAAQAAAAEAAAABAAAAAQAAAAEAAAABAAAAAQAAAAEAAAABAAAAAQAAAAEAAAABAAAAAQAAAAEAAAABAAAAAQAAAAEAAAABAAAAAQAAAAEAAAABAAAAAQAAAAEAAAABAAAAAQAAAAEAAAABAAAAAQAAAAEAAAABAAAAAQAAAAEAAAABAAAAAQAAAAEAAAABAAAAAQAAAAEAAAABAAAAAQAAAAEAAAABAAAAAQAAAAEAAAABAAAAAQAAAAEAAAABAAAAAQAAAAEAAAABAAAAAQAAAAEAAAABAAAAAQAAAAEAAAABAAAAAQAAAAEAAAABAAAAAQAAAAEAAAABAAAAAQAAAAEAAAABAAAAAQAAAAEAAAABAAAAAQAAAAEAAAABAAAAAQAAAAEAAAABAAAAAQAAAAEAAAABAAAAAQAAAAEAAAABAAAAAQAAAAEAAAABAAAAAQAAAAEAAAABAAAAAQAAAAEAAAABAAAAAQAAAAEAAAABAAAAAQAAAAEAAAABAAAAAQAAAAEAAAABAAAAAQAAAAEAAAABAAAAAQAAAAEAAAABAAAAAQAAAAEAAAABAAAAAQAAAAEAAAABAAAAAQAAAAEAAAABAAAAAQAAAAEAAAABAAAAAQAAAAEAAAABAAAAAQAAAAEAAAABAAAAAQAAAAEAAAABAAAAAQAAAAEAAAABAAAAAQAAAAEAAAABAAAAAQAAAAEAAAABAAAAAQAAAAEAAAABAAAAAQAAAAEAAAABAAAAAQAAAAEAAAABAAAAAQAAAAEAAAABAAAAAQAAAAEAAAABAAAAAQAAAAEAAAABAAAAAQAAAAEAAAABAAAAAQAAAAEAAAABAAAAAQAAAAEAAAABAAAAAQAAAAEAAAABAAAAAQAAAAEAAAABAAAAAQAAAAEAAAABAAAAAQAAAAEAAAABAAAAAQAAAAEAAAABAAAAAQAAAAEAAAABAAAAAQAAAAEAAAABAAAAAQAAAAEAAAABAAAAAQAAAAEAAAABAAAAAQAAAAEAAAABAAAAAQAAAAEAAAABAAAAAQAAAAEAAAABAAAAAQAAAAEAAAABAAAAAQAAAAEAAAABAAAAAQAAAAEAAAABAAAAAQAAAAEAAAABAAAAAQAAAAEAAAABAAAAAQAAAAEAAAABAAAAAQAAAAEAAAABAAAAAQAAAAEAAAABAAAAAQAAAAEAAAABAAAAAQAAAAEAAAABAAAAAQAAAAEAAAABAAAAAQAAAAEAAAABAAAAAQAAAAEAAAABAAAAAQAAAAEAAAABAAAAAQAAAAEAAAABAAAAAQAAAAEAAAABAAAAAQAAAAEAAAABAAAAAQAAAAEAAAABAAAAAQAAAAEAAAABAAAAAQAAAAEAAAABAAAAAQAAAAEAAAABAAAAAQAAAAEAAAABAAAAAQAAAAEAAAABAAAAAQAAAAEAAAABAAAAAQAAAAEAAAABAAAAAQAAAAEAAAABAAAAAQAAAAEAAAABAAAAAQAAAAEAAAABAAAAAQAAAAEAAAABAAAAAQAAAAEAAAABAAAAAQAAAAEAAAABAAAAAQAAAAEAAAABAAAAAQAAAAEAAAABAAAAAQAAAAEAAAABAAAAAQAAAAEAAAABAAAAAQAAAAEAAAABAAAAAQAAAAEAAAABAAAAAQAAAAEAAAABAAAAAQAAAAEAAAABAAAAAQAAAAEAAAABAAAAAQAAAAEAAAABAAAAAQAAAAEAAAABAAAAAQAAAAEAAAABAAAAAQAAAAEAAAABAAAAAQAAAAEAAAABAAAAAQAAAAEAAAABAAAAAQAAAAEAAAABAAAAAQAAAAEAAAABAAAAAQAAAAEAAAABAAAAAQAAAAEAAAABAAAAAQAAAAEAAAABAAAAAQAAAAEAAAABAAAAAQAAAAEAAAABAAAAAQAAAAEAAAABAAAAAQAAAAEAAAABAAAAAQAAAAEAAAABAAAAAQAAAAEAAAABAAAAAQAAAAEAAAABAAAAAQAAAAEAAAABAAAAAQAAAAEAAAABAAAAAQAAAAEAAAABAAAAAQAAAAEAAAABAAAAAQAAAAEAAAABAAAAAQAAAAEAAAABAAAAAQAAAAEAAAABAAAAAQAAAAEAAAABAAAAAQAAAAEAAAABAAAAAQAAAAEAAAABAAAAAQAAAAEAAAABAAAAAQAAAAEAAAABAAAAAQAAAAEAAAABAAAAAQAAAAEAAAABAAAAAQAAAAEAAAABAAAAAQAAAAEAAAABAAAAAQAAAAEAAAABAAAAAQAAAAEAAAABAAAAAQAAAAEAAAABAAAAAQAAAAEAAAABAAAAAQAAAAEAAAABAAAAAQAAAAEAAAABAAAAAQAAAAEAAAABAAAAAQAAAAEAAAABAAAAAQAAAAEAAAABAAAAAQAAAAEAAAABAAAAAQAAAAEAAAABAAAAAQAAAAEAAAABAAAAAQAAAAEAAAABAAAAAQAAAAEAAAABAAAAAQAAAAEAAAABAAAAAQAAAAEAAAABAAAAAQAAAAEAAAABAAAAAQAAAAEAAAABAAAAAQAAAAEAAAABAAAAAQAAAAEAAAABAAAAAQAAAAEAAAABAAAAAQAAAAEAAAABAAAAAQAAAAEAAAABAAAAAQAAAAEAAAABAAAAAQAAAAEAAAABAAAAAQAAAAEAAAABAAAAAQAAAAEAAAABAAAAAQAAAAEAAAABAAAAAQAAAAEAAAABAAAAAQAAAAEAAAABAAAAAQAAAAEAAAABAAAAAQAAAAEAAAABAAAAAQAAAAEAAAABAAAAAQAAAAEAAAABAAAAAQAAAAEAAAABAAAAAQAAAAEAAAABAAAAAQAAAAEAAAABAAAAAQAAAAEAAAABAAAAAQAAAAEAAAABAAAAAQAAAAEAAAABAAAAAQAAAAEAAAABAAAAAQAAAAEAAAABAAAAAQAAAAEAAAABAAAAAQAAAAEAAAABAAAAAQAAAAEAAAABAAAAAQAAAAEAAAABAAAAAQAAAAEAAAABAAAAAQAAAAEAAAABAAAAAQAAAAEAAAABAAAAAQAAAAEAAAABAAAAAQAAAAEAAAABAAAAAQAAAAEAAAABAAAAAQAAAAEAAAABAAAAAQAAAAEAAAABAAAAAQAAAAEAAAABAAAAAQAAAAEAAAABAAAAAQAAAAEAAAABAAAAAQAAAAEAAAABAAAAAQAAAAEAAAABAAAAAQAAAAEAAAABAAAAAQAAAAEAAAABAAAAAQAAAAEAAAABAAAAAQAAAAEAAAABAAAAAQAAAAEAAAABAAAAAQAAAAEAAAABAAAAAQAAAAEAAAABAAAAAQAAAAEAAAABAAAAAQAAAAEAAAABAAAAAQAAAAEAAAABAAAAAQAAAAEAAAABAAAAAQAAAAEAAAABAAAAAQAAAAEAAAABAAAAAQAAAAEAAAABAAAAAQAAAAEAAAABAAAAAQAAAAEAAAABAAAAAQAAAAEAAAABAAAAAQAAAAEAAAABAAAAAQAAAAEAAAABAAAAAQAAAAEAAAABAAAAAQAAAAEAAAABAAAAAQAAAAEAAAABAAAAAQAAAAEAAAABAAAAAQAAAAEAAAABAAAAAQAAAAEAAAABAAAAAQAAAAEAAAABAAAAAQAAAAEAAAABAAAAAQAAAAEAAAABAAAAAQAAAAEAAAABAAAAAQAAAAEAAAABAAAAAQAAAAEAAAABAAAAAQAAAAEAAAABAAAAAQAAAAEAAAABAAAAAQAAAAEAAAABAAAAAQAAAAEAAAABAAAAAQAAAAEAAAABAAAAAQAAAAEAAAABAAAAAQAAAAEAAAABAAAAAQAAAAEAAAABAAAAAQAAAAEAAAABAAAAAQAAAAEAAAABAAAAAQAAAAEAAAABAAAAAQAAAAEAAAABAAAAAQAAAAEAAAABAAAAAQAAAAEAAAABAAAAAQAAAAEAAAABAAAAAQAAAAEAAAABAAAAAQAAAAEAAAABAAAAAQAAAAEAAAABAAAAAQAAAAEAAAABAAAAAQAAAAEAAAABAAAAAQAAAAEAAAABAAAAAQAAAAEAAAABAAAAAQAAAAEAAAABAAAAAQAAAAEAAAABAAAAAQAAAAEAAAABAAAAAQAAAAEAAAABAAAAAQAAAAEAAAABAAAAAQAAAAEAAAABAAAAAQAAAAEAAAABAAAAAQAAAAEAAAABAAAAAQAAAAEAAAABAAAAAQAAAAEAAAABAAAAAQAAAAEAAAABAAAAAQAAAAEAAAABAAAAAQAAAAEAAAABAAAAAQAAAAEAAAABAAAAAQAAAAEAAAABAAAAAQAAAAEAAAABAAAAAQAAAAEAAAABAAAAAQAAAAEAAAABAAAAAQAAAAEAAAABAAAAAQAAAAEAAAABAAAAAQAAAAEAAAABAAAAAQAAAAEAAAABAAAAAQAAAAEAAAABAAAAAQAAAAEAAAABAAAAAQAAAAEAAAABAAAAAQAAAAEAAAABAAAAAQAAAAEAAAABAAAAAQAAAAEAAAABAAAAAQAAAAEAAAABAAAAAQAAAAEAAAABAAAAAQAAAAEAAAABAAAAAQAAAAEAAAABAAAAAQAAAAEAAAABAAAAAQAAAAEAAAABAAAAAQAAAAEAAAABAAAAAQAAAAEAAAABAAAAAQAAAAEAAAABAAAAAQAAAAEAAAABAAAAAQAAAAEAAAABAAAAAQAAAAEAAAABAAAAAQAAAAEAAAABAAAAAQAAAAEAAAABAAAAAQAAAAEAAAABAAAAAQAAAAEAAAABAAAAAQAAAAEAAAABAAAAAQAAAAEAAAABAAAAAQAAAAEAAAABAAAAAQAAAAEAAAABAAAAAQAAAAEAAAABAAAAAQAAAAEAAAABAAAAAQAAAAEAAAABAAAAAQAAAAEAAAABAAAAAQAAAAEAAAABAAAAAQAAAAEAAAABAAAAAQAAAAEAAAABAAAAAQAAAAEAAAABAAAAAQAAAAEAAAABAAAAAQAAAAEAAAABAAAAAQAAAAEAAAABAAAAAQAAAAEAAAABAAAAAQAAAAEAAAABAAAAAQAAAAEAAAABAAAAAQAAAAEAAAABAAAAAQAAAAEAAAABAAAAAQAAAAEAAAABAAAAAQAAAAEAAAABAAAAAQAAAAEAAAABAAAAAQAAAAEAAAABAAAAAQAAAAEAAAABAAAAAQAAAAEAAAABAAAAAQAAAAEAAAABAAAAAQAAAAEAAAABAAAAAQAAAAEAAAABAAAAAQAAAAEAAAABAAAAAQAAAAEAAAABAAAAAQAAAAEAAAABAAAAAQAAAAEAAAABAAAAAQAAAAEAAAABAAAAAQAAAAEAAAABAAAAAQAAAAEAAAABAAAAAQAAAAEAAAABAAAAAQAAAAEAAAABAAAAAQAAAAEAAAABAAAAAQAAAAEAAAABAAAAAQAAAAEAAAABAAAAAQAAAAEAAAABAAAAAQAAAAEAAAABAAAAAQAAAAEAAAABAAAAAQAAAAEAAAABAAAAAQAAAAEAAAABAAAAAQAAAAEAAAABAAAAAQAAAAEAAAABAAAAAQAAAAEAAAABAAAAAQAAAAEAAAABAAAAAQAAAAEAAAABAAAAAQAAAAEAAAABAAAAAQAAAAEAAAABAAAAAQAAAAEAAAABAAAAAQAAAAEAAAABAAAAAQAAAAEAAAABAAAAAQAAAAEAAAABAAAAAQAAAAEAAAABAAAAAQAAAAEAAAABAAAAAQAAAAEAAAABAAAAAQAAAAEAAAABAAAAAQAAAAEAAAABAAAAAQAAAAEAAAABAAAAAQAAAAEAAAABAAAAAQAAAAEAAAABAAAAAQAAAAEAAAABAAAAAQAAAAEAAAABAAAAAQAAAAEAAAABAAAAAQAAAAEAAAABAAAAAQAAAAEAAAABAAAAAQAAAAEAAAABAAAAAQAAAAEAAAABAAAAAQAAAAEAAAABAAAAAQAAAAEAAAABAAAAAQAAAAEAAAABAAAAAQAAAAEAAAABAAAAAQAAAAEAAAABAAAAAQAAAAEAAAABAAAAAQAAAAEAAAABAAAAAQAAAAEAAAABAAAAAQAAAAEAAAABAAAAAQAAAAEAAAABAAAAAQAAAAEAAAABAAAAAQAAAAEAAAABAAAAAQAAAAEAAAABAAAAAQAAAAEAAAABAAAAAQAAAAEAAAABAAAAAQAAAAEAAAABAAAAAQAAAAEAAAABAAAAAQAAAAEAAAABAAAAAQAAAAEAAAABAAAAAQAAAAEAAAABAAAAAQAAAAEAAAABAAAAAQAAAAEAAAABAAAAAQAAAAEAAAABAAAAAQAAAAEAAAABAAAAAQAAAAEAAAABAAAAAQAAAAEAAAABAAAAAQAAAAEAAAABAAAAAQAAAAEAAAABAAAAAQAAAAEAAAABAAAAAQAAAAEAAAABAAAAAQAAAAEAAAABAAAAAQAAAAEAAAABAAAAAQAAAAEAAAABAAAAAQAAAAEAAAABAAAAAQAAAAEAAAABAAAAAQAAAAEAAAABAAAAAQAAAAEAAAABAAAAAQAAAAEAAAABAAAAAQAAAAEAAAABAAAAAQAAAAEAAAABAAAAAQAAAAEAAAABAAAAAQAAAAEAAAABAAAAAQAAAAEAAAABAAAAAQAAAAEAAAABAAAAAQAAAAEAAAABAAAAAQAAAAEAAAABAAAAAQAAAAEAAAABAAAAAQAAAAEAAAABAAAAAQAAAAEAAAABAAAAAQAAAAEAAAABAAAAAQAAAAEAAAABAAAAAQAAAAEAAAABAAAAAQAAAAEAAAABAAAAAQAAAAEAAAABAAAAAQAAAAEAAAABAAAAAQAAAAEAAAABAAAAAQAAAAEAAAABAAAAAQAAAAEAAAABAAAAAQAAAAEAAAABAAAAAQAAAAEAAAABAAAAAQAAAAEAAAABAAAAAQAAAAEAAAABAAAAAQAAAAEAAAABAAAAAQAAAAEAAAABAAAAAQAAAAEAAAABAAAAAQAAAAEAAAABAAAAAQAAAAEAAAABAAAAAQAAAAEAAAABAAAAAQAAAAEAAAABAAAAAQAAAAEAAAABAAAAAQAAAAEAAAABAAAAAQAAAAEAAAABAAAAAQAAAAEAAAABAAAAAQAAAAEAAAABAAAAAQAAAAEAAAABAAAAAQAAAAEAAAABAAAAAQAAAAEAAAABAAAAAQAAAAEAAAABAAAAAQAAAAEAAAABAAAAAQAAAAEAAAABAAAAAQAAAAEAAAABAAAAAQAAAAEAAAABAAAAAQAAAAEAAAABAAAAAQAAAAEAAAABAAAAAQAAAAEAAAABAAAAAQAAAAEAAAABAAAAAQAAAAEAAAABAAAAAQAAAAEAAAABAAAAAQAAAAEAAAABAAAAAQAAAAEAAAABAAAAAQAAAAEAAAABAAAAAQAAAAEAAAABAAAAAQAAAAEAAAABAAAAAQAAAAEAAAABAAAAAQAAAAEAAAABAAAAAQAAAAEAAAABAAAAAQAAAAEAAAABAAAAAQAAAAEAAAABAAAAAQAAAAEAAAABAAAAAQAAAAEAAAABAAAAAQAAAAEAAAABAAAAAQAAAAEAAAABAAAAAQAAAAEAAAABAAAAAQAAAAEAAAABAAAAAQAAAAEAAAABAAAAAQAAAAEAAAABAAAAAQAAAAEAAAABAAAAAQAAAAEAAAABAAAAAQAAAAEAAAABAAAAAQAAAAEAAAABAAAAAQAAAAEAAAABAAAAAQAAAAEAAAABAAAAAQAAAAEAAAABAAAAAQAAAAEAAAABAAAAAQAAAAEAAAABAAAAAQAAAAEAAAABAAAAAQAAAAEAAAABAAAAAQAAAAEAAAABAAAAAQAAAAEAAAABAAAAAQAAAAEAAAABAAAAAQAAAAEAAAABAAAAAQAAAAEAAAABAAAAAQAAAAEAAAABAAAAAQAAAAEAAAABAAAAAQAAAAEAAAABAAAAAQAAAAEAAAABAAAAAQAAAAEAAAABAAAAAQAAAAEAAAABAAAAAQAAAAEAAAABAAAAAQAAAAEAAAABAAAAAQAAAAEAAAABAAAAAQAAAAEAAAABAAAAAQAAAAEAAAABAAAAAQAAAAEAAAABAAAAAQAAAAEAAAABAAAAAQAAAAEAAAABAAAAAQAAAAEAAAABAAAAAQAAAAEAAAABAAAAAQAAAAEAAAABAAAAAQAAAAEAAAABAAAAAQAAAAEAAAABAAAAAQAAAAEAAAABAAAAAQAAAAEAAAABAAAAAQAAAAEAAAABAAAAAQAAAAEAAAABAAAAAQAAAAEAAAABAAAAAQAAAAEAAAABAAAAAQAAAAEAAAABAAAAAQAAAAEAAAABAAAAAQAAAAEAAAABAAAAAQAAAAEAAAABAAAAAQAAAAEAAAABAAAAAQAAAAEAAAABAAAAAQAAAAEAAAABAAAAAQAAAAEAAAABAAAAAQAAAAEAAAABAAAAAQAAAAEAAAABAAAAAQAAAAEAAAABAAAAAQAAAAEAAAABAAAAAQAAAAEAAAABAAAAAQAAAAEAAAABAAAAAQAAAAEAAAABAAAAAQAAAAEAAAABAAAAAQAAAAEAAAABAAAAAQAAAAEAAAABAAAAAQAAAAEAAAABAAAAAQAAAAEAAAABAAAAAQAAAAEAAAABAAAAAQAAAAEAAAABAAAAAQAAAAEAAAABAAAAAQAAAAEAAAABAAAAAQAAAAEAAAABAAAAAQAAAAEAAAABAAAAAQAAAAEAAAABAAAAAQAAAAEAAAABAAAAAQAAAAEAAAABAAAAAQAAAAEAAAABAAAAAQAAAAEAAAABAAAAAQAAAAEAAAABAAAAAQAAAAEAAAABAAAAAQAAAAEAAAABAAAAAQAAAAEAAAABAAAAAQAAAAEAAAABAAAAAQAAAAEAAAABAAAAAQAAAAEAAAABAAAAAQAAAAEAAAABAAAAAQAAAAEAAAABAAAAAQAAAAEAAAABAAAAAQAAAAEAAAABAAAAAQAAAAEAAAABAAAAAQAAAAEAAAABAAAAAQAAAAEAAAABAAAAAQAAAAEAAAABAAAAAQAAAAEAAAABAAAAAQAAAAEAAAABAAAAAQAAAAEAAAABAAAAAQAAAAEAAAABAAAAAQAAAAEAAAABAAAAAQAAAAEAAAABAAAAAQAAAAEAAAABAAAAAQAAAAEAAAABAAAAAQAAAAEAAAABAAAAAQAAAAEAAAABAAAAAQAAAAEAAAABAAAAAQAAAAEAAAABAAAAAQAAAAEAAAABAAAAAQAAAAEAAAABAAAAAQAAAAEAAAABAAAAAQAAAAEAAAABAAAAAQAAAAEAAAABAAAAAQAAAAEAAAABAAAAAQAAAAEAAAABAAAAAQAAAAEAAAABAAAAAQAAAAEAAAABAAAAAQAAAAEAAAABAAAAAQAAAAEAAAABAAAAAQAAAAEAAAABAAAAAQAAAAEAAAABAAAAAQAAAAEAAAABAAAAAQAAAAEAAAABAAAAAQAAAAEAAAABAAAAAQAAAAEAAAABAAAAAQAAAAEAAAABAAAAAQAAAAEAAAABAAAAAQAAAAEAAAABAAAAAQAAAAEAAAABAAAAAQAAAAEAAAABAAAAAQAAAAEAAAABAAAAAQAAAAEAAAABAAAAAQAAAAEAAAABAAAAAQAAAAEAAAABAAAAAQAAAAEAAAABAAAAAQAAAAEAAAABAAAAAQAAAAEAAAABAAAAAQAAAAEAAAABAAAAAQAAAAEAAAABAAAAAQAAAAEAAAABAAAAAQAAAAEAAAABAAAAAQAAAAEAAAABAAAAAQAAAAEAAAABAAAAAQAAAAEAAAABAAAAAQAAAAEAAAABAAAAAQAAAAEAAAABAAAAAQAAAAEAAAABAAAAAQAAAAEAAAABAAAAAQAAAAEAAAABAAAAAQAAAAEAAAABAAAAAQAAAAEAAAABAAAAAQAAAAEAAAABAAAAAQAAAAEAAAABAAAAAQAAAAEAAAABAAAAAQAAAAEAAAABAAAAAQAAAAEAAAABAAAAAQAAAAEAAAABAAAAAQAAAAEAAAABAAAAAQAAAAEAAAABAAAAAQAAAAEAAAABAAAAAQAAAAEAAAABAAAAAQAAAAEAAAABAAAAAQAAAAEAAAABAAAAAQAAAAEAAAABAAAAAQAAAAEAAAABAAAAAQAAAAEAAAABAAAAAQAAAAEAAAABAAAAAQAAAAEAAAABAAAAAQAAAAEAAAABAAAAAQAAAAEAAAABAAAAAQAAAAEAAAABAAAAAQAAAAEAAAABAAAAAQAAAAEAAAABAAAAAQAAAAEAAAABAAAAAQAAAAEAAAABAAAAAQAAAAEAAAABAAAAAQAAAAEAAAABAAAAAQAAAAEAAAABAAAAAQAAAAEAAAABAAAAAQAAAAEAAAABAAAAAQAAAAEAAAABAAAAAQAAAAEAAAABAAAAAQAAAAEAAAABAAAAAQAAAAEAAAABAAAAAQAAAAEAAAABAAAAAQAAAAEAAAABAAAAAQAAAAEAAAABAAAAAQAAAAEAAAABAAAAAQAAAAEAAAABAAAAAQAAAAEAAAABAAAAAQAAAAEAAAABAAAAAQAAAAEAAAABAAAAAQAAAAEAAAABAAAAAQAAAAEAAAABAAAAAQAAAAEAAAABAAAAAQAAAAEAAAABAAAAAQAAAAEAAAABAAAAAQAAAAEAAAABAAAAAQAAAAEAAAABAAAAAQAAAAEAAAABAAAAAQAAAAEAAAABAAAAAQAAAAEAAAABAAAAAQAAAAEAAAABAAAAAQAAAAEAAAABAAAAAQAAAAEAAAABAAAAAQAAAAEAAAABAAAAAQAAAAEAAAABAAAAAQAAAAEAAAABAAAAAQAAAAEAAAABAAAAAQAAAAEAAAABAAAAAQAAAAEAAAABAAAAAQAAAAEAAAABAAAAAQAAAAEAAAABAAAAAQAAAAEAAAABAAAAAQAAAAEAAAABAAAAAQAAAAEAAAABAAAAAQAAAAEAAAABAAAAAQAAAAEAAAABAAAAAQAAAAEAAAABAAAAAQAAAAEAAAABAAAAAQAAAAEAAAABAAAAAQAAAAEAAAABAAAAAQAAAAEAAAABAAAAAQAAAAEAAAABAAAAAQAAAAEAAAABAAAAAQAAAAEAAAABAAAAAQAAAAEAAAABAAAAAQAAAAEAAAABAAAAAQAAAAEAAAABAAAAAQAAAAEAAAABAAAAAQAAAAEAAAABAAAAAQAAAAEAAAABAAAAAQAAAAEAAAABAAAAAQAAAAEAAAABAAAAAQAAAAEAAAABAAAAAQAAAAEAAAABAAAAAQAAAAEAAAABAAAAAQAAAAEAAAABAAAAAQAAAAEAAAABAAAAAQAAAAEAAAABAAAAAQAAAAEAAAABAAAAAQAAAAEAAAABAAAAAQAAAAEAAAABAAAAAQAAAAEAAAABAAAAAQAAAAEAAAABAAAAAQAAAAEAAAABAAAAAQAAAAEAAAABAAAAAQAAAAEAAAABAAAAAQAAAAEAAAABAAAAAQAAAAEAAAABAAAAAQAAAAEAAAABAAAAAQAAAAEAAAABAAAAAQAAAAEAAAABAAAAAQAAAAEAAAABAAAAAQAAAAEAAAABAAAAAQAAAAEAAAABAAAAAQAAAAEAAAABAAAAAQAAAAEAAAABAAAAAQAAAAEAAAABAAAAAQAAAAEAAAABAAAAAQAAAAEAAAABAAAAAQAAAAEAAAABAAAAAQAAAAEAAAABAAAAAQAAAAEAAAABAAAAAQAAAAEAAAABAAAAAQAAAAEAAAABAAAAAQAAAAEAAAABAAAAAQAAAAEAAAABAAAAAQAAAAEAAAABAAAAAQAAAAEAAAABAAAAAQAAAAEAAAABAAAAAQAAAAEAAAABAAAAAQAAAAEAAAABAAAAAQAAAAEAAAABAAAAAQAAAAEAAAABAAAAAQAAAAEAAAABAAAAAQAAAAEAAAABAAAAAQAAAAEAAAABAAAAAQAAAAEAAAABAAAAAQAAAAEAAAABAAAAAQAAAAEAAAABAAAAAQAAAAEAAAABAAAAAQAAAAEAAAABAAAAAQAAAAEAAAABAAAAAQAAAAEAAAABAAAAAQAAAAEAAAABAAAAAQAAAAEAAAABAAAAAQAAAAEAAAABAAAAAQAAAAEAAAABAAAAAQAAAAEAAAABAAAAAQAAAAEAAAABAAAAAQAAAAEAAAABAAAAAQAAAAEAAAABAAAAAQAAAAEAAAABAAAAAQAAAAEAAAABAAAAAQAAAAEAAAABAAAAAQAAAAEAAAABAAAAAQAAAAEAAAABAAAAAQAAAAEAAAABAAAAAQAAAAEAAAABAAAAAQAAAAEAAAABAAAAAQAAAAEAAAABAAAAAQAAAAEAAAABAAAAAQAAAAEAAAABAAAAAQAAAAEAAAABAAAAAQAAAAEAAAABAAAAAQAAAAEAAAABAAAAAQAAAAEAAAABAAAAAQAAAAEAAAABAAAAAQAAAAEAAAABAAAAAQAAAAEAAAABAAAAAQAAAAEAAAABAAAAAQAAAAEAAAABAAAAAQAAAAEAAAABAAAAAQAAAAEAAAABAAAAAQAAAAEAAAABAAAAAQAAAAEAAAABAAAAAQAAAAEAAAABAAAAAQAAAAEAAAABAAAAAQAAAAEAAAABAAAAAQAAAAEAAAABAAAAAQAAAAEAAAABAAAAAQAAAAEAAAABAAAAAQAAAAEAAAABAAAAAQAAAAEAAAABAAAAAQAAAAEAAAABAAAAAQAAAAEAAAABAAAAAQAAAAEAAAABAAAAAQAAAAEAAAABAAAAAQAAAAEAAAABAAAAAQAAAAEAAAABAAAAAQAAAAEAAAABAAAAAQAAAAEAAAABAAAAAQAAAAEAAAABAAAAAQAAAAEAAAABAAAAAQAAAAEAAAABAAAAAQAAAAEAAAABAAAAAQAAAAEAAAABAAAAAQAAAAEAAAABAAAAAQAAAAEAAAABAAAAAQAAAAEAAAABAAAAAQAAAAEAAAABAAAAAQAAAAEAAAABAAAAAQAAAAEAAAABAAAAAQAAAAEAAAABAAAAAQAAAAEAAAABAAAAAQAAAAEAAAABAAAAAQAAAAEAAAABAAAAAQAAAAEAAAABAAAAAQAAAAEAAAABAAAAAQAAAAEAAAABAAAAAQAAAAEAAAABAAAAAQAAAAEAAAABAAAAAQAAAAEAAAABAAAAAQAAAAEAAAABAAAAAQAAAAEAAAABAAAAAQAAAAEAAAABAAAAAQAAAAEAAAABAAAAAQAAAAEAAAABAAAAAQAAAAEAAAABAAAAAQAAAAEAAAABAAAAAQAAAAEAAAABAAAAAQAAAAEAAAABAAAAAQAAAAEAAAABAAAAAQAAAAEAAAABAAAAAQAAAAEAAAABAAAAAQAAAAEAAAABAAAAAQAAAAEAAAABAAAAAQAAAAEAAAABAAAAAQAAAAEAAAABAAAAAQAAAAEAAAABAAAAAQAAAAEAAAABAAAAAQAAAAEAAAABAAAAAQAAAAEAAAABAAAAAQAAAAEAAAABAAAAAQAAAAEAAAABAAAAAQAAAAEAAAABAAAAAQAAAAEAAAABAAAAAQAAAAEAAAABAAAAAQAAAAEAAAABAAAAAQAAAAEAAAABAAAAAQAAAAEAAAABAAAAAQAAAAEAAAABAAAAAQAAAAEAAAABAAAAAQAAAAEAAAABAAAAAQAAAAEAAAABAAAAAQAAAAEAAAABAAAAAQAAAAEAAAABAAAAAQAAAAEAAAABAAAAAQAAAAEAAAABAAAAAQAAAAEAAAABAAAAAQAAAAEAAAABAAAAAQAAAAEAAAABAAAAAQAAAAEAAAABAAAAAQAAAAEAAAABAAAAAQAAAAEAAAABAAAAAQAAAAEAAAABAAAAAQAAAAEAAAABAAAAAQAAAAEAAAABAAAAAQAAAAEAAAABAAAAAQAAAAEAAAABAAAAAQAAAAEAAAABAAAAAQAAAAEAAAABAAAAAQAAAAEAAAABAAAAAQAAAAEAAAABAAAAAQAAAAEAAAABAAAAAQAAAAEAAAABAAAAAQAAAAEAAAABAAAAAQAAAAEAAAABAAAAAQAAAAEAAAABAAAAAQAAAAEAAAABAAAAAQAAAAEAAAABAAAAAQAAAAEAAAABAAAAAQAAAAEAAAABAAAAAQAAAAEAAAABAAAAAQAAAAEAAAABAAAAAQAAAAEAAAABAAAAAQAAAAEAAAABAAAAAQAAAAEAAAABAAAAAQAAAAEAAAABAAAAAQAAAAEAAAABAAAAAQAAAAEAAAABAAAAAQAAAAEAAAABAAAAAQAAAAEAAAABAAAAAQAAAAEAAAABAAAAAQAAAAEAAAABAAAAAQAAAAEAAAABAAAAAQAAAAEAAAABAAAAAQAAAAEAAAABAAAAAQAAAAEAAAABAAAAAQAAAAEAAAABAAAAAQAAAAEAAAABAAAAAQAAAAEAAAABAAAAAQAAAAEAAAABAAAAAQAAAAEAAAABAAAAAQAAAAEAAAABAAAAAQAAAAEAAAABAAAAAQAAAAEAAAABAAAAAQAAAAEAAAABAAAAAQAAAAEAAAABAAAAAQAAAAEAAAABAAAAAQAAAAEAAAABAAAAAQAAAAEAAAABAAAAAQAAAAEAAAABAAAAAQAAAAEAAAABAAAAAQAAAAEAAAABAAAAAQAAAAEAAAABAAAAAQAAAAEAAAABAAAAAQAAAAEAAAABAAAAAQAAAAEAAAABAAAAAQAAAAEAAAABAAAAAQAAAAEAAAABAAAAAQAAAAEAAAABAAAAAQAAAAEAAAABAAAAAQAAAAEAAAABAAAAAQAAAAEAAAABAAAAAQAAAAEAAAABAAAAAQAAAAEAAAABAAAAAQAAAAEAAAABAAAAAQAAAAEAAAABAAAAAQAAAAEAAAABAAAAAQAAAAEAAAABAAAAAQAAAAEAAAABAAAAAQAAAAEAAAABAAAAAQAAAAEAAAABAAAAAQAAAAEAAAABAAAAAQAAAAEAAAABAAAAAQAAAAEAAAABAAAAAQAAAAEAAAABAAAAAQAAAAEAAAABAAAAAQAAAAEAAAABAAAAAQAAAAEAAAABAAAAAQAAAAEAAAABAAAAAQAAAAEAAAABAAAAAQAAAAEAAAABAAAAAQAAAAEAAAABAAAAAQAAAAEAAAABAAAAAQAAAAEAAAABAAAAAQAAAAEAAAABAAAAAQAAAAEAAAABAAAAAQAAAAEAAAABAAAAAQAAAAEAAAABAAAAAQAAAAEAAAABAAAAAQAAAAEAAAABAAAAAQAAAAEAAAABAAAAAQAAAAEAAAABAAAAAQAAAAEAAAABAAAAAQAAAAEAAAABAAAAAQAAAAEAAAABAAAAAQAAAAEAAAABAAAAAQAAAAEAAAABAAAAAQAAAAEAAAABAAAAAQAAAAEAAAABAAAAAQAAAAEAAAABAAAAAQAAAAEAAAABAAAAAQAAAAEAAAABAAAAAQAAAAEAAAABAAAAAQAAAAEAAAABAAAAAQAAAAEAAAABAAAAAQAAAAEAAAABAAAAAQAAAAEAAAABAAAAAQAAAAEAAAABAAAAAQAAAAEAAAABAAAAAQAAAAEAAAABAAAAAQAAAAEAAAABAAAAAQAAAAEAAAABAAAAAQAAAAEAAAABAAAAAQAAAAEAAAABAAAAAQAAAAEAAAABAAAAAQAAAAEAAAABAAAAAQAAAAEAAAABAAAAAQAAAAEAAAABAAAAAQAAAAEAAAABAAAAAQAAAAEAAAABAAAAAQAAAAEAAAABAAAAAQAAAAEAAAABAAAAAQAAAAEAAAABAAAAAQAAAAEAAAABAAAAAQAAAAEAAAABAAAAAQAAAAEAAAABAAAAAQAAAAEAAAABAAAAAQAAAAEAAAABAAAAAQAAAAEAAAABAAAAAQAAAAEAAAABAAAAAQAAAAEAAAABAAAAAQAAAAEAAAABAAAAAQAAAAEAAAABAAAAAQAAAAEAAAABAAAAAQAAAAEAAAABAAAAAQAAAAEAAAABAAAAAQAAAAEAAAABAAAAAQAAAAEAAAABAAAAAQAAAAEAAAABAAAAAQAAAAEAAAABAAAAAQAAAAEAAAABAAAAAQAAAAEAAAABAAAAAQAAAAEAAAABAAAAAQAAAAEAAAABAAAAAQAAAAEAAAABAAAAAQAAAAEAAAABAAAAAQAAAAEAAAABAAAAAQAAAAEAAAABAAAAAQAAAAEAAAABAAAAAQAAAAEAAAABAAAAAQAAAAEAAAABAAAAAQAAAAEAAAABAAAAAQAAAAEAAAABAAAAAQAAAAEAAAABAAAAAQAAAAEAAAABAAAAAQAAAAEAAAABAAAAAQAAAAEAAAABAAAAAQAAAAEAAAABAAAAAQAAAAEAAAABAAAAAQAAAAEAAAABAAAAAQAAAAEAAAABAAAAAQAAAAEAAAABAAAAAQAAAAEAAAABAAAAAQAAAAEAAAABAAAAAQAAAAEAAAABAAAAAQAAAAEAAAABAAAAAQAAAAEAAAABAAAAAQAAAAEAAAABAAAAAQAAAAEAAAABAAAAAQAAAAEAAAABAAAAAQAAAAEAAAABAAAAAQAAAAEAAAABAAAAAQAAAAEAAAABAAAAAQAAAAEAAAABAAAAAQAAAAEAAAABAAAAAQAAAAEAAAABAAAAAQAAAAEAAAABAAAAAQAAAAEAAAABAAAAAQAAAAEAAAABAAAAAQAAAAEAAAABAAAAAQAAAAEAAAABAAAAAQAAAAEAAAABAAAAAQAAAAEAAAABAAAAAQAAAAEAAAABAAAAAQAAAAEAAAABAAAAAQAAAAEAAAABAAAAAQAAAAEAAAABAAAAAQAAAAEAAAABAAAAAQAAAAEAAAABAAAAAQAAAAEAAAABAAAAAQAAAAEAAAABAAAAAQAAAAEAAAABAAAAAQAAAAEAAAABAAAAAQAAAAEAAAABAAAAAQAAAAEAAAABAAAAAQAAAAEAAAABAAAAAQAAAAEAAAABAAAAAQAAAAEAAAABAAAAAQAAAAEAAAABAAAAAQAAAAEAAAABAAAAAQAAAAEAAAABAAAAAQAAAAEAAAABAAAAAQAAAAEAAAABAAAAAQAAAAEAAAABAAAAAQAAAAEAAAABAAAAAQAAAAEAAAABAAAAAQAAAAEAAAABAAAAAQAAAAEAAAABAAAAAQAAAAEAAAABAAAAAQAAAAEAAAABAAAAAQAAAAEAAAABAAAAAQAAAAEAAAABAAAAAQAAAAEAAAABAAAAAQAAAAEAAAABAAAAAQAAAAEAAAABAAAAAQAAAAEAAAABAAAAAQAAAAEAAAABAAAAAQAAAAEAAAABAAAAAQAAAAEAAAABAAAAAQAAAAEAAAABAAAAAQAAAAEAAAABAAAAAQAAAAEAAAABAAAAAQAAAAEAAAABAAAAAQAAAAEAAAABAAAAAQAAAAEAAAABAAAAAQAAAAEAAAABAAAAAQAAAAEAAAABAAAAAQAAAAEAAAABAAAAAQAAAAEAAAABAAAAAQAAAAEAAAABAAAAAQAAAAEAAAABAAAAAQAAAAEAAAABAAAAAQAAAAEAAAABAAAAAQAAAAEAAAABAAAAAQAAAAEAAAABAAAAAQAAAAEAAAABAAAAAQAAAAEAAAABAAAAAQAAAAEAAAABAAAAAQAAAAEAAAABAAAAAQAAAAEAAAABAAAAAQAAAAEAAAABAAAAAQAAAAEAAAABAAAAAQAAAAEAAAABAAAAAQAAAAEAAAABAAAAAQAAAAEAAAABAAAAAQAAAAEAAAABAAAAAQAAAAEAAAABAAAAAQAAAAEAAAABAAAAAQAAAAEAAAABAAAAAQAAAAEAAAABAAAAAQAAAAEAAAABAAAAAQAAAAEAAAABAAAAAQAAAAEAAAABAAAAAQAAAAEAAAABAAAAAQAAAAEAAAABAAAAAQAAAAEAAAABAAAAAQAAAAEAAAABAAAAAQAAAAEAAAABAAAAAQAAAAEAAAABAAAAAQAAAAEAAAABAAAAAQAAAAEAAAABAAAAAQAAAAEAAAABAAAAAQAAAAEAAAABAAAAAQAAAAEAAAABAAAAAQAAAAEAAAABAAAAAQAAAAEAAAABAAAAAQAAAAEAAAABAAAAAQAAAAEAAAABAAAAAQAAAAEAAAABAAAAAQAAAAEAAAABAAAAAQAAAAEAAAABAAAAAQAAAAEAAAABAAAAAQAAAA==\"},\"shape\":[9430],\"dtype\":\"int32\",\"order\":\"little\"}]]}}},\"view\":{\"type\":\"object\",\"name\":\"CDSView\",\"id\":\"p1045\",\"attributes\":{\"filter\":{\"type\":\"object\",\"name\":\"AllIndices\",\"id\":\"p1046\"}}},\"glyph\":{\"type\":\"object\",\"name\":\"Circle\",\"id\":\"p1041\",\"attributes\":{\"x\":{\"type\":\"field\",\"field\":\"x\"},\"y\":{\"type\":\"field\",\"field\":\"y\"},\"size\":{\"type\":\"value\",\"value\":2},\"line_color\":{\"type\":\"field\",\"field\":\"color\"},\"line_alpha\":{\"type\":\"field\",\"field\":\"alpha\"},\"fill_color\":{\"type\":\"field\",\"field\":\"color\"},\"fill_alpha\":{\"type\":\"field\",\"field\":\"alpha\"},\"hatch_color\":{\"type\":\"field\",\"field\":\"color\"},\"hatch_alpha\":{\"type\":\"field\",\"field\":\"alpha\"}}},\"nonselection_glyph\":{\"type\":\"object\",\"name\":\"Circle\",\"id\":\"p1042\",\"attributes\":{\"x\":{\"type\":\"field\",\"field\":\"x\"},\"y\":{\"type\":\"field\",\"field\":\"y\"},\"size\":{\"type\":\"value\",\"value\":2},\"line_color\":{\"type\":\"field\",\"field\":\"color\"},\"line_alpha\":{\"type\":\"value\",\"value\":0.1},\"fill_color\":{\"type\":\"field\",\"field\":\"color\"},\"fill_alpha\":{\"type\":\"value\",\"value\":0.1},\"hatch_color\":{\"type\":\"field\",\"field\":\"color\"},\"hatch_alpha\":{\"type\":\"value\",\"value\":0.1}}},\"muted_glyph\":{\"type\":\"object\",\"name\":\"Circle\",\"id\":\"p1043\",\"attributes\":{\"x\":{\"type\":\"field\",\"field\":\"x\"},\"y\":{\"type\":\"field\",\"field\":\"y\"},\"size\":{\"type\":\"value\",\"value\":2},\"line_color\":{\"type\":\"field\",\"field\":\"color\"},\"line_alpha\":{\"type\":\"value\",\"value\":0.2},\"fill_color\":{\"type\":\"field\",\"field\":\"color\"},\"fill_alpha\":{\"type\":\"value\",\"value\":0.2},\"hatch_color\":{\"type\":\"field\",\"field\":\"color\"},\"hatch_alpha\":{\"type\":\"value\",\"value\":0.2}}}}}],\"toolbar\":{\"type\":\"object\",\"name\":\"Toolbar\",\"id\":\"p1013\",\"attributes\":{\"tools\":[{\"type\":\"object\",\"name\":\"PanTool\",\"id\":\"p1026\"},{\"type\":\"object\",\"name\":\"WheelZoomTool\",\"id\":\"p1027\",\"attributes\":{\"renderers\":\"auto\"}},{\"type\":\"object\",\"name\":\"BoxZoomTool\",\"id\":\"p1028\",\"attributes\":{\"overlay\":{\"type\":\"object\",\"name\":\"BoxAnnotation\",\"id\":\"p1029\",\"attributes\":{\"syncable\":false,\"level\":\"overlay\",\"visible\":false,\"left\":{\"type\":\"number\",\"value\":\"nan\"},\"right\":{\"type\":\"number\",\"value\":\"nan\"},\"top\":{\"type\":\"number\",\"value\":\"nan\"},\"bottom\":{\"type\":\"number\",\"value\":\"nan\"},\"left_units\":\"canvas\",\"right_units\":\"canvas\",\"top_units\":\"canvas\",\"bottom_units\":\"canvas\",\"line_color\":\"black\",\"line_alpha\":1.0,\"line_width\":2,\"line_dash\":[4,4],\"fill_color\":\"lightgrey\",\"fill_alpha\":0.5}}}},{\"type\":\"object\",\"name\":\"SaveTool\",\"id\":\"p1034\"},{\"type\":\"object\",\"name\":\"ResetTool\",\"id\":\"p1035\"},{\"type\":\"object\",\"name\":\"HelpTool\",\"id\":\"p1036\"},{\"type\":\"object\",\"name\":\"HoverTool\",\"id\":\"p1037\",\"attributes\":{\"renderers\":\"auto\",\"tooltips\":[[\"index\",\"@{index}\"],[\"label\",\"@{label}\"],[\"item\",\"@{item}\"]]}}]}},\"left\":[{\"type\":\"object\",\"name\":\"LinearAxis\",\"id\":\"p1021\",\"attributes\":{\"visible\":false,\"ticker\":{\"type\":\"object\",\"name\":\"BasicTicker\",\"id\":\"p1022\",\"attributes\":{\"mantissas\":[1,2,5]}},\"formatter\":{\"type\":\"object\",\"name\":\"BasicTickFormatter\",\"id\":\"p1023\"},\"major_label_policy\":{\"type\":\"object\",\"name\":\"AllLabels\",\"id\":\"p1024\"}}}],\"below\":[{\"type\":\"object\",\"name\":\"LinearAxis\",\"id\":\"p1016\",\"attributes\":{\"visible\":false,\"ticker\":{\"type\":\"object\",\"name\":\"BasicTicker\",\"id\":\"p1017\",\"attributes\":{\"mantissas\":[1,2,5]}},\"formatter\":{\"type\":\"object\",\"name\":\"BasicTickFormatter\",\"id\":\"p1018\"},\"major_label_policy\":{\"type\":\"object\",\"name\":\"AllLabels\",\"id\":\"p1019\"}}}],\"center\":[{\"type\":\"object\",\"name\":\"Grid\",\"id\":\"p1020\",\"attributes\":{\"visible\":false,\"axis\":{\"id\":\"p1016\"}}},{\"type\":\"object\",\"name\":\"Grid\",\"id\":\"p1025\",\"attributes\":{\"visible\":false,\"dimension\":1,\"axis\":{\"id\":\"p1021\"}}}],\"background_fill_color\":\"white\"}}],\"defs\":[{\"type\":\"model\",\"name\":\"ReactiveHTML1\"},{\"type\":\"model\",\"name\":\"FlexBox1\",\"properties\":[{\"name\":\"align_content\",\"kind\":\"Any\",\"default\":\"flex-start\"},{\"name\":\"align_items\",\"kind\":\"Any\",\"default\":\"flex-start\"},{\"name\":\"flex_direction\",\"kind\":\"Any\",\"default\":\"row\"},{\"name\":\"flex_wrap\",\"kind\":\"Any\",\"default\":\"wrap\"},{\"name\":\"justify_content\",\"kind\":\"Any\",\"default\":\"flex-start\"}]},{\"type\":\"model\",\"name\":\"FloatPanel1\",\"properties\":[{\"name\":\"config\",\"kind\":\"Any\",\"default\":{\"type\":\"map\"}},{\"name\":\"contained\",\"kind\":\"Any\",\"default\":true},{\"name\":\"position\",\"kind\":\"Any\",\"default\":\"right-top\"},{\"name\":\"offsetx\",\"kind\":\"Any\",\"default\":null},{\"name\":\"offsety\",\"kind\":\"Any\",\"default\":null},{\"name\":\"theme\",\"kind\":\"Any\",\"default\":\"primary\"},{\"name\":\"status\",\"kind\":\"Any\",\"default\":\"normalized\"}]},{\"type\":\"model\",\"name\":\"GridStack1\",\"properties\":[{\"name\":\"mode\",\"kind\":\"Any\",\"default\":\"warn\"},{\"name\":\"ncols\",\"kind\":\"Any\",\"default\":null},{\"name\":\"nrows\",\"kind\":\"Any\",\"default\":null},{\"name\":\"allow_resize\",\"kind\":\"Any\",\"default\":true},{\"name\":\"allow_drag\",\"kind\":\"Any\",\"default\":true},{\"name\":\"state\",\"kind\":\"Any\",\"default\":[]}]},{\"type\":\"model\",\"name\":\"drag1\",\"properties\":[{\"name\":\"slider_width\",\"kind\":\"Any\",\"default\":5},{\"name\":\"slider_color\",\"kind\":\"Any\",\"default\":\"black\"},{\"name\":\"value\",\"kind\":\"Any\",\"default\":50}]},{\"type\":\"model\",\"name\":\"click1\",\"properties\":[{\"name\":\"terminal_output\",\"kind\":\"Any\",\"default\":\"\"},{\"name\":\"debug_name\",\"kind\":\"Any\",\"default\":\"\"},{\"name\":\"clears\",\"kind\":\"Any\",\"default\":0}]},{\"type\":\"model\",\"name\":\"copy_to_clipboard1\",\"properties\":[{\"name\":\"fill\",\"kind\":\"Any\",\"default\":\"none\"},{\"name\":\"value\",\"kind\":\"Any\",\"default\":null}]},{\"type\":\"model\",\"name\":\"FastWrapper1\",\"properties\":[{\"name\":\"object\",\"kind\":\"Any\",\"default\":null},{\"name\":\"style\",\"kind\":\"Any\",\"default\":null}]},{\"type\":\"model\",\"name\":\"NotificationAreaBase1\",\"properties\":[{\"name\":\"js_events\",\"kind\":\"Any\",\"default\":{\"type\":\"map\"}},{\"name\":\"position\",\"kind\":\"Any\",\"default\":\"bottom-right\"},{\"name\":\"_clear\",\"kind\":\"Any\",\"default\":0}]},{\"type\":\"model\",\"name\":\"NotificationArea1\",\"properties\":[{\"name\":\"js_events\",\"kind\":\"Any\",\"default\":{\"type\":\"map\"}},{\"name\":\"notifications\",\"kind\":\"Any\",\"default\":[]},{\"name\":\"position\",\"kind\":\"Any\",\"default\":\"bottom-right\"},{\"name\":\"_clear\",\"kind\":\"Any\",\"default\":0},{\"name\":\"types\",\"kind\":\"Any\",\"default\":[{\"type\":\"map\",\"entries\":[[\"type\",\"warning\"],[\"background\",\"#ffc107\"],[\"icon\",{\"type\":\"map\",\"entries\":[[\"className\",\"fas fa-exclamation-triangle\"],[\"tagName\",\"i\"],[\"color\",\"white\"]]}]]},{\"type\":\"map\",\"entries\":[[\"type\",\"info\"],[\"background\",\"#007bff\"],[\"icon\",{\"type\":\"map\",\"entries\":[[\"className\",\"fas fa-info-circle\"],[\"tagName\",\"i\"],[\"color\",\"white\"]]}]]}]}]},{\"type\":\"model\",\"name\":\"Notification\",\"properties\":[{\"name\":\"background\",\"kind\":\"Any\",\"default\":null},{\"name\":\"duration\",\"kind\":\"Any\",\"default\":3000},{\"name\":\"icon\",\"kind\":\"Any\",\"default\":null},{\"name\":\"message\",\"kind\":\"Any\",\"default\":\"\"},{\"name\":\"notification_type\",\"kind\":\"Any\",\"default\":null},{\"name\":\"_destroyed\",\"kind\":\"Any\",\"default\":false}]},{\"type\":\"model\",\"name\":\"TemplateActions1\",\"properties\":[{\"name\":\"open_modal\",\"kind\":\"Any\",\"default\":0},{\"name\":\"close_modal\",\"kind\":\"Any\",\"default\":0}]},{\"type\":\"model\",\"name\":\"BootstrapTemplateActions1\",\"properties\":[{\"name\":\"open_modal\",\"kind\":\"Any\",\"default\":0},{\"name\":\"close_modal\",\"kind\":\"Any\",\"default\":0}]},{\"type\":\"model\",\"name\":\"MaterialTemplateActions1\",\"properties\":[{\"name\":\"open_modal\",\"kind\":\"Any\",\"default\":0},{\"name\":\"close_modal\",\"kind\":\"Any\",\"default\":0}]}]}};\n",
       "  const render_items = [{\"docid\":\"8b422e2f-e0d2-497e-8dcd-9af72125b24c\",\"roots\":{\"p1005\":\"b45906f7-e960-4ebf-a1d9-311ef224cefa\"},\"root_ids\":[\"p1005\"]}];\n",
       "  root.Bokeh.embed.embed_items_notebook(docs_json, render_items);\n",
       "  }\n",
       "  if (root.Bokeh !== undefined) {\n",
       "    embed_document(root);\n",
       "  } else {\n",
       "    let attempts = 0;\n",
       "    const timer = setInterval(function(root) {\n",
       "      if (root.Bokeh !== undefined) {\n",
       "        clearInterval(timer);\n",
       "        embed_document(root);\n",
       "      } else {\n",
       "        attempts++;\n",
       "        if (attempts > 100) {\n",
       "          clearInterval(timer);\n",
       "          console.log(\"Bokeh: ERROR: Unable to run BokehJS code because BokehJS library is missing\");\n",
       "        }\n",
       "      }\n",
       "    }, 10, root)\n",
       "  }\n",
       "})(window);"
      ],
      "application/vnd.bokehjs_exec.v0+json": ""
     },
     "metadata": {
      "application/vnd.bokehjs_exec.v0+json": {
       "id": "p1005"
      }
     },
     "output_type": "display_data"
    }
   ],
   "source": [
    "p = umap.plot.interactive(mapper, labels=train_labels.detach().cpu().numpy(), hover_data=hover_data, point_size=2)\n",
    "umap.plot.show(p)"
   ]
  },
  {
   "cell_type": "code",
   "execution_count": null,
   "id": "178f2086-d1d8-46d1-8345-01a639a018de",
   "metadata": {},
   "outputs": [],
   "source": [
    "## classification report for all classes when entire  dataset in vecto"
   ]
  },
  {
   "cell_type": "code",
   "execution_count": 31,
   "id": "314f5a94-c661-4bf1-8f4e-2ed603c00941",
   "metadata": {},
   "outputs": [
    {
     "name": "stderr",
     "output_type": "stream",
     "text": [
      "100%|█████████████████████████████████████████████████████████████████████████████████████████████████████| 295/295 [00:17<00:00, 16.69it/s]\n",
      "100%|███████████████████████████████████████████████████████████████████████████████████████████████████████| 74/74 [00:04<00:00, 18.28it/s]\n"
     ]
    }
   ],
   "source": [
    "train_embeddings, train_labels = get_all_embeddings(train_dataset, model)\n",
    "test_embeddings, test_labels = get_all_embeddings(test_dataset, model)\n",
    "train_labels = train_labels.squeeze(1)\n",
    "test_labels = test_labels.squeeze(1)"
   ]
  },
  {
   "cell_type": "code",
   "execution_count": 32,
   "id": "3a95fea1-6b58-4dcf-aeb7-de1a40ee731b",
   "metadata": {},
   "outputs": [],
   "source": [
    "import faiss\n",
    "# Create a Faiss index\n",
    "index = faiss.IndexFlatIP(128)\n",
    "# Add some vectors to the index\n",
    "index.add(train_embeddings.detach().cpu().numpy())"
   ]
  },
  {
   "cell_type": "code",
   "execution_count": 33,
   "id": "b7865da3-0493-4c18-b748-9ed4858e4168",
   "metadata": {},
   "outputs": [],
   "source": [
    "pred_labels = [] \n",
    "for embedding,label in zip(test_embeddings.detach().cpu().numpy(),test_labels):\n",
    "    _, indices = index.search(embedding.reshape(1,-1).astype(np.float32), 1)\n",
    "    pred_class = train_labels[indices[0][0]]\n",
    "    pred_labels.append(pred_class)"
   ]
  },
  {
   "cell_type": "code",
   "execution_count": 34,
   "id": "4dfd3a2f-3e63-45ec-9429-abb80862949d",
   "metadata": {},
   "outputs": [],
   "source": [
    "pred_labels = [i.detach().cpu().numpy() for i in pred_labels]"
   ]
  },
  {
   "cell_type": "code",
   "execution_count": 35,
   "id": "09e38eb6-ef8a-4a3d-bd0d-41939ffe9133",
   "metadata": {
    "scrolled": true
   },
   "outputs": [],
   "source": [
    "from sklearn.metrics import classification_report\n",
    "report = classification_report(test_labels.detach().cpu().numpy(), pred_labels, target_names=list(class_dict.keys()),output_dict=True)"
   ]
  },
  {
   "cell_type": "code",
   "execution_count": 36,
   "id": "bc382f16-271b-482f-ba83-7d9f2e382e81",
   "metadata": {},
   "outputs": [
    {
     "name": "stdout",
     "output_type": "stream",
     "text": [
      "                                    precision    recall  f1-score   support\n",
      "\n",
      "        001.Black_footed_Albatross       0.67      0.83      0.74        12\n",
      "              002.Laysan_Albatross       0.62      0.67      0.64        12\n",
      "               003.Sooty_Albatross       0.82      0.75      0.78        12\n",
      "             004.Groove_billed_Ani       0.59      0.83      0.69        12\n",
      "                005.Crested_Auklet       0.80      0.89      0.84         9\n",
      "                  006.Least_Auklet       0.78      0.88      0.82         8\n",
      "               007.Parakeet_Auklet       0.83      1.00      0.91        10\n",
      "             008.Rhinoceros_Auklet       1.00      0.67      0.80         9\n",
      "              009.Brewer_Blackbird       0.22      0.17      0.19        12\n",
      "          010.Red_winged_Blackbird       1.00      0.75      0.86        12\n",
      "               011.Rusty_Blackbird       0.57      0.33      0.42        12\n",
      "       012.Yellow_headed_Blackbird       0.92      1.00      0.96        11\n",
      "                      013.Bobolink       0.83      0.83      0.83        12\n",
      "                014.Indigo_Bunting       0.53      0.67      0.59        12\n",
      "                015.Lazuli_Bunting       0.75      0.55      0.63        11\n",
      "               016.Painted_Bunting       0.89      0.73      0.80        11\n",
      "                      017.Cardinal       1.00      0.64      0.78        11\n",
      "               018.Spotted_Catbird       0.90      1.00      0.95         9\n",
      "                  019.Gray_Catbird       0.69      0.92      0.79        12\n",
      "          020.Yellow_breasted_Chat       0.80      0.67      0.73        12\n",
      "                021.Eastern_Towhee       1.00      1.00      1.00        12\n",
      "              022.Chuck_will_Widow       0.45      0.45      0.45        11\n",
      "              023.Brandt_Cormorant       0.40      0.33      0.36        12\n",
      "           024.Red_faced_Cormorant       0.80      0.80      0.80        10\n",
      "             025.Pelagic_Cormorant       0.38      0.42      0.40        12\n",
      "               026.Bronzed_Cowbird       0.90      0.75      0.82        12\n",
      "                 027.Shiny_Cowbird       0.29      0.33      0.31        12\n",
      "                 028.Brown_Creeper       1.00      1.00      1.00        12\n",
      "                 029.American_Crow       0.27      0.33      0.30        12\n",
      "                     030.Fish_Crow       0.19      0.25      0.21        12\n",
      "           031.Black_billed_Cuckoo       0.67      0.67      0.67        12\n",
      "               032.Mangrove_Cuckoo       0.38      0.50      0.43        10\n",
      "          033.Yellow_billed_Cuckoo       0.50      0.58      0.54        12\n",
      "       034.Gray_crowned_Rosy_Finch       0.89      0.67      0.76        12\n",
      "                  035.Purple_Finch       0.92      1.00      0.96        12\n",
      "              036.Northern_Flicker       1.00      0.83      0.91        12\n",
      "            037.Acadian_Flycatcher       0.40      0.33      0.36        12\n",
      "      038.Great_Crested_Flycatcher       0.64      0.75      0.69        12\n",
      "              039.Least_Flycatcher       0.38      0.42      0.40        12\n",
      "        040.Olive_sided_Flycatcher       0.42      0.42      0.42        12\n",
      "     041.Scissor_tailed_Flycatcher       0.73      0.92      0.81        12\n",
      "          042.Vermilion_Flycatcher       0.79      0.92      0.85        12\n",
      "     043.Yellow_bellied_Flycatcher       0.11      0.08      0.10        12\n",
      "                   044.Frigatebird       0.73      0.67      0.70        12\n",
      "               045.Northern_Fulmar       0.50      0.50      0.50        12\n",
      "                       046.Gadwall       0.73      0.92      0.81        12\n",
      "            047.American_Goldfinch       0.70      0.58      0.64        12\n",
      "            048.European_Goldfinch       1.00      1.00      1.00        12\n",
      "           049.Boat_tailed_Grackle       0.54      0.58      0.56        12\n",
      "                   050.Eared_Grebe       0.50      0.58      0.54        12\n",
      "                  051.Horned_Grebe       0.82      0.75      0.78        12\n",
      "             052.Pied_billed_Grebe       0.69      0.75      0.72        12\n",
      "                 053.Western_Grebe       0.82      0.75      0.78        12\n",
      "                 054.Blue_Grosbeak       0.58      0.58      0.58        12\n",
      "              055.Evening_Grosbeak       1.00      1.00      1.00        12\n",
      "                 056.Pine_Grosbeak       1.00      1.00      1.00        12\n",
      "        057.Rose_breasted_Grosbeak       1.00      0.92      0.96        12\n",
      "              058.Pigeon_Guillemot       0.69      0.92      0.79        12\n",
      "               059.California_Gull       0.28      0.42      0.33        12\n",
      "          060.Glaucous_winged_Gull       0.40      0.33      0.36        12\n",
      "                 061.Heermann_Gull       0.71      0.83      0.77        12\n",
      "                  062.Herring_Gull       0.44      0.33      0.38        12\n",
      "                    063.Ivory_Gull       0.82      0.75      0.78        12\n",
      "              064.Ring_billed_Gull       0.25      0.17      0.20        12\n",
      "             065.Slaty_backed_Gull       0.43      0.30      0.35        10\n",
      "                  066.Western_Gull       0.35      0.50      0.41        12\n",
      "              067.Anna_Hummingbird       0.71      0.42      0.53        12\n",
      "     068.Ruby_throated_Hummingbird       0.60      0.75      0.67        12\n",
      "            069.Rufous_Hummingbird       0.64      0.75      0.69        12\n",
      "               070.Green_Violetear       0.92      0.92      0.92        12\n",
      "            071.Long_tailed_Jaeger       0.40      0.17      0.24        12\n",
      "               072.Pomarine_Jaeger       0.55      0.50      0.52        12\n",
      "                      073.Blue_Jay       0.83      0.83      0.83        12\n",
      "                   074.Florida_Jay       0.90      0.75      0.82        12\n",
      "                     075.Green_Jay       0.89      0.73      0.80        11\n",
      "               076.Dark_eyed_Junco       0.79      0.92      0.85        12\n",
      "             077.Tropical_Kingbird       0.83      0.83      0.83        12\n",
      "                 078.Gray_Kingbird       0.78      0.58      0.67        12\n",
      "             079.Belted_Kingfisher       0.62      0.83      0.71        12\n",
      "              080.Green_Kingfisher       1.00      0.75      0.86        12\n",
      "               081.Pied_Kingfisher       1.00      0.92      0.96        12\n",
      "             082.Ringed_Kingfisher       0.62      0.67      0.64        12\n",
      "     083.White_breasted_Kingfisher       0.85      0.92      0.88        12\n",
      "          084.Red_legged_Kittiwake       0.73      0.80      0.76        10\n",
      "                   085.Horned_Lark       0.80      0.67      0.73        12\n",
      "                  086.Pacific_Loon       0.53      0.67      0.59        12\n",
      "                       087.Mallard       1.00      0.92      0.96        12\n",
      "            088.Western_Meadowlark       1.00      0.92      0.96        12\n",
      "              089.Hooded_Merganser       0.91      0.83      0.87        12\n",
      "        090.Red_breasted_Merganser       0.65      0.92      0.76        12\n",
      "                   091.Mockingbird       1.00      0.17      0.29        12\n",
      "                     092.Nighthawk       0.80      0.67      0.73        12\n",
      "              093.Clark_Nutcracker       1.00      0.83      0.91        12\n",
      "       094.White_breasted_Nuthatch       0.92      0.92      0.92        12\n",
      "              095.Baltimore_Oriole       0.69      0.75      0.72        12\n",
      "                 096.Hooded_Oriole       0.77      0.83      0.80        12\n",
      "                097.Orchard_Oriole       0.86      0.50      0.63        12\n",
      "                  098.Scott_Oriole       0.77      0.83      0.80        12\n",
      "                      099.Ovenbird       0.90      0.75      0.82        12\n",
      "                 100.Brown_Pelican       1.00      1.00      1.00        12\n",
      "                 101.White_Pelican       1.00      0.90      0.95        10\n",
      "            102.Western_Wood_Pewee       0.26      0.42      0.32        12\n",
      "                      103.Sayornis       0.55      0.50      0.52        12\n",
      "                104.American_Pipit       0.38      0.50      0.43        12\n",
      "                105.Whip_poor_Will       0.44      0.40      0.42        10\n",
      "                 106.Horned_Puffin       0.91      0.83      0.87        12\n",
      "                  107.Common_Raven       0.30      0.25      0.27        12\n",
      "            108.White_necked_Raven       0.50      0.42      0.45        12\n",
      "             109.American_Redstart       0.86      1.00      0.92        12\n",
      "                     110.Geococcyx       0.92      0.92      0.92        12\n",
      "             111.Loggerhead_Shrike       0.44      0.58      0.50        12\n",
      "             112.Great_Grey_Shrike       0.42      0.42      0.42        12\n",
      "                 113.Baird_Sparrow       0.40      0.40      0.40        10\n",
      "        114.Black_throated_Sparrow       0.52      0.92      0.67        12\n",
      "                115.Brewer_Sparrow       0.38      0.50      0.43        12\n",
      "              116.Chipping_Sparrow       0.47      0.67      0.55        12\n",
      "          117.Clay_colored_Sparrow       0.46      0.50      0.48        12\n",
      "                 118.House_Sparrow       0.56      0.42      0.48        12\n",
      "                 119.Field_Sparrow       0.54      0.58      0.56        12\n",
      "                   120.Fox_Sparrow       0.56      0.75      0.64        12\n",
      "           121.Grasshopper_Sparrow       0.44      0.33      0.38        12\n",
      "                122.Harris_Sparrow       0.80      0.67      0.73        12\n",
      "               123.Henslow_Sparrow       0.50      0.50      0.50        12\n",
      "              124.Le_Conte_Sparrow       0.58      0.58      0.58        12\n",
      "               125.Lincoln_Sparrow       0.33      0.33      0.33        12\n",
      "   126.Nelson_Sharp_tailed_Sparrow       0.78      0.58      0.67        12\n",
      "              127.Savannah_Sparrow       0.44      0.33      0.38        12\n",
      "               128.Seaside_Sparrow       0.75      0.75      0.75        12\n",
      "                  129.Song_Sparrow       0.56      0.42      0.48        12\n",
      "                  130.Tree_Sparrow       0.67      0.50      0.57        12\n",
      "                131.Vesper_Sparrow       0.29      0.50      0.36        12\n",
      "         132.White_crowned_Sparrow       0.69      0.75      0.72        12\n",
      "        133.White_throated_Sparrow       0.57      0.67      0.62        12\n",
      "          134.Cape_Glossy_Starling       0.75      1.00      0.86        12\n",
      "                  135.Bank_Swallow       0.67      0.50      0.57        12\n",
      "                  136.Barn_Swallow       0.78      0.58      0.67        12\n",
      "                 137.Cliff_Swallow       0.44      0.33      0.38        12\n",
      "                  138.Tree_Swallow       0.89      0.67      0.76        12\n",
      "               139.Scarlet_Tanager       0.73      0.92      0.81        12\n",
      "                140.Summer_Tanager       0.82      0.75      0.78        12\n",
      "                    141.Artic_Tern       0.50      1.00      0.67        11\n",
      "                    142.Black_Tern       0.38      0.25      0.30        12\n",
      "                  143.Caspian_Tern       0.55      0.50      0.52        12\n",
      "                   144.Common_Tern       0.38      0.25      0.30        12\n",
      "                  145.Elegant_Tern       0.75      0.25      0.38        12\n",
      "                 146.Forsters_Tern       0.35      0.50      0.41        12\n",
      "                    147.Least_Tern       0.70      0.58      0.64        12\n",
      "           148.Green_tailed_Towhee       0.91      0.83      0.87        12\n",
      "                149.Brown_Thrasher       0.89      0.67      0.76        12\n",
      "                 150.Sage_Thrasher       0.60      0.50      0.55        12\n",
      "            151.Black_capped_Vireo       0.62      0.50      0.56        10\n",
      "             152.Blue_headed_Vireo       0.58      0.58      0.58        12\n",
      "            153.Philadelphia_Vireo       0.42      0.42      0.42        12\n",
      "                154.Red_eyed_Vireo       0.47      0.67      0.55        12\n",
      "                155.Warbling_Vireo       0.50      0.42      0.45        12\n",
      "              156.White_eyed_Vireo       0.70      0.58      0.64        12\n",
      "         157.Yellow_throated_Vireo       0.57      0.67      0.62        12\n",
      "          158.Bay_breasted_Warbler       0.65      0.92      0.76        12\n",
      "       159.Black_and_white_Warbler       0.79      0.92      0.85        12\n",
      "   160.Black_throated_Blue_Warbler       0.91      0.83      0.87        12\n",
      "           161.Blue_winged_Warbler       0.62      0.67      0.64        12\n",
      "                162.Canada_Warbler       0.67      0.50      0.57        12\n",
      "              163.Cape_May_Warbler       0.90      0.75      0.82        12\n",
      "              164.Cerulean_Warbler       0.64      0.58      0.61        12\n",
      "        165.Chestnut_sided_Warbler       0.67      0.67      0.67        12\n",
      "         166.Golden_winged_Warbler       0.89      0.67      0.76        12\n",
      "                167.Hooded_Warbler       0.69      0.75      0.72        12\n",
      "              168.Kentucky_Warbler       0.71      0.83      0.77        12\n",
      "              169.Magnolia_Warbler       0.85      0.92      0.88        12\n",
      "              170.Mourning_Warbler       0.60      0.50      0.55        12\n",
      "                171.Myrtle_Warbler       0.92      0.92      0.92        12\n",
      "             172.Nashville_Warbler       0.64      0.75      0.69        12\n",
      "        173.Orange_crowned_Warbler       0.31      0.42      0.36        12\n",
      "                  174.Palm_Warbler       0.58      0.58      0.58        12\n",
      "                  175.Pine_Warbler       0.50      0.50      0.50        12\n",
      "               176.Prairie_Warbler       0.83      0.83      0.83        12\n",
      "          177.Prothonotary_Warbler       0.69      0.75      0.72        12\n",
      "              178.Swainson_Warbler       0.43      0.55      0.48        11\n",
      "             179.Tennessee_Warbler       0.20      0.17      0.18        12\n",
      "                180.Wilson_Warbler       0.60      0.50      0.55        12\n",
      "           181.Worm_eating_Warbler       0.75      0.50      0.60        12\n",
      "                182.Yellow_Warbler       0.57      0.67      0.62        12\n",
      "          183.Northern_Waterthrush       0.64      0.75      0.69        12\n",
      "         184.Louisiana_Waterthrush       0.70      0.58      0.64        12\n",
      "              185.Bohemian_Waxwing       1.00      0.75      0.86        12\n",
      "                 186.Cedar_Waxwing       0.85      0.92      0.88        12\n",
      "187.American_Three_toed_Woodpecker       1.00      0.80      0.89        10\n",
      "           188.Pileated_Woodpecker       0.91      0.83      0.87        12\n",
      "        189.Red_bellied_Woodpecker       0.80      1.00      0.89        12\n",
      "       190.Red_cockaded_Woodpecker       0.91      0.91      0.91        11\n",
      "         191.Red_headed_Woodpecker       0.90      0.75      0.82        12\n",
      "              192.Downy_Woodpecker       0.92      1.00      0.96        12\n",
      "                   193.Bewick_Wren       0.67      0.67      0.67        12\n",
      "                   194.Cactus_Wren       0.73      0.92      0.81        12\n",
      "                 195.Carolina_Wren       0.83      0.83      0.83        12\n",
      "                    196.House_Wren       0.83      0.42      0.56        12\n",
      "                    197.Marsh_Wren       0.64      0.75      0.69        12\n",
      "                     198.Rock_Wren       0.85      0.92      0.88        12\n",
      "                   199.Winter_Wren       0.77      0.83      0.80        12\n",
      "           200.Common_Yellowthroat       0.77      0.83      0.80        12\n",
      "\n",
      "                          accuracy                           0.66      2358\n",
      "                         macro avg       0.68      0.66      0.66      2358\n",
      "                      weighted avg       0.68      0.66      0.66      2358\n",
      "\n"
     ]
    }
   ],
   "source": [
    "print(classification_report(test_labels.detach().cpu().numpy(), pred_labels, target_names=list(class_dict.keys())))"
   ]
  },
  {
   "cell_type": "code",
   "execution_count": 37,
   "id": "1e8845dc-c978-4b7b-99e4-9729b79d87c1",
   "metadata": {},
   "outputs": [],
   "source": [
    "df = pd.DataFrame(report).transpose()"
   ]
  },
  {
   "cell_type": "code",
   "execution_count": 38,
   "id": "282eb152-50d2-46bd-ad7c-5904c9b2f0a4",
   "metadata": {},
   "outputs": [
    {
     "data": {
      "text/html": [
       "<div>\n",
       "<style scoped>\n",
       "    .dataframe tbody tr th:only-of-type {\n",
       "        vertical-align: middle;\n",
       "    }\n",
       "\n",
       "    .dataframe tbody tr th {\n",
       "        vertical-align: top;\n",
       "    }\n",
       "\n",
       "    .dataframe thead th {\n",
       "        text-align: right;\n",
       "    }\n",
       "</style>\n",
       "<table border=\"1\" class=\"dataframe\">\n",
       "  <thead>\n",
       "    <tr style=\"text-align: right;\">\n",
       "      <th></th>\n",
       "      <th>precision</th>\n",
       "      <th>recall</th>\n",
       "      <th>f1-score</th>\n",
       "      <th>support</th>\n",
       "    </tr>\n",
       "  </thead>\n",
       "  <tbody>\n",
       "    <tr>\n",
       "      <th>001.Black_footed_Albatross</th>\n",
       "      <td>0.666667</td>\n",
       "      <td>0.833333</td>\n",
       "      <td>0.740741</td>\n",
       "      <td>12.0</td>\n",
       "    </tr>\n",
       "    <tr>\n",
       "      <th>002.Laysan_Albatross</th>\n",
       "      <td>0.615385</td>\n",
       "      <td>0.666667</td>\n",
       "      <td>0.640000</td>\n",
       "      <td>12.0</td>\n",
       "    </tr>\n",
       "    <tr>\n",
       "      <th>003.Sooty_Albatross</th>\n",
       "      <td>0.818182</td>\n",
       "      <td>0.750000</td>\n",
       "      <td>0.782609</td>\n",
       "      <td>12.0</td>\n",
       "    </tr>\n",
       "    <tr>\n",
       "      <th>004.Groove_billed_Ani</th>\n",
       "      <td>0.588235</td>\n",
       "      <td>0.833333</td>\n",
       "      <td>0.689655</td>\n",
       "      <td>12.0</td>\n",
       "    </tr>\n",
       "    <tr>\n",
       "      <th>005.Crested_Auklet</th>\n",
       "      <td>0.800000</td>\n",
       "      <td>0.888889</td>\n",
       "      <td>0.842105</td>\n",
       "      <td>9.0</td>\n",
       "    </tr>\n",
       "  </tbody>\n",
       "</table>\n",
       "</div>"
      ],
      "text/plain": [
       "                            precision    recall  f1-score  support\n",
       "001.Black_footed_Albatross   0.666667  0.833333  0.740741     12.0\n",
       "002.Laysan_Albatross         0.615385  0.666667  0.640000     12.0\n",
       "003.Sooty_Albatross          0.818182  0.750000  0.782609     12.0\n",
       "004.Groove_billed_Ani        0.588235  0.833333  0.689655     12.0\n",
       "005.Crested_Auklet           0.800000  0.888889  0.842105      9.0"
      ]
     },
     "execution_count": 38,
     "metadata": {},
     "output_type": "execute_result"
    }
   ],
   "source": [
    "df.head()"
   ]
  },
  {
   "cell_type": "code",
   "execution_count": 39,
   "id": "32e24514-4ae2-4dc2-b671-781c8c3d6180",
   "metadata": {},
   "outputs": [],
   "source": [
    "df.reset_index(inplace=True)"
   ]
  },
  {
   "cell_type": "code",
   "execution_count": 40,
   "id": "71ff6ed3-bcd9-4d2e-9371-b4c409d8a76c",
   "metadata": {},
   "outputs": [],
   "source": [
    "df.rename(columns={\"index\":'class_name'},inplace=True)"
   ]
  },
  {
   "cell_type": "code",
   "execution_count": 41,
   "id": "945dce04-630d-40b1-9e3d-8738875d3bd7",
   "metadata": {},
   "outputs": [],
   "source": [
    "classification_report_table = wandb.Table(dataframe=df)"
   ]
  },
  {
   "cell_type": "code",
   "execution_count": 42,
   "id": "3a1baa45-ad12-41e6-8e44-dd5ab0ba2eb7",
   "metadata": {},
   "outputs": [],
   "source": [
    "run.log({\"all_classes_classification_report\": classification_report_table})"
   ]
  },
  {
   "cell_type": "markdown",
   "id": "bbfc4b6e-d88c-45ac-9caf-6c5f26a0d52a",
   "metadata": {},
   "source": [
    "## Removing classes from training dataset and seeing performance"
   ]
  },
  {
   "cell_type": "code",
   "execution_count": 27,
   "id": "3597a740-157c-4c24-8d23-65c675de8f7d",
   "metadata": {},
   "outputs": [],
   "source": [
    "train_image_paths = []\n",
    "train_labels = []\n",
    "for folder_path,i in class_dict.items():\n",
    "    if i >= 180:\n",
    "        break\n",
    "    folder_images = glob.glob('CUB_200_2011/images/'+'/'+str(folder_path)+'/*')\n",
    "    train_image_paths.extend(folder_images)\n",
    "    train_labels.extend([i]*len(folder_images))"
   ]
  },
  {
   "cell_type": "code",
   "execution_count": 28,
   "id": "c353dd9e-9064-4774-8244-5770ac9c53cf",
   "metadata": {},
   "outputs": [],
   "source": [
    "test_image_paths = []\n",
    "test_labels = []\n",
    "for folder_path,i in class_dict.items():\n",
    "    if i >= 180:\n",
    "        folder_images = glob.glob('CUB_200_2011/images/'+'/'+str(folder_path)+'/*')\n",
    "        test_image_paths.extend(folder_images)\n",
    "        test_labels.extend([i]*len(folder_images))"
   ]
  },
  {
   "cell_type": "code",
   "execution_count": 29,
   "id": "7a58b988-aa16-4d57-99ef-c889b3bb72d6",
   "metadata": {},
   "outputs": [],
   "source": [
    "from sklearn.model_selection import train_test_split\n",
    "X_train, X_test, y_train, y_test = train_test_split(train_image_paths,train_labels, test_size=config['train_test_split'],\n",
    "                                                    stratify=train_labels, random_state=config['random_seed'])"
   ]
  },
  {
   "cell_type": "code",
   "execution_count": 30,
   "id": "c0902fb2-bd40-40c0-be84-81c2776bdfc6",
   "metadata": {},
   "outputs": [],
   "source": [
    "train_dataset  = CUBDataset(X_train,y_train,train_transform)\n",
    "test_dataset  = CUBDataset(X_test,y_test,test_transform)\n",
    "train_loader = torch.utils.data.DataLoader(train_dataset, batch_size=config['batch_size'], shuffle=True)\n",
    "test_loader = torch.utils.data.DataLoader(test_dataset, batch_size=config['batch_size'], shuffle=False)"
   ]
  },
  {
   "cell_type": "code",
   "execution_count": 47,
   "id": "74998763-e319-4389-a9cb-a14ef5a5ef47",
   "metadata": {},
   "outputs": [
    {
     "name": "stderr",
     "output_type": "stream",
     "text": [
      "/opt/conda/lib/python3.10/site-packages/torchvision/models/_utils.py:208: UserWarning: The parameter 'pretrained' is deprecated since 0.13 and may be removed in the future, please use 'weights' instead.\n",
      "  warnings.warn(\n",
      "/opt/conda/lib/python3.10/site-packages/torchvision/models/_utils.py:223: UserWarning: Arguments other than a weight enum or `None` for 'weights' are deprecated since 0.13 and may be removed in the future. The current behavior is equivalent to passing `weights=ResNet18_Weights.IMAGENET1K_V1`. You can also use `weights=ResNet18_Weights.DEFAULT` to get the most up-to-date weights.\n",
      "  warnings.warn(msg)\n"
     ]
    }
   ],
   "source": [
    "model = ResNetFeatrueExtractor18()\n",
    "model = model.to(device)\n",
    "optimizer = optim.SGD(model.parameters(), lr=config['learning_rate'])\n",
    "num_epochs = config['num_epochs']\n",
    "\n",
    "### pytorch-metric-learning stuff ###\n",
    "distance = distances.CosineSimilarity()\n",
    "reducer = reducers.MeanReducer()\n",
    "loss_func = losses.NTXentLoss(temperature=config['temperature'], distance=distance, reducer=reducer)\n",
    "mining_func = miners.BatchEasyHardMiner(pos_strategy=\"easy\",neg_strategy=\"semihard\")\n",
    "knn_func = CustomKNN(CosineSimilarity())\n",
    "accuracy_calculator = AccuracyCalculator(include=(\"precision_at_1\",),k=1,knn_func=knn_func,avg_of_avgs=True,return_per_class=False)"
   ]
  },
  {
   "cell_type": "code",
   "execution_count": 48,
   "id": "51ad322f-f35f-44bf-b296-a546c9a9ae34",
   "metadata": {
    "scrolled": true
   },
   "outputs": [
    {
     "name": "stdout",
     "output_type": "stream",
     "text": [
      "Epoch 1 Iteration 0: Loss = 0.6552073359489441\n"
     ]
    },
    {
     "name": "stderr",
     "output_type": "stream",
     "text": [
      "100%|█████████████████████████████████████████████████████████████████████████████████████████████████████| 266/266 [00:15<00:00, 17.26it/s]\n",
      "100%|███████████████████████████████████████████████████████████████████████████████████████████████████████| 67/67 [00:08<00:00,  7.62it/s]\n"
     ]
    },
    {
     "name": "stdout",
     "output_type": "stream",
     "text": [
      "Computing accuracy\n",
      "Test set accuracy (Precision@1) = 0.33211139169472503\n",
      "Epoch 2 Iteration 0: Loss = 0.6346331834793091\n"
     ]
    },
    {
     "name": "stderr",
     "output_type": "stream",
     "text": [
      "100%|█████████████████████████████████████████████████████████████████████████████████████████████████████| 266/266 [00:15<00:00, 16.93it/s]\n",
      "100%|███████████████████████████████████████████████████████████████████████████████████████████████████████| 67/67 [00:03<00:00, 18.16it/s]\n"
     ]
    },
    {
     "name": "stdout",
     "output_type": "stream",
     "text": [
      "Computing accuracy\n",
      "Test set accuracy (Precision@1) = 0.3627581369248036\n",
      "Epoch 3 Iteration 0: Loss = 0.6180775761604309\n"
     ]
    },
    {
     "name": "stderr",
     "output_type": "stream",
     "text": [
      "100%|█████████████████████████████████████████████████████████████████████████████████████████████████████| 266/266 [00:16<00:00, 15.80it/s]\n",
      "100%|███████████████████████████████████████████████████████████████████████████████████████████████████████| 67/67 [00:03<00:00, 17.31it/s]\n"
     ]
    },
    {
     "name": "stdout",
     "output_type": "stream",
     "text": [
      "Computing accuracy\n",
      "Test set accuracy (Precision@1) = 0.37446548821548825\n",
      "Epoch 4 Iteration 0: Loss = 0.6164734363555908\n"
     ]
    },
    {
     "name": "stderr",
     "output_type": "stream",
     "text": [
      "100%|█████████████████████████████████████████████████████████████████████████████████████████████████████| 266/266 [00:16<00:00, 15.68it/s]\n",
      "100%|███████████████████████████████████████████████████████████████████████████████████████████████████████| 67/67 [00:03<00:00, 17.44it/s]\n"
     ]
    },
    {
     "name": "stdout",
     "output_type": "stream",
     "text": [
      "Computing accuracy\n",
      "Test set accuracy (Precision@1) = 0.39072951739618406\n",
      "Epoch 5 Iteration 0: Loss = 0.6051265001296997\n"
     ]
    },
    {
     "name": "stderr",
     "output_type": "stream",
     "text": [
      "100%|█████████████████████████████████████████████████████████████████████████████████████████████████████| 266/266 [00:15<00:00, 16.67it/s]\n",
      "100%|███████████████████████████████████████████████████████████████████████████████████████████████████████| 67/67 [00:03<00:00, 17.99it/s]\n"
     ]
    },
    {
     "name": "stdout",
     "output_type": "stream",
     "text": [
      "Computing accuracy\n",
      "Test set accuracy (Precision@1) = 0.40851711560044895\n",
      "Epoch 6 Iteration 0: Loss = 0.6215026378631592\n"
     ]
    },
    {
     "name": "stderr",
     "output_type": "stream",
     "text": [
      "100%|█████████████████████████████████████████████████████████████████████████████████████████████████████| 266/266 [00:16<00:00, 16.06it/s]\n",
      "100%|███████████████████████████████████████████████████████████████████████████████████████████████████████| 67/67 [00:03<00:00, 18.10it/s]\n"
     ]
    },
    {
     "name": "stdout",
     "output_type": "stream",
     "text": [
      "Computing accuracy\n",
      "Test set accuracy (Precision@1) = 0.42935606060606063\n",
      "Epoch 7 Iteration 0: Loss = 0.5924543738365173\n"
     ]
    },
    {
     "name": "stderr",
     "output_type": "stream",
     "text": [
      "100%|█████████████████████████████████████████████████████████████████████████████████████████████████████| 266/266 [00:15<00:00, 16.69it/s]\n",
      "100%|███████████████████████████████████████████████████████████████████████████████████████████████████████| 67/67 [00:03<00:00, 18.28it/s]\n"
     ]
    },
    {
     "name": "stdout",
     "output_type": "stream",
     "text": [
      "Computing accuracy\n",
      "Test set accuracy (Precision@1) = 0.4464604377104378\n",
      "Epoch 8 Iteration 0: Loss = 0.580531656742096\n"
     ]
    },
    {
     "name": "stderr",
     "output_type": "stream",
     "text": [
      "100%|█████████████████████████████████████████████████████████████████████████████████████████████████████| 266/266 [00:15<00:00, 16.78it/s]\n",
      "100%|███████████████████████████████████████████████████████████████████████████████████████████████████████| 67/67 [00:03<00:00, 18.21it/s]\n"
     ]
    },
    {
     "name": "stdout",
     "output_type": "stream",
     "text": [
      "Computing accuracy\n",
      "Test set accuracy (Precision@1) = 0.45155022446689114\n",
      "Epoch 9 Iteration 0: Loss = 0.5654361248016357\n"
     ]
    },
    {
     "name": "stderr",
     "output_type": "stream",
     "text": [
      "100%|█████████████████████████████████████████████████████████████████████████████████████████████████████| 266/266 [00:15<00:00, 16.81it/s]\n",
      "100%|███████████████████████████████████████████████████████████████████████████████████████████████████████| 67/67 [00:03<00:00, 17.90it/s]\n"
     ]
    },
    {
     "name": "stdout",
     "output_type": "stream",
     "text": [
      "Computing accuracy\n",
      "Test set accuracy (Precision@1) = 0.4639997194163861\n",
      "Epoch 10 Iteration 0: Loss = 0.5573773384094238\n"
     ]
    },
    {
     "name": "stderr",
     "output_type": "stream",
     "text": [
      "100%|█████████████████████████████████████████████████████████████████████████████████████████████████████| 266/266 [00:16<00:00, 15.95it/s]\n",
      "100%|███████████████████████████████████████████████████████████████████████████████████████████████████████| 67/67 [00:03<00:00, 17.48it/s]\n"
     ]
    },
    {
     "name": "stdout",
     "output_type": "stream",
     "text": [
      "Computing accuracy\n",
      "Test set accuracy (Precision@1) = 0.46134820426487094\n",
      "Epoch 11 Iteration 0: Loss = 0.5343488454818726\n"
     ]
    },
    {
     "name": "stderr",
     "output_type": "stream",
     "text": [
      "100%|█████████████████████████████████████████████████████████████████████████████████████████████████████| 266/266 [00:15<00:00, 17.15it/s]\n",
      "100%|███████████████████████████████████████████████████████████████████████████████████████████████████████| 67/67 [00:03<00:00, 18.49it/s]\n"
     ]
    },
    {
     "name": "stdout",
     "output_type": "stream",
     "text": [
      "Computing accuracy\n",
      "Test set accuracy (Precision@1) = 0.47957070707070704\n",
      "Epoch 12 Iteration 0: Loss = 0.5171607136726379\n"
     ]
    },
    {
     "name": "stderr",
     "output_type": "stream",
     "text": [
      "100%|█████████████████████████████████████████████████████████████████████████████████████████████████████| 266/266 [00:15<00:00, 17.09it/s]\n",
      "100%|███████████████████████████████████████████████████████████████████████████████████████████████████████| 67/67 [00:03<00:00, 18.21it/s]\n"
     ]
    },
    {
     "name": "stdout",
     "output_type": "stream",
     "text": [
      "Computing accuracy\n",
      "Test set accuracy (Precision@1) = 0.4858038720538721\n",
      "Epoch 13 Iteration 0: Loss = 0.5259625315666199\n"
     ]
    },
    {
     "name": "stderr",
     "output_type": "stream",
     "text": [
      "100%|█████████████████████████████████████████████████████████████████████████████████████████████████████| 266/266 [00:15<00:00, 16.86it/s]\n",
      "100%|███████████████████████████████████████████████████████████████████████████████████████████████████████| 67/67 [00:03<00:00, 18.13it/s]\n"
     ]
    },
    {
     "name": "stdout",
     "output_type": "stream",
     "text": [
      "Computing accuracy\n",
      "Test set accuracy (Precision@1) = 0.4925210437710437\n",
      "Epoch 14 Iteration 0: Loss = 0.48791882395744324\n"
     ]
    },
    {
     "name": "stderr",
     "output_type": "stream",
     "text": [
      "100%|█████████████████████████████████████████████████████████████████████████████████████████████████████| 266/266 [00:16<00:00, 16.48it/s]\n",
      "100%|███████████████████████████████████████████████████████████████████████████████████████████████████████| 67/67 [00:03<00:00, 16.82it/s]\n"
     ]
    },
    {
     "name": "stdout",
     "output_type": "stream",
     "text": [
      "Computing accuracy\n",
      "Test set accuracy (Precision@1) = 0.510736531986532\n",
      "Epoch 15 Iteration 0: Loss = 0.5379051566123962\n"
     ]
    },
    {
     "name": "stderr",
     "output_type": "stream",
     "text": [
      "100%|█████████████████████████████████████████████████████████████████████████████████████████████████████| 266/266 [00:16<00:00, 16.30it/s]\n",
      "100%|███████████████████████████████████████████████████████████████████████████████████████████████████████| 67/67 [00:03<00:00, 18.29it/s]\n"
     ]
    },
    {
     "name": "stdout",
     "output_type": "stream",
     "text": [
      "Computing accuracy\n",
      "Test set accuracy (Precision@1) = 0.5131930415263748\n",
      "Epoch 16 Iteration 0: Loss = 0.5047763586044312\n"
     ]
    },
    {
     "name": "stderr",
     "output_type": "stream",
     "text": [
      "100%|█████████████████████████████████████████████████████████████████████████████████████████████████████| 266/266 [00:15<00:00, 16.79it/s]\n",
      "100%|███████████████████████████████████████████████████████████████████████████████████████████████████████| 67/67 [00:03<00:00, 18.09it/s]\n"
     ]
    },
    {
     "name": "stdout",
     "output_type": "stream",
     "text": [
      "Computing accuracy\n",
      "Test set accuracy (Precision@1) = 0.5204840067340067\n",
      "Epoch 17 Iteration 0: Loss = 0.4823813736438751\n"
     ]
    },
    {
     "name": "stderr",
     "output_type": "stream",
     "text": [
      "100%|█████████████████████████████████████████████████████████████████████████████████████████████████████| 266/266 [00:15<00:00, 16.77it/s]\n",
      "100%|███████████████████████████████████████████████████████████████████████████████████████████████████████| 67/67 [00:03<00:00, 17.81it/s]\n"
     ]
    },
    {
     "name": "stdout",
     "output_type": "stream",
     "text": [
      "Computing accuracy\n",
      "Test set accuracy (Precision@1) = 0.5112135241301907\n",
      "Epoch 18 Iteration 0: Loss = 0.536030113697052\n"
     ]
    },
    {
     "name": "stderr",
     "output_type": "stream",
     "text": [
      "100%|█████████████████████████████████████████████████████████████████████████████████████████████████████| 266/266 [00:15<00:00, 16.86it/s]\n",
      "100%|███████████████████████████████████████████████████████████████████████████████████████████████████████| 67/67 [00:03<00:00, 18.10it/s]\n"
     ]
    },
    {
     "name": "stdout",
     "output_type": "stream",
     "text": [
      "Computing accuracy\n",
      "Test set accuracy (Precision@1) = 0.5269598765432099\n",
      "Epoch 19 Iteration 0: Loss = 0.4893561899662018\n"
     ]
    },
    {
     "name": "stderr",
     "output_type": "stream",
     "text": [
      "100%|█████████████████████████████████████████████████████████████████████████████████████████████████████| 266/266 [00:15<00:00, 16.82it/s]\n",
      "100%|███████████████████████████████████████████████████████████████████████████████████████████████████████| 67/67 [00:03<00:00, 18.33it/s]\n"
     ]
    },
    {
     "name": "stdout",
     "output_type": "stream",
     "text": [
      "Computing accuracy\n",
      "Test set accuracy (Precision@1) = 0.526763468013468\n",
      "Epoch 20 Iteration 0: Loss = 0.4850321114063263\n"
     ]
    },
    {
     "name": "stderr",
     "output_type": "stream",
     "text": [
      "100%|█████████████████████████████████████████████████████████████████████████████████████████████████████| 266/266 [00:15<00:00, 16.86it/s]\n",
      "100%|███████████████████████████████████████████████████████████████████████████████████████████████████████| 67/67 [00:03<00:00, 18.14it/s]\n"
     ]
    },
    {
     "name": "stdout",
     "output_type": "stream",
     "text": [
      "Computing accuracy\n",
      "Test set accuracy (Precision@1) = 0.5360563973063973\n",
      "Epoch 21 Iteration 0: Loss = 0.48765015602111816\n"
     ]
    },
    {
     "name": "stderr",
     "output_type": "stream",
     "text": [
      "100%|█████████████████████████████████████████████████████████████████████████████████████████████████████| 266/266 [00:15<00:00, 16.82it/s]\n",
      "100%|███████████████████████████████████████████████████████████████████████████████████████████████████████| 67/67 [00:03<00:00, 18.20it/s]\n"
     ]
    },
    {
     "name": "stdout",
     "output_type": "stream",
     "text": [
      "Computing accuracy\n",
      "Test set accuracy (Precision@1) = 0.5314492143658811\n",
      "Epoch 22 Iteration 0: Loss = 0.5019519329071045\n"
     ]
    },
    {
     "name": "stderr",
     "output_type": "stream",
     "text": [
      "100%|█████████████████████████████████████████████████████████████████████████████████████████████████████| 266/266 [00:15<00:00, 16.91it/s]\n",
      "100%|███████████████████████████████████████████████████████████████████████████████████████████████████████| 67/67 [00:03<00:00, 18.30it/s]\n"
     ]
    },
    {
     "name": "stdout",
     "output_type": "stream",
     "text": [
      "Computing accuracy\n",
      "Test set accuracy (Precision@1) = 0.5473302469135802\n",
      "Epoch 23 Iteration 0: Loss = 0.4640551209449768\n"
     ]
    },
    {
     "name": "stderr",
     "output_type": "stream",
     "text": [
      "100%|█████████████████████████████████████████████████████████████████████████████████████████████████████| 266/266 [00:15<00:00, 16.92it/s]\n",
      "100%|███████████████████████████████████████████████████████████████████████████████████████████████████████| 67/67 [00:03<00:00, 17.76it/s]\n"
     ]
    },
    {
     "name": "stdout",
     "output_type": "stream",
     "text": [
      "Computing accuracy\n",
      "Test set accuracy (Precision@1) = 0.5511363636363636\n",
      "Epoch 24 Iteration 0: Loss = 0.5132433772087097\n"
     ]
    },
    {
     "name": "stderr",
     "output_type": "stream",
     "text": [
      "100%|█████████████████████████████████████████████████████████████████████████████████████████████████████| 266/266 [00:15<00:00, 16.69it/s]\n",
      "100%|███████████████████████████████████████████████████████████████████████████████████████████████████████| 67/67 [00:03<00:00, 18.11it/s]\n"
     ]
    },
    {
     "name": "stdout",
     "output_type": "stream",
     "text": [
      "Computing accuracy\n",
      "Test set accuracy (Precision@1) = 0.561067620650954\n",
      "Epoch 25 Iteration 0: Loss = 0.5076963901519775\n"
     ]
    },
    {
     "name": "stderr",
     "output_type": "stream",
     "text": [
      "100%|█████████████████████████████████████████████████████████████████████████████████████████████████████| 266/266 [00:16<00:00, 15.82it/s]\n",
      "100%|███████████████████████████████████████████████████████████████████████████████████████████████████████| 67/67 [00:03<00:00, 17.73it/s]\n"
     ]
    },
    {
     "name": "stdout",
     "output_type": "stream",
     "text": [
      "Computing accuracy\n",
      "Test set accuracy (Precision@1) = 0.5554755892255894\n",
      "Epoch 26 Iteration 0: Loss = 0.4957810938358307\n"
     ]
    },
    {
     "name": "stderr",
     "output_type": "stream",
     "text": [
      "100%|█████████████████████████████████████████████████████████████████████████████████████████████████████| 266/266 [00:16<00:00, 16.62it/s]\n",
      "100%|███████████████████████████████████████████████████████████████████████████████████████████████████████| 67/67 [00:03<00:00, 17.39it/s]\n"
     ]
    },
    {
     "name": "stdout",
     "output_type": "stream",
     "text": [
      "Computing accuracy\n",
      "Test set accuracy (Precision@1) = 0.5524859708193043\n",
      "Epoch 27 Iteration 0: Loss = 0.500167727470398\n"
     ]
    },
    {
     "name": "stderr",
     "output_type": "stream",
     "text": [
      "100%|█████████████████████████████████████████████████████████████████████████████████████████████████████| 266/266 [00:15<00:00, 16.66it/s]\n",
      "100%|███████████████████████████████████████████████████████████████████████████████████████████████████████| 67/67 [00:03<00:00, 17.82it/s]\n"
     ]
    },
    {
     "name": "stdout",
     "output_type": "stream",
     "text": [
      "Computing accuracy\n",
      "Test set accuracy (Precision@1) = 0.5574873737373738\n",
      "Epoch 28 Iteration 0: Loss = 0.474973201751709\n"
     ]
    },
    {
     "name": "stderr",
     "output_type": "stream",
     "text": [
      "100%|█████████████████████████████████████████████████████████████████████████████████████████████████████| 266/266 [00:16<00:00, 16.49it/s]\n",
      "100%|███████████████████████████████████████████████████████████████████████████████████████████████████████| 67/67 [00:03<00:00, 17.96it/s]\n"
     ]
    },
    {
     "name": "stdout",
     "output_type": "stream",
     "text": [
      "Computing accuracy\n",
      "Test set accuracy (Precision@1) = 0.5578703703703703\n",
      "Epoch 29 Iteration 0: Loss = 0.48137664794921875\n"
     ]
    },
    {
     "name": "stderr",
     "output_type": "stream",
     "text": [
      "100%|█████████████████████████████████████████████████████████████████████████████████████████████████████| 266/266 [00:15<00:00, 16.70it/s]\n",
      "100%|███████████████████████████████████████████████████████████████████████████████████████████████████████| 67/67 [00:03<00:00, 17.95it/s]\n"
     ]
    },
    {
     "name": "stdout",
     "output_type": "stream",
     "text": [
      "Computing accuracy\n",
      "Test set accuracy (Precision@1) = 0.5669248035914702\n",
      "Epoch 30 Iteration 0: Loss = 0.4740334749221802\n"
     ]
    },
    {
     "name": "stderr",
     "output_type": "stream",
     "text": [
      "100%|█████████████████████████████████████████████████████████████████████████████████████████████████████| 266/266 [00:15<00:00, 16.69it/s]\n",
      "100%|███████████████████████████████████████████████████████████████████████████████████████████████████████| 67/67 [00:03<00:00, 17.99it/s]\n"
     ]
    },
    {
     "name": "stdout",
     "output_type": "stream",
     "text": [
      "Computing accuracy\n",
      "Test set accuracy (Precision@1) = 0.5615179573512907\n",
      "Epoch 31 Iteration 0: Loss = 0.47792571783065796\n"
     ]
    },
    {
     "name": "stderr",
     "output_type": "stream",
     "text": [
      "100%|█████████████████████████████████████████████████████████████████████████████████████████████████████| 266/266 [00:15<00:00, 16.68it/s]\n",
      "100%|███████████████████████████████████████████████████████████████████████████████████████████████████████| 67/67 [00:03<00:00, 17.77it/s]\n"
     ]
    },
    {
     "name": "stdout",
     "output_type": "stream",
     "text": [
      "Computing accuracy\n",
      "Test set accuracy (Precision@1) = 0.5722292368125701\n",
      "Epoch 32 Iteration 0: Loss = 0.4621258080005646\n"
     ]
    },
    {
     "name": "stderr",
     "output_type": "stream",
     "text": [
      "100%|█████████████████████████████████████████████████████████████████████████████████████████████████████| 266/266 [00:15<00:00, 16.72it/s]\n",
      "100%|███████████████████████████████████████████████████████████████████████████████████████████████████████| 67/67 [00:03<00:00, 18.05it/s]\n"
     ]
    },
    {
     "name": "stdout",
     "output_type": "stream",
     "text": [
      "Computing accuracy\n",
      "Test set accuracy (Precision@1) = 0.5763047138047138\n",
      "Epoch 33 Iteration 0: Loss = 0.5473846197128296\n"
     ]
    },
    {
     "name": "stderr",
     "output_type": "stream",
     "text": [
      "100%|█████████████████████████████████████████████████████████████████████████████████████████████████████| 266/266 [00:15<00:00, 16.71it/s]\n",
      "100%|███████████████████████████████████████████████████████████████████████████████████████████████████████| 67/67 [00:03<00:00, 17.94it/s]\n"
     ]
    },
    {
     "name": "stdout",
     "output_type": "stream",
     "text": [
      "Computing accuracy\n",
      "Test set accuracy (Precision@1) = 0.5866666666666668\n",
      "Epoch 34 Iteration 0: Loss = 0.5014570355415344\n"
     ]
    },
    {
     "name": "stderr",
     "output_type": "stream",
     "text": [
      "100%|█████████████████████████████████████████████████████████████████████████████████████████████████████| 266/266 [00:16<00:00, 15.98it/s]\n",
      "100%|███████████████████████████████████████████████████████████████████████████████████████████████████████| 67/67 [00:03<00:00, 17.52it/s]\n"
     ]
    },
    {
     "name": "stdout",
     "output_type": "stream",
     "text": [
      "Computing accuracy\n",
      "Test set accuracy (Precision@1) = 0.5687850729517396\n",
      "Epoch 35 Iteration 0: Loss = 0.42168480157852173\n"
     ]
    },
    {
     "name": "stderr",
     "output_type": "stream",
     "text": [
      "100%|█████████████████████████████████████████████████████████████████████████████████████████████████████| 266/266 [00:15<00:00, 16.69it/s]\n",
      "100%|███████████████████████████████████████████████████████████████████████████████████████████████████████| 67/67 [00:03<00:00, 16.89it/s]\n"
     ]
    },
    {
     "name": "stdout",
     "output_type": "stream",
     "text": [
      "Computing accuracy\n",
      "Test set accuracy (Precision@1) = 0.5784750280583614\n",
      "Epoch 36 Iteration 0: Loss = 0.4950200319290161\n"
     ]
    },
    {
     "name": "stderr",
     "output_type": "stream",
     "text": [
      "100%|█████████████████████████████████████████████████████████████████████████████████████████████████████| 266/266 [00:15<00:00, 16.63it/s]\n",
      "100%|███████████████████████████████████████████████████████████████████████████████████████████████████████| 67/67 [00:03<00:00, 18.11it/s]\n"
     ]
    },
    {
     "name": "stdout",
     "output_type": "stream",
     "text": [
      "Computing accuracy\n",
      "Test set accuracy (Precision@1) = 0.5791105499438833\n",
      "Epoch 37 Iteration 0: Loss = 0.45734506845474243\n"
     ]
    },
    {
     "name": "stderr",
     "output_type": "stream",
     "text": [
      "100%|█████████████████████████████████████████████████████████████████████████████████████████████████████| 266/266 [00:15<00:00, 16.77it/s]\n",
      "100%|███████████████████████████████████████████████████████████████████████████████████████████████████████| 67/67 [00:03<00:00, 17.89it/s]\n"
     ]
    },
    {
     "name": "stdout",
     "output_type": "stream",
     "text": [
      "Computing accuracy\n",
      "Test set accuracy (Precision@1) = 0.5817831088664422\n",
      "Epoch 38 Iteration 0: Loss = 0.4658730924129486\n"
     ]
    },
    {
     "name": "stderr",
     "output_type": "stream",
     "text": [
      "100%|█████████████████████████████████████████████████████████████████████████████████████████████████████| 266/266 [00:15<00:00, 16.69it/s]\n",
      "100%|███████████████████████████████████████████████████████████████████████████████████████████████████████| 67/67 [00:03<00:00, 17.80it/s]\n"
     ]
    },
    {
     "name": "stdout",
     "output_type": "stream",
     "text": [
      "Computing accuracy\n",
      "Test set accuracy (Precision@1) = 0.5845398428731762\n",
      "Epoch 39 Iteration 0: Loss = 0.48437198996543884\n"
     ]
    },
    {
     "name": "stderr",
     "output_type": "stream",
     "text": [
      "100%|█████████████████████████████████████████████████████████████████████████████████████████████████████| 266/266 [00:16<00:00, 16.44it/s]\n",
      "100%|███████████████████████████████████████████████████████████████████████████████████████████████████████| 67/67 [00:03<00:00, 18.10it/s]\n"
     ]
    },
    {
     "name": "stdout",
     "output_type": "stream",
     "text": [
      "Computing accuracy\n",
      "Test set accuracy (Precision@1) = 0.5895580808080808\n",
      "Epoch 40 Iteration 0: Loss = 0.5305119752883911\n"
     ]
    },
    {
     "name": "stderr",
     "output_type": "stream",
     "text": [
      "100%|█████████████████████████████████████████████████████████████████████████████████████████████████████| 266/266 [00:15<00:00, 16.68it/s]\n",
      "100%|███████████████████████████████████████████████████████████████████████████████████████████████████████| 67/67 [00:03<00:00, 17.82it/s]\n"
     ]
    },
    {
     "name": "stdout",
     "output_type": "stream",
     "text": [
      "Computing accuracy\n",
      "Test set accuracy (Precision@1) = 0.5932519640852976\n",
      "Epoch 41 Iteration 0: Loss = 0.38376981019973755\n"
     ]
    },
    {
     "name": "stderr",
     "output_type": "stream",
     "text": [
      "100%|█████████████████████████████████████████████████████████████████████████████████████████████████████| 266/266 [00:15<00:00, 16.63it/s]\n",
      "100%|███████████████████████████████████████████████████████████████████████████████████████████████████████| 67/67 [00:03<00:00, 18.05it/s]\n"
     ]
    },
    {
     "name": "stdout",
     "output_type": "stream",
     "text": [
      "Computing accuracy\n",
      "Test set accuracy (Precision@1) = 0.593061167227834\n",
      "Epoch 42 Iteration 0: Loss = 0.4212360680103302\n"
     ]
    },
    {
     "name": "stderr",
     "output_type": "stream",
     "text": [
      "100%|█████████████████████████████████████████████████████████████████████████████████████████████████████| 266/266 [00:16<00:00, 16.50it/s]\n",
      "100%|███████████████████████████████████████████████████████████████████████████████████████████████████████| 67/67 [00:03<00:00, 18.34it/s]\n"
     ]
    },
    {
     "name": "stdout",
     "output_type": "stream",
     "text": [
      "Computing accuracy\n",
      "Test set accuracy (Precision@1) = 0.6027918069584736\n",
      "Epoch 43 Iteration 0: Loss = 0.5020262598991394\n"
     ]
    },
    {
     "name": "stderr",
     "output_type": "stream",
     "text": [
      "100%|█████████████████████████████████████████████████████████████████████████████████████████████████████| 266/266 [00:16<00:00, 16.15it/s]\n",
      "100%|███████████████████████████████████████████████████████████████████████████████████████████████████████| 67/67 [00:03<00:00, 18.30it/s]\n"
     ]
    },
    {
     "name": "stdout",
     "output_type": "stream",
     "text": [
      "Computing accuracy\n",
      "Test set accuracy (Precision@1) = 0.602317620650954\n",
      "Epoch 44 Iteration 0: Loss = 0.4627073109149933\n"
     ]
    },
    {
     "name": "stderr",
     "output_type": "stream",
     "text": [
      "100%|█████████████████████████████████████████████████████████████████████████████████████████████████████| 266/266 [00:15<00:00, 16.68it/s]\n",
      "100%|███████████████████████████████████████████████████████████████████████████████████████████████████████| 67/67 [00:03<00:00, 17.85it/s]\n"
     ]
    },
    {
     "name": "stdout",
     "output_type": "stream",
     "text": [
      "Computing accuracy\n",
      "Test set accuracy (Precision@1) = 0.5949705387205387\n",
      "Epoch 45 Iteration 0: Loss = 0.5063915252685547\n"
     ]
    },
    {
     "name": "stderr",
     "output_type": "stream",
     "text": [
      "100%|█████████████████████████████████████████████████████████████████████████████████████████████████████| 266/266 [00:16<00:00, 16.11it/s]\n",
      "100%|███████████████████████████████████████████████████████████████████████████████████████████████████████| 67/67 [00:03<00:00, 17.16it/s]\n"
     ]
    },
    {
     "name": "stdout",
     "output_type": "stream",
     "text": [
      "Computing accuracy\n",
      "Test set accuracy (Precision@1) = 0.5954040404040404\n",
      "Epoch 46 Iteration 0: Loss = 0.41099193692207336\n"
     ]
    },
    {
     "name": "stderr",
     "output_type": "stream",
     "text": [
      "100%|█████████████████████████████████████████████████████████████████████████████████████████████████████| 266/266 [00:16<00:00, 16.11it/s]\n",
      "100%|███████████████████████████████████████████████████████████████████████████████████████████████████████| 67/67 [00:03<00:00, 17.87it/s]\n"
     ]
    },
    {
     "name": "stdout",
     "output_type": "stream",
     "text": [
      "Computing accuracy\n",
      "Test set accuracy (Precision@1) = 0.6077960157126824\n",
      "Epoch 47 Iteration 0: Loss = 0.4977405071258545\n"
     ]
    },
    {
     "name": "stderr",
     "output_type": "stream",
     "text": [
      "100%|█████████████████████████████████████████████████████████████████████████████████████████████████████| 266/266 [00:16<00:00, 16.51it/s]\n",
      "100%|███████████████████████████████████████████████████████████████████████████████████████████████████████| 67/67 [00:03<00:00, 17.62it/s]\n"
     ]
    },
    {
     "name": "stdout",
     "output_type": "stream",
     "text": [
      "Computing accuracy\n",
      "Test set accuracy (Precision@1) = 0.6094584736251403\n",
      "Epoch 48 Iteration 0: Loss = 0.5156606435775757\n"
     ]
    },
    {
     "name": "stderr",
     "output_type": "stream",
     "text": [
      "100%|█████████████████████████████████████████████████████████████████████████████████████████████████████| 266/266 [00:16<00:00, 15.95it/s]\n",
      "100%|███████████████████████████████████████████████████████████████████████████████████████████████████████| 67/67 [00:03<00:00, 17.41it/s]\n"
     ]
    },
    {
     "name": "stdout",
     "output_type": "stream",
     "text": [
      "Computing accuracy\n",
      "Test set accuracy (Precision@1) = 0.6042887205387205\n",
      "Epoch 49 Iteration 0: Loss = 0.4147472381591797\n"
     ]
    },
    {
     "name": "stderr",
     "output_type": "stream",
     "text": [
      "100%|█████████████████████████████████████████████████████████████████████████████████████████████████████| 266/266 [00:15<00:00, 16.78it/s]\n",
      "100%|███████████████████████████████████████████████████████████████████████████████████████████████████████| 67/67 [00:03<00:00, 18.17it/s]\n"
     ]
    },
    {
     "name": "stdout",
     "output_type": "stream",
     "text": [
      "Computing accuracy\n",
      "Test set accuracy (Precision@1) = 0.6131734006734008\n",
      "Epoch 50 Iteration 0: Loss = 0.3933763802051544\n"
     ]
    },
    {
     "name": "stderr",
     "output_type": "stream",
     "text": [
      "100%|█████████████████████████████████████████████████████████████████████████████████████████████████████| 266/266 [00:16<00:00, 16.39it/s]\n",
      "100%|███████████████████████████████████████████████████████████████████████████████████████████████████████| 67/67 [00:03<00:00, 17.15it/s]\n"
     ]
    },
    {
     "name": "stdout",
     "output_type": "stream",
     "text": [
      "Computing accuracy\n",
      "Test set accuracy (Precision@1) = 0.6112023007856342\n",
      "Epoch 51 Iteration 0: Loss = 0.4456556737422943\n"
     ]
    },
    {
     "name": "stderr",
     "output_type": "stream",
     "text": [
      "100%|█████████████████████████████████████████████████████████████████████████████████████████████████████| 266/266 [00:16<00:00, 16.22it/s]\n",
      "100%|███████████████████████████████████████████████████████████████████████████████████████████████████████| 67/67 [00:03<00:00, 17.95it/s]\n"
     ]
    },
    {
     "name": "stdout",
     "output_type": "stream",
     "text": [
      "Computing accuracy\n",
      "Test set accuracy (Precision@1) = 0.6212373737373738\n",
      "Epoch 52 Iteration 0: Loss = 0.44040340185165405\n"
     ]
    },
    {
     "name": "stderr",
     "output_type": "stream",
     "text": [
      "100%|█████████████████████████████████████████████████████████████████████████████████████████████████████| 266/266 [00:16<00:00, 16.03it/s]\n",
      "100%|███████████████████████████████████████████████████████████████████████████████████████████████████████| 67/67 [00:03<00:00, 17.45it/s]\n"
     ]
    },
    {
     "name": "stdout",
     "output_type": "stream",
     "text": [
      "Computing accuracy\n",
      "Test set accuracy (Precision@1) = 0.6207112794612795\n",
      "Epoch 53 Iteration 0: Loss = 0.4474686086177826\n"
     ]
    },
    {
     "name": "stderr",
     "output_type": "stream",
     "text": [
      "100%|█████████████████████████████████████████████████████████████████████████████████████████████████████| 266/266 [00:16<00:00, 15.91it/s]\n",
      "100%|███████████████████████████████████████████████████████████████████████████████████████████████████████| 67/67 [00:04<00:00, 16.03it/s]\n"
     ]
    },
    {
     "name": "stdout",
     "output_type": "stream",
     "text": [
      "Computing accuracy\n",
      "Test set accuracy (Precision@1) = 0.6253128507295175\n",
      "Epoch 54 Iteration 0: Loss = 0.45526325702667236\n"
     ]
    },
    {
     "name": "stderr",
     "output_type": "stream",
     "text": [
      "100%|█████████████████████████████████████████████████████████████████████████████████████████████████████| 266/266 [00:17<00:00, 15.22it/s]\n",
      "100%|███████████████████████████████████████████████████████████████████████████████████████████████████████| 67/67 [00:04<00:00, 16.05it/s]\n"
     ]
    },
    {
     "name": "stdout",
     "output_type": "stream",
     "text": [
      "Computing accuracy\n",
      "Test set accuracy (Precision@1) = 0.6229026374859709\n",
      "Epoch 55 Iteration 0: Loss = 0.37334102392196655\n"
     ]
    },
    {
     "name": "stderr",
     "output_type": "stream",
     "text": [
      "100%|█████████████████████████████████████████████████████████████████████████████████████████████████████| 266/266 [00:16<00:00, 15.88it/s]\n",
      "100%|███████████████████████████████████████████████████████████████████████████████████████████████████████| 67/67 [00:03<00:00, 17.50it/s]\n"
     ]
    },
    {
     "name": "stdout",
     "output_type": "stream",
     "text": [
      "Computing accuracy\n",
      "Test set accuracy (Precision@1) = 0.6167606621773289\n",
      "Epoch 56 Iteration 0: Loss = 0.40166181325912476\n"
     ]
    },
    {
     "name": "stderr",
     "output_type": "stream",
     "text": [
      "100%|█████████████████████████████████████████████████████████████████████████████████████████████████████| 266/266 [00:15<00:00, 16.64it/s]\n",
      "100%|███████████████████████████████████████████████████████████████████████████████████████████████████████| 67/67 [00:03<00:00, 17.91it/s]\n"
     ]
    },
    {
     "name": "stdout",
     "output_type": "stream",
     "text": [
      "Computing accuracy\n",
      "Test set accuracy (Precision@1) = 0.6301094276094276\n",
      "Epoch 57 Iteration 0: Loss = 0.40978941321372986\n"
     ]
    },
    {
     "name": "stderr",
     "output_type": "stream",
     "text": [
      "100%|█████████████████████████████████████████████████████████████████████████████████████████████████████| 266/266 [00:15<00:00, 16.81it/s]\n",
      "100%|███████████████████████████████████████████████████████████████████████████████████████████████████████| 67/67 [00:03<00:00, 18.33it/s]\n"
     ]
    },
    {
     "name": "stdout",
     "output_type": "stream",
     "text": [
      "Computing accuracy\n",
      "Test set accuracy (Precision@1) = 0.6367185746352414\n",
      "Epoch 58 Iteration 0: Loss = 0.4546130299568176\n"
     ]
    },
    {
     "name": "stderr",
     "output_type": "stream",
     "text": [
      "100%|█████████████████████████████████████████████████████████████████████████████████████████████████████| 266/266 [00:15<00:00, 16.83it/s]\n",
      "100%|███████████████████████████████████████████████████████████████████████████████████████████████████████| 67/67 [00:03<00:00, 17.85it/s]\n"
     ]
    },
    {
     "name": "stdout",
     "output_type": "stream",
     "text": [
      "Computing accuracy\n",
      "Test set accuracy (Precision@1) = 0.6226052188552188\n",
      "Epoch 59 Iteration 0: Loss = 0.4638465642929077\n"
     ]
    },
    {
     "name": "stderr",
     "output_type": "stream",
     "text": [
      "100%|█████████████████████████████████████████████████████████████████████████████████████████████████████| 266/266 [00:16<00:00, 16.37it/s]\n",
      "100%|███████████████████████████████████████████████████████████████████████████████████████████████████████| 67/67 [00:03<00:00, 17.68it/s]\n"
     ]
    },
    {
     "name": "stdout",
     "output_type": "stream",
     "text": [
      "Computing accuracy\n",
      "Test set accuracy (Precision@1) = 0.6106691919191919\n",
      "Epoch 60 Iteration 0: Loss = 0.4222058653831482\n"
     ]
    },
    {
     "name": "stderr",
     "output_type": "stream",
     "text": [
      "100%|█████████████████████████████████████████████████████████████████████████████████████████████████████| 266/266 [00:15<00:00, 16.78it/s]\n",
      "100%|███████████████████████████████████████████████████████████████████████████████████████████████████████| 67/67 [00:03<00:00, 18.19it/s]\n"
     ]
    },
    {
     "name": "stdout",
     "output_type": "stream",
     "text": [
      "Computing accuracy\n",
      "Test set accuracy (Precision@1) = 0.6198667227833895\n",
      "Epoch 61 Iteration 0: Loss = 0.44708171486854553\n"
     ]
    },
    {
     "name": "stderr",
     "output_type": "stream",
     "text": [
      "100%|█████████████████████████████████████████████████████████████████████████████████████████████████████| 266/266 [00:16<00:00, 16.50it/s]\n",
      "100%|███████████████████████████████████████████████████████████████████████████████████████████████████████| 67/67 [00:03<00:00, 18.18it/s]\n"
     ]
    },
    {
     "name": "stdout",
     "output_type": "stream",
     "text": [
      "Computing accuracy\n",
      "Test set accuracy (Precision@1) = 0.6236125140291807\n",
      "Epoch 62 Iteration 0: Loss = 0.40491440892219543\n"
     ]
    },
    {
     "name": "stderr",
     "output_type": "stream",
     "text": [
      "100%|█████████████████████████████████████████████████████████████████████████████████████████████████████| 266/266 [00:16<00:00, 16.53it/s]\n",
      "100%|███████████████████████████████████████████████████████████████████████████████████████████████████████| 67/67 [00:03<00:00, 17.72it/s]\n"
     ]
    },
    {
     "name": "stdout",
     "output_type": "stream",
     "text": [
      "Computing accuracy\n",
      "Test set accuracy (Precision@1) = 0.628270202020202\n",
      "Epoch 63 Iteration 0: Loss = 0.41886427998542786\n"
     ]
    },
    {
     "name": "stderr",
     "output_type": "stream",
     "text": [
      "100%|█████████████████████████████████████████████████████████████████████████████████████████████████████| 266/266 [00:16<00:00, 16.59it/s]\n",
      "100%|███████████████████████████████████████████████████████████████████████████████████████████████████████| 67/67 [00:03<00:00, 18.22it/s]\n"
     ]
    },
    {
     "name": "stdout",
     "output_type": "stream",
     "text": [
      "Computing accuracy\n",
      "Test set accuracy (Precision@1) = 0.6373190235690236\n",
      "Epoch 64 Iteration 0: Loss = 0.3882385194301605\n"
     ]
    },
    {
     "name": "stderr",
     "output_type": "stream",
     "text": [
      "100%|█████████████████████████████████████████████████████████████████████████████████████████████████████| 266/266 [00:15<00:00, 16.96it/s]\n",
      "100%|███████████████████████████████████████████████████████████████████████████████████████████████████████| 67/67 [00:03<00:00, 18.02it/s]\n"
     ]
    },
    {
     "name": "stdout",
     "output_type": "stream",
     "text": [
      "Computing accuracy\n",
      "Test set accuracy (Precision@1) = 0.6265796857463524\n",
      "Epoch 65 Iteration 0: Loss = 0.4712846875190735\n"
     ]
    },
    {
     "name": "stderr",
     "output_type": "stream",
     "text": [
      "100%|█████████████████████████████████████████████████████████████████████████████████████████████████████| 266/266 [00:15<00:00, 16.67it/s]\n",
      "100%|███████████████████████████████████████████████████████████████████████████████████████████████████████| 67/67 [00:03<00:00, 17.49it/s]\n"
     ]
    },
    {
     "name": "stdout",
     "output_type": "stream",
     "text": [
      "Computing accuracy\n",
      "Test set accuracy (Precision@1) = 0.6273442760942761\n",
      "Epoch 66 Iteration 0: Loss = 0.3700811564922333\n"
     ]
    },
    {
     "name": "stderr",
     "output_type": "stream",
     "text": [
      "100%|█████████████████████████████████████████████████████████████████████████████████████████████████████| 266/266 [00:15<00:00, 16.64it/s]\n",
      "100%|███████████████████████████████████████████████████████████████████████████████████████████████████████| 67/67 [00:03<00:00, 18.41it/s]\n"
     ]
    },
    {
     "name": "stdout",
     "output_type": "stream",
     "text": [
      "Computing accuracy\n",
      "Test set accuracy (Precision@1) = 0.6343532547699215\n",
      "Epoch 67 Iteration 0: Loss = 0.47819387912750244\n"
     ]
    },
    {
     "name": "stderr",
     "output_type": "stream",
     "text": [
      "100%|█████████████████████████████████████████████████████████████████████████████████████████████████████| 266/266 [00:17<00:00, 15.46it/s]\n",
      "100%|███████████████████████████████████████████████████████████████████████████████████████████████████████| 67/67 [00:04<00:00, 15.07it/s]\n"
     ]
    },
    {
     "name": "stdout",
     "output_type": "stream",
     "text": [
      "Computing accuracy\n",
      "Test set accuracy (Precision@1) = 0.6403184624017958\n",
      "Epoch 68 Iteration 0: Loss = 0.48984047770500183\n"
     ]
    },
    {
     "name": "stderr",
     "output_type": "stream",
     "text": [
      "100%|█████████████████████████████████████████████████████████████████████████████████████████████████████| 266/266 [00:15<00:00, 17.01it/s]\n",
      "100%|███████████████████████████████████████████████████████████████████████████████████████████████████████| 67/67 [00:03<00:00, 18.09it/s]\n"
     ]
    },
    {
     "name": "stdout",
     "output_type": "stream",
     "text": [
      "Computing accuracy\n",
      "Test set accuracy (Precision@1) = 0.6330569584736252\n",
      "Epoch 69 Iteration 0: Loss = 0.43900302052497864\n"
     ]
    },
    {
     "name": "stderr",
     "output_type": "stream",
     "text": [
      "100%|█████████████████████████████████████████████████████████████████████████████████████████████████████| 266/266 [00:15<00:00, 16.91it/s]\n",
      "100%|███████████████████████████████████████████████████████████████████████████████████████████████████████| 67/67 [00:03<00:00, 17.39it/s]\n"
     ]
    },
    {
     "name": "stdout",
     "output_type": "stream",
     "text": [
      "Computing accuracy\n",
      "Test set accuracy (Precision@1) = 0.6301781705948373\n",
      "Epoch 70 Iteration 0: Loss = 0.4624280333518982\n"
     ]
    },
    {
     "name": "stderr",
     "output_type": "stream",
     "text": [
      "100%|█████████████████████████████████████████████████████████████████████████████████████████████████████| 266/266 [00:15<00:00, 16.76it/s]\n",
      "100%|███████████████████████████████████████████████████████████████████████████████████████████████████████| 67/67 [00:03<00:00, 17.79it/s]\n"
     ]
    },
    {
     "name": "stdout",
     "output_type": "stream",
     "text": [
      "Computing accuracy\n",
      "Test set accuracy (Precision@1) = 0.6419234006734007\n",
      "Epoch 71 Iteration 0: Loss = 0.3401699960231781\n"
     ]
    },
    {
     "name": "stderr",
     "output_type": "stream",
     "text": [
      "100%|█████████████████████████████████████████████████████████████████████████████████████████████████████| 266/266 [00:15<00:00, 16.99it/s]\n",
      "100%|███████████████████████████████████████████████████████████████████████████████████████████████████████| 67/67 [00:03<00:00, 18.10it/s]\n"
     ]
    },
    {
     "name": "stdout",
     "output_type": "stream",
     "text": [
      "Computing accuracy\n",
      "Test set accuracy (Precision@1) = 0.6335620089786757\n",
      "Epoch 72 Iteration 0: Loss = 0.45276033878326416\n"
     ]
    },
    {
     "name": "stderr",
     "output_type": "stream",
     "text": [
      "100%|█████████████████████████████████████████████████████████████████████████████████████████████████████| 266/266 [00:15<00:00, 16.82it/s]\n",
      "100%|███████████████████████████████████████████████████████████████████████████████████████████████████████| 67/67 [00:04<00:00, 16.67it/s]\n"
     ]
    },
    {
     "name": "stdout",
     "output_type": "stream",
     "text": [
      "Computing accuracy\n",
      "Test set accuracy (Precision@1) = 0.6355765993265994\n",
      "Epoch 73 Iteration 0: Loss = 0.4222331643104553\n"
     ]
    },
    {
     "name": "stderr",
     "output_type": "stream",
     "text": [
      "100%|█████████████████████████████████████████████████████████████████████████████████████████████████████| 266/266 [00:15<00:00, 16.78it/s]\n",
      "100%|███████████████████████████████████████████████████████████████████████████████████████████████████████| 67/67 [00:03<00:00, 17.73it/s]\n"
     ]
    },
    {
     "name": "stdout",
     "output_type": "stream",
     "text": [
      "Computing accuracy\n",
      "Test set accuracy (Precision@1) = 0.6347615039281707\n",
      "Epoch 74 Iteration 0: Loss = 0.447605699300766\n"
     ]
    },
    {
     "name": "stderr",
     "output_type": "stream",
     "text": [
      "100%|█████████████████████████████████████████████████████████████████████████████████████████████████████| 266/266 [00:16<00:00, 16.60it/s]\n",
      "100%|███████████████████████████████████████████████████████████████████████████████████████████████████████| 67/67 [00:03<00:00, 18.22it/s]\n"
     ]
    },
    {
     "name": "stdout",
     "output_type": "stream",
     "text": [
      "Computing accuracy\n",
      "Test set accuracy (Precision@1) = 0.6271787317620652\n",
      "Epoch 75 Iteration 0: Loss = 0.44514200091362\n"
     ]
    },
    {
     "name": "stderr",
     "output_type": "stream",
     "text": [
      "100%|█████████████████████████████████████████████████████████████████████████████████████████████████████| 266/266 [00:16<00:00, 16.61it/s]\n",
      "100%|███████████████████████████████████████████████████████████████████████████████████████████████████████| 67/67 [00:03<00:00, 18.32it/s]\n"
     ]
    },
    {
     "name": "stdout",
     "output_type": "stream",
     "text": [
      "Computing accuracy\n",
      "Test set accuracy (Precision@1) = 0.6438201459034794\n",
      "Epoch 76 Iteration 0: Loss = 0.39901384711265564\n"
     ]
    },
    {
     "name": "stderr",
     "output_type": "stream",
     "text": [
      "100%|█████████████████████████████████████████████████████████████████████████████████████████████████████| 266/266 [00:15<00:00, 16.76it/s]\n",
      "100%|███████████████████████████████████████████████████████████████████████████████████████████████████████| 67/67 [00:03<00:00, 18.08it/s]\n"
     ]
    },
    {
     "name": "stdout",
     "output_type": "stream",
     "text": [
      "Computing accuracy\n",
      "Test set accuracy (Precision@1) = 0.6522152076318743\n",
      "Epoch 77 Iteration 0: Loss = 0.31864282488822937\n"
     ]
    },
    {
     "name": "stderr",
     "output_type": "stream",
     "text": [
      "100%|█████████████████████████████████████████████████████████████████████████████████████████████████████| 266/266 [00:16<00:00, 16.51it/s]\n",
      "100%|███████████████████████████████████████████████████████████████████████████████████████████████████████| 67/67 [00:03<00:00, 18.44it/s]\n"
     ]
    },
    {
     "name": "stdout",
     "output_type": "stream",
     "text": [
      "Computing accuracy\n",
      "Test set accuracy (Precision@1) = 0.6481271043771044\n",
      "Epoch 78 Iteration 0: Loss = 0.41134411096572876\n"
     ]
    },
    {
     "name": "stderr",
     "output_type": "stream",
     "text": [
      "100%|█████████████████████████████████████████████████████████████████████████████████████████████████████| 266/266 [00:15<00:00, 17.02it/s]\n",
      "100%|███████████████████████████████████████████████████████████████████████████████████████████████████████| 67/67 [00:03<00:00, 18.34it/s]\n"
     ]
    },
    {
     "name": "stdout",
     "output_type": "stream",
     "text": [
      "Computing accuracy\n",
      "Test set accuracy (Precision@1) = 0.6396394500561168\n",
      "Epoch 79 Iteration 0: Loss = 0.3763630986213684\n"
     ]
    },
    {
     "name": "stderr",
     "output_type": "stream",
     "text": [
      "100%|█████████████████████████████████████████████████████████████████████████████████████████████████████| 266/266 [00:15<00:00, 17.08it/s]\n",
      "100%|███████████████████████████████████████████████████████████████████████████████████████████████████████| 67/67 [00:03<00:00, 18.28it/s]\n"
     ]
    },
    {
     "name": "stdout",
     "output_type": "stream",
     "text": [
      "Computing accuracy\n",
      "Test set accuracy (Precision@1) = 0.6538818742985409\n",
      "Epoch 80 Iteration 0: Loss = 0.430843323469162\n"
     ]
    },
    {
     "name": "stderr",
     "output_type": "stream",
     "text": [
      "100%|█████████████████████████████████████████████████████████████████████████████████████████████████████| 266/266 [00:15<00:00, 17.14it/s]\n",
      "100%|███████████████████████████████████████████████████████████████████████████████████████████████████████| 67/67 [00:03<00:00, 18.43it/s]\n"
     ]
    },
    {
     "name": "stdout",
     "output_type": "stream",
     "text": [
      "Computing accuracy\n",
      "Test set accuracy (Precision@1) = 0.6366063411896745\n",
      "Epoch 81 Iteration 0: Loss = 0.40070840716362\n"
     ]
    },
    {
     "name": "stderr",
     "output_type": "stream",
     "text": [
      "100%|█████████████████████████████████████████████████████████████████████████████████████████████████████| 266/266 [00:15<00:00, 17.12it/s]\n",
      "100%|███████████████████████████████████████████████████████████████████████████████████████████████████████| 67/67 [00:03<00:00, 18.38it/s]\n"
     ]
    },
    {
     "name": "stdout",
     "output_type": "stream",
     "text": [
      "Computing accuracy\n",
      "Test set accuracy (Precision@1) = 0.6551865881032548\n",
      "Epoch 82 Iteration 0: Loss = 0.4458460807800293\n"
     ]
    },
    {
     "name": "stderr",
     "output_type": "stream",
     "text": [
      "100%|█████████████████████████████████████████████████████████████████████████████████████████████████████| 266/266 [00:15<00:00, 17.07it/s]\n",
      "100%|███████████████████████████████████████████████████████████████████████████████████████████████████████| 67/67 [00:03<00:00, 18.45it/s]\n"
     ]
    },
    {
     "name": "stdout",
     "output_type": "stream",
     "text": [
      "Computing accuracy\n",
      "Test set accuracy (Precision@1) = 0.6368504489337824\n",
      "Epoch 83 Iteration 0: Loss = 0.406769722700119\n"
     ]
    },
    {
     "name": "stderr",
     "output_type": "stream",
     "text": [
      "100%|█████████████████████████████████████████████████████████████████████████████████████████████████████| 266/266 [00:15<00:00, 16.88it/s]\n",
      "100%|███████████████████████████████████████████████████████████████████████████████████████████████████████| 67/67 [00:03<00:00, 17.99it/s]\n"
     ]
    },
    {
     "name": "stdout",
     "output_type": "stream",
     "text": [
      "Computing accuracy\n",
      "Test set accuracy (Precision@1) = 0.6466343995510664\n",
      "Epoch 84 Iteration 0: Loss = 0.4504885971546173\n"
     ]
    },
    {
     "name": "stderr",
     "output_type": "stream",
     "text": [
      "100%|█████████████████████████████████████████████████████████████████████████████████████████████████████| 266/266 [00:15<00:00, 17.03it/s]\n",
      "100%|███████████████████████████████████████████████████████████████████████████████████████████████████████| 67/67 [00:03<00:00, 18.20it/s]\n"
     ]
    },
    {
     "name": "stdout",
     "output_type": "stream",
     "text": [
      "Computing accuracy\n",
      "Test set accuracy (Precision@1) = 0.6470356341189675\n",
      "Epoch 85 Iteration 0: Loss = 0.4382650852203369\n"
     ]
    },
    {
     "name": "stderr",
     "output_type": "stream",
     "text": [
      "100%|█████████████████████████████████████████████████████████████████████████████████████████████████████| 266/266 [00:15<00:00, 17.00it/s]\n",
      "100%|███████████████████████████████████████████████████████████████████████████████████████████████████████| 67/67 [00:03<00:00, 18.30it/s]\n"
     ]
    },
    {
     "name": "stdout",
     "output_type": "stream",
     "text": [
      "Computing accuracy\n",
      "Test set accuracy (Precision@1) = 0.6432505611672279\n",
      "Epoch 86 Iteration 0: Loss = 0.39340779185295105\n"
     ]
    },
    {
     "name": "stderr",
     "output_type": "stream",
     "text": [
      "100%|█████████████████████████████████████████████████████████████████████████████████████████████████████| 266/266 [00:15<00:00, 16.87it/s]\n",
      "100%|███████████████████████████████████████████████████████████████████████████████████████████████████████| 67/67 [00:03<00:00, 18.24it/s]\n"
     ]
    },
    {
     "name": "stdout",
     "output_type": "stream",
     "text": [
      "Computing accuracy\n",
      "Test set accuracy (Precision@1) = 0.6464267676767677\n",
      "Epoch 87 Iteration 0: Loss = 0.4206005334854126\n"
     ]
    },
    {
     "name": "stderr",
     "output_type": "stream",
     "text": [
      "100%|█████████████████████████████████████████████████████████████████████████████████████████████████████| 266/266 [00:15<00:00, 16.75it/s]\n",
      "100%|███████████████████████████████████████████████████████████████████████████████████████████████████████| 67/67 [00:03<00:00, 17.97it/s]\n"
     ]
    },
    {
     "name": "stdout",
     "output_type": "stream",
     "text": [
      "Computing accuracy\n",
      "Test set accuracy (Precision@1) = 0.6468700897867564\n",
      "Epoch 88 Iteration 0: Loss = 0.4414263069629669\n"
     ]
    },
    {
     "name": "stderr",
     "output_type": "stream",
     "text": [
      "100%|█████████████████████████████████████████████████████████████████████████████████████████████████████| 266/266 [00:16<00:00, 16.32it/s]\n",
      "100%|███████████████████████████████████████████████████████████████████████████████████████████████████████| 67/67 [00:03<00:00, 17.46it/s]\n"
     ]
    },
    {
     "name": "stdout",
     "output_type": "stream",
     "text": [
      "Computing accuracy\n",
      "Test set accuracy (Precision@1) = 0.6567213804713805\n",
      "Epoch 89 Iteration 0: Loss = 0.4199307858943939\n"
     ]
    },
    {
     "name": "stderr",
     "output_type": "stream",
     "text": [
      "100%|█████████████████████████████████████████████████████████████████████████████████████████████████████| 266/266 [00:15<00:00, 16.83it/s]\n",
      "100%|███████████████████████████████████████████████████████████████████████████████████████████████████████| 67/67 [00:03<00:00, 18.14it/s]\n"
     ]
    },
    {
     "name": "stdout",
     "output_type": "stream",
     "text": [
      "Computing accuracy\n",
      "Test set accuracy (Precision@1) = 0.6498274410774411\n",
      "Epoch 90 Iteration 0: Loss = 0.362949937582016\n"
     ]
    },
    {
     "name": "stderr",
     "output_type": "stream",
     "text": [
      "100%|█████████████████████████████████████████████████████████████████████████████████████████████████████| 266/266 [00:15<00:00, 16.82it/s]\n",
      "100%|███████████████████████████████████████████████████████████████████████████████████████████████████████| 67/67 [00:03<00:00, 17.74it/s]\n"
     ]
    },
    {
     "name": "stdout",
     "output_type": "stream",
     "text": [
      "Computing accuracy\n",
      "Test set accuracy (Precision@1) = 0.6420973625140292\n",
      "Epoch 91 Iteration 0: Loss = 0.4263118803501129\n"
     ]
    },
    {
     "name": "stderr",
     "output_type": "stream",
     "text": [
      "100%|█████████████████████████████████████████████████████████████████████████████████████████████████████| 266/266 [00:15<00:00, 17.00it/s]\n",
      "100%|███████████████████████████████████████████████████████████████████████████████████████████████████████| 67/67 [00:03<00:00, 18.38it/s]\n"
     ]
    },
    {
     "name": "stdout",
     "output_type": "stream",
     "text": [
      "Computing accuracy\n",
      "Test set accuracy (Precision@1) = 0.6590333894500562\n",
      "Epoch 92 Iteration 0: Loss = 0.44061678647994995\n"
     ]
    },
    {
     "name": "stderr",
     "output_type": "stream",
     "text": [
      "100%|█████████████████████████████████████████████████████████████████████████████████████████████████████| 266/266 [00:15<00:00, 17.00it/s]\n",
      "100%|███████████████████████████████████████████████████████████████████████████████████████████████████████| 67/67 [00:03<00:00, 18.21it/s]\n"
     ]
    },
    {
     "name": "stdout",
     "output_type": "stream",
     "text": [
      "Computing accuracy\n",
      "Test set accuracy (Precision@1) = 0.6612864758698093\n",
      "Epoch 93 Iteration 0: Loss = 0.41175979375839233\n"
     ]
    },
    {
     "name": "stderr",
     "output_type": "stream",
     "text": [
      "100%|█████████████████████████████████████████████████████████████████████████████████████████████████████| 266/266 [00:15<00:00, 16.68it/s]\n",
      "100%|███████████████████████████████████████████████████████████████████████████████████████████████████████| 67/67 [00:03<00:00, 18.28it/s]\n"
     ]
    },
    {
     "name": "stdout",
     "output_type": "stream",
     "text": [
      "Computing accuracy\n",
      "Test set accuracy (Precision@1) = 0.6633487654320989\n",
      "Epoch 94 Iteration 0: Loss = 0.3796713650226593\n"
     ]
    },
    {
     "name": "stderr",
     "output_type": "stream",
     "text": [
      "100%|█████████████████████████████████████████████████████████████████████████████████████████████████████| 266/266 [00:15<00:00, 16.89it/s]\n",
      "100%|███████████████████████████████████████████████████████████████████████████████████████████████████████| 67/67 [00:03<00:00, 18.19it/s]\n"
     ]
    },
    {
     "name": "stdout",
     "output_type": "stream",
     "text": [
      "Computing accuracy\n",
      "Test set accuracy (Precision@1) = 0.643334736251403\n",
      "Epoch 95 Iteration 0: Loss = 0.39914458990097046\n"
     ]
    },
    {
     "name": "stderr",
     "output_type": "stream",
     "text": [
      "100%|█████████████████████████████████████████████████████████████████████████████████████████████████████| 266/266 [00:15<00:00, 16.88it/s]\n",
      "100%|███████████████████████████████████████████████████████████████████████████████████████████████████████| 67/67 [00:03<00:00, 18.01it/s]\n"
     ]
    },
    {
     "name": "stdout",
     "output_type": "stream",
     "text": [
      "Computing accuracy\n",
      "Test set accuracy (Precision@1) = 0.6472320426487094\n",
      "Epoch 96 Iteration 0: Loss = 0.4447709918022156\n"
     ]
    },
    {
     "name": "stderr",
     "output_type": "stream",
     "text": [
      "100%|█████████████████████████████████████████████████████████████████████████████████████████████████████| 266/266 [00:16<00:00, 16.49it/s]\n",
      "100%|███████████████████████████████████████████████████████████████████████████████████████████████████████| 67/67 [00:03<00:00, 17.98it/s]\n"
     ]
    },
    {
     "name": "stdout",
     "output_type": "stream",
     "text": [
      "Computing accuracy\n",
      "Test set accuracy (Precision@1) = 0.6536714365881033\n",
      "Epoch 97 Iteration 0: Loss = 0.42862647771835327\n"
     ]
    },
    {
     "name": "stderr",
     "output_type": "stream",
     "text": [
      "100%|█████████████████████████████████████████████████████████████████████████████████████████████████████| 266/266 [00:16<00:00, 16.37it/s]\n",
      "100%|███████████████████████████████████████████████████████████████████████████████████████████████████████| 67/67 [00:03<00:00, 17.34it/s]\n"
     ]
    },
    {
     "name": "stdout",
     "output_type": "stream",
     "text": [
      "Computing accuracy\n",
      "Test set accuracy (Precision@1) = 0.6645159932659933\n",
      "Epoch 98 Iteration 0: Loss = 0.424744188785553\n"
     ]
    },
    {
     "name": "stderr",
     "output_type": "stream",
     "text": [
      "100%|█████████████████████████████████████████████████████████████████████████████████████████████████████| 266/266 [00:16<00:00, 16.23it/s]\n",
      "100%|███████████████████████████████████████████████████████████████████████████████████████████████████████| 67/67 [00:03<00:00, 17.61it/s]\n"
     ]
    },
    {
     "name": "stdout",
     "output_type": "stream",
     "text": [
      "Computing accuracy\n",
      "Test set accuracy (Precision@1) = 0.647159090909091\n",
      "Epoch 99 Iteration 0: Loss = 0.35271376371383667\n"
     ]
    },
    {
     "name": "stderr",
     "output_type": "stream",
     "text": [
      "100%|█████████████████████████████████████████████████████████████████████████████████████████████████████| 266/266 [00:16<00:00, 15.92it/s]\n",
      "100%|███████████████████████████████████████████████████████████████████████████████████████████████████████| 67/67 [00:03<00:00, 16.78it/s]\n"
     ]
    },
    {
     "name": "stdout",
     "output_type": "stream",
     "text": [
      "Computing accuracy\n",
      "Test set accuracy (Precision@1) = 0.6719037598204265\n",
      "Epoch 100 Iteration 0: Loss = 0.33998903632164\n"
     ]
    },
    {
     "name": "stderr",
     "output_type": "stream",
     "text": [
      "100%|█████████████████████████████████████████████████████████████████████████████████████████████████████| 266/266 [00:16<00:00, 15.88it/s]\n",
      "100%|███████████████████████████████████████████████████████████████████████████████████████████████████████| 67/67 [00:03<00:00, 18.02it/s]"
     ]
    },
    {
     "name": "stdout",
     "output_type": "stream",
     "text": [
      "Computing accuracy\n",
      "Test set accuracy (Precision@1) = 0.6624284511784511\n"
     ]
    },
    {
     "name": "stderr",
     "output_type": "stream",
     "text": [
      "\n"
     ]
    }
   ],
   "source": [
    "#total_loss = []\n",
    "#total_acc = []\n",
    "for epoch in range(1, num_epochs + 1):\n",
    "    train_loss = train(model, loss_func,mining_func, device, train_loader, optimizer, epoch)\n",
    "    #total_loss.extend(train_loss)\n",
    "    test_acc = test(train_dataset, test_dataset, model, accuracy_calculator)\n",
    "    #total_acc.append(test_acc)\n",
    "    wandb.log({\"test_accuracy2\": test_acc, \"train_loss2\": train_loss,\"epoch\": epoch})"
   ]
  },
  {
   "cell_type": "code",
   "execution_count": 49,
   "id": "440edbeb-80f8-42ec-9547-7bf913aa64b2",
   "metadata": {},
   "outputs": [],
   "source": [
    "torch.save(model,'models/cub_triplet_loss_epshn_resnet18_sgd_aug_180.pth')"
   ]
  },
  {
   "cell_type": "code",
   "execution_count": 32,
   "id": "3afb879b-ef20-45fc-9dbe-6d92e842b99e",
   "metadata": {},
   "outputs": [],
   "source": [
    "model = torch.load('models/cub_triplet_loss_epshn_resnet18_sgd_aug_180.pth',map_location='cuda')"
   ]
  },
  {
   "cell_type": "code",
   "execution_count": 33,
   "id": "1ae29c0e-7b43-4364-a8b8-fcd403a56cbc",
   "metadata": {
    "scrolled": true
   },
   "outputs": [
    {
     "data": {
      "text/plain": [
       "ResNetFeatrueExtractor18(\n",
       "  (conv1): Conv2d(3, 64, kernel_size=(7, 7), stride=(2, 2), padding=(3, 3), bias=False)\n",
       "  (bn1): BatchNorm2d(64, eps=1e-05, momentum=0.1, affine=True, track_running_stats=True)\n",
       "  (relu): ReLU(inplace=True)\n",
       "  (maxpool): MaxPool2d(kernel_size=3, stride=2, padding=1, dilation=1, ceil_mode=False)\n",
       "  (layer1): Sequential(\n",
       "    (0): BasicBlock(\n",
       "      (conv1): Conv2d(64, 64, kernel_size=(3, 3), stride=(1, 1), padding=(1, 1), bias=False)\n",
       "      (bn1): BatchNorm2d(64, eps=1e-05, momentum=0.1, affine=True, track_running_stats=True)\n",
       "      (relu): ReLU(inplace=True)\n",
       "      (conv2): Conv2d(64, 64, kernel_size=(3, 3), stride=(1, 1), padding=(1, 1), bias=False)\n",
       "      (bn2): BatchNorm2d(64, eps=1e-05, momentum=0.1, affine=True, track_running_stats=True)\n",
       "    )\n",
       "    (1): BasicBlock(\n",
       "      (conv1): Conv2d(64, 64, kernel_size=(3, 3), stride=(1, 1), padding=(1, 1), bias=False)\n",
       "      (bn1): BatchNorm2d(64, eps=1e-05, momentum=0.1, affine=True, track_running_stats=True)\n",
       "      (relu): ReLU(inplace=True)\n",
       "      (conv2): Conv2d(64, 64, kernel_size=(3, 3), stride=(1, 1), padding=(1, 1), bias=False)\n",
       "      (bn2): BatchNorm2d(64, eps=1e-05, momentum=0.1, affine=True, track_running_stats=True)\n",
       "    )\n",
       "  )\n",
       "  (layer2): Sequential(\n",
       "    (0): BasicBlock(\n",
       "      (conv1): Conv2d(64, 128, kernel_size=(3, 3), stride=(2, 2), padding=(1, 1), bias=False)\n",
       "      (bn1): BatchNorm2d(128, eps=1e-05, momentum=0.1, affine=True, track_running_stats=True)\n",
       "      (relu): ReLU(inplace=True)\n",
       "      (conv2): Conv2d(128, 128, kernel_size=(3, 3), stride=(1, 1), padding=(1, 1), bias=False)\n",
       "      (bn2): BatchNorm2d(128, eps=1e-05, momentum=0.1, affine=True, track_running_stats=True)\n",
       "      (downsample): Sequential(\n",
       "        (0): Conv2d(64, 128, kernel_size=(1, 1), stride=(2, 2), bias=False)\n",
       "        (1): BatchNorm2d(128, eps=1e-05, momentum=0.1, affine=True, track_running_stats=True)\n",
       "      )\n",
       "    )\n",
       "    (1): BasicBlock(\n",
       "      (conv1): Conv2d(128, 128, kernel_size=(3, 3), stride=(1, 1), padding=(1, 1), bias=False)\n",
       "      (bn1): BatchNorm2d(128, eps=1e-05, momentum=0.1, affine=True, track_running_stats=True)\n",
       "      (relu): ReLU(inplace=True)\n",
       "      (conv2): Conv2d(128, 128, kernel_size=(3, 3), stride=(1, 1), padding=(1, 1), bias=False)\n",
       "      (bn2): BatchNorm2d(128, eps=1e-05, momentum=0.1, affine=True, track_running_stats=True)\n",
       "    )\n",
       "  )\n",
       "  (layer3): Sequential(\n",
       "    (0): BasicBlock(\n",
       "      (conv1): Conv2d(128, 256, kernel_size=(3, 3), stride=(2, 2), padding=(1, 1), bias=False)\n",
       "      (bn1): BatchNorm2d(256, eps=1e-05, momentum=0.1, affine=True, track_running_stats=True)\n",
       "      (relu): ReLU(inplace=True)\n",
       "      (conv2): Conv2d(256, 256, kernel_size=(3, 3), stride=(1, 1), padding=(1, 1), bias=False)\n",
       "      (bn2): BatchNorm2d(256, eps=1e-05, momentum=0.1, affine=True, track_running_stats=True)\n",
       "      (downsample): Sequential(\n",
       "        (0): Conv2d(128, 256, kernel_size=(1, 1), stride=(2, 2), bias=False)\n",
       "        (1): BatchNorm2d(256, eps=1e-05, momentum=0.1, affine=True, track_running_stats=True)\n",
       "      )\n",
       "    )\n",
       "    (1): BasicBlock(\n",
       "      (conv1): Conv2d(256, 256, kernel_size=(3, 3), stride=(1, 1), padding=(1, 1), bias=False)\n",
       "      (bn1): BatchNorm2d(256, eps=1e-05, momentum=0.1, affine=True, track_running_stats=True)\n",
       "      (relu): ReLU(inplace=True)\n",
       "      (conv2): Conv2d(256, 256, kernel_size=(3, 3), stride=(1, 1), padding=(1, 1), bias=False)\n",
       "      (bn2): BatchNorm2d(256, eps=1e-05, momentum=0.1, affine=True, track_running_stats=True)\n",
       "    )\n",
       "  )\n",
       "  (layer4): Sequential(\n",
       "    (0): BasicBlock(\n",
       "      (conv1): Conv2d(256, 512, kernel_size=(3, 3), stride=(2, 2), padding=(1, 1), bias=False)\n",
       "      (bn1): BatchNorm2d(512, eps=1e-05, momentum=0.1, affine=True, track_running_stats=True)\n",
       "      (relu): ReLU(inplace=True)\n",
       "      (conv2): Conv2d(512, 512, kernel_size=(3, 3), stride=(1, 1), padding=(1, 1), bias=False)\n",
       "      (bn2): BatchNorm2d(512, eps=1e-05, momentum=0.1, affine=True, track_running_stats=True)\n",
       "      (downsample): Sequential(\n",
       "        (0): Conv2d(256, 512, kernel_size=(1, 1), stride=(2, 2), bias=False)\n",
       "        (1): BatchNorm2d(512, eps=1e-05, momentum=0.1, affine=True, track_running_stats=True)\n",
       "      )\n",
       "    )\n",
       "    (1): BasicBlock(\n",
       "      (conv1): Conv2d(512, 512, kernel_size=(3, 3), stride=(1, 1), padding=(1, 1), bias=False)\n",
       "      (bn1): BatchNorm2d(512, eps=1e-05, momentum=0.1, affine=True, track_running_stats=True)\n",
       "      (relu): ReLU(inplace=True)\n",
       "      (conv2): Conv2d(512, 512, kernel_size=(3, 3), stride=(1, 1), padding=(1, 1), bias=False)\n",
       "      (bn2): BatchNorm2d(512, eps=1e-05, momentum=0.1, affine=True, track_running_stats=True)\n",
       "    )\n",
       "  )\n",
       "  (avgpool): AdaptiveAvgPool2d(output_size=(1, 1))\n",
       "  (fc1): Linear(in_features=512, out_features=128, bias=True)\n",
       ")"
      ]
     },
     "execution_count": 33,
     "metadata": {},
     "output_type": "execute_result"
    }
   ],
   "source": [
    "model.eval()"
   ]
  },
  {
   "cell_type": "code",
   "execution_count": 34,
   "id": "9baeaa00-0932-4952-9620-b49a1de77f88",
   "metadata": {},
   "outputs": [],
   "source": [
    "image_paths = []\n",
    "labels = []\n",
    "for folder_path,i in class_dict.items():\n",
    "    folder_images = glob.glob('CUB_200_2011/images/'+'/'+str(folder_path)+'/*')\n",
    "    image_paths.extend(folder_images)\n",
    "    labels.extend([i]*len(folder_images))"
   ]
  },
  {
   "cell_type": "code",
   "execution_count": 35,
   "id": "ba1ed4c4-806c-4b70-a1f1-fd61510cc52b",
   "metadata": {},
   "outputs": [],
   "source": [
    "from sklearn.model_selection import train_test_split\n",
    "X_train, X_test, y_train, y_test = train_test_split(image_paths, labels, test_size=config['train_test_split'],\n",
    "                                                    stratify=labels,\n",
    "                                                    random_state=config['random_seed'])"
   ]
  },
  {
   "cell_type": "code",
   "execution_count": 36,
   "id": "0df461d6-47c4-4213-8e78-aba9f59d0648",
   "metadata": {},
   "outputs": [],
   "source": [
    "train_dataset  = CUBDataset(X_train,y_train,transform)\n",
    "test_dataset  = CUBDataset(X_test,y_test,transform)"
   ]
  },
  {
   "cell_type": "code",
   "execution_count": 37,
   "id": "fba86090-7819-434c-af9f-28c001b83ad1",
   "metadata": {},
   "outputs": [
    {
     "name": "stderr",
     "output_type": "stream",
     "text": [
      "100%|█████████████████████████████████████████████████████████████████████████████████████████████████████| 295/295 [00:37<00:00,  7.82it/s]\n",
      "100%|███████████████████████████████████████████████████████████████████████████████████████████████████████| 74/74 [00:09<00:00,  7.96it/s]\n"
     ]
    }
   ],
   "source": [
    "train_embeddings, train_labels = get_all_embeddings(train_dataset, model)\n",
    "test_embeddings, test_labels = get_all_embeddings(test_dataset, model)\n",
    "train_labels = train_labels.squeeze(1)\n",
    "test_labels = test_labels.squeeze(1)"
   ]
  },
  {
   "cell_type": "code",
   "execution_count": 38,
   "id": "d3f4c51f-4298-475f-bd91-c620cb17060a",
   "metadata": {
    "scrolled": true
   },
   "outputs": [
    {
     "name": "stdout",
     "output_type": "stream",
     "text": [
      "001.Black_footed_Albatross     test samples 12   , training samples 48   : [0.75]\n",
      "002.Laysan_Albatross           test samples 12   , training samples 48   : [0.6666666666666666]\n",
      "003.Sooty_Albatross            test samples 12   , training samples 46   : [0.4166666666666667]\n",
      "004.Groove_billed_Ani          test samples 12   , training samples 48   : [0.6666666666666666]\n",
      "005.Crested_Auklet             test samples 9    , training samples 35   : [0.8888888888888888]\n",
      "006.Least_Auklet               test samples 8    , training samples 33   : [0.75]\n",
      "007.Parakeet_Auklet            test samples 10   , training samples 43   : [0.9]\n",
      "008.Rhinoceros_Auklet          test samples 9    , training samples 39   : [0.4444444444444444]\n",
      "009.Brewer_Blackbird           test samples 12   , training samples 47   : [0.4166666666666667]\n",
      "010.Red_winged_Blackbird       test samples 12   , training samples 48   : [0.9166666666666666]\n",
      "011.Rusty_Blackbird            test samples 12   , training samples 48   : [0.3333333333333333]\n",
      "012.Yellow_headed_Blackbird    test samples 11   , training samples 45   : [0.9090909090909091]\n",
      "013.Bobolink                   test samples 12   , training samples 48   : [0.75]\n",
      "014.Indigo_Bunting             test samples 12   , training samples 48   : [0.8333333333333334]\n",
      "015.Lazuli_Bunting             test samples 11   , training samples 47   : [0.6363636363636364]\n",
      "016.Painted_Bunting            test samples 11   , training samples 47   : [0.7272727272727273]\n",
      "017.Cardinal                   test samples 11   , training samples 46   : [0.6363636363636364]\n",
      "018.Spotted_Catbird            test samples 9    , training samples 36   : [0.8888888888888888]\n",
      "019.Gray_Catbird               test samples 12   , training samples 47   : [0.5833333333333334]\n",
      "020.Yellow_breasted_Chat       test samples 12   , training samples 47   : [0.4166666666666667]\n",
      "021.Eastern_Towhee             test samples 12   , training samples 48   : [0.5833333333333334]\n",
      "022.Chuck_will_Widow           test samples 11   , training samples 45   : [0.5454545454545454]\n",
      "023.Brandt_Cormorant           test samples 12   , training samples 47   : [0.25]\n",
      "024.Red_faced_Cormorant        test samples 10   , training samples 42   : [0.7]\n",
      "025.Pelagic_Cormorant          test samples 12   , training samples 48   : [0.08333333333333333]\n",
      "026.Bronzed_Cowbird            test samples 12   , training samples 48   : [0.5833333333333334]\n",
      "027.Shiny_Cowbird              test samples 12   , training samples 48   : [0.16666666666666666]\n",
      "028.Brown_Creeper              test samples 12   , training samples 47   : [0.9166666666666666]\n",
      "029.American_Crow              test samples 12   , training samples 48   : [0.5833333333333334]\n",
      "030.Fish_Crow                  test samples 12   , training samples 48   : [0.08333333333333333]\n",
      "031.Black_billed_Cuckoo        test samples 12   , training samples 48   : [0.6666666666666666]\n",
      "032.Mangrove_Cuckoo            test samples 10   , training samples 43   : [0.6]\n",
      "033.Yellow_billed_Cuckoo       test samples 12   , training samples 47   : [0.25]\n",
      "034.Gray_crowned_Rosy_Finch    test samples 12   , training samples 47   : [0.8333333333333334]\n",
      "035.Purple_Finch               test samples 12   , training samples 48   : [0.9166666666666666]\n",
      "036.Northern_Flicker           test samples 12   , training samples 48   : [0.5833333333333334]\n",
      "037.Acadian_Flycatcher         test samples 12   , training samples 47   : [0.5]\n",
      "038.Great_Crested_Flycatcher   test samples 12   , training samples 48   : [0.5]\n",
      "039.Least_Flycatcher           test samples 12   , training samples 47   : [0.16666666666666666]\n",
      "040.Olive_sided_Flycatcher     test samples 12   , training samples 48   : [0.3333333333333333]\n",
      "041.Scissor_tailed_Flycatcher  test samples 12   , training samples 48   : [0.9166666666666666]\n",
      "042.Vermilion_Flycatcher       test samples 12   , training samples 48   : [0.8333333333333334]\n",
      "043.Yellow_bellied_Flycatcher  test samples 12   , training samples 47   : [0.08333333333333333]\n",
      "044.Frigatebird                test samples 12   , training samples 48   : [0.6666666666666666]\n",
      "045.Northern_Fulmar            test samples 12   , training samples 48   : [0.5]\n",
      "046.Gadwall                    test samples 12   , training samples 48   : [0.8333333333333334]\n",
      "047.American_Goldfinch         test samples 12   , training samples 48   : [0.8333333333333334]\n",
      "048.European_Goldfinch         test samples 12   , training samples 48   : [0.8333333333333334]\n",
      "049.Boat_tailed_Grackle        test samples 12   , training samples 48   : [0.4166666666666667]\n",
      "050.Eared_Grebe                test samples 12   , training samples 48   : [0.6666666666666666]\n",
      "051.Horned_Grebe               test samples 12   , training samples 48   : [0.6666666666666666]\n",
      "052.Pied_billed_Grebe          test samples 12   , training samples 48   : [0.8333333333333334]\n",
      "053.Western_Grebe              test samples 12   , training samples 48   : [0.75]\n",
      "054.Blue_Grosbeak              test samples 12   , training samples 48   : [0.5833333333333334]\n",
      "055.Evening_Grosbeak           test samples 12   , training samples 48   : [0.9166666666666666]\n",
      "056.Pine_Grosbeak              test samples 12   , training samples 48   : [0.8333333333333334]\n",
      "057.Rose_breasted_Grosbeak     test samples 12   , training samples 48   : [0.9166666666666666]\n",
      "058.Pigeon_Guillemot           test samples 12   , training samples 46   : [0.75]\n",
      "059.California_Gull            test samples 12   , training samples 48   : [0.4166666666666667]\n",
      "060.Glaucous_winged_Gull       test samples 12   , training samples 47   : [0.3333333333333333]\n",
      "061.Heermann_Gull              test samples 12   , training samples 48   : [0.9166666666666666]\n",
      "062.Herring_Gull               test samples 12   , training samples 48   : [0.25]\n",
      "063.Ivory_Gull                 test samples 12   , training samples 48   : [0.8333333333333334]\n",
      "064.Ring_billed_Gull           test samples 12   , training samples 48   : [0.3333333333333333]\n",
      "065.Slaty_backed_Gull          test samples 10   , training samples 40   : [0.4]\n",
      "066.Western_Gull               test samples 12   , training samples 48   : [0.3333333333333333]\n",
      "067.Anna_Hummingbird           test samples 12   , training samples 48   : [0.5]\n",
      "068.Ruby_throated_Hummingbird  test samples 12   , training samples 48   : [0.8333333333333334]\n",
      "069.Rufous_Hummingbird         test samples 12   , training samples 48   : [0.75]\n",
      "070.Green_Violetear            test samples 12   , training samples 48   : [0.9166666666666666]\n",
      "071.Long_tailed_Jaeger         test samples 12   , training samples 48   : [0.3333333333333333]\n",
      "072.Pomarine_Jaeger            test samples 12   , training samples 48   : [0.25]\n",
      "073.Blue_Jay                   test samples 12   , training samples 48   : [0.75]\n",
      "074.Florida_Jay                test samples 12   , training samples 48   : [0.75]\n",
      "075.Green_Jay                  test samples 11   , training samples 46   : [0.9090909090909091]\n",
      "076.Dark_eyed_Junco            test samples 12   , training samples 48   : [0.75]\n",
      "077.Tropical_Kingbird          test samples 12   , training samples 48   : [0.6666666666666666]\n",
      "078.Gray_Kingbird              test samples 12   , training samples 47   : [0.5833333333333334]\n",
      "079.Belted_Kingfisher          test samples 12   , training samples 48   : [0.75]\n",
      "080.Green_Kingfisher           test samples 12   , training samples 48   : [0.75]\n",
      "081.Pied_Kingfisher            test samples 12   , training samples 48   : [0.6666666666666666]\n",
      "082.Ringed_Kingfisher          test samples 12   , training samples 48   : [0.8333333333333334]\n",
      "083.White_breasted_Kingfisher  test samples 12   , training samples 48   : [0.9166666666666666]\n",
      "084.Red_legged_Kittiwake       test samples 10   , training samples 43   : [0.6]\n",
      "085.Horned_Lark                test samples 12   , training samples 48   : [0.6666666666666666]\n",
      "086.Pacific_Loon               test samples 12   , training samples 48   : [0.75]\n",
      "087.Mallard                    test samples 12   , training samples 48   : [0.9166666666666666]\n",
      "088.Western_Meadowlark         test samples 12   , training samples 48   : [0.9166666666666666]\n",
      "089.Hooded_Merganser           test samples 12   , training samples 48   : [0.9166666666666666]\n",
      "090.Red_breasted_Merganser     test samples 12   , training samples 48   : [1.0]\n",
      "091.Mockingbird                test samples 12   , training samples 48   : [0.16666666666666666]\n",
      "092.Nighthawk                  test samples 12   , training samples 48   : [0.75]\n",
      "093.Clark_Nutcracker           test samples 12   , training samples 48   : [0.9166666666666666]\n",
      "094.White_breasted_Nuthatch    test samples 12   , training samples 48   : [1.0]\n",
      "095.Baltimore_Oriole           test samples 12   , training samples 48   : [0.75]\n",
      "096.Hooded_Oriole              test samples 12   , training samples 48   : [0.75]\n",
      "097.Orchard_Oriole             test samples 12   , training samples 47   : [0.4166666666666667]\n",
      "098.Scott_Oriole               test samples 12   , training samples 48   : [0.9166666666666666]\n",
      "099.Ovenbird                   test samples 12   , training samples 48   : [0.75]\n",
      "100.Brown_Pelican              test samples 12   , training samples 48   : [1.0]\n",
      "101.White_Pelican              test samples 10   , training samples 40   : [0.9]\n",
      "102.Western_Wood_Pewee         test samples 12   , training samples 48   : [0.08333333333333333]\n",
      "103.Sayornis                   test samples 12   , training samples 48   : [0.3333333333333333]\n",
      "104.American_Pipit             test samples 12   , training samples 48   : [0.5]\n",
      "105.Whip_poor_Will             test samples 10   , training samples 39   : [0.4]\n",
      "106.Horned_Puffin              test samples 12   , training samples 48   : [0.6666666666666666]\n",
      "107.Common_Raven               test samples 12   , training samples 47   : [0.16666666666666666]\n",
      "108.White_necked_Raven         test samples 12   , training samples 48   : [0.5833333333333334]\n",
      "109.American_Redstart          test samples 12   , training samples 48   : [1.0]\n",
      "110.Geococcyx                  test samples 12   , training samples 48   : [0.8333333333333334]\n",
      "111.Loggerhead_Shrike          test samples 12   , training samples 48   : [0.6666666666666666]\n",
      "112.Great_Grey_Shrike          test samples 12   , training samples 48   : [0.5]\n",
      "113.Baird_Sparrow              test samples 10   , training samples 40   : [0.8]\n",
      "114.Black_throated_Sparrow     test samples 12   , training samples 48   : [0.5833333333333334]\n",
      "115.Brewer_Sparrow             test samples 12   , training samples 47   : [0.25]\n",
      "116.Chipping_Sparrow           test samples 12   , training samples 48   : [0.5]\n",
      "117.Clay_colored_Sparrow       test samples 12   , training samples 47   : [0.5833333333333334]\n",
      "118.House_Sparrow              test samples 12   , training samples 48   : [0.3333333333333333]\n",
      "119.Field_Sparrow              test samples 12   , training samples 47   : [0.4166666666666667]\n",
      "120.Fox_Sparrow                test samples 12   , training samples 48   : [0.6666666666666666]\n",
      "121.Grasshopper_Sparrow        test samples 12   , training samples 48   : [0.25]\n",
      "122.Harris_Sparrow             test samples 12   , training samples 48   : [0.5]\n",
      "123.Henslow_Sparrow            test samples 12   , training samples 48   : [0.5]\n",
      "124.Le_Conte_Sparrow           test samples 12   , training samples 47   : [0.5]\n",
      "125.Lincoln_Sparrow            test samples 12   , training samples 47   : [0.4166666666666667]\n",
      "126.Nelson_Sharp_tailed_Sparrow test samples 12   , training samples 47   : [0.75]\n",
      "127.Savannah_Sparrow           test samples 12   , training samples 48   : [0.4166666666666667]\n",
      "128.Seaside_Sparrow            test samples 12   , training samples 48   : [0.5]\n",
      "129.Song_Sparrow               test samples 12   , training samples 48   : [0.25]\n",
      "130.Tree_Sparrow               test samples 12   , training samples 48   : [0.3333333333333333]\n",
      "131.Vesper_Sparrow             test samples 12   , training samples 48   : [0.4166666666666667]\n",
      "132.White_crowned_Sparrow      test samples 12   , training samples 48   : [0.5833333333333334]\n",
      "133.White_throated_Sparrow     test samples 12   , training samples 48   : [0.6666666666666666]\n",
      "134.Cape_Glossy_Starling       test samples 12   , training samples 48   : [0.9166666666666666]\n",
      "135.Bank_Swallow               test samples 12   , training samples 47   : [0.3333333333333333]\n",
      "136.Barn_Swallow               test samples 12   , training samples 48   : [0.6666666666666666]\n",
      "137.Cliff_Swallow              test samples 12   , training samples 48   : [0.25]\n",
      "138.Tree_Swallow               test samples 12   , training samples 48   : [0.6666666666666666]\n",
      "139.Scarlet_Tanager            test samples 12   , training samples 48   : [0.9166666666666666]\n",
      "140.Summer_Tanager             test samples 12   , training samples 48   : [0.9166666666666666]\n",
      "141.Artic_Tern                 test samples 11   , training samples 47   : [0.9090909090909091]\n",
      "142.Black_Tern                 test samples 12   , training samples 48   : [0.25]\n",
      "143.Caspian_Tern               test samples 12   , training samples 48   : [0.25]\n",
      "144.Common_Tern                test samples 12   , training samples 48   : [0.4166666666666667]\n",
      "145.Elegant_Tern               test samples 12   , training samples 48   : [0.25]\n",
      "146.Forsters_Tern              test samples 12   , training samples 48   : [0.5833333333333334]\n",
      "147.Least_Tern                 test samples 12   , training samples 48   : [0.8333333333333334]\n",
      "148.Green_tailed_Towhee        test samples 12   , training samples 48   : [0.5833333333333334]\n",
      "149.Brown_Thrasher             test samples 12   , training samples 47   : [0.5]\n",
      "150.Sage_Thrasher              test samples 12   , training samples 48   : [0.4166666666666667]\n",
      "151.Black_capped_Vireo         test samples 10   , training samples 41   : [0.5]\n",
      "152.Blue_headed_Vireo          test samples 12   , training samples 48   : [0.5833333333333334]\n",
      "153.Philadelphia_Vireo         test samples 12   , training samples 47   : [0.3333333333333333]\n",
      "154.Red_eyed_Vireo             test samples 12   , training samples 48   : [0.4166666666666667]\n",
      "155.Warbling_Vireo             test samples 12   , training samples 48   : [0.3333333333333333]\n",
      "156.White_eyed_Vireo           test samples 12   , training samples 48   : [0.4166666666666667]\n",
      "157.Yellow_throated_Vireo      test samples 12   , training samples 47   : [0.4166666666666667]\n",
      "158.Bay_breasted_Warbler       test samples 12   , training samples 48   : [0.9166666666666666]\n",
      "159.Black_and_white_Warbler    test samples 12   , training samples 48   : [0.9166666666666666]\n",
      "160.Black_throated_Blue_Warbler test samples 12   , training samples 47   : [0.75]\n",
      "161.Blue_winged_Warbler        test samples 12   , training samples 48   : [0.5833333333333334]\n",
      "162.Canada_Warbler             test samples 12   , training samples 48   : [0.3333333333333333]\n",
      "163.Cape_May_Warbler           test samples 12   , training samples 48   : [0.75]\n",
      "164.Cerulean_Warbler           test samples 12   , training samples 48   : [0.8333333333333334]\n",
      "165.Chestnut_sided_Warbler     test samples 12   , training samples 48   : [0.6666666666666666]\n",
      "166.Golden_winged_Warbler      test samples 12   , training samples 47   : [0.75]\n",
      "167.Hooded_Warbler             test samples 12   , training samples 48   : [0.5833333333333334]\n",
      "168.Kentucky_Warbler           test samples 12   , training samples 47   : [0.75]\n",
      "169.Magnolia_Warbler           test samples 12   , training samples 47   : [0.9166666666666666]\n",
      "170.Mourning_Warbler           test samples 12   , training samples 48   : [0.75]\n",
      "171.Myrtle_Warbler             test samples 12   , training samples 48   : [0.8333333333333334]\n",
      "172.Nashville_Warbler          test samples 12   , training samples 48   : [0.4166666666666667]\n",
      "173.Orange_crowned_Warbler     test samples 12   , training samples 48   : [0.5]\n",
      "174.Palm_Warbler               test samples 12   , training samples 48   : [0.4166666666666667]\n",
      "175.Pine_Warbler               test samples 12   , training samples 48   : [0.6666666666666666]\n",
      "176.Prairie_Warbler            test samples 12   , training samples 48   : [0.75]\n",
      "177.Prothonotary_Warbler       test samples 12   , training samples 48   : [0.75]\n",
      "178.Swainson_Warbler           test samples 11   , training samples 45   : [0.5454545454545454]\n",
      "179.Tennessee_Warbler          test samples 12   , training samples 47   : [0.25]\n",
      "180.Wilson_Warbler             test samples 12   , training samples 48   : [0.6666666666666666]\n",
      "181.Worm_eating_Warbler        test samples 12   , training samples 47   : [0.5]\n",
      "182.Yellow_Warbler             test samples 12   , training samples 48   : [0.5833333333333334]\n",
      "183.Northern_Waterthrush       test samples 12   , training samples 48   : [0.5833333333333334]\n",
      "184.Louisiana_Waterthrush      test samples 12   , training samples 48   : [0.08333333333333333]\n",
      "185.Bohemian_Waxwing           test samples 12   , training samples 48   : [0.75]\n",
      "186.Cedar_Waxwing              test samples 12   , training samples 48   : [0.6666666666666666]\n",
      "187.American_Three_toed_Woodpecker test samples 10   , training samples 40   : [0.5]\n",
      "188.Pileated_Woodpecker        test samples 12   , training samples 48   : [0.6666666666666666]\n",
      "189.Red_bellied_Woodpecker     test samples 12   , training samples 48   : [1.0]\n",
      "190.Red_cockaded_Woodpecker    test samples 11   , training samples 47   : [0.8181818181818182]\n",
      "191.Red_headed_Woodpecker      test samples 12   , training samples 48   : [0.75]\n",
      "192.Downy_Woodpecker           test samples 12   , training samples 48   : [1.0]\n",
      "193.Bewick_Wren                test samples 12   , training samples 48   : [0.3333333333333333]\n",
      "194.Cactus_Wren                test samples 12   , training samples 48   : [0.5]\n",
      "195.Carolina_Wren              test samples 12   , training samples 48   : [0.5833333333333334]\n",
      "196.House_Wren                 test samples 12   , training samples 47   : [0.08333333333333333]\n",
      "197.Marsh_Wren                 test samples 12   , training samples 48   : [0.3333333333333333]\n",
      "198.Rock_Wren                  test samples 12   , training samples 48   : [0.5833333333333334]\n",
      "199.Winter_Wren                test samples 12   , training samples 48   : [0.5]\n",
      "200.Common_Yellowthroat        test samples 12   , training samples 48   : [0.6666666666666666]\n"
     ]
    }
   ],
   "source": [
    "acc_dict2 = {}\n",
    "for i in test_labels.unique():\n",
    "    new_labels = test_labels[test_labels==i]\n",
    "    new_embeddings = test_embeddings[test_labels==i]\n",
    "    accuracies = accuracy_calculator.get_accuracy(\n",
    "        new_embeddings, new_labels, train_embeddings, train_labels, False\n",
    "    )\n",
    "    acc_dict2[data_dict[int(i.detach().cpu().numpy())]]=[ \n",
    "                  len(new_labels),\n",
    "                  len(train_labels[train_labels==i]),\n",
    "                  accuracies[\"precision_at_1\"]]\n",
    "    print(\"{:<30} test samples {:<5}, training samples {:<5}: {}\".format(data_dict[int(i.detach().cpu().numpy())],\n",
    "                                                                  len(new_labels),\n",
    "                                                                  len(train_labels[train_labels==i]),\n",
    "                                                                  accuracies[\"precision_at_1\"]))"
   ]
  },
  {
   "cell_type": "code",
   "execution_count": 39,
   "id": "a4b11cdb-01fc-426d-8708-aa4bd126db7c",
   "metadata": {},
   "outputs": [],
   "source": [
    "all_table = [[k]+v for k,v in acc_dict2.items()]\n",
    "columns = [\"class_name\", \"no. of test samples\", \"no. of train samples\", \"precision@1\"]\n",
    "train_table = wandb.Table(data=all_table, columns=columns)\n",
    "run.log({\"limited_classes_metrics\": train_table})"
   ]
  },
  {
   "cell_type": "code",
   "execution_count": 41,
   "id": "da619f84-3f14-4f62-95e1-09970154fd4c",
   "metadata": {},
   "outputs": [],
   "source": [
    "import faiss\n",
    "# Create a Faiss index\n",
    "index = faiss.IndexFlatIP(128)\n",
    "# Add some vectors to the index\n",
    "index.add(train_embeddings.detach().cpu().numpy())"
   ]
  },
  {
   "cell_type": "code",
   "execution_count": 42,
   "id": "1ee1a034-2fb6-4c8a-83a6-5dd028770c4d",
   "metadata": {},
   "outputs": [],
   "source": [
    "pred_labels = [] \n",
    "for embedding,label in zip(test_embeddings.detach().cpu().numpy(),test_labels):\n",
    "    distances, indices = index.search(embedding.reshape(1,-1).astype(np.float32), 2)\n",
    "    pred_class = train_labels[indices[0][1]]\n",
    "    pred_labels.append(pred_class)"
   ]
  },
  {
   "cell_type": "code",
   "execution_count": 43,
   "id": "7648e35a-de8c-42cc-aa9d-19fea3acdfcb",
   "metadata": {},
   "outputs": [],
   "source": [
    "pred_labels = [i.detach().cpu().numpy() for i in pred_labels]"
   ]
  },
  {
   "cell_type": "code",
   "execution_count": 44,
   "id": "0fd4ff45-4722-456e-81c0-c7a2cb8e31c7",
   "metadata": {
    "scrolled": true
   },
   "outputs": [
    {
     "name": "stdout",
     "output_type": "stream",
     "text": [
      "                                    precision    recall  f1-score   support\n",
      "\n",
      "        001.Black_footed_Albatross       0.59      0.83      0.69        12\n",
      "              002.Laysan_Albatross       0.60      0.75      0.67        12\n",
      "               003.Sooty_Albatross       0.43      0.50      0.46        12\n",
      "             004.Groove_billed_Ani       0.58      0.92      0.71        12\n",
      "                005.Crested_Auklet       0.78      0.78      0.78         9\n",
      "                  006.Least_Auklet       0.86      0.75      0.80         8\n",
      "               007.Parakeet_Auklet       0.82      0.90      0.86        10\n",
      "             008.Rhinoceros_Auklet       0.50      0.22      0.31         9\n",
      "              009.Brewer_Blackbird       0.23      0.25      0.24        12\n",
      "          010.Red_winged_Blackbird       0.92      0.92      0.92        12\n",
      "               011.Rusty_Blackbird       0.45      0.42      0.43        12\n",
      "       012.Yellow_headed_Blackbird       0.91      0.91      0.91        11\n",
      "                      013.Bobolink       0.90      0.75      0.82        12\n",
      "                014.Indigo_Bunting       0.53      0.83      0.65        12\n",
      "                015.Lazuli_Bunting       1.00      0.64      0.78        11\n",
      "               016.Painted_Bunting       1.00      0.73      0.84        11\n",
      "                      017.Cardinal       0.64      0.64      0.64        11\n",
      "               018.Spotted_Catbird       0.70      0.78      0.74         9\n",
      "                  019.Gray_Catbird       0.77      0.83      0.80        12\n",
      "          020.Yellow_breasted_Chat       0.42      0.42      0.42        12\n",
      "                021.Eastern_Towhee       0.62      0.42      0.50        12\n",
      "              022.Chuck_will_Widow       0.50      0.45      0.48        11\n",
      "              023.Brandt_Cormorant       0.45      0.42      0.43        12\n",
      "           024.Red_faced_Cormorant       0.64      0.90      0.75        10\n",
      "             025.Pelagic_Cormorant       0.33      0.25      0.29        12\n",
      "               026.Bronzed_Cowbird       0.80      0.67      0.73        12\n",
      "                 027.Shiny_Cowbird       0.22      0.17      0.19        12\n",
      "                 028.Brown_Creeper       0.75      0.75      0.75        12\n",
      "                 029.American_Crow       0.20      0.33      0.25        12\n",
      "                     030.Fish_Crow       0.25      0.25      0.25        12\n",
      "           031.Black_billed_Cuckoo       0.53      0.75      0.62        12\n",
      "               032.Mangrove_Cuckoo       0.44      0.40      0.42        10\n",
      "          033.Yellow_billed_Cuckoo       0.38      0.25      0.30        12\n",
      "       034.Gray_crowned_Rosy_Finch       1.00      0.83      0.91        12\n",
      "                  035.Purple_Finch       0.62      0.83      0.71        12\n",
      "              036.Northern_Flicker       0.82      0.75      0.78        12\n",
      "            037.Acadian_Flycatcher       0.21      0.25      0.23        12\n",
      "      038.Great_Crested_Flycatcher       0.60      0.50      0.55        12\n",
      "              039.Least_Flycatcher       0.25      0.33      0.29        12\n",
      "        040.Olive_sided_Flycatcher       0.56      0.42      0.48        12\n",
      "     041.Scissor_tailed_Flycatcher       0.67      0.67      0.67        12\n",
      "          042.Vermilion_Flycatcher       0.73      0.92      0.81        12\n",
      "     043.Yellow_bellied_Flycatcher       0.29      0.33      0.31        12\n",
      "                   044.Frigatebird       0.73      0.67      0.70        12\n",
      "               045.Northern_Fulmar       0.45      0.42      0.43        12\n",
      "                       046.Gadwall       0.65      0.92      0.76        12\n",
      "            047.American_Goldfinch       0.71      0.83      0.77        12\n",
      "            048.European_Goldfinch       0.85      0.92      0.88        12\n",
      "           049.Boat_tailed_Grackle       0.29      0.17      0.21        12\n",
      "                   050.Eared_Grebe       0.21      0.25      0.23        12\n",
      "                  051.Horned_Grebe       0.38      0.42      0.40        12\n",
      "             052.Pied_billed_Grebe       0.71      0.83      0.77        12\n",
      "                 053.Western_Grebe       0.92      0.92      0.92        12\n",
      "                 054.Blue_Grosbeak       0.60      0.50      0.55        12\n",
      "              055.Evening_Grosbeak       0.91      0.83      0.87        12\n",
      "                 056.Pine_Grosbeak       0.47      0.58      0.52        12\n",
      "        057.Rose_breasted_Grosbeak       1.00      0.92      0.96        12\n",
      "              058.Pigeon_Guillemot       0.80      0.67      0.73        12\n",
      "               059.California_Gull       0.07      0.08      0.07        12\n",
      "          060.Glaucous_winged_Gull       0.25      0.25      0.25        12\n",
      "                 061.Heermann_Gull       0.77      0.83      0.80        12\n",
      "                  062.Herring_Gull       0.11      0.08      0.10        12\n",
      "                    063.Ivory_Gull       0.70      0.58      0.64        12\n",
      "              064.Ring_billed_Gull       0.29      0.33      0.31        12\n",
      "             065.Slaty_backed_Gull       0.00      0.00      0.00        10\n",
      "                  066.Western_Gull       0.27      0.33      0.30        12\n",
      "              067.Anna_Hummingbird       0.86      0.50      0.63        12\n",
      "     068.Ruby_throated_Hummingbird       0.69      0.92      0.79        12\n",
      "            069.Rufous_Hummingbird       0.67      0.83      0.74        12\n",
      "               070.Green_Violetear       0.79      0.92      0.85        12\n",
      "            071.Long_tailed_Jaeger       0.29      0.17      0.21        12\n",
      "               072.Pomarine_Jaeger       0.45      0.42      0.43        12\n",
      "                      073.Blue_Jay       0.90      0.75      0.82        12\n",
      "                   074.Florida_Jay       0.78      0.58      0.67        12\n",
      "                     075.Green_Jay       1.00      0.73      0.84        11\n",
      "               076.Dark_eyed_Junco       0.75      0.75      0.75        12\n",
      "             077.Tropical_Kingbird       0.59      0.83      0.69        12\n",
      "                 078.Gray_Kingbird       0.50      0.50      0.50        12\n",
      "             079.Belted_Kingfisher       0.47      0.58      0.52        12\n",
      "              080.Green_Kingfisher       0.73      0.67      0.70        12\n",
      "               081.Pied_Kingfisher       0.73      0.92      0.81        12\n",
      "             082.Ringed_Kingfisher       0.67      0.67      0.67        12\n",
      "     083.White_breasted_Kingfisher       1.00      0.92      0.96        12\n",
      "          084.Red_legged_Kittiwake       0.50      0.50      0.50        10\n",
      "                   085.Horned_Lark       0.80      0.67      0.73        12\n",
      "                  086.Pacific_Loon       0.64      0.58      0.61        12\n",
      "                       087.Mallard       1.00      0.92      0.96        12\n",
      "            088.Western_Meadowlark       0.92      0.92      0.92        12\n",
      "              089.Hooded_Merganser       1.00      0.92      0.96        12\n",
      "        090.Red_breasted_Merganser       0.73      0.92      0.81        12\n",
      "                   091.Mockingbird       0.29      0.17      0.21        12\n",
      "                     092.Nighthawk       0.60      0.50      0.55        12\n",
      "              093.Clark_Nutcracker       0.92      0.92      0.92        12\n",
      "       094.White_breasted_Nuthatch       0.73      0.92      0.81        12\n",
      "              095.Baltimore_Oriole       0.78      0.58      0.67        12\n",
      "                 096.Hooded_Oriole       0.71      0.83      0.77        12\n",
      "                097.Orchard_Oriole       0.62      0.42      0.50        12\n",
      "                  098.Scott_Oriole       0.83      0.83      0.83        12\n",
      "                      099.Ovenbird       0.53      0.67      0.59        12\n",
      "                 100.Brown_Pelican       0.65      0.92      0.76        12\n",
      "                 101.White_Pelican       0.75      0.90      0.82        10\n",
      "            102.Western_Wood_Pewee       0.11      0.17      0.13        12\n",
      "                      103.Sayornis       0.23      0.25      0.24        12\n",
      "                104.American_Pipit       0.21      0.33      0.26        12\n",
      "                105.Whip_poor_Will       0.67      0.60      0.63        10\n",
      "                 106.Horned_Puffin       0.82      0.75      0.78        12\n",
      "                  107.Common_Raven       0.24      0.33      0.28        12\n",
      "            108.White_necked_Raven       0.50      0.42      0.45        12\n",
      "             109.American_Redstart       0.67      1.00      0.80        12\n",
      "                     110.Geococcyx       0.67      0.83      0.74        12\n",
      "             111.Loggerhead_Shrike       0.50      0.42      0.45        12\n",
      "             112.Great_Grey_Shrike       0.31      0.33      0.32        12\n",
      "                 113.Baird_Sparrow       0.50      0.60      0.55        10\n",
      "        114.Black_throated_Sparrow       0.38      0.42      0.40        12\n",
      "                115.Brewer_Sparrow       0.50      0.17      0.25        12\n",
      "              116.Chipping_Sparrow       0.33      0.50      0.40        12\n",
      "          117.Clay_colored_Sparrow       0.31      0.42      0.36        12\n",
      "                 118.House_Sparrow       0.40      0.17      0.24        12\n",
      "                 119.Field_Sparrow       0.25      0.25      0.25        12\n",
      "                   120.Fox_Sparrow       0.58      0.58      0.58        12\n",
      "           121.Grasshopper_Sparrow       0.27      0.33      0.30        12\n",
      "                122.Harris_Sparrow       0.71      0.42      0.53        12\n",
      "               123.Henslow_Sparrow       0.60      0.50      0.55        12\n",
      "              124.Le_Conte_Sparrow       0.43      0.50      0.46        12\n",
      "               125.Lincoln_Sparrow       0.44      0.58      0.50        12\n",
      "   126.Nelson_Sharp_tailed_Sparrow       0.58      0.58      0.58        12\n",
      "              127.Savannah_Sparrow       0.27      0.33      0.30        12\n",
      "               128.Seaside_Sparrow       0.64      0.58      0.61        12\n",
      "                  129.Song_Sparrow       0.50      0.67      0.57        12\n",
      "                  130.Tree_Sparrow       0.58      0.58      0.58        12\n",
      "                131.Vesper_Sparrow       0.33      0.25      0.29        12\n",
      "         132.White_crowned_Sparrow       0.42      0.42      0.42        12\n",
      "        133.White_throated_Sparrow       0.47      0.58      0.52        12\n",
      "          134.Cape_Glossy_Starling       0.82      0.75      0.78        12\n",
      "                  135.Bank_Swallow       0.27      0.25      0.26        12\n",
      "                  136.Barn_Swallow       0.77      0.83      0.80        12\n",
      "                 137.Cliff_Swallow       0.60      0.50      0.55        12\n",
      "                  138.Tree_Swallow       0.62      0.67      0.64        12\n",
      "               139.Scarlet_Tanager       0.69      0.75      0.72        12\n",
      "                140.Summer_Tanager       0.89      0.67      0.76        12\n",
      "                    141.Artic_Tern       0.36      0.45      0.40        11\n",
      "                    142.Black_Tern       0.50      0.17      0.25        12\n",
      "                  143.Caspian_Tern       0.62      0.42      0.50        12\n",
      "                   144.Common_Tern       0.30      0.25      0.27        12\n",
      "                  145.Elegant_Tern       0.75      0.50      0.60        12\n",
      "                 146.Forsters_Tern       0.28      0.42      0.33        12\n",
      "                    147.Least_Tern       0.67      0.83      0.74        12\n",
      "           148.Green_tailed_Towhee       0.88      0.58      0.70        12\n",
      "                149.Brown_Thrasher       0.50      0.42      0.45        12\n",
      "                 150.Sage_Thrasher       0.50      0.75      0.60        12\n",
      "            151.Black_capped_Vireo       0.56      0.50      0.53        10\n",
      "             152.Blue_headed_Vireo       0.40      0.33      0.36        12\n",
      "            153.Philadelphia_Vireo       0.56      0.75      0.64        12\n",
      "                154.Red_eyed_Vireo       0.53      0.67      0.59        12\n",
      "                155.Warbling_Vireo       0.50      0.33      0.40        12\n",
      "              156.White_eyed_Vireo       0.40      0.33      0.36        12\n",
      "         157.Yellow_throated_Vireo       0.36      0.42      0.38        12\n",
      "          158.Bay_breasted_Warbler       0.60      0.50      0.55        12\n",
      "       159.Black_and_white_Warbler       0.91      0.83      0.87        12\n",
      "   160.Black_throated_Blue_Warbler       0.73      0.67      0.70        12\n",
      "           161.Blue_winged_Warbler       0.56      0.42      0.48        12\n",
      "                162.Canada_Warbler       0.57      0.33      0.42        12\n",
      "              163.Cape_May_Warbler       0.67      0.67      0.67        12\n",
      "              164.Cerulean_Warbler       1.00      0.83      0.91        12\n",
      "        165.Chestnut_sided_Warbler       0.67      0.67      0.67        12\n",
      "         166.Golden_winged_Warbler       0.89      0.67      0.76        12\n",
      "                167.Hooded_Warbler       0.57      0.67      0.62        12\n",
      "              168.Kentucky_Warbler       0.60      0.75      0.67        12\n",
      "              169.Magnolia_Warbler       0.69      0.75      0.72        12\n",
      "              170.Mourning_Warbler       0.57      0.67      0.62        12\n",
      "                171.Myrtle_Warbler       0.70      0.58      0.64        12\n",
      "             172.Nashville_Warbler       0.33      0.33      0.33        12\n",
      "        173.Orange_crowned_Warbler       0.28      0.42      0.33        12\n",
      "                  174.Palm_Warbler       0.50      0.25      0.33        12\n",
      "                  175.Pine_Warbler       0.50      0.50      0.50        12\n",
      "               176.Prairie_Warbler       0.62      0.83      0.71        12\n",
      "          177.Prothonotary_Warbler       0.75      0.75      0.75        12\n",
      "              178.Swainson_Warbler       0.33      0.36      0.35        11\n",
      "             179.Tennessee_Warbler       0.21      0.25      0.23        12\n",
      "                180.Wilson_Warbler       0.69      0.75      0.72        12\n",
      "           181.Worm_eating_Warbler       0.80      0.33      0.47        12\n",
      "                182.Yellow_Warbler       0.60      0.50      0.55        12\n",
      "          183.Northern_Waterthrush       0.62      0.42      0.50        12\n",
      "         184.Louisiana_Waterthrush       0.62      0.42      0.50        12\n",
      "              185.Bohemian_Waxwing       0.73      0.67      0.70        12\n",
      "                 186.Cedar_Waxwing       0.80      0.67      0.73        12\n",
      "187.American_Three_toed_Woodpecker       0.62      0.50      0.56        10\n",
      "           188.Pileated_Woodpecker       1.00      0.58      0.74        12\n",
      "        189.Red_bellied_Woodpecker       0.75      1.00      0.86        12\n",
      "       190.Red_cockaded_Woodpecker       0.67      0.73      0.70        11\n",
      "         191.Red_headed_Woodpecker       0.82      0.75      0.78        12\n",
      "              192.Downy_Woodpecker       0.75      1.00      0.86        12\n",
      "                   193.Bewick_Wren       0.45      0.42      0.43        12\n",
      "                   194.Cactus_Wren       0.44      0.33      0.38        12\n",
      "                 195.Carolina_Wren       0.78      0.58      0.67        12\n",
      "                    196.House_Wren       0.36      0.42      0.38        12\n",
      "                    197.Marsh_Wren       0.30      0.25      0.27        12\n",
      "                     198.Rock_Wren       0.58      0.58      0.58        12\n",
      "                   199.Winter_Wren       0.70      0.58      0.64        12\n",
      "           200.Common_Yellowthroat       0.60      0.50      0.55        12\n",
      "\n",
      "                          accuracy                           0.57      2358\n",
      "                         macro avg       0.59      0.57      0.57      2358\n",
      "                      weighted avg       0.58      0.57      0.57      2358\n",
      "\n"
     ]
    }
   ],
   "source": [
    "from sklearn.metrics import classification_report\n",
    "print(classification_report(test_labels.detach().cpu().numpy(), pred_labels, target_names=list(class_dict.keys())))"
   ]
  },
  {
   "cell_type": "code",
   "execution_count": 45,
   "id": "f6154bd0-11f0-42b4-b860-b3b34ea93d52",
   "metadata": {},
   "outputs": [],
   "source": [
    "from sklearn.metrics import classification_report\n",
    "report = classification_report(test_labels.detach().cpu().numpy(), pred_labels, target_names=list(class_dict.keys()),output_dict=True)\n",
    "df = pd.DataFrame(report).transpose()\n",
    "df.reset_index(inplace=True)\n",
    "df.rename(columns={\"index\":'class_name'},inplace=True)\n",
    "classification_report_table = wandb.Table(dataframe=df)"
   ]
  },
  {
   "cell_type": "code",
   "execution_count": 46,
   "id": "8967c721-10c7-4d82-9c44-cf69368c9cf2",
   "metadata": {},
   "outputs": [],
   "source": [
    "run.log({\"limited_classes_classification_report\": classification_report_table})"
   ]
  },
  {
   "cell_type": "markdown",
   "id": "25ca19e9-fde4-4738-b3fe-35d7f6c3f8b8",
   "metadata": {},
   "source": [
    "## metric drop for unseen classes"
   ]
  },
  {
   "cell_type": "code",
   "execution_count": 47,
   "id": "308604b3-e2e4-48ce-b3a8-09b38ca315df",
   "metadata": {},
   "outputs": [],
   "source": [
    "unseen_class_names = sorted(key for key in acc_dict.keys() if int(key.split('.')[0]) >= 180)"
   ]
  },
  {
   "cell_type": "code",
   "execution_count": 57,
   "id": "b27e7a53-584d-410e-ad34-466aedca1350",
   "metadata": {
    "scrolled": true
   },
   "outputs": [],
   "source": [
    "comparison_table_data = []\n",
    "for class_name in unseen_class_names:\n",
    "    comparison_table_data.append([class_name,acc_dict[class_name][-1],acc_dict2[class_name][-1][0]])"
   ]
  },
  {
   "cell_type": "code",
   "execution_count": 58,
   "id": "abe4a706-16b2-46ac-8954-2d5ceb07abf8",
   "metadata": {},
   "outputs": [
    {
     "data": {
      "text/plain": [
       "[['180.Wilson_Warbler', 0.75, 0.6666666666666666],\n",
       " ['181.Worm_eating_Warbler', 0.75, 0.5],\n",
       " ['182.Yellow_Warbler', 0.6666666666666666, 0.5833333333333334],\n",
       " ['183.Northern_Waterthrush', 0.8333333333333334, 0.5833333333333334],\n",
       " ['184.Louisiana_Waterthrush', 0.5, 0.08333333333333333],\n",
       " ['185.Bohemian_Waxwing', 0.6666666666666666, 0.75],\n",
       " ['186.Cedar_Waxwing', 0.9166666666666666, 0.6666666666666666],\n",
       " ['187.American_Three_toed_Woodpecker', 0.9, 0.5],\n",
       " ['188.Pileated_Woodpecker', 0.8333333333333334, 0.6666666666666666],\n",
       " ['189.Red_bellied_Woodpecker', 1.0, 1.0],\n",
       " ['190.Red_cockaded_Woodpecker', 0.8181818181818182, 0.8181818181818182],\n",
       " ['191.Red_headed_Woodpecker', 0.75, 0.75],\n",
       " ['192.Downy_Woodpecker', 1.0, 1.0],\n",
       " ['193.Bewick_Wren', 0.5, 0.3333333333333333],\n",
       " ['194.Cactus_Wren', 0.9166666666666666, 0.5],\n",
       " ['195.Carolina_Wren', 0.6666666666666666, 0.5833333333333334],\n",
       " ['196.House_Wren', 0.5, 0.08333333333333333],\n",
       " ['197.Marsh_Wren', 0.75, 0.3333333333333333],\n",
       " ['198.Rock_Wren', 0.9166666666666666, 0.5833333333333334],\n",
       " ['199.Winter_Wren', 0.8333333333333334, 0.5],\n",
       " ['200.Common_Yellowthroat', 0.8333333333333334, 0.6666666666666666]]"
      ]
     },
     "execution_count": 58,
     "metadata": {},
     "output_type": "execute_result"
    }
   ],
   "source": [
    "comparison_table_data"
   ]
  },
  {
   "cell_type": "code",
   "execution_count": 59,
   "id": "2400629c-33f5-4b19-bbab-9d75c92dd6d4",
   "metadata": {},
   "outputs": [],
   "source": [
    "comparison_table = wandb.Table(data=comparison_table_data, columns=['class_name','all_classes_precision@1','unseen_classes_precision@1'])"
   ]
  },
  {
   "cell_type": "code",
   "execution_count": 60,
   "id": "daa9ab4f-6abe-4469-91b8-2c48f17f7400",
   "metadata": {},
   "outputs": [],
   "source": [
    "run.log({\"comparison_unseen_classes_metrics\": comparison_table})"
   ]
  },
  {
   "cell_type": "code",
   "execution_count": 61,
   "id": "288120aa-ccc7-4249-8498-63c82972342a",
   "metadata": {},
   "outputs": [],
   "source": [
    "precisions = np.array(comparison_table_data)[:,1:3].astype(np.float32)"
   ]
  },
  {
   "cell_type": "code",
   "execution_count": 62,
   "id": "aea80d7d-48d9-45b2-9b80-50df8c6f2e73",
   "metadata": {},
   "outputs": [],
   "source": [
    "wandb.log({'precision_drop_unseen_classes':np.mean(np.subtract(precisions[:,0],precisions[:,1]))})"
   ]
  },
  {
   "cell_type": "markdown",
   "id": "8474d6e8-63e1-4bd8-b170-b13a1803634e",
   "metadata": {},
   "source": [
    "## metric drop for all classes because of new unseen classes"
   ]
  },
  {
   "cell_type": "code",
   "execution_count": 63,
   "id": "0d53c17d-3ee9-4947-84a0-61e87855daf0",
   "metadata": {},
   "outputs": [],
   "source": [
    "comparison_table_data = []\n",
    "for class_name in acc_dict.keys():\n",
    "    comparison_table_data.append([class_name,acc_dict[class_name][-1],acc_dict2[class_name][-1][0]])"
   ]
  },
  {
   "cell_type": "code",
   "execution_count": 64,
   "id": "bd465f2b-8fd1-419f-a3bb-8daa56d9956e",
   "metadata": {},
   "outputs": [],
   "source": [
    "precisions = np.array(comparison_table_data)[:,1:3].astype(np.float32)"
   ]
  },
  {
   "cell_type": "code",
   "execution_count": 65,
   "id": "2af3e145-3fd1-4e2f-b10e-8ed86ecda2b5",
   "metadata": {},
   "outputs": [
    {
     "data": {
      "text/plain": [
       "array([[0.9166667 , 0.75      ],\n",
       "       [0.6666667 , 0.6666667 ],\n",
       "       [0.8333333 , 0.41666666],\n",
       "       [0.8333333 , 0.6666667 ],\n",
       "       [0.7777778 , 0.8888889 ],\n",
       "       [0.875     , 0.75      ],\n",
       "       [1.        , 0.9       ],\n",
       "       [0.6666667 , 0.44444445],\n",
       "       [0.25      , 0.41666666],\n",
       "       [0.75      , 0.9166667 ],\n",
       "       [0.5833333 , 0.33333334],\n",
       "       [1.        , 0.90909094],\n",
       "       [0.75      , 0.75      ],\n",
       "       [0.75      , 0.8333333 ],\n",
       "       [0.72727275, 0.6363636 ],\n",
       "       [0.6363636 , 0.72727275],\n",
       "       [0.8181818 , 0.6363636 ],\n",
       "       [1.        , 0.8888889 ],\n",
       "       [0.75      , 0.5833333 ],\n",
       "       [0.5       , 0.41666666],\n",
       "       [1.        , 0.5833333 ],\n",
       "       [0.54545456, 0.54545456],\n",
       "       [0.33333334, 0.25      ],\n",
       "       [0.8       , 0.7       ],\n",
       "       [0.5       , 0.08333334],\n",
       "       [0.6666667 , 0.5833333 ],\n",
       "       [0.25      , 0.16666667],\n",
       "       [1.        , 0.9166667 ],\n",
       "       [0.25      , 0.5833333 ],\n",
       "       [0.25      , 0.08333334],\n",
       "       [0.5833333 , 0.6666667 ],\n",
       "       [0.5       , 0.6       ],\n",
       "       [0.8333333 , 0.25      ],\n",
       "       [0.75      , 0.8333333 ],\n",
       "       [0.9166667 , 0.9166667 ],\n",
       "       [0.6666667 , 0.5833333 ],\n",
       "       [0.33333334, 0.5       ],\n",
       "       [0.9166667 , 0.5       ],\n",
       "       [0.5       , 0.16666667],\n",
       "       [0.5       , 0.33333334],\n",
       "       [0.9166667 , 0.9166667 ],\n",
       "       [0.9166667 , 0.8333333 ],\n",
       "       [0.16666667, 0.08333334],\n",
       "       [0.75      , 0.6666667 ],\n",
       "       [0.5       , 0.5       ],\n",
       "       [0.9166667 , 0.8333333 ],\n",
       "       [0.8333333 , 0.8333333 ],\n",
       "       [0.9166667 , 0.8333333 ],\n",
       "       [0.41666666, 0.41666666],\n",
       "       [0.75      , 0.6666667 ],\n",
       "       [0.75      , 0.6666667 ],\n",
       "       [0.6666667 , 0.8333333 ],\n",
       "       [0.9166667 , 0.75      ],\n",
       "       [0.6666667 , 0.5833333 ],\n",
       "       [1.        , 0.9166667 ],\n",
       "       [0.8333333 , 0.8333333 ],\n",
       "       [1.        , 0.9166667 ],\n",
       "       [0.75      , 0.75      ],\n",
       "       [0.41666666, 0.41666666],\n",
       "       [0.41666666, 0.33333334],\n",
       "       [0.8333333 , 0.9166667 ],\n",
       "       [0.25      , 0.25      ],\n",
       "       [0.9166667 , 0.8333333 ],\n",
       "       [0.25      , 0.33333334],\n",
       "       [0.2       , 0.4       ],\n",
       "       [0.5833333 , 0.33333334],\n",
       "       [0.41666666, 0.5       ],\n",
       "       [0.8333333 , 0.8333333 ],\n",
       "       [0.75      , 0.75      ],\n",
       "       [0.9166667 , 0.9166667 ],\n",
       "       [0.41666666, 0.33333334],\n",
       "       [0.33333334, 0.25      ],\n",
       "       [0.8333333 , 0.75      ],\n",
       "       [0.8333333 , 0.75      ],\n",
       "       [0.8181818 , 0.90909094],\n",
       "       [1.        , 0.75      ],\n",
       "       [1.        , 0.6666667 ],\n",
       "       [0.5833333 , 0.5833333 ],\n",
       "       [0.75      , 0.75      ],\n",
       "       [0.6666667 , 0.75      ],\n",
       "       [0.9166667 , 0.6666667 ],\n",
       "       [0.75      , 0.8333333 ],\n",
       "       [0.8333333 , 0.9166667 ],\n",
       "       [0.7       , 0.6       ],\n",
       "       [0.8333333 , 0.6666667 ],\n",
       "       [0.8333333 , 0.75      ],\n",
       "       [0.9166667 , 0.9166667 ],\n",
       "       [0.9166667 , 0.9166667 ],\n",
       "       [0.9166667 , 0.9166667 ],\n",
       "       [0.9166667 , 1.        ],\n",
       "       [0.16666667, 0.16666667],\n",
       "       [0.5       , 0.75      ],\n",
       "       [0.8333333 , 0.9166667 ],\n",
       "       [0.9166667 , 1.        ],\n",
       "       [0.6666667 , 0.75      ],\n",
       "       [1.        , 0.75      ],\n",
       "       [0.5       , 0.41666666],\n",
       "       [0.75      , 0.9166667 ],\n",
       "       [0.75      , 0.75      ],\n",
       "       [1.        , 1.        ],\n",
       "       [0.9       , 0.9       ],\n",
       "       [0.5833333 , 0.08333334],\n",
       "       [0.5       , 0.33333334],\n",
       "       [0.5       , 0.5       ],\n",
       "       [0.4       , 0.4       ],\n",
       "       [0.9166667 , 0.6666667 ],\n",
       "       [0.5       , 0.16666667],\n",
       "       [0.41666666, 0.5833333 ],\n",
       "       [0.8333333 , 1.        ],\n",
       "       [0.9166667 , 0.8333333 ],\n",
       "       [0.41666666, 0.6666667 ],\n",
       "       [0.41666666, 0.5       ],\n",
       "       [0.3       , 0.8       ],\n",
       "       [0.9166667 , 0.5833333 ],\n",
       "       [0.5833333 , 0.25      ],\n",
       "       [0.75      , 0.5       ],\n",
       "       [0.5       , 0.5833333 ],\n",
       "       [0.33333334, 0.33333334],\n",
       "       [0.6666667 , 0.41666666],\n",
       "       [0.75      , 0.6666667 ],\n",
       "       [0.25      , 0.25      ],\n",
       "       [0.6666667 , 0.5       ],\n",
       "       [0.5833333 , 0.5       ],\n",
       "       [0.6666667 , 0.5       ],\n",
       "       [0.33333334, 0.41666666],\n",
       "       [0.5833333 , 0.75      ],\n",
       "       [0.25      , 0.41666666],\n",
       "       [0.75      , 0.5       ],\n",
       "       [0.33333334, 0.25      ],\n",
       "       [0.6666667 , 0.33333334],\n",
       "       [0.6666667 , 0.41666666],\n",
       "       [0.6666667 , 0.5833333 ],\n",
       "       [0.6666667 , 0.6666667 ],\n",
       "       [0.8333333 , 0.9166667 ],\n",
       "       [0.5833333 , 0.33333334],\n",
       "       [0.6666667 , 0.6666667 ],\n",
       "       [0.5       , 0.25      ],\n",
       "       [0.6666667 , 0.6666667 ],\n",
       "       [0.8333333 , 0.9166667 ],\n",
       "       [0.75      , 0.9166667 ],\n",
       "       [0.90909094, 0.90909094],\n",
       "       [0.25      , 0.25      ],\n",
       "       [0.5       , 0.25      ],\n",
       "       [0.33333334, 0.41666666],\n",
       "       [0.16666667, 0.25      ],\n",
       "       [0.5       , 0.5833333 ],\n",
       "       [0.8333333 , 0.8333333 ],\n",
       "       [0.6666667 , 0.5833333 ],\n",
       "       [0.5833333 , 0.5       ],\n",
       "       [0.5       , 0.41666666],\n",
       "       [0.7       , 0.5       ],\n",
       "       [0.5       , 0.5833333 ],\n",
       "       [0.5       , 0.33333334],\n",
       "       [0.75      , 0.41666666],\n",
       "       [0.33333334, 0.33333334],\n",
       "       [0.6666667 , 0.41666666],\n",
       "       [0.33333334, 0.41666666],\n",
       "       [0.9166667 , 0.9166667 ],\n",
       "       [0.9166667 , 0.9166667 ],\n",
       "       [0.75      , 0.75      ],\n",
       "       [0.6666667 , 0.5833333 ],\n",
       "       [0.41666666, 0.33333334],\n",
       "       [0.75      , 0.75      ],\n",
       "       [0.9166667 , 0.8333333 ],\n",
       "       [0.8333333 , 0.6666667 ],\n",
       "       [0.75      , 0.75      ],\n",
       "       [0.75      , 0.5833333 ],\n",
       "       [0.8333333 , 0.75      ],\n",
       "       [0.9166667 , 0.9166667 ],\n",
       "       [0.6666667 , 0.75      ],\n",
       "       [0.8333333 , 0.8333333 ],\n",
       "       [0.75      , 0.41666666],\n",
       "       [0.5833333 , 0.5       ],\n",
       "       [0.41666666, 0.41666666],\n",
       "       [0.6666667 , 0.6666667 ],\n",
       "       [0.8333333 , 0.75      ],\n",
       "       [0.6666667 , 0.75      ],\n",
       "       [0.45454547, 0.54545456],\n",
       "       [0.25      , 0.25      ],\n",
       "       [0.75      , 0.6666667 ],\n",
       "       [0.75      , 0.5       ],\n",
       "       [0.6666667 , 0.5833333 ],\n",
       "       [0.8333333 , 0.5833333 ],\n",
       "       [0.5       , 0.08333334],\n",
       "       [0.6666667 , 0.75      ],\n",
       "       [0.9166667 , 0.6666667 ],\n",
       "       [0.9       , 0.5       ],\n",
       "       [0.8333333 , 0.6666667 ],\n",
       "       [1.        , 1.        ],\n",
       "       [0.8181818 , 0.8181818 ],\n",
       "       [0.75      , 0.75      ],\n",
       "       [1.        , 1.        ],\n",
       "       [0.5       , 0.33333334],\n",
       "       [0.9166667 , 0.5       ],\n",
       "       [0.6666667 , 0.5833333 ],\n",
       "       [0.5       , 0.08333334],\n",
       "       [0.75      , 0.33333334],\n",
       "       [0.9166667 , 0.5833333 ],\n",
       "       [0.8333333 , 0.5       ],\n",
       "       [0.8333333 , 0.6666667 ]], dtype=float32)"
      ]
     },
     "execution_count": 65,
     "metadata": {},
     "output_type": "execute_result"
    }
   ],
   "source": [
    "precisions"
   ]
  },
  {
   "cell_type": "code",
   "execution_count": 66,
   "id": "7d8a6e83-8a54-44f6-9f00-2842e8b53e6a",
   "metadata": {},
   "outputs": [],
   "source": [
    "wandb.log({'precision_drop_all_classes':np.mean(np.subtract(precisions[:,0],precisions[:,1]))})"
   ]
  },
  {
   "cell_type": "code",
   "execution_count": null,
   "id": "3a2d6dd0-2165-4c2d-a053-51454eed7af9",
   "metadata": {},
   "outputs": [],
   "source": []
  }
 ],
 "metadata": {
  "kernelspec": {
   "display_name": "Python 3 (ipykernel)",
   "language": "python",
   "name": "python3"
  },
  "language_info": {
   "codemirror_mode": {
    "name": "ipython",
    "version": 3
   },
   "file_extension": ".py",
   "mimetype": "text/x-python",
   "name": "python",
   "nbconvert_exporter": "python",
   "pygments_lexer": "ipython3",
   "version": "3.10.13"
  }
 },
 "nbformat": 4,
 "nbformat_minor": 5
}
