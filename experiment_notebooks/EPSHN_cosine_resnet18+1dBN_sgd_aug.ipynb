{
 "cells": [
  {
   "cell_type": "code",
   "execution_count": 1,
   "id": "5ffca082-4e33-4910-bddd-7467769c68a2",
   "metadata": {},
   "outputs": [],
   "source": [
    "import numpy as np\n",
    "import PIL\n",
    "import umap\n",
    "import pandas as pd\n",
    "import json\n",
    "import glob\n",
    "from pytorch_metric_learning import distances, losses, miners, reducers\n",
    "import torch.nn as nn\n",
    "import os\n",
    "import matplotlib.pyplot as plt"
   ]
  },
  {
   "cell_type": "code",
   "execution_count": 2,
   "id": "df805f67-18d4-4f50-a057-90ebe6d234ee",
   "metadata": {},
   "outputs": [],
   "source": [
    "import torch\n",
    "import torchvision\n",
    "from torchvision import models\n",
    "import torch\n",
    "import torch.nn as nn\n",
    "import torch.nn.functional as F\n",
    "import torch.optim as optim\n",
    "from torchvision import datasets, transforms\n",
    "from torch.utils.data.sampler import SubsetRandomSampler\n",
    "from tqdm import tqdm\n",
    "from pytorch_metric_learning import losses, testers\n",
    "from pytorch_metric_learning.utils.accuracy_calculator import AccuracyCalculator\n",
    "from pytorch_metric_learning.distances import LpDistance,CosineSimilarity\n",
    "from pytorch_metric_learning.utils.inference import CustomKNN"
   ]
  },
  {
   "cell_type": "code",
   "execution_count": 3,
   "id": "e1f8f3ef-c0a5-492e-a89e-a126cd3709cc",
   "metadata": {},
   "outputs": [],
   "source": [
    "%matplotlib inline\n",
    "import torch\n",
    "import torch.nn as nn\n",
    "from matplotlib import pyplot as plt\n",
    "import numpy as np\n",
    "import torchvision\n",
    "import torchvision.datasets as datasets\n",
    "import torchvision.models as models\n",
    "from torchvision import transforms\n",
    "import torch.optim as optim\n",
    "import time\n",
    "import tqdm as tqdm\n",
    "from torch.autograd import Variable"
   ]
  },
  {
   "cell_type": "code",
   "execution_count": 4,
   "id": "e90d2b46-62b6-4d65-accd-b65666481d53",
   "metadata": {},
   "outputs": [
    {
     "name": "stderr",
     "output_type": "stream",
     "text": [
      "\u001b[34m\u001b[1mwandb\u001b[0m: Currently logged in as: \u001b[33mpranavjadhav001\u001b[0m. Use \u001b[1m`wandb login --relogin`\u001b[0m to force relogin\n"
     ]
    },
    {
     "data": {
      "text/plain": [
       "True"
      ]
     },
     "execution_count": 4,
     "metadata": {},
     "output_type": "execute_result"
    }
   ],
   "source": [
    "import wandb\n",
    "import random  # for demo script\n",
    "\n",
    "wandb.login()"
   ]
  },
  {
   "cell_type": "code",
   "execution_count": 5,
   "id": "dfc3914e-3d5f-4c4a-a6d6-6a55ff22c849",
   "metadata": {},
   "outputs": [],
   "source": [
    "config = {\n",
    "    'name':'cub_epshn_resnet18+bn1d_sgd_aug',\n",
    "    'dataset':'CUB_200_2011',\n",
    "    'random_seed':42,\n",
    "    'model_architecture':'resnet18',\n",
    "    'embedding_dim':128,\n",
    "    'distance':'cosine',\n",
    "    'image_height':224,\n",
    "    'image_width':224,\n",
    "    'train_test_split':0.2,\n",
    "    'class_split':0.1,\n",
    "    'batch_size':128,\n",
    "    'optimizer':'sgd',\n",
    "    'learning_rate':0.001,\n",
    "    'num_epochs':100,\n",
    "    'loss':'NTXentLoss',\n",
    "    'miner':'epshn',\n",
    "    'reducer':0,\n",
    "    'metric':'precision_at_1',\n",
    "    'model_save_path':'models/cub_epshn_resnet18+bn1d_sgd_aug',\n",
    "    'temperature': 0.1\n",
    "}"
   ]
  },
  {
   "cell_type": "code",
   "execution_count": 6,
   "id": "ea1ac4e6-27ce-4223-8633-6c4bb31e07bc",
   "metadata": {},
   "outputs": [
    {
     "data": {
      "text/html": [
       "wandb version 0.16.6 is available!  To upgrade, please run:\n",
       " $ pip install wandb --upgrade"
      ],
      "text/plain": [
       "<IPython.core.display.HTML object>"
      ]
     },
     "metadata": {},
     "output_type": "display_data"
    },
    {
     "data": {
      "text/html": [
       "Tracking run with wandb version 0.16.4"
      ],
      "text/plain": [
       "<IPython.core.display.HTML object>"
      ]
     },
     "metadata": {},
     "output_type": "display_data"
    },
    {
     "data": {
      "text/html": [
       "Run data is saved locally in <code>/embedding_classification/wandb/run-20240427_081455-rugpiddt</code>"
      ],
      "text/plain": [
       "<IPython.core.display.HTML object>"
      ]
     },
     "metadata": {},
     "output_type": "display_data"
    },
    {
     "data": {
      "text/html": [
       "Syncing run <strong><a href='https://wandb.ai/pranavjadhav001/embedding_based_classification/runs/rugpiddt' target=\"_blank\">cub_epshn_resnet18+bn1d_sgd_aug</a></strong> to <a href='https://wandb.ai/pranavjadhav001/embedding_based_classification' target=\"_blank\">Weights & Biases</a> (<a href='https://wandb.me/run' target=\"_blank\">docs</a>)<br/>"
      ],
      "text/plain": [
       "<IPython.core.display.HTML object>"
      ]
     },
     "metadata": {},
     "output_type": "display_data"
    },
    {
     "data": {
      "text/html": [
       " View project at <a href='https://wandb.ai/pranavjadhav001/embedding_based_classification' target=\"_blank\">https://wandb.ai/pranavjadhav001/embedding_based_classification</a>"
      ],
      "text/plain": [
       "<IPython.core.display.HTML object>"
      ]
     },
     "metadata": {},
     "output_type": "display_data"
    },
    {
     "data": {
      "text/html": [
       " View run at <a href='https://wandb.ai/pranavjadhav001/embedding_based_classification/runs/rugpiddt' target=\"_blank\">https://wandb.ai/pranavjadhav001/embedding_based_classification/runs/rugpiddt</a>"
      ],
      "text/plain": [
       "<IPython.core.display.HTML object>"
      ]
     },
     "metadata": {},
     "output_type": "display_data"
    },
    {
     "name": "stdout",
     "output_type": "stream",
     "text": [
      "rugpiddt\n"
     ]
    }
   ],
   "source": [
    "id = wandb.util.generate_id()\n",
    "run = wandb.init(\n",
    "    id=id,\n",
    "    name = config['name'],\n",
    "    # Set the project where this run will be logged\n",
    "    project=\"embedding_based_classification\",\n",
    "    # Track hyperparameters and run metadata\n",
    "    config=config,\n",
    "    resume=\"allow\"\n",
    ")\n",
    "print(id)"
   ]
  },
  {
   "cell_type": "code",
   "execution_count": 8,
   "id": "2762de2f-b1ec-49ae-bdc8-56ad406334e1",
   "metadata": {},
   "outputs": [],
   "source": [
    "np.random.seed(config['random_seed'])\n",
    "torch.manual_seed(config['random_seed'])\n",
    "torch.cuda.manual_seed(config['random_seed'])\n",
    "torch.backends.cudnn.deterministic = False"
   ]
  },
  {
   "cell_type": "code",
   "execution_count": 7,
   "id": "fd54e43e-bcb2-4be5-9f51-1366b8a5cfb6",
   "metadata": {},
   "outputs": [],
   "source": [
    "os.chdir('..')\n",
    "if not os.path.exists('models'):\n",
    "    os.makedirs('models')"
   ]
  },
  {
   "cell_type": "code",
   "execution_count": 14,
   "id": "86a9b19c-f95a-4976-bed3-47cd97da3fbf",
   "metadata": {},
   "outputs": [],
   "source": [
    "# print(models.resnet18())\n",
    "class ResNetFeatrueExtractor18(nn.Module):\n",
    "    def __init__(self, pretrained = True):\n",
    "        super(ResNetFeatrueExtractor18, self).__init__()\n",
    "        model_resnet18 = models.resnet18(pretrained=pretrained)\n",
    "        self.conv1 = model_resnet18.conv1\n",
    "        self.bn1 = model_resnet18.bn1\n",
    "        self.relu = model_resnet18.relu\n",
    "        self.maxpool = model_resnet18.maxpool\n",
    "        self.layer1 = model_resnet18.layer1\n",
    "        self.layer2 = model_resnet18.layer2\n",
    "        self.layer3 = model_resnet18.layer3\n",
    "        self.layer4 = model_resnet18.layer4\n",
    "        self.avgpool = model_resnet18.avgpool\n",
    "        self.fc1 = nn.Linear(512, config['embedding_dim'])\n",
    "        self.bn2 = nn.BatchNorm1d(config['embedding_dim'])\n",
    "        for m in self.modules():\n",
    "            if isinstance(m, nn.BatchNorm1d):\n",
    "                nn.init.constant_(m.weight, 1)\n",
    "                nn.init.constant_(m.bias, 0)\n",
    "            elif isinstance(m, nn.Linear):\n",
    "                nn.init.xavier_normal_(m.weight)\n",
    "                nn.init.constant_(m.bias, 0)\n",
    "    \n",
    "    def forward(self, x):\n",
    "        x = self.relu(self.bn1(self.conv1(x)))\n",
    "        x = self.maxpool(x)\n",
    "        x = self.layer1(x)\n",
    "        x = self.layer2(x)\n",
    "        x = self.layer3(x)\n",
    "        x = self.layer4(x)\n",
    "        x = self.avgpool(x)\n",
    "        x = x.view(x.size(0), -1)\n",
    "        x = self.fc1(x)\n",
    "        x = self.bn2(x)\n",
    "        return x"
   ]
  },
  {
   "cell_type": "code",
   "execution_count": 15,
   "id": "3113a9df-ae34-49a4-be12-cfc0168aa08a",
   "metadata": {},
   "outputs": [
    {
     "data": {
      "text/plain": [
       "torch.Size([18, 128])"
      ]
     },
     "execution_count": 15,
     "metadata": {},
     "output_type": "execute_result"
    }
   ],
   "source": [
    "ResNetFeatrueExtractor18()(torch.zeros(18,3,224,224)).shape"
   ]
  },
  {
   "cell_type": "code",
   "execution_count": 16,
   "id": "1d2af52d-f3cf-4fb5-9d46-01d52b7eecd5",
   "metadata": {
    "scrolled": true
   },
   "outputs": [],
   "source": [
    "### MNIST code originally from https://github.com/pytorch/examples/blob/master/mnist/main.py ###\n",
    "def train(model, loss_func,mining_func, device, train_loader, optimizer, epoch):\n",
    "    model.train()\n",
    "    train_losses = []\n",
    "    for batch_idx, (data, labels) in enumerate(train_loader):\n",
    "        data, labels = data.to(device), labels.to(device)\n",
    "        optimizer.zero_grad()\n",
    "        embeddings = model(data)\n",
    "        indices_tuple = mining_func(embeddings, labels)\n",
    "        loss = loss_func(embeddings, labels, indices_tuple)\n",
    "        loss.backward()\n",
    "        optimizer.step()\n",
    "        train_losses.append(loss)\n",
    "        if batch_idx % 100 == 0:\n",
    "            print(\"Epoch {} Iteration {}: Loss = {}\".format(epoch, batch_idx, loss))\n",
    "    return torch.mean(torch.tensor(train_losses)).item()\n",
    "    \n",
    "### convenient function from pytorch-metric-learning ###\n",
    "def get_all_embeddings(dataset, model):\n",
    "    tester = testers.BaseTester(dataloader_num_workers=0)\n",
    "    return tester.get_all_embeddings(dataset, model)\n",
    "\n",
    "### compute accuracy using AccuracyCalculator from pytorch-metric-learning ###\n",
    "def test(train_set, test_set, model, accuracy_calculator):\n",
    "    train_embeddings, train_labels = get_all_embeddings(train_set, model)\n",
    "    test_embeddings, test_labels = get_all_embeddings(test_set, model)\n",
    "    train_labels = train_labels.squeeze(1)\n",
    "    test_labels = test_labels.squeeze(1)\n",
    "    print(\"Computing accuracy\")\n",
    "    accuracies = accuracy_calculator.get_accuracy(\n",
    "        test_embeddings, test_labels, train_embeddings, train_labels, False\n",
    "    )\n",
    "    print(\"Test set accuracy (Precision@1) = {}\".format(accuracies[\"precision_at_1\"]))\n",
    "    return accuracies[\"precision_at_1\"]\n",
    "    \n",
    "device = torch.device(\"cuda\")\n",
    "\n",
    "mean = [0.485, 0.456, 0.406]\n",
    "std = [0.229, 0.224, 0.225]\n",
    "\n",
    "# create train and test transforms\n",
    "transform = transforms.Compose(\n",
    "    [\n",
    "        transforms.Resize((config['image_height'], config['image_width'])),\n",
    "        transforms.ToTensor(),\n",
    "        transforms.Normalize(mean, std),\n",
    "    ]\n",
    ")\n",
    "\n",
    "batch_size = 128"
   ]
  },
  {
   "cell_type": "code",
   "execution_count": 18,
   "id": "74bc7144-4ac1-46af-acb8-abf120dc0312",
   "metadata": {},
   "outputs": [],
   "source": [
    "def tra_transforms(imgsize, RGBmean, RGBstdv):\n",
    "    return transforms.Compose([transforms.Resize(int(imgsize*1.1)),\n",
    "                                 transforms.RandomCrop(imgsize),\n",
    "                                 transforms.RandomHorizontalFlip(),\n",
    "                                 transforms.ToTensor(),\n",
    "                                 transforms.Normalize(RGBmean, RGBstdv)])\n",
    "\n",
    "def eva_transforms(imgsize, RGBmean, RGBstdv):\n",
    "    return transforms.Compose([transforms.Resize(imgsize),\n",
    "                                 transforms.CenterCrop(imgsize),\n",
    "                                 transforms.ToTensor(),\n",
    "                                 transforms.Normalize(RGBmean, RGBstdv)])\n"
   ]
  },
  {
   "cell_type": "code",
   "execution_count": 19,
   "id": "012c1d87-698e-4abe-919e-9050c600673d",
   "metadata": {},
   "outputs": [],
   "source": [
    "train_transform = tra_transforms(224,mean,std)\n",
    "test_transform = eva_transforms(224,mean,std)"
   ]
  },
  {
   "cell_type": "code",
   "execution_count": 20,
   "id": "4edc54cc-56a9-4889-bc86-a2caef18b958",
   "metadata": {},
   "outputs": [],
   "source": [
    "with open('CUB_200_2011/classes.txt','r') as f:\n",
    "    classes = f.readlines()\n",
    "classes = [i.replace('\\n','') for i in classes]\n",
    "classes = [i.split(' ')[1] for i in classes]\n",
    "class_dict = {k:v for k,v in zip(classes,range(200))}"
   ]
  },
  {
   "cell_type": "code",
   "execution_count": 21,
   "id": "565c42ed-11e7-42f1-9bbc-6cc8b089816c",
   "metadata": {},
   "outputs": [],
   "source": [
    "image_paths = []\n",
    "labels = []\n",
    "for folder_path,i in class_dict.items():\n",
    "    folder_images = glob.glob('CUB_200_2011/images/'+'/'+str(folder_path)+'/*')\n",
    "    image_paths.extend(folder_images)\n",
    "    labels.extend([i]*len(folder_images))"
   ]
  },
  {
   "cell_type": "code",
   "execution_count": 22,
   "id": "e3ed0eff-8d29-481e-b7b3-ecd842781f12",
   "metadata": {},
   "outputs": [],
   "source": [
    "from sklearn.model_selection import train_test_split\n",
    "X_train, X_test, y_train, y_test = train_test_split(image_paths, labels, test_size=config['train_test_split'],\n",
    "                                                    stratify=labels,\n",
    "                                                    random_state=config['random_seed'])"
   ]
  },
  {
   "cell_type": "code",
   "execution_count": 23,
   "id": "373894a5-b193-433b-8c42-1d5ac082d312",
   "metadata": {},
   "outputs": [
    {
     "name": "stdout",
     "output_type": "stream",
     "text": [
      "9430 2358 9430 2358\n"
     ]
    }
   ],
   "source": [
    "print(len(X_train), len(X_test), len(y_train), len(y_test))"
   ]
  },
  {
   "cell_type": "code",
   "execution_count": 24,
   "id": "d85fde76-4b7a-4e4e-9207-51596442dc80",
   "metadata": {},
   "outputs": [],
   "source": [
    "import torch\n",
    "from torch.utils.data import Dataset, DataLoader\n",
    "import torchvision.transforms as transforms\n",
    "\n",
    "class CUBDataset(Dataset):\n",
    "    def __init__(self, image_paths,labels,transform=None):\n",
    "        self.image_paths = image_paths\n",
    "        self.labels = labels\n",
    "        self.transform = transform\n",
    "        self.load_image_from_paths()\n",
    "        \n",
    "    def load_image_from_paths(self):\n",
    "        self.images = []\n",
    "        for i in self.image_paths:\n",
    "            img = PIL.Image.open(i)\n",
    "            if len(img.getbands()) ==1 :\n",
    "                img = img.convert(\"RGB\")\n",
    "            self.images.append(img)\n",
    "            \n",
    "    def __len__(self):\n",
    "        return len(self.images)\n",
    "\n",
    "    def __getitem__(self, idx):\n",
    "        image = self.images[idx]\n",
    "        label = self.labels[idx]\n",
    "        if self.transform:\n",
    "            image = self.transform(image)\n",
    "        return image, label"
   ]
  },
  {
   "cell_type": "code",
   "execution_count": 25,
   "id": "27cbe2f3-e65f-4705-bc31-3b382ddd2e59",
   "metadata": {},
   "outputs": [],
   "source": [
    "train_dataset  = CUBDataset(X_train,y_train,train_transform)\n",
    "test_dataset  = CUBDataset(X_test,y_test,test_transform)\n",
    "train_loader = torch.utils.data.DataLoader(train_dataset, batch_size=128, shuffle=True)\n",
    "test_loader = torch.utils.data.DataLoader(test_dataset, batch_size=128, shuffle=False)"
   ]
  },
  {
   "cell_type": "code",
   "execution_count": 27,
   "id": "6f22dd74-3ef4-47d1-a43c-aecc01d59822",
   "metadata": {},
   "outputs": [
    {
     "name": "stderr",
     "output_type": "stream",
     "text": [
      "/opt/conda/lib/python3.10/site-packages/torchvision/models/_utils.py:208: UserWarning: The parameter 'pretrained' is deprecated since 0.13 and may be removed in the future, please use 'weights' instead.\n",
      "  warnings.warn(\n",
      "/opt/conda/lib/python3.10/site-packages/torchvision/models/_utils.py:223: UserWarning: Arguments other than a weight enum or `None` for 'weights' are deprecated since 0.13 and may be removed in the future. The current behavior is equivalent to passing `weights=ResNet18_Weights.IMAGENET1K_V1`. You can also use `weights=ResNet18_Weights.DEFAULT` to get the most up-to-date weights.\n",
      "  warnings.warn(msg)\n"
     ]
    }
   ],
   "source": [
    "model = ResNetFeatrueExtractor18()\n",
    "model = model.to(device)\n",
    "optimizer = optim.SGD(model.parameters(), lr=config['learning_rate'])\n",
    "num_epochs = config['num_epochs']\n",
    "\n",
    "### pytorch-metric-learning stuff ###\n",
    "distance = distances.CosineSimilarity()\n",
    "reducer = reducers.MeanReducer()\n",
    "loss_func = losses.NTXentLoss(temperature=config['temperature'], distance=distance, reducer=reducer)\n",
    "mining_func = miners.BatchEasyHardMiner(pos_strategy=\"easy\",neg_strategy=\"semihard\")\n",
    "knn_func = CustomKNN(CosineSimilarity())\n",
    "accuracy_calculator = AccuracyCalculator(include=(\"precision_at_1\",),k=1,knn_func=knn_func,avg_of_avgs=True,return_per_class=False)"
   ]
  },
  {
   "cell_type": "code",
   "execution_count": 28,
   "id": "d4d15606-5164-4513-b1ff-44d64647a82b",
   "metadata": {},
   "outputs": [
    {
     "data": {
      "text/plain": [
       "[]"
      ]
     },
     "execution_count": 28,
     "metadata": {},
     "output_type": "execute_result"
    }
   ],
   "source": [
    "wandb.watch(model, log='all')"
   ]
  },
  {
   "cell_type": "code",
   "execution_count": 29,
   "id": "e5bb77dd-c3e8-42d8-8074-27b2210cdb77",
   "metadata": {
    "scrolled": true
   },
   "outputs": [
    {
     "name": "stdout",
     "output_type": "stream",
     "text": [
      "Epoch 1 Iteration 0: Loss = 0.6069438457489014\n"
     ]
    },
    {
     "name": "stderr",
     "output_type": "stream",
     "text": [
      "100%|█████████████████████████████████████████████████████████████████████████████████████████████████████| 295/295 [00:17<00:00, 16.68it/s]\n",
      "100%|███████████████████████████████████████████████████████████████████████████████████████████████████████| 74/74 [00:09<00:00,  7.47it/s]\n"
     ]
    },
    {
     "name": "stdout",
     "output_type": "stream",
     "text": [
      "Computing accuracy\n",
      "Test set accuracy (Precision@1) = 0.3538106060606061\n",
      "Epoch 2 Iteration 0: Loss = 0.5702366828918457\n"
     ]
    },
    {
     "name": "stderr",
     "output_type": "stream",
     "text": [
      "100%|█████████████████████████████████████████████████████████████████████████████████████████████████████| 295/295 [00:17<00:00, 16.77it/s]\n",
      "100%|███████████████████████████████████████████████████████████████████████████████████████████████████████| 74/74 [00:04<00:00, 18.01it/s]\n"
     ]
    },
    {
     "name": "stdout",
     "output_type": "stream",
     "text": [
      "Computing accuracy\n",
      "Test set accuracy (Precision@1) = 0.3915959595959596\n",
      "Epoch 3 Iteration 0: Loss = 0.5952122211456299\n"
     ]
    },
    {
     "name": "stderr",
     "output_type": "stream",
     "text": [
      "100%|█████████████████████████████████████████████████████████████████████████████████████████████████████| 295/295 [00:17<00:00, 16.60it/s]\n",
      "100%|███████████████████████████████████████████████████████████████████████████████████████████████████████| 74/74 [00:04<00:00, 17.85it/s]\n"
     ]
    },
    {
     "name": "stdout",
     "output_type": "stream",
     "text": [
      "Computing accuracy\n",
      "Test set accuracy (Precision@1) = 0.40495833333333336\n",
      "Epoch 4 Iteration 0: Loss = 0.5955341458320618\n"
     ]
    },
    {
     "name": "stderr",
     "output_type": "stream",
     "text": [
      "100%|█████████████████████████████████████████████████████████████████████████████████████████████████████| 295/295 [00:17<00:00, 17.10it/s]\n",
      "100%|███████████████████████████████████████████████████████████████████████████████████████████████████████| 74/74 [00:04<00:00, 18.29it/s]\n"
     ]
    },
    {
     "name": "stdout",
     "output_type": "stream",
     "text": [
      "Computing accuracy\n",
      "Test set accuracy (Precision@1) = 0.42552398989898993\n",
      "Epoch 5 Iteration 0: Loss = 0.5322893261909485\n"
     ]
    },
    {
     "name": "stderr",
     "output_type": "stream",
     "text": [
      "100%|█████████████████████████████████████████████████████████████████████████████████████████████████████| 295/295 [00:17<00:00, 16.94it/s]\n",
      "100%|███████████████████████████████████████████████████████████████████████████████████████████████████████| 74/74 [00:04<00:00, 18.34it/s]\n"
     ]
    },
    {
     "name": "stdout",
     "output_type": "stream",
     "text": [
      "Computing accuracy\n",
      "Test set accuracy (Precision@1) = 0.4482083333333333\n",
      "Epoch 6 Iteration 0: Loss = 0.5256407856941223\n"
     ]
    },
    {
     "name": "stderr",
     "output_type": "stream",
     "text": [
      "100%|█████████████████████████████████████████████████████████████████████████████████████████████████████| 295/295 [00:17<00:00, 17.09it/s]\n",
      "100%|███████████████████████████████████████████████████████████████████████████████████████████████████████| 74/74 [00:04<00:00, 18.37it/s]\n"
     ]
    },
    {
     "name": "stdout",
     "output_type": "stream",
     "text": [
      "Computing accuracy\n",
      "Test set accuracy (Precision@1) = 0.45463257575757576\n",
      "Epoch 7 Iteration 0: Loss = 0.5254128575325012\n"
     ]
    },
    {
     "name": "stderr",
     "output_type": "stream",
     "text": [
      "100%|█████████████████████████████████████████████████████████████████████████████████████████████████████| 295/295 [00:17<00:00, 17.01it/s]\n",
      "100%|███████████████████████████████████████████████████████████████████████████████████████████████████████| 74/74 [00:04<00:00, 18.11it/s]\n"
     ]
    },
    {
     "name": "stdout",
     "output_type": "stream",
     "text": [
      "Computing accuracy\n",
      "Test set accuracy (Precision@1) = 0.476030303030303\n",
      "Epoch 8 Iteration 0: Loss = 0.5334922671318054\n"
     ]
    },
    {
     "name": "stderr",
     "output_type": "stream",
     "text": [
      "100%|█████████████████████████████████████████████████████████████████████████████████████████████████████| 295/295 [00:17<00:00, 17.06it/s]\n",
      "100%|███████████████████████████████████████████████████████████████████████████████████████████████████████| 74/74 [00:04<00:00, 18.24it/s]\n"
     ]
    },
    {
     "name": "stdout",
     "output_type": "stream",
     "text": [
      "Computing accuracy\n",
      "Test set accuracy (Precision@1) = 0.4806628787878788\n",
      "Epoch 9 Iteration 0: Loss = 0.5024304389953613\n"
     ]
    },
    {
     "name": "stderr",
     "output_type": "stream",
     "text": [
      "100%|█████████████████████████████████████████████████████████████████████████████████████████████████████| 295/295 [00:17<00:00, 17.12it/s]\n",
      "100%|███████████████████████████████████████████████████████████████████████████████████████████████████████| 74/74 [00:04<00:00, 18.31it/s]\n"
     ]
    },
    {
     "name": "stdout",
     "output_type": "stream",
     "text": [
      "Computing accuracy\n",
      "Test set accuracy (Precision@1) = 0.495135101010101\n",
      "Epoch 10 Iteration 0: Loss = 0.45620304346084595\n"
     ]
    },
    {
     "name": "stderr",
     "output_type": "stream",
     "text": [
      "100%|█████████████████████████████████████████████████████████████████████████████████████████████████████| 295/295 [00:17<00:00, 17.03it/s]\n",
      "100%|███████████████████████████████████████████████████████████████████████████████████████████████████████| 74/74 [00:04<00:00, 18.21it/s]\n"
     ]
    },
    {
     "name": "stdout",
     "output_type": "stream",
     "text": [
      "Computing accuracy\n",
      "Test set accuracy (Precision@1) = 0.4952550505050505\n",
      "Epoch 11 Iteration 0: Loss = 0.5735949277877808\n"
     ]
    },
    {
     "name": "stderr",
     "output_type": "stream",
     "text": [
      "100%|█████████████████████████████████████████████████████████████████████████████████████████████████████| 295/295 [00:17<00:00, 17.14it/s]\n",
      "100%|███████████████████████████████████████████████████████████████████████████████████████████████████████| 74/74 [00:04<00:00, 18.42it/s]\n"
     ]
    },
    {
     "name": "stdout",
     "output_type": "stream",
     "text": [
      "Computing accuracy\n",
      "Test set accuracy (Precision@1) = 0.5066893939393939\n",
      "Epoch 12 Iteration 0: Loss = 0.5000196695327759\n"
     ]
    },
    {
     "name": "stderr",
     "output_type": "stream",
     "text": [
      "100%|█████████████████████████████████████████████████████████████████████████████████████████████████████| 295/295 [00:17<00:00, 16.97it/s]\n",
      "100%|███████████████████████████████████████████████████████████████████████████████████████████████████████| 74/74 [00:04<00:00, 18.23it/s]\n"
     ]
    },
    {
     "name": "stdout",
     "output_type": "stream",
     "text": [
      "Computing accuracy\n",
      "Test set accuracy (Precision@1) = 0.5085429292929293\n",
      "Epoch 13 Iteration 0: Loss = 0.5066322684288025\n"
     ]
    },
    {
     "name": "stderr",
     "output_type": "stream",
     "text": [
      "100%|█████████████████████████████████████████████████████████████████████████████████████████████████████| 295/295 [00:17<00:00, 17.12it/s]\n",
      "100%|███████████████████████████████████████████████████████████████████████████████████████████████████████| 74/74 [00:04<00:00, 18.34it/s]\n"
     ]
    },
    {
     "name": "stdout",
     "output_type": "stream",
     "text": [
      "Computing accuracy\n",
      "Test set accuracy (Precision@1) = 0.5176010101010101\n",
      "Epoch 14 Iteration 0: Loss = 0.5299043655395508\n"
     ]
    },
    {
     "name": "stderr",
     "output_type": "stream",
     "text": [
      "100%|█████████████████████████████████████████████████████████████████████████████████████████████████████| 295/295 [00:17<00:00, 16.97it/s]\n",
      "100%|███████████████████████████████████████████████████████████████████████████████████████████████████████| 74/74 [00:04<00:00, 18.30it/s]\n"
     ]
    },
    {
     "name": "stdout",
     "output_type": "stream",
     "text": [
      "Computing accuracy\n",
      "Test set accuracy (Precision@1) = 0.5225151515151516\n",
      "Epoch 15 Iteration 0: Loss = 0.5150294303894043\n"
     ]
    },
    {
     "name": "stderr",
     "output_type": "stream",
     "text": [
      "100%|█████████████████████████████████████████████████████████████████████████████████████████████████████| 295/295 [00:17<00:00, 16.71it/s]\n",
      "100%|███████████████████████████████████████████████████████████████████████████████████████████████████████| 74/74 [00:04<00:00, 17.81it/s]\n"
     ]
    },
    {
     "name": "stdout",
     "output_type": "stream",
     "text": [
      "Computing accuracy\n",
      "Test set accuracy (Precision@1) = 0.5302840909090909\n",
      "Epoch 16 Iteration 0: Loss = 0.500924825668335\n"
     ]
    },
    {
     "name": "stderr",
     "output_type": "stream",
     "text": [
      "100%|█████████████████████████████████████████████████████████████████████████████████████████████████████| 295/295 [00:17<00:00, 16.65it/s]\n",
      "100%|███████████████████████████████████████████████████████████████████████████████████████████████████████| 74/74 [00:04<00:00, 17.89it/s]\n"
     ]
    },
    {
     "name": "stdout",
     "output_type": "stream",
     "text": [
      "Computing accuracy\n",
      "Test set accuracy (Precision@1) = 0.525618686868687\n",
      "Epoch 17 Iteration 0: Loss = 0.48900529742240906\n"
     ]
    },
    {
     "name": "stderr",
     "output_type": "stream",
     "text": [
      "100%|█████████████████████████████████████████████████████████████████████████████████████████████████████| 295/295 [00:17<00:00, 16.70it/s]\n",
      "100%|███████████████████████████████████████████████████████████████████████████████████████████████████████| 74/74 [00:04<00:00, 17.86it/s]\n"
     ]
    },
    {
     "name": "stdout",
     "output_type": "stream",
     "text": [
      "Computing accuracy\n",
      "Test set accuracy (Precision@1) = 0.5344078282828282\n",
      "Epoch 18 Iteration 0: Loss = 0.5658094882965088\n"
     ]
    },
    {
     "name": "stderr",
     "output_type": "stream",
     "text": [
      "100%|█████████████████████████████████████████████████████████████████████████████████████████████████████| 295/295 [00:17<00:00, 16.57it/s]\n",
      "100%|███████████████████████████████████████████████████████████████████████████████████████████████████████| 74/74 [00:04<00:00, 17.89it/s]\n"
     ]
    },
    {
     "name": "stdout",
     "output_type": "stream",
     "text": [
      "Computing accuracy\n",
      "Test set accuracy (Precision@1) = 0.545625\n",
      "Epoch 19 Iteration 0: Loss = 0.470093309879303\n"
     ]
    },
    {
     "name": "stderr",
     "output_type": "stream",
     "text": [
      "100%|█████████████████████████████████████████████████████████████████████████████████████████████████████| 295/295 [00:17<00:00, 16.79it/s]\n",
      "100%|███████████████████████████████████████████████████████████████████████████████████████████████████████| 74/74 [00:04<00:00, 17.86it/s]\n"
     ]
    },
    {
     "name": "stdout",
     "output_type": "stream",
     "text": [
      "Computing accuracy\n",
      "Test set accuracy (Precision@1) = 0.5433888888888889\n",
      "Epoch 20 Iteration 0: Loss = 0.4890691936016083\n"
     ]
    },
    {
     "name": "stderr",
     "output_type": "stream",
     "text": [
      "100%|█████████████████████████████████████████████████████████████████████████████████████████████████████| 295/295 [00:17<00:00, 16.43it/s]\n",
      "100%|███████████████████████████████████████████████████████████████████████████████████████████████████████| 74/74 [00:04<00:00, 18.25it/s]\n"
     ]
    },
    {
     "name": "stdout",
     "output_type": "stream",
     "text": [
      "Computing accuracy\n",
      "Test set accuracy (Precision@1) = 0.5437714646464646\n",
      "Epoch 21 Iteration 0: Loss = 0.4762505292892456\n"
     ]
    },
    {
     "name": "stderr",
     "output_type": "stream",
     "text": [
      "100%|█████████████████████████████████████████████████████████████████████████████████████████████████████| 295/295 [00:17<00:00, 17.21it/s]\n",
      "100%|███████████████████████████████████████████████████████████████████████████████████████████████████████| 74/74 [00:03<00:00, 18.76it/s]\n"
     ]
    },
    {
     "name": "stdout",
     "output_type": "stream",
     "text": [
      "Computing accuracy\n",
      "Test set accuracy (Precision@1) = 0.5432676767676768\n",
      "Epoch 22 Iteration 0: Loss = 0.4845302999019623\n"
     ]
    },
    {
     "name": "stderr",
     "output_type": "stream",
     "text": [
      "100%|█████████████████████████████████████████████████████████████████████████████████████████████████████| 295/295 [00:17<00:00, 17.11it/s]\n",
      "100%|███████████████████████████████████████████████████████████████████████████████████████████████████████| 74/74 [00:03<00:00, 18.52it/s]\n"
     ]
    },
    {
     "name": "stdout",
     "output_type": "stream",
     "text": [
      "Computing accuracy\n",
      "Test set accuracy (Precision@1) = 0.5482777777777778\n",
      "Epoch 23 Iteration 0: Loss = 0.5199286341667175\n"
     ]
    },
    {
     "name": "stderr",
     "output_type": "stream",
     "text": [
      "100%|█████████████████████████████████████████████████████████████████████████████████████████████████████| 295/295 [00:17<00:00, 16.50it/s]\n",
      "100%|███████████████████████████████████████████████████████████████████████████████████████████████████████| 74/74 [00:04<00:00, 17.78it/s]\n"
     ]
    },
    {
     "name": "stdout",
     "output_type": "stream",
     "text": [
      "Computing accuracy\n",
      "Test set accuracy (Precision@1) = 0.5508219696969697\n",
      "Epoch 24 Iteration 0: Loss = 0.4208887815475464\n"
     ]
    },
    {
     "name": "stderr",
     "output_type": "stream",
     "text": [
      "100%|█████████████████████████████████████████████████████████████████████████████████████████████████████| 295/295 [00:17<00:00, 16.76it/s]\n",
      "100%|███████████████████████████████████████████████████████████████████████████████████████████████████████| 74/74 [00:03<00:00, 18.83it/s]\n"
     ]
    },
    {
     "name": "stdout",
     "output_type": "stream",
     "text": [
      "Computing accuracy\n",
      "Test set accuracy (Precision@1) = 0.5688042929292929\n",
      "Epoch 25 Iteration 0: Loss = 0.48043856024742126\n"
     ]
    },
    {
     "name": "stderr",
     "output_type": "stream",
     "text": [
      "100%|█████████████████████████████████████████████████████████████████████████████████████████████████████| 295/295 [00:16<00:00, 17.98it/s]\n",
      "100%|███████████████████████████████████████████████████████████████████████████████████████████████████████| 74/74 [00:03<00:00, 19.55it/s]\n"
     ]
    },
    {
     "name": "stdout",
     "output_type": "stream",
     "text": [
      "Computing accuracy\n",
      "Test set accuracy (Precision@1) = 0.5725366161616162\n",
      "Epoch 26 Iteration 0: Loss = 0.4960192143917084\n"
     ]
    },
    {
     "name": "stderr",
     "output_type": "stream",
     "text": [
      "100%|█████████████████████████████████████████████████████████████████████████████████████████████████████| 295/295 [00:16<00:00, 17.96it/s]\n",
      "100%|███████████████████████████████████████████████████████████████████████████████████████████████████████| 74/74 [00:03<00:00, 19.61it/s]\n"
     ]
    },
    {
     "name": "stdout",
     "output_type": "stream",
     "text": [
      "Computing accuracy\n",
      "Test set accuracy (Precision@1) = 0.5634936868686868\n",
      "Epoch 27 Iteration 0: Loss = 0.5368954539299011\n"
     ]
    },
    {
     "name": "stderr",
     "output_type": "stream",
     "text": [
      "100%|█████████████████████████████████████████████████████████████████████████████████████████████████████| 295/295 [00:16<00:00, 18.06it/s]\n",
      "100%|███████████████████████████████████████████████████████████████████████████████████████████████████████| 74/74 [00:03<00:00, 19.44it/s]\n"
     ]
    },
    {
     "name": "stdout",
     "output_type": "stream",
     "text": [
      "Computing accuracy\n",
      "Test set accuracy (Precision@1) = 0.5640075757575757\n",
      "Epoch 28 Iteration 0: Loss = 0.5007082223892212\n"
     ]
    },
    {
     "name": "stderr",
     "output_type": "stream",
     "text": [
      "100%|█████████████████████████████████████████████████████████████████████████████████████████████████████| 295/295 [00:16<00:00, 18.05it/s]\n",
      "100%|███████████████████████████████████████████████████████████████████████████████████████████████████████| 74/74 [00:03<00:00, 19.53it/s]\n"
     ]
    },
    {
     "name": "stdout",
     "output_type": "stream",
     "text": [
      "Computing accuracy\n",
      "Test set accuracy (Precision@1) = 0.5715075757575757\n",
      "Epoch 29 Iteration 0: Loss = 0.42270562052726746\n"
     ]
    },
    {
     "name": "stderr",
     "output_type": "stream",
     "text": [
      "100%|█████████████████████████████████████████████████████████████████████████████████████████████████████| 295/295 [00:16<00:00, 17.86it/s]\n",
      "100%|███████████████████████████████████████████████████████████████████████████████████████████████████████| 74/74 [00:03<00:00, 19.45it/s]\n"
     ]
    },
    {
     "name": "stdout",
     "output_type": "stream",
     "text": [
      "Computing accuracy\n",
      "Test set accuracy (Precision@1) = 0.5785580808080808\n",
      "Epoch 30 Iteration 0: Loss = 0.4891717731952667\n"
     ]
    },
    {
     "name": "stderr",
     "output_type": "stream",
     "text": [
      "100%|█████████████████████████████████████████████████████████████████████████████████████████████████████| 295/295 [00:16<00:00, 18.06it/s]\n",
      "100%|███████████████████████████████████████████████████████████████████████████████████████████████████████| 74/74 [00:03<00:00, 19.50it/s]\n"
     ]
    },
    {
     "name": "stdout",
     "output_type": "stream",
     "text": [
      "Computing accuracy\n",
      "Test set accuracy (Precision@1) = 0.5763156565656565\n",
      "Epoch 31 Iteration 0: Loss = 0.4428360164165497\n"
     ]
    },
    {
     "name": "stderr",
     "output_type": "stream",
     "text": [
      "100%|█████████████████████████████████████████████████████████████████████████████████████████████████████| 295/295 [00:16<00:00, 18.02it/s]\n",
      "100%|███████████████████████████████████████████████████████████████████████████████████████████████████████| 74/74 [00:03<00:00, 19.44it/s]\n"
     ]
    },
    {
     "name": "stdout",
     "output_type": "stream",
     "text": [
      "Computing accuracy\n",
      "Test set accuracy (Precision@1) = 0.5759886363636364\n",
      "Epoch 32 Iteration 0: Loss = 0.48634305596351624\n"
     ]
    },
    {
     "name": "stderr",
     "output_type": "stream",
     "text": [
      "100%|█████████████████████████████████████████████████████████████████████████████████████████████████████| 295/295 [00:16<00:00, 18.01it/s]\n",
      "100%|███████████████████████████████████████████████████████████████████████████████████████████████████████| 74/74 [00:03<00:00, 19.44it/s]\n"
     ]
    },
    {
     "name": "stdout",
     "output_type": "stream",
     "text": [
      "Computing accuracy\n",
      "Test set accuracy (Precision@1) = 0.5946578282828283\n",
      "Epoch 33 Iteration 0: Loss = 0.4693891108036041\n"
     ]
    },
    {
     "name": "stderr",
     "output_type": "stream",
     "text": [
      "100%|█████████████████████████████████████████████████████████████████████████████████████████████████████| 295/295 [00:16<00:00, 18.04it/s]\n",
      "100%|███████████████████████████████████████████████████████████████████████████████████████████████████████| 74/74 [00:03<00:00, 19.55it/s]\n"
     ]
    },
    {
     "name": "stdout",
     "output_type": "stream",
     "text": [
      "Computing accuracy\n",
      "Test set accuracy (Precision@1) = 0.5811830808080808\n",
      "Epoch 34 Iteration 0: Loss = 0.4189530611038208\n"
     ]
    },
    {
     "name": "stderr",
     "output_type": "stream",
     "text": [
      "100%|█████████████████████████████████████████████████████████████████████████████████████████████████████| 295/295 [00:16<00:00, 17.87it/s]\n",
      "100%|███████████████████████████████████████████████████████████████████████████████████████████████████████| 74/74 [00:03<00:00, 19.04it/s]\n"
     ]
    },
    {
     "name": "stdout",
     "output_type": "stream",
     "text": [
      "Computing accuracy\n",
      "Test set accuracy (Precision@1) = 0.5905366161616162\n",
      "Epoch 35 Iteration 0: Loss = 0.5025882124900818\n"
     ]
    },
    {
     "name": "stderr",
     "output_type": "stream",
     "text": [
      "100%|█████████████████████████████████████████████████████████████████████████████████████████████████████| 295/295 [00:16<00:00, 18.06it/s]\n",
      "100%|███████████████████████████████████████████████████████████████████████████████████████████████████████| 74/74 [00:03<00:00, 19.46it/s]\n"
     ]
    },
    {
     "name": "stdout",
     "output_type": "stream",
     "text": [
      "Computing accuracy\n",
      "Test set accuracy (Precision@1) = 0.5746691919191919\n",
      "Epoch 36 Iteration 0: Loss = 0.4609234929084778\n"
     ]
    },
    {
     "name": "stderr",
     "output_type": "stream",
     "text": [
      "100%|█████████████████████████████████████████████████████████████████████████████████████████████████████| 295/295 [00:16<00:00, 18.05it/s]\n",
      "100%|███████████████████████████████████████████████████████████████████████████████████████████████████████| 74/74 [00:03<00:00, 19.62it/s]\n"
     ]
    },
    {
     "name": "stdout",
     "output_type": "stream",
     "text": [
      "Computing accuracy\n",
      "Test set accuracy (Precision@1) = 0.5931666666666666\n",
      "Epoch 37 Iteration 0: Loss = 0.4282698333263397\n"
     ]
    },
    {
     "name": "stderr",
     "output_type": "stream",
     "text": [
      "100%|█████████████████████████████████████████████████████████████████████████████████████████████████████| 295/295 [00:16<00:00, 18.07it/s]\n",
      "100%|███████████████████████████████████████████████████████████████████████████████████████████████████████| 74/74 [00:03<00:00, 19.58it/s]\n"
     ]
    },
    {
     "name": "stdout",
     "output_type": "stream",
     "text": [
      "Computing accuracy\n",
      "Test set accuracy (Precision@1) = 0.5864255050505051\n",
      "Epoch 38 Iteration 0: Loss = 0.4473012685775757\n"
     ]
    },
    {
     "name": "stderr",
     "output_type": "stream",
     "text": [
      "100%|█████████████████████████████████████████████████████████████████████████████████████████████████████| 295/295 [00:16<00:00, 18.00it/s]\n",
      "100%|███████████████████████████████████████████████████████████████████████████████████████████████████████| 74/74 [00:03<00:00, 19.58it/s]\n"
     ]
    },
    {
     "name": "stdout",
     "output_type": "stream",
     "text": [
      "Computing accuracy\n",
      "Test set accuracy (Precision@1) = 0.5864457070707071\n",
      "Epoch 39 Iteration 0: Loss = 0.42888590693473816\n"
     ]
    },
    {
     "name": "stderr",
     "output_type": "stream",
     "text": [
      "100%|█████████████████████████████████████████████████████████████████████████████████████████████████████| 295/295 [00:16<00:00, 17.87it/s]\n",
      "100%|███████████████████████████████████████████████████████████████████████████████████████████████████████| 74/74 [00:03<00:00, 19.54it/s]\n"
     ]
    },
    {
     "name": "stdout",
     "output_type": "stream",
     "text": [
      "Computing accuracy\n",
      "Test set accuracy (Precision@1) = 0.5992525252525253\n",
      "Epoch 40 Iteration 0: Loss = 0.5011729001998901\n"
     ]
    },
    {
     "name": "stderr",
     "output_type": "stream",
     "text": [
      "100%|█████████████████████████████████████████████████████████████████████████████████████████████████████| 295/295 [00:16<00:00, 18.03it/s]\n",
      "100%|███████████████████████████████████████████████████████████████████████████████████████████████████████| 74/74 [00:03<00:00, 19.46it/s]\n"
     ]
    },
    {
     "name": "stdout",
     "output_type": "stream",
     "text": [
      "Computing accuracy\n",
      "Test set accuracy (Precision@1) = 0.6083888888888889\n",
      "Epoch 41 Iteration 0: Loss = 0.4298728108406067\n"
     ]
    },
    {
     "name": "stderr",
     "output_type": "stream",
     "text": [
      "100%|█████████████████████████████████████████████████████████████████████████████████████████████████████| 295/295 [00:16<00:00, 18.02it/s]\n",
      "100%|███████████████████████████████████████████████████████████████████████████████████████████████████████| 74/74 [00:03<00:00, 19.56it/s]\n"
     ]
    },
    {
     "name": "stdout",
     "output_type": "stream",
     "text": [
      "Computing accuracy\n",
      "Test set accuracy (Precision@1) = 0.5996666666666667\n",
      "Epoch 42 Iteration 0: Loss = 0.4363619387149811\n"
     ]
    },
    {
     "name": "stderr",
     "output_type": "stream",
     "text": [
      "100%|█████████████████████████████████████████████████████████████████████████████████████████████████████| 295/295 [00:16<00:00, 18.03it/s]\n",
      "100%|███████████████████████████████████████████████████████████████████████████████████████████████████████| 74/74 [00:03<00:00, 19.66it/s]\n"
     ]
    },
    {
     "name": "stdout",
     "output_type": "stream",
     "text": [
      "Computing accuracy\n",
      "Test set accuracy (Precision@1) = 0.5981414141414141\n",
      "Epoch 43 Iteration 0: Loss = 0.45527565479278564\n"
     ]
    },
    {
     "name": "stderr",
     "output_type": "stream",
     "text": [
      "100%|█████████████████████████████████████████████████████████████████████████████████████████████████████| 295/295 [00:16<00:00, 18.05it/s]\n",
      "100%|███████████████████████████████████████████████████████████████████████████████████████████████████████| 74/74 [00:03<00:00, 19.16it/s]\n"
     ]
    },
    {
     "name": "stdout",
     "output_type": "stream",
     "text": [
      "Computing accuracy\n",
      "Test set accuracy (Precision@1) = 0.5946085858585858\n",
      "Epoch 44 Iteration 0: Loss = 0.461527556180954\n"
     ]
    },
    {
     "name": "stderr",
     "output_type": "stream",
     "text": [
      "100%|█████████████████████████████████████████████████████████████████████████████████████████████████████| 295/295 [00:16<00:00, 18.05it/s]\n",
      "100%|███████████████████████████████████████████████████████████████████████████████████████████████████████| 74/74 [00:03<00:00, 19.55it/s]\n"
     ]
    },
    {
     "name": "stdout",
     "output_type": "stream",
     "text": [
      "Computing accuracy\n",
      "Test set accuracy (Precision@1) = 0.6049772727272728\n",
      "Epoch 45 Iteration 0: Loss = 0.49036282300949097\n"
     ]
    },
    {
     "name": "stderr",
     "output_type": "stream",
     "text": [
      "100%|█████████████████████████████████████████████████████████████████████████████████████████████████████| 295/295 [00:16<00:00, 18.04it/s]\n",
      "100%|███████████████████████████████████████████████████████████████████████████████████████████████████████| 74/74 [00:03<00:00, 19.53it/s]\n"
     ]
    },
    {
     "name": "stdout",
     "output_type": "stream",
     "text": [
      "Computing accuracy\n",
      "Test set accuracy (Precision@1) = 0.604195707070707\n",
      "Epoch 46 Iteration 0: Loss = 0.40435662865638733\n"
     ]
    },
    {
     "name": "stderr",
     "output_type": "stream",
     "text": [
      "100%|█████████████████████████████████████████████████████████████████████████████████████████████████████| 295/295 [00:16<00:00, 18.04it/s]\n",
      "100%|███████████████████████████████████████████████████████████████████████████████████████████████████████| 74/74 [00:03<00:00, 19.56it/s]\n"
     ]
    },
    {
     "name": "stdout",
     "output_type": "stream",
     "text": [
      "Computing accuracy\n",
      "Test set accuracy (Precision@1) = 0.6143244949494949\n",
      "Epoch 47 Iteration 0: Loss = 0.449238121509552\n"
     ]
    },
    {
     "name": "stderr",
     "output_type": "stream",
     "text": [
      "100%|█████████████████████████████████████████████████████████████████████████████████████████████████████| 295/295 [00:16<00:00, 18.05it/s]\n",
      "100%|███████████████████████████████████████████████████████████████████████████████████████████████████████| 74/74 [00:03<00:00, 19.41it/s]\n"
     ]
    },
    {
     "name": "stdout",
     "output_type": "stream",
     "text": [
      "Computing accuracy\n",
      "Test set accuracy (Precision@1) = 0.6169558080808081\n",
      "Epoch 48 Iteration 0: Loss = 0.433302104473114\n"
     ]
    },
    {
     "name": "stderr",
     "output_type": "stream",
     "text": [
      "100%|█████████████████████████████████████████████████████████████████████████████████████████████████████| 295/295 [00:16<00:00, 18.01it/s]\n",
      "100%|███████████████████████████████████████████████████████████████████████████████████████████████████████| 74/74 [00:03<00:00, 19.51it/s]\n"
     ]
    },
    {
     "name": "stdout",
     "output_type": "stream",
     "text": [
      "Computing accuracy\n",
      "Test set accuracy (Precision@1) = 0.6095795454545454\n",
      "Epoch 49 Iteration 0: Loss = 0.4597388803958893\n"
     ]
    },
    {
     "name": "stderr",
     "output_type": "stream",
     "text": [
      "100%|█████████████████████████████████████████████████████████████████████████████████████████████████████| 295/295 [00:16<00:00, 18.03it/s]\n",
      "100%|███████████████████████████████████████████████████████████████████████████████████████████████████████| 74/74 [00:03<00:00, 19.51it/s]\n"
     ]
    },
    {
     "name": "stdout",
     "output_type": "stream",
     "text": [
      "Computing accuracy\n",
      "Test set accuracy (Precision@1) = 0.6112424242424243\n",
      "Epoch 50 Iteration 0: Loss = 0.46033695340156555\n"
     ]
    },
    {
     "name": "stderr",
     "output_type": "stream",
     "text": [
      "100%|█████████████████████████████████████████████████████████████████████████████████████████████████████| 295/295 [00:16<00:00, 18.02it/s]\n",
      "100%|███████████████████████████████████████████████████████████████████████████████████████████████████████| 74/74 [00:03<00:00, 19.56it/s]\n"
     ]
    },
    {
     "name": "stdout",
     "output_type": "stream",
     "text": [
      "Computing accuracy\n",
      "Test set accuracy (Precision@1) = 0.6149646464646465\n",
      "Epoch 51 Iteration 0: Loss = 0.43642669916152954\n"
     ]
    },
    {
     "name": "stderr",
     "output_type": "stream",
     "text": [
      "100%|█████████████████████████████████████████████████████████████████████████████████████████████████████| 295/295 [00:16<00:00, 18.02it/s]\n",
      "100%|███████████████████████████████████████████████████████████████████████████████████████████████████████| 74/74 [00:03<00:00, 19.55it/s]\n"
     ]
    },
    {
     "name": "stdout",
     "output_type": "stream",
     "text": [
      "Computing accuracy\n",
      "Test set accuracy (Precision@1) = 0.6241212121212122\n",
      "Epoch 52 Iteration 0: Loss = 0.40399083495140076\n"
     ]
    },
    {
     "name": "stderr",
     "output_type": "stream",
     "text": [
      "100%|█████████████████████████████████████████████████████████████████████████████████████████████████████| 295/295 [00:16<00:00, 18.05it/s]\n",
      "100%|███████████████████████████████████████████████████████████████████████████████████████████████████████| 74/74 [00:03<00:00, 19.16it/s]\n"
     ]
    },
    {
     "name": "stdout",
     "output_type": "stream",
     "text": [
      "Computing accuracy\n",
      "Test set accuracy (Precision@1) = 0.6096944444444445\n",
      "Epoch 53 Iteration 0: Loss = 0.4140870273113251\n"
     ]
    },
    {
     "name": "stderr",
     "output_type": "stream",
     "text": [
      "100%|█████████████████████████████████████████████████████████████████████████████████████████████████████| 295/295 [00:16<00:00, 18.07it/s]\n",
      "100%|███████████████████████████████████████████████████████████████████████████████████████████████████████| 74/74 [00:03<00:00, 18.84it/s]\n"
     ]
    },
    {
     "name": "stdout",
     "output_type": "stream",
     "text": [
      "Computing accuracy\n",
      "Test set accuracy (Precision@1) = 0.616614898989899\n",
      "Epoch 54 Iteration 0: Loss = 0.4862251579761505\n"
     ]
    },
    {
     "name": "stderr",
     "output_type": "stream",
     "text": [
      "100%|█████████████████████████████████████████████████████████████████████████████████████████████████████| 295/295 [00:16<00:00, 18.02it/s]\n",
      "100%|███████████████████████████████████████████████████████████████████████████████████████████████████████| 74/74 [00:03<00:00, 19.47it/s]\n"
     ]
    },
    {
     "name": "stdout",
     "output_type": "stream",
     "text": [
      "Computing accuracy\n",
      "Test set accuracy (Precision@1) = 0.6138409090909092\n",
      "Epoch 55 Iteration 0: Loss = 0.5080443024635315\n"
     ]
    },
    {
     "name": "stderr",
     "output_type": "stream",
     "text": [
      "100%|█████████████████████████████████████████████████████████████████████████████████████████████████████| 295/295 [00:16<00:00, 18.03it/s]\n",
      "100%|███████████████████████████████████████████████████████████████████████████████████████████████████████| 74/74 [00:03<00:00, 19.57it/s]\n"
     ]
    },
    {
     "name": "stdout",
     "output_type": "stream",
     "text": [
      "Computing accuracy\n",
      "Test set accuracy (Precision@1) = 0.6234646464646464\n",
      "Epoch 56 Iteration 0: Loss = 0.47505441308021545\n"
     ]
    },
    {
     "name": "stderr",
     "output_type": "stream",
     "text": [
      "100%|█████████████████████████████████████████████████████████████████████████████████████████████████████| 295/295 [00:16<00:00, 18.05it/s]\n",
      "100%|███████████████████████████████████████████████████████████████████████████████████████████████████████| 74/74 [00:03<00:00, 19.46it/s]\n"
     ]
    },
    {
     "name": "stdout",
     "output_type": "stream",
     "text": [
      "Computing accuracy\n",
      "Test set accuracy (Precision@1) = 0.6201792929292929\n",
      "Epoch 57 Iteration 0: Loss = 0.4347511827945709\n"
     ]
    },
    {
     "name": "stderr",
     "output_type": "stream",
     "text": [
      "100%|█████████████████████████████████████████████████████████████████████████████████████████████████████| 295/295 [00:16<00:00, 18.02it/s]\n",
      "100%|███████████████████████████████████████████████████████████████████████████████████████████████████████| 74/74 [00:03<00:00, 19.46it/s]\n"
     ]
    },
    {
     "name": "stdout",
     "output_type": "stream",
     "text": [
      "Computing accuracy\n",
      "Test set accuracy (Precision@1) = 0.6224595959595961\n",
      "Epoch 58 Iteration 0: Loss = 0.41066837310791016\n"
     ]
    },
    {
     "name": "stderr",
     "output_type": "stream",
     "text": [
      "100%|█████████████████████████████████████████████████████████████████████████████████████████████████████| 295/295 [00:16<00:00, 17.91it/s]\n",
      "100%|███████████████████████████████████████████████████████████████████████████████████████████████████████| 74/74 [00:03<00:00, 19.32it/s]\n"
     ]
    },
    {
     "name": "stdout",
     "output_type": "stream",
     "text": [
      "Computing accuracy\n",
      "Test set accuracy (Precision@1) = 0.626185606060606\n",
      "Epoch 59 Iteration 0: Loss = 0.47393104434013367\n"
     ]
    },
    {
     "name": "stderr",
     "output_type": "stream",
     "text": [
      "100%|█████████████████████████████████████████████████████████████████████████████████████████████████████| 295/295 [00:16<00:00, 17.90it/s]\n",
      "100%|███████████████████████████████████████████████████████████████████████████████████████████████████████| 74/74 [00:03<00:00, 19.40it/s]\n"
     ]
    },
    {
     "name": "stdout",
     "output_type": "stream",
     "text": [
      "Computing accuracy\n",
      "Test set accuracy (Precision@1) = 0.6233396464646465\n",
      "Epoch 60 Iteration 0: Loss = 0.49153509736061096\n"
     ]
    },
    {
     "name": "stderr",
     "output_type": "stream",
     "text": [
      "100%|█████████████████████████████████████████████████████████████████████████████████████████████████████| 295/295 [00:16<00:00, 18.08it/s]\n",
      "100%|███████████████████████████████████████████████████████████████████████████████████████████████████████| 74/74 [00:03<00:00, 19.50it/s]\n"
     ]
    },
    {
     "name": "stdout",
     "output_type": "stream",
     "text": [
      "Computing accuracy\n",
      "Test set accuracy (Precision@1) = 0.6320239898989898\n",
      "Epoch 61 Iteration 0: Loss = 0.3767242729663849\n"
     ]
    },
    {
     "name": "stderr",
     "output_type": "stream",
     "text": [
      "100%|█████████████████████████████████████████████████████████████████████████████████████████████████████| 295/295 [00:16<00:00, 18.05it/s]\n",
      "100%|███████████████████████████████████████████████████████████████████████████████████████████████████████| 74/74 [00:03<00:00, 19.26it/s]\n"
     ]
    },
    {
     "name": "stdout",
     "output_type": "stream",
     "text": [
      "Computing accuracy\n",
      "Test set accuracy (Precision@1) = 0.6231818181818182\n",
      "Epoch 62 Iteration 0: Loss = 0.3573380708694458\n"
     ]
    },
    {
     "name": "stderr",
     "output_type": "stream",
     "text": [
      "100%|█████████████████████████████████████████████████████████████████████████████████████████████████████| 295/295 [00:16<00:00, 18.02it/s]\n",
      "100%|███████████████████████████████████████████████████████████████████████████████████████████████████████| 74/74 [00:03<00:00, 19.34it/s]\n"
     ]
    },
    {
     "name": "stdout",
     "output_type": "stream",
     "text": [
      "Computing accuracy\n",
      "Test set accuracy (Precision@1) = 0.6359949494949495\n",
      "Epoch 63 Iteration 0: Loss = 0.4750460982322693\n"
     ]
    },
    {
     "name": "stderr",
     "output_type": "stream",
     "text": [
      "100%|█████████████████████████████████████████████████████████████████████████████████████████████████████| 295/295 [00:16<00:00, 17.84it/s]\n",
      "100%|███████████████████████████████████████████████████████████████████████████████████████████████████████| 74/74 [00:03<00:00, 19.25it/s]\n"
     ]
    },
    {
     "name": "stdout",
     "output_type": "stream",
     "text": [
      "Computing accuracy\n",
      "Test set accuracy (Precision@1) = 0.6307727272727273\n",
      "Epoch 64 Iteration 0: Loss = 0.3386518657207489\n"
     ]
    },
    {
     "name": "stderr",
     "output_type": "stream",
     "text": [
      "100%|█████████████████████████████████████████████████████████████████████████████████████████████████████| 295/295 [00:16<00:00, 18.03it/s]\n",
      "100%|███████████████████████████████████████████████████████████████████████████████████████████████████████| 74/74 [00:03<00:00, 19.59it/s]\n"
     ]
    },
    {
     "name": "stdout",
     "output_type": "stream",
     "text": [
      "Computing accuracy\n",
      "Test set accuracy (Precision@1) = 0.634635101010101\n",
      "Epoch 65 Iteration 0: Loss = 0.3752613663673401\n"
     ]
    },
    {
     "name": "stderr",
     "output_type": "stream",
     "text": [
      "100%|█████████████████████████████████████████████████████████████████████████████████████████████████████| 295/295 [00:16<00:00, 17.98it/s]\n",
      "100%|███████████████████████████████████████████████████████████████████████████████████████████████████████| 74/74 [00:03<00:00, 19.39it/s]\n"
     ]
    },
    {
     "name": "stdout",
     "output_type": "stream",
     "text": [
      "Computing accuracy\n",
      "Test set accuracy (Precision@1) = 0.6400113636363637\n",
      "Epoch 66 Iteration 0: Loss = 0.4491211175918579\n"
     ]
    },
    {
     "name": "stderr",
     "output_type": "stream",
     "text": [
      "100%|█████████████████████████████████████████████████████████████████████████████████████████████████████| 295/295 [00:16<00:00, 17.99it/s]\n",
      "100%|███████████████████████████████████████████████████████████████████████████████████████████████████████| 74/74 [00:03<00:00, 19.54it/s]\n"
     ]
    },
    {
     "name": "stdout",
     "output_type": "stream",
     "text": [
      "Computing accuracy\n",
      "Test set accuracy (Precision@1) = 0.6412234848484849\n",
      "Epoch 67 Iteration 0: Loss = 0.4098796546459198\n"
     ]
    },
    {
     "name": "stderr",
     "output_type": "stream",
     "text": [
      "100%|█████████████████████████████████████████████████████████████████████████████████████████████████████| 295/295 [00:16<00:00, 18.10it/s]\n",
      "100%|███████████████████████████████████████████████████████████████████████████████████████████████████████| 74/74 [00:03<00:00, 19.44it/s]\n"
     ]
    },
    {
     "name": "stdout",
     "output_type": "stream",
     "text": [
      "Computing accuracy\n",
      "Test set accuracy (Precision@1) = 0.6356136363636364\n",
      "Epoch 68 Iteration 0: Loss = 0.44943004846572876\n"
     ]
    },
    {
     "name": "stderr",
     "output_type": "stream",
     "text": [
      "100%|█████████████████████████████████████████████████████████████████████████████████████████████████████| 295/295 [00:16<00:00, 17.79it/s]\n",
      "100%|███████████████████████████████████████████████████████████████████████████████████████████████████████| 74/74 [00:03<00:00, 19.33it/s]\n"
     ]
    },
    {
     "name": "stdout",
     "output_type": "stream",
     "text": [
      "Computing accuracy\n",
      "Test set accuracy (Precision@1) = 0.6316717171717172\n",
      "Epoch 69 Iteration 0: Loss = 0.4688073694705963\n"
     ]
    },
    {
     "name": "stderr",
     "output_type": "stream",
     "text": [
      "100%|█████████████████████████████████████████████████████████████████████████████████████████████████████| 295/295 [00:16<00:00, 18.00it/s]\n",
      "100%|███████████████████████████████████████████████████████████████████████████████████████████████████████| 74/74 [00:03<00:00, 19.47it/s]\n"
     ]
    },
    {
     "name": "stdout",
     "output_type": "stream",
     "text": [
      "Computing accuracy\n",
      "Test set accuracy (Precision@1) = 0.6446590909090909\n",
      "Epoch 70 Iteration 0: Loss = 0.3727790415287018\n"
     ]
    },
    {
     "name": "stderr",
     "output_type": "stream",
     "text": [
      "100%|█████████████████████████████████████████████████████████████████████████████████████████████████████| 295/295 [00:16<00:00, 18.07it/s]\n",
      "100%|███████████████████████████████████████████████████████████████████████████████████████████████████████| 74/74 [00:03<00:00, 19.20it/s]\n"
     ]
    },
    {
     "name": "stdout",
     "output_type": "stream",
     "text": [
      "Computing accuracy\n",
      "Test set accuracy (Precision@1) = 0.6341679292929293\n",
      "Epoch 71 Iteration 0: Loss = 0.470325767993927\n"
     ]
    },
    {
     "name": "stderr",
     "output_type": "stream",
     "text": [
      "100%|█████████████████████████████████████████████████████████████████████████████████████████████████████| 295/295 [00:16<00:00, 18.07it/s]\n",
      "100%|███████████████████████████████████████████████████████████████████████████████████████████████████████| 74/74 [00:03<00:00, 19.40it/s]\n"
     ]
    },
    {
     "name": "stdout",
     "output_type": "stream",
     "text": [
      "Computing accuracy\n",
      "Test set accuracy (Precision@1) = 0.6354191919191919\n",
      "Epoch 72 Iteration 0: Loss = 0.44193264842033386\n"
     ]
    },
    {
     "name": "stderr",
     "output_type": "stream",
     "text": [
      "100%|█████████████████████████████████████████████████████████████████████████████████████████████████████| 295/295 [00:16<00:00, 18.09it/s]\n",
      "100%|███████████████████████████████████████████████████████████████████████████████████████████████████████| 74/74 [00:03<00:00, 19.38it/s]\n"
     ]
    },
    {
     "name": "stdout",
     "output_type": "stream",
     "text": [
      "Computing accuracy\n",
      "Test set accuracy (Precision@1) = 0.6409709595959596\n",
      "Epoch 73 Iteration 0: Loss = 0.429106205701828\n"
     ]
    },
    {
     "name": "stderr",
     "output_type": "stream",
     "text": [
      "100%|█████████████████████████████████████████████████████████████████████████████████████████████████████| 295/295 [00:17<00:00, 16.73it/s]\n",
      "100%|███████████████████████████████████████████████████████████████████████████████████████████████████████| 74/74 [00:04<00:00, 18.04it/s]\n"
     ]
    },
    {
     "name": "stdout",
     "output_type": "stream",
     "text": [
      "Computing accuracy\n",
      "Test set accuracy (Precision@1) = 0.6424949494949495\n",
      "Epoch 74 Iteration 0: Loss = 0.4582357406616211\n"
     ]
    },
    {
     "name": "stderr",
     "output_type": "stream",
     "text": [
      "100%|█████████████████████████████████████████████████████████████████████████████████████████████████████| 295/295 [00:17<00:00, 16.76it/s]\n",
      "100%|███████████████████████████████████████████████████████████████████████████████████████████████████████| 74/74 [00:04<00:00, 18.08it/s]\n"
     ]
    },
    {
     "name": "stdout",
     "output_type": "stream",
     "text": [
      "Computing accuracy\n",
      "Test set accuracy (Precision@1) = 0.646020202020202\n",
      "Epoch 75 Iteration 0: Loss = 0.40931007266044617\n"
     ]
    },
    {
     "name": "stderr",
     "output_type": "stream",
     "text": [
      "100%|█████████████████████████████████████████████████████████████████████████████████████████████████████| 295/295 [00:17<00:00, 16.83it/s]\n",
      "100%|███████████████████████████████████████████████████████████████████████████████████████████████████████| 74/74 [00:04<00:00, 18.36it/s]\n"
     ]
    },
    {
     "name": "stdout",
     "output_type": "stream",
     "text": [
      "Computing accuracy\n",
      "Test set accuracy (Precision@1) = 0.6403560606060605\n",
      "Epoch 76 Iteration 0: Loss = 0.468019038438797\n"
     ]
    },
    {
     "name": "stderr",
     "output_type": "stream",
     "text": [
      "100%|█████████████████████████████████████████████████████████████████████████████████████████████████████| 295/295 [00:17<00:00, 16.92it/s]\n",
      "100%|███████████████████████████████████████████████████████████████████████████████████████████████████████| 74/74 [00:04<00:00, 18.32it/s]\n"
     ]
    },
    {
     "name": "stdout",
     "output_type": "stream",
     "text": [
      "Computing accuracy\n",
      "Test set accuracy (Precision@1) = 0.6395126262626264\n",
      "Epoch 77 Iteration 0: Loss = 0.4227119982242584\n"
     ]
    },
    {
     "name": "stderr",
     "output_type": "stream",
     "text": [
      "100%|█████████████████████████████████████████████████████████████████████████████████████████████████████| 295/295 [00:17<00:00, 16.73it/s]\n",
      "100%|███████████████████████████████████████████████████████████████████████████████████████████████████████| 74/74 [00:04<00:00, 18.32it/s]\n"
     ]
    },
    {
     "name": "stdout",
     "output_type": "stream",
     "text": [
      "Computing accuracy\n",
      "Test set accuracy (Precision@1) = 0.6459949494949495\n",
      "Epoch 78 Iteration 0: Loss = 0.3816990554332733\n"
     ]
    },
    {
     "name": "stderr",
     "output_type": "stream",
     "text": [
      "100%|█████████████████████████████████████████████████████████████████████████████████████████████████████| 295/295 [00:17<00:00, 16.97it/s]\n",
      "100%|███████████████████████████████████████████████████████████████████████████████████████████████████████| 74/74 [00:04<00:00, 17.29it/s]\n"
     ]
    },
    {
     "name": "stdout",
     "output_type": "stream",
     "text": [
      "Computing accuracy\n",
      "Test set accuracy (Precision@1) = 0.6438686868686868\n",
      "Epoch 79 Iteration 0: Loss = 0.41484877467155457\n"
     ]
    },
    {
     "name": "stderr",
     "output_type": "stream",
     "text": [
      "100%|█████████████████████████████████████████████████████████████████████████████████████████████████████| 295/295 [00:18<00:00, 16.18it/s]\n",
      "100%|███████████████████████████████████████████████████████████████████████████████████████████████████████| 74/74 [00:04<00:00, 17.18it/s]\n"
     ]
    },
    {
     "name": "stdout",
     "output_type": "stream",
     "text": [
      "Computing accuracy\n",
      "Test set accuracy (Precision@1) = 0.644270202020202\n",
      "Epoch 80 Iteration 0: Loss = 0.4111489951610565\n"
     ]
    },
    {
     "name": "stderr",
     "output_type": "stream",
     "text": [
      "100%|█████████████████████████████████████████████████████████████████████████████████████████████████████| 295/295 [00:18<00:00, 16.09it/s]\n",
      "100%|███████████████████████████████████████████████████████████████████████████████████████████████████████| 74/74 [00:04<00:00, 18.10it/s]\n"
     ]
    },
    {
     "name": "stdout",
     "output_type": "stream",
     "text": [
      "Computing accuracy\n",
      "Test set accuracy (Precision@1) = 0.6476085858585858\n",
      "Epoch 81 Iteration 0: Loss = 0.49214184284210205\n"
     ]
    },
    {
     "name": "stderr",
     "output_type": "stream",
     "text": [
      "100%|█████████████████████████████████████████████████████████████████████████████████████████████████████| 295/295 [00:17<00:00, 16.73it/s]\n",
      "100%|███████████████████████████████████████████████████████████████████████████████████████████████████████| 74/74 [00:04<00:00, 18.17it/s]\n"
     ]
    },
    {
     "name": "stdout",
     "output_type": "stream",
     "text": [
      "Computing accuracy\n",
      "Test set accuracy (Precision@1) = 0.6403421717171718\n",
      "Epoch 82 Iteration 0: Loss = 0.41655433177948\n"
     ]
    },
    {
     "name": "stderr",
     "output_type": "stream",
     "text": [
      "100%|█████████████████████████████████████████████████████████████████████████████████████████████████████| 295/295 [00:17<00:00, 16.89it/s]\n",
      "100%|███████████████████████████████████████████████████████████████████████████████████████████████████████| 74/74 [00:04<00:00, 18.41it/s]\n"
     ]
    },
    {
     "name": "stdout",
     "output_type": "stream",
     "text": [
      "Computing accuracy\n",
      "Test set accuracy (Precision@1) = 0.6482272727272728\n",
      "Epoch 83 Iteration 0: Loss = 0.3918800354003906\n"
     ]
    },
    {
     "name": "stderr",
     "output_type": "stream",
     "text": [
      "100%|█████████████████████████████████████████████████████████████████████████████████████████████████████| 295/295 [00:18<00:00, 16.32it/s]\n",
      "100%|███████████████████████████████████████████████████████████████████████████████████████████████████████| 74/74 [00:04<00:00, 17.68it/s]\n"
     ]
    },
    {
     "name": "stdout",
     "output_type": "stream",
     "text": [
      "Computing accuracy\n",
      "Test set accuracy (Precision@1) = 0.6460505050505051\n",
      "Epoch 84 Iteration 0: Loss = 0.3248070478439331\n"
     ]
    },
    {
     "name": "stderr",
     "output_type": "stream",
     "text": [
      "100%|█████████████████████████████████████████████████████████████████████████████████████████████████████| 295/295 [00:17<00:00, 16.98it/s]\n",
      "100%|███████████████████████████████████████████████████████████████████████████████████████████████████████| 74/74 [00:04<00:00, 18.33it/s]\n"
     ]
    },
    {
     "name": "stdout",
     "output_type": "stream",
     "text": [
      "Computing accuracy\n",
      "Test set accuracy (Precision@1) = 0.646699494949495\n",
      "Epoch 85 Iteration 0: Loss = 0.3385736644268036\n"
     ]
    },
    {
     "name": "stderr",
     "output_type": "stream",
     "text": [
      "100%|█████████████████████████████████████████████████████████████████████████████████████████████████████| 295/295 [00:17<00:00, 17.00it/s]\n",
      "100%|███████████████████████████████████████████████████████████████████████████████████████████████████████| 74/74 [00:04<00:00, 18.01it/s]\n"
     ]
    },
    {
     "name": "stdout",
     "output_type": "stream",
     "text": [
      "Computing accuracy\n",
      "Test set accuracy (Precision@1) = 0.6527411616161617\n",
      "Epoch 86 Iteration 0: Loss = 0.4425915777683258\n"
     ]
    },
    {
     "name": "stderr",
     "output_type": "stream",
     "text": [
      "100%|█████████████████████████████████████████████████████████████████████████████████████████████████████| 295/295 [00:17<00:00, 16.73it/s]\n",
      "100%|███████████████████████████████████████████████████████████████████████████████████████████████████████| 74/74 [00:04<00:00, 18.15it/s]\n"
     ]
    },
    {
     "name": "stdout",
     "output_type": "stream",
     "text": [
      "Computing accuracy\n",
      "Test set accuracy (Precision@1) = 0.6491262626262626\n",
      "Epoch 87 Iteration 0: Loss = 0.4311097264289856\n"
     ]
    },
    {
     "name": "stderr",
     "output_type": "stream",
     "text": [
      "100%|█████████████████████████████████████████████████████████████████████████████████████████████████████| 295/295 [00:17<00:00, 16.87it/s]\n",
      "100%|███████████████████████████████████████████████████████████████████████████████████████████████████████| 74/74 [00:04<00:00, 18.40it/s]\n"
     ]
    },
    {
     "name": "stdout",
     "output_type": "stream",
     "text": [
      "Computing accuracy\n",
      "Test set accuracy (Precision@1) = 0.6525479797979798\n",
      "Epoch 88 Iteration 0: Loss = 0.46270838379859924\n"
     ]
    },
    {
     "name": "stderr",
     "output_type": "stream",
     "text": [
      "100%|█████████████████████████████████████████████████████████████████████████████████████████████████████| 295/295 [00:17<00:00, 16.79it/s]\n",
      "100%|███████████████████████████████████████████████████████████████████████████████████████████████████████| 74/74 [00:04<00:00, 17.78it/s]\n"
     ]
    },
    {
     "name": "stdout",
     "output_type": "stream",
     "text": [
      "Computing accuracy\n",
      "Test set accuracy (Precision@1) = 0.661979797979798\n",
      "Epoch 89 Iteration 0: Loss = 0.40277600288391113\n"
     ]
    },
    {
     "name": "stderr",
     "output_type": "stream",
     "text": [
      "100%|█████████████████████████████████████████████████████████████████████████████████████████████████████| 295/295 [00:17<00:00, 16.65it/s]\n",
      "100%|███████████████████████████████████████████████████████████████████████████████████████████████████████| 74/74 [00:04<00:00, 18.15it/s]\n"
     ]
    },
    {
     "name": "stdout",
     "output_type": "stream",
     "text": [
      "Computing accuracy\n",
      "Test set accuracy (Precision@1) = 0.6558863636363637\n",
      "Epoch 90 Iteration 0: Loss = 0.3916863203048706\n"
     ]
    },
    {
     "name": "stderr",
     "output_type": "stream",
     "text": [
      "100%|█████████████████████████████████████████████████████████████████████████████████████████████████████| 295/295 [00:17<00:00, 16.69it/s]\n",
      "100%|███████████████████████████████████████████████████████████████████████████████████████████████████████| 74/74 [00:04<00:00, 18.38it/s]\n"
     ]
    },
    {
     "name": "stdout",
     "output_type": "stream",
     "text": [
      "Computing accuracy\n",
      "Test set accuracy (Precision@1) = 0.6533308080808081\n",
      "Epoch 91 Iteration 0: Loss = 0.35658812522888184\n"
     ]
    },
    {
     "name": "stderr",
     "output_type": "stream",
     "text": [
      "100%|█████████████████████████████████████████████████████████████████████████████████████████████████████| 295/295 [00:17<00:00, 16.49it/s]\n",
      "100%|███████████████████████████████████████████████████████████████████████████████████████████████████████| 74/74 [00:04<00:00, 17.94it/s]\n"
     ]
    },
    {
     "name": "stdout",
     "output_type": "stream",
     "text": [
      "Computing accuracy\n",
      "Test set accuracy (Precision@1) = 0.6514280303030303\n",
      "Epoch 92 Iteration 0: Loss = 0.3914085626602173\n"
     ]
    },
    {
     "name": "stderr",
     "output_type": "stream",
     "text": [
      "100%|█████████████████████████████████████████████████████████████████████████████████████████████████████| 295/295 [00:17<00:00, 16.71it/s]\n",
      "100%|███████████████████████████████████████████████████████████████████████████████████████████████████████| 74/74 [00:04<00:00, 18.01it/s]\n"
     ]
    },
    {
     "name": "stdout",
     "output_type": "stream",
     "text": [
      "Computing accuracy\n",
      "Test set accuracy (Precision@1) = 0.6584835858585859\n",
      "Epoch 93 Iteration 0: Loss = 0.48802170157432556\n"
     ]
    },
    {
     "name": "stderr",
     "output_type": "stream",
     "text": [
      "100%|█████████████████████████████████████████████████████████████████████████████████████████████████████| 295/295 [00:18<00:00, 16.24it/s]\n",
      "100%|███████████████████████████████████████████████████████████████████████████████████████████████████████| 74/74 [00:04<00:00, 18.10it/s]\n"
     ]
    },
    {
     "name": "stdout",
     "output_type": "stream",
     "text": [
      "Computing accuracy\n",
      "Test set accuracy (Precision@1) = 0.6511818181818183\n",
      "Epoch 94 Iteration 0: Loss = 0.387827605009079\n"
     ]
    },
    {
     "name": "stderr",
     "output_type": "stream",
     "text": [
      "100%|█████████████████████████████████████████████████████████████████████████████████████████████████████| 295/295 [00:18<00:00, 16.18it/s]\n",
      "100%|███████████████████████████████████████████████████████████████████████████████████████████████████████| 74/74 [00:03<00:00, 18.99it/s]\n"
     ]
    },
    {
     "name": "stdout",
     "output_type": "stream",
     "text": [
      "Computing accuracy\n",
      "Test set accuracy (Precision@1) = 0.6526818181818181\n",
      "Epoch 95 Iteration 0: Loss = 0.33041509985923767\n"
     ]
    },
    {
     "name": "stderr",
     "output_type": "stream",
     "text": [
      "100%|█████████████████████████████████████████████████████████████████████████████████████████████████████| 295/295 [00:16<00:00, 17.86it/s]\n",
      "100%|███████████████████████████████████████████████████████████████████████████████████████████████████████| 74/74 [00:03<00:00, 19.25it/s]\n"
     ]
    },
    {
     "name": "stdout",
     "output_type": "stream",
     "text": [
      "Computing accuracy\n",
      "Test set accuracy (Precision@1) = 0.6610113636363636\n",
      "Epoch 96 Iteration 0: Loss = 0.38805219531059265\n"
     ]
    },
    {
     "name": "stderr",
     "output_type": "stream",
     "text": [
      "100%|█████████████████████████████████████████████████████████████████████████████████████████████████████| 295/295 [00:16<00:00, 17.95it/s]\n",
      "100%|███████████████████████████████████████████████████████████████████████████████████████████████████████| 74/74 [00:03<00:00, 19.49it/s]\n"
     ]
    },
    {
     "name": "stdout",
     "output_type": "stream",
     "text": [
      "Computing accuracy\n",
      "Test set accuracy (Precision@1) = 0.6634835858585859\n",
      "Epoch 97 Iteration 0: Loss = 0.37722671031951904\n"
     ]
    },
    {
     "name": "stderr",
     "output_type": "stream",
     "text": [
      "100%|█████████████████████████████████████████████████████████████████████████████████████████████████████| 295/295 [00:16<00:00, 17.94it/s]\n",
      "100%|███████████████████████████████████████████████████████████████████████████████████████████████████████| 74/74 [00:03<00:00, 19.38it/s]\n"
     ]
    },
    {
     "name": "stdout",
     "output_type": "stream",
     "text": [
      "Computing accuracy\n",
      "Test set accuracy (Precision@1) = 0.6671565656565656\n",
      "Epoch 98 Iteration 0: Loss = 0.3401181995868683\n"
     ]
    },
    {
     "name": "stderr",
     "output_type": "stream",
     "text": [
      "100%|█████████████████████████████████████████████████████████████████████████████████████████████████████| 295/295 [00:16<00:00, 17.92it/s]\n",
      "100%|███████████████████████████████████████████████████████████████████████████████████████████████████████| 74/74 [00:03<00:00, 19.49it/s]\n"
     ]
    },
    {
     "name": "stdout",
     "output_type": "stream",
     "text": [
      "Computing accuracy\n",
      "Test set accuracy (Precision@1) = 0.6624583333333334\n",
      "Epoch 99 Iteration 0: Loss = 0.32629844546318054\n"
     ]
    },
    {
     "name": "stderr",
     "output_type": "stream",
     "text": [
      "100%|█████████████████████████████████████████████████████████████████████████████████████████████████████| 295/295 [00:16<00:00, 17.95it/s]\n",
      "100%|███████████████████████████████████████████████████████████████████████████████████████████████████████| 74/74 [00:03<00:00, 19.36it/s]\n"
     ]
    },
    {
     "name": "stdout",
     "output_type": "stream",
     "text": [
      "Computing accuracy\n",
      "Test set accuracy (Precision@1) = 0.6637689393939394\n",
      "Epoch 100 Iteration 0: Loss = 0.40390777587890625\n"
     ]
    },
    {
     "name": "stderr",
     "output_type": "stream",
     "text": [
      "100%|█████████████████████████████████████████████████████████████████████████████████████████████████████| 295/295 [00:16<00:00, 17.94it/s]\n",
      "100%|███████████████████████████████████████████████████████████████████████████████████████████████████████| 74/74 [00:03<00:00, 19.22it/s]"
     ]
    },
    {
     "name": "stdout",
     "output_type": "stream",
     "text": [
      "Computing accuracy\n",
      "Test set accuracy (Precision@1) = 0.6615265151515152\n"
     ]
    },
    {
     "name": "stderr",
     "output_type": "stream",
     "text": [
      "\n"
     ]
    }
   ],
   "source": [
    "#total_loss = []\n",
    "#total_acc = []\n",
    "for epoch in range(1, num_epochs + 1):\n",
    "    train_loss = train(model, loss_func,mining_func, device, train_loader, optimizer, epoch)\n",
    "    #total_loss.extend(train_loss)\n",
    "    test_acc = test(train_dataset, test_dataset, model, accuracy_calculator)\n",
    "    #total_acc.append(test_acc)\n",
    "    wandb.log({\"test_accuracy\": test_acc, \"train_loss\": train_loss,'epoch':epoch})"
   ]
  },
  {
   "cell_type": "code",
   "execution_count": 30,
   "id": "395883f6-bda6-43e9-a3d7-8bfc3de85acd",
   "metadata": {},
   "outputs": [],
   "source": [
    "wandb.unwatch()"
   ]
  },
  {
   "cell_type": "code",
   "execution_count": 31,
   "id": "f4e33826-711a-4780-b22f-8089e23719da",
   "metadata": {},
   "outputs": [],
   "source": [
    "torch.save(model,config['model_save_path']+'_200.pth')"
   ]
  },
  {
   "cell_type": "code",
   "execution_count": 19,
   "id": "8468f5a6-8c26-4f43-b780-898e6e6cbc12",
   "metadata": {
    "scrolled": true
   },
   "outputs": [],
   "source": [
    "model = torch.load('models/cub_triplet_loss_epshn_resnet18_sgd_aug_200.pth',map_location='cuda')"
   ]
  },
  {
   "cell_type": "code",
   "execution_count": 32,
   "id": "ee72491a-6daa-4df4-8905-9d237e26b24f",
   "metadata": {
    "scrolled": true
   },
   "outputs": [
    {
     "data": {
      "text/plain": [
       "ResNetFeatrueExtractor18(\n",
       "  (conv1): Conv2d(3, 64, kernel_size=(7, 7), stride=(2, 2), padding=(3, 3), bias=False)\n",
       "  (bn1): BatchNorm2d(64, eps=1e-05, momentum=0.1, affine=True, track_running_stats=True)\n",
       "  (relu): ReLU(inplace=True)\n",
       "  (maxpool): MaxPool2d(kernel_size=3, stride=2, padding=1, dilation=1, ceil_mode=False)\n",
       "  (layer1): Sequential(\n",
       "    (0): BasicBlock(\n",
       "      (conv1): Conv2d(64, 64, kernel_size=(3, 3), stride=(1, 1), padding=(1, 1), bias=False)\n",
       "      (bn1): BatchNorm2d(64, eps=1e-05, momentum=0.1, affine=True, track_running_stats=True)\n",
       "      (relu): ReLU(inplace=True)\n",
       "      (conv2): Conv2d(64, 64, kernel_size=(3, 3), stride=(1, 1), padding=(1, 1), bias=False)\n",
       "      (bn2): BatchNorm2d(64, eps=1e-05, momentum=0.1, affine=True, track_running_stats=True)\n",
       "    )\n",
       "    (1): BasicBlock(\n",
       "      (conv1): Conv2d(64, 64, kernel_size=(3, 3), stride=(1, 1), padding=(1, 1), bias=False)\n",
       "      (bn1): BatchNorm2d(64, eps=1e-05, momentum=0.1, affine=True, track_running_stats=True)\n",
       "      (relu): ReLU(inplace=True)\n",
       "      (conv2): Conv2d(64, 64, kernel_size=(3, 3), stride=(1, 1), padding=(1, 1), bias=False)\n",
       "      (bn2): BatchNorm2d(64, eps=1e-05, momentum=0.1, affine=True, track_running_stats=True)\n",
       "    )\n",
       "  )\n",
       "  (layer2): Sequential(\n",
       "    (0): BasicBlock(\n",
       "      (conv1): Conv2d(64, 128, kernel_size=(3, 3), stride=(2, 2), padding=(1, 1), bias=False)\n",
       "      (bn1): BatchNorm2d(128, eps=1e-05, momentum=0.1, affine=True, track_running_stats=True)\n",
       "      (relu): ReLU(inplace=True)\n",
       "      (conv2): Conv2d(128, 128, kernel_size=(3, 3), stride=(1, 1), padding=(1, 1), bias=False)\n",
       "      (bn2): BatchNorm2d(128, eps=1e-05, momentum=0.1, affine=True, track_running_stats=True)\n",
       "      (downsample): Sequential(\n",
       "        (0): Conv2d(64, 128, kernel_size=(1, 1), stride=(2, 2), bias=False)\n",
       "        (1): BatchNorm2d(128, eps=1e-05, momentum=0.1, affine=True, track_running_stats=True)\n",
       "      )\n",
       "    )\n",
       "    (1): BasicBlock(\n",
       "      (conv1): Conv2d(128, 128, kernel_size=(3, 3), stride=(1, 1), padding=(1, 1), bias=False)\n",
       "      (bn1): BatchNorm2d(128, eps=1e-05, momentum=0.1, affine=True, track_running_stats=True)\n",
       "      (relu): ReLU(inplace=True)\n",
       "      (conv2): Conv2d(128, 128, kernel_size=(3, 3), stride=(1, 1), padding=(1, 1), bias=False)\n",
       "      (bn2): BatchNorm2d(128, eps=1e-05, momentum=0.1, affine=True, track_running_stats=True)\n",
       "    )\n",
       "  )\n",
       "  (layer3): Sequential(\n",
       "    (0): BasicBlock(\n",
       "      (conv1): Conv2d(128, 256, kernel_size=(3, 3), stride=(2, 2), padding=(1, 1), bias=False)\n",
       "      (bn1): BatchNorm2d(256, eps=1e-05, momentum=0.1, affine=True, track_running_stats=True)\n",
       "      (relu): ReLU(inplace=True)\n",
       "      (conv2): Conv2d(256, 256, kernel_size=(3, 3), stride=(1, 1), padding=(1, 1), bias=False)\n",
       "      (bn2): BatchNorm2d(256, eps=1e-05, momentum=0.1, affine=True, track_running_stats=True)\n",
       "      (downsample): Sequential(\n",
       "        (0): Conv2d(128, 256, kernel_size=(1, 1), stride=(2, 2), bias=False)\n",
       "        (1): BatchNorm2d(256, eps=1e-05, momentum=0.1, affine=True, track_running_stats=True)\n",
       "      )\n",
       "    )\n",
       "    (1): BasicBlock(\n",
       "      (conv1): Conv2d(256, 256, kernel_size=(3, 3), stride=(1, 1), padding=(1, 1), bias=False)\n",
       "      (bn1): BatchNorm2d(256, eps=1e-05, momentum=0.1, affine=True, track_running_stats=True)\n",
       "      (relu): ReLU(inplace=True)\n",
       "      (conv2): Conv2d(256, 256, kernel_size=(3, 3), stride=(1, 1), padding=(1, 1), bias=False)\n",
       "      (bn2): BatchNorm2d(256, eps=1e-05, momentum=0.1, affine=True, track_running_stats=True)\n",
       "    )\n",
       "  )\n",
       "  (layer4): Sequential(\n",
       "    (0): BasicBlock(\n",
       "      (conv1): Conv2d(256, 512, kernel_size=(3, 3), stride=(2, 2), padding=(1, 1), bias=False)\n",
       "      (bn1): BatchNorm2d(512, eps=1e-05, momentum=0.1, affine=True, track_running_stats=True)\n",
       "      (relu): ReLU(inplace=True)\n",
       "      (conv2): Conv2d(512, 512, kernel_size=(3, 3), stride=(1, 1), padding=(1, 1), bias=False)\n",
       "      (bn2): BatchNorm2d(512, eps=1e-05, momentum=0.1, affine=True, track_running_stats=True)\n",
       "      (downsample): Sequential(\n",
       "        (0): Conv2d(256, 512, kernel_size=(1, 1), stride=(2, 2), bias=False)\n",
       "        (1): BatchNorm2d(512, eps=1e-05, momentum=0.1, affine=True, track_running_stats=True)\n",
       "      )\n",
       "    )\n",
       "    (1): BasicBlock(\n",
       "      (conv1): Conv2d(512, 512, kernel_size=(3, 3), stride=(1, 1), padding=(1, 1), bias=False)\n",
       "      (bn1): BatchNorm2d(512, eps=1e-05, momentum=0.1, affine=True, track_running_stats=True)\n",
       "      (relu): ReLU(inplace=True)\n",
       "      (conv2): Conv2d(512, 512, kernel_size=(3, 3), stride=(1, 1), padding=(1, 1), bias=False)\n",
       "      (bn2): BatchNorm2d(512, eps=1e-05, momentum=0.1, affine=True, track_running_stats=True)\n",
       "    )\n",
       "  )\n",
       "  (avgpool): AdaptiveAvgPool2d(output_size=(1, 1))\n",
       "  (fc1): Linear(in_features=512, out_features=128, bias=True)\n",
       "  (bn2): BatchNorm1d(128, eps=1e-05, momentum=0.1, affine=True, track_running_stats=True)\n",
       ")"
      ]
     },
     "execution_count": 32,
     "metadata": {},
     "output_type": "execute_result"
    }
   ],
   "source": [
    "model.eval()"
   ]
  },
  {
   "cell_type": "code",
   "execution_count": 33,
   "id": "c99fe1cb-ce19-41bf-bb1d-658c8b1b89d9",
   "metadata": {},
   "outputs": [],
   "source": [
    "from pytorch_metric_learning.distances import LpDistance,CosineSimilarity\n",
    "from pytorch_metric_learning.utils.inference import CustomKNN\n",
    "knn_func = CustomKNN(CosineSimilarity())\n",
    "accuracy_calculator = AccuracyCalculator(include=(\"precision_at_1\",),k=1,knn_func=knn_func,avg_of_avgs=False,return_per_class=True)\n",
    "#test(train_dataset, test_dataset, model, accuracy_calculator)"
   ]
  },
  {
   "cell_type": "code",
   "execution_count": 34,
   "id": "248f5f10-0423-47bf-a7b1-83de1a863c7f",
   "metadata": {},
   "outputs": [
    {
     "name": "stderr",
     "output_type": "stream",
     "text": [
      "100%|█████████████████████████████████████████████████████████████████████████████████████████████████████| 295/295 [00:17<00:00, 16.82it/s]\n",
      "100%|███████████████████████████████████████████████████████████████████████████████████████████████████████| 74/74 [00:04<00:00, 18.09it/s]\n"
     ]
    }
   ],
   "source": [
    "train_embeddings, train_labels = get_all_embeddings(train_dataset, model)\n",
    "test_embeddings, test_labels = get_all_embeddings(test_dataset, model)\n",
    "train_labels = train_labels.squeeze(1)\n",
    "test_labels = test_labels.squeeze(1)"
   ]
  },
  {
   "cell_type": "code",
   "execution_count": 35,
   "id": "eba43667-c551-46c0-93aa-dbcf38f695f7",
   "metadata": {},
   "outputs": [
    {
     "name": "stdout",
     "output_type": "stream",
     "text": [
      "{'precision_at_1': [0.8333333333333334, 0.75, 0.3333333333333333, 0.75, 0.7777777777777778, 0.5, 1.0, 0.5555555555555556, 0.25, 0.75, 0.4166666666666667, 1.0, 0.6666666666666666, 0.8333333333333334, 0.7272727272727273, 0.7272727272727273, 0.6363636363636364, 0.8888888888888888, 0.75, 0.25, 0.75, 0.2727272727272727, 0.5833333333333334, 0.8, 0.16666666666666666, 0.6666666666666666, 0.4166666666666667, 1.0, 0.16666666666666666, 0.25, 0.5833333333333334, 0.5, 0.5833333333333334, 0.9166666666666666, 0.8333333333333334, 0.6666666666666666, 0.5, 0.5833333333333334, 0.5, 0.5, 0.9166666666666666, 0.8333333333333334, 0.16666666666666666, 0.9166666666666666, 0.4166666666666667, 0.9166666666666666, 0.75, 1.0, 0.5, 0.6666666666666666, 0.6666666666666666, 0.8333333333333334, 1.0, 0.5, 1.0, 1.0, 0.9166666666666666, 0.8333333333333334, 0.5, 0.25, 0.8333333333333334, 0.25, 0.9166666666666666, 0.4166666666666667, 0.3, 0.16666666666666666, 0.4166666666666667, 0.75, 0.75, 0.9166666666666666, 0.4166666666666667, 0.5, 0.8333333333333334, 0.75, 0.8181818181818182, 0.9166666666666666, 0.9166666666666666, 0.5833333333333334, 0.8333333333333334, 0.8333333333333334, 0.9166666666666666, 0.9166666666666666, 0.9166666666666666, 0.8, 0.9166666666666666, 0.8333333333333334, 1.0, 0.8333333333333334, 0.9166666666666666, 0.9166666666666666, 0.08333333333333333, 0.75, 0.8333333333333334, 1.0, 0.9166666666666666, 0.75, 0.5, 0.8333333333333334, 0.75, 1.0, 0.9, 0.4166666666666667, 0.4166666666666667, 0.5833333333333334, 0.2, 0.9166666666666666, 0.25, 0.6666666666666666, 1.0, 0.8333333333333334, 0.6666666666666666, 0.3333333333333333, 0.5, 0.9166666666666666, 0.5833333333333334, 0.5833333333333334, 0.5833333333333334, 0.3333333333333333, 0.75, 0.6666666666666666, 0.25, 0.75, 0.6666666666666666, 0.5, 0.5833333333333334, 0.5, 0.3333333333333333, 0.5833333333333334, 0.4166666666666667, 0.4166666666666667, 0.5, 0.8333333333333334, 0.5833333333333334, 0.8333333333333334, 0.5833333333333334, 0.5833333333333334, 0.6666666666666666, 0.9166666666666666, 0.9166666666666666, 0.8333333333333334, 0.8181818181818182, 0.25, 0.3333333333333333, 0.16666666666666666, 0.5, 0.3333333333333333, 0.8333333333333334, 0.8333333333333334, 0.6666666666666666, 0.5833333333333334, 0.6, 0.3333333333333333, 0.5, 0.8333333333333334, 0.3333333333333333, 0.75, 0.5, 0.8333333333333334, 0.9166666666666666, 0.8333333333333334, 0.5, 0.5, 0.8333333333333334, 0.8333333333333334, 0.75, 0.9166666666666666, 0.75, 0.75, 0.8333333333333334, 0.6666666666666666, 0.8333333333333334, 0.9166666666666666, 0.6666666666666666, 0.3333333333333333, 0.5833333333333334, 1.0, 0.9166666666666666, 0.5454545454545454, 0.25, 0.6666666666666666, 0.6666666666666666, 0.6666666666666666, 0.6666666666666666, 0.4166666666666667, 0.75, 0.75, 0.4, 0.8333333333333334, 1.0, 0.8181818181818182, 0.8333333333333334, 0.9166666666666666, 0.5, 0.8333333333333334, 0.6666666666666666, 0.4166666666666667, 0.6666666666666666, 0.8333333333333334, 0.75, 0.9166666666666666]}\n"
     ]
    }
   ],
   "source": [
    "accuracies = accuracy_calculator.get_accuracy(\n",
    "        test_embeddings, test_labels, train_embeddings, train_labels)\n",
    "print(accuracies)"
   ]
  },
  {
   "cell_type": "code",
   "execution_count": 36,
   "id": "66e97839-85a9-4d96-80f3-1c29e80ccf81",
   "metadata": {},
   "outputs": [],
   "source": [
    "data_dict = {v:k for k,v in class_dict.items()}"
   ]
  },
  {
   "cell_type": "code",
   "execution_count": 37,
   "id": "a0bbe361-a4e0-4ff3-a62d-4abc0aea8099",
   "metadata": {},
   "outputs": [
    {
     "name": "stdout",
     "output_type": "stream",
     "text": [
      "001.Black_footed_Albatross     test samples 12   , training samples 48   : [0.8333333333333334]\n",
      "002.Laysan_Albatross           test samples 12   , training samples 48   : [0.75]\n",
      "003.Sooty_Albatross            test samples 12   , training samples 46   : [0.3333333333333333]\n",
      "004.Groove_billed_Ani          test samples 12   , training samples 48   : [0.75]\n",
      "005.Crested_Auklet             test samples 9    , training samples 35   : [0.7777777777777778]\n",
      "006.Least_Auklet               test samples 8    , training samples 33   : [0.5]\n",
      "007.Parakeet_Auklet            test samples 10   , training samples 43   : [1.0]\n",
      "008.Rhinoceros_Auklet          test samples 9    , training samples 39   : [0.5555555555555556]\n",
      "009.Brewer_Blackbird           test samples 12   , training samples 47   : [0.25]\n",
      "010.Red_winged_Blackbird       test samples 12   , training samples 48   : [0.75]\n",
      "011.Rusty_Blackbird            test samples 12   , training samples 48   : [0.4166666666666667]\n",
      "012.Yellow_headed_Blackbird    test samples 11   , training samples 45   : [1.0]\n",
      "013.Bobolink                   test samples 12   , training samples 48   : [0.6666666666666666]\n",
      "014.Indigo_Bunting             test samples 12   , training samples 48   : [0.8333333333333334]\n",
      "015.Lazuli_Bunting             test samples 11   , training samples 47   : [0.7272727272727273]\n",
      "016.Painted_Bunting            test samples 11   , training samples 47   : [0.7272727272727273]\n",
      "017.Cardinal                   test samples 11   , training samples 46   : [0.6363636363636364]\n",
      "018.Spotted_Catbird            test samples 9    , training samples 36   : [0.8888888888888888]\n",
      "019.Gray_Catbird               test samples 12   , training samples 47   : [0.75]\n",
      "020.Yellow_breasted_Chat       test samples 12   , training samples 47   : [0.25]\n",
      "021.Eastern_Towhee             test samples 12   , training samples 48   : [0.75]\n",
      "022.Chuck_will_Widow           test samples 11   , training samples 45   : [0.2727272727272727]\n",
      "023.Brandt_Cormorant           test samples 12   , training samples 47   : [0.5833333333333334]\n",
      "024.Red_faced_Cormorant        test samples 10   , training samples 42   : [0.8]\n",
      "025.Pelagic_Cormorant          test samples 12   , training samples 48   : [0.16666666666666666]\n",
      "026.Bronzed_Cowbird            test samples 12   , training samples 48   : [0.6666666666666666]\n",
      "027.Shiny_Cowbird              test samples 12   , training samples 48   : [0.4166666666666667]\n",
      "028.Brown_Creeper              test samples 12   , training samples 47   : [1.0]\n",
      "029.American_Crow              test samples 12   , training samples 48   : [0.16666666666666666]\n",
      "030.Fish_Crow                  test samples 12   , training samples 48   : [0.25]\n",
      "031.Black_billed_Cuckoo        test samples 12   , training samples 48   : [0.5833333333333334]\n",
      "032.Mangrove_Cuckoo            test samples 10   , training samples 43   : [0.5]\n",
      "033.Yellow_billed_Cuckoo       test samples 12   , training samples 47   : [0.5833333333333334]\n",
      "034.Gray_crowned_Rosy_Finch    test samples 12   , training samples 47   : [0.9166666666666666]\n",
      "035.Purple_Finch               test samples 12   , training samples 48   : [0.8333333333333334]\n",
      "036.Northern_Flicker           test samples 12   , training samples 48   : [0.6666666666666666]\n",
      "037.Acadian_Flycatcher         test samples 12   , training samples 47   : [0.5]\n",
      "038.Great_Crested_Flycatcher   test samples 12   , training samples 48   : [0.5833333333333334]\n",
      "039.Least_Flycatcher           test samples 12   , training samples 47   : [0.5]\n",
      "040.Olive_sided_Flycatcher     test samples 12   , training samples 48   : [0.5]\n",
      "041.Scissor_tailed_Flycatcher  test samples 12   , training samples 48   : [0.9166666666666666]\n",
      "042.Vermilion_Flycatcher       test samples 12   , training samples 48   : [0.8333333333333334]\n",
      "043.Yellow_bellied_Flycatcher  test samples 12   , training samples 47   : [0.16666666666666666]\n",
      "044.Frigatebird                test samples 12   , training samples 48   : [0.9166666666666666]\n",
      "045.Northern_Fulmar            test samples 12   , training samples 48   : [0.4166666666666667]\n",
      "046.Gadwall                    test samples 12   , training samples 48   : [0.9166666666666666]\n",
      "047.American_Goldfinch         test samples 12   , training samples 48   : [0.75]\n",
      "048.European_Goldfinch         test samples 12   , training samples 48   : [1.0]\n",
      "049.Boat_tailed_Grackle        test samples 12   , training samples 48   : [0.5]\n",
      "050.Eared_Grebe                test samples 12   , training samples 48   : [0.6666666666666666]\n",
      "051.Horned_Grebe               test samples 12   , training samples 48   : [0.6666666666666666]\n",
      "052.Pied_billed_Grebe          test samples 12   , training samples 48   : [0.8333333333333334]\n",
      "053.Western_Grebe              test samples 12   , training samples 48   : [1.0]\n",
      "054.Blue_Grosbeak              test samples 12   , training samples 48   : [0.5]\n",
      "055.Evening_Grosbeak           test samples 12   , training samples 48   : [1.0]\n",
      "056.Pine_Grosbeak              test samples 12   , training samples 48   : [1.0]\n",
      "057.Rose_breasted_Grosbeak     test samples 12   , training samples 48   : [0.9166666666666666]\n",
      "058.Pigeon_Guillemot           test samples 12   , training samples 46   : [0.8333333333333334]\n",
      "059.California_Gull            test samples 12   , training samples 48   : [0.5]\n",
      "060.Glaucous_winged_Gull       test samples 12   , training samples 47   : [0.25]\n",
      "061.Heermann_Gull              test samples 12   , training samples 48   : [0.8333333333333334]\n",
      "062.Herring_Gull               test samples 12   , training samples 48   : [0.25]\n",
      "063.Ivory_Gull                 test samples 12   , training samples 48   : [0.9166666666666666]\n",
      "064.Ring_billed_Gull           test samples 12   , training samples 48   : [0.4166666666666667]\n",
      "065.Slaty_backed_Gull          test samples 10   , training samples 40   : [0.3]\n",
      "066.Western_Gull               test samples 12   , training samples 48   : [0.16666666666666666]\n",
      "067.Anna_Hummingbird           test samples 12   , training samples 48   : [0.4166666666666667]\n",
      "068.Ruby_throated_Hummingbird  test samples 12   , training samples 48   : [0.75]\n",
      "069.Rufous_Hummingbird         test samples 12   , training samples 48   : [0.75]\n",
      "070.Green_Violetear            test samples 12   , training samples 48   : [0.9166666666666666]\n",
      "071.Long_tailed_Jaeger         test samples 12   , training samples 48   : [0.4166666666666667]\n",
      "072.Pomarine_Jaeger            test samples 12   , training samples 48   : [0.5]\n",
      "073.Blue_Jay                   test samples 12   , training samples 48   : [0.8333333333333334]\n",
      "074.Florida_Jay                test samples 12   , training samples 48   : [0.75]\n",
      "075.Green_Jay                  test samples 11   , training samples 46   : [0.8181818181818182]\n",
      "076.Dark_eyed_Junco            test samples 12   , training samples 48   : [0.9166666666666666]\n",
      "077.Tropical_Kingbird          test samples 12   , training samples 48   : [0.9166666666666666]\n",
      "078.Gray_Kingbird              test samples 12   , training samples 47   : [0.5833333333333334]\n",
      "079.Belted_Kingfisher          test samples 12   , training samples 48   : [0.8333333333333334]\n",
      "080.Green_Kingfisher           test samples 12   , training samples 48   : [0.8333333333333334]\n",
      "081.Pied_Kingfisher            test samples 12   , training samples 48   : [0.9166666666666666]\n",
      "082.Ringed_Kingfisher          test samples 12   , training samples 48   : [0.9166666666666666]\n",
      "083.White_breasted_Kingfisher  test samples 12   , training samples 48   : [0.9166666666666666]\n",
      "084.Red_legged_Kittiwake       test samples 10   , training samples 43   : [0.8]\n",
      "085.Horned_Lark                test samples 12   , training samples 48   : [0.9166666666666666]\n",
      "086.Pacific_Loon               test samples 12   , training samples 48   : [0.8333333333333334]\n",
      "087.Mallard                    test samples 12   , training samples 48   : [1.0]\n",
      "088.Western_Meadowlark         test samples 12   , training samples 48   : [0.8333333333333334]\n",
      "089.Hooded_Merganser           test samples 12   , training samples 48   : [0.9166666666666666]\n",
      "090.Red_breasted_Merganser     test samples 12   , training samples 48   : [0.9166666666666666]\n",
      "091.Mockingbird                test samples 12   , training samples 48   : [0.08333333333333333]\n",
      "092.Nighthawk                  test samples 12   , training samples 48   : [0.75]\n",
      "093.Clark_Nutcracker           test samples 12   , training samples 48   : [0.8333333333333334]\n",
      "094.White_breasted_Nuthatch    test samples 12   , training samples 48   : [1.0]\n",
      "095.Baltimore_Oriole           test samples 12   , training samples 48   : [0.9166666666666666]\n",
      "096.Hooded_Oriole              test samples 12   , training samples 48   : [0.75]\n",
      "097.Orchard_Oriole             test samples 12   , training samples 47   : [0.5]\n",
      "098.Scott_Oriole               test samples 12   , training samples 48   : [0.8333333333333334]\n",
      "099.Ovenbird                   test samples 12   , training samples 48   : [0.75]\n",
      "100.Brown_Pelican              test samples 12   , training samples 48   : [1.0]\n",
      "101.White_Pelican              test samples 10   , training samples 40   : [0.9]\n",
      "102.Western_Wood_Pewee         test samples 12   , training samples 48   : [0.4166666666666667]\n",
      "103.Sayornis                   test samples 12   , training samples 48   : [0.4166666666666667]\n",
      "104.American_Pipit             test samples 12   , training samples 48   : [0.5833333333333334]\n",
      "105.Whip_poor_Will             test samples 10   , training samples 39   : [0.2]\n",
      "106.Horned_Puffin              test samples 12   , training samples 48   : [0.9166666666666666]\n",
      "107.Common_Raven               test samples 12   , training samples 47   : [0.25]\n",
      "108.White_necked_Raven         test samples 12   , training samples 48   : [0.6666666666666666]\n",
      "109.American_Redstart          test samples 12   , training samples 48   : [1.0]\n",
      "110.Geococcyx                  test samples 12   , training samples 48   : [0.8333333333333334]\n",
      "111.Loggerhead_Shrike          test samples 12   , training samples 48   : [0.6666666666666666]\n",
      "112.Great_Grey_Shrike          test samples 12   , training samples 48   : [0.3333333333333333]\n",
      "113.Baird_Sparrow              test samples 10   , training samples 40   : [0.5]\n",
      "114.Black_throated_Sparrow     test samples 12   , training samples 48   : [0.9166666666666666]\n",
      "115.Brewer_Sparrow             test samples 12   , training samples 47   : [0.5833333333333334]\n",
      "116.Chipping_Sparrow           test samples 12   , training samples 48   : [0.5833333333333334]\n",
      "117.Clay_colored_Sparrow       test samples 12   , training samples 47   : [0.5833333333333334]\n",
      "118.House_Sparrow              test samples 12   , training samples 48   : [0.3333333333333333]\n",
      "119.Field_Sparrow              test samples 12   , training samples 47   : [0.75]\n",
      "120.Fox_Sparrow                test samples 12   , training samples 48   : [0.6666666666666666]\n",
      "121.Grasshopper_Sparrow        test samples 12   , training samples 48   : [0.25]\n",
      "122.Harris_Sparrow             test samples 12   , training samples 48   : [0.75]\n",
      "123.Henslow_Sparrow            test samples 12   , training samples 48   : [0.6666666666666666]\n",
      "124.Le_Conte_Sparrow           test samples 12   , training samples 47   : [0.5]\n",
      "125.Lincoln_Sparrow            test samples 12   , training samples 47   : [0.5833333333333334]\n",
      "126.Nelson_Sharp_tailed_Sparrow test samples 12   , training samples 47   : [0.5]\n",
      "127.Savannah_Sparrow           test samples 12   , training samples 48   : [0.3333333333333333]\n",
      "128.Seaside_Sparrow            test samples 12   , training samples 48   : [0.5833333333333334]\n",
      "129.Song_Sparrow               test samples 12   , training samples 48   : [0.4166666666666667]\n",
      "130.Tree_Sparrow               test samples 12   , training samples 48   : [0.4166666666666667]\n",
      "131.Vesper_Sparrow             test samples 12   , training samples 48   : [0.5]\n",
      "132.White_crowned_Sparrow      test samples 12   , training samples 48   : [0.8333333333333334]\n",
      "133.White_throated_Sparrow     test samples 12   , training samples 48   : [0.5833333333333334]\n",
      "134.Cape_Glossy_Starling       test samples 12   , training samples 48   : [0.8333333333333334]\n",
      "135.Bank_Swallow               test samples 12   , training samples 47   : [0.5833333333333334]\n",
      "136.Barn_Swallow               test samples 12   , training samples 48   : [0.5833333333333334]\n",
      "137.Cliff_Swallow              test samples 12   , training samples 48   : [0.6666666666666666]\n",
      "138.Tree_Swallow               test samples 12   , training samples 48   : [0.9166666666666666]\n",
      "139.Scarlet_Tanager            test samples 12   , training samples 48   : [0.9166666666666666]\n",
      "140.Summer_Tanager             test samples 12   , training samples 48   : [0.8333333333333334]\n",
      "141.Artic_Tern                 test samples 11   , training samples 47   : [0.8181818181818182]\n",
      "142.Black_Tern                 test samples 12   , training samples 48   : [0.25]\n",
      "143.Caspian_Tern               test samples 12   , training samples 48   : [0.3333333333333333]\n",
      "144.Common_Tern                test samples 12   , training samples 48   : [0.16666666666666666]\n",
      "145.Elegant_Tern               test samples 12   , training samples 48   : [0.5]\n",
      "146.Forsters_Tern              test samples 12   , training samples 48   : [0.3333333333333333]\n",
      "147.Least_Tern                 test samples 12   , training samples 48   : [0.8333333333333334]\n",
      "148.Green_tailed_Towhee        test samples 12   , training samples 48   : [0.8333333333333334]\n",
      "149.Brown_Thrasher             test samples 12   , training samples 47   : [0.6666666666666666]\n",
      "150.Sage_Thrasher              test samples 12   , training samples 48   : [0.5833333333333334]\n",
      "151.Black_capped_Vireo         test samples 10   , training samples 41   : [0.6]\n",
      "152.Blue_headed_Vireo          test samples 12   , training samples 48   : [0.3333333333333333]\n",
      "153.Philadelphia_Vireo         test samples 12   , training samples 47   : [0.5]\n",
      "154.Red_eyed_Vireo             test samples 12   , training samples 48   : [0.8333333333333334]\n",
      "155.Warbling_Vireo             test samples 12   , training samples 48   : [0.3333333333333333]\n",
      "156.White_eyed_Vireo           test samples 12   , training samples 48   : [0.75]\n",
      "157.Yellow_throated_Vireo      test samples 12   , training samples 47   : [0.5]\n",
      "158.Bay_breasted_Warbler       test samples 12   , training samples 48   : [0.8333333333333334]\n",
      "159.Black_and_white_Warbler    test samples 12   , training samples 48   : [0.9166666666666666]\n",
      "160.Black_throated_Blue_Warbler test samples 12   , training samples 47   : [0.8333333333333334]\n",
      "161.Blue_winged_Warbler        test samples 12   , training samples 48   : [0.5]\n",
      "162.Canada_Warbler             test samples 12   , training samples 48   : [0.5]\n",
      "163.Cape_May_Warbler           test samples 12   , training samples 48   : [0.8333333333333334]\n",
      "164.Cerulean_Warbler           test samples 12   , training samples 48   : [0.8333333333333334]\n",
      "165.Chestnut_sided_Warbler     test samples 12   , training samples 48   : [0.75]\n",
      "166.Golden_winged_Warbler      test samples 12   , training samples 47   : [0.9166666666666666]\n",
      "167.Hooded_Warbler             test samples 12   , training samples 48   : [0.75]\n",
      "168.Kentucky_Warbler           test samples 12   , training samples 47   : [0.75]\n",
      "169.Magnolia_Warbler           test samples 12   , training samples 47   : [0.8333333333333334]\n",
      "170.Mourning_Warbler           test samples 12   , training samples 48   : [0.6666666666666666]\n",
      "171.Myrtle_Warbler             test samples 12   , training samples 48   : [0.8333333333333334]\n",
      "172.Nashville_Warbler          test samples 12   , training samples 48   : [0.9166666666666666]\n",
      "173.Orange_crowned_Warbler     test samples 12   , training samples 48   : [0.6666666666666666]\n",
      "174.Palm_Warbler               test samples 12   , training samples 48   : [0.3333333333333333]\n",
      "175.Pine_Warbler               test samples 12   , training samples 48   : [0.5833333333333334]\n",
      "176.Prairie_Warbler            test samples 12   , training samples 48   : [1.0]\n",
      "177.Prothonotary_Warbler       test samples 12   , training samples 48   : [0.9166666666666666]\n",
      "178.Swainson_Warbler           test samples 11   , training samples 45   : [0.5454545454545454]\n",
      "179.Tennessee_Warbler          test samples 12   , training samples 47   : [0.25]\n",
      "180.Wilson_Warbler             test samples 12   , training samples 48   : [0.6666666666666666]\n",
      "181.Worm_eating_Warbler        test samples 12   , training samples 47   : [0.6666666666666666]\n",
      "182.Yellow_Warbler             test samples 12   , training samples 48   : [0.6666666666666666]\n",
      "183.Northern_Waterthrush       test samples 12   , training samples 48   : [0.6666666666666666]\n",
      "184.Louisiana_Waterthrush      test samples 12   , training samples 48   : [0.4166666666666667]\n",
      "185.Bohemian_Waxwing           test samples 12   , training samples 48   : [0.75]\n",
      "186.Cedar_Waxwing              test samples 12   , training samples 48   : [0.75]\n",
      "187.American_Three_toed_Woodpecker test samples 10   , training samples 40   : [0.4]\n",
      "188.Pileated_Woodpecker        test samples 12   , training samples 48   : [0.8333333333333334]\n",
      "189.Red_bellied_Woodpecker     test samples 12   , training samples 48   : [1.0]\n",
      "190.Red_cockaded_Woodpecker    test samples 11   , training samples 47   : [0.8181818181818182]\n",
      "191.Red_headed_Woodpecker      test samples 12   , training samples 48   : [0.8333333333333334]\n",
      "192.Downy_Woodpecker           test samples 12   , training samples 48   : [0.9166666666666666]\n",
      "193.Bewick_Wren                test samples 12   , training samples 48   : [0.5]\n",
      "194.Cactus_Wren                test samples 12   , training samples 48   : [0.8333333333333334]\n",
      "195.Carolina_Wren              test samples 12   , training samples 48   : [0.6666666666666666]\n",
      "196.House_Wren                 test samples 12   , training samples 47   : [0.4166666666666667]\n",
      "197.Marsh_Wren                 test samples 12   , training samples 48   : [0.6666666666666666]\n",
      "198.Rock_Wren                  test samples 12   , training samples 48   : [0.8333333333333334]\n",
      "199.Winter_Wren                test samples 12   , training samples 48   : [0.75]\n",
      "200.Common_Yellowthroat        test samples 12   , training samples 48   : [0.9166666666666666]\n"
     ]
    }
   ],
   "source": [
    "acc_dict = {}\n",
    "for i in test_labels.unique():\n",
    "    new_labels = test_labels[test_labels==i]\n",
    "    new_embeddings = test_embeddings[test_labels==i]\n",
    "    accuracies = accuracy_calculator.get_accuracy(\n",
    "        new_embeddings, new_labels, train_embeddings, train_labels, False\n",
    "    )\n",
    "    acc_dict[data_dict[int(i.detach().cpu().numpy())]]=[ \n",
    "                  len(new_labels),\n",
    "                  len(train_labels[train_labels==i]),\n",
    "                  accuracies[\"precision_at_1\"][0]]\n",
    "    print(\"{:<30} test samples {:<5}, training samples {:<5}: {}\".format(data_dict[int(i.detach().cpu().numpy())],\n",
    "                                                                  len(new_labels),\n",
    "                                                                  len(train_labels[train_labels==i]),\n",
    "                                                                  accuracies[\"precision_at_1\"]))"
   ]
  },
  {
   "cell_type": "code",
   "execution_count": 38,
   "id": "971a3f40-43ba-47d0-b313-b6f86dd13d81",
   "metadata": {},
   "outputs": [],
   "source": [
    "all_table = [[k]+v for k,v in acc_dict.items()]"
   ]
  },
  {
   "cell_type": "code",
   "execution_count": 39,
   "id": "c4d9d6d7-2f79-410e-9e8d-b03d5df6092d",
   "metadata": {},
   "outputs": [],
   "source": [
    "columns = [\"class_name\", \"no. of test samples\", \"no. of train samples\", \"precision@1\"]\n",
    "train_table = wandb.Table(data=all_table, columns=columns)"
   ]
  },
  {
   "cell_type": "code",
   "execution_count": 40,
   "id": "76dc029c-15da-4f8d-9a24-d2a6e13e4e3f",
   "metadata": {},
   "outputs": [],
   "source": [
    "run.log({\"all_classes_metrics\": train_table})"
   ]
  },
  {
   "cell_type": "code",
   "execution_count": 41,
   "id": "48f001d0-dfdb-49ca-bee6-de0cda9c846b",
   "metadata": {
    "scrolled": true
   },
   "outputs": [
    {
     "name": "stderr",
     "output_type": "stream",
     "text": [
      "100%|█████████████████████████████████████████████████████████████████████████████████████████████████████| 295/295 [00:17<00:00, 16.84it/s]\n",
      "100%|███████████████████████████████████████████████████████████████████████████████████████████████████████| 74/74 [00:04<00:00, 18.18it/s]\n"
     ]
    }
   ],
   "source": [
    "train_embeddings, train_labels = get_all_embeddings(train_dataset, model)\n",
    "test_embeddings, test_labels = get_all_embeddings(test_dataset, model)\n",
    "train_labels = train_labels.squeeze(1)\n",
    "test_labels = test_labels.squeeze(1)"
   ]
  },
  {
   "cell_type": "code",
   "execution_count": 42,
   "id": "3a95fea1-6b58-4dcf-aeb7-de1a40ee731b",
   "metadata": {},
   "outputs": [],
   "source": [
    "import faiss\n",
    "# Create a Faiss index\n",
    "index = faiss.IndexFlatIP(config['embedding_dim'])\n",
    "# Add some vectors to the index\n",
    "index.add(train_embeddings.detach().cpu().numpy())"
   ]
  },
  {
   "cell_type": "code",
   "execution_count": 43,
   "id": "b7865da3-0493-4c18-b748-9ed4858e4168",
   "metadata": {},
   "outputs": [],
   "source": [
    "pred_labels = [] \n",
    "for embedding,label in zip(test_embeddings.detach().cpu().numpy(),test_labels):\n",
    "    _, indices = index.search(embedding.reshape(1,-1).astype(np.float32), 1)\n",
    "    pred_class = train_labels[indices[0][0]]\n",
    "    pred_labels.append(pred_class)"
   ]
  },
  {
   "cell_type": "code",
   "execution_count": 44,
   "id": "4dfd3a2f-3e63-45ec-9429-abb80862949d",
   "metadata": {},
   "outputs": [],
   "source": [
    "pred_labels = [i.detach().cpu().numpy() for i in pred_labels]"
   ]
  },
  {
   "cell_type": "code",
   "execution_count": 45,
   "id": "09e38eb6-ef8a-4a3d-bd0d-41939ffe9133",
   "metadata": {
    "scrolled": true
   },
   "outputs": [],
   "source": [
    "from sklearn.metrics import classification_report\n",
    "report = classification_report(test_labels.detach().cpu().numpy(), pred_labels, target_names=list(class_dict.keys()),output_dict=True)"
   ]
  },
  {
   "cell_type": "code",
   "execution_count": 46,
   "id": "bc382f16-271b-482f-ba83-7d9f2e382e81",
   "metadata": {},
   "outputs": [
    {
     "name": "stdout",
     "output_type": "stream",
     "text": [
      "                                    precision    recall  f1-score   support\n",
      "\n",
      "        001.Black_footed_Albatross       0.45      0.83      0.59        12\n",
      "              002.Laysan_Albatross       0.54      0.58      0.56        12\n",
      "               003.Sooty_Albatross       0.56      0.42      0.48        12\n",
      "             004.Groove_billed_Ani       0.71      0.83      0.77        12\n",
      "                005.Crested_Auklet       0.90      1.00      0.95         9\n",
      "                  006.Least_Auklet       0.83      0.62      0.71         8\n",
      "               007.Parakeet_Auklet       0.91      1.00      0.95        10\n",
      "             008.Rhinoceros_Auklet       1.00      0.56      0.71         9\n",
      "              009.Brewer_Blackbird       0.43      0.25      0.32        12\n",
      "          010.Red_winged_Blackbird       1.00      0.92      0.96        12\n",
      "               011.Rusty_Blackbird       0.67      0.33      0.44        12\n",
      "       012.Yellow_headed_Blackbird       0.92      1.00      0.96        11\n",
      "                      013.Bobolink       0.91      0.83      0.87        12\n",
      "                014.Indigo_Bunting       0.47      0.67      0.55        12\n",
      "                015.Lazuli_Bunting       0.80      0.73      0.76        11\n",
      "               016.Painted_Bunting       1.00      0.73      0.84        11\n",
      "                      017.Cardinal       1.00      0.64      0.78        11\n",
      "               018.Spotted_Catbird       0.89      0.89      0.89         9\n",
      "                  019.Gray_Catbird       0.71      0.83      0.77        12\n",
      "          020.Yellow_breasted_Chat       0.56      0.42      0.48        12\n",
      "                021.Eastern_Towhee       1.00      0.67      0.80        12\n",
      "              022.Chuck_will_Widow       0.64      0.64      0.64        11\n",
      "              023.Brandt_Cormorant       0.44      0.33      0.38        12\n",
      "           024.Red_faced_Cormorant       0.64      0.90      0.75        10\n",
      "             025.Pelagic_Cormorant       0.44      0.58      0.50        12\n",
      "               026.Bronzed_Cowbird       0.73      0.67      0.70        12\n",
      "                 027.Shiny_Cowbird       0.36      0.42      0.38        12\n",
      "                 028.Brown_Creeper       0.79      0.92      0.85        12\n",
      "                 029.American_Crow       0.27      0.58      0.37        12\n",
      "                     030.Fish_Crow       0.12      0.08      0.10        12\n",
      "           031.Black_billed_Cuckoo       0.80      0.67      0.73        12\n",
      "               032.Mangrove_Cuckoo       0.60      0.60      0.60        10\n",
      "          033.Yellow_billed_Cuckoo       0.47      0.58      0.52        12\n",
      "       034.Gray_crowned_Rosy_Finch       0.83      0.83      0.83        12\n",
      "                  035.Purple_Finch       0.92      0.92      0.92        12\n",
      "              036.Northern_Flicker       1.00      0.83      0.91        12\n",
      "            037.Acadian_Flycatcher       0.38      0.25      0.30        12\n",
      "      038.Great_Crested_Flycatcher       0.89      0.67      0.76        12\n",
      "              039.Least_Flycatcher       0.23      0.25      0.24        12\n",
      "        040.Olive_sided_Flycatcher       0.45      0.42      0.43        12\n",
      "     041.Scissor_tailed_Flycatcher       0.73      0.92      0.81        12\n",
      "          042.Vermilion_Flycatcher       0.83      0.83      0.83        12\n",
      "     043.Yellow_bellied_Flycatcher       0.21      0.25      0.23        12\n",
      "                   044.Frigatebird       0.90      0.75      0.82        12\n",
      "               045.Northern_Fulmar       0.71      0.42      0.53        12\n",
      "                       046.Gadwall       0.73      0.92      0.81        12\n",
      "            047.American_Goldfinch       0.71      0.83      0.77        12\n",
      "            048.European_Goldfinch       0.86      1.00      0.92        12\n",
      "           049.Boat_tailed_Grackle       0.36      0.33      0.35        12\n",
      "                   050.Eared_Grebe       0.64      0.75      0.69        12\n",
      "                  051.Horned_Grebe       0.89      0.67      0.76        12\n",
      "             052.Pied_billed_Grebe       0.65      0.92      0.76        12\n",
      "                 053.Western_Grebe       0.77      0.83      0.80        12\n",
      "                 054.Blue_Grosbeak       0.45      0.42      0.43        12\n",
      "              055.Evening_Grosbeak       1.00      1.00      1.00        12\n",
      "                 056.Pine_Grosbeak       0.82      0.75      0.78        12\n",
      "        057.Rose_breasted_Grosbeak       0.92      1.00      0.96        12\n",
      "              058.Pigeon_Guillemot       0.80      0.67      0.73        12\n",
      "               059.California_Gull       0.23      0.25      0.24        12\n",
      "          060.Glaucous_winged_Gull       0.17      0.17      0.17        12\n",
      "                 061.Heermann_Gull       0.77      0.83      0.80        12\n",
      "                  062.Herring_Gull       0.38      0.25      0.30        12\n",
      "                    063.Ivory_Gull       0.67      0.83      0.74        12\n",
      "              064.Ring_billed_Gull       0.18      0.17      0.17        12\n",
      "             065.Slaty_backed_Gull       1.00      0.40      0.57        10\n",
      "                  066.Western_Gull       0.35      0.58      0.44        12\n",
      "              067.Anna_Hummingbird       0.75      0.50      0.60        12\n",
      "     068.Ruby_throated_Hummingbird       0.75      0.75      0.75        12\n",
      "            069.Rufous_Hummingbird       0.75      0.75      0.75        12\n",
      "               070.Green_Violetear       0.85      0.92      0.88        12\n",
      "            071.Long_tailed_Jaeger       0.57      0.33      0.42        12\n",
      "               072.Pomarine_Jaeger       0.56      0.42      0.48        12\n",
      "                      073.Blue_Jay       1.00      0.83      0.91        12\n",
      "                   074.Florida_Jay       0.90      0.75      0.82        12\n",
      "                     075.Green_Jay       1.00      0.91      0.95        11\n",
      "               076.Dark_eyed_Junco       0.91      0.83      0.87        12\n",
      "             077.Tropical_Kingbird       0.92      0.92      0.92        12\n",
      "                 078.Gray_Kingbird       0.70      0.58      0.64        12\n",
      "             079.Belted_Kingfisher       0.62      0.83      0.71        12\n",
      "              080.Green_Kingfisher       0.73      0.67      0.70        12\n",
      "               081.Pied_Kingfisher       1.00      0.92      0.96        12\n",
      "             082.Ringed_Kingfisher       0.60      0.75      0.67        12\n",
      "     083.White_breasted_Kingfisher       0.92      0.92      0.92        12\n",
      "          084.Red_legged_Kittiwake       0.90      0.90      0.90        10\n",
      "                   085.Horned_Lark       0.82      0.75      0.78        12\n",
      "                  086.Pacific_Loon       0.62      0.67      0.64        12\n",
      "                       087.Mallard       1.00      0.92      0.96        12\n",
      "            088.Western_Meadowlark       0.92      0.92      0.92        12\n",
      "              089.Hooded_Merganser       0.83      0.83      0.83        12\n",
      "        090.Red_breasted_Merganser       0.77      0.83      0.80        12\n",
      "                   091.Mockingbird       0.40      0.17      0.24        12\n",
      "                     092.Nighthawk       0.67      0.67      0.67        12\n",
      "              093.Clark_Nutcracker       0.91      0.83      0.87        12\n",
      "       094.White_breasted_Nuthatch       1.00      1.00      1.00        12\n",
      "              095.Baltimore_Oriole       0.79      0.92      0.85        12\n",
      "                 096.Hooded_Oriole       0.80      0.67      0.73        12\n",
      "                097.Orchard_Oriole       0.62      0.42      0.50        12\n",
      "                  098.Scott_Oriole       0.77      0.83      0.80        12\n",
      "                      099.Ovenbird       0.73      0.67      0.70        12\n",
      "                 100.Brown_Pelican       1.00      0.92      0.96        12\n",
      "                 101.White_Pelican       0.90      0.90      0.90        10\n",
      "            102.Western_Wood_Pewee       0.21      0.25      0.23        12\n",
      "                      103.Sayornis       0.50      0.50      0.50        12\n",
      "                104.American_Pipit       0.33      0.33      0.33        12\n",
      "                105.Whip_poor_Will       0.75      0.60      0.67        10\n",
      "                 106.Horned_Puffin       1.00      0.83      0.91        12\n",
      "                  107.Common_Raven       0.27      0.25      0.26        12\n",
      "            108.White_necked_Raven       0.60      0.50      0.55        12\n",
      "             109.American_Redstart       0.71      1.00      0.83        12\n",
      "                     110.Geococcyx       0.75      0.75      0.75        12\n",
      "             111.Loggerhead_Shrike       0.50      0.67      0.57        12\n",
      "             112.Great_Grey_Shrike       0.33      0.25      0.29        12\n",
      "                 113.Baird_Sparrow       0.45      0.50      0.48        10\n",
      "        114.Black_throated_Sparrow       0.52      0.92      0.67        12\n",
      "                115.Brewer_Sparrow       0.40      0.33      0.36        12\n",
      "              116.Chipping_Sparrow       0.37      0.58      0.45        12\n",
      "          117.Clay_colored_Sparrow       0.35      0.50      0.41        12\n",
      "                 118.House_Sparrow       0.50      0.25      0.33        12\n",
      "                 119.Field_Sparrow       0.47      0.58      0.52        12\n",
      "                   120.Fox_Sparrow       0.69      0.75      0.72        12\n",
      "           121.Grasshopper_Sparrow       0.38      0.25      0.30        12\n",
      "                122.Harris_Sparrow       0.73      0.67      0.70        12\n",
      "               123.Henslow_Sparrow       0.62      0.67      0.64        12\n",
      "              124.Le_Conte_Sparrow       0.70      0.58      0.64        12\n",
      "               125.Lincoln_Sparrow       0.36      0.42      0.38        12\n",
      "   126.Nelson_Sharp_tailed_Sparrow       0.54      0.58      0.56        12\n",
      "              127.Savannah_Sparrow       0.36      0.42      0.38        12\n",
      "               128.Seaside_Sparrow       0.50      0.75      0.60        12\n",
      "                  129.Song_Sparrow       0.80      0.33      0.47        12\n",
      "                  130.Tree_Sparrow       0.64      0.58      0.61        12\n",
      "                131.Vesper_Sparrow       0.27      0.50      0.35        12\n",
      "         132.White_crowned_Sparrow       0.69      0.75      0.72        12\n",
      "        133.White_throated_Sparrow       0.67      0.67      0.67        12\n",
      "          134.Cape_Glossy_Starling       0.79      0.92      0.85        12\n",
      "                  135.Bank_Swallow       0.75      0.50      0.60        12\n",
      "                  136.Barn_Swallow       0.82      0.75      0.78        12\n",
      "                 137.Cliff_Swallow       0.64      0.58      0.61        12\n",
      "                  138.Tree_Swallow       1.00      0.83      0.91        12\n",
      "               139.Scarlet_Tanager       0.75      1.00      0.86        12\n",
      "                140.Summer_Tanager       0.92      0.92      0.92        12\n",
      "                    141.Artic_Tern       0.39      0.64      0.48        11\n",
      "                    142.Black_Tern       0.20      0.17      0.18        12\n",
      "                  143.Caspian_Tern       0.38      0.25      0.30        12\n",
      "                   144.Common_Tern       0.38      0.42      0.40        12\n",
      "                  145.Elegant_Tern       0.33      0.25      0.29        12\n",
      "                 146.Forsters_Tern       0.47      0.58      0.52        12\n",
      "                    147.Least_Tern       0.91      0.83      0.87        12\n",
      "           148.Green_tailed_Towhee       1.00      0.58      0.74        12\n",
      "                149.Brown_Thrasher       0.89      0.67      0.76        12\n",
      "                 150.Sage_Thrasher       0.55      0.50      0.52        12\n",
      "            151.Black_capped_Vireo       0.86      0.60      0.71        10\n",
      "             152.Blue_headed_Vireo       0.64      0.58      0.61        12\n",
      "            153.Philadelphia_Vireo       0.43      0.75      0.55        12\n",
      "                154.Red_eyed_Vireo       0.57      0.67      0.62        12\n",
      "                155.Warbling_Vireo       0.38      0.25      0.30        12\n",
      "              156.White_eyed_Vireo       0.50      0.42      0.45        12\n",
      "         157.Yellow_throated_Vireo       0.86      0.50      0.63        12\n",
      "          158.Bay_breasted_Warbler       0.75      0.75      0.75        12\n",
      "       159.Black_and_white_Warbler       0.92      0.92      0.92        12\n",
      "   160.Black_throated_Blue_Warbler       0.89      0.67      0.76        12\n",
      "           161.Blue_winged_Warbler       0.89      0.67      0.76        12\n",
      "                162.Canada_Warbler       0.45      0.42      0.43        12\n",
      "              163.Cape_May_Warbler       0.64      0.75      0.69        12\n",
      "              164.Cerulean_Warbler       0.79      0.92      0.85        12\n",
      "        165.Chestnut_sided_Warbler       0.73      0.67      0.70        12\n",
      "         166.Golden_winged_Warbler       0.92      0.92      0.92        12\n",
      "                167.Hooded_Warbler       0.73      0.92      0.81        12\n",
      "              168.Kentucky_Warbler       0.67      0.67      0.67        12\n",
      "              169.Magnolia_Warbler       0.77      0.83      0.80        12\n",
      "              170.Mourning_Warbler       0.67      0.83      0.74        12\n",
      "                171.Myrtle_Warbler       0.83      0.83      0.83        12\n",
      "             172.Nashville_Warbler       0.77      0.83      0.80        12\n",
      "        173.Orange_crowned_Warbler       0.42      0.67      0.52        12\n",
      "                  174.Palm_Warbler       0.57      0.33      0.42        12\n",
      "                  175.Pine_Warbler       0.62      0.42      0.50        12\n",
      "               176.Prairie_Warbler       0.61      0.92      0.73        12\n",
      "          177.Prothonotary_Warbler       0.69      0.92      0.79        12\n",
      "              178.Swainson_Warbler       0.62      0.73      0.67        11\n",
      "             179.Tennessee_Warbler       0.20      0.33      0.25        12\n",
      "                180.Wilson_Warbler       0.80      0.67      0.73        12\n",
      "           181.Worm_eating_Warbler       0.78      0.58      0.67        12\n",
      "                182.Yellow_Warbler       0.64      0.58      0.61        12\n",
      "          183.Northern_Waterthrush       0.46      0.50      0.48        12\n",
      "         184.Louisiana_Waterthrush       0.64      0.58      0.61        12\n",
      "              185.Bohemian_Waxwing       1.00      0.83      0.91        12\n",
      "                 186.Cedar_Waxwing       0.79      0.92      0.85        12\n",
      "187.American_Three_toed_Woodpecker       0.89      0.80      0.84        10\n",
      "           188.Pileated_Woodpecker       1.00      0.83      0.91        12\n",
      "        189.Red_bellied_Woodpecker       0.86      1.00      0.92        12\n",
      "       190.Red_cockaded_Woodpecker       0.80      0.73      0.76        11\n",
      "         191.Red_headed_Woodpecker       0.83      0.83      0.83        12\n",
      "              192.Downy_Woodpecker       0.85      0.92      0.88        12\n",
      "                   193.Bewick_Wren       0.67      0.67      0.67        12\n",
      "                   194.Cactus_Wren       0.77      0.83      0.80        12\n",
      "                 195.Carolina_Wren       0.91      0.83      0.87        12\n",
      "                    196.House_Wren       0.67      0.33      0.44        12\n",
      "                    197.Marsh_Wren       0.58      0.58      0.58        12\n",
      "                     198.Rock_Wren       0.90      0.75      0.82        12\n",
      "                   199.Winter_Wren       0.67      0.83      0.74        12\n",
      "           200.Common_Yellowthroat       0.92      0.92      0.92        12\n",
      "\n",
      "                          accuracy                           0.66      2358\n",
      "                         macro avg       0.68      0.66      0.66      2358\n",
      "                      weighted avg       0.68      0.66      0.66      2358\n",
      "\n"
     ]
    }
   ],
   "source": [
    "print(classification_report(test_labels.detach().cpu().numpy(), pred_labels, target_names=list(class_dict.keys())))"
   ]
  },
  {
   "cell_type": "code",
   "execution_count": 47,
   "id": "1e8845dc-c978-4b7b-99e4-9729b79d87c1",
   "metadata": {},
   "outputs": [],
   "source": [
    "df = pd.DataFrame(report).transpose()"
   ]
  },
  {
   "cell_type": "code",
   "execution_count": 48,
   "id": "282eb152-50d2-46bd-ad7c-5904c9b2f0a4",
   "metadata": {},
   "outputs": [
    {
     "data": {
      "text/html": [
       "<div>\n",
       "<style scoped>\n",
       "    .dataframe tbody tr th:only-of-type {\n",
       "        vertical-align: middle;\n",
       "    }\n",
       "\n",
       "    .dataframe tbody tr th {\n",
       "        vertical-align: top;\n",
       "    }\n",
       "\n",
       "    .dataframe thead th {\n",
       "        text-align: right;\n",
       "    }\n",
       "</style>\n",
       "<table border=\"1\" class=\"dataframe\">\n",
       "  <thead>\n",
       "    <tr style=\"text-align: right;\">\n",
       "      <th></th>\n",
       "      <th>precision</th>\n",
       "      <th>recall</th>\n",
       "      <th>f1-score</th>\n",
       "      <th>support</th>\n",
       "    </tr>\n",
       "  </thead>\n",
       "  <tbody>\n",
       "    <tr>\n",
       "      <th>001.Black_footed_Albatross</th>\n",
       "      <td>0.454545</td>\n",
       "      <td>0.833333</td>\n",
       "      <td>0.588235</td>\n",
       "      <td>12.0</td>\n",
       "    </tr>\n",
       "    <tr>\n",
       "      <th>002.Laysan_Albatross</th>\n",
       "      <td>0.538462</td>\n",
       "      <td>0.583333</td>\n",
       "      <td>0.560000</td>\n",
       "      <td>12.0</td>\n",
       "    </tr>\n",
       "    <tr>\n",
       "      <th>003.Sooty_Albatross</th>\n",
       "      <td>0.555556</td>\n",
       "      <td>0.416667</td>\n",
       "      <td>0.476190</td>\n",
       "      <td>12.0</td>\n",
       "    </tr>\n",
       "    <tr>\n",
       "      <th>004.Groove_billed_Ani</th>\n",
       "      <td>0.714286</td>\n",
       "      <td>0.833333</td>\n",
       "      <td>0.769231</td>\n",
       "      <td>12.0</td>\n",
       "    </tr>\n",
       "    <tr>\n",
       "      <th>005.Crested_Auklet</th>\n",
       "      <td>0.900000</td>\n",
       "      <td>1.000000</td>\n",
       "      <td>0.947368</td>\n",
       "      <td>9.0</td>\n",
       "    </tr>\n",
       "  </tbody>\n",
       "</table>\n",
       "</div>"
      ],
      "text/plain": [
       "                            precision    recall  f1-score  support\n",
       "001.Black_footed_Albatross   0.454545  0.833333  0.588235     12.0\n",
       "002.Laysan_Albatross         0.538462  0.583333  0.560000     12.0\n",
       "003.Sooty_Albatross          0.555556  0.416667  0.476190     12.0\n",
       "004.Groove_billed_Ani        0.714286  0.833333  0.769231     12.0\n",
       "005.Crested_Auklet           0.900000  1.000000  0.947368      9.0"
      ]
     },
     "execution_count": 48,
     "metadata": {},
     "output_type": "execute_result"
    }
   ],
   "source": [
    "df.head()"
   ]
  },
  {
   "cell_type": "code",
   "execution_count": 49,
   "id": "32e24514-4ae2-4dc2-b671-781c8c3d6180",
   "metadata": {},
   "outputs": [],
   "source": [
    "df.reset_index(inplace=True)"
   ]
  },
  {
   "cell_type": "code",
   "execution_count": 50,
   "id": "71ff6ed3-bcd9-4d2e-9371-b4c409d8a76c",
   "metadata": {},
   "outputs": [],
   "source": [
    "df.rename(columns={\"index\":'class_name'},inplace=True)"
   ]
  },
  {
   "cell_type": "code",
   "execution_count": 51,
   "id": "945dce04-630d-40b1-9e3d-8738875d3bd7",
   "metadata": {},
   "outputs": [],
   "source": [
    "classification_report_table = wandb.Table(dataframe=df)"
   ]
  },
  {
   "cell_type": "code",
   "execution_count": 52,
   "id": "3a1baa45-ad12-41e6-8e44-dd5ab0ba2eb7",
   "metadata": {},
   "outputs": [],
   "source": [
    "run.log({\"all_classes_classification_report\": classification_report_table})"
   ]
  },
  {
   "cell_type": "markdown",
   "id": "bbfc4b6e-d88c-45ac-9caf-6c5f26a0d52a",
   "metadata": {},
   "source": [
    "## Removing classes from training dataset and seeing performance"
   ]
  },
  {
   "cell_type": "code",
   "execution_count": 53,
   "id": "3597a740-157c-4c24-8d23-65c675de8f7d",
   "metadata": {},
   "outputs": [],
   "source": [
    "train_image_paths = []\n",
    "train_labels = []\n",
    "for folder_path,i in class_dict.items():\n",
    "    if i >= 180:\n",
    "        break\n",
    "    folder_images = glob.glob('CUB_200_2011/images/'+'/'+str(folder_path)+'/*')\n",
    "    train_image_paths.extend(folder_images)\n",
    "    train_labels.extend([i]*len(folder_images))"
   ]
  },
  {
   "cell_type": "code",
   "execution_count": 54,
   "id": "c353dd9e-9064-4774-8244-5770ac9c53cf",
   "metadata": {},
   "outputs": [],
   "source": [
    "test_image_paths = []\n",
    "test_labels = []\n",
    "for folder_path,i in class_dict.items():\n",
    "    if i >= 180:\n",
    "        folder_images = glob.glob('CUB_200_2011/images/'+'/'+str(folder_path)+'/*')\n",
    "        test_image_paths.extend(folder_images)\n",
    "        test_labels.extend([i]*len(folder_images))"
   ]
  },
  {
   "cell_type": "code",
   "execution_count": 55,
   "id": "7a58b988-aa16-4d57-99ef-c889b3bb72d6",
   "metadata": {},
   "outputs": [],
   "source": [
    "from sklearn.model_selection import train_test_split\n",
    "X_train, X_test, y_train, y_test = train_test_split(train_image_paths,train_labels, test_size=config['train_test_split'],\n",
    "                                                    stratify=train_labels, random_state=config['random_seed'])"
   ]
  },
  {
   "cell_type": "code",
   "execution_count": 56,
   "id": "c0902fb2-bd40-40c0-be84-81c2776bdfc6",
   "metadata": {},
   "outputs": [],
   "source": [
    "train_dataset  = CUBDataset(X_train,y_train,train_transform)\n",
    "test_dataset  = CUBDataset(X_test,y_test,test_transform)\n",
    "train_loader = torch.utils.data.DataLoader(train_dataset, batch_size=config['batch_size'], shuffle=True)\n",
    "test_loader = torch.utils.data.DataLoader(test_dataset, batch_size=config['batch_size'], shuffle=False)"
   ]
  },
  {
   "cell_type": "code",
   "execution_count": 57,
   "id": "74998763-e319-4389-a9cb-a14ef5a5ef47",
   "metadata": {},
   "outputs": [
    {
     "name": "stderr",
     "output_type": "stream",
     "text": [
      "/opt/conda/lib/python3.10/site-packages/torchvision/models/_utils.py:208: UserWarning: The parameter 'pretrained' is deprecated since 0.13 and may be removed in the future, please use 'weights' instead.\n",
      "  warnings.warn(\n",
      "/opt/conda/lib/python3.10/site-packages/torchvision/models/_utils.py:223: UserWarning: Arguments other than a weight enum or `None` for 'weights' are deprecated since 0.13 and may be removed in the future. The current behavior is equivalent to passing `weights=ResNet18_Weights.IMAGENET1K_V1`. You can also use `weights=ResNet18_Weights.DEFAULT` to get the most up-to-date weights.\n",
      "  warnings.warn(msg)\n"
     ]
    }
   ],
   "source": [
    "model = ResNetFeatrueExtractor18()\n",
    "model = model.to(device)\n",
    "optimizer = optim.SGD(model.parameters(), lr=config['learning_rate'])\n",
    "num_epochs = config['num_epochs']\n",
    "\n",
    "### pytorch-metric-learning stuff ###\n",
    "distance = distances.CosineSimilarity()\n",
    "reducer = reducers.MeanReducer()\n",
    "loss_func = losses.NTXentLoss(temperature=config['temperature'], distance=distance, reducer=reducer)\n",
    "mining_func = miners.BatchEasyHardMiner(pos_strategy=\"easy\",neg_strategy=\"semihard\")\n",
    "knn_func = CustomKNN(CosineSimilarity())\n",
    "accuracy_calculator = AccuracyCalculator(include=(\"precision_at_1\",),k=1,knn_func=knn_func,avg_of_avgs=True,return_per_class=False)"
   ]
  },
  {
   "cell_type": "code",
   "execution_count": 58,
   "id": "51ad322f-f35f-44bf-b296-a546c9a9ae34",
   "metadata": {
    "scrolled": true
   },
   "outputs": [
    {
     "name": "stdout",
     "output_type": "stream",
     "text": [
      "Epoch 1 Iteration 0: Loss = 0.5740998983383179\n"
     ]
    },
    {
     "name": "stderr",
     "output_type": "stream",
     "text": [
      "100%|█████████████████████████████████████████████████████████████████████████████████████████████████████| 266/266 [00:17<00:00, 15.50it/s]\n",
      "100%|███████████████████████████████████████████████████████████████████████████████████████████████████████| 67/67 [00:09<00:00,  7.14it/s]\n"
     ]
    },
    {
     "name": "stdout",
     "output_type": "stream",
     "text": [
      "Computing accuracy\n",
      "Test set accuracy (Precision@1) = 0.346506734006734\n",
      "Epoch 2 Iteration 0: Loss = 0.5706480741500854\n"
     ]
    },
    {
     "name": "stderr",
     "output_type": "stream",
     "text": [
      "100%|█████████████████████████████████████████████████████████████████████████████████████████████████████| 266/266 [00:17<00:00, 15.50it/s]\n",
      "100%|███████████████████████████████████████████████████████████████████████████████████████████████████████| 67/67 [00:03<00:00, 16.85it/s]\n"
     ]
    },
    {
     "name": "stdout",
     "output_type": "stream",
     "text": [
      "Computing accuracy\n",
      "Test set accuracy (Precision@1) = 0.37921156004489337\n",
      "Epoch 3 Iteration 0: Loss = 0.5388717651367188\n"
     ]
    },
    {
     "name": "stderr",
     "output_type": "stream",
     "text": [
      "100%|█████████████████████████████████████████████████████████████████████████████████████████████████████| 266/266 [00:16<00:00, 16.53it/s]\n",
      "100%|███████████████████████████████████████████████████████████████████████████████████████████████████████| 67/67 [00:03<00:00, 17.98it/s]\n"
     ]
    },
    {
     "name": "stdout",
     "output_type": "stream",
     "text": [
      "Computing accuracy\n",
      "Test set accuracy (Precision@1) = 0.3921773288439956\n",
      "Epoch 4 Iteration 0: Loss = 0.6016958951950073\n"
     ]
    },
    {
     "name": "stderr",
     "output_type": "stream",
     "text": [
      "100%|█████████████████████████████████████████████████████████████████████████████████████████████████████| 266/266 [00:16<00:00, 16.45it/s]\n",
      "100%|███████████████████████████████████████████████████████████████████████████████████████████████████████| 67/67 [00:03<00:00, 17.84it/s]\n"
     ]
    },
    {
     "name": "stdout",
     "output_type": "stream",
     "text": [
      "Computing accuracy\n",
      "Test set accuracy (Precision@1) = 0.41711139169472505\n",
      "Epoch 5 Iteration 0: Loss = 0.5091294050216675\n"
     ]
    },
    {
     "name": "stderr",
     "output_type": "stream",
     "text": [
      "100%|█████████████████████████████████████████████████████████████████████████████████████████████████████| 266/266 [00:16<00:00, 16.38it/s]\n",
      "100%|███████████████████████████████████████████████████████████████████████████████████████████████████████| 67/67 [00:03<00:00, 17.73it/s]\n"
     ]
    },
    {
     "name": "stdout",
     "output_type": "stream",
     "text": [
      "Computing accuracy\n",
      "Test set accuracy (Precision@1) = 0.43070847362514036\n",
      "Epoch 6 Iteration 0: Loss = 0.5889585614204407\n"
     ]
    },
    {
     "name": "stderr",
     "output_type": "stream",
     "text": [
      "100%|█████████████████████████████████████████████████████████████████████████████████████████████████████| 266/266 [00:16<00:00, 16.38it/s]\n",
      "100%|███████████████████████████████████████████████████████████████████████████████████████████████████████| 67/67 [00:03<00:00, 17.71it/s]\n"
     ]
    },
    {
     "name": "stdout",
     "output_type": "stream",
     "text": [
      "Computing accuracy\n",
      "Test set accuracy (Precision@1) = 0.4367817059483726\n",
      "Epoch 7 Iteration 0: Loss = 0.5750584006309509\n"
     ]
    },
    {
     "name": "stderr",
     "output_type": "stream",
     "text": [
      "100%|█████████████████████████████████████████████████████████████████████████████████████████████████████| 266/266 [00:16<00:00, 16.26it/s]\n",
      "100%|███████████████████████████████████████████████████████████████████████████████████████████████████████| 67/67 [00:03<00:00, 17.32it/s]\n"
     ]
    },
    {
     "name": "stdout",
     "output_type": "stream",
     "text": [
      "Computing accuracy\n",
      "Test set accuracy (Precision@1) = 0.4689127384960719\n",
      "Epoch 8 Iteration 0: Loss = 0.5338761210441589\n"
     ]
    },
    {
     "name": "stderr",
     "output_type": "stream",
     "text": [
      "100%|█████████████████████████████████████████████████████████████████████████████████████████████████████| 266/266 [00:16<00:00, 16.20it/s]\n",
      "100%|███████████████████████████████████████████████████████████████████████████████████████████████████████| 67/67 [00:03<00:00, 17.76it/s]\n"
     ]
    },
    {
     "name": "stdout",
     "output_type": "stream",
     "text": [
      "Computing accuracy\n",
      "Test set accuracy (Precision@1) = 0.4763468013468014\n",
      "Epoch 9 Iteration 0: Loss = 0.508633017539978\n"
     ]
    },
    {
     "name": "stderr",
     "output_type": "stream",
     "text": [
      "100%|█████████████████████████████████████████████████████████████████████████████████████████████████████| 266/266 [00:16<00:00, 16.36it/s]\n",
      "100%|███████████████████████████████████████████████████████████████████████████████████████████████████████| 67/67 [00:03<00:00, 17.74it/s]\n"
     ]
    },
    {
     "name": "stdout",
     "output_type": "stream",
     "text": [
      "Computing accuracy\n",
      "Test set accuracy (Precision@1) = 0.4712808641975309\n",
      "Epoch 10 Iteration 0: Loss = 0.5035605430603027\n"
     ]
    },
    {
     "name": "stderr",
     "output_type": "stream",
     "text": [
      "100%|█████████████████████████████████████████████████████████████████████████████████████████████████████| 266/266 [00:16<00:00, 16.36it/s]\n",
      "100%|███████████████████████████████████████████████████████████████████████████████████████████████████████| 67/67 [00:03<00:00, 17.75it/s]\n"
     ]
    },
    {
     "name": "stdout",
     "output_type": "stream",
     "text": [
      "Computing accuracy\n",
      "Test set accuracy (Precision@1) = 0.47924803591470255\n",
      "Epoch 11 Iteration 0: Loss = 0.5610356330871582\n"
     ]
    },
    {
     "name": "stderr",
     "output_type": "stream",
     "text": [
      "100%|█████████████████████████████████████████████████████████████████████████████████████████████████████| 266/266 [00:16<00:00, 16.32it/s]\n",
      "100%|███████████████████████████████████████████████████████████████████████████████████████████████████████| 67/67 [00:03<00:00, 17.13it/s]\n"
     ]
    },
    {
     "name": "stdout",
     "output_type": "stream",
     "text": [
      "Computing accuracy\n",
      "Test set accuracy (Precision@1) = 0.48148148148148145\n",
      "Epoch 12 Iteration 0: Loss = 0.582861065864563\n"
     ]
    },
    {
     "name": "stderr",
     "output_type": "stream",
     "text": [
      "100%|█████████████████████████████████████████████████████████████████████████████████████████████████████| 266/266 [00:16<00:00, 16.20it/s]\n",
      "100%|███████████████████████████████████████████████████████████████████████████████████████████████████████| 67/67 [00:03<00:00, 17.63it/s]\n"
     ]
    },
    {
     "name": "stdout",
     "output_type": "stream",
     "text": [
      "Computing accuracy\n",
      "Test set accuracy (Precision@1) = 0.4883431537598205\n",
      "Epoch 13 Iteration 0: Loss = 0.5343721508979797\n"
     ]
    },
    {
     "name": "stderr",
     "output_type": "stream",
     "text": [
      "100%|█████████████████████████████████████████████████████████████████████████████████████████████████████| 266/266 [00:16<00:00, 16.08it/s]\n",
      "100%|███████████████████████████████████████████████████████████████████████████████████████████████████████| 67/67 [00:04<00:00, 16.45it/s]\n"
     ]
    },
    {
     "name": "stdout",
     "output_type": "stream",
     "text": [
      "Computing accuracy\n",
      "Test set accuracy (Precision@1) = 0.49041526374859706\n",
      "Epoch 14 Iteration 0: Loss = 0.554534375667572\n"
     ]
    },
    {
     "name": "stderr",
     "output_type": "stream",
     "text": [
      "100%|█████████████████████████████████████████████████████████████████████████████████████████████████████| 266/266 [00:16<00:00, 16.04it/s]\n",
      "100%|███████████████████████████████████████████████████████████████████████████████████████████████████████| 67/67 [00:03<00:00, 17.49it/s]\n"
     ]
    },
    {
     "name": "stdout",
     "output_type": "stream",
     "text": [
      "Computing accuracy\n",
      "Test set accuracy (Precision@1) = 0.49774130190796856\n",
      "Epoch 15 Iteration 0: Loss = 0.4896124303340912\n"
     ]
    },
    {
     "name": "stderr",
     "output_type": "stream",
     "text": [
      "100%|█████████████████████████████████████████████████████████████████████████████████████████████████████| 266/266 [00:16<00:00, 16.52it/s]\n",
      "100%|███████████████████████████████████████████████████████████████████████████████████████████████████████| 67/67 [00:03<00:00, 17.32it/s]\n"
     ]
    },
    {
     "name": "stdout",
     "output_type": "stream",
     "text": [
      "Computing accuracy\n",
      "Test set accuracy (Precision@1) = 0.5189183501683502\n",
      "Epoch 16 Iteration 0: Loss = 0.5245228409767151\n"
     ]
    },
    {
     "name": "stderr",
     "output_type": "stream",
     "text": [
      "100%|█████████████████████████████████████████████████████████████████████████████████████████████████████| 266/266 [00:16<00:00, 16.27it/s]\n",
      "100%|███████████████████████████████████████████████████████████████████████████████████████████████████████| 67/67 [00:03<00:00, 17.47it/s]\n"
     ]
    },
    {
     "name": "stdout",
     "output_type": "stream",
     "text": [
      "Computing accuracy\n",
      "Test set accuracy (Precision@1) = 0.5229952300785634\n",
      "Epoch 17 Iteration 0: Loss = 0.554439127445221\n"
     ]
    },
    {
     "name": "stderr",
     "output_type": "stream",
     "text": [
      "100%|█████████████████████████████████████████████████████████████████████████████████████████████████████| 266/266 [00:16<00:00, 15.94it/s]\n",
      "100%|███████████████████████████████████████████████████████████████████████████████████████████████████████| 67/67 [00:03<00:00, 17.50it/s]\n"
     ]
    },
    {
     "name": "stdout",
     "output_type": "stream",
     "text": [
      "Computing accuracy\n",
      "Test set accuracy (Precision@1) = 0.5166835016835016\n",
      "Epoch 18 Iteration 0: Loss = 0.5280373692512512\n"
     ]
    },
    {
     "name": "stderr",
     "output_type": "stream",
     "text": [
      "100%|█████████████████████████████████████████████████████████████████████████████████████████████████████| 266/266 [00:16<00:00, 16.01it/s]\n",
      "100%|███████████████████████████████████████████████████████████████████████████████████████████████████████| 67/67 [00:03<00:00, 17.43it/s]\n"
     ]
    },
    {
     "name": "stdout",
     "output_type": "stream",
     "text": [
      "Computing accuracy\n",
      "Test set accuracy (Precision@1) = 0.5075505050505051\n",
      "Epoch 19 Iteration 0: Loss = 0.5698604583740234\n"
     ]
    },
    {
     "name": "stderr",
     "output_type": "stream",
     "text": [
      "100%|█████████████████████████████████████████████████████████████████████████████████████████████████████| 266/266 [00:16<00:00, 16.03it/s]\n",
      "100%|███████████████████████████████████████████████████████████████████████████████████████████████████████| 67/67 [00:03<00:00, 17.13it/s]\n"
     ]
    },
    {
     "name": "stdout",
     "output_type": "stream",
     "text": [
      "Computing accuracy\n",
      "Test set accuracy (Precision@1) = 0.5380878226711561\n",
      "Epoch 20 Iteration 0: Loss = 0.47747230529785156\n"
     ]
    },
    {
     "name": "stderr",
     "output_type": "stream",
     "text": [
      "100%|█████████████████████████████████████████████████████████████████████████████████████████████████████| 266/266 [00:16<00:00, 15.74it/s]\n",
      "100%|███████████████████████████████████████████████████████████████████████████████████████████████████████| 67/67 [00:03<00:00, 17.29it/s]\n"
     ]
    },
    {
     "name": "stdout",
     "output_type": "stream",
     "text": [
      "Computing accuracy\n",
      "Test set accuracy (Precision@1) = 0.5312079124579125\n",
      "Epoch 21 Iteration 0: Loss = 0.47048959136009216\n"
     ]
    },
    {
     "name": "stderr",
     "output_type": "stream",
     "text": [
      "100%|█████████████████████████████████████████████████████████████████████████████████████████████████████| 266/266 [00:16<00:00, 16.43it/s]\n",
      "100%|███████████████████████████████████████████████████████████████████████████████████████████████████████| 67/67 [00:03<00:00, 17.90it/s]\n"
     ]
    },
    {
     "name": "stdout",
     "output_type": "stream",
     "text": [
      "Computing accuracy\n",
      "Test set accuracy (Precision@1) = 0.5301529180695848\n",
      "Epoch 22 Iteration 0: Loss = 0.526997447013855\n"
     ]
    },
    {
     "name": "stderr",
     "output_type": "stream",
     "text": [
      "100%|█████████████████████████████████████████████████████████████████████████████████████████████████████| 266/266 [00:15<00:00, 16.63it/s]\n",
      "100%|███████████████████████████████████████████████████████████████████████████████████████████████████████| 67/67 [00:03<00:00, 17.98it/s]\n"
     ]
    },
    {
     "name": "stdout",
     "output_type": "stream",
     "text": [
      "Computing accuracy\n",
      "Test set accuracy (Precision@1) = 0.5380176767676768\n",
      "Epoch 23 Iteration 0: Loss = 0.49005332589149475\n"
     ]
    },
    {
     "name": "stderr",
     "output_type": "stream",
     "text": [
      "wandb: Network error (ReadTimeout), entering retry loop.\n",
      "100%|█████████████████████████████████████████████████████████████████████████████████████████████████████| 266/266 [00:16<00:00, 16.35it/s]\n",
      "100%|███████████████████████████████████████████████████████████████████████████████████████████████████████| 67/67 [00:03<00:00, 17.73it/s]\n"
     ]
    },
    {
     "name": "stdout",
     "output_type": "stream",
     "text": [
      "Computing accuracy\n",
      "Test set accuracy (Precision@1) = 0.5465937149270483\n",
      "Epoch 24 Iteration 0: Loss = 0.4748276472091675\n"
     ]
    },
    {
     "name": "stderr",
     "output_type": "stream",
     "text": [
      "100%|█████████████████████████████████████████████████████████████████████████████████████████████████████| 266/266 [00:16<00:00, 16.46it/s]\n",
      "100%|███████████████████████████████████████████████████████████████████████████████████████████████████████| 67/67 [00:03<00:00, 17.89it/s]\n"
     ]
    },
    {
     "name": "stdout",
     "output_type": "stream",
     "text": [
      "Computing accuracy\n",
      "Test set accuracy (Precision@1) = 0.5572797418630752\n",
      "Epoch 25 Iteration 0: Loss = 0.5148018002510071\n"
     ]
    },
    {
     "name": "stderr",
     "output_type": "stream",
     "text": [
      "100%|█████████████████████████████████████████████████████████████████████████████████████████████████████| 266/266 [00:16<00:00, 16.50it/s]\n",
      "100%|███████████████████████████████████████████████████████████████████████████████████████████████████████| 67/67 [00:03<00:00, 17.83it/s]\n"
     ]
    },
    {
     "name": "stdout",
     "output_type": "stream",
     "text": [
      "Computing accuracy\n",
      "Test set accuracy (Precision@1) = 0.5490937149270483\n",
      "Epoch 26 Iteration 0: Loss = 0.46997591853141785\n"
     ]
    },
    {
     "name": "stderr",
     "output_type": "stream",
     "text": [
      "100%|█████████████████████████████████████████████████████████████████████████████████████████████████████| 266/266 [00:16<00:00, 16.12it/s]\n",
      "100%|███████████████████████████████████████████████████████████████████████████████████████████████████████| 67/67 [00:03<00:00, 17.80it/s]\n"
     ]
    },
    {
     "name": "stdout",
     "output_type": "stream",
     "text": [
      "Computing accuracy\n",
      "Test set accuracy (Precision@1) = 0.5456257014590348\n",
      "Epoch 27 Iteration 0: Loss = 0.48966655135154724\n"
     ]
    },
    {
     "name": "stderr",
     "output_type": "stream",
     "text": [
      "100%|█████████████████████████████████████████████████████████████████████████████████████████████████████| 266/266 [00:16<00:00, 16.60it/s]\n",
      "100%|███████████████████████████████████████████████████████████████████████████████████████████████████████| 67/67 [00:03<00:00, 17.92it/s]\n"
     ]
    },
    {
     "name": "stdout",
     "output_type": "stream",
     "text": [
      "Computing accuracy\n",
      "Test set accuracy (Precision@1) = 0.5531677890011223\n",
      "Epoch 28 Iteration 0: Loss = 0.45721226930618286\n"
     ]
    },
    {
     "name": "stderr",
     "output_type": "stream",
     "text": [
      "100%|█████████████████████████████████████████████████████████████████████████████████████████████████████| 266/266 [00:16<00:00, 16.46it/s]\n",
      "100%|███████████████████████████████████████████████████████████████████████████████████████████████████████| 67/67 [00:03<00:00, 17.78it/s]\n"
     ]
    },
    {
     "name": "stdout",
     "output_type": "stream",
     "text": [
      "Computing accuracy\n",
      "Test set accuracy (Precision@1) = 0.5575841750841751\n",
      "Epoch 29 Iteration 0: Loss = 0.4623887836933136\n"
     ]
    },
    {
     "name": "stderr",
     "output_type": "stream",
     "text": [
      "100%|█████████████████████████████████████████████████████████████████████████████████████████████████████| 266/266 [00:16<00:00, 16.54it/s]\n",
      "100%|███████████████████████████████████████████████████████████████████████████████████████████████████████| 67/67 [00:03<00:00, 17.64it/s]\n"
     ]
    },
    {
     "name": "stdout",
     "output_type": "stream",
     "text": [
      "Computing accuracy\n",
      "Test set accuracy (Precision@1) = 0.5735718294051627\n",
      "Epoch 30 Iteration 0: Loss = 0.5104157328605652\n"
     ]
    },
    {
     "name": "stderr",
     "output_type": "stream",
     "text": [
      "100%|█████████████████████████████████████████████████████████████████████████████████████████████████████| 266/266 [00:16<00:00, 16.49it/s]\n",
      "100%|███████████████████████████████████████████████████████████████████████████████████████████████████████| 67/67 [00:03<00:00, 17.87it/s]\n"
     ]
    },
    {
     "name": "stdout",
     "output_type": "stream",
     "text": [
      "Computing accuracy\n",
      "Test set accuracy (Precision@1) = 0.5579026374859709\n",
      "Epoch 31 Iteration 0: Loss = 0.5121474266052246\n"
     ]
    },
    {
     "name": "stderr",
     "output_type": "stream",
     "text": [
      "100%|█████████████████████████████████████████████████████████████████████████████████████████████████████| 266/266 [00:16<00:00, 16.10it/s]\n",
      "100%|███████████████████████████████████████████████████████████████████████████████████████████████████████| 67/67 [00:03<00:00, 17.53it/s]\n"
     ]
    },
    {
     "name": "stdout",
     "output_type": "stream",
     "text": [
      "Computing accuracy\n",
      "Test set accuracy (Precision@1) = 0.5612345679012347\n",
      "Epoch 32 Iteration 0: Loss = 0.426381379365921\n"
     ]
    },
    {
     "name": "stderr",
     "output_type": "stream",
     "text": [
      "100%|█████████████████████████████████████████████████████████████████████████████████████████████████████| 266/266 [00:16<00:00, 16.60it/s]\n",
      "100%|███████████████████████████████████████████████████████████████████████████████████████████████████████| 67/67 [00:03<00:00, 17.85it/s]\n"
     ]
    },
    {
     "name": "stdout",
     "output_type": "stream",
     "text": [
      "Computing accuracy\n",
      "Test set accuracy (Precision@1) = 0.5622390572390573\n",
      "Epoch 33 Iteration 0: Loss = 0.515569806098938\n"
     ]
    },
    {
     "name": "stderr",
     "output_type": "stream",
     "text": [
      "100%|█████████████████████████████████████████████████████████████████████████████████████████████████████| 266/266 [00:15<00:00, 17.25it/s]\n",
      "100%|███████████████████████████████████████████████████████████████████████████████████████████████████████| 67/67 [00:03<00:00, 18.84it/s]\n"
     ]
    },
    {
     "name": "stdout",
     "output_type": "stream",
     "text": [
      "Computing accuracy\n",
      "Test set accuracy (Precision@1) = 0.5690432098765432\n",
      "Epoch 34 Iteration 0: Loss = 0.531744658946991\n"
     ]
    },
    {
     "name": "stderr",
     "output_type": "stream",
     "text": [
      "100%|█████████████████████████████████████████████████████████████████████████████████████████████████████| 266/266 [00:15<00:00, 17.49it/s]\n",
      "100%|███████████████████████████████████████████████████████████████████████████████████████████████████████| 67/67 [00:03<00:00, 19.08it/s]\n"
     ]
    },
    {
     "name": "stdout",
     "output_type": "stream",
     "text": [
      "Computing accuracy\n",
      "Test set accuracy (Precision@1) = 0.5761882716049384\n",
      "Epoch 35 Iteration 0: Loss = 0.44408661127090454\n"
     ]
    },
    {
     "name": "stderr",
     "output_type": "stream",
     "text": [
      "100%|█████████████████████████████████████████████████████████████████████████████████████████████████████| 266/266 [00:15<00:00, 17.44it/s]\n",
      "100%|███████████████████████████████████████████████████████████████████████████████████████████████████████| 67/67 [00:03<00:00, 19.01it/s]\n"
     ]
    },
    {
     "name": "stdout",
     "output_type": "stream",
     "text": [
      "Computing accuracy\n",
      "Test set accuracy (Precision@1) = 0.5685998877665545\n",
      "Epoch 36 Iteration 0: Loss = 0.4275929033756256\n"
     ]
    },
    {
     "name": "stderr",
     "output_type": "stream",
     "text": [
      "100%|█████████████████████████████████████████████████████████████████████████████████████████████████████| 266/266 [00:15<00:00, 17.49it/s]\n",
      "100%|███████████████████████████████████████████████████████████████████████████████████████████████████████| 67/67 [00:03<00:00, 18.05it/s]\n"
     ]
    },
    {
     "name": "stdout",
     "output_type": "stream",
     "text": [
      "Computing accuracy\n",
      "Test set accuracy (Precision@1) = 0.5698877665544332\n",
      "Epoch 37 Iteration 0: Loss = 0.38571402430534363\n"
     ]
    },
    {
     "name": "stderr",
     "output_type": "stream",
     "text": [
      "100%|█████████████████████████████████████████████████████████████████████████████████████████████████████| 266/266 [00:15<00:00, 17.47it/s]\n",
      "100%|███████████████████████████████████████████████████████████████████████████████████████████████████████| 67/67 [00:03<00:00, 18.98it/s]\n"
     ]
    },
    {
     "name": "stdout",
     "output_type": "stream",
     "text": [
      "Computing accuracy\n",
      "Test set accuracy (Precision@1) = 0.5630331088664423\n",
      "Epoch 38 Iteration 0: Loss = 0.4503288269042969\n"
     ]
    },
    {
     "name": "stderr",
     "output_type": "stream",
     "text": [
      "100%|█████████████████████████████████████████████████████████████████████████████████████████████████████| 266/266 [00:15<00:00, 17.51it/s]\n",
      "100%|███████████████████████████████████████████████████████████████████████████████████████████████████████| 67/67 [00:03<00:00, 19.03it/s]\n"
     ]
    },
    {
     "name": "stdout",
     "output_type": "stream",
     "text": [
      "Computing accuracy\n",
      "Test set accuracy (Precision@1) = 0.5817255892255893\n",
      "Epoch 39 Iteration 0: Loss = 0.49889227747917175\n"
     ]
    },
    {
     "name": "stderr",
     "output_type": "stream",
     "text": [
      "100%|█████████████████████████████████████████████████████████████████████████████████████████████████████| 266/266 [00:15<00:00, 17.51it/s]\n",
      "100%|███████████████████████████████████████████████████████████████████████████████████████████████████████| 67/67 [00:03<00:00, 18.93it/s]\n"
     ]
    },
    {
     "name": "stdout",
     "output_type": "stream",
     "text": [
      "Computing accuracy\n",
      "Test set accuracy (Precision@1) = 0.566480078563412\n",
      "Epoch 40 Iteration 0: Loss = 0.4330156445503235\n"
     ]
    },
    {
     "name": "stderr",
     "output_type": "stream",
     "text": [
      "100%|█████████████████████████████████████████████████████████████████████████████████████████████████████| 266/266 [00:15<00:00, 17.55it/s]\n",
      "100%|███████████████████████████████████████████████████████████████████████████████████████████████████████| 67/67 [00:03<00:00, 18.94it/s]\n"
     ]
    },
    {
     "name": "stdout",
     "output_type": "stream",
     "text": [
      "Computing accuracy\n",
      "Test set accuracy (Precision@1) = 0.5835648148148148\n",
      "Epoch 41 Iteration 0: Loss = 0.5052606463432312\n"
     ]
    },
    {
     "name": "stderr",
     "output_type": "stream",
     "text": [
      "100%|█████████████████████████████████████████████████████████████████████████████████████████████████████| 266/266 [00:15<00:00, 17.47it/s]\n",
      "100%|███████████████████████████████████████████████████████████████████████████████████████████████████████| 67/67 [00:03<00:00, 19.04it/s]\n"
     ]
    },
    {
     "name": "stdout",
     "output_type": "stream",
     "text": [
      "Computing accuracy\n",
      "Test set accuracy (Precision@1) = 0.5961574074074074\n",
      "Epoch 42 Iteration 0: Loss = 0.43847206234931946\n"
     ]
    },
    {
     "name": "stderr",
     "output_type": "stream",
     "text": [
      "100%|█████████████████████████████████████████████████████████████████████████████████████████████████████| 266/266 [00:15<00:00, 17.38it/s]\n",
      "100%|███████████████████████████████████████████████████████████████████████████████████████████████████████| 67/67 [00:03<00:00, 18.95it/s]\n"
     ]
    },
    {
     "name": "stdout",
     "output_type": "stream",
     "text": [
      "Computing accuracy\n",
      "Test set accuracy (Precision@1) = 0.5873021885521886\n",
      "Epoch 43 Iteration 0: Loss = 0.49986106157302856\n"
     ]
    },
    {
     "name": "stderr",
     "output_type": "stream",
     "text": [
      "100%|█████████████████████████████████████████████████████████████████████████████████████████████████████| 266/266 [00:15<00:00, 17.40it/s]\n",
      "100%|███████████████████████████████████████████████████████████████████████████████████████████████████████| 67/67 [00:03<00:00, 18.97it/s]\n"
     ]
    },
    {
     "name": "stdout",
     "output_type": "stream",
     "text": [
      "Computing accuracy\n",
      "Test set accuracy (Precision@1) = 0.5939983164983166\n",
      "Epoch 44 Iteration 0: Loss = 0.44411131739616394\n"
     ]
    },
    {
     "name": "stderr",
     "output_type": "stream",
     "text": [
      "100%|█████████████████████████████████████████████████████████████████████████████████████████████████████| 266/266 [00:15<00:00, 17.49it/s]\n",
      "100%|███████████████████████████████████████████████████████████████████████████████████████████████████████| 67/67 [00:03<00:00, 18.89it/s]\n"
     ]
    },
    {
     "name": "stdout",
     "output_type": "stream",
     "text": [
      "Computing accuracy\n",
      "Test set accuracy (Precision@1) = 0.5814548260381593\n",
      "Epoch 45 Iteration 0: Loss = 0.4423065483570099\n"
     ]
    },
    {
     "name": "stderr",
     "output_type": "stream",
     "text": [
      "100%|█████████████████████████████████████████████████████████████████████████████████████████████████████| 266/266 [00:15<00:00, 17.54it/s]\n",
      "100%|███████████████████████████████████████████████████████████████████████████████████████████████████████| 67/67 [00:03<00:00, 18.91it/s]\n"
     ]
    },
    {
     "name": "stdout",
     "output_type": "stream",
     "text": [
      "Computing accuracy\n",
      "Test set accuracy (Precision@1) = 0.5948176206509541\n",
      "Epoch 46 Iteration 0: Loss = 0.4151516258716583\n"
     ]
    },
    {
     "name": "stderr",
     "output_type": "stream",
     "text": [
      "100%|█████████████████████████████████████████████████████████████████████████████████████████████████████| 266/266 [00:15<00:00, 17.50it/s]\n",
      "100%|███████████████████████████████████████████████████████████████████████████████████████████████████████| 67/67 [00:03<00:00, 18.89it/s]\n"
     ]
    },
    {
     "name": "stdout",
     "output_type": "stream",
     "text": [
      "Computing accuracy\n",
      "Test set accuracy (Precision@1) = 0.6021661054994388\n",
      "Epoch 47 Iteration 0: Loss = 0.46786174178123474\n"
     ]
    },
    {
     "name": "stderr",
     "output_type": "stream",
     "text": [
      "100%|█████████████████████████████████████████████████████████████████████████████████████████████████████| 266/266 [00:15<00:00, 17.23it/s]\n",
      "100%|███████████████████████████████████████████████████████████████████████████████████████████████████████| 67/67 [00:03<00:00, 18.88it/s]\n"
     ]
    },
    {
     "name": "stdout",
     "output_type": "stream",
     "text": [
      "Computing accuracy\n",
      "Test set accuracy (Precision@1) = 0.5904826038159372\n",
      "Epoch 48 Iteration 0: Loss = 0.39380258321762085\n"
     ]
    },
    {
     "name": "stderr",
     "output_type": "stream",
     "text": [
      "100%|█████████████████████████████████████████████████████████████████████████████████████████████████████| 266/266 [00:15<00:00, 17.49it/s]\n",
      "100%|███████████████████████████████████████████████████████████████████████████████████████████████████████| 67/67 [00:03<00:00, 18.92it/s]\n"
     ]
    },
    {
     "name": "stdout",
     "output_type": "stream",
     "text": [
      "Computing accuracy\n",
      "Test set accuracy (Precision@1) = 0.6007786195286194\n",
      "Epoch 49 Iteration 0: Loss = 0.4397673010826111\n"
     ]
    },
    {
     "name": "stderr",
     "output_type": "stream",
     "text": [
      "100%|█████████████████████████████████████████████████████████████████████████████████████████████████████| 266/266 [00:15<00:00, 17.45it/s]\n",
      "100%|███████████████████████████████████████████████████████████████████████████████████████████████████████| 67/67 [00:03<00:00, 19.03it/s]\n"
     ]
    },
    {
     "name": "stdout",
     "output_type": "stream",
     "text": [
      "Computing accuracy\n",
      "Test set accuracy (Precision@1) = 0.6105934343434344\n",
      "Epoch 50 Iteration 0: Loss = 0.4104686379432678\n"
     ]
    },
    {
     "name": "stderr",
     "output_type": "stream",
     "text": [
      "100%|█████████████████████████████████████████████████████████████████████████████████████████████████████| 266/266 [00:15<00:00, 17.45it/s]\n",
      "100%|███████████████████████████████████████████████████████████████████████████████████████████████████████| 67/67 [00:03<00:00, 18.88it/s]\n"
     ]
    },
    {
     "name": "stdout",
     "output_type": "stream",
     "text": [
      "Computing accuracy\n",
      "Test set accuracy (Precision@1) = 0.6131818181818182\n",
      "Epoch 51 Iteration 0: Loss = 0.4490363299846649\n"
     ]
    },
    {
     "name": "stderr",
     "output_type": "stream",
     "text": [
      "100%|█████████████████████████████████████████████████████████████████████████████████████████████████████| 266/266 [00:15<00:00, 17.48it/s]\n",
      "100%|███████████████████████████████████████████████████████████████████████████████████████████████████████| 67/67 [00:03<00:00, 18.96it/s]\n"
     ]
    },
    {
     "name": "stdout",
     "output_type": "stream",
     "text": [
      "Computing accuracy\n",
      "Test set accuracy (Precision@1) = 0.5974803591470258\n",
      "Epoch 52 Iteration 0: Loss = 0.49750572443008423\n"
     ]
    },
    {
     "name": "stderr",
     "output_type": "stream",
     "text": [
      "100%|█████████████████████████████████████████████████████████████████████████████████████████████████████| 266/266 [00:15<00:00, 17.15it/s]\n",
      "100%|███████████████████████████████████████████████████████████████████████████████████████████████████████| 67/67 [00:03<00:00, 18.90it/s]\n"
     ]
    },
    {
     "name": "stdout",
     "output_type": "stream",
     "text": [
      "Computing accuracy\n",
      "Test set accuracy (Precision@1) = 0.6128605499438833\n",
      "Epoch 53 Iteration 0: Loss = 0.393627405166626\n"
     ]
    },
    {
     "name": "stderr",
     "output_type": "stream",
     "text": [
      "100%|█████████████████████████████████████████████████████████████████████████████████████████████████████| 266/266 [00:15<00:00, 17.47it/s]\n",
      "100%|███████████████████████████████████████████████████████████████████████████████████████████████████████| 67/67 [00:03<00:00, 19.00it/s]\n"
     ]
    },
    {
     "name": "stdout",
     "output_type": "stream",
     "text": [
      "Computing accuracy\n",
      "Test set accuracy (Precision@1) = 0.603759820426487\n",
      "Epoch 54 Iteration 0: Loss = 0.4008851647377014\n"
     ]
    },
    {
     "name": "stderr",
     "output_type": "stream",
     "text": [
      "100%|█████████████████████████████████████████████████████████████████████████████████████████████████████| 266/266 [00:15<00:00, 17.44it/s]\n",
      "100%|███████████████████████████████████████████████████████████████████████████████████████████████████████| 67/67 [00:03<00:00, 18.96it/s]\n"
     ]
    },
    {
     "name": "stdout",
     "output_type": "stream",
     "text": [
      "Computing accuracy\n",
      "Test set accuracy (Precision@1) = 0.6184245230078563\n",
      "Epoch 55 Iteration 0: Loss = 0.39061224460601807\n"
     ]
    },
    {
     "name": "stderr",
     "output_type": "stream",
     "text": [
      "100%|█████████████████████████████████████████████████████████████████████████████████████████████████████| 266/266 [00:15<00:00, 17.50it/s]\n",
      "100%|███████████████████████████████████████████████████████████████████████████████████████████████████████| 67/67 [00:03<00:00, 18.98it/s]\n"
     ]
    },
    {
     "name": "stdout",
     "output_type": "stream",
     "text": [
      "Computing accuracy\n",
      "Test set accuracy (Precision@1) = 0.610280583613917\n",
      "Epoch 56 Iteration 0: Loss = 0.40818706154823303\n"
     ]
    },
    {
     "name": "stderr",
     "output_type": "stream",
     "text": [
      "100%|█████████████████████████████████████████████████████████████████████████████████████████████████████| 266/266 [00:15<00:00, 17.55it/s]\n",
      "100%|███████████████████████████████████████████████████████████████████████████████████████████████████████| 67/67 [00:03<00:00, 18.93it/s]\n"
     ]
    },
    {
     "name": "stdout",
     "output_type": "stream",
     "text": [
      "Computing accuracy\n",
      "Test set accuracy (Precision@1) = 0.6088608305274972\n",
      "Epoch 57 Iteration 0: Loss = 0.4414766728878021\n"
     ]
    },
    {
     "name": "stderr",
     "output_type": "stream",
     "text": [
      "100%|█████████████████████████████████████████████████████████████████████████████████████████████████████| 266/266 [00:15<00:00, 17.12it/s]\n",
      "100%|███████████████████████████████████████████████████████████████████████████████████████████████████████| 67/67 [00:03<00:00, 18.84it/s]\n"
     ]
    },
    {
     "name": "stdout",
     "output_type": "stream",
     "text": [
      "Computing accuracy\n",
      "Test set accuracy (Precision@1) = 0.6186714365881032\n",
      "Epoch 58 Iteration 0: Loss = 0.4291645288467407\n"
     ]
    },
    {
     "name": "stderr",
     "output_type": "stream",
     "text": [
      "100%|█████████████████████████████████████████████████████████████████████████████████████████████████████| 266/266 [00:15<00:00, 17.42it/s]\n",
      "100%|███████████████████████████████████████████████████████████████████████████████████████████████████████| 67/67 [00:03<00:00, 18.94it/s]\n"
     ]
    },
    {
     "name": "stdout",
     "output_type": "stream",
     "text": [
      "Computing accuracy\n",
      "Test set accuracy (Precision@1) = 0.6215614478114478\n",
      "Epoch 59 Iteration 0: Loss = 0.4653662145137787\n"
     ]
    },
    {
     "name": "stderr",
     "output_type": "stream",
     "text": [
      "100%|█████████████████████████████████████████████████████████████████████████████████████████████████████| 266/266 [00:15<00:00, 17.50it/s]\n",
      "100%|███████████████████████████████████████████████████████████████████████████████████████████████████████| 67/67 [00:03<00:00, 18.79it/s]\n"
     ]
    },
    {
     "name": "stdout",
     "output_type": "stream",
     "text": [
      "Computing accuracy\n",
      "Test set accuracy (Precision@1) = 0.6201346801346801\n",
      "Epoch 60 Iteration 0: Loss = 0.4398210048675537\n"
     ]
    },
    {
     "name": "stderr",
     "output_type": "stream",
     "text": [
      "100%|█████████████████████████████████████████████████████████████████████████████████████████████████████| 266/266 [00:15<00:00, 17.52it/s]\n",
      "100%|███████████████████████████████████████████████████████████████████████████████████████████████████████| 67/67 [00:03<00:00, 19.01it/s]\n"
     ]
    },
    {
     "name": "stdout",
     "output_type": "stream",
     "text": [
      "Computing accuracy\n",
      "Test set accuracy (Precision@1) = 0.6190039281705948\n",
      "Epoch 61 Iteration 0: Loss = 0.42470237612724304\n"
     ]
    },
    {
     "name": "stderr",
     "output_type": "stream",
     "text": [
      "100%|█████████████████████████████████████████████████████████████████████████████████████████████████████| 266/266 [00:15<00:00, 17.50it/s]\n",
      "100%|███████████████████████████████████████████████████████████████████████████████████████████████████████| 67/67 [00:03<00:00, 18.96it/s]\n"
     ]
    },
    {
     "name": "stdout",
     "output_type": "stream",
     "text": [
      "Computing accuracy\n",
      "Test set accuracy (Precision@1) = 0.6196941638608305\n",
      "Epoch 62 Iteration 0: Loss = 0.41618427634239197\n"
     ]
    },
    {
     "name": "stderr",
     "output_type": "stream",
     "text": [
      "100%|█████████████████████████████████████████████████████████████████████████████████████████████████████| 266/266 [00:15<00:00, 17.50it/s]\n",
      "100%|███████████████████████████████████████████████████████████████████████████████████████████████████████| 67/67 [00:03<00:00, 19.05it/s]\n"
     ]
    },
    {
     "name": "stdout",
     "output_type": "stream",
     "text": [
      "Computing accuracy\n",
      "Test set accuracy (Precision@1) = 0.6227118406285074\n",
      "Epoch 63 Iteration 0: Loss = 0.44216978549957275\n"
     ]
    },
    {
     "name": "stderr",
     "output_type": "stream",
     "text": [
      "100%|█████████████████████████████████████████████████████████████████████████████████████████████████████| 266/266 [00:15<00:00, 17.47it/s]\n",
      "100%|███████████████████████████████████████████████████████████████████████████████████████████████████████| 67/67 [00:03<00:00, 18.82it/s]\n"
     ]
    },
    {
     "name": "stdout",
     "output_type": "stream",
     "text": [
      "Computing accuracy\n",
      "Test set accuracy (Precision@1) = 0.6238285634118966\n",
      "Epoch 64 Iteration 0: Loss = 0.3731232285499573\n"
     ]
    },
    {
     "name": "stderr",
     "output_type": "stream",
     "text": [
      "100%|█████████████████████████████████████████████████████████████████████████████████████████████████████| 266/266 [00:15<00:00, 17.48it/s]\n",
      "100%|███████████████████████████████████████████████████████████████████████████████████████████████████████| 67/67 [00:03<00:00, 18.95it/s]\n"
     ]
    },
    {
     "name": "stdout",
     "output_type": "stream",
     "text": [
      "Computing accuracy\n",
      "Test set accuracy (Precision@1) = 0.6187415824915825\n",
      "Epoch 65 Iteration 0: Loss = 0.4483044147491455\n"
     ]
    },
    {
     "name": "stderr",
     "output_type": "stream",
     "text": [
      "100%|█████████████████████████████████████████████████████████████████████████████████████████████████████| 266/266 [00:15<00:00, 17.46it/s]\n",
      "100%|███████████████████████████████████████████████████████████████████████████████████████████████████████| 67/67 [00:03<00:00, 19.03it/s]\n"
     ]
    },
    {
     "name": "stdout",
     "output_type": "stream",
     "text": [
      "Computing accuracy\n",
      "Test set accuracy (Precision@1) = 0.6172166105499439\n",
      "Epoch 66 Iteration 0: Loss = 0.42554059624671936\n"
     ]
    },
    {
     "name": "stderr",
     "output_type": "stream",
     "text": [
      "100%|█████████████████████████████████████████████████████████████████████████████████████████████████████| 266/266 [00:15<00:00, 17.52it/s]\n",
      "100%|███████████████████████████████████████████████████████████████████████████████████████████████████████| 67/67 [00:03<00:00, 18.91it/s]\n"
     ]
    },
    {
     "name": "stdout",
     "output_type": "stream",
     "text": [
      "Computing accuracy\n",
      "Test set accuracy (Precision@1) = 0.6455962401795736\n",
      "Epoch 67 Iteration 0: Loss = 0.5189226865768433\n"
     ]
    },
    {
     "name": "stderr",
     "output_type": "stream",
     "text": [
      "100%|█████████████████████████████████████████████████████████████████████████████████████████████████████| 266/266 [00:15<00:00, 17.45it/s]\n",
      "100%|███████████████████████████████████████████████████████████████████████████████████████████████████████| 67/67 [00:03<00:00, 19.05it/s]\n"
     ]
    },
    {
     "name": "stdout",
     "output_type": "stream",
     "text": [
      "Computing accuracy\n",
      "Test set accuracy (Precision@1) = 0.6272783389450056\n",
      "Epoch 68 Iteration 0: Loss = 0.42039141058921814\n"
     ]
    },
    {
     "name": "stderr",
     "output_type": "stream",
     "text": [
      "100%|█████████████████████████████████████████████████████████████████████████████████████████████████████| 266/266 [00:15<00:00, 17.39it/s]\n",
      "100%|███████████████████████████████████████████████████████████████████████████████████████████████████████| 67/67 [00:03<00:00, 18.90it/s]\n"
     ]
    },
    {
     "name": "stdout",
     "output_type": "stream",
     "text": [
      "Computing accuracy\n",
      "Test set accuracy (Precision@1) = 0.6189884960718294\n",
      "Epoch 69 Iteration 0: Loss = 0.4152856171131134\n"
     ]
    },
    {
     "name": "stderr",
     "output_type": "stream",
     "text": [
      "100%|█████████████████████████████████████████████████████████████████████████████████████████████████████| 266/266 [00:15<00:00, 17.56it/s]\n",
      "100%|███████████████████████████████████████████████████████████████████████████████████████████████████████| 67/67 [00:03<00:00, 18.92it/s]\n"
     ]
    },
    {
     "name": "stdout",
     "output_type": "stream",
     "text": [
      "Computing accuracy\n",
      "Test set accuracy (Precision@1) = 0.619790965207632\n",
      "Epoch 70 Iteration 0: Loss = 0.38692164421081543\n"
     ]
    },
    {
     "name": "stderr",
     "output_type": "stream",
     "text": [
      "100%|█████████████████████████████████████████████████████████████████████████████████████████████████████| 266/266 [00:15<00:00, 17.49it/s]\n",
      "100%|███████████████████████████████████████████████████████████████████████████████████████████████████████| 67/67 [00:03<00:00, 19.08it/s]\n"
     ]
    },
    {
     "name": "stdout",
     "output_type": "stream",
     "text": [
      "Computing accuracy\n",
      "Test set accuracy (Precision@1) = 0.6273863636363637\n",
      "Epoch 71 Iteration 0: Loss = 0.44960838556289673\n"
     ]
    },
    {
     "name": "stderr",
     "output_type": "stream",
     "text": [
      "100%|█████████████████████████████████████████████████████████████████████████████████████████████████████| 266/266 [00:15<00:00, 17.51it/s]\n",
      "100%|███████████████████████████████████████████████████████████████████████████████████████████████████████| 67/67 [00:03<00:00, 18.93it/s]\n"
     ]
    },
    {
     "name": "stdout",
     "output_type": "stream",
     "text": [
      "Computing accuracy\n",
      "Test set accuracy (Precision@1) = 0.6334315375982043\n",
      "Epoch 72 Iteration 0: Loss = 0.42466461658477783\n"
     ]
    },
    {
     "name": "stderr",
     "output_type": "stream",
     "text": [
      "100%|█████████████████████████████████████████████████████████████████████████████████████████████████████| 266/266 [00:15<00:00, 17.54it/s]\n",
      "100%|███████████████████████████████████████████████████████████████████████████████████████████████████████| 67/67 [00:03<00:00, 19.01it/s]\n"
     ]
    },
    {
     "name": "stdout",
     "output_type": "stream",
     "text": [
      "Computing accuracy\n",
      "Test set accuracy (Precision@1) = 0.6258557800224467\n",
      "Epoch 73 Iteration 0: Loss = 0.38598984479904175\n"
     ]
    },
    {
     "name": "stderr",
     "output_type": "stream",
     "text": [
      "100%|█████████████████████████████████████████████████████████████████████████████████████████████████████| 266/266 [00:15<00:00, 16.98it/s]\n",
      "100%|███████████████████████████████████████████████████████████████████████████████████████████████████████| 67/67 [00:03<00:00, 18.87it/s]\n"
     ]
    },
    {
     "name": "stdout",
     "output_type": "stream",
     "text": [
      "Computing accuracy\n",
      "Test set accuracy (Precision@1) = 0.6302946127946129\n",
      "Epoch 74 Iteration 0: Loss = 0.36704084277153015\n"
     ]
    },
    {
     "name": "stderr",
     "output_type": "stream",
     "text": [
      "100%|█████████████████████████████████████████████████████████████████████████████████████████████████████| 266/266 [00:15<00:00, 17.49it/s]\n",
      "100%|███████████████████████████████████████████████████████████████████████████████████████████████████████| 67/67 [00:03<00:00, 19.04it/s]\n"
     ]
    },
    {
     "name": "stdout",
     "output_type": "stream",
     "text": [
      "Computing accuracy\n",
      "Test set accuracy (Precision@1) = 0.6240726711560045\n",
      "Epoch 75 Iteration 0: Loss = 0.38132795691490173\n"
     ]
    },
    {
     "name": "stderr",
     "output_type": "stream",
     "text": [
      "100%|█████████████████████████████████████████████████████████████████████████████████████████████████████| 266/266 [00:15<00:00, 17.53it/s]\n",
      "100%|███████████████████████████████████████████████████████████████████████████████████████████████████████| 67/67 [00:03<00:00, 18.91it/s]\n"
     ]
    },
    {
     "name": "stdout",
     "output_type": "stream",
     "text": [
      "Computing accuracy\n",
      "Test set accuracy (Precision@1) = 0.6384427609427611\n",
      "Epoch 76 Iteration 0: Loss = 0.4356066584587097\n"
     ]
    },
    {
     "name": "stderr",
     "output_type": "stream",
     "text": [
      "100%|█████████████████████████████████████████████████████████████████████████████████████████████████████| 266/266 [00:15<00:00, 17.51it/s]\n",
      "100%|███████████████████████████████████████████████████████████████████████████████████████████████████████| 67/67 [00:03<00:00, 19.05it/s]\n"
     ]
    },
    {
     "name": "stdout",
     "output_type": "stream",
     "text": [
      "Computing accuracy\n",
      "Test set accuracy (Precision@1) = 0.6310325476992145\n",
      "Epoch 77 Iteration 0: Loss = 0.4306256175041199\n"
     ]
    },
    {
     "name": "stderr",
     "output_type": "stream",
     "text": [
      "100%|█████████████████████████████████████████████████████████████████████████████████████████████████████| 266/266 [00:15<00:00, 17.53it/s]\n",
      "100%|███████████████████████████████████████████████████████████████████████████████████████████████████████| 67/67 [00:03<00:00, 18.98it/s]\n"
     ]
    },
    {
     "name": "stdout",
     "output_type": "stream",
     "text": [
      "Computing accuracy\n",
      "Test set accuracy (Precision@1) = 0.6255934343434344\n",
      "Epoch 78 Iteration 0: Loss = 0.38737159967422485\n"
     ]
    },
    {
     "name": "stderr",
     "output_type": "stream",
     "text": [
      "100%|█████████████████████████████████████████████████████████████████████████████████████████████████████| 266/266 [00:15<00:00, 17.07it/s]\n",
      "100%|███████████████████████████████████████████████████████████████████████████████████████████████████████| 67/67 [00:03<00:00, 18.97it/s]\n"
     ]
    },
    {
     "name": "stdout",
     "output_type": "stream",
     "text": [
      "Computing accuracy\n",
      "Test set accuracy (Precision@1) = 0.6390460157126825\n",
      "Epoch 79 Iteration 0: Loss = 0.4088923931121826\n"
     ]
    },
    {
     "name": "stderr",
     "output_type": "stream",
     "text": [
      "100%|█████████████████████████████████████████████████████████████████████████████████████████████████████| 266/266 [00:15<00:00, 17.51it/s]\n",
      "100%|███████████████████████████████████████████████████████████████████████████████████████████████████████| 67/67 [00:03<00:00, 18.95it/s]\n"
     ]
    },
    {
     "name": "stdout",
     "output_type": "stream",
     "text": [
      "Computing accuracy\n",
      "Test set accuracy (Precision@1) = 0.6458964646464647\n",
      "Epoch 80 Iteration 0: Loss = 0.43167975544929504\n"
     ]
    },
    {
     "name": "stderr",
     "output_type": "stream",
     "text": [
      "100%|█████████████████████████████████████████████████████████████████████████████████████████████████████| 266/266 [00:15<00:00, 17.54it/s]\n",
      "100%|███████████████████████████████████████████████████████████████████████████████████████████████████████| 67/67 [00:03<00:00, 18.86it/s]\n"
     ]
    },
    {
     "name": "stdout",
     "output_type": "stream",
     "text": [
      "Computing accuracy\n",
      "Test set accuracy (Precision@1) = 0.6431313131313131\n",
      "Epoch 81 Iteration 0: Loss = 0.41812628507614136\n"
     ]
    },
    {
     "name": "stderr",
     "output_type": "stream",
     "text": [
      "100%|█████████████████████████████████████████████████████████████████████████████████████████████████████| 266/266 [00:15<00:00, 17.50it/s]\n",
      "100%|███████████████████████████████████████████████████████████████████████████████████████████████████████| 67/67 [00:03<00:00, 18.97it/s]\n"
     ]
    },
    {
     "name": "stdout",
     "output_type": "stream",
     "text": [
      "Computing accuracy\n",
      "Test set accuracy (Precision@1) = 0.6415881032547699\n",
      "Epoch 82 Iteration 0: Loss = 0.44770219922065735\n"
     ]
    },
    {
     "name": "stderr",
     "output_type": "stream",
     "text": [
      "100%|█████████████████████████████████████████████████████████████████████████████████████████████████████| 266/266 [00:15<00:00, 17.46it/s]\n",
      "100%|███████████████████████████████████████████████████████████████████████████████████████████████████████| 67/67 [00:03<00:00, 19.00it/s]\n"
     ]
    },
    {
     "name": "stdout",
     "output_type": "stream",
     "text": [
      "Computing accuracy\n",
      "Test set accuracy (Precision@1) = 0.641614758698092\n",
      "Epoch 83 Iteration 0: Loss = 0.48257502913475037\n"
     ]
    },
    {
     "name": "stderr",
     "output_type": "stream",
     "text": [
      "100%|█████████████████████████████████████████████████████████████████████████████████████████████████████| 266/266 [00:15<00:00, 17.49it/s]\n",
      "100%|███████████████████████████████████████████████████████████████████████████████████████████████████████| 67/67 [00:03<00:00, 19.07it/s]\n"
     ]
    },
    {
     "name": "stdout",
     "output_type": "stream",
     "text": [
      "Computing accuracy\n",
      "Test set accuracy (Precision@1) = 0.6464379910213244\n",
      "Epoch 84 Iteration 0: Loss = 0.386668860912323\n"
     ]
    },
    {
     "name": "stderr",
     "output_type": "stream",
     "text": [
      "100%|█████████████████████████████████████████████████████████████████████████████████████████████████████| 266/266 [00:15<00:00, 17.51it/s]\n",
      "100%|███████████████████████████████████████████████████████████████████████████████████████████████████████| 67/67 [00:03<00:00, 18.82it/s]\n"
     ]
    },
    {
     "name": "stdout",
     "output_type": "stream",
     "text": [
      "Computing accuracy\n",
      "Test set accuracy (Precision@1) = 0.6417269921436588\n",
      "Epoch 85 Iteration 0: Loss = 0.35921409726142883\n"
     ]
    },
    {
     "name": "stderr",
     "output_type": "stream",
     "text": [
      "100%|█████████████████████████████████████████████████████████████████████████████████████████████████████| 266/266 [00:15<00:00, 17.48it/s]\n",
      "100%|███████████████████████████████████████████████████████████████████████████████████████████████████████| 67/67 [00:03<00:00, 19.05it/s]\n"
     ]
    },
    {
     "name": "stdout",
     "output_type": "stream",
     "text": [
      "Computing accuracy\n",
      "Test set accuracy (Precision@1) = 0.6428619528619529\n",
      "Epoch 86 Iteration 0: Loss = 0.46830517053604126\n"
     ]
    },
    {
     "name": "stderr",
     "output_type": "stream",
     "text": [
      "100%|█████████████████████████████████████████████████████████████████████████████████████████████████████| 266/266 [00:15<00:00, 17.53it/s]\n",
      "100%|███████████████████████████████████████████████████████████████████████████████████████████████████████| 67/67 [00:03<00:00, 18.95it/s]\n"
     ]
    },
    {
     "name": "stdout",
     "output_type": "stream",
     "text": [
      "Computing accuracy\n",
      "Test set accuracy (Precision@1) = 0.647706228956229\n",
      "Epoch 87 Iteration 0: Loss = 0.3849148154258728\n"
     ]
    },
    {
     "name": "stderr",
     "output_type": "stream",
     "text": [
      "100%|█████████████████████████████████████████████████████████████████████████████████████████████████████| 266/266 [00:15<00:00, 17.53it/s]\n",
      "100%|███████████████████████████████████████████████████████████████████████████████████████████████████████| 67/67 [00:03<00:00, 19.01it/s]\n"
     ]
    },
    {
     "name": "stdout",
     "output_type": "stream",
     "text": [
      "Computing accuracy\n",
      "Test set accuracy (Precision@1) = 0.6483543771043772\n",
      "Epoch 88 Iteration 0: Loss = 0.4114066958427429\n"
     ]
    },
    {
     "name": "stderr",
     "output_type": "stream",
     "text": [
      "100%|█████████████████████████████████████████████████████████████████████████████████████████████████████| 266/266 [00:15<00:00, 17.51it/s]\n",
      "100%|███████████████████████████████████████████████████████████████████████████████████████████████████████| 67/67 [00:03<00:00, 18.95it/s]\n"
     ]
    },
    {
     "name": "stdout",
     "output_type": "stream",
     "text": [
      "Computing accuracy\n",
      "Test set accuracy (Precision@1) = 0.6525968013468014\n",
      "Epoch 89 Iteration 0: Loss = 0.4327152371406555\n"
     ]
    },
    {
     "name": "stderr",
     "output_type": "stream",
     "text": [
      "100%|█████████████████████████████████████████████████████████████████████████████████████████████████████| 266/266 [00:15<00:00, 17.38it/s]\n",
      "100%|███████████████████████████████████████████████████████████████████████████████████████████████████████| 67/67 [00:03<00:00, 18.88it/s]\n"
     ]
    },
    {
     "name": "stdout",
     "output_type": "stream",
     "text": [
      "Computing accuracy\n",
      "Test set accuracy (Precision@1) = 0.6468392255892257\n",
      "Epoch 90 Iteration 0: Loss = 0.40086793899536133\n"
     ]
    },
    {
     "name": "stderr",
     "output_type": "stream",
     "text": [
      "100%|█████████████████████████████████████████████████████████████████████████████████████████████████████| 266/266 [00:15<00:00, 17.37it/s]\n",
      "100%|███████████████████████████████████████████████████████████████████████████████████████████████████████| 67/67 [00:03<00:00, 19.02it/s]\n"
     ]
    },
    {
     "name": "stdout",
     "output_type": "stream",
     "text": [
      "Computing accuracy\n",
      "Test set accuracy (Precision@1) = 0.6444234006734006\n",
      "Epoch 91 Iteration 0: Loss = 0.4274263083934784\n"
     ]
    },
    {
     "name": "stderr",
     "output_type": "stream",
     "text": [
      "100%|█████████████████████████████████████████████████████████████████████████████████████████████████████| 266/266 [00:15<00:00, 17.53it/s]\n",
      "100%|███████████████████████████████████████████████████████████████████████████████████████████████████████| 67/67 [00:03<00:00, 18.99it/s]\n"
     ]
    },
    {
     "name": "stdout",
     "output_type": "stream",
     "text": [
      "Computing accuracy\n",
      "Test set accuracy (Precision@1) = 0.6405695847362515\n",
      "Epoch 92 Iteration 0: Loss = 0.37775179743766785\n"
     ]
    },
    {
     "name": "stderr",
     "output_type": "stream",
     "text": [
      "100%|█████████████████████████████████████████████████████████████████████████████████████████████████████| 266/266 [00:15<00:00, 17.49it/s]\n",
      "100%|███████████████████████████████████████████████████████████████████████████████████████████████████████| 67/67 [00:03<00:00, 18.98it/s]\n"
     ]
    },
    {
     "name": "stdout",
     "output_type": "stream",
     "text": [
      "Computing accuracy\n",
      "Test set accuracy (Precision@1) = 0.6487023007856342\n",
      "Epoch 93 Iteration 0: Loss = 0.46634894609451294\n"
     ]
    },
    {
     "name": "stderr",
     "output_type": "stream",
     "text": [
      "100%|█████████████████████████████████████████████████████████████████████████████████████████████████████| 266/266 [00:15<00:00, 17.49it/s]\n",
      "100%|███████████████████████████████████████████████████████████████████████████████████████████████████████| 67/67 [00:03<00:00, 18.99it/s]\n"
     ]
    },
    {
     "name": "stdout",
     "output_type": "stream",
     "text": [
      "Computing accuracy\n",
      "Test set accuracy (Precision@1) = 0.6496282267115601\n",
      "Epoch 94 Iteration 0: Loss = 0.4255606532096863\n"
     ]
    },
    {
     "name": "stderr",
     "output_type": "stream",
     "text": [
      "100%|█████████████████████████████████████████████████████████████████████████████████████████████████████| 266/266 [00:15<00:00, 17.00it/s]\n",
      "100%|███████████████████████████████████████████████████████████████████████████████████████████████████████| 67/67 [00:03<00:00, 18.90it/s]\n"
     ]
    },
    {
     "name": "stdout",
     "output_type": "stream",
     "text": [
      "Computing accuracy\n",
      "Test set accuracy (Precision@1) = 0.6507168911335579\n",
      "Epoch 95 Iteration 0: Loss = 0.37852388620376587\n"
     ]
    },
    {
     "name": "stderr",
     "output_type": "stream",
     "text": [
      "100%|█████████████████████████████████████████████████████████████████████████████████████████████████████| 266/266 [00:15<00:00, 17.53it/s]\n",
      "100%|███████████████████████████████████████████████████████████████████████████████████████████████████████| 67/67 [00:03<00:00, 18.99it/s]\n"
     ]
    },
    {
     "name": "stdout",
     "output_type": "stream",
     "text": [
      "Computing accuracy\n",
      "Test set accuracy (Precision@1) = 0.65702721661055\n",
      "Epoch 96 Iteration 0: Loss = 0.3712104260921478\n"
     ]
    },
    {
     "name": "stderr",
     "output_type": "stream",
     "text": [
      "100%|█████████████████████████████████████████████████████████████████████████████████████████████████████| 266/266 [00:15<00:00, 17.52it/s]\n",
      "100%|███████████████████████████████████████████████████████████████████████████████████████████████████████| 67/67 [00:03<00:00, 19.03it/s]\n"
     ]
    },
    {
     "name": "stdout",
     "output_type": "stream",
     "text": [
      "Computing accuracy\n",
      "Test set accuracy (Precision@1) = 0.6596815375982042\n",
      "Epoch 97 Iteration 0: Loss = 0.3899790644645691\n"
     ]
    },
    {
     "name": "stderr",
     "output_type": "stream",
     "text": [
      "100%|█████████████████████████████████████████████████████████████████████████████████████████████████████| 266/266 [00:15<00:00, 17.51it/s]\n",
      "100%|███████████████████████████████████████████████████████████████████████████████████████████████████████| 67/67 [00:03<00:00, 18.97it/s]\n"
     ]
    },
    {
     "name": "stdout",
     "output_type": "stream",
     "text": [
      "Computing accuracy\n",
      "Test set accuracy (Precision@1) = 0.6421310325476992\n",
      "Epoch 98 Iteration 0: Loss = 0.3617355525493622\n"
     ]
    },
    {
     "name": "stderr",
     "output_type": "stream",
     "text": [
      "100%|█████████████████████████████████████████████████████████████████████████████████████████████████████| 266/266 [00:15<00:00, 17.54it/s]\n",
      "100%|███████████████████████████████████████████████████████████████████████████████████████████████████████| 67/67 [00:03<00:00, 19.01it/s]\n"
     ]
    },
    {
     "name": "stdout",
     "output_type": "stream",
     "text": [
      "Computing accuracy\n",
      "Test set accuracy (Precision@1) = 0.6553998316498316\n",
      "Epoch 99 Iteration 0: Loss = 0.433990478515625\n"
     ]
    },
    {
     "name": "stderr",
     "output_type": "stream",
     "text": [
      "100%|█████████████████████████████████████████████████████████████████████████████████████████████████████| 266/266 [00:15<00:00, 17.20it/s]\n",
      "100%|███████████████████████████████████████████████████████████████████████████████████████████████████████| 67/67 [00:03<00:00, 18.93it/s]\n"
     ]
    },
    {
     "name": "stdout",
     "output_type": "stream",
     "text": [
      "Computing accuracy\n",
      "Test set accuracy (Precision@1) = 0.6483796296296297\n",
      "Epoch 100 Iteration 0: Loss = 0.403732568025589\n"
     ]
    },
    {
     "name": "stderr",
     "output_type": "stream",
     "text": [
      "100%|█████████████████████████████████████████████████████████████████████████████████████████████████████| 266/266 [00:15<00:00, 17.46it/s]\n",
      "100%|███████████████████████████████████████████████████████████████████████████████████████████████████████| 67/67 [00:03<00:00, 18.96it/s]"
     ]
    },
    {
     "name": "stdout",
     "output_type": "stream",
     "text": [
      "Computing accuracy\n",
      "Test set accuracy (Precision@1) = 0.6466933221099888\n"
     ]
    },
    {
     "name": "stderr",
     "output_type": "stream",
     "text": [
      "\n"
     ]
    }
   ],
   "source": [
    "#total_loss = []\n",
    "#total_acc = []\n",
    "for epoch in range(1, num_epochs + 1):\n",
    "    train_loss = train(model, loss_func,mining_func, device, train_loader, optimizer, epoch)\n",
    "    #total_loss.extend(train_loss)\n",
    "    test_acc = test(train_dataset, test_dataset, model, accuracy_calculator)\n",
    "    #total_acc.append(test_acc)\n",
    "    wandb.log({\"test_accuracy2\": test_acc, \"train_loss2\": train_loss,\"epoch\": epoch})"
   ]
  },
  {
   "cell_type": "code",
   "execution_count": 59,
   "id": "440edbeb-80f8-42ec-9547-7bf913aa64b2",
   "metadata": {},
   "outputs": [],
   "source": [
    "torch.save(model,config['model_save_path']+'_180.pth')"
   ]
  },
  {
   "cell_type": "code",
   "execution_count": 32,
   "id": "3afb879b-ef20-45fc-9dbe-6d92e842b99e",
   "metadata": {},
   "outputs": [],
   "source": [
    "model = torch.load('models/cub_triplet_loss_epshn_resnet18_sgd_aug_180.pth',map_location='cuda')"
   ]
  },
  {
   "cell_type": "code",
   "execution_count": 60,
   "id": "1ae29c0e-7b43-4364-a8b8-fcd403a56cbc",
   "metadata": {
    "scrolled": true
   },
   "outputs": [
    {
     "data": {
      "text/plain": [
       "ResNetFeatrueExtractor18(\n",
       "  (conv1): Conv2d(3, 64, kernel_size=(7, 7), stride=(2, 2), padding=(3, 3), bias=False)\n",
       "  (bn1): BatchNorm2d(64, eps=1e-05, momentum=0.1, affine=True, track_running_stats=True)\n",
       "  (relu): ReLU(inplace=True)\n",
       "  (maxpool): MaxPool2d(kernel_size=3, stride=2, padding=1, dilation=1, ceil_mode=False)\n",
       "  (layer1): Sequential(\n",
       "    (0): BasicBlock(\n",
       "      (conv1): Conv2d(64, 64, kernel_size=(3, 3), stride=(1, 1), padding=(1, 1), bias=False)\n",
       "      (bn1): BatchNorm2d(64, eps=1e-05, momentum=0.1, affine=True, track_running_stats=True)\n",
       "      (relu): ReLU(inplace=True)\n",
       "      (conv2): Conv2d(64, 64, kernel_size=(3, 3), stride=(1, 1), padding=(1, 1), bias=False)\n",
       "      (bn2): BatchNorm2d(64, eps=1e-05, momentum=0.1, affine=True, track_running_stats=True)\n",
       "    )\n",
       "    (1): BasicBlock(\n",
       "      (conv1): Conv2d(64, 64, kernel_size=(3, 3), stride=(1, 1), padding=(1, 1), bias=False)\n",
       "      (bn1): BatchNorm2d(64, eps=1e-05, momentum=0.1, affine=True, track_running_stats=True)\n",
       "      (relu): ReLU(inplace=True)\n",
       "      (conv2): Conv2d(64, 64, kernel_size=(3, 3), stride=(1, 1), padding=(1, 1), bias=False)\n",
       "      (bn2): BatchNorm2d(64, eps=1e-05, momentum=0.1, affine=True, track_running_stats=True)\n",
       "    )\n",
       "  )\n",
       "  (layer2): Sequential(\n",
       "    (0): BasicBlock(\n",
       "      (conv1): Conv2d(64, 128, kernel_size=(3, 3), stride=(2, 2), padding=(1, 1), bias=False)\n",
       "      (bn1): BatchNorm2d(128, eps=1e-05, momentum=0.1, affine=True, track_running_stats=True)\n",
       "      (relu): ReLU(inplace=True)\n",
       "      (conv2): Conv2d(128, 128, kernel_size=(3, 3), stride=(1, 1), padding=(1, 1), bias=False)\n",
       "      (bn2): BatchNorm2d(128, eps=1e-05, momentum=0.1, affine=True, track_running_stats=True)\n",
       "      (downsample): Sequential(\n",
       "        (0): Conv2d(64, 128, kernel_size=(1, 1), stride=(2, 2), bias=False)\n",
       "        (1): BatchNorm2d(128, eps=1e-05, momentum=0.1, affine=True, track_running_stats=True)\n",
       "      )\n",
       "    )\n",
       "    (1): BasicBlock(\n",
       "      (conv1): Conv2d(128, 128, kernel_size=(3, 3), stride=(1, 1), padding=(1, 1), bias=False)\n",
       "      (bn1): BatchNorm2d(128, eps=1e-05, momentum=0.1, affine=True, track_running_stats=True)\n",
       "      (relu): ReLU(inplace=True)\n",
       "      (conv2): Conv2d(128, 128, kernel_size=(3, 3), stride=(1, 1), padding=(1, 1), bias=False)\n",
       "      (bn2): BatchNorm2d(128, eps=1e-05, momentum=0.1, affine=True, track_running_stats=True)\n",
       "    )\n",
       "  )\n",
       "  (layer3): Sequential(\n",
       "    (0): BasicBlock(\n",
       "      (conv1): Conv2d(128, 256, kernel_size=(3, 3), stride=(2, 2), padding=(1, 1), bias=False)\n",
       "      (bn1): BatchNorm2d(256, eps=1e-05, momentum=0.1, affine=True, track_running_stats=True)\n",
       "      (relu): ReLU(inplace=True)\n",
       "      (conv2): Conv2d(256, 256, kernel_size=(3, 3), stride=(1, 1), padding=(1, 1), bias=False)\n",
       "      (bn2): BatchNorm2d(256, eps=1e-05, momentum=0.1, affine=True, track_running_stats=True)\n",
       "      (downsample): Sequential(\n",
       "        (0): Conv2d(128, 256, kernel_size=(1, 1), stride=(2, 2), bias=False)\n",
       "        (1): BatchNorm2d(256, eps=1e-05, momentum=0.1, affine=True, track_running_stats=True)\n",
       "      )\n",
       "    )\n",
       "    (1): BasicBlock(\n",
       "      (conv1): Conv2d(256, 256, kernel_size=(3, 3), stride=(1, 1), padding=(1, 1), bias=False)\n",
       "      (bn1): BatchNorm2d(256, eps=1e-05, momentum=0.1, affine=True, track_running_stats=True)\n",
       "      (relu): ReLU(inplace=True)\n",
       "      (conv2): Conv2d(256, 256, kernel_size=(3, 3), stride=(1, 1), padding=(1, 1), bias=False)\n",
       "      (bn2): BatchNorm2d(256, eps=1e-05, momentum=0.1, affine=True, track_running_stats=True)\n",
       "    )\n",
       "  )\n",
       "  (layer4): Sequential(\n",
       "    (0): BasicBlock(\n",
       "      (conv1): Conv2d(256, 512, kernel_size=(3, 3), stride=(2, 2), padding=(1, 1), bias=False)\n",
       "      (bn1): BatchNorm2d(512, eps=1e-05, momentum=0.1, affine=True, track_running_stats=True)\n",
       "      (relu): ReLU(inplace=True)\n",
       "      (conv2): Conv2d(512, 512, kernel_size=(3, 3), stride=(1, 1), padding=(1, 1), bias=False)\n",
       "      (bn2): BatchNorm2d(512, eps=1e-05, momentum=0.1, affine=True, track_running_stats=True)\n",
       "      (downsample): Sequential(\n",
       "        (0): Conv2d(256, 512, kernel_size=(1, 1), stride=(2, 2), bias=False)\n",
       "        (1): BatchNorm2d(512, eps=1e-05, momentum=0.1, affine=True, track_running_stats=True)\n",
       "      )\n",
       "    )\n",
       "    (1): BasicBlock(\n",
       "      (conv1): Conv2d(512, 512, kernel_size=(3, 3), stride=(1, 1), padding=(1, 1), bias=False)\n",
       "      (bn1): BatchNorm2d(512, eps=1e-05, momentum=0.1, affine=True, track_running_stats=True)\n",
       "      (relu): ReLU(inplace=True)\n",
       "      (conv2): Conv2d(512, 512, kernel_size=(3, 3), stride=(1, 1), padding=(1, 1), bias=False)\n",
       "      (bn2): BatchNorm2d(512, eps=1e-05, momentum=0.1, affine=True, track_running_stats=True)\n",
       "    )\n",
       "  )\n",
       "  (avgpool): AdaptiveAvgPool2d(output_size=(1, 1))\n",
       "  (fc1): Linear(in_features=512, out_features=128, bias=True)\n",
       "  (bn2): BatchNorm1d(128, eps=1e-05, momentum=0.1, affine=True, track_running_stats=True)\n",
       ")"
      ]
     },
     "execution_count": 60,
     "metadata": {},
     "output_type": "execute_result"
    }
   ],
   "source": [
    "model.eval()"
   ]
  },
  {
   "cell_type": "code",
   "execution_count": 61,
   "id": "9baeaa00-0932-4952-9620-b49a1de77f88",
   "metadata": {},
   "outputs": [],
   "source": [
    "image_paths = []\n",
    "labels = []\n",
    "for folder_path,i in class_dict.items():\n",
    "    folder_images = glob.glob('CUB_200_2011/images/'+'/'+str(folder_path)+'/*')\n",
    "    image_paths.extend(folder_images)\n",
    "    labels.extend([i]*len(folder_images))"
   ]
  },
  {
   "cell_type": "code",
   "execution_count": 62,
   "id": "ba1ed4c4-806c-4b70-a1f1-fd61510cc52b",
   "metadata": {},
   "outputs": [],
   "source": [
    "from sklearn.model_selection import train_test_split\n",
    "X_train, X_test, y_train, y_test = train_test_split(image_paths, labels, test_size=config['train_test_split'],\n",
    "                                                    stratify=labels,\n",
    "                                                    random_state=config['random_seed'])"
   ]
  },
  {
   "cell_type": "code",
   "execution_count": 63,
   "id": "0df461d6-47c4-4213-8e78-aba9f59d0648",
   "metadata": {},
   "outputs": [],
   "source": [
    "train_dataset  = CUBDataset(X_train,y_train,transform)\n",
    "test_dataset  = CUBDataset(X_test,y_test,transform)"
   ]
  },
  {
   "cell_type": "code",
   "execution_count": 64,
   "id": "fba86090-7819-434c-af9f-28c001b83ad1",
   "metadata": {},
   "outputs": [
    {
     "name": "stderr",
     "output_type": "stream",
     "text": [
      "100%|█████████████████████████████████████████████████████████████████████████████████████████████████████| 295/295 [00:37<00:00,  7.93it/s]\n",
      "100%|███████████████████████████████████████████████████████████████████████████████████████████████████████| 74/74 [00:09<00:00,  7.60it/s]\n"
     ]
    }
   ],
   "source": [
    "train_embeddings, train_labels = get_all_embeddings(train_dataset, model)\n",
    "test_embeddings, test_labels = get_all_embeddings(test_dataset, model)\n",
    "train_labels = train_labels.squeeze(1)\n",
    "test_labels = test_labels.squeeze(1)"
   ]
  },
  {
   "cell_type": "code",
   "execution_count": 65,
   "id": "d3f4c51f-4298-475f-bd91-c620cb17060a",
   "metadata": {
    "scrolled": true
   },
   "outputs": [
    {
     "name": "stdout",
     "output_type": "stream",
     "text": [
      "001.Black_footed_Albatross     test samples 12   , training samples 48   : 0.6666666666666666\n",
      "002.Laysan_Albatross           test samples 12   , training samples 48   : 0.75\n",
      "003.Sooty_Albatross            test samples 12   , training samples 46   : 0.75\n",
      "004.Groove_billed_Ani          test samples 12   , training samples 48   : 0.8333333333333334\n",
      "005.Crested_Auklet             test samples 9    , training samples 35   : 0.6666666666666666\n",
      "006.Least_Auklet               test samples 8    , training samples 33   : 0.625\n",
      "007.Parakeet_Auklet            test samples 10   , training samples 43   : 0.8\n",
      "008.Rhinoceros_Auklet          test samples 9    , training samples 39   : 0.3333333333333333\n",
      "009.Brewer_Blackbird           test samples 12   , training samples 47   : 0.4166666666666667\n",
      "010.Red_winged_Blackbird       test samples 12   , training samples 48   : 0.8333333333333334\n",
      "011.Rusty_Blackbird            test samples 12   , training samples 48   : 0.3333333333333333\n",
      "012.Yellow_headed_Blackbird    test samples 11   , training samples 45   : 0.9090909090909091\n",
      "013.Bobolink                   test samples 12   , training samples 48   : 0.75\n",
      "014.Indigo_Bunting             test samples 12   , training samples 48   : 0.75\n",
      "015.Lazuli_Bunting             test samples 11   , training samples 47   : 0.6363636363636364\n",
      "016.Painted_Bunting            test samples 11   , training samples 47   : 0.6363636363636364\n",
      "017.Cardinal                   test samples 11   , training samples 46   : 0.5454545454545454\n",
      "018.Spotted_Catbird            test samples 9    , training samples 36   : 0.8888888888888888\n",
      "019.Gray_Catbird               test samples 12   , training samples 47   : 0.6666666666666666\n",
      "020.Yellow_breasted_Chat       test samples 12   , training samples 47   : 0.6666666666666666\n",
      "021.Eastern_Towhee             test samples 12   , training samples 48   : 0.5833333333333334\n",
      "022.Chuck_will_Widow           test samples 11   , training samples 45   : 0.2727272727272727\n",
      "023.Brandt_Cormorant           test samples 12   , training samples 47   : 0.25\n",
      "024.Red_faced_Cormorant        test samples 10   , training samples 42   : 0.9\n",
      "025.Pelagic_Cormorant          test samples 12   , training samples 48   : 0.25\n",
      "026.Bronzed_Cowbird            test samples 12   , training samples 48   : 0.75\n",
      "027.Shiny_Cowbird              test samples 12   , training samples 48   : 0.3333333333333333\n",
      "028.Brown_Creeper              test samples 12   , training samples 47   : 1.0\n",
      "029.American_Crow              test samples 12   , training samples 48   : 0.3333333333333333\n",
      "030.Fish_Crow                  test samples 12   , training samples 48   : 0.16666666666666666\n",
      "031.Black_billed_Cuckoo        test samples 12   , training samples 48   : 0.6666666666666666\n",
      "032.Mangrove_Cuckoo            test samples 10   , training samples 43   : 0.6\n",
      "033.Yellow_billed_Cuckoo       test samples 12   , training samples 47   : 0.4166666666666667\n",
      "034.Gray_crowned_Rosy_Finch    test samples 12   , training samples 47   : 0.8333333333333334\n",
      "035.Purple_Finch               test samples 12   , training samples 48   : 0.9166666666666666\n",
      "036.Northern_Flicker           test samples 12   , training samples 48   : 0.75\n",
      "037.Acadian_Flycatcher         test samples 12   , training samples 47   : 0.5\n",
      "038.Great_Crested_Flycatcher   test samples 12   , training samples 48   : 0.6666666666666666\n",
      "039.Least_Flycatcher           test samples 12   , training samples 47   : 0.16666666666666666\n",
      "040.Olive_sided_Flycatcher     test samples 12   , training samples 48   : 0.25\n",
      "041.Scissor_tailed_Flycatcher  test samples 12   , training samples 48   : 0.75\n",
      "042.Vermilion_Flycatcher       test samples 12   , training samples 48   : 0.9166666666666666\n",
      "043.Yellow_bellied_Flycatcher  test samples 12   , training samples 47   : 0.3333333333333333\n",
      "044.Frigatebird                test samples 12   , training samples 48   : 0.5833333333333334\n",
      "045.Northern_Fulmar            test samples 12   , training samples 48   : 0.5\n",
      "046.Gadwall                    test samples 12   , training samples 48   : 0.9166666666666666\n",
      "047.American_Goldfinch         test samples 12   , training samples 48   : 0.8333333333333334\n",
      "048.European_Goldfinch         test samples 12   , training samples 48   : 0.9166666666666666\n",
      "049.Boat_tailed_Grackle        test samples 12   , training samples 48   : 0.3333333333333333\n",
      "050.Eared_Grebe                test samples 12   , training samples 48   : 0.4166666666666667\n",
      "051.Horned_Grebe               test samples 12   , training samples 48   : 0.5\n",
      "052.Pied_billed_Grebe          test samples 12   , training samples 48   : 0.9166666666666666\n",
      "053.Western_Grebe              test samples 12   , training samples 48   : 1.0\n",
      "054.Blue_Grosbeak              test samples 12   , training samples 48   : 0.5833333333333334\n",
      "055.Evening_Grosbeak           test samples 12   , training samples 48   : 0.8333333333333334\n",
      "056.Pine_Grosbeak              test samples 12   , training samples 48   : 0.75\n",
      "057.Rose_breasted_Grosbeak     test samples 12   , training samples 48   : 0.9166666666666666\n",
      "058.Pigeon_Guillemot           test samples 12   , training samples 46   : 0.8333333333333334\n",
      "059.California_Gull            test samples 12   , training samples 48   : 0.3333333333333333\n",
      "060.Glaucous_winged_Gull       test samples 12   , training samples 47   : 0.08333333333333333\n",
      "061.Heermann_Gull              test samples 12   , training samples 48   : 0.75\n",
      "062.Herring_Gull               test samples 12   , training samples 48   : 0.25\n",
      "063.Ivory_Gull                 test samples 12   , training samples 48   : 0.8333333333333334\n",
      "064.Ring_billed_Gull           test samples 12   , training samples 48   : 0.25\n",
      "065.Slaty_backed_Gull          test samples 10   , training samples 40   : 0.3\n",
      "066.Western_Gull               test samples 12   , training samples 48   : 0.6666666666666666\n",
      "067.Anna_Hummingbird           test samples 12   , training samples 48   : 0.5833333333333334\n",
      "068.Ruby_throated_Hummingbird  test samples 12   , training samples 48   : 0.75\n",
      "069.Rufous_Hummingbird         test samples 12   , training samples 48   : 0.8333333333333334\n",
      "070.Green_Violetear            test samples 12   , training samples 48   : 0.9166666666666666\n",
      "071.Long_tailed_Jaeger         test samples 12   , training samples 48   : 0.3333333333333333\n",
      "072.Pomarine_Jaeger            test samples 12   , training samples 48   : 0.3333333333333333\n",
      "073.Blue_Jay                   test samples 12   , training samples 48   : 0.75\n",
      "074.Florida_Jay                test samples 12   , training samples 48   : 0.75\n",
      "075.Green_Jay                  test samples 11   , training samples 46   : 0.8181818181818182\n",
      "076.Dark_eyed_Junco            test samples 12   , training samples 48   : 0.9166666666666666\n",
      "077.Tropical_Kingbird          test samples 12   , training samples 48   : 0.75\n",
      "078.Gray_Kingbird              test samples 12   , training samples 47   : 0.5833333333333334\n",
      "079.Belted_Kingfisher          test samples 12   , training samples 48   : 0.5\n",
      "080.Green_Kingfisher           test samples 12   , training samples 48   : 0.75\n",
      "081.Pied_Kingfisher            test samples 12   , training samples 48   : 0.9166666666666666\n",
      "082.Ringed_Kingfisher          test samples 12   , training samples 48   : 0.8333333333333334\n",
      "083.White_breasted_Kingfisher  test samples 12   , training samples 48   : 0.8333333333333334\n",
      "084.Red_legged_Kittiwake       test samples 10   , training samples 43   : 0.6\n",
      "085.Horned_Lark                test samples 12   , training samples 48   : 0.5833333333333334\n",
      "086.Pacific_Loon               test samples 12   , training samples 48   : 0.6666666666666666\n",
      "087.Mallard                    test samples 12   , training samples 48   : 0.9166666666666666\n",
      "088.Western_Meadowlark         test samples 12   , training samples 48   : 0.8333333333333334\n",
      "089.Hooded_Merganser           test samples 12   , training samples 48   : 0.9166666666666666\n",
      "090.Red_breasted_Merganser     test samples 12   , training samples 48   : 0.9166666666666666\n",
      "091.Mockingbird                test samples 12   , training samples 48   : 0.16666666666666666\n",
      "092.Nighthawk                  test samples 12   , training samples 48   : 0.6666666666666666\n",
      "093.Clark_Nutcracker           test samples 12   , training samples 48   : 0.8333333333333334\n",
      "094.White_breasted_Nuthatch    test samples 12   , training samples 48   : 1.0\n",
      "095.Baltimore_Oriole           test samples 12   , training samples 48   : 0.75\n",
      "096.Hooded_Oriole              test samples 12   , training samples 48   : 0.9166666666666666\n",
      "097.Orchard_Oriole             test samples 12   , training samples 47   : 0.5\n",
      "098.Scott_Oriole               test samples 12   , training samples 48   : 0.9166666666666666\n",
      "099.Ovenbird                   test samples 12   , training samples 48   : 0.6666666666666666\n",
      "100.Brown_Pelican              test samples 12   , training samples 48   : 0.8333333333333334\n",
      "101.White_Pelican              test samples 10   , training samples 40   : 0.8\n",
      "102.Western_Wood_Pewee         test samples 12   , training samples 48   : 0.16666666666666666\n",
      "103.Sayornis                   test samples 12   , training samples 48   : 0.4166666666666667\n",
      "104.American_Pipit             test samples 12   , training samples 48   : 0.4166666666666667\n",
      "105.Whip_poor_Will             test samples 10   , training samples 39   : 0.4\n",
      "106.Horned_Puffin              test samples 12   , training samples 48   : 1.0\n",
      "107.Common_Raven               test samples 12   , training samples 47   : 0.5\n",
      "108.White_necked_Raven         test samples 12   , training samples 48   : 0.4166666666666667\n",
      "109.American_Redstart          test samples 12   , training samples 48   : 1.0\n",
      "110.Geococcyx                  test samples 12   , training samples 48   : 0.8333333333333334\n",
      "111.Loggerhead_Shrike          test samples 12   , training samples 48   : 0.5\n",
      "112.Great_Grey_Shrike          test samples 12   , training samples 48   : 0.5833333333333334\n",
      "113.Baird_Sparrow              test samples 10   , training samples 40   : 0.6\n",
      "114.Black_throated_Sparrow     test samples 12   , training samples 48   : 0.5833333333333334\n",
      "115.Brewer_Sparrow             test samples 12   , training samples 47   : 0.25\n",
      "116.Chipping_Sparrow           test samples 12   , training samples 48   : 0.4166666666666667\n",
      "117.Clay_colored_Sparrow       test samples 12   , training samples 47   : 0.3333333333333333\n",
      "118.House_Sparrow              test samples 12   , training samples 48   : 0.25\n",
      "119.Field_Sparrow              test samples 12   , training samples 47   : 0.5833333333333334\n",
      "120.Fox_Sparrow                test samples 12   , training samples 48   : 0.6666666666666666\n",
      "121.Grasshopper_Sparrow        test samples 12   , training samples 48   : 0.3333333333333333\n",
      "122.Harris_Sparrow             test samples 12   , training samples 48   : 0.5833333333333334\n",
      "123.Henslow_Sparrow            test samples 12   , training samples 48   : 0.4166666666666667\n",
      "124.Le_Conte_Sparrow           test samples 12   , training samples 47   : 0.5\n",
      "125.Lincoln_Sparrow            test samples 12   , training samples 47   : 0.4166666666666667\n",
      "126.Nelson_Sharp_tailed_Sparrow test samples 12   , training samples 47   : 0.5833333333333334\n",
      "127.Savannah_Sparrow           test samples 12   , training samples 48   : 0.25\n",
      "128.Seaside_Sparrow            test samples 12   , training samples 48   : 0.75\n",
      "129.Song_Sparrow               test samples 12   , training samples 48   : 0.25\n",
      "130.Tree_Sparrow               test samples 12   , training samples 48   : 0.4166666666666667\n",
      "131.Vesper_Sparrow             test samples 12   , training samples 48   : 0.5833333333333334\n",
      "132.White_crowned_Sparrow      test samples 12   , training samples 48   : 0.5\n",
      "133.White_throated_Sparrow     test samples 12   , training samples 48   : 0.75\n",
      "134.Cape_Glossy_Starling       test samples 12   , training samples 48   : 0.8333333333333334\n",
      "135.Bank_Swallow               test samples 12   , training samples 47   : 0.3333333333333333\n",
      "136.Barn_Swallow               test samples 12   , training samples 48   : 0.75\n",
      "137.Cliff_Swallow              test samples 12   , training samples 48   : 0.3333333333333333\n",
      "138.Tree_Swallow               test samples 12   , training samples 48   : 0.75\n",
      "139.Scarlet_Tanager            test samples 12   , training samples 48   : 0.8333333333333334\n",
      "140.Summer_Tanager             test samples 12   , training samples 48   : 0.8333333333333334\n",
      "141.Artic_Tern                 test samples 11   , training samples 47   : 0.7272727272727273\n",
      "142.Black_Tern                 test samples 12   , training samples 48   : 0.25\n",
      "143.Caspian_Tern               test samples 12   , training samples 48   : 0.4166666666666667\n",
      "144.Common_Tern                test samples 12   , training samples 48   : 0.25\n",
      "145.Elegant_Tern               test samples 12   , training samples 48   : 0.25\n",
      "146.Forsters_Tern              test samples 12   , training samples 48   : 0.6666666666666666\n",
      "147.Least_Tern                 test samples 12   , training samples 48   : 0.8333333333333334\n",
      "148.Green_tailed_Towhee        test samples 12   , training samples 48   : 0.8333333333333334\n",
      "149.Brown_Thrasher             test samples 12   , training samples 47   : 0.6666666666666666\n",
      "150.Sage_Thrasher              test samples 12   , training samples 48   : 0.5833333333333334\n",
      "151.Black_capped_Vireo         test samples 10   , training samples 41   : 0.5\n",
      "152.Blue_headed_Vireo          test samples 12   , training samples 48   : 0.3333333333333333\n",
      "153.Philadelphia_Vireo         test samples 12   , training samples 47   : 0.5\n",
      "154.Red_eyed_Vireo             test samples 12   , training samples 48   : 0.4166666666666667\n",
      "155.Warbling_Vireo             test samples 12   , training samples 48   : 0.5833333333333334\n",
      "156.White_eyed_Vireo           test samples 12   , training samples 48   : 0.5833333333333334\n",
      "157.Yellow_throated_Vireo      test samples 12   , training samples 47   : 0.4166666666666667\n",
      "158.Bay_breasted_Warbler       test samples 12   , training samples 48   : 1.0\n",
      "159.Black_and_white_Warbler    test samples 12   , training samples 48   : 0.75\n",
      "160.Black_throated_Blue_Warbler test samples 12   , training samples 47   : 0.8333333333333334\n",
      "161.Blue_winged_Warbler        test samples 12   , training samples 48   : 0.6666666666666666\n",
      "162.Canada_Warbler             test samples 12   , training samples 48   : 0.4166666666666667\n",
      "163.Cape_May_Warbler           test samples 12   , training samples 48   : 0.75\n",
      "164.Cerulean_Warbler           test samples 12   , training samples 48   : 0.8333333333333334\n",
      "165.Chestnut_sided_Warbler     test samples 12   , training samples 48   : 0.75\n",
      "166.Golden_winged_Warbler      test samples 12   , training samples 47   : 0.75\n",
      "167.Hooded_Warbler             test samples 12   , training samples 48   : 0.5833333333333334\n",
      "168.Kentucky_Warbler           test samples 12   , training samples 47   : 0.9166666666666666\n",
      "169.Magnolia_Warbler           test samples 12   , training samples 47   : 0.8333333333333334\n",
      "170.Mourning_Warbler           test samples 12   , training samples 48   : 0.75\n",
      "171.Myrtle_Warbler             test samples 12   , training samples 48   : 0.5833333333333334\n",
      "172.Nashville_Warbler          test samples 12   , training samples 48   : 0.4166666666666667\n",
      "173.Orange_crowned_Warbler     test samples 12   , training samples 48   : 0.5833333333333334\n",
      "174.Palm_Warbler               test samples 12   , training samples 48   : 0.25\n",
      "175.Pine_Warbler               test samples 12   , training samples 48   : 0.5\n",
      "176.Prairie_Warbler            test samples 12   , training samples 48   : 0.9166666666666666\n",
      "177.Prothonotary_Warbler       test samples 12   , training samples 48   : 0.75\n",
      "178.Swainson_Warbler           test samples 11   , training samples 45   : 0.5454545454545454\n",
      "179.Tennessee_Warbler          test samples 12   , training samples 47   : 0.16666666666666666\n",
      "180.Wilson_Warbler             test samples 12   , training samples 48   : 0.6666666666666666\n",
      "181.Worm_eating_Warbler        test samples 12   , training samples 47   : 0.4166666666666667\n",
      "182.Yellow_Warbler             test samples 12   , training samples 48   : 0.5\n",
      "183.Northern_Waterthrush       test samples 12   , training samples 48   : 0.4166666666666667\n",
      "184.Louisiana_Waterthrush      test samples 12   , training samples 48   : 0.4166666666666667\n",
      "185.Bohemian_Waxwing           test samples 12   , training samples 48   : 0.75\n",
      "186.Cedar_Waxwing              test samples 12   , training samples 48   : 0.75\n",
      "187.American_Three_toed_Woodpecker test samples 10   , training samples 40   : 0.6\n",
      "188.Pileated_Woodpecker        test samples 12   , training samples 48   : 0.6666666666666666\n",
      "189.Red_bellied_Woodpecker     test samples 12   , training samples 48   : 1.0\n",
      "190.Red_cockaded_Woodpecker    test samples 11   , training samples 47   : 0.7272727272727273\n",
      "191.Red_headed_Woodpecker      test samples 12   , training samples 48   : 0.75\n",
      "192.Downy_Woodpecker           test samples 12   , training samples 48   : 0.9166666666666666\n",
      "193.Bewick_Wren                test samples 12   , training samples 48   : 0.25\n",
      "194.Cactus_Wren                test samples 12   , training samples 48   : 0.5\n",
      "195.Carolina_Wren              test samples 12   , training samples 48   : 0.75\n",
      "196.House_Wren                 test samples 12   , training samples 47   : 0.3333333333333333\n",
      "197.Marsh_Wren                 test samples 12   , training samples 48   : 0.25\n",
      "198.Rock_Wren                  test samples 12   , training samples 48   : 0.5\n",
      "199.Winter_Wren                test samples 12   , training samples 48   : 0.6666666666666666\n",
      "200.Common_Yellowthroat        test samples 12   , training samples 48   : 0.75\n"
     ]
    }
   ],
   "source": [
    "acc_dict2 = {}\n",
    "for i in test_labels.unique():\n",
    "    new_labels = test_labels[test_labels==i]\n",
    "    new_embeddings = test_embeddings[test_labels==i]\n",
    "    accuracies = accuracy_calculator.get_accuracy(\n",
    "        new_embeddings, new_labels, train_embeddings, train_labels, False\n",
    "    )\n",
    "    acc_dict2[data_dict[int(i.detach().cpu().numpy())]]=[ \n",
    "                  len(new_labels),\n",
    "                  len(train_labels[train_labels==i]),\n",
    "                  accuracies[\"precision_at_1\"]]\n",
    "    print(\"{:<30} test samples {:<5}, training samples {:<5}: {}\".format(data_dict[int(i.detach().cpu().numpy())],\n",
    "                                                                  len(new_labels),\n",
    "                                                                  len(train_labels[train_labels==i]),\n",
    "                                                                  accuracies[\"precision_at_1\"]))"
   ]
  },
  {
   "cell_type": "code",
   "execution_count": 66,
   "id": "a4b11cdb-01fc-426d-8708-aa4bd126db7c",
   "metadata": {},
   "outputs": [],
   "source": [
    "all_table = [[k]+v for k,v in acc_dict2.items()]\n",
    "columns = [\"class_name\", \"no. of test samples\", \"no. of train samples\", \"precision@1\"]\n",
    "train_table = wandb.Table(data=all_table, columns=columns)\n",
    "run.log({\"limited_classes_metrics\": train_table})"
   ]
  },
  {
   "cell_type": "code",
   "execution_count": 67,
   "id": "da619f84-3f14-4f62-95e1-09970154fd4c",
   "metadata": {},
   "outputs": [],
   "source": [
    "import faiss\n",
    "# Create a Faiss index\n",
    "index = faiss.IndexFlatIP(config['embedding_dim'])\n",
    "# Add some vectors to the index\n",
    "index.add(train_embeddings.detach().cpu().numpy())"
   ]
  },
  {
   "cell_type": "code",
   "execution_count": 68,
   "id": "1ee1a034-2fb6-4c8a-83a6-5dd028770c4d",
   "metadata": {},
   "outputs": [],
   "source": [
    "pred_labels = [] \n",
    "for embedding,label in zip(test_embeddings.detach().cpu().numpy(),test_labels):\n",
    "    distances, indices = index.search(embedding.reshape(1,-1).astype(np.float32), 2)\n",
    "    pred_class = train_labels[indices[0][1]]\n",
    "    pred_labels.append(pred_class)"
   ]
  },
  {
   "cell_type": "code",
   "execution_count": 69,
   "id": "7648e35a-de8c-42cc-aa9d-19fea3acdfcb",
   "metadata": {},
   "outputs": [],
   "source": [
    "pred_labels = [i.detach().cpu().numpy() for i in pred_labels]"
   ]
  },
  {
   "cell_type": "code",
   "execution_count": 70,
   "id": "0fd4ff45-4722-456e-81c0-c7a2cb8e31c7",
   "metadata": {
    "scrolled": true
   },
   "outputs": [
    {
     "name": "stdout",
     "output_type": "stream",
     "text": [
      "                                    precision    recall  f1-score   support\n",
      "\n",
      "        001.Black_footed_Albatross       0.52      0.92      0.67        12\n",
      "              002.Laysan_Albatross       0.55      0.50      0.52        12\n",
      "               003.Sooty_Albatross       0.50      0.33      0.40        12\n",
      "             004.Groove_billed_Ani       0.59      0.83      0.69        12\n",
      "                005.Crested_Auklet       0.70      0.78      0.74         9\n",
      "                  006.Least_Auklet       0.78      0.88      0.82         8\n",
      "               007.Parakeet_Auklet       0.82      0.90      0.86        10\n",
      "             008.Rhinoceros_Auklet       0.80      0.44      0.57         9\n",
      "              009.Brewer_Blackbird       0.30      0.25      0.27        12\n",
      "          010.Red_winged_Blackbird       1.00      0.92      0.96        12\n",
      "               011.Rusty_Blackbird       0.62      0.42      0.50        12\n",
      "       012.Yellow_headed_Blackbird       0.90      0.82      0.86        11\n",
      "                      013.Bobolink       0.73      0.67      0.70        12\n",
      "                014.Indigo_Bunting       0.56      0.75      0.64        12\n",
      "                015.Lazuli_Bunting       0.70      0.64      0.67        11\n",
      "               016.Painted_Bunting       0.89      0.73      0.80        11\n",
      "                      017.Cardinal       0.89      0.73      0.80        11\n",
      "               018.Spotted_Catbird       0.70      0.78      0.74         9\n",
      "                  019.Gray_Catbird       0.67      0.67      0.67        12\n",
      "          020.Yellow_breasted_Chat       0.62      0.42      0.50        12\n",
      "                021.Eastern_Towhee       0.86      0.50      0.63        12\n",
      "              022.Chuck_will_Widow       0.55      0.55      0.55        11\n",
      "              023.Brandt_Cormorant       0.64      0.58      0.61        12\n",
      "           024.Red_faced_Cormorant       0.43      0.60      0.50        10\n",
      "             025.Pelagic_Cormorant       0.42      0.42      0.42        12\n",
      "               026.Bronzed_Cowbird       0.89      0.67      0.76        12\n",
      "                 027.Shiny_Cowbird       0.20      0.17      0.18        12\n",
      "                 028.Brown_Creeper       0.73      0.92      0.81        12\n",
      "                 029.American_Crow       0.28      0.42      0.33        12\n",
      "                     030.Fish_Crow       0.22      0.17      0.19        12\n",
      "           031.Black_billed_Cuckoo       0.42      0.42      0.42        12\n",
      "               032.Mangrove_Cuckoo       0.56      0.50      0.53        10\n",
      "          033.Yellow_billed_Cuckoo       0.31      0.42      0.36        12\n",
      "       034.Gray_crowned_Rosy_Finch       0.85      0.92      0.88        12\n",
      "                  035.Purple_Finch       0.73      0.92      0.81        12\n",
      "              036.Northern_Flicker       0.91      0.83      0.87        12\n",
      "            037.Acadian_Flycatcher       0.29      0.42      0.34        12\n",
      "      038.Great_Crested_Flycatcher       0.50      0.42      0.45        12\n",
      "              039.Least_Flycatcher       0.27      0.25      0.26        12\n",
      "        040.Olive_sided_Flycatcher       0.50      0.42      0.45        12\n",
      "     041.Scissor_tailed_Flycatcher       0.92      0.92      0.92        12\n",
      "          042.Vermilion_Flycatcher       0.83      0.83      0.83        12\n",
      "     043.Yellow_bellied_Flycatcher       0.31      0.33      0.32        12\n",
      "                   044.Frigatebird       0.80      0.67      0.73        12\n",
      "               045.Northern_Fulmar       0.46      0.50      0.48        12\n",
      "                       046.Gadwall       0.77      0.83      0.80        12\n",
      "            047.American_Goldfinch       0.69      0.75      0.72        12\n",
      "            048.European_Goldfinch       0.79      0.92      0.85        12\n",
      "           049.Boat_tailed_Grackle       0.27      0.25      0.26        12\n",
      "                   050.Eared_Grebe       0.50      0.42      0.45        12\n",
      "                  051.Horned_Grebe       0.73      0.67      0.70        12\n",
      "             052.Pied_billed_Grebe       0.77      0.83      0.80        12\n",
      "                 053.Western_Grebe       0.77      0.83      0.80        12\n",
      "                 054.Blue_Grosbeak       0.58      0.58      0.58        12\n",
      "              055.Evening_Grosbeak       0.92      1.00      0.96        12\n",
      "                 056.Pine_Grosbeak       0.62      0.67      0.64        12\n",
      "        057.Rose_breasted_Grosbeak       0.79      0.92      0.85        12\n",
      "              058.Pigeon_Guillemot       0.57      0.67      0.62        12\n",
      "               059.California_Gull       0.08      0.08      0.08        12\n",
      "          060.Glaucous_winged_Gull       0.33      0.33      0.33        12\n",
      "                 061.Heermann_Gull       0.90      0.75      0.82        12\n",
      "                  062.Herring_Gull       0.50      0.33      0.40        12\n",
      "                    063.Ivory_Gull       0.77      0.83      0.80        12\n",
      "              064.Ring_billed_Gull       0.42      0.42      0.42        12\n",
      "             065.Slaty_backed_Gull       0.17      0.10      0.12        10\n",
      "                  066.Western_Gull       0.27      0.33      0.30        12\n",
      "              067.Anna_Hummingbird       0.38      0.25      0.30        12\n",
      "     068.Ruby_throated_Hummingbird       0.60      0.75      0.67        12\n",
      "            069.Rufous_Hummingbird       0.69      0.75      0.72        12\n",
      "               070.Green_Violetear       0.79      0.92      0.85        12\n",
      "            071.Long_tailed_Jaeger       0.47      0.58      0.52        12\n",
      "               072.Pomarine_Jaeger       0.56      0.42      0.48        12\n",
      "                      073.Blue_Jay       0.90      0.75      0.82        12\n",
      "                   074.Florida_Jay       0.82      0.75      0.78        12\n",
      "                     075.Green_Jay       0.90      0.82      0.86        11\n",
      "               076.Dark_eyed_Junco       0.75      0.75      0.75        12\n",
      "             077.Tropical_Kingbird       0.75      0.75      0.75        12\n",
      "                 078.Gray_Kingbird       0.83      0.42      0.56        12\n",
      "             079.Belted_Kingfisher       0.60      0.50      0.55        12\n",
      "              080.Green_Kingfisher       0.67      0.67      0.67        12\n",
      "               081.Pied_Kingfisher       0.83      0.83      0.83        12\n",
      "             082.Ringed_Kingfisher       0.73      0.92      0.81        12\n",
      "     083.White_breasted_Kingfisher       1.00      0.92      0.96        12\n",
      "          084.Red_legged_Kittiwake       0.64      0.70      0.67        10\n",
      "                   085.Horned_Lark       0.88      0.58      0.70        12\n",
      "                  086.Pacific_Loon       0.54      0.58      0.56        12\n",
      "                       087.Mallard       0.91      0.83      0.87        12\n",
      "            088.Western_Meadowlark       0.79      0.92      0.85        12\n",
      "              089.Hooded_Merganser       0.62      0.83      0.71        12\n",
      "        090.Red_breasted_Merganser       0.67      0.83      0.74        12\n",
      "                   091.Mockingbird       0.38      0.25      0.30        12\n",
      "                     092.Nighthawk       0.42      0.42      0.42        12\n",
      "              093.Clark_Nutcracker       0.77      0.83      0.80        12\n",
      "       094.White_breasted_Nuthatch       0.92      1.00      0.96        12\n",
      "              095.Baltimore_Oriole       0.82      0.75      0.78        12\n",
      "                 096.Hooded_Oriole       0.54      0.58      0.56        12\n",
      "                097.Orchard_Oriole       0.62      0.67      0.64        12\n",
      "                  098.Scott_Oriole       0.69      0.92      0.79        12\n",
      "                      099.Ovenbird       0.50      0.75      0.60        12\n",
      "                 100.Brown_Pelican       0.92      0.92      0.92        12\n",
      "                 101.White_Pelican       0.90      0.90      0.90        10\n",
      "            102.Western_Wood_Pewee       0.17      0.25      0.20        12\n",
      "                      103.Sayornis       0.45      0.42      0.43        12\n",
      "                104.American_Pipit       0.39      0.58      0.47        12\n",
      "                105.Whip_poor_Will       0.29      0.20      0.24        10\n",
      "                 106.Horned_Puffin       1.00      0.67      0.80        12\n",
      "                  107.Common_Raven       0.33      0.50      0.40        12\n",
      "            108.White_necked_Raven       0.43      0.50      0.46        12\n",
      "             109.American_Redstart       0.75      1.00      0.86        12\n",
      "                     110.Geococcyx       0.67      0.83      0.74        12\n",
      "             111.Loggerhead_Shrike       0.40      0.50      0.44        12\n",
      "             112.Great_Grey_Shrike       0.36      0.33      0.35        12\n",
      "                 113.Baird_Sparrow       0.25      0.40      0.31        10\n",
      "        114.Black_throated_Sparrow       0.62      0.67      0.64        12\n",
      "                115.Brewer_Sparrow       0.36      0.42      0.38        12\n",
      "              116.Chipping_Sparrow       0.38      0.50      0.43        12\n",
      "          117.Clay_colored_Sparrow       0.38      0.50      0.43        12\n",
      "                 118.House_Sparrow       0.60      0.25      0.35        12\n",
      "                 119.Field_Sparrow       0.44      0.33      0.38        12\n",
      "                   120.Fox_Sparrow       0.64      0.58      0.61        12\n",
      "           121.Grasshopper_Sparrow       0.30      0.25      0.27        12\n",
      "                122.Harris_Sparrow       0.88      0.58      0.70        12\n",
      "               123.Henslow_Sparrow       0.25      0.25      0.25        12\n",
      "              124.Le_Conte_Sparrow       0.40      0.50      0.44        12\n",
      "               125.Lincoln_Sparrow       0.42      0.42      0.42        12\n",
      "   126.Nelson_Sharp_tailed_Sparrow       0.62      0.67      0.64        12\n",
      "              127.Savannah_Sparrow       0.30      0.25      0.27        12\n",
      "               128.Seaside_Sparrow       0.50      0.50      0.50        12\n",
      "                  129.Song_Sparrow       0.60      0.50      0.55        12\n",
      "                  130.Tree_Sparrow       0.47      0.67      0.55        12\n",
      "                131.Vesper_Sparrow       0.47      0.67      0.55        12\n",
      "         132.White_crowned_Sparrow       0.75      0.50      0.60        12\n",
      "        133.White_throated_Sparrow       0.42      0.67      0.52        12\n",
      "          134.Cape_Glossy_Starling       0.91      0.83      0.87        12\n",
      "                  135.Bank_Swallow       0.31      0.42      0.36        12\n",
      "                  136.Barn_Swallow       0.89      0.67      0.76        12\n",
      "                 137.Cliff_Swallow       0.50      0.33      0.40        12\n",
      "                  138.Tree_Swallow       0.59      0.83      0.69        12\n",
      "               139.Scarlet_Tanager       0.73      0.92      0.81        12\n",
      "                140.Summer_Tanager       1.00      0.75      0.86        12\n",
      "                    141.Artic_Tern       0.43      0.55      0.48        11\n",
      "                    142.Black_Tern       0.50      0.17      0.25        12\n",
      "                  143.Caspian_Tern       0.57      0.67      0.62        12\n",
      "                   144.Common_Tern       0.18      0.17      0.17        12\n",
      "                  145.Elegant_Tern       0.36      0.33      0.35        12\n",
      "                 146.Forsters_Tern       0.33      0.33      0.33        12\n",
      "                    147.Least_Tern       0.64      0.75      0.69        12\n",
      "           148.Green_tailed_Towhee       0.75      0.75      0.75        12\n",
      "                149.Brown_Thrasher       0.45      0.42      0.43        12\n",
      "                 150.Sage_Thrasher       0.46      0.50      0.48        12\n",
      "            151.Black_capped_Vireo       0.83      0.50      0.62        10\n",
      "             152.Blue_headed_Vireo       0.60      0.50      0.55        12\n",
      "            153.Philadelphia_Vireo       0.43      0.75      0.55        12\n",
      "                154.Red_eyed_Vireo       0.40      0.67      0.50        12\n",
      "                155.Warbling_Vireo       0.24      0.33      0.28        12\n",
      "              156.White_eyed_Vireo       0.67      0.50      0.57        12\n",
      "         157.Yellow_throated_Vireo       0.40      0.50      0.44        12\n",
      "          158.Bay_breasted_Warbler       0.80      0.67      0.73        12\n",
      "       159.Black_and_white_Warbler       0.85      0.92      0.88        12\n",
      "   160.Black_throated_Blue_Warbler       0.80      0.67      0.73        12\n",
      "           161.Blue_winged_Warbler       0.50      0.50      0.50        12\n",
      "                162.Canada_Warbler       0.55      0.50      0.52        12\n",
      "              163.Cape_May_Warbler       0.50      0.75      0.60        12\n",
      "              164.Cerulean_Warbler       0.80      0.67      0.73        12\n",
      "        165.Chestnut_sided_Warbler       0.67      0.50      0.57        12\n",
      "         166.Golden_winged_Warbler       0.75      0.75      0.75        12\n",
      "                167.Hooded_Warbler       0.54      0.58      0.56        12\n",
      "              168.Kentucky_Warbler       0.62      0.67      0.64        12\n",
      "              169.Magnolia_Warbler       0.67      0.67      0.67        12\n",
      "              170.Mourning_Warbler       0.62      0.67      0.64        12\n",
      "                171.Myrtle_Warbler       0.33      0.25      0.29        12\n",
      "             172.Nashville_Warbler       0.55      0.50      0.52        12\n",
      "        173.Orange_crowned_Warbler       0.38      0.42      0.40        12\n",
      "                  174.Palm_Warbler       0.67      0.17      0.27        12\n",
      "                  175.Pine_Warbler       0.60      0.25      0.35        12\n",
      "               176.Prairie_Warbler       0.60      0.75      0.67        12\n",
      "          177.Prothonotary_Warbler       0.78      0.58      0.67        12\n",
      "              178.Swainson_Warbler       0.33      0.36      0.35        11\n",
      "             179.Tennessee_Warbler       0.33      0.25      0.29        12\n",
      "                180.Wilson_Warbler       0.50      0.67      0.57        12\n",
      "           181.Worm_eating_Warbler       0.50      0.33      0.40        12\n",
      "                182.Yellow_Warbler       0.73      0.67      0.70        12\n",
      "          183.Northern_Waterthrush       0.36      0.42      0.38        12\n",
      "         184.Louisiana_Waterthrush       0.00      0.00      0.00        12\n",
      "              185.Bohemian_Waxwing       1.00      0.50      0.67        12\n",
      "                 186.Cedar_Waxwing       0.73      0.67      0.70        12\n",
      "187.American_Three_toed_Woodpecker       0.70      0.70      0.70        10\n",
      "           188.Pileated_Woodpecker       1.00      0.75      0.86        12\n",
      "        189.Red_bellied_Woodpecker       0.79      0.92      0.85        12\n",
      "       190.Red_cockaded_Woodpecker       0.58      0.64      0.61        11\n",
      "         191.Red_headed_Woodpecker       0.82      0.75      0.78        12\n",
      "              192.Downy_Woodpecker       0.85      0.92      0.88        12\n",
      "                   193.Bewick_Wren       0.42      0.42      0.42        12\n",
      "                   194.Cactus_Wren       0.62      0.42      0.50        12\n",
      "                 195.Carolina_Wren       0.75      0.50      0.60        12\n",
      "                    196.House_Wren       0.14      0.08      0.11        12\n",
      "                    197.Marsh_Wren       0.17      0.08      0.11        12\n",
      "                     198.Rock_Wren       0.73      0.67      0.70        12\n",
      "                   199.Winter_Wren       0.54      0.58      0.56        12\n",
      "           200.Common_Yellowthroat       0.73      0.67      0.70        12\n",
      "\n",
      "                          accuracy                           0.58      2358\n",
      "                         macro avg       0.59      0.58      0.58      2358\n",
      "                      weighted avg       0.59      0.58      0.58      2358\n",
      "\n"
     ]
    }
   ],
   "source": [
    "from sklearn.metrics import classification_report\n",
    "print(classification_report(test_labels.detach().cpu().numpy(), pred_labels, target_names=list(class_dict.keys())))"
   ]
  },
  {
   "cell_type": "code",
   "execution_count": 71,
   "id": "f6154bd0-11f0-42b4-b860-b3b34ea93d52",
   "metadata": {},
   "outputs": [],
   "source": [
    "from sklearn.metrics import classification_report\n",
    "report = classification_report(test_labels.detach().cpu().numpy(), pred_labels, target_names=list(class_dict.keys()),output_dict=True)\n",
    "df = pd.DataFrame(report).transpose()\n",
    "df.reset_index(inplace=True)\n",
    "df.rename(columns={\"index\":'class_name'},inplace=True)\n",
    "classification_report_table = wandb.Table(dataframe=df)"
   ]
  },
  {
   "cell_type": "code",
   "execution_count": 72,
   "id": "8967c721-10c7-4d82-9c44-cf69368c9cf2",
   "metadata": {},
   "outputs": [],
   "source": [
    "run.log({\"limited_classes_classification_report\": classification_report_table})"
   ]
  },
  {
   "cell_type": "markdown",
   "id": "25ca19e9-fde4-4738-b3fe-35d7f6c3f8b8",
   "metadata": {},
   "source": [
    "## metric drop for unseen classes"
   ]
  },
  {
   "cell_type": "code",
   "execution_count": 73,
   "id": "308604b3-e2e4-48ce-b3a8-09b38ca315df",
   "metadata": {},
   "outputs": [],
   "source": [
    "unseen_class_names = sorted(key for key in acc_dict.keys() if int(key.split('.')[0]) >= 180)"
   ]
  },
  {
   "cell_type": "code",
   "execution_count": 74,
   "id": "b27e7a53-584d-410e-ad34-466aedca1350",
   "metadata": {
    "scrolled": true
   },
   "outputs": [],
   "source": [
    "comparison_table_data = []\n",
    "for class_name in unseen_class_names:\n",
    "    comparison_table_data.append([class_name,acc_dict[class_name][-1],acc_dict2[class_name][-1]])"
   ]
  },
  {
   "cell_type": "code",
   "execution_count": 75,
   "id": "abe4a706-16b2-46ac-8954-2d5ceb07abf8",
   "metadata": {},
   "outputs": [
    {
     "data": {
      "text/plain": [
       "[['180.Wilson_Warbler', 0.6666666666666666, 0.6666666666666666],\n",
       " ['181.Worm_eating_Warbler', 0.6666666666666666, 0.4166666666666667],\n",
       " ['182.Yellow_Warbler', 0.6666666666666666, 0.5],\n",
       " ['183.Northern_Waterthrush', 0.6666666666666666, 0.4166666666666667],\n",
       " ['184.Louisiana_Waterthrush', 0.4166666666666667, 0.4166666666666667],\n",
       " ['185.Bohemian_Waxwing', 0.75, 0.75],\n",
       " ['186.Cedar_Waxwing', 0.75, 0.75],\n",
       " ['187.American_Three_toed_Woodpecker', 0.4, 0.6],\n",
       " ['188.Pileated_Woodpecker', 0.8333333333333334, 0.6666666666666666],\n",
       " ['189.Red_bellied_Woodpecker', 1.0, 1.0],\n",
       " ['190.Red_cockaded_Woodpecker', 0.8181818181818182, 0.7272727272727273],\n",
       " ['191.Red_headed_Woodpecker', 0.8333333333333334, 0.75],\n",
       " ['192.Downy_Woodpecker', 0.9166666666666666, 0.9166666666666666],\n",
       " ['193.Bewick_Wren', 0.5, 0.25],\n",
       " ['194.Cactus_Wren', 0.8333333333333334, 0.5],\n",
       " ['195.Carolina_Wren', 0.6666666666666666, 0.75],\n",
       " ['196.House_Wren', 0.4166666666666667, 0.3333333333333333],\n",
       " ['197.Marsh_Wren', 0.6666666666666666, 0.25],\n",
       " ['198.Rock_Wren', 0.8333333333333334, 0.5],\n",
       " ['199.Winter_Wren', 0.75, 0.6666666666666666],\n",
       " ['200.Common_Yellowthroat', 0.9166666666666666, 0.75]]"
      ]
     },
     "execution_count": 75,
     "metadata": {},
     "output_type": "execute_result"
    }
   ],
   "source": [
    "comparison_table_data"
   ]
  },
  {
   "cell_type": "code",
   "execution_count": 76,
   "id": "2400629c-33f5-4b19-bbab-9d75c92dd6d4",
   "metadata": {},
   "outputs": [],
   "source": [
    "comparison_table = wandb.Table(data=comparison_table_data, columns=['class_name','all_classes_precision@1','unseen_classes_precision@1'])"
   ]
  },
  {
   "cell_type": "code",
   "execution_count": 77,
   "id": "daa9ab4f-6abe-4469-91b8-2c48f17f7400",
   "metadata": {},
   "outputs": [],
   "source": [
    "run.log({\"comparison_unseen_classes_metrics\": comparison_table})"
   ]
  },
  {
   "cell_type": "code",
   "execution_count": 78,
   "id": "288120aa-ccc7-4249-8498-63c82972342a",
   "metadata": {},
   "outputs": [],
   "source": [
    "precisions = np.array(comparison_table_data)[:,1:3].astype(np.float32)"
   ]
  },
  {
   "cell_type": "code",
   "execution_count": 79,
   "id": "aea80d7d-48d9-45b2-9b80-50df8c6f2e73",
   "metadata": {},
   "outputs": [],
   "source": [
    "wandb.log({'precision_drop_unseen_classes':np.mean(np.subtract(precisions[:,0],precisions[:,1]))})"
   ]
  },
  {
   "cell_type": "code",
   "execution_count": 80,
   "id": "af46aba2-37f3-486f-9e25-cfa7eda1ef9f",
   "metadata": {},
   "outputs": [
    {
     "data": {
      "text/plain": [
       "0.7127706"
      ]
     },
     "execution_count": 80,
     "metadata": {},
     "output_type": "execute_result"
    }
   ],
   "source": [
    "np.mean(np.array(comparison_table_data)[:,1].astype(np.float32))"
   ]
  },
  {
   "cell_type": "code",
   "execution_count": 81,
   "id": "66bba804-8b69-429b-a366-a4e4663cd5c4",
   "metadata": {},
   "outputs": [],
   "source": [
    "table = wandb.Table(data=[['trained',round(np.mean(np.array(comparison_table_data)[:,1].astype(np.float32)),2)],\n",
    "                          ['untrained',np.mean(np.array(comparison_table_data)[:,2].astype(np.float32))]],\n",
    "                    columns = [\"label\", \"value\"])"
   ]
  },
  {
   "cell_type": "code",
   "execution_count": 82,
   "id": "c27203e6-bec2-4ec7-8a55-e28a126d1fc2",
   "metadata": {},
   "outputs": [],
   "source": [
    "wandb.log({\"avg_precision_unseen_classes_chart\" : wandb.plot.bar(table, \"label\", \"value\",title=\"avg_precision_unseen_classes_chart\")})"
   ]
  },
  {
   "cell_type": "markdown",
   "id": "8474d6e8-63e1-4bd8-b170-b13a1803634e",
   "metadata": {},
   "source": [
    "## metric drop for all classes because of new unseen classes"
   ]
  },
  {
   "cell_type": "code",
   "execution_count": 83,
   "id": "0d53c17d-3ee9-4947-84a0-61e87855daf0",
   "metadata": {},
   "outputs": [],
   "source": [
    "comparison_table_data = []\n",
    "for class_name in acc_dict.keys():\n",
    "    comparison_table_data.append([class_name,acc_dict[class_name][-1],acc_dict2[class_name][-1]])"
   ]
  },
  {
   "cell_type": "code",
   "execution_count": 84,
   "id": "bd465f2b-8fd1-419f-a3bb-8daa56d9956e",
   "metadata": {},
   "outputs": [],
   "source": [
    "precisions = np.array(comparison_table_data)[:,1:3].astype(np.float32)"
   ]
  },
  {
   "cell_type": "code",
   "execution_count": 85,
   "id": "2af3e145-3fd1-4e2f-b10e-8ed86ecda2b5",
   "metadata": {},
   "outputs": [
    {
     "data": {
      "text/plain": [
       "array([[0.8333333 , 0.6666667 ],\n",
       "       [0.75      , 0.75      ],\n",
       "       [0.33333334, 0.75      ],\n",
       "       [0.75      , 0.8333333 ],\n",
       "       [0.7777778 , 0.6666667 ],\n",
       "       [0.5       , 0.625     ],\n",
       "       [1.        , 0.8       ],\n",
       "       [0.5555556 , 0.33333334],\n",
       "       [0.25      , 0.41666666],\n",
       "       [0.75      , 0.8333333 ],\n",
       "       [0.41666666, 0.33333334],\n",
       "       [1.        , 0.90909094],\n",
       "       [0.6666667 , 0.75      ],\n",
       "       [0.8333333 , 0.75      ],\n",
       "       [0.72727275, 0.6363636 ],\n",
       "       [0.72727275, 0.6363636 ],\n",
       "       [0.6363636 , 0.54545456],\n",
       "       [0.8888889 , 0.8888889 ],\n",
       "       [0.75      , 0.6666667 ],\n",
       "       [0.25      , 0.6666667 ],\n",
       "       [0.75      , 0.5833333 ],\n",
       "       [0.27272728, 0.27272728],\n",
       "       [0.5833333 , 0.25      ],\n",
       "       [0.8       , 0.9       ],\n",
       "       [0.16666667, 0.25      ],\n",
       "       [0.6666667 , 0.75      ],\n",
       "       [0.41666666, 0.33333334],\n",
       "       [1.        , 1.        ],\n",
       "       [0.16666667, 0.33333334],\n",
       "       [0.25      , 0.16666667],\n",
       "       [0.5833333 , 0.6666667 ],\n",
       "       [0.5       , 0.6       ],\n",
       "       [0.5833333 , 0.41666666],\n",
       "       [0.9166667 , 0.8333333 ],\n",
       "       [0.8333333 , 0.9166667 ],\n",
       "       [0.6666667 , 0.75      ],\n",
       "       [0.5       , 0.5       ],\n",
       "       [0.5833333 , 0.6666667 ],\n",
       "       [0.5       , 0.16666667],\n",
       "       [0.5       , 0.25      ],\n",
       "       [0.9166667 , 0.75      ],\n",
       "       [0.8333333 , 0.9166667 ],\n",
       "       [0.16666667, 0.33333334],\n",
       "       [0.9166667 , 0.5833333 ],\n",
       "       [0.41666666, 0.5       ],\n",
       "       [0.9166667 , 0.9166667 ],\n",
       "       [0.75      , 0.8333333 ],\n",
       "       [1.        , 0.9166667 ],\n",
       "       [0.5       , 0.33333334],\n",
       "       [0.6666667 , 0.41666666],\n",
       "       [0.6666667 , 0.5       ],\n",
       "       [0.8333333 , 0.9166667 ],\n",
       "       [1.        , 1.        ],\n",
       "       [0.5       , 0.5833333 ],\n",
       "       [1.        , 0.8333333 ],\n",
       "       [1.        , 0.75      ],\n",
       "       [0.9166667 , 0.9166667 ],\n",
       "       [0.8333333 , 0.8333333 ],\n",
       "       [0.5       , 0.33333334],\n",
       "       [0.25      , 0.08333334],\n",
       "       [0.8333333 , 0.75      ],\n",
       "       [0.25      , 0.25      ],\n",
       "       [0.9166667 , 0.8333333 ],\n",
       "       [0.41666666, 0.25      ],\n",
       "       [0.3       , 0.3       ],\n",
       "       [0.16666667, 0.6666667 ],\n",
       "       [0.41666666, 0.5833333 ],\n",
       "       [0.75      , 0.75      ],\n",
       "       [0.75      , 0.8333333 ],\n",
       "       [0.9166667 , 0.9166667 ],\n",
       "       [0.41666666, 0.33333334],\n",
       "       [0.5       , 0.33333334],\n",
       "       [0.8333333 , 0.75      ],\n",
       "       [0.75      , 0.75      ],\n",
       "       [0.8181818 , 0.8181818 ],\n",
       "       [0.9166667 , 0.9166667 ],\n",
       "       [0.9166667 , 0.75      ],\n",
       "       [0.5833333 , 0.5833333 ],\n",
       "       [0.8333333 , 0.5       ],\n",
       "       [0.8333333 , 0.75      ],\n",
       "       [0.9166667 , 0.9166667 ],\n",
       "       [0.9166667 , 0.8333333 ],\n",
       "       [0.9166667 , 0.8333333 ],\n",
       "       [0.8       , 0.6       ],\n",
       "       [0.9166667 , 0.5833333 ],\n",
       "       [0.8333333 , 0.6666667 ],\n",
       "       [1.        , 0.9166667 ],\n",
       "       [0.8333333 , 0.8333333 ],\n",
       "       [0.9166667 , 0.9166667 ],\n",
       "       [0.9166667 , 0.9166667 ],\n",
       "       [0.08333334, 0.16666667],\n",
       "       [0.75      , 0.6666667 ],\n",
       "       [0.8333333 , 0.8333333 ],\n",
       "       [1.        , 1.        ],\n",
       "       [0.9166667 , 0.75      ],\n",
       "       [0.75      , 0.9166667 ],\n",
       "       [0.5       , 0.5       ],\n",
       "       [0.8333333 , 0.9166667 ],\n",
       "       [0.75      , 0.6666667 ],\n",
       "       [1.        , 0.8333333 ],\n",
       "       [0.9       , 0.8       ],\n",
       "       [0.41666666, 0.16666667],\n",
       "       [0.41666666, 0.41666666],\n",
       "       [0.5833333 , 0.41666666],\n",
       "       [0.2       , 0.4       ],\n",
       "       [0.9166667 , 1.        ],\n",
       "       [0.25      , 0.5       ],\n",
       "       [0.6666667 , 0.41666666],\n",
       "       [1.        , 1.        ],\n",
       "       [0.8333333 , 0.8333333 ],\n",
       "       [0.6666667 , 0.5       ],\n",
       "       [0.33333334, 0.5833333 ],\n",
       "       [0.5       , 0.6       ],\n",
       "       [0.9166667 , 0.5833333 ],\n",
       "       [0.5833333 , 0.25      ],\n",
       "       [0.5833333 , 0.41666666],\n",
       "       [0.5833333 , 0.33333334],\n",
       "       [0.33333334, 0.25      ],\n",
       "       [0.75      , 0.5833333 ],\n",
       "       [0.6666667 , 0.6666667 ],\n",
       "       [0.25      , 0.33333334],\n",
       "       [0.75      , 0.5833333 ],\n",
       "       [0.6666667 , 0.41666666],\n",
       "       [0.5       , 0.5       ],\n",
       "       [0.5833333 , 0.41666666],\n",
       "       [0.5       , 0.5833333 ],\n",
       "       [0.33333334, 0.25      ],\n",
       "       [0.5833333 , 0.75      ],\n",
       "       [0.41666666, 0.25      ],\n",
       "       [0.41666666, 0.41666666],\n",
       "       [0.5       , 0.5833333 ],\n",
       "       [0.8333333 , 0.5       ],\n",
       "       [0.5833333 , 0.75      ],\n",
       "       [0.8333333 , 0.8333333 ],\n",
       "       [0.5833333 , 0.33333334],\n",
       "       [0.5833333 , 0.75      ],\n",
       "       [0.6666667 , 0.33333334],\n",
       "       [0.9166667 , 0.75      ],\n",
       "       [0.9166667 , 0.8333333 ],\n",
       "       [0.8333333 , 0.8333333 ],\n",
       "       [0.8181818 , 0.72727275],\n",
       "       [0.25      , 0.25      ],\n",
       "       [0.33333334, 0.41666666],\n",
       "       [0.16666667, 0.25      ],\n",
       "       [0.5       , 0.25      ],\n",
       "       [0.33333334, 0.6666667 ],\n",
       "       [0.8333333 , 0.8333333 ],\n",
       "       [0.8333333 , 0.8333333 ],\n",
       "       [0.6666667 , 0.6666667 ],\n",
       "       [0.5833333 , 0.5833333 ],\n",
       "       [0.6       , 0.5       ],\n",
       "       [0.33333334, 0.33333334],\n",
       "       [0.5       , 0.5       ],\n",
       "       [0.8333333 , 0.41666666],\n",
       "       [0.33333334, 0.5833333 ],\n",
       "       [0.75      , 0.5833333 ],\n",
       "       [0.5       , 0.41666666],\n",
       "       [0.8333333 , 1.        ],\n",
       "       [0.9166667 , 0.75      ],\n",
       "       [0.8333333 , 0.8333333 ],\n",
       "       [0.5       , 0.6666667 ],\n",
       "       [0.5       , 0.41666666],\n",
       "       [0.8333333 , 0.75      ],\n",
       "       [0.8333333 , 0.8333333 ],\n",
       "       [0.75      , 0.75      ],\n",
       "       [0.9166667 , 0.75      ],\n",
       "       [0.75      , 0.5833333 ],\n",
       "       [0.75      , 0.9166667 ],\n",
       "       [0.8333333 , 0.8333333 ],\n",
       "       [0.6666667 , 0.75      ],\n",
       "       [0.8333333 , 0.5833333 ],\n",
       "       [0.9166667 , 0.41666666],\n",
       "       [0.6666667 , 0.5833333 ],\n",
       "       [0.33333334, 0.25      ],\n",
       "       [0.5833333 , 0.5       ],\n",
       "       [1.        , 0.9166667 ],\n",
       "       [0.9166667 , 0.75      ],\n",
       "       [0.54545456, 0.54545456],\n",
       "       [0.25      , 0.16666667],\n",
       "       [0.6666667 , 0.6666667 ],\n",
       "       [0.6666667 , 0.41666666],\n",
       "       [0.6666667 , 0.5       ],\n",
       "       [0.6666667 , 0.41666666],\n",
       "       [0.41666666, 0.41666666],\n",
       "       [0.75      , 0.75      ],\n",
       "       [0.75      , 0.75      ],\n",
       "       [0.4       , 0.6       ],\n",
       "       [0.8333333 , 0.6666667 ],\n",
       "       [1.        , 1.        ],\n",
       "       [0.8181818 , 0.72727275],\n",
       "       [0.8333333 , 0.75      ],\n",
       "       [0.9166667 , 0.9166667 ],\n",
       "       [0.5       , 0.25      ],\n",
       "       [0.8333333 , 0.5       ],\n",
       "       [0.6666667 , 0.75      ],\n",
       "       [0.41666666, 0.33333334],\n",
       "       [0.6666667 , 0.25      ],\n",
       "       [0.8333333 , 0.5       ],\n",
       "       [0.75      , 0.6666667 ],\n",
       "       [0.9166667 , 0.75      ]], dtype=float32)"
      ]
     },
     "execution_count": 85,
     "metadata": {},
     "output_type": "execute_result"
    }
   ],
   "source": [
    "precisions"
   ]
  },
  {
   "cell_type": "code",
   "execution_count": 86,
   "id": "7d8a6e83-8a54-44f6-9f00-2842e8b53e6a",
   "metadata": {},
   "outputs": [],
   "source": [
    "wandb.log({'precision_drop_all_classes':np.mean(np.subtract(precisions[:,0],precisions[:,1]))})"
   ]
  },
  {
   "cell_type": "code",
   "execution_count": 87,
   "id": "3a2d6dd0-2165-4c2d-a053-51454eed7af9",
   "metadata": {},
   "outputs": [
    {
     "data": {
      "application/vnd.jupyter.widget-view+json": {
       "model_id": "",
       "version_major": 2,
       "version_minor": 0
      },
      "text/plain": [
       "VBox(children=(Label(value='0.107 MB of 0.107 MB uploaded\\r'), FloatProgress(value=0.9990275150779773, max=1.0…"
      ]
     },
     "metadata": {},
     "output_type": "display_data"
    },
    {
     "data": {
      "text/html": [
       "<style>\n",
       "    table.wandb td:nth-child(1) { padding: 0 10px; text-align: left ; width: auto;} td:nth-child(2) {text-align: left ; width: 100%}\n",
       "    .wandb-row { display: flex; flex-direction: row; flex-wrap: wrap; justify-content: flex-start; width: 100% }\n",
       "    .wandb-col { display: flex; flex-direction: column; flex-basis: 100%; flex: 1; padding: 10px; }\n",
       "    </style>\n",
       "<div class=\"wandb-row\"><div class=\"wandb-col\"><h3>Run history:</h3><br/><table class=\"wandb\"><tr><td>epoch</td><td>▁▁▂▂▂▃▃▃▄▄▅▅▅▆▆▆▇▇▇█▁▁▂▂▂▃▃▄▄▄▅▅▅▆▆▆▇▇██</td></tr><tr><td>precision_drop_all_classes</td><td>▁</td></tr><tr><td>precision_drop_unseen_classes</td><td>▁</td></tr><tr><td>test_accuracy</td><td>▁▂▃▄▄▅▅▅▅▅▆▆▆▆▆▆▆▇▇▇▇▇▇▇▇▇▇▇▇██▇████████</td></tr><tr><td>test_accuracy2</td><td>▁▂▃▄▄▄▅▅▅▆▆▆▆▆▆▆▇▆▇▇▇▇▇▇▇▇▇▇▇▇▇█████████</td></tr><tr><td>train_loss</td><td>█▇▆▆▆▅▅▅▄▄▄▄▄▄▄▄▃▃▃▃▃▃▂▂▃▂▂▂▂▂▂▂▁▁▂▁▁▁▁▁</td></tr><tr><td>train_loss2</td><td>█▇▆▆▆▅▅▅▅▄▄▄▄▄▄▃▃▃▃▃▃▃▃▂▃▂▂▂▂▂▂▂▂▁▂▁▁▁▁▁</td></tr></table><br/></div><div class=\"wandb-col\"><h3>Run summary:</h3><br/><table class=\"wandb\"><tr><td>epoch</td><td>100</td></tr><tr><td>precision_drop_all_classes</td><td>0.0516</td></tr><tr><td>precision_drop_unseen_classes</td><td>0.11385</td></tr><tr><td>test_accuracy</td><td>0.66153</td></tr><tr><td>test_accuracy2</td><td>0.64669</td></tr><tr><td>train_loss</td><td>0.38635</td></tr><tr><td>train_loss2</td><td>0.39728</td></tr></table><br/></div></div>"
      ],
      "text/plain": [
       "<IPython.core.display.HTML object>"
      ]
     },
     "metadata": {},
     "output_type": "display_data"
    },
    {
     "data": {
      "text/html": [
       " View run <strong style=\"color:#cdcd00\">cub_epshn_resnet18+bn1d_sgd_aug</strong> at: <a href='https://wandb.ai/pranavjadhav001/embedding_based_classification/runs/rugpiddt' target=\"_blank\">https://wandb.ai/pranavjadhav001/embedding_based_classification/runs/rugpiddt</a><br/>Synced 6 W&B file(s), 6 media file(s), 6 artifact file(s) and 0 other file(s)"
      ],
      "text/plain": [
       "<IPython.core.display.HTML object>"
      ]
     },
     "metadata": {},
     "output_type": "display_data"
    },
    {
     "data": {
      "text/html": [
       "Find logs at: <code>./wandb/run-20240427_081455-rugpiddt/logs</code>"
      ],
      "text/plain": [
       "<IPython.core.display.HTML object>"
      ]
     },
     "metadata": {},
     "output_type": "display_data"
    }
   ],
   "source": [
    "run.finish()"
   ]
  },
  {
   "cell_type": "code",
   "execution_count": null,
   "id": "111c0597-826f-490d-9ea2-063569064fce",
   "metadata": {},
   "outputs": [],
   "source": []
  }
 ],
 "metadata": {
  "kernelspec": {
   "display_name": "Python 3 (ipykernel)",
   "language": "python",
   "name": "python3"
  },
  "language_info": {
   "codemirror_mode": {
    "name": "ipython",
    "version": 3
   },
   "file_extension": ".py",
   "mimetype": "text/x-python",
   "name": "python",
   "nbconvert_exporter": "python",
   "pygments_lexer": "ipython3",
   "version": "3.10.13"
  }
 },
 "nbformat": 4,
 "nbformat_minor": 5
}
