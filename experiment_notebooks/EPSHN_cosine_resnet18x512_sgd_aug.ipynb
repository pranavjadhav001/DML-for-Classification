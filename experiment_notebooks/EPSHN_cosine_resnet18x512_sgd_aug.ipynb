{
 "cells": [
  {
   "cell_type": "code",
   "execution_count": 1,
   "id": "5ffca082-4e33-4910-bddd-7467769c68a2",
   "metadata": {},
   "outputs": [],
   "source": [
    "import numpy as np\n",
    "import PIL\n",
    "import umap\n",
    "import pandas as pd\n",
    "import json\n",
    "import glob\n",
    "from pytorch_metric_learning import distances, losses, miners, reducers\n",
    "import torch.nn as nn\n",
    "import os\n",
    "import matplotlib.pyplot as plt"
   ]
  },
  {
   "cell_type": "code",
   "execution_count": 2,
   "id": "df805f67-18d4-4f50-a057-90ebe6d234ee",
   "metadata": {},
   "outputs": [],
   "source": [
    "import torch\n",
    "import torchvision\n",
    "from torchvision import models\n",
    "import torch\n",
    "import torch.nn as nn\n",
    "import torch.nn.functional as F\n",
    "import torch.optim as optim\n",
    "from torchvision import datasets, transforms\n",
    "from torch.utils.data.sampler import SubsetRandomSampler\n",
    "from tqdm import tqdm\n",
    "from pytorch_metric_learning import losses, testers\n",
    "from pytorch_metric_learning.utils.accuracy_calculator import AccuracyCalculator\n",
    "from pytorch_metric_learning.distances import LpDistance,CosineSimilarity\n",
    "from pytorch_metric_learning.utils.inference import CustomKNN"
   ]
  },
  {
   "cell_type": "code",
   "execution_count": 3,
   "id": "e1f8f3ef-c0a5-492e-a89e-a126cd3709cc",
   "metadata": {},
   "outputs": [],
   "source": [
    "%matplotlib inline\n",
    "import torch\n",
    "import torch.nn as nn\n",
    "from matplotlib import pyplot as plt\n",
    "import numpy as np\n",
    "import torchvision\n",
    "import torchvision.datasets as datasets\n",
    "import torchvision.models as models\n",
    "from torchvision import transforms\n",
    "import torch.optim as optim\n",
    "import time\n",
    "import tqdm as tqdm\n",
    "from torch.autograd import Variable"
   ]
  },
  {
   "cell_type": "code",
   "execution_count": 4,
   "id": "e90d2b46-62b6-4d65-accd-b65666481d53",
   "metadata": {},
   "outputs": [
    {
     "name": "stderr",
     "output_type": "stream",
     "text": [
      "\u001b[34m\u001b[1mwandb\u001b[0m: Currently logged in as: \u001b[33mpranavjadhav001\u001b[0m. Use \u001b[1m`wandb login --relogin`\u001b[0m to force relogin\n"
     ]
    },
    {
     "data": {
      "text/plain": [
       "True"
      ]
     },
     "execution_count": 4,
     "metadata": {},
     "output_type": "execute_result"
    }
   ],
   "source": [
    "import wandb\n",
    "import random  # for demo script\n",
    "\n",
    "wandb.login()"
   ]
  },
  {
   "cell_type": "code",
   "execution_count": 4,
   "id": "dfc3914e-3d5f-4c4a-a6d6-6a55ff22c849",
   "metadata": {},
   "outputs": [],
   "source": [
    "config = {\n",
    "    'name':'cub_triplet_loss_epshn_resnet18x512_sgd_aug',\n",
    "    'dataset':'CUB_200_2011',\n",
    "    'random_seed':42,\n",
    "    'model_architecture':'resnet18',\n",
    "    'embedding_dim':512,\n",
    "    'distance':'cosine',\n",
    "    'image_height':224,\n",
    "    'image_width':224,\n",
    "    'train_test_split':0.2,\n",
    "    'class_split':0.1,\n",
    "    'batch_size':128,\n",
    "    'optimizer':'sgd',\n",
    "    'learning_rate':0.001,\n",
    "    'num_epochs':100,\n",
    "    'loss':'NTXentLoss',\n",
    "    'miner':'epshn',\n",
    "    'reducer':0,\n",
    "    'metric':'precision_at_1',\n",
    "    'model_save_path':'models/cub_triplet_loss_epshn_resnet18x512_sgd_aug',\n",
    "    'temperature': 0.1\n",
    "}"
   ]
  },
  {
   "cell_type": "code",
   "execution_count": 7,
   "id": "ea1ac4e6-27ce-4223-8633-6c4bb31e07bc",
   "metadata": {},
   "outputs": [
    {
     "data": {
      "application/vnd.jupyter.widget-view+json": {
       "model_id": "7e57108803bb4787995c0b58805dd05a",
       "version_major": 2,
       "version_minor": 0
      },
      "text/plain": [
       "VBox(children=(Label(value='Waiting for wandb.init()...\\r'), FloatProgress(value=0.01111312920000071, max=1.0)…"
      ]
     },
     "metadata": {},
     "output_type": "display_data"
    },
    {
     "data": {
      "text/html": [
       "wandb version 0.16.6 is available!  To upgrade, please run:\n",
       " $ pip install wandb --upgrade"
      ],
      "text/plain": [
       "<IPython.core.display.HTML object>"
      ]
     },
     "metadata": {},
     "output_type": "display_data"
    },
    {
     "data": {
      "text/html": [
       "Tracking run with wandb version 0.16.4"
      ],
      "text/plain": [
       "<IPython.core.display.HTML object>"
      ]
     },
     "metadata": {},
     "output_type": "display_data"
    },
    {
     "data": {
      "text/html": [
       "Run data is saved locally in <code>/embedding_classification/wandb/run-20240426_152632-e14agtu5</code>"
      ],
      "text/plain": [
       "<IPython.core.display.HTML object>"
      ]
     },
     "metadata": {},
     "output_type": "display_data"
    },
    {
     "data": {
      "text/html": [
       "Syncing run <strong><a href='https://wandb.ai/pranavjadhav001/embedding_based_classification/runs/e14agtu5' target=\"_blank\">cub_triplet_loss_epshn_resnet18x512_sgd_aug</a></strong> to <a href='https://wandb.ai/pranavjadhav001/embedding_based_classification' target=\"_blank\">Weights & Biases</a> (<a href='https://wandb.me/run' target=\"_blank\">docs</a>)<br/>"
      ],
      "text/plain": [
       "<IPython.core.display.HTML object>"
      ]
     },
     "metadata": {},
     "output_type": "display_data"
    },
    {
     "data": {
      "text/html": [
       " View project at <a href='https://wandb.ai/pranavjadhav001/embedding_based_classification' target=\"_blank\">https://wandb.ai/pranavjadhav001/embedding_based_classification</a>"
      ],
      "text/plain": [
       "<IPython.core.display.HTML object>"
      ]
     },
     "metadata": {},
     "output_type": "display_data"
    },
    {
     "data": {
      "text/html": [
       " View run at <a href='https://wandb.ai/pranavjadhav001/embedding_based_classification/runs/e14agtu5' target=\"_blank\">https://wandb.ai/pranavjadhav001/embedding_based_classification/runs/e14agtu5</a>"
      ],
      "text/plain": [
       "<IPython.core.display.HTML object>"
      ]
     },
     "metadata": {},
     "output_type": "display_data"
    },
    {
     "name": "stdout",
     "output_type": "stream",
     "text": [
      "e14agtu5\n"
     ]
    }
   ],
   "source": [
    "id = wandb.util.generate_id()\n",
    "run = wandb.init(\n",
    "    id=id,\n",
    "    name = config['name'],\n",
    "    # Set the project where this run will be logged\n",
    "    project=\"embedding_based_classification\",\n",
    "    # Track hyperparameters and run metadata\n",
    "    config=config,\n",
    "    resume=\"allow\"\n",
    ")\n",
    "print(id)"
   ]
  },
  {
   "cell_type": "code",
   "execution_count": 5,
   "id": "2762de2f-b1ec-49ae-bdc8-56ad406334e1",
   "metadata": {},
   "outputs": [],
   "source": [
    "np.random.seed(config['random_seed'])\n",
    "torch.manual_seed(config['random_seed'])\n",
    "torch.cuda.manual_seed(config['random_seed'])\n",
    "torch.backends.cudnn.deterministic = False"
   ]
  },
  {
   "cell_type": "code",
   "execution_count": 8,
   "id": "fd54e43e-bcb2-4be5-9f51-1366b8a5cfb6",
   "metadata": {},
   "outputs": [],
   "source": [
    "os.chdir('..')\n",
    "if not os.path.exists('models'):\n",
    "    os.makedirs('models')"
   ]
  },
  {
   "cell_type": "code",
   "execution_count": 6,
   "id": "86a9b19c-f95a-4976-bed3-47cd97da3fbf",
   "metadata": {},
   "outputs": [],
   "source": [
    "# print(models.resnet18())\n",
    "class ResNetFeatrueExtractor18(nn.Module):\n",
    "    def __init__(self, pretrained = True):\n",
    "        super(ResNetFeatrueExtractor18, self).__init__()\n",
    "        model_resnet18 = models.resnet18(pretrained=pretrained)\n",
    "        self.conv1 = model_resnet18.conv1\n",
    "        self.bn1 = model_resnet18.bn1\n",
    "        self.relu = model_resnet18.relu\n",
    "        self.maxpool = model_resnet18.maxpool\n",
    "        self.layer1 = model_resnet18.layer1\n",
    "        self.layer2 = model_resnet18.layer2\n",
    "        self.layer3 = model_resnet18.layer3\n",
    "        self.layer4 = model_resnet18.layer4\n",
    "        self.avgpool = model_resnet18.avgpool\n",
    "        self.fc1 = nn.Linear(512, config['embedding_dim'])\n",
    "        \n",
    "    def forward(self, x):\n",
    "        x = self.relu(self.bn1(self.conv1(x)))\n",
    "        x = self.maxpool(x)\n",
    "        x = self.layer1(x)\n",
    "        x = self.layer2(x)\n",
    "        x = self.layer3(x)\n",
    "        x = self.layer4(x)\n",
    "        x = self.avgpool(x)\n",
    "        x = x.view(x.size(0), -1)\n",
    "        x = self.fc1(x)\n",
    "        return x"
   ]
  },
  {
   "cell_type": "code",
   "execution_count": 7,
   "id": "3113a9df-ae34-49a4-be12-cfc0168aa08a",
   "metadata": {},
   "outputs": [
    {
     "name": "stderr",
     "output_type": "stream",
     "text": [
      "/opt/conda/lib/python3.10/site-packages/torchvision/models/_utils.py:208: UserWarning: The parameter 'pretrained' is deprecated since 0.13 and may be removed in the future, please use 'weights' instead.\n",
      "  warnings.warn(\n",
      "/opt/conda/lib/python3.10/site-packages/torchvision/models/_utils.py:223: UserWarning: Arguments other than a weight enum or `None` for 'weights' are deprecated since 0.13 and may be removed in the future. The current behavior is equivalent to passing `weights=ResNet18_Weights.IMAGENET1K_V1`. You can also use `weights=ResNet18_Weights.DEFAULT` to get the most up-to-date weights.\n",
      "  warnings.warn(msg)\n"
     ]
    },
    {
     "data": {
      "text/plain": [
       "torch.Size([18, 512])"
      ]
     },
     "execution_count": 7,
     "metadata": {},
     "output_type": "execute_result"
    }
   ],
   "source": [
    "ResNetFeatrueExtractor18()(torch.zeros(18,3,28,28)).shape"
   ]
  },
  {
   "cell_type": "code",
   "execution_count": 8,
   "id": "1d2af52d-f3cf-4fb5-9d46-01d52b7eecd5",
   "metadata": {
    "scrolled": true
   },
   "outputs": [],
   "source": [
    "### MNIST code originally from https://github.com/pytorch/examples/blob/master/mnist/main.py ###\n",
    "def train(model, loss_func,mining_func, device, train_loader, optimizer, epoch):\n",
    "    model.train()\n",
    "    train_losses = []\n",
    "    for batch_idx, (data, labels) in enumerate(train_loader):\n",
    "        data, labels = data.to(device), labels.to(device)\n",
    "        optimizer.zero_grad()\n",
    "        embeddings = model(data)\n",
    "        indices_tuple = mining_func(embeddings, labels)\n",
    "        loss = loss_func(embeddings, labels, indices_tuple)\n",
    "        loss.backward()\n",
    "        optimizer.step()\n",
    "        train_losses.append(loss)\n",
    "        if batch_idx % 100 == 0:\n",
    "            print(\"Epoch {} Iteration {}: Loss = {}\".format(epoch, batch_idx, loss))\n",
    "    return torch.mean(torch.tensor(train_losses)).item()\n",
    "    \n",
    "### convenient function from pytorch-metric-learning ###\n",
    "def get_all_embeddings(dataset, model):\n",
    "    tester = testers.BaseTester(dataloader_num_workers=0)\n",
    "    return tester.get_all_embeddings(dataset, model)\n",
    "\n",
    "### compute accuracy using AccuracyCalculator from pytorch-metric-learning ###\n",
    "def test(train_set, test_set, model, accuracy_calculator):\n",
    "    train_embeddings, train_labels = get_all_embeddings(train_set, model)\n",
    "    test_embeddings, test_labels = get_all_embeddings(test_set, model)\n",
    "    train_labels = train_labels.squeeze(1)\n",
    "    test_labels = test_labels.squeeze(1)\n",
    "    print(\"Computing accuracy\")\n",
    "    accuracies = accuracy_calculator.get_accuracy(\n",
    "        test_embeddings, test_labels, train_embeddings, train_labels, False\n",
    "    )\n",
    "    print(\"Test set accuracy (Precision@1) = {}\".format(accuracies[\"precision_at_1\"]))\n",
    "    return accuracies[\"precision_at_1\"]\n",
    "    \n",
    "device = torch.device(\"cuda\")\n",
    "\n",
    "mean = [0.485, 0.456, 0.406]\n",
    "std = [0.229, 0.224, 0.225]\n",
    "\n",
    "# create train and test transforms\n",
    "transform = transforms.Compose(\n",
    "    [\n",
    "        transforms.Resize((config['image_height'], config['image_width'])),\n",
    "        transforms.ToTensor(),\n",
    "        transforms.Normalize(mean, std),\n",
    "    ]\n",
    ")\n",
    "\n",
    "batch_size = 128"
   ]
  },
  {
   "cell_type": "code",
   "execution_count": 18,
   "id": "74bc7144-4ac1-46af-acb8-abf120dc0312",
   "metadata": {},
   "outputs": [],
   "source": [
    "def tra_transforms(imgsize, RGBmean, RGBstdv):\n",
    "    return transforms.Compose([transforms.Resize(int(imgsize*1.1)),\n",
    "                                 transforms.RandomCrop(imgsize),\n",
    "                                 transforms.RandomHorizontalFlip(),\n",
    "                                 transforms.ToTensor(),\n",
    "                                 transforms.Normalize(RGBmean, RGBstdv)])\n",
    "\n",
    "def eva_transforms(imgsize, RGBmean, RGBstdv):\n",
    "    return transforms.Compose([transforms.Resize(imgsize),\n",
    "                                 transforms.CenterCrop(imgsize),\n",
    "                                 transforms.ToTensor()])\n",
    "                                 #transforms.Normalize(RGBmean, RGBstdv)])\n"
   ]
  },
  {
   "cell_type": "code",
   "execution_count": 19,
   "id": "012c1d87-698e-4abe-919e-9050c600673d",
   "metadata": {},
   "outputs": [],
   "source": [
    "train_transform = tra_transforms(224,mean,std)\n",
    "test_transform = eva_transforms(224,mean,std)"
   ]
  },
  {
   "cell_type": "code",
   "execution_count": 20,
   "id": "4edc54cc-56a9-4889-bc86-a2caef18b958",
   "metadata": {},
   "outputs": [],
   "source": [
    "with open('CUB_200_2011/classes.txt','r') as f:\n",
    "    classes = f.readlines()\n",
    "classes = [i.replace('\\n','') for i in classes]\n",
    "classes = [i.split(' ')[1] for i in classes]\n",
    "class_dict = {k:v for k,v in zip(classes,range(200))}"
   ]
  },
  {
   "cell_type": "code",
   "execution_count": 21,
   "id": "565c42ed-11e7-42f1-9bbc-6cc8b089816c",
   "metadata": {},
   "outputs": [],
   "source": [
    "image_paths = []\n",
    "labels = []\n",
    "for folder_path,i in class_dict.items():\n",
    "    folder_images = glob.glob('CUB_200_2011/images/'+'/'+str(folder_path)+'/*')\n",
    "    image_paths.extend(folder_images)\n",
    "    labels.extend([i]*len(folder_images))"
   ]
  },
  {
   "cell_type": "code",
   "execution_count": 22,
   "id": "e3ed0eff-8d29-481e-b7b3-ecd842781f12",
   "metadata": {},
   "outputs": [],
   "source": [
    "from sklearn.model_selection import train_test_split\n",
    "X_train, X_test, y_train, y_test = train_test_split(image_paths, labels, test_size=config['train_test_split'],\n",
    "                                                    stratify=labels,\n",
    "                                                    random_state=config['random_seed'])"
   ]
  },
  {
   "cell_type": "code",
   "execution_count": 23,
   "id": "373894a5-b193-433b-8c42-1d5ac082d312",
   "metadata": {},
   "outputs": [
    {
     "name": "stdout",
     "output_type": "stream",
     "text": [
      "9430 2358 9430 2358\n"
     ]
    }
   ],
   "source": [
    "print(len(X_train), len(X_test), len(y_train), len(y_test))"
   ]
  },
  {
   "cell_type": "code",
   "execution_count": 31,
   "id": "d85fde76-4b7a-4e4e-9207-51596442dc80",
   "metadata": {},
   "outputs": [],
   "source": [
    "import torch\n",
    "from torch.utils.data import Dataset, DataLoader\n",
    "import torchvision.transforms as transforms\n",
    "\n",
    "class CUBDataset(Dataset):\n",
    "    def __init__(self, image_paths,labels,transform=None):\n",
    "        self.image_paths = image_paths\n",
    "        self.labels = labels\n",
    "        self.transform = transform\n",
    "        self.load_image_from_paths()\n",
    "        \n",
    "    def load_image_from_paths(self):\n",
    "        self.images = []\n",
    "        for i in self.image_paths:\n",
    "            img = PIL.Image.open(i)\n",
    "            if len(img.getbands()) ==1 :\n",
    "                img = img.convert(\"RGB\")\n",
    "            self.images.append(img)\n",
    "            \n",
    "    def __len__(self):\n",
    "        return len(self.images)\n",
    "\n",
    "    def __getitem__(self, idx):\n",
    "        image = self.images[idx]\n",
    "        label = self.labels[idx]\n",
    "        if self.transform:\n",
    "            image = self.transform(image)\n",
    "        return image, label"
   ]
  },
  {
   "cell_type": "code",
   "execution_count": 25,
   "id": "27cbe2f3-e65f-4705-bc31-3b382ddd2e59",
   "metadata": {},
   "outputs": [],
   "source": [
    "train_dataset  = CUBDataset(X_train,y_train,train_transform)\n",
    "test_dataset  = CUBDataset(X_test,y_test,test_transform)\n",
    "train_loader = torch.utils.data.DataLoader(train_dataset, batch_size=128, shuffle=True)\n",
    "test_loader = torch.utils.data.DataLoader(test_dataset, batch_size=128, shuffle=False)"
   ]
  },
  {
   "cell_type": "code",
   "execution_count": 47,
   "id": "6f22dd74-3ef4-47d1-a43c-aecc01d59822",
   "metadata": {},
   "outputs": [
    {
     "name": "stderr",
     "output_type": "stream",
     "text": [
      "/opt/conda/lib/python3.10/site-packages/torchvision/models/_utils.py:208: UserWarning: The parameter 'pretrained' is deprecated since 0.13 and may be removed in the future, please use 'weights' instead.\n",
      "  warnings.warn(\n",
      "/opt/conda/lib/python3.10/site-packages/torchvision/models/_utils.py:223: UserWarning: Arguments other than a weight enum or `None` for 'weights' are deprecated since 0.13 and may be removed in the future. The current behavior is equivalent to passing `weights=ResNet18_Weights.IMAGENET1K_V1`. You can also use `weights=ResNet18_Weights.DEFAULT` to get the most up-to-date weights.\n",
      "  warnings.warn(msg)\n"
     ]
    }
   ],
   "source": [
    "model = ResNetFeatrueExtractor18()\n",
    "model = model.to(device)\n",
    "optimizer = optim.SGD(model.parameters(), lr=config['learning_rate'])\n",
    "num_epochs = config['num_epochs']\n",
    "\n",
    "### pytorch-metric-learning stuff ###\n",
    "distance = distances.CosineSimilarity()\n",
    "reducer = reducers.MeanReducer()\n",
    "loss_func = losses.NTXentLoss(temperature=config['temperature'], distance=distance, reducer=reducer)\n",
    "mining_func = miners.BatchEasyHardMiner(pos_strategy=\"easy\",neg_strategy=\"semihard\")\n",
    "knn_func = CustomKNN(CosineSimilarity())\n",
    "accuracy_calculator = AccuracyCalculator(include=(\"precision_at_1\",),k=1,knn_func=knn_func,avg_of_avgs=True,return_per_class=False)"
   ]
  },
  {
   "cell_type": "code",
   "execution_count": 21,
   "id": "d4d15606-5164-4513-b1ff-44d64647a82b",
   "metadata": {},
   "outputs": [
    {
     "data": {
      "text/plain": [
       "[]"
      ]
     },
     "execution_count": 21,
     "metadata": {},
     "output_type": "execute_result"
    }
   ],
   "source": [
    "wandb.watch(model, log='all')"
   ]
  },
  {
   "cell_type": "code",
   "execution_count": 22,
   "id": "e5bb77dd-c3e8-42d8-8074-27b2210cdb77",
   "metadata": {},
   "outputs": [
    {
     "name": "stdout",
     "output_type": "stream",
     "text": [
      "Epoch 1 Iteration 0: Loss = 0.6506922841072083\n"
     ]
    },
    {
     "name": "stderr",
     "output_type": "stream",
     "text": [
      "100%|█████████████████████████████████████████████████████████████████████████████████████████████████████| 295/295 [00:16<00:00, 17.82it/s]\n",
      "100%|███████████████████████████████████████████████████████████████████████████████████████████████████████| 74/74 [00:09<00:00,  7.74it/s]\n"
     ]
    },
    {
     "name": "stdout",
     "output_type": "stream",
     "text": [
      "Computing accuracy\n",
      "Test set accuracy (Precision@1) = 0.4202739898989899\n",
      "Epoch 2 Iteration 0: Loss = 0.6294650435447693\n"
     ]
    },
    {
     "name": "stderr",
     "output_type": "stream",
     "text": [
      "100%|█████████████████████████████████████████████████████████████████████████████████████████████████████| 295/295 [00:16<00:00, 17.52it/s]\n",
      "100%|███████████████████████████████████████████████████████████████████████████████████████████████████████| 74/74 [00:03<00:00, 18.56it/s]\n"
     ]
    },
    {
     "name": "stdout",
     "output_type": "stream",
     "text": [
      "Computing accuracy\n",
      "Test set accuracy (Precision@1) = 0.425145202020202\n",
      "Epoch 3 Iteration 0: Loss = 0.6085958480834961\n"
     ]
    },
    {
     "name": "stderr",
     "output_type": "stream",
     "text": [
      "100%|█████████████████████████████████████████████████████████████████████████████████████████████████████| 295/295 [00:16<00:00, 17.75it/s]\n",
      "100%|███████████████████████████████████████████████████████████████████████████████████████████████████████| 74/74 [00:03<00:00, 19.43it/s]\n"
     ]
    },
    {
     "name": "stdout",
     "output_type": "stream",
     "text": [
      "Computing accuracy\n",
      "Test set accuracy (Precision@1) = 0.43407954545454547\n",
      "Epoch 4 Iteration 0: Loss = 0.6224195957183838\n"
     ]
    },
    {
     "name": "stderr",
     "output_type": "stream",
     "text": [
      "100%|█████████████████████████████████████████████████████████████████████████████████████████████████████| 295/295 [00:16<00:00, 17.93it/s]\n",
      "100%|███████████████████████████████████████████████████████████████████████████████████████████████████████| 74/74 [00:03<00:00, 19.45it/s]\n"
     ]
    },
    {
     "name": "stdout",
     "output_type": "stream",
     "text": [
      "Computing accuracy\n",
      "Test set accuracy (Precision@1) = 0.45574621212121214\n",
      "Epoch 5 Iteration 0: Loss = 0.6237155199050903\n"
     ]
    },
    {
     "name": "stderr",
     "output_type": "stream",
     "text": [
      "100%|█████████████████████████████████████████████████████████████████████████████████████████████████████| 295/295 [00:16<00:00, 17.94it/s]\n",
      "100%|███████████████████████████████████████████████████████████████████████████████████████████████████████| 74/74 [00:03<00:00, 19.17it/s]\n"
     ]
    },
    {
     "name": "stdout",
     "output_type": "stream",
     "text": [
      "Computing accuracy\n",
      "Test set accuracy (Precision@1) = 0.45567424242424237\n",
      "Epoch 6 Iteration 0: Loss = 0.6113542914390564\n"
     ]
    },
    {
     "name": "stderr",
     "output_type": "stream",
     "text": [
      "100%|█████████████████████████████████████████████████████████████████████████████████████████████████████| 295/295 [00:16<00:00, 17.98it/s]\n",
      "100%|███████████████████████████████████████████████████████████████████████████████████████████████████████| 74/74 [00:03<00:00, 19.40it/s]\n"
     ]
    },
    {
     "name": "stdout",
     "output_type": "stream",
     "text": [
      "Computing accuracy\n",
      "Test set accuracy (Precision@1) = 0.4631414141414142\n",
      "Epoch 7 Iteration 0: Loss = 0.6157971620559692\n"
     ]
    },
    {
     "name": "stderr",
     "output_type": "stream",
     "text": [
      "100%|█████████████████████████████████████████████████████████████████████████████████████████████████████| 295/295 [00:16<00:00, 17.88it/s]\n",
      "100%|███████████████████████████████████████████████████████████████████████████████████████████████████████| 74/74 [00:03<00:00, 19.42it/s]\n"
     ]
    },
    {
     "name": "stdout",
     "output_type": "stream",
     "text": [
      "Computing accuracy\n",
      "Test set accuracy (Precision@1) = 0.4824116161616162\n",
      "Epoch 8 Iteration 0: Loss = 0.582663893699646\n"
     ]
    },
    {
     "name": "stderr",
     "output_type": "stream",
     "text": [
      "100%|█████████████████████████████████████████████████████████████████████████████████████████████████████| 295/295 [00:16<00:00, 18.00it/s]\n",
      "100%|███████████████████████████████████████████████████████████████████████████████████████████████████████| 74/74 [00:03<00:00, 19.38it/s]\n"
     ]
    },
    {
     "name": "stdout",
     "output_type": "stream",
     "text": [
      "Computing accuracy\n",
      "Test set accuracy (Precision@1) = 0.47579166666666667\n",
      "Epoch 9 Iteration 0: Loss = 0.5672847628593445\n"
     ]
    },
    {
     "name": "stderr",
     "output_type": "stream",
     "text": [
      "100%|█████████████████████████████████████████████████████████████████████████████████████████████████████| 295/295 [00:16<00:00, 18.02it/s]\n",
      "100%|███████████████████████████████████████████████████████████████████████████████████████████████████████| 74/74 [00:03<00:00, 19.44it/s]\n"
     ]
    },
    {
     "name": "stdout",
     "output_type": "stream",
     "text": [
      "Computing accuracy\n",
      "Test set accuracy (Precision@1) = 0.5104356060606061\n",
      "Epoch 10 Iteration 0: Loss = 0.6459391117095947\n"
     ]
    },
    {
     "name": "stderr",
     "output_type": "stream",
     "text": [
      "100%|█████████████████████████████████████████████████████████████████████████████████████████████████████| 295/295 [00:16<00:00, 18.02it/s]\n",
      "100%|███████████████████████████████████████████████████████████████████████████████████████████████████████| 74/74 [00:03<00:00, 19.58it/s]\n"
     ]
    },
    {
     "name": "stdout",
     "output_type": "stream",
     "text": [
      "Computing accuracy\n",
      "Test set accuracy (Precision@1) = 0.49407954545454547\n",
      "Epoch 11 Iteration 0: Loss = 0.5965772271156311\n"
     ]
    },
    {
     "name": "stderr",
     "output_type": "stream",
     "text": [
      "100%|█████████████████████████████████████████████████████████████████████████████████████████████████████| 295/295 [00:16<00:00, 17.81it/s]\n",
      "100%|███████████████████████████████████████████████████████████████████████████████████████████████████████| 74/74 [00:03<00:00, 19.10it/s]\n"
     ]
    },
    {
     "name": "stdout",
     "output_type": "stream",
     "text": [
      "Computing accuracy\n",
      "Test set accuracy (Precision@1) = 0.4960252525252525\n",
      "Epoch 12 Iteration 0: Loss = 0.6086688041687012\n"
     ]
    },
    {
     "name": "stderr",
     "output_type": "stream",
     "text": [
      "100%|█████████████████████████████████████████████████████████████████████████████████████████████████████| 295/295 [00:16<00:00, 17.92it/s]\n",
      "100%|███████████████████████████████████████████████████████████████████████████████████████████████████████| 74/74 [00:03<00:00, 19.51it/s]\n"
     ]
    },
    {
     "name": "stdout",
     "output_type": "stream",
     "text": [
      "Computing accuracy\n",
      "Test set accuracy (Precision@1) = 0.5124116161616162\n",
      "Epoch 13 Iteration 0: Loss = 0.5862095952033997\n"
     ]
    },
    {
     "name": "stderr",
     "output_type": "stream",
     "text": [
      "100%|█████████████████████████████████████████████████████████████████████████████████████████████████████| 295/295 [00:16<00:00, 17.97it/s]\n",
      "100%|███████████████████████████████████████████████████████████████████████████████████████████████████████| 74/74 [00:03<00:00, 19.45it/s]\n"
     ]
    },
    {
     "name": "stdout",
     "output_type": "stream",
     "text": [
      "Computing accuracy\n",
      "Test set accuracy (Precision@1) = 0.5143093434343434\n",
      "Epoch 14 Iteration 0: Loss = 0.6357440948486328\n"
     ]
    },
    {
     "name": "stderr",
     "output_type": "stream",
     "text": [
      "100%|█████████████████████████████████████████████████████████████████████████████████████████████████████| 295/295 [00:16<00:00, 17.96it/s]\n",
      "100%|███████████████████████████████████████████████████████████████████████████████████████████████████████| 74/74 [00:03<00:00, 19.39it/s]\n"
     ]
    },
    {
     "name": "stdout",
     "output_type": "stream",
     "text": [
      "Computing accuracy\n",
      "Test set accuracy (Precision@1) = 0.5137121212121213\n",
      "Epoch 15 Iteration 0: Loss = 0.5654153823852539\n"
     ]
    },
    {
     "name": "stderr",
     "output_type": "stream",
     "text": [
      "100%|█████████████████████████████████████████████████████████████████████████████████████████████████████| 295/295 [00:16<00:00, 17.91it/s]\n",
      "100%|███████████████████████████████████████████████████████████████████████████████████████████████████████| 74/74 [00:03<00:00, 19.37it/s]\n"
     ]
    },
    {
     "name": "stdout",
     "output_type": "stream",
     "text": [
      "Computing accuracy\n",
      "Test set accuracy (Precision@1) = 0.5269520202020201\n",
      "Epoch 16 Iteration 0: Loss = 0.5871714949607849\n"
     ]
    },
    {
     "name": "stderr",
     "output_type": "stream",
     "text": [
      "100%|█████████████████████████████████████████████████████████████████████████████████████████████████████| 295/295 [00:16<00:00, 17.96it/s]\n",
      "100%|███████████████████████████████████████████████████████████████████████████████████████████████████████| 74/74 [00:03<00:00, 19.38it/s]\n"
     ]
    },
    {
     "name": "stdout",
     "output_type": "stream",
     "text": [
      "Computing accuracy\n",
      "Test set accuracy (Precision@1) = 0.5241174242424242\n",
      "Epoch 17 Iteration 0: Loss = 0.5998092889785767\n"
     ]
    },
    {
     "name": "stderr",
     "output_type": "stream",
     "text": [
      "100%|█████████████████████████████████████████████████████████████████████████████████████████████████████| 295/295 [00:16<00:00, 18.06it/s]\n",
      "100%|███████████████████████████████████████████████████████████████████████████████████████████████████████| 74/74 [00:03<00:00, 19.39it/s]\n"
     ]
    },
    {
     "name": "stdout",
     "output_type": "stream",
     "text": [
      "Computing accuracy\n",
      "Test set accuracy (Precision@1) = 0.5313863636363637\n",
      "Epoch 18 Iteration 0: Loss = 0.559358537197113\n"
     ]
    },
    {
     "name": "stderr",
     "output_type": "stream",
     "text": [
      "100%|█████████████████████████████████████████████████████████████████████████████████████████████████████| 295/295 [00:16<00:00, 18.01it/s]\n",
      "100%|███████████████████████████████████████████████████████████████████████████████████████████████████████| 74/74 [00:03<00:00, 19.36it/s]\n"
     ]
    },
    {
     "name": "stdout",
     "output_type": "stream",
     "text": [
      "Computing accuracy\n",
      "Test set accuracy (Precision@1) = 0.521104797979798\n",
      "Epoch 19 Iteration 0: Loss = 0.5784149765968323\n"
     ]
    },
    {
     "name": "stderr",
     "output_type": "stream",
     "text": [
      "100%|█████████████████████████████████████████████████████████████████████████████████████████████████████| 295/295 [00:16<00:00, 17.96it/s]\n",
      "100%|███████████████████████████████████████████████████████████████████████████████████████████████████████| 74/74 [00:03<00:00, 19.37it/s]\n"
     ]
    },
    {
     "name": "stdout",
     "output_type": "stream",
     "text": [
      "Computing accuracy\n",
      "Test set accuracy (Precision@1) = 0.5398282828282828\n",
      "Epoch 20 Iteration 0: Loss = 0.5713208913803101\n"
     ]
    },
    {
     "name": "stderr",
     "output_type": "stream",
     "text": [
      "100%|█████████████████████████████████████████████████████████████████████████████████████████████████████| 295/295 [00:16<00:00, 18.03it/s]\n",
      "100%|███████████████████████████████████████████████████████████████████████████████████████████████████████| 74/74 [00:03<00:00, 19.37it/s]\n"
     ]
    },
    {
     "name": "stdout",
     "output_type": "stream",
     "text": [
      "Computing accuracy\n",
      "Test set accuracy (Precision@1) = 0.5296755050505051\n",
      "Epoch 21 Iteration 0: Loss = 0.5890519618988037\n"
     ]
    },
    {
     "name": "stderr",
     "output_type": "stream",
     "text": [
      "100%|█████████████████████████████████████████████████████████████████████████████████████████████████████| 295/295 [00:16<00:00, 17.96it/s]\n",
      "100%|███████████████████████████████████████████████████████████████████████████████████████████████████████| 74/74 [00:03<00:00, 19.42it/s]\n"
     ]
    },
    {
     "name": "stdout",
     "output_type": "stream",
     "text": [
      "Computing accuracy\n",
      "Test set accuracy (Precision@1) = 0.5347891414141415\n",
      "Epoch 22 Iteration 0: Loss = 0.5391695499420166\n"
     ]
    },
    {
     "name": "stderr",
     "output_type": "stream",
     "text": [
      "100%|█████████████████████████████████████████████████████████████████████████████████████████████████████| 295/295 [00:16<00:00, 18.02it/s]\n",
      "100%|███████████████████████████████████████████████████████████████████████████████████████████████████████| 74/74 [00:03<00:00, 19.35it/s]\n"
     ]
    },
    {
     "name": "stdout",
     "output_type": "stream",
     "text": [
      "Computing accuracy\n",
      "Test set accuracy (Precision@1) = 0.5476944444444445\n",
      "Epoch 23 Iteration 0: Loss = 0.5713270306587219\n"
     ]
    },
    {
     "name": "stderr",
     "output_type": "stream",
     "text": [
      "100%|█████████████████████████████████████████████████████████████████████████████████████████████████████| 295/295 [00:16<00:00, 17.92it/s]\n",
      "100%|███████████████████████████████████████████████████████████████████████████████████████████████████████| 74/74 [00:03<00:00, 19.18it/s]\n"
     ]
    },
    {
     "name": "stdout",
     "output_type": "stream",
     "text": [
      "Computing accuracy\n",
      "Test set accuracy (Precision@1) = 0.5449886363636364\n",
      "Epoch 24 Iteration 0: Loss = 0.5027021169662476\n"
     ]
    },
    {
     "name": "stderr",
     "output_type": "stream",
     "text": [
      "100%|█████████████████████████████████████████████████████████████████████████████████████████████████████| 295/295 [00:16<00:00, 17.85it/s]\n",
      "100%|███████████████████████████████████████████████████████████████████████████████████████████████████████| 74/74 [00:03<00:00, 19.56it/s]\n"
     ]
    },
    {
     "name": "stdout",
     "output_type": "stream",
     "text": [
      "Computing accuracy\n",
      "Test set accuracy (Precision@1) = 0.5473118686868688\n",
      "Epoch 25 Iteration 0: Loss = 0.5354841947555542\n"
     ]
    },
    {
     "name": "stderr",
     "output_type": "stream",
     "text": [
      "100%|█████████████████████████████████████████████████████████████████████████████████████████████████████| 295/295 [00:16<00:00, 17.95it/s]\n",
      "100%|███████████████████████████████████████████████████████████████████████████████████████████████████████| 74/74 [00:03<00:00, 19.51it/s]\n"
     ]
    },
    {
     "name": "stdout",
     "output_type": "stream",
     "text": [
      "Computing accuracy\n",
      "Test set accuracy (Precision@1) = 0.552665404040404\n",
      "Epoch 26 Iteration 0: Loss = 0.5376860499382019\n"
     ]
    },
    {
     "name": "stderr",
     "output_type": "stream",
     "text": [
      "100%|█████████████████████████████████████████████████████████████████████████████████████████████████████| 295/295 [00:16<00:00, 18.08it/s]\n",
      "100%|███████████████████████████████████████████████████████████████████████████████████████████████████████| 74/74 [00:03<00:00, 19.49it/s]\n"
     ]
    },
    {
     "name": "stdout",
     "output_type": "stream",
     "text": [
      "Computing accuracy\n",
      "Test set accuracy (Precision@1) = 0.5572638888888889\n",
      "Epoch 27 Iteration 0: Loss = 0.5098644495010376\n"
     ]
    },
    {
     "name": "stderr",
     "output_type": "stream",
     "text": [
      "100%|█████████████████████████████████████████████████████████████████████████████████████████████████████| 295/295 [00:16<00:00, 18.10it/s]\n",
      "100%|███████████████████████████████████████████████████████████████████████████████████████████████████████| 74/74 [00:03<00:00, 19.17it/s]\n"
     ]
    },
    {
     "name": "stdout",
     "output_type": "stream",
     "text": [
      "Computing accuracy\n",
      "Test set accuracy (Precision@1) = 0.5615252525252525\n",
      "Epoch 28 Iteration 0: Loss = 0.5053688883781433\n"
     ]
    },
    {
     "name": "stderr",
     "output_type": "stream",
     "text": [
      "100%|█████████████████████████████████████████████████████████████████████████████████████████████████████| 295/295 [00:16<00:00, 18.04it/s]\n",
      "100%|███████████████████████████████████████████████████████████████████████████████████████████████████████| 74/74 [00:03<00:00, 19.44it/s]\n"
     ]
    },
    {
     "name": "stdout",
     "output_type": "stream",
     "text": [
      "Computing accuracy\n",
      "Test set accuracy (Precision@1) = 0.55060101010101\n",
      "Epoch 29 Iteration 0: Loss = 0.46778643131256104\n"
     ]
    },
    {
     "name": "stderr",
     "output_type": "stream",
     "text": [
      "100%|█████████████████████████████████████████████████████████████████████████████████████████████████████| 295/295 [00:16<00:00, 18.05it/s]\n",
      "100%|███████████████████████████████████████████████████████████████████████████████████████████████████████| 74/74 [00:03<00:00, 19.52it/s]\n"
     ]
    },
    {
     "name": "stdout",
     "output_type": "stream",
     "text": [
      "Computing accuracy\n",
      "Test set accuracy (Precision@1) = 0.5711388888888889\n",
      "Epoch 30 Iteration 0: Loss = 0.47623223066329956\n"
     ]
    },
    {
     "name": "stderr",
     "output_type": "stream",
     "text": [
      "100%|█████████████████████████████████████████████████████████████████████████████████████████████████████| 295/295 [00:16<00:00, 18.00it/s]\n",
      "100%|███████████████████████████████████████████████████████████████████████████████████████████████████████| 74/74 [00:03<00:00, 19.54it/s]\n"
     ]
    },
    {
     "name": "stdout",
     "output_type": "stream",
     "text": [
      "Computing accuracy\n",
      "Test set accuracy (Precision@1) = 0.5645265151515152\n",
      "Epoch 31 Iteration 0: Loss = 0.4297344386577606\n"
     ]
    },
    {
     "name": "stderr",
     "output_type": "stream",
     "text": [
      "100%|█████████████████████████████████████████████████████████████████████████████████████████████████████| 295/295 [00:16<00:00, 18.10it/s]\n",
      "100%|███████████████████████████████████████████████████████████████████████████████████████████████████████| 74/74 [00:03<00:00, 19.62it/s]\n"
     ]
    },
    {
     "name": "stdout",
     "output_type": "stream",
     "text": [
      "Computing accuracy\n",
      "Test set accuracy (Precision@1) = 0.565294191919192\n",
      "Epoch 32 Iteration 0: Loss = 0.4852660000324249\n"
     ]
    },
    {
     "name": "stderr",
     "output_type": "stream",
     "text": [
      "100%|█████████████████████████████████████████████████████████████████████████████████████████████████████| 295/295 [00:16<00:00, 17.93it/s]\n",
      "100%|███████████████████████████████████████████████████████████████████████████████████████████████████████| 74/74 [00:03<00:00, 19.52it/s]\n"
     ]
    },
    {
     "name": "stdout",
     "output_type": "stream",
     "text": [
      "Computing accuracy\n",
      "Test set accuracy (Precision@1) = 0.5772348484848485\n",
      "Epoch 33 Iteration 0: Loss = 0.4460047781467438\n"
     ]
    },
    {
     "name": "stderr",
     "output_type": "stream",
     "text": [
      "100%|█████████████████████████████████████████████████████████████████████████████████████████████████████| 295/295 [00:16<00:00, 18.04it/s]\n",
      "100%|███████████████████████████████████████████████████████████████████████████████████████████████████████| 74/74 [00:03<00:00, 19.61it/s]\n"
     ]
    },
    {
     "name": "stdout",
     "output_type": "stream",
     "text": [
      "Computing accuracy\n",
      "Test set accuracy (Precision@1) = 0.5785997474747475\n",
      "Epoch 34 Iteration 0: Loss = 0.560932457447052\n"
     ]
    },
    {
     "name": "stderr",
     "output_type": "stream",
     "text": [
      "100%|█████████████████████████████████████████████████████████████████████████████████████████████████████| 295/295 [00:16<00:00, 18.05it/s]\n",
      "100%|███████████████████████████████████████████████████████████████████████████████████████████████████████| 74/74 [00:03<00:00, 19.30it/s]\n"
     ]
    },
    {
     "name": "stdout",
     "output_type": "stream",
     "text": [
      "Computing accuracy\n",
      "Test set accuracy (Precision@1) = 0.5763876262626263\n",
      "Epoch 35 Iteration 0: Loss = 0.4662962853908539\n"
     ]
    },
    {
     "name": "stderr",
     "output_type": "stream",
     "text": [
      "100%|█████████████████████████████████████████████████████████████████████████████████████████████████████| 295/295 [00:16<00:00, 18.07it/s]\n",
      "100%|███████████████████████████████████████████████████████████████████████████████████████████████████████| 74/74 [00:03<00:00, 19.54it/s]\n"
     ]
    },
    {
     "name": "stdout",
     "output_type": "stream",
     "text": [
      "Computing accuracy\n",
      "Test set accuracy (Precision@1) = 0.5812904040404041\n",
      "Epoch 36 Iteration 0: Loss = 0.4459724426269531\n"
     ]
    },
    {
     "name": "stderr",
     "output_type": "stream",
     "text": [
      "100%|█████████████████████████████████████████████████████████████████████████████████████████████████████| 295/295 [00:16<00:00, 18.02it/s]\n",
      "100%|███████████████████████████████████████████████████████████████████████████████████████████████████████| 74/74 [00:03<00:00, 19.47it/s]\n"
     ]
    },
    {
     "name": "stdout",
     "output_type": "stream",
     "text": [
      "Computing accuracy\n",
      "Test set accuracy (Precision@1) = 0.5837222222222224\n",
      "Epoch 37 Iteration 0: Loss = 0.5015708804130554\n"
     ]
    },
    {
     "name": "stderr",
     "output_type": "stream",
     "text": [
      "100%|█████████████████████████████████████████████████████████████████████████████████████████████████████| 295/295 [00:16<00:00, 18.04it/s]\n",
      "100%|███████████████████████████████████████████████████████████████████████████████████████████████████████| 74/74 [00:03<00:00, 19.05it/s]\n"
     ]
    },
    {
     "name": "stdout",
     "output_type": "stream",
     "text": [
      "Computing accuracy\n",
      "Test set accuracy (Precision@1) = 0.5852070707070708\n",
      "Epoch 38 Iteration 0: Loss = 0.48864105343818665\n"
     ]
    },
    {
     "name": "stderr",
     "output_type": "stream",
     "text": [
      "100%|█████████████████████████████████████████████████████████████████████████████████████████████████████| 295/295 [00:16<00:00, 17.97it/s]\n",
      "100%|███████████████████████████████████████████████████████████████████████████████████████████████████████| 74/74 [00:03<00:00, 19.39it/s]\n"
     ]
    },
    {
     "name": "stdout",
     "output_type": "stream",
     "text": [
      "Computing accuracy\n",
      "Test set accuracy (Precision@1) = 0.5975366161616161\n",
      "Epoch 39 Iteration 0: Loss = 0.4932578206062317\n"
     ]
    },
    {
     "name": "stderr",
     "output_type": "stream",
     "text": [
      "100%|█████████████████████████████████████████████████████████████████████████████████████████████████████| 295/295 [00:16<00:00, 18.01it/s]\n",
      "100%|███████████████████████████████████████████████████████████████████████████████████████████████████████| 74/74 [00:03<00:00, 19.54it/s]\n"
     ]
    },
    {
     "name": "stdout",
     "output_type": "stream",
     "text": [
      "Computing accuracy\n",
      "Test set accuracy (Precision@1) = 0.5967575757575758\n",
      "Epoch 40 Iteration 0: Loss = 0.49357837438583374\n"
     ]
    },
    {
     "name": "stderr",
     "output_type": "stream",
     "text": [
      "100%|█████████████████████████████████████████████████████████████████████████████████████████████████████| 295/295 [00:16<00:00, 18.04it/s]\n",
      "100%|███████████████████████████████████████████████████████████████████████████████████████████████████████| 74/74 [00:03<00:00, 19.56it/s]\n"
     ]
    },
    {
     "name": "stdout",
     "output_type": "stream",
     "text": [
      "Computing accuracy\n",
      "Test set accuracy (Precision@1) = 0.588040404040404\n",
      "Epoch 41 Iteration 0: Loss = 0.4531707465648651\n"
     ]
    },
    {
     "name": "stderr",
     "output_type": "stream",
     "text": [
      "100%|█████████████████████████████████████████████████████████████████████████████████████████████████████| 295/295 [00:16<00:00, 18.04it/s]\n",
      "100%|███████████████████████████████████████████████████████████████████████████████████████████████████████| 74/74 [00:03<00:00, 19.47it/s]\n"
     ]
    },
    {
     "name": "stdout",
     "output_type": "stream",
     "text": [
      "Computing accuracy\n",
      "Test set accuracy (Precision@1) = 0.5980164141414142\n",
      "Epoch 42 Iteration 0: Loss = 0.4679661691188812\n"
     ]
    },
    {
     "name": "stderr",
     "output_type": "stream",
     "text": [
      "100%|█████████████████████████████████████████████████████████████████████████████████████████████████████| 295/295 [00:16<00:00, 17.93it/s]\n",
      "100%|███████████████████████████████████████████████████████████████████████████████████████████████████████| 74/74 [00:03<00:00, 19.40it/s]\n"
     ]
    },
    {
     "name": "stdout",
     "output_type": "stream",
     "text": [
      "Computing accuracy\n",
      "Test set accuracy (Precision@1) = 0.5838699494949495\n",
      "Epoch 43 Iteration 0: Loss = 0.4833870232105255\n"
     ]
    },
    {
     "name": "stderr",
     "output_type": "stream",
     "text": [
      "100%|█████████████████████████████████████████████████████████████████████████████████████████████████████| 295/295 [00:16<00:00, 18.02it/s]\n",
      "100%|███████████████████████████████████████████████████████████████████████████████████████████████████████| 74/74 [00:03<00:00, 19.20it/s]\n"
     ]
    },
    {
     "name": "stdout",
     "output_type": "stream",
     "text": [
      "Computing accuracy\n",
      "Test set accuracy (Precision@1) = 0.5995795454545454\n",
      "Epoch 44 Iteration 0: Loss = 0.44063419103622437\n"
     ]
    },
    {
     "name": "stderr",
     "output_type": "stream",
     "text": [
      "100%|█████████████████████████████████████████████████████████████████████████████████████████████████████| 295/295 [00:16<00:00, 18.07it/s]\n",
      "100%|███████████████████████████████████████████████████████████████████████████████████████████████████████| 74/74 [00:03<00:00, 19.49it/s]\n"
     ]
    },
    {
     "name": "stdout",
     "output_type": "stream",
     "text": [
      "Computing accuracy\n",
      "Test set accuracy (Precision@1) = 0.596925505050505\n",
      "Epoch 45 Iteration 0: Loss = 0.5101305246353149\n"
     ]
    },
    {
     "name": "stderr",
     "output_type": "stream",
     "text": [
      "100%|█████████████████████████████████████████████████████████████████████████████████████████████████████| 295/295 [00:16<00:00, 18.06it/s]\n",
      "100%|███████████████████████████████████████████████████████████████████████████████████████████████████████| 74/74 [00:03<00:00, 19.48it/s]\n"
     ]
    },
    {
     "name": "stdout",
     "output_type": "stream",
     "text": [
      "Computing accuracy\n",
      "Test set accuracy (Precision@1) = 0.5838674242424243\n",
      "Epoch 46 Iteration 0: Loss = 0.4938296377658844\n"
     ]
    },
    {
     "name": "stderr",
     "output_type": "stream",
     "text": [
      "100%|█████████████████████████████████████████████████████████████████████████████████████████████████████| 295/295 [00:16<00:00, 18.05it/s]\n",
      "100%|███████████████████████████████████████████████████████████████████████████████████████████████████████| 74/74 [00:03<00:00, 19.58it/s]\n"
     ]
    },
    {
     "name": "stdout",
     "output_type": "stream",
     "text": [
      "Computing accuracy\n",
      "Test set accuracy (Precision@1) = 0.6141654040404041\n",
      "Epoch 47 Iteration 0: Loss = 0.4386945366859436\n"
     ]
    },
    {
     "name": "stderr",
     "output_type": "stream",
     "text": [
      "100%|█████████████████████████████████████████████████████████████████████████████████████████████████████| 295/295 [00:16<00:00, 18.00it/s]\n",
      "100%|███████████████████████████████████████████████████████████████████████████████████████████████████████| 74/74 [00:03<00:00, 19.64it/s]\n"
     ]
    },
    {
     "name": "stdout",
     "output_type": "stream",
     "text": [
      "Computing accuracy\n",
      "Test set accuracy (Precision@1) = 0.6138535353535354\n",
      "Epoch 48 Iteration 0: Loss = 0.5070178508758545\n"
     ]
    },
    {
     "name": "stderr",
     "output_type": "stream",
     "text": [
      "100%|█████████████████████████████████████████████████████████████████████████████████████████████████████| 295/295 [00:16<00:00, 18.06it/s]\n",
      "100%|███████████████████████████████████████████████████████████████████████████████████████████████████████| 74/74 [00:03<00:00, 19.58it/s]\n"
     ]
    },
    {
     "name": "stdout",
     "output_type": "stream",
     "text": [
      "Computing accuracy\n",
      "Test set accuracy (Precision@1) = 0.5994987373737374\n",
      "Epoch 49 Iteration 0: Loss = 0.4658251702785492\n"
     ]
    },
    {
     "name": "stderr",
     "output_type": "stream",
     "text": [
      "100%|█████████████████████████████████████████████████████████████████████████████████████████████████████| 295/295 [00:16<00:00, 18.12it/s]\n",
      "100%|███████████████████████████████████████████████████████████████████████████████████████████████████████| 74/74 [00:03<00:00, 19.58it/s]\n"
     ]
    },
    {
     "name": "stdout",
     "output_type": "stream",
     "text": [
      "Computing accuracy\n",
      "Test set accuracy (Precision@1) = 0.6123459595959596\n",
      "Epoch 50 Iteration 0: Loss = 0.42978379130363464\n"
     ]
    },
    {
     "name": "stderr",
     "output_type": "stream",
     "text": [
      "100%|█████████████████████████████████████████████████████████████████████████████████████████████████████| 295/295 [00:16<00:00, 18.00it/s]\n",
      "100%|███████████████████████████████████████████████████████████████████████████████████████████████████████| 74/74 [00:03<00:00, 19.38it/s]\n"
     ]
    },
    {
     "name": "stdout",
     "output_type": "stream",
     "text": [
      "Computing accuracy\n",
      "Test set accuracy (Precision@1) = 0.6069861111111111\n",
      "Epoch 51 Iteration 0: Loss = 0.4249262809753418\n"
     ]
    },
    {
     "name": "stderr",
     "output_type": "stream",
     "text": [
      "100%|█████████████████████████████████████████████████████████████████████████████████████████████████████| 295/295 [00:16<00:00, 18.06it/s]\n",
      "100%|███████████████████████████████████████████████████████████████████████████████████████████████████████| 74/74 [00:03<00:00, 19.47it/s]\n"
     ]
    },
    {
     "name": "stdout",
     "output_type": "stream",
     "text": [
      "Computing accuracy\n",
      "Test set accuracy (Precision@1) = 0.6177689393939394\n",
      "Epoch 52 Iteration 0: Loss = 0.4074684977531433\n"
     ]
    },
    {
     "name": "stderr",
     "output_type": "stream",
     "text": [
      "100%|█████████████████████████████████████████████████████████████████████████████████████████████████████| 295/295 [00:16<00:00, 18.00it/s]\n",
      "100%|███████████████████████████████████████████████████████████████████████████████████████████████████████| 74/74 [00:03<00:00, 19.28it/s]\n"
     ]
    },
    {
     "name": "stdout",
     "output_type": "stream",
     "text": [
      "Computing accuracy\n",
      "Test set accuracy (Precision@1) = 0.6199621212121212\n",
      "Epoch 53 Iteration 0: Loss = 0.432911217212677\n"
     ]
    },
    {
     "name": "stderr",
     "output_type": "stream",
     "text": [
      "100%|█████████████████████████████████████████████████████████████████████████████████████████████████████| 295/295 [00:16<00:00, 17.96it/s]\n",
      "100%|███████████████████████████████████████████████████████████████████████████████████████████████████████| 74/74 [00:03<00:00, 19.52it/s]\n"
     ]
    },
    {
     "name": "stdout",
     "output_type": "stream",
     "text": [
      "Computing accuracy\n",
      "Test set accuracy (Precision@1) = 0.6117765151515152\n",
      "Epoch 54 Iteration 0: Loss = 0.4483233690261841\n"
     ]
    },
    {
     "name": "stderr",
     "output_type": "stream",
     "text": [
      "100%|█████████████████████████████████████████████████████████████████████████████████████████████████████| 295/295 [00:16<00:00, 18.05it/s]\n",
      "100%|███████████████████████████████████████████████████████████████████████████████████████████████████████| 74/74 [00:03<00:00, 19.50it/s]\n"
     ]
    },
    {
     "name": "stdout",
     "output_type": "stream",
     "text": [
      "Computing accuracy\n",
      "Test set accuracy (Precision@1) = 0.6157866161616161\n",
      "Epoch 55 Iteration 0: Loss = 0.43957802653312683\n"
     ]
    },
    {
     "name": "stderr",
     "output_type": "stream",
     "text": [
      "100%|█████████████████████████████████████████████████████████████████████████████████████████████████████| 295/295 [00:16<00:00, 18.01it/s]\n",
      "100%|███████████████████████████████████████████████████████████████████████████████████████████████████████| 74/74 [00:03<00:00, 19.53it/s]\n"
     ]
    },
    {
     "name": "stdout",
     "output_type": "stream",
     "text": [
      "Computing accuracy\n",
      "Test set accuracy (Precision@1) = 0.6211098484848485\n",
      "Epoch 56 Iteration 0: Loss = 0.40130263566970825\n"
     ]
    },
    {
     "name": "stderr",
     "output_type": "stream",
     "text": [
      "100%|█████████████████████████████████████████████████████████████████████████████████████████████████████| 295/295 [00:16<00:00, 18.10it/s]\n",
      "100%|███████████████████████████████████████████████████████████████████████████████████████████████████████| 74/74 [00:03<00:00, 19.35it/s]\n"
     ]
    },
    {
     "name": "stdout",
     "output_type": "stream",
     "text": [
      "Computing accuracy\n",
      "Test set accuracy (Precision@1) = 0.6245366161616162\n",
      "Epoch 57 Iteration 0: Loss = 0.41174226999282837\n"
     ]
    },
    {
     "name": "stderr",
     "output_type": "stream",
     "text": [
      "100%|█████████████████████████████████████████████████████████████████████████████████████████████████████| 295/295 [00:16<00:00, 17.94it/s]\n",
      "100%|███████████████████████████████████████████████████████████████████████████████████████████████████████| 74/74 [00:03<00:00, 19.44it/s]\n"
     ]
    },
    {
     "name": "stdout",
     "output_type": "stream",
     "text": [
      "Computing accuracy\n",
      "Test set accuracy (Precision@1) = 0.6115391414141415\n",
      "Epoch 58 Iteration 0: Loss = 0.5337677597999573\n"
     ]
    },
    {
     "name": "stderr",
     "output_type": "stream",
     "text": [
      "100%|█████████████████████████████████████████████████████████████████████████████████████████████████████| 295/295 [00:16<00:00, 17.96it/s]\n",
      "100%|███████████████████████████████████████████████████████████████████████████████████████████████████████| 74/74 [00:03<00:00, 19.32it/s]\n"
     ]
    },
    {
     "name": "stdout",
     "output_type": "stream",
     "text": [
      "Computing accuracy\n",
      "Test set accuracy (Precision@1) = 0.6220858585858585\n",
      "Epoch 59 Iteration 0: Loss = 0.4491184949874878\n"
     ]
    },
    {
     "name": "stderr",
     "output_type": "stream",
     "text": [
      "100%|█████████████████████████████████████████████████████████████████████████████████████████████████████| 295/295 [00:16<00:00, 17.93it/s]\n",
      "100%|███████████████████████████████████████████████████████████████████████████████████████████████████████| 74/74 [00:03<00:00, 19.44it/s]\n"
     ]
    },
    {
     "name": "stdout",
     "output_type": "stream",
     "text": [
      "Computing accuracy\n",
      "Test set accuracy (Precision@1) = 0.6189570707070707\n",
      "Epoch 60 Iteration 0: Loss = 0.40805017948150635\n"
     ]
    },
    {
     "name": "stderr",
     "output_type": "stream",
     "text": [
      "100%|█████████████████████████████████████████████████████████████████████████████████████████████████████| 295/295 [00:16<00:00, 17.81it/s]\n",
      "100%|███████████████████████████████████████████████████████████████████████████████████████████████████████| 74/74 [00:03<00:00, 19.47it/s]\n"
     ]
    },
    {
     "name": "stdout",
     "output_type": "stream",
     "text": [
      "Computing accuracy\n",
      "Test set accuracy (Precision@1) = 0.6291313131313132\n",
      "Epoch 61 Iteration 0: Loss = 0.4328179657459259\n"
     ]
    },
    {
     "name": "stderr",
     "output_type": "stream",
     "text": [
      "100%|█████████████████████████████████████████████████████████████████████████████████████████████████████| 295/295 [00:16<00:00, 18.06it/s]\n",
      "100%|███████████████████████████████████████████████████████████████████████████████████████████████████████| 74/74 [00:03<00:00, 19.28it/s]\n"
     ]
    },
    {
     "name": "stdout",
     "output_type": "stream",
     "text": [
      "Computing accuracy\n",
      "Test set accuracy (Precision@1) = 0.6330492424242424\n",
      "Epoch 62 Iteration 0: Loss = 0.39350929856300354\n"
     ]
    },
    {
     "name": "stderr",
     "output_type": "stream",
     "text": [
      "100%|█████████████████████████████████████████████████████████████████████████████████████████████████████| 295/295 [00:16<00:00, 17.92it/s]\n",
      "100%|███████████████████████████████████████████████████████████████████████████████████████████████████████| 74/74 [00:03<00:00, 19.41it/s]\n"
     ]
    },
    {
     "name": "stdout",
     "output_type": "stream",
     "text": [
      "Computing accuracy\n",
      "Test set accuracy (Precision@1) = 0.6234179292929294\n",
      "Epoch 63 Iteration 0: Loss = 0.42804789543151855\n"
     ]
    },
    {
     "name": "stderr",
     "output_type": "stream",
     "text": [
      "100%|█████████████████████████████████████████████████████████████████████████████████████████████████████| 295/295 [00:16<00:00, 18.01it/s]\n",
      "100%|███████████████████████████████████████████████████████████████████████████████████████████████████████| 74/74 [00:03<00:00, 19.32it/s]\n"
     ]
    },
    {
     "name": "stdout",
     "output_type": "stream",
     "text": [
      "Computing accuracy\n",
      "Test set accuracy (Precision@1) = 0.6373876262626262\n",
      "Epoch 64 Iteration 0: Loss = 0.4227014482021332\n"
     ]
    },
    {
     "name": "stderr",
     "output_type": "stream",
     "text": [
      "100%|█████████████████████████████████████████████████████████████████████████████████████████████████████| 295/295 [00:16<00:00, 18.03it/s]\n",
      "100%|███████████████████████████████████████████████████████████████████████████████████████████████████████| 74/74 [00:03<00:00, 19.39it/s]\n"
     ]
    },
    {
     "name": "stdout",
     "output_type": "stream",
     "text": [
      "Computing accuracy\n",
      "Test set accuracy (Precision@1) = 0.6326729797979799\n",
      "Epoch 65 Iteration 0: Loss = 0.4278288185596466\n"
     ]
    },
    {
     "name": "stderr",
     "output_type": "stream",
     "text": [
      "100%|█████████████████████████████████████████████████████████████████████████████████████████████████████| 295/295 [00:16<00:00, 18.15it/s]\n",
      "100%|███████████████████████████████████████████████████████████████████████████████████████████████████████| 74/74 [00:03<00:00, 19.49it/s]\n"
     ]
    },
    {
     "name": "stdout",
     "output_type": "stream",
     "text": [
      "Computing accuracy\n",
      "Test set accuracy (Precision@1) = 0.635\n",
      "Epoch 66 Iteration 0: Loss = 0.41931623220443726\n"
     ]
    },
    {
     "name": "stderr",
     "output_type": "stream",
     "text": [
      "100%|█████████████████████████████████████████████████████████████████████████████████████████████████████| 295/295 [00:16<00:00, 17.94it/s]\n",
      "100%|███████████████████████████████████████████████████████████████████████████████████████████████████████| 74/74 [00:03<00:00, 19.44it/s]\n"
     ]
    },
    {
     "name": "stdout",
     "output_type": "stream",
     "text": [
      "Computing accuracy\n",
      "Test set accuracy (Precision@1) = 0.6419747474747476\n",
      "Epoch 67 Iteration 0: Loss = 0.38711416721343994\n"
     ]
    },
    {
     "name": "stderr",
     "output_type": "stream",
     "text": [
      "100%|█████████████████████████████████████████████████████████████████████████████████████████████████████| 295/295 [00:16<00:00, 18.00it/s]\n",
      "100%|███████████████████████████████████████████████████████████████████████████████████████████████████████| 74/74 [00:03<00:00, 19.42it/s]\n"
     ]
    },
    {
     "name": "stdout",
     "output_type": "stream",
     "text": [
      "Computing accuracy\n",
      "Test set accuracy (Precision@1) = 0.6282032828282829\n",
      "Epoch 68 Iteration 0: Loss = 0.4732944667339325\n"
     ]
    },
    {
     "name": "stderr",
     "output_type": "stream",
     "text": [
      "100%|█████████████████████████████████████████████████████████████████████████████████████████████████████| 295/295 [00:16<00:00, 17.92it/s]\n",
      "100%|███████████████████████████████████████████████████████████████████████████████████████████████████████| 74/74 [00:03<00:00, 19.49it/s]\n"
     ]
    },
    {
     "name": "stdout",
     "output_type": "stream",
     "text": [
      "Computing accuracy\n",
      "Test set accuracy (Precision@1) = 0.6330568181818181\n",
      "Epoch 69 Iteration 0: Loss = 0.3576633036136627\n"
     ]
    },
    {
     "name": "stderr",
     "output_type": "stream",
     "text": [
      "100%|█████████████████████████████████████████████████████████████████████████████████████████████████████| 295/295 [00:16<00:00, 18.10it/s]\n",
      "100%|███████████████████████████████████████████████████████████████████████████████████████████████████████| 74/74 [00:03<00:00, 19.34it/s]\n"
     ]
    },
    {
     "name": "stdout",
     "output_type": "stream",
     "text": [
      "Computing accuracy\n",
      "Test set accuracy (Precision@1) = 0.6364027777777778\n",
      "Epoch 70 Iteration 0: Loss = 0.4247998297214508\n"
     ]
    },
    {
     "name": "stderr",
     "output_type": "stream",
     "text": [
      "100%|█████████████████████████████████████████████████████████████████████████████████████████████████████| 295/295 [00:16<00:00, 18.00it/s]\n",
      "100%|███████████████████████████████████████████████████████████████████████████████████████████████████████| 74/74 [00:03<00:00, 19.25it/s]\n"
     ]
    },
    {
     "name": "stdout",
     "output_type": "stream",
     "text": [
      "Computing accuracy\n",
      "Test set accuracy (Precision@1) = 0.6309356060606061\n",
      "Epoch 71 Iteration 0: Loss = 0.445008248090744\n"
     ]
    },
    {
     "name": "stderr",
     "output_type": "stream",
     "text": [
      "100%|█████████████████████████████████████████████████████████████████████████████████████████████████████| 295/295 [00:16<00:00, 18.05it/s]\n",
      "100%|███████████████████████████████████████████████████████████████████████████████████████████████████████| 74/74 [00:03<00:00, 19.57it/s]\n"
     ]
    },
    {
     "name": "stdout",
     "output_type": "stream",
     "text": [
      "Computing accuracy\n",
      "Test set accuracy (Precision@1) = 0.6579772727272727\n",
      "Epoch 72 Iteration 0: Loss = 0.4654107093811035\n"
     ]
    },
    {
     "name": "stderr",
     "output_type": "stream",
     "text": [
      "100%|█████████████████████████████████████████████████████████████████████████████████████████████████████| 295/295 [00:16<00:00, 18.03it/s]\n",
      "100%|███████████████████████████████████████████████████████████████████████████████████████████████████████| 74/74 [00:03<00:00, 19.35it/s]\n"
     ]
    },
    {
     "name": "stdout",
     "output_type": "stream",
     "text": [
      "Computing accuracy\n",
      "Test set accuracy (Precision@1) = 0.6427714646464646\n",
      "Epoch 73 Iteration 0: Loss = 0.4326314330101013\n"
     ]
    },
    {
     "name": "stderr",
     "output_type": "stream",
     "text": [
      "100%|█████████████████████████████████████████████████████████████████████████████████████████████████████| 295/295 [00:16<00:00, 17.99it/s]\n",
      "100%|███████████████████████████████████████████████████████████████████████████████████████████████████████| 74/74 [00:03<00:00, 19.47it/s]\n"
     ]
    },
    {
     "name": "stdout",
     "output_type": "stream",
     "text": [
      "Computing accuracy\n",
      "Test set accuracy (Precision@1) = 0.6499217171717172\n",
      "Epoch 74 Iteration 0: Loss = 0.47352540493011475\n"
     ]
    },
    {
     "name": "stderr",
     "output_type": "stream",
     "text": [
      "100%|█████████████████████████████████████████████████████████████████████████████████████████████████████| 295/295 [00:16<00:00, 18.06it/s]\n",
      "100%|███████████████████████████████████████████████████████████████████████████████████████████████████████| 74/74 [00:03<00:00, 19.46it/s]\n"
     ]
    },
    {
     "name": "stdout",
     "output_type": "stream",
     "text": [
      "Computing accuracy\n",
      "Test set accuracy (Precision@1) = 0.6480845959595959\n",
      "Epoch 75 Iteration 0: Loss = 0.4528389275074005\n"
     ]
    },
    {
     "name": "stderr",
     "output_type": "stream",
     "text": [
      "100%|█████████████████████████████████████████████████████████████████████████████████████████████████████| 295/295 [00:16<00:00, 17.98it/s]\n",
      "100%|███████████████████████████████████████████████████████████████████████████████████████████████████████| 74/74 [00:03<00:00, 18.72it/s]\n"
     ]
    },
    {
     "name": "stdout",
     "output_type": "stream",
     "text": [
      "Computing accuracy\n",
      "Test set accuracy (Precision@1) = 0.6411906565656565\n",
      "Epoch 76 Iteration 0: Loss = 0.4929259121417999\n"
     ]
    },
    {
     "name": "stderr",
     "output_type": "stream",
     "text": [
      "100%|█████████████████████████████████████████████████████████████████████████████████████████████████████| 295/295 [00:16<00:00, 17.99it/s]\n",
      "100%|███████████████████████████████████████████████████████████████████████████████████████████████████████| 74/74 [00:03<00:00, 19.48it/s]\n"
     ]
    },
    {
     "name": "stdout",
     "output_type": "stream",
     "text": [
      "Computing accuracy\n",
      "Test set accuracy (Precision@1) = 0.6533699494949495\n",
      "Epoch 77 Iteration 0: Loss = 0.3964502513408661\n"
     ]
    },
    {
     "name": "stderr",
     "output_type": "stream",
     "text": [
      "100%|█████████████████████████████████████████████████████████████████████████████████████████████████████| 295/295 [00:16<00:00, 17.96it/s]\n",
      "100%|███████████████████████████████████████████████████████████████████████████████████████████████████████| 74/74 [00:03<00:00, 19.39it/s]\n"
     ]
    },
    {
     "name": "stdout",
     "output_type": "stream",
     "text": [
      "Computing accuracy\n",
      "Test set accuracy (Precision@1) = 0.642544191919192\n",
      "Epoch 78 Iteration 0: Loss = 0.4172931909561157\n"
     ]
    },
    {
     "name": "stderr",
     "output_type": "stream",
     "text": [
      "100%|█████████████████████████████████████████████████████████████████████████████████████████████████████| 295/295 [00:16<00:00, 18.02it/s]\n",
      "100%|███████████████████████████████████████████████████████████████████████████████████████████████████████| 74/74 [00:03<00:00, 19.35it/s]\n"
     ]
    },
    {
     "name": "stdout",
     "output_type": "stream",
     "text": [
      "Computing accuracy\n",
      "Test set accuracy (Precision@1) = 0.6448282828282829\n",
      "Epoch 79 Iteration 0: Loss = 0.36256512999534607\n"
     ]
    },
    {
     "name": "stderr",
     "output_type": "stream",
     "text": [
      "100%|█████████████████████████████████████████████████████████████████████████████████████████████████████| 295/295 [00:16<00:00, 18.04it/s]\n",
      "100%|███████████████████████████████████████████████████████████████████████████████████████████████████████| 74/74 [00:03<00:00, 19.43it/s]\n"
     ]
    },
    {
     "name": "stdout",
     "output_type": "stream",
     "text": [
      "Computing accuracy\n",
      "Test set accuracy (Precision@1) = 0.6474179292929293\n",
      "Epoch 80 Iteration 0: Loss = 0.45802584290504456\n"
     ]
    },
    {
     "name": "stderr",
     "output_type": "stream",
     "text": [
      "100%|█████████████████████████████████████████████████████████████████████████████████████████████████████| 295/295 [00:16<00:00, 18.04it/s]\n",
      "100%|███████████████████████████████████████████████████████████████████████████████████████████████████████| 74/74 [00:03<00:00, 19.47it/s]\n"
     ]
    },
    {
     "name": "stdout",
     "output_type": "stream",
     "text": [
      "Computing accuracy\n",
      "Test set accuracy (Precision@1) = 0.649709595959596\n",
      "Epoch 81 Iteration 0: Loss = 0.4373604953289032\n"
     ]
    },
    {
     "name": "stderr",
     "output_type": "stream",
     "text": [
      "100%|█████████████████████████████████████████████████████████████████████████████████████████████████████| 295/295 [00:16<00:00, 18.02it/s]\n",
      "100%|███████████████████████████████████████████████████████████████████████████████████████████████████████| 74/74 [00:03<00:00, 19.47it/s]\n"
     ]
    },
    {
     "name": "stdout",
     "output_type": "stream",
     "text": [
      "Computing accuracy\n",
      "Test set accuracy (Precision@1) = 0.6432588383838385\n",
      "Epoch 82 Iteration 0: Loss = 0.44750985503196716\n"
     ]
    },
    {
     "name": "stderr",
     "output_type": "stream",
     "text": [
      "100%|█████████████████████████████████████████████████████████████████████████████████████████████████████| 295/295 [00:16<00:00, 17.99it/s]\n",
      "100%|███████████████████████████████████████████████████████████████████████████████████████████████████████| 74/74 [00:03<00:00, 19.38it/s]\n"
     ]
    },
    {
     "name": "stdout",
     "output_type": "stream",
     "text": [
      "Computing accuracy\n",
      "Test set accuracy (Precision@1) = 0.6491262626262627\n",
      "Epoch 83 Iteration 0: Loss = 0.4404042661190033\n"
     ]
    },
    {
     "name": "stderr",
     "output_type": "stream",
     "text": [
      "100%|█████████████████████████████████████████████████████████████████████████████████████████████████████| 295/295 [00:16<00:00, 18.00it/s]\n",
      "100%|███████████████████████████████████████████████████████████████████████████████████████████████████████| 74/74 [00:03<00:00, 19.52it/s]\n"
     ]
    },
    {
     "name": "stdout",
     "output_type": "stream",
     "text": [
      "Computing accuracy\n",
      "Test set accuracy (Precision@1) = 0.6538926767676767\n",
      "Epoch 84 Iteration 0: Loss = 0.46581152081489563\n"
     ]
    },
    {
     "name": "stderr",
     "output_type": "stream",
     "text": [
      "100%|█████████████████████████████████████████████████████████████████████████████████████████████████████| 295/295 [00:16<00:00, 18.07it/s]\n",
      "100%|███████████████████████████████████████████████████████████████████████████████████████████████████████| 74/74 [00:03<00:00, 19.46it/s]\n"
     ]
    },
    {
     "name": "stdout",
     "output_type": "stream",
     "text": [
      "Computing accuracy\n",
      "Test set accuracy (Precision@1) = 0.6446830808080807\n",
      "Epoch 85 Iteration 0: Loss = 0.44198253750801086\n"
     ]
    },
    {
     "name": "stderr",
     "output_type": "stream",
     "text": [
      "100%|█████████████████████████████████████████████████████████████████████████████████████████████████████| 295/295 [00:16<00:00, 18.09it/s]\n",
      "100%|███████████████████████████████████████████████████████████████████████████████████████████████████████| 74/74 [00:03<00:00, 19.38it/s]\n"
     ]
    },
    {
     "name": "stdout",
     "output_type": "stream",
     "text": [
      "Computing accuracy\n",
      "Test set accuracy (Precision@1) = 0.6570025252525252\n",
      "Epoch 86 Iteration 0: Loss = 0.42227768898010254\n"
     ]
    },
    {
     "name": "stderr",
     "output_type": "stream",
     "text": [
      "100%|█████████████████████████████████████████████████████████████████████████████████████████████████████| 295/295 [00:16<00:00, 17.92it/s]\n",
      "100%|███████████████████████████████████████████████████████████████████████████████████████████████████████| 74/74 [00:03<00:00, 19.50it/s]\n"
     ]
    },
    {
     "name": "stdout",
     "output_type": "stream",
     "text": [
      "Computing accuracy\n",
      "Test set accuracy (Precision@1) = 0.6635871212121214\n",
      "Epoch 87 Iteration 0: Loss = 0.37300345301628113\n"
     ]
    },
    {
     "name": "stderr",
     "output_type": "stream",
     "text": [
      "100%|█████████████████████████████████████████████████████████████████████████████████████████████████████| 295/295 [00:16<00:00, 17.62it/s]\n",
      "100%|███████████████████████████████████████████████████████████████████████████████████████████████████████| 74/74 [00:03<00:00, 19.44it/s]\n"
     ]
    },
    {
     "name": "stdout",
     "output_type": "stream",
     "text": [
      "Computing accuracy\n",
      "Test set accuracy (Precision@1) = 0.6642651515151516\n",
      "Epoch 88 Iteration 0: Loss = 0.39033782482147217\n"
     ]
    },
    {
     "name": "stderr",
     "output_type": "stream",
     "text": [
      "100%|█████████████████████████████████████████████████████████████████████████████████████████████████████| 295/295 [00:16<00:00, 17.99it/s]\n",
      "100%|███████████████████████████████████████████████████████████████████████████████████████████████████████| 74/74 [00:03<00:00, 19.52it/s]\n"
     ]
    },
    {
     "name": "stdout",
     "output_type": "stream",
     "text": [
      "Computing accuracy\n",
      "Test set accuracy (Precision@1) = 0.6639179292929294\n",
      "Epoch 89 Iteration 0: Loss = 0.44201645255088806\n"
     ]
    },
    {
     "name": "stderr",
     "output_type": "stream",
     "text": [
      "100%|█████████████████████████████████████████████████████████████████████████████████████████████████████| 295/295 [00:16<00:00, 18.07it/s]\n",
      "100%|███████████████████████████████████████████████████████████████████████████████████████████████████████| 74/74 [00:03<00:00, 19.40it/s]\n"
     ]
    },
    {
     "name": "stdout",
     "output_type": "stream",
     "text": [
      "Computing accuracy\n",
      "Test set accuracy (Precision@1) = 0.6640290404040404\n",
      "Epoch 90 Iteration 0: Loss = 0.34274330735206604\n"
     ]
    },
    {
     "name": "stderr",
     "output_type": "stream",
     "text": [
      "100%|█████████████████████████████████████████████████████████████████████████████████████████████████████| 295/295 [00:16<00:00, 17.97it/s]\n",
      "100%|███████████████████████████████████████████████████████████████████████████████████████████████████████| 74/74 [00:03<00:00, 19.65it/s]\n"
     ]
    },
    {
     "name": "stdout",
     "output_type": "stream",
     "text": [
      "Computing accuracy\n",
      "Test set accuracy (Precision@1) = 0.6666262626262627\n",
      "Epoch 91 Iteration 0: Loss = 0.4406556487083435\n"
     ]
    },
    {
     "name": "stderr",
     "output_type": "stream",
     "text": [
      "100%|█████████████████████████████████████████████████████████████████████████████████████████████████████| 295/295 [00:16<00:00, 17.93it/s]\n",
      "100%|███████████████████████████████████████████████████████████████████████████████████████████████████████| 74/74 [00:03<00:00, 19.23it/s]\n"
     ]
    },
    {
     "name": "stdout",
     "output_type": "stream",
     "text": [
      "Computing accuracy\n",
      "Test set accuracy (Precision@1) = 0.6606022727272728\n",
      "Epoch 92 Iteration 0: Loss = 0.4877311587333679\n"
     ]
    },
    {
     "name": "stderr",
     "output_type": "stream",
     "text": [
      "100%|█████████████████████████████████████████████████████████████████████████████████████████████████████| 295/295 [00:16<00:00, 17.99it/s]\n",
      "100%|███████████████████████████████████████████████████████████████████████████████████████████████████████| 74/74 [00:03<00:00, 19.52it/s]\n"
     ]
    },
    {
     "name": "stdout",
     "output_type": "stream",
     "text": [
      "Computing accuracy\n",
      "Test set accuracy (Precision@1) = 0.6606691919191919\n",
      "Epoch 93 Iteration 0: Loss = 0.43144577741622925\n"
     ]
    },
    {
     "name": "stderr",
     "output_type": "stream",
     "text": [
      "100%|█████████████████████████████████████████████████████████████████████████████████████████████████████| 295/295 [00:16<00:00, 17.95it/s]\n",
      "100%|███████████████████████████████████████████████████████████████████████████████████████████████████████| 74/74 [00:03<00:00, 19.48it/s]\n"
     ]
    },
    {
     "name": "stdout",
     "output_type": "stream",
     "text": [
      "Computing accuracy\n",
      "Test set accuracy (Precision@1) = 0.6581022727272727\n",
      "Epoch 94 Iteration 0: Loss = 0.45579445362091064\n"
     ]
    },
    {
     "name": "stderr",
     "output_type": "stream",
     "text": [
      "100%|█████████████████████████████████████████████████████████████████████████████████████████████████████| 295/295 [00:16<00:00, 18.03it/s]\n",
      "100%|███████████████████████████████████████████████████████████████████████████████████████████████████████| 74/74 [00:03<00:00, 19.47it/s]\n"
     ]
    },
    {
     "name": "stdout",
     "output_type": "stream",
     "text": [
      "Computing accuracy\n",
      "Test set accuracy (Precision@1) = 0.6687891414141413\n",
      "Epoch 95 Iteration 0: Loss = 0.4079529047012329\n"
     ]
    },
    {
     "name": "stderr",
     "output_type": "stream",
     "text": [
      "100%|█████████████████████████████████████████████████████████████████████████████████████████████████████| 295/295 [00:16<00:00, 17.75it/s]\n",
      "100%|███████████████████████████████████████████████████████████████████████████████████████████████████████| 74/74 [00:03<00:00, 18.82it/s]\n"
     ]
    },
    {
     "name": "stdout",
     "output_type": "stream",
     "text": [
      "Computing accuracy\n",
      "Test set accuracy (Precision@1) = 0.663070707070707\n",
      "Epoch 96 Iteration 0: Loss = 0.40771010518074036\n"
     ]
    },
    {
     "name": "stderr",
     "output_type": "stream",
     "text": [
      "100%|█████████████████████████████████████████████████████████████████████████████████████████████████████| 295/295 [00:16<00:00, 18.03it/s]\n",
      "100%|███████████████████████████████████████████████████████████████████████████████████████████████████████| 74/74 [00:03<00:00, 19.42it/s]\n"
     ]
    },
    {
     "name": "stdout",
     "output_type": "stream",
     "text": [
      "Computing accuracy\n",
      "Test set accuracy (Precision@1) = 0.6607234848484848\n",
      "Epoch 97 Iteration 0: Loss = 0.44921132922172546\n"
     ]
    },
    {
     "name": "stderr",
     "output_type": "stream",
     "text": [
      "100%|█████████████████████████████████████████████████████████████████████████████████████████████████████| 295/295 [00:16<00:00, 18.03it/s]\n",
      "100%|███████████████████████████████████████████████████████████████████████████████████████████████████████| 74/74 [00:03<00:00, 19.47it/s]\n"
     ]
    },
    {
     "name": "stdout",
     "output_type": "stream",
     "text": [
      "Computing accuracy\n",
      "Test set accuracy (Precision@1) = 0.6620378787878788\n",
      "Epoch 98 Iteration 0: Loss = 0.3838249742984772\n"
     ]
    },
    {
     "name": "stderr",
     "output_type": "stream",
     "text": [
      "100%|█████████████████████████████████████████████████████████████████████████████████████████████████████| 295/295 [00:16<00:00, 18.01it/s]\n",
      "100%|███████████████████████████████████████████████████████████████████████████████████████████████████████| 74/74 [00:03<00:00, 19.38it/s]\n"
     ]
    },
    {
     "name": "stdout",
     "output_type": "stream",
     "text": [
      "Computing accuracy\n",
      "Test set accuracy (Precision@1) = 0.6693661616161617\n",
      "Epoch 99 Iteration 0: Loss = 0.41386568546295166\n"
     ]
    },
    {
     "name": "stderr",
     "output_type": "stream",
     "text": [
      "100%|█████████████████████████████████████████████████████████████████████████████████████████████████████| 295/295 [00:16<00:00, 17.98it/s]\n",
      "100%|███████████████████████████████████████████████████████████████████████████████████████████████████████| 74/74 [00:03<00:00, 19.32it/s]\n"
     ]
    },
    {
     "name": "stdout",
     "output_type": "stream",
     "text": [
      "Computing accuracy\n",
      "Test set accuracy (Precision@1) = 0.6629040404040404\n",
      "Epoch 100 Iteration 0: Loss = 0.38302481174468994\n"
     ]
    },
    {
     "name": "stderr",
     "output_type": "stream",
     "text": [
      "100%|█████████████████████████████████████████████████████████████████████████████████████████████████████| 295/295 [00:16<00:00, 18.00it/s]\n",
      "100%|███████████████████████████████████████████████████████████████████████████████████████████████████████| 74/74 [00:03<00:00, 19.56it/s]"
     ]
    },
    {
     "name": "stdout",
     "output_type": "stream",
     "text": [
      "Computing accuracy\n",
      "Test set accuracy (Precision@1) = 0.6593396464646466\n"
     ]
    },
    {
     "name": "stderr",
     "output_type": "stream",
     "text": [
      "\n"
     ]
    }
   ],
   "source": [
    "#total_loss = []\n",
    "#total_acc = []\n",
    "for epoch in range(1, num_epochs + 1):\n",
    "    train_loss = train(model, loss_func,mining_func, device, train_loader, optimizer, epoch)\n",
    "    #total_loss.extend(train_loss)\n",
    "    test_acc = test(train_dataset, test_dataset, model, accuracy_calculator)\n",
    "    #total_acc.append(test_acc)\n",
    "    wandb.log({\"test_accuracy\": test_acc, \"train_loss\": train_loss,'epoch':epoch})"
   ]
  },
  {
   "cell_type": "code",
   "execution_count": 24,
   "id": "395883f6-bda6-43e9-a3d7-8bfc3de85acd",
   "metadata": {},
   "outputs": [],
   "source": [
    "wandb.unwatch()"
   ]
  },
  {
   "cell_type": "code",
   "execution_count": 25,
   "id": "f4e33826-711a-4780-b22f-8089e23719da",
   "metadata": {},
   "outputs": [],
   "source": [
    "torch.save(model,config['model_save_path']+'_200.pth')"
   ]
  },
  {
   "cell_type": "code",
   "execution_count": 19,
   "id": "8468f5a6-8c26-4f43-b780-898e6e6cbc12",
   "metadata": {
    "scrolled": true
   },
   "outputs": [],
   "source": [
    "model = torch.load('models/cub_triplet_loss_epshn_resnet18_sgd_aug_200.pth',map_location='cuda')"
   ]
  },
  {
   "cell_type": "code",
   "execution_count": 26,
   "id": "ee72491a-6daa-4df4-8905-9d237e26b24f",
   "metadata": {
    "scrolled": true
   },
   "outputs": [
    {
     "data": {
      "text/plain": [
       "ResNetFeatrueExtractor18(\n",
       "  (conv1): Conv2d(3, 64, kernel_size=(7, 7), stride=(2, 2), padding=(3, 3), bias=False)\n",
       "  (bn1): BatchNorm2d(64, eps=1e-05, momentum=0.1, affine=True, track_running_stats=True)\n",
       "  (relu): ReLU(inplace=True)\n",
       "  (maxpool): MaxPool2d(kernel_size=3, stride=2, padding=1, dilation=1, ceil_mode=False)\n",
       "  (layer1): Sequential(\n",
       "    (0): BasicBlock(\n",
       "      (conv1): Conv2d(64, 64, kernel_size=(3, 3), stride=(1, 1), padding=(1, 1), bias=False)\n",
       "      (bn1): BatchNorm2d(64, eps=1e-05, momentum=0.1, affine=True, track_running_stats=True)\n",
       "      (relu): ReLU(inplace=True)\n",
       "      (conv2): Conv2d(64, 64, kernel_size=(3, 3), stride=(1, 1), padding=(1, 1), bias=False)\n",
       "      (bn2): BatchNorm2d(64, eps=1e-05, momentum=0.1, affine=True, track_running_stats=True)\n",
       "    )\n",
       "    (1): BasicBlock(\n",
       "      (conv1): Conv2d(64, 64, kernel_size=(3, 3), stride=(1, 1), padding=(1, 1), bias=False)\n",
       "      (bn1): BatchNorm2d(64, eps=1e-05, momentum=0.1, affine=True, track_running_stats=True)\n",
       "      (relu): ReLU(inplace=True)\n",
       "      (conv2): Conv2d(64, 64, kernel_size=(3, 3), stride=(1, 1), padding=(1, 1), bias=False)\n",
       "      (bn2): BatchNorm2d(64, eps=1e-05, momentum=0.1, affine=True, track_running_stats=True)\n",
       "    )\n",
       "  )\n",
       "  (layer2): Sequential(\n",
       "    (0): BasicBlock(\n",
       "      (conv1): Conv2d(64, 128, kernel_size=(3, 3), stride=(2, 2), padding=(1, 1), bias=False)\n",
       "      (bn1): BatchNorm2d(128, eps=1e-05, momentum=0.1, affine=True, track_running_stats=True)\n",
       "      (relu): ReLU(inplace=True)\n",
       "      (conv2): Conv2d(128, 128, kernel_size=(3, 3), stride=(1, 1), padding=(1, 1), bias=False)\n",
       "      (bn2): BatchNorm2d(128, eps=1e-05, momentum=0.1, affine=True, track_running_stats=True)\n",
       "      (downsample): Sequential(\n",
       "        (0): Conv2d(64, 128, kernel_size=(1, 1), stride=(2, 2), bias=False)\n",
       "        (1): BatchNorm2d(128, eps=1e-05, momentum=0.1, affine=True, track_running_stats=True)\n",
       "      )\n",
       "    )\n",
       "    (1): BasicBlock(\n",
       "      (conv1): Conv2d(128, 128, kernel_size=(3, 3), stride=(1, 1), padding=(1, 1), bias=False)\n",
       "      (bn1): BatchNorm2d(128, eps=1e-05, momentum=0.1, affine=True, track_running_stats=True)\n",
       "      (relu): ReLU(inplace=True)\n",
       "      (conv2): Conv2d(128, 128, kernel_size=(3, 3), stride=(1, 1), padding=(1, 1), bias=False)\n",
       "      (bn2): BatchNorm2d(128, eps=1e-05, momentum=0.1, affine=True, track_running_stats=True)\n",
       "    )\n",
       "  )\n",
       "  (layer3): Sequential(\n",
       "    (0): BasicBlock(\n",
       "      (conv1): Conv2d(128, 256, kernel_size=(3, 3), stride=(2, 2), padding=(1, 1), bias=False)\n",
       "      (bn1): BatchNorm2d(256, eps=1e-05, momentum=0.1, affine=True, track_running_stats=True)\n",
       "      (relu): ReLU(inplace=True)\n",
       "      (conv2): Conv2d(256, 256, kernel_size=(3, 3), stride=(1, 1), padding=(1, 1), bias=False)\n",
       "      (bn2): BatchNorm2d(256, eps=1e-05, momentum=0.1, affine=True, track_running_stats=True)\n",
       "      (downsample): Sequential(\n",
       "        (0): Conv2d(128, 256, kernel_size=(1, 1), stride=(2, 2), bias=False)\n",
       "        (1): BatchNorm2d(256, eps=1e-05, momentum=0.1, affine=True, track_running_stats=True)\n",
       "      )\n",
       "    )\n",
       "    (1): BasicBlock(\n",
       "      (conv1): Conv2d(256, 256, kernel_size=(3, 3), stride=(1, 1), padding=(1, 1), bias=False)\n",
       "      (bn1): BatchNorm2d(256, eps=1e-05, momentum=0.1, affine=True, track_running_stats=True)\n",
       "      (relu): ReLU(inplace=True)\n",
       "      (conv2): Conv2d(256, 256, kernel_size=(3, 3), stride=(1, 1), padding=(1, 1), bias=False)\n",
       "      (bn2): BatchNorm2d(256, eps=1e-05, momentum=0.1, affine=True, track_running_stats=True)\n",
       "    )\n",
       "  )\n",
       "  (layer4): Sequential(\n",
       "    (0): BasicBlock(\n",
       "      (conv1): Conv2d(256, 512, kernel_size=(3, 3), stride=(2, 2), padding=(1, 1), bias=False)\n",
       "      (bn1): BatchNorm2d(512, eps=1e-05, momentum=0.1, affine=True, track_running_stats=True)\n",
       "      (relu): ReLU(inplace=True)\n",
       "      (conv2): Conv2d(512, 512, kernel_size=(3, 3), stride=(1, 1), padding=(1, 1), bias=False)\n",
       "      (bn2): BatchNorm2d(512, eps=1e-05, momentum=0.1, affine=True, track_running_stats=True)\n",
       "      (downsample): Sequential(\n",
       "        (0): Conv2d(256, 512, kernel_size=(1, 1), stride=(2, 2), bias=False)\n",
       "        (1): BatchNorm2d(512, eps=1e-05, momentum=0.1, affine=True, track_running_stats=True)\n",
       "      )\n",
       "    )\n",
       "    (1): BasicBlock(\n",
       "      (conv1): Conv2d(512, 512, kernel_size=(3, 3), stride=(1, 1), padding=(1, 1), bias=False)\n",
       "      (bn1): BatchNorm2d(512, eps=1e-05, momentum=0.1, affine=True, track_running_stats=True)\n",
       "      (relu): ReLU(inplace=True)\n",
       "      (conv2): Conv2d(512, 512, kernel_size=(3, 3), stride=(1, 1), padding=(1, 1), bias=False)\n",
       "      (bn2): BatchNorm2d(512, eps=1e-05, momentum=0.1, affine=True, track_running_stats=True)\n",
       "    )\n",
       "  )\n",
       "  (avgpool): AdaptiveAvgPool2d(output_size=(1, 1))\n",
       "  (fc1): Linear(in_features=512, out_features=512, bias=True)\n",
       ")"
      ]
     },
     "execution_count": 26,
     "metadata": {},
     "output_type": "execute_result"
    }
   ],
   "source": [
    "model.eval()"
   ]
  },
  {
   "cell_type": "code",
   "execution_count": 27,
   "id": "c99fe1cb-ce19-41bf-bb1d-658c8b1b89d9",
   "metadata": {},
   "outputs": [],
   "source": [
    "from pytorch_metric_learning.distances import LpDistance,CosineSimilarity\n",
    "from pytorch_metric_learning.utils.inference import CustomKNN\n",
    "knn_func = CustomKNN(CosineSimilarity())\n",
    "accuracy_calculator = AccuracyCalculator(include=(\"precision_at_1\",),k=1,knn_func=knn_func,avg_of_avgs=False,return_per_class=True)\n",
    "#test(train_dataset, test_dataset, model, accuracy_calculator)"
   ]
  },
  {
   "cell_type": "code",
   "execution_count": 28,
   "id": "248f5f10-0423-47bf-a7b1-83de1a863c7f",
   "metadata": {},
   "outputs": [
    {
     "name": "stderr",
     "output_type": "stream",
     "text": [
      "100%|█████████████████████████████████████████████████████████████████████████████████████████████████████| 295/295 [00:16<00:00, 17.67it/s]\n",
      "100%|███████████████████████████████████████████████████████████████████████████████████████████████████████| 74/74 [00:03<00:00, 19.05it/s]\n"
     ]
    }
   ],
   "source": [
    "train_embeddings, train_labels = get_all_embeddings(train_dataset, model)\n",
    "test_embeddings, test_labels = get_all_embeddings(test_dataset, model)\n",
    "train_labels = train_labels.squeeze(1)\n",
    "test_labels = test_labels.squeeze(1)"
   ]
  },
  {
   "cell_type": "code",
   "execution_count": 29,
   "id": "eba43667-c551-46c0-93aa-dbcf38f695f7",
   "metadata": {},
   "outputs": [
    {
     "name": "stdout",
     "output_type": "stream",
     "text": [
      "{'precision_at_1': [0.75, 0.75, 0.6666666666666666, 0.8333333333333334, 0.6666666666666666, 0.75, 1.0, 0.5555555555555556, 0.4166666666666667, 0.8333333333333334, 0.5, 1.0, 0.75, 0.75, 0.7272727272727273, 0.7272727272727273, 0.6363636363636364, 1.0, 0.75, 0.5, 0.75, 0.5454545454545454, 0.4166666666666667, 0.8, 0.4166666666666667, 0.5833333333333334, 0.25, 1.0, 0.25, 0.16666666666666666, 0.6666666666666666, 0.6, 0.75, 0.8333333333333334, 0.9166666666666666, 0.6666666666666666, 0.3333333333333333, 0.5833333333333334, 0.4166666666666667, 0.25, 0.9166666666666666, 1.0, 0.16666666666666666, 0.8333333333333334, 0.5, 0.9166666666666666, 0.75, 1.0, 0.25, 0.75, 0.5, 0.8333333333333334, 0.8333333333333334, 0.5833333333333334, 1.0, 0.75, 0.9166666666666666, 0.75, 0.4166666666666667, 0.16666666666666666, 0.8333333333333334, 0.16666666666666666, 1.0, 0.4166666666666667, 0.4, 0.4166666666666667, 0.4166666666666667, 0.6666666666666666, 0.8333333333333334, 0.9166666666666666, 0.25, 0.4166666666666667, 0.8333333333333334, 0.8333333333333334, 0.9090909090909091, 0.9166666666666666, 0.8333333333333334, 0.5833333333333334, 0.5833333333333334, 0.75, 0.75, 0.8333333333333334, 0.9166666666666666, 0.8, 0.75, 0.6666666666666666, 0.9166666666666666, 1.0, 0.8333333333333334, 0.9166666666666666, 0.25, 0.75, 0.8333333333333334, 0.9166666666666666, 0.9166666666666666, 0.75, 0.5, 0.8333333333333334, 0.8333333333333334, 1.0, 0.9, 0.25, 0.5, 0.5833333333333334, 0.4, 0.8333333333333334, 0.5, 0.5, 0.9166666666666666, 0.8333333333333334, 0.5, 0.5833333333333334, 0.6, 0.6666666666666666, 0.6666666666666666, 0.5833333333333334, 0.4166666666666667, 0.25, 0.75, 0.6666666666666666, 0.4166666666666667, 0.6666666666666666, 0.5833333333333334, 0.5833333333333334, 0.4166666666666667, 0.5833333333333334, 0.5, 0.75, 0.3333333333333333, 0.5, 0.5833333333333334, 0.5833333333333334, 0.6666666666666666, 0.9166666666666666, 0.4166666666666667, 0.75, 0.5, 0.75, 0.8333333333333334, 0.8333333333333334, 0.8181818181818182, 0.3333333333333333, 0.3333333333333333, 0.5, 0.3333333333333333, 0.5, 0.75, 0.6666666666666666, 0.5833333333333334, 0.5, 0.5, 0.6666666666666666, 0.6666666666666666, 1.0, 0.3333333333333333, 0.5833333333333334, 0.4166666666666667, 0.8333333333333334, 0.9166666666666666, 0.6666666666666666, 0.75, 0.4166666666666667, 0.75, 0.8333333333333334, 0.75, 0.75, 0.9166666666666666, 0.8333333333333334, 0.9166666666666666, 0.8333333333333334, 0.6666666666666666, 0.8333333333333334, 0.5833333333333334, 0.5, 0.25, 0.8333333333333334, 0.75, 0.6363636363636364, 0.25, 0.3333333333333333, 0.6666666666666666, 0.5, 0.6666666666666666, 0.4166666666666667, 0.9166666666666666, 0.8333333333333334, 0.9, 0.8333333333333334, 1.0, 0.9090909090909091, 0.75, 1.0, 0.5, 0.9166666666666666, 0.9166666666666666, 0.6666666666666666, 0.5833333333333334, 0.6666666666666666, 0.9166666666666666, 0.8333333333333334]}\n"
     ]
    }
   ],
   "source": [
    "accuracies = accuracy_calculator.get_accuracy(\n",
    "        test_embeddings, test_labels, train_embeddings, train_labels)\n",
    "print(accuracies)"
   ]
  },
  {
   "cell_type": "code",
   "execution_count": 30,
   "id": "66e97839-85a9-4d96-80f3-1c29e80ccf81",
   "metadata": {},
   "outputs": [],
   "source": [
    "data_dict = {v:k for k,v in class_dict.items()}"
   ]
  },
  {
   "cell_type": "code",
   "execution_count": 31,
   "id": "a0bbe361-a4e0-4ff3-a62d-4abc0aea8099",
   "metadata": {},
   "outputs": [
    {
     "name": "stdout",
     "output_type": "stream",
     "text": [
      "001.Black_footed_Albatross     test samples 12   , training samples 48   : [0.75]\n",
      "002.Laysan_Albatross           test samples 12   , training samples 48   : [0.75]\n",
      "003.Sooty_Albatross            test samples 12   , training samples 46   : [0.6666666666666666]\n",
      "004.Groove_billed_Ani          test samples 12   , training samples 48   : [0.8333333333333334]\n",
      "005.Crested_Auklet             test samples 9    , training samples 35   : [0.6666666666666666]\n",
      "006.Least_Auklet               test samples 8    , training samples 33   : [0.75]\n",
      "007.Parakeet_Auklet            test samples 10   , training samples 43   : [1.0]\n",
      "008.Rhinoceros_Auklet          test samples 9    , training samples 39   : [0.5555555555555556]\n",
      "009.Brewer_Blackbird           test samples 12   , training samples 47   : [0.4166666666666667]\n",
      "010.Red_winged_Blackbird       test samples 12   , training samples 48   : [0.8333333333333334]\n",
      "011.Rusty_Blackbird            test samples 12   , training samples 48   : [0.5]\n",
      "012.Yellow_headed_Blackbird    test samples 11   , training samples 45   : [1.0]\n",
      "013.Bobolink                   test samples 12   , training samples 48   : [0.75]\n",
      "014.Indigo_Bunting             test samples 12   , training samples 48   : [0.75]\n",
      "015.Lazuli_Bunting             test samples 11   , training samples 47   : [0.7272727272727273]\n",
      "016.Painted_Bunting            test samples 11   , training samples 47   : [0.7272727272727273]\n",
      "017.Cardinal                   test samples 11   , training samples 46   : [0.6363636363636364]\n",
      "018.Spotted_Catbird            test samples 9    , training samples 36   : [1.0]\n",
      "019.Gray_Catbird               test samples 12   , training samples 47   : [0.75]\n",
      "020.Yellow_breasted_Chat       test samples 12   , training samples 47   : [0.5]\n",
      "021.Eastern_Towhee             test samples 12   , training samples 48   : [0.75]\n",
      "022.Chuck_will_Widow           test samples 11   , training samples 45   : [0.5454545454545454]\n",
      "023.Brandt_Cormorant           test samples 12   , training samples 47   : [0.4166666666666667]\n",
      "024.Red_faced_Cormorant        test samples 10   , training samples 42   : [0.8]\n",
      "025.Pelagic_Cormorant          test samples 12   , training samples 48   : [0.4166666666666667]\n",
      "026.Bronzed_Cowbird            test samples 12   , training samples 48   : [0.5833333333333334]\n",
      "027.Shiny_Cowbird              test samples 12   , training samples 48   : [0.25]\n",
      "028.Brown_Creeper              test samples 12   , training samples 47   : [1.0]\n",
      "029.American_Crow              test samples 12   , training samples 48   : [0.25]\n",
      "030.Fish_Crow                  test samples 12   , training samples 48   : [0.16666666666666666]\n",
      "031.Black_billed_Cuckoo        test samples 12   , training samples 48   : [0.6666666666666666]\n",
      "032.Mangrove_Cuckoo            test samples 10   , training samples 43   : [0.6]\n",
      "033.Yellow_billed_Cuckoo       test samples 12   , training samples 47   : [0.75]\n",
      "034.Gray_crowned_Rosy_Finch    test samples 12   , training samples 47   : [0.8333333333333334]\n",
      "035.Purple_Finch               test samples 12   , training samples 48   : [0.9166666666666666]\n",
      "036.Northern_Flicker           test samples 12   , training samples 48   : [0.6666666666666666]\n",
      "037.Acadian_Flycatcher         test samples 12   , training samples 47   : [0.3333333333333333]\n",
      "038.Great_Crested_Flycatcher   test samples 12   , training samples 48   : [0.5833333333333334]\n",
      "039.Least_Flycatcher           test samples 12   , training samples 47   : [0.4166666666666667]\n",
      "040.Olive_sided_Flycatcher     test samples 12   , training samples 48   : [0.25]\n",
      "041.Scissor_tailed_Flycatcher  test samples 12   , training samples 48   : [0.9166666666666666]\n",
      "042.Vermilion_Flycatcher       test samples 12   , training samples 48   : [1.0]\n",
      "043.Yellow_bellied_Flycatcher  test samples 12   , training samples 47   : [0.16666666666666666]\n",
      "044.Frigatebird                test samples 12   , training samples 48   : [0.8333333333333334]\n",
      "045.Northern_Fulmar            test samples 12   , training samples 48   : [0.5]\n",
      "046.Gadwall                    test samples 12   , training samples 48   : [0.9166666666666666]\n",
      "047.American_Goldfinch         test samples 12   , training samples 48   : [0.75]\n",
      "048.European_Goldfinch         test samples 12   , training samples 48   : [1.0]\n",
      "049.Boat_tailed_Grackle        test samples 12   , training samples 48   : [0.25]\n",
      "050.Eared_Grebe                test samples 12   , training samples 48   : [0.75]\n",
      "051.Horned_Grebe               test samples 12   , training samples 48   : [0.5]\n",
      "052.Pied_billed_Grebe          test samples 12   , training samples 48   : [0.8333333333333334]\n",
      "053.Western_Grebe              test samples 12   , training samples 48   : [0.8333333333333334]\n",
      "054.Blue_Grosbeak              test samples 12   , training samples 48   : [0.5833333333333334]\n",
      "055.Evening_Grosbeak           test samples 12   , training samples 48   : [1.0]\n",
      "056.Pine_Grosbeak              test samples 12   , training samples 48   : [0.75]\n",
      "057.Rose_breasted_Grosbeak     test samples 12   , training samples 48   : [0.9166666666666666]\n",
      "058.Pigeon_Guillemot           test samples 12   , training samples 46   : [0.75]\n",
      "059.California_Gull            test samples 12   , training samples 48   : [0.4166666666666667]\n",
      "060.Glaucous_winged_Gull       test samples 12   , training samples 47   : [0.16666666666666666]\n",
      "061.Heermann_Gull              test samples 12   , training samples 48   : [0.8333333333333334]\n",
      "062.Herring_Gull               test samples 12   , training samples 48   : [0.16666666666666666]\n",
      "063.Ivory_Gull                 test samples 12   , training samples 48   : [1.0]\n",
      "064.Ring_billed_Gull           test samples 12   , training samples 48   : [0.4166666666666667]\n",
      "065.Slaty_backed_Gull          test samples 10   , training samples 40   : [0.4]\n",
      "066.Western_Gull               test samples 12   , training samples 48   : [0.4166666666666667]\n",
      "067.Anna_Hummingbird           test samples 12   , training samples 48   : [0.4166666666666667]\n",
      "068.Ruby_throated_Hummingbird  test samples 12   , training samples 48   : [0.6666666666666666]\n",
      "069.Rufous_Hummingbird         test samples 12   , training samples 48   : [0.8333333333333334]\n",
      "070.Green_Violetear            test samples 12   , training samples 48   : [0.9166666666666666]\n",
      "071.Long_tailed_Jaeger         test samples 12   , training samples 48   : [0.25]\n",
      "072.Pomarine_Jaeger            test samples 12   , training samples 48   : [0.4166666666666667]\n",
      "073.Blue_Jay                   test samples 12   , training samples 48   : [0.8333333333333334]\n",
      "074.Florida_Jay                test samples 12   , training samples 48   : [0.8333333333333334]\n",
      "075.Green_Jay                  test samples 11   , training samples 46   : [0.9090909090909091]\n",
      "076.Dark_eyed_Junco            test samples 12   , training samples 48   : [0.9166666666666666]\n",
      "077.Tropical_Kingbird          test samples 12   , training samples 48   : [0.8333333333333334]\n",
      "078.Gray_Kingbird              test samples 12   , training samples 47   : [0.5833333333333334]\n",
      "079.Belted_Kingfisher          test samples 12   , training samples 48   : [0.5833333333333334]\n",
      "080.Green_Kingfisher           test samples 12   , training samples 48   : [0.75]\n",
      "081.Pied_Kingfisher            test samples 12   , training samples 48   : [0.75]\n",
      "082.Ringed_Kingfisher          test samples 12   , training samples 48   : [0.8333333333333334]\n",
      "083.White_breasted_Kingfisher  test samples 12   , training samples 48   : [0.9166666666666666]\n",
      "084.Red_legged_Kittiwake       test samples 10   , training samples 43   : [0.8]\n",
      "085.Horned_Lark                test samples 12   , training samples 48   : [0.75]\n",
      "086.Pacific_Loon               test samples 12   , training samples 48   : [0.6666666666666666]\n",
      "087.Mallard                    test samples 12   , training samples 48   : [0.9166666666666666]\n",
      "088.Western_Meadowlark         test samples 12   , training samples 48   : [1.0]\n",
      "089.Hooded_Merganser           test samples 12   , training samples 48   : [0.8333333333333334]\n",
      "090.Red_breasted_Merganser     test samples 12   , training samples 48   : [0.9166666666666666]\n",
      "091.Mockingbird                test samples 12   , training samples 48   : [0.25]\n",
      "092.Nighthawk                  test samples 12   , training samples 48   : [0.75]\n",
      "093.Clark_Nutcracker           test samples 12   , training samples 48   : [0.8333333333333334]\n",
      "094.White_breasted_Nuthatch    test samples 12   , training samples 48   : [0.9166666666666666]\n",
      "095.Baltimore_Oriole           test samples 12   , training samples 48   : [0.9166666666666666]\n",
      "096.Hooded_Oriole              test samples 12   , training samples 48   : [0.75]\n",
      "097.Orchard_Oriole             test samples 12   , training samples 47   : [0.5]\n",
      "098.Scott_Oriole               test samples 12   , training samples 48   : [0.8333333333333334]\n",
      "099.Ovenbird                   test samples 12   , training samples 48   : [0.8333333333333334]\n",
      "100.Brown_Pelican              test samples 12   , training samples 48   : [1.0]\n",
      "101.White_Pelican              test samples 10   , training samples 40   : [0.9]\n",
      "102.Western_Wood_Pewee         test samples 12   , training samples 48   : [0.25]\n",
      "103.Sayornis                   test samples 12   , training samples 48   : [0.5]\n",
      "104.American_Pipit             test samples 12   , training samples 48   : [0.5833333333333334]\n",
      "105.Whip_poor_Will             test samples 10   , training samples 39   : [0.4]\n",
      "106.Horned_Puffin              test samples 12   , training samples 48   : [0.8333333333333334]\n",
      "107.Common_Raven               test samples 12   , training samples 47   : [0.5]\n",
      "108.White_necked_Raven         test samples 12   , training samples 48   : [0.5]\n",
      "109.American_Redstart          test samples 12   , training samples 48   : [0.9166666666666666]\n",
      "110.Geococcyx                  test samples 12   , training samples 48   : [0.8333333333333334]\n",
      "111.Loggerhead_Shrike          test samples 12   , training samples 48   : [0.5]\n",
      "112.Great_Grey_Shrike          test samples 12   , training samples 48   : [0.5833333333333334]\n",
      "113.Baird_Sparrow              test samples 10   , training samples 40   : [0.6]\n",
      "114.Black_throated_Sparrow     test samples 12   , training samples 48   : [0.6666666666666666]\n",
      "115.Brewer_Sparrow             test samples 12   , training samples 47   : [0.6666666666666666]\n",
      "116.Chipping_Sparrow           test samples 12   , training samples 48   : [0.5833333333333334]\n",
      "117.Clay_colored_Sparrow       test samples 12   , training samples 47   : [0.4166666666666667]\n",
      "118.House_Sparrow              test samples 12   , training samples 48   : [0.25]\n",
      "119.Field_Sparrow              test samples 12   , training samples 47   : [0.75]\n",
      "120.Fox_Sparrow                test samples 12   , training samples 48   : [0.6666666666666666]\n",
      "121.Grasshopper_Sparrow        test samples 12   , training samples 48   : [0.4166666666666667]\n",
      "122.Harris_Sparrow             test samples 12   , training samples 48   : [0.6666666666666666]\n",
      "123.Henslow_Sparrow            test samples 12   , training samples 48   : [0.5833333333333334]\n",
      "124.Le_Conte_Sparrow           test samples 12   , training samples 47   : [0.5833333333333334]\n",
      "125.Lincoln_Sparrow            test samples 12   , training samples 47   : [0.4166666666666667]\n",
      "126.Nelson_Sharp_tailed_Sparrow test samples 12   , training samples 47   : [0.5833333333333334]\n",
      "127.Savannah_Sparrow           test samples 12   , training samples 48   : [0.5]\n",
      "128.Seaside_Sparrow            test samples 12   , training samples 48   : [0.75]\n",
      "129.Song_Sparrow               test samples 12   , training samples 48   : [0.3333333333333333]\n",
      "130.Tree_Sparrow               test samples 12   , training samples 48   : [0.5]\n",
      "131.Vesper_Sparrow             test samples 12   , training samples 48   : [0.5833333333333334]\n",
      "132.White_crowned_Sparrow      test samples 12   , training samples 48   : [0.5833333333333334]\n",
      "133.White_throated_Sparrow     test samples 12   , training samples 48   : [0.6666666666666666]\n",
      "134.Cape_Glossy_Starling       test samples 12   , training samples 48   : [0.9166666666666666]\n",
      "135.Bank_Swallow               test samples 12   , training samples 47   : [0.4166666666666667]\n",
      "136.Barn_Swallow               test samples 12   , training samples 48   : [0.75]\n",
      "137.Cliff_Swallow              test samples 12   , training samples 48   : [0.5]\n",
      "138.Tree_Swallow               test samples 12   , training samples 48   : [0.75]\n",
      "139.Scarlet_Tanager            test samples 12   , training samples 48   : [0.8333333333333334]\n",
      "140.Summer_Tanager             test samples 12   , training samples 48   : [0.8333333333333334]\n",
      "141.Artic_Tern                 test samples 11   , training samples 47   : [0.8181818181818182]\n",
      "142.Black_Tern                 test samples 12   , training samples 48   : [0.3333333333333333]\n",
      "143.Caspian_Tern               test samples 12   , training samples 48   : [0.3333333333333333]\n",
      "144.Common_Tern                test samples 12   , training samples 48   : [0.5]\n",
      "145.Elegant_Tern               test samples 12   , training samples 48   : [0.3333333333333333]\n",
      "146.Forsters_Tern              test samples 12   , training samples 48   : [0.5]\n",
      "147.Least_Tern                 test samples 12   , training samples 48   : [0.75]\n",
      "148.Green_tailed_Towhee        test samples 12   , training samples 48   : [0.6666666666666666]\n",
      "149.Brown_Thrasher             test samples 12   , training samples 47   : [0.5833333333333334]\n",
      "150.Sage_Thrasher              test samples 12   , training samples 48   : [0.5]\n",
      "151.Black_capped_Vireo         test samples 10   , training samples 41   : [0.5]\n",
      "152.Blue_headed_Vireo          test samples 12   , training samples 48   : [0.6666666666666666]\n",
      "153.Philadelphia_Vireo         test samples 12   , training samples 47   : [0.6666666666666666]\n",
      "154.Red_eyed_Vireo             test samples 12   , training samples 48   : [1.0]\n",
      "155.Warbling_Vireo             test samples 12   , training samples 48   : [0.3333333333333333]\n",
      "156.White_eyed_Vireo           test samples 12   , training samples 48   : [0.5833333333333334]\n",
      "157.Yellow_throated_Vireo      test samples 12   , training samples 47   : [0.4166666666666667]\n",
      "158.Bay_breasted_Warbler       test samples 12   , training samples 48   : [0.8333333333333334]\n",
      "159.Black_and_white_Warbler    test samples 12   , training samples 48   : [0.9166666666666666]\n",
      "160.Black_throated_Blue_Warbler test samples 12   , training samples 47   : [0.6666666666666666]\n",
      "161.Blue_winged_Warbler        test samples 12   , training samples 48   : [0.75]\n",
      "162.Canada_Warbler             test samples 12   , training samples 48   : [0.4166666666666667]\n",
      "163.Cape_May_Warbler           test samples 12   , training samples 48   : [0.75]\n",
      "164.Cerulean_Warbler           test samples 12   , training samples 48   : [0.8333333333333334]\n",
      "165.Chestnut_sided_Warbler     test samples 12   , training samples 48   : [0.75]\n",
      "166.Golden_winged_Warbler      test samples 12   , training samples 47   : [0.75]\n",
      "167.Hooded_Warbler             test samples 12   , training samples 48   : [0.9166666666666666]\n",
      "168.Kentucky_Warbler           test samples 12   , training samples 47   : [0.8333333333333334]\n",
      "169.Magnolia_Warbler           test samples 12   , training samples 47   : [0.9166666666666666]\n",
      "170.Mourning_Warbler           test samples 12   , training samples 48   : [0.8333333333333334]\n",
      "171.Myrtle_Warbler             test samples 12   , training samples 48   : [0.6666666666666666]\n",
      "172.Nashville_Warbler          test samples 12   , training samples 48   : [0.8333333333333334]\n",
      "173.Orange_crowned_Warbler     test samples 12   , training samples 48   : [0.5833333333333334]\n",
      "174.Palm_Warbler               test samples 12   , training samples 48   : [0.5]\n",
      "175.Pine_Warbler               test samples 12   , training samples 48   : [0.25]\n",
      "176.Prairie_Warbler            test samples 12   , training samples 48   : [0.8333333333333334]\n",
      "177.Prothonotary_Warbler       test samples 12   , training samples 48   : [0.75]\n",
      "178.Swainson_Warbler           test samples 11   , training samples 45   : [0.6363636363636364]\n",
      "179.Tennessee_Warbler          test samples 12   , training samples 47   : [0.25]\n",
      "180.Wilson_Warbler             test samples 12   , training samples 48   : [0.3333333333333333]\n",
      "181.Worm_eating_Warbler        test samples 12   , training samples 47   : [0.6666666666666666]\n",
      "182.Yellow_Warbler             test samples 12   , training samples 48   : [0.5]\n",
      "183.Northern_Waterthrush       test samples 12   , training samples 48   : [0.6666666666666666]\n",
      "184.Louisiana_Waterthrush      test samples 12   , training samples 48   : [0.4166666666666667]\n",
      "185.Bohemian_Waxwing           test samples 12   , training samples 48   : [0.9166666666666666]\n",
      "186.Cedar_Waxwing              test samples 12   , training samples 48   : [0.8333333333333334]\n",
      "187.American_Three_toed_Woodpecker test samples 10   , training samples 40   : [0.9]\n",
      "188.Pileated_Woodpecker        test samples 12   , training samples 48   : [0.8333333333333334]\n",
      "189.Red_bellied_Woodpecker     test samples 12   , training samples 48   : [1.0]\n",
      "190.Red_cockaded_Woodpecker    test samples 11   , training samples 47   : [0.9090909090909091]\n",
      "191.Red_headed_Woodpecker      test samples 12   , training samples 48   : [0.75]\n",
      "192.Downy_Woodpecker           test samples 12   , training samples 48   : [1.0]\n",
      "193.Bewick_Wren                test samples 12   , training samples 48   : [0.5]\n",
      "194.Cactus_Wren                test samples 12   , training samples 48   : [0.9166666666666666]\n",
      "195.Carolina_Wren              test samples 12   , training samples 48   : [0.9166666666666666]\n",
      "196.House_Wren                 test samples 12   , training samples 47   : [0.6666666666666666]\n",
      "197.Marsh_Wren                 test samples 12   , training samples 48   : [0.5833333333333334]\n",
      "198.Rock_Wren                  test samples 12   , training samples 48   : [0.6666666666666666]\n",
      "199.Winter_Wren                test samples 12   , training samples 48   : [0.9166666666666666]\n",
      "200.Common_Yellowthroat        test samples 12   , training samples 48   : [0.8333333333333334]\n"
     ]
    }
   ],
   "source": [
    "acc_dict = {}\n",
    "for i in test_labels.unique():\n",
    "    new_labels = test_labels[test_labels==i]\n",
    "    new_embeddings = test_embeddings[test_labels==i]\n",
    "    accuracies = accuracy_calculator.get_accuracy(\n",
    "        new_embeddings, new_labels, train_embeddings, train_labels, False\n",
    "    )\n",
    "    acc_dict[data_dict[int(i.detach().cpu().numpy())]]=[ \n",
    "                  len(new_labels),\n",
    "                  len(train_labels[train_labels==i]),\n",
    "                  accuracies[\"precision_at_1\"][0]]\n",
    "    print(\"{:<30} test samples {:<5}, training samples {:<5}: {}\".format(data_dict[int(i.detach().cpu().numpy())],\n",
    "                                                                  len(new_labels),\n",
    "                                                                  len(train_labels[train_labels==i]),\n",
    "                                                                  accuracies[\"precision_at_1\"]))"
   ]
  },
  {
   "cell_type": "code",
   "execution_count": 32,
   "id": "971a3f40-43ba-47d0-b313-b6f86dd13d81",
   "metadata": {},
   "outputs": [],
   "source": [
    "all_table = [[k]+v for k,v in acc_dict.items()]"
   ]
  },
  {
   "cell_type": "code",
   "execution_count": 33,
   "id": "c4d9d6d7-2f79-410e-9e8d-b03d5df6092d",
   "metadata": {},
   "outputs": [],
   "source": [
    "columns = [\"class_name\", \"no. of test samples\", \"no. of train samples\", \"precision@1\"]\n",
    "train_table = wandb.Table(data=all_table, columns=columns)"
   ]
  },
  {
   "cell_type": "code",
   "execution_count": 34,
   "id": "76dc029c-15da-4f8d-9a24-d2a6e13e4e3f",
   "metadata": {},
   "outputs": [],
   "source": [
    "run.log({\"all_classes_metrics\": train_table})"
   ]
  },
  {
   "cell_type": "code",
   "execution_count": 35,
   "id": "48f001d0-dfdb-49ca-bee6-de0cda9c846b",
   "metadata": {
    "scrolled": true
   },
   "outputs": [
    {
     "name": "stderr",
     "output_type": "stream",
     "text": [
      "100%|█████████████████████████████████████████████████████████████████████████████████████████████████████| 295/295 [00:16<00:00, 17.47it/s]\n",
      "100%|███████████████████████████████████████████████████████████████████████████████████████████████████████| 74/74 [00:03<00:00, 18.84it/s]\n"
     ]
    }
   ],
   "source": [
    "train_embeddings, train_labels = get_all_embeddings(train_dataset, model)\n",
    "test_embeddings, test_labels = get_all_embeddings(test_dataset, model)\n",
    "train_labels = train_labels.squeeze(1)\n",
    "test_labels = test_labels.squeeze(1)"
   ]
  },
  {
   "cell_type": "code",
   "execution_count": 36,
   "id": "3a95fea1-6b58-4dcf-aeb7-de1a40ee731b",
   "metadata": {},
   "outputs": [],
   "source": [
    "import faiss\n",
    "# Create a Faiss index\n",
    "index = faiss.IndexFlatIP(config['embedding_dim'])\n",
    "# Add some vectors to the index\n",
    "index.add(train_embeddings.detach().cpu().numpy())"
   ]
  },
  {
   "cell_type": "code",
   "execution_count": 37,
   "id": "b7865da3-0493-4c18-b748-9ed4858e4168",
   "metadata": {},
   "outputs": [],
   "source": [
    "pred_labels = [] \n",
    "for embedding,label in zip(test_embeddings.detach().cpu().numpy(),test_labels):\n",
    "    _, indices = index.search(embedding.reshape(1,-1).astype(np.float32), 1)\n",
    "    pred_class = train_labels[indices[0][0]]\n",
    "    pred_labels.append(pred_class)"
   ]
  },
  {
   "cell_type": "code",
   "execution_count": 38,
   "id": "4dfd3a2f-3e63-45ec-9429-abb80862949d",
   "metadata": {},
   "outputs": [],
   "source": [
    "pred_labels = [i.detach().cpu().numpy() for i in pred_labels]"
   ]
  },
  {
   "cell_type": "code",
   "execution_count": 39,
   "id": "09e38eb6-ef8a-4a3d-bd0d-41939ffe9133",
   "metadata": {
    "scrolled": true
   },
   "outputs": [],
   "source": [
    "from sklearn.metrics import classification_report\n",
    "report = classification_report(test_labels.detach().cpu().numpy(), pred_labels, target_names=list(class_dict.keys()),output_dict=True)"
   ]
  },
  {
   "cell_type": "code",
   "execution_count": 40,
   "id": "bc382f16-271b-482f-ba83-7d9f2e382e81",
   "metadata": {},
   "outputs": [
    {
     "name": "stdout",
     "output_type": "stream",
     "text": [
      "                                    precision    recall  f1-score   support\n",
      "\n",
      "        001.Black_footed_Albatross       0.59      0.83      0.69        12\n",
      "              002.Laysan_Albatross       0.53      0.75      0.62        12\n",
      "               003.Sooty_Albatross       0.90      0.75      0.82        12\n",
      "             004.Groove_billed_Ani       0.59      0.83      0.69        12\n",
      "                005.Crested_Auklet       1.00      0.67      0.80         9\n",
      "                  006.Least_Auklet       0.86      0.75      0.80         8\n",
      "               007.Parakeet_Auklet       0.77      1.00      0.87        10\n",
      "             008.Rhinoceros_Auklet       0.55      0.67      0.60         9\n",
      "              009.Brewer_Blackbird       0.47      0.58      0.52        12\n",
      "          010.Red_winged_Blackbird       0.82      0.75      0.78        12\n",
      "               011.Rusty_Blackbird       0.44      0.33      0.38        12\n",
      "       012.Yellow_headed_Blackbird       1.00      1.00      1.00        11\n",
      "                      013.Bobolink       0.91      0.83      0.87        12\n",
      "                014.Indigo_Bunting       0.53      0.67      0.59        12\n",
      "                015.Lazuli_Bunting       0.67      0.73      0.70        11\n",
      "               016.Painted_Bunting       1.00      0.73      0.84        11\n",
      "                      017.Cardinal       1.00      0.55      0.71        11\n",
      "               018.Spotted_Catbird       0.90      1.00      0.95         9\n",
      "                  019.Gray_Catbird       0.64      0.75      0.69        12\n",
      "          020.Yellow_breasted_Chat       0.62      0.42      0.50        12\n",
      "                021.Eastern_Towhee       1.00      0.75      0.86        12\n",
      "              022.Chuck_will_Widow       0.50      0.36      0.42        11\n",
      "              023.Brandt_Cormorant       0.50      0.58      0.54        12\n",
      "           024.Red_faced_Cormorant       0.64      0.90      0.75        10\n",
      "             025.Pelagic_Cormorant       0.50      0.33      0.40        12\n",
      "               026.Bronzed_Cowbird       0.82      0.75      0.78        12\n",
      "                 027.Shiny_Cowbird       0.27      0.33      0.30        12\n",
      "                 028.Brown_Creeper       0.92      0.92      0.92        12\n",
      "                 029.American_Crow       0.25      0.25      0.25        12\n",
      "                     030.Fish_Crow       0.13      0.17      0.15        12\n",
      "           031.Black_billed_Cuckoo       0.92      0.92      0.92        12\n",
      "               032.Mangrove_Cuckoo       0.50      0.40      0.44        10\n",
      "          033.Yellow_billed_Cuckoo       0.58      0.58      0.58        12\n",
      "       034.Gray_crowned_Rosy_Finch       1.00      0.92      0.96        12\n",
      "                  035.Purple_Finch       0.85      0.92      0.88        12\n",
      "              036.Northern_Flicker       1.00      0.67      0.80        12\n",
      "            037.Acadian_Flycatcher       0.50      0.42      0.45        12\n",
      "      038.Great_Crested_Flycatcher       0.69      0.75      0.72        12\n",
      "              039.Least_Flycatcher       0.39      0.58      0.47        12\n",
      "        040.Olive_sided_Flycatcher       0.50      0.42      0.45        12\n",
      "     041.Scissor_tailed_Flycatcher       0.64      0.58      0.61        12\n",
      "          042.Vermilion_Flycatcher       0.86      1.00      0.92        12\n",
      "     043.Yellow_bellied_Flycatcher       0.33      0.33      0.33        12\n",
      "                   044.Frigatebird       0.83      0.83      0.83        12\n",
      "               045.Northern_Fulmar       0.67      0.33      0.44        12\n",
      "                       046.Gadwall       0.86      1.00      0.92        12\n",
      "            047.American_Goldfinch       0.73      0.67      0.70        12\n",
      "            048.European_Goldfinch       1.00      1.00      1.00        12\n",
      "           049.Boat_tailed_Grackle       0.71      0.42      0.53        12\n",
      "                   050.Eared_Grebe       0.60      0.50      0.55        12\n",
      "                  051.Horned_Grebe       0.78      0.58      0.67        12\n",
      "             052.Pied_billed_Grebe       0.65      0.92      0.76        12\n",
      "                 053.Western_Grebe       0.85      0.92      0.88        12\n",
      "                 054.Blue_Grosbeak       0.46      0.50      0.48        12\n",
      "              055.Evening_Grosbeak       1.00      1.00      1.00        12\n",
      "                 056.Pine_Grosbeak       0.83      0.83      0.83        12\n",
      "        057.Rose_breasted_Grosbeak       1.00      0.83      0.91        12\n",
      "              058.Pigeon_Guillemot       0.90      0.75      0.82        12\n",
      "               059.California_Gull       0.45      0.42      0.43        12\n",
      "          060.Glaucous_winged_Gull       0.22      0.17      0.19        12\n",
      "                 061.Heermann_Gull       0.77      0.83      0.80        12\n",
      "                  062.Herring_Gull       0.40      0.33      0.36        12\n",
      "                    063.Ivory_Gull       0.62      0.83      0.71        12\n",
      "              064.Ring_billed_Gull       0.40      0.33      0.36        12\n",
      "             065.Slaty_backed_Gull       0.56      0.50      0.53        10\n",
      "                  066.Western_Gull       0.35      0.58      0.44        12\n",
      "              067.Anna_Hummingbird       0.86      0.50      0.63        12\n",
      "     068.Ruby_throated_Hummingbird       0.71      0.83      0.77        12\n",
      "            069.Rufous_Hummingbird       0.69      0.92      0.79        12\n",
      "               070.Green_Violetear       0.92      0.92      0.92        12\n",
      "            071.Long_tailed_Jaeger       0.42      0.42      0.42        12\n",
      "               072.Pomarine_Jaeger       0.57      0.33      0.42        12\n",
      "                      073.Blue_Jay       0.83      0.83      0.83        12\n",
      "                   074.Florida_Jay       0.80      0.67      0.73        12\n",
      "                     075.Green_Jay       0.91      0.91      0.91        11\n",
      "               076.Dark_eyed_Junco       0.85      0.92      0.88        12\n",
      "             077.Tropical_Kingbird       0.62      0.83      0.71        12\n",
      "                 078.Gray_Kingbird       0.60      0.50      0.55        12\n",
      "             079.Belted_Kingfisher       0.62      0.83      0.71        12\n",
      "              080.Green_Kingfisher       0.73      0.67      0.70        12\n",
      "               081.Pied_Kingfisher       1.00      0.83      0.91        12\n",
      "             082.Ringed_Kingfisher       0.64      0.58      0.61        12\n",
      "     083.White_breasted_Kingfisher       0.92      0.92      0.92        12\n",
      "          084.Red_legged_Kittiwake       0.80      0.80      0.80        10\n",
      "                   085.Horned_Lark       1.00      0.75      0.86        12\n",
      "                  086.Pacific_Loon       0.69      0.92      0.79        12\n",
      "                       087.Mallard       1.00      0.92      0.96        12\n",
      "            088.Western_Meadowlark       1.00      0.92      0.96        12\n",
      "              089.Hooded_Merganser       0.91      0.83      0.87        12\n",
      "        090.Red_breasted_Merganser       0.83      0.83      0.83        12\n",
      "                   091.Mockingbird       0.57      0.33      0.42        12\n",
      "                     092.Nighthawk       0.69      0.75      0.72        12\n",
      "              093.Clark_Nutcracker       0.83      0.83      0.83        12\n",
      "       094.White_breasted_Nuthatch       0.92      0.92      0.92        12\n",
      "              095.Baltimore_Oriole       0.92      0.92      0.92        12\n",
      "                 096.Hooded_Oriole       0.71      0.83      0.77        12\n",
      "                097.Orchard_Oriole       0.88      0.58      0.70        12\n",
      "                  098.Scott_Oriole       0.79      0.92      0.85        12\n",
      "                      099.Ovenbird       0.71      0.83      0.77        12\n",
      "                 100.Brown_Pelican       1.00      1.00      1.00        12\n",
      "                 101.White_Pelican       1.00      0.90      0.95        10\n",
      "            102.Western_Wood_Pewee       0.17      0.17      0.17        12\n",
      "                      103.Sayornis       0.46      0.50      0.48        12\n",
      "                104.American_Pipit       0.47      0.58      0.52        12\n",
      "                105.Whip_poor_Will       0.38      0.30      0.33        10\n",
      "                 106.Horned_Puffin       1.00      0.92      0.96        12\n",
      "                  107.Common_Raven       0.33      0.42      0.37        12\n",
      "            108.White_necked_Raven       0.67      0.67      0.67        12\n",
      "             109.American_Redstart       0.75      1.00      0.86        12\n",
      "                     110.Geococcyx       0.92      0.92      0.92        12\n",
      "             111.Loggerhead_Shrike       0.47      0.75      0.58        12\n",
      "             112.Great_Grey_Shrike       0.55      0.50      0.52        12\n",
      "                 113.Baird_Sparrow       0.44      0.70      0.54        10\n",
      "        114.Black_throated_Sparrow       0.56      0.75      0.64        12\n",
      "                115.Brewer_Sparrow       0.60      0.50      0.55        12\n",
      "              116.Chipping_Sparrow       0.54      0.58      0.56        12\n",
      "          117.Clay_colored_Sparrow       0.64      0.75      0.69        12\n",
      "                 118.House_Sparrow       0.57      0.33      0.42        12\n",
      "                 119.Field_Sparrow       0.53      0.83      0.65        12\n",
      "                   120.Fox_Sparrow       0.67      0.67      0.67        12\n",
      "           121.Grasshopper_Sparrow       0.56      0.42      0.48        12\n",
      "                122.Harris_Sparrow       1.00      0.75      0.86        12\n",
      "               123.Henslow_Sparrow       0.70      0.58      0.64        12\n",
      "              124.Le_Conte_Sparrow       0.70      0.58      0.64        12\n",
      "               125.Lincoln_Sparrow       0.57      0.33      0.42        12\n",
      "   126.Nelson_Sharp_tailed_Sparrow       0.67      0.67      0.67        12\n",
      "              127.Savannah_Sparrow       0.46      0.50      0.48        12\n",
      "               128.Seaside_Sparrow       0.47      0.67      0.55        12\n",
      "                  129.Song_Sparrow       0.56      0.42      0.48        12\n",
      "                  130.Tree_Sparrow       0.67      0.50      0.57        12\n",
      "                131.Vesper_Sparrow       0.42      0.67      0.52        12\n",
      "         132.White_crowned_Sparrow       0.80      0.67      0.73        12\n",
      "        133.White_throated_Sparrow       0.83      0.83      0.83        12\n",
      "          134.Cape_Glossy_Starling       0.85      0.92      0.88        12\n",
      "                  135.Bank_Swallow       0.56      0.42      0.48        12\n",
      "                  136.Barn_Swallow       1.00      0.67      0.80        12\n",
      "                 137.Cliff_Swallow       0.56      0.42      0.48        12\n",
      "                  138.Tree_Swallow       0.82      0.75      0.78        12\n",
      "               139.Scarlet_Tanager       1.00      0.83      0.91        12\n",
      "                140.Summer_Tanager       0.86      1.00      0.92        12\n",
      "                    141.Artic_Tern       0.62      0.91      0.74        11\n",
      "                    142.Black_Tern       0.56      0.42      0.48        12\n",
      "                  143.Caspian_Tern       0.44      0.33      0.38        12\n",
      "                   144.Common_Tern       0.57      0.67      0.62        12\n",
      "                  145.Elegant_Tern       0.40      0.17      0.24        12\n",
      "                 146.Forsters_Tern       0.43      0.50      0.46        12\n",
      "                    147.Least_Tern       0.77      0.83      0.80        12\n",
      "           148.Green_tailed_Towhee       0.92      0.92      0.92        12\n",
      "                149.Brown_Thrasher       1.00      0.58      0.74        12\n",
      "                 150.Sage_Thrasher       0.55      0.50      0.52        12\n",
      "            151.Black_capped_Vireo       0.83      0.50      0.62        10\n",
      "             152.Blue_headed_Vireo       0.54      0.58      0.56        12\n",
      "            153.Philadelphia_Vireo       0.42      0.42      0.42        12\n",
      "                154.Red_eyed_Vireo       0.53      0.83      0.65        12\n",
      "                155.Warbling_Vireo       0.56      0.42      0.48        12\n",
      "              156.White_eyed_Vireo       0.64      0.58      0.61        12\n",
      "         157.Yellow_throated_Vireo       1.00      0.50      0.67        12\n",
      "          158.Bay_breasted_Warbler       0.71      0.83      0.77        12\n",
      "       159.Black_and_white_Warbler       0.92      0.92      0.92        12\n",
      "   160.Black_throated_Blue_Warbler       0.83      0.83      0.83        12\n",
      "           161.Blue_winged_Warbler       0.75      0.75      0.75        12\n",
      "                162.Canada_Warbler       0.62      0.42      0.50        12\n",
      "              163.Cape_May_Warbler       0.75      0.75      0.75        12\n",
      "              164.Cerulean_Warbler       0.69      0.75      0.72        12\n",
      "        165.Chestnut_sided_Warbler       1.00      0.83      0.91        12\n",
      "         166.Golden_winged_Warbler       0.90      0.75      0.82        12\n",
      "                167.Hooded_Warbler       0.62      0.67      0.64        12\n",
      "              168.Kentucky_Warbler       0.60      0.75      0.67        12\n",
      "              169.Magnolia_Warbler       0.65      0.92      0.76        12\n",
      "              170.Mourning_Warbler       0.82      0.75      0.78        12\n",
      "                171.Myrtle_Warbler       0.67      0.50      0.57        12\n",
      "             172.Nashville_Warbler       0.53      0.67      0.59        12\n",
      "        173.Orange_crowned_Warbler       0.33      0.50      0.40        12\n",
      "                  174.Palm_Warbler       0.78      0.58      0.67        12\n",
      "                  175.Pine_Warbler       0.38      0.42      0.40        12\n",
      "               176.Prairie_Warbler       0.77      0.83      0.80        12\n",
      "          177.Prothonotary_Warbler       0.80      1.00      0.89        12\n",
      "              178.Swainson_Warbler       0.64      0.64      0.64        11\n",
      "             179.Tennessee_Warbler       0.11      0.08      0.10        12\n",
      "                180.Wilson_Warbler       0.54      0.58      0.56        12\n",
      "           181.Worm_eating_Warbler       0.82      0.75      0.78        12\n",
      "                182.Yellow_Warbler       0.64      0.58      0.61        12\n",
      "          183.Northern_Waterthrush       0.61      0.92      0.73        12\n",
      "         184.Louisiana_Waterthrush       0.82      0.75      0.78        12\n",
      "              185.Bohemian_Waxwing       1.00      0.92      0.96        12\n",
      "                 186.Cedar_Waxwing       1.00      0.92      0.96        12\n",
      "187.American_Three_toed_Woodpecker       1.00      0.80      0.89        10\n",
      "           188.Pileated_Woodpecker       0.83      0.83      0.83        12\n",
      "        189.Red_bellied_Woodpecker       0.80      1.00      0.89        12\n",
      "       190.Red_cockaded_Woodpecker       0.91      0.91      0.91        11\n",
      "         191.Red_headed_Woodpecker       0.90      0.75      0.82        12\n",
      "              192.Downy_Woodpecker       0.86      1.00      0.92        12\n",
      "                   193.Bewick_Wren       0.80      0.67      0.73        12\n",
      "                   194.Cactus_Wren       0.85      0.92      0.88        12\n",
      "                 195.Carolina_Wren       0.71      0.83      0.77        12\n",
      "                    196.House_Wren       0.69      0.75      0.72        12\n",
      "                    197.Marsh_Wren       0.50      0.75      0.60        12\n",
      "                     198.Rock_Wren       0.64      0.58      0.61        12\n",
      "                   199.Winter_Wren       0.77      0.83      0.80        12\n",
      "           200.Common_Yellowthroat       1.00      0.92      0.96        12\n",
      "\n",
      "                          accuracy                           0.68      2358\n",
      "                         macro avg       0.70      0.68      0.68      2358\n",
      "                      weighted avg       0.70      0.68      0.68      2358\n",
      "\n"
     ]
    }
   ],
   "source": [
    "print(classification_report(test_labels.detach().cpu().numpy(), pred_labels, target_names=list(class_dict.keys())))"
   ]
  },
  {
   "cell_type": "code",
   "execution_count": 41,
   "id": "1e8845dc-c978-4b7b-99e4-9729b79d87c1",
   "metadata": {},
   "outputs": [],
   "source": [
    "df = pd.DataFrame(report).transpose()"
   ]
  },
  {
   "cell_type": "code",
   "execution_count": 42,
   "id": "282eb152-50d2-46bd-ad7c-5904c9b2f0a4",
   "metadata": {},
   "outputs": [
    {
     "data": {
      "text/html": [
       "<div>\n",
       "<style scoped>\n",
       "    .dataframe tbody tr th:only-of-type {\n",
       "        vertical-align: middle;\n",
       "    }\n",
       "\n",
       "    .dataframe tbody tr th {\n",
       "        vertical-align: top;\n",
       "    }\n",
       "\n",
       "    .dataframe thead th {\n",
       "        text-align: right;\n",
       "    }\n",
       "</style>\n",
       "<table border=\"1\" class=\"dataframe\">\n",
       "  <thead>\n",
       "    <tr style=\"text-align: right;\">\n",
       "      <th></th>\n",
       "      <th>precision</th>\n",
       "      <th>recall</th>\n",
       "      <th>f1-score</th>\n",
       "      <th>support</th>\n",
       "    </tr>\n",
       "  </thead>\n",
       "  <tbody>\n",
       "    <tr>\n",
       "      <th>001.Black_footed_Albatross</th>\n",
       "      <td>0.588235</td>\n",
       "      <td>0.833333</td>\n",
       "      <td>0.689655</td>\n",
       "      <td>12.0</td>\n",
       "    </tr>\n",
       "    <tr>\n",
       "      <th>002.Laysan_Albatross</th>\n",
       "      <td>0.529412</td>\n",
       "      <td>0.750000</td>\n",
       "      <td>0.620690</td>\n",
       "      <td>12.0</td>\n",
       "    </tr>\n",
       "    <tr>\n",
       "      <th>003.Sooty_Albatross</th>\n",
       "      <td>0.900000</td>\n",
       "      <td>0.750000</td>\n",
       "      <td>0.818182</td>\n",
       "      <td>12.0</td>\n",
       "    </tr>\n",
       "    <tr>\n",
       "      <th>004.Groove_billed_Ani</th>\n",
       "      <td>0.588235</td>\n",
       "      <td>0.833333</td>\n",
       "      <td>0.689655</td>\n",
       "      <td>12.0</td>\n",
       "    </tr>\n",
       "    <tr>\n",
       "      <th>005.Crested_Auklet</th>\n",
       "      <td>1.000000</td>\n",
       "      <td>0.666667</td>\n",
       "      <td>0.800000</td>\n",
       "      <td>9.0</td>\n",
       "    </tr>\n",
       "  </tbody>\n",
       "</table>\n",
       "</div>"
      ],
      "text/plain": [
       "                            precision    recall  f1-score  support\n",
       "001.Black_footed_Albatross   0.588235  0.833333  0.689655     12.0\n",
       "002.Laysan_Albatross         0.529412  0.750000  0.620690     12.0\n",
       "003.Sooty_Albatross          0.900000  0.750000  0.818182     12.0\n",
       "004.Groove_billed_Ani        0.588235  0.833333  0.689655     12.0\n",
       "005.Crested_Auklet           1.000000  0.666667  0.800000      9.0"
      ]
     },
     "execution_count": 42,
     "metadata": {},
     "output_type": "execute_result"
    }
   ],
   "source": [
    "df.head()"
   ]
  },
  {
   "cell_type": "code",
   "execution_count": 43,
   "id": "32e24514-4ae2-4dc2-b671-781c8c3d6180",
   "metadata": {},
   "outputs": [],
   "source": [
    "df.reset_index(inplace=True)"
   ]
  },
  {
   "cell_type": "code",
   "execution_count": 44,
   "id": "71ff6ed3-bcd9-4d2e-9371-b4c409d8a76c",
   "metadata": {},
   "outputs": [],
   "source": [
    "df.rename(columns={\"index\":'class_name'},inplace=True)"
   ]
  },
  {
   "cell_type": "code",
   "execution_count": 45,
   "id": "945dce04-630d-40b1-9e3d-8738875d3bd7",
   "metadata": {},
   "outputs": [],
   "source": [
    "classification_report_table = wandb.Table(dataframe=df)"
   ]
  },
  {
   "cell_type": "code",
   "execution_count": 46,
   "id": "3a1baa45-ad12-41e6-8e44-dd5ab0ba2eb7",
   "metadata": {},
   "outputs": [],
   "source": [
    "run.log({\"all_classes_classification_report\": classification_report_table})"
   ]
  },
  {
   "cell_type": "markdown",
   "id": "bbfc4b6e-d88c-45ac-9caf-6c5f26a0d52a",
   "metadata": {},
   "source": [
    "## Removing classes from training dataset and seeing performance"
   ]
  },
  {
   "cell_type": "code",
   "execution_count": 47,
   "id": "3597a740-157c-4c24-8d23-65c675de8f7d",
   "metadata": {},
   "outputs": [],
   "source": [
    "train_image_paths = []\n",
    "train_labels = []\n",
    "for folder_path,i in class_dict.items():\n",
    "    if i >= 180:\n",
    "        break\n",
    "    folder_images = glob.glob('CUB_200_2011/images/'+'/'+str(folder_path)+'/*')\n",
    "    train_image_paths.extend(folder_images)\n",
    "    train_labels.extend([i]*len(folder_images))"
   ]
  },
  {
   "cell_type": "code",
   "execution_count": 48,
   "id": "c353dd9e-9064-4774-8244-5770ac9c53cf",
   "metadata": {},
   "outputs": [],
   "source": [
    "test_image_paths = []\n",
    "test_labels = []\n",
    "for folder_path,i in class_dict.items():\n",
    "    if i >= 180:\n",
    "        folder_images = glob.glob('CUB_200_2011/images/'+'/'+str(folder_path)+'/*')\n",
    "        test_image_paths.extend(folder_images)\n",
    "        test_labels.extend([i]*len(folder_images))"
   ]
  },
  {
   "cell_type": "code",
   "execution_count": 49,
   "id": "7a58b988-aa16-4d57-99ef-c889b3bb72d6",
   "metadata": {},
   "outputs": [],
   "source": [
    "from sklearn.model_selection import train_test_split\n",
    "X_train, X_test, y_train, y_test = train_test_split(train_image_paths,train_labels, test_size=config['train_test_split'],\n",
    "                                                    stratify=train_labels, random_state=config['random_seed'])"
   ]
  },
  {
   "cell_type": "code",
   "execution_count": 50,
   "id": "c0902fb2-bd40-40c0-be84-81c2776bdfc6",
   "metadata": {},
   "outputs": [],
   "source": [
    "train_dataset  = CUBDataset(X_train,y_train,train_transform)\n",
    "test_dataset  = CUBDataset(X_test,y_test,test_transform)\n",
    "train_loader = torch.utils.data.DataLoader(train_dataset, batch_size=config['batch_size'], shuffle=True)\n",
    "test_loader = torch.utils.data.DataLoader(test_dataset, batch_size=config['batch_size'], shuffle=False)"
   ]
  },
  {
   "cell_type": "code",
   "execution_count": 51,
   "id": "74998763-e319-4389-a9cb-a14ef5a5ef47",
   "metadata": {},
   "outputs": [
    {
     "name": "stderr",
     "output_type": "stream",
     "text": [
      "/opt/conda/lib/python3.10/site-packages/torchvision/models/_utils.py:208: UserWarning: The parameter 'pretrained' is deprecated since 0.13 and may be removed in the future, please use 'weights' instead.\n",
      "  warnings.warn(\n",
      "/opt/conda/lib/python3.10/site-packages/torchvision/models/_utils.py:223: UserWarning: Arguments other than a weight enum or `None` for 'weights' are deprecated since 0.13 and may be removed in the future. The current behavior is equivalent to passing `weights=ResNet18_Weights.IMAGENET1K_V1`. You can also use `weights=ResNet18_Weights.DEFAULT` to get the most up-to-date weights.\n",
      "  warnings.warn(msg)\n"
     ]
    }
   ],
   "source": [
    "model = ResNetFeatrueExtractor18()\n",
    "model = model.to(device)\n",
    "optimizer = optim.SGD(model.parameters(), lr=config['learning_rate'])\n",
    "num_epochs = config['num_epochs']\n",
    "\n",
    "### pytorch-metric-learning stuff ###\n",
    "distance = distances.CosineSimilarity()\n",
    "reducer = reducers.MeanReducer()\n",
    "loss_func = losses.NTXentLoss(temperature=config['temperature'], distance=distance, reducer=reducer)\n",
    "mining_func = miners.BatchEasyHardMiner(pos_strategy=\"easy\",neg_strategy=\"semihard\")\n",
    "knn_func = CustomKNN(CosineSimilarity())\n",
    "accuracy_calculator = AccuracyCalculator(include=(\"precision_at_1\",),k=1,knn_func=knn_func,avg_of_avgs=True,return_per_class=False)"
   ]
  },
  {
   "cell_type": "code",
   "execution_count": 52,
   "id": "51ad322f-f35f-44bf-b296-a546c9a9ae34",
   "metadata": {},
   "outputs": [
    {
     "name": "stdout",
     "output_type": "stream",
     "text": [
      "Epoch 1 Iteration 0: Loss = 0.6358517408370972\n"
     ]
    },
    {
     "name": "stderr",
     "output_type": "stream",
     "text": [
      "100%|█████████████████████████████████████████████████████████████████████████████████████████████████████| 266/266 [00:16<00:00, 16.54it/s]\n",
      "100%|███████████████████████████████████████████████████████████████████████████████████████████████████████| 67/67 [00:08<00:00,  7.55it/s]\n"
     ]
    },
    {
     "name": "stdout",
     "output_type": "stream",
     "text": [
      "Computing accuracy\n",
      "Test set accuracy (Precision@1) = 0.4199228395061728\n",
      "Epoch 2 Iteration 0: Loss = 0.6389706134796143\n"
     ]
    },
    {
     "name": "stderr",
     "output_type": "stream",
     "text": [
      "100%|█████████████████████████████████████████████████████████████████████████████████████████████████████| 266/266 [00:15<00:00, 17.46it/s]\n",
      "100%|███████████████████████████████████████████████████████████████████████████████████████████████████████| 67/67 [00:03<00:00, 19.06it/s]\n"
     ]
    },
    {
     "name": "stdout",
     "output_type": "stream",
     "text": [
      "Computing accuracy\n",
      "Test set accuracy (Precision@1) = 0.4416526374859708\n",
      "Epoch 3 Iteration 0: Loss = 0.6190959811210632\n"
     ]
    },
    {
     "name": "stderr",
     "output_type": "stream",
     "text": [
      "100%|█████████████████████████████████████████████████████████████████████████████████████████████████████| 266/266 [00:15<00:00, 17.54it/s]\n",
      "100%|███████████████████████████████████████████████████████████████████████████████████████████████████████| 67/67 [00:03<00:00, 18.90it/s]\n"
     ]
    },
    {
     "name": "stdout",
     "output_type": "stream",
     "text": [
      "Computing accuracy\n",
      "Test set accuracy (Precision@1) = 0.44045875420875424\n",
      "Epoch 4 Iteration 0: Loss = 0.6348270773887634\n"
     ]
    },
    {
     "name": "stderr",
     "output_type": "stream",
     "text": [
      "100%|█████████████████████████████████████████████████████████████████████████████████████████████████████| 266/266 [00:15<00:00, 17.60it/s]\n",
      "100%|███████████████████████████████████████████████████████████████████████████████████████████████████████| 67/67 [00:03<00:00, 18.88it/s]\n"
     ]
    },
    {
     "name": "stdout",
     "output_type": "stream",
     "text": [
      "Computing accuracy\n",
      "Test set accuracy (Precision@1) = 0.44939814814814816\n",
      "Epoch 5 Iteration 0: Loss = 0.6201980710029602\n"
     ]
    },
    {
     "name": "stderr",
     "output_type": "stream",
     "text": [
      "100%|█████████████████████████████████████████████████████████████████████████████████████████████████████| 266/266 [00:15<00:00, 17.54it/s]\n",
      "100%|███████████████████████████████████████████████████████████████████████████████████████████████████████| 67/67 [00:03<00:00, 19.05it/s]\n"
     ]
    },
    {
     "name": "stdout",
     "output_type": "stream",
     "text": [
      "Computing accuracy\n",
      "Test set accuracy (Precision@1) = 0.45665404040404045\n",
      "Epoch 6 Iteration 0: Loss = 0.6244633197784424\n"
     ]
    },
    {
     "name": "stderr",
     "output_type": "stream",
     "text": [
      "100%|█████████████████████████████████████████████████████████████████████████████████████████████████████| 266/266 [00:15<00:00, 17.56it/s]\n",
      "100%|███████████████████████████████████████████████████████████████████████████████████████████████████████| 67/67 [00:03<00:00, 18.94it/s]\n"
     ]
    },
    {
     "name": "stdout",
     "output_type": "stream",
     "text": [
      "Computing accuracy\n",
      "Test set accuracy (Precision@1) = 0.4801529180695847\n",
      "Epoch 7 Iteration 0: Loss = 0.6361107230186462\n"
     ]
    },
    {
     "name": "stderr",
     "output_type": "stream",
     "text": [
      "100%|█████████████████████████████████████████████████████████████████████████████████████████████████████| 266/266 [00:15<00:00, 17.57it/s]\n",
      "100%|███████████████████████████████████████████████████████████████████████████████████████████████████████| 67/67 [00:03<00:00, 19.07it/s]\n"
     ]
    },
    {
     "name": "stdout",
     "output_type": "stream",
     "text": [
      "Computing accuracy\n",
      "Test set accuracy (Precision@1) = 0.47915824915824917\n",
      "Epoch 8 Iteration 0: Loss = 0.6010209321975708\n"
     ]
    },
    {
     "name": "stderr",
     "output_type": "stream",
     "text": [
      "100%|█████████████████████████████████████████████████████████████████████████████████████████████████████| 266/266 [00:15<00:00, 17.58it/s]\n",
      "100%|███████████████████████████████████████████████████████████████████████████████████████████████████████| 67/67 [00:03<00:00, 19.09it/s]\n"
     ]
    },
    {
     "name": "stdout",
     "output_type": "stream",
     "text": [
      "Computing accuracy\n",
      "Test set accuracy (Precision@1) = 0.479304152637486\n",
      "Epoch 9 Iteration 0: Loss = 0.5892975330352783\n"
     ]
    },
    {
     "name": "stderr",
     "output_type": "stream",
     "text": [
      "100%|█████████████████████████████████████████████████████████████████████████████████████████████████████| 266/266 [00:15<00:00, 17.53it/s]\n",
      " 81%|███████████████████████████████████████████████████████████████████████████████████                    | 54/67 [00:02<00:00, 18.92it/s]wandb: Network error (ReadTimeout), entering retry loop.\n",
      "100%|███████████████████████████████████████████████████████████████████████████████████████████████████████| 67/67 [00:03<00:00, 18.81it/s]\n"
     ]
    },
    {
     "name": "stdout",
     "output_type": "stream",
     "text": [
      "Computing accuracy\n",
      "Test set accuracy (Precision@1) = 0.49959175084175084\n",
      "Epoch 10 Iteration 0: Loss = 0.6043553352355957\n"
     ]
    },
    {
     "name": "stderr",
     "output_type": "stream",
     "text": [
      "100%|█████████████████████████████████████████████████████████████████████████████████████████████████████| 266/266 [00:15<00:00, 17.58it/s]\n",
      "100%|███████████████████████████████████████████████████████████████████████████████████████████████████████| 67/67 [00:03<00:00, 19.13it/s]\n"
     ]
    },
    {
     "name": "stdout",
     "output_type": "stream",
     "text": [
      "Computing accuracy\n",
      "Test set accuracy (Precision@1) = 0.5056102693602694\n",
      "Epoch 11 Iteration 0: Loss = 0.5952278971672058\n"
     ]
    },
    {
     "name": "stderr",
     "output_type": "stream",
     "text": [
      "100%|█████████████████████████████████████████████████████████████████████████████████████████████████████| 266/266 [00:15<00:00, 17.56it/s]\n",
      "100%|███████████████████████████████████████████████████████████████████████████████████████████████████████| 67/67 [00:03<00:00, 18.97it/s]\n"
     ]
    },
    {
     "name": "stdout",
     "output_type": "stream",
     "text": [
      "Computing accuracy\n",
      "Test set accuracy (Precision@1) = 0.4936630190796858\n",
      "Epoch 12 Iteration 0: Loss = 0.5943242907524109\n"
     ]
    },
    {
     "name": "stderr",
     "output_type": "stream",
     "text": [
      "100%|█████████████████████████████████████████████████████████████████████████████████████████████████████| 266/266 [00:15<00:00, 17.53it/s]\n",
      "100%|███████████████████████████████████████████████████████████████████████████████████████████████████████| 67/67 [00:03<00:00, 19.08it/s]\n"
     ]
    },
    {
     "name": "stdout",
     "output_type": "stream",
     "text": [
      "Computing accuracy\n",
      "Test set accuracy (Precision@1) = 0.5126234567901234\n",
      "Epoch 13 Iteration 0: Loss = 0.5819289684295654\n"
     ]
    },
    {
     "name": "stderr",
     "output_type": "stream",
     "text": [
      "100%|█████████████████████████████████████████████████████████████████████████████████████████████████████| 266/266 [00:15<00:00, 17.51it/s]\n",
      "100%|███████████████████████████████████████████████████████████████████████████████████████████████████████| 67/67 [00:03<00:00, 18.98it/s]\n"
     ]
    },
    {
     "name": "stdout",
     "output_type": "stream",
     "text": [
      "Computing accuracy\n",
      "Test set accuracy (Precision@1) = 0.52652076318743\n",
      "Epoch 14 Iteration 0: Loss = 0.5727294683456421\n"
     ]
    },
    {
     "name": "stderr",
     "output_type": "stream",
     "text": [
      "100%|█████████████████████████████████████████████████████████████████████████████████████████████████████| 266/266 [00:15<00:00, 17.52it/s]\n",
      "100%|███████████████████████████████████████████████████████████████████████████████████████████████████████| 67/67 [00:03<00:00, 19.00it/s]\n"
     ]
    },
    {
     "name": "stdout",
     "output_type": "stream",
     "text": [
      "Computing accuracy\n",
      "Test set accuracy (Precision@1) = 0.521888327721661\n",
      "Epoch 15 Iteration 0: Loss = 0.5762143135070801\n"
     ]
    },
    {
     "name": "stderr",
     "output_type": "stream",
     "text": [
      "100%|█████████████████████████████████████████████████████████████████████████████████████████████████████| 266/266 [00:15<00:00, 17.57it/s]\n",
      "100%|███████████████████████████████████████████████████████████████████████████████████████████████████████| 67/67 [00:03<00:00, 19.06it/s]\n"
     ]
    },
    {
     "name": "stdout",
     "output_type": "stream",
     "text": [
      "Computing accuracy\n",
      "Test set accuracy (Precision@1) = 0.5247334455667789\n",
      "Epoch 16 Iteration 0: Loss = 0.6019172668457031\n"
     ]
    },
    {
     "name": "stderr",
     "output_type": "stream",
     "text": [
      "100%|█████████████████████████████████████████████████████████████████████████████████████████████████████| 266/266 [00:15<00:00, 17.58it/s]\n",
      "100%|███████████████████████████████████████████████████████████████████████████████████████████████████████| 67/67 [00:03<00:00, 18.94it/s]\n"
     ]
    },
    {
     "name": "stdout",
     "output_type": "stream",
     "text": [
      "Computing accuracy\n",
      "Test set accuracy (Precision@1) = 0.5269725028058362\n",
      "Epoch 17 Iteration 0: Loss = 0.5888866186141968\n"
     ]
    },
    {
     "name": "stderr",
     "output_type": "stream",
     "text": [
      "100%|█████████████████████████████████████████████████████████████████████████████████████████████████████| 266/266 [00:15<00:00, 17.62it/s]\n",
      "100%|███████████████████████████████████████████████████████████████████████████████████████████████████████| 67/67 [00:03<00:00, 19.05it/s]\n"
     ]
    },
    {
     "name": "stdout",
     "output_type": "stream",
     "text": [
      "Computing accuracy\n",
      "Test set accuracy (Precision@1) = 0.5210395622895623\n",
      "Epoch 18 Iteration 0: Loss = 0.5138720870018005\n"
     ]
    },
    {
     "name": "stderr",
     "output_type": "stream",
     "text": [
      "100%|█████████████████████████████████████████████████████████████████████████████████████████████████████| 266/266 [00:15<00:00, 17.51it/s]\n",
      "100%|███████████████████████████████████████████████████████████████████████████████████████████████████████| 67/67 [00:03<00:00, 19.14it/s]\n"
     ]
    },
    {
     "name": "stdout",
     "output_type": "stream",
     "text": [
      "Computing accuracy\n",
      "Test set accuracy (Precision@1) = 0.5311952861952862\n",
      "Epoch 19 Iteration 0: Loss = 0.5544868111610413\n"
     ]
    },
    {
     "name": "stderr",
     "output_type": "stream",
     "text": [
      "100%|█████████████████████████████████████████████████████████████████████████████████████████████████████| 266/266 [00:15<00:00, 17.56it/s]\n",
      "100%|███████████████████████████████████████████████████████████████████████████████████████████████████████| 67/67 [00:03<00:00, 19.05it/s]\n"
     ]
    },
    {
     "name": "stdout",
     "output_type": "stream",
     "text": [
      "Computing accuracy\n",
      "Test set accuracy (Precision@1) = 0.5352441077441078\n",
      "Epoch 20 Iteration 0: Loss = 0.5902858376502991\n"
     ]
    },
    {
     "name": "stderr",
     "output_type": "stream",
     "text": [
      "100%|█████████████████████████████████████████████████████████████████████████████████████████████████████| 266/266 [00:15<00:00, 17.61it/s]\n",
      "100%|███████████████████████████████████████████████████████████████████████████████████████████████████████| 67/67 [00:03<00:00, 19.08it/s]\n"
     ]
    },
    {
     "name": "stdout",
     "output_type": "stream",
     "text": [
      "Computing accuracy\n",
      "Test set accuracy (Precision@1) = 0.5416933221099888\n",
      "Epoch 21 Iteration 0: Loss = 0.5108216404914856\n"
     ]
    },
    {
     "name": "stderr",
     "output_type": "stream",
     "text": [
      "100%|█████████████████████████████████████████████████████████████████████████████████████████████████████| 266/266 [00:15<00:00, 17.51it/s]\n",
      "100%|███████████████████████████████████████████████████████████████████████████████████████████████████████| 67/67 [00:03<00:00, 19.11it/s]\n"
     ]
    },
    {
     "name": "stdout",
     "output_type": "stream",
     "text": [
      "Computing accuracy\n",
      "Test set accuracy (Precision@1) = 0.5421955667789001\n",
      "Epoch 22 Iteration 0: Loss = 0.5312572717666626\n"
     ]
    },
    {
     "name": "stderr",
     "output_type": "stream",
     "text": [
      "100%|█████████████████████████████████████████████████████████████████████████████████████████████████████| 266/266 [00:15<00:00, 17.57it/s]\n",
      "100%|███████████████████████████████████████████████████████████████████████████████████████████████████████| 67/67 [00:03<00:00, 19.11it/s]\n"
     ]
    },
    {
     "name": "stdout",
     "output_type": "stream",
     "text": [
      "Computing accuracy\n",
      "Test set accuracy (Precision@1) = 0.5500547138047138\n",
      "Epoch 23 Iteration 0: Loss = 0.5291132926940918\n"
     ]
    },
    {
     "name": "stderr",
     "output_type": "stream",
     "text": [
      "100%|█████████████████████████████████████████████████████████████████████████████████████████████████████| 266/266 [00:15<00:00, 17.47it/s]\n",
      "100%|███████████████████████████████████████████████████████████████████████████████████████████████████████| 67/67 [00:03<00:00, 18.81it/s]\n"
     ]
    },
    {
     "name": "stdout",
     "output_type": "stream",
     "text": [
      "Computing accuracy\n",
      "Test set accuracy (Precision@1) = 0.5430597643097643\n",
      "Epoch 24 Iteration 0: Loss = 0.5674164295196533\n"
     ]
    },
    {
     "name": "stderr",
     "output_type": "stream",
     "text": [
      "100%|█████████████████████████████████████████████████████████████████████████████████████████████████████| 266/266 [00:15<00:00, 17.57it/s]\n",
      "100%|███████████████████████████████████████████████████████████████████████████████████████████████████████| 67/67 [00:03<00:00, 19.09it/s]\n"
     ]
    },
    {
     "name": "stdout",
     "output_type": "stream",
     "text": [
      "Computing accuracy\n",
      "Test set accuracy (Precision@1) = 0.5542760942760943\n",
      "Epoch 25 Iteration 0: Loss = 0.47480639815330505\n"
     ]
    },
    {
     "name": "stderr",
     "output_type": "stream",
     "text": [
      "100%|█████████████████████████████████████████████████████████████████████████████████████████████████████| 266/266 [00:15<00:00, 17.54it/s]\n",
      "100%|███████████████████████████████████████████████████████████████████████████████████████████████████████| 67/67 [00:03<00:00, 19.03it/s]\n"
     ]
    },
    {
     "name": "stdout",
     "output_type": "stream",
     "text": [
      "Computing accuracy\n",
      "Test set accuracy (Precision@1) = 0.5587892817059483\n",
      "Epoch 26 Iteration 0: Loss = 0.4853666424751282\n"
     ]
    },
    {
     "name": "stderr",
     "output_type": "stream",
     "text": [
      "100%|█████████████████████████████████████████████████████████████████████████████████████████████████████| 266/266 [00:15<00:00, 17.45it/s]\n",
      "100%|███████████████████████████████████████████████████████████████████████████████████████████████████████| 67/67 [00:03<00:00, 19.06it/s]\n"
     ]
    },
    {
     "name": "stdout",
     "output_type": "stream",
     "text": [
      "Computing accuracy\n",
      "Test set accuracy (Precision@1) = 0.5736069023569024\n",
      "Epoch 27 Iteration 0: Loss = 0.538068950176239\n"
     ]
    },
    {
     "name": "stderr",
     "output_type": "stream",
     "text": [
      "100%|█████████████████████████████████████████████████████████████████████████████████████████████████████| 266/266 [00:15<00:00, 17.58it/s]\n",
      "100%|███████████████████████████████████████████████████████████████████████████████████████████████████████| 67/67 [00:03<00:00, 19.00it/s]\n"
     ]
    },
    {
     "name": "stdout",
     "output_type": "stream",
     "text": [
      "Computing accuracy\n",
      "Test set accuracy (Precision@1) = 0.5679938271604938\n",
      "Epoch 28 Iteration 0: Loss = 0.46710556745529175\n"
     ]
    },
    {
     "name": "stderr",
     "output_type": "stream",
     "text": [
      "100%|█████████████████████████████████████████████████████████████████████████████████████████████████████| 266/266 [00:15<00:00, 17.60it/s]\n",
      "100%|███████████████████████████████████████████████████████████████████████████████████████████████████████| 67/67 [00:03<00:00, 18.76it/s]\n"
     ]
    },
    {
     "name": "stdout",
     "output_type": "stream",
     "text": [
      "Computing accuracy\n",
      "Test set accuracy (Precision@1) = 0.5701010101010101\n",
      "Epoch 29 Iteration 0: Loss = 0.5440464615821838\n"
     ]
    },
    {
     "name": "stderr",
     "output_type": "stream",
     "text": [
      "100%|█████████████████████████████████████████████████████████████████████████████████████████████████████| 266/266 [00:15<00:00, 17.63it/s]\n",
      "100%|███████████████████████████████████████████████████████████████████████████████████████████████████████| 67/67 [00:03<00:00, 19.01it/s]\n"
     ]
    },
    {
     "name": "stdout",
     "output_type": "stream",
     "text": [
      "Computing accuracy\n",
      "Test set accuracy (Precision@1) = 0.5763271604938273\n",
      "Epoch 30 Iteration 0: Loss = 0.4854383170604706\n"
     ]
    },
    {
     "name": "stderr",
     "output_type": "stream",
     "text": [
      "100%|█████████████████████████████████████████████████████████████████████████████████████████████████████| 266/266 [00:15<00:00, 17.40it/s]\n",
      "100%|███████████████████████████████████████████████████████████████████████████████████████████████████████| 67/67 [00:03<00:00, 18.97it/s]\n"
     ]
    },
    {
     "name": "stdout",
     "output_type": "stream",
     "text": [
      "Computing accuracy\n",
      "Test set accuracy (Precision@1) = 0.588013468013468\n",
      "Epoch 31 Iteration 0: Loss = 0.48404499888420105\n"
     ]
    },
    {
     "name": "stderr",
     "output_type": "stream",
     "text": [
      "100%|█████████████████████████████████████████████████████████████████████████████████████████████████████| 266/266 [00:15<00:00, 16.83it/s]\n",
      "100%|███████████████████████████████████████████████████████████████████████████████████████████████████████| 67/67 [00:03<00:00, 18.56it/s]\n"
     ]
    },
    {
     "name": "stdout",
     "output_type": "stream",
     "text": [
      "Computing accuracy\n",
      "Test set accuracy (Precision@1) = 0.5804278900112234\n",
      "Epoch 32 Iteration 0: Loss = 0.5251519083976746\n"
     ]
    },
    {
     "name": "stderr",
     "output_type": "stream",
     "text": [
      "100%|█████████████████████████████████████████████████████████████████████████████████████████████████████| 266/266 [00:15<00:00, 16.89it/s]\n",
      "100%|███████████████████████████████████████████████████████████████████████████████████████████████████████| 67/67 [00:03<00:00, 18.22it/s]\n"
     ]
    },
    {
     "name": "stdout",
     "output_type": "stream",
     "text": [
      "Computing accuracy\n",
      "Test set accuracy (Precision@1) = 0.5799579124579125\n",
      "Epoch 33 Iteration 0: Loss = 0.4486718773841858\n"
     ]
    },
    {
     "name": "stderr",
     "output_type": "stream",
     "text": [
      "100%|█████████████████████████████████████████████████████████████████████████████████████████████████████| 266/266 [00:15<00:00, 17.43it/s]\n",
      "100%|███████████████████████████████████████████████████████████████████████████████████████████████████████| 67/67 [00:03<00:00, 18.53it/s]\n"
     ]
    },
    {
     "name": "stdout",
     "output_type": "stream",
     "text": [
      "Computing accuracy\n",
      "Test set accuracy (Precision@1) = 0.5952104377104377\n",
      "Epoch 34 Iteration 0: Loss = 0.48284846544265747\n"
     ]
    },
    {
     "name": "stderr",
     "output_type": "stream",
     "text": [
      "100%|█████████████████████████████████████████████████████████████████████████████████████████████████████| 266/266 [00:15<00:00, 17.25it/s]\n",
      "100%|███████████████████████████████████████████████████████████████████████████████████████████████████████| 67/67 [00:03<00:00, 18.52it/s]\n"
     ]
    },
    {
     "name": "stdout",
     "output_type": "stream",
     "text": [
      "Computing accuracy\n",
      "Test set accuracy (Precision@1) = 0.5694486531986532\n",
      "Epoch 35 Iteration 0: Loss = 0.4919680953025818\n"
     ]
    },
    {
     "name": "stderr",
     "output_type": "stream",
     "text": [
      "100%|█████████████████████████████████████████████████████████████████████████████████████████████████████| 266/266 [00:15<00:00, 17.33it/s]\n",
      "100%|███████████████████████████████████████████████████████████████████████████████████████████████████████| 67/67 [00:03<00:00, 18.78it/s]\n"
     ]
    },
    {
     "name": "stdout",
     "output_type": "stream",
     "text": [
      "Computing accuracy\n",
      "Test set accuracy (Precision@1) = 0.5907828282828284\n",
      "Epoch 36 Iteration 0: Loss = 0.5234643220901489\n"
     ]
    },
    {
     "name": "stderr",
     "output_type": "stream",
     "text": [
      "100%|█████████████████████████████████████████████████████████████████████████████████████████████████████| 266/266 [00:15<00:00, 17.36it/s]\n",
      "100%|███████████████████████████████████████████████████████████████████████████████████████████████████████| 67/67 [00:03<00:00, 19.05it/s]\n"
     ]
    },
    {
     "name": "stdout",
     "output_type": "stream",
     "text": [
      "Computing accuracy\n",
      "Test set accuracy (Precision@1) = 0.597152076318743\n",
      "Epoch 37 Iteration 0: Loss = 0.5035147070884705\n"
     ]
    },
    {
     "name": "stderr",
     "output_type": "stream",
     "text": [
      "100%|█████████████████████████████████████████████████████████████████████████████████████████████████████| 266/266 [00:15<00:00, 17.29it/s]\n",
      "100%|███████████████████████████████████████████████████████████████████████████████████████████████████████| 67/67 [00:03<00:00, 18.61it/s]\n"
     ]
    },
    {
     "name": "stdout",
     "output_type": "stream",
     "text": [
      "Computing accuracy\n",
      "Test set accuracy (Precision@1) = 0.5873148148148148\n",
      "Epoch 38 Iteration 0: Loss = 0.4959724247455597\n"
     ]
    },
    {
     "name": "stderr",
     "output_type": "stream",
     "text": [
      "100%|█████████████████████████████████████████████████████████████████████████████████████████████████████| 266/266 [00:15<00:00, 16.81it/s]\n",
      "100%|███████████████████████████████████████████████████████████████████████████████████████████████████████| 67/67 [00:03<00:00, 17.64it/s]\n"
     ]
    },
    {
     "name": "stdout",
     "output_type": "stream",
     "text": [
      "Computing accuracy\n",
      "Test set accuracy (Precision@1) = 0.591341189674523\n",
      "Epoch 39 Iteration 0: Loss = 0.47558003664016724\n"
     ]
    },
    {
     "name": "stderr",
     "output_type": "stream",
     "text": [
      "100%|█████████████████████████████████████████████████████████████████████████████████████████████████████| 266/266 [00:16<00:00, 16.57it/s]\n",
      "100%|███████████████████████████████████████████████████████████████████████████████████████████████████████| 67/67 [00:03<00:00, 17.91it/s]\n"
     ]
    },
    {
     "name": "stdout",
     "output_type": "stream",
     "text": [
      "Computing accuracy\n",
      "Test set accuracy (Precision@1) = 0.5950533108866443\n",
      "Epoch 40 Iteration 0: Loss = 0.5185590386390686\n"
     ]
    },
    {
     "name": "stderr",
     "output_type": "stream",
     "text": [
      "100%|█████████████████████████████████████████████████████████████████████████████████████████████████████| 266/266 [00:15<00:00, 16.84it/s]\n",
      "100%|███████████████████████████████████████████████████████████████████████████████████████████████████████| 67/67 [00:03<00:00, 18.47it/s]\n"
     ]
    },
    {
     "name": "stdout",
     "output_type": "stream",
     "text": [
      "Computing accuracy\n",
      "Test set accuracy (Precision@1) = 0.596341189674523\n",
      "Epoch 41 Iteration 0: Loss = 0.46819302439689636\n"
     ]
    },
    {
     "name": "stderr",
     "output_type": "stream",
     "text": [
      "100%|█████████████████████████████████████████████████████████████████████████████████████████████████████| 266/266 [00:15<00:00, 16.72it/s]\n",
      "100%|███████████████████████████████████████████████████████████████████████████████████████████████████████| 67/67 [00:03<00:00, 17.72it/s]\n"
     ]
    },
    {
     "name": "stdout",
     "output_type": "stream",
     "text": [
      "Computing accuracy\n",
      "Test set accuracy (Precision@1) = 0.6071590909090909\n",
      "Epoch 42 Iteration 0: Loss = 0.45993342995643616\n"
     ]
    },
    {
     "name": "stderr",
     "output_type": "stream",
     "text": [
      "100%|█████████████████████████████████████████████████████████████████████████████████████████████████████| 266/266 [00:16<00:00, 16.40it/s]\n",
      "100%|███████████████████████████████████████████████████████████████████████████████████████████████████████| 67/67 [00:03<00:00, 17.43it/s]\n"
     ]
    },
    {
     "name": "stdout",
     "output_type": "stream",
     "text": [
      "Computing accuracy\n",
      "Test set accuracy (Precision@1) = 0.5985283389450058\n",
      "Epoch 43 Iteration 0: Loss = 0.46957123279571533\n"
     ]
    },
    {
     "name": "stderr",
     "output_type": "stream",
     "text": [
      "100%|█████████████████████████████████████████████████████████████████████████████████████████████████████| 266/266 [00:15<00:00, 17.39it/s]\n",
      "100%|███████████████████████████████████████████████████████████████████████████████████████████████████████| 67/67 [00:03<00:00, 18.74it/s]\n"
     ]
    },
    {
     "name": "stdout",
     "output_type": "stream",
     "text": [
      "Computing accuracy\n",
      "Test set accuracy (Precision@1) = 0.6103787878787879\n",
      "Epoch 44 Iteration 0: Loss = 0.47030311822891235\n"
     ]
    },
    {
     "name": "stderr",
     "output_type": "stream",
     "text": [
      "100%|█████████████████████████████████████████████████████████████████████████████████████████████████████| 266/266 [00:15<00:00, 17.64it/s]\n",
      "100%|███████████████████████████████████████████████████████████████████████████████████████████████████████| 67/67 [00:03<00:00, 19.07it/s]\n"
     ]
    },
    {
     "name": "stdout",
     "output_type": "stream",
     "text": [
      "Computing accuracy\n",
      "Test set accuracy (Precision@1) = 0.6030008417508417\n",
      "Epoch 45 Iteration 0: Loss = 0.4621063470840454\n"
     ]
    },
    {
     "name": "stderr",
     "output_type": "stream",
     "text": [
      "100%|█████████████████████████████████████████████████████████████████████████████████████████████████████| 266/266 [00:15<00:00, 17.64it/s]\n",
      "100%|███████████████████████████████████████████████████████████████████████████████████████████████████████| 67/67 [00:03<00:00, 18.82it/s]\n"
     ]
    },
    {
     "name": "stdout",
     "output_type": "stream",
     "text": [
      "Computing accuracy\n",
      "Test set accuracy (Precision@1) = 0.6028815937149271\n",
      "Epoch 46 Iteration 0: Loss = 0.4569513499736786\n"
     ]
    },
    {
     "name": "stderr",
     "output_type": "stream",
     "text": [
      "100%|█████████████████████████████████████████████████████████████████████████████████████████████████████| 266/266 [00:16<00:00, 16.35it/s]\n",
      "100%|███████████████████████████████████████████████████████████████████████████████████████████████████████| 67/67 [00:03<00:00, 17.41it/s]\n"
     ]
    },
    {
     "name": "stdout",
     "output_type": "stream",
     "text": [
      "Computing accuracy\n",
      "Test set accuracy (Precision@1) = 0.6162710437710438\n",
      "Epoch 47 Iteration 0: Loss = 0.46661651134490967\n"
     ]
    },
    {
     "name": "stderr",
     "output_type": "stream",
     "text": [
      "100%|█████████████████████████████████████████████████████████████████████████████████████████████████████| 266/266 [00:16<00:00, 16.59it/s]\n",
      "100%|███████████████████████████████████████████████████████████████████████████████████████████████████████| 67/67 [00:03<00:00, 17.57it/s]\n"
     ]
    },
    {
     "name": "stdout",
     "output_type": "stream",
     "text": [
      "Computing accuracy\n",
      "Test set accuracy (Precision@1) = 0.6092269921436589\n",
      "Epoch 48 Iteration 0: Loss = 0.46387991309165955\n"
     ]
    },
    {
     "name": "stderr",
     "output_type": "stream",
     "text": [
      "100%|█████████████████████████████████████████████████████████████████████████████████████████████████████| 266/266 [00:16<00:00, 15.96it/s]\n",
      "100%|███████████████████████████████████████████████████████████████████████████████████████████████████████| 67/67 [00:03<00:00, 17.06it/s]\n"
     ]
    },
    {
     "name": "stdout",
     "output_type": "stream",
     "text": [
      "Computing accuracy\n",
      "Test set accuracy (Precision@1) = 0.6032589786756454\n",
      "Epoch 49 Iteration 0: Loss = 0.451803594827652\n"
     ]
    },
    {
     "name": "stderr",
     "output_type": "stream",
     "text": [
      "100%|█████████████████████████████████████████████████████████████████████████████████████████████████████| 266/266 [00:16<00:00, 16.17it/s]\n",
      "100%|███████████████████████████████████████████████████████████████████████████████████████████████████████| 67/67 [00:03<00:00, 17.52it/s]\n"
     ]
    },
    {
     "name": "stdout",
     "output_type": "stream",
     "text": [
      "Computing accuracy\n",
      "Test set accuracy (Precision@1) = 0.5992312008978675\n",
      "Epoch 50 Iteration 0: Loss = 0.4704500436782837\n"
     ]
    },
    {
     "name": "stderr",
     "output_type": "stream",
     "text": [
      "100%|█████████████████████████████████████████████████████████████████████████████████████████████████████| 266/266 [00:16<00:00, 16.49it/s]\n",
      "100%|███████████████████████████████████████████████████████████████████████████████████████████████████████| 67/67 [00:03<00:00, 17.96it/s]\n"
     ]
    },
    {
     "name": "stdout",
     "output_type": "stream",
     "text": [
      "Computing accuracy\n",
      "Test set accuracy (Precision@1) = 0.6115277777777778\n",
      "Epoch 51 Iteration 0: Loss = 0.49372026324272156\n"
     ]
    },
    {
     "name": "stderr",
     "output_type": "stream",
     "text": [
      "100%|█████████████████████████████████████████████████████████████████████████████████████████████████████| 266/266 [00:16<00:00, 16.45it/s]\n",
      "100%|███████████████████████████████████████████████████████████████████████████████████████████████████████| 67/67 [00:03<00:00, 17.95it/s]\n"
     ]
    },
    {
     "name": "stdout",
     "output_type": "stream",
     "text": [
      "Computing accuracy\n",
      "Test set accuracy (Precision@1) = 0.6091203703703703\n",
      "Epoch 52 Iteration 0: Loss = 0.507916271686554\n"
     ]
    },
    {
     "name": "stderr",
     "output_type": "stream",
     "text": [
      "100%|█████████████████████████████████████████████████████████████████████████████████████████████████████| 266/266 [00:16<00:00, 16.52it/s]\n",
      "100%|███████████████████████████████████████████████████████████████████████████████████████████████████████| 67/67 [00:03<00:00, 17.67it/s]\n"
     ]
    },
    {
     "name": "stdout",
     "output_type": "stream",
     "text": [
      "Computing accuracy\n",
      "Test set accuracy (Precision@1) = 0.6171394500561168\n",
      "Epoch 53 Iteration 0: Loss = 0.4994690418243408\n"
     ]
    },
    {
     "name": "stderr",
     "output_type": "stream",
     "text": [
      "100%|█████████████████████████████████████████████████████████████████████████████████████████████████████| 266/266 [00:16<00:00, 16.55it/s]\n",
      "100%|███████████████████████████████████████████████████████████████████████████████████████████████████████| 67/67 [00:03<00:00, 17.74it/s]\n"
     ]
    },
    {
     "name": "stdout",
     "output_type": "stream",
     "text": [
      "Computing accuracy\n",
      "Test set accuracy (Precision@1) = 0.6223723344556678\n",
      "Epoch 54 Iteration 0: Loss = 0.45659613609313965\n"
     ]
    },
    {
     "name": "stderr",
     "output_type": "stream",
     "text": [
      "100%|█████████████████████████████████████████████████████████████████████████████████████████████████████| 266/266 [00:16<00:00, 16.39it/s]\n",
      "100%|███████████████████████████████████████████████████████████████████████████████████████████████████████| 67/67 [00:03<00:00, 17.78it/s]\n"
     ]
    },
    {
     "name": "stdout",
     "output_type": "stream",
     "text": [
      "Computing accuracy\n",
      "Test set accuracy (Precision@1) = 0.623601290684624\n",
      "Epoch 55 Iteration 0: Loss = 0.43135178089141846\n"
     ]
    },
    {
     "name": "stderr",
     "output_type": "stream",
     "text": [
      "100%|█████████████████████████████████████████████████████████████████████████████████████████████████████| 266/266 [00:16<00:00, 16.53it/s]\n",
      "100%|███████████████████████████████████████████████████████████████████████████████████████████████████████| 67/67 [00:03<00:00, 17.94it/s]\n"
     ]
    },
    {
     "name": "stdout",
     "output_type": "stream",
     "text": [
      "Computing accuracy\n",
      "Test set accuracy (Precision@1) = 0.6164464085297419\n",
      "Epoch 56 Iteration 0: Loss = 0.47153860330581665\n"
     ]
    },
    {
     "name": "stderr",
     "output_type": "stream",
     "text": [
      "100%|█████████████████████████████████████████████████████████████████████████████████████████████████████| 266/266 [00:15<00:00, 16.64it/s]\n",
      "100%|███████████████████████████████████████████████████████████████████████████████████████████████████████| 67/67 [00:03<00:00, 17.76it/s]\n"
     ]
    },
    {
     "name": "stdout",
     "output_type": "stream",
     "text": [
      "Computing accuracy\n",
      "Test set accuracy (Precision@1) = 0.6283670033670034\n",
      "Epoch 57 Iteration 0: Loss = 0.4225374758243561\n"
     ]
    },
    {
     "name": "stderr",
     "output_type": "stream",
     "text": [
      "100%|█████████████████████████████████████████████████████████████████████████████████████████████████████| 266/266 [00:16<00:00, 16.56it/s]\n",
      "100%|███████████████████████████████████████████████████████████████████████████████████████████████████████| 67/67 [00:03<00:00, 17.73it/s]\n"
     ]
    },
    {
     "name": "stdout",
     "output_type": "stream",
     "text": [
      "Computing accuracy\n",
      "Test set accuracy (Precision@1) = 0.6264576318742986\n",
      "Epoch 58 Iteration 0: Loss = 0.4777488112449646\n"
     ]
    },
    {
     "name": "stderr",
     "output_type": "stream",
     "text": [
      "100%|█████████████████████████████████████████████████████████████████████████████████████████████████████| 266/266 [00:15<00:00, 16.68it/s]\n",
      "100%|███████████████████████████████████████████████████████████████████████████████████████████████████████| 67/67 [00:03<00:00, 18.01it/s]\n"
     ]
    },
    {
     "name": "stdout",
     "output_type": "stream",
     "text": [
      "Computing accuracy\n",
      "Test set accuracy (Precision@1) = 0.6179194725028059\n",
      "Epoch 59 Iteration 0: Loss = 0.48071274161338806\n"
     ]
    },
    {
     "name": "stderr",
     "output_type": "stream",
     "text": [
      "100%|█████████████████████████████████████████████████████████████████████████████████████████████████████| 266/266 [00:16<00:00, 16.27it/s]\n",
      "100%|███████████████████████████████████████████████████████████████████████████████████████████████████████| 67/67 [00:03<00:00, 17.84it/s]\n"
     ]
    },
    {
     "name": "stdout",
     "output_type": "stream",
     "text": [
      "Computing accuracy\n",
      "Test set accuracy (Precision@1) = 0.623294051627385\n",
      "Epoch 60 Iteration 0: Loss = 0.4128803014755249\n"
     ]
    },
    {
     "name": "stderr",
     "output_type": "stream",
     "text": [
      "100%|█████████████████████████████████████████████████████████████████████████████████████████████████████| 266/266 [00:16<00:00, 16.47it/s]\n",
      "100%|███████████████████████████████████████████████████████████████████████████████████████████████████████| 67/67 [00:03<00:00, 17.99it/s]\n"
     ]
    },
    {
     "name": "stdout",
     "output_type": "stream",
     "text": [
      "Computing accuracy\n",
      "Test set accuracy (Precision@1) = 0.6305751964085297\n",
      "Epoch 61 Iteration 0: Loss = 0.46147000789642334\n"
     ]
    },
    {
     "name": "stderr",
     "output_type": "stream",
     "text": [
      "100%|█████████████████████████████████████████████████████████████████████████████████████████████████████| 266/266 [00:16<00:00, 16.55it/s]\n",
      "100%|███████████████████████████████████████████████████████████████████████████████████████████████████████| 67/67 [00:03<00:00, 17.91it/s]\n"
     ]
    },
    {
     "name": "stdout",
     "output_type": "stream",
     "text": [
      "Computing accuracy\n",
      "Test set accuracy (Precision@1) = 0.6130555555555556\n",
      "Epoch 62 Iteration 0: Loss = 0.49805912375450134\n"
     ]
    },
    {
     "name": "stderr",
     "output_type": "stream",
     "text": [
      "100%|█████████████████████████████████████████████████████████████████████████████████████████████████████| 266/266 [00:16<00:00, 16.23it/s]\n",
      "100%|███████████████████████████████████████████████████████████████████████████████████████████████████████| 67/67 [00:03<00:00, 17.58it/s]\n"
     ]
    },
    {
     "name": "stdout",
     "output_type": "stream",
     "text": [
      "Computing accuracy\n",
      "Test set accuracy (Precision@1) = 0.6236293490460157\n",
      "Epoch 63 Iteration 0: Loss = 0.424055814743042\n"
     ]
    },
    {
     "name": "stderr",
     "output_type": "stream",
     "text": [
      "100%|█████████████████████████████████████████████████████████████████████████████████████████████████████| 266/266 [00:16<00:00, 16.52it/s]\n",
      "100%|███████████████████████████████████████████████████████████████████████████████████████████████████████| 67/67 [00:03<00:00, 17.95it/s]\n"
     ]
    },
    {
     "name": "stdout",
     "output_type": "stream",
     "text": [
      "Computing accuracy\n",
      "Test set accuracy (Precision@1) = 0.6245159932659933\n",
      "Epoch 64 Iteration 0: Loss = 0.4487663209438324\n"
     ]
    },
    {
     "name": "stderr",
     "output_type": "stream",
     "text": [
      "100%|█████████████████████████████████████████████████████████████████████████████████████████████████████| 266/266 [00:16<00:00, 16.50it/s]\n",
      "100%|███████████████████████████████████████████████████████████████████████████████████████████████████████| 67/67 [00:03<00:00, 17.78it/s]\n"
     ]
    },
    {
     "name": "stdout",
     "output_type": "stream",
     "text": [
      "Computing accuracy\n",
      "Test set accuracy (Precision@1) = 0.6368602693602694\n",
      "Epoch 65 Iteration 0: Loss = 0.4034499228000641\n"
     ]
    },
    {
     "name": "stderr",
     "output_type": "stream",
     "text": [
      "100%|█████████████████████████████████████████████████████████████████████████████████████████████████████| 266/266 [00:16<00:00, 16.60it/s]\n",
      "100%|███████████████████████████████████████████████████████████████████████████████████████████████████████| 67/67 [00:03<00:00, 17.69it/s]\n"
     ]
    },
    {
     "name": "stdout",
     "output_type": "stream",
     "text": [
      "Computing accuracy\n",
      "Test set accuracy (Precision@1) = 0.6296689113355781\n",
      "Epoch 66 Iteration 0: Loss = 0.4989093840122223\n"
     ]
    },
    {
     "name": "stderr",
     "output_type": "stream",
     "text": [
      "100%|█████████████████████████████████████████████████████████████████████████████████████████████████████| 266/266 [00:16<00:00, 16.62it/s]\n",
      "100%|███████████████████████████████████████████████████████████████████████████████████████████████████████| 67/67 [00:03<00:00, 17.83it/s]\n"
     ]
    },
    {
     "name": "stdout",
     "output_type": "stream",
     "text": [
      "Computing accuracy\n",
      "Test set accuracy (Precision@1) = 0.6418223905723907\n",
      "Epoch 67 Iteration 0: Loss = 0.4739304780960083\n"
     ]
    },
    {
     "name": "stderr",
     "output_type": "stream",
     "text": [
      "100%|█████████████████████████████████████████████████████████████████████████████████████████████████████| 266/266 [00:16<00:00, 16.57it/s]\n",
      "100%|███████████████████████████████████████████████████████████████████████████████████████████████████████| 67/67 [00:03<00:00, 17.67it/s]\n"
     ]
    },
    {
     "name": "stdout",
     "output_type": "stream",
     "text": [
      "Computing accuracy\n",
      "Test set accuracy (Precision@1) = 0.63783810325477\n",
      "Epoch 68 Iteration 0: Loss = 0.5020243525505066\n"
     ]
    },
    {
     "name": "stderr",
     "output_type": "stream",
     "text": [
      "100%|█████████████████████████████████████████████████████████████████████████████████████████████████████| 266/266 [00:16<00:00, 16.51it/s]\n",
      "100%|███████████████████████████████████████████████████████████████████████████████████████████████████████| 67/67 [00:03<00:00, 17.83it/s]\n"
     ]
    },
    {
     "name": "stdout",
     "output_type": "stream",
     "text": [
      "Computing accuracy\n",
      "Test set accuracy (Precision@1) = 0.6402455106621774\n",
      "Epoch 69 Iteration 0: Loss = 0.47790804505348206\n"
     ]
    },
    {
     "name": "stderr",
     "output_type": "stream",
     "text": [
      "100%|█████████████████████████████████████████████████████████████████████████████████████████████████████| 266/266 [00:16<00:00, 16.48it/s]\n",
      "100%|███████████████████████████████████████████████████████████████████████████████████████████████████████| 67/67 [00:03<00:00, 17.75it/s]\n"
     ]
    },
    {
     "name": "stdout",
     "output_type": "stream",
     "text": [
      "Computing accuracy\n",
      "Test set accuracy (Precision@1) = 0.6364085297418631\n",
      "Epoch 70 Iteration 0: Loss = 0.4056865870952606\n"
     ]
    },
    {
     "name": "stderr",
     "output_type": "stream",
     "text": [
      "100%|█████████████████████████████████████████████████████████████████████████████████████████████████████| 266/266 [00:16<00:00, 16.50it/s]\n",
      "100%|███████████████████████████████████████████████████████████████████████████████████████████████████████| 67/67 [00:03<00:00, 17.77it/s]\n"
     ]
    },
    {
     "name": "stdout",
     "output_type": "stream",
     "text": [
      "Computing accuracy\n",
      "Test set accuracy (Precision@1) = 0.6456425364758698\n",
      "Epoch 71 Iteration 0: Loss = 0.4735637903213501\n"
     ]
    },
    {
     "name": "stderr",
     "output_type": "stream",
     "text": [
      "100%|█████████████████████████████████████████████████████████████████████████████████████████████████████| 266/266 [00:16<00:00, 16.47it/s]\n",
      "100%|███████████████████████████████████████████████████████████████████████████████████████████████████████| 67/67 [00:03<00:00, 17.71it/s]\n"
     ]
    },
    {
     "name": "stdout",
     "output_type": "stream",
     "text": [
      "Computing accuracy\n",
      "Test set accuracy (Precision@1) = 0.6439113355780023\n",
      "Epoch 72 Iteration 0: Loss = 0.4284152090549469\n"
     ]
    },
    {
     "name": "stderr",
     "output_type": "stream",
     "text": [
      "100%|█████████████████████████████████████████████████████████████████████████████████████████████████████| 266/266 [00:16<00:00, 16.51it/s]\n",
      "100%|███████████████████████████████████████████████████████████████████████████████████████████████████████| 67/67 [00:03<00:00, 17.95it/s]\n"
     ]
    },
    {
     "name": "stdout",
     "output_type": "stream",
     "text": [
      "Computing accuracy\n",
      "Test set accuracy (Precision@1) = 0.6386405723905724\n",
      "Epoch 73 Iteration 0: Loss = 0.4129134714603424\n"
     ]
    },
    {
     "name": "stderr",
     "output_type": "stream",
     "text": [
      "100%|█████████████████████████████████████████████████████████████████████████████████████████████████████| 266/266 [00:16<00:00, 16.39it/s]\n",
      "100%|███████████████████████████████████████████████████████████████████████████████████████████████████████| 67/67 [00:03<00:00, 17.73it/s]\n"
     ]
    },
    {
     "name": "stdout",
     "output_type": "stream",
     "text": [
      "Computing accuracy\n",
      "Test set accuracy (Precision@1) = 0.6404208754208754\n",
      "Epoch 74 Iteration 0: Loss = 0.4558676779270172\n"
     ]
    },
    {
     "name": "stderr",
     "output_type": "stream",
     "text": [
      "100%|█████████████████████████████████████████████████████████████████████████████████████████████████████| 266/266 [00:16<00:00, 16.60it/s]\n",
      "100%|███████████████████████████████████████████████████████████████████████████████████████████████████████| 67/67 [00:03<00:00, 17.95it/s]\n"
     ]
    },
    {
     "name": "stdout",
     "output_type": "stream",
     "text": [
      "Computing accuracy\n",
      "Test set accuracy (Precision@1) = 0.64787177328844\n",
      "Epoch 75 Iteration 0: Loss = 0.4588847756385803\n"
     ]
    },
    {
     "name": "stderr",
     "output_type": "stream",
     "text": [
      "100%|█████████████████████████████████████████████████████████████████████████████████████████████████████| 266/266 [00:16<00:00, 16.62it/s]\n",
      "100%|███████████████████████████████████████████████████████████████████████████████████████████████████████| 67/67 [00:03<00:00, 17.89it/s]\n"
     ]
    },
    {
     "name": "stdout",
     "output_type": "stream",
     "text": [
      "Computing accuracy\n",
      "Test set accuracy (Precision@1) = 0.6425561167227835\n",
      "Epoch 76 Iteration 0: Loss = 0.44856470823287964\n"
     ]
    },
    {
     "name": "stderr",
     "output_type": "stream",
     "text": [
      "100%|█████████████████████████████████████████████████████████████████████████████████████████████████████| 266/266 [00:16<00:00, 16.54it/s]\n",
      "100%|███████████████████████████████████████████████████████████████████████████████████████████████████████| 67/67 [00:03<00:00, 17.97it/s]\n"
     ]
    },
    {
     "name": "stdout",
     "output_type": "stream",
     "text": [
      "Computing accuracy\n",
      "Test set accuracy (Precision@1) = 0.6537275533108867\n",
      "Epoch 77 Iteration 0: Loss = 0.41227683424949646\n"
     ]
    },
    {
     "name": "stderr",
     "output_type": "stream",
     "text": [
      "100%|█████████████████████████████████████████████████████████████████████████████████████████████████████| 266/266 [00:16<00:00, 16.58it/s]\n",
      "100%|███████████████████████████████████████████████████████████████████████████████████████████████████████| 67/67 [00:03<00:00, 17.93it/s]\n"
     ]
    },
    {
     "name": "stdout",
     "output_type": "stream",
     "text": [
      "Computing accuracy\n",
      "Test set accuracy (Precision@1) = 0.6421436588103254\n",
      "Epoch 78 Iteration 0: Loss = 0.4226105809211731\n"
     ]
    },
    {
     "name": "stderr",
     "output_type": "stream",
     "text": [
      "100%|█████████████████████████████████████████████████████████████████████████████████████████████████████| 266/266 [00:16<00:00, 16.24it/s]\n",
      "100%|███████████████████████████████████████████████████████████████████████████████████████████████████████| 67/67 [00:03<00:00, 17.64it/s]\n"
     ]
    },
    {
     "name": "stdout",
     "output_type": "stream",
     "text": [
      "Computing accuracy\n",
      "Test set accuracy (Precision@1) = 0.6446703142536475\n",
      "Epoch 79 Iteration 0: Loss = 0.4467349946498871\n"
     ]
    },
    {
     "name": "stderr",
     "output_type": "stream",
     "text": [
      "100%|█████████████████████████████████████████████████████████████████████████████████████████████████████| 266/266 [00:16<00:00, 16.25it/s]\n",
      "100%|███████████████████████████████████████████████████████████████████████████████████████████████████████| 67/67 [00:03<00:00, 17.72it/s]\n"
     ]
    },
    {
     "name": "stdout",
     "output_type": "stream",
     "text": [
      "Computing accuracy\n",
      "Test set accuracy (Precision@1) = 0.6554461279461279\n",
      "Epoch 80 Iteration 0: Loss = 0.4004210829734802\n"
     ]
    },
    {
     "name": "stderr",
     "output_type": "stream",
     "text": [
      "100%|█████████████████████████████████████████████████████████████████████████████████████████████████████| 266/266 [00:16<00:00, 15.89it/s]\n",
      "100%|███████████████████████████████████████████████████████████████████████████████████████████████████████| 67/67 [00:03<00:00, 17.71it/s]\n"
     ]
    },
    {
     "name": "stdout",
     "output_type": "stream",
     "text": [
      "Computing accuracy\n",
      "Test set accuracy (Precision@1) = 0.6539029180695848\n",
      "Epoch 81 Iteration 0: Loss = 0.48761481046676636\n"
     ]
    },
    {
     "name": "stderr",
     "output_type": "stream",
     "text": [
      "100%|█████████████████████████████████████████████████████████████████████████████████████████████████████| 266/266 [00:16<00:00, 16.40it/s]\n",
      "100%|███████████████████████████████████████████████████████████████████████████████████████████████████████| 67/67 [00:03<00:00, 17.60it/s]\n"
     ]
    },
    {
     "name": "stdout",
     "output_type": "stream",
     "text": [
      "Computing accuracy\n",
      "Test set accuracy (Precision@1) = 0.6549985970819304\n",
      "Epoch 82 Iteration 0: Loss = 0.4024452865123749\n"
     ]
    },
    {
     "name": "stderr",
     "output_type": "stream",
     "text": [
      "100%|█████████████████████████████████████████████████████████████████████████████████████████████████████| 266/266 [00:16<00:00, 16.40it/s]\n",
      "100%|███████████████████████████████████████████████████████████████████████████████████████████████████████| 67/67 [00:03<00:00, 17.74it/s]\n"
     ]
    },
    {
     "name": "stdout",
     "output_type": "stream",
     "text": [
      "Computing accuracy\n",
      "Test set accuracy (Precision@1) = 0.660686026936027\n",
      "Epoch 83 Iteration 0: Loss = 0.4004024863243103\n"
     ]
    },
    {
     "name": "stderr",
     "output_type": "stream",
     "text": [
      "100%|█████████████████████████████████████████████████████████████████████████████████████████████████████| 266/266 [00:16<00:00, 16.44it/s]\n",
      "100%|███████████████████████████████████████████████████████████████████████████████████████████████████████| 67/67 [00:03<00:00, 17.70it/s]\n"
     ]
    },
    {
     "name": "stdout",
     "output_type": "stream",
     "text": [
      "Computing accuracy\n",
      "Test set accuracy (Precision@1) = 0.6435199214365882\n",
      "Epoch 84 Iteration 0: Loss = 0.41899773478507996\n"
     ]
    },
    {
     "name": "stderr",
     "output_type": "stream",
     "text": [
      "100%|█████████████████████████████████████████████████████████████████████████████████████████████████████| 266/266 [00:16<00:00, 16.39it/s]\n",
      "100%|███████████████████████████████████████████████████████████████████████████████████████████████████████| 67/67 [00:03<00:00, 17.66it/s]\n"
     ]
    },
    {
     "name": "stdout",
     "output_type": "stream",
     "text": [
      "Computing accuracy\n",
      "Test set accuracy (Precision@1) = 0.6467073512906846\n",
      "Epoch 85 Iteration 0: Loss = 0.43465858697891235\n"
     ]
    },
    {
     "name": "stderr",
     "output_type": "stream",
     "text": [
      "100%|█████████████████████████████████████████████████████████████████████████████████████████████████████| 266/266 [00:16<00:00, 16.34it/s]\n",
      "100%|███████████████████████████████████████████████████████████████████████████████████████████████████████| 67/67 [00:03<00:00, 17.65it/s]\n"
     ]
    },
    {
     "name": "stdout",
     "output_type": "stream",
     "text": [
      "Computing accuracy\n",
      "Test set accuracy (Precision@1) = 0.6550968013468013\n",
      "Epoch 86 Iteration 0: Loss = 0.37641987204551697\n"
     ]
    },
    {
     "name": "stderr",
     "output_type": "stream",
     "text": [
      "100%|█████████████████████████████████████████████████████████████████████████████████████████████████████| 266/266 [00:16<00:00, 16.45it/s]\n",
      "100%|███████████████████████████████████████████████████████████████████████████████████████████████████████| 67/67 [00:03<00:00, 17.71it/s]\n"
     ]
    },
    {
     "name": "stdout",
     "output_type": "stream",
     "text": [
      "Computing accuracy\n",
      "Test set accuracy (Precision@1) = 0.6457421436588104\n",
      "Epoch 87 Iteration 0: Loss = 0.41445669531822205\n"
     ]
    },
    {
     "name": "stderr",
     "output_type": "stream",
     "text": [
      "100%|█████████████████████████████████████████████████████████████████████████████████████████████████████| 266/266 [00:15<00:00, 16.86it/s]\n",
      "100%|███████████████████████████████████████████████████████████████████████████████████████████████████████| 67/67 [00:03<00:00, 18.27it/s]\n"
     ]
    },
    {
     "name": "stdout",
     "output_type": "stream",
     "text": [
      "Computing accuracy\n",
      "Test set accuracy (Precision@1) = 0.672415824915825\n",
      "Epoch 88 Iteration 0: Loss = 0.5127488374710083\n"
     ]
    },
    {
     "name": "stderr",
     "output_type": "stream",
     "text": [
      "100%|█████████████████████████████████████████████████████████████████████████████████████████████████████| 266/266 [00:16<00:00, 16.48it/s]\n",
      "100%|███████████████████████████████████████████████████████████████████████████████████████████████████████| 67/67 [00:03<00:00, 17.74it/s]\n"
     ]
    },
    {
     "name": "stdout",
     "output_type": "stream",
     "text": [
      "Computing accuracy\n",
      "Test set accuracy (Precision@1) = 0.6507281144781145\n",
      "Epoch 89 Iteration 0: Loss = 0.424175888299942\n"
     ]
    },
    {
     "name": "stderr",
     "output_type": "stream",
     "text": [
      "100%|█████████████████████████████████████████████████████████████████████████████████████████████████████| 266/266 [00:16<00:00, 16.30it/s]\n",
      "100%|███████████████████████████████████████████████████████████████████████████████████████████████████████| 67/67 [00:03<00:00, 17.54it/s]\n"
     ]
    },
    {
     "name": "stdout",
     "output_type": "stream",
     "text": [
      "Computing accuracy\n",
      "Test set accuracy (Precision@1) = 0.6619991582491582\n",
      "Epoch 90 Iteration 0: Loss = 0.4661920368671417\n"
     ]
    },
    {
     "name": "stderr",
     "output_type": "stream",
     "text": [
      "100%|█████████████████████████████████████████████████████████████████████████████████████████████████████| 266/266 [00:16<00:00, 16.27it/s]\n",
      "100%|███████████████████████████████████████████████████████████████████████████████████████████████████████| 67/67 [00:03<00:00, 17.93it/s]\n"
     ]
    },
    {
     "name": "stdout",
     "output_type": "stream",
     "text": [
      "Computing accuracy\n",
      "Test set accuracy (Precision@1) = 0.6676978114478115\n",
      "Epoch 91 Iteration 0: Loss = 0.3656654357910156\n"
     ]
    },
    {
     "name": "stderr",
     "output_type": "stream",
     "text": [
      "100%|█████████████████████████████████████████████████████████████████████████████████████████████████████| 266/266 [00:16<00:00, 16.61it/s]\n",
      "100%|███████████████████████████████████████████████████████████████████████████████████████████████████████| 67/67 [00:03<00:00, 17.86it/s]\n"
     ]
    },
    {
     "name": "stdout",
     "output_type": "stream",
     "text": [
      "Computing accuracy\n",
      "Test set accuracy (Precision@1) = 0.6645468574635243\n",
      "Epoch 92 Iteration 0: Loss = 0.45137089490890503\n"
     ]
    },
    {
     "name": "stderr",
     "output_type": "stream",
     "text": [
      "100%|█████████████████████████████████████████████████████████████████████████████████████████████████████| 266/266 [00:16<00:00, 16.48it/s]\n",
      "100%|███████████████████████████████████████████████████████████████████████████████████████████████████████| 67/67 [00:03<00:00, 17.78it/s]\n"
     ]
    },
    {
     "name": "stdout",
     "output_type": "stream",
     "text": [
      "Computing accuracy\n",
      "Test set accuracy (Precision@1) = 0.6701557239057239\n",
      "Epoch 93 Iteration 0: Loss = 0.4895244538784027\n"
     ]
    },
    {
     "name": "stderr",
     "output_type": "stream",
     "text": [
      "100%|█████████████████████████████████████████████████████████████████████████████████████████████████████| 266/266 [00:16<00:00, 16.57it/s]\n",
      "100%|███████████████████████████████████████████████████████████████████████████████████████████████████████| 67/67 [00:03<00:00, 17.83it/s]\n"
     ]
    },
    {
     "name": "stdout",
     "output_type": "stream",
     "text": [
      "Computing accuracy\n",
      "Test set accuracy (Precision@1) = 0.6535199214365881\n",
      "Epoch 94 Iteration 0: Loss = 0.4447031319141388\n"
     ]
    },
    {
     "name": "stderr",
     "output_type": "stream",
     "text": [
      "100%|█████████████████████████████████████████████████████████████████████████████████████████████████████| 266/266 [00:16<00:00, 16.56it/s]\n",
      "100%|███████████████████████████████████████████████████████████████████████████████████████████████████████| 67/67 [00:03<00:00, 17.83it/s]\n"
     ]
    },
    {
     "name": "stdout",
     "output_type": "stream",
     "text": [
      "Computing accuracy\n",
      "Test set accuracy (Precision@1) = 0.6710732323232323\n",
      "Epoch 95 Iteration 0: Loss = 0.45338740944862366\n"
     ]
    },
    {
     "name": "stderr",
     "output_type": "stream",
     "text": [
      "100%|█████████████████████████████████████████████████████████████████████████████████████████████████████| 266/266 [00:16<00:00, 16.54it/s]\n",
      "100%|███████████████████████████████████████████████████████████████████████████████████████████████████████| 67/67 [00:03<00:00, 17.92it/s]\n"
     ]
    },
    {
     "name": "stdout",
     "output_type": "stream",
     "text": [
      "Computing accuracy\n",
      "Test set accuracy (Precision@1) = 0.6646226150392817\n",
      "Epoch 96 Iteration 0: Loss = 0.39432287216186523\n"
     ]
    },
    {
     "name": "stderr",
     "output_type": "stream",
     "text": [
      "100%|█████████████████████████████████████████████████████████████████████████████████████████████████████| 266/266 [00:16<00:00, 16.59it/s]\n",
      "100%|███████████████████████████████████████████████████████████████████████████████████████████████████████| 67/67 [00:03<00:00, 17.82it/s]\n"
     ]
    },
    {
     "name": "stdout",
     "output_type": "stream",
     "text": [
      "Computing accuracy\n",
      "Test set accuracy (Precision@1) = 0.6701473063973065\n",
      "Epoch 97 Iteration 0: Loss = 0.33912670612335205\n"
     ]
    },
    {
     "name": "stderr",
     "output_type": "stream",
     "text": [
      "100%|█████████████████████████████████████████████████████████████████████████████████████████████████████| 266/266 [00:16<00:00, 16.55it/s]\n",
      "100%|███████████████████████████████████████████████████████████████████████████████████████████████████████| 67/67 [00:03<00:00, 17.91it/s]\n"
     ]
    },
    {
     "name": "stdout",
     "output_type": "stream",
     "text": [
      "Computing accuracy\n",
      "Test set accuracy (Precision@1) = 0.6653605499438834\n",
      "Epoch 98 Iteration 0: Loss = 0.44146430492401123\n"
     ]
    },
    {
     "name": "stderr",
     "output_type": "stream",
     "text": [
      "100%|█████████████████████████████████████████████████████████████████████████████████████████████████████| 266/266 [00:15<00:00, 16.63it/s]\n",
      "100%|███████████████████████████████████████████████████████████████████████████████████████████████████████| 67/67 [00:03<00:00, 17.11it/s]\n"
     ]
    },
    {
     "name": "stdout",
     "output_type": "stream",
     "text": [
      "Computing accuracy\n",
      "Test set accuracy (Precision@1) = 0.6661826599326599\n",
      "Epoch 99 Iteration 0: Loss = 0.4709480404853821\n"
     ]
    },
    {
     "name": "stderr",
     "output_type": "stream",
     "text": [
      "100%|█████████████████████████████████████████████████████████████████████████████████████████████████████| 266/266 [00:16<00:00, 16.58it/s]\n",
      "100%|███████████████████████████████████████████████████████████████████████████████████████████████████████| 67/67 [00:03<00:00, 17.78it/s]\n"
     ]
    },
    {
     "name": "stdout",
     "output_type": "stream",
     "text": [
      "Computing accuracy\n",
      "Test set accuracy (Precision@1) = 0.6596618967452301\n",
      "Epoch 100 Iteration 0: Loss = 0.44111236929893494\n"
     ]
    },
    {
     "name": "stderr",
     "output_type": "stream",
     "text": [
      "100%|█████████████████████████████████████████████████████████████████████████████████████████████████████| 266/266 [00:16<00:00, 16.56it/s]\n",
      "100%|███████████████████████████████████████████████████████████████████████████████████████████████████████| 67/67 [00:03<00:00, 17.92it/s]"
     ]
    },
    {
     "name": "stdout",
     "output_type": "stream",
     "text": [
      "Computing accuracy\n",
      "Test set accuracy (Precision@1) = 0.6748302469135802\n"
     ]
    },
    {
     "name": "stderr",
     "output_type": "stream",
     "text": [
      "\n"
     ]
    }
   ],
   "source": [
    "#total_loss = []\n",
    "#total_acc = []\n",
    "for epoch in range(1, num_epochs + 1):\n",
    "    train_loss = train(model, loss_func,mining_func, device, train_loader, optimizer, epoch)\n",
    "    #total_loss.extend(train_loss)\n",
    "    test_acc = test(train_dataset, test_dataset, model, accuracy_calculator)\n",
    "    #total_acc.append(test_acc)\n",
    "    wandb.log({\"test_accuracy2\": test_acc, \"train_loss2\": train_loss,\"epoch\": epoch})"
   ]
  },
  {
   "cell_type": "code",
   "execution_count": 53,
   "id": "440edbeb-80f8-42ec-9547-7bf913aa64b2",
   "metadata": {},
   "outputs": [],
   "source": [
    "torch.save(model,config['model_save_path']+'_180.pth')"
   ]
  },
  {
   "cell_type": "code",
   "execution_count": 32,
   "id": "3afb879b-ef20-45fc-9dbe-6d92e842b99e",
   "metadata": {},
   "outputs": [],
   "source": [
    "model = torch.load('models/cub_triplet_loss_epshn_resnet18_sgd_aug_180.pth',map_location='cuda')"
   ]
  },
  {
   "cell_type": "code",
   "execution_count": 54,
   "id": "1ae29c0e-7b43-4364-a8b8-fcd403a56cbc",
   "metadata": {
    "scrolled": true
   },
   "outputs": [
    {
     "data": {
      "text/plain": [
       "ResNetFeatrueExtractor18(\n",
       "  (conv1): Conv2d(3, 64, kernel_size=(7, 7), stride=(2, 2), padding=(3, 3), bias=False)\n",
       "  (bn1): BatchNorm2d(64, eps=1e-05, momentum=0.1, affine=True, track_running_stats=True)\n",
       "  (relu): ReLU(inplace=True)\n",
       "  (maxpool): MaxPool2d(kernel_size=3, stride=2, padding=1, dilation=1, ceil_mode=False)\n",
       "  (layer1): Sequential(\n",
       "    (0): BasicBlock(\n",
       "      (conv1): Conv2d(64, 64, kernel_size=(3, 3), stride=(1, 1), padding=(1, 1), bias=False)\n",
       "      (bn1): BatchNorm2d(64, eps=1e-05, momentum=0.1, affine=True, track_running_stats=True)\n",
       "      (relu): ReLU(inplace=True)\n",
       "      (conv2): Conv2d(64, 64, kernel_size=(3, 3), stride=(1, 1), padding=(1, 1), bias=False)\n",
       "      (bn2): BatchNorm2d(64, eps=1e-05, momentum=0.1, affine=True, track_running_stats=True)\n",
       "    )\n",
       "    (1): BasicBlock(\n",
       "      (conv1): Conv2d(64, 64, kernel_size=(3, 3), stride=(1, 1), padding=(1, 1), bias=False)\n",
       "      (bn1): BatchNorm2d(64, eps=1e-05, momentum=0.1, affine=True, track_running_stats=True)\n",
       "      (relu): ReLU(inplace=True)\n",
       "      (conv2): Conv2d(64, 64, kernel_size=(3, 3), stride=(1, 1), padding=(1, 1), bias=False)\n",
       "      (bn2): BatchNorm2d(64, eps=1e-05, momentum=0.1, affine=True, track_running_stats=True)\n",
       "    )\n",
       "  )\n",
       "  (layer2): Sequential(\n",
       "    (0): BasicBlock(\n",
       "      (conv1): Conv2d(64, 128, kernel_size=(3, 3), stride=(2, 2), padding=(1, 1), bias=False)\n",
       "      (bn1): BatchNorm2d(128, eps=1e-05, momentum=0.1, affine=True, track_running_stats=True)\n",
       "      (relu): ReLU(inplace=True)\n",
       "      (conv2): Conv2d(128, 128, kernel_size=(3, 3), stride=(1, 1), padding=(1, 1), bias=False)\n",
       "      (bn2): BatchNorm2d(128, eps=1e-05, momentum=0.1, affine=True, track_running_stats=True)\n",
       "      (downsample): Sequential(\n",
       "        (0): Conv2d(64, 128, kernel_size=(1, 1), stride=(2, 2), bias=False)\n",
       "        (1): BatchNorm2d(128, eps=1e-05, momentum=0.1, affine=True, track_running_stats=True)\n",
       "      )\n",
       "    )\n",
       "    (1): BasicBlock(\n",
       "      (conv1): Conv2d(128, 128, kernel_size=(3, 3), stride=(1, 1), padding=(1, 1), bias=False)\n",
       "      (bn1): BatchNorm2d(128, eps=1e-05, momentum=0.1, affine=True, track_running_stats=True)\n",
       "      (relu): ReLU(inplace=True)\n",
       "      (conv2): Conv2d(128, 128, kernel_size=(3, 3), stride=(1, 1), padding=(1, 1), bias=False)\n",
       "      (bn2): BatchNorm2d(128, eps=1e-05, momentum=0.1, affine=True, track_running_stats=True)\n",
       "    )\n",
       "  )\n",
       "  (layer3): Sequential(\n",
       "    (0): BasicBlock(\n",
       "      (conv1): Conv2d(128, 256, kernel_size=(3, 3), stride=(2, 2), padding=(1, 1), bias=False)\n",
       "      (bn1): BatchNorm2d(256, eps=1e-05, momentum=0.1, affine=True, track_running_stats=True)\n",
       "      (relu): ReLU(inplace=True)\n",
       "      (conv2): Conv2d(256, 256, kernel_size=(3, 3), stride=(1, 1), padding=(1, 1), bias=False)\n",
       "      (bn2): BatchNorm2d(256, eps=1e-05, momentum=0.1, affine=True, track_running_stats=True)\n",
       "      (downsample): Sequential(\n",
       "        (0): Conv2d(128, 256, kernel_size=(1, 1), stride=(2, 2), bias=False)\n",
       "        (1): BatchNorm2d(256, eps=1e-05, momentum=0.1, affine=True, track_running_stats=True)\n",
       "      )\n",
       "    )\n",
       "    (1): BasicBlock(\n",
       "      (conv1): Conv2d(256, 256, kernel_size=(3, 3), stride=(1, 1), padding=(1, 1), bias=False)\n",
       "      (bn1): BatchNorm2d(256, eps=1e-05, momentum=0.1, affine=True, track_running_stats=True)\n",
       "      (relu): ReLU(inplace=True)\n",
       "      (conv2): Conv2d(256, 256, kernel_size=(3, 3), stride=(1, 1), padding=(1, 1), bias=False)\n",
       "      (bn2): BatchNorm2d(256, eps=1e-05, momentum=0.1, affine=True, track_running_stats=True)\n",
       "    )\n",
       "  )\n",
       "  (layer4): Sequential(\n",
       "    (0): BasicBlock(\n",
       "      (conv1): Conv2d(256, 512, kernel_size=(3, 3), stride=(2, 2), padding=(1, 1), bias=False)\n",
       "      (bn1): BatchNorm2d(512, eps=1e-05, momentum=0.1, affine=True, track_running_stats=True)\n",
       "      (relu): ReLU(inplace=True)\n",
       "      (conv2): Conv2d(512, 512, kernel_size=(3, 3), stride=(1, 1), padding=(1, 1), bias=False)\n",
       "      (bn2): BatchNorm2d(512, eps=1e-05, momentum=0.1, affine=True, track_running_stats=True)\n",
       "      (downsample): Sequential(\n",
       "        (0): Conv2d(256, 512, kernel_size=(1, 1), stride=(2, 2), bias=False)\n",
       "        (1): BatchNorm2d(512, eps=1e-05, momentum=0.1, affine=True, track_running_stats=True)\n",
       "      )\n",
       "    )\n",
       "    (1): BasicBlock(\n",
       "      (conv1): Conv2d(512, 512, kernel_size=(3, 3), stride=(1, 1), padding=(1, 1), bias=False)\n",
       "      (bn1): BatchNorm2d(512, eps=1e-05, momentum=0.1, affine=True, track_running_stats=True)\n",
       "      (relu): ReLU(inplace=True)\n",
       "      (conv2): Conv2d(512, 512, kernel_size=(3, 3), stride=(1, 1), padding=(1, 1), bias=False)\n",
       "      (bn2): BatchNorm2d(512, eps=1e-05, momentum=0.1, affine=True, track_running_stats=True)\n",
       "    )\n",
       "  )\n",
       "  (avgpool): AdaptiveAvgPool2d(output_size=(1, 1))\n",
       "  (fc1): Linear(in_features=512, out_features=512, bias=True)\n",
       ")"
      ]
     },
     "execution_count": 54,
     "metadata": {},
     "output_type": "execute_result"
    }
   ],
   "source": [
    "model.eval()"
   ]
  },
  {
   "cell_type": "code",
   "execution_count": 55,
   "id": "9baeaa00-0932-4952-9620-b49a1de77f88",
   "metadata": {},
   "outputs": [],
   "source": [
    "image_paths = []\n",
    "labels = []\n",
    "for folder_path,i in class_dict.items():\n",
    "    folder_images = glob.glob('CUB_200_2011/images/'+'/'+str(folder_path)+'/*')\n",
    "    image_paths.extend(folder_images)\n",
    "    labels.extend([i]*len(folder_images))"
   ]
  },
  {
   "cell_type": "code",
   "execution_count": 56,
   "id": "ba1ed4c4-806c-4b70-a1f1-fd61510cc52b",
   "metadata": {},
   "outputs": [],
   "source": [
    "from sklearn.model_selection import train_test_split\n",
    "X_train, X_test, y_train, y_test = train_test_split(image_paths, labels, test_size=config['train_test_split'],\n",
    "                                                    stratify=labels,\n",
    "                                                    random_state=config['random_seed'])"
   ]
  },
  {
   "cell_type": "code",
   "execution_count": 57,
   "id": "0df461d6-47c4-4213-8e78-aba9f59d0648",
   "metadata": {},
   "outputs": [],
   "source": [
    "train_dataset  = CUBDataset(X_train,y_train,transform)\n",
    "test_dataset  = CUBDataset(X_test,y_test,transform)"
   ]
  },
  {
   "cell_type": "code",
   "execution_count": 58,
   "id": "fba86090-7819-434c-af9f-28c001b83ad1",
   "metadata": {},
   "outputs": [
    {
     "name": "stderr",
     "output_type": "stream",
     "text": [
      "100%|█████████████████████████████████████████████████████████████████████████████████████████████████████| 295/295 [00:37<00:00,  7.82it/s]\n",
      "100%|███████████████████████████████████████████████████████████████████████████████████████████████████████| 74/74 [00:09<00:00,  7.71it/s]\n"
     ]
    }
   ],
   "source": [
    "train_embeddings, train_labels = get_all_embeddings(train_dataset, model)\n",
    "test_embeddings, test_labels = get_all_embeddings(test_dataset, model)\n",
    "train_labels = train_labels.squeeze(1)\n",
    "test_labels = test_labels.squeeze(1)"
   ]
  },
  {
   "cell_type": "code",
   "execution_count": 59,
   "id": "d3f4c51f-4298-475f-bd91-c620cb17060a",
   "metadata": {
    "scrolled": true
   },
   "outputs": [
    {
     "name": "stdout",
     "output_type": "stream",
     "text": [
      "001.Black_footed_Albatross     test samples 12   , training samples 48   : 0.75\n",
      "002.Laysan_Albatross           test samples 12   , training samples 48   : 0.75\n",
      "003.Sooty_Albatross            test samples 12   , training samples 46   : 0.5833333333333334\n",
      "004.Groove_billed_Ani          test samples 12   , training samples 48   : 0.8333333333333334\n",
      "005.Crested_Auklet             test samples 9    , training samples 35   : 0.8888888888888888\n",
      "006.Least_Auklet               test samples 8    , training samples 33   : 0.875\n",
      "007.Parakeet_Auklet            test samples 10   , training samples 43   : 1.0\n",
      "008.Rhinoceros_Auklet          test samples 9    , training samples 39   : 0.3333333333333333\n",
      "009.Brewer_Blackbird           test samples 12   , training samples 47   : 0.4166666666666667\n",
      "010.Red_winged_Blackbird       test samples 12   , training samples 48   : 0.8333333333333334\n",
      "011.Rusty_Blackbird            test samples 12   , training samples 48   : 0.4166666666666667\n",
      "012.Yellow_headed_Blackbird    test samples 11   , training samples 45   : 0.9090909090909091\n",
      "013.Bobolink                   test samples 12   , training samples 48   : 0.6666666666666666\n",
      "014.Indigo_Bunting             test samples 12   , training samples 48   : 0.9166666666666666\n",
      "015.Lazuli_Bunting             test samples 11   , training samples 47   : 0.7272727272727273\n",
      "016.Painted_Bunting            test samples 11   , training samples 47   : 0.6363636363636364\n",
      "017.Cardinal                   test samples 11   , training samples 46   : 0.45454545454545453\n",
      "018.Spotted_Catbird            test samples 9    , training samples 36   : 0.8888888888888888\n",
      "019.Gray_Catbird               test samples 12   , training samples 47   : 0.6666666666666666\n",
      "020.Yellow_breasted_Chat       test samples 12   , training samples 47   : 0.5\n",
      "021.Eastern_Towhee             test samples 12   , training samples 48   : 0.6666666666666666\n",
      "022.Chuck_will_Widow           test samples 11   , training samples 45   : 0.36363636363636365\n",
      "023.Brandt_Cormorant           test samples 12   , training samples 47   : 0.3333333333333333\n",
      "024.Red_faced_Cormorant        test samples 10   , training samples 42   : 0.8\n",
      "025.Pelagic_Cormorant          test samples 12   , training samples 48   : 0.08333333333333333\n",
      "026.Bronzed_Cowbird            test samples 12   , training samples 48   : 0.5833333333333334\n",
      "027.Shiny_Cowbird              test samples 12   , training samples 48   : 0.16666666666666666\n",
      "028.Brown_Creeper              test samples 12   , training samples 47   : 1.0\n",
      "029.American_Crow              test samples 12   , training samples 48   : 0.3333333333333333\n",
      "030.Fish_Crow                  test samples 12   , training samples 48   : 0.0\n",
      "031.Black_billed_Cuckoo        test samples 12   , training samples 48   : 0.5833333333333334\n",
      "032.Mangrove_Cuckoo            test samples 10   , training samples 43   : 0.6\n",
      "033.Yellow_billed_Cuckoo       test samples 12   , training samples 47   : 0.4166666666666667\n",
      "034.Gray_crowned_Rosy_Finch    test samples 12   , training samples 47   : 0.75\n",
      "035.Purple_Finch               test samples 12   , training samples 48   : 1.0\n",
      "036.Northern_Flicker           test samples 12   , training samples 48   : 0.8333333333333334\n",
      "037.Acadian_Flycatcher         test samples 12   , training samples 47   : 0.5833333333333334\n",
      "038.Great_Crested_Flycatcher   test samples 12   , training samples 48   : 0.5\n",
      "039.Least_Flycatcher           test samples 12   , training samples 47   : 0.25\n",
      "040.Olive_sided_Flycatcher     test samples 12   , training samples 48   : 0.4166666666666667\n",
      "041.Scissor_tailed_Flycatcher  test samples 12   , training samples 48   : 0.6666666666666666\n",
      "042.Vermilion_Flycatcher       test samples 12   , training samples 48   : 0.8333333333333334\n",
      "043.Yellow_bellied_Flycatcher  test samples 12   , training samples 47   : 0.25\n",
      "044.Frigatebird                test samples 12   , training samples 48   : 0.8333333333333334\n",
      "045.Northern_Fulmar            test samples 12   , training samples 48   : 0.5\n",
      "046.Gadwall                    test samples 12   , training samples 48   : 0.9166666666666666\n",
      "047.American_Goldfinch         test samples 12   , training samples 48   : 1.0\n",
      "048.European_Goldfinch         test samples 12   , training samples 48   : 0.8333333333333334\n",
      "049.Boat_tailed_Grackle        test samples 12   , training samples 48   : 0.16666666666666666\n",
      "050.Eared_Grebe                test samples 12   , training samples 48   : 0.5833333333333334\n",
      "051.Horned_Grebe               test samples 12   , training samples 48   : 0.8333333333333334\n",
      "052.Pied_billed_Grebe          test samples 12   , training samples 48   : 0.9166666666666666\n",
      "053.Western_Grebe              test samples 12   , training samples 48   : 0.9166666666666666\n",
      "054.Blue_Grosbeak              test samples 12   , training samples 48   : 0.5833333333333334\n",
      "055.Evening_Grosbeak           test samples 12   , training samples 48   : 0.9166666666666666\n",
      "056.Pine_Grosbeak              test samples 12   , training samples 48   : 0.9166666666666666\n",
      "057.Rose_breasted_Grosbeak     test samples 12   , training samples 48   : 0.9166666666666666\n",
      "058.Pigeon_Guillemot           test samples 12   , training samples 46   : 0.75\n",
      "059.California_Gull            test samples 12   , training samples 48   : 0.4166666666666667\n",
      "060.Glaucous_winged_Gull       test samples 12   , training samples 47   : 0.25\n",
      "061.Heermann_Gull              test samples 12   , training samples 48   : 0.9166666666666666\n",
      "062.Herring_Gull               test samples 12   , training samples 48   : 0.25\n",
      "063.Ivory_Gull                 test samples 12   , training samples 48   : 0.8333333333333334\n",
      "064.Ring_billed_Gull           test samples 12   , training samples 48   : 0.4166666666666667\n",
      "065.Slaty_backed_Gull          test samples 10   , training samples 40   : 0.4\n",
      "066.Western_Gull               test samples 12   , training samples 48   : 0.3333333333333333\n",
      "067.Anna_Hummingbird           test samples 12   , training samples 48   : 0.5833333333333334\n",
      "068.Ruby_throated_Hummingbird  test samples 12   , training samples 48   : 0.8333333333333334\n",
      "069.Rufous_Hummingbird         test samples 12   , training samples 48   : 0.6666666666666666\n",
      "070.Green_Violetear            test samples 12   , training samples 48   : 0.8333333333333334\n",
      "071.Long_tailed_Jaeger         test samples 12   , training samples 48   : 0.16666666666666666\n",
      "072.Pomarine_Jaeger            test samples 12   , training samples 48   : 0.3333333333333333\n",
      "073.Blue_Jay                   test samples 12   , training samples 48   : 0.6666666666666666\n",
      "074.Florida_Jay                test samples 12   , training samples 48   : 0.75\n",
      "075.Green_Jay                  test samples 11   , training samples 46   : 0.9090909090909091\n",
      "076.Dark_eyed_Junco            test samples 12   , training samples 48   : 0.8333333333333334\n",
      "077.Tropical_Kingbird          test samples 12   , training samples 48   : 0.75\n",
      "078.Gray_Kingbird              test samples 12   , training samples 47   : 0.4166666666666667\n",
      "079.Belted_Kingfisher          test samples 12   , training samples 48   : 0.6666666666666666\n",
      "080.Green_Kingfisher           test samples 12   , training samples 48   : 0.6666666666666666\n",
      "081.Pied_Kingfisher            test samples 12   , training samples 48   : 0.8333333333333334\n",
      "082.Ringed_Kingfisher          test samples 12   , training samples 48   : 0.75\n",
      "083.White_breasted_Kingfisher  test samples 12   , training samples 48   : 0.9166666666666666\n",
      "084.Red_legged_Kittiwake       test samples 10   , training samples 43   : 0.7\n",
      "085.Horned_Lark                test samples 12   , training samples 48   : 0.75\n",
      "086.Pacific_Loon               test samples 12   , training samples 48   : 0.8333333333333334\n",
      "087.Mallard                    test samples 12   , training samples 48   : 0.9166666666666666\n",
      "088.Western_Meadowlark         test samples 12   , training samples 48   : 0.8333333333333334\n",
      "089.Hooded_Merganser           test samples 12   , training samples 48   : 0.75\n",
      "090.Red_breasted_Merganser     test samples 12   , training samples 48   : 1.0\n",
      "091.Mockingbird                test samples 12   , training samples 48   : 0.16666666666666666\n",
      "092.Nighthawk                  test samples 12   , training samples 48   : 0.5833333333333334\n",
      "093.Clark_Nutcracker           test samples 12   , training samples 48   : 0.8333333333333334\n",
      "094.White_breasted_Nuthatch    test samples 12   , training samples 48   : 1.0\n",
      "095.Baltimore_Oriole           test samples 12   , training samples 48   : 0.6666666666666666\n",
      "096.Hooded_Oriole              test samples 12   , training samples 48   : 0.75\n",
      "097.Orchard_Oriole             test samples 12   , training samples 47   : 0.4166666666666667\n",
      "098.Scott_Oriole               test samples 12   , training samples 48   : 0.8333333333333334\n",
      "099.Ovenbird                   test samples 12   , training samples 48   : 0.75\n",
      "100.Brown_Pelican              test samples 12   , training samples 48   : 1.0\n",
      "101.White_Pelican              test samples 10   , training samples 40   : 0.9\n",
      "102.Western_Wood_Pewee         test samples 12   , training samples 48   : 0.3333333333333333\n",
      "103.Sayornis                   test samples 12   , training samples 48   : 0.3333333333333333\n",
      "104.American_Pipit             test samples 12   , training samples 48   : 0.5\n",
      "105.Whip_poor_Will             test samples 10   , training samples 39   : 0.5\n",
      "106.Horned_Puffin              test samples 12   , training samples 48   : 0.75\n",
      "107.Common_Raven               test samples 12   , training samples 47   : 0.25\n",
      "108.White_necked_Raven         test samples 12   , training samples 48   : 0.5\n",
      "109.American_Redstart          test samples 12   , training samples 48   : 1.0\n",
      "110.Geococcyx                  test samples 12   , training samples 48   : 0.8333333333333334\n",
      "111.Loggerhead_Shrike          test samples 12   , training samples 48   : 0.4166666666666667\n",
      "112.Great_Grey_Shrike          test samples 12   , training samples 48   : 0.5\n",
      "113.Baird_Sparrow              test samples 10   , training samples 40   : 0.7\n",
      "114.Black_throated_Sparrow     test samples 12   , training samples 48   : 0.6666666666666666\n",
      "115.Brewer_Sparrow             test samples 12   , training samples 47   : 0.25\n",
      "116.Chipping_Sparrow           test samples 12   , training samples 48   : 0.5833333333333334\n",
      "117.Clay_colored_Sparrow       test samples 12   , training samples 47   : 0.6666666666666666\n",
      "118.House_Sparrow              test samples 12   , training samples 48   : 0.4166666666666667\n",
      "119.Field_Sparrow              test samples 12   , training samples 47   : 0.5\n",
      "120.Fox_Sparrow                test samples 12   , training samples 48   : 0.75\n",
      "121.Grasshopper_Sparrow        test samples 12   , training samples 48   : 0.08333333333333333\n",
      "122.Harris_Sparrow             test samples 12   , training samples 48   : 0.5\n",
      "123.Henslow_Sparrow            test samples 12   , training samples 48   : 0.3333333333333333\n",
      "124.Le_Conte_Sparrow           test samples 12   , training samples 47   : 0.4166666666666667\n",
      "125.Lincoln_Sparrow            test samples 12   , training samples 47   : 0.5833333333333334\n",
      "126.Nelson_Sharp_tailed_Sparrow test samples 12   , training samples 47   : 0.75\n",
      "127.Savannah_Sparrow           test samples 12   , training samples 48   : 0.16666666666666666\n",
      "128.Seaside_Sparrow            test samples 12   , training samples 48   : 0.6666666666666666\n",
      "129.Song_Sparrow               test samples 12   , training samples 48   : 0.3333333333333333\n",
      "130.Tree_Sparrow               test samples 12   , training samples 48   : 0.4166666666666667\n",
      "131.Vesper_Sparrow             test samples 12   , training samples 48   : 0.5833333333333334\n",
      "132.White_crowned_Sparrow      test samples 12   , training samples 48   : 0.5833333333333334\n",
      "133.White_throated_Sparrow     test samples 12   , training samples 48   : 0.5833333333333334\n",
      "134.Cape_Glossy_Starling       test samples 12   , training samples 48   : 0.75\n",
      "135.Bank_Swallow               test samples 12   , training samples 47   : 0.5\n",
      "136.Barn_Swallow               test samples 12   , training samples 48   : 0.75\n",
      "137.Cliff_Swallow              test samples 12   , training samples 48   : 0.3333333333333333\n",
      "138.Tree_Swallow               test samples 12   , training samples 48   : 0.5833333333333334\n",
      "139.Scarlet_Tanager            test samples 12   , training samples 48   : 0.9166666666666666\n",
      "140.Summer_Tanager             test samples 12   , training samples 48   : 0.8333333333333334\n",
      "141.Artic_Tern                 test samples 11   , training samples 47   : 0.9090909090909091\n",
      "142.Black_Tern                 test samples 12   , training samples 48   : 0.25\n",
      "143.Caspian_Tern               test samples 12   , training samples 48   : 0.25\n",
      "144.Common_Tern                test samples 12   , training samples 48   : 0.3333333333333333\n",
      "145.Elegant_Tern               test samples 12   , training samples 48   : 0.4166666666666667\n",
      "146.Forsters_Tern              test samples 12   , training samples 48   : 0.4166666666666667\n",
      "147.Least_Tern                 test samples 12   , training samples 48   : 0.8333333333333334\n",
      "148.Green_tailed_Towhee        test samples 12   , training samples 48   : 0.6666666666666666\n",
      "149.Brown_Thrasher             test samples 12   , training samples 47   : 0.5833333333333334\n",
      "150.Sage_Thrasher              test samples 12   , training samples 48   : 0.4166666666666667\n",
      "151.Black_capped_Vireo         test samples 10   , training samples 41   : 0.4\n",
      "152.Blue_headed_Vireo          test samples 12   , training samples 48   : 0.6666666666666666\n",
      "153.Philadelphia_Vireo         test samples 12   , training samples 47   : 0.5\n",
      "154.Red_eyed_Vireo             test samples 12   , training samples 48   : 0.3333333333333333\n",
      "155.Warbling_Vireo             test samples 12   , training samples 48   : 0.4166666666666667\n",
      "156.White_eyed_Vireo           test samples 12   , training samples 48   : 0.6666666666666666\n",
      "157.Yellow_throated_Vireo      test samples 12   , training samples 47   : 0.4166666666666667\n",
      "158.Bay_breasted_Warbler       test samples 12   , training samples 48   : 0.75\n",
      "159.Black_and_white_Warbler    test samples 12   , training samples 48   : 0.8333333333333334\n",
      "160.Black_throated_Blue_Warbler test samples 12   , training samples 47   : 0.5833333333333334\n",
      "161.Blue_winged_Warbler        test samples 12   , training samples 48   : 0.6666666666666666\n",
      "162.Canada_Warbler             test samples 12   , training samples 48   : 0.5833333333333334\n",
      "163.Cape_May_Warbler           test samples 12   , training samples 48   : 0.9166666666666666\n",
      "164.Cerulean_Warbler           test samples 12   , training samples 48   : 1.0\n",
      "165.Chestnut_sided_Warbler     test samples 12   , training samples 48   : 0.8333333333333334\n",
      "166.Golden_winged_Warbler      test samples 12   , training samples 47   : 0.8333333333333334\n",
      "167.Hooded_Warbler             test samples 12   , training samples 48   : 0.5\n",
      "168.Kentucky_Warbler           test samples 12   , training samples 47   : 0.6666666666666666\n",
      "169.Magnolia_Warbler           test samples 12   , training samples 47   : 0.9166666666666666\n",
      "170.Mourning_Warbler           test samples 12   , training samples 48   : 0.75\n",
      "171.Myrtle_Warbler             test samples 12   , training samples 48   : 0.6666666666666666\n",
      "172.Nashville_Warbler          test samples 12   , training samples 48   : 0.4166666666666667\n",
      "173.Orange_crowned_Warbler     test samples 12   , training samples 48   : 0.5833333333333334\n",
      "174.Palm_Warbler               test samples 12   , training samples 48   : 0.3333333333333333\n",
      "175.Pine_Warbler               test samples 12   , training samples 48   : 0.3333333333333333\n",
      "176.Prairie_Warbler            test samples 12   , training samples 48   : 0.8333333333333334\n",
      "177.Prothonotary_Warbler       test samples 12   , training samples 48   : 0.9166666666666666\n",
      "178.Swainson_Warbler           test samples 11   , training samples 45   : 0.5454545454545454\n",
      "179.Tennessee_Warbler          test samples 12   , training samples 47   : 0.08333333333333333\n",
      "180.Wilson_Warbler             test samples 12   , training samples 48   : 0.75\n",
      "181.Worm_eating_Warbler        test samples 12   , training samples 47   : 0.5833333333333334\n",
      "182.Yellow_Warbler             test samples 12   , training samples 48   : 0.5833333333333334\n",
      "183.Northern_Waterthrush       test samples 12   , training samples 48   : 0.75\n",
      "184.Louisiana_Waterthrush      test samples 12   , training samples 48   : 0.25\n",
      "185.Bohemian_Waxwing           test samples 12   , training samples 48   : 0.75\n",
      "186.Cedar_Waxwing              test samples 12   , training samples 48   : 0.75\n",
      "187.American_Three_toed_Woodpecker test samples 10   , training samples 40   : 0.7\n",
      "188.Pileated_Woodpecker        test samples 12   , training samples 48   : 0.6666666666666666\n",
      "189.Red_bellied_Woodpecker     test samples 12   , training samples 48   : 1.0\n",
      "190.Red_cockaded_Woodpecker    test samples 11   , training samples 47   : 0.7272727272727273\n",
      "191.Red_headed_Woodpecker      test samples 12   , training samples 48   : 0.75\n",
      "192.Downy_Woodpecker           test samples 12   , training samples 48   : 1.0\n",
      "193.Bewick_Wren                test samples 12   , training samples 48   : 0.4166666666666667\n",
      "194.Cactus_Wren                test samples 12   , training samples 48   : 0.5\n",
      "195.Carolina_Wren              test samples 12   , training samples 48   : 0.6666666666666666\n",
      "196.House_Wren                 test samples 12   , training samples 47   : 0.25\n",
      "197.Marsh_Wren                 test samples 12   , training samples 48   : 0.4166666666666667\n",
      "198.Rock_Wren                  test samples 12   , training samples 48   : 0.6666666666666666\n",
      "199.Winter_Wren                test samples 12   , training samples 48   : 0.5833333333333334\n",
      "200.Common_Yellowthroat        test samples 12   , training samples 48   : 0.75\n"
     ]
    }
   ],
   "source": [
    "acc_dict2 = {}\n",
    "for i in test_labels.unique():\n",
    "    new_labels = test_labels[test_labels==i]\n",
    "    new_embeddings = test_embeddings[test_labels==i]\n",
    "    accuracies = accuracy_calculator.get_accuracy(\n",
    "        new_embeddings, new_labels, train_embeddings, train_labels, False\n",
    "    )\n",
    "    acc_dict2[data_dict[int(i.detach().cpu().numpy())]]=[ \n",
    "                  len(new_labels),\n",
    "                  len(train_labels[train_labels==i]),\n",
    "                  accuracies[\"precision_at_1\"]]\n",
    "    print(\"{:<30} test samples {:<5}, training samples {:<5}: {}\".format(data_dict[int(i.detach().cpu().numpy())],\n",
    "                                                                  len(new_labels),\n",
    "                                                                  len(train_labels[train_labels==i]),\n",
    "                                                                  accuracies[\"precision_at_1\"]))"
   ]
  },
  {
   "cell_type": "code",
   "execution_count": 60,
   "id": "a4b11cdb-01fc-426d-8708-aa4bd126db7c",
   "metadata": {},
   "outputs": [],
   "source": [
    "all_table = [[k]+v for k,v in acc_dict2.items()]\n",
    "columns = [\"class_name\", \"no. of test samples\", \"no. of train samples\", \"precision@1\"]\n",
    "train_table = wandb.Table(data=all_table, columns=columns)\n",
    "run.log({\"limited_classes_metrics\": train_table})"
   ]
  },
  {
   "cell_type": "code",
   "execution_count": 61,
   "id": "da619f84-3f14-4f62-95e1-09970154fd4c",
   "metadata": {},
   "outputs": [],
   "source": [
    "import faiss\n",
    "# Create a Faiss index\n",
    "index = faiss.IndexFlatIP(config['embedding_dim'])\n",
    "# Add some vectors to the index\n",
    "index.add(train_embeddings.detach().cpu().numpy())"
   ]
  },
  {
   "cell_type": "code",
   "execution_count": 62,
   "id": "1ee1a034-2fb6-4c8a-83a6-5dd028770c4d",
   "metadata": {},
   "outputs": [],
   "source": [
    "pred_labels = [] \n",
    "for embedding,label in zip(test_embeddings.detach().cpu().numpy(),test_labels):\n",
    "    distances, indices = index.search(embedding.reshape(1,-1).astype(np.float32), 2)\n",
    "    pred_class = train_labels[indices[0][1]]\n",
    "    pred_labels.append(pred_class)"
   ]
  },
  {
   "cell_type": "code",
   "execution_count": 63,
   "id": "7648e35a-de8c-42cc-aa9d-19fea3acdfcb",
   "metadata": {},
   "outputs": [],
   "source": [
    "pred_labels = [i.detach().cpu().numpy() for i in pred_labels]"
   ]
  },
  {
   "cell_type": "code",
   "execution_count": 64,
   "id": "0fd4ff45-4722-456e-81c0-c7a2cb8e31c7",
   "metadata": {
    "scrolled": true
   },
   "outputs": [
    {
     "name": "stdout",
     "output_type": "stream",
     "text": [
      "                                    precision    recall  f1-score   support\n",
      "\n",
      "        001.Black_footed_Albatross       0.38      0.75      0.50        12\n",
      "              002.Laysan_Albatross       0.43      0.50      0.46        12\n",
      "               003.Sooty_Albatross       0.36      0.33      0.35        12\n",
      "             004.Groove_billed_Ani       0.48      0.83      0.61        12\n",
      "                005.Crested_Auklet       0.75      0.67      0.71         9\n",
      "                  006.Least_Auklet       0.60      0.75      0.67         8\n",
      "               007.Parakeet_Auklet       0.80      0.80      0.80        10\n",
      "             008.Rhinoceros_Auklet       0.50      0.22      0.31         9\n",
      "              009.Brewer_Blackbird       0.40      0.33      0.36        12\n",
      "          010.Red_winged_Blackbird       0.90      0.75      0.82        12\n",
      "               011.Rusty_Blackbird       0.57      0.33      0.42        12\n",
      "       012.Yellow_headed_Blackbird       0.83      0.91      0.87        11\n",
      "                      013.Bobolink       0.67      0.67      0.67        12\n",
      "                014.Indigo_Bunting       0.48      0.92      0.63        12\n",
      "                015.Lazuli_Bunting       0.75      0.55      0.63        11\n",
      "               016.Painted_Bunting       1.00      0.73      0.84        11\n",
      "                      017.Cardinal       0.67      0.55      0.60        11\n",
      "               018.Spotted_Catbird       0.73      0.89      0.80         9\n",
      "                  019.Gray_Catbird       0.80      0.67      0.73        12\n",
      "          020.Yellow_breasted_Chat       0.56      0.42      0.48        12\n",
      "                021.Eastern_Towhee       0.70      0.58      0.64        12\n",
      "              022.Chuck_will_Widow       0.55      0.55      0.55        11\n",
      "              023.Brandt_Cormorant       0.62      0.42      0.50        12\n",
      "           024.Red_faced_Cormorant       0.62      0.80      0.70        10\n",
      "             025.Pelagic_Cormorant       0.46      0.50      0.48        12\n",
      "               026.Bronzed_Cowbird       0.75      0.75      0.75        12\n",
      "                 027.Shiny_Cowbird       0.36      0.33      0.35        12\n",
      "                 028.Brown_Creeper       0.82      0.75      0.78        12\n",
      "                 029.American_Crow       0.32      0.58      0.41        12\n",
      "                     030.Fish_Crow       0.44      0.33      0.38        12\n",
      "           031.Black_billed_Cuckoo       0.33      0.33      0.33        12\n",
      "               032.Mangrove_Cuckoo       0.60      0.60      0.60        10\n",
      "          033.Yellow_billed_Cuckoo       0.50      0.42      0.45        12\n",
      "       034.Gray_crowned_Rosy_Finch       0.83      0.83      0.83        12\n",
      "                  035.Purple_Finch       0.79      0.92      0.85        12\n",
      "              036.Northern_Flicker       0.78      0.58      0.67        12\n",
      "            037.Acadian_Flycatcher       0.33      0.33      0.33        12\n",
      "      038.Great_Crested_Flycatcher       0.56      0.42      0.48        12\n",
      "              039.Least_Flycatcher       0.25      0.33      0.29        12\n",
      "        040.Olive_sided_Flycatcher       0.45      0.42      0.43        12\n",
      "     041.Scissor_tailed_Flycatcher       0.70      0.58      0.64        12\n",
      "          042.Vermilion_Flycatcher       0.92      1.00      0.96        12\n",
      "     043.Yellow_bellied_Flycatcher       0.33      0.25      0.29        12\n",
      "                   044.Frigatebird       0.75      0.50      0.60        12\n",
      "               045.Northern_Fulmar       0.75      0.50      0.60        12\n",
      "                       046.Gadwall       0.71      0.83      0.77        12\n",
      "            047.American_Goldfinch       0.90      0.75      0.82        12\n",
      "            048.European_Goldfinch       0.92      0.92      0.92        12\n",
      "           049.Boat_tailed_Grackle       0.55      0.50      0.52        12\n",
      "                   050.Eared_Grebe       0.50      0.58      0.54        12\n",
      "                  051.Horned_Grebe       0.78      0.58      0.67        12\n",
      "             052.Pied_billed_Grebe       0.69      0.75      0.72        12\n",
      "                 053.Western_Grebe       0.85      0.92      0.88        12\n",
      "                 054.Blue_Grosbeak       0.62      0.42      0.50        12\n",
      "              055.Evening_Grosbeak       0.92      0.92      0.92        12\n",
      "                 056.Pine_Grosbeak       0.56      0.75      0.64        12\n",
      "        057.Rose_breasted_Grosbeak       1.00      0.92      0.96        12\n",
      "              058.Pigeon_Guillemot       0.80      0.67      0.73        12\n",
      "               059.California_Gull       0.30      0.25      0.27        12\n",
      "          060.Glaucous_winged_Gull       0.20      0.17      0.18        12\n",
      "                 061.Heermann_Gull       0.67      0.83      0.74        12\n",
      "                  062.Herring_Gull       0.18      0.17      0.17        12\n",
      "                    063.Ivory_Gull       0.80      0.67      0.73        12\n",
      "              064.Ring_billed_Gull       0.45      0.42      0.43        12\n",
      "             065.Slaty_backed_Gull       0.50      0.30      0.38        10\n",
      "                  066.Western_Gull       0.47      0.67      0.55        12\n",
      "              067.Anna_Hummingbird       0.58      0.58      0.58        12\n",
      "     068.Ruby_throated_Hummingbird       0.75      0.75      0.75        12\n",
      "            069.Rufous_Hummingbird       0.71      0.83      0.77        12\n",
      "               070.Green_Violetear       0.85      0.92      0.88        12\n",
      "            071.Long_tailed_Jaeger       0.40      0.33      0.36        12\n",
      "               072.Pomarine_Jaeger       0.43      0.25      0.32        12\n",
      "                      073.Blue_Jay       0.82      0.75      0.78        12\n",
      "                   074.Florida_Jay       0.83      0.83      0.83        12\n",
      "                     075.Green_Jay       0.89      0.73      0.80        11\n",
      "               076.Dark_eyed_Junco       0.79      0.92      0.85        12\n",
      "             077.Tropical_Kingbird       0.56      0.75      0.64        12\n",
      "                 078.Gray_Kingbird       0.71      0.42      0.53        12\n",
      "             079.Belted_Kingfisher       0.58      0.58      0.58        12\n",
      "              080.Green_Kingfisher       0.78      0.58      0.67        12\n",
      "               081.Pied_Kingfisher       0.73      0.92      0.81        12\n",
      "             082.Ringed_Kingfisher       0.53      0.75      0.62        12\n",
      "     083.White_breasted_Kingfisher       0.92      0.92      0.92        12\n",
      "          084.Red_legged_Kittiwake       0.64      0.70      0.67        10\n",
      "                   085.Horned_Lark       0.80      0.67      0.73        12\n",
      "                  086.Pacific_Loon       0.62      0.67      0.64        12\n",
      "                       087.Mallard       1.00      0.83      0.91        12\n",
      "            088.Western_Meadowlark       0.79      0.92      0.85        12\n",
      "              089.Hooded_Merganser       1.00      0.92      0.96        12\n",
      "        090.Red_breasted_Merganser       0.65      0.92      0.76        12\n",
      "                   091.Mockingbird       0.33      0.08      0.13        12\n",
      "                     092.Nighthawk       0.64      0.75      0.69        12\n",
      "              093.Clark_Nutcracker       0.92      0.92      0.92        12\n",
      "       094.White_breasted_Nuthatch       0.75      1.00      0.86        12\n",
      "              095.Baltimore_Oriole       0.79      0.92      0.85        12\n",
      "                 096.Hooded_Oriole       0.71      0.83      0.77        12\n",
      "                097.Orchard_Oriole       0.83      0.42      0.56        12\n",
      "                  098.Scott_Oriole       0.77      0.83      0.80        12\n",
      "                      099.Ovenbird       0.73      0.67      0.70        12\n",
      "                 100.Brown_Pelican       0.73      0.92      0.81        12\n",
      "                 101.White_Pelican       0.82      0.90      0.86        10\n",
      "            102.Western_Wood_Pewee       0.20      0.25      0.22        12\n",
      "                      103.Sayornis       0.33      0.33      0.33        12\n",
      "                104.American_Pipit       0.22      0.33      0.27        12\n",
      "                105.Whip_poor_Will       0.58      0.70      0.64        10\n",
      "                 106.Horned_Puffin       1.00      0.67      0.80        12\n",
      "                  107.Common_Raven       0.36      0.42      0.38        12\n",
      "            108.White_necked_Raven       0.57      0.33      0.42        12\n",
      "             109.American_Redstart       0.75      1.00      0.86        12\n",
      "                     110.Geococcyx       0.85      0.92      0.88        12\n",
      "             111.Loggerhead_Shrike       0.31      0.33      0.32        12\n",
      "             112.Great_Grey_Shrike       0.47      0.58      0.52        12\n",
      "                 113.Baird_Sparrow       0.27      0.40      0.32        10\n",
      "        114.Black_throated_Sparrow       0.43      0.50      0.46        12\n",
      "                115.Brewer_Sparrow       0.33      0.33      0.33        12\n",
      "              116.Chipping_Sparrow       0.33      0.50      0.40        12\n",
      "          117.Clay_colored_Sparrow       0.43      0.50      0.46        12\n",
      "                 118.House_Sparrow       0.50      0.25      0.33        12\n",
      "                 119.Field_Sparrow       0.38      0.42      0.40        12\n",
      "                   120.Fox_Sparrow       0.40      0.50      0.44        12\n",
      "           121.Grasshopper_Sparrow       0.43      0.25      0.32        12\n",
      "                122.Harris_Sparrow       0.75      0.50      0.60        12\n",
      "               123.Henslow_Sparrow       0.47      0.58      0.52        12\n",
      "              124.Le_Conte_Sparrow       0.58      0.58      0.58        12\n",
      "               125.Lincoln_Sparrow       0.44      0.33      0.38        12\n",
      "   126.Nelson_Sharp_tailed_Sparrow       0.60      0.75      0.67        12\n",
      "              127.Savannah_Sparrow       0.41      0.58      0.48        12\n",
      "               128.Seaside_Sparrow       0.75      0.50      0.60        12\n",
      "                  129.Song_Sparrow       0.30      0.25      0.27        12\n",
      "                  130.Tree_Sparrow       0.42      0.42      0.42        12\n",
      "                131.Vesper_Sparrow       0.29      0.42      0.34        12\n",
      "         132.White_crowned_Sparrow       0.55      0.50      0.52        12\n",
      "        133.White_throated_Sparrow       0.47      0.67      0.55        12\n",
      "          134.Cape_Glossy_Starling       1.00      0.83      0.91        12\n",
      "                  135.Bank_Swallow       0.20      0.25      0.22        12\n",
      "                  136.Barn_Swallow       0.67      0.50      0.57        12\n",
      "                 137.Cliff_Swallow       0.55      0.50      0.52        12\n",
      "                  138.Tree_Swallow       0.56      0.75      0.64        12\n",
      "               139.Scarlet_Tanager       0.71      0.83      0.77        12\n",
      "                140.Summer_Tanager       0.67      0.50      0.57        12\n",
      "                    141.Artic_Tern       0.44      0.73      0.55        11\n",
      "                    142.Black_Tern       0.33      0.33      0.33        12\n",
      "                  143.Caspian_Tern       0.38      0.42      0.40        12\n",
      "                   144.Common_Tern       0.20      0.17      0.18        12\n",
      "                  145.Elegant_Tern       0.33      0.25      0.29        12\n",
      "                 146.Forsters_Tern       0.50      0.58      0.54        12\n",
      "                    147.Least_Tern       0.91      0.83      0.87        12\n",
      "           148.Green_tailed_Towhee       0.82      0.75      0.78        12\n",
      "                149.Brown_Thrasher       0.45      0.42      0.43        12\n",
      "                 150.Sage_Thrasher       0.39      0.58      0.47        12\n",
      "            151.Black_capped_Vireo       0.75      0.60      0.67        10\n",
      "             152.Blue_headed_Vireo       0.60      0.50      0.55        12\n",
      "            153.Philadelphia_Vireo       0.44      0.67      0.53        12\n",
      "                154.Red_eyed_Vireo       0.47      0.67      0.55        12\n",
      "                155.Warbling_Vireo       0.36      0.33      0.35        12\n",
      "              156.White_eyed_Vireo       0.56      0.42      0.48        12\n",
      "         157.Yellow_throated_Vireo       0.42      0.42      0.42        12\n",
      "          158.Bay_breasted_Warbler       0.64      0.58      0.61        12\n",
      "       159.Black_and_white_Warbler       0.77      0.83      0.80        12\n",
      "   160.Black_throated_Blue_Warbler       0.91      0.83      0.87        12\n",
      "           161.Blue_winged_Warbler       0.64      0.58      0.61        12\n",
      "                162.Canada_Warbler       0.50      0.25      0.33        12\n",
      "              163.Cape_May_Warbler       0.64      0.75      0.69        12\n",
      "              164.Cerulean_Warbler       0.67      0.83      0.74        12\n",
      "        165.Chestnut_sided_Warbler       0.58      0.58      0.58        12\n",
      "         166.Golden_winged_Warbler       0.89      0.67      0.76        12\n",
      "                167.Hooded_Warbler       0.62      0.67      0.64        12\n",
      "              168.Kentucky_Warbler       0.83      0.83      0.83        12\n",
      "              169.Magnolia_Warbler       0.69      0.75      0.72        12\n",
      "              170.Mourning_Warbler       0.64      0.75      0.69        12\n",
      "                171.Myrtle_Warbler       0.78      0.58      0.67        12\n",
      "             172.Nashville_Warbler       0.33      0.33      0.33        12\n",
      "        173.Orange_crowned_Warbler       0.29      0.50      0.36        12\n",
      "                  174.Palm_Warbler       0.60      0.25      0.35        12\n",
      "                  175.Pine_Warbler       0.55      0.50      0.52        12\n",
      "               176.Prairie_Warbler       0.82      0.75      0.78        12\n",
      "          177.Prothonotary_Warbler       0.53      0.67      0.59        12\n",
      "              178.Swainson_Warbler       0.43      0.27      0.33        11\n",
      "             179.Tennessee_Warbler       0.36      0.42      0.38        12\n",
      "                180.Wilson_Warbler       0.57      0.67      0.62        12\n",
      "           181.Worm_eating_Warbler       0.78      0.58      0.67        12\n",
      "                182.Yellow_Warbler       0.46      0.50      0.48        12\n",
      "          183.Northern_Waterthrush       0.45      0.42      0.43        12\n",
      "         184.Louisiana_Waterthrush       1.00      0.25      0.40        12\n",
      "              185.Bohemian_Waxwing       0.80      0.67      0.73        12\n",
      "                 186.Cedar_Waxwing       0.91      0.83      0.87        12\n",
      "187.American_Three_toed_Woodpecker       0.88      0.70      0.78        10\n",
      "           188.Pileated_Woodpecker       0.73      0.67      0.70        12\n",
      "        189.Red_bellied_Woodpecker       0.86      1.00      0.92        12\n",
      "       190.Red_cockaded_Woodpecker       0.82      0.82      0.82        11\n",
      "         191.Red_headed_Woodpecker       0.83      0.83      0.83        12\n",
      "              192.Downy_Woodpecker       0.86      1.00      0.92        12\n",
      "                   193.Bewick_Wren       0.42      0.42      0.42        12\n",
      "                   194.Cactus_Wren       0.55      0.50      0.52        12\n",
      "                 195.Carolina_Wren       0.60      0.50      0.55        12\n",
      "                    196.House_Wren       0.71      0.42      0.53        12\n",
      "                    197.Marsh_Wren       0.20      0.08      0.12        12\n",
      "                     198.Rock_Wren       0.62      0.67      0.64        12\n",
      "                   199.Winter_Wren       0.75      0.75      0.75        12\n",
      "           200.Common_Yellowthroat       0.80      0.67      0.73        12\n",
      "\n",
      "                          accuracy                           0.60      2358\n",
      "                         macro avg       0.61      0.60      0.59      2358\n",
      "                      weighted avg       0.61      0.60      0.59      2358\n",
      "\n"
     ]
    }
   ],
   "source": [
    "from sklearn.metrics import classification_report\n",
    "print(classification_report(test_labels.detach().cpu().numpy(), pred_labels, target_names=list(class_dict.keys())))"
   ]
  },
  {
   "cell_type": "code",
   "execution_count": 65,
   "id": "f6154bd0-11f0-42b4-b860-b3b34ea93d52",
   "metadata": {},
   "outputs": [],
   "source": [
    "from sklearn.metrics import classification_report\n",
    "report = classification_report(test_labels.detach().cpu().numpy(), pred_labels, target_names=list(class_dict.keys()),output_dict=True)\n",
    "df = pd.DataFrame(report).transpose()\n",
    "df.reset_index(inplace=True)\n",
    "df.rename(columns={\"index\":'class_name'},inplace=True)\n",
    "classification_report_table = wandb.Table(dataframe=df)"
   ]
  },
  {
   "cell_type": "code",
   "execution_count": 66,
   "id": "8967c721-10c7-4d82-9c44-cf69368c9cf2",
   "metadata": {},
   "outputs": [],
   "source": [
    "run.log({\"limited_classes_classification_report\": classification_report_table})"
   ]
  },
  {
   "cell_type": "markdown",
   "id": "25ca19e9-fde4-4738-b3fe-35d7f6c3f8b8",
   "metadata": {},
   "source": [
    "## metric drop for unseen classes"
   ]
  },
  {
   "cell_type": "code",
   "execution_count": 83,
   "id": "308604b3-e2e4-48ce-b3a8-09b38ca315df",
   "metadata": {},
   "outputs": [],
   "source": [
    "unseen_class_names = sorted(key for key in acc_dict.keys() if int(key.split('.')[0]) >= 180)"
   ]
  },
  {
   "cell_type": "code",
   "execution_count": 84,
   "id": "b27e7a53-584d-410e-ad34-466aedca1350",
   "metadata": {
    "scrolled": true
   },
   "outputs": [],
   "source": [
    "comparison_table_data = []\n",
    "for class_name in unseen_class_names:\n",
    "    comparison_table_data.append([class_name,acc_dict[class_name][-1],acc_dict2[class_name][-1]])"
   ]
  },
  {
   "cell_type": "code",
   "execution_count": 85,
   "id": "abe4a706-16b2-46ac-8954-2d5ceb07abf8",
   "metadata": {},
   "outputs": [
    {
     "data": {
      "text/plain": [
       "[['180.Wilson_Warbler', 0.3333333333333333, 0.75],\n",
       " ['181.Worm_eating_Warbler', 0.6666666666666666, 0.5833333333333334],\n",
       " ['182.Yellow_Warbler', 0.5, 0.5833333333333334],\n",
       " ['183.Northern_Waterthrush', 0.6666666666666666, 0.75],\n",
       " ['184.Louisiana_Waterthrush', 0.4166666666666667, 0.25],\n",
       " ['185.Bohemian_Waxwing', 0.9166666666666666, 0.75],\n",
       " ['186.Cedar_Waxwing', 0.8333333333333334, 0.75],\n",
       " ['187.American_Three_toed_Woodpecker', 0.9, 0.7],\n",
       " ['188.Pileated_Woodpecker', 0.8333333333333334, 0.6666666666666666],\n",
       " ['189.Red_bellied_Woodpecker', 1.0, 1.0],\n",
       " ['190.Red_cockaded_Woodpecker', 0.9090909090909091, 0.7272727272727273],\n",
       " ['191.Red_headed_Woodpecker', 0.75, 0.75],\n",
       " ['192.Downy_Woodpecker', 1.0, 1.0],\n",
       " ['193.Bewick_Wren', 0.5, 0.4166666666666667],\n",
       " ['194.Cactus_Wren', 0.9166666666666666, 0.5],\n",
       " ['195.Carolina_Wren', 0.9166666666666666, 0.6666666666666666],\n",
       " ['196.House_Wren', 0.6666666666666666, 0.25],\n",
       " ['197.Marsh_Wren', 0.5833333333333334, 0.4166666666666667],\n",
       " ['198.Rock_Wren', 0.6666666666666666, 0.6666666666666666],\n",
       " ['199.Winter_Wren', 0.9166666666666666, 0.5833333333333334],\n",
       " ['200.Common_Yellowthroat', 0.8333333333333334, 0.75]]"
      ]
     },
     "execution_count": 85,
     "metadata": {},
     "output_type": "execute_result"
    }
   ],
   "source": [
    "comparison_table_data"
   ]
  },
  {
   "cell_type": "code",
   "execution_count": 71,
   "id": "2400629c-33f5-4b19-bbab-9d75c92dd6d4",
   "metadata": {},
   "outputs": [],
   "source": [
    "comparison_table = wandb.Table(data=comparison_table_data, columns=['class_name','all_classes_precision@1','unseen_classes_precision@1'])"
   ]
  },
  {
   "cell_type": "code",
   "execution_count": 72,
   "id": "daa9ab4f-6abe-4469-91b8-2c48f17f7400",
   "metadata": {},
   "outputs": [],
   "source": [
    "run.log({\"comparison_unseen_classes_metrics\": comparison_table})"
   ]
  },
  {
   "cell_type": "code",
   "execution_count": 73,
   "id": "288120aa-ccc7-4249-8498-63c82972342a",
   "metadata": {},
   "outputs": [],
   "source": [
    "precisions = np.array(comparison_table_data)[:,1:3].astype(np.float32)"
   ]
  },
  {
   "cell_type": "code",
   "execution_count": 74,
   "id": "aea80d7d-48d9-45b2-9b80-50df8c6f2e73",
   "metadata": {},
   "outputs": [],
   "source": [
    "wandb.log({'precision_drop_unseen_classes':np.mean(np.subtract(precisions[:,0],precisions[:,1]))})"
   ]
  },
  {
   "cell_type": "code",
   "execution_count": 87,
   "id": "af46aba2-37f3-486f-9e25-cfa7eda1ef9f",
   "metadata": {},
   "outputs": [
    {
     "data": {
      "text/plain": [
       "0.74884564"
      ]
     },
     "execution_count": 87,
     "metadata": {},
     "output_type": "execute_result"
    }
   ],
   "source": [
    "np.mean(np.array(comparison_table_data)[:,1].astype(np.float32))"
   ]
  },
  {
   "cell_type": "code",
   "execution_count": 88,
   "id": "66bba804-8b69-429b-a366-a4e4663cd5c4",
   "metadata": {},
   "outputs": [],
   "source": [
    "table = wandb.Table(data=[['trained',round(np.mean(np.array(comparison_table_data)[:,1].astype(np.float32)),2)],\n",
    "                          ['untrained',np.mean(np.array(comparison_table_data)[:,2].astype(np.float32))]],\n",
    "                    columns = [\"label\", \"value\"])"
   ]
  },
  {
   "cell_type": "code",
   "execution_count": 89,
   "id": "c27203e6-bec2-4ec7-8a55-e28a126d1fc2",
   "metadata": {},
   "outputs": [],
   "source": [
    "wandb.log({\"avg_precision_unseen_classes_chart\" : wandb.plot.bar(table, \"label\", \"value\",title=\"avg_precision_unseen_classes_chart\")})"
   ]
  },
  {
   "cell_type": "markdown",
   "id": "8474d6e8-63e1-4bd8-b170-b13a1803634e",
   "metadata": {},
   "source": [
    "## metric drop for all classes because of new unseen classes"
   ]
  },
  {
   "cell_type": "code",
   "execution_count": 76,
   "id": "0d53c17d-3ee9-4947-84a0-61e87855daf0",
   "metadata": {},
   "outputs": [],
   "source": [
    "comparison_table_data = []\n",
    "for class_name in acc_dict.keys():\n",
    "    comparison_table_data.append([class_name,acc_dict[class_name][-1],acc_dict2[class_name][-1]])"
   ]
  },
  {
   "cell_type": "code",
   "execution_count": 77,
   "id": "bd465f2b-8fd1-419f-a3bb-8daa56d9956e",
   "metadata": {},
   "outputs": [],
   "source": [
    "precisions = np.array(comparison_table_data)[:,1:3].astype(np.float32)"
   ]
  },
  {
   "cell_type": "code",
   "execution_count": 78,
   "id": "2af3e145-3fd1-4e2f-b10e-8ed86ecda2b5",
   "metadata": {},
   "outputs": [
    {
     "data": {
      "text/plain": [
       "array([[0.75      , 0.75      ],\n",
       "       [0.75      , 0.75      ],\n",
       "       [0.6666667 , 0.5833333 ],\n",
       "       [0.8333333 , 0.8333333 ],\n",
       "       [0.6666667 , 0.8888889 ],\n",
       "       [0.75      , 0.875     ],\n",
       "       [1.        , 1.        ],\n",
       "       [0.5555556 , 0.33333334],\n",
       "       [0.41666666, 0.41666666],\n",
       "       [0.8333333 , 0.8333333 ],\n",
       "       [0.5       , 0.41666666],\n",
       "       [1.        , 0.90909094],\n",
       "       [0.75      , 0.6666667 ],\n",
       "       [0.75      , 0.9166667 ],\n",
       "       [0.72727275, 0.72727275],\n",
       "       [0.72727275, 0.6363636 ],\n",
       "       [0.6363636 , 0.45454547],\n",
       "       [1.        , 0.8888889 ],\n",
       "       [0.75      , 0.6666667 ],\n",
       "       [0.5       , 0.5       ],\n",
       "       [0.75      , 0.6666667 ],\n",
       "       [0.54545456, 0.36363637],\n",
       "       [0.41666666, 0.33333334],\n",
       "       [0.8       , 0.8       ],\n",
       "       [0.41666666, 0.08333334],\n",
       "       [0.5833333 , 0.5833333 ],\n",
       "       [0.25      , 0.16666667],\n",
       "       [1.        , 1.        ],\n",
       "       [0.25      , 0.33333334],\n",
       "       [0.16666667, 0.        ],\n",
       "       [0.6666667 , 0.5833333 ],\n",
       "       [0.6       , 0.6       ],\n",
       "       [0.75      , 0.41666666],\n",
       "       [0.8333333 , 0.75      ],\n",
       "       [0.9166667 , 1.        ],\n",
       "       [0.6666667 , 0.8333333 ],\n",
       "       [0.33333334, 0.5833333 ],\n",
       "       [0.5833333 , 0.5       ],\n",
       "       [0.41666666, 0.25      ],\n",
       "       [0.25      , 0.41666666],\n",
       "       [0.9166667 , 0.6666667 ],\n",
       "       [1.        , 0.8333333 ],\n",
       "       [0.16666667, 0.25      ],\n",
       "       [0.8333333 , 0.8333333 ],\n",
       "       [0.5       , 0.5       ],\n",
       "       [0.9166667 , 0.9166667 ],\n",
       "       [0.75      , 1.        ],\n",
       "       [1.        , 0.8333333 ],\n",
       "       [0.25      , 0.16666667],\n",
       "       [0.75      , 0.5833333 ],\n",
       "       [0.5       , 0.8333333 ],\n",
       "       [0.8333333 , 0.9166667 ],\n",
       "       [0.8333333 , 0.9166667 ],\n",
       "       [0.5833333 , 0.5833333 ],\n",
       "       [1.        , 0.9166667 ],\n",
       "       [0.75      , 0.9166667 ],\n",
       "       [0.9166667 , 0.9166667 ],\n",
       "       [0.75      , 0.75      ],\n",
       "       [0.41666666, 0.41666666],\n",
       "       [0.16666667, 0.25      ],\n",
       "       [0.8333333 , 0.9166667 ],\n",
       "       [0.16666667, 0.25      ],\n",
       "       [1.        , 0.8333333 ],\n",
       "       [0.41666666, 0.41666666],\n",
       "       [0.4       , 0.4       ],\n",
       "       [0.41666666, 0.33333334],\n",
       "       [0.41666666, 0.5833333 ],\n",
       "       [0.6666667 , 0.8333333 ],\n",
       "       [0.8333333 , 0.6666667 ],\n",
       "       [0.9166667 , 0.8333333 ],\n",
       "       [0.25      , 0.16666667],\n",
       "       [0.41666666, 0.33333334],\n",
       "       [0.8333333 , 0.6666667 ],\n",
       "       [0.8333333 , 0.75      ],\n",
       "       [0.90909094, 0.90909094],\n",
       "       [0.9166667 , 0.8333333 ],\n",
       "       [0.8333333 , 0.75      ],\n",
       "       [0.5833333 , 0.41666666],\n",
       "       [0.5833333 , 0.6666667 ],\n",
       "       [0.75      , 0.6666667 ],\n",
       "       [0.75      , 0.8333333 ],\n",
       "       [0.8333333 , 0.75      ],\n",
       "       [0.9166667 , 0.9166667 ],\n",
       "       [0.8       , 0.7       ],\n",
       "       [0.75      , 0.75      ],\n",
       "       [0.6666667 , 0.8333333 ],\n",
       "       [0.9166667 , 0.9166667 ],\n",
       "       [1.        , 0.8333333 ],\n",
       "       [0.8333333 , 0.75      ],\n",
       "       [0.9166667 , 1.        ],\n",
       "       [0.25      , 0.16666667],\n",
       "       [0.75      , 0.5833333 ],\n",
       "       [0.8333333 , 0.8333333 ],\n",
       "       [0.9166667 , 1.        ],\n",
       "       [0.9166667 , 0.6666667 ],\n",
       "       [0.75      , 0.75      ],\n",
       "       [0.5       , 0.41666666],\n",
       "       [0.8333333 , 0.8333333 ],\n",
       "       [0.8333333 , 0.75      ],\n",
       "       [1.        , 1.        ],\n",
       "       [0.9       , 0.9       ],\n",
       "       [0.25      , 0.33333334],\n",
       "       [0.5       , 0.33333334],\n",
       "       [0.5833333 , 0.5       ],\n",
       "       [0.4       , 0.5       ],\n",
       "       [0.8333333 , 0.75      ],\n",
       "       [0.5       , 0.25      ],\n",
       "       [0.5       , 0.5       ],\n",
       "       [0.9166667 , 1.        ],\n",
       "       [0.8333333 , 0.8333333 ],\n",
       "       [0.5       , 0.41666666],\n",
       "       [0.5833333 , 0.5       ],\n",
       "       [0.6       , 0.7       ],\n",
       "       [0.6666667 , 0.6666667 ],\n",
       "       [0.6666667 , 0.25      ],\n",
       "       [0.5833333 , 0.5833333 ],\n",
       "       [0.41666666, 0.6666667 ],\n",
       "       [0.25      , 0.41666666],\n",
       "       [0.75      , 0.5       ],\n",
       "       [0.6666667 , 0.75      ],\n",
       "       [0.41666666, 0.08333334],\n",
       "       [0.6666667 , 0.5       ],\n",
       "       [0.5833333 , 0.33333334],\n",
       "       [0.5833333 , 0.41666666],\n",
       "       [0.41666666, 0.5833333 ],\n",
       "       [0.5833333 , 0.75      ],\n",
       "       [0.5       , 0.16666667],\n",
       "       [0.75      , 0.6666667 ],\n",
       "       [0.33333334, 0.33333334],\n",
       "       [0.5       , 0.41666666],\n",
       "       [0.5833333 , 0.5833333 ],\n",
       "       [0.5833333 , 0.5833333 ],\n",
       "       [0.6666667 , 0.5833333 ],\n",
       "       [0.9166667 , 0.75      ],\n",
       "       [0.41666666, 0.5       ],\n",
       "       [0.75      , 0.75      ],\n",
       "       [0.5       , 0.33333334],\n",
       "       [0.75      , 0.5833333 ],\n",
       "       [0.8333333 , 0.9166667 ],\n",
       "       [0.8333333 , 0.8333333 ],\n",
       "       [0.8181818 , 0.90909094],\n",
       "       [0.33333334, 0.25      ],\n",
       "       [0.33333334, 0.25      ],\n",
       "       [0.5       , 0.33333334],\n",
       "       [0.33333334, 0.41666666],\n",
       "       [0.5       , 0.41666666],\n",
       "       [0.75      , 0.8333333 ],\n",
       "       [0.6666667 , 0.6666667 ],\n",
       "       [0.5833333 , 0.5833333 ],\n",
       "       [0.5       , 0.41666666],\n",
       "       [0.5       , 0.4       ],\n",
       "       [0.6666667 , 0.6666667 ],\n",
       "       [0.6666667 , 0.5       ],\n",
       "       [1.        , 0.33333334],\n",
       "       [0.33333334, 0.41666666],\n",
       "       [0.5833333 , 0.6666667 ],\n",
       "       [0.41666666, 0.41666666],\n",
       "       [0.8333333 , 0.75      ],\n",
       "       [0.9166667 , 0.8333333 ],\n",
       "       [0.6666667 , 0.5833333 ],\n",
       "       [0.75      , 0.6666667 ],\n",
       "       [0.41666666, 0.5833333 ],\n",
       "       [0.75      , 0.9166667 ],\n",
       "       [0.8333333 , 1.        ],\n",
       "       [0.75      , 0.8333333 ],\n",
       "       [0.75      , 0.8333333 ],\n",
       "       [0.9166667 , 0.5       ],\n",
       "       [0.8333333 , 0.6666667 ],\n",
       "       [0.9166667 , 0.9166667 ],\n",
       "       [0.8333333 , 0.75      ],\n",
       "       [0.6666667 , 0.6666667 ],\n",
       "       [0.8333333 , 0.41666666],\n",
       "       [0.5833333 , 0.5833333 ],\n",
       "       [0.5       , 0.33333334],\n",
       "       [0.25      , 0.33333334],\n",
       "       [0.8333333 , 0.8333333 ],\n",
       "       [0.75      , 0.9166667 ],\n",
       "       [0.6363636 , 0.54545456],\n",
       "       [0.25      , 0.08333334],\n",
       "       [0.33333334, 0.75      ],\n",
       "       [0.6666667 , 0.5833333 ],\n",
       "       [0.5       , 0.5833333 ],\n",
       "       [0.6666667 , 0.75      ],\n",
       "       [0.41666666, 0.25      ],\n",
       "       [0.9166667 , 0.75      ],\n",
       "       [0.8333333 , 0.75      ],\n",
       "       [0.9       , 0.7       ],\n",
       "       [0.8333333 , 0.6666667 ],\n",
       "       [1.        , 1.        ],\n",
       "       [0.90909094, 0.72727275],\n",
       "       [0.75      , 0.75      ],\n",
       "       [1.        , 1.        ],\n",
       "       [0.5       , 0.41666666],\n",
       "       [0.9166667 , 0.5       ],\n",
       "       [0.9166667 , 0.6666667 ],\n",
       "       [0.6666667 , 0.25      ],\n",
       "       [0.5833333 , 0.41666666],\n",
       "       [0.6666667 , 0.6666667 ],\n",
       "       [0.9166667 , 0.5833333 ],\n",
       "       [0.8333333 , 0.75      ]], dtype=float32)"
      ]
     },
     "execution_count": 78,
     "metadata": {},
     "output_type": "execute_result"
    }
   ],
   "source": [
    "precisions"
   ]
  },
  {
   "cell_type": "code",
   "execution_count": 79,
   "id": "7d8a6e83-8a54-44f6-9f00-2842e8b53e6a",
   "metadata": {},
   "outputs": [],
   "source": [
    "wandb.log({'precision_drop_all_classes':np.mean(np.subtract(precisions[:,0],precisions[:,1]))})"
   ]
  },
  {
   "cell_type": "code",
   "execution_count": 90,
   "id": "3a2d6dd0-2165-4c2d-a053-51454eed7af9",
   "metadata": {},
   "outputs": [
    {
     "data": {
      "application/vnd.jupyter.widget-view+json": {
       "model_id": "",
       "version_major": 2,
       "version_minor": 0
      },
      "text/plain": [
       "VBox(children=(Label(value='0.108 MB of 0.108 MB uploaded\\r'), FloatProgress(value=1.0, max=1.0)))"
      ]
     },
     "metadata": {},
     "output_type": "display_data"
    },
    {
     "data": {
      "text/html": [
       "<style>\n",
       "    table.wandb td:nth-child(1) { padding: 0 10px; text-align: left ; width: auto;} td:nth-child(2) {text-align: left ; width: 100%}\n",
       "    .wandb-row { display: flex; flex-direction: row; flex-wrap: wrap; justify-content: flex-start; width: 100% }\n",
       "    .wandb-col { display: flex; flex-direction: column; flex-basis: 100%; flex: 1; padding: 10px; }\n",
       "    </style>\n",
       "<div class=\"wandb-row\"><div class=\"wandb-col\"><h3>Run history:</h3><br/><table class=\"wandb\"><tr><td>epoch</td><td>▁▁▂▂▂▃▃▃▄▄▅▅▅▆▆▆▇▇▇█▁▁▂▂▂▃▃▄▄▄▅▅▅▆▆▆▇▇██</td></tr><tr><td>precision_drop_all_classes</td><td>▁</td></tr><tr><td>precision_drop_unseen_classes</td><td>▁</td></tr><tr><td>test_accuracy</td><td>▁▁▂▃▃▄▄▄▄▅▅▅▅▅▆▆▆▆▆▆▇▇▇▇▇▇▇▇▇▇▇▇▇▇██████</td></tr><tr><td>test_accuracy2</td><td>▁▂▃▃▃▄▄▄▄▄▅▅▅▅▆▆▆▆▆▆▆▇▇▇▆▇▇▇▇▇▇▇█▇██████</td></tr><tr><td>train_loss</td><td>██▇▇▇▆▆▅▅▅▅▄▄▄▄▃▃▃▃▃▃▃▃▂▃▂▂▂▂▂▂▁▁▁▁▁▁▁▁▁</td></tr><tr><td>train_loss2</td><td>██▇▇▆▆▆▆▅▅▅▄▄▄▃▃▃▃▃▃▃▃▂▂▂▂▂▂▂▂▂▂▁▂▂▁▁▁▁▁</td></tr></table><br/></div><div class=\"wandb-col\"><h3>Run summary:</h3><br/><table class=\"wandb\"><tr><td>epoch</td><td>100</td></tr><tr><td>precision_drop_all_classes</td><td>0.04457</td></tr><tr><td>precision_drop_unseen_classes</td><td>0.10548</td></tr><tr><td>test_accuracy</td><td>0.65934</td></tr><tr><td>test_accuracy2</td><td>0.67483</td></tr><tr><td>train_loss</td><td>0.40626</td></tr><tr><td>train_loss2</td><td>0.40903</td></tr></table><br/></div></div>"
      ],
      "text/plain": [
       "<IPython.core.display.HTML object>"
      ]
     },
     "metadata": {},
     "output_type": "display_data"
    },
    {
     "data": {
      "text/html": [
       " View run <strong style=\"color:#cdcd00\">cub_triplet_loss_epshn_resnet18x512_sgd_aug</strong> at: <a href='https://wandb.ai/pranavjadhav001/embedding_based_classification/runs/e14agtu5' target=\"_blank\">https://wandb.ai/pranavjadhav001/embedding_based_classification/runs/e14agtu5</a><br/>Synced 6 W&B file(s), 6 media file(s), 6 artifact file(s) and 0 other file(s)"
      ],
      "text/plain": [
       "<IPython.core.display.HTML object>"
      ]
     },
     "metadata": {},
     "output_type": "display_data"
    },
    {
     "data": {
      "text/html": [
       "Find logs at: <code>./wandb/run-20240426_152632-e14agtu5/logs</code>"
      ],
      "text/plain": [
       "<IPython.core.display.HTML object>"
      ]
     },
     "metadata": {},
     "output_type": "display_data"
    }
   ],
   "source": [
    "run.finish()"
   ]
  },
  {
   "cell_type": "code",
   "execution_count": null,
   "id": "111c0597-826f-490d-9ea2-063569064fce",
   "metadata": {},
   "outputs": [],
   "source": []
  }
 ],
 "metadata": {
  "kernelspec": {
   "display_name": "Python 3 (ipykernel)",
   "language": "python",
   "name": "python3"
  },
  "language_info": {
   "codemirror_mode": {
    "name": "ipython",
    "version": 3
   },
   "file_extension": ".py",
   "mimetype": "text/x-python",
   "name": "python",
   "nbconvert_exporter": "python",
   "pygments_lexer": "ipython3",
   "version": "3.10.13"
  }
 },
 "nbformat": 4,
 "nbformat_minor": 5
}
