{
 "cells": [
  {
   "cell_type": "code",
   "execution_count": 1,
   "id": "5ffca082-4e33-4910-bddd-7467769c68a2",
   "metadata": {},
   "outputs": [],
   "source": [
    "import numpy as np\n",
    "import PIL\n",
    "import umap\n",
    "import pandas as pd\n",
    "import json\n",
    "import glob\n",
    "from pytorch_metric_learning import distances, losses, miners, reducers\n",
    "import torch.nn as nn\n",
    "import os\n",
    "import matplotlib.pyplot as plt"
   ]
  },
  {
   "cell_type": "code",
   "execution_count": 2,
   "id": "df805f67-18d4-4f50-a057-90ebe6d234ee",
   "metadata": {},
   "outputs": [],
   "source": [
    "import torch\n",
    "import torchvision\n",
    "from torchvision import models\n",
    "import torch\n",
    "import torch.nn as nn\n",
    "import torch.nn.functional as F\n",
    "import torch.optim as optim\n",
    "from torchvision import datasets, transforms\n",
    "from torch.utils.data.sampler import SubsetRandomSampler\n",
    "from tqdm import tqdm\n",
    "from pytorch_metric_learning import losses, testers\n",
    "from pytorch_metric_learning.utils.accuracy_calculator import AccuracyCalculator"
   ]
  },
  {
   "cell_type": "code",
   "execution_count": 3,
   "id": "e1f8f3ef-c0a5-492e-a89e-a126cd3709cc",
   "metadata": {},
   "outputs": [],
   "source": [
    "%matplotlib inline\n",
    "import torch\n",
    "import torch.nn as nn\n",
    "from matplotlib import pyplot as plt\n",
    "import numpy as np\n",
    "import torchvision\n",
    "import torchvision.datasets as datasets\n",
    "import torchvision.models as models\n",
    "from torchvision import transforms\n",
    "import torch.optim as optim\n",
    "import time\n",
    "import tqdm as tqdm\n",
    "from torch.autograd import Variable"
   ]
  },
  {
   "cell_type": "code",
   "execution_count": 4,
   "id": "e90d2b46-62b6-4d65-accd-b65666481d53",
   "metadata": {},
   "outputs": [
    {
     "name": "stderr",
     "output_type": "stream",
     "text": [
      "\u001b[34m\u001b[1mwandb\u001b[0m: Currently logged in as: \u001b[33mpranavjadhav001\u001b[0m. Use \u001b[1m`wandb login --relogin`\u001b[0m to force relogin\n"
     ]
    },
    {
     "data": {
      "text/plain": [
       "True"
      ]
     },
     "execution_count": 4,
     "metadata": {},
     "output_type": "execute_result"
    }
   ],
   "source": [
    "import wandb\n",
    "import random  # for demo script\n",
    "\n",
    "wandb.login()"
   ]
  },
  {
   "cell_type": "code",
   "execution_count": 4,
   "id": "dfc3914e-3d5f-4c4a-a6d6-6a55ff22c849",
   "metadata": {},
   "outputs": [],
   "source": [
    "config = {\n",
    "    'name':'cub_arcface_resnet18_sgd_aug',\n",
    "    'dataset':'CUB_200_2011',\n",
    "    'random_seed':42,\n",
    "    'model_architecture':'resnet18',\n",
    "    'embedding_dim':128,\n",
    "    'distance':'cosine',\n",
    "    'image_height':224,\n",
    "    'image_width':224,\n",
    "    'train_test_split':0.2,\n",
    "    'class_split':0.1,\n",
    "    'embedding_size':128,\n",
    "    'batch_size':128,\n",
    "    'optimizer':'sgd',\n",
    "    'distance':'cosine',\n",
    "    'learning_rate':0.001,\n",
    "    'num_epochs':100,\n",
    "    'loss':'arcface',\n",
    "    'miner':None,\n",
    "    'reducer':0,\n",
    "    'metric':'precision_at_1',\n",
    "    'model_save_path':'models/cub_arcface_resnet18_sgd_aug',\n",
    "    'temperature': 0.1\n",
    "}"
   ]
  },
  {
   "cell_type": "code",
   "execution_count": 6,
   "id": "ea1ac4e6-27ce-4223-8633-6c4bb31e07bc",
   "metadata": {},
   "outputs": [
    {
     "data": {
      "text/html": [
       "wandb version 0.16.5 is available!  To upgrade, please run:\n",
       " $ pip install wandb --upgrade"
      ],
      "text/plain": [
       "<IPython.core.display.HTML object>"
      ]
     },
     "metadata": {},
     "output_type": "display_data"
    },
    {
     "data": {
      "text/html": [
       "Tracking run with wandb version 0.16.4"
      ],
      "text/plain": [
       "<IPython.core.display.HTML object>"
      ]
     },
     "metadata": {},
     "output_type": "display_data"
    },
    {
     "data": {
      "text/html": [
       "Run data is saved locally in <code>/embedding_classification/wandb/run-20240403_142949-ctqakuwg</code>"
      ],
      "text/plain": [
       "<IPython.core.display.HTML object>"
      ]
     },
     "metadata": {},
     "output_type": "display_data"
    },
    {
     "data": {
      "text/html": [
       "Resuming run <strong><a href='https://wandb.ai/pranavjadhav001/embedding_based_classification/runs/ctqakuwg' target=\"_blank\">cub_arcface_resnet18_sgd_aug</a></strong> to <a href='https://wandb.ai/pranavjadhav001/embedding_based_classification' target=\"_blank\">Weights & Biases</a> (<a href='https://wandb.me/run' target=\"_blank\">docs</a>)<br/>"
      ],
      "text/plain": [
       "<IPython.core.display.HTML object>"
      ]
     },
     "metadata": {},
     "output_type": "display_data"
    },
    {
     "data": {
      "text/html": [
       " View project at <a href='https://wandb.ai/pranavjadhav001/embedding_based_classification' target=\"_blank\">https://wandb.ai/pranavjadhav001/embedding_based_classification</a>"
      ],
      "text/plain": [
       "<IPython.core.display.HTML object>"
      ]
     },
     "metadata": {},
     "output_type": "display_data"
    },
    {
     "data": {
      "text/html": [
       " View run at <a href='https://wandb.ai/pranavjadhav001/embedding_based_classification/runs/ctqakuwg' target=\"_blank\">https://wandb.ai/pranavjadhav001/embedding_based_classification/runs/ctqakuwg</a>"
      ],
      "text/plain": [
       "<IPython.core.display.HTML object>"
      ]
     },
     "metadata": {},
     "output_type": "display_data"
    },
    {
     "name": "stdout",
     "output_type": "stream",
     "text": [
      "<built-in function id>\n"
     ]
    }
   ],
   "source": [
    "id = wandb.util.generate_id()\n",
    "run = wandb.init(\n",
    "    id=id,\n",
    "    name = config['name'],\n",
    "    # Set the project where this run will be logged\n",
    "    project=\"embedding_based_classification\",\n",
    "    # Track hyperparameters and run metadata\n",
    "    config=config,\n",
    "    resume=\"allow\"\n",
    ")"
   ]
  },
  {
   "cell_type": "code",
   "execution_count": 8,
   "id": "2762de2f-b1ec-49ae-bdc8-56ad406334e1",
   "metadata": {},
   "outputs": [],
   "source": [
    "np.random.seed(config['random_seed'])\n",
    "torch.manual_seed(config['random_seed'])\n",
    "torch.cuda.manual_seed(config['random_seed'])\n",
    "torch.backends.cudnn.deterministic = False"
   ]
  },
  {
   "cell_type": "code",
   "execution_count": 7,
   "id": "fd54e43e-bcb2-4be5-9f51-1366b8a5cfb6",
   "metadata": {},
   "outputs": [],
   "source": [
    "os.chdir('..')\n",
    "if not os.path.exists('models'):\n",
    "    os.makedirs('models')"
   ]
  },
  {
   "cell_type": "code",
   "execution_count": 9,
   "id": "86a9b19c-f95a-4976-bed3-47cd97da3fbf",
   "metadata": {},
   "outputs": [],
   "source": [
    "# print(models.resnet18())\n",
    "class ResNetFeatrueExtractor18(nn.Module):\n",
    "    def __init__(self, pretrained = True):\n",
    "        super(ResNetFeatrueExtractor18, self).__init__()\n",
    "        model_resnet18 = models.resnet18(pretrained=pretrained)\n",
    "        self.conv1 = model_resnet18.conv1\n",
    "        self.bn1 = model_resnet18.bn1\n",
    "        self.relu = model_resnet18.relu\n",
    "        self.maxpool = model_resnet18.maxpool\n",
    "        self.layer1 = model_resnet18.layer1\n",
    "        self.layer2 = model_resnet18.layer2\n",
    "        self.layer3 = model_resnet18.layer3\n",
    "        self.layer4 = model_resnet18.layer4\n",
    "        self.avgpool = model_resnet18.avgpool\n",
    "        self.fc1 = nn.Linear(512, config['embedding_dim'])\n",
    "        \n",
    "    def forward(self, x):\n",
    "        x = self.relu(self.bn1(self.conv1(x)))\n",
    "        x = self.maxpool(x)\n",
    "        x = self.layer1(x)\n",
    "        x = self.layer2(x)\n",
    "        x = self.layer3(x)\n",
    "        x = self.layer4(x)\n",
    "        x = self.avgpool(x)\n",
    "        x = x.view(x.size(0), -1)\n",
    "        x = self.fc1(x)\n",
    "        return x"
   ]
  },
  {
   "cell_type": "code",
   "execution_count": 10,
   "id": "3113a9df-ae34-49a4-be12-cfc0168aa08a",
   "metadata": {},
   "outputs": [
    {
     "name": "stderr",
     "output_type": "stream",
     "text": [
      "/opt/conda/lib/python3.10/site-packages/torchvision/models/_utils.py:208: UserWarning: The parameter 'pretrained' is deprecated since 0.13 and may be removed in the future, please use 'weights' instead.\n",
      "  warnings.warn(\n",
      "/opt/conda/lib/python3.10/site-packages/torchvision/models/_utils.py:223: UserWarning: Arguments other than a weight enum or `None` for 'weights' are deprecated since 0.13 and may be removed in the future. The current behavior is equivalent to passing `weights=ResNet18_Weights.IMAGENET1K_V1`. You can also use `weights=ResNet18_Weights.DEFAULT` to get the most up-to-date weights.\n",
      "  warnings.warn(msg)\n"
     ]
    },
    {
     "data": {
      "text/plain": [
       "torch.Size([18, 128])"
      ]
     },
     "execution_count": 10,
     "metadata": {},
     "output_type": "execute_result"
    }
   ],
   "source": [
    "ResNetFeatrueExtractor18()(torch.zeros(18,3,28,28)).shape"
   ]
  },
  {
   "cell_type": "code",
   "execution_count": 11,
   "id": "1d2af52d-f3cf-4fb5-9d46-01d52b7eecd5",
   "metadata": {
    "scrolled": true
   },
   "outputs": [],
   "source": [
    "### MNIST code originally from https://github.com/pytorch/examples/blob/master/mnist/main.py ###\n",
    "def train(model, loss_func, device, train_loader, optimizer, epoch):\n",
    "    model.train()\n",
    "    train_losses = []\n",
    "    for batch_idx, (data, labels) in enumerate(train_loader):\n",
    "        data, labels = data.to(device), labels.to(device)\n",
    "        optimizer.zero_grad()\n",
    "        embeddings = model(data)\n",
    "        loss = loss_func(embeddings, labels)\n",
    "        loss.backward()\n",
    "        optimizer.step()\n",
    "        train_losses.append(loss)\n",
    "        if batch_idx % 100 == 0:\n",
    "            print(\"Epoch {} Iteration {}: Loss = {}\".format(epoch, batch_idx, loss))\n",
    "    return torch.mean(torch.tensor(train_losses)).item()\n",
    "    \n",
    "### convenient function from pytorch-metric-learning ###\n",
    "def get_all_embeddings(dataset, model):\n",
    "    tester = testers.BaseTester(dataloader_num_workers=0)\n",
    "    return tester.get_all_embeddings(dataset, model)\n",
    "\n",
    "### compute accuracy using AccuracyCalculator from pytorch-metric-learning ###\n",
    "def test(train_set, test_set, model, accuracy_calculator):\n",
    "    train_embeddings, train_labels = get_all_embeddings(train_set, model)\n",
    "    test_embeddings, test_labels = get_all_embeddings(test_set, model)\n",
    "    train_labels = train_labels.squeeze(1)\n",
    "    test_labels = test_labels.squeeze(1)\n",
    "    print(\"Computing accuracy\")\n",
    "    accuracies = accuracy_calculator.get_accuracy(\n",
    "        test_embeddings, test_labels, train_embeddings, train_labels, False\n",
    "    )\n",
    "    print(\"Test set accuracy (Precision@1) = {}\".format(accuracies[\"precision_at_1\"]))\n",
    "    return accuracies[\"precision_at_1\"]\n",
    "    \n",
    "device = torch.device(\"cuda\")\n",
    "\n",
    "mean = [0.485, 0.456, 0.406]\n",
    "std = [0.229, 0.224, 0.225]\n",
    "\n",
    "# create train and test transforms\n",
    "transform = transforms.Compose(\n",
    "    [\n",
    "        transforms.Resize((config['image_height'], config['image_width'])),\n",
    "        transforms.ToTensor(),\n",
    "        transforms.Normalize(mean, std),\n",
    "    ]\n",
    ")\n",
    "\n",
    "batch_size = 128"
   ]
  },
  {
   "cell_type": "code",
   "execution_count": 12,
   "id": "74bc7144-4ac1-46af-acb8-abf120dc0312",
   "metadata": {},
   "outputs": [],
   "source": [
    "def tra_transforms(imgsize, RGBmean, RGBstdv):\n",
    "    return transforms.Compose([transforms.Resize(int(imgsize*1.1)),\n",
    "                                 transforms.RandomCrop(imgsize),\n",
    "                                 transforms.RandomHorizontalFlip(),\n",
    "                                 transforms.ToTensor(),\n",
    "                                 transforms.Normalize(RGBmean, RGBstdv)])\n",
    "\n",
    "def eva_transforms(imgsize, RGBmean, RGBstdv):\n",
    "    return transforms.Compose([transforms.Resize(imgsize),\n",
    "                                 transforms.CenterCrop(imgsize),\n",
    "                                 transforms.ToTensor(),\n",
    "                                 transforms.Normalize(RGBmean, RGBstdv)])\n"
   ]
  },
  {
   "cell_type": "code",
   "execution_count": 13,
   "id": "012c1d87-698e-4abe-919e-9050c600673d",
   "metadata": {},
   "outputs": [],
   "source": [
    "train_transform = tra_transforms(224,mean,std)\n",
    "test_transform = eva_transforms(224,mean,std)"
   ]
  },
  {
   "cell_type": "code",
   "execution_count": 14,
   "id": "4edc54cc-56a9-4889-bc86-a2caef18b958",
   "metadata": {},
   "outputs": [],
   "source": [
    "with open('CUB_200_2011/classes.txt','r') as f:\n",
    "    classes = f.readlines()\n",
    "classes = [i.replace('\\n','') for i in classes]\n",
    "classes = [i.split(' ')[1] for i in classes]\n",
    "class_dict = {k:v for k,v in zip(classes,range(200))}"
   ]
  },
  {
   "cell_type": "code",
   "execution_count": 15,
   "id": "565c42ed-11e7-42f1-9bbc-6cc8b089816c",
   "metadata": {},
   "outputs": [],
   "source": [
    "image_paths = []\n",
    "labels = []\n",
    "for folder_path,i in class_dict.items():\n",
    "    folder_images = glob.glob('CUB_200_2011/images/'+'/'+str(folder_path)+'/*')\n",
    "    image_paths.extend(folder_images)\n",
    "    labels.extend([i]*len(folder_images))"
   ]
  },
  {
   "cell_type": "code",
   "execution_count": 16,
   "id": "e3ed0eff-8d29-481e-b7b3-ecd842781f12",
   "metadata": {},
   "outputs": [],
   "source": [
    "from sklearn.model_selection import train_test_split\n",
    "X_train, X_test, y_train, y_test = train_test_split(image_paths, labels, test_size=config['train_test_split'],\n",
    "                                                    stratify=labels,\n",
    "                                                    random_state=config['random_seed'])"
   ]
  },
  {
   "cell_type": "code",
   "execution_count": 17,
   "id": "373894a5-b193-433b-8c42-1d5ac082d312",
   "metadata": {},
   "outputs": [
    {
     "name": "stdout",
     "output_type": "stream",
     "text": [
      "9430 2358 9430 2358\n"
     ]
    }
   ],
   "source": [
    "print(len(X_train), len(X_test), len(y_train), len(y_test))"
   ]
  },
  {
   "cell_type": "code",
   "execution_count": 18,
   "id": "d85fde76-4b7a-4e4e-9207-51596442dc80",
   "metadata": {},
   "outputs": [],
   "source": [
    "import torch\n",
    "from torch.utils.data import Dataset, DataLoader\n",
    "import torchvision.transforms as transforms\n",
    "\n",
    "class CUBDataset(Dataset):\n",
    "    def __init__(self, image_paths,labels,transform=None):\n",
    "        self.image_paths = image_paths\n",
    "        self.labels = labels\n",
    "        self.transform = transform\n",
    "        self.load_image_from_paths()\n",
    "        \n",
    "    def load_image_from_paths(self):\n",
    "        self.images = []\n",
    "        for i in self.image_paths:\n",
    "            img = PIL.Image.open(i)\n",
    "            if len(img.getbands()) ==1 :\n",
    "                img = img.convert(\"RGB\")\n",
    "            self.images.append(img)\n",
    "            \n",
    "    def __len__(self):\n",
    "        return len(self.images)\n",
    "\n",
    "    def __getitem__(self, idx):\n",
    "        image = self.images[idx]\n",
    "        label = self.labels[idx]\n",
    "        if self.transform:\n",
    "            image = self.transform(image)\n",
    "        return image, label"
   ]
  },
  {
   "cell_type": "code",
   "execution_count": 19,
   "id": "27cbe2f3-e65f-4705-bc31-3b382ddd2e59",
   "metadata": {},
   "outputs": [],
   "source": [
    "train_dataset  = CUBDataset(X_train,y_train,train_transform)\n",
    "test_dataset  = CUBDataset(X_test,y_test,test_transform)\n",
    "train_loader = torch.utils.data.DataLoader(train_dataset, batch_size=128, shuffle=True)\n",
    "test_loader = torch.utils.data.DataLoader(test_dataset, batch_size=128, shuffle=False)"
   ]
  },
  {
   "cell_type": "code",
   "execution_count": 20,
   "id": "6f22dd74-3ef4-47d1-a43c-aecc01d59822",
   "metadata": {},
   "outputs": [
    {
     "name": "stderr",
     "output_type": "stream",
     "text": [
      "/opt/conda/lib/python3.10/site-packages/torchvision/models/_utils.py:208: UserWarning: The parameter 'pretrained' is deprecated since 0.13 and may be removed in the future, please use 'weights' instead.\n",
      "  warnings.warn(\n",
      "/opt/conda/lib/python3.10/site-packages/torchvision/models/_utils.py:223: UserWarning: Arguments other than a weight enum or `None` for 'weights' are deprecated since 0.13 and may be removed in the future. The current behavior is equivalent to passing `weights=ResNet18_Weights.IMAGENET1K_V1`. You can also use `weights=ResNet18_Weights.DEFAULT` to get the most up-to-date weights.\n",
      "  warnings.warn(msg)\n"
     ]
    }
   ],
   "source": [
    "model = ResNetFeatrueExtractor18()\n",
    "model = model.to(device)\n",
    "num_epochs = config['num_epochs']\n",
    "\n",
    "### pytorch-metric-learning stuff ###\n",
    "distance = distances.CosineSimilarity()\n",
    "loss_func = losses.SubCenterArcFaceLoss(num_classes=200, embedding_size=config['embedding_size']).to(device)\n",
    "optimizer = optim.SGD(list(model.parameters())+list(loss_func.parameters()), lr=config['learning_rate'])\n",
    "\n",
    "accuracy_calculator = AccuracyCalculator(include=(config['metric'],), k=1)"
   ]
  },
  {
   "cell_type": "code",
   "execution_count": 21,
   "id": "e5bb77dd-c3e8-42d8-8074-27b2210cdb77",
   "metadata": {
    "scrolled": true
   },
   "outputs": [
    {
     "name": "stdout",
     "output_type": "stream",
     "text": [
      "Epoch 1 Iteration 0: Loss = 44.78245544433594\n"
     ]
    },
    {
     "name": "stderr",
     "output_type": "stream",
     "text": [
      "100%|█████████████████████████████████████████████████████████████████████████████████████████████████████| 295/295 [00:16<00:00, 17.38it/s]\n",
      "100%|███████████████████████████████████████████████████████████████████████████████████████████████████████| 74/74 [00:09<00:00,  7.60it/s]\n"
     ]
    },
    {
     "name": "stdout",
     "output_type": "stream",
     "text": [
      "Computing accuracy\n"
     ]
    },
    {
     "name": "stderr",
     "output_type": "stream",
     "text": [
      "/opt/conda/lib/python3.10/site-packages/faiss/contrib/torch_utils.py:51: UserWarning: TypedStorage is deprecated. It will be removed in the future and UntypedStorage will be the only storage class. This should only matter to you if you are using storages directly.  To access UntypedStorage directly, use tensor.untyped_storage() instead of tensor.storage()\n",
      "  x.storage().data_ptr() + x.storage_offset() * 4)\n"
     ]
    },
    {
     "name": "stdout",
     "output_type": "stream",
     "text": [
      "Test set accuracy (Precision@1) = 0.30322307039864294\n",
      "Epoch 2 Iteration 0: Loss = 37.85205841064453\n"
     ]
    },
    {
     "name": "stderr",
     "output_type": "stream",
     "text": [
      "100%|█████████████████████████████████████████████████████████████████████████████████████████████████████| 295/295 [00:17<00:00, 17.15it/s]\n",
      "100%|███████████████████████████████████████████████████████████████████████████████████████████████████████| 74/74 [00:03<00:00, 18.82it/s]\n"
     ]
    },
    {
     "name": "stdout",
     "output_type": "stream",
     "text": [
      "Computing accuracy\n",
      "Test set accuracy (Precision@1) = 0.3138252756573367\n",
      "Epoch 3 Iteration 0: Loss = 37.17451858520508\n"
     ]
    },
    {
     "name": "stderr",
     "output_type": "stream",
     "text": [
      "100%|█████████████████████████████████████████████████████████████████████████████████████████████████████| 295/295 [00:16<00:00, 17.62it/s]\n",
      "100%|███████████████████████████████████████████████████████████████████████████████████████████████████████| 74/74 [00:03<00:00, 19.36it/s]\n"
     ]
    },
    {
     "name": "stdout",
     "output_type": "stream",
     "text": [
      "Computing accuracy\n",
      "Test set accuracy (Precision@1) = 0.34648006785411367\n",
      "Epoch 4 Iteration 0: Loss = 36.7369384765625\n"
     ]
    },
    {
     "name": "stderr",
     "output_type": "stream",
     "text": [
      "100%|█████████████████████████████████████████████████████████████████████████████████████████████████████| 295/295 [00:17<00:00, 17.19it/s]\n",
      "100%|███████████████████████████████████████████████████████████████████████████████████████████████████████| 74/74 [00:03<00:00, 19.07it/s]\n"
     ]
    },
    {
     "name": "stdout",
     "output_type": "stream",
     "text": [
      "Computing accuracy\n",
      "Test set accuracy (Precision@1) = 0.3702290076335878\n",
      "Epoch 5 Iteration 0: Loss = 36.13791275024414\n"
     ]
    },
    {
     "name": "stderr",
     "output_type": "stream",
     "text": [
      "100%|█████████████████████████████████████████████████████████████████████████████████████████████████████| 295/295 [00:16<00:00, 17.54it/s]\n",
      "100%|███████████████████████████████████████████████████████████████████████████████████████████████████████| 74/74 [00:03<00:00, 18.73it/s]\n"
     ]
    },
    {
     "name": "stdout",
     "output_type": "stream",
     "text": [
      "Computing accuracy\n",
      "Test set accuracy (Precision@1) = 0.3833757421543681\n",
      "Epoch 6 Iteration 0: Loss = 35.858734130859375\n"
     ]
    },
    {
     "name": "stderr",
     "output_type": "stream",
     "text": [
      "100%|█████████████████████████████████████████████████████████████████████████████████████████████████████| 295/295 [00:16<00:00, 17.53it/s]\n",
      "100%|███████████████████████████████████████████████████████████████████████████████████████████████████████| 74/74 [00:03<00:00, 18.99it/s]\n"
     ]
    },
    {
     "name": "stdout",
     "output_type": "stream",
     "text": [
      "Computing accuracy\n",
      "Test set accuracy (Precision@1) = 0.4376590330788804\n",
      "Epoch 7 Iteration 0: Loss = 35.149017333984375\n"
     ]
    },
    {
     "name": "stderr",
     "output_type": "stream",
     "text": [
      "100%|█████████████████████████████████████████████████████████████████████████████████████████████████████| 295/295 [00:17<00:00, 17.08it/s]\n",
      "100%|███████████████████████████████████████████████████████████████████████████████████████████████████████| 74/74 [00:04<00:00, 18.50it/s]\n"
     ]
    },
    {
     "name": "stdout",
     "output_type": "stream",
     "text": [
      "Computing accuracy\n",
      "Test set accuracy (Precision@1) = 0.4342663273960984\n",
      "Epoch 8 Iteration 0: Loss = 34.503658294677734\n"
     ]
    },
    {
     "name": "stderr",
     "output_type": "stream",
     "text": [
      "100%|█████████████████████████████████████████████████████████████████████████████████████████████████████| 295/295 [00:17<00:00, 17.16it/s]\n",
      "100%|███████████████████████████████████████████████████████████████████████████████████████████████████████| 74/74 [00:03<00:00, 19.03it/s]\n"
     ]
    },
    {
     "name": "stdout",
     "output_type": "stream",
     "text": [
      "Computing accuracy\n",
      "Test set accuracy (Precision@1) = 0.4580152671755725\n",
      "Epoch 9 Iteration 0: Loss = 34.389312744140625\n"
     ]
    },
    {
     "name": "stderr",
     "output_type": "stream",
     "text": [
      "100%|█████████████████████████████████████████████████████████████████████████████████████████████████████| 295/295 [00:17<00:00, 17.22it/s]\n",
      "100%|███████████████████████████████████████████████████████████████████████████████████████████████████████| 74/74 [00:03<00:00, 18.95it/s]\n"
     ]
    },
    {
     "name": "stdout",
     "output_type": "stream",
     "text": [
      "Computing accuracy\n",
      "Test set accuracy (Precision@1) = 0.46988973706530957\n",
      "Epoch 10 Iteration 0: Loss = 34.06395721435547\n"
     ]
    },
    {
     "name": "stderr",
     "output_type": "stream",
     "text": [
      "100%|█████████████████████████████████████████████████████████████████████████████████████████████████████| 295/295 [00:16<00:00, 17.66it/s]\n",
      "100%|███████████████████████████████████████████████████████████████████████████████████████████████████████| 74/74 [00:03<00:00, 18.71it/s]\n"
     ]
    },
    {
     "name": "stdout",
     "output_type": "stream",
     "text": [
      "Computing accuracy\n",
      "Test set accuracy (Precision@1) = 0.46988973706530957\n",
      "Epoch 11 Iteration 0: Loss = 33.325923919677734\n"
     ]
    },
    {
     "name": "stderr",
     "output_type": "stream",
     "text": [
      "100%|█████████████████████████████████████████████████████████████████████████████████████████████████████| 295/295 [00:17<00:00, 17.24it/s]\n",
      "100%|███████████████████████████████████████████████████████████████████████████████████████████████████████| 74/74 [00:03<00:00, 19.34it/s]\n"
     ]
    },
    {
     "name": "stdout",
     "output_type": "stream",
     "text": [
      "Computing accuracy\n",
      "Test set accuracy (Precision@1) = 0.5131467345207803\n",
      "Epoch 12 Iteration 0: Loss = 32.811641693115234\n"
     ]
    },
    {
     "name": "stderr",
     "output_type": "stream",
     "text": [
      "100%|█████████████████████████████████████████████████████████████████████████████████████████████████████| 295/295 [00:16<00:00, 17.66it/s]\n",
      "100%|███████████████████████████████████████████████████████████████████████████████████████████████████████| 74/74 [00:03<00:00, 19.59it/s]\n"
     ]
    },
    {
     "name": "stdout",
     "output_type": "stream",
     "text": [
      "Computing accuracy\n",
      "Test set accuracy (Precision@1) = 0.5152671755725191\n",
      "Epoch 13 Iteration 0: Loss = 33.19822692871094\n"
     ]
    },
    {
     "name": "stderr",
     "output_type": "stream",
     "text": [
      "100%|█████████████████████████████████████████████████████████████████████████████████████████████████████| 295/295 [00:17<00:00, 16.83it/s]\n",
      "100%|███████████████████████████████████████████████████████████████████████████████████████████████████████| 74/74 [00:04<00:00, 18.21it/s]\n"
     ]
    },
    {
     "name": "stdout",
     "output_type": "stream",
     "text": [
      "Computing accuracy\n",
      "Test set accuracy (Precision@1) = 0.5368956743002544\n",
      "Epoch 14 Iteration 0: Loss = 32.127777099609375\n"
     ]
    },
    {
     "name": "stderr",
     "output_type": "stream",
     "text": [
      "100%|█████████████████████████████████████████████████████████████████████████████████████████████████████| 295/295 [00:17<00:00, 17.00it/s]\n",
      "100%|███████████████████████████████████████████████████████████████████████████████████████████████████████| 74/74 [00:03<00:00, 18.58it/s]\n"
     ]
    },
    {
     "name": "stdout",
     "output_type": "stream",
     "text": [
      "Computing accuracy\n",
      "Test set accuracy (Precision@1) = 0.5555555555555556\n",
      "Epoch 15 Iteration 0: Loss = 30.610048294067383\n"
     ]
    },
    {
     "name": "stderr",
     "output_type": "stream",
     "text": [
      "100%|█████████████████████████████████████████████████████████████████████████████████████████████████████| 295/295 [00:17<00:00, 16.71it/s]\n",
      "100%|███████████████████████████████████████████████████████████████████████████████████████████████████████| 74/74 [00:04<00:00, 18.35it/s]\n"
     ]
    },
    {
     "name": "stdout",
     "output_type": "stream",
     "text": [
      "Computing accuracy\n",
      "Test set accuracy (Precision@1) = 0.5631891433418151\n",
      "Epoch 16 Iteration 0: Loss = 30.031269073486328\n"
     ]
    },
    {
     "name": "stderr",
     "output_type": "stream",
     "text": [
      "100%|█████████████████████████████████████████████████████████████████████████████████████████████████████| 295/295 [00:17<00:00, 17.15it/s]\n",
      "100%|███████████████████████████████████████████████████████████████████████████████████████████████████████| 74/74 [00:03<00:00, 18.78it/s]\n"
     ]
    },
    {
     "name": "stdout",
     "output_type": "stream",
     "text": [
      "Computing accuracy\n",
      "Test set accuracy (Precision@1) = 0.5763358778625954\n",
      "Epoch 17 Iteration 0: Loss = 29.07213592529297\n"
     ]
    },
    {
     "name": "stderr",
     "output_type": "stream",
     "text": [
      "100%|█████████████████████████████████████████████████████████████████████████████████████████████████████| 295/295 [00:16<00:00, 17.36it/s]\n",
      "100%|███████████████████████████████████████████████████████████████████████████████████████████████████████| 74/74 [00:03<00:00, 18.86it/s]\n"
     ]
    },
    {
     "name": "stdout",
     "output_type": "stream",
     "text": [
      "Computing accuracy\n",
      "Test set accuracy (Precision@1) = 0.5831212892281594\n",
      "Epoch 18 Iteration 0: Loss = 28.032711029052734\n"
     ]
    },
    {
     "name": "stderr",
     "output_type": "stream",
     "text": [
      "100%|█████████████████████████████████████████████████████████████████████████████████████████████████████| 295/295 [00:16<00:00, 17.45it/s]\n",
      "100%|███████████████████████████████████████████████████████████████████████████████████████████████████████| 74/74 [00:03<00:00, 18.72it/s]\n"
     ]
    },
    {
     "name": "stdout",
     "output_type": "stream",
     "text": [
      "Computing accuracy\n",
      "Test set accuracy (Precision@1) = 0.5975402883799831\n",
      "Epoch 19 Iteration 0: Loss = 27.25742530822754\n"
     ]
    },
    {
     "name": "stderr",
     "output_type": "stream",
     "text": [
      "100%|█████████████████████████████████████████████████████████████████████████████████████████████████████| 295/295 [00:16<00:00, 17.49it/s]\n",
      "100%|███████████████████████████████████████████████████████████████████████████████████████████████████████| 74/74 [00:04<00:00, 18.21it/s]\n"
     ]
    },
    {
     "name": "stdout",
     "output_type": "stream",
     "text": [
      "Computing accuracy\n",
      "Test set accuracy (Precision@1) = 0.6043256997455471\n",
      "Epoch 20 Iteration 0: Loss = 25.877532958984375\n"
     ]
    },
    {
     "name": "stderr",
     "output_type": "stream",
     "text": [
      "100%|█████████████████████████████████████████████████████████████████████████████████████████████████████| 295/295 [00:17<00:00, 17.20it/s]\n",
      "100%|███████████████████████████████████████████████████████████████████████████████████████████████████████| 74/74 [00:04<00:00, 18.37it/s]\n"
     ]
    },
    {
     "name": "stdout",
     "output_type": "stream",
     "text": [
      "Computing accuracy\n",
      "Test set accuracy (Precision@1) = 0.6251060220525869\n",
      "Epoch 21 Iteration 0: Loss = 24.987760543823242\n"
     ]
    },
    {
     "name": "stderr",
     "output_type": "stream",
     "text": [
      "100%|█████████████████████████████████████████████████████████████████████████████████████████████████████| 295/295 [00:17<00:00, 17.14it/s]\n",
      "100%|███████████████████████████████████████████████████████████████████████████████████████████████████████| 74/74 [00:03<00:00, 18.53it/s]\n"
     ]
    },
    {
     "name": "stdout",
     "output_type": "stream",
     "text": [
      "Computing accuracy\n",
      "Test set accuracy (Precision@1) = 0.635284139100933\n",
      "Epoch 22 Iteration 0: Loss = 24.796653747558594\n"
     ]
    },
    {
     "name": "stderr",
     "output_type": "stream",
     "text": [
      "100%|█████████████████████████████████████████████████████████████████████████████████████████████████████| 295/295 [00:17<00:00, 17.07it/s]\n",
      "100%|███████████████████████████████████████████████████████████████████████████████████████████████████████| 74/74 [00:04<00:00, 18.48it/s]\n"
     ]
    },
    {
     "name": "stdout",
     "output_type": "stream",
     "text": [
      "Computing accuracy\n",
      "Test set accuracy (Precision@1) = 0.6348600508905853\n",
      "Epoch 23 Iteration 0: Loss = 22.73987579345703\n"
     ]
    },
    {
     "name": "stderr",
     "output_type": "stream",
     "text": [
      "100%|█████████████████████████████████████████████████████████████████████████████████████████████████████| 295/295 [00:17<00:00, 16.96it/s]\n",
      "100%|███████████████████████████████████████████████████████████████████████████████████████████████████████| 74/74 [00:04<00:00, 18.31it/s]\n"
     ]
    },
    {
     "name": "stdout",
     "output_type": "stream",
     "text": [
      "Computing accuracy\n",
      "Test set accuracy (Precision@1) = 0.6539440203562341\n",
      "Epoch 24 Iteration 0: Loss = 22.04645538330078\n"
     ]
    },
    {
     "name": "stderr",
     "output_type": "stream",
     "text": [
      "100%|█████████████████████████████████████████████████████████████████████████████████████████████████████| 295/295 [00:17<00:00, 17.10it/s]\n",
      "100%|███████████████████████████████████████████████████████████████████████████████████████████████████████| 74/74 [00:03<00:00, 18.54it/s]\n"
     ]
    },
    {
     "name": "stdout",
     "output_type": "stream",
     "text": [
      "Computing accuracy\n",
      "Test set accuracy (Precision@1) = 0.6577608142493638\n",
      "Epoch 25 Iteration 0: Loss = 20.48577308654785\n"
     ]
    },
    {
     "name": "stderr",
     "output_type": "stream",
     "text": [
      "100%|█████████████████████████████████████████████████████████████████████████████████████████████████████| 295/295 [00:17<00:00, 17.14it/s]\n",
      "100%|███████████████████████████████████████████████████████████████████████████████████████████████████████| 74/74 [00:04<00:00, 18.40it/s]\n"
     ]
    },
    {
     "name": "stdout",
     "output_type": "stream",
     "text": [
      "Computing accuracy\n",
      "Test set accuracy (Precision@1) = 0.6726039016115352\n",
      "Epoch 26 Iteration 0: Loss = 22.292572021484375\n"
     ]
    },
    {
     "name": "stderr",
     "output_type": "stream",
     "text": [
      "100%|█████████████████████████████████████████████████████████████████████████████████████████████████████| 295/295 [00:17<00:00, 17.25it/s]\n",
      "100%|███████████████████████████████████████████████████████████████████████████████████████████████████████| 74/74 [00:04<00:00, 17.84it/s]\n"
     ]
    },
    {
     "name": "stdout",
     "output_type": "stream",
     "text": [
      "Computing accuracy\n",
      "Test set accuracy (Precision@1) = 0.6658184902459712\n",
      "Epoch 27 Iteration 0: Loss = 20.527385711669922\n"
     ]
    },
    {
     "name": "stderr",
     "output_type": "stream",
     "text": [
      "100%|█████████████████████████████████████████████████████████████████████████████████████████████████████| 295/295 [00:17<00:00, 17.23it/s]\n",
      "100%|███████████████████████████████████████████████████████████████████████████████████████████████████████| 74/74 [00:04<00:00, 18.19it/s]\n"
     ]
    },
    {
     "name": "stdout",
     "output_type": "stream",
     "text": [
      "Computing accuracy\n",
      "Test set accuracy (Precision@1) = 0.68490245971162\n",
      "Epoch 28 Iteration 0: Loss = 19.353759765625\n"
     ]
    },
    {
     "name": "stderr",
     "output_type": "stream",
     "text": [
      "100%|█████████████████████████████████████████████████████████████████████████████████████████████████████| 295/295 [00:17<00:00, 16.97it/s]\n",
      "100%|███████████████████████████████████████████████████████████████████████████████████████████████████████| 74/74 [00:03<00:00, 18.63it/s]\n"
     ]
    },
    {
     "name": "stdout",
     "output_type": "stream",
     "text": [
      "Computing accuracy\n",
      "Test set accuracy (Precision@1) = 0.683206106870229\n",
      "Epoch 29 Iteration 0: Loss = 17.360322952270508\n"
     ]
    },
    {
     "name": "stderr",
     "output_type": "stream",
     "text": [
      "100%|█████████████████████████████████████████████████████████████████████████████████████████████████████| 295/295 [00:17<00:00, 17.17it/s]\n",
      "100%|███████████████████████████████████████████████████████████████████████████████████████████████████████| 74/74 [00:04<00:00, 18.34it/s]\n"
     ]
    },
    {
     "name": "stdout",
     "output_type": "stream",
     "text": [
      "Computing accuracy\n",
      "Test set accuracy (Precision@1) = 0.6887192536047497\n",
      "Epoch 30 Iteration 0: Loss = 19.653470993041992\n"
     ]
    },
    {
     "name": "stderr",
     "output_type": "stream",
     "text": [
      "100%|█████████████████████████████████████████████████████████████████████████████████████████████████████| 295/295 [00:17<00:00, 17.17it/s]\n",
      "100%|███████████████████████████████████████████████████████████████████████████████████████████████████████| 74/74 [00:03<00:00, 19.02it/s]\n"
     ]
    },
    {
     "name": "stdout",
     "output_type": "stream",
     "text": [
      "Computing accuracy\n",
      "Test set accuracy (Precision@1) = 0.6972010178117048\n",
      "Epoch 31 Iteration 0: Loss = 15.7968168258667\n"
     ]
    },
    {
     "name": "stderr",
     "output_type": "stream",
     "text": [
      "100%|█████████████████████████████████████████████████████████████████████████████████████████████████████| 295/295 [00:16<00:00, 17.72it/s]\n",
      "100%|███████████████████████████████████████████████████████████████████████████████████████████████████████| 74/74 [00:03<00:00, 19.56it/s]\n"
     ]
    },
    {
     "name": "stdout",
     "output_type": "stream",
     "text": [
      "Computing accuracy\n",
      "Test set accuracy (Precision@1) = 0.7014418999151824\n",
      "Epoch 32 Iteration 0: Loss = 16.344871520996094\n"
     ]
    },
    {
     "name": "stderr",
     "output_type": "stream",
     "text": [
      "100%|█████████████████████████████████████████████████████████████████████████████████████████████████████| 295/295 [00:17<00:00, 16.82it/s]\n",
      "100%|███████████████████████████████████████████████████████████████████████████████████████████████████████| 74/74 [00:04<00:00, 18.49it/s]\n"
     ]
    },
    {
     "name": "stdout",
     "output_type": "stream",
     "text": [
      "Computing accuracy\n",
      "Test set accuracy (Precision@1) = 0.7031382527565734\n",
      "Epoch 33 Iteration 0: Loss = 14.377979278564453\n"
     ]
    },
    {
     "name": "stderr",
     "output_type": "stream",
     "text": [
      "100%|█████████████████████████████████████████████████████████████████████████████████████████████████████| 295/295 [00:17<00:00, 17.23it/s]\n",
      "100%|███████████████████████████████████████████████████████████████████████████████████████████████████████| 74/74 [00:03<00:00, 18.57it/s]\n"
     ]
    },
    {
     "name": "stdout",
     "output_type": "stream",
     "text": [
      "Computing accuracy\n",
      "Test set accuracy (Precision@1) = 0.7175572519083969\n",
      "Epoch 34 Iteration 0: Loss = 16.184185028076172\n"
     ]
    },
    {
     "name": "stderr",
     "output_type": "stream",
     "text": [
      "100%|█████████████████████████████████████████████████████████████████████████████████████████████████████| 295/295 [00:17<00:00, 17.14it/s]\n",
      "100%|███████████████████████████████████████████████████████████████████████████████████████████████████████| 74/74 [00:03<00:00, 18.57it/s]\n"
     ]
    },
    {
     "name": "stdout",
     "output_type": "stream",
     "text": [
      "Computing accuracy\n",
      "Test set accuracy (Precision@1) = 0.7213740458015268\n",
      "Epoch 35 Iteration 0: Loss = 12.900457382202148\n"
     ]
    },
    {
     "name": "stderr",
     "output_type": "stream",
     "text": [
      "100%|█████████████████████████████████████████████████████████████████████████████████████████████████████| 295/295 [00:17<00:00, 17.11it/s]\n",
      "100%|███████████████████████████████████████████████████████████████████████████████████████████████████████| 74/74 [00:04<00:00, 18.39it/s]\n"
     ]
    },
    {
     "name": "stdout",
     "output_type": "stream",
     "text": [
      "Computing accuracy\n",
      "Test set accuracy (Precision@1) = 0.7205258693808312\n",
      "Epoch 36 Iteration 0: Loss = 13.498290061950684\n"
     ]
    },
    {
     "name": "stderr",
     "output_type": "stream",
     "text": [
      "100%|█████████████████████████████████████████████████████████████████████████████████████████████████████| 295/295 [00:17<00:00, 17.22it/s]\n",
      "100%|███████████████████████████████████████████████████████████████████████████████████████████████████████| 74/74 [00:03<00:00, 18.50it/s]\n"
     ]
    },
    {
     "name": "stdout",
     "output_type": "stream",
     "text": [
      "Computing accuracy\n",
      "Test set accuracy (Precision@1) = 0.72264631043257\n",
      "Epoch 37 Iteration 0: Loss = 12.444839477539062\n"
     ]
    },
    {
     "name": "stderr",
     "output_type": "stream",
     "text": [
      "100%|█████████████████████████████████████████████████████████████████████████████████████████████████████| 295/295 [00:17<00:00, 17.23it/s]\n",
      "100%|███████████████████████████████████████████████████████████████████████████████████████████████████████| 74/74 [00:04<00:00, 18.49it/s]\n"
     ]
    },
    {
     "name": "stdout",
     "output_type": "stream",
     "text": [
      "Computing accuracy\n",
      "Test set accuracy (Precision@1) = 0.7332485156912638\n",
      "Epoch 38 Iteration 0: Loss = 15.552471160888672\n"
     ]
    },
    {
     "name": "stderr",
     "output_type": "stream",
     "text": [
      "100%|█████████████████████████████████████████████████████████████████████████████████████████████████████| 295/295 [00:16<00:00, 17.86it/s]\n",
      "100%|███████████████████████████████████████████████████████████████████████████████████████████████████████| 74/74 [00:03<00:00, 19.61it/s]\n"
     ]
    },
    {
     "name": "stdout",
     "output_type": "stream",
     "text": [
      "Computing accuracy\n",
      "Test set accuracy (Precision@1) = 0.7273112807463953\n",
      "Epoch 39 Iteration 0: Loss = 14.2075834274292\n"
     ]
    },
    {
     "name": "stderr",
     "output_type": "stream",
     "text": [
      "100%|█████████████████████████████████████████████████████████████████████████████████████████████████████| 295/295 [00:17<00:00, 16.95it/s]\n",
      "100%|███████████████████████████████████████████████████████████████████████████████████████████████████████| 74/74 [00:03<00:00, 18.61it/s]\n"
     ]
    },
    {
     "name": "stdout",
     "output_type": "stream",
     "text": [
      "Computing accuracy\n",
      "Test set accuracy (Precision@1) = 0.7281594571670907\n",
      "Epoch 40 Iteration 0: Loss = 13.232038497924805\n"
     ]
    },
    {
     "name": "stderr",
     "output_type": "stream",
     "text": [
      "100%|█████████████████████████████████████████████████████████████████████████████████████████████████████| 295/295 [00:16<00:00, 17.95it/s]\n",
      "100%|███████████████████████████████████████████████████████████████████████████████████████████████████████| 74/74 [00:03<00:00, 19.47it/s]\n"
     ]
    },
    {
     "name": "stdout",
     "output_type": "stream",
     "text": [
      "Computing accuracy\n",
      "Test set accuracy (Precision@1) = 0.7340966921119593\n",
      "Epoch 41 Iteration 0: Loss = 11.508190155029297\n"
     ]
    },
    {
     "name": "stderr",
     "output_type": "stream",
     "text": [
      "100%|█████████████████████████████████████████████████████████████████████████████████████████████████████| 295/295 [00:16<00:00, 18.07it/s]\n",
      "100%|███████████████████████████████████████████████████████████████████████████████████████████████████████| 74/74 [00:03<00:00, 18.57it/s]\n"
     ]
    },
    {
     "name": "stdout",
     "output_type": "stream",
     "text": [
      "Computing accuracy\n",
      "Test set accuracy (Precision@1) = 0.7417302798982188\n",
      "Epoch 42 Iteration 0: Loss = 12.980388641357422\n"
     ]
    },
    {
     "name": "stderr",
     "output_type": "stream",
     "text": [
      "100%|█████████████████████████████████████████████████████████████████████████████████████████████████████| 295/295 [00:16<00:00, 17.88it/s]\n",
      "100%|███████████████████████████████████████████████████████████████████████████████████████████████████████| 74/74 [00:03<00:00, 19.44it/s]\n"
     ]
    },
    {
     "name": "stdout",
     "output_type": "stream",
     "text": [
      "Computing accuracy\n",
      "Test set accuracy (Precision@1) = 0.7455470737913485\n",
      "Epoch 43 Iteration 0: Loss = 11.575521469116211\n"
     ]
    },
    {
     "name": "stderr",
     "output_type": "stream",
     "text": [
      "100%|█████████████████████████████████████████████████████████████████████████████████████████████████████| 295/295 [00:16<00:00, 17.97it/s]\n",
      "100%|███████████████████████████████████████████████████████████████████████████████████████████████████████| 74/74 [00:03<00:00, 19.50it/s]\n"
     ]
    },
    {
     "name": "stdout",
     "output_type": "stream",
     "text": [
      "Computing accuracy\n",
      "Test set accuracy (Precision@1) = 0.7379134860050891\n",
      "Epoch 44 Iteration 0: Loss = 9.311395645141602\n"
     ]
    },
    {
     "name": "stderr",
     "output_type": "stream",
     "text": [
      "100%|█████████████████████████████████████████████████████████████████████████████████████████████████████| 295/295 [00:16<00:00, 18.01it/s]\n",
      "100%|███████████████████████████████████████████████████████████████████████████████████████████████████████| 74/74 [00:03<00:00, 19.47it/s]\n"
     ]
    },
    {
     "name": "stdout",
     "output_type": "stream",
     "text": [
      "Computing accuracy\n",
      "Test set accuracy (Precision@1) = 0.7476675148430874\n",
      "Epoch 45 Iteration 0: Loss = 11.437170028686523\n"
     ]
    },
    {
     "name": "stderr",
     "output_type": "stream",
     "text": [
      "100%|█████████████████████████████████████████████████████████████████████████████████████████████████████| 295/295 [00:16<00:00, 18.04it/s]\n",
      "100%|███████████████████████████████████████████████████████████████████████████████████████████████████████| 74/74 [00:04<00:00, 18.39it/s]\n"
     ]
    },
    {
     "name": "stdout",
     "output_type": "stream",
     "text": [
      "Computing accuracy\n",
      "Test set accuracy (Precision@1) = 0.7463952502120441\n",
      "Epoch 46 Iteration 0: Loss = 9.000701904296875\n"
     ]
    },
    {
     "name": "stderr",
     "output_type": "stream",
     "text": [
      "100%|█████████████████████████████████████████████████████████████████████████████████████████████████████| 295/295 [00:16<00:00, 18.03it/s]\n",
      "100%|███████████████████████████████████████████████████████████████████████████████████████████████████████| 74/74 [00:03<00:00, 18.86it/s]\n"
     ]
    },
    {
     "name": "stdout",
     "output_type": "stream",
     "text": [
      "Computing accuracy\n",
      "Test set accuracy (Precision@1) = 0.7561492790500424\n",
      "Epoch 47 Iteration 0: Loss = 9.831525802612305\n"
     ]
    },
    {
     "name": "stderr",
     "output_type": "stream",
     "text": [
      "100%|█████████████████████████████████████████████████████████████████████████████████████████████████████| 295/295 [00:16<00:00, 17.92it/s]\n",
      "100%|███████████████████████████████████████████████████████████████████████████████████████████████████████| 74/74 [00:03<00:00, 19.61it/s]\n"
     ]
    },
    {
     "name": "stdout",
     "output_type": "stream",
     "text": [
      "Computing accuracy\n",
      "Test set accuracy (Precision@1) = 0.7540288379983037\n",
      "Epoch 48 Iteration 0: Loss = 9.534873962402344\n"
     ]
    },
    {
     "name": "stderr",
     "output_type": "stream",
     "text": [
      "100%|█████████████████████████████████████████████████████████████████████████████████████████████████████| 295/295 [00:16<00:00, 17.90it/s]\n",
      "100%|███████████████████████████████████████████████████████████████████████████████████████████████████████| 74/74 [00:03<00:00, 19.46it/s]\n"
     ]
    },
    {
     "name": "stdout",
     "output_type": "stream",
     "text": [
      "Computing accuracy\n",
      "Test set accuracy (Precision@1) = 0.7565733672603902\n",
      "Epoch 49 Iteration 0: Loss = 8.80506706237793\n"
     ]
    },
    {
     "name": "stderr",
     "output_type": "stream",
     "text": [
      "100%|█████████████████████████████████████████████████████████████████████████████████████████████████████| 295/295 [00:16<00:00, 18.09it/s]\n",
      "100%|███████████████████████████████████████████████████████████████████████████████████████████████████████| 74/74 [00:03<00:00, 19.55it/s]\n"
     ]
    },
    {
     "name": "stdout",
     "output_type": "stream",
     "text": [
      "Computing accuracy\n",
      "Test set accuracy (Precision@1) = 0.7536047497879559\n",
      "Epoch 50 Iteration 0: Loss = 9.172330856323242\n"
     ]
    },
    {
     "name": "stderr",
     "output_type": "stream",
     "text": [
      "100%|█████████████████████████████████████████████████████████████████████████████████████████████████████| 295/295 [00:17<00:00, 17.13it/s]\n",
      "100%|███████████████████████████████████████████████████████████████████████████████████████████████████████| 74/74 [00:03<00:00, 18.65it/s]\n"
     ]
    },
    {
     "name": "stdout",
     "output_type": "stream",
     "text": [
      "Computing accuracy\n",
      "Test set accuracy (Precision@1) = 0.7531806615776081\n",
      "Epoch 51 Iteration 0: Loss = 6.536690711975098\n"
     ]
    },
    {
     "name": "stderr",
     "output_type": "stream",
     "text": [
      "100%|█████████████████████████████████████████████████████████████████████████████████████████████████████| 295/295 [00:16<00:00, 17.92it/s]\n",
      "100%|███████████████████████████████████████████████████████████████████████████████████████████████████████| 74/74 [00:03<00:00, 19.60it/s]\n"
     ]
    },
    {
     "name": "stdout",
     "output_type": "stream",
     "text": [
      "Computing accuracy\n",
      "Test set accuracy (Precision@1) = 0.7540288379983037\n",
      "Epoch 52 Iteration 0: Loss = 9.030080795288086\n"
     ]
    },
    {
     "name": "stderr",
     "output_type": "stream",
     "text": [
      "100%|█████████████████████████████████████████████████████████████████████████████████████████████████████| 295/295 [00:16<00:00, 17.75it/s]\n",
      "100%|███████████████████████████████████████████████████████████████████████████████████████████████████████| 74/74 [00:03<00:00, 19.59it/s]\n"
     ]
    },
    {
     "name": "stdout",
     "output_type": "stream",
     "text": [
      "Computing accuracy\n",
      "Test set accuracy (Precision@1) = 0.765479219677693\n",
      "Epoch 53 Iteration 0: Loss = 7.452293395996094\n"
     ]
    },
    {
     "name": "stderr",
     "output_type": "stream",
     "text": [
      "100%|█████████████████████████████████████████████████████████████████████████████████████████████████████| 295/295 [00:16<00:00, 17.97it/s]\n",
      "100%|███████████████████████████████████████████████████████████████████████████████████████████████████████| 74/74 [00:03<00:00, 19.60it/s]\n"
     ]
    },
    {
     "name": "stdout",
     "output_type": "stream",
     "text": [
      "Computing accuracy\n",
      "Test set accuracy (Precision@1) = 0.7680237489397794\n",
      "Epoch 54 Iteration 0: Loss = 8.939592361450195\n"
     ]
    },
    {
     "name": "stderr",
     "output_type": "stream",
     "text": [
      "100%|█████████████████████████████████████████████████████████████████████████████████████████████████████| 295/295 [00:16<00:00, 17.84it/s]\n",
      "100%|███████████████████████████████████████████████████████████████████████████████████████████████████████| 74/74 [00:03<00:00, 19.54it/s]\n"
     ]
    },
    {
     "name": "stdout",
     "output_type": "stream",
     "text": [
      "Computing accuracy\n",
      "Test set accuracy (Precision@1) = 0.7680237489397794\n",
      "Epoch 55 Iteration 0: Loss = 6.373039245605469\n"
     ]
    },
    {
     "name": "stderr",
     "output_type": "stream",
     "text": [
      "100%|█████████████████████████████████████████████████████████████████████████████████████████████████████| 295/295 [00:16<00:00, 17.76it/s]\n",
      "100%|███████████████████████████████████████████████████████████████████████████████████████████████████████| 74/74 [00:03<00:00, 19.37it/s]\n"
     ]
    },
    {
     "name": "stdout",
     "output_type": "stream",
     "text": [
      "Computing accuracy\n",
      "Test set accuracy (Precision@1) = 0.7646310432569975\n",
      "Epoch 56 Iteration 0: Loss = 7.2828779220581055\n"
     ]
    },
    {
     "name": "stderr",
     "output_type": "stream",
     "text": [
      "100%|█████████████████████████████████████████████████████████████████████████████████████████████████████| 295/295 [00:16<00:00, 17.93it/s]\n",
      "100%|███████████████████████████████████████████████████████████████████████████████████████████████████████| 74/74 [00:03<00:00, 19.36it/s]\n"
     ]
    },
    {
     "name": "stdout",
     "output_type": "stream",
     "text": [
      "Computing accuracy\n",
      "Test set accuracy (Precision@1) = 0.7633587786259541\n",
      "Epoch 57 Iteration 0: Loss = 7.269392967224121\n"
     ]
    },
    {
     "name": "stderr",
     "output_type": "stream",
     "text": [
      "100%|█████████████████████████████████████████████████████████████████████████████████████████████████████| 295/295 [00:16<00:00, 17.98it/s]\n",
      "100%|███████████████████████████████████████████████████████████████████████████████████████████████████████| 74/74 [00:03<00:00, 19.39it/s]\n"
     ]
    },
    {
     "name": "stdout",
     "output_type": "stream",
     "text": [
      "Computing accuracy\n",
      "Test set accuracy (Precision@1) = 0.7569974554707379\n",
      "Epoch 58 Iteration 0: Loss = 7.968138694763184\n"
     ]
    },
    {
     "name": "stderr",
     "output_type": "stream",
     "text": [
      "100%|█████████████████████████████████████████████████████████████████████████████████████████████████████| 295/295 [00:16<00:00, 18.04it/s]\n",
      "100%|███████████████████████████████████████████████████████████████████████████████████████████████████████| 74/74 [00:03<00:00, 18.84it/s]\n"
     ]
    },
    {
     "name": "stdout",
     "output_type": "stream",
     "text": [
      "Computing accuracy\n",
      "Test set accuracy (Precision@1) = 0.767175572519084\n",
      "Epoch 59 Iteration 0: Loss = 5.479870796203613\n"
     ]
    },
    {
     "name": "stderr",
     "output_type": "stream",
     "text": [
      "100%|█████████████████████████████████████████████████████████████████████████████████████████████████████| 295/295 [00:16<00:00, 17.76it/s]\n",
      "100%|███████████████████████████████████████████████████████████████████████████████████████████████████████| 74/74 [00:03<00:00, 18.63it/s]\n"
     ]
    },
    {
     "name": "stdout",
     "output_type": "stream",
     "text": [
      "Computing accuracy\n",
      "Test set accuracy (Precision@1) = 0.7680237489397794\n",
      "Epoch 60 Iteration 0: Loss = 6.445000171661377\n"
     ]
    },
    {
     "name": "stderr",
     "output_type": "stream",
     "text": [
      "100%|█████████████████████████████████████████████████████████████████████████████████████████████████████| 295/295 [00:16<00:00, 17.72it/s]\n",
      "100%|███████████████████████████████████████████████████████████████████████████████████████████████████████| 74/74 [00:03<00:00, 19.04it/s]\n"
     ]
    },
    {
     "name": "stdout",
     "output_type": "stream",
     "text": [
      "Computing accuracy\n",
      "Test set accuracy (Precision@1) = 0.7646310432569975\n",
      "Epoch 61 Iteration 0: Loss = 5.367456436157227\n"
     ]
    },
    {
     "name": "stderr",
     "output_type": "stream",
     "text": [
      "100%|█████████████████████████████████████████████████████████████████████████████████████████████████████| 295/295 [00:16<00:00, 17.47it/s]\n",
      "100%|███████████████████████████████████████████████████████████████████████████████████████████████████████| 74/74 [00:04<00:00, 18.48it/s]\n"
     ]
    },
    {
     "name": "stdout",
     "output_type": "stream",
     "text": [
      "Computing accuracy\n",
      "Test set accuracy (Precision@1) = 0.7718405428329093\n",
      "Epoch 62 Iteration 0: Loss = 7.072233200073242\n"
     ]
    },
    {
     "name": "stderr",
     "output_type": "stream",
     "text": [
      "100%|█████████████████████████████████████████████████████████████████████████████████████████████████████| 295/295 [00:17<00:00, 17.15it/s]\n",
      "100%|███████████████████████████████████████████████████████████████████████████████████████████████████████| 74/74 [00:04<00:00, 18.30it/s]\n"
     ]
    },
    {
     "name": "stdout",
     "output_type": "stream",
     "text": [
      "Computing accuracy\n",
      "Test set accuracy (Precision@1) = 0.765479219677693\n",
      "Epoch 63 Iteration 0: Loss = 5.675600051879883\n"
     ]
    },
    {
     "name": "stderr",
     "output_type": "stream",
     "text": [
      "100%|█████████████████████████████████████████████████████████████████████████████████████████████████████| 295/295 [00:17<00:00, 17.26it/s]\n",
      "100%|███████████████████████████████████████████████████████████████████████████████████████████████████████| 74/74 [00:03<00:00, 19.03it/s]\n"
     ]
    },
    {
     "name": "stdout",
     "output_type": "stream",
     "text": [
      "Computing accuracy\n",
      "Test set accuracy (Precision@1) = 0.7680237489397794\n",
      "Epoch 64 Iteration 0: Loss = 5.823592662811279\n"
     ]
    },
    {
     "name": "stderr",
     "output_type": "stream",
     "text": [
      "100%|█████████████████████████████████████████████████████████████████████████████████████████████████████| 295/295 [00:17<00:00, 17.14it/s]\n",
      "100%|███████████████████████████████████████████████████████████████████████████████████████████████████████| 74/74 [00:03<00:00, 18.51it/s]\n"
     ]
    },
    {
     "name": "stdout",
     "output_type": "stream",
     "text": [
      "Computing accuracy\n",
      "Test set accuracy (Precision@1) = 0.7731128074639525\n",
      "Epoch 65 Iteration 0: Loss = 4.489562034606934\n"
     ]
    },
    {
     "name": "stderr",
     "output_type": "stream",
     "text": [
      "100%|█████████████████████████████████████████████████████████████████████████████████████████████████████| 295/295 [00:17<00:00, 17.08it/s]\n",
      "100%|███████████████████████████████████████████████████████████████████████████████████████████████████████| 74/74 [00:03<00:00, 18.52it/s]\n"
     ]
    },
    {
     "name": "stdout",
     "output_type": "stream",
     "text": [
      "Computing accuracy\n",
      "Test set accuracy (Precision@1) = 0.772264631043257\n",
      "Epoch 66 Iteration 0: Loss = 5.21834659576416\n"
     ]
    },
    {
     "name": "stderr",
     "output_type": "stream",
     "text": [
      "100%|█████████████████████████████████████████████████████████████████████████████████████████████████████| 295/295 [00:17<00:00, 17.17it/s]\n",
      "100%|███████████████████████████████████████████████████████████████████████████████████████████████████████| 74/74 [00:03<00:00, 18.53it/s]\n"
     ]
    },
    {
     "name": "stdout",
     "output_type": "stream",
     "text": [
      "Computing accuracy\n",
      "Test set accuracy (Precision@1) = 0.7709923664122137\n",
      "Epoch 67 Iteration 0: Loss = 4.473521709442139\n"
     ]
    },
    {
     "name": "stderr",
     "output_type": "stream",
     "text": [
      "100%|█████████████████████████████████████████████████████████████████████████████████████████████████████| 295/295 [00:17<00:00, 17.17it/s]\n",
      "100%|███████████████████████████████████████████████████████████████████████████████████████████████████████| 74/74 [00:04<00:00, 18.36it/s]\n"
     ]
    },
    {
     "name": "stdout",
     "output_type": "stream",
     "text": [
      "Computing accuracy\n",
      "Test set accuracy (Precision@1) = 0.7731128074639525\n",
      "Epoch 68 Iteration 0: Loss = 4.569875240325928\n"
     ]
    },
    {
     "name": "stderr",
     "output_type": "stream",
     "text": [
      "100%|█████████████████████████████████████████████████████████████████████████████████████████████████████| 295/295 [00:17<00:00, 17.16it/s]\n",
      "100%|███████████████████████████████████████████████████████████████████████████████████████████████████████| 74/74 [00:03<00:00, 18.53it/s]\n"
     ]
    },
    {
     "name": "stdout",
     "output_type": "stream",
     "text": [
      "Computing accuracy\n",
      "Test set accuracy (Precision@1) = 0.7701441899915182\n",
      "Epoch 69 Iteration 0: Loss = 3.9105494022369385\n"
     ]
    },
    {
     "name": "stderr",
     "output_type": "stream",
     "text": [
      "100%|█████████████████████████████████████████████████████████████████████████████████████████████████████| 295/295 [00:17<00:00, 16.99it/s]\n",
      "100%|███████████████████████████████████████████████████████████████████████████████████████████████████████| 74/74 [00:03<00:00, 18.63it/s]\n"
     ]
    },
    {
     "name": "stdout",
     "output_type": "stream",
     "text": [
      "Computing accuracy\n",
      "Test set accuracy (Precision@1) = 0.7714164546225615\n",
      "Epoch 70 Iteration 0: Loss = 4.937606334686279\n"
     ]
    },
    {
     "name": "stderr",
     "output_type": "stream",
     "text": [
      "100%|█████████████████████████████████████████████████████████████████████████████████████████████████████| 295/295 [00:17<00:00, 17.23it/s]\n",
      "100%|███████████████████████████████████████████████████████████████████████████████████████████████████████| 74/74 [00:03<00:00, 18.54it/s]\n"
     ]
    },
    {
     "name": "stdout",
     "output_type": "stream",
     "text": [
      "Computing accuracy\n",
      "Test set accuracy (Precision@1) = 0.7714164546225615\n",
      "Epoch 71 Iteration 0: Loss = 3.8892149925231934\n"
     ]
    },
    {
     "name": "stderr",
     "output_type": "stream",
     "text": [
      "100%|█████████████████████████████████████████████████████████████████████████████████████████████████████| 295/295 [00:17<00:00, 17.23it/s]\n",
      "100%|███████████████████████████████████████████████████████████████████████████████████████████████████████| 74/74 [00:04<00:00, 18.42it/s]\n"
     ]
    },
    {
     "name": "stdout",
     "output_type": "stream",
     "text": [
      "Computing accuracy\n",
      "Test set accuracy (Precision@1) = 0.7692960135708227\n",
      "Epoch 72 Iteration 0: Loss = 4.190271377563477\n"
     ]
    },
    {
     "name": "stderr",
     "output_type": "stream",
     "text": [
      "100%|█████████████████████████████████████████████████████████████████████████████████████████████████████| 295/295 [00:17<00:00, 17.08it/s]\n",
      "100%|███████████████████████████████████████████████████████████████████████████████████████████████████████| 74/74 [00:04<00:00, 18.42it/s]\n"
     ]
    },
    {
     "name": "stdout",
     "output_type": "stream",
     "text": [
      "Computing accuracy\n",
      "Test set accuracy (Precision@1) = 0.7680237489397794\n",
      "Epoch 73 Iteration 0: Loss = 3.922941207885742\n"
     ]
    },
    {
     "name": "stderr",
     "output_type": "stream",
     "text": [
      "100%|█████████████████████████████████████████████████████████████████████████████████████████████████████| 295/295 [00:17<00:00, 17.24it/s]\n",
      "100%|███████████████████████████████████████████████████████████████████████████████████████████████████████| 74/74 [00:03<00:00, 18.53it/s]\n"
     ]
    },
    {
     "name": "stdout",
     "output_type": "stream",
     "text": [
      "Computing accuracy\n",
      "Test set accuracy (Precision@1) = 0.7620865139949109\n",
      "Epoch 74 Iteration 0: Loss = 3.7316012382507324\n"
     ]
    },
    {
     "name": "stderr",
     "output_type": "stream",
     "text": [
      "100%|█████████████████████████████████████████████████████████████████████████████████████████████████████| 295/295 [00:17<00:00, 16.94it/s]\n",
      "100%|███████████████████████████████████████████████████████████████████████████████████████████████████████| 74/74 [00:03<00:00, 18.61it/s]\n"
     ]
    },
    {
     "name": "stdout",
     "output_type": "stream",
     "text": [
      "Computing accuracy\n",
      "Test set accuracy (Precision@1) = 0.7684478371501272\n",
      "Epoch 75 Iteration 0: Loss = 4.136229515075684\n"
     ]
    },
    {
     "name": "stderr",
     "output_type": "stream",
     "text": [
      "100%|█████████████████████████████████████████████████████████████████████████████████████████████████████| 295/295 [00:17<00:00, 17.21it/s]\n",
      "100%|███████████████████████████████████████████████████████████████████████████████████████████████████████| 74/74 [00:03<00:00, 18.69it/s]\n"
     ]
    },
    {
     "name": "stdout",
     "output_type": "stream",
     "text": [
      "Computing accuracy\n",
      "Test set accuracy (Precision@1) = 0.7752332485156913\n",
      "Epoch 76 Iteration 0: Loss = 3.8318514823913574\n"
     ]
    },
    {
     "name": "stderr",
     "output_type": "stream",
     "text": [
      "100%|█████████████████████████████████████████████████████████████████████████████████████████████████████| 295/295 [00:17<00:00, 17.21it/s]\n",
      "100%|███████████████████████████████████████████████████████████████████████████████████████████████████████| 74/74 [00:04<00:00, 18.42it/s]\n"
     ]
    },
    {
     "name": "stdout",
     "output_type": "stream",
     "text": [
      "Computing accuracy\n",
      "Test set accuracy (Precision@1) = 0.7798982188295165\n",
      "Epoch 77 Iteration 0: Loss = 4.5044264793396\n"
     ]
    },
    {
     "name": "stderr",
     "output_type": "stream",
     "text": [
      "100%|█████████████████████████████████████████████████████████████████████████████████████████████████████| 295/295 [00:17<00:00, 17.21it/s]\n",
      "100%|███████████████████████████████████████████████████████████████████████████████████████████████████████| 74/74 [00:03<00:00, 19.47it/s]\n"
     ]
    },
    {
     "name": "stdout",
     "output_type": "stream",
     "text": [
      "Computing accuracy\n",
      "Test set accuracy (Precision@1) = 0.7735368956743003\n",
      "Epoch 78 Iteration 0: Loss = 3.407148838043213\n"
     ]
    },
    {
     "name": "stderr",
     "output_type": "stream",
     "text": [
      "100%|█████████████████████████████████████████████████████████████████████████████████████████████████████| 295/295 [00:16<00:00, 18.09it/s]\n",
      "100%|███████████████████████████████████████████████████████████████████████████████████████████████████████| 74/74 [00:03<00:00, 19.50it/s]\n"
     ]
    },
    {
     "name": "stdout",
     "output_type": "stream",
     "text": [
      "Computing accuracy\n",
      "Test set accuracy (Precision@1) = 0.7726887192536047\n",
      "Epoch 79 Iteration 0: Loss = 2.287736415863037\n"
     ]
    },
    {
     "name": "stderr",
     "output_type": "stream",
     "text": [
      "100%|█████████████████████████████████████████████████████████████████████████████████████████████████████| 295/295 [00:16<00:00, 18.07it/s]\n",
      "100%|███████████████████████████████████████████████████████████████████████████████████████████████████████| 74/74 [00:03<00:00, 19.56it/s]\n"
     ]
    },
    {
     "name": "stdout",
     "output_type": "stream",
     "text": [
      "Computing accuracy\n",
      "Test set accuracy (Precision@1) = 0.7697201017811705\n",
      "Epoch 80 Iteration 0: Loss = 3.113694190979004\n"
     ]
    },
    {
     "name": "stderr",
     "output_type": "stream",
     "text": [
      "100%|█████████████████████████████████████████████████████████████████████████████████████████████████████| 295/295 [00:16<00:00, 18.07it/s]\n",
      "100%|███████████████████████████████████████████████████████████████████████████████████████████████████████| 74/74 [00:03<00:00, 19.55it/s]\n"
     ]
    },
    {
     "name": "stdout",
     "output_type": "stream",
     "text": [
      "Computing accuracy\n",
      "Test set accuracy (Precision@1) = 0.7765055131467345\n",
      "Epoch 81 Iteration 0: Loss = 3.4680042266845703\n"
     ]
    },
    {
     "name": "stderr",
     "output_type": "stream",
     "text": [
      "100%|█████████████████████████████████████████████████████████████████████████████████████████████████████| 295/295 [00:16<00:00, 18.10it/s]\n",
      "100%|███████████████████████████████████████████████████████████████████████████████████████████████████████| 74/74 [00:03<00:00, 19.62it/s]\n"
     ]
    },
    {
     "name": "stdout",
     "output_type": "stream",
     "text": [
      "Computing accuracy\n",
      "Test set accuracy (Precision@1) = 0.7675996607294318\n",
      "Epoch 82 Iteration 0: Loss = 2.7556231021881104\n"
     ]
    },
    {
     "name": "stderr",
     "output_type": "stream",
     "text": [
      "100%|█████████████████████████████████████████████████████████████████████████████████████████████████████| 295/295 [00:16<00:00, 18.09it/s]\n",
      "100%|███████████████████████████████████████████████████████████████████████████████████████████████████████| 74/74 [00:03<00:00, 19.09it/s]\n"
     ]
    },
    {
     "name": "stdout",
     "output_type": "stream",
     "text": [
      "Computing accuracy\n",
      "Test set accuracy (Precision@1) = 0.7786259541984732\n",
      "Epoch 83 Iteration 0: Loss = 2.627286434173584\n"
     ]
    },
    {
     "name": "stderr",
     "output_type": "stream",
     "text": [
      "100%|█████████████████████████████████████████████████████████████████████████████████████████████████████| 295/295 [00:16<00:00, 18.04it/s]\n",
      "100%|███████████████████████████████████████████████████████████████████████████████████████████████████████| 74/74 [00:03<00:00, 19.40it/s]\n"
     ]
    },
    {
     "name": "stdout",
     "output_type": "stream",
     "text": [
      "Computing accuracy\n",
      "Test set accuracy (Precision@1) = 0.7769296013570822\n",
      "Epoch 84 Iteration 0: Loss = 2.6371984481811523\n"
     ]
    },
    {
     "name": "stderr",
     "output_type": "stream",
     "text": [
      "100%|█████████████████████████████████████████████████████████████████████████████████████████████████████| 295/295 [00:16<00:00, 18.12it/s]\n",
      "100%|███████████████████████████████████████████████████████████████████████████████████████████████████████| 74/74 [00:03<00:00, 19.54it/s]\n"
     ]
    },
    {
     "name": "stdout",
     "output_type": "stream",
     "text": [
      "Computing accuracy\n",
      "Test set accuracy (Precision@1) = 0.7726887192536047\n",
      "Epoch 85 Iteration 0: Loss = 3.4298830032348633\n"
     ]
    },
    {
     "name": "stderr",
     "output_type": "stream",
     "text": [
      "100%|█████████████████████████████████████████████████████████████████████████████████████████████████████| 295/295 [00:16<00:00, 18.10it/s]\n",
      "100%|███████████████████████████████████████████████████████████████████████████████████████████████████████| 74/74 [00:03<00:00, 19.50it/s]\n"
     ]
    },
    {
     "name": "stdout",
     "output_type": "stream",
     "text": [
      "Computing accuracy\n",
      "Test set accuracy (Precision@1) = 0.7663273960983884\n",
      "Epoch 86 Iteration 0: Loss = 1.8417279720306396\n"
     ]
    },
    {
     "name": "stderr",
     "output_type": "stream",
     "text": [
      "100%|█████████████████████████████████████████████████████████████████████████████████████████████████████| 295/295 [00:16<00:00, 18.07it/s]\n",
      "100%|███████████████████████████████████████████████████████████████████████████████████████████████████████| 74/74 [00:03<00:00, 19.59it/s]\n"
     ]
    },
    {
     "name": "stdout",
     "output_type": "stream",
     "text": [
      "Computing accuracy\n",
      "Test set accuracy (Precision@1) = 0.77735368956743\n",
      "Epoch 87 Iteration 0: Loss = 1.8147480487823486\n"
     ]
    },
    {
     "name": "stderr",
     "output_type": "stream",
     "text": [
      "100%|█████████████████████████████████████████████████████████████████████████████████████████████████████| 295/295 [00:16<00:00, 18.04it/s]\n",
      "100%|███████████████████████████████████████████████████████████████████████████████████████████████████████| 74/74 [00:03<00:00, 19.54it/s]\n"
     ]
    },
    {
     "name": "stdout",
     "output_type": "stream",
     "text": [
      "Computing accuracy\n",
      "Test set accuracy (Precision@1) = 0.7820186598812553\n",
      "Epoch 88 Iteration 0: Loss = 1.7562423944473267\n"
     ]
    },
    {
     "name": "stderr",
     "output_type": "stream",
     "text": [
      "100%|█████████████████████████████████████████████████████████████████████████████████████████████████████| 295/295 [00:16<00:00, 18.08it/s]\n",
      "100%|███████████████████████████████████████████████████████████████████████████████████████████████████████| 74/74 [00:03<00:00, 19.50it/s]\n"
     ]
    },
    {
     "name": "stdout",
     "output_type": "stream",
     "text": [
      "Computing accuracy\n",
      "Test set accuracy (Precision@1) = 0.7786259541984732\n",
      "Epoch 89 Iteration 0: Loss = 2.155333995819092\n"
     ]
    },
    {
     "name": "stderr",
     "output_type": "stream",
     "text": [
      "100%|█████████████████████████████████████████████████████████████████████████████████████████████████████| 295/295 [00:16<00:00, 18.10it/s]\n",
      "100%|███████████████████████████████████████████████████████████████████████████████████████████████████████| 74/74 [00:03<00:00, 19.60it/s]\n"
     ]
    },
    {
     "name": "stdout",
     "output_type": "stream",
     "text": [
      "Computing accuracy\n",
      "Test set accuracy (Precision@1) = 0.7726887192536047\n",
      "Epoch 90 Iteration 0: Loss = 2.4759528636932373\n"
     ]
    },
    {
     "name": "stderr",
     "output_type": "stream",
     "text": [
      "100%|█████████████████████████████████████████████████████████████████████████████████████████████████████| 295/295 [00:16<00:00, 18.10it/s]\n",
      "100%|███████████████████████████████████████████████████████████████████████████████████████████████████████| 74/74 [00:03<00:00, 19.53it/s]\n"
     ]
    },
    {
     "name": "stdout",
     "output_type": "stream",
     "text": [
      "Computing accuracy\n",
      "Test set accuracy (Precision@1) = 0.7760814249363868\n",
      "Epoch 91 Iteration 0: Loss = 1.8249223232269287\n"
     ]
    },
    {
     "name": "stderr",
     "output_type": "stream",
     "text": [
      "100%|█████████████████████████████████████████████████████████████████████████████████████████████████████| 295/295 [00:16<00:00, 18.07it/s]\n",
      "100%|███████████████████████████████████████████████████████████████████████████████████████████████████████| 74/74 [00:03<00:00, 19.56it/s]\n"
     ]
    },
    {
     "name": "stdout",
     "output_type": "stream",
     "text": [
      "Computing accuracy\n",
      "Test set accuracy (Precision@1) = 0.779050042408821\n",
      "Epoch 92 Iteration 0: Loss = 1.9801785945892334\n"
     ]
    },
    {
     "name": "stderr",
     "output_type": "stream",
     "text": [
      "100%|█████████████████████████████████████████████████████████████████████████████████████████████████████| 295/295 [00:16<00:00, 18.03it/s]\n",
      "100%|███████████████████████████████████████████████████████████████████████████████████████████████████████| 74/74 [00:03<00:00, 19.52it/s]\n"
     ]
    },
    {
     "name": "stdout",
     "output_type": "stream",
     "text": [
      "Computing accuracy\n",
      "Test set accuracy (Precision@1) = 0.772264631043257\n",
      "Epoch 93 Iteration 0: Loss = 1.688929557800293\n"
     ]
    },
    {
     "name": "stderr",
     "output_type": "stream",
     "text": [
      "100%|█████████████████████████████████████████████████████████████████████████████████████████████████████| 295/295 [00:16<00:00, 18.12it/s]\n",
      "100%|███████████████████████████████████████████████████████████████████████████████████████████████████████| 74/74 [00:03<00:00, 18.73it/s]\n"
     ]
    },
    {
     "name": "stdout",
     "output_type": "stream",
     "text": [
      "Computing accuracy\n",
      "Test set accuracy (Precision@1) = 0.7798982188295165\n",
      "Epoch 94 Iteration 0: Loss = 1.563293695449829\n"
     ]
    },
    {
     "name": "stderr",
     "output_type": "stream",
     "text": [
      "100%|█████████████████████████████████████████████████████████████████████████████████████████████████████| 295/295 [00:16<00:00, 18.08it/s]\n",
      "100%|███████████████████████████████████████████████████████████████████████████████████████████████████████| 74/74 [00:03<00:00, 19.37it/s]\n"
     ]
    },
    {
     "name": "stdout",
     "output_type": "stream",
     "text": [
      "Computing accuracy\n",
      "Test set accuracy (Precision@1) = 0.7769296013570822\n",
      "Epoch 95 Iteration 0: Loss = 1.6757066249847412\n"
     ]
    },
    {
     "name": "stderr",
     "output_type": "stream",
     "text": [
      "100%|█████████████████████████████████████████████████████████████████████████████████████████████████████| 295/295 [00:16<00:00, 18.06it/s]\n",
      "100%|███████████████████████████████████████████████████████████████████████████████████████████████████████| 74/74 [00:03<00:00, 19.51it/s]\n"
     ]
    },
    {
     "name": "stdout",
     "output_type": "stream",
     "text": [
      "Computing accuracy\n",
      "Test set accuracy (Precision@1) = 0.775657336726039\n",
      "Epoch 96 Iteration 0: Loss = 1.755977988243103\n"
     ]
    },
    {
     "name": "stderr",
     "output_type": "stream",
     "text": [
      "100%|█████████████████████████████████████████████████████████████████████████████████████████████████████| 295/295 [00:16<00:00, 18.14it/s]\n",
      "100%|███████████████████████████████████████████████████████████████████████████████████████████████████████| 74/74 [00:03<00:00, 19.56it/s]\n"
     ]
    },
    {
     "name": "stdout",
     "output_type": "stream",
     "text": [
      "Computing accuracy\n",
      "Test set accuracy (Precision@1) = 0.77735368956743\n",
      "Epoch 97 Iteration 0: Loss = 1.6965538263320923\n"
     ]
    },
    {
     "name": "stderr",
     "output_type": "stream",
     "text": [
      "100%|█████████████████████████████████████████████████████████████████████████████████████████████████████| 295/295 [00:16<00:00, 18.03it/s]\n",
      "100%|███████████████████████████████████████████████████████████████████████████████████████████████████████| 74/74 [00:03<00:00, 19.44it/s]\n"
     ]
    },
    {
     "name": "stdout",
     "output_type": "stream",
     "text": [
      "Computing accuracy\n",
      "Test set accuracy (Precision@1) = 0.7769296013570822\n",
      "Epoch 98 Iteration 0: Loss = 0.9212841987609863\n"
     ]
    },
    {
     "name": "stderr",
     "output_type": "stream",
     "text": [
      "100%|█████████████████████████████████████████████████████████████████████████████████████████████████████| 295/295 [00:16<00:00, 17.99it/s]\n",
      "100%|███████████████████████████████████████████████████████████████████████████████████████████████████████| 74/74 [00:03<00:00, 19.58it/s]\n"
     ]
    },
    {
     "name": "stdout",
     "output_type": "stream",
     "text": [
      "Computing accuracy\n",
      "Test set accuracy (Precision@1) = 0.77735368956743\n",
      "Epoch 99 Iteration 0: Loss = 0.9443473219871521\n"
     ]
    },
    {
     "name": "stderr",
     "output_type": "stream",
     "text": [
      "100%|█████████████████████████████████████████████████████████████████████████████████████████████████████| 295/295 [00:16<00:00, 18.12it/s]\n",
      "100%|███████████████████████████████████████████████████████████████████████████████████████████████████████| 74/74 [00:03<00:00, 19.55it/s]\n"
     ]
    },
    {
     "name": "stdout",
     "output_type": "stream",
     "text": [
      "Computing accuracy\n",
      "Test set accuracy (Precision@1) = 0.7760814249363868\n",
      "Epoch 100 Iteration 0: Loss = 0.8475911021232605\n"
     ]
    },
    {
     "name": "stderr",
     "output_type": "stream",
     "text": [
      "100%|█████████████████████████████████████████████████████████████████████████████████████████████████████| 295/295 [00:16<00:00, 18.03it/s]\n",
      "100%|███████████████████████████████████████████████████████████████████████████████████████████████████████| 74/74 [00:03<00:00, 19.51it/s]\n"
     ]
    },
    {
     "name": "stdout",
     "output_type": "stream",
     "text": [
      "Computing accuracy\n",
      "Test set accuracy (Precision@1) = 0.775657336726039\n"
     ]
    }
   ],
   "source": [
    "#total_loss = []\n",
    "#total_acc = []\n",
    "for epoch in range(1, num_epochs + 1):\n",
    "    train_loss = train(model, loss_func, device, train_loader, optimizer, epoch)\n",
    "    #total_loss.extend(train_loss)\n",
    "    test_acc = test(train_dataset, test_dataset, model, accuracy_calculator)\n",
    "    #total_acc.append(test_acc)\n",
    "    wandb.log({\"test_accuracy\": test_acc, \"train_loss\": train_loss,'epoch':epoch})"
   ]
  },
  {
   "cell_type": "code",
   "execution_count": 22,
   "id": "f4e33826-711a-4780-b22f-8089e23719da",
   "metadata": {},
   "outputs": [],
   "source": [
    "torch.save(model,config['model_save_path']+'_200.pth')"
   ]
  },
  {
   "cell_type": "code",
   "execution_count": 48,
   "id": "8468f5a6-8c26-4f43-b780-898e6e6cbc12",
   "metadata": {
    "scrolled": true
   },
   "outputs": [],
   "source": [
    "model = torch.load('models/cub_triplet_loss_epshn_resnet18_200.pth',map_location='cuda')"
   ]
  },
  {
   "cell_type": "code",
   "execution_count": 23,
   "id": "ee72491a-6daa-4df4-8905-9d237e26b24f",
   "metadata": {
    "scrolled": true
   },
   "outputs": [
    {
     "data": {
      "text/plain": [
       "ResNetFeatrueExtractor18(\n",
       "  (conv1): Conv2d(3, 64, kernel_size=(7, 7), stride=(2, 2), padding=(3, 3), bias=False)\n",
       "  (bn1): BatchNorm2d(64, eps=1e-05, momentum=0.1, affine=True, track_running_stats=True)\n",
       "  (relu): ReLU(inplace=True)\n",
       "  (maxpool): MaxPool2d(kernel_size=3, stride=2, padding=1, dilation=1, ceil_mode=False)\n",
       "  (layer1): Sequential(\n",
       "    (0): BasicBlock(\n",
       "      (conv1): Conv2d(64, 64, kernel_size=(3, 3), stride=(1, 1), padding=(1, 1), bias=False)\n",
       "      (bn1): BatchNorm2d(64, eps=1e-05, momentum=0.1, affine=True, track_running_stats=True)\n",
       "      (relu): ReLU(inplace=True)\n",
       "      (conv2): Conv2d(64, 64, kernel_size=(3, 3), stride=(1, 1), padding=(1, 1), bias=False)\n",
       "      (bn2): BatchNorm2d(64, eps=1e-05, momentum=0.1, affine=True, track_running_stats=True)\n",
       "    )\n",
       "    (1): BasicBlock(\n",
       "      (conv1): Conv2d(64, 64, kernel_size=(3, 3), stride=(1, 1), padding=(1, 1), bias=False)\n",
       "      (bn1): BatchNorm2d(64, eps=1e-05, momentum=0.1, affine=True, track_running_stats=True)\n",
       "      (relu): ReLU(inplace=True)\n",
       "      (conv2): Conv2d(64, 64, kernel_size=(3, 3), stride=(1, 1), padding=(1, 1), bias=False)\n",
       "      (bn2): BatchNorm2d(64, eps=1e-05, momentum=0.1, affine=True, track_running_stats=True)\n",
       "    )\n",
       "  )\n",
       "  (layer2): Sequential(\n",
       "    (0): BasicBlock(\n",
       "      (conv1): Conv2d(64, 128, kernel_size=(3, 3), stride=(2, 2), padding=(1, 1), bias=False)\n",
       "      (bn1): BatchNorm2d(128, eps=1e-05, momentum=0.1, affine=True, track_running_stats=True)\n",
       "      (relu): ReLU(inplace=True)\n",
       "      (conv2): Conv2d(128, 128, kernel_size=(3, 3), stride=(1, 1), padding=(1, 1), bias=False)\n",
       "      (bn2): BatchNorm2d(128, eps=1e-05, momentum=0.1, affine=True, track_running_stats=True)\n",
       "      (downsample): Sequential(\n",
       "        (0): Conv2d(64, 128, kernel_size=(1, 1), stride=(2, 2), bias=False)\n",
       "        (1): BatchNorm2d(128, eps=1e-05, momentum=0.1, affine=True, track_running_stats=True)\n",
       "      )\n",
       "    )\n",
       "    (1): BasicBlock(\n",
       "      (conv1): Conv2d(128, 128, kernel_size=(3, 3), stride=(1, 1), padding=(1, 1), bias=False)\n",
       "      (bn1): BatchNorm2d(128, eps=1e-05, momentum=0.1, affine=True, track_running_stats=True)\n",
       "      (relu): ReLU(inplace=True)\n",
       "      (conv2): Conv2d(128, 128, kernel_size=(3, 3), stride=(1, 1), padding=(1, 1), bias=False)\n",
       "      (bn2): BatchNorm2d(128, eps=1e-05, momentum=0.1, affine=True, track_running_stats=True)\n",
       "    )\n",
       "  )\n",
       "  (layer3): Sequential(\n",
       "    (0): BasicBlock(\n",
       "      (conv1): Conv2d(128, 256, kernel_size=(3, 3), stride=(2, 2), padding=(1, 1), bias=False)\n",
       "      (bn1): BatchNorm2d(256, eps=1e-05, momentum=0.1, affine=True, track_running_stats=True)\n",
       "      (relu): ReLU(inplace=True)\n",
       "      (conv2): Conv2d(256, 256, kernel_size=(3, 3), stride=(1, 1), padding=(1, 1), bias=False)\n",
       "      (bn2): BatchNorm2d(256, eps=1e-05, momentum=0.1, affine=True, track_running_stats=True)\n",
       "      (downsample): Sequential(\n",
       "        (0): Conv2d(128, 256, kernel_size=(1, 1), stride=(2, 2), bias=False)\n",
       "        (1): BatchNorm2d(256, eps=1e-05, momentum=0.1, affine=True, track_running_stats=True)\n",
       "      )\n",
       "    )\n",
       "    (1): BasicBlock(\n",
       "      (conv1): Conv2d(256, 256, kernel_size=(3, 3), stride=(1, 1), padding=(1, 1), bias=False)\n",
       "      (bn1): BatchNorm2d(256, eps=1e-05, momentum=0.1, affine=True, track_running_stats=True)\n",
       "      (relu): ReLU(inplace=True)\n",
       "      (conv2): Conv2d(256, 256, kernel_size=(3, 3), stride=(1, 1), padding=(1, 1), bias=False)\n",
       "      (bn2): BatchNorm2d(256, eps=1e-05, momentum=0.1, affine=True, track_running_stats=True)\n",
       "    )\n",
       "  )\n",
       "  (layer4): Sequential(\n",
       "    (0): BasicBlock(\n",
       "      (conv1): Conv2d(256, 512, kernel_size=(3, 3), stride=(2, 2), padding=(1, 1), bias=False)\n",
       "      (bn1): BatchNorm2d(512, eps=1e-05, momentum=0.1, affine=True, track_running_stats=True)\n",
       "      (relu): ReLU(inplace=True)\n",
       "      (conv2): Conv2d(512, 512, kernel_size=(3, 3), stride=(1, 1), padding=(1, 1), bias=False)\n",
       "      (bn2): BatchNorm2d(512, eps=1e-05, momentum=0.1, affine=True, track_running_stats=True)\n",
       "      (downsample): Sequential(\n",
       "        (0): Conv2d(256, 512, kernel_size=(1, 1), stride=(2, 2), bias=False)\n",
       "        (1): BatchNorm2d(512, eps=1e-05, momentum=0.1, affine=True, track_running_stats=True)\n",
       "      )\n",
       "    )\n",
       "    (1): BasicBlock(\n",
       "      (conv1): Conv2d(512, 512, kernel_size=(3, 3), stride=(1, 1), padding=(1, 1), bias=False)\n",
       "      (bn1): BatchNorm2d(512, eps=1e-05, momentum=0.1, affine=True, track_running_stats=True)\n",
       "      (relu): ReLU(inplace=True)\n",
       "      (conv2): Conv2d(512, 512, kernel_size=(3, 3), stride=(1, 1), padding=(1, 1), bias=False)\n",
       "      (bn2): BatchNorm2d(512, eps=1e-05, momentum=0.1, affine=True, track_running_stats=True)\n",
       "    )\n",
       "  )\n",
       "  (avgpool): AdaptiveAvgPool2d(output_size=(1, 1))\n",
       "  (fc1): Linear(in_features=512, out_features=128, bias=True)\n",
       ")"
      ]
     },
     "execution_count": 23,
     "metadata": {},
     "output_type": "execute_result"
    }
   ],
   "source": [
    "model.eval()"
   ]
  },
  {
   "cell_type": "code",
   "execution_count": 24,
   "id": "c99fe1cb-ce19-41bf-bb1d-658c8b1b89d9",
   "metadata": {},
   "outputs": [],
   "source": [
    "from pytorch_metric_learning.distances import LpDistance,CosineSimilarity\n",
    "from pytorch_metric_learning.utils.inference import CustomKNN\n",
    "knn_func = CustomKNN(CosineSimilarity())\n",
    "accuracy_calculator = AccuracyCalculator(include=(\"precision_at_1\",),k=1,knn_func=knn_func,avg_of_avgs=False,return_per_class=True)\n",
    "#test(train_dataset, test_dataset, model, accuracy_calculator)"
   ]
  },
  {
   "cell_type": "code",
   "execution_count": 25,
   "id": "248f5f10-0423-47bf-a7b1-83de1a863c7f",
   "metadata": {},
   "outputs": [
    {
     "name": "stderr",
     "output_type": "stream",
     "text": [
      "100%|█████████████████████████████████████████████████████████████████████████████████████████████████████| 295/295 [00:16<00:00, 17.89it/s]\n",
      "100%|███████████████████████████████████████████████████████████████████████████████████████████████████████| 74/74 [00:03<00:00, 19.34it/s]\n"
     ]
    }
   ],
   "source": [
    "train_embeddings, train_labels = get_all_embeddings(train_dataset, model)\n",
    "test_embeddings, test_labels = get_all_embeddings(test_dataset, model)\n",
    "train_labels = train_labels.squeeze(1)\n",
    "test_labels = test_labels.squeeze(1)"
   ]
  },
  {
   "cell_type": "code",
   "execution_count": 26,
   "id": "eba43667-c551-46c0-93aa-dbcf38f695f7",
   "metadata": {},
   "outputs": [
    {
     "name": "stdout",
     "output_type": "stream",
     "text": [
      "{'precision_at_1': [0.6666666666666666, 0.6666666666666666, 0.8333333333333334, 1.0, 1.0, 0.75, 1.0, 0.5555555555555556, 0.5, 0.9166666666666666, 0.3333333333333333, 1.0, 0.8333333333333334, 0.9166666666666666, 0.7272727272727273, 0.7272727272727273, 0.9090909090909091, 1.0, 0.8333333333333334, 0.9166666666666666, 0.8333333333333334, 0.8181818181818182, 0.5, 1.0, 0.5833333333333334, 0.9166666666666666, 0.6666666666666666, 0.8333333333333334, 0.5, 0.25, 0.6666666666666666, 0.6, 0.8333333333333334, 1.0, 0.9166666666666666, 0.9166666666666666, 0.5, 0.8333333333333334, 0.25, 0.5833333333333334, 0.8333333333333334, 1.0, 0.5, 0.75, 0.5, 0.9166666666666666, 0.9166666666666666, 1.0, 0.4166666666666667, 0.8333333333333334, 0.9166666666666666, 0.9166666666666666, 1.0, 0.75, 1.0, 1.0, 1.0, 0.8333333333333334, 0.4166666666666667, 0.6666666666666666, 0.9166666666666666, 0.3333333333333333, 1.0, 0.3333333333333333, 0.5, 0.3333333333333333, 0.5833333333333334, 0.9166666666666666, 0.75, 0.9166666666666666, 0.4166666666666667, 0.3333333333333333, 0.8333333333333334, 0.8333333333333334, 1.0, 0.9166666666666666, 1.0, 0.75, 0.8333333333333334, 0.75, 0.9166666666666666, 0.6666666666666666, 0.8333333333333334, 0.9, 0.9166666666666666, 0.9166666666666666, 1.0, 0.9166666666666666, 0.8333333333333334, 0.9166666666666666, 0.5833333333333334, 0.6666666666666666, 0.9166666666666666, 1.0, 1.0, 0.8333333333333334, 0.75, 0.9166666666666666, 0.75, 1.0, 0.8, 0.5833333333333334, 0.6666666666666666, 0.8333333333333334, 0.7, 0.9166666666666666, 0.4166666666666667, 0.75, 0.9166666666666666, 0.9166666666666666, 0.5833333333333334, 0.75, 0.9, 1.0, 0.75, 0.75, 0.8333333333333334, 0.5, 0.8333333333333334, 0.75, 0.25, 0.8333333333333334, 0.75, 0.75, 0.6666666666666666, 0.8333333333333334, 0.8333333333333334, 0.8333333333333334, 0.75, 0.8333333333333334, 0.5833333333333334, 0.75, 0.8333333333333334, 0.9166666666666666, 0.5, 0.8333333333333334, 0.75, 0.9166666666666666, 1.0, 1.0, 1.0, 0.4166666666666667, 0.25, 0.5, 0.5, 0.5, 0.75, 1.0, 0.8333333333333334, 0.5833333333333334, 0.9, 0.9166666666666666, 0.75, 0.9166666666666666, 0.5833333333333334, 0.8333333333333334, 0.8333333333333334, 0.75, 1.0, 0.75, 0.9166666666666666, 0.8333333333333334, 0.9166666666666666, 0.9166666666666666, 0.9166666666666666, 0.8333333333333334, 0.8333333333333334, 0.9166666666666666, 0.75, 0.9166666666666666, 0.75, 0.75, 0.6666666666666666, 0.6666666666666666, 0.75, 1.0, 0.9166666666666666, 0.9090909090909091, 0.3333333333333333, 0.75, 0.9166666666666666, 0.75, 0.8333333333333334, 0.5833333333333334, 1.0, 0.9166666666666666, 0.9, 0.9166666666666666, 1.0, 0.9090909090909091, 0.75, 0.9166666666666666, 0.9166666666666666, 0.9166666666666666, 0.8333333333333334, 0.75, 0.6666666666666666, 0.75, 0.9166666666666666, 1.0]}\n"
     ]
    }
   ],
   "source": [
    "accuracies = accuracy_calculator.get_accuracy(\n",
    "        test_embeddings, test_labels, train_embeddings, train_labels)\n",
    "print(accuracies)"
   ]
  },
  {
   "cell_type": "code",
   "execution_count": 27,
   "id": "7495055f-d27b-4f36-9d16-5d12608d3881",
   "metadata": {},
   "outputs": [
    {
     "name": "stderr",
     "output_type": "stream",
     "text": [
      "100%|█████████████████████████████████████████████████████████████████████████████████████████████████████| 295/295 [00:16<00:00, 17.53it/s]\n",
      "100%|███████████████████████████████████████████████████████████████████████████████████████████████████████| 74/74 [00:03<00:00, 19.23it/s]\n"
     ]
    }
   ],
   "source": [
    "train_embeddings, train_labels = get_all_embeddings(train_dataset, model)\n",
    "test_embeddings, test_labels = get_all_embeddings(test_dataset, model)\n",
    "train_labels = train_labels.squeeze(1)\n",
    "test_labels = test_labels.squeeze(1)"
   ]
  },
  {
   "cell_type": "code",
   "execution_count": 28,
   "id": "66e97839-85a9-4d96-80f3-1c29e80ccf81",
   "metadata": {},
   "outputs": [],
   "source": [
    "data_dict = {v:k for k,v in class_dict.items()}"
   ]
  },
  {
   "cell_type": "code",
   "execution_count": 29,
   "id": "a0bbe361-a4e0-4ff3-a62d-4abc0aea8099",
   "metadata": {},
   "outputs": [
    {
     "name": "stdout",
     "output_type": "stream",
     "text": [
      "001.Black_footed_Albatross     test samples 12   , training samples 48   : [0.6666666666666666]\n",
      "002.Laysan_Albatross           test samples 12   , training samples 48   : [0.6666666666666666]\n",
      "003.Sooty_Albatross            test samples 12   , training samples 46   : [0.8333333333333334]\n",
      "004.Groove_billed_Ani          test samples 12   , training samples 48   : [1.0]\n",
      "005.Crested_Auklet             test samples 9    , training samples 35   : [1.0]\n",
      "006.Least_Auklet               test samples 8    , training samples 33   : [0.75]\n",
      "007.Parakeet_Auklet            test samples 10   , training samples 43   : [1.0]\n",
      "008.Rhinoceros_Auklet          test samples 9    , training samples 39   : [0.6666666666666666]\n",
      "009.Brewer_Blackbird           test samples 12   , training samples 47   : [0.5]\n",
      "010.Red_winged_Blackbird       test samples 12   , training samples 48   : [0.9166666666666666]\n",
      "011.Rusty_Blackbird            test samples 12   , training samples 48   : [0.5]\n",
      "012.Yellow_headed_Blackbird    test samples 11   , training samples 45   : [1.0]\n",
      "013.Bobolink                   test samples 12   , training samples 48   : [0.8333333333333334]\n",
      "014.Indigo_Bunting             test samples 12   , training samples 48   : [0.8333333333333334]\n",
      "015.Lazuli_Bunting             test samples 11   , training samples 47   : [0.7272727272727273]\n",
      "016.Painted_Bunting            test samples 11   , training samples 47   : [0.7272727272727273]\n",
      "017.Cardinal                   test samples 11   , training samples 46   : [0.9090909090909091]\n",
      "018.Spotted_Catbird            test samples 9    , training samples 36   : [1.0]\n",
      "019.Gray_Catbird               test samples 12   , training samples 47   : [0.8333333333333334]\n",
      "020.Yellow_breasted_Chat       test samples 12   , training samples 47   : [0.8333333333333334]\n",
      "021.Eastern_Towhee             test samples 12   , training samples 48   : [0.8333333333333334]\n",
      "022.Chuck_will_Widow           test samples 11   , training samples 45   : [0.7272727272727273]\n",
      "023.Brandt_Cormorant           test samples 12   , training samples 47   : [0.5833333333333334]\n",
      "024.Red_faced_Cormorant        test samples 10   , training samples 42   : [1.0]\n",
      "025.Pelagic_Cormorant          test samples 12   , training samples 48   : [0.5]\n",
      "026.Bronzed_Cowbird            test samples 12   , training samples 48   : [0.9166666666666666]\n",
      "027.Shiny_Cowbird              test samples 12   , training samples 48   : [0.75]\n",
      "028.Brown_Creeper              test samples 12   , training samples 47   : [0.9166666666666666]\n",
      "029.American_Crow              test samples 12   , training samples 48   : [0.5]\n",
      "030.Fish_Crow                  test samples 12   , training samples 48   : [0.16666666666666666]\n",
      "031.Black_billed_Cuckoo        test samples 12   , training samples 48   : [0.6666666666666666]\n",
      "032.Mangrove_Cuckoo            test samples 10   , training samples 43   : [0.7]\n",
      "033.Yellow_billed_Cuckoo       test samples 12   , training samples 47   : [0.75]\n",
      "034.Gray_crowned_Rosy_Finch    test samples 12   , training samples 47   : [1.0]\n",
      "035.Purple_Finch               test samples 12   , training samples 48   : [0.9166666666666666]\n",
      "036.Northern_Flicker           test samples 12   , training samples 48   : [0.9166666666666666]\n",
      "037.Acadian_Flycatcher         test samples 12   , training samples 47   : [0.3333333333333333]\n",
      "038.Great_Crested_Flycatcher   test samples 12   , training samples 48   : [0.8333333333333334]\n",
      "039.Least_Flycatcher           test samples 12   , training samples 47   : [0.4166666666666667]\n",
      "040.Olive_sided_Flycatcher     test samples 12   , training samples 48   : [0.6666666666666666]\n",
      "041.Scissor_tailed_Flycatcher  test samples 12   , training samples 48   : [0.8333333333333334]\n",
      "042.Vermilion_Flycatcher       test samples 12   , training samples 48   : [1.0]\n",
      "043.Yellow_bellied_Flycatcher  test samples 12   , training samples 47   : [0.5]\n",
      "044.Frigatebird                test samples 12   , training samples 48   : [0.9166666666666666]\n",
      "045.Northern_Fulmar            test samples 12   , training samples 48   : [0.5]\n",
      "046.Gadwall                    test samples 12   , training samples 48   : [0.9166666666666666]\n",
      "047.American_Goldfinch         test samples 12   , training samples 48   : [0.9166666666666666]\n",
      "048.European_Goldfinch         test samples 12   , training samples 48   : [1.0]\n",
      "049.Boat_tailed_Grackle        test samples 12   , training samples 48   : [0.4166666666666667]\n",
      "050.Eared_Grebe                test samples 12   , training samples 48   : [0.8333333333333334]\n",
      "051.Horned_Grebe               test samples 12   , training samples 48   : [0.9166666666666666]\n",
      "052.Pied_billed_Grebe          test samples 12   , training samples 48   : [0.9166666666666666]\n",
      "053.Western_Grebe              test samples 12   , training samples 48   : [1.0]\n",
      "054.Blue_Grosbeak              test samples 12   , training samples 48   : [0.75]\n",
      "055.Evening_Grosbeak           test samples 12   , training samples 48   : [1.0]\n",
      "056.Pine_Grosbeak              test samples 12   , training samples 48   : [0.9166666666666666]\n",
      "057.Rose_breasted_Grosbeak     test samples 12   , training samples 48   : [1.0]\n",
      "058.Pigeon_Guillemot           test samples 12   , training samples 46   : [0.75]\n",
      "059.California_Gull            test samples 12   , training samples 48   : [0.5833333333333334]\n",
      "060.Glaucous_winged_Gull       test samples 12   , training samples 47   : [0.6666666666666666]\n",
      "061.Heermann_Gull              test samples 12   , training samples 48   : [0.9166666666666666]\n",
      "062.Herring_Gull               test samples 12   , training samples 48   : [0.25]\n",
      "063.Ivory_Gull                 test samples 12   , training samples 48   : [1.0]\n",
      "064.Ring_billed_Gull           test samples 12   , training samples 48   : [0.3333333333333333]\n",
      "065.Slaty_backed_Gull          test samples 10   , training samples 40   : [0.5]\n",
      "066.Western_Gull               test samples 12   , training samples 48   : [0.3333333333333333]\n",
      "067.Anna_Hummingbird           test samples 12   , training samples 48   : [0.75]\n",
      "068.Ruby_throated_Hummingbird  test samples 12   , training samples 48   : [0.9166666666666666]\n",
      "069.Rufous_Hummingbird         test samples 12   , training samples 48   : [0.75]\n",
      "070.Green_Violetear            test samples 12   , training samples 48   : [0.9166666666666666]\n",
      "071.Long_tailed_Jaeger         test samples 12   , training samples 48   : [0.5833333333333334]\n",
      "072.Pomarine_Jaeger            test samples 12   , training samples 48   : [0.4166666666666667]\n",
      "073.Blue_Jay                   test samples 12   , training samples 48   : [0.8333333333333334]\n",
      "074.Florida_Jay                test samples 12   , training samples 48   : [0.8333333333333334]\n",
      "075.Green_Jay                  test samples 11   , training samples 46   : [0.9090909090909091]\n",
      "076.Dark_eyed_Junco            test samples 12   , training samples 48   : [0.9166666666666666]\n",
      "077.Tropical_Kingbird          test samples 12   , training samples 48   : [1.0]\n",
      "078.Gray_Kingbird              test samples 12   , training samples 47   : [0.6666666666666666]\n",
      "079.Belted_Kingfisher          test samples 12   , training samples 48   : [0.75]\n",
      "080.Green_Kingfisher           test samples 12   , training samples 48   : [0.6666666666666666]\n",
      "081.Pied_Kingfisher            test samples 12   , training samples 48   : [0.9166666666666666]\n",
      "082.Ringed_Kingfisher          test samples 12   , training samples 48   : [0.6666666666666666]\n",
      "083.White_breasted_Kingfisher  test samples 12   , training samples 48   : [0.8333333333333334]\n",
      "084.Red_legged_Kittiwake       test samples 10   , training samples 43   : [0.9]\n",
      "085.Horned_Lark                test samples 12   , training samples 48   : [0.8333333333333334]\n",
      "086.Pacific_Loon               test samples 12   , training samples 48   : [0.8333333333333334]\n",
      "087.Mallard                    test samples 12   , training samples 48   : [1.0]\n",
      "088.Western_Meadowlark         test samples 12   , training samples 48   : [1.0]\n",
      "089.Hooded_Merganser           test samples 12   , training samples 48   : [0.8333333333333334]\n",
      "090.Red_breasted_Merganser     test samples 12   , training samples 48   : [0.9166666666666666]\n",
      "091.Mockingbird                test samples 12   , training samples 48   : [0.5833333333333334]\n",
      "092.Nighthawk                  test samples 12   , training samples 48   : [0.75]\n",
      "093.Clark_Nutcracker           test samples 12   , training samples 48   : [0.9166666666666666]\n",
      "094.White_breasted_Nuthatch    test samples 12   , training samples 48   : [1.0]\n",
      "095.Baltimore_Oriole           test samples 12   , training samples 48   : [1.0]\n",
      "096.Hooded_Oriole              test samples 12   , training samples 48   : [0.8333333333333334]\n",
      "097.Orchard_Oriole             test samples 12   , training samples 47   : [0.75]\n",
      "098.Scott_Oriole               test samples 12   , training samples 48   : [0.9166666666666666]\n",
      "099.Ovenbird                   test samples 12   , training samples 48   : [0.75]\n",
      "100.Brown_Pelican              test samples 12   , training samples 48   : [1.0]\n",
      "101.White_Pelican              test samples 10   , training samples 40   : [0.8]\n",
      "102.Western_Wood_Pewee         test samples 12   , training samples 48   : [0.5833333333333334]\n",
      "103.Sayornis                   test samples 12   , training samples 48   : [0.75]\n",
      "104.American_Pipit             test samples 12   , training samples 48   : [0.9166666666666666]\n",
      "105.Whip_poor_Will             test samples 10   , training samples 39   : [0.8]\n",
      "106.Horned_Puffin              test samples 12   , training samples 48   : [0.8333333333333334]\n",
      "107.Common_Raven               test samples 12   , training samples 47   : [0.5]\n",
      "108.White_necked_Raven         test samples 12   , training samples 48   : [0.75]\n",
      "109.American_Redstart          test samples 12   , training samples 48   : [1.0]\n",
      "110.Geococcyx                  test samples 12   , training samples 48   : [0.9166666666666666]\n",
      "111.Loggerhead_Shrike          test samples 12   , training samples 48   : [0.5]\n",
      "112.Great_Grey_Shrike          test samples 12   , training samples 48   : [0.75]\n",
      "113.Baird_Sparrow              test samples 10   , training samples 40   : [0.8]\n",
      "114.Black_throated_Sparrow     test samples 12   , training samples 48   : [1.0]\n",
      "115.Brewer_Sparrow             test samples 12   , training samples 47   : [0.8333333333333334]\n",
      "116.Chipping_Sparrow           test samples 12   , training samples 48   : [0.75]\n",
      "117.Clay_colored_Sparrow       test samples 12   , training samples 47   : [0.8333333333333334]\n",
      "118.House_Sparrow              test samples 12   , training samples 48   : [0.5]\n",
      "119.Field_Sparrow              test samples 12   , training samples 47   : [0.8333333333333334]\n",
      "120.Fox_Sparrow                test samples 12   , training samples 48   : [0.75]\n",
      "121.Grasshopper_Sparrow        test samples 12   , training samples 48   : [0.3333333333333333]\n",
      "122.Harris_Sparrow             test samples 12   , training samples 48   : [0.8333333333333334]\n",
      "123.Henslow_Sparrow            test samples 12   , training samples 48   : [0.8333333333333334]\n",
      "124.Le_Conte_Sparrow           test samples 12   , training samples 47   : [0.75]\n",
      "125.Lincoln_Sparrow            test samples 12   , training samples 47   : [0.5833333333333334]\n",
      "126.Nelson_Sharp_tailed_Sparrow test samples 12   , training samples 47   : [0.8333333333333334]\n",
      "127.Savannah_Sparrow           test samples 12   , training samples 48   : [0.8333333333333334]\n",
      "128.Seaside_Sparrow            test samples 12   , training samples 48   : [0.8333333333333334]\n",
      "129.Song_Sparrow               test samples 12   , training samples 48   : [0.6666666666666666]\n",
      "130.Tree_Sparrow               test samples 12   , training samples 48   : [0.8333333333333334]\n",
      "131.Vesper_Sparrow             test samples 12   , training samples 48   : [0.5833333333333334]\n",
      "132.White_crowned_Sparrow      test samples 12   , training samples 48   : [0.6666666666666666]\n",
      "133.White_throated_Sparrow     test samples 12   , training samples 48   : [0.8333333333333334]\n",
      "134.Cape_Glossy_Starling       test samples 12   , training samples 48   : [0.9166666666666666]\n",
      "135.Bank_Swallow               test samples 12   , training samples 47   : [0.5]\n",
      "136.Barn_Swallow               test samples 12   , training samples 48   : [0.8333333333333334]\n",
      "137.Cliff_Swallow              test samples 12   , training samples 48   : [0.6666666666666666]\n",
      "138.Tree_Swallow               test samples 12   , training samples 48   : [0.9166666666666666]\n",
      "139.Scarlet_Tanager            test samples 12   , training samples 48   : [1.0]\n",
      "140.Summer_Tanager             test samples 12   , training samples 48   : [1.0]\n",
      "141.Artic_Tern                 test samples 11   , training samples 47   : [1.0]\n",
      "142.Black_Tern                 test samples 12   , training samples 48   : [0.5]\n",
      "143.Caspian_Tern               test samples 12   , training samples 48   : [0.25]\n",
      "144.Common_Tern                test samples 12   , training samples 48   : [0.5833333333333334]\n",
      "145.Elegant_Tern               test samples 12   , training samples 48   : [0.5]\n",
      "146.Forsters_Tern              test samples 12   , training samples 48   : [0.5]\n",
      "147.Least_Tern                 test samples 12   , training samples 48   : [0.6666666666666666]\n",
      "148.Green_tailed_Towhee        test samples 12   , training samples 48   : [1.0]\n",
      "149.Brown_Thrasher             test samples 12   , training samples 47   : [0.75]\n",
      "150.Sage_Thrasher              test samples 12   , training samples 48   : [0.5833333333333334]\n",
      "151.Black_capped_Vireo         test samples 10   , training samples 41   : [0.9]\n",
      "152.Blue_headed_Vireo          test samples 12   , training samples 48   : [0.9166666666666666]\n",
      "153.Philadelphia_Vireo         test samples 12   , training samples 47   : [0.75]\n",
      "154.Red_eyed_Vireo             test samples 12   , training samples 48   : [0.9166666666666666]\n",
      "155.Warbling_Vireo             test samples 12   , training samples 48   : [0.5833333333333334]\n",
      "156.White_eyed_Vireo           test samples 12   , training samples 48   : [0.8333333333333334]\n",
      "157.Yellow_throated_Vireo      test samples 12   , training samples 47   : [0.8333333333333334]\n",
      "158.Bay_breasted_Warbler       test samples 12   , training samples 48   : [0.75]\n",
      "159.Black_and_white_Warbler    test samples 12   , training samples 48   : [1.0]\n",
      "160.Black_throated_Blue_Warbler test samples 12   , training samples 47   : [0.8333333333333334]\n",
      "161.Blue_winged_Warbler        test samples 12   , training samples 48   : [0.9166666666666666]\n",
      "162.Canada_Warbler             test samples 12   , training samples 48   : [0.8333333333333334]\n",
      "163.Cape_May_Warbler           test samples 12   , training samples 48   : [0.9166666666666666]\n",
      "164.Cerulean_Warbler           test samples 12   , training samples 48   : [0.9166666666666666]\n",
      "165.Chestnut_sided_Warbler     test samples 12   , training samples 48   : [0.8333333333333334]\n",
      "166.Golden_winged_Warbler      test samples 12   , training samples 47   : [0.8333333333333334]\n",
      "167.Hooded_Warbler             test samples 12   , training samples 48   : [0.75]\n",
      "168.Kentucky_Warbler           test samples 12   , training samples 47   : [0.8333333333333334]\n",
      "169.Magnolia_Warbler           test samples 12   , training samples 47   : [0.75]\n",
      "170.Mourning_Warbler           test samples 12   , training samples 48   : [0.8333333333333334]\n",
      "171.Myrtle_Warbler             test samples 12   , training samples 48   : [0.75]\n",
      "172.Nashville_Warbler          test samples 12   , training samples 48   : [0.75]\n",
      "173.Orange_crowned_Warbler     test samples 12   , training samples 48   : [0.75]\n",
      "174.Palm_Warbler               test samples 12   , training samples 48   : [0.8333333333333334]\n",
      "175.Pine_Warbler               test samples 12   , training samples 48   : [0.5833333333333334]\n",
      "176.Prairie_Warbler            test samples 12   , training samples 48   : [1.0]\n",
      "177.Prothonotary_Warbler       test samples 12   , training samples 48   : [0.9166666666666666]\n",
      "178.Swainson_Warbler           test samples 11   , training samples 45   : [0.9090909090909091]\n",
      "179.Tennessee_Warbler          test samples 12   , training samples 47   : [0.25]\n",
      "180.Wilson_Warbler             test samples 12   , training samples 48   : [0.9166666666666666]\n",
      "181.Worm_eating_Warbler        test samples 12   , training samples 47   : [0.8333333333333334]\n",
      "182.Yellow_Warbler             test samples 12   , training samples 48   : [0.75]\n",
      "183.Northern_Waterthrush       test samples 12   , training samples 48   : [0.8333333333333334]\n",
      "184.Louisiana_Waterthrush      test samples 12   , training samples 48   : [0.5833333333333334]\n",
      "185.Bohemian_Waxwing           test samples 12   , training samples 48   : [1.0]\n",
      "186.Cedar_Waxwing              test samples 12   , training samples 48   : [0.9166666666666666]\n",
      "187.American_Three_toed_Woodpecker test samples 10   , training samples 40   : [0.8]\n",
      "188.Pileated_Woodpecker        test samples 12   , training samples 48   : [1.0]\n",
      "189.Red_bellied_Woodpecker     test samples 12   , training samples 48   : [1.0]\n",
      "190.Red_cockaded_Woodpecker    test samples 11   , training samples 47   : [0.9090909090909091]\n",
      "191.Red_headed_Woodpecker      test samples 12   , training samples 48   : [0.75]\n",
      "192.Downy_Woodpecker           test samples 12   , training samples 48   : [0.9166666666666666]\n",
      "193.Bewick_Wren                test samples 12   , training samples 48   : [0.8333333333333334]\n",
      "194.Cactus_Wren                test samples 12   , training samples 48   : [0.9166666666666666]\n",
      "195.Carolina_Wren              test samples 12   , training samples 48   : [0.9166666666666666]\n",
      "196.House_Wren                 test samples 12   , training samples 47   : [0.75]\n",
      "197.Marsh_Wren                 test samples 12   , training samples 48   : [0.5]\n",
      "198.Rock_Wren                  test samples 12   , training samples 48   : [0.75]\n",
      "199.Winter_Wren                test samples 12   , training samples 48   : [0.9166666666666666]\n",
      "200.Common_Yellowthroat        test samples 12   , training samples 48   : [1.0]\n"
     ]
    }
   ],
   "source": [
    "acc_dict = {}\n",
    "for i in test_labels.unique():\n",
    "    new_labels = test_labels[test_labels==i]\n",
    "    new_embeddings = test_embeddings[test_labels==i]\n",
    "    accuracies = accuracy_calculator.get_accuracy(\n",
    "        new_embeddings, new_labels, train_embeddings, train_labels, False\n",
    "    )\n",
    "    acc_dict[data_dict[int(i.detach().cpu().numpy())]]=[ \n",
    "                  len(new_labels),\n",
    "                  len(train_labels[train_labels==i]),\n",
    "                  accuracies[\"precision_at_1\"][0]]\n",
    "    print(\"{:<30} test samples {:<5}, training samples {:<5}: {}\".format(data_dict[int(i.detach().cpu().numpy())],\n",
    "                                                                  len(new_labels),\n",
    "                                                                  len(train_labels[train_labels==i]),\n",
    "                                                                  accuracies[\"precision_at_1\"]))"
   ]
  },
  {
   "cell_type": "code",
   "execution_count": 30,
   "id": "971a3f40-43ba-47d0-b313-b6f86dd13d81",
   "metadata": {},
   "outputs": [],
   "source": [
    "all_table = [[k]+v for k,v in acc_dict.items()]"
   ]
  },
  {
   "cell_type": "code",
   "execution_count": 31,
   "id": "c4d9d6d7-2f79-410e-9e8d-b03d5df6092d",
   "metadata": {},
   "outputs": [],
   "source": [
    "columns = [\"class_name\", \"no. of test samples\", \"no. of train samples\", \"precision@1\"]\n",
    "train_table = wandb.Table(data=all_table, columns=columns)"
   ]
  },
  {
   "cell_type": "code",
   "execution_count": 32,
   "id": "76dc029c-15da-4f8d-9a24-d2a6e13e4e3f",
   "metadata": {},
   "outputs": [],
   "source": [
    "run.log({\"all_classes_metrics\": train_table})"
   ]
  },
  {
   "cell_type": "code",
   "execution_count": 33,
   "id": "3a95fea1-6b58-4dcf-aeb7-de1a40ee731b",
   "metadata": {},
   "outputs": [],
   "source": [
    "import faiss\n",
    "# Create a Faiss index\n",
    "index = faiss.IndexFlatIP(128)\n",
    "# Add some vectors to the index\n",
    "index.add(train_embeddings.detach().cpu().numpy())"
   ]
  },
  {
   "cell_type": "code",
   "execution_count": 34,
   "id": "b7865da3-0493-4c18-b748-9ed4858e4168",
   "metadata": {},
   "outputs": [],
   "source": [
    "pred_labels = [] \n",
    "for embedding,label in zip(test_embeddings.detach().cpu().numpy(),test_labels):\n",
    "    _, indices = index.search(embedding.reshape(1,-1).astype(np.float32), 1)\n",
    "    pred_class = train_labels[indices[0][0]]\n",
    "    pred_labels.append(pred_class)"
   ]
  },
  {
   "cell_type": "code",
   "execution_count": 35,
   "id": "4dfd3a2f-3e63-45ec-9429-abb80862949d",
   "metadata": {},
   "outputs": [],
   "source": [
    "pred_labels = [i.detach().cpu().numpy() for i in pred_labels]"
   ]
  },
  {
   "cell_type": "code",
   "execution_count": 36,
   "id": "09e38eb6-ef8a-4a3d-bd0d-41939ffe9133",
   "metadata": {
    "scrolled": true
   },
   "outputs": [],
   "source": [
    "from sklearn.metrics import classification_report\n",
    "report = classification_report(test_labels.detach().cpu().numpy(), pred_labels, target_names=list(class_dict.keys()),output_dict=True)"
   ]
  },
  {
   "cell_type": "code",
   "execution_count": 37,
   "id": "bc382f16-271b-482f-ba83-7d9f2e382e81",
   "metadata": {},
   "outputs": [
    {
     "name": "stdout",
     "output_type": "stream",
     "text": [
      "                                    precision    recall  f1-score   support\n",
      "\n",
      "        001.Black_footed_Albatross       0.73      0.67      0.70        12\n",
      "              002.Laysan_Albatross       0.73      0.67      0.70        12\n",
      "               003.Sooty_Albatross       0.71      0.83      0.77        12\n",
      "             004.Groove_billed_Ani       0.80      1.00      0.89        12\n",
      "                005.Crested_Auklet       0.90      1.00      0.95         9\n",
      "                  006.Least_Auklet       0.86      0.75      0.80         8\n",
      "               007.Parakeet_Auklet       0.91      1.00      0.95        10\n",
      "             008.Rhinoceros_Auklet       0.67      0.67      0.67         9\n",
      "              009.Brewer_Blackbird       0.60      0.50      0.55        12\n",
      "          010.Red_winged_Blackbird       1.00      0.92      0.96        12\n",
      "               011.Rusty_Blackbird       0.67      0.50      0.57        12\n",
      "       012.Yellow_headed_Blackbird       0.92      1.00      0.96        11\n",
      "                      013.Bobolink       0.77      0.83      0.80        12\n",
      "                014.Indigo_Bunting       0.67      0.83      0.74        12\n",
      "                015.Lazuli_Bunting       0.89      0.73      0.80        11\n",
      "               016.Painted_Bunting       1.00      0.73      0.84        11\n",
      "                      017.Cardinal       0.91      0.91      0.91        11\n",
      "               018.Spotted_Catbird       0.82      1.00      0.90         9\n",
      "                  019.Gray_Catbird       0.77      0.83      0.80        12\n",
      "          020.Yellow_breasted_Chat       1.00      0.83      0.91        12\n",
      "                021.Eastern_Towhee       0.91      0.83      0.87        12\n",
      "              022.Chuck_will_Widow       0.80      0.73      0.76        11\n",
      "              023.Brandt_Cormorant       0.64      0.58      0.61        12\n",
      "           024.Red_faced_Cormorant       0.67      1.00      0.80        10\n",
      "             025.Pelagic_Cormorant       0.46      0.50      0.48        12\n",
      "               026.Bronzed_Cowbird       0.69      0.92      0.79        12\n",
      "                 027.Shiny_Cowbird       0.53      0.75      0.62        12\n",
      "                 028.Brown_Creeper       0.92      0.92      0.92        12\n",
      "                 029.American_Crow       0.50      0.50      0.50        12\n",
      "                     030.Fish_Crow       0.15      0.17      0.16        12\n",
      "           031.Black_billed_Cuckoo       0.89      0.67      0.76        12\n",
      "               032.Mangrove_Cuckoo       0.78      0.70      0.74        10\n",
      "          033.Yellow_billed_Cuckoo       0.53      0.75      0.62        12\n",
      "       034.Gray_crowned_Rosy_Finch       0.92      1.00      0.96        12\n",
      "                  035.Purple_Finch       1.00      0.92      0.96        12\n",
      "              036.Northern_Flicker       1.00      0.92      0.96        12\n",
      "            037.Acadian_Flycatcher       0.36      0.33      0.35        12\n",
      "      038.Great_Crested_Flycatcher       0.77      0.83      0.80        12\n",
      "              039.Least_Flycatcher       0.45      0.42      0.43        12\n",
      "        040.Olive_sided_Flycatcher       0.73      0.67      0.70        12\n",
      "     041.Scissor_tailed_Flycatcher       0.77      0.83      0.80        12\n",
      "          042.Vermilion_Flycatcher       1.00      1.00      1.00        12\n",
      "     043.Yellow_bellied_Flycatcher       0.75      0.50      0.60        12\n",
      "                   044.Frigatebird       0.69      0.92      0.79        12\n",
      "               045.Northern_Fulmar       0.60      0.50      0.55        12\n",
      "                       046.Gadwall       1.00      0.92      0.96        12\n",
      "            047.American_Goldfinch       0.92      0.92      0.92        12\n",
      "            048.European_Goldfinch       1.00      1.00      1.00        12\n",
      "           049.Boat_tailed_Grackle       0.50      0.42      0.45        12\n",
      "                   050.Eared_Grebe       0.77      0.83      0.80        12\n",
      "                  051.Horned_Grebe       0.92      0.92      0.92        12\n",
      "             052.Pied_billed_Grebe       1.00      0.92      0.96        12\n",
      "                 053.Western_Grebe       1.00      1.00      1.00        12\n",
      "                 054.Blue_Grosbeak       0.75      0.75      0.75        12\n",
      "              055.Evening_Grosbeak       1.00      1.00      1.00        12\n",
      "                 056.Pine_Grosbeak       0.92      0.92      0.92        12\n",
      "        057.Rose_breasted_Grosbeak       0.92      1.00      0.96        12\n",
      "              058.Pigeon_Guillemot       1.00      0.75      0.86        12\n",
      "               059.California_Gull       0.30      0.58      0.40        12\n",
      "          060.Glaucous_winged_Gull       0.57      0.67      0.62        12\n",
      "                 061.Heermann_Gull       0.92      0.92      0.92        12\n",
      "                  062.Herring_Gull       0.25      0.25      0.25        12\n",
      "                    063.Ivory_Gull       1.00      1.00      1.00        12\n",
      "              064.Ring_billed_Gull       0.57      0.33      0.42        12\n",
      "             065.Slaty_backed_Gull       1.00      0.50      0.67        10\n",
      "                  066.Western_Gull       0.40      0.33      0.36        12\n",
      "              067.Anna_Hummingbird       0.82      0.75      0.78        12\n",
      "     068.Ruby_throated_Hummingbird       0.73      0.92      0.81        12\n",
      "            069.Rufous_Hummingbird       0.69      0.75      0.72        12\n",
      "               070.Green_Violetear       1.00      0.92      0.96        12\n",
      "            071.Long_tailed_Jaeger       0.47      0.58      0.52        12\n",
      "               072.Pomarine_Jaeger       0.42      0.42      0.42        12\n",
      "                      073.Blue_Jay       0.91      0.83      0.87        12\n",
      "                   074.Florida_Jay       1.00      0.83      0.91        12\n",
      "                     075.Green_Jay       0.77      0.91      0.83        11\n",
      "               076.Dark_eyed_Junco       0.73      0.92      0.81        12\n",
      "             077.Tropical_Kingbird       0.86      1.00      0.92        12\n",
      "                 078.Gray_Kingbird       0.80      0.67      0.73        12\n",
      "             079.Belted_Kingfisher       0.47      0.75      0.58        12\n",
      "              080.Green_Kingfisher       1.00      0.67      0.80        12\n",
      "               081.Pied_Kingfisher       0.92      0.92      0.92        12\n",
      "             082.Ringed_Kingfisher       0.89      0.67      0.76        12\n",
      "     083.White_breasted_Kingfisher       0.91      0.83      0.87        12\n",
      "          084.Red_legged_Kittiwake       0.90      0.90      0.90        10\n",
      "                   085.Horned_Lark       1.00      0.83      0.91        12\n",
      "                  086.Pacific_Loon       0.83      0.83      0.83        12\n",
      "                       087.Mallard       1.00      1.00      1.00        12\n",
      "            088.Western_Meadowlark       0.71      1.00      0.83        12\n",
      "              089.Hooded_Merganser       0.77      0.83      0.80        12\n",
      "        090.Red_breasted_Merganser       0.92      0.92      0.92        12\n",
      "                   091.Mockingbird       0.70      0.58      0.64        12\n",
      "                     092.Nighthawk       1.00      0.75      0.86        12\n",
      "              093.Clark_Nutcracker       1.00      0.92      0.96        12\n",
      "       094.White_breasted_Nuthatch       0.86      1.00      0.92        12\n",
      "              095.Baltimore_Oriole       0.80      1.00      0.89        12\n",
      "                 096.Hooded_Oriole       0.83      0.83      0.83        12\n",
      "                097.Orchard_Oriole       0.82      0.75      0.78        12\n",
      "                  098.Scott_Oriole       0.92      0.92      0.92        12\n",
      "                      099.Ovenbird       0.82      0.75      0.78        12\n",
      "                 100.Brown_Pelican       1.00      1.00      1.00        12\n",
      "                 101.White_Pelican       0.89      0.80      0.84        10\n",
      "            102.Western_Wood_Pewee       0.35      0.58      0.44        12\n",
      "                      103.Sayornis       0.75      0.75      0.75        12\n",
      "                104.American_Pipit       0.58      0.92      0.71        12\n",
      "                105.Whip_poor_Will       0.80      0.80      0.80        10\n",
      "                 106.Horned_Puffin       1.00      0.83      0.91        12\n",
      "                  107.Common_Raven       0.60      0.50      0.55        12\n",
      "            108.White_necked_Raven       0.82      0.75      0.78        12\n",
      "             109.American_Redstart       1.00      1.00      1.00        12\n",
      "                     110.Geococcyx       0.85      0.92      0.88        12\n",
      "             111.Loggerhead_Shrike       0.55      0.50      0.52        12\n",
      "             112.Great_Grey_Shrike       0.64      0.75      0.69        12\n",
      "                 113.Baird_Sparrow       0.73      0.80      0.76        10\n",
      "        114.Black_throated_Sparrow       0.86      1.00      0.92        12\n",
      "                115.Brewer_Sparrow       0.59      0.83      0.69        12\n",
      "              116.Chipping_Sparrow       0.75      0.75      0.75        12\n",
      "          117.Clay_colored_Sparrow       0.83      0.83      0.83        12\n",
      "                 118.House_Sparrow       0.67      0.50      0.57        12\n",
      "                 119.Field_Sparrow       0.67      0.83      0.74        12\n",
      "                   120.Fox_Sparrow       0.90      0.75      0.82        12\n",
      "           121.Grasshopper_Sparrow       0.80      0.33      0.47        12\n",
      "                122.Harris_Sparrow       1.00      0.83      0.91        12\n",
      "               123.Henslow_Sparrow       0.77      0.83      0.80        12\n",
      "              124.Le_Conte_Sparrow       0.82      0.75      0.78        12\n",
      "               125.Lincoln_Sparrow       0.64      0.58      0.61        12\n",
      "   126.Nelson_Sharp_tailed_Sparrow       0.77      0.83      0.80        12\n",
      "              127.Savannah_Sparrow       0.67      0.83      0.74        12\n",
      "               128.Seaside_Sparrow       0.67      0.83      0.74        12\n",
      "                  129.Song_Sparrow       0.73      0.67      0.70        12\n",
      "                  130.Tree_Sparrow       0.91      0.83      0.87        12\n",
      "                131.Vesper_Sparrow       0.88      0.58      0.70        12\n",
      "         132.White_crowned_Sparrow       0.73      0.67      0.70        12\n",
      "        133.White_throated_Sparrow       0.71      0.83      0.77        12\n",
      "          134.Cape_Glossy_Starling       0.85      0.92      0.88        12\n",
      "                  135.Bank_Swallow       0.75      0.50      0.60        12\n",
      "                  136.Barn_Swallow       0.91      0.83      0.87        12\n",
      "                 137.Cliff_Swallow       0.80      0.67      0.73        12\n",
      "                  138.Tree_Swallow       0.79      0.92      0.85        12\n",
      "               139.Scarlet_Tanager       1.00      1.00      1.00        12\n",
      "                140.Summer_Tanager       0.92      1.00      0.96        12\n",
      "                    141.Artic_Tern       0.61      1.00      0.76        11\n",
      "                    142.Black_Tern       0.75      0.50      0.60        12\n",
      "                  143.Caspian_Tern       0.60      0.25      0.35        12\n",
      "                   144.Common_Tern       0.47      0.58      0.52        12\n",
      "                  145.Elegant_Tern       0.67      0.50      0.57        12\n",
      "                 146.Forsters_Tern       0.86      0.50      0.63        12\n",
      "                    147.Least_Tern       0.62      0.67      0.64        12\n",
      "           148.Green_tailed_Towhee       1.00      1.00      1.00        12\n",
      "                149.Brown_Thrasher       0.90      0.75      0.82        12\n",
      "                 150.Sage_Thrasher       0.70      0.58      0.64        12\n",
      "            151.Black_capped_Vireo       0.82      0.90      0.86        10\n",
      "             152.Blue_headed_Vireo       1.00      0.92      0.96        12\n",
      "            153.Philadelphia_Vireo       0.69      0.75      0.72        12\n",
      "                154.Red_eyed_Vireo       0.73      0.92      0.81        12\n",
      "                155.Warbling_Vireo       0.70      0.58      0.64        12\n",
      "              156.White_eyed_Vireo       0.91      0.83      0.87        12\n",
      "         157.Yellow_throated_Vireo       0.67      0.83      0.74        12\n",
      "          158.Bay_breasted_Warbler       1.00      0.75      0.86        12\n",
      "       159.Black_and_white_Warbler       1.00      1.00      1.00        12\n",
      "   160.Black_throated_Blue_Warbler       0.91      0.83      0.87        12\n",
      "           161.Blue_winged_Warbler       0.79      0.92      0.85        12\n",
      "                162.Canada_Warbler       0.83      0.83      0.83        12\n",
      "              163.Cape_May_Warbler       0.92      0.92      0.92        12\n",
      "              164.Cerulean_Warbler       0.92      0.92      0.92        12\n",
      "        165.Chestnut_sided_Warbler       0.77      0.83      0.80        12\n",
      "         166.Golden_winged_Warbler       0.91      0.83      0.87        12\n",
      "                167.Hooded_Warbler       0.75      0.75      0.75        12\n",
      "              168.Kentucky_Warbler       1.00      0.83      0.91        12\n",
      "              169.Magnolia_Warbler       1.00      0.75      0.86        12\n",
      "              170.Mourning_Warbler       0.91      0.83      0.87        12\n",
      "                171.Myrtle_Warbler       0.90      0.75      0.82        12\n",
      "             172.Nashville_Warbler       0.69      0.75      0.72        12\n",
      "        173.Orange_crowned_Warbler       0.69      0.75      0.72        12\n",
      "                  174.Palm_Warbler       0.91      0.83      0.87        12\n",
      "                  175.Pine_Warbler       0.78      0.58      0.67        12\n",
      "               176.Prairie_Warbler       1.00      1.00      1.00        12\n",
      "          177.Prothonotary_Warbler       0.92      0.92      0.92        12\n",
      "              178.Swainson_Warbler       1.00      0.91      0.95        11\n",
      "             179.Tennessee_Warbler       0.50      0.25      0.33        12\n",
      "                180.Wilson_Warbler       0.69      0.92      0.79        12\n",
      "           181.Worm_eating_Warbler       1.00      0.83      0.91        12\n",
      "                182.Yellow_Warbler       1.00      0.75      0.86        12\n",
      "          183.Northern_Waterthrush       0.71      0.83      0.77        12\n",
      "         184.Louisiana_Waterthrush       0.64      0.58      0.61        12\n",
      "              185.Bohemian_Waxwing       0.92      1.00      0.96        12\n",
      "                 186.Cedar_Waxwing       0.92      0.92      0.92        12\n",
      "187.American_Three_toed_Woodpecker       1.00      0.80      0.89        10\n",
      "           188.Pileated_Woodpecker       0.80      1.00      0.89        12\n",
      "        189.Red_bellied_Woodpecker       0.92      1.00      0.96        12\n",
      "       190.Red_cockaded_Woodpecker       0.91      0.91      0.91        11\n",
      "         191.Red_headed_Woodpecker       0.90      0.75      0.82        12\n",
      "              192.Downy_Woodpecker       0.92      0.92      0.92        12\n",
      "                   193.Bewick_Wren       0.71      0.83      0.77        12\n",
      "                   194.Cactus_Wren       0.73      0.92      0.81        12\n",
      "                 195.Carolina_Wren       0.79      0.92      0.85        12\n",
      "                    196.House_Wren       0.69      0.75      0.72        12\n",
      "                    197.Marsh_Wren       0.55      0.50      0.52        12\n",
      "                     198.Rock_Wren       0.82      0.75      0.78        12\n",
      "                   199.Winter_Wren       0.85      0.92      0.88        12\n",
      "           200.Common_Yellowthroat       0.92      1.00      0.96        12\n",
      "\n",
      "                          accuracy                           0.78      2358\n",
      "                         macro avg       0.79      0.78      0.78      2358\n",
      "                      weighted avg       0.79      0.78      0.78      2358\n",
      "\n"
     ]
    }
   ],
   "source": [
    "print(classification_report(test_labels.detach().cpu().numpy(), pred_labels, target_names=list(class_dict.keys())))"
   ]
  },
  {
   "cell_type": "code",
   "execution_count": null,
   "id": "6db5ce15-dd80-415d-8c8c-d1d325fa1156",
   "metadata": {},
   "outputs": [],
   "source": [
    "df = pd.DataFrame(report).transpose()\n",
    "\n",
    "df.reset_index(inplace=True)\n",
    "\n",
    "df.rename(columns={\"index\":'class_name'},inplace=True)\n",
    "\n",
    "classification_report_table = wandb.Table(dataframe=df)\n",
    "\n",
    "run.log({\"all_classes_classification_report\": classification_report_table})"
   ]
  },
  {
   "cell_type": "markdown",
   "id": "bbfc4b6e-d88c-45ac-9caf-6c5f26a0d52a",
   "metadata": {},
   "source": [
    "## Removing classes from training dataset and seeing performance"
   ]
  },
  {
   "cell_type": "code",
   "execution_count": 44,
   "id": "3597a740-157c-4c24-8d23-65c675de8f7d",
   "metadata": {},
   "outputs": [],
   "source": [
    "train_image_paths = []\n",
    "train_labels = []\n",
    "for folder_path,i in class_dict.items():\n",
    "    if i >= 180:\n",
    "        break\n",
    "    folder_images = glob.glob('CUB_200_2011/images/'+'/'+str(folder_path)+'/*')\n",
    "    train_image_paths.extend(folder_images)\n",
    "    train_labels.extend([i]*len(folder_images))"
   ]
  },
  {
   "cell_type": "code",
   "execution_count": 45,
   "id": "c353dd9e-9064-4774-8244-5770ac9c53cf",
   "metadata": {},
   "outputs": [],
   "source": [
    "test_image_paths = []\n",
    "test_labels = []\n",
    "for folder_path,i in class_dict.items():\n",
    "    if i >= 180:\n",
    "        folder_images = glob.glob('CUB_200_2011/images/'+'/'+str(folder_path)+'/*')\n",
    "        test_image_paths.extend(folder_images)\n",
    "        test_labels.extend([i]*len(folder_images))"
   ]
  },
  {
   "cell_type": "code",
   "execution_count": 46,
   "id": "7a58b988-aa16-4d57-99ef-c889b3bb72d6",
   "metadata": {},
   "outputs": [],
   "source": [
    "from sklearn.model_selection import train_test_split\n",
    "X_train, X_test, y_train, y_test = train_test_split(train_image_paths,train_labels, test_size=config['train_test_split'],\n",
    "                                                    stratify=train_labels, random_state=config['random_seed'])"
   ]
  },
  {
   "cell_type": "code",
   "execution_count": 47,
   "id": "c0902fb2-bd40-40c0-be84-81c2776bdfc6",
   "metadata": {},
   "outputs": [],
   "source": [
    "train_dataset  = CUBDataset(X_train,y_train,train_transform)\n",
    "test_dataset  = CUBDataset(X_test,y_test,test_transform)\n",
    "train_loader = torch.utils.data.DataLoader(train_dataset, batch_size=config['batch_size'], shuffle=True)\n",
    "test_loader = torch.utils.data.DataLoader(test_dataset, batch_size=config['batch_size'], shuffle=False)"
   ]
  },
  {
   "cell_type": "code",
   "execution_count": 50,
   "id": "74998763-e319-4389-a9cb-a14ef5a5ef47",
   "metadata": {},
   "outputs": [],
   "source": [
    "model = ResNetFeatrueExtractor18()\n",
    "model = model.to(device)\n",
    "num_epochs = config['num_epochs']\n",
    "\n",
    "### pytorch-metric-learning stuff ###\n",
    "distance = distances.CosineSimilarity()\n",
    "loss_func = losses.SubCenterArcFaceLoss(num_classes=180, embedding_size=config['embedding_size']).to(device)\n",
    "optimizer = optim.SGD(list(model.parameters())+list(loss_func.parameters()), lr=config['learning_rate'])\n",
    "\n",
    "accuracy_calculator = AccuracyCalculator(include=(config['metric'],), k=1)"
   ]
  },
  {
   "cell_type": "code",
   "execution_count": 51,
   "id": "51ad322f-f35f-44bf-b296-a546c9a9ae34",
   "metadata": {},
   "outputs": [
    {
     "name": "stdout",
     "output_type": "stream",
     "text": [
      "Epoch 1 Iteration 0: Loss = 43.610870361328125\n"
     ]
    },
    {
     "name": "stderr",
     "output_type": "stream",
     "text": [
      "100%|█████████████████████████████████████████████████████████████████████████████████████████████████████| 266/266 [00:15<00:00, 17.35it/s]\n",
      "100%|███████████████████████████████████████████████████████████████████████████████████████████████████████| 67/67 [00:08<00:00,  7.61it/s]\n"
     ]
    },
    {
     "name": "stdout",
     "output_type": "stream",
     "text": [
      "Computing accuracy\n",
      "Test set accuracy (Precision@1) = 0.32248939179632247\n",
      "Epoch 2 Iteration 0: Loss = 37.48493576049805\n"
     ]
    },
    {
     "name": "stderr",
     "output_type": "stream",
     "text": [
      "100%|█████████████████████████████████████████████████████████████████████████████████████████████████████| 266/266 [00:15<00:00, 17.19it/s]\n",
      "100%|███████████████████████████████████████████████████████████████████████████████████████████████████████| 67/67 [00:03<00:00, 18.71it/s]\n"
     ]
    },
    {
     "name": "stdout",
     "output_type": "stream",
     "text": [
      "Computing accuracy\n",
      "Test set accuracy (Precision@1) = 0.33144743045733144\n",
      "Epoch 3 Iteration 0: Loss = 36.57788848876953\n"
     ]
    },
    {
     "name": "stderr",
     "output_type": "stream",
     "text": [
      "100%|█████████████████████████████████████████████████████████████████████████████████████████████████████| 266/266 [00:15<00:00, 17.13it/s]\n",
      "100%|███████████████████████████████████████████████████████████████████████████████████████████████████████| 67/67 [00:03<00:00, 18.58it/s]\n"
     ]
    },
    {
     "name": "stdout",
     "output_type": "stream",
     "text": [
      "Computing accuracy\n",
      "Test set accuracy (Precision@1) = 0.3517208863743517\n",
      "Epoch 4 Iteration 0: Loss = 36.356170654296875\n"
     ]
    },
    {
     "name": "stderr",
     "output_type": "stream",
     "text": [
      "100%|█████████████████████████████████████████████████████████████████████████████████████████████████████| 266/266 [00:15<00:00, 17.25it/s]\n",
      "100%|███████████████████████████████████████████████████████████████████████████████████████████████████████| 67/67 [00:03<00:00, 18.60it/s]\n"
     ]
    },
    {
     "name": "stdout",
     "output_type": "stream",
     "text": [
      "Computing accuracy\n",
      "Test set accuracy (Precision@1) = 0.38896746817538896\n",
      "Epoch 5 Iteration 0: Loss = 35.6011848449707\n"
     ]
    },
    {
     "name": "stderr",
     "output_type": "stream",
     "text": [
      "100%|█████████████████████████████████████████████████████████████████████████████████████████████████████| 266/266 [00:15<00:00, 17.30it/s]\n",
      "100%|███████████████████████████████████████████████████████████████████████████████████████████████████████| 67/67 [00:03<00:00, 18.78it/s]\n"
     ]
    },
    {
     "name": "stdout",
     "output_type": "stream",
     "text": [
      "Computing accuracy\n",
      "Test set accuracy (Precision@1) = 0.39745403111739747\n",
      "Epoch 6 Iteration 0: Loss = 35.78837585449219\n"
     ]
    },
    {
     "name": "stderr",
     "output_type": "stream",
     "text": [
      "100%|█████████████████████████████████████████████████████████████████████████████████████████████████████| 266/266 [00:15<00:00, 17.26it/s]\n",
      "100%|███████████████████████████████████████████████████████████████████████████████████████████████████████| 67/67 [00:03<00:00, 18.83it/s]\n"
     ]
    },
    {
     "name": "stdout",
     "output_type": "stream",
     "text": [
      "Computing accuracy\n",
      "Test set accuracy (Precision@1) = 0.42668552569542667\n",
      "Epoch 7 Iteration 0: Loss = 35.72429656982422\n"
     ]
    },
    {
     "name": "stderr",
     "output_type": "stream",
     "text": [
      "100%|█████████████████████████████████████████████████████████████████████████████████████████████████████| 266/266 [00:15<00:00, 17.26it/s]\n",
      "100%|███████████████████████████████████████████████████████████████████████████████████████████████████████| 67/67 [00:03<00:00, 18.73it/s]\n"
     ]
    },
    {
     "name": "stdout",
     "output_type": "stream",
     "text": [
      "Computing accuracy\n",
      "Test set accuracy (Precision@1) = 0.4446016030174446\n",
      "Epoch 8 Iteration 0: Loss = 34.84464645385742\n"
     ]
    },
    {
     "name": "stderr",
     "output_type": "stream",
     "text": [
      "100%|█████████████████████████████████████████████████████████████████████████████████████████████████████| 266/266 [00:15<00:00, 17.25it/s]\n",
      "100%|███████████████████████████████████████████████████████████████████████████████████████████████████████| 67/67 [00:03<00:00, 18.77it/s]\n"
     ]
    },
    {
     "name": "stdout",
     "output_type": "stream",
     "text": [
      "Computing accuracy\n",
      "Test set accuracy (Precision@1) = 0.4450730787364451\n",
      "Epoch 9 Iteration 0: Loss = 34.69620132446289\n"
     ]
    },
    {
     "name": "stderr",
     "output_type": "stream",
     "text": [
      "100%|█████████████████████████████████████████████████████████████████████████████████████████████████████| 266/266 [00:15<00:00, 17.31it/s]\n",
      "100%|███████████████████████████████████████████████████████████████████████████████████████████████████████| 67/67 [00:03<00:00, 18.84it/s]\n"
     ]
    },
    {
     "name": "stdout",
     "output_type": "stream",
     "text": [
      "Computing accuracy\n",
      "Test set accuracy (Precision@1) = 0.4809052333804809\n",
      "Epoch 10 Iteration 0: Loss = 34.03336715698242\n"
     ]
    },
    {
     "name": "stderr",
     "output_type": "stream",
     "text": [
      "100%|█████████████████████████████████████████████████████████████████████████████████████████████████████| 266/266 [00:15<00:00, 17.02it/s]\n",
      "100%|███████████████████████████████████████████████████████████████████████████████████████████████████████| 67/67 [00:03<00:00, 18.73it/s]\n"
     ]
    },
    {
     "name": "stdout",
     "output_type": "stream",
     "text": [
      "Computing accuracy\n",
      "Test set accuracy (Precision@1) = 0.4926921263554927\n",
      "Epoch 11 Iteration 0: Loss = 34.14729309082031\n"
     ]
    },
    {
     "name": "stderr",
     "output_type": "stream",
     "text": [
      "100%|█████████████████████████████████████████████████████████████████████████████████████████████████████| 266/266 [00:15<00:00, 17.28it/s]\n",
      "100%|███████████████████████████████████████████████████████████████████████████████████████████████████████| 67/67 [00:03<00:00, 18.63it/s]\n"
     ]
    },
    {
     "name": "stdout",
     "output_type": "stream",
     "text": [
      "Computing accuracy\n",
      "Test set accuracy (Precision@1) = 0.4908062234794908\n",
      "Epoch 12 Iteration 0: Loss = 33.35908889770508\n"
     ]
    },
    {
     "name": "stderr",
     "output_type": "stream",
     "text": [
      "100%|█████████████████████████████████████████████████████████████████████████████████████████████████████| 266/266 [00:15<00:00, 17.30it/s]\n",
      "100%|███████████████████████████████████████████████████████████████████████████████████████████████████████| 67/67 [00:03<00:00, 18.66it/s]\n"
     ]
    },
    {
     "name": "stdout",
     "output_type": "stream",
     "text": [
      "Computing accuracy\n",
      "Test set accuracy (Precision@1) = 0.5091937765205092\n",
      "Epoch 13 Iteration 0: Loss = 32.711334228515625\n"
     ]
    },
    {
     "name": "stderr",
     "output_type": "stream",
     "text": [
      "100%|█████████████████████████████████████████████████████████████████████████████████████████████████████| 266/266 [00:15<00:00, 17.30it/s]\n",
      "100%|███████████████████████████████████████████████████████████████████████████████████████████████████████| 67/67 [00:03<00:00, 18.70it/s]\n"
     ]
    },
    {
     "name": "stdout",
     "output_type": "stream",
     "text": [
      "Computing accuracy\n",
      "Test set accuracy (Precision@1) = 0.5256954266855257\n",
      "Epoch 14 Iteration 0: Loss = 32.27581024169922\n"
     ]
    },
    {
     "name": "stderr",
     "output_type": "stream",
     "text": [
      "100%|█████████████████████████████████████████████████████████████████████████████████████████████████████| 266/266 [00:15<00:00, 17.29it/s]\n",
      "100%|███████████████████████████████████████████████████████████████████████████████████████████████████████| 67/67 [00:03<00:00, 18.84it/s]\n"
     ]
    },
    {
     "name": "stdout",
     "output_type": "stream",
     "text": [
      "Computing accuracy\n",
      "Test set accuracy (Precision@1) = 0.5327675624705328\n",
      "Epoch 15 Iteration 0: Loss = 31.84709358215332\n"
     ]
    },
    {
     "name": "stderr",
     "output_type": "stream",
     "text": [
      "100%|█████████████████████████████████████████████████████████████████████████████████████████████████████| 266/266 [00:15<00:00, 17.16it/s]\n",
      "100%|███████████████████████████████████████████████████████████████████████████████████████████████████████| 67/67 [00:03<00:00, 18.15it/s]\n"
     ]
    },
    {
     "name": "stdout",
     "output_type": "stream",
     "text": [
      "Computing accuracy\n",
      "Test set accuracy (Precision@1) = 0.5492692126355493\n",
      "Epoch 16 Iteration 0: Loss = 30.59357452392578\n"
     ]
    },
    {
     "name": "stderr",
     "output_type": "stream",
     "text": [
      "100%|█████████████████████████████████████████████████████████████████████████████████████████████████████| 266/266 [00:15<00:00, 17.33it/s]\n",
      "100%|███████████████████████████████████████████████████████████████████████████████████████████████████████| 67/67 [00:03<00:00, 18.80it/s]\n"
     ]
    },
    {
     "name": "stdout",
     "output_type": "stream",
     "text": [
      "Computing accuracy\n",
      "Test set accuracy (Precision@1) = 0.5568128241395568\n",
      "Epoch 17 Iteration 0: Loss = 31.11759376525879\n"
     ]
    },
    {
     "name": "stderr",
     "output_type": "stream",
     "text": [
      "100%|█████████████████████████████████████████████████████████████████████████████████████████████████████| 266/266 [00:15<00:00, 17.28it/s]\n",
      "100%|███████████████████████████████████████████████████████████████████████████████████████████████████████| 67/67 [00:03<00:00, 18.74it/s]\n"
     ]
    },
    {
     "name": "stdout",
     "output_type": "stream",
     "text": [
      "Computing accuracy\n",
      "Test set accuracy (Precision@1) = 0.5766148043375766\n",
      "Epoch 18 Iteration 0: Loss = 29.5068416595459\n"
     ]
    },
    {
     "name": "stderr",
     "output_type": "stream",
     "text": [
      "100%|█████████████████████████████████████████████████████████████████████████████████████████████████████| 266/266 [00:15<00:00, 17.37it/s]\n",
      "100%|███████████████████████████████████████████████████████████████████████████████████████████████████████| 67/67 [00:03<00:00, 18.72it/s]\n"
     ]
    },
    {
     "name": "stdout",
     "output_type": "stream",
     "text": [
      "Computing accuracy\n",
      "Test set accuracy (Precision@1) = 0.5846298915605846\n",
      "Epoch 19 Iteration 0: Loss = 27.721904754638672\n"
     ]
    },
    {
     "name": "stderr",
     "output_type": "stream",
     "text": [
      "100%|█████████████████████████████████████████████████████████████████████████████████████████████████████| 266/266 [00:15<00:00, 17.32it/s]\n",
      "100%|███████████████████████████████████████████████████████████████████████████████████████████████████████| 67/67 [00:03<00:00, 18.57it/s]\n"
     ]
    },
    {
     "name": "stdout",
     "output_type": "stream",
     "text": [
      "Computing accuracy\n",
      "Test set accuracy (Precision@1) = 0.5973597359735974\n",
      "Epoch 20 Iteration 0: Loss = 27.69872283935547\n"
     ]
    },
    {
     "name": "stderr",
     "output_type": "stream",
     "text": [
      "100%|█████████████████████████████████████████████████████████████████████████████████████████████████████| 266/266 [00:15<00:00, 17.24it/s]\n",
      "100%|███████████████████████████████████████████████████████████████████████████████████████████████████████| 67/67 [00:03<00:00, 17.60it/s]\n"
     ]
    },
    {
     "name": "stdout",
     "output_type": "stream",
     "text": [
      "Computing accuracy\n",
      "Test set accuracy (Precision@1) = 0.5992456388495992\n",
      "Epoch 21 Iteration 0: Loss = 28.496015548706055\n"
     ]
    },
    {
     "name": "stderr",
     "output_type": "stream",
     "text": [
      "100%|█████████████████████████████████████████████████████████████████████████████████████████████████████| 266/266 [00:15<00:00, 17.30it/s]\n",
      "100%|███████████████████████████████████████████████████████████████████████████████████████████████████████| 67/67 [00:03<00:00, 18.73it/s]\n"
     ]
    },
    {
     "name": "stdout",
     "output_type": "stream",
     "text": [
      "Computing accuracy\n",
      "Test set accuracy (Precision@1) = 0.6152758132956153\n",
      "Epoch 22 Iteration 0: Loss = 24.96410369873047\n"
     ]
    },
    {
     "name": "stderr",
     "output_type": "stream",
     "text": [
      "100%|█████████████████████████████████████████████████████████████████████████████████████████████████████| 266/266 [00:15<00:00, 17.30it/s]\n",
      "100%|███████████████████████████████████████████████████████████████████████████████████████████████████████| 67/67 [00:03<00:00, 18.81it/s]\n"
     ]
    },
    {
     "name": "stdout",
     "output_type": "stream",
     "text": [
      "Computing accuracy\n",
      "Test set accuracy (Precision@1) = 0.6261197548326262\n",
      "Epoch 23 Iteration 0: Loss = 24.26007652282715\n"
     ]
    },
    {
     "name": "stderr",
     "output_type": "stream",
     "text": [
      "100%|█████████████████████████████████████████████████████████████████████████████████████████████████████| 266/266 [00:15<00:00, 17.29it/s]\n",
      "100%|███████████████████████████████████████████████████████████████████████████████████████████████████████| 67/67 [00:03<00:00, 18.58it/s]\n"
     ]
    },
    {
     "name": "stdout",
     "output_type": "stream",
     "text": [
      "Computing accuracy\n",
      "Test set accuracy (Precision@1) = 0.6223479490806223\n",
      "Epoch 24 Iteration 0: Loss = 24.910934448242188\n"
     ]
    },
    {
     "name": "stderr",
     "output_type": "stream",
     "text": [
      "100%|█████████████████████████████████████████████████████████████████████████████████████████████████████| 266/266 [00:15<00:00, 17.31it/s]\n",
      "100%|███████████████████████████████████████████████████████████████████████████████████████████████████████| 67/67 [00:03<00:00, 18.81it/s]\n"
     ]
    },
    {
     "name": "stdout",
     "output_type": "stream",
     "text": [
      "Computing accuracy\n",
      "Test set accuracy (Precision@1) = 0.6327204148986327\n",
      "Epoch 25 Iteration 0: Loss = 22.444597244262695\n"
     ]
    },
    {
     "name": "stderr",
     "output_type": "stream",
     "text": [
      "100%|█████████████████████████████████████████████████████████████████████████████████████████████████████| 266/266 [00:15<00:00, 17.32it/s]\n",
      "100%|███████████████████████████████████████████████████████████████████████████████████████████████████████| 67/67 [00:03<00:00, 18.77it/s]\n"
     ]
    },
    {
     "name": "stdout",
     "output_type": "stream",
     "text": [
      "Computing accuracy\n",
      "Test set accuracy (Precision@1) = 0.6515794436586516\n",
      "Epoch 26 Iteration 0: Loss = 21.98076629638672\n"
     ]
    },
    {
     "name": "stderr",
     "output_type": "stream",
     "text": [
      "100%|█████████████████████████████████████████████████████████████████████████████████████████████████████| 266/266 [00:15<00:00, 17.25it/s]\n",
      "100%|███████████████████████████████████████████████████████████████████████████████████████████████████████| 67/67 [00:03<00:00, 18.76it/s]\n"
     ]
    },
    {
     "name": "stdout",
     "output_type": "stream",
     "text": [
      "Computing accuracy\n",
      "Test set accuracy (Precision@1) = 0.6600660066006601\n",
      "Epoch 27 Iteration 0: Loss = 21.436134338378906\n"
     ]
    },
    {
     "name": "stderr",
     "output_type": "stream",
     "text": [
      "100%|█████████████████████████████████████████████████████████████████████████████████████████████████████| 266/266 [00:15<00:00, 17.29it/s]\n",
      "100%|███████████████████████████████████████████████████████████████████████████████████████████████████████| 67/67 [00:03<00:00, 18.80it/s]\n"
     ]
    },
    {
     "name": "stdout",
     "output_type": "stream",
     "text": [
      "Computing accuracy\n",
      "Test set accuracy (Precision@1) = 0.6567656765676567\n",
      "Epoch 28 Iteration 0: Loss = 21.61170196533203\n"
     ]
    },
    {
     "name": "stderr",
     "output_type": "stream",
     "text": [
      "100%|█████████████████████████████████████████████████████████████████████████████████████████████████████| 266/266 [00:15<00:00, 17.34it/s]\n",
      "100%|███████████████████████████████████████████████████████████████████████████████████████████████████████| 67/67 [00:03<00:00, 18.73it/s]\n"
     ]
    },
    {
     "name": "stdout",
     "output_type": "stream",
     "text": [
      "Computing accuracy\n",
      "Test set accuracy (Precision@1) = 0.669024045261669\n",
      "Epoch 29 Iteration 0: Loss = 22.075937271118164\n"
     ]
    },
    {
     "name": "stderr",
     "output_type": "stream",
     "text": [
      "100%|█████████████████████████████████████████████████████████████████████████████████████████████████████| 266/266 [00:15<00:00, 17.34it/s]\n",
      "100%|███████████████████████████████████████████████████████████████████████████████████████████████████████| 67/67 [00:03<00:00, 18.77it/s]\n"
     ]
    },
    {
     "name": "stdout",
     "output_type": "stream",
     "text": [
      "Computing accuracy\n",
      "Test set accuracy (Precision@1) = 0.6657237152286657\n",
      "Epoch 30 Iteration 0: Loss = 20.138019561767578\n"
     ]
    },
    {
     "name": "stderr",
     "output_type": "stream",
     "text": [
      "100%|█████████████████████████████████████████████████████████████████████████████████████████████████████| 266/266 [00:15<00:00, 17.35it/s]\n",
      "100%|███████████████████████████████████████████████████████████████████████████████████████████████████████| 67/67 [00:03<00:00, 18.81it/s]\n"
     ]
    },
    {
     "name": "stdout",
     "output_type": "stream",
     "text": [
      "Computing accuracy\n",
      "Test set accuracy (Precision@1) = 0.6808109382366808\n",
      "Epoch 31 Iteration 0: Loss = 18.72817611694336\n"
     ]
    },
    {
     "name": "stderr",
     "output_type": "stream",
     "text": [
      "100%|█████████████████████████████████████████████████████████████████████████████████████████████████████| 266/266 [00:15<00:00, 17.34it/s]\n",
      "100%|███████████████████████████████████████████████████████████████████████████████████████████████████████| 67/67 [00:03<00:00, 18.88it/s]\n"
     ]
    },
    {
     "name": "stdout",
     "output_type": "stream",
     "text": [
      "Computing accuracy\n",
      "Test set accuracy (Precision@1) = 0.6808109382366808\n",
      "Epoch 32 Iteration 0: Loss = 18.09579086303711\n"
     ]
    },
    {
     "name": "stderr",
     "output_type": "stream",
     "text": [
      "100%|█████████████████████████████████████████████████████████████████████████████████████████████████████| 266/266 [00:15<00:00, 17.33it/s]\n",
      "100%|███████████████████████████████████████████████████████████████████████████████████████████████████████| 67/67 [00:03<00:00, 18.74it/s]\n"
     ]
    },
    {
     "name": "stdout",
     "output_type": "stream",
     "text": [
      "Computing accuracy\n",
      "Test set accuracy (Precision@1) = 0.6991984912776992\n",
      "Epoch 33 Iteration 0: Loss = 16.98080062866211\n"
     ]
    },
    {
     "name": "stderr",
     "output_type": "stream",
     "text": [
      "100%|█████████████████████████████████████████████████████████████████████████████████████████████████████| 266/266 [00:15<00:00, 17.35it/s]\n",
      "100%|███████████████████████████████████████████████████████████████████████████████████████████████████████| 67/67 [00:03<00:00, 18.82it/s]\n"
     ]
    },
    {
     "name": "stdout",
     "output_type": "stream",
     "text": [
      "Computing accuracy\n",
      "Test set accuracy (Precision@1) = 0.6968411126826969\n",
      "Epoch 34 Iteration 0: Loss = 17.197994232177734\n"
     ]
    },
    {
     "name": "stderr",
     "output_type": "stream",
     "text": [
      "100%|█████████████████████████████████████████████████████████████████████████████████████████████████████| 266/266 [00:15<00:00, 17.28it/s]\n",
      "100%|███████████████████████████████████████████████████████████████████████████████████████████████████████| 67/67 [00:03<00:00, 18.70it/s]\n"
     ]
    },
    {
     "name": "stdout",
     "output_type": "stream",
     "text": [
      "Computing accuracy\n",
      "Test set accuracy (Precision@1) = 0.7029702970297029\n",
      "Epoch 35 Iteration 0: Loss = 15.328447341918945\n"
     ]
    },
    {
     "name": "stderr",
     "output_type": "stream",
     "text": [
      "100%|█████████████████████████████████████████████████████████████████████████████████████████████████████| 266/266 [00:15<00:00, 17.34it/s]\n",
      "100%|███████████████████████████████████████████████████████████████████████████████████████████████████████| 67/67 [00:03<00:00, 18.75it/s]\n"
     ]
    },
    {
     "name": "stdout",
     "output_type": "stream",
     "text": [
      "Computing accuracy\n",
      "Test set accuracy (Precision@1) = 0.7067421027817068\n",
      "Epoch 36 Iteration 0: Loss = 15.875879287719727\n"
     ]
    },
    {
     "name": "stderr",
     "output_type": "stream",
     "text": [
      "100%|█████████████████████████████████████████████████████████████████████████████████████████████████████| 266/266 [00:15<00:00, 17.13it/s]\n",
      "100%|███████████████████████████████████████████████████████████████████████████████████████████████████████| 67/67 [00:03<00:00, 18.74it/s]\n"
     ]
    },
    {
     "name": "stdout",
     "output_type": "stream",
     "text": [
      "Computing accuracy\n",
      "Test set accuracy (Precision@1) = 0.7138142385667138\n",
      "Epoch 37 Iteration 0: Loss = 14.274282455444336\n"
     ]
    },
    {
     "name": "stderr",
     "output_type": "stream",
     "text": [
      "100%|█████████████████████████████████████████████████████████████████████████████████████████████████████| 266/266 [00:15<00:00, 17.34it/s]\n",
      "100%|███████████████████████████████████████████████████████████████████████████████████████████████████████| 67/67 [00:03<00:00, 18.91it/s]\n"
     ]
    },
    {
     "name": "stdout",
     "output_type": "stream",
     "text": [
      "Computing accuracy\n",
      "Test set accuracy (Precision@1) = 0.7119283356907119\n",
      "Epoch 38 Iteration 0: Loss = 13.73194694519043\n"
     ]
    },
    {
     "name": "stderr",
     "output_type": "stream",
     "text": [
      "100%|█████████████████████████████████████████████████████████████████████████████████████████████████████| 266/266 [00:15<00:00, 17.29it/s]\n",
      "100%|███████████████████████████████████████████████████████████████████████████████████████████████████████| 67/67 [00:03<00:00, 18.61it/s]\n"
     ]
    },
    {
     "name": "stdout",
     "output_type": "stream",
     "text": [
      "Computing accuracy\n",
      "Test set accuracy (Precision@1) = 0.7199434229137199\n",
      "Epoch 39 Iteration 0: Loss = 14.486989974975586\n"
     ]
    },
    {
     "name": "stderr",
     "output_type": "stream",
     "text": [
      "100%|█████████████████████████████████████████████████████████████████████████████████████████████████████| 266/266 [00:15<00:00, 17.34it/s]\n",
      "100%|███████████████████████████████████████████████████████████████████████████████████████████████████████| 67/67 [00:03<00:00, 18.80it/s]\n"
     ]
    },
    {
     "name": "stdout",
     "output_type": "stream",
     "text": [
      "Computing accuracy\n",
      "Test set accuracy (Precision@1) = 0.7185289957567186\n",
      "Epoch 40 Iteration 0: Loss = 13.571174621582031\n"
     ]
    },
    {
     "name": "stderr",
     "output_type": "stream",
     "text": [
      "100%|█████████████████████████████████████████████████████████████████████████████████████████████████████| 266/266 [00:15<00:00, 17.36it/s]\n",
      "100%|███████████████████████████████████████████████████████████████████████████████████████████████████████| 67/67 [00:03<00:00, 18.81it/s]\n"
     ]
    },
    {
     "name": "stdout",
     "output_type": "stream",
     "text": [
      "Computing accuracy\n",
      "Test set accuracy (Precision@1) = 0.727958510136728\n",
      "Epoch 41 Iteration 0: Loss = 12.309615135192871\n"
     ]
    },
    {
     "name": "stderr",
     "output_type": "stream",
     "text": [
      "100%|█████████████████████████████████████████████████████████████████████████████████████████████████████| 266/266 [00:15<00:00, 17.12it/s]\n",
      "100%|███████████████████████████████████████████████████████████████████████████████████████████████████████| 67/67 [00:03<00:00, 18.40it/s]\n"
     ]
    },
    {
     "name": "stdout",
     "output_type": "stream",
     "text": [
      "Computing accuracy\n",
      "Test set accuracy (Precision@1) = 0.7298444130127298\n",
      "Epoch 42 Iteration 0: Loss = 14.214424133300781\n"
     ]
    },
    {
     "name": "stderr",
     "output_type": "stream",
     "text": [
      "100%|█████████████████████████████████████████████████████████████████████████████████████████████████████| 266/266 [00:15<00:00, 17.30it/s]\n",
      "100%|███████████████████████████████████████████████████████████████████████████████████████████████████████| 67/67 [00:03<00:00, 18.75it/s]\n"
     ]
    },
    {
     "name": "stdout",
     "output_type": "stream",
     "text": [
      "Computing accuracy\n",
      "Test set accuracy (Precision@1) = 0.7303158887317304\n",
      "Epoch 43 Iteration 0: Loss = 13.024033546447754\n"
     ]
    },
    {
     "name": "stderr",
     "output_type": "stream",
     "text": [
      "100%|█████████████████████████████████████████████████████████████████████████████████████████████████████| 266/266 [00:15<00:00, 17.33it/s]\n",
      "100%|███████████████████████████████████████████████████████████████████████████████████████████████████████| 67/67 [00:03<00:00, 18.82it/s]\n"
     ]
    },
    {
     "name": "stdout",
     "output_type": "stream",
     "text": [
      "Computing accuracy\n",
      "Test set accuracy (Precision@1) = 0.7397454031117398\n",
      "Epoch 44 Iteration 0: Loss = 12.599715232849121\n"
     ]
    },
    {
     "name": "stderr",
     "output_type": "stream",
     "text": [
      "100%|█████████████████████████████████████████████████████████████████████████████████████████████████████| 266/266 [00:15<00:00, 17.40it/s]\n",
      "100%|███████████████████████████████████████████████████████████████████████████████████████████████████████| 67/67 [00:03<00:00, 18.79it/s]\n"
     ]
    },
    {
     "name": "stdout",
     "output_type": "stream",
     "text": [
      "Computing accuracy\n",
      "Test set accuracy (Precision@1) = 0.7364450730787364\n",
      "Epoch 45 Iteration 0: Loss = 14.13359260559082\n"
     ]
    },
    {
     "name": "stderr",
     "output_type": "stream",
     "text": [
      "100%|█████████████████████████████████████████████████████████████████████████████████████████████████████| 266/266 [00:15<00:00, 17.25it/s]\n",
      "100%|███████████████████████████████████████████████████████████████████████████████████████████████████████| 67/67 [00:03<00:00, 18.91it/s]\n"
     ]
    },
    {
     "name": "stdout",
     "output_type": "stream",
     "text": [
      "Computing accuracy\n",
      "Test set accuracy (Precision@1) = 0.7416313059877416\n",
      "Epoch 46 Iteration 0: Loss = 10.89725112915039\n"
     ]
    },
    {
     "name": "stderr",
     "output_type": "stream",
     "text": [
      "100%|█████████████████████████████████████████████████████████████████████████████████████████████████████| 266/266 [00:15<00:00, 17.31it/s]\n",
      "100%|███████████████████████████████████████████████████████████████████████████████████████████████████████| 67/67 [00:03<00:00, 18.41it/s]\n"
     ]
    },
    {
     "name": "stdout",
     "output_type": "stream",
     "text": [
      "Computing accuracy\n",
      "Test set accuracy (Precision@1) = 0.7411598302687411\n",
      "Epoch 47 Iteration 0: Loss = 12.563915252685547\n"
     ]
    },
    {
     "name": "stderr",
     "output_type": "stream",
     "text": [
      "100%|█████████████████████████████████████████████████████████████████████████████████████████████████████| 266/266 [00:15<00:00, 17.27it/s]\n",
      "100%|███████████████████████████████████████████████████████████████████████████████████████████████████████| 67/67 [00:03<00:00, 18.72it/s]\n"
     ]
    },
    {
     "name": "stdout",
     "output_type": "stream",
     "text": [
      "Computing accuracy\n",
      "Test set accuracy (Precision@1) = 0.7458745874587459\n",
      "Epoch 48 Iteration 0: Loss = 9.886869430541992\n"
     ]
    },
    {
     "name": "stderr",
     "output_type": "stream",
     "text": [
      "100%|█████████████████████████████████████████████████████████████████████████████████████████████████████| 266/266 [00:15<00:00, 17.29it/s]\n",
      "100%|███████████████████████████████████████████████████████████████████████████████████████████████████████| 67/67 [00:03<00:00, 18.81it/s]\n"
     ]
    },
    {
     "name": "stdout",
     "output_type": "stream",
     "text": [
      "Computing accuracy\n",
      "Test set accuracy (Precision@1) = 0.7345591702027345\n",
      "Epoch 49 Iteration 0: Loss = 10.39985466003418\n"
     ]
    },
    {
     "name": "stderr",
     "output_type": "stream",
     "text": [
      "100%|█████████████████████████████████████████████████████████████████████████████████████████████████████| 266/266 [00:15<00:00, 17.32it/s]\n",
      "100%|███████████████████████████████████████████████████████████████████████████████████████████████████████| 67/67 [00:03<00:00, 18.80it/s]\n"
     ]
    },
    {
     "name": "stdout",
     "output_type": "stream",
     "text": [
      "Computing accuracy\n",
      "Test set accuracy (Precision@1) = 0.752003771805752\n",
      "Epoch 50 Iteration 0: Loss = 8.348785400390625\n"
     ]
    },
    {
     "name": "stderr",
     "output_type": "stream",
     "text": [
      "100%|█████████████████████████████████████████████████████████████████████████████████████████████████████| 266/266 [00:15<00:00, 17.34it/s]\n",
      "100%|███████████████████████████████████████████████████████████████████████████████████████████████████████| 67/67 [00:03<00:00, 18.91it/s]\n"
     ]
    },
    {
     "name": "stdout",
     "output_type": "stream",
     "text": [
      "Computing accuracy\n",
      "Test set accuracy (Precision@1) = 0.7557755775577558\n",
      "Epoch 51 Iteration 0: Loss = 9.226484298706055\n"
     ]
    },
    {
     "name": "stderr",
     "output_type": "stream",
     "text": [
      "100%|█████████████████████████████████████████████████████████████████████████████████████████████████████| 266/266 [00:15<00:00, 17.39it/s]\n",
      "100%|███████████████████████████████████████████████████████████████████████████████████████████████████████| 67/67 [00:03<00:00, 18.76it/s]\n"
     ]
    },
    {
     "name": "stdout",
     "output_type": "stream",
     "text": [
      "Computing accuracy\n",
      "Test set accuracy (Precision@1) = 0.7553041018387553\n",
      "Epoch 52 Iteration 0: Loss = 10.435630798339844\n"
     ]
    },
    {
     "name": "stderr",
     "output_type": "stream",
     "text": [
      "100%|█████████████████████████████████████████████████████████████████████████████████████████████████████| 266/266 [00:15<00:00, 17.30it/s]\n",
      "100%|███████████████████████████████████████████████████████████████████████████████████████████████████████| 67/67 [00:03<00:00, 18.78it/s]\n"
     ]
    },
    {
     "name": "stdout",
     "output_type": "stream",
     "text": [
      "Computing accuracy\n",
      "Test set accuracy (Precision@1) = 0.7538896746817539\n",
      "Epoch 53 Iteration 0: Loss = 8.805702209472656\n"
     ]
    },
    {
     "name": "stderr",
     "output_type": "stream",
     "text": [
      "100%|█████████████████████████████████████████████████████████████████████████████████████████████████████| 266/266 [00:15<00:00, 17.36it/s]\n",
      "100%|███████████████████████████████████████████████████████████████████████████████████████████████████████| 67/67 [00:03<00:00, 18.72it/s]\n"
     ]
    },
    {
     "name": "stdout",
     "output_type": "stream",
     "text": [
      "Computing accuracy\n",
      "Test set accuracy (Precision@1) = 0.7548326261197549\n",
      "Epoch 54 Iteration 0: Loss = 6.914379119873047\n"
     ]
    },
    {
     "name": "stderr",
     "output_type": "stream",
     "text": [
      "100%|█████████████████████████████████████████████████████████████████████████████████████████████████████| 266/266 [00:15<00:00, 17.38it/s]\n",
      "100%|███████████████████████████████████████████████████████████████████████████████████████████████████████| 67/67 [00:03<00:00, 18.77it/s]\n"
     ]
    },
    {
     "name": "stdout",
     "output_type": "stream",
     "text": [
      "Computing accuracy\n",
      "Test set accuracy (Precision@1) = 0.7571900047147572\n",
      "Epoch 55 Iteration 0: Loss = 7.62484073638916\n"
     ]
    },
    {
     "name": "stderr",
     "output_type": "stream",
     "text": [
      "100%|█████████████████████████████████████████████████████████████████████████████████████████████████████| 266/266 [00:15<00:00, 17.37it/s]\n",
      "100%|███████████████████████████████████████████████████████████████████████████████████████████████████████| 67/67 [00:03<00:00, 18.69it/s]\n"
     ]
    },
    {
     "name": "stdout",
     "output_type": "stream",
     "text": [
      "Computing accuracy\n",
      "Test set accuracy (Precision@1) = 0.7411598302687411\n",
      "Epoch 56 Iteration 0: Loss = 7.674643039703369\n"
     ]
    },
    {
     "name": "stderr",
     "output_type": "stream",
     "text": [
      "100%|█████████████████████████████████████████████████████████████████████████████████████████████████████| 266/266 [00:15<00:00, 17.36it/s]\n",
      "100%|███████████████████████████████████████████████████████████████████████████████████████████████████████| 67/67 [00:03<00:00, 18.86it/s]\n"
     ]
    },
    {
     "name": "stdout",
     "output_type": "stream",
     "text": [
      "Computing accuracy\n",
      "Test set accuracy (Precision@1) = 0.7529467232437529\n",
      "Epoch 57 Iteration 0: Loss = 9.182143211364746\n"
     ]
    },
    {
     "name": "stderr",
     "output_type": "stream",
     "text": [
      "100%|█████████████████████████████████████████████████████████████████████████████████████████████████████| 266/266 [00:15<00:00, 17.33it/s]\n",
      "100%|███████████████████████████████████████████████████████████████████████████████████████████████████████| 67/67 [00:03<00:00, 18.80it/s]\n"
     ]
    },
    {
     "name": "stdout",
     "output_type": "stream",
     "text": [
      "Computing accuracy\n",
      "Test set accuracy (Precision@1) = 0.7543611504007544\n",
      "Epoch 58 Iteration 0: Loss = 7.695196628570557\n"
     ]
    },
    {
     "name": "stderr",
     "output_type": "stream",
     "text": [
      "100%|█████████████████████████████████████████████████████████████████████████████████████████████████████| 266/266 [00:15<00:00, 17.36it/s]\n",
      "100%|███████████████████████████████████████████████████████████████████████████████████████████████████████| 67/67 [00:03<00:00, 18.79it/s]\n"
     ]
    },
    {
     "name": "stdout",
     "output_type": "stream",
     "text": [
      "Computing accuracy\n",
      "Test set accuracy (Precision@1) = 0.7623762376237624\n",
      "Epoch 59 Iteration 0: Loss = 7.309947490692139\n"
     ]
    },
    {
     "name": "stderr",
     "output_type": "stream",
     "text": [
      "100%|█████████████████████████████████████████████████████████████████████████████████████████████████████| 266/266 [00:15<00:00, 17.33it/s]\n",
      "100%|███████████████████████████████████████████████████████████████████████████████████████████████████████| 67/67 [00:03<00:00, 18.78it/s]\n"
     ]
    },
    {
     "name": "stdout",
     "output_type": "stream",
     "text": [
      "Computing accuracy\n",
      "Test set accuracy (Precision@1) = 0.7524752475247525\n",
      "Epoch 60 Iteration 0: Loss = 7.612587928771973\n"
     ]
    },
    {
     "name": "stderr",
     "output_type": "stream",
     "text": [
      "100%|█████████████████████████████████████████████████████████████████████████████████████████████████████| 266/266 [00:15<00:00, 17.28it/s]\n",
      "100%|███████████████████████████████████████████████████████████████████████████████████████████████████████| 67/67 [00:03<00:00, 18.80it/s]\n"
     ]
    },
    {
     "name": "stdout",
     "output_type": "stream",
     "text": [
      "Computing accuracy\n",
      "Test set accuracy (Precision@1) = 0.7656765676567657\n",
      "Epoch 61 Iteration 0: Loss = 7.489204406738281\n"
     ]
    },
    {
     "name": "stderr",
     "output_type": "stream",
     "text": [
      "100%|█████████████████████████████████████████████████████████████████████████████████████████████████████| 266/266 [00:15<00:00, 17.38it/s]\n",
      "100%|███████████████████████████████████████████████████████████████████████████████████████████████████████| 67/67 [00:03<00:00, 18.75it/s]\n"
     ]
    },
    {
     "name": "stdout",
     "output_type": "stream",
     "text": [
      "Computing accuracy\n",
      "Test set accuracy (Precision@1) = 0.7534181989627534\n",
      "Epoch 62 Iteration 0: Loss = 6.5754523277282715\n"
     ]
    },
    {
     "name": "stderr",
     "output_type": "stream",
     "text": [
      "100%|█████████████████████████████████████████████████████████████████████████████████████████████████████| 266/266 [00:15<00:00, 16.84it/s]\n",
      "100%|███████████████████████████████████████████████████████████████████████████████████████████████████████| 67/67 [00:03<00:00, 18.86it/s]\n"
     ]
    },
    {
     "name": "stdout",
     "output_type": "stream",
     "text": [
      "Computing accuracy\n",
      "Test set accuracy (Precision@1) = 0.7670909948137671\n",
      "Epoch 63 Iteration 0: Loss = 6.301630973815918\n"
     ]
    },
    {
     "name": "stderr",
     "output_type": "stream",
     "text": [
      "100%|█████████████████████████████████████████████████████████████████████████████████████████████████████| 266/266 [00:15<00:00, 17.31it/s]\n",
      "100%|███████████████████████████████████████████████████████████████████████████████████████████████████████| 67/67 [00:03<00:00, 18.83it/s]\n"
     ]
    },
    {
     "name": "stdout",
     "output_type": "stream",
     "text": [
      "Computing accuracy\n",
      "Test set accuracy (Precision@1) = 0.7656765676567657\n",
      "Epoch 64 Iteration 0: Loss = 8.369041442871094\n"
     ]
    },
    {
     "name": "stderr",
     "output_type": "stream",
     "text": [
      "100%|█████████████████████████████████████████████████████████████████████████████████████████████████████| 266/266 [00:15<00:00, 17.31it/s]\n",
      "100%|███████████████████████████████████████████████████████████████████████████████████████████████████████| 67/67 [00:03<00:00, 18.76it/s]\n"
     ]
    },
    {
     "name": "stdout",
     "output_type": "stream",
     "text": [
      "Computing accuracy\n",
      "Test set accuracy (Precision@1) = 0.7505893446487506\n",
      "Epoch 65 Iteration 0: Loss = 7.214560031890869\n"
     ]
    },
    {
     "name": "stderr",
     "output_type": "stream",
     "text": [
      "100%|█████████████████████████████████████████████████████████████████████████████████████████████████████| 266/266 [00:15<00:00, 17.27it/s]\n",
      "100%|███████████████████████████████████████████████████████████████████████████████████████████████████████| 67/67 [00:03<00:00, 18.71it/s]\n"
     ]
    },
    {
     "name": "stdout",
     "output_type": "stream",
     "text": [
      "Computing accuracy\n",
      "Test set accuracy (Precision@1) = 0.7661480433757661\n",
      "Epoch 66 Iteration 0: Loss = 5.632476329803467\n"
     ]
    },
    {
     "name": "stderr",
     "output_type": "stream",
     "text": [
      "100%|█████████████████████████████████████████████████████████████████████████████████████████████████████| 266/266 [00:15<00:00, 17.40it/s]\n",
      "100%|███████████████████████████████████████████████████████████████████████████████████████████████████████| 67/67 [00:03<00:00, 18.79it/s]\n"
     ]
    },
    {
     "name": "stdout",
     "output_type": "stream",
     "text": [
      "Computing accuracy\n",
      "Test set accuracy (Precision@1) = 0.7647336162187647\n",
      "Epoch 67 Iteration 0: Loss = 5.037130355834961\n"
     ]
    },
    {
     "name": "stderr",
     "output_type": "stream",
     "text": [
      "100%|█████████████████████████████████████████████████████████████████████████████████████████████████████| 266/266 [00:15<00:00, 17.25it/s]\n",
      "100%|███████████████████████████████████████████████████████████████████████████████████████████████████████| 67/67 [00:03<00:00, 18.76it/s]\n"
     ]
    },
    {
     "name": "stdout",
     "output_type": "stream",
     "text": [
      "Computing accuracy\n",
      "Test set accuracy (Precision@1) = 0.7685054219707685\n",
      "Epoch 68 Iteration 0: Loss = 5.82181453704834\n"
     ]
    },
    {
     "name": "stderr",
     "output_type": "stream",
     "text": [
      "100%|█████████████████████████████████████████████████████████████████████████████████████████████████████| 266/266 [00:15<00:00, 17.22it/s]\n",
      "100%|███████████████████████████████████████████████████████████████████████████████████████████████████████| 67/67 [00:03<00:00, 18.65it/s]\n"
     ]
    },
    {
     "name": "stdout",
     "output_type": "stream",
     "text": [
      "Computing accuracy\n",
      "Test set accuracy (Precision@1) = 0.7708628005657708\n",
      "Epoch 69 Iteration 0: Loss = 4.354152679443359\n"
     ]
    },
    {
     "name": "stderr",
     "output_type": "stream",
     "text": [
      "100%|█████████████████████████████████████████████████████████████████████████████████████████████████████| 266/266 [00:16<00:00, 16.28it/s]\n",
      "100%|███████████████████████████████████████████████████████████████████████████████████████████████████████| 67/67 [00:03<00:00, 17.63it/s]\n"
     ]
    },
    {
     "name": "stdout",
     "output_type": "stream",
     "text": [
      "Computing accuracy\n",
      "Test set accuracy (Precision@1) = 0.7666195190947667\n",
      "Epoch 70 Iteration 0: Loss = 5.821880340576172\n"
     ]
    },
    {
     "name": "stderr",
     "output_type": "stream",
     "text": [
      "100%|█████████████████████████████████████████████████████████████████████████████████████████████████████| 266/266 [00:16<00:00, 16.31it/s]\n",
      "100%|███████████████████████████████████████████████████████████████████████████████████████████████████████| 67/67 [00:03<00:00, 17.50it/s]\n"
     ]
    },
    {
     "name": "stdout",
     "output_type": "stream",
     "text": [
      "Computing accuracy\n",
      "Test set accuracy (Precision@1) = 0.7586044318717586\n",
      "Epoch 71 Iteration 0: Loss = 3.93998122215271\n"
     ]
    },
    {
     "name": "stderr",
     "output_type": "stream",
     "text": [
      "100%|█████████████████████████████████████████████████████████████████████████████████████████████████████| 266/266 [00:16<00:00, 16.25it/s]\n",
      "100%|███████████████████████████████████████████████████████████████████████████████████████████████████████| 67/67 [00:03<00:00, 17.67it/s]\n"
     ]
    },
    {
     "name": "stdout",
     "output_type": "stream",
     "text": [
      "Computing accuracy\n",
      "Test set accuracy (Precision@1) = 0.7586044318717586\n",
      "Epoch 72 Iteration 0: Loss = 5.553719520568848\n"
     ]
    },
    {
     "name": "stderr",
     "output_type": "stream",
     "text": [
      "100%|█████████████████████████████████████████████████████████████████████████████████████████████████████| 266/266 [00:16<00:00, 16.26it/s]\n",
      "100%|███████████████████████████████████████████████████████████████████████████████████████████████████████| 67/67 [00:03<00:00, 17.53it/s]\n"
     ]
    },
    {
     "name": "stdout",
     "output_type": "stream",
     "text": [
      "Computing accuracy\n",
      "Test set accuracy (Precision@1) = 0.7713342762847714\n",
      "Epoch 73 Iteration 0: Loss = 4.528049945831299\n"
     ]
    },
    {
     "name": "stderr",
     "output_type": "stream",
     "text": [
      "100%|█████████████████████████████████████████████████████████████████████████████████████████████████████| 266/266 [00:16<00:00, 16.26it/s]\n",
      "100%|███████████████████████████████████████████████████████████████████████████████████████████████████████| 67/67 [00:03<00:00, 17.70it/s]\n"
     ]
    },
    {
     "name": "stdout",
     "output_type": "stream",
     "text": [
      "Computing accuracy\n",
      "Test set accuracy (Precision@1) = 0.7685054219707685\n",
      "Epoch 74 Iteration 0: Loss = 4.08951997756958\n"
     ]
    },
    {
     "name": "stderr",
     "output_type": "stream",
     "text": [
      "100%|█████████████████████████████████████████████████████████████████████████████████████████████████████| 266/266 [00:16<00:00, 16.12it/s]\n",
      "100%|███████████████████████████████████████████████████████████████████████████████████████████████████████| 67/67 [00:03<00:00, 16.93it/s]\n"
     ]
    },
    {
     "name": "stdout",
     "output_type": "stream",
     "text": [
      "Computing accuracy\n",
      "Test set accuracy (Precision@1) = 0.7713342762847714\n",
      "Epoch 75 Iteration 0: Loss = 3.5439329147338867\n"
     ]
    },
    {
     "name": "stderr",
     "output_type": "stream",
     "text": [
      "100%|█████████████████████████████████████████████████████████████████████████████████████████████████████| 266/266 [00:16<00:00, 16.26it/s]\n",
      "100%|███████████████████████████████████████████████████████████████████████████████████████████████████████| 67/67 [00:03<00:00, 17.26it/s]\n"
     ]
    },
    {
     "name": "stdout",
     "output_type": "stream",
     "text": [
      "Computing accuracy\n",
      "Test set accuracy (Precision@1) = 0.7586044318717586\n",
      "Epoch 76 Iteration 0: Loss = 3.177492618560791\n"
     ]
    },
    {
     "name": "stderr",
     "output_type": "stream",
     "text": [
      "100%|█████████████████████████████████████████████████████████████████████████████████████████████████████| 266/266 [00:16<00:00, 16.25it/s]\n",
      "100%|███████████████████████████████████████████████████████████████████████████████████████████████████████| 67/67 [00:03<00:00, 17.38it/s]\n"
     ]
    },
    {
     "name": "stdout",
     "output_type": "stream",
     "text": [
      "Computing accuracy\n",
      "Test set accuracy (Precision@1) = 0.7699198491277699\n",
      "Epoch 77 Iteration 0: Loss = 4.427612781524658\n"
     ]
    },
    {
     "name": "stderr",
     "output_type": "stream",
     "text": [
      "100%|█████████████████████████████████████████████████████████████████████████████████████████████████████| 266/266 [00:15<00:00, 16.97it/s]\n",
      "100%|███████████████████████████████████████████████████████████████████████████████████████████████████████| 67/67 [00:03<00:00, 18.51it/s]\n"
     ]
    },
    {
     "name": "stdout",
     "output_type": "stream",
     "text": [
      "Computing accuracy\n",
      "Test set accuracy (Precision@1) = 0.7675624705327676\n",
      "Epoch 78 Iteration 0: Loss = 4.8903608322143555\n"
     ]
    },
    {
     "name": "stderr",
     "output_type": "stream",
     "text": [
      "100%|█████████████████████████████████████████████████████████████████████████████████████████████████████| 266/266 [00:15<00:00, 17.19it/s]\n",
      "100%|███████████████████████████████████████████████████████████████████████████████████████████████████████| 67/67 [00:03<00:00, 18.74it/s]\n"
     ]
    },
    {
     "name": "stdout",
     "output_type": "stream",
     "text": [
      "Computing accuracy\n",
      "Test set accuracy (Precision@1) = 0.7670909948137671\n",
      "Epoch 79 Iteration 0: Loss = 3.7395005226135254\n"
     ]
    },
    {
     "name": "stderr",
     "output_type": "stream",
     "text": [
      "100%|█████████████████████████████████████████████████████████████████████████████████████████████████████| 266/266 [00:15<00:00, 16.70it/s]\n",
      "100%|███████████████████████████████████████████████████████████████████████████████████████████████████████| 67/67 [00:03<00:00, 17.91it/s]\n"
     ]
    },
    {
     "name": "stdout",
     "output_type": "stream",
     "text": [
      "Computing accuracy\n",
      "Test set accuracy (Precision@1) = 0.7699198491277699\n",
      "Epoch 80 Iteration 0: Loss = 3.3994431495666504\n"
     ]
    },
    {
     "name": "stderr",
     "output_type": "stream",
     "text": [
      "100%|█████████████████████████████████████████████████████████████████████████████████████████████████████| 266/266 [00:16<00:00, 16.60it/s]\n",
      "100%|███████████████████████████████████████████████████████████████████████████████████████████████████████| 67/67 [00:03<00:00, 18.08it/s]\n"
     ]
    },
    {
     "name": "stdout",
     "output_type": "stream",
     "text": [
      "Computing accuracy\n",
      "Test set accuracy (Precision@1) = 0.7619047619047619\n",
      "Epoch 81 Iteration 0: Loss = 4.974047660827637\n"
     ]
    },
    {
     "name": "stderr",
     "output_type": "stream",
     "text": [
      "100%|█████████████████████████████████████████████████████████████████████████████████████████████████████| 266/266 [00:16<00:00, 16.29it/s]\n",
      "100%|███████████████████████████████████████████████████████████████████████████████████████████████████████| 67/67 [00:03<00:00, 17.69it/s]\n"
     ]
    },
    {
     "name": "stdout",
     "output_type": "stream",
     "text": [
      "Computing accuracy\n",
      "Test set accuracy (Precision@1) = 0.7699198491277699\n",
      "Epoch 82 Iteration 0: Loss = 3.583247661590576\n"
     ]
    },
    {
     "name": "stderr",
     "output_type": "stream",
     "text": [
      "100%|█████████████████████████████████████████████████████████████████████████████████████████████████████| 266/266 [00:16<00:00, 16.40it/s]\n",
      "100%|███████████████████████████████████████████████████████████████████████████████████████████████████████| 67/67 [00:03<00:00, 17.51it/s]\n"
     ]
    },
    {
     "name": "stdout",
     "output_type": "stream",
     "text": [
      "Computing accuracy\n",
      "Test set accuracy (Precision@1) = 0.7718057520037718\n",
      "Epoch 83 Iteration 0: Loss = 3.947859048843384\n"
     ]
    },
    {
     "name": "stderr",
     "output_type": "stream",
     "text": [
      "100%|█████████████████████████████████████████████████████████████████████████████████████████████████████| 266/266 [00:15<00:00, 17.30it/s]\n",
      "100%|███████████████████████████████████████████████████████████████████████████████████████████████████████| 67/67 [00:03<00:00, 18.82it/s]\n"
     ]
    },
    {
     "name": "stdout",
     "output_type": "stream",
     "text": [
      "Computing accuracy\n",
      "Test set accuracy (Precision@1) = 0.7713342762847714\n",
      "Epoch 84 Iteration 0: Loss = 2.956855297088623\n"
     ]
    },
    {
     "name": "stderr",
     "output_type": "stream",
     "text": [
      "100%|█████████████████████████████████████████████████████████████████████████████████████████████████████| 266/266 [00:15<00:00, 17.00it/s]\n",
      "100%|███████████████████████████████████████████████████████████████████████████████████████████████████████| 67/67 [00:03<00:00, 18.06it/s]\n"
     ]
    },
    {
     "name": "stdout",
     "output_type": "stream",
     "text": [
      "Computing accuracy\n",
      "Test set accuracy (Precision@1) = 0.7703913248467704\n",
      "Epoch 85 Iteration 0: Loss = 2.7946300506591797\n"
     ]
    },
    {
     "name": "stderr",
     "output_type": "stream",
     "text": [
      "100%|█████████████████████████████████████████████████████████████████████████████████████████████████████| 266/266 [00:15<00:00, 16.79it/s]\n",
      "100%|███████████████████████████████████████████████████████████████████████████████████████████████████████| 67/67 [00:03<00:00, 18.58it/s]\n"
     ]
    },
    {
     "name": "stdout",
     "output_type": "stream",
     "text": [
      "Computing accuracy\n",
      "Test set accuracy (Precision@1) = 0.7647336162187647\n",
      "Epoch 86 Iteration 0: Loss = 3.384061098098755\n"
     ]
    },
    {
     "name": "stderr",
     "output_type": "stream",
     "text": [
      "100%|█████████████████████████████████████████████████████████████████████████████████████████████████████| 266/266 [00:15<00:00, 17.07it/s]\n",
      "100%|███████████████████████████████████████████████████████████████████████████████████████████████████████| 67/67 [00:03<00:00, 18.51it/s]\n"
     ]
    },
    {
     "name": "stdout",
     "output_type": "stream",
     "text": [
      "Computing accuracy\n",
      "Test set accuracy (Precision@1) = 0.7623762376237624\n",
      "Epoch 87 Iteration 0: Loss = 2.946648120880127\n"
     ]
    },
    {
     "name": "stderr",
     "output_type": "stream",
     "text": [
      "100%|█████████████████████████████████████████████████████████████████████████████████████████████████████| 266/266 [00:15<00:00, 16.96it/s]\n",
      "100%|███████████████████████████████████████████████████████████████████████████████████████████████████████| 67/67 [00:03<00:00, 18.49it/s]\n"
     ]
    },
    {
     "name": "stdout",
     "output_type": "stream",
     "text": [
      "Computing accuracy\n",
      "Test set accuracy (Precision@1) = 0.7765205091937765\n",
      "Epoch 88 Iteration 0: Loss = 3.330230712890625\n"
     ]
    },
    {
     "name": "stderr",
     "output_type": "stream",
     "text": [
      "100%|█████████████████████████████████████████████████████████████████████████████████████████████████████| 266/266 [00:16<00:00, 16.60it/s]\n",
      "100%|███████████████████████████████████████████████████████████████████████████████████████████████████████| 67/67 [00:03<00:00, 18.20it/s]\n"
     ]
    },
    {
     "name": "stdout",
     "output_type": "stream",
     "text": [
      "Computing accuracy\n",
      "Test set accuracy (Precision@1) = 0.7647336162187647\n",
      "Epoch 89 Iteration 0: Loss = 2.2590560913085938\n"
     ]
    },
    {
     "name": "stderr",
     "output_type": "stream",
     "text": [
      "100%|█████████████████████████████████████████████████████████████████████████████████████████████████████| 266/266 [00:15<00:00, 16.63it/s]\n",
      "100%|███████████████████████████████████████████████████████████████████████████████████████████████████████| 67/67 [00:03<00:00, 17.63it/s]\n"
     ]
    },
    {
     "name": "stdout",
     "output_type": "stream",
     "text": [
      "Computing accuracy\n",
      "Test set accuracy (Precision@1) = 0.7713342762847714\n",
      "Epoch 90 Iteration 0: Loss = 2.3269429206848145\n"
     ]
    },
    {
     "name": "stderr",
     "output_type": "stream",
     "text": [
      "100%|█████████████████████████████████████████████████████████████████████████████████████████████████████| 266/266 [00:15<00:00, 16.82it/s]\n",
      "100%|███████████████████████████████████████████████████████████████████████████████████████████████████████| 67/67 [00:03<00:00, 18.49it/s]\n"
     ]
    },
    {
     "name": "stdout",
     "output_type": "stream",
     "text": [
      "Computing accuracy\n",
      "Test set accuracy (Precision@1) = 0.7670909948137671\n",
      "Epoch 91 Iteration 0: Loss = 2.766770601272583\n"
     ]
    },
    {
     "name": "stderr",
     "output_type": "stream",
     "text": [
      "100%|█████████████████████████████████████████████████████████████████████████████████████████████████████| 266/266 [00:15<00:00, 16.97it/s]\n",
      "100%|███████████████████████████████████████████████████████████████████████████████████████████████████████| 67/67 [00:03<00:00, 18.70it/s]\n"
     ]
    },
    {
     "name": "stdout",
     "output_type": "stream",
     "text": [
      "Computing accuracy\n",
      "Test set accuracy (Precision@1) = 0.7722772277227723\n",
      "Epoch 92 Iteration 0: Loss = 2.0082297325134277\n"
     ]
    },
    {
     "name": "stderr",
     "output_type": "stream",
     "text": [
      "100%|█████████████████████████████████████████████████████████████████████████████████████████████████████| 266/266 [00:15<00:00, 16.94it/s]\n",
      "100%|███████████████████████████████████████████████████████████████████████████████████████████████████████| 67/67 [00:03<00:00, 18.69it/s]\n"
     ]
    },
    {
     "name": "stdout",
     "output_type": "stream",
     "text": [
      "Computing accuracy\n",
      "Test set accuracy (Precision@1) = 0.7652050919377652\n",
      "Epoch 93 Iteration 0: Loss = 2.0519604682922363\n"
     ]
    },
    {
     "name": "stderr",
     "output_type": "stream",
     "text": [
      "100%|█████████████████████████████████████████████████████████████████████████████████████████████████████| 266/266 [00:16<00:00, 15.96it/s]\n",
      "100%|███████████████████████████████████████████████████████████████████████████████████████████████████████| 67/67 [00:03<00:00, 17.11it/s]\n"
     ]
    },
    {
     "name": "stdout",
     "output_type": "stream",
     "text": [
      "Computing accuracy\n",
      "Test set accuracy (Precision@1) = 0.7666195190947667\n",
      "Epoch 94 Iteration 0: Loss = 3.181065559387207\n"
     ]
    },
    {
     "name": "stderr",
     "output_type": "stream",
     "text": [
      "100%|█████████████████████████████████████████████████████████████████████████████████████████████████████| 266/266 [00:17<00:00, 15.64it/s]\n",
      "100%|███████████████████████████████████████████████████████████████████████████████████████████████████████| 67/67 [00:03<00:00, 17.38it/s]\n"
     ]
    },
    {
     "name": "stdout",
     "output_type": "stream",
     "text": [
      "Computing accuracy\n",
      "Test set accuracy (Precision@1) = 0.7703913248467704\n",
      "Epoch 95 Iteration 0: Loss = 1.48939847946167\n"
     ]
    },
    {
     "name": "stderr",
     "output_type": "stream",
     "text": [
      "100%|█████████████████████████████████████████████████████████████████████████████████████████████████████| 266/266 [00:16<00:00, 15.68it/s]\n",
      "100%|███████████████████████████████████████████████████████████████████████████████████████████████████████| 67/67 [00:03<00:00, 17.37it/s]\n"
     ]
    },
    {
     "name": "stdout",
     "output_type": "stream",
     "text": [
      "Computing accuracy\n",
      "Test set accuracy (Precision@1) = 0.7708628005657708\n",
      "Epoch 96 Iteration 0: Loss = 2.1241188049316406\n"
     ]
    },
    {
     "name": "stderr",
     "output_type": "stream",
     "text": [
      "100%|█████████████████████████████████████████████████████████████████████████████████████████████████████| 266/266 [00:16<00:00, 15.81it/s]\n",
      "100%|███████████████████████████████████████████████████████████████████████████████████████████████████████| 67/67 [00:03<00:00, 17.66it/s]\n"
     ]
    },
    {
     "name": "stdout",
     "output_type": "stream",
     "text": [
      "Computing accuracy\n",
      "Test set accuracy (Precision@1) = 0.7685054219707685\n",
      "Epoch 97 Iteration 0: Loss = 2.1201400756835938\n"
     ]
    },
    {
     "name": "stderr",
     "output_type": "stream",
     "text": [
      "100%|█████████████████████████████████████████████████████████████████████████████████████████████████████| 266/266 [00:16<00:00, 16.13it/s]\n",
      "100%|███████████████████████████████████████████████████████████████████████████████████████████████████████| 67/67 [00:03<00:00, 17.44it/s]\n"
     ]
    },
    {
     "name": "stdout",
     "output_type": "stream",
     "text": [
      "Computing accuracy\n",
      "Test set accuracy (Precision@1) = 0.7746346063177746\n",
      "Epoch 98 Iteration 0: Loss = 1.6848204135894775\n"
     ]
    },
    {
     "name": "stderr",
     "output_type": "stream",
     "text": [
      "100%|█████████████████████████████████████████████████████████████████████████████████████████████████████| 266/266 [00:16<00:00, 15.84it/s]\n",
      "100%|███████████████████████████████████████████████████████████████████████████████████████████████████████| 67/67 [00:03<00:00, 17.06it/s]\n"
     ]
    },
    {
     "name": "stdout",
     "output_type": "stream",
     "text": [
      "Computing accuracy\n",
      "Test set accuracy (Precision@1) = 0.7661480433757661\n",
      "Epoch 99 Iteration 0: Loss = 2.0262036323547363\n"
     ]
    },
    {
     "name": "stderr",
     "output_type": "stream",
     "text": [
      "100%|█████████████████████████████████████████████████████████████████████████████████████████████████████| 266/266 [00:16<00:00, 15.76it/s]\n",
      "100%|███████████████████████████████████████████████████████████████████████████████████████████████████████| 67/67 [00:03<00:00, 17.23it/s]\n"
     ]
    },
    {
     "name": "stdout",
     "output_type": "stream",
     "text": [
      "Computing accuracy\n",
      "Test set accuracy (Precision@1) = 0.7713342762847714\n",
      "Epoch 100 Iteration 0: Loss = 1.7835519313812256\n"
     ]
    },
    {
     "name": "stderr",
     "output_type": "stream",
     "text": [
      "100%|█████████████████████████████████████████████████████████████████████████████████████████████████████| 266/266 [00:16<00:00, 15.93it/s]\n",
      "100%|███████████████████████████████████████████████████████████████████████████████████████████████████████| 67/67 [00:03<00:00, 17.46it/s]\n"
     ]
    },
    {
     "name": "stdout",
     "output_type": "stream",
     "text": [
      "Computing accuracy\n",
      "Test set accuracy (Precision@1) = 0.776991984912777\n"
     ]
    }
   ],
   "source": [
    "#total_loss = []\n",
    "#total_acc = []\n",
    "for epoch in range(1, num_epochs + 1):\n",
    "    train_loss = train(model, loss_func, device, train_loader, optimizer, epoch)\n",
    "    #total_loss.extend(train_loss)\n",
    "    test_acc = test(train_dataset, test_dataset, model, accuracy_calculator)\n",
    "    #total_acc.append(test_acc)\n",
    "    wandb.log({\"test_accuracy2\": test_acc, \"train_loss2\": train_loss,\"epoch\": epoch})"
   ]
  },
  {
   "cell_type": "code",
   "execution_count": 52,
   "id": "440edbeb-80f8-42ec-9547-7bf913aa64b2",
   "metadata": {},
   "outputs": [],
   "source": [
    "torch.save(model,config['model_save_path']+'_180.pth')"
   ]
  },
  {
   "cell_type": "code",
   "execution_count": 53,
   "id": "1ae29c0e-7b43-4364-a8b8-fcd403a56cbc",
   "metadata": {
    "scrolled": true
   },
   "outputs": [
    {
     "data": {
      "text/plain": [
       "ResNetFeatrueExtractor18(\n",
       "  (conv1): Conv2d(3, 64, kernel_size=(7, 7), stride=(2, 2), padding=(3, 3), bias=False)\n",
       "  (bn1): BatchNorm2d(64, eps=1e-05, momentum=0.1, affine=True, track_running_stats=True)\n",
       "  (relu): ReLU(inplace=True)\n",
       "  (maxpool): MaxPool2d(kernel_size=3, stride=2, padding=1, dilation=1, ceil_mode=False)\n",
       "  (layer1): Sequential(\n",
       "    (0): BasicBlock(\n",
       "      (conv1): Conv2d(64, 64, kernel_size=(3, 3), stride=(1, 1), padding=(1, 1), bias=False)\n",
       "      (bn1): BatchNorm2d(64, eps=1e-05, momentum=0.1, affine=True, track_running_stats=True)\n",
       "      (relu): ReLU(inplace=True)\n",
       "      (conv2): Conv2d(64, 64, kernel_size=(3, 3), stride=(1, 1), padding=(1, 1), bias=False)\n",
       "      (bn2): BatchNorm2d(64, eps=1e-05, momentum=0.1, affine=True, track_running_stats=True)\n",
       "    )\n",
       "    (1): BasicBlock(\n",
       "      (conv1): Conv2d(64, 64, kernel_size=(3, 3), stride=(1, 1), padding=(1, 1), bias=False)\n",
       "      (bn1): BatchNorm2d(64, eps=1e-05, momentum=0.1, affine=True, track_running_stats=True)\n",
       "      (relu): ReLU(inplace=True)\n",
       "      (conv2): Conv2d(64, 64, kernel_size=(3, 3), stride=(1, 1), padding=(1, 1), bias=False)\n",
       "      (bn2): BatchNorm2d(64, eps=1e-05, momentum=0.1, affine=True, track_running_stats=True)\n",
       "    )\n",
       "  )\n",
       "  (layer2): Sequential(\n",
       "    (0): BasicBlock(\n",
       "      (conv1): Conv2d(64, 128, kernel_size=(3, 3), stride=(2, 2), padding=(1, 1), bias=False)\n",
       "      (bn1): BatchNorm2d(128, eps=1e-05, momentum=0.1, affine=True, track_running_stats=True)\n",
       "      (relu): ReLU(inplace=True)\n",
       "      (conv2): Conv2d(128, 128, kernel_size=(3, 3), stride=(1, 1), padding=(1, 1), bias=False)\n",
       "      (bn2): BatchNorm2d(128, eps=1e-05, momentum=0.1, affine=True, track_running_stats=True)\n",
       "      (downsample): Sequential(\n",
       "        (0): Conv2d(64, 128, kernel_size=(1, 1), stride=(2, 2), bias=False)\n",
       "        (1): BatchNorm2d(128, eps=1e-05, momentum=0.1, affine=True, track_running_stats=True)\n",
       "      )\n",
       "    )\n",
       "    (1): BasicBlock(\n",
       "      (conv1): Conv2d(128, 128, kernel_size=(3, 3), stride=(1, 1), padding=(1, 1), bias=False)\n",
       "      (bn1): BatchNorm2d(128, eps=1e-05, momentum=0.1, affine=True, track_running_stats=True)\n",
       "      (relu): ReLU(inplace=True)\n",
       "      (conv2): Conv2d(128, 128, kernel_size=(3, 3), stride=(1, 1), padding=(1, 1), bias=False)\n",
       "      (bn2): BatchNorm2d(128, eps=1e-05, momentum=0.1, affine=True, track_running_stats=True)\n",
       "    )\n",
       "  )\n",
       "  (layer3): Sequential(\n",
       "    (0): BasicBlock(\n",
       "      (conv1): Conv2d(128, 256, kernel_size=(3, 3), stride=(2, 2), padding=(1, 1), bias=False)\n",
       "      (bn1): BatchNorm2d(256, eps=1e-05, momentum=0.1, affine=True, track_running_stats=True)\n",
       "      (relu): ReLU(inplace=True)\n",
       "      (conv2): Conv2d(256, 256, kernel_size=(3, 3), stride=(1, 1), padding=(1, 1), bias=False)\n",
       "      (bn2): BatchNorm2d(256, eps=1e-05, momentum=0.1, affine=True, track_running_stats=True)\n",
       "      (downsample): Sequential(\n",
       "        (0): Conv2d(128, 256, kernel_size=(1, 1), stride=(2, 2), bias=False)\n",
       "        (1): BatchNorm2d(256, eps=1e-05, momentum=0.1, affine=True, track_running_stats=True)\n",
       "      )\n",
       "    )\n",
       "    (1): BasicBlock(\n",
       "      (conv1): Conv2d(256, 256, kernel_size=(3, 3), stride=(1, 1), padding=(1, 1), bias=False)\n",
       "      (bn1): BatchNorm2d(256, eps=1e-05, momentum=0.1, affine=True, track_running_stats=True)\n",
       "      (relu): ReLU(inplace=True)\n",
       "      (conv2): Conv2d(256, 256, kernel_size=(3, 3), stride=(1, 1), padding=(1, 1), bias=False)\n",
       "      (bn2): BatchNorm2d(256, eps=1e-05, momentum=0.1, affine=True, track_running_stats=True)\n",
       "    )\n",
       "  )\n",
       "  (layer4): Sequential(\n",
       "    (0): BasicBlock(\n",
       "      (conv1): Conv2d(256, 512, kernel_size=(3, 3), stride=(2, 2), padding=(1, 1), bias=False)\n",
       "      (bn1): BatchNorm2d(512, eps=1e-05, momentum=0.1, affine=True, track_running_stats=True)\n",
       "      (relu): ReLU(inplace=True)\n",
       "      (conv2): Conv2d(512, 512, kernel_size=(3, 3), stride=(1, 1), padding=(1, 1), bias=False)\n",
       "      (bn2): BatchNorm2d(512, eps=1e-05, momentum=0.1, affine=True, track_running_stats=True)\n",
       "      (downsample): Sequential(\n",
       "        (0): Conv2d(256, 512, kernel_size=(1, 1), stride=(2, 2), bias=False)\n",
       "        (1): BatchNorm2d(512, eps=1e-05, momentum=0.1, affine=True, track_running_stats=True)\n",
       "      )\n",
       "    )\n",
       "    (1): BasicBlock(\n",
       "      (conv1): Conv2d(512, 512, kernel_size=(3, 3), stride=(1, 1), padding=(1, 1), bias=False)\n",
       "      (bn1): BatchNorm2d(512, eps=1e-05, momentum=0.1, affine=True, track_running_stats=True)\n",
       "      (relu): ReLU(inplace=True)\n",
       "      (conv2): Conv2d(512, 512, kernel_size=(3, 3), stride=(1, 1), padding=(1, 1), bias=False)\n",
       "      (bn2): BatchNorm2d(512, eps=1e-05, momentum=0.1, affine=True, track_running_stats=True)\n",
       "    )\n",
       "  )\n",
       "  (avgpool): AdaptiveAvgPool2d(output_size=(1, 1))\n",
       "  (fc1): Linear(in_features=512, out_features=128, bias=True)\n",
       ")"
      ]
     },
     "execution_count": 53,
     "metadata": {},
     "output_type": "execute_result"
    }
   ],
   "source": [
    "model.eval()"
   ]
  },
  {
   "cell_type": "code",
   "execution_count": 54,
   "id": "9baeaa00-0932-4952-9620-b49a1de77f88",
   "metadata": {},
   "outputs": [],
   "source": [
    "image_paths = []\n",
    "labels = []\n",
    "for folder_path,i in class_dict.items():\n",
    "    folder_images = glob.glob('CUB_200_2011/images/'+'/'+str(folder_path)+'/*')\n",
    "    image_paths.extend(folder_images)\n",
    "    labels.extend([i]*len(folder_images))"
   ]
  },
  {
   "cell_type": "code",
   "execution_count": 55,
   "id": "ba1ed4c4-806c-4b70-a1f1-fd61510cc52b",
   "metadata": {},
   "outputs": [],
   "source": [
    "from sklearn.model_selection import train_test_split\n",
    "X_train, X_test, y_train, y_test = train_test_split(image_paths, labels, test_size=config['train_test_split'],\n",
    "                                                    stratify=labels,\n",
    "                                                    random_state=config['random_seed'])"
   ]
  },
  {
   "cell_type": "code",
   "execution_count": 56,
   "id": "0df461d6-47c4-4213-8e78-aba9f59d0648",
   "metadata": {},
   "outputs": [],
   "source": [
    "train_dataset  = CUBDataset(X_train,y_train,transform)\n",
    "test_dataset  = CUBDataset(X_test,y_test,transform)"
   ]
  },
  {
   "cell_type": "code",
   "execution_count": 57,
   "id": "fba86090-7819-434c-af9f-28c001b83ad1",
   "metadata": {},
   "outputs": [
    {
     "name": "stderr",
     "output_type": "stream",
     "text": [
      "100%|█████████████████████████████████████████████████████████████████████████████████████████████████████| 295/295 [00:38<00:00,  7.66it/s]\n",
      "100%|███████████████████████████████████████████████████████████████████████████████████████████████████████| 74/74 [00:10<00:00,  7.32it/s]\n"
     ]
    }
   ],
   "source": [
    "train_embeddings, train_labels = get_all_embeddings(train_dataset, model)\n",
    "test_embeddings, test_labels = get_all_embeddings(test_dataset, model)\n",
    "train_labels = train_labels.squeeze(1)\n",
    "test_labels = test_labels.squeeze(1)"
   ]
  },
  {
   "cell_type": "code",
   "execution_count": 59,
   "id": "d3f4c51f-4298-475f-bd91-c620cb17060a",
   "metadata": {
    "scrolled": true
   },
   "outputs": [
    {
     "name": "stdout",
     "output_type": "stream",
     "text": [
      "001.Black_footed_Albatross     test samples 12   , training samples 48   : 1.0\n",
      "002.Laysan_Albatross           test samples 12   , training samples 48   : 0.8333333333333333\n",
      "003.Sooty_Albatross            test samples 12   , training samples 46   : 1.0\n",
      "004.Groove_billed_Ani          test samples 12   , training samples 48   : 1.0\n",
      "005.Crested_Auklet             test samples 9    , training samples 35   : 1.0\n",
      "006.Least_Auklet               test samples 8    , training samples 33   : 0.875\n",
      "007.Parakeet_Auklet            test samples 10   , training samples 43   : 1.0\n",
      "008.Rhinoceros_Auklet          test samples 9    , training samples 39   : 0.8888888888888888\n",
      "009.Brewer_Blackbird           test samples 12   , training samples 47   : 0.5\n",
      "010.Red_winged_Blackbird       test samples 12   , training samples 48   : 0.9166666666666666\n",
      "011.Rusty_Blackbird            test samples 12   , training samples 48   : 0.41666666666666663\n",
      "012.Yellow_headed_Blackbird    test samples 11   , training samples 45   : 1.0\n",
      "013.Bobolink                   test samples 12   , training samples 48   : 0.8333333333333333\n",
      "014.Indigo_Bunting             test samples 12   , training samples 48   : 0.8333333333333333\n",
      "015.Lazuli_Bunting             test samples 11   , training samples 47   : 0.8181818181818182\n",
      "016.Painted_Bunting            test samples 11   , training samples 47   : 0.7272727272727273\n",
      "017.Cardinal                   test samples 11   , training samples 46   : 0.6363636363636364\n",
      "018.Spotted_Catbird            test samples 9    , training samples 36   : 1.0\n",
      "019.Gray_Catbird               test samples 12   , training samples 47   : 0.9166666666666666\n",
      "020.Yellow_breasted_Chat       test samples 12   , training samples 47   : 0.6666666666666666\n",
      "021.Eastern_Towhee             test samples 12   , training samples 48   : 0.8333333333333333\n",
      "022.Chuck_will_Widow           test samples 11   , training samples 45   : 0.5454545454545454\n",
      "023.Brandt_Cormorant           test samples 12   , training samples 47   : 0.75\n",
      "024.Red_faced_Cormorant        test samples 10   , training samples 42   : 0.9\n",
      "025.Pelagic_Cormorant          test samples 12   , training samples 48   : 0.3333333333333333\n",
      "026.Bronzed_Cowbird            test samples 12   , training samples 48   : 0.9166666666666666\n",
      "027.Shiny_Cowbird              test samples 12   , training samples 48   : 0.5\n",
      "028.Brown_Creeper              test samples 12   , training samples 47   : 0.8333333333333333\n",
      "029.American_Crow              test samples 12   , training samples 48   : 0.3333333333333333\n",
      "030.Fish_Crow                  test samples 12   , training samples 48   : 0.3333333333333333\n",
      "031.Black_billed_Cuckoo        test samples 12   , training samples 48   : 0.8333333333333333\n",
      "032.Mangrove_Cuckoo            test samples 10   , training samples 43   : 0.8\n",
      "033.Yellow_billed_Cuckoo       test samples 12   , training samples 47   : 0.5\n",
      "034.Gray_crowned_Rosy_Finch    test samples 12   , training samples 47   : 0.9166666666666666\n",
      "035.Purple_Finch               test samples 12   , training samples 48   : 0.8333333333333333\n",
      "036.Northern_Flicker           test samples 12   , training samples 48   : 0.75\n",
      "037.Acadian_Flycatcher         test samples 12   , training samples 47   : 0.5\n",
      "038.Great_Crested_Flycatcher   test samples 12   , training samples 48   : 0.6666666666666666\n",
      "039.Least_Flycatcher           test samples 12   , training samples 47   : 0.41666666666666663\n",
      "040.Olive_sided_Flycatcher     test samples 12   , training samples 48   : 0.5\n",
      "041.Scissor_tailed_Flycatcher  test samples 12   , training samples 48   : 0.9166666666666666\n",
      "042.Vermilion_Flycatcher       test samples 12   , training samples 48   : 1.0\n",
      "043.Yellow_bellied_Flycatcher  test samples 12   , training samples 47   : 0.3333333333333333\n",
      "044.Frigatebird                test samples 12   , training samples 48   : 0.75\n",
      "045.Northern_Fulmar            test samples 12   , training samples 48   : 0.5833333333333333\n",
      "046.Gadwall                    test samples 12   , training samples 48   : 1.0\n",
      "047.American_Goldfinch         test samples 12   , training samples 48   : 0.8333333333333333\n",
      "048.European_Goldfinch         test samples 12   , training samples 48   : 1.0\n",
      "049.Boat_tailed_Grackle        test samples 12   , training samples 48   : 0.3333333333333333\n",
      "050.Eared_Grebe                test samples 12   , training samples 48   : 0.75\n",
      "051.Horned_Grebe               test samples 12   , training samples 48   : 0.9166666666666666\n",
      "052.Pied_billed_Grebe          test samples 12   , training samples 48   : 0.8333333333333333\n",
      "053.Western_Grebe              test samples 12   , training samples 48   : 1.0\n",
      "054.Blue_Grosbeak              test samples 12   , training samples 48   : 0.75\n",
      "055.Evening_Grosbeak           test samples 12   , training samples 48   : 0.9166666666666666\n",
      "056.Pine_Grosbeak              test samples 12   , training samples 48   : 1.0\n",
      "057.Rose_breasted_Grosbeak     test samples 12   , training samples 48   : 0.9166666666666666\n",
      "058.Pigeon_Guillemot           test samples 12   , training samples 46   : 0.9166666666666666\n",
      "059.California_Gull            test samples 12   , training samples 48   : 0.5\n",
      "060.Glaucous_winged_Gull       test samples 12   , training samples 47   : 0.75\n",
      "061.Heermann_Gull              test samples 12   , training samples 48   : 0.9166666666666666\n",
      "062.Herring_Gull               test samples 12   , training samples 48   : 0.25\n",
      "063.Ivory_Gull                 test samples 12   , training samples 48   : 0.9166666666666666\n",
      "064.Ring_billed_Gull           test samples 12   , training samples 48   : 0.5\n",
      "065.Slaty_backed_Gull          test samples 10   , training samples 40   : 0.6000000000000001\n",
      "066.Western_Gull               test samples 12   , training samples 48   : 0.16666666666666666\n",
      "067.Anna_Hummingbird           test samples 12   , training samples 48   : 0.6666666666666666\n",
      "068.Ruby_throated_Hummingbird  test samples 12   , training samples 48   : 0.9166666666666666\n",
      "069.Rufous_Hummingbird         test samples 12   , training samples 48   : 0.8333333333333333\n",
      "070.Green_Violetear            test samples 12   , training samples 48   : 0.6666666666666666\n",
      "071.Long_tailed_Jaeger         test samples 12   , training samples 48   : 0.5\n",
      "072.Pomarine_Jaeger            test samples 12   , training samples 48   : 0.25\n",
      "073.Blue_Jay                   test samples 12   , training samples 48   : 0.75\n",
      "074.Florida_Jay                test samples 12   , training samples 48   : 0.8333333333333333\n",
      "075.Green_Jay                  test samples 11   , training samples 46   : 0.8181818181818182\n",
      "076.Dark_eyed_Junco            test samples 12   , training samples 48   : 0.9166666666666666\n",
      "077.Tropical_Kingbird          test samples 12   , training samples 48   : 0.75\n",
      "078.Gray_Kingbird              test samples 12   , training samples 47   : 0.6666666666666666\n",
      "079.Belted_Kingfisher          test samples 12   , training samples 48   : 1.0\n",
      "080.Green_Kingfisher           test samples 12   , training samples 48   : 0.8333333333333333\n",
      "081.Pied_Kingfisher            test samples 12   , training samples 48   : 0.8333333333333333\n",
      "082.Ringed_Kingfisher          test samples 12   , training samples 48   : 0.75\n",
      "083.White_breasted_Kingfisher  test samples 12   , training samples 48   : 0.9166666666666666\n",
      "084.Red_legged_Kittiwake       test samples 10   , training samples 43   : 0.8\n",
      "085.Horned_Lark                test samples 12   , training samples 48   : 0.6666666666666666\n",
      "086.Pacific_Loon               test samples 12   , training samples 48   : 0.6666666666666666\n",
      "087.Mallard                    test samples 12   , training samples 48   : 0.9166666666666666\n",
      "088.Western_Meadowlark         test samples 12   , training samples 48   : 0.9166666666666666\n",
      "089.Hooded_Merganser           test samples 12   , training samples 48   : 0.75\n",
      "090.Red_breasted_Merganser     test samples 12   , training samples 48   : 0.9166666666666666\n",
      "091.Mockingbird                test samples 12   , training samples 48   : 0.41666666666666663\n",
      "092.Nighthawk                  test samples 12   , training samples 48   : 0.75\n",
      "093.Clark_Nutcracker           test samples 12   , training samples 48   : 0.9166666666666666\n",
      "094.White_breasted_Nuthatch    test samples 12   , training samples 48   : 1.0\n",
      "095.Baltimore_Oriole           test samples 12   , training samples 48   : 0.8333333333333333\n",
      "096.Hooded_Oriole              test samples 12   , training samples 48   : 1.0\n",
      "097.Orchard_Oriole             test samples 12   , training samples 47   : 0.5833333333333333\n",
      "098.Scott_Oriole               test samples 12   , training samples 48   : 0.9166666666666666\n",
      "099.Ovenbird                   test samples 12   , training samples 48   : 0.75\n",
      "100.Brown_Pelican              test samples 12   , training samples 48   : 1.0\n",
      "101.White_Pelican              test samples 10   , training samples 40   : 0.9\n",
      "102.Western_Wood_Pewee         test samples 12   , training samples 48   : 0.5\n",
      "103.Sayornis                   test samples 12   , training samples 48   : 0.41666666666666663\n",
      "104.American_Pipit             test samples 12   , training samples 48   : 0.9166666666666666\n",
      "105.Whip_poor_Will             test samples 10   , training samples 39   : 0.6000000000000001\n",
      "106.Horned_Puffin              test samples 12   , training samples 48   : 0.9166666666666666\n",
      "107.Common_Raven               test samples 12   , training samples 47   : 0.5\n",
      "108.White_necked_Raven         test samples 12   , training samples 48   : 0.8333333333333333\n",
      "109.American_Redstart          test samples 12   , training samples 48   : 0.9166666666666666\n",
      "110.Geococcyx                  test samples 12   , training samples 48   : 0.9166666666666666\n",
      "111.Loggerhead_Shrike          test samples 12   , training samples 48   : 0.6666666666666666\n",
      "112.Great_Grey_Shrike          test samples 12   , training samples 48   : 0.5\n",
      "113.Baird_Sparrow              test samples 10   , training samples 40   : 0.6000000000000001\n",
      "114.Black_throated_Sparrow     test samples 12   , training samples 48   : 0.8333333333333333\n",
      "115.Brewer_Sparrow             test samples 12   , training samples 47   : 0.5833333333333333\n",
      "116.Chipping_Sparrow           test samples 12   , training samples 48   : 0.5833333333333333\n",
      "117.Clay_colored_Sparrow       test samples 12   , training samples 47   : 0.9166666666666666\n",
      "118.House_Sparrow              test samples 12   , training samples 48   : 0.16666666666666666\n",
      "119.Field_Sparrow              test samples 12   , training samples 47   : 0.5833333333333333\n",
      "120.Fox_Sparrow                test samples 12   , training samples 48   : 0.75\n",
      "121.Grasshopper_Sparrow        test samples 12   , training samples 48   : 0.25\n",
      "122.Harris_Sparrow             test samples 12   , training samples 48   : 0.6666666666666666\n",
      "123.Henslow_Sparrow            test samples 12   , training samples 48   : 0.75\n",
      "124.Le_Conte_Sparrow           test samples 12   , training samples 47   : 0.6666666666666666\n",
      "125.Lincoln_Sparrow            test samples 12   , training samples 47   : 0.6666666666666666\n",
      "126.Nelson_Sharp_tailed_Sparrow test samples 12   , training samples 47   : 1.0\n",
      "127.Savannah_Sparrow           test samples 12   , training samples 48   : 0.6666666666666666\n",
      "128.Seaside_Sparrow            test samples 12   , training samples 48   : 0.8333333333333333\n",
      "129.Song_Sparrow               test samples 12   , training samples 48   : 0.5833333333333333\n",
      "130.Tree_Sparrow               test samples 12   , training samples 48   : 0.75\n",
      "131.Vesper_Sparrow             test samples 12   , training samples 48   : 0.3333333333333333\n",
      "132.White_crowned_Sparrow      test samples 12   , training samples 48   : 0.5833333333333333\n",
      "133.White_throated_Sparrow     test samples 12   , training samples 48   : 0.6666666666666666\n",
      "134.Cape_Glossy_Starling       test samples 12   , training samples 48   : 1.0\n",
      "135.Bank_Swallow               test samples 12   , training samples 47   : 0.41666666666666663\n",
      "136.Barn_Swallow               test samples 12   , training samples 48   : 0.8333333333333333\n",
      "137.Cliff_Swallow              test samples 12   , training samples 48   : 0.6666666666666666\n",
      "138.Tree_Swallow               test samples 12   , training samples 48   : 0.75\n",
      "139.Scarlet_Tanager            test samples 12   , training samples 48   : 1.0\n",
      "140.Summer_Tanager             test samples 12   , training samples 48   : 0.8333333333333333\n",
      "141.Artic_Tern                 test samples 11   , training samples 47   : 1.0\n",
      "142.Black_Tern                 test samples 12   , training samples 48   : 0.5833333333333333\n",
      "143.Caspian_Tern               test samples 12   , training samples 48   : 0.16666666666666666\n",
      "144.Common_Tern                test samples 12   , training samples 48   : 0.25\n",
      "145.Elegant_Tern               test samples 12   , training samples 48   : 0.5833333333333333\n",
      "146.Forsters_Tern              test samples 12   , training samples 48   : 0.5\n",
      "147.Least_Tern                 test samples 12   , training samples 48   : 0.8333333333333333\n",
      "148.Green_tailed_Towhee        test samples 12   , training samples 48   : 0.8333333333333333\n",
      "149.Brown_Thrasher             test samples 12   , training samples 47   : 0.8333333333333333\n",
      "150.Sage_Thrasher              test samples 12   , training samples 48   : 0.6666666666666666\n",
      "151.Black_capped_Vireo         test samples 10   , training samples 41   : 0.8\n",
      "152.Blue_headed_Vireo          test samples 12   , training samples 48   : 0.75\n",
      "153.Philadelphia_Vireo         test samples 12   , training samples 47   : 0.6666666666666666\n",
      "154.Red_eyed_Vireo             test samples 12   , training samples 48   : 0.6666666666666666\n",
      "155.Warbling_Vireo             test samples 12   , training samples 48   : 0.9166666666666666\n",
      "156.White_eyed_Vireo           test samples 12   , training samples 48   : 0.75\n",
      "157.Yellow_throated_Vireo      test samples 12   , training samples 47   : 0.5833333333333333\n",
      "158.Bay_breasted_Warbler       test samples 12   , training samples 48   : 0.9166666666666666\n",
      "159.Black_and_white_Warbler    test samples 12   , training samples 48   : 0.9166666666666666\n",
      "160.Black_throated_Blue_Warbler test samples 12   , training samples 47   : 0.75\n",
      "161.Blue_winged_Warbler        test samples 12   , training samples 48   : 0.9166666666666666\n",
      "162.Canada_Warbler             test samples 12   , training samples 48   : 0.5833333333333333\n",
      "163.Cape_May_Warbler           test samples 12   , training samples 48   : 1.0\n",
      "164.Cerulean_Warbler           test samples 12   , training samples 48   : 0.9166666666666666\n",
      "165.Chestnut_sided_Warbler     test samples 12   , training samples 48   : 0.8333333333333333\n",
      "166.Golden_winged_Warbler      test samples 12   , training samples 47   : 0.8333333333333333\n",
      "167.Hooded_Warbler             test samples 12   , training samples 48   : 0.8333333333333333\n",
      "168.Kentucky_Warbler           test samples 12   , training samples 47   : 0.9166666666666666\n",
      "169.Magnolia_Warbler           test samples 12   , training samples 47   : 0.8333333333333333\n",
      "170.Mourning_Warbler           test samples 12   , training samples 48   : 0.75\n",
      "171.Myrtle_Warbler             test samples 12   , training samples 48   : 0.6666666666666666\n",
      "172.Nashville_Warbler          test samples 12   , training samples 48   : 0.8333333333333333\n",
      "173.Orange_crowned_Warbler     test samples 12   , training samples 48   : 0.5833333333333333\n",
      "174.Palm_Warbler               test samples 12   , training samples 48   : 0.5833333333333333\n",
      "175.Pine_Warbler               test samples 12   , training samples 48   : 0.6666666666666666\n",
      "176.Prairie_Warbler            test samples 12   , training samples 48   : 1.0\n",
      "177.Prothonotary_Warbler       test samples 12   , training samples 48   : 0.8333333333333333\n",
      "178.Swainson_Warbler           test samples 11   , training samples 45   : 0.5454545454545454\n",
      "179.Tennessee_Warbler          test samples 12   , training samples 47   : 0.3333333333333333\n",
      "180.Wilson_Warbler             test samples 12   , training samples 48   : 0.8333333333333333\n",
      "181.Worm_eating_Warbler        test samples 12   , training samples 47   : 0.6666666666666666\n",
      "182.Yellow_Warbler             test samples 12   , training samples 48   : 0.5\n",
      "183.Northern_Waterthrush       test samples 12   , training samples 48   : 0.41666666666666663\n",
      "184.Louisiana_Waterthrush      test samples 12   , training samples 48   : 0.25\n",
      "185.Bohemian_Waxwing           test samples 12   , training samples 48   : 0.3333333333333333\n",
      "186.Cedar_Waxwing              test samples 12   , training samples 48   : 0.5833333333333333\n",
      "187.American_Three_toed_Woodpecker test samples 10   , training samples 40   : 0.30000000000000004\n",
      "188.Pileated_Woodpecker        test samples 12   , training samples 48   : 0.75\n",
      "189.Red_bellied_Woodpecker     test samples 12   , training samples 48   : 0.8333333333333333\n",
      "190.Red_cockaded_Woodpecker    test samples 11   , training samples 47   : 0.7272727272727273\n",
      "191.Red_headed_Woodpecker      test samples 12   , training samples 48   : 0.75\n",
      "192.Downy_Woodpecker           test samples 12   , training samples 48   : 0.8333333333333333\n",
      "193.Bewick_Wren                test samples 12   , training samples 48   : 0.25\n",
      "194.Cactus_Wren                test samples 12   , training samples 48   : 0.3333333333333333\n",
      "195.Carolina_Wren              test samples 12   , training samples 48   : 0.25\n",
      "196.House_Wren                 test samples 12   , training samples 47   : 0.41666666666666663\n",
      "197.Marsh_Wren                 test samples 12   , training samples 48   : 0.25\n",
      "198.Rock_Wren                  test samples 12   , training samples 48   : 0.5\n",
      "199.Winter_Wren                test samples 12   , training samples 48   : 0.5\n",
      "200.Common_Yellowthroat        test samples 12   , training samples 48   : 0.9166666666666666\n"
     ]
    }
   ],
   "source": [
    "acc_dict2 = {}\n",
    "for i in test_labels.unique():\n",
    "    new_labels = test_labels[test_labels==i]\n",
    "    new_embeddings = test_embeddings[test_labels==i]\n",
    "    accuracies = accuracy_calculator.get_accuracy(\n",
    "        new_embeddings, new_labels, train_embeddings, train_labels, False\n",
    "    )\n",
    "    acc_dict2[data_dict[int(i.detach().cpu().numpy())]]=[ \n",
    "                  len(new_labels),\n",
    "                  len(train_labels[train_labels==i]),\n",
    "                  accuracies[\"precision_at_1\"]]\n",
    "    print(\"{:<30} test samples {:<5}, training samples {:<5}: {}\".format(data_dict[int(i.detach().cpu().numpy())],\n",
    "                                                                  len(new_labels),\n",
    "                                                                  len(train_labels[train_labels==i]),\n",
    "                                                                  accuracies[\"precision_at_1\"]))"
   ]
  },
  {
   "cell_type": "code",
   "execution_count": 60,
   "id": "a4b11cdb-01fc-426d-8708-aa4bd126db7c",
   "metadata": {},
   "outputs": [],
   "source": [
    "all_table = [[k]+v for k,v in acc_dict2.items()]\n",
    "columns = [\"class_name\", \"no. of test samples\", \"no. of train samples\", \"precision@1\"]\n",
    "train_table = wandb.Table(data=all_table, columns=columns)\n",
    "run.log({\"limited_classes_metrics\": train_table})"
   ]
  },
  {
   "cell_type": "code",
   "execution_count": 61,
   "id": "45d49f8e-987f-46c7-a2da-c8fe3b6c29c8",
   "metadata": {},
   "outputs": [
    {
     "name": "stderr",
     "output_type": "stream",
     "text": [
      "100%|█████████████████████████████████████████████████████████████████████████████████████████████████████| 295/295 [00:15<00:00, 19.49it/s]\n",
      "100%|███████████████████████████████████████████████████████████████████████████████████████████████████████| 74/74 [00:03<00:00, 19.24it/s]\n"
     ]
    }
   ],
   "source": [
    "train_embeddings, train_labels = get_all_embeddings(train_dataset, model)\n",
    "test_embeddings, test_labels = get_all_embeddings(test_dataset, model)\n",
    "train_labels = train_labels.squeeze(1)\n",
    "test_labels = test_labels.squeeze(1)"
   ]
  },
  {
   "cell_type": "code",
   "execution_count": 62,
   "id": "da619f84-3f14-4f62-95e1-09970154fd4c",
   "metadata": {},
   "outputs": [],
   "source": [
    "import faiss\n",
    "# Create a Faiss index\n",
    "index = faiss.IndexFlatIP(128)\n",
    "# Add some vectors to the index\n",
    "index.add(train_embeddings.detach().cpu().numpy())"
   ]
  },
  {
   "cell_type": "code",
   "execution_count": 63,
   "id": "1ee1a034-2fb6-4c8a-83a6-5dd028770c4d",
   "metadata": {},
   "outputs": [],
   "source": [
    "pred_labels = [] \n",
    "for embedding,label in zip(test_embeddings.detach().cpu().numpy(),test_labels):\n",
    "    distances, indices = index.search(embedding.reshape(1,-1).astype(np.float32), 2)\n",
    "    pred_class = train_labels[indices[0][1]]\n",
    "    pred_labels.append(pred_class)"
   ]
  },
  {
   "cell_type": "code",
   "execution_count": 64,
   "id": "7648e35a-de8c-42cc-aa9d-19fea3acdfcb",
   "metadata": {},
   "outputs": [],
   "source": [
    "pred_labels = [i.detach().cpu().numpy() for i in pred_labels]"
   ]
  },
  {
   "cell_type": "code",
   "execution_count": 65,
   "id": "0fd4ff45-4722-456e-81c0-c7a2cb8e31c7",
   "metadata": {
    "scrolled": true
   },
   "outputs": [
    {
     "name": "stdout",
     "output_type": "stream",
     "text": [
      "                                    precision    recall  f1-score   support\n",
      "\n",
      "        001.Black_footed_Albatross       0.71      1.00      0.83        12\n",
      "              002.Laysan_Albatross       0.71      0.83      0.77        12\n",
      "               003.Sooty_Albatross       0.69      0.92      0.79        12\n",
      "             004.Groove_billed_Ani       0.63      1.00      0.77        12\n",
      "                005.Crested_Auklet       0.82      1.00      0.90         9\n",
      "                  006.Least_Auklet       0.78      0.88      0.82         8\n",
      "               007.Parakeet_Auklet       0.90      0.90      0.90        10\n",
      "             008.Rhinoceros_Auklet       0.82      1.00      0.90         9\n",
      "              009.Brewer_Blackbird       0.78      0.58      0.67        12\n",
      "          010.Red_winged_Blackbird       0.73      0.92      0.81        12\n",
      "               011.Rusty_Blackbird       0.23      0.25      0.24        12\n",
      "       012.Yellow_headed_Blackbird       1.00      1.00      1.00        11\n",
      "                      013.Bobolink       0.71      0.83      0.77        12\n",
      "                014.Indigo_Bunting       0.67      0.83      0.74        12\n",
      "                015.Lazuli_Bunting       0.73      0.73      0.73        11\n",
      "               016.Painted_Bunting       0.80      0.73      0.76        11\n",
      "                      017.Cardinal       1.00      0.73      0.84        11\n",
      "               018.Spotted_Catbird       1.00      1.00      1.00         9\n",
      "                  019.Gray_Catbird       0.79      0.92      0.85        12\n",
      "          020.Yellow_breasted_Chat       0.62      0.83      0.71        12\n",
      "                021.Eastern_Towhee       0.82      0.75      0.78        12\n",
      "              022.Chuck_will_Widow       0.55      0.55      0.55        11\n",
      "              023.Brandt_Cormorant       0.57      0.67      0.62        12\n",
      "           024.Red_faced_Cormorant       0.80      0.80      0.80        10\n",
      "             025.Pelagic_Cormorant       0.50      0.33      0.40        12\n",
      "               026.Bronzed_Cowbird       0.71      0.83      0.77        12\n",
      "                 027.Shiny_Cowbird       0.60      0.25      0.35        12\n",
      "                 028.Brown_Creeper       0.52      0.92      0.67        12\n",
      "                 029.American_Crow       0.24      0.42      0.30        12\n",
      "                     030.Fish_Crow       0.36      0.33      0.35        12\n",
      "           031.Black_billed_Cuckoo       0.54      0.58      0.56        12\n",
      "               032.Mangrove_Cuckoo       0.58      0.70      0.64        10\n",
      "          033.Yellow_billed_Cuckoo       0.57      0.67      0.62        12\n",
      "       034.Gray_crowned_Rosy_Finch       0.65      0.92      0.76        12\n",
      "                  035.Purple_Finch       0.91      0.83      0.87        12\n",
      "              036.Northern_Flicker       0.69      0.75      0.72        12\n",
      "            037.Acadian_Flycatcher       0.45      0.42      0.43        12\n",
      "      038.Great_Crested_Flycatcher       0.75      0.75      0.75        12\n",
      "              039.Least_Flycatcher       0.46      0.50      0.48        12\n",
      "        040.Olive_sided_Flycatcher       0.50      0.33      0.40        12\n",
      "     041.Scissor_tailed_Flycatcher       0.73      0.92      0.81        12\n",
      "          042.Vermilion_Flycatcher       0.86      1.00      0.92        12\n",
      "     043.Yellow_bellied_Flycatcher       0.56      0.42      0.48        12\n",
      "                   044.Frigatebird       1.00      0.67      0.80        12\n",
      "               045.Northern_Fulmar       0.80      0.67      0.73        12\n",
      "                       046.Gadwall       0.75      1.00      0.86        12\n",
      "            047.American_Goldfinch       0.83      0.83      0.83        12\n",
      "            048.European_Goldfinch       0.86      1.00      0.92        12\n",
      "           049.Boat_tailed_Grackle       0.56      0.42      0.48        12\n",
      "                   050.Eared_Grebe       0.53      0.67      0.59        12\n",
      "                  051.Horned_Grebe       0.90      0.75      0.82        12\n",
      "             052.Pied_billed_Grebe       0.90      0.75      0.82        12\n",
      "                 053.Western_Grebe       0.79      0.92      0.85        12\n",
      "                 054.Blue_Grosbeak       0.75      0.75      0.75        12\n",
      "              055.Evening_Grosbeak       0.86      1.00      0.92        12\n",
      "                 056.Pine_Grosbeak       0.71      1.00      0.83        12\n",
      "        057.Rose_breasted_Grosbeak       0.85      0.92      0.88        12\n",
      "              058.Pigeon_Guillemot       0.85      0.92      0.88        12\n",
      "               059.California_Gull       0.35      0.67      0.46        12\n",
      "          060.Glaucous_winged_Gull       0.54      0.58      0.56        12\n",
      "                 061.Heermann_Gull       0.85      0.92      0.88        12\n",
      "                  062.Herring_Gull       0.33      0.17      0.22        12\n",
      "                    063.Ivory_Gull       0.92      0.92      0.92        12\n",
      "              064.Ring_billed_Gull       0.67      0.33      0.44        12\n",
      "             065.Slaty_backed_Gull       0.58      0.70      0.64        10\n",
      "                  066.Western_Gull       0.38      0.25      0.30        12\n",
      "              067.Anna_Hummingbird       0.64      0.58      0.61        12\n",
      "     068.Ruby_throated_Hummingbird       0.62      0.83      0.71        12\n",
      "            069.Rufous_Hummingbird       0.67      0.83      0.74        12\n",
      "               070.Green_Violetear       1.00      0.83      0.91        12\n",
      "            071.Long_tailed_Jaeger       0.80      0.33      0.47        12\n",
      "               072.Pomarine_Jaeger       0.40      0.33      0.36        12\n",
      "                      073.Blue_Jay       0.83      0.83      0.83        12\n",
      "                   074.Florida_Jay       0.82      0.75      0.78        12\n",
      "                     075.Green_Jay       0.89      0.73      0.80        11\n",
      "               076.Dark_eyed_Junco       0.79      0.92      0.85        12\n",
      "             077.Tropical_Kingbird       0.83      0.83      0.83        12\n",
      "                 078.Gray_Kingbird       0.82      0.75      0.78        12\n",
      "             079.Belted_Kingfisher       0.48      0.83      0.61        12\n",
      "              080.Green_Kingfisher       0.90      0.75      0.82        12\n",
      "               081.Pied_Kingfisher       0.77      0.83      0.80        12\n",
      "             082.Ringed_Kingfisher       1.00      0.67      0.80        12\n",
      "     083.White_breasted_Kingfisher       0.85      0.92      0.88        12\n",
      "          084.Red_legged_Kittiwake       0.80      0.80      0.80        10\n",
      "                   085.Horned_Lark       1.00      0.67      0.80        12\n",
      "                  086.Pacific_Loon       0.90      0.75      0.82        12\n",
      "                       087.Mallard       0.92      1.00      0.96        12\n",
      "            088.Western_Meadowlark       0.92      0.92      0.92        12\n",
      "              089.Hooded_Merganser       0.91      0.83      0.87        12\n",
      "        090.Red_breasted_Merganser       0.83      0.83      0.83        12\n",
      "                   091.Mockingbird       0.38      0.25      0.30        12\n",
      "                     092.Nighthawk       0.57      0.67      0.62        12\n",
      "              093.Clark_Nutcracker       0.79      0.92      0.85        12\n",
      "       094.White_breasted_Nuthatch       1.00      1.00      1.00        12\n",
      "              095.Baltimore_Oriole       0.89      0.67      0.76        12\n",
      "                 096.Hooded_Oriole       0.69      0.92      0.79        12\n",
      "                097.Orchard_Oriole       0.67      0.67      0.67        12\n",
      "                  098.Scott_Oriole       0.85      0.92      0.88        12\n",
      "                      099.Ovenbird       0.67      0.83      0.74        12\n",
      "                 100.Brown_Pelican       0.86      1.00      0.92        12\n",
      "                 101.White_Pelican       0.82      0.90      0.86        10\n",
      "            102.Western_Wood_Pewee       0.33      0.58      0.42        12\n",
      "                      103.Sayornis       0.36      0.33      0.35        12\n",
      "                104.American_Pipit       0.73      0.92      0.81        12\n",
      "                105.Whip_poor_Will       0.78      0.70      0.74        10\n",
      "                 106.Horned_Puffin       0.92      0.92      0.92        12\n",
      "                  107.Common_Raven       0.54      0.58      0.56        12\n",
      "            108.White_necked_Raven       0.77      0.83      0.80        12\n",
      "             109.American_Redstart       0.92      0.92      0.92        12\n",
      "                     110.Geococcyx       0.85      0.92      0.88        12\n",
      "             111.Loggerhead_Shrike       0.57      0.67      0.62        12\n",
      "             112.Great_Grey_Shrike       0.44      0.58      0.50        12\n",
      "                 113.Baird_Sparrow       0.67      0.60      0.63        10\n",
      "        114.Black_throated_Sparrow       0.90      0.75      0.82        12\n",
      "                115.Brewer_Sparrow       0.33      0.58      0.42        12\n",
      "              116.Chipping_Sparrow       0.35      0.58      0.44        12\n",
      "          117.Clay_colored_Sparrow       0.50      0.75      0.60        12\n",
      "                 118.House_Sparrow       0.50      0.17      0.25        12\n",
      "                 119.Field_Sparrow       0.62      0.67      0.64        12\n",
      "                   120.Fox_Sparrow       0.75      0.75      0.75        12\n",
      "           121.Grasshopper_Sparrow       0.67      0.33      0.44        12\n",
      "                122.Harris_Sparrow       0.73      0.67      0.70        12\n",
      "               123.Henslow_Sparrow       0.69      0.75      0.72        12\n",
      "              124.Le_Conte_Sparrow       0.80      0.67      0.73        12\n",
      "               125.Lincoln_Sparrow       0.82      0.75      0.78        12\n",
      "   126.Nelson_Sharp_tailed_Sparrow       0.92      0.92      0.92        12\n",
      "              127.Savannah_Sparrow       0.50      0.58      0.54        12\n",
      "               128.Seaside_Sparrow       0.42      0.67      0.52        12\n",
      "                  129.Song_Sparrow       0.64      0.58      0.61        12\n",
      "                  130.Tree_Sparrow       0.91      0.83      0.87        12\n",
      "                131.Vesper_Sparrow       0.70      0.58      0.64        12\n",
      "         132.White_crowned_Sparrow       0.75      0.50      0.60        12\n",
      "        133.White_throated_Sparrow       0.67      0.67      0.67        12\n",
      "          134.Cape_Glossy_Starling       1.00      0.92      0.96        12\n",
      "                  135.Bank_Swallow       0.54      0.58      0.56        12\n",
      "                  136.Barn_Swallow       0.91      0.83      0.87        12\n",
      "                 137.Cliff_Swallow       0.75      0.50      0.60        12\n",
      "                  138.Tree_Swallow       0.82      0.75      0.78        12\n",
      "               139.Scarlet_Tanager       0.86      1.00      0.92        12\n",
      "                140.Summer_Tanager       0.91      0.83      0.87        12\n",
      "                    141.Artic_Tern       0.59      0.91      0.71        11\n",
      "                    142.Black_Tern       0.60      0.50      0.55        12\n",
      "                  143.Caspian_Tern       0.40      0.17      0.24        12\n",
      "                   144.Common_Tern       0.36      0.33      0.35        12\n",
      "                  145.Elegant_Tern       0.50      0.58      0.54        12\n",
      "                 146.Forsters_Tern       0.36      0.33      0.35        12\n",
      "                    147.Least_Tern       0.71      0.83      0.77        12\n",
      "           148.Green_tailed_Towhee       0.67      0.83      0.74        12\n",
      "                149.Brown_Thrasher       0.62      0.67      0.64        12\n",
      "                 150.Sage_Thrasher       0.60      0.50      0.55        12\n",
      "            151.Black_capped_Vireo       0.80      0.80      0.80        10\n",
      "             152.Blue_headed_Vireo       0.82      0.75      0.78        12\n",
      "            153.Philadelphia_Vireo       0.50      0.58      0.54        12\n",
      "                154.Red_eyed_Vireo       0.50      0.67      0.57        12\n",
      "                155.Warbling_Vireo       0.67      0.67      0.67        12\n",
      "              156.White_eyed_Vireo       0.88      0.58      0.70        12\n",
      "         157.Yellow_throated_Vireo       0.67      0.67      0.67        12\n",
      "          158.Bay_breasted_Warbler       0.92      0.92      0.92        12\n",
      "       159.Black_and_white_Warbler       0.85      0.92      0.88        12\n",
      "   160.Black_throated_Blue_Warbler       0.77      0.83      0.80        12\n",
      "           161.Blue_winged_Warbler       0.85      0.92      0.88        12\n",
      "                162.Canada_Warbler       0.70      0.58      0.64        12\n",
      "              163.Cape_May_Warbler       0.65      0.92      0.76        12\n",
      "              164.Cerulean_Warbler       0.92      0.92      0.92        12\n",
      "        165.Chestnut_sided_Warbler       0.79      0.92      0.85        12\n",
      "         166.Golden_winged_Warbler       0.77      0.83      0.80        12\n",
      "                167.Hooded_Warbler       0.82      0.75      0.78        12\n",
      "              168.Kentucky_Warbler       0.85      0.92      0.88        12\n",
      "              169.Magnolia_Warbler       0.91      0.83      0.87        12\n",
      "              170.Mourning_Warbler       0.90      0.75      0.82        12\n",
      "                171.Myrtle_Warbler       0.69      0.75      0.72        12\n",
      "             172.Nashville_Warbler       0.77      0.83      0.80        12\n",
      "        173.Orange_crowned_Warbler       0.53      0.67      0.59        12\n",
      "                  174.Palm_Warbler       0.60      0.50      0.55        12\n",
      "                  175.Pine_Warbler       0.67      0.67      0.67        12\n",
      "               176.Prairie_Warbler       0.80      1.00      0.89        12\n",
      "          177.Prothonotary_Warbler       1.00      0.92      0.96        12\n",
      "              178.Swainson_Warbler       0.50      0.45      0.48        11\n",
      "             179.Tennessee_Warbler       0.33      0.17      0.22        12\n",
      "                180.Wilson_Warbler       0.67      0.83      0.74        12\n",
      "           181.Worm_eating_Warbler       0.78      0.58      0.67        12\n",
      "                182.Yellow_Warbler       0.83      0.42      0.56        12\n",
      "          183.Northern_Waterthrush       0.20      0.08      0.12        12\n",
      "         184.Louisiana_Waterthrush       0.75      0.25      0.38        12\n",
      "              185.Bohemian_Waxwing       0.67      0.33      0.44        12\n",
      "                 186.Cedar_Waxwing       0.71      0.42      0.53        12\n",
      "187.American_Three_toed_Woodpecker       0.80      0.40      0.53        10\n",
      "           188.Pileated_Woodpecker       0.88      0.58      0.70        12\n",
      "        189.Red_bellied_Woodpecker       0.80      1.00      0.89        12\n",
      "       190.Red_cockaded_Woodpecker       0.64      0.64      0.64        11\n",
      "         191.Red_headed_Woodpecker       0.80      0.67      0.73        12\n",
      "              192.Downy_Woodpecker       0.73      0.67      0.70        12\n",
      "                   193.Bewick_Wren       0.38      0.25      0.30        12\n",
      "                   194.Cactus_Wren       0.50      0.42      0.45        12\n",
      "                 195.Carolina_Wren       0.67      0.17      0.27        12\n",
      "                    196.House_Wren       0.67      0.33      0.44        12\n",
      "                    197.Marsh_Wren       0.33      0.17      0.22        12\n",
      "                     198.Rock_Wren       0.40      0.17      0.24        12\n",
      "                   199.Winter_Wren       0.25      0.25      0.25        12\n",
      "           200.Common_Yellowthroat       0.88      0.58      0.70        12\n",
      "\n",
      "                          accuracy                           0.69      2358\n",
      "                         macro avg       0.70      0.69      0.68      2358\n",
      "                      weighted avg       0.70      0.69      0.68      2358\n",
      "\n"
     ]
    }
   ],
   "source": [
    "from sklearn.metrics import classification_report\n",
    "print(classification_report(test_labels.detach().cpu().numpy(), pred_labels, target_names=list(class_dict.keys())))"
   ]
  },
  {
   "cell_type": "code",
   "execution_count": 66,
   "id": "f6154bd0-11f0-42b4-b860-b3b34ea93d52",
   "metadata": {},
   "outputs": [],
   "source": [
    "from sklearn.metrics import classification_report\n",
    "report = classification_report(test_labels.detach().cpu().numpy(), pred_labels, target_names=list(class_dict.keys()),output_dict=True)\n",
    "df = pd.DataFrame(report).transpose()\n",
    "df.reset_index(inplace=True)\n",
    "df.rename(columns={\"index\":'class_name'},inplace=True)\n",
    "classification_report_table = wandb.Table(dataframe=df)"
   ]
  },
  {
   "cell_type": "code",
   "execution_count": 67,
   "id": "8967c721-10c7-4d82-9c44-cf69368c9cf2",
   "metadata": {},
   "outputs": [],
   "source": [
    "run.log({\"limited_classes_classification_report\": classification_report_table})"
   ]
  },
  {
   "cell_type": "markdown",
   "id": "25ca19e9-fde4-4738-b3fe-35d7f6c3f8b8",
   "metadata": {},
   "source": [
    "## metric drop for unseen classes"
   ]
  },
  {
   "cell_type": "code",
   "execution_count": 68,
   "id": "308604b3-e2e4-48ce-b3a8-09b38ca315df",
   "metadata": {},
   "outputs": [],
   "source": [
    "unseen_class_names = sorted(key for key in acc_dict.keys() if int(key.split('.')[0]) >= 180)"
   ]
  },
  {
   "cell_type": "code",
   "execution_count": 69,
   "id": "b27e7a53-584d-410e-ad34-466aedca1350",
   "metadata": {
    "scrolled": true
   },
   "outputs": [],
   "source": [
    "comparison_table_data = []\n",
    "for class_name in unseen_class_names:\n",
    "    comparison_table_data.append([class_name,acc_dict[class_name][-1],acc_dict2[class_name][-1]])"
   ]
  },
  {
   "cell_type": "code",
   "execution_count": 70,
   "id": "2400629c-33f5-4b19-bbab-9d75c92dd6d4",
   "metadata": {},
   "outputs": [],
   "source": [
    "comparison_table = wandb.Table(data=comparison_table_data, columns=['class_name','all_classes_precision@1','unseen_classes_precision@1'])"
   ]
  },
  {
   "cell_type": "code",
   "execution_count": 71,
   "id": "daa9ab4f-6abe-4469-91b8-2c48f17f7400",
   "metadata": {},
   "outputs": [],
   "source": [
    "run.log({\"comparison_unseen_classes_metrics\": comparison_table})"
   ]
  },
  {
   "cell_type": "code",
   "execution_count": 72,
   "id": "288120aa-ccc7-4249-8498-63c82972342a",
   "metadata": {},
   "outputs": [],
   "source": [
    "precisions = np.array(comparison_table_data)[:,1:3].astype(np.float32)"
   ]
  },
  {
   "cell_type": "code",
   "execution_count": 73,
   "id": "aea80d7d-48d9-45b2-9b80-50df8c6f2e73",
   "metadata": {},
   "outputs": [],
   "source": [
    "wandb.log({'precision_drop_unseen_classes':np.mean(np.subtract(precisions[:,0],precisions[:,1]))})"
   ]
  },
  {
   "cell_type": "markdown",
   "id": "8474d6e8-63e1-4bd8-b170-b13a1803634e",
   "metadata": {},
   "source": [
    "## metric drop for all classes because of new unseen classes"
   ]
  },
  {
   "cell_type": "code",
   "execution_count": 74,
   "id": "0d53c17d-3ee9-4947-84a0-61e87855daf0",
   "metadata": {},
   "outputs": [],
   "source": [
    "comparison_table_data = []\n",
    "for class_name in acc_dict.keys():\n",
    "    comparison_table_data.append([class_name,acc_dict[class_name][-1],acc_dict2[class_name][-1]])"
   ]
  },
  {
   "cell_type": "code",
   "execution_count": 75,
   "id": "bd465f2b-8fd1-419f-a3bb-8daa56d9956e",
   "metadata": {},
   "outputs": [],
   "source": [
    "precisions = np.array(comparison_table_data)[:,1:3].astype(np.float32)"
   ]
  },
  {
   "cell_type": "code",
   "execution_count": 76,
   "id": "2af3e145-3fd1-4e2f-b10e-8ed86ecda2b5",
   "metadata": {},
   "outputs": [
    {
     "data": {
      "text/plain": [
       "array([[0.6666667 , 1.        ],\n",
       "       [0.6666667 , 0.8333333 ],\n",
       "       [0.8333333 , 1.        ],\n",
       "       [1.        , 1.        ],\n",
       "       [1.        , 1.        ],\n",
       "       [0.75      , 0.875     ],\n",
       "       [1.        , 1.        ],\n",
       "       [0.6666667 , 0.8888889 ],\n",
       "       [0.5       , 0.5       ],\n",
       "       [0.9166667 , 0.9166667 ],\n",
       "       [0.5       , 0.41666666],\n",
       "       [1.        , 1.        ],\n",
       "       [0.8333333 , 0.8333333 ],\n",
       "       [0.8333333 , 0.8333333 ],\n",
       "       [0.72727275, 0.8181818 ],\n",
       "       [0.72727275, 0.72727275],\n",
       "       [0.90909094, 0.6363636 ],\n",
       "       [1.        , 1.        ],\n",
       "       [0.8333333 , 0.9166667 ],\n",
       "       [0.8333333 , 0.6666667 ],\n",
       "       [0.8333333 , 0.8333333 ],\n",
       "       [0.72727275, 0.54545456],\n",
       "       [0.5833333 , 0.75      ],\n",
       "       [1.        , 0.9       ],\n",
       "       [0.5       , 0.33333334],\n",
       "       [0.9166667 , 0.9166667 ],\n",
       "       [0.75      , 0.5       ],\n",
       "       [0.9166667 , 0.8333333 ],\n",
       "       [0.5       , 0.33333334],\n",
       "       [0.16666667, 0.33333334],\n",
       "       [0.6666667 , 0.8333333 ],\n",
       "       [0.7       , 0.8       ],\n",
       "       [0.75      , 0.5       ],\n",
       "       [1.        , 0.9166667 ],\n",
       "       [0.9166667 , 0.8333333 ],\n",
       "       [0.9166667 , 0.75      ],\n",
       "       [0.33333334, 0.5       ],\n",
       "       [0.8333333 , 0.6666667 ],\n",
       "       [0.41666666, 0.41666666],\n",
       "       [0.6666667 , 0.5       ],\n",
       "       [0.8333333 , 0.9166667 ],\n",
       "       [1.        , 1.        ],\n",
       "       [0.5       , 0.33333334],\n",
       "       [0.9166667 , 0.75      ],\n",
       "       [0.5       , 0.5833333 ],\n",
       "       [0.9166667 , 1.        ],\n",
       "       [0.9166667 , 0.8333333 ],\n",
       "       [1.        , 1.        ],\n",
       "       [0.41666666, 0.33333334],\n",
       "       [0.8333333 , 0.75      ],\n",
       "       [0.9166667 , 0.9166667 ],\n",
       "       [0.9166667 , 0.8333333 ],\n",
       "       [1.        , 1.        ],\n",
       "       [0.75      , 0.75      ],\n",
       "       [1.        , 0.9166667 ],\n",
       "       [0.9166667 , 1.        ],\n",
       "       [1.        , 0.9166667 ],\n",
       "       [0.75      , 0.9166667 ],\n",
       "       [0.5833333 , 0.5       ],\n",
       "       [0.6666667 , 0.75      ],\n",
       "       [0.9166667 , 0.9166667 ],\n",
       "       [0.25      , 0.25      ],\n",
       "       [1.        , 0.9166667 ],\n",
       "       [0.33333334, 0.5       ],\n",
       "       [0.5       , 0.6       ],\n",
       "       [0.33333334, 0.16666667],\n",
       "       [0.75      , 0.6666667 ],\n",
       "       [0.9166667 , 0.9166667 ],\n",
       "       [0.75      , 0.8333333 ],\n",
       "       [0.9166667 , 0.6666667 ],\n",
       "       [0.5833333 , 0.5       ],\n",
       "       [0.41666666, 0.25      ],\n",
       "       [0.8333333 , 0.75      ],\n",
       "       [0.8333333 , 0.8333333 ],\n",
       "       [0.90909094, 0.8181818 ],\n",
       "       [0.9166667 , 0.9166667 ],\n",
       "       [1.        , 0.75      ],\n",
       "       [0.6666667 , 0.6666667 ],\n",
       "       [0.75      , 1.        ],\n",
       "       [0.6666667 , 0.8333333 ],\n",
       "       [0.9166667 , 0.8333333 ],\n",
       "       [0.6666667 , 0.75      ],\n",
       "       [0.8333333 , 0.9166667 ],\n",
       "       [0.9       , 0.8       ],\n",
       "       [0.8333333 , 0.6666667 ],\n",
       "       [0.8333333 , 0.6666667 ],\n",
       "       [1.        , 0.9166667 ],\n",
       "       [1.        , 0.9166667 ],\n",
       "       [0.8333333 , 0.75      ],\n",
       "       [0.9166667 , 0.9166667 ],\n",
       "       [0.5833333 , 0.41666666],\n",
       "       [0.75      , 0.75      ],\n",
       "       [0.9166667 , 0.9166667 ],\n",
       "       [1.        , 1.        ],\n",
       "       [1.        , 0.8333333 ],\n",
       "       [0.8333333 , 1.        ],\n",
       "       [0.75      , 0.5833333 ],\n",
       "       [0.9166667 , 0.9166667 ],\n",
       "       [0.75      , 0.75      ],\n",
       "       [1.        , 1.        ],\n",
       "       [0.8       , 0.9       ],\n",
       "       [0.5833333 , 0.5       ],\n",
       "       [0.75      , 0.41666666],\n",
       "       [0.9166667 , 0.9166667 ],\n",
       "       [0.8       , 0.6       ],\n",
       "       [0.8333333 , 0.9166667 ],\n",
       "       [0.5       , 0.5       ],\n",
       "       [0.75      , 0.8333333 ],\n",
       "       [1.        , 0.9166667 ],\n",
       "       [0.9166667 , 0.9166667 ],\n",
       "       [0.5       , 0.6666667 ],\n",
       "       [0.75      , 0.5       ],\n",
       "       [0.8       , 0.6       ],\n",
       "       [1.        , 0.8333333 ],\n",
       "       [0.8333333 , 0.5833333 ],\n",
       "       [0.75      , 0.5833333 ],\n",
       "       [0.8333333 , 0.9166667 ],\n",
       "       [0.5       , 0.16666667],\n",
       "       [0.8333333 , 0.5833333 ],\n",
       "       [0.75      , 0.75      ],\n",
       "       [0.33333334, 0.25      ],\n",
       "       [0.8333333 , 0.6666667 ],\n",
       "       [0.8333333 , 0.75      ],\n",
       "       [0.75      , 0.6666667 ],\n",
       "       [0.5833333 , 0.6666667 ],\n",
       "       [0.8333333 , 1.        ],\n",
       "       [0.8333333 , 0.6666667 ],\n",
       "       [0.8333333 , 0.8333333 ],\n",
       "       [0.6666667 , 0.5833333 ],\n",
       "       [0.8333333 , 0.75      ],\n",
       "       [0.5833333 , 0.33333334],\n",
       "       [0.6666667 , 0.5833333 ],\n",
       "       [0.8333333 , 0.6666667 ],\n",
       "       [0.9166667 , 1.        ],\n",
       "       [0.5       , 0.41666666],\n",
       "       [0.8333333 , 0.8333333 ],\n",
       "       [0.6666667 , 0.6666667 ],\n",
       "       [0.9166667 , 0.75      ],\n",
       "       [1.        , 1.        ],\n",
       "       [1.        , 0.8333333 ],\n",
       "       [1.        , 1.        ],\n",
       "       [0.5       , 0.5833333 ],\n",
       "       [0.25      , 0.16666667],\n",
       "       [0.5833333 , 0.25      ],\n",
       "       [0.5       , 0.5833333 ],\n",
       "       [0.5       , 0.5       ],\n",
       "       [0.6666667 , 0.8333333 ],\n",
       "       [1.        , 0.8333333 ],\n",
       "       [0.75      , 0.8333333 ],\n",
       "       [0.5833333 , 0.6666667 ],\n",
       "       [0.9       , 0.8       ],\n",
       "       [0.9166667 , 0.75      ],\n",
       "       [0.75      , 0.6666667 ],\n",
       "       [0.9166667 , 0.6666667 ],\n",
       "       [0.5833333 , 0.9166667 ],\n",
       "       [0.8333333 , 0.75      ],\n",
       "       [0.8333333 , 0.5833333 ],\n",
       "       [0.75      , 0.9166667 ],\n",
       "       [1.        , 0.9166667 ],\n",
       "       [0.8333333 , 0.75      ],\n",
       "       [0.9166667 , 0.9166667 ],\n",
       "       [0.8333333 , 0.5833333 ],\n",
       "       [0.9166667 , 1.        ],\n",
       "       [0.9166667 , 0.9166667 ],\n",
       "       [0.8333333 , 0.8333333 ],\n",
       "       [0.8333333 , 0.8333333 ],\n",
       "       [0.75      , 0.8333333 ],\n",
       "       [0.8333333 , 0.9166667 ],\n",
       "       [0.75      , 0.8333333 ],\n",
       "       [0.8333333 , 0.75      ],\n",
       "       [0.75      , 0.6666667 ],\n",
       "       [0.75      , 0.8333333 ],\n",
       "       [0.75      , 0.5833333 ],\n",
       "       [0.8333333 , 0.5833333 ],\n",
       "       [0.5833333 , 0.6666667 ],\n",
       "       [1.        , 1.        ],\n",
       "       [0.9166667 , 0.8333333 ],\n",
       "       [0.90909094, 0.54545456],\n",
       "       [0.25      , 0.33333334],\n",
       "       [0.9166667 , 0.8333333 ],\n",
       "       [0.8333333 , 0.6666667 ],\n",
       "       [0.75      , 0.5       ],\n",
       "       [0.8333333 , 0.41666666],\n",
       "       [0.5833333 , 0.25      ],\n",
       "       [1.        , 0.33333334],\n",
       "       [0.9166667 , 0.5833333 ],\n",
       "       [0.8       , 0.3       ],\n",
       "       [1.        , 0.75      ],\n",
       "       [1.        , 0.8333333 ],\n",
       "       [0.90909094, 0.72727275],\n",
       "       [0.75      , 0.75      ],\n",
       "       [0.9166667 , 0.8333333 ],\n",
       "       [0.8333333 , 0.25      ],\n",
       "       [0.9166667 , 0.33333334],\n",
       "       [0.9166667 , 0.25      ],\n",
       "       [0.75      , 0.41666666],\n",
       "       [0.5       , 0.25      ],\n",
       "       [0.75      , 0.5       ],\n",
       "       [0.9166667 , 0.5       ],\n",
       "       [1.        , 0.9166667 ]], dtype=float32)"
      ]
     },
     "execution_count": 76,
     "metadata": {},
     "output_type": "execute_result"
    }
   ],
   "source": [
    "precisions"
   ]
  },
  {
   "cell_type": "code",
   "execution_count": 77,
   "id": "7d8a6e83-8a54-44f6-9f00-2842e8b53e6a",
   "metadata": {},
   "outputs": [],
   "source": [
    "wandb.log({'precision_drop_all_classes':np.mean(np.subtract(precisions[:,0],precisions[:,1]))})"
   ]
  },
  {
   "cell_type": "code",
   "execution_count": null,
   "id": "3a2d6dd0-2165-4c2d-a053-51454eed7af9",
   "metadata": {},
   "outputs": [],
   "source": []
  },
  {
   "cell_type": "code",
   "execution_count": null,
   "id": "c75efe13-91f8-4c38-9c36-cc79dfcce8fb",
   "metadata": {},
   "outputs": [],
   "source": []
  }
 ],
 "metadata": {
  "kernelspec": {
   "display_name": "Python 3 (ipykernel)",
   "language": "python",
   "name": "python3"
  },
  "language_info": {
   "codemirror_mode": {
    "name": "ipython",
    "version": 3
   },
   "file_extension": ".py",
   "mimetype": "text/x-python",
   "name": "python",
   "nbconvert_exporter": "python",
   "pygments_lexer": "ipython3",
   "version": "3.10.13"
  }
 },
 "nbformat": 4,
 "nbformat_minor": 5
}
