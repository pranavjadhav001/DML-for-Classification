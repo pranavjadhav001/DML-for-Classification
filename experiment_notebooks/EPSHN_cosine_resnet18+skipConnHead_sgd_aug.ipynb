{
 "cells": [
  {
   "cell_type": "code",
   "execution_count": 1,
   "id": "5ffca082-4e33-4910-bddd-7467769c68a2",
   "metadata": {},
   "outputs": [],
   "source": [
    "import numpy as np\n",
    "import PIL\n",
    "import umap\n",
    "import pandas as pd\n",
    "import json\n",
    "import glob\n",
    "from pytorch_metric_learning import distances, losses, miners, reducers\n",
    "import torch.nn as nn\n",
    "import os\n",
    "import matplotlib.pyplot as plt"
   ]
  },
  {
   "cell_type": "code",
   "execution_count": 2,
   "id": "df805f67-18d4-4f50-a057-90ebe6d234ee",
   "metadata": {},
   "outputs": [],
   "source": [
    "import torch\n",
    "import torchvision\n",
    "from torchvision import models\n",
    "import torch\n",
    "import torch.nn as nn\n",
    "import torch.nn.functional as F\n",
    "import torch.optim as optim\n",
    "from torchvision import datasets, transforms\n",
    "from torch.utils.data.sampler import SubsetRandomSampler\n",
    "from tqdm import tqdm\n",
    "from pytorch_metric_learning import losses, testers\n",
    "from pytorch_metric_learning.utils.accuracy_calculator import AccuracyCalculator\n",
    "from pytorch_metric_learning.distances import LpDistance,CosineSimilarity\n",
    "from pytorch_metric_learning.utils.inference import CustomKNN"
   ]
  },
  {
   "cell_type": "code",
   "execution_count": 3,
   "id": "e1f8f3ef-c0a5-492e-a89e-a126cd3709cc",
   "metadata": {},
   "outputs": [],
   "source": [
    "%matplotlib inline\n",
    "import torch\n",
    "import torch.nn as nn\n",
    "from matplotlib import pyplot as plt\n",
    "import numpy as np\n",
    "import torchvision\n",
    "import torchvision.datasets as datasets\n",
    "import torchvision.models as models\n",
    "from torchvision import transforms\n",
    "import torch.optim as optim\n",
    "import time\n",
    "import tqdm as tqdm\n",
    "from torch.autograd import Variable"
   ]
  },
  {
   "cell_type": "code",
   "execution_count": 4,
   "id": "e90d2b46-62b6-4d65-accd-b65666481d53",
   "metadata": {},
   "outputs": [
    {
     "name": "stderr",
     "output_type": "stream",
     "text": [
      "\u001b[34m\u001b[1mwandb\u001b[0m: Currently logged in as: \u001b[33mpranavjadhav001\u001b[0m. Use \u001b[1m`wandb login --relogin`\u001b[0m to force relogin\n"
     ]
    },
    {
     "data": {
      "text/plain": [
       "True"
      ]
     },
     "execution_count": 4,
     "metadata": {},
     "output_type": "execute_result"
    }
   ],
   "source": [
    "import wandb\n",
    "import random  # for demo script\n",
    "\n",
    "wandb.login()"
   ]
  },
  {
   "cell_type": "code",
   "execution_count": 12,
   "id": "dfc3914e-3d5f-4c4a-a6d6-6a55ff22c849",
   "metadata": {},
   "outputs": [],
   "source": [
    "config = {\n",
    "    'name':'cub_triplet_loss_epshn_resnet18_sgd_aug_skipconn',\n",
    "    'dataset':'CUB_200_2011',\n",
    "    'random_seed':42,\n",
    "    'model_architecture':'resnet18',\n",
    "    'embedding_dim':128,\n",
    "    'distance':'cosine',\n",
    "    'image_height':224,\n",
    "    'image_width':224,\n",
    "    'train_test_split':0.2,\n",
    "    'class_split':0.1,\n",
    "    'batch_size':128,\n",
    "    'optimizer':'sgd',\n",
    "    'learning_rate':0.001,\n",
    "    'num_epochs':100,\n",
    "    'loss':'NTXentLoss',\n",
    "    'miner':'epshn',\n",
    "    'reducer':0,\n",
    "    'metric':'precision_at_1',\n",
    "    'model_save_path':'models/cub_triplet_loss_epshn_resnet18_sgd_aug_skipconn',\n",
    "    'temperature': 0.1,\n",
    "    'skip_dropout':0.1\n",
    "}"
   ]
  },
  {
   "cell_type": "code",
   "execution_count": 6,
   "id": "ea1ac4e6-27ce-4223-8633-6c4bb31e07bc",
   "metadata": {},
   "outputs": [
    {
     "data": {
      "application/vnd.jupyter.widget-view+json": {
       "model_id": "b6fda1d427a14a9ea49001442690c6b4",
       "version_major": 2,
       "version_minor": 0
      },
      "text/plain": [
       "VBox(children=(Label(value='Waiting for wandb.init()...\\r'), FloatProgress(value=0.011113082944444842, max=1.0…"
      ]
     },
     "metadata": {},
     "output_type": "display_data"
    },
    {
     "data": {
      "text/html": [
       "wandb version 0.16.6 is available!  To upgrade, please run:\n",
       " $ pip install wandb --upgrade"
      ],
      "text/plain": [
       "<IPython.core.display.HTML object>"
      ]
     },
     "metadata": {},
     "output_type": "display_data"
    },
    {
     "data": {
      "text/html": [
       "Tracking run with wandb version 0.16.4"
      ],
      "text/plain": [
       "<IPython.core.display.HTML object>"
      ]
     },
     "metadata": {},
     "output_type": "display_data"
    },
    {
     "data": {
      "text/html": [
       "Run data is saved locally in <code>/embedding_classification/wandb/run-20240422_150902-rgiv2agi</code>"
      ],
      "text/plain": [
       "<IPython.core.display.HTML object>"
      ]
     },
     "metadata": {},
     "output_type": "display_data"
    },
    {
     "data": {
      "text/html": [
       "Syncing run <strong><a href='https://wandb.ai/pranavjadhav001/embedding_based_classification/runs/rgiv2agi' target=\"_blank\">cub_triplet_loss_epshn_resnet18_sgd_aug_skipconn</a></strong> to <a href='https://wandb.ai/pranavjadhav001/embedding_based_classification' target=\"_blank\">Weights & Biases</a> (<a href='https://wandb.me/run' target=\"_blank\">docs</a>)<br/>"
      ],
      "text/plain": [
       "<IPython.core.display.HTML object>"
      ]
     },
     "metadata": {},
     "output_type": "display_data"
    },
    {
     "data": {
      "text/html": [
       " View project at <a href='https://wandb.ai/pranavjadhav001/embedding_based_classification' target=\"_blank\">https://wandb.ai/pranavjadhav001/embedding_based_classification</a>"
      ],
      "text/plain": [
       "<IPython.core.display.HTML object>"
      ]
     },
     "metadata": {},
     "output_type": "display_data"
    },
    {
     "data": {
      "text/html": [
       " View run at <a href='https://wandb.ai/pranavjadhav001/embedding_based_classification/runs/rgiv2agi' target=\"_blank\">https://wandb.ai/pranavjadhav001/embedding_based_classification/runs/rgiv2agi</a>"
      ],
      "text/plain": [
       "<IPython.core.display.HTML object>"
      ]
     },
     "metadata": {},
     "output_type": "display_data"
    },
    {
     "name": "stdout",
     "output_type": "stream",
     "text": [
      "rgiv2agi\n"
     ]
    }
   ],
   "source": [
    "id = wandb.util.generate_id()\n",
    "run = wandb.init(\n",
    "    id=id,\n",
    "    name = config['name'],\n",
    "    # Set the project where this run will be logged\n",
    "    project=\"embedding_based_classification\",\n",
    "    # Track hyperparameters and run metadata\n",
    "    config=config,\n",
    "    resume=\"allow\"\n",
    ")\n",
    "print(id)"
   ]
  },
  {
   "cell_type": "code",
   "execution_count": 8,
   "id": "2762de2f-b1ec-49ae-bdc8-56ad406334e1",
   "metadata": {},
   "outputs": [],
   "source": [
    "np.random.seed(config['random_seed'])\n",
    "torch.manual_seed(config['random_seed'])\n",
    "torch.cuda.manual_seed(config['random_seed'])\n",
    "torch.backends.cudnn.deterministic = False"
   ]
  },
  {
   "cell_type": "code",
   "execution_count": 7,
   "id": "fd54e43e-bcb2-4be5-9f51-1366b8a5cfb6",
   "metadata": {},
   "outputs": [],
   "source": [
    "os.chdir('..')\n",
    "if not os.path.exists('models'):\n",
    "    os.makedirs('models')"
   ]
  },
  {
   "cell_type": "code",
   "execution_count": 23,
   "id": "86a9b19c-f95a-4976-bed3-47cd97da3fbf",
   "metadata": {},
   "outputs": [],
   "source": [
    "# print(models.resnet18())\n",
    "class ResNetFeatrueExtractor18(nn.Module):\n",
    "    def __init__(self, pretrained = True):\n",
    "        super(ResNetFeatrueExtractor18, self).__init__()\n",
    "        model_resnet18 = models.resnet18(pretrained=pretrained)\n",
    "        skip_dropout = config['skip_dropout']\n",
    "        self.conv1 = model_resnet18.conv1\n",
    "        self.bn1 = model_resnet18.bn1\n",
    "        self.relu = model_resnet18.relu\n",
    "        self.maxpool = model_resnet18.maxpool\n",
    "        self.layer1 = model_resnet18.layer1\n",
    "        self.layer2 = model_resnet18.layer2\n",
    "        self.layer3 = model_resnet18.layer3\n",
    "        self.layer4 = model_resnet18.layer4\n",
    "        self.avgpool = model_resnet18.avgpool\n",
    "        self.gate = torch.nn.Parameter(torch.Tensor(config['embedding_dim']))\n",
    "        self.skip_dropout = (\n",
    "            torch.nn.Dropout(p=skip_dropout)\n",
    "            if skip_dropout > 0.0\n",
    "            else torch.nn.Identity()\n",
    "        )\n",
    "        self.fc1 = nn.Linear(512, config['embedding_dim'])\n",
    "        self.fc2 = nn.Linear(128, config['embedding_dim'])\n",
    "        \n",
    "    def forward(self, x):\n",
    "        x = self.relu(self.bn1(self.conv1(x)))\n",
    "        x = self.maxpool(x)\n",
    "        x = self.layer1(x)\n",
    "        x = self.layer2(x)\n",
    "        x = self.layer3(x)\n",
    "        x = self.layer4(x)\n",
    "        x = self.avgpool(x)\n",
    "        x = x.view(x.size(0), -1)\n",
    "        x = self.fc1(x)\n",
    "        x = (self.fc2(self.skip_dropout(x)) * torch.sigmoid(self.gate)+ x)\n",
    "        return x"
   ]
  },
  {
   "cell_type": "code",
   "execution_count": 25,
   "id": "3113a9df-ae34-49a4-be12-cfc0168aa08a",
   "metadata": {},
   "outputs": [
    {
     "data": {
      "text/plain": [
       "torch.Size([18, 128])"
      ]
     },
     "execution_count": 25,
     "metadata": {},
     "output_type": "execute_result"
    }
   ],
   "source": [
    "ResNetFeatrueExtractor18()(torch.zeros(18,3,224,224)).shape"
   ]
  },
  {
   "cell_type": "code",
   "execution_count": 26,
   "id": "1d2af52d-f3cf-4fb5-9d46-01d52b7eecd5",
   "metadata": {
    "scrolled": true
   },
   "outputs": [],
   "source": [
    "### MNIST code originally from https://github.com/pytorch/examples/blob/master/mnist/main.py ###\n",
    "def train(model, loss_func,mining_func, device, train_loader, optimizer, epoch):\n",
    "    model.train()\n",
    "    train_losses = []\n",
    "    for batch_idx, (data, labels) in enumerate(train_loader):\n",
    "        data, labels = data.to(device), labels.to(device)\n",
    "        optimizer.zero_grad()\n",
    "        embeddings = model(data)\n",
    "        indices_tuple = mining_func(embeddings, labels)\n",
    "        loss = loss_func(embeddings, labels, indices_tuple)\n",
    "        loss.backward()\n",
    "        optimizer.step()\n",
    "        train_losses.append(loss)\n",
    "        if batch_idx % 100 == 0:\n",
    "            print(\"Epoch {} Iteration {}: Loss = {}\".format(epoch, batch_idx, loss))\n",
    "    return torch.mean(torch.tensor(train_losses)).item()\n",
    "    \n",
    "### convenient function from pytorch-metric-learning ###\n",
    "def get_all_embeddings(dataset, model):\n",
    "    tester = testers.BaseTester(dataloader_num_workers=0)\n",
    "    return tester.get_all_embeddings(dataset, model)\n",
    "\n",
    "### compute accuracy using AccuracyCalculator from pytorch-metric-learning ###\n",
    "def test(train_set, test_set, model, accuracy_calculator):\n",
    "    train_embeddings, train_labels = get_all_embeddings(train_set, model)\n",
    "    test_embeddings, test_labels = get_all_embeddings(test_set, model)\n",
    "    train_labels = train_labels.squeeze(1)\n",
    "    test_labels = test_labels.squeeze(1)\n",
    "    print(\"Computing accuracy\")\n",
    "    accuracies = accuracy_calculator.get_accuracy(\n",
    "        test_embeddings, test_labels, train_embeddings, train_labels, False\n",
    "    )\n",
    "    print(\"Test set accuracy (Precision@1) = {}\".format(accuracies[\"precision_at_1\"]))\n",
    "    return accuracies[\"precision_at_1\"]\n",
    "    \n",
    "device = torch.device(\"cuda\")\n",
    "\n",
    "mean = [0.485, 0.456, 0.406]\n",
    "std = [0.229, 0.224, 0.225]\n",
    "\n",
    "# create train and test transforms\n",
    "transform = transforms.Compose(\n",
    "    [\n",
    "        transforms.Resize((config['image_height'], config['image_width'])),\n",
    "        transforms.ToTensor(),\n",
    "        transforms.Normalize(mean, std),\n",
    "    ]\n",
    ")\n",
    "\n",
    "batch_size = 128"
   ]
  },
  {
   "cell_type": "code",
   "execution_count": 27,
   "id": "74bc7144-4ac1-46af-acb8-abf120dc0312",
   "metadata": {},
   "outputs": [],
   "source": [
    "def tra_transforms(imgsize, RGBmean, RGBstdv):\n",
    "    return transforms.Compose([transforms.Resize(int(imgsize*1.1)),\n",
    "                                 transforms.RandomCrop(imgsize),\n",
    "                                 transforms.RandomHorizontalFlip(),\n",
    "                                 transforms.ToTensor(),\n",
    "                                 transforms.Normalize(RGBmean, RGBstdv)])\n",
    "\n",
    "def eva_transforms(imgsize, RGBmean, RGBstdv):\n",
    "    return transforms.Compose([transforms.Resize(imgsize),\n",
    "                                 transforms.CenterCrop(imgsize),\n",
    "                                 transforms.ToTensor(),\n",
    "                                 transforms.Normalize(RGBmean, RGBstdv)])\n"
   ]
  },
  {
   "cell_type": "code",
   "execution_count": 28,
   "id": "012c1d87-698e-4abe-919e-9050c600673d",
   "metadata": {},
   "outputs": [],
   "source": [
    "train_transform = tra_transforms(224,mean,std)\n",
    "test_transform = eva_transforms(224,mean,std)"
   ]
  },
  {
   "cell_type": "code",
   "execution_count": 29,
   "id": "4edc54cc-56a9-4889-bc86-a2caef18b958",
   "metadata": {},
   "outputs": [],
   "source": [
    "with open('CUB_200_2011/classes.txt','r') as f:\n",
    "    classes = f.readlines()\n",
    "classes = [i.replace('\\n','') for i in classes]\n",
    "classes = [i.split(' ')[1] for i in classes]\n",
    "class_dict = {k:v for k,v in zip(classes,range(200))}"
   ]
  },
  {
   "cell_type": "code",
   "execution_count": 30,
   "id": "565c42ed-11e7-42f1-9bbc-6cc8b089816c",
   "metadata": {},
   "outputs": [],
   "source": [
    "image_paths = []\n",
    "labels = []\n",
    "for folder_path,i in class_dict.items():\n",
    "    folder_images = glob.glob('CUB_200_2011/images/'+'/'+str(folder_path)+'/*')\n",
    "    image_paths.extend(folder_images)\n",
    "    labels.extend([i]*len(folder_images))"
   ]
  },
  {
   "cell_type": "code",
   "execution_count": 31,
   "id": "e3ed0eff-8d29-481e-b7b3-ecd842781f12",
   "metadata": {},
   "outputs": [],
   "source": [
    "from sklearn.model_selection import train_test_split\n",
    "X_train, X_test, y_train, y_test = train_test_split(image_paths, labels, test_size=config['train_test_split'],\n",
    "                                                    stratify=labels,\n",
    "                                                    random_state=config['random_seed'])"
   ]
  },
  {
   "cell_type": "code",
   "execution_count": 32,
   "id": "373894a5-b193-433b-8c42-1d5ac082d312",
   "metadata": {},
   "outputs": [
    {
     "name": "stdout",
     "output_type": "stream",
     "text": [
      "9430 2358 9430 2358\n"
     ]
    }
   ],
   "source": [
    "print(len(X_train), len(X_test), len(y_train), len(y_test))"
   ]
  },
  {
   "cell_type": "code",
   "execution_count": 33,
   "id": "d85fde76-4b7a-4e4e-9207-51596442dc80",
   "metadata": {},
   "outputs": [],
   "source": [
    "import torch\n",
    "from torch.utils.data import Dataset, DataLoader\n",
    "import torchvision.transforms as transforms\n",
    "\n",
    "class CUBDataset(Dataset):\n",
    "    def __init__(self, image_paths,labels,transform=None):\n",
    "        self.image_paths = image_paths\n",
    "        self.labels = labels\n",
    "        self.transform = transform\n",
    "        self.load_image_from_paths()\n",
    "        \n",
    "    def load_image_from_paths(self):\n",
    "        self.images = []\n",
    "        for i in self.image_paths:\n",
    "            img = PIL.Image.open(i)\n",
    "            if len(img.getbands()) ==1 :\n",
    "                img = img.convert(\"RGB\")\n",
    "            self.images.append(img)\n",
    "            \n",
    "    def __len__(self):\n",
    "        return len(self.images)\n",
    "\n",
    "    def __getitem__(self, idx):\n",
    "        image = self.images[idx]\n",
    "        label = self.labels[idx]\n",
    "        if self.transform:\n",
    "            image = self.transform(image)\n",
    "        return image, label"
   ]
  },
  {
   "cell_type": "code",
   "execution_count": 34,
   "id": "27cbe2f3-e65f-4705-bc31-3b382ddd2e59",
   "metadata": {},
   "outputs": [],
   "source": [
    "train_dataset  = CUBDataset(X_train,y_train,train_transform)\n",
    "test_dataset  = CUBDataset(X_test,y_test,test_transform)\n",
    "train_loader = torch.utils.data.DataLoader(train_dataset, batch_size=128, shuffle=True)\n",
    "test_loader = torch.utils.data.DataLoader(test_dataset, batch_size=128, shuffle=False)"
   ]
  },
  {
   "cell_type": "code",
   "execution_count": 35,
   "id": "6f22dd74-3ef4-47d1-a43c-aecc01d59822",
   "metadata": {},
   "outputs": [
    {
     "name": "stderr",
     "output_type": "stream",
     "text": [
      "/opt/conda/lib/python3.10/site-packages/torchvision/models/_utils.py:208: UserWarning: The parameter 'pretrained' is deprecated since 0.13 and may be removed in the future, please use 'weights' instead.\n",
      "  warnings.warn(\n",
      "/opt/conda/lib/python3.10/site-packages/torchvision/models/_utils.py:223: UserWarning: Arguments other than a weight enum or `None` for 'weights' are deprecated since 0.13 and may be removed in the future. The current behavior is equivalent to passing `weights=ResNet18_Weights.IMAGENET1K_V1`. You can also use `weights=ResNet18_Weights.DEFAULT` to get the most up-to-date weights.\n",
      "  warnings.warn(msg)\n"
     ]
    }
   ],
   "source": [
    "model = ResNetFeatrueExtractor18()\n",
    "model = model.to(device)\n",
    "optimizer = optim.SGD(model.parameters(), lr=config['learning_rate'])\n",
    "num_epochs = config['num_epochs']\n",
    "\n",
    "### pytorch-metric-learning stuff ###\n",
    "distance = distances.CosineSimilarity()\n",
    "reducer = reducers.MeanReducer()\n",
    "loss_func = losses.NTXentLoss(temperature=config['temperature'], distance=distance, reducer=reducer)\n",
    "mining_func = miners.BatchEasyHardMiner(pos_strategy=\"easy\",neg_strategy=\"semihard\")\n",
    "knn_func = CustomKNN(CosineSimilarity())\n",
    "accuracy_calculator = AccuracyCalculator(include=(\"precision_at_1\",),k=1,knn_func=knn_func,avg_of_avgs=True,return_per_class=False)"
   ]
  },
  {
   "cell_type": "code",
   "execution_count": 36,
   "id": "d4d15606-5164-4513-b1ff-44d64647a82b",
   "metadata": {},
   "outputs": [
    {
     "data": {
      "text/plain": [
       "[]"
      ]
     },
     "execution_count": 36,
     "metadata": {},
     "output_type": "execute_result"
    }
   ],
   "source": [
    "wandb.watch(model, log='all')"
   ]
  },
  {
   "cell_type": "code",
   "execution_count": 37,
   "id": "e5bb77dd-c3e8-42d8-8074-27b2210cdb77",
   "metadata": {
    "scrolled": true
   },
   "outputs": [
    {
     "name": "stdout",
     "output_type": "stream",
     "text": [
      "Epoch 1 Iteration 0: Loss = 0.6549040079116821\n"
     ]
    },
    {
     "name": "stderr",
     "output_type": "stream",
     "text": [
      "100%|█████████████████████████████████████████████████████████████████████████████████████████████████████| 295/295 [00:16<00:00, 17.89it/s]\n",
      "100%|███████████████████████████████████████████████████████████████████████████████████████████████████████| 74/74 [00:10<00:00,  7.30it/s]\n"
     ]
    },
    {
     "name": "stdout",
     "output_type": "stream",
     "text": [
      "Computing accuracy\n",
      "Test set accuracy (Precision@1) = 0.3186426767676768\n",
      "Epoch 2 Iteration 0: Loss = 0.6632697582244873\n"
     ]
    },
    {
     "name": "stderr",
     "output_type": "stream",
     "text": [
      "100%|█████████████████████████████████████████████████████████████████████████████████████████████████████| 295/295 [00:16<00:00, 17.72it/s]\n",
      "100%|███████████████████████████████████████████████████████████████████████████████████████████████████████| 74/74 [00:03<00:00, 18.94it/s]\n"
     ]
    },
    {
     "name": "stdout",
     "output_type": "stream",
     "text": [
      "Computing accuracy\n",
      "Test set accuracy (Precision@1) = 0.34230555555555553\n",
      "Epoch 3 Iteration 0: Loss = 0.6481002569198608\n"
     ]
    },
    {
     "name": "stderr",
     "output_type": "stream",
     "text": [
      "100%|█████████████████████████████████████████████████████████████████████████████████████████████████████| 295/295 [00:16<00:00, 17.52it/s]\n",
      "100%|███████████████████████████████████████████████████████████████████████████████████████████████████████| 74/74 [00:03<00:00, 18.96it/s]\n"
     ]
    },
    {
     "name": "stdout",
     "output_type": "stream",
     "text": [
      "Computing accuracy\n",
      "Test set accuracy (Precision@1) = 0.37938636363636363\n",
      "Epoch 4 Iteration 0: Loss = 0.635114848613739\n"
     ]
    },
    {
     "name": "stderr",
     "output_type": "stream",
     "text": [
      "100%|█████████████████████████████████████████████████████████████████████████████████████████████████████| 295/295 [00:16<00:00, 17.64it/s]\n",
      "100%|███████████████████████████████████████████████████████████████████████████████████████████████████████| 74/74 [00:03<00:00, 18.88it/s]\n"
     ]
    },
    {
     "name": "stdout",
     "output_type": "stream",
     "text": [
      "Computing accuracy\n",
      "Test set accuracy (Precision@1) = 0.3961464646464647\n",
      "Epoch 5 Iteration 0: Loss = 0.585021436214447\n"
     ]
    },
    {
     "name": "stderr",
     "output_type": "stream",
     "text": [
      "100%|█████████████████████████████████████████████████████████████████████████████████████████████████████| 295/295 [00:17<00:00, 17.18it/s]\n",
      "100%|███████████████████████████████████████████████████████████████████████████████████████████████████████| 74/74 [00:03<00:00, 19.04it/s]\n"
     ]
    },
    {
     "name": "stdout",
     "output_type": "stream",
     "text": [
      "Computing accuracy\n",
      "Test set accuracy (Precision@1) = 0.4160353535353535\n",
      "Epoch 6 Iteration 0: Loss = 0.5768483877182007\n"
     ]
    },
    {
     "name": "stderr",
     "output_type": "stream",
     "text": [
      "100%|█████████████████████████████████████████████████████████████████████████████████████████████████████| 295/295 [00:16<00:00, 18.12it/s]\n",
      "100%|███████████████████████████████████████████████████████████████████████████████████████████████████████| 74/74 [00:03<00:00, 19.34it/s]\n"
     ]
    },
    {
     "name": "stdout",
     "output_type": "stream",
     "text": [
      "Computing accuracy\n",
      "Test set accuracy (Precision@1) = 0.41856818181818184\n",
      "Epoch 7 Iteration 0: Loss = 0.6034400463104248\n"
     ]
    },
    {
     "name": "stderr",
     "output_type": "stream",
     "text": [
      "100%|█████████████████████████████████████████████████████████████████████████████████████████████████████| 295/295 [00:16<00:00, 17.38it/s]\n",
      "100%|███████████████████████████████████████████████████████████████████████████████████████████████████████| 74/74 [00:04<00:00, 17.85it/s]\n"
     ]
    },
    {
     "name": "stdout",
     "output_type": "stream",
     "text": [
      "Computing accuracy\n",
      "Test set accuracy (Precision@1) = 0.4450315656565657\n",
      "Epoch 8 Iteration 0: Loss = 0.5936983823776245\n"
     ]
    },
    {
     "name": "stderr",
     "output_type": "stream",
     "text": [
      "100%|█████████████████████████████████████████████████████████████████████████████████████████████████████| 295/295 [00:16<00:00, 17.55it/s]\n",
      "100%|███████████████████████████████████████████████████████████████████████████████████████████████████████| 74/74 [00:03<00:00, 19.00it/s]\n"
     ]
    },
    {
     "name": "stdout",
     "output_type": "stream",
     "text": [
      "Computing accuracy\n",
      "Test set accuracy (Precision@1) = 0.4541717171717171\n",
      "Epoch 9 Iteration 0: Loss = 0.5323070287704468\n"
     ]
    },
    {
     "name": "stderr",
     "output_type": "stream",
     "text": [
      "100%|█████████████████████████████████████████████████████████████████████████████████████████████████████| 295/295 [00:16<00:00, 17.57it/s]\n",
      "100%|███████████████████████████████████████████████████████████████████████████████████████████████████████| 74/74 [00:03<00:00, 18.89it/s]\n"
     ]
    },
    {
     "name": "stdout",
     "output_type": "stream",
     "text": [
      "Computing accuracy\n",
      "Test set accuracy (Precision@1) = 0.45254040404040413\n",
      "Epoch 10 Iteration 0: Loss = 0.5505338907241821\n"
     ]
    },
    {
     "name": "stderr",
     "output_type": "stream",
     "text": [
      "100%|█████████████████████████████████████████████████████████████████████████████████████████████████████| 295/295 [00:16<00:00, 17.59it/s]\n",
      "100%|███████████████████████████████████████████████████████████████████████████████████████████████████████| 74/74 [00:03<00:00, 18.80it/s]\n"
     ]
    },
    {
     "name": "stdout",
     "output_type": "stream",
     "text": [
      "Computing accuracy\n",
      "Test set accuracy (Precision@1) = 0.4789406565656566\n",
      "Epoch 11 Iteration 0: Loss = 0.5521968603134155\n"
     ]
    },
    {
     "name": "stderr",
     "output_type": "stream",
     "text": [
      "100%|█████████████████████████████████████████████████████████████████████████████████████████████████████| 295/295 [00:16<00:00, 17.48it/s]\n",
      "100%|███████████████████████████████████████████████████████████████████████████████████████████████████████| 74/74 [00:03<00:00, 18.84it/s]\n"
     ]
    },
    {
     "name": "stdout",
     "output_type": "stream",
     "text": [
      "Computing accuracy\n",
      "Test set accuracy (Precision@1) = 0.4684015151515152\n",
      "Epoch 12 Iteration 0: Loss = 0.5326180458068848\n"
     ]
    },
    {
     "name": "stderr",
     "output_type": "stream",
     "text": [
      "100%|█████████████████████████████████████████████████████████████████████████████████████████████████████| 295/295 [00:17<00:00, 17.09it/s]\n",
      "100%|███████████████████████████████████████████████████████████████████████████████████████████████████████| 74/74 [00:04<00:00, 17.70it/s]\n"
     ]
    },
    {
     "name": "stdout",
     "output_type": "stream",
     "text": [
      "Computing accuracy\n",
      "Test set accuracy (Precision@1) = 0.4961464646464647\n",
      "Epoch 13 Iteration 0: Loss = 0.558544933795929\n"
     ]
    },
    {
     "name": "stderr",
     "output_type": "stream",
     "text": [
      "100%|█████████████████████████████████████████████████████████████████████████████████████████████████████| 295/295 [00:16<00:00, 17.64it/s]\n",
      "100%|███████████████████████████████████████████████████████████████████████████████████████████████████████| 74/74 [00:04<00:00, 18.32it/s]\n"
     ]
    },
    {
     "name": "stdout",
     "output_type": "stream",
     "text": [
      "Computing accuracy\n",
      "Test set accuracy (Precision@1) = 0.49753914141414146\n",
      "Epoch 14 Iteration 0: Loss = 0.5394251942634583\n"
     ]
    },
    {
     "name": "stderr",
     "output_type": "stream",
     "text": [
      "100%|█████████████████████████████████████████████████████████████████████████████████████████████████████| 295/295 [00:16<00:00, 17.64it/s]\n",
      "100%|███████████████████████████████████████████████████████████████████████████████████████████████████████| 74/74 [00:03<00:00, 18.80it/s]\n"
     ]
    },
    {
     "name": "stdout",
     "output_type": "stream",
     "text": [
      "Computing accuracy\n",
      "Test set accuracy (Precision@1) = 0.5094217171717171\n",
      "Epoch 15 Iteration 0: Loss = 0.5173205137252808\n"
     ]
    },
    {
     "name": "stderr",
     "output_type": "stream",
     "text": [
      "100%|█████████████████████████████████████████████████████████████████████████████████████████████████████| 295/295 [00:16<00:00, 17.96it/s]\n",
      "100%|███████████████████████████████████████████████████████████████████████████████████████████████████████| 74/74 [00:03<00:00, 19.08it/s]\n"
     ]
    },
    {
     "name": "stdout",
     "output_type": "stream",
     "text": [
      "Computing accuracy\n",
      "Test set accuracy (Precision@1) = 0.49942424242424244\n",
      "Epoch 16 Iteration 0: Loss = 0.5378504395484924\n"
     ]
    },
    {
     "name": "stderr",
     "output_type": "stream",
     "text": [
      "100%|█████████████████████████████████████████████████████████████████████████████████████████████████████| 295/295 [00:16<00:00, 18.02it/s]\n",
      "100%|███████████████████████████████████████████████████████████████████████████████████████████████████████| 74/74 [00:03<00:00, 19.41it/s]\n"
     ]
    },
    {
     "name": "stdout",
     "output_type": "stream",
     "text": [
      "Computing accuracy\n",
      "Test set accuracy (Precision@1) = 0.5091931818181819\n",
      "Epoch 17 Iteration 0: Loss = 0.5264185667037964\n"
     ]
    },
    {
     "name": "stderr",
     "output_type": "stream",
     "text": [
      "100%|█████████████████████████████████████████████████████████████████████████████████████████████████████| 295/295 [00:16<00:00, 17.59it/s]\n",
      "100%|███████████████████████████████████████████████████████████████████████████████████████████████████████| 74/74 [00:03<00:00, 18.81it/s]\n"
     ]
    },
    {
     "name": "stdout",
     "output_type": "stream",
     "text": [
      "Computing accuracy\n",
      "Test set accuracy (Precision@1) = 0.5154015151515151\n",
      "Epoch 18 Iteration 0: Loss = 0.5108494162559509\n"
     ]
    },
    {
     "name": "stderr",
     "output_type": "stream",
     "text": [
      "100%|█████████████████████████████████████████████████████████████████████████████████████████████████████| 295/295 [00:16<00:00, 17.83it/s]\n",
      "100%|███████████████████████████████████████████████████████████████████████████████████████████████████████| 74/74 [00:03<00:00, 19.37it/s]\n"
     ]
    },
    {
     "name": "stdout",
     "output_type": "stream",
     "text": [
      "Computing accuracy\n",
      "Test set accuracy (Precision@1) = 0.518074494949495\n",
      "Epoch 19 Iteration 0: Loss = 0.5230506062507629\n"
     ]
    },
    {
     "name": "stderr",
     "output_type": "stream",
     "text": [
      "100%|█████████████████████████████████████████████████████████████████████████████████████████████████████| 295/295 [00:17<00:00, 17.06it/s]\n",
      "100%|███████████████████████████████████████████████████████████████████████████████████████████████████████| 74/74 [00:03<00:00, 18.51it/s]\n"
     ]
    },
    {
     "name": "stdout",
     "output_type": "stream",
     "text": [
      "Computing accuracy\n",
      "Test set accuracy (Precision@1) = 0.5273939393939393\n",
      "Epoch 20 Iteration 0: Loss = 0.5097549557685852\n"
     ]
    },
    {
     "name": "stderr",
     "output_type": "stream",
     "text": [
      "100%|█████████████████████████████████████████████████████████████████████████████████████████████████████| 295/295 [00:17<00:00, 17.18it/s]\n",
      "100%|███████████████████████████████████████████████████████████████████████████████████████████████████████| 74/74 [00:04<00:00, 18.20it/s]\n"
     ]
    },
    {
     "name": "stdout",
     "output_type": "stream",
     "text": [
      "Computing accuracy\n",
      "Test set accuracy (Precision@1) = 0.5355530303030304\n",
      "Epoch 21 Iteration 0: Loss = 0.5008141994476318\n"
     ]
    },
    {
     "name": "stderr",
     "output_type": "stream",
     "text": [
      "100%|█████████████████████████████████████████████████████████████████████████████████████████████████████| 295/295 [00:17<00:00, 17.28it/s]\n",
      "100%|███████████████████████████████████████████████████████████████████████████████████████████████████████| 74/74 [00:03<00:00, 19.09it/s]\n"
     ]
    },
    {
     "name": "stdout",
     "output_type": "stream",
     "text": [
      "Computing accuracy\n",
      "Test set accuracy (Precision@1) = 0.540881313131313\n",
      "Epoch 22 Iteration 0: Loss = 0.481292188167572\n"
     ]
    },
    {
     "name": "stderr",
     "output_type": "stream",
     "text": [
      "100%|█████████████████████████████████████████████████████████████████████████████████████████████████████| 295/295 [00:16<00:00, 17.43it/s]\n",
      "100%|███████████████████████████████████████████████████████████████████████████████████████████████████████| 74/74 [00:03<00:00, 18.93it/s]\n"
     ]
    },
    {
     "name": "stdout",
     "output_type": "stream",
     "text": [
      "Computing accuracy\n",
      "Test set accuracy (Precision@1) = 0.5281691919191919\n",
      "Epoch 23 Iteration 0: Loss = 0.4969131648540497\n"
     ]
    },
    {
     "name": "stderr",
     "output_type": "stream",
     "text": [
      "100%|█████████████████████████████████████████████████████████████████████████████████████████████████████| 295/295 [00:16<00:00, 17.54it/s]\n",
      "100%|███████████████████████████████████████████████████████████████████████████████████████████████████████| 74/74 [00:03<00:00, 19.08it/s]\n"
     ]
    },
    {
     "name": "stdout",
     "output_type": "stream",
     "text": [
      "Computing accuracy\n",
      "Test set accuracy (Precision@1) = 0.5303257575757576\n",
      "Epoch 24 Iteration 0: Loss = 0.5325576066970825\n"
     ]
    },
    {
     "name": "stderr",
     "output_type": "stream",
     "text": [
      "100%|█████████████████████████████████████████████████████████████████████████████████████████████████████| 295/295 [00:16<00:00, 17.76it/s]\n",
      "100%|███████████████████████████████████████████████████████████████████████████████████████████████████████| 74/74 [00:03<00:00, 19.17it/s]\n"
     ]
    },
    {
     "name": "stdout",
     "output_type": "stream",
     "text": [
      "Computing accuracy\n",
      "Test set accuracy (Precision@1) = 0.5422752525252524\n",
      "Epoch 25 Iteration 0: Loss = 0.4956919848918915\n"
     ]
    },
    {
     "name": "stderr",
     "output_type": "stream",
     "text": [
      "100%|█████████████████████████████████████████████████████████████████████████████████████████████████████| 295/295 [00:16<00:00, 17.40it/s]\n",
      "100%|███████████████████████████████████████████████████████████████████████████████████████████████████████| 74/74 [00:03<00:00, 18.77it/s]\n"
     ]
    },
    {
     "name": "stdout",
     "output_type": "stream",
     "text": [
      "Computing accuracy\n",
      "Test set accuracy (Precision@1) = 0.5497828282828284\n",
      "Epoch 26 Iteration 0: Loss = 0.4507122337818146\n"
     ]
    },
    {
     "name": "stderr",
     "output_type": "stream",
     "text": [
      "100%|█████████████████████████████████████████████████████████████████████████████████████████████████████| 295/295 [00:16<00:00, 17.74it/s]\n",
      "100%|███████████████████████████████████████████████████████████████████████████████████████████████████████| 74/74 [00:03<00:00, 19.10it/s]\n"
     ]
    },
    {
     "name": "stdout",
     "output_type": "stream",
     "text": [
      "Computing accuracy\n",
      "Test set accuracy (Precision@1) = 0.5483712121212122\n",
      "Epoch 27 Iteration 0: Loss = 0.5143771171569824\n"
     ]
    },
    {
     "name": "stderr",
     "output_type": "stream",
     "text": [
      "100%|█████████████████████████████████████████████████████████████████████████████████████████████████████| 295/295 [00:16<00:00, 17.68it/s]\n",
      "100%|███████████████████████████████████████████████████████████████████████████████████████████████████████| 74/74 [00:03<00:00, 19.14it/s]\n"
     ]
    },
    {
     "name": "stdout",
     "output_type": "stream",
     "text": [
      "Computing accuracy\n",
      "Test set accuracy (Precision@1) = 0.5487133838383839\n",
      "Epoch 28 Iteration 0: Loss = 0.4465058445930481\n"
     ]
    },
    {
     "name": "stderr",
     "output_type": "stream",
     "text": [
      "100%|█████████████████████████████████████████████████████████████████████████████████████████████████████| 295/295 [00:16<00:00, 18.40it/s]\n",
      "100%|███████████████████████████████████████████████████████████████████████████████████████████████████████| 74/74 [00:03<00:00, 19.91it/s]\n"
     ]
    },
    {
     "name": "stdout",
     "output_type": "stream",
     "text": [
      "Computing accuracy\n",
      "Test set accuracy (Precision@1) = 0.5674608585858586\n",
      "Epoch 29 Iteration 0: Loss = 0.40293779969215393\n"
     ]
    },
    {
     "name": "stderr",
     "output_type": "stream",
     "text": [
      "100%|█████████████████████████████████████████████████████████████████████████████████████████████████████| 295/295 [00:16<00:00, 18.18it/s]\n",
      "100%|███████████████████████████████████████████████████████████████████████████████████████████████████████| 74/74 [00:03<00:00, 19.82it/s]\n"
     ]
    },
    {
     "name": "stdout",
     "output_type": "stream",
     "text": [
      "Computing accuracy\n",
      "Test set accuracy (Precision@1) = 0.567415404040404\n",
      "Epoch 30 Iteration 0: Loss = 0.486395925283432\n"
     ]
    },
    {
     "name": "stderr",
     "output_type": "stream",
     "text": [
      "100%|█████████████████████████████████████████████████████████████████████████████████████████████████████| 295/295 [00:16<00:00, 18.34it/s]\n",
      "100%|███████████████████████████████████████████████████████████████████████████████████████████████████████| 74/74 [00:03<00:00, 19.85it/s]\n"
     ]
    },
    {
     "name": "stdout",
     "output_type": "stream",
     "text": [
      "Computing accuracy\n",
      "Test set accuracy (Precision@1) = 0.5698926767676769\n",
      "Epoch 31 Iteration 0: Loss = 0.4752212166786194\n"
     ]
    },
    {
     "name": "stderr",
     "output_type": "stream",
     "text": [
      "100%|█████████████████████████████████████████████████████████████████████████████████████████████████████| 295/295 [00:16<00:00, 17.46it/s]\n",
      "100%|███████████████████████████████████████████████████████████████████████████████████████████████████████| 74/74 [00:04<00:00, 17.84it/s]\n"
     ]
    },
    {
     "name": "stdout",
     "output_type": "stream",
     "text": [
      "Computing accuracy\n",
      "Test set accuracy (Precision@1) = 0.5841161616161616\n",
      "Epoch 32 Iteration 0: Loss = 0.4155975878238678\n"
     ]
    },
    {
     "name": "stderr",
     "output_type": "stream",
     "text": [
      "100%|█████████████████████████████████████████████████████████████████████████████████████████████████████| 295/295 [00:16<00:00, 17.57it/s]\n",
      "100%|███████████████████████████████████████████████████████████████████████████████████████████████████████| 74/74 [00:03<00:00, 19.12it/s]\n"
     ]
    },
    {
     "name": "stdout",
     "output_type": "stream",
     "text": [
      "Computing accuracy\n",
      "Test set accuracy (Precision@1) = 0.5727929292929294\n",
      "Epoch 33 Iteration 0: Loss = 0.47424808144569397\n"
     ]
    },
    {
     "name": "stderr",
     "output_type": "stream",
     "text": [
      "100%|█████████████████████████████████████████████████████████████████████████████████████████████████████| 295/295 [00:16<00:00, 17.79it/s]\n",
      "100%|███████████████████████████████████████████████████████████████████████████████████████████████████████| 74/74 [00:03<00:00, 19.26it/s]\n"
     ]
    },
    {
     "name": "stdout",
     "output_type": "stream",
     "text": [
      "Computing accuracy\n",
      "Test set accuracy (Precision@1) = 0.5836212121212121\n",
      "Epoch 34 Iteration 0: Loss = 0.4248008728027344\n"
     ]
    },
    {
     "name": "stderr",
     "output_type": "stream",
     "text": [
      "100%|█████████████████████████████████████████████████████████████████████████████████████████████████████| 295/295 [00:16<00:00, 17.69it/s]\n",
      "100%|███████████████████████████████████████████████████████████████████████████████████████████████████████| 74/74 [00:03<00:00, 19.26it/s]\n"
     ]
    },
    {
     "name": "stdout",
     "output_type": "stream",
     "text": [
      "Computing accuracy\n",
      "Test set accuracy (Precision@1) = 0.5722954545454545\n",
      "Epoch 35 Iteration 0: Loss = 0.4896094799041748\n"
     ]
    },
    {
     "name": "stderr",
     "output_type": "stream",
     "text": [
      "100%|█████████████████████████████████████████████████████████████████████████████████████████████████████| 295/295 [00:15<00:00, 18.54it/s]\n",
      "100%|███████████████████████████████████████████████████████████████████████████████████████████████████████| 74/74 [00:03<00:00, 19.95it/s]\n"
     ]
    },
    {
     "name": "stdout",
     "output_type": "stream",
     "text": [
      "Computing accuracy\n",
      "Test set accuracy (Precision@1) = 0.5777777777777778\n",
      "Epoch 36 Iteration 0: Loss = 0.4147859811782837\n"
     ]
    },
    {
     "name": "stderr",
     "output_type": "stream",
     "text": [
      "100%|█████████████████████████████████████████████████████████████████████████████████████████████████████| 295/295 [00:16<00:00, 18.36it/s]\n",
      "100%|███████████████████████████████████████████████████████████████████████████████████████████████████████| 74/74 [00:03<00:00, 19.90it/s]\n"
     ]
    },
    {
     "name": "stdout",
     "output_type": "stream",
     "text": [
      "Computing accuracy\n",
      "Test set accuracy (Precision@1) = 0.5883409090909091\n",
      "Epoch 37 Iteration 0: Loss = 0.4855852425098419\n"
     ]
    },
    {
     "name": "stderr",
     "output_type": "stream",
     "text": [
      "100%|█████████████████████████████████████████████████████████████████████████████████████████████████████| 295/295 [00:16<00:00, 17.81it/s]\n",
      "100%|███████████████████████████████████████████████████████████████████████████████████████████████████████| 74/74 [00:04<00:00, 18.49it/s]\n"
     ]
    },
    {
     "name": "stdout",
     "output_type": "stream",
     "text": [
      "Computing accuracy\n",
      "Test set accuracy (Precision@1) = 0.5850909090909091\n",
      "Epoch 38 Iteration 0: Loss = 0.42856478691101074\n"
     ]
    },
    {
     "name": "stderr",
     "output_type": "stream",
     "text": [
      "100%|█████████████████████████████████████████████████████████████████████████████████████████████████████| 295/295 [00:16<00:00, 17.40it/s]\n",
      "100%|███████████████████████████████████████████████████████████████████████████████████████████████████████| 74/74 [00:03<00:00, 19.20it/s]\n"
     ]
    },
    {
     "name": "stdout",
     "output_type": "stream",
     "text": [
      "Computing accuracy\n",
      "Test set accuracy (Precision@1) = 0.5855353535353536\n",
      "Epoch 39 Iteration 0: Loss = 0.41601303219795227\n"
     ]
    },
    {
     "name": "stderr",
     "output_type": "stream",
     "text": [
      "100%|█████████████████████████████████████████████████████████████████████████████████████████████████████| 295/295 [00:16<00:00, 17.57it/s]\n",
      "100%|███████████████████████████████████████████████████████████████████████████████████████████████████████| 74/74 [00:03<00:00, 19.66it/s]\n"
     ]
    },
    {
     "name": "stdout",
     "output_type": "stream",
     "text": [
      "Computing accuracy\n",
      "Test set accuracy (Precision@1) = 0.5875012626262626\n",
      "Epoch 40 Iteration 0: Loss = 0.39369508624076843\n"
     ]
    },
    {
     "name": "stderr",
     "output_type": "stream",
     "text": [
      "100%|█████████████████████████████████████████████████████████████████████████████████████████████████████| 295/295 [00:16<00:00, 18.42it/s]\n",
      "100%|███████████████████████████████████████████████████████████████████████████████████████████████████████| 74/74 [00:03<00:00, 19.77it/s]\n"
     ]
    },
    {
     "name": "stdout",
     "output_type": "stream",
     "text": [
      "Computing accuracy\n",
      "Test set accuracy (Precision@1) = 0.594179292929293\n",
      "Epoch 41 Iteration 0: Loss = 0.458169549703598\n"
     ]
    },
    {
     "name": "stderr",
     "output_type": "stream",
     "text": [
      "100%|█████████████████████████████████████████████████████████████████████████████████████████████████████| 295/295 [00:16<00:00, 18.33it/s]\n",
      "100%|███████████████████████████████████████████████████████████████████████████████████████████████████████| 74/74 [00:03<00:00, 19.88it/s]\n"
     ]
    },
    {
     "name": "stdout",
     "output_type": "stream",
     "text": [
      "Computing accuracy\n",
      "Test set accuracy (Precision@1) = 0.5908914141414141\n",
      "Epoch 42 Iteration 0: Loss = 0.4272136092185974\n"
     ]
    },
    {
     "name": "stderr",
     "output_type": "stream",
     "text": [
      "100%|█████████████████████████████████████████████████████████████████████████████████████████████████████| 295/295 [00:16<00:00, 18.18it/s]\n",
      "100%|███████████████████████████████████████████████████████████████████████████████████████████████████████| 74/74 [00:03<00:00, 19.74it/s]\n"
     ]
    },
    {
     "name": "stdout",
     "output_type": "stream",
     "text": [
      "Computing accuracy\n",
      "Test set accuracy (Precision@1) = 0.5909545454545454\n",
      "Epoch 43 Iteration 0: Loss = 0.3700927495956421\n"
     ]
    },
    {
     "name": "stderr",
     "output_type": "stream",
     "text": [
      "100%|█████████████████████████████████████████████████████████████████████████████████████████████████████| 295/295 [00:16<00:00, 17.83it/s]\n",
      "100%|███████████████████████████████████████████████████████████████████████████████████████████████████████| 74/74 [00:04<00:00, 18.43it/s]\n"
     ]
    },
    {
     "name": "stdout",
     "output_type": "stream",
     "text": [
      "Computing accuracy\n",
      "Test set accuracy (Precision@1) = 0.5979141414141415\n",
      "Epoch 44 Iteration 0: Loss = 0.4027073085308075\n"
     ]
    },
    {
     "name": "stderr",
     "output_type": "stream",
     "text": [
      "100%|█████████████████████████████████████████████████████████████████████████████████████████████████████| 295/295 [00:16<00:00, 17.72it/s]\n",
      "100%|███████████████████████████████████████████████████████████████████████████████████████████████████████| 74/74 [00:03<00:00, 19.27it/s]\n"
     ]
    },
    {
     "name": "stdout",
     "output_type": "stream",
     "text": [
      "Computing accuracy\n",
      "Test set accuracy (Precision@1) = 0.5992727272727273\n",
      "Epoch 45 Iteration 0: Loss = 0.38002923130989075\n"
     ]
    },
    {
     "name": "stderr",
     "output_type": "stream",
     "text": [
      "100%|█████████████████████████████████████████████████████████████████████████████████████████████████████| 295/295 [00:16<00:00, 18.02it/s]\n",
      "100%|███████████████████████████████████████████████████████████████████████████████████████████████████████| 74/74 [00:03<00:00, 18.78it/s]\n"
     ]
    },
    {
     "name": "stdout",
     "output_type": "stream",
     "text": [
      "Computing accuracy\n",
      "Test set accuracy (Precision@1) = 0.6094469696969697\n",
      "Epoch 46 Iteration 0: Loss = 0.4592733085155487\n"
     ]
    },
    {
     "name": "stderr",
     "output_type": "stream",
     "text": [
      "100%|█████████████████████████████████████████████████████████████████████████████████████████████████████| 295/295 [00:16<00:00, 18.12it/s]\n",
      "100%|███████████████████████████████████████████████████████████████████████████████████████████████████████| 74/74 [00:03<00:00, 19.91it/s]\n"
     ]
    },
    {
     "name": "stdout",
     "output_type": "stream",
     "text": [
      "Computing accuracy\n",
      "Test set accuracy (Precision@1) = 0.6089507575757577\n",
      "Epoch 47 Iteration 0: Loss = 0.40483903884887695\n"
     ]
    },
    {
     "name": "stderr",
     "output_type": "stream",
     "text": [
      "100%|█████████████████████████████████████████████████████████████████████████████████████████████████████| 295/295 [00:16<00:00, 18.43it/s]\n",
      "100%|███████████████████████████████████████████████████████████████████████████████████████████████████████| 74/74 [00:03<00:00, 19.86it/s]\n"
     ]
    },
    {
     "name": "stdout",
     "output_type": "stream",
     "text": [
      "Computing accuracy\n",
      "Test set accuracy (Precision@1) = 0.6150101010101011\n",
      "Epoch 48 Iteration 0: Loss = 0.42420732975006104\n"
     ]
    },
    {
     "name": "stderr",
     "output_type": "stream",
     "text": [
      "100%|█████████████████████████████████████████████████████████████████████████████████████████████████████| 295/295 [00:16<00:00, 18.40it/s]\n",
      "100%|███████████████████████████████████████████████████████████████████████████████████████████████████████| 74/74 [00:03<00:00, 20.04it/s]\n"
     ]
    },
    {
     "name": "stdout",
     "output_type": "stream",
     "text": [
      "Computing accuracy\n",
      "Test set accuracy (Precision@1) = 0.6074886363636364\n",
      "Epoch 49 Iteration 0: Loss = 0.5354639291763306\n"
     ]
    },
    {
     "name": "stderr",
     "output_type": "stream",
     "text": [
      "100%|█████████████████████████████████████████████████████████████████████████████████████████████████████| 295/295 [00:15<00:00, 18.48it/s]\n",
      "100%|███████████████████████████████████████████████████████████████████████████████████████████████████████| 74/74 [00:03<00:00, 19.81it/s]\n"
     ]
    },
    {
     "name": "stdout",
     "output_type": "stream",
     "text": [
      "Computing accuracy\n",
      "Test set accuracy (Precision@1) = 0.6105126262626263\n",
      "Epoch 50 Iteration 0: Loss = 0.401932954788208\n"
     ]
    },
    {
     "name": "stderr",
     "output_type": "stream",
     "text": [
      "100%|█████████████████████████████████████████████████████████████████████████████████████████████████████| 295/295 [00:15<00:00, 18.44it/s]\n",
      "100%|███████████████████████████████████████████████████████████████████████████████████████████████████████| 74/74 [00:03<00:00, 19.79it/s]\n"
     ]
    },
    {
     "name": "stdout",
     "output_type": "stream",
     "text": [
      "Computing accuracy\n",
      "Test set accuracy (Precision@1) = 0.6132954545454545\n",
      "Epoch 51 Iteration 0: Loss = 0.42261797189712524\n"
     ]
    },
    {
     "name": "stderr",
     "output_type": "stream",
     "text": [
      "100%|█████████████████████████████████████████████████████████████████████████████████████████████████████| 295/295 [00:15<00:00, 18.44it/s]\n",
      "100%|███████████████████████████████████████████████████████████████████████████████████████████████████████| 74/74 [00:03<00:00, 19.95it/s]\n"
     ]
    },
    {
     "name": "stdout",
     "output_type": "stream",
     "text": [
      "Computing accuracy\n",
      "Test set accuracy (Precision@1) = 0.6032891414141414\n",
      "Epoch 52 Iteration 0: Loss = 0.48034903407096863\n"
     ]
    },
    {
     "name": "stderr",
     "output_type": "stream",
     "text": [
      "100%|█████████████████████████████████████████████████████████████████████████████████████████████████████| 295/295 [00:15<00:00, 18.46it/s]\n",
      "100%|███████████████████████████████████████████████████████████████████████████████████████████████████████| 74/74 [00:03<00:00, 19.75it/s]\n"
     ]
    },
    {
     "name": "stdout",
     "output_type": "stream",
     "text": [
      "Computing accuracy\n",
      "Test set accuracy (Precision@1) = 0.5996818181818182\n",
      "Epoch 53 Iteration 0: Loss = 0.390180379152298\n"
     ]
    },
    {
     "name": "stderr",
     "output_type": "stream",
     "text": [
      "100%|█████████████████████████████████████████████████████████████████████████████████████████████████████| 295/295 [00:16<00:00, 18.10it/s]\n",
      "100%|███████████████████████████████████████████████████████████████████████████████████████████████████████| 74/74 [00:03<00:00, 19.56it/s]\n"
     ]
    },
    {
     "name": "stdout",
     "output_type": "stream",
     "text": [
      "Computing accuracy\n",
      "Test set accuracy (Precision@1) = 0.6252525252525253\n",
      "Epoch 54 Iteration 0: Loss = 0.463767409324646\n"
     ]
    },
    {
     "name": "stderr",
     "output_type": "stream",
     "text": [
      "100%|█████████████████████████████████████████████████████████████████████████████████████████████████████| 295/295 [00:16<00:00, 17.89it/s]\n",
      "100%|███████████████████████████████████████████████████████████████████████████████████████████████████████| 74/74 [00:03<00:00, 18.60it/s]\n"
     ]
    },
    {
     "name": "stdout",
     "output_type": "stream",
     "text": [
      "Computing accuracy\n",
      "Test set accuracy (Precision@1) = 0.6134848484848484\n",
      "Epoch 55 Iteration 0: Loss = 0.3898147940635681\n"
     ]
    },
    {
     "name": "stderr",
     "output_type": "stream",
     "text": [
      "100%|█████████████████████████████████████████████████████████████████████████████████████████████████████| 295/295 [00:16<00:00, 18.06it/s]\n",
      "100%|███████████████████████████████████████████████████████████████████████████████████████████████████████| 74/74 [00:03<00:00, 19.49it/s]\n"
     ]
    },
    {
     "name": "stdout",
     "output_type": "stream",
     "text": [
      "Computing accuracy\n",
      "Test set accuracy (Precision@1) = 0.617909090909091\n",
      "Epoch 56 Iteration 0: Loss = 0.39078259468078613\n"
     ]
    },
    {
     "name": "stderr",
     "output_type": "stream",
     "text": [
      "100%|█████████████████████████████████████████████████████████████████████████████████████████████████████| 295/295 [00:17<00:00, 17.03it/s]\n",
      "100%|███████████████████████████████████████████████████████████████████████████████████████████████████████| 74/74 [00:04<00:00, 18.38it/s]\n"
     ]
    },
    {
     "name": "stdout",
     "output_type": "stream",
     "text": [
      "Computing accuracy\n",
      "Test set accuracy (Precision@1) = 0.6241489898989899\n",
      "Epoch 57 Iteration 0: Loss = 0.5724408626556396\n"
     ]
    },
    {
     "name": "stderr",
     "output_type": "stream",
     "text": [
      "100%|█████████████████████████████████████████████████████████████████████████████████████████████████████| 295/295 [00:17<00:00, 17.14it/s]\n",
      "100%|███████████████████████████████████████████████████████████████████████████████████████████████████████| 74/74 [00:04<00:00, 18.49it/s]\n"
     ]
    },
    {
     "name": "stdout",
     "output_type": "stream",
     "text": [
      "Computing accuracy\n",
      "Test set accuracy (Precision@1) = 0.626544191919192\n",
      "Epoch 58 Iteration 0: Loss = 0.4656285047531128\n"
     ]
    },
    {
     "name": "stderr",
     "output_type": "stream",
     "text": [
      "100%|█████████████████████████████████████████████████████████████████████████████████████████████████████| 295/295 [00:17<00:00, 17.19it/s]\n",
      "100%|███████████████████████████████████████████████████████████████████████████████████████████████████████| 74/74 [00:03<00:00, 18.74it/s]\n"
     ]
    },
    {
     "name": "stdout",
     "output_type": "stream",
     "text": [
      "Computing accuracy\n",
      "Test set accuracy (Precision@1) = 0.6202348484848486\n",
      "Epoch 59 Iteration 0: Loss = 0.40630438923835754\n"
     ]
    },
    {
     "name": "stderr",
     "output_type": "stream",
     "text": [
      "100%|█████████████████████████████████████████████████████████████████████████████████████████████████████| 295/295 [00:17<00:00, 17.23it/s]\n",
      "100%|███████████████████████████████████████████████████████████████████████████████████████████████████████| 74/74 [00:03<00:00, 18.69it/s]\n"
     ]
    },
    {
     "name": "stdout",
     "output_type": "stream",
     "text": [
      "Computing accuracy\n",
      "Test set accuracy (Precision@1) = 0.6368775252525252\n",
      "Epoch 60 Iteration 0: Loss = 0.39317771792411804\n"
     ]
    },
    {
     "name": "stderr",
     "output_type": "stream",
     "text": [
      "100%|█████████████████████████████████████████████████████████████████████████████████████████████████████| 295/295 [00:17<00:00, 17.25it/s]\n",
      "100%|███████████████████████████████████████████████████████████████████████████████████████████████████████| 74/74 [00:04<00:00, 18.16it/s]\n"
     ]
    },
    {
     "name": "stdout",
     "output_type": "stream",
     "text": [
      "Computing accuracy\n",
      "Test set accuracy (Precision@1) = 0.6301515151515151\n",
      "Epoch 61 Iteration 0: Loss = 0.4258171021938324\n"
     ]
    },
    {
     "name": "stderr",
     "output_type": "stream",
     "text": [
      "100%|█████████████████████████████████████████████████████████████████████████████████████████████████████| 295/295 [00:17<00:00, 17.34it/s]\n",
      "100%|███████████████████████████████████████████████████████████████████████████████████████████████████████| 74/74 [00:04<00:00, 18.36it/s]\n"
     ]
    },
    {
     "name": "stdout",
     "output_type": "stream",
     "text": [
      "Computing accuracy\n",
      "Test set accuracy (Precision@1) = 0.638229797979798\n",
      "Epoch 62 Iteration 0: Loss = 0.41183027625083923\n"
     ]
    },
    {
     "name": "stderr",
     "output_type": "stream",
     "text": [
      "100%|█████████████████████████████████████████████████████████████████████████████████████████████████████| 295/295 [00:16<00:00, 17.50it/s]\n",
      "100%|███████████████████████████████████████████████████████████████████████████████████████████████████████| 74/74 [00:03<00:00, 18.95it/s]\n"
     ]
    },
    {
     "name": "stdout",
     "output_type": "stream",
     "text": [
      "Computing accuracy\n",
      "Test set accuracy (Precision@1) = 0.6267929292929293\n",
      "Epoch 63 Iteration 0: Loss = 0.44078388810157776\n"
     ]
    },
    {
     "name": "stderr",
     "output_type": "stream",
     "text": [
      "100%|█████████████████████████████████████████████████████████████████████████████████████████████████████| 295/295 [00:16<00:00, 17.46it/s]\n",
      "100%|███████████████████████████████████████████████████████████████████████████████████████████████████████| 74/74 [00:04<00:00, 18.49it/s]\n"
     ]
    },
    {
     "name": "stdout",
     "output_type": "stream",
     "text": [
      "Computing accuracy\n",
      "Test set accuracy (Precision@1) = 0.6261515151515152\n",
      "Epoch 64 Iteration 0: Loss = 0.36855483055114746\n"
     ]
    },
    {
     "name": "stderr",
     "output_type": "stream",
     "text": [
      "100%|█████████████████████████████████████████████████████████████████████████████████████████████████████| 295/295 [00:17<00:00, 17.24it/s]\n",
      "100%|███████████████████████████████████████████████████████████████████████████████████████████████████████| 74/74 [00:03<00:00, 18.77it/s]\n"
     ]
    },
    {
     "name": "stdout",
     "output_type": "stream",
     "text": [
      "Computing accuracy\n",
      "Test set accuracy (Precision@1) = 0.6394027777777778\n",
      "Epoch 65 Iteration 0: Loss = 0.4492800235748291\n"
     ]
    },
    {
     "name": "stderr",
     "output_type": "stream",
     "text": [
      "100%|█████████████████████████████████████████████████████████████████████████████████████████████████████| 295/295 [00:16<00:00, 18.40it/s]\n",
      "100%|███████████████████████████████████████████████████████████████████████████████████████████████████████| 74/74 [00:03<00:00, 19.84it/s]\n"
     ]
    },
    {
     "name": "stdout",
     "output_type": "stream",
     "text": [
      "Computing accuracy\n",
      "Test set accuracy (Precision@1) = 0.6280025252525253\n",
      "Epoch 66 Iteration 0: Loss = 0.3559967577457428\n"
     ]
    },
    {
     "name": "stderr",
     "output_type": "stream",
     "text": [
      "100%|█████████████████████████████████████████████████████████████████████████████████████████████████████| 295/295 [00:16<00:00, 18.44it/s]\n",
      "100%|███████████████████████████████████████████████████████████████████████████████████████████████████████| 74/74 [00:03<00:00, 19.99it/s]\n"
     ]
    },
    {
     "name": "stdout",
     "output_type": "stream",
     "text": [
      "Computing accuracy\n",
      "Test set accuracy (Precision@1) = 0.632185606060606\n",
      "Epoch 67 Iteration 0: Loss = 0.4313507080078125\n"
     ]
    },
    {
     "name": "stderr",
     "output_type": "stream",
     "text": [
      "100%|█████████████████████████████████████████████████████████████████████████████████████████████████████| 295/295 [00:15<00:00, 18.45it/s]\n",
      "100%|███████████████████████████████████████████████████████████████████████████████████████████████████████| 74/74 [00:03<00:00, 19.89it/s]\n"
     ]
    },
    {
     "name": "stdout",
     "output_type": "stream",
     "text": [
      "Computing accuracy\n",
      "Test set accuracy (Precision@1) = 0.638915404040404\n",
      "Epoch 68 Iteration 0: Loss = 0.4431287944316864\n"
     ]
    },
    {
     "name": "stderr",
     "output_type": "stream",
     "text": [
      "100%|█████████████████████████████████████████████████████████████████████████████████████████████████████| 295/295 [00:16<00:00, 18.41it/s]\n",
      "100%|███████████████████████████████████████████████████████████████████████████████████████████████████████| 74/74 [00:03<00:00, 19.93it/s]\n"
     ]
    },
    {
     "name": "stdout",
     "output_type": "stream",
     "text": [
      "Computing accuracy\n",
      "Test set accuracy (Precision@1) = 0.6357386363636364\n",
      "Epoch 69 Iteration 0: Loss = 0.3857775628566742\n"
     ]
    },
    {
     "name": "stderr",
     "output_type": "stream",
     "text": [
      "100%|█████████████████████████████████████████████████████████████████████████████████████████████████████| 295/295 [00:16<00:00, 18.08it/s]\n",
      "100%|███████████████████████████████████████████████████████████████████████████████████████████████████████| 74/74 [00:03<00:00, 19.75it/s]\n"
     ]
    },
    {
     "name": "stdout",
     "output_type": "stream",
     "text": [
      "Computing accuracy\n",
      "Test set accuracy (Precision@1) = 0.6345858585858587\n",
      "Epoch 70 Iteration 0: Loss = 0.4325183629989624\n"
     ]
    },
    {
     "name": "stderr",
     "output_type": "stream",
     "text": [
      "100%|█████████████████████████████████████████████████████████████████████████████████████████████████████| 295/295 [00:16<00:00, 18.37it/s]\n",
      "100%|███████████████████████████████████████████████████████████████████████████████████████████████████████| 74/74 [00:03<00:00, 19.69it/s]\n"
     ]
    },
    {
     "name": "stdout",
     "output_type": "stream",
     "text": [
      "Computing accuracy\n",
      "Test set accuracy (Precision@1) = 0.6342083333333334\n",
      "Epoch 71 Iteration 0: Loss = 0.4029393196105957\n"
     ]
    },
    {
     "name": "stderr",
     "output_type": "stream",
     "text": [
      "100%|█████████████████████████████████████████████████████████████████████████████████████████████████████| 295/295 [00:16<00:00, 18.43it/s]\n",
      "100%|███████████████████████████████████████████████████████████████████████████████████████████████████████| 74/74 [00:03<00:00, 19.90it/s]\n"
     ]
    },
    {
     "name": "stdout",
     "output_type": "stream",
     "text": [
      "Computing accuracy\n",
      "Test set accuracy (Precision@1) = 0.634560606060606\n",
      "Epoch 72 Iteration 0: Loss = 0.45445871353149414\n"
     ]
    },
    {
     "name": "stderr",
     "output_type": "stream",
     "text": [
      "100%|█████████████████████████████████████████████████████████████████████████████████████████████████████| 295/295 [00:15<00:00, 18.50it/s]\n",
      "100%|███████████████████████████████████████████████████████████████████████████████████████████████████████| 74/74 [00:03<00:00, 19.91it/s]\n"
     ]
    },
    {
     "name": "stdout",
     "output_type": "stream",
     "text": [
      "Computing accuracy\n",
      "Test set accuracy (Precision@1) = 0.6444911616161616\n",
      "Epoch 73 Iteration 0: Loss = 0.38436949253082275\n"
     ]
    },
    {
     "name": "stderr",
     "output_type": "stream",
     "text": [
      "100%|█████████████████████████████████████████████████████████████████████████████████████████████████████| 295/295 [00:16<00:00, 18.41it/s]\n",
      "100%|███████████████████████████████████████████████████████████████████████████████████████████████████████| 74/74 [00:03<00:00, 19.92it/s]\n"
     ]
    },
    {
     "name": "stdout",
     "output_type": "stream",
     "text": [
      "Computing accuracy\n",
      "Test set accuracy (Precision@1) = 0.6380126262626263\n",
      "Epoch 74 Iteration 0: Loss = 0.4485414922237396\n"
     ]
    },
    {
     "name": "stderr",
     "output_type": "stream",
     "text": [
      "100%|█████████████████████████████████████████████████████████████████████████████████████████████████████| 295/295 [00:16<00:00, 18.07it/s]\n",
      "100%|███████████████████████████████████████████████████████████████████████████████████████████████████████| 74/74 [00:03<00:00, 19.82it/s]\n"
     ]
    },
    {
     "name": "stdout",
     "output_type": "stream",
     "text": [
      "Computing accuracy\n",
      "Test set accuracy (Precision@1) = 0.6367424242424242\n",
      "Epoch 75 Iteration 0: Loss = 0.3941263258457184\n"
     ]
    },
    {
     "name": "stderr",
     "output_type": "stream",
     "text": [
      "100%|█████████████████████████████████████████████████████████████████████████████████████████████████████| 295/295 [00:16<00:00, 18.40it/s]\n",
      "100%|███████████████████████████████████████████████████████████████████████████████████████████████████████| 74/74 [00:03<00:00, 19.96it/s]\n"
     ]
    },
    {
     "name": "stdout",
     "output_type": "stream",
     "text": [
      "Computing accuracy\n",
      "Test set accuracy (Precision@1) = 0.6436161616161618\n",
      "Epoch 76 Iteration 0: Loss = 0.37958717346191406\n"
     ]
    },
    {
     "name": "stderr",
     "output_type": "stream",
     "text": [
      "100%|█████████████████████████████████████████████████████████████████████████████████████████████████████| 295/295 [00:16<00:00, 18.38it/s]\n",
      "100%|███████████████████████████████████████████████████████████████████████████████████████████████████████| 74/74 [00:03<00:00, 19.88it/s]\n"
     ]
    },
    {
     "name": "stdout",
     "output_type": "stream",
     "text": [
      "Computing accuracy\n",
      "Test set accuracy (Precision@1) = 0.6443762626262626\n",
      "Epoch 77 Iteration 0: Loss = 0.41594183444976807\n"
     ]
    },
    {
     "name": "stderr",
     "output_type": "stream",
     "text": [
      "100%|█████████████████████████████████████████████████████████████████████████████████████████████████████| 295/295 [00:16<00:00, 18.44it/s]\n",
      "100%|███████████████████████████████████████████████████████████████████████████████████████████████████████| 74/74 [00:03<00:00, 19.90it/s]\n"
     ]
    },
    {
     "name": "stdout",
     "output_type": "stream",
     "text": [
      "Computing accuracy\n",
      "Test set accuracy (Precision@1) = 0.6440883838383838\n",
      "Epoch 78 Iteration 0: Loss = 0.43590906262397766\n"
     ]
    },
    {
     "name": "stderr",
     "output_type": "stream",
     "text": [
      "100%|█████████████████████████████████████████████████████████████████████████████████████████████████████| 295/295 [00:15<00:00, 18.48it/s]\n",
      "100%|███████████████████████████████████████████████████████████████████████████████████████████████████████| 74/74 [00:03<00:00, 19.45it/s]\n"
     ]
    },
    {
     "name": "stdout",
     "output_type": "stream",
     "text": [
      "Computing accuracy\n",
      "Test set accuracy (Precision@1) = 0.6505707070707071\n",
      "Epoch 79 Iteration 0: Loss = 0.4006633162498474\n"
     ]
    },
    {
     "name": "stderr",
     "output_type": "stream",
     "text": [
      "100%|█████████████████████████████████████████████████████████████████████████████████████████████████████| 295/295 [00:16<00:00, 18.20it/s]\n",
      "100%|███████████████████████████████████████████████████████████████████████████████████████████████████████| 74/74 [00:03<00:00, 19.95it/s]\n"
     ]
    },
    {
     "name": "stdout",
     "output_type": "stream",
     "text": [
      "Computing accuracy\n",
      "Test set accuracy (Precision@1) = 0.647689393939394\n",
      "Epoch 80 Iteration 0: Loss = 0.48572707176208496\n"
     ]
    },
    {
     "name": "stderr",
     "output_type": "stream",
     "text": [
      "100%|█████████████████████████████████████████████████████████████████████████████████████████████████████| 295/295 [00:15<00:00, 18.46it/s]\n",
      "100%|███████████████████████████████████████████████████████████████████████████████████████████████████████| 74/74 [00:03<00:00, 19.80it/s]\n"
     ]
    },
    {
     "name": "stdout",
     "output_type": "stream",
     "text": [
      "Computing accuracy\n",
      "Test set accuracy (Precision@1) = 0.6537613636363636\n",
      "Epoch 81 Iteration 0: Loss = 0.36085230112075806\n"
     ]
    },
    {
     "name": "stderr",
     "output_type": "stream",
     "text": [
      "100%|█████████████████████████████████████████████████████████████████████████████████████████████████████| 295/295 [00:15<00:00, 18.45it/s]\n",
      "100%|███████████████████████████████████████████████████████████████████████████████████████████████████████| 74/74 [00:03<00:00, 20.01it/s]\n"
     ]
    },
    {
     "name": "stdout",
     "output_type": "stream",
     "text": [
      "Computing accuracy\n",
      "Test set accuracy (Precision@1) = 0.6588661616161616\n",
      "Epoch 82 Iteration 0: Loss = 0.4250832200050354\n"
     ]
    },
    {
     "name": "stderr",
     "output_type": "stream",
     "text": [
      "100%|█████████████████████████████████████████████████████████████████████████████████████████████████████| 295/295 [00:16<00:00, 18.25it/s]\n",
      "100%|███████████████████████████████████████████████████████████████████████████████████████████████████████| 74/74 [00:03<00:00, 19.99it/s]\n"
     ]
    },
    {
     "name": "stdout",
     "output_type": "stream",
     "text": [
      "Computing accuracy\n",
      "Test set accuracy (Precision@1) = 0.653760101010101\n",
      "Epoch 83 Iteration 0: Loss = 0.348314106464386\n"
     ]
    },
    {
     "name": "stderr",
     "output_type": "stream",
     "text": [
      "100%|█████████████████████████████████████████████████████████████████████████████████████████████████████| 295/295 [00:15<00:00, 18.48it/s]\n",
      "100%|███████████████████████████████████████████████████████████████████████████████████████████████████████| 74/74 [00:03<00:00, 19.97it/s]\n"
     ]
    },
    {
     "name": "stdout",
     "output_type": "stream",
     "text": [
      "Computing accuracy\n",
      "Test set accuracy (Precision@1) = 0.6543737373737375\n",
      "Epoch 84 Iteration 0: Loss = 0.373850554227829\n"
     ]
    },
    {
     "name": "stderr",
     "output_type": "stream",
     "text": [
      "100%|█████████████████████████████████████████████████████████████████████████████████████████████████████| 295/295 [00:16<00:00, 18.12it/s]\n",
      "100%|███████████████████████████████████████████████████████████████████████████████████████████████████████| 74/74 [00:03<00:00, 19.70it/s]\n"
     ]
    },
    {
     "name": "stdout",
     "output_type": "stream",
     "text": [
      "Computing accuracy\n",
      "Test set accuracy (Precision@1) = 0.6514482323232323\n",
      "Epoch 85 Iteration 0: Loss = 0.35639533400535583\n"
     ]
    },
    {
     "name": "stderr",
     "output_type": "stream",
     "text": [
      "100%|█████████████████████████████████████████████████████████████████████████████████████████████████████| 295/295 [00:15<00:00, 18.46it/s]\n",
      "100%|███████████████████████████████████████████████████████████████████████████████████████████████████████| 74/74 [00:03<00:00, 19.88it/s]\n"
     ]
    },
    {
     "name": "stdout",
     "output_type": "stream",
     "text": [
      "Computing accuracy\n",
      "Test set accuracy (Precision@1) = 0.6451717171717172\n",
      "Epoch 86 Iteration 0: Loss = 0.3262161910533905\n"
     ]
    },
    {
     "name": "stderr",
     "output_type": "stream",
     "text": [
      "100%|█████████████████████████████████████████████████████████████████████████████████████████████████████| 295/295 [00:16<00:00, 18.39it/s]\n",
      "100%|███████████████████████████████████████████████████████████████████████████████████████████████████████| 74/74 [00:03<00:00, 19.98it/s]\n"
     ]
    },
    {
     "name": "stdout",
     "output_type": "stream",
     "text": [
      "Computing accuracy\n",
      "Test set accuracy (Precision@1) = 0.6570479797979798\n",
      "Epoch 87 Iteration 0: Loss = 0.43065229058265686\n"
     ]
    },
    {
     "name": "stderr",
     "output_type": "stream",
     "text": [
      "100%|█████████████████████████████████████████████████████████████████████████████████████████████████████| 295/295 [00:16<00:00, 18.42it/s]\n",
      "100%|███████████████████████████████████████████████████████████████████████████████████████████████████████| 74/74 [00:03<00:00, 19.88it/s]\n"
     ]
    },
    {
     "name": "stdout",
     "output_type": "stream",
     "text": [
      "Computing accuracy\n",
      "Test set accuracy (Precision@1) = 0.6593232323232323\n",
      "Epoch 88 Iteration 0: Loss = 0.3755558729171753\n"
     ]
    },
    {
     "name": "stderr",
     "output_type": "stream",
     "text": [
      "100%|█████████████████████████████████████████████████████████████████████████████████████████████████████| 295/295 [00:16<00:00, 18.43it/s]\n",
      "100%|███████████████████████████████████████████████████████████████████████████████████████████████████████| 74/74 [00:03<00:00, 19.82it/s]\n"
     ]
    },
    {
     "name": "stdout",
     "output_type": "stream",
     "text": [
      "Computing accuracy\n",
      "Test set accuracy (Precision@1) = 0.6505997474747475\n",
      "Epoch 89 Iteration 0: Loss = 0.3352122902870178\n"
     ]
    },
    {
     "name": "stderr",
     "output_type": "stream",
     "text": [
      "100%|█████████████████████████████████████████████████████████████████████████████████████████████████████| 295/295 [00:16<00:00, 18.17it/s]\n",
      "100%|███████████████████████████████████████████████████████████████████████████████████████████████████████| 74/74 [00:03<00:00, 19.78it/s]\n"
     ]
    },
    {
     "name": "stdout",
     "output_type": "stream",
     "text": [
      "Computing accuracy\n",
      "Test set accuracy (Precision@1) = 0.6543636363636364\n",
      "Epoch 90 Iteration 0: Loss = 0.417571485042572\n"
     ]
    },
    {
     "name": "stderr",
     "output_type": "stream",
     "text": [
      "100%|█████████████████████████████████████████████████████████████████████████████████████████████████████| 295/295 [00:15<00:00, 18.45it/s]\n",
      "100%|███████████████████████████████████████████████████████████████████████████████████████████████████████| 74/74 [00:03<00:00, 19.93it/s]\n"
     ]
    },
    {
     "name": "stdout",
     "output_type": "stream",
     "text": [
      "Computing accuracy\n",
      "Test set accuracy (Precision@1) = 0.6638737373737373\n",
      "Epoch 91 Iteration 0: Loss = 0.40814825892448425\n"
     ]
    },
    {
     "name": "stderr",
     "output_type": "stream",
     "text": [
      "100%|█████████████████████████████████████████████████████████████████████████████████████████████████████| 295/295 [00:16<00:00, 18.37it/s]\n",
      "100%|███████████████████████████████████████████████████████████████████████████████████████████████████████| 74/74 [00:03<00:00, 19.83it/s]\n"
     ]
    },
    {
     "name": "stdout",
     "output_type": "stream",
     "text": [
      "Computing accuracy\n",
      "Test set accuracy (Precision@1) = 0.6542310606060607\n",
      "Epoch 92 Iteration 0: Loss = 0.38806912302970886\n"
     ]
    },
    {
     "name": "stderr",
     "output_type": "stream",
     "text": [
      "100%|█████████████████████████████████████████████████████████████████████████████████████████████████████| 295/295 [00:16<00:00, 18.35it/s]\n",
      "100%|███████████████████████████████████████████████████████████████████████████████████████████████████████| 74/74 [00:03<00:00, 19.93it/s]\n"
     ]
    },
    {
     "name": "stdout",
     "output_type": "stream",
     "text": [
      "Computing accuracy\n",
      "Test set accuracy (Precision@1) = 0.648580808080808\n",
      "Epoch 93 Iteration 0: Loss = 0.34090152382850647\n"
     ]
    },
    {
     "name": "stderr",
     "output_type": "stream",
     "text": [
      "100%|█████████████████████████████████████████████████████████████████████████████████████████████████████| 295/295 [00:16<00:00, 18.39it/s]\n",
      "100%|███████████████████████████████████████████████████████████████████████████████████████████████████████| 74/74 [00:03<00:00, 19.84it/s]\n"
     ]
    },
    {
     "name": "stdout",
     "output_type": "stream",
     "text": [
      "Computing accuracy\n",
      "Test set accuracy (Precision@1) = 0.6678383838383838\n",
      "Epoch 94 Iteration 0: Loss = 0.43556928634643555\n"
     ]
    },
    {
     "name": "stderr",
     "output_type": "stream",
     "text": [
      "100%|█████████████████████████████████████████████████████████████████████████████████████████████████████| 295/295 [00:16<00:00, 18.04it/s]\n",
      "100%|███████████████████████████████████████████████████████████████████████████████████████████████████████| 74/74 [00:03<00:00, 19.90it/s]\n"
     ]
    },
    {
     "name": "stdout",
     "output_type": "stream",
     "text": [
      "Computing accuracy\n",
      "Test set accuracy (Precision@1) = 0.6624267676767677\n",
      "Epoch 95 Iteration 0: Loss = 0.36564162373542786\n"
     ]
    },
    {
     "name": "stderr",
     "output_type": "stream",
     "text": [
      "100%|█████████████████████████████████████████████████████████████████████████████████████████████████████| 295/295 [00:16<00:00, 18.41it/s]\n",
      "100%|███████████████████████████████████████████████████████████████████████████████████████████████████████| 74/74 [00:03<00:00, 20.22it/s]\n"
     ]
    },
    {
     "name": "stdout",
     "output_type": "stream",
     "text": [
      "Computing accuracy\n",
      "Test set accuracy (Precision@1) = 0.6644318181818182\n",
      "Epoch 96 Iteration 0: Loss = 0.4214148223400116\n"
     ]
    },
    {
     "name": "stderr",
     "output_type": "stream",
     "text": [
      "100%|█████████████████████████████████████████████████████████████████████████████████████████████████████| 295/295 [00:15<00:00, 18.44it/s]\n",
      "100%|███████████████████████████████████████████████████████████████████████████████████████████████████████| 74/74 [00:03<00:00, 19.73it/s]\n"
     ]
    },
    {
     "name": "stdout",
     "output_type": "stream",
     "text": [
      "Computing accuracy\n",
      "Test set accuracy (Precision@1) = 0.6600984848484848\n",
      "Epoch 97 Iteration 0: Loss = 0.4099520742893219\n"
     ]
    },
    {
     "name": "stderr",
     "output_type": "stream",
     "text": [
      "100%|█████████████████████████████████████████████████████████████████████████████████████████████████████| 295/295 [00:16<00:00, 18.39it/s]\n",
      "100%|███████████████████████████████████████████████████████████████████████████████████████████████████████| 74/74 [00:03<00:00, 19.91it/s]\n"
     ]
    },
    {
     "name": "stdout",
     "output_type": "stream",
     "text": [
      "Computing accuracy\n",
      "Test set accuracy (Precision@1) = 0.6651994949494949\n",
      "Epoch 98 Iteration 0: Loss = 0.3493466377258301\n"
     ]
    },
    {
     "name": "stderr",
     "output_type": "stream",
     "text": [
      "100%|█████████████████████████████████████████████████████████████████████████████████████████████████████| 295/295 [00:15<00:00, 18.44it/s]\n",
      "100%|███████████████████████████████████████████████████████████████████████████████████████████████████████| 74/74 [00:03<00:00, 19.94it/s]\n"
     ]
    },
    {
     "name": "stdout",
     "output_type": "stream",
     "text": [
      "Computing accuracy\n",
      "Test set accuracy (Precision@1) = 0.6674772727272728\n",
      "Epoch 99 Iteration 0: Loss = 0.33819282054901123\n"
     ]
    },
    {
     "name": "stderr",
     "output_type": "stream",
     "text": [
      "100%|█████████████████████████████████████████████████████████████████████████████████████████████████████| 295/295 [00:16<00:00, 18.14it/s]\n",
      "100%|███████████████████████████████████████████████████████████████████████████████████████████████████████| 74/74 [00:03<00:00, 19.89it/s]\n"
     ]
    },
    {
     "name": "stdout",
     "output_type": "stream",
     "text": [
      "Computing accuracy\n",
      "Test set accuracy (Precision@1) = 0.6606010101010102\n",
      "Epoch 100 Iteration 0: Loss = 0.3402010202407837\n"
     ]
    },
    {
     "name": "stderr",
     "output_type": "stream",
     "text": [
      "100%|█████████████████████████████████████████████████████████████████████████████████████████████████████| 295/295 [00:15<00:00, 18.48it/s]\n",
      "100%|███████████████████████████████████████████████████████████████████████████████████████████████████████| 74/74 [00:03<00:00, 20.09it/s]"
     ]
    },
    {
     "name": "stdout",
     "output_type": "stream",
     "text": [
      "Computing accuracy\n",
      "Test set accuracy (Precision@1) = 0.6538863636363635\n"
     ]
    },
    {
     "name": "stderr",
     "output_type": "stream",
     "text": [
      "\n"
     ]
    }
   ],
   "source": [
    "#total_loss = []\n",
    "#total_acc = []\n",
    "for epoch in range(1, num_epochs + 1):\n",
    "    train_loss = train(model, loss_func,mining_func, device, train_loader, optimizer, epoch)\n",
    "    #total_loss.extend(train_loss)\n",
    "    test_acc = test(train_dataset, test_dataset, model, accuracy_calculator)\n",
    "    #total_acc.append(test_acc)\n",
    "    wandb.log({\"test_accuracy\": test_acc, \"train_loss\": train_loss,'epoch':epoch})"
   ]
  },
  {
   "cell_type": "code",
   "execution_count": 25,
   "id": "f4e33826-711a-4780-b22f-8089e23719da",
   "metadata": {},
   "outputs": [],
   "source": [
    "torch.save(model,'models/cub_triplet_loss_epshn_resnet18_sgd_aug_200.pth')"
   ]
  },
  {
   "cell_type": "code",
   "execution_count": 19,
   "id": "8468f5a6-8c26-4f43-b780-898e6e6cbc12",
   "metadata": {
    "scrolled": true
   },
   "outputs": [],
   "source": [
    "model = torch.load('models/cub_triplet_loss_epshn_resnet18_sgd_aug_200.pth',map_location='cuda')"
   ]
  },
  {
   "cell_type": "code",
   "execution_count": 20,
   "id": "ee72491a-6daa-4df4-8905-9d237e26b24f",
   "metadata": {
    "scrolled": true
   },
   "outputs": [
    {
     "data": {
      "text/plain": [
       "ResNetFeatrueExtractor18(\n",
       "  (conv1): Conv2d(3, 64, kernel_size=(7, 7), stride=(2, 2), padding=(3, 3), bias=False)\n",
       "  (bn1): BatchNorm2d(64, eps=1e-05, momentum=0.1, affine=True, track_running_stats=True)\n",
       "  (relu): ReLU(inplace=True)\n",
       "  (maxpool): MaxPool2d(kernel_size=3, stride=2, padding=1, dilation=1, ceil_mode=False)\n",
       "  (layer1): Sequential(\n",
       "    (0): BasicBlock(\n",
       "      (conv1): Conv2d(64, 64, kernel_size=(3, 3), stride=(1, 1), padding=(1, 1), bias=False)\n",
       "      (bn1): BatchNorm2d(64, eps=1e-05, momentum=0.1, affine=True, track_running_stats=True)\n",
       "      (relu): ReLU(inplace=True)\n",
       "      (conv2): Conv2d(64, 64, kernel_size=(3, 3), stride=(1, 1), padding=(1, 1), bias=False)\n",
       "      (bn2): BatchNorm2d(64, eps=1e-05, momentum=0.1, affine=True, track_running_stats=True)\n",
       "    )\n",
       "    (1): BasicBlock(\n",
       "      (conv1): Conv2d(64, 64, kernel_size=(3, 3), stride=(1, 1), padding=(1, 1), bias=False)\n",
       "      (bn1): BatchNorm2d(64, eps=1e-05, momentum=0.1, affine=True, track_running_stats=True)\n",
       "      (relu): ReLU(inplace=True)\n",
       "      (conv2): Conv2d(64, 64, kernel_size=(3, 3), stride=(1, 1), padding=(1, 1), bias=False)\n",
       "      (bn2): BatchNorm2d(64, eps=1e-05, momentum=0.1, affine=True, track_running_stats=True)\n",
       "    )\n",
       "  )\n",
       "  (layer2): Sequential(\n",
       "    (0): BasicBlock(\n",
       "      (conv1): Conv2d(64, 128, kernel_size=(3, 3), stride=(2, 2), padding=(1, 1), bias=False)\n",
       "      (bn1): BatchNorm2d(128, eps=1e-05, momentum=0.1, affine=True, track_running_stats=True)\n",
       "      (relu): ReLU(inplace=True)\n",
       "      (conv2): Conv2d(128, 128, kernel_size=(3, 3), stride=(1, 1), padding=(1, 1), bias=False)\n",
       "      (bn2): BatchNorm2d(128, eps=1e-05, momentum=0.1, affine=True, track_running_stats=True)\n",
       "      (downsample): Sequential(\n",
       "        (0): Conv2d(64, 128, kernel_size=(1, 1), stride=(2, 2), bias=False)\n",
       "        (1): BatchNorm2d(128, eps=1e-05, momentum=0.1, affine=True, track_running_stats=True)\n",
       "      )\n",
       "    )\n",
       "    (1): BasicBlock(\n",
       "      (conv1): Conv2d(128, 128, kernel_size=(3, 3), stride=(1, 1), padding=(1, 1), bias=False)\n",
       "      (bn1): BatchNorm2d(128, eps=1e-05, momentum=0.1, affine=True, track_running_stats=True)\n",
       "      (relu): ReLU(inplace=True)\n",
       "      (conv2): Conv2d(128, 128, kernel_size=(3, 3), stride=(1, 1), padding=(1, 1), bias=False)\n",
       "      (bn2): BatchNorm2d(128, eps=1e-05, momentum=0.1, affine=True, track_running_stats=True)\n",
       "    )\n",
       "  )\n",
       "  (layer3): Sequential(\n",
       "    (0): BasicBlock(\n",
       "      (conv1): Conv2d(128, 256, kernel_size=(3, 3), stride=(2, 2), padding=(1, 1), bias=False)\n",
       "      (bn1): BatchNorm2d(256, eps=1e-05, momentum=0.1, affine=True, track_running_stats=True)\n",
       "      (relu): ReLU(inplace=True)\n",
       "      (conv2): Conv2d(256, 256, kernel_size=(3, 3), stride=(1, 1), padding=(1, 1), bias=False)\n",
       "      (bn2): BatchNorm2d(256, eps=1e-05, momentum=0.1, affine=True, track_running_stats=True)\n",
       "      (downsample): Sequential(\n",
       "        (0): Conv2d(128, 256, kernel_size=(1, 1), stride=(2, 2), bias=False)\n",
       "        (1): BatchNorm2d(256, eps=1e-05, momentum=0.1, affine=True, track_running_stats=True)\n",
       "      )\n",
       "    )\n",
       "    (1): BasicBlock(\n",
       "      (conv1): Conv2d(256, 256, kernel_size=(3, 3), stride=(1, 1), padding=(1, 1), bias=False)\n",
       "      (bn1): BatchNorm2d(256, eps=1e-05, momentum=0.1, affine=True, track_running_stats=True)\n",
       "      (relu): ReLU(inplace=True)\n",
       "      (conv2): Conv2d(256, 256, kernel_size=(3, 3), stride=(1, 1), padding=(1, 1), bias=False)\n",
       "      (bn2): BatchNorm2d(256, eps=1e-05, momentum=0.1, affine=True, track_running_stats=True)\n",
       "    )\n",
       "  )\n",
       "  (layer4): Sequential(\n",
       "    (0): BasicBlock(\n",
       "      (conv1): Conv2d(256, 512, kernel_size=(3, 3), stride=(2, 2), padding=(1, 1), bias=False)\n",
       "      (bn1): BatchNorm2d(512, eps=1e-05, momentum=0.1, affine=True, track_running_stats=True)\n",
       "      (relu): ReLU(inplace=True)\n",
       "      (conv2): Conv2d(512, 512, kernel_size=(3, 3), stride=(1, 1), padding=(1, 1), bias=False)\n",
       "      (bn2): BatchNorm2d(512, eps=1e-05, momentum=0.1, affine=True, track_running_stats=True)\n",
       "      (downsample): Sequential(\n",
       "        (0): Conv2d(256, 512, kernel_size=(1, 1), stride=(2, 2), bias=False)\n",
       "        (1): BatchNorm2d(512, eps=1e-05, momentum=0.1, affine=True, track_running_stats=True)\n",
       "      )\n",
       "    )\n",
       "    (1): BasicBlock(\n",
       "      (conv1): Conv2d(512, 512, kernel_size=(3, 3), stride=(1, 1), padding=(1, 1), bias=False)\n",
       "      (bn1): BatchNorm2d(512, eps=1e-05, momentum=0.1, affine=True, track_running_stats=True)\n",
       "      (relu): ReLU(inplace=True)\n",
       "      (conv2): Conv2d(512, 512, kernel_size=(3, 3), stride=(1, 1), padding=(1, 1), bias=False)\n",
       "      (bn2): BatchNorm2d(512, eps=1e-05, momentum=0.1, affine=True, track_running_stats=True)\n",
       "    )\n",
       "  )\n",
       "  (avgpool): AdaptiveAvgPool2d(output_size=(1, 1))\n",
       "  (fc1): Linear(in_features=512, out_features=128, bias=True)\n",
       ")"
      ]
     },
     "execution_count": 20,
     "metadata": {},
     "output_type": "execute_result"
    }
   ],
   "source": [
    "model.eval()"
   ]
  },
  {
   "cell_type": "code",
   "execution_count": 21,
   "id": "c99fe1cb-ce19-41bf-bb1d-658c8b1b89d9",
   "metadata": {},
   "outputs": [],
   "source": [
    "from pytorch_metric_learning.distances import LpDistance,CosineSimilarity\n",
    "from pytorch_metric_learning.utils.inference import CustomKNN\n",
    "knn_func = CustomKNN(CosineSimilarity())\n",
    "accuracy_calculator = AccuracyCalculator(include=(\"precision_at_1\",),k=1,knn_func=knn_func,avg_of_avgs=False,return_per_class=True)\n",
    "#test(train_dataset, test_dataset, model, accuracy_calculator)"
   ]
  },
  {
   "cell_type": "code",
   "execution_count": 22,
   "id": "248f5f10-0423-47bf-a7b1-83de1a863c7f",
   "metadata": {},
   "outputs": [
    {
     "name": "stderr",
     "output_type": "stream",
     "text": [
      "100%|█████████████████████████████████████████████████████████████████████████████████████████████████████| 295/295 [00:44<00:00,  6.70it/s]\n",
      "100%|███████████████████████████████████████████████████████████████████████████████████████████████████████| 74/74 [00:10<00:00,  7.24it/s]\n"
     ]
    }
   ],
   "source": [
    "train_embeddings, train_labels = get_all_embeddings(train_dataset, model)\n",
    "test_embeddings, test_labels = get_all_embeddings(test_dataset, model)\n",
    "train_labels = train_labels.squeeze(1)\n",
    "test_labels = test_labels.squeeze(1)"
   ]
  },
  {
   "cell_type": "code",
   "execution_count": 23,
   "id": "eba43667-c551-46c0-93aa-dbcf38f695f7",
   "metadata": {},
   "outputs": [
    {
     "name": "stdout",
     "output_type": "stream",
     "text": [
      "{'precision_at_1': [0.9166666666666666, 0.6666666666666666, 0.8333333333333334, 0.8333333333333334, 0.7777777777777778, 0.875, 1.0, 0.6666666666666666, 0.25, 0.75, 0.5833333333333334, 1.0, 0.75, 0.75, 0.7272727272727273, 0.6363636363636364, 0.8181818181818182, 1.0, 0.75, 0.5, 1.0, 0.5454545454545454, 0.3333333333333333, 0.8, 0.5, 0.6666666666666666, 0.25, 1.0, 0.25, 0.25, 0.5833333333333334, 0.5, 0.8333333333333334, 0.75, 0.9166666666666666, 0.6666666666666666, 0.3333333333333333, 0.9166666666666666, 0.5, 0.5, 0.9166666666666666, 0.9166666666666666, 0.16666666666666666, 0.75, 0.5, 0.9166666666666666, 0.8333333333333334, 0.9166666666666666, 0.4166666666666667, 0.75, 0.75, 0.6666666666666666, 0.9166666666666666, 0.6666666666666666, 1.0, 0.8333333333333334, 1.0, 0.75, 0.4166666666666667, 0.4166666666666667, 0.8333333333333334, 0.25, 0.9166666666666666, 0.25, 0.2, 0.5833333333333334, 0.4166666666666667, 0.8333333333333334, 0.75, 0.9166666666666666, 0.4166666666666667, 0.3333333333333333, 0.8333333333333334, 0.8333333333333334, 0.8181818181818182, 1.0, 1.0, 0.5833333333333334, 0.75, 0.6666666666666666, 0.9166666666666666, 0.75, 0.8333333333333334, 0.7, 0.8333333333333334, 0.8333333333333334, 0.9166666666666666, 0.9166666666666666, 0.9166666666666666, 0.9166666666666666, 0.16666666666666666, 0.5, 0.8333333333333334, 0.9166666666666666, 0.6666666666666666, 1.0, 0.5, 0.75, 0.75, 1.0, 0.9, 0.5833333333333334, 0.5, 0.5, 0.4, 0.9166666666666666, 0.5, 0.4166666666666667, 0.8333333333333334, 0.9166666666666666, 0.4166666666666667, 0.4166666666666667, 0.3, 0.9166666666666666, 0.5833333333333334, 0.75, 0.5, 0.3333333333333333, 0.6666666666666666, 0.75, 0.25, 0.6666666666666666, 0.5833333333333334, 0.6666666666666666, 0.3333333333333333, 0.5833333333333334, 0.25, 0.75, 0.3333333333333333, 0.6666666666666666, 0.6666666666666666, 0.6666666666666666, 0.6666666666666666, 0.8333333333333334, 0.5833333333333334, 0.6666666666666666, 0.5, 0.6666666666666666, 0.8333333333333334, 0.75, 0.9090909090909091, 0.25, 0.5, 0.3333333333333333, 0.16666666666666666, 0.5, 0.8333333333333334, 0.6666666666666666, 0.5833333333333334, 0.5, 0.7, 0.5, 0.5, 0.75, 0.3333333333333333, 0.6666666666666666, 0.3333333333333333, 0.9166666666666666, 0.9166666666666666, 0.75, 0.6666666666666666, 0.4166666666666667, 0.75, 0.9166666666666666, 0.8333333333333334, 0.75, 0.75, 0.8333333333333334, 0.9166666666666666, 0.6666666666666666, 0.8333333333333334, 0.75, 0.5833333333333334, 0.4166666666666667, 0.6666666666666666, 0.8333333333333334, 0.6666666666666666, 0.45454545454545453, 0.25, 0.75, 0.75, 0.6666666666666666, 0.8333333333333334, 0.5, 0.6666666666666666, 0.9166666666666666, 0.9, 0.8333333333333334, 1.0, 0.8181818181818182, 0.75, 1.0, 0.5, 0.9166666666666666, 0.6666666666666666, 0.5, 0.75, 0.9166666666666666, 0.8333333333333334, 0.8333333333333334]}\n"
     ]
    }
   ],
   "source": [
    "accuracies = accuracy_calculator.get_accuracy(\n",
    "        test_embeddings, test_labels, train_embeddings, train_labels)\n",
    "print(accuracies)"
   ]
  },
  {
   "cell_type": "code",
   "execution_count": 24,
   "id": "66e97839-85a9-4d96-80f3-1c29e80ccf81",
   "metadata": {},
   "outputs": [],
   "source": [
    "data_dict = {v:k for k,v in class_dict.items()}"
   ]
  },
  {
   "cell_type": "code",
   "execution_count": 25,
   "id": "a0bbe361-a4e0-4ff3-a62d-4abc0aea8099",
   "metadata": {},
   "outputs": [
    {
     "name": "stdout",
     "output_type": "stream",
     "text": [
      "001.Black_footed_Albatross     test samples 12   , training samples 48   : [0.9166666666666666]\n",
      "002.Laysan_Albatross           test samples 12   , training samples 48   : [0.6666666666666666]\n",
      "003.Sooty_Albatross            test samples 12   , training samples 46   : [0.8333333333333334]\n",
      "004.Groove_billed_Ani          test samples 12   , training samples 48   : [0.8333333333333334]\n",
      "005.Crested_Auklet             test samples 9    , training samples 35   : [0.7777777777777778]\n",
      "006.Least_Auklet               test samples 8    , training samples 33   : [0.875]\n",
      "007.Parakeet_Auklet            test samples 10   , training samples 43   : [1.0]\n",
      "008.Rhinoceros_Auklet          test samples 9    , training samples 39   : [0.6666666666666666]\n",
      "009.Brewer_Blackbird           test samples 12   , training samples 47   : [0.25]\n",
      "010.Red_winged_Blackbird       test samples 12   , training samples 48   : [0.75]\n",
      "011.Rusty_Blackbird            test samples 12   , training samples 48   : [0.5833333333333334]\n",
      "012.Yellow_headed_Blackbird    test samples 11   , training samples 45   : [1.0]\n",
      "013.Bobolink                   test samples 12   , training samples 48   : [0.75]\n",
      "014.Indigo_Bunting             test samples 12   , training samples 48   : [0.75]\n",
      "015.Lazuli_Bunting             test samples 11   , training samples 47   : [0.7272727272727273]\n",
      "016.Painted_Bunting            test samples 11   , training samples 47   : [0.6363636363636364]\n",
      "017.Cardinal                   test samples 11   , training samples 46   : [0.8181818181818182]\n",
      "018.Spotted_Catbird            test samples 9    , training samples 36   : [1.0]\n",
      "019.Gray_Catbird               test samples 12   , training samples 47   : [0.75]\n",
      "020.Yellow_breasted_Chat       test samples 12   , training samples 47   : [0.5]\n",
      "021.Eastern_Towhee             test samples 12   , training samples 48   : [1.0]\n",
      "022.Chuck_will_Widow           test samples 11   , training samples 45   : [0.5454545454545454]\n",
      "023.Brandt_Cormorant           test samples 12   , training samples 47   : [0.3333333333333333]\n",
      "024.Red_faced_Cormorant        test samples 10   , training samples 42   : [0.8]\n",
      "025.Pelagic_Cormorant          test samples 12   , training samples 48   : [0.5]\n",
      "026.Bronzed_Cowbird            test samples 12   , training samples 48   : [0.6666666666666666]\n",
      "027.Shiny_Cowbird              test samples 12   , training samples 48   : [0.25]\n",
      "028.Brown_Creeper              test samples 12   , training samples 47   : [1.0]\n",
      "029.American_Crow              test samples 12   , training samples 48   : [0.25]\n",
      "030.Fish_Crow                  test samples 12   , training samples 48   : [0.25]\n",
      "031.Black_billed_Cuckoo        test samples 12   , training samples 48   : [0.5833333333333334]\n",
      "032.Mangrove_Cuckoo            test samples 10   , training samples 43   : [0.5]\n",
      "033.Yellow_billed_Cuckoo       test samples 12   , training samples 47   : [0.8333333333333334]\n",
      "034.Gray_crowned_Rosy_Finch    test samples 12   , training samples 47   : [0.75]\n",
      "035.Purple_Finch               test samples 12   , training samples 48   : [0.9166666666666666]\n",
      "036.Northern_Flicker           test samples 12   , training samples 48   : [0.6666666666666666]\n",
      "037.Acadian_Flycatcher         test samples 12   , training samples 47   : [0.3333333333333333]\n",
      "038.Great_Crested_Flycatcher   test samples 12   , training samples 48   : [0.9166666666666666]\n",
      "039.Least_Flycatcher           test samples 12   , training samples 47   : [0.5]\n",
      "040.Olive_sided_Flycatcher     test samples 12   , training samples 48   : [0.5]\n",
      "041.Scissor_tailed_Flycatcher  test samples 12   , training samples 48   : [0.9166666666666666]\n",
      "042.Vermilion_Flycatcher       test samples 12   , training samples 48   : [0.9166666666666666]\n",
      "043.Yellow_bellied_Flycatcher  test samples 12   , training samples 47   : [0.16666666666666666]\n",
      "044.Frigatebird                test samples 12   , training samples 48   : [0.75]\n",
      "045.Northern_Fulmar            test samples 12   , training samples 48   : [0.5]\n",
      "046.Gadwall                    test samples 12   , training samples 48   : [0.9166666666666666]\n",
      "047.American_Goldfinch         test samples 12   , training samples 48   : [0.8333333333333334]\n",
      "048.European_Goldfinch         test samples 12   , training samples 48   : [0.9166666666666666]\n",
      "049.Boat_tailed_Grackle        test samples 12   , training samples 48   : [0.4166666666666667]\n",
      "050.Eared_Grebe                test samples 12   , training samples 48   : [0.75]\n",
      "051.Horned_Grebe               test samples 12   , training samples 48   : [0.75]\n",
      "052.Pied_billed_Grebe          test samples 12   , training samples 48   : [0.6666666666666666]\n",
      "053.Western_Grebe              test samples 12   , training samples 48   : [0.9166666666666666]\n",
      "054.Blue_Grosbeak              test samples 12   , training samples 48   : [0.6666666666666666]\n",
      "055.Evening_Grosbeak           test samples 12   , training samples 48   : [1.0]\n",
      "056.Pine_Grosbeak              test samples 12   , training samples 48   : [0.8333333333333334]\n",
      "057.Rose_breasted_Grosbeak     test samples 12   , training samples 48   : [1.0]\n",
      "058.Pigeon_Guillemot           test samples 12   , training samples 46   : [0.75]\n",
      "059.California_Gull            test samples 12   , training samples 48   : [0.4166666666666667]\n",
      "060.Glaucous_winged_Gull       test samples 12   , training samples 47   : [0.4166666666666667]\n",
      "061.Heermann_Gull              test samples 12   , training samples 48   : [0.8333333333333334]\n",
      "062.Herring_Gull               test samples 12   , training samples 48   : [0.25]\n",
      "063.Ivory_Gull                 test samples 12   , training samples 48   : [0.9166666666666666]\n",
      "064.Ring_billed_Gull           test samples 12   , training samples 48   : [0.25]\n",
      "065.Slaty_backed_Gull          test samples 10   , training samples 40   : [0.2]\n",
      "066.Western_Gull               test samples 12   , training samples 48   : [0.5833333333333334]\n",
      "067.Anna_Hummingbird           test samples 12   , training samples 48   : [0.4166666666666667]\n",
      "068.Ruby_throated_Hummingbird  test samples 12   , training samples 48   : [0.8333333333333334]\n",
      "069.Rufous_Hummingbird         test samples 12   , training samples 48   : [0.75]\n",
      "070.Green_Violetear            test samples 12   , training samples 48   : [0.9166666666666666]\n",
      "071.Long_tailed_Jaeger         test samples 12   , training samples 48   : [0.4166666666666667]\n",
      "072.Pomarine_Jaeger            test samples 12   , training samples 48   : [0.3333333333333333]\n",
      "073.Blue_Jay                   test samples 12   , training samples 48   : [0.8333333333333334]\n",
      "074.Florida_Jay                test samples 12   , training samples 48   : [0.8333333333333334]\n",
      "075.Green_Jay                  test samples 11   , training samples 46   : [0.8181818181818182]\n",
      "076.Dark_eyed_Junco            test samples 12   , training samples 48   : [1.0]\n",
      "077.Tropical_Kingbird          test samples 12   , training samples 48   : [1.0]\n",
      "078.Gray_Kingbird              test samples 12   , training samples 47   : [0.5833333333333334]\n",
      "079.Belted_Kingfisher          test samples 12   , training samples 48   : [0.75]\n",
      "080.Green_Kingfisher           test samples 12   , training samples 48   : [0.6666666666666666]\n",
      "081.Pied_Kingfisher            test samples 12   , training samples 48   : [0.9166666666666666]\n",
      "082.Ringed_Kingfisher          test samples 12   , training samples 48   : [0.75]\n",
      "083.White_breasted_Kingfisher  test samples 12   , training samples 48   : [0.8333333333333334]\n",
      "084.Red_legged_Kittiwake       test samples 10   , training samples 43   : [0.7]\n",
      "085.Horned_Lark                test samples 12   , training samples 48   : [0.8333333333333334]\n",
      "086.Pacific_Loon               test samples 12   , training samples 48   : [0.8333333333333334]\n",
      "087.Mallard                    test samples 12   , training samples 48   : [0.9166666666666666]\n",
      "088.Western_Meadowlark         test samples 12   , training samples 48   : [0.9166666666666666]\n",
      "089.Hooded_Merganser           test samples 12   , training samples 48   : [0.9166666666666666]\n",
      "090.Red_breasted_Merganser     test samples 12   , training samples 48   : [0.9166666666666666]\n",
      "091.Mockingbird                test samples 12   , training samples 48   : [0.16666666666666666]\n",
      "092.Nighthawk                  test samples 12   , training samples 48   : [0.5]\n",
      "093.Clark_Nutcracker           test samples 12   , training samples 48   : [0.8333333333333334]\n",
      "094.White_breasted_Nuthatch    test samples 12   , training samples 48   : [0.9166666666666666]\n",
      "095.Baltimore_Oriole           test samples 12   , training samples 48   : [0.6666666666666666]\n",
      "096.Hooded_Oriole              test samples 12   , training samples 48   : [1.0]\n",
      "097.Orchard_Oriole             test samples 12   , training samples 47   : [0.5]\n",
      "098.Scott_Oriole               test samples 12   , training samples 48   : [0.75]\n",
      "099.Ovenbird                   test samples 12   , training samples 48   : [0.75]\n",
      "100.Brown_Pelican              test samples 12   , training samples 48   : [1.0]\n",
      "101.White_Pelican              test samples 10   , training samples 40   : [0.9]\n",
      "102.Western_Wood_Pewee         test samples 12   , training samples 48   : [0.5833333333333334]\n",
      "103.Sayornis                   test samples 12   , training samples 48   : [0.5]\n",
      "104.American_Pipit             test samples 12   , training samples 48   : [0.5]\n",
      "105.Whip_poor_Will             test samples 10   , training samples 39   : [0.4]\n",
      "106.Horned_Puffin              test samples 12   , training samples 48   : [0.9166666666666666]\n",
      "107.Common_Raven               test samples 12   , training samples 47   : [0.5]\n",
      "108.White_necked_Raven         test samples 12   , training samples 48   : [0.4166666666666667]\n",
      "109.American_Redstart          test samples 12   , training samples 48   : [0.8333333333333334]\n",
      "110.Geococcyx                  test samples 12   , training samples 48   : [0.9166666666666666]\n",
      "111.Loggerhead_Shrike          test samples 12   , training samples 48   : [0.4166666666666667]\n",
      "112.Great_Grey_Shrike          test samples 12   , training samples 48   : [0.4166666666666667]\n",
      "113.Baird_Sparrow              test samples 10   , training samples 40   : [0.3]\n",
      "114.Black_throated_Sparrow     test samples 12   , training samples 48   : [0.9166666666666666]\n",
      "115.Brewer_Sparrow             test samples 12   , training samples 47   : [0.5833333333333334]\n",
      "116.Chipping_Sparrow           test samples 12   , training samples 48   : [0.75]\n",
      "117.Clay_colored_Sparrow       test samples 12   , training samples 47   : [0.5]\n",
      "118.House_Sparrow              test samples 12   , training samples 48   : [0.3333333333333333]\n",
      "119.Field_Sparrow              test samples 12   , training samples 47   : [0.6666666666666666]\n",
      "120.Fox_Sparrow                test samples 12   , training samples 48   : [0.75]\n",
      "121.Grasshopper_Sparrow        test samples 12   , training samples 48   : [0.25]\n",
      "122.Harris_Sparrow             test samples 12   , training samples 48   : [0.6666666666666666]\n",
      "123.Henslow_Sparrow            test samples 12   , training samples 48   : [0.5833333333333334]\n",
      "124.Le_Conte_Sparrow           test samples 12   , training samples 47   : [0.6666666666666666]\n",
      "125.Lincoln_Sparrow            test samples 12   , training samples 47   : [0.3333333333333333]\n",
      "126.Nelson_Sharp_tailed_Sparrow test samples 12   , training samples 47   : [0.5833333333333334]\n",
      "127.Savannah_Sparrow           test samples 12   , training samples 48   : [0.25]\n",
      "128.Seaside_Sparrow            test samples 12   , training samples 48   : [0.75]\n",
      "129.Song_Sparrow               test samples 12   , training samples 48   : [0.3333333333333333]\n",
      "130.Tree_Sparrow               test samples 12   , training samples 48   : [0.6666666666666666]\n",
      "131.Vesper_Sparrow             test samples 12   , training samples 48   : [0.6666666666666666]\n",
      "132.White_crowned_Sparrow      test samples 12   , training samples 48   : [0.6666666666666666]\n",
      "133.White_throated_Sparrow     test samples 12   , training samples 48   : [0.6666666666666666]\n",
      "134.Cape_Glossy_Starling       test samples 12   , training samples 48   : [0.8333333333333334]\n",
      "135.Bank_Swallow               test samples 12   , training samples 47   : [0.5833333333333334]\n",
      "136.Barn_Swallow               test samples 12   , training samples 48   : [0.6666666666666666]\n",
      "137.Cliff_Swallow              test samples 12   , training samples 48   : [0.5]\n",
      "138.Tree_Swallow               test samples 12   , training samples 48   : [0.6666666666666666]\n",
      "139.Scarlet_Tanager            test samples 12   , training samples 48   : [0.8333333333333334]\n",
      "140.Summer_Tanager             test samples 12   , training samples 48   : [0.75]\n",
      "141.Artic_Tern                 test samples 11   , training samples 47   : [0.9090909090909091]\n",
      "142.Black_Tern                 test samples 12   , training samples 48   : [0.25]\n",
      "143.Caspian_Tern               test samples 12   , training samples 48   : [0.5]\n",
      "144.Common_Tern                test samples 12   , training samples 48   : [0.3333333333333333]\n",
      "145.Elegant_Tern               test samples 12   , training samples 48   : [0.16666666666666666]\n",
      "146.Forsters_Tern              test samples 12   , training samples 48   : [0.5]\n",
      "147.Least_Tern                 test samples 12   , training samples 48   : [0.8333333333333334]\n",
      "148.Green_tailed_Towhee        test samples 12   , training samples 48   : [0.6666666666666666]\n",
      "149.Brown_Thrasher             test samples 12   , training samples 47   : [0.5833333333333334]\n",
      "150.Sage_Thrasher              test samples 12   , training samples 48   : [0.5]\n",
      "151.Black_capped_Vireo         test samples 10   , training samples 41   : [0.7]\n",
      "152.Blue_headed_Vireo          test samples 12   , training samples 48   : [0.5]\n",
      "153.Philadelphia_Vireo         test samples 12   , training samples 47   : [0.5]\n",
      "154.Red_eyed_Vireo             test samples 12   , training samples 48   : [0.75]\n",
      "155.Warbling_Vireo             test samples 12   , training samples 48   : [0.3333333333333333]\n",
      "156.White_eyed_Vireo           test samples 12   , training samples 48   : [0.6666666666666666]\n",
      "157.Yellow_throated_Vireo      test samples 12   , training samples 47   : [0.3333333333333333]\n",
      "158.Bay_breasted_Warbler       test samples 12   , training samples 48   : [0.9166666666666666]\n",
      "159.Black_and_white_Warbler    test samples 12   , training samples 48   : [0.9166666666666666]\n",
      "160.Black_throated_Blue_Warbler test samples 12   , training samples 47   : [0.75]\n",
      "161.Blue_winged_Warbler        test samples 12   , training samples 48   : [0.6666666666666666]\n",
      "162.Canada_Warbler             test samples 12   , training samples 48   : [0.4166666666666667]\n",
      "163.Cape_May_Warbler           test samples 12   , training samples 48   : [0.75]\n",
      "164.Cerulean_Warbler           test samples 12   , training samples 48   : [0.9166666666666666]\n",
      "165.Chestnut_sided_Warbler     test samples 12   , training samples 48   : [0.8333333333333334]\n",
      "166.Golden_winged_Warbler      test samples 12   , training samples 47   : [0.75]\n",
      "167.Hooded_Warbler             test samples 12   , training samples 48   : [0.75]\n",
      "168.Kentucky_Warbler           test samples 12   , training samples 47   : [0.8333333333333334]\n",
      "169.Magnolia_Warbler           test samples 12   , training samples 47   : [0.9166666666666666]\n",
      "170.Mourning_Warbler           test samples 12   , training samples 48   : [0.6666666666666666]\n",
      "171.Myrtle_Warbler             test samples 12   , training samples 48   : [0.8333333333333334]\n",
      "172.Nashville_Warbler          test samples 12   , training samples 48   : [0.75]\n",
      "173.Orange_crowned_Warbler     test samples 12   , training samples 48   : [0.5833333333333334]\n",
      "174.Palm_Warbler               test samples 12   , training samples 48   : [0.4166666666666667]\n",
      "175.Pine_Warbler               test samples 12   , training samples 48   : [0.6666666666666666]\n",
      "176.Prairie_Warbler            test samples 12   , training samples 48   : [0.8333333333333334]\n",
      "177.Prothonotary_Warbler       test samples 12   , training samples 48   : [0.6666666666666666]\n",
      "178.Swainson_Warbler           test samples 11   , training samples 45   : [0.45454545454545453]\n",
      "179.Tennessee_Warbler          test samples 12   , training samples 47   : [0.25]\n",
      "180.Wilson_Warbler             test samples 12   , training samples 48   : [0.75]\n",
      "181.Worm_eating_Warbler        test samples 12   , training samples 47   : [0.75]\n",
      "182.Yellow_Warbler             test samples 12   , training samples 48   : [0.6666666666666666]\n",
      "183.Northern_Waterthrush       test samples 12   , training samples 48   : [0.8333333333333334]\n",
      "184.Louisiana_Waterthrush      test samples 12   , training samples 48   : [0.5]\n",
      "185.Bohemian_Waxwing           test samples 12   , training samples 48   : [0.6666666666666666]\n",
      "186.Cedar_Waxwing              test samples 12   , training samples 48   : [0.9166666666666666]\n",
      "187.American_Three_toed_Woodpecker test samples 10   , training samples 40   : [0.9]\n",
      "188.Pileated_Woodpecker        test samples 12   , training samples 48   : [0.8333333333333334]\n",
      "189.Red_bellied_Woodpecker     test samples 12   , training samples 48   : [1.0]\n",
      "190.Red_cockaded_Woodpecker    test samples 11   , training samples 47   : [0.8181818181818182]\n",
      "191.Red_headed_Woodpecker      test samples 12   , training samples 48   : [0.75]\n",
      "192.Downy_Woodpecker           test samples 12   , training samples 48   : [1.0]\n",
      "193.Bewick_Wren                test samples 12   , training samples 48   : [0.5]\n",
      "194.Cactus_Wren                test samples 12   , training samples 48   : [0.9166666666666666]\n",
      "195.Carolina_Wren              test samples 12   , training samples 48   : [0.6666666666666666]\n",
      "196.House_Wren                 test samples 12   , training samples 47   : [0.5]\n",
      "197.Marsh_Wren                 test samples 12   , training samples 48   : [0.75]\n",
      "198.Rock_Wren                  test samples 12   , training samples 48   : [0.9166666666666666]\n",
      "199.Winter_Wren                test samples 12   , training samples 48   : [0.8333333333333334]\n",
      "200.Common_Yellowthroat        test samples 12   , training samples 48   : [0.8333333333333334]\n"
     ]
    }
   ],
   "source": [
    "acc_dict = {}\n",
    "for i in test_labels.unique():\n",
    "    new_labels = test_labels[test_labels==i]\n",
    "    new_embeddings = test_embeddings[test_labels==i]\n",
    "    accuracies = accuracy_calculator.get_accuracy(\n",
    "        new_embeddings, new_labels, train_embeddings, train_labels, False\n",
    "    )\n",
    "    acc_dict[data_dict[int(i.detach().cpu().numpy())]]=[ \n",
    "                  len(new_labels),\n",
    "                  len(train_labels[train_labels==i]),\n",
    "                  accuracies[\"precision_at_1\"][0]]\n",
    "    print(\"{:<30} test samples {:<5}, training samples {:<5}: {}\".format(data_dict[int(i.detach().cpu().numpy())],\n",
    "                                                                  len(new_labels),\n",
    "                                                                  len(train_labels[train_labels==i]),\n",
    "                                                                  accuracies[\"precision_at_1\"]))"
   ]
  },
  {
   "cell_type": "code",
   "execution_count": 27,
   "id": "971a3f40-43ba-47d0-b313-b6f86dd13d81",
   "metadata": {},
   "outputs": [],
   "source": [
    "all_table = [[k]+v for k,v in acc_dict.items()]"
   ]
  },
  {
   "cell_type": "code",
   "execution_count": 28,
   "id": "c4d9d6d7-2f79-410e-9e8d-b03d5df6092d",
   "metadata": {},
   "outputs": [],
   "source": [
    "columns = [\"class_name\", \"no. of test samples\", \"no. of train samples\", \"precision@1\"]\n",
    "train_table = wandb.Table(data=all_table, columns=columns)"
   ]
  },
  {
   "cell_type": "code",
   "execution_count": 29,
   "id": "76dc029c-15da-4f8d-9a24-d2a6e13e4e3f",
   "metadata": {},
   "outputs": [],
   "source": [
    "run.log({\"all_classes_metrics\": train_table})"
   ]
  },
  {
   "cell_type": "code",
   "execution_count": 32,
   "id": "3a95fea1-6b58-4dcf-aeb7-de1a40ee731b",
   "metadata": {},
   "outputs": [],
   "source": [
    "import faiss\n",
    "# Create a Faiss index\n",
    "index = faiss.IndexFlatIP(128)\n",
    "# Add some vectors to the index\n",
    "index.add(train_embeddings.detach().cpu().numpy())"
   ]
  },
  {
   "cell_type": "code",
   "execution_count": 33,
   "id": "b7865da3-0493-4c18-b748-9ed4858e4168",
   "metadata": {},
   "outputs": [],
   "source": [
    "pred_labels = [] \n",
    "for embedding,label in zip(test_embeddings.detach().cpu().numpy(),test_labels):\n",
    "    _, indices = index.search(embedding.reshape(1,-1).astype(np.float32), 1)\n",
    "    pred_class = train_labels[indices[0][0]]\n",
    "    pred_labels.append(pred_class)"
   ]
  },
  {
   "cell_type": "code",
   "execution_count": 34,
   "id": "4dfd3a2f-3e63-45ec-9429-abb80862949d",
   "metadata": {},
   "outputs": [],
   "source": [
    "pred_labels = [i.detach().cpu().numpy() for i in pred_labels]"
   ]
  },
  {
   "cell_type": "code",
   "execution_count": 35,
   "id": "09e38eb6-ef8a-4a3d-bd0d-41939ffe9133",
   "metadata": {
    "scrolled": true
   },
   "outputs": [],
   "source": [
    "from sklearn.metrics import classification_report\n",
    "report = classification_report(test_labels.detach().cpu().numpy(), pred_labels, target_names=list(class_dict.keys()),output_dict=True)"
   ]
  },
  {
   "cell_type": "code",
   "execution_count": 36,
   "id": "bc382f16-271b-482f-ba83-7d9f2e382e81",
   "metadata": {},
   "outputs": [
    {
     "name": "stdout",
     "output_type": "stream",
     "text": [
      "                                    precision    recall  f1-score   support\n",
      "\n",
      "        001.Black_footed_Albatross       0.67      0.83      0.74        12\n",
      "              002.Laysan_Albatross       0.62      0.67      0.64        12\n",
      "               003.Sooty_Albatross       0.82      0.75      0.78        12\n",
      "             004.Groove_billed_Ani       0.59      0.83      0.69        12\n",
      "                005.Crested_Auklet       0.80      0.89      0.84         9\n",
      "                  006.Least_Auklet       0.78      0.88      0.82         8\n",
      "               007.Parakeet_Auklet       0.83      1.00      0.91        10\n",
      "             008.Rhinoceros_Auklet       1.00      0.67      0.80         9\n",
      "              009.Brewer_Blackbird       0.22      0.17      0.19        12\n",
      "          010.Red_winged_Blackbird       1.00      0.75      0.86        12\n",
      "               011.Rusty_Blackbird       0.57      0.33      0.42        12\n",
      "       012.Yellow_headed_Blackbird       0.92      1.00      0.96        11\n",
      "                      013.Bobolink       0.83      0.83      0.83        12\n",
      "                014.Indigo_Bunting       0.53      0.67      0.59        12\n",
      "                015.Lazuli_Bunting       0.75      0.55      0.63        11\n",
      "               016.Painted_Bunting       0.89      0.73      0.80        11\n",
      "                      017.Cardinal       1.00      0.64      0.78        11\n",
      "               018.Spotted_Catbird       0.90      1.00      0.95         9\n",
      "                  019.Gray_Catbird       0.69      0.92      0.79        12\n",
      "          020.Yellow_breasted_Chat       0.80      0.67      0.73        12\n",
      "                021.Eastern_Towhee       1.00      1.00      1.00        12\n",
      "              022.Chuck_will_Widow       0.45      0.45      0.45        11\n",
      "              023.Brandt_Cormorant       0.40      0.33      0.36        12\n",
      "           024.Red_faced_Cormorant       0.80      0.80      0.80        10\n",
      "             025.Pelagic_Cormorant       0.38      0.42      0.40        12\n",
      "               026.Bronzed_Cowbird       0.90      0.75      0.82        12\n",
      "                 027.Shiny_Cowbird       0.29      0.33      0.31        12\n",
      "                 028.Brown_Creeper       1.00      1.00      1.00        12\n",
      "                 029.American_Crow       0.27      0.33      0.30        12\n",
      "                     030.Fish_Crow       0.19      0.25      0.21        12\n",
      "           031.Black_billed_Cuckoo       0.67      0.67      0.67        12\n",
      "               032.Mangrove_Cuckoo       0.38      0.50      0.43        10\n",
      "          033.Yellow_billed_Cuckoo       0.50      0.58      0.54        12\n",
      "       034.Gray_crowned_Rosy_Finch       0.89      0.67      0.76        12\n",
      "                  035.Purple_Finch       0.92      1.00      0.96        12\n",
      "              036.Northern_Flicker       1.00      0.83      0.91        12\n",
      "            037.Acadian_Flycatcher       0.40      0.33      0.36        12\n",
      "      038.Great_Crested_Flycatcher       0.64      0.75      0.69        12\n",
      "              039.Least_Flycatcher       0.38      0.42      0.40        12\n",
      "        040.Olive_sided_Flycatcher       0.42      0.42      0.42        12\n",
      "     041.Scissor_tailed_Flycatcher       0.73      0.92      0.81        12\n",
      "          042.Vermilion_Flycatcher       0.79      0.92      0.85        12\n",
      "     043.Yellow_bellied_Flycatcher       0.11      0.08      0.10        12\n",
      "                   044.Frigatebird       0.73      0.67      0.70        12\n",
      "               045.Northern_Fulmar       0.50      0.50      0.50        12\n",
      "                       046.Gadwall       0.73      0.92      0.81        12\n",
      "            047.American_Goldfinch       0.70      0.58      0.64        12\n",
      "            048.European_Goldfinch       1.00      1.00      1.00        12\n",
      "           049.Boat_tailed_Grackle       0.54      0.58      0.56        12\n",
      "                   050.Eared_Grebe       0.50      0.58      0.54        12\n",
      "                  051.Horned_Grebe       0.82      0.75      0.78        12\n",
      "             052.Pied_billed_Grebe       0.69      0.75      0.72        12\n",
      "                 053.Western_Grebe       0.82      0.75      0.78        12\n",
      "                 054.Blue_Grosbeak       0.58      0.58      0.58        12\n",
      "              055.Evening_Grosbeak       1.00      1.00      1.00        12\n",
      "                 056.Pine_Grosbeak       1.00      1.00      1.00        12\n",
      "        057.Rose_breasted_Grosbeak       1.00      0.92      0.96        12\n",
      "              058.Pigeon_Guillemot       0.69      0.92      0.79        12\n",
      "               059.California_Gull       0.28      0.42      0.33        12\n",
      "          060.Glaucous_winged_Gull       0.40      0.33      0.36        12\n",
      "                 061.Heermann_Gull       0.71      0.83      0.77        12\n",
      "                  062.Herring_Gull       0.44      0.33      0.38        12\n",
      "                    063.Ivory_Gull       0.82      0.75      0.78        12\n",
      "              064.Ring_billed_Gull       0.25      0.17      0.20        12\n",
      "             065.Slaty_backed_Gull       0.43      0.30      0.35        10\n",
      "                  066.Western_Gull       0.35      0.50      0.41        12\n",
      "              067.Anna_Hummingbird       0.71      0.42      0.53        12\n",
      "     068.Ruby_throated_Hummingbird       0.60      0.75      0.67        12\n",
      "            069.Rufous_Hummingbird       0.64      0.75      0.69        12\n",
      "               070.Green_Violetear       0.92      0.92      0.92        12\n",
      "            071.Long_tailed_Jaeger       0.40      0.17      0.24        12\n",
      "               072.Pomarine_Jaeger       0.55      0.50      0.52        12\n",
      "                      073.Blue_Jay       0.83      0.83      0.83        12\n",
      "                   074.Florida_Jay       0.90      0.75      0.82        12\n",
      "                     075.Green_Jay       0.89      0.73      0.80        11\n",
      "               076.Dark_eyed_Junco       0.79      0.92      0.85        12\n",
      "             077.Tropical_Kingbird       0.83      0.83      0.83        12\n",
      "                 078.Gray_Kingbird       0.78      0.58      0.67        12\n",
      "             079.Belted_Kingfisher       0.62      0.83      0.71        12\n",
      "              080.Green_Kingfisher       1.00      0.75      0.86        12\n",
      "               081.Pied_Kingfisher       1.00      0.92      0.96        12\n",
      "             082.Ringed_Kingfisher       0.62      0.67      0.64        12\n",
      "     083.White_breasted_Kingfisher       0.85      0.92      0.88        12\n",
      "          084.Red_legged_Kittiwake       0.73      0.80      0.76        10\n",
      "                   085.Horned_Lark       0.80      0.67      0.73        12\n",
      "                  086.Pacific_Loon       0.53      0.67      0.59        12\n",
      "                       087.Mallard       1.00      0.92      0.96        12\n",
      "            088.Western_Meadowlark       1.00      0.92      0.96        12\n",
      "              089.Hooded_Merganser       0.91      0.83      0.87        12\n",
      "        090.Red_breasted_Merganser       0.65      0.92      0.76        12\n",
      "                   091.Mockingbird       1.00      0.17      0.29        12\n",
      "                     092.Nighthawk       0.80      0.67      0.73        12\n",
      "              093.Clark_Nutcracker       1.00      0.83      0.91        12\n",
      "       094.White_breasted_Nuthatch       0.92      0.92      0.92        12\n",
      "              095.Baltimore_Oriole       0.69      0.75      0.72        12\n",
      "                 096.Hooded_Oriole       0.77      0.83      0.80        12\n",
      "                097.Orchard_Oriole       0.86      0.50      0.63        12\n",
      "                  098.Scott_Oriole       0.77      0.83      0.80        12\n",
      "                      099.Ovenbird       0.90      0.75      0.82        12\n",
      "                 100.Brown_Pelican       1.00      1.00      1.00        12\n",
      "                 101.White_Pelican       1.00      0.90      0.95        10\n",
      "            102.Western_Wood_Pewee       0.26      0.42      0.32        12\n",
      "                      103.Sayornis       0.55      0.50      0.52        12\n",
      "                104.American_Pipit       0.38      0.50      0.43        12\n",
      "                105.Whip_poor_Will       0.44      0.40      0.42        10\n",
      "                 106.Horned_Puffin       0.91      0.83      0.87        12\n",
      "                  107.Common_Raven       0.30      0.25      0.27        12\n",
      "            108.White_necked_Raven       0.50      0.42      0.45        12\n",
      "             109.American_Redstart       0.86      1.00      0.92        12\n",
      "                     110.Geococcyx       0.92      0.92      0.92        12\n",
      "             111.Loggerhead_Shrike       0.44      0.58      0.50        12\n",
      "             112.Great_Grey_Shrike       0.42      0.42      0.42        12\n",
      "                 113.Baird_Sparrow       0.40      0.40      0.40        10\n",
      "        114.Black_throated_Sparrow       0.52      0.92      0.67        12\n",
      "                115.Brewer_Sparrow       0.38      0.50      0.43        12\n",
      "              116.Chipping_Sparrow       0.47      0.67      0.55        12\n",
      "          117.Clay_colored_Sparrow       0.46      0.50      0.48        12\n",
      "                 118.House_Sparrow       0.56      0.42      0.48        12\n",
      "                 119.Field_Sparrow       0.54      0.58      0.56        12\n",
      "                   120.Fox_Sparrow       0.56      0.75      0.64        12\n",
      "           121.Grasshopper_Sparrow       0.44      0.33      0.38        12\n",
      "                122.Harris_Sparrow       0.80      0.67      0.73        12\n",
      "               123.Henslow_Sparrow       0.50      0.50      0.50        12\n",
      "              124.Le_Conte_Sparrow       0.58      0.58      0.58        12\n",
      "               125.Lincoln_Sparrow       0.33      0.33      0.33        12\n",
      "   126.Nelson_Sharp_tailed_Sparrow       0.78      0.58      0.67        12\n",
      "              127.Savannah_Sparrow       0.44      0.33      0.38        12\n",
      "               128.Seaside_Sparrow       0.75      0.75      0.75        12\n",
      "                  129.Song_Sparrow       0.56      0.42      0.48        12\n",
      "                  130.Tree_Sparrow       0.67      0.50      0.57        12\n",
      "                131.Vesper_Sparrow       0.29      0.50      0.36        12\n",
      "         132.White_crowned_Sparrow       0.69      0.75      0.72        12\n",
      "        133.White_throated_Sparrow       0.57      0.67      0.62        12\n",
      "          134.Cape_Glossy_Starling       0.75      1.00      0.86        12\n",
      "                  135.Bank_Swallow       0.67      0.50      0.57        12\n",
      "                  136.Barn_Swallow       0.78      0.58      0.67        12\n",
      "                 137.Cliff_Swallow       0.44      0.33      0.38        12\n",
      "                  138.Tree_Swallow       0.89      0.67      0.76        12\n",
      "               139.Scarlet_Tanager       0.73      0.92      0.81        12\n",
      "                140.Summer_Tanager       0.82      0.75      0.78        12\n",
      "                    141.Artic_Tern       0.50      1.00      0.67        11\n",
      "                    142.Black_Tern       0.38      0.25      0.30        12\n",
      "                  143.Caspian_Tern       0.55      0.50      0.52        12\n",
      "                   144.Common_Tern       0.38      0.25      0.30        12\n",
      "                  145.Elegant_Tern       0.75      0.25      0.38        12\n",
      "                 146.Forsters_Tern       0.35      0.50      0.41        12\n",
      "                    147.Least_Tern       0.70      0.58      0.64        12\n",
      "           148.Green_tailed_Towhee       0.91      0.83      0.87        12\n",
      "                149.Brown_Thrasher       0.89      0.67      0.76        12\n",
      "                 150.Sage_Thrasher       0.60      0.50      0.55        12\n",
      "            151.Black_capped_Vireo       0.62      0.50      0.56        10\n",
      "             152.Blue_headed_Vireo       0.58      0.58      0.58        12\n",
      "            153.Philadelphia_Vireo       0.42      0.42      0.42        12\n",
      "                154.Red_eyed_Vireo       0.47      0.67      0.55        12\n",
      "                155.Warbling_Vireo       0.50      0.42      0.45        12\n",
      "              156.White_eyed_Vireo       0.70      0.58      0.64        12\n",
      "         157.Yellow_throated_Vireo       0.57      0.67      0.62        12\n",
      "          158.Bay_breasted_Warbler       0.65      0.92      0.76        12\n",
      "       159.Black_and_white_Warbler       0.79      0.92      0.85        12\n",
      "   160.Black_throated_Blue_Warbler       0.91      0.83      0.87        12\n",
      "           161.Blue_winged_Warbler       0.62      0.67      0.64        12\n",
      "                162.Canada_Warbler       0.67      0.50      0.57        12\n",
      "              163.Cape_May_Warbler       0.90      0.75      0.82        12\n",
      "              164.Cerulean_Warbler       0.64      0.58      0.61        12\n",
      "        165.Chestnut_sided_Warbler       0.67      0.67      0.67        12\n",
      "         166.Golden_winged_Warbler       0.89      0.67      0.76        12\n",
      "                167.Hooded_Warbler       0.69      0.75      0.72        12\n",
      "              168.Kentucky_Warbler       0.71      0.83      0.77        12\n",
      "              169.Magnolia_Warbler       0.85      0.92      0.88        12\n",
      "              170.Mourning_Warbler       0.60      0.50      0.55        12\n",
      "                171.Myrtle_Warbler       0.92      0.92      0.92        12\n",
      "             172.Nashville_Warbler       0.64      0.75      0.69        12\n",
      "        173.Orange_crowned_Warbler       0.31      0.42      0.36        12\n",
      "                  174.Palm_Warbler       0.58      0.58      0.58        12\n",
      "                  175.Pine_Warbler       0.50      0.50      0.50        12\n",
      "               176.Prairie_Warbler       0.83      0.83      0.83        12\n",
      "          177.Prothonotary_Warbler       0.69      0.75      0.72        12\n",
      "              178.Swainson_Warbler       0.43      0.55      0.48        11\n",
      "             179.Tennessee_Warbler       0.20      0.17      0.18        12\n",
      "                180.Wilson_Warbler       0.60      0.50      0.55        12\n",
      "           181.Worm_eating_Warbler       0.75      0.50      0.60        12\n",
      "                182.Yellow_Warbler       0.57      0.67      0.62        12\n",
      "          183.Northern_Waterthrush       0.64      0.75      0.69        12\n",
      "         184.Louisiana_Waterthrush       0.70      0.58      0.64        12\n",
      "              185.Bohemian_Waxwing       1.00      0.75      0.86        12\n",
      "                 186.Cedar_Waxwing       0.85      0.92      0.88        12\n",
      "187.American_Three_toed_Woodpecker       1.00      0.80      0.89        10\n",
      "           188.Pileated_Woodpecker       0.91      0.83      0.87        12\n",
      "        189.Red_bellied_Woodpecker       0.80      1.00      0.89        12\n",
      "       190.Red_cockaded_Woodpecker       0.91      0.91      0.91        11\n",
      "         191.Red_headed_Woodpecker       0.90      0.75      0.82        12\n",
      "              192.Downy_Woodpecker       0.92      1.00      0.96        12\n",
      "                   193.Bewick_Wren       0.67      0.67      0.67        12\n",
      "                   194.Cactus_Wren       0.73      0.92      0.81        12\n",
      "                 195.Carolina_Wren       0.83      0.83      0.83        12\n",
      "                    196.House_Wren       0.83      0.42      0.56        12\n",
      "                    197.Marsh_Wren       0.64      0.75      0.69        12\n",
      "                     198.Rock_Wren       0.85      0.92      0.88        12\n",
      "                   199.Winter_Wren       0.77      0.83      0.80        12\n",
      "           200.Common_Yellowthroat       0.77      0.83      0.80        12\n",
      "\n",
      "                          accuracy                           0.66      2358\n",
      "                         macro avg       0.68      0.66      0.66      2358\n",
      "                      weighted avg       0.68      0.66      0.66      2358\n",
      "\n"
     ]
    }
   ],
   "source": [
    "print(classification_report(test_labels.detach().cpu().numpy(), pred_labels, target_names=list(class_dict.keys())))"
   ]
  },
  {
   "cell_type": "code",
   "execution_count": 37,
   "id": "1e8845dc-c978-4b7b-99e4-9729b79d87c1",
   "metadata": {},
   "outputs": [],
   "source": [
    "df = pd.DataFrame(report).transpose()"
   ]
  },
  {
   "cell_type": "code",
   "execution_count": 38,
   "id": "282eb152-50d2-46bd-ad7c-5904c9b2f0a4",
   "metadata": {},
   "outputs": [
    {
     "data": {
      "text/html": [
       "<div>\n",
       "<style scoped>\n",
       "    .dataframe tbody tr th:only-of-type {\n",
       "        vertical-align: middle;\n",
       "    }\n",
       "\n",
       "    .dataframe tbody tr th {\n",
       "        vertical-align: top;\n",
       "    }\n",
       "\n",
       "    .dataframe thead th {\n",
       "        text-align: right;\n",
       "    }\n",
       "</style>\n",
       "<table border=\"1\" class=\"dataframe\">\n",
       "  <thead>\n",
       "    <tr style=\"text-align: right;\">\n",
       "      <th></th>\n",
       "      <th>precision</th>\n",
       "      <th>recall</th>\n",
       "      <th>f1-score</th>\n",
       "      <th>support</th>\n",
       "    </tr>\n",
       "  </thead>\n",
       "  <tbody>\n",
       "    <tr>\n",
       "      <th>001.Black_footed_Albatross</th>\n",
       "      <td>0.666667</td>\n",
       "      <td>0.833333</td>\n",
       "      <td>0.740741</td>\n",
       "      <td>12.0</td>\n",
       "    </tr>\n",
       "    <tr>\n",
       "      <th>002.Laysan_Albatross</th>\n",
       "      <td>0.615385</td>\n",
       "      <td>0.666667</td>\n",
       "      <td>0.640000</td>\n",
       "      <td>12.0</td>\n",
       "    </tr>\n",
       "    <tr>\n",
       "      <th>003.Sooty_Albatross</th>\n",
       "      <td>0.818182</td>\n",
       "      <td>0.750000</td>\n",
       "      <td>0.782609</td>\n",
       "      <td>12.0</td>\n",
       "    </tr>\n",
       "    <tr>\n",
       "      <th>004.Groove_billed_Ani</th>\n",
       "      <td>0.588235</td>\n",
       "      <td>0.833333</td>\n",
       "      <td>0.689655</td>\n",
       "      <td>12.0</td>\n",
       "    </tr>\n",
       "    <tr>\n",
       "      <th>005.Crested_Auklet</th>\n",
       "      <td>0.800000</td>\n",
       "      <td>0.888889</td>\n",
       "      <td>0.842105</td>\n",
       "      <td>9.0</td>\n",
       "    </tr>\n",
       "  </tbody>\n",
       "</table>\n",
       "</div>"
      ],
      "text/plain": [
       "                            precision    recall  f1-score  support\n",
       "001.Black_footed_Albatross   0.666667  0.833333  0.740741     12.0\n",
       "002.Laysan_Albatross         0.615385  0.666667  0.640000     12.0\n",
       "003.Sooty_Albatross          0.818182  0.750000  0.782609     12.0\n",
       "004.Groove_billed_Ani        0.588235  0.833333  0.689655     12.0\n",
       "005.Crested_Auklet           0.800000  0.888889  0.842105      9.0"
      ]
     },
     "execution_count": 38,
     "metadata": {},
     "output_type": "execute_result"
    }
   ],
   "source": [
    "df.head()"
   ]
  },
  {
   "cell_type": "code",
   "execution_count": 39,
   "id": "32e24514-4ae2-4dc2-b671-781c8c3d6180",
   "metadata": {},
   "outputs": [],
   "source": [
    "df.reset_index(inplace=True)"
   ]
  },
  {
   "cell_type": "code",
   "execution_count": 40,
   "id": "71ff6ed3-bcd9-4d2e-9371-b4c409d8a76c",
   "metadata": {},
   "outputs": [],
   "source": [
    "df.rename(columns={\"index\":'class_name'},inplace=True)"
   ]
  },
  {
   "cell_type": "code",
   "execution_count": 41,
   "id": "945dce04-630d-40b1-9e3d-8738875d3bd7",
   "metadata": {},
   "outputs": [],
   "source": [
    "classification_report_table = wandb.Table(dataframe=df)"
   ]
  },
  {
   "cell_type": "code",
   "execution_count": 42,
   "id": "3a1baa45-ad12-41e6-8e44-dd5ab0ba2eb7",
   "metadata": {},
   "outputs": [],
   "source": [
    "run.log({\"all_classes_classification_report\": classification_report_table})"
   ]
  },
  {
   "cell_type": "markdown",
   "id": "bbfc4b6e-d88c-45ac-9caf-6c5f26a0d52a",
   "metadata": {},
   "source": [
    "## Removing classes from training dataset and seeing performance"
   ]
  },
  {
   "cell_type": "code",
   "execution_count": 27,
   "id": "3597a740-157c-4c24-8d23-65c675de8f7d",
   "metadata": {},
   "outputs": [],
   "source": [
    "train_image_paths = []\n",
    "train_labels = []\n",
    "for folder_path,i in class_dict.items():\n",
    "    if i >= 180:\n",
    "        break\n",
    "    folder_images = glob.glob('CUB_200_2011/images/'+'/'+str(folder_path)+'/*')\n",
    "    train_image_paths.extend(folder_images)\n",
    "    train_labels.extend([i]*len(folder_images))"
   ]
  },
  {
   "cell_type": "code",
   "execution_count": 28,
   "id": "c353dd9e-9064-4774-8244-5770ac9c53cf",
   "metadata": {},
   "outputs": [],
   "source": [
    "test_image_paths = []\n",
    "test_labels = []\n",
    "for folder_path,i in class_dict.items():\n",
    "    if i >= 180:\n",
    "        folder_images = glob.glob('CUB_200_2011/images/'+'/'+str(folder_path)+'/*')\n",
    "        test_image_paths.extend(folder_images)\n",
    "        test_labels.extend([i]*len(folder_images))"
   ]
  },
  {
   "cell_type": "code",
   "execution_count": 29,
   "id": "7a58b988-aa16-4d57-99ef-c889b3bb72d6",
   "metadata": {},
   "outputs": [],
   "source": [
    "from sklearn.model_selection import train_test_split\n",
    "X_train, X_test, y_train, y_test = train_test_split(train_image_paths,train_labels, test_size=config['train_test_split'],\n",
    "                                                    stratify=train_labels, random_state=config['random_seed'])"
   ]
  },
  {
   "cell_type": "code",
   "execution_count": 30,
   "id": "c0902fb2-bd40-40c0-be84-81c2776bdfc6",
   "metadata": {},
   "outputs": [],
   "source": [
    "train_dataset  = CUBDataset(X_train,y_train,train_transform)\n",
    "test_dataset  = CUBDataset(X_test,y_test,test_transform)\n",
    "train_loader = torch.utils.data.DataLoader(train_dataset, batch_size=config['batch_size'], shuffle=True)\n",
    "test_loader = torch.utils.data.DataLoader(test_dataset, batch_size=config['batch_size'], shuffle=False)"
   ]
  },
  {
   "cell_type": "code",
   "execution_count": 47,
   "id": "74998763-e319-4389-a9cb-a14ef5a5ef47",
   "metadata": {},
   "outputs": [
    {
     "name": "stderr",
     "output_type": "stream",
     "text": [
      "/opt/conda/lib/python3.10/site-packages/torchvision/models/_utils.py:208: UserWarning: The parameter 'pretrained' is deprecated since 0.13 and may be removed in the future, please use 'weights' instead.\n",
      "  warnings.warn(\n",
      "/opt/conda/lib/python3.10/site-packages/torchvision/models/_utils.py:223: UserWarning: Arguments other than a weight enum or `None` for 'weights' are deprecated since 0.13 and may be removed in the future. The current behavior is equivalent to passing `weights=ResNet18_Weights.IMAGENET1K_V1`. You can also use `weights=ResNet18_Weights.DEFAULT` to get the most up-to-date weights.\n",
      "  warnings.warn(msg)\n"
     ]
    }
   ],
   "source": [
    "model = ResNetFeatrueExtractor18()\n",
    "model = model.to(device)\n",
    "optimizer = optim.SGD(model.parameters(), lr=config['learning_rate'])\n",
    "num_epochs = config['num_epochs']\n",
    "\n",
    "### pytorch-metric-learning stuff ###\n",
    "distance = distances.CosineSimilarity()\n",
    "reducer = reducers.MeanReducer()\n",
    "loss_func = losses.NTXentLoss(temperature=config['temperature'], distance=distance, reducer=reducer)\n",
    "mining_func = miners.BatchEasyHardMiner(pos_strategy=\"easy\",neg_strategy=\"semihard\")\n",
    "knn_func = CustomKNN(CosineSimilarity())\n",
    "accuracy_calculator = AccuracyCalculator(include=(\"precision_at_1\",),k=1,knn_func=knn_func,avg_of_avgs=True,return_per_class=False)"
   ]
  },
  {
   "cell_type": "code",
   "execution_count": 48,
   "id": "51ad322f-f35f-44bf-b296-a546c9a9ae34",
   "metadata": {
    "scrolled": true
   },
   "outputs": [
    {
     "name": "stdout",
     "output_type": "stream",
     "text": [
      "Epoch 1 Iteration 0: Loss = 0.6552073359489441\n"
     ]
    },
    {
     "name": "stderr",
     "output_type": "stream",
     "text": [
      "100%|█████████████████████████████████████████████████████████████████████████████████████████████████████| 266/266 [00:15<00:00, 17.26it/s]\n",
      "100%|███████████████████████████████████████████████████████████████████████████████████████████████████████| 67/67 [00:08<00:00,  7.62it/s]\n"
     ]
    },
    {
     "name": "stdout",
     "output_type": "stream",
     "text": [
      "Computing accuracy\n",
      "Test set accuracy (Precision@1) = 0.33211139169472503\n",
      "Epoch 2 Iteration 0: Loss = 0.6346331834793091\n"
     ]
    },
    {
     "name": "stderr",
     "output_type": "stream",
     "text": [
      "100%|█████████████████████████████████████████████████████████████████████████████████████████████████████| 266/266 [00:15<00:00, 16.93it/s]\n",
      "100%|███████████████████████████████████████████████████████████████████████████████████████████████████████| 67/67 [00:03<00:00, 18.16it/s]\n"
     ]
    },
    {
     "name": "stdout",
     "output_type": "stream",
     "text": [
      "Computing accuracy\n",
      "Test set accuracy (Precision@1) = 0.3627581369248036\n",
      "Epoch 3 Iteration 0: Loss = 0.6180775761604309\n"
     ]
    },
    {
     "name": "stderr",
     "output_type": "stream",
     "text": [
      "100%|█████████████████████████████████████████████████████████████████████████████████████████████████████| 266/266 [00:16<00:00, 15.80it/s]\n",
      "100%|███████████████████████████████████████████████████████████████████████████████████████████████████████| 67/67 [00:03<00:00, 17.31it/s]\n"
     ]
    },
    {
     "name": "stdout",
     "output_type": "stream",
     "text": [
      "Computing accuracy\n",
      "Test set accuracy (Precision@1) = 0.37446548821548825\n",
      "Epoch 4 Iteration 0: Loss = 0.6164734363555908\n"
     ]
    },
    {
     "name": "stderr",
     "output_type": "stream",
     "text": [
      "100%|█████████████████████████████████████████████████████████████████████████████████████████████████████| 266/266 [00:16<00:00, 15.68it/s]\n",
      "100%|███████████████████████████████████████████████████████████████████████████████████████████████████████| 67/67 [00:03<00:00, 17.44it/s]\n"
     ]
    },
    {
     "name": "stdout",
     "output_type": "stream",
     "text": [
      "Computing accuracy\n",
      "Test set accuracy (Precision@1) = 0.39072951739618406\n",
      "Epoch 5 Iteration 0: Loss = 0.6051265001296997\n"
     ]
    },
    {
     "name": "stderr",
     "output_type": "stream",
     "text": [
      "100%|█████████████████████████████████████████████████████████████████████████████████████████████████████| 266/266 [00:15<00:00, 16.67it/s]\n",
      "100%|███████████████████████████████████████████████████████████████████████████████████████████████████████| 67/67 [00:03<00:00, 17.99it/s]\n"
     ]
    },
    {
     "name": "stdout",
     "output_type": "stream",
     "text": [
      "Computing accuracy\n",
      "Test set accuracy (Precision@1) = 0.40851711560044895\n",
      "Epoch 6 Iteration 0: Loss = 0.6215026378631592\n"
     ]
    },
    {
     "name": "stderr",
     "output_type": "stream",
     "text": [
      "100%|█████████████████████████████████████████████████████████████████████████████████████████████████████| 266/266 [00:16<00:00, 16.06it/s]\n",
      "100%|███████████████████████████████████████████████████████████████████████████████████████████████████████| 67/67 [00:03<00:00, 18.10it/s]\n"
     ]
    },
    {
     "name": "stdout",
     "output_type": "stream",
     "text": [
      "Computing accuracy\n",
      "Test set accuracy (Precision@1) = 0.42935606060606063\n",
      "Epoch 7 Iteration 0: Loss = 0.5924543738365173\n"
     ]
    },
    {
     "name": "stderr",
     "output_type": "stream",
     "text": [
      "100%|█████████████████████████████████████████████████████████████████████████████████████████████████████| 266/266 [00:15<00:00, 16.69it/s]\n",
      "100%|███████████████████████████████████████████████████████████████████████████████████████████████████████| 67/67 [00:03<00:00, 18.28it/s]\n"
     ]
    },
    {
     "name": "stdout",
     "output_type": "stream",
     "text": [
      "Computing accuracy\n",
      "Test set accuracy (Precision@1) = 0.4464604377104378\n",
      "Epoch 8 Iteration 0: Loss = 0.580531656742096\n"
     ]
    },
    {
     "name": "stderr",
     "output_type": "stream",
     "text": [
      "100%|█████████████████████████████████████████████████████████████████████████████████████████████████████| 266/266 [00:15<00:00, 16.78it/s]\n",
      "100%|███████████████████████████████████████████████████████████████████████████████████████████████████████| 67/67 [00:03<00:00, 18.21it/s]\n"
     ]
    },
    {
     "name": "stdout",
     "output_type": "stream",
     "text": [
      "Computing accuracy\n",
      "Test set accuracy (Precision@1) = 0.45155022446689114\n",
      "Epoch 9 Iteration 0: Loss = 0.5654361248016357\n"
     ]
    },
    {
     "name": "stderr",
     "output_type": "stream",
     "text": [
      "100%|█████████████████████████████████████████████████████████████████████████████████████████████████████| 266/266 [00:15<00:00, 16.81it/s]\n",
      "100%|███████████████████████████████████████████████████████████████████████████████████████████████████████| 67/67 [00:03<00:00, 17.90it/s]\n"
     ]
    },
    {
     "name": "stdout",
     "output_type": "stream",
     "text": [
      "Computing accuracy\n",
      "Test set accuracy (Precision@1) = 0.4639997194163861\n",
      "Epoch 10 Iteration 0: Loss = 0.5573773384094238\n"
     ]
    },
    {
     "name": "stderr",
     "output_type": "stream",
     "text": [
      "100%|█████████████████████████████████████████████████████████████████████████████████████████████████████| 266/266 [00:16<00:00, 15.95it/s]\n",
      "100%|███████████████████████████████████████████████████████████████████████████████████████████████████████| 67/67 [00:03<00:00, 17.48it/s]\n"
     ]
    },
    {
     "name": "stdout",
     "output_type": "stream",
     "text": [
      "Computing accuracy\n",
      "Test set accuracy (Precision@1) = 0.46134820426487094\n",
      "Epoch 11 Iteration 0: Loss = 0.5343488454818726\n"
     ]
    },
    {
     "name": "stderr",
     "output_type": "stream",
     "text": [
      "100%|█████████████████████████████████████████████████████████████████████████████████████████████████████| 266/266 [00:15<00:00, 17.15it/s]\n",
      "100%|███████████████████████████████████████████████████████████████████████████████████████████████████████| 67/67 [00:03<00:00, 18.49it/s]\n"
     ]
    },
    {
     "name": "stdout",
     "output_type": "stream",
     "text": [
      "Computing accuracy\n",
      "Test set accuracy (Precision@1) = 0.47957070707070704\n",
      "Epoch 12 Iteration 0: Loss = 0.5171607136726379\n"
     ]
    },
    {
     "name": "stderr",
     "output_type": "stream",
     "text": [
      "100%|█████████████████████████████████████████████████████████████████████████████████████████████████████| 266/266 [00:15<00:00, 17.09it/s]\n",
      "100%|███████████████████████████████████████████████████████████████████████████████████████████████████████| 67/67 [00:03<00:00, 18.21it/s]\n"
     ]
    },
    {
     "name": "stdout",
     "output_type": "stream",
     "text": [
      "Computing accuracy\n",
      "Test set accuracy (Precision@1) = 0.4858038720538721\n",
      "Epoch 13 Iteration 0: Loss = 0.5259625315666199\n"
     ]
    },
    {
     "name": "stderr",
     "output_type": "stream",
     "text": [
      "100%|█████████████████████████████████████████████████████████████████████████████████████████████████████| 266/266 [00:15<00:00, 16.86it/s]\n",
      "100%|███████████████████████████████████████████████████████████████████████████████████████████████████████| 67/67 [00:03<00:00, 18.13it/s]\n"
     ]
    },
    {
     "name": "stdout",
     "output_type": "stream",
     "text": [
      "Computing accuracy\n",
      "Test set accuracy (Precision@1) = 0.4925210437710437\n",
      "Epoch 14 Iteration 0: Loss = 0.48791882395744324\n"
     ]
    },
    {
     "name": "stderr",
     "output_type": "stream",
     "text": [
      "100%|█████████████████████████████████████████████████████████████████████████████████████████████████████| 266/266 [00:16<00:00, 16.48it/s]\n",
      "100%|███████████████████████████████████████████████████████████████████████████████████████████████████████| 67/67 [00:03<00:00, 16.82it/s]\n"
     ]
    },
    {
     "name": "stdout",
     "output_type": "stream",
     "text": [
      "Computing accuracy\n",
      "Test set accuracy (Precision@1) = 0.510736531986532\n",
      "Epoch 15 Iteration 0: Loss = 0.5379051566123962\n"
     ]
    },
    {
     "name": "stderr",
     "output_type": "stream",
     "text": [
      "100%|█████████████████████████████████████████████████████████████████████████████████████████████████████| 266/266 [00:16<00:00, 16.30it/s]\n",
      "100%|███████████████████████████████████████████████████████████████████████████████████████████████████████| 67/67 [00:03<00:00, 18.29it/s]\n"
     ]
    },
    {
     "name": "stdout",
     "output_type": "stream",
     "text": [
      "Computing accuracy\n",
      "Test set accuracy (Precision@1) = 0.5131930415263748\n",
      "Epoch 16 Iteration 0: Loss = 0.5047763586044312\n"
     ]
    },
    {
     "name": "stderr",
     "output_type": "stream",
     "text": [
      "100%|█████████████████████████████████████████████████████████████████████████████████████████████████████| 266/266 [00:15<00:00, 16.79it/s]\n",
      "100%|███████████████████████████████████████████████████████████████████████████████████████████████████████| 67/67 [00:03<00:00, 18.09it/s]\n"
     ]
    },
    {
     "name": "stdout",
     "output_type": "stream",
     "text": [
      "Computing accuracy\n",
      "Test set accuracy (Precision@1) = 0.5204840067340067\n",
      "Epoch 17 Iteration 0: Loss = 0.4823813736438751\n"
     ]
    },
    {
     "name": "stderr",
     "output_type": "stream",
     "text": [
      "100%|█████████████████████████████████████████████████████████████████████████████████████████████████████| 266/266 [00:15<00:00, 16.77it/s]\n",
      "100%|███████████████████████████████████████████████████████████████████████████████████████████████████████| 67/67 [00:03<00:00, 17.81it/s]\n"
     ]
    },
    {
     "name": "stdout",
     "output_type": "stream",
     "text": [
      "Computing accuracy\n",
      "Test set accuracy (Precision@1) = 0.5112135241301907\n",
      "Epoch 18 Iteration 0: Loss = 0.536030113697052\n"
     ]
    },
    {
     "name": "stderr",
     "output_type": "stream",
     "text": [
      "100%|█████████████████████████████████████████████████████████████████████████████████████████████████████| 266/266 [00:15<00:00, 16.86it/s]\n",
      "100%|███████████████████████████████████████████████████████████████████████████████████████████████████████| 67/67 [00:03<00:00, 18.10it/s]\n"
     ]
    },
    {
     "name": "stdout",
     "output_type": "stream",
     "text": [
      "Computing accuracy\n",
      "Test set accuracy (Precision@1) = 0.5269598765432099\n",
      "Epoch 19 Iteration 0: Loss = 0.4893561899662018\n"
     ]
    },
    {
     "name": "stderr",
     "output_type": "stream",
     "text": [
      "100%|█████████████████████████████████████████████████████████████████████████████████████████████████████| 266/266 [00:15<00:00, 16.82it/s]\n",
      "100%|███████████████████████████████████████████████████████████████████████████████████████████████████████| 67/67 [00:03<00:00, 18.33it/s]\n"
     ]
    },
    {
     "name": "stdout",
     "output_type": "stream",
     "text": [
      "Computing accuracy\n",
      "Test set accuracy (Precision@1) = 0.526763468013468\n",
      "Epoch 20 Iteration 0: Loss = 0.4850321114063263\n"
     ]
    },
    {
     "name": "stderr",
     "output_type": "stream",
     "text": [
      "100%|█████████████████████████████████████████████████████████████████████████████████████████████████████| 266/266 [00:15<00:00, 16.86it/s]\n",
      "100%|███████████████████████████████████████████████████████████████████████████████████████████████████████| 67/67 [00:03<00:00, 18.14it/s]\n"
     ]
    },
    {
     "name": "stdout",
     "output_type": "stream",
     "text": [
      "Computing accuracy\n",
      "Test set accuracy (Precision@1) = 0.5360563973063973\n",
      "Epoch 21 Iteration 0: Loss = 0.48765015602111816\n"
     ]
    },
    {
     "name": "stderr",
     "output_type": "stream",
     "text": [
      "100%|█████████████████████████████████████████████████████████████████████████████████████████████████████| 266/266 [00:15<00:00, 16.82it/s]\n",
      "100%|███████████████████████████████████████████████████████████████████████████████████████████████████████| 67/67 [00:03<00:00, 18.20it/s]\n"
     ]
    },
    {
     "name": "stdout",
     "output_type": "stream",
     "text": [
      "Computing accuracy\n",
      "Test set accuracy (Precision@1) = 0.5314492143658811\n",
      "Epoch 22 Iteration 0: Loss = 0.5019519329071045\n"
     ]
    },
    {
     "name": "stderr",
     "output_type": "stream",
     "text": [
      "100%|█████████████████████████████████████████████████████████████████████████████████████████████████████| 266/266 [00:15<00:00, 16.91it/s]\n",
      "100%|███████████████████████████████████████████████████████████████████████████████████████████████████████| 67/67 [00:03<00:00, 18.30it/s]\n"
     ]
    },
    {
     "name": "stdout",
     "output_type": "stream",
     "text": [
      "Computing accuracy\n",
      "Test set accuracy (Precision@1) = 0.5473302469135802\n",
      "Epoch 23 Iteration 0: Loss = 0.4640551209449768\n"
     ]
    },
    {
     "name": "stderr",
     "output_type": "stream",
     "text": [
      "100%|█████████████████████████████████████████████████████████████████████████████████████████████████████| 266/266 [00:15<00:00, 16.92it/s]\n",
      "100%|███████████████████████████████████████████████████████████████████████████████████████████████████████| 67/67 [00:03<00:00, 17.76it/s]\n"
     ]
    },
    {
     "name": "stdout",
     "output_type": "stream",
     "text": [
      "Computing accuracy\n",
      "Test set accuracy (Precision@1) = 0.5511363636363636\n",
      "Epoch 24 Iteration 0: Loss = 0.5132433772087097\n"
     ]
    },
    {
     "name": "stderr",
     "output_type": "stream",
     "text": [
      "100%|█████████████████████████████████████████████████████████████████████████████████████████████████████| 266/266 [00:15<00:00, 16.69it/s]\n",
      "100%|███████████████████████████████████████████████████████████████████████████████████████████████████████| 67/67 [00:03<00:00, 18.11it/s]\n"
     ]
    },
    {
     "name": "stdout",
     "output_type": "stream",
     "text": [
      "Computing accuracy\n",
      "Test set accuracy (Precision@1) = 0.561067620650954\n",
      "Epoch 25 Iteration 0: Loss = 0.5076963901519775\n"
     ]
    },
    {
     "name": "stderr",
     "output_type": "stream",
     "text": [
      "100%|█████████████████████████████████████████████████████████████████████████████████████████████████████| 266/266 [00:16<00:00, 15.82it/s]\n",
      "100%|███████████████████████████████████████████████████████████████████████████████████████████████████████| 67/67 [00:03<00:00, 17.73it/s]\n"
     ]
    },
    {
     "name": "stdout",
     "output_type": "stream",
     "text": [
      "Computing accuracy\n",
      "Test set accuracy (Precision@1) = 0.5554755892255894\n",
      "Epoch 26 Iteration 0: Loss = 0.4957810938358307\n"
     ]
    },
    {
     "name": "stderr",
     "output_type": "stream",
     "text": [
      "100%|█████████████████████████████████████████████████████████████████████████████████████████████████████| 266/266 [00:16<00:00, 16.62it/s]\n",
      "100%|███████████████████████████████████████████████████████████████████████████████████████████████████████| 67/67 [00:03<00:00, 17.39it/s]\n"
     ]
    },
    {
     "name": "stdout",
     "output_type": "stream",
     "text": [
      "Computing accuracy\n",
      "Test set accuracy (Precision@1) = 0.5524859708193043\n",
      "Epoch 27 Iteration 0: Loss = 0.500167727470398\n"
     ]
    },
    {
     "name": "stderr",
     "output_type": "stream",
     "text": [
      "100%|█████████████████████████████████████████████████████████████████████████████████████████████████████| 266/266 [00:15<00:00, 16.66it/s]\n",
      "100%|███████████████████████████████████████████████████████████████████████████████████████████████████████| 67/67 [00:03<00:00, 17.82it/s]\n"
     ]
    },
    {
     "name": "stdout",
     "output_type": "stream",
     "text": [
      "Computing accuracy\n",
      "Test set accuracy (Precision@1) = 0.5574873737373738\n",
      "Epoch 28 Iteration 0: Loss = 0.474973201751709\n"
     ]
    },
    {
     "name": "stderr",
     "output_type": "stream",
     "text": [
      "100%|█████████████████████████████████████████████████████████████████████████████████████████████████████| 266/266 [00:16<00:00, 16.49it/s]\n",
      "100%|███████████████████████████████████████████████████████████████████████████████████████████████████████| 67/67 [00:03<00:00, 17.96it/s]\n"
     ]
    },
    {
     "name": "stdout",
     "output_type": "stream",
     "text": [
      "Computing accuracy\n",
      "Test set accuracy (Precision@1) = 0.5578703703703703\n",
      "Epoch 29 Iteration 0: Loss = 0.48137664794921875\n"
     ]
    },
    {
     "name": "stderr",
     "output_type": "stream",
     "text": [
      "100%|█████████████████████████████████████████████████████████████████████████████████████████████████████| 266/266 [00:15<00:00, 16.70it/s]\n",
      "100%|███████████████████████████████████████████████████████████████████████████████████████████████████████| 67/67 [00:03<00:00, 17.95it/s]\n"
     ]
    },
    {
     "name": "stdout",
     "output_type": "stream",
     "text": [
      "Computing accuracy\n",
      "Test set accuracy (Precision@1) = 0.5669248035914702\n",
      "Epoch 30 Iteration 0: Loss = 0.4740334749221802\n"
     ]
    },
    {
     "name": "stderr",
     "output_type": "stream",
     "text": [
      "100%|█████████████████████████████████████████████████████████████████████████████████████████████████████| 266/266 [00:15<00:00, 16.69it/s]\n",
      "100%|███████████████████████████████████████████████████████████████████████████████████████████████████████| 67/67 [00:03<00:00, 17.99it/s]\n"
     ]
    },
    {
     "name": "stdout",
     "output_type": "stream",
     "text": [
      "Computing accuracy\n",
      "Test set accuracy (Precision@1) = 0.5615179573512907\n",
      "Epoch 31 Iteration 0: Loss = 0.47792571783065796\n"
     ]
    },
    {
     "name": "stderr",
     "output_type": "stream",
     "text": [
      "100%|█████████████████████████████████████████████████████████████████████████████████████████████████████| 266/266 [00:15<00:00, 16.68it/s]\n",
      "100%|███████████████████████████████████████████████████████████████████████████████████████████████████████| 67/67 [00:03<00:00, 17.77it/s]\n"
     ]
    },
    {
     "name": "stdout",
     "output_type": "stream",
     "text": [
      "Computing accuracy\n",
      "Test set accuracy (Precision@1) = 0.5722292368125701\n",
      "Epoch 32 Iteration 0: Loss = 0.4621258080005646\n"
     ]
    },
    {
     "name": "stderr",
     "output_type": "stream",
     "text": [
      "100%|█████████████████████████████████████████████████████████████████████████████████████████████████████| 266/266 [00:15<00:00, 16.72it/s]\n",
      "100%|███████████████████████████████████████████████████████████████████████████████████████████████████████| 67/67 [00:03<00:00, 18.05it/s]\n"
     ]
    },
    {
     "name": "stdout",
     "output_type": "stream",
     "text": [
      "Computing accuracy\n",
      "Test set accuracy (Precision@1) = 0.5763047138047138\n",
      "Epoch 33 Iteration 0: Loss = 0.5473846197128296\n"
     ]
    },
    {
     "name": "stderr",
     "output_type": "stream",
     "text": [
      "100%|█████████████████████████████████████████████████████████████████████████████████████████████████████| 266/266 [00:15<00:00, 16.71it/s]\n",
      "100%|███████████████████████████████████████████████████████████████████████████████████████████████████████| 67/67 [00:03<00:00, 17.94it/s]\n"
     ]
    },
    {
     "name": "stdout",
     "output_type": "stream",
     "text": [
      "Computing accuracy\n",
      "Test set accuracy (Precision@1) = 0.5866666666666668\n",
      "Epoch 34 Iteration 0: Loss = 0.5014570355415344\n"
     ]
    },
    {
     "name": "stderr",
     "output_type": "stream",
     "text": [
      "100%|█████████████████████████████████████████████████████████████████████████████████████████████████████| 266/266 [00:16<00:00, 15.98it/s]\n",
      "100%|███████████████████████████████████████████████████████████████████████████████████████████████████████| 67/67 [00:03<00:00, 17.52it/s]\n"
     ]
    },
    {
     "name": "stdout",
     "output_type": "stream",
     "text": [
      "Computing accuracy\n",
      "Test set accuracy (Precision@1) = 0.5687850729517396\n",
      "Epoch 35 Iteration 0: Loss = 0.42168480157852173\n"
     ]
    },
    {
     "name": "stderr",
     "output_type": "stream",
     "text": [
      "100%|█████████████████████████████████████████████████████████████████████████████████████████████████████| 266/266 [00:15<00:00, 16.69it/s]\n",
      "100%|███████████████████████████████████████████████████████████████████████████████████████████████████████| 67/67 [00:03<00:00, 16.89it/s]\n"
     ]
    },
    {
     "name": "stdout",
     "output_type": "stream",
     "text": [
      "Computing accuracy\n",
      "Test set accuracy (Precision@1) = 0.5784750280583614\n",
      "Epoch 36 Iteration 0: Loss = 0.4950200319290161\n"
     ]
    },
    {
     "name": "stderr",
     "output_type": "stream",
     "text": [
      "100%|█████████████████████████████████████████████████████████████████████████████████████████████████████| 266/266 [00:15<00:00, 16.63it/s]\n",
      "100%|███████████████████████████████████████████████████████████████████████████████████████████████████████| 67/67 [00:03<00:00, 18.11it/s]\n"
     ]
    },
    {
     "name": "stdout",
     "output_type": "stream",
     "text": [
      "Computing accuracy\n",
      "Test set accuracy (Precision@1) = 0.5791105499438833\n",
      "Epoch 37 Iteration 0: Loss = 0.45734506845474243\n"
     ]
    },
    {
     "name": "stderr",
     "output_type": "stream",
     "text": [
      "100%|█████████████████████████████████████████████████████████████████████████████████████████████████████| 266/266 [00:15<00:00, 16.77it/s]\n",
      "100%|███████████████████████████████████████████████████████████████████████████████████████████████████████| 67/67 [00:03<00:00, 17.89it/s]\n"
     ]
    },
    {
     "name": "stdout",
     "output_type": "stream",
     "text": [
      "Computing accuracy\n",
      "Test set accuracy (Precision@1) = 0.5817831088664422\n",
      "Epoch 38 Iteration 0: Loss = 0.4658730924129486\n"
     ]
    },
    {
     "name": "stderr",
     "output_type": "stream",
     "text": [
      "100%|█████████████████████████████████████████████████████████████████████████████████████████████████████| 266/266 [00:15<00:00, 16.69it/s]\n",
      "100%|███████████████████████████████████████████████████████████████████████████████████████████████████████| 67/67 [00:03<00:00, 17.80it/s]\n"
     ]
    },
    {
     "name": "stdout",
     "output_type": "stream",
     "text": [
      "Computing accuracy\n",
      "Test set accuracy (Precision@1) = 0.5845398428731762\n",
      "Epoch 39 Iteration 0: Loss = 0.48437198996543884\n"
     ]
    },
    {
     "name": "stderr",
     "output_type": "stream",
     "text": [
      "100%|█████████████████████████████████████████████████████████████████████████████████████████████████████| 266/266 [00:16<00:00, 16.44it/s]\n",
      "100%|███████████████████████████████████████████████████████████████████████████████████████████████████████| 67/67 [00:03<00:00, 18.10it/s]\n"
     ]
    },
    {
     "name": "stdout",
     "output_type": "stream",
     "text": [
      "Computing accuracy\n",
      "Test set accuracy (Precision@1) = 0.5895580808080808\n",
      "Epoch 40 Iteration 0: Loss = 0.5305119752883911\n"
     ]
    },
    {
     "name": "stderr",
     "output_type": "stream",
     "text": [
      "100%|█████████████████████████████████████████████████████████████████████████████████████████████████████| 266/266 [00:15<00:00, 16.68it/s]\n",
      "100%|███████████████████████████████████████████████████████████████████████████████████████████████████████| 67/67 [00:03<00:00, 17.82it/s]\n"
     ]
    },
    {
     "name": "stdout",
     "output_type": "stream",
     "text": [
      "Computing accuracy\n",
      "Test set accuracy (Precision@1) = 0.5932519640852976\n",
      "Epoch 41 Iteration 0: Loss = 0.38376981019973755\n"
     ]
    },
    {
     "name": "stderr",
     "output_type": "stream",
     "text": [
      "100%|█████████████████████████████████████████████████████████████████████████████████████████████████████| 266/266 [00:15<00:00, 16.63it/s]\n",
      "100%|███████████████████████████████████████████████████████████████████████████████████████████████████████| 67/67 [00:03<00:00, 18.05it/s]\n"
     ]
    },
    {
     "name": "stdout",
     "output_type": "stream",
     "text": [
      "Computing accuracy\n",
      "Test set accuracy (Precision@1) = 0.593061167227834\n",
      "Epoch 42 Iteration 0: Loss = 0.4212360680103302\n"
     ]
    },
    {
     "name": "stderr",
     "output_type": "stream",
     "text": [
      "100%|█████████████████████████████████████████████████████████████████████████████████████████████████████| 266/266 [00:16<00:00, 16.50it/s]\n",
      "100%|███████████████████████████████████████████████████████████████████████████████████████████████████████| 67/67 [00:03<00:00, 18.34it/s]\n"
     ]
    },
    {
     "name": "stdout",
     "output_type": "stream",
     "text": [
      "Computing accuracy\n",
      "Test set accuracy (Precision@1) = 0.6027918069584736\n",
      "Epoch 43 Iteration 0: Loss = 0.5020262598991394\n"
     ]
    },
    {
     "name": "stderr",
     "output_type": "stream",
     "text": [
      "100%|█████████████████████████████████████████████████████████████████████████████████████████████████████| 266/266 [00:16<00:00, 16.15it/s]\n",
      "100%|███████████████████████████████████████████████████████████████████████████████████████████████████████| 67/67 [00:03<00:00, 18.30it/s]\n"
     ]
    },
    {
     "name": "stdout",
     "output_type": "stream",
     "text": [
      "Computing accuracy\n",
      "Test set accuracy (Precision@1) = 0.602317620650954\n",
      "Epoch 44 Iteration 0: Loss = 0.4627073109149933\n"
     ]
    },
    {
     "name": "stderr",
     "output_type": "stream",
     "text": [
      "100%|█████████████████████████████████████████████████████████████████████████████████████████████████████| 266/266 [00:15<00:00, 16.68it/s]\n",
      "100%|███████████████████████████████████████████████████████████████████████████████████████████████████████| 67/67 [00:03<00:00, 17.85it/s]\n"
     ]
    },
    {
     "name": "stdout",
     "output_type": "stream",
     "text": [
      "Computing accuracy\n",
      "Test set accuracy (Precision@1) = 0.5949705387205387\n",
      "Epoch 45 Iteration 0: Loss = 0.5063915252685547\n"
     ]
    },
    {
     "name": "stderr",
     "output_type": "stream",
     "text": [
      "100%|█████████████████████████████████████████████████████████████████████████████████████████████████████| 266/266 [00:16<00:00, 16.11it/s]\n",
      "100%|███████████████████████████████████████████████████████████████████████████████████████████████████████| 67/67 [00:03<00:00, 17.16it/s]\n"
     ]
    },
    {
     "name": "stdout",
     "output_type": "stream",
     "text": [
      "Computing accuracy\n",
      "Test set accuracy (Precision@1) = 0.5954040404040404\n",
      "Epoch 46 Iteration 0: Loss = 0.41099193692207336\n"
     ]
    },
    {
     "name": "stderr",
     "output_type": "stream",
     "text": [
      "100%|█████████████████████████████████████████████████████████████████████████████████████████████████████| 266/266 [00:16<00:00, 16.11it/s]\n",
      "100%|███████████████████████████████████████████████████████████████████████████████████████████████████████| 67/67 [00:03<00:00, 17.87it/s]\n"
     ]
    },
    {
     "name": "stdout",
     "output_type": "stream",
     "text": [
      "Computing accuracy\n",
      "Test set accuracy (Precision@1) = 0.6077960157126824\n",
      "Epoch 47 Iteration 0: Loss = 0.4977405071258545\n"
     ]
    },
    {
     "name": "stderr",
     "output_type": "stream",
     "text": [
      "100%|█████████████████████████████████████████████████████████████████████████████████████████████████████| 266/266 [00:16<00:00, 16.51it/s]\n",
      "100%|███████████████████████████████████████████████████████████████████████████████████████████████████████| 67/67 [00:03<00:00, 17.62it/s]\n"
     ]
    },
    {
     "name": "stdout",
     "output_type": "stream",
     "text": [
      "Computing accuracy\n",
      "Test set accuracy (Precision@1) = 0.6094584736251403\n",
      "Epoch 48 Iteration 0: Loss = 0.5156606435775757\n"
     ]
    },
    {
     "name": "stderr",
     "output_type": "stream",
     "text": [
      "100%|█████████████████████████████████████████████████████████████████████████████████████████████████████| 266/266 [00:16<00:00, 15.95it/s]\n",
      "100%|███████████████████████████████████████████████████████████████████████████████████████████████████████| 67/67 [00:03<00:00, 17.41it/s]\n"
     ]
    },
    {
     "name": "stdout",
     "output_type": "stream",
     "text": [
      "Computing accuracy\n",
      "Test set accuracy (Precision@1) = 0.6042887205387205\n",
      "Epoch 49 Iteration 0: Loss = 0.4147472381591797\n"
     ]
    },
    {
     "name": "stderr",
     "output_type": "stream",
     "text": [
      "100%|█████████████████████████████████████████████████████████████████████████████████████████████████████| 266/266 [00:15<00:00, 16.78it/s]\n",
      "100%|███████████████████████████████████████████████████████████████████████████████████████████████████████| 67/67 [00:03<00:00, 18.17it/s]\n"
     ]
    },
    {
     "name": "stdout",
     "output_type": "stream",
     "text": [
      "Computing accuracy\n",
      "Test set accuracy (Precision@1) = 0.6131734006734008\n",
      "Epoch 50 Iteration 0: Loss = 0.3933763802051544\n"
     ]
    },
    {
     "name": "stderr",
     "output_type": "stream",
     "text": [
      "100%|█████████████████████████████████████████████████████████████████████████████████████████████████████| 266/266 [00:16<00:00, 16.39it/s]\n",
      "100%|███████████████████████████████████████████████████████████████████████████████████████████████████████| 67/67 [00:03<00:00, 17.15it/s]\n"
     ]
    },
    {
     "name": "stdout",
     "output_type": "stream",
     "text": [
      "Computing accuracy\n",
      "Test set accuracy (Precision@1) = 0.6112023007856342\n",
      "Epoch 51 Iteration 0: Loss = 0.4456556737422943\n"
     ]
    },
    {
     "name": "stderr",
     "output_type": "stream",
     "text": [
      "100%|█████████████████████████████████████████████████████████████████████████████████████████████████████| 266/266 [00:16<00:00, 16.22it/s]\n",
      "100%|███████████████████████████████████████████████████████████████████████████████████████████████████████| 67/67 [00:03<00:00, 17.95it/s]\n"
     ]
    },
    {
     "name": "stdout",
     "output_type": "stream",
     "text": [
      "Computing accuracy\n",
      "Test set accuracy (Precision@1) = 0.6212373737373738\n",
      "Epoch 52 Iteration 0: Loss = 0.44040340185165405\n"
     ]
    },
    {
     "name": "stderr",
     "output_type": "stream",
     "text": [
      "100%|█████████████████████████████████████████████████████████████████████████████████████████████████████| 266/266 [00:16<00:00, 16.03it/s]\n",
      "100%|███████████████████████████████████████████████████████████████████████████████████████████████████████| 67/67 [00:03<00:00, 17.45it/s]\n"
     ]
    },
    {
     "name": "stdout",
     "output_type": "stream",
     "text": [
      "Computing accuracy\n",
      "Test set accuracy (Precision@1) = 0.6207112794612795\n",
      "Epoch 53 Iteration 0: Loss = 0.4474686086177826\n"
     ]
    },
    {
     "name": "stderr",
     "output_type": "stream",
     "text": [
      "100%|█████████████████████████████████████████████████████████████████████████████████████████████████████| 266/266 [00:16<00:00, 15.91it/s]\n",
      "100%|███████████████████████████████████████████████████████████████████████████████████████████████████████| 67/67 [00:04<00:00, 16.03it/s]\n"
     ]
    },
    {
     "name": "stdout",
     "output_type": "stream",
     "text": [
      "Computing accuracy\n",
      "Test set accuracy (Precision@1) = 0.6253128507295175\n",
      "Epoch 54 Iteration 0: Loss = 0.45526325702667236\n"
     ]
    },
    {
     "name": "stderr",
     "output_type": "stream",
     "text": [
      "100%|█████████████████████████████████████████████████████████████████████████████████████████████████████| 266/266 [00:17<00:00, 15.22it/s]\n",
      "100%|███████████████████████████████████████████████████████████████████████████████████████████████████████| 67/67 [00:04<00:00, 16.05it/s]\n"
     ]
    },
    {
     "name": "stdout",
     "output_type": "stream",
     "text": [
      "Computing accuracy\n",
      "Test set accuracy (Precision@1) = 0.6229026374859709\n",
      "Epoch 55 Iteration 0: Loss = 0.37334102392196655\n"
     ]
    },
    {
     "name": "stderr",
     "output_type": "stream",
     "text": [
      "100%|█████████████████████████████████████████████████████████████████████████████████████████████████████| 266/266 [00:16<00:00, 15.88it/s]\n",
      "100%|███████████████████████████████████████████████████████████████████████████████████████████████████████| 67/67 [00:03<00:00, 17.50it/s]\n"
     ]
    },
    {
     "name": "stdout",
     "output_type": "stream",
     "text": [
      "Computing accuracy\n",
      "Test set accuracy (Precision@1) = 0.6167606621773289\n",
      "Epoch 56 Iteration 0: Loss = 0.40166181325912476\n"
     ]
    },
    {
     "name": "stderr",
     "output_type": "stream",
     "text": [
      "100%|█████████████████████████████████████████████████████████████████████████████████████████████████████| 266/266 [00:15<00:00, 16.64it/s]\n",
      "100%|███████████████████████████████████████████████████████████████████████████████████████████████████████| 67/67 [00:03<00:00, 17.91it/s]\n"
     ]
    },
    {
     "name": "stdout",
     "output_type": "stream",
     "text": [
      "Computing accuracy\n",
      "Test set accuracy (Precision@1) = 0.6301094276094276\n",
      "Epoch 57 Iteration 0: Loss = 0.40978941321372986\n"
     ]
    },
    {
     "name": "stderr",
     "output_type": "stream",
     "text": [
      "100%|█████████████████████████████████████████████████████████████████████████████████████████████████████| 266/266 [00:15<00:00, 16.81it/s]\n",
      "100%|███████████████████████████████████████████████████████████████████████████████████████████████████████| 67/67 [00:03<00:00, 18.33it/s]\n"
     ]
    },
    {
     "name": "stdout",
     "output_type": "stream",
     "text": [
      "Computing accuracy\n",
      "Test set accuracy (Precision@1) = 0.6367185746352414\n",
      "Epoch 58 Iteration 0: Loss = 0.4546130299568176\n"
     ]
    },
    {
     "name": "stderr",
     "output_type": "stream",
     "text": [
      "100%|█████████████████████████████████████████████████████████████████████████████████████████████████████| 266/266 [00:15<00:00, 16.83it/s]\n",
      "100%|███████████████████████████████████████████████████████████████████████████████████████████████████████| 67/67 [00:03<00:00, 17.85it/s]\n"
     ]
    },
    {
     "name": "stdout",
     "output_type": "stream",
     "text": [
      "Computing accuracy\n",
      "Test set accuracy (Precision@1) = 0.6226052188552188\n",
      "Epoch 59 Iteration 0: Loss = 0.4638465642929077\n"
     ]
    },
    {
     "name": "stderr",
     "output_type": "stream",
     "text": [
      "100%|█████████████████████████████████████████████████████████████████████████████████████████████████████| 266/266 [00:16<00:00, 16.37it/s]\n",
      "100%|███████████████████████████████████████████████████████████████████████████████████████████████████████| 67/67 [00:03<00:00, 17.68it/s]\n"
     ]
    },
    {
     "name": "stdout",
     "output_type": "stream",
     "text": [
      "Computing accuracy\n",
      "Test set accuracy (Precision@1) = 0.6106691919191919\n",
      "Epoch 60 Iteration 0: Loss = 0.4222058653831482\n"
     ]
    },
    {
     "name": "stderr",
     "output_type": "stream",
     "text": [
      "100%|█████████████████████████████████████████████████████████████████████████████████████████████████████| 266/266 [00:15<00:00, 16.78it/s]\n",
      "100%|███████████████████████████████████████████████████████████████████████████████████████████████████████| 67/67 [00:03<00:00, 18.19it/s]\n"
     ]
    },
    {
     "name": "stdout",
     "output_type": "stream",
     "text": [
      "Computing accuracy\n",
      "Test set accuracy (Precision@1) = 0.6198667227833895\n",
      "Epoch 61 Iteration 0: Loss = 0.44708171486854553\n"
     ]
    },
    {
     "name": "stderr",
     "output_type": "stream",
     "text": [
      "100%|█████████████████████████████████████████████████████████████████████████████████████████████████████| 266/266 [00:16<00:00, 16.50it/s]\n",
      "100%|███████████████████████████████████████████████████████████████████████████████████████████████████████| 67/67 [00:03<00:00, 18.18it/s]\n"
     ]
    },
    {
     "name": "stdout",
     "output_type": "stream",
     "text": [
      "Computing accuracy\n",
      "Test set accuracy (Precision@1) = 0.6236125140291807\n",
      "Epoch 62 Iteration 0: Loss = 0.40491440892219543\n"
     ]
    },
    {
     "name": "stderr",
     "output_type": "stream",
     "text": [
      "100%|█████████████████████████████████████████████████████████████████████████████████████████████████████| 266/266 [00:16<00:00, 16.53it/s]\n",
      "100%|███████████████████████████████████████████████████████████████████████████████████████████████████████| 67/67 [00:03<00:00, 17.72it/s]\n"
     ]
    },
    {
     "name": "stdout",
     "output_type": "stream",
     "text": [
      "Computing accuracy\n",
      "Test set accuracy (Precision@1) = 0.628270202020202\n",
      "Epoch 63 Iteration 0: Loss = 0.41886427998542786\n"
     ]
    },
    {
     "name": "stderr",
     "output_type": "stream",
     "text": [
      "100%|█████████████████████████████████████████████████████████████████████████████████████████████████████| 266/266 [00:16<00:00, 16.59it/s]\n",
      "100%|███████████████████████████████████████████████████████████████████████████████████████████████████████| 67/67 [00:03<00:00, 18.22it/s]\n"
     ]
    },
    {
     "name": "stdout",
     "output_type": "stream",
     "text": [
      "Computing accuracy\n",
      "Test set accuracy (Precision@1) = 0.6373190235690236\n",
      "Epoch 64 Iteration 0: Loss = 0.3882385194301605\n"
     ]
    },
    {
     "name": "stderr",
     "output_type": "stream",
     "text": [
      "100%|█████████████████████████████████████████████████████████████████████████████████████████████████████| 266/266 [00:15<00:00, 16.96it/s]\n",
      "100%|███████████████████████████████████████████████████████████████████████████████████████████████████████| 67/67 [00:03<00:00, 18.02it/s]\n"
     ]
    },
    {
     "name": "stdout",
     "output_type": "stream",
     "text": [
      "Computing accuracy\n",
      "Test set accuracy (Precision@1) = 0.6265796857463524\n",
      "Epoch 65 Iteration 0: Loss = 0.4712846875190735\n"
     ]
    },
    {
     "name": "stderr",
     "output_type": "stream",
     "text": [
      "100%|█████████████████████████████████████████████████████████████████████████████████████████████████████| 266/266 [00:15<00:00, 16.67it/s]\n",
      "100%|███████████████████████████████████████████████████████████████████████████████████████████████████████| 67/67 [00:03<00:00, 17.49it/s]\n"
     ]
    },
    {
     "name": "stdout",
     "output_type": "stream",
     "text": [
      "Computing accuracy\n",
      "Test set accuracy (Precision@1) = 0.6273442760942761\n",
      "Epoch 66 Iteration 0: Loss = 0.3700811564922333\n"
     ]
    },
    {
     "name": "stderr",
     "output_type": "stream",
     "text": [
      "100%|█████████████████████████████████████████████████████████████████████████████████████████████████████| 266/266 [00:15<00:00, 16.64it/s]\n",
      "100%|███████████████████████████████████████████████████████████████████████████████████████████████████████| 67/67 [00:03<00:00, 18.41it/s]\n"
     ]
    },
    {
     "name": "stdout",
     "output_type": "stream",
     "text": [
      "Computing accuracy\n",
      "Test set accuracy (Precision@1) = 0.6343532547699215\n",
      "Epoch 67 Iteration 0: Loss = 0.47819387912750244\n"
     ]
    },
    {
     "name": "stderr",
     "output_type": "stream",
     "text": [
      "100%|█████████████████████████████████████████████████████████████████████████████████████████████████████| 266/266 [00:17<00:00, 15.46it/s]\n",
      "100%|███████████████████████████████████████████████████████████████████████████████████████████████████████| 67/67 [00:04<00:00, 15.07it/s]\n"
     ]
    },
    {
     "name": "stdout",
     "output_type": "stream",
     "text": [
      "Computing accuracy\n",
      "Test set accuracy (Precision@1) = 0.6403184624017958\n",
      "Epoch 68 Iteration 0: Loss = 0.48984047770500183\n"
     ]
    },
    {
     "name": "stderr",
     "output_type": "stream",
     "text": [
      "100%|█████████████████████████████████████████████████████████████████████████████████████████████████████| 266/266 [00:15<00:00, 17.01it/s]\n",
      "100%|███████████████████████████████████████████████████████████████████████████████████████████████████████| 67/67 [00:03<00:00, 18.09it/s]\n"
     ]
    },
    {
     "name": "stdout",
     "output_type": "stream",
     "text": [
      "Computing accuracy\n",
      "Test set accuracy (Precision@1) = 0.6330569584736252\n",
      "Epoch 69 Iteration 0: Loss = 0.43900302052497864\n"
     ]
    },
    {
     "name": "stderr",
     "output_type": "stream",
     "text": [
      "100%|█████████████████████████████████████████████████████████████████████████████████████████████████████| 266/266 [00:15<00:00, 16.91it/s]\n",
      "100%|███████████████████████████████████████████████████████████████████████████████████████████████████████| 67/67 [00:03<00:00, 17.39it/s]\n"
     ]
    },
    {
     "name": "stdout",
     "output_type": "stream",
     "text": [
      "Computing accuracy\n",
      "Test set accuracy (Precision@1) = 0.6301781705948373\n",
      "Epoch 70 Iteration 0: Loss = 0.4624280333518982\n"
     ]
    },
    {
     "name": "stderr",
     "output_type": "stream",
     "text": [
      "100%|█████████████████████████████████████████████████████████████████████████████████████████████████████| 266/266 [00:15<00:00, 16.76it/s]\n",
      "100%|███████████████████████████████████████████████████████████████████████████████████████████████████████| 67/67 [00:03<00:00, 17.79it/s]\n"
     ]
    },
    {
     "name": "stdout",
     "output_type": "stream",
     "text": [
      "Computing accuracy\n",
      "Test set accuracy (Precision@1) = 0.6419234006734007\n",
      "Epoch 71 Iteration 0: Loss = 0.3401699960231781\n"
     ]
    },
    {
     "name": "stderr",
     "output_type": "stream",
     "text": [
      "100%|█████████████████████████████████████████████████████████████████████████████████████████████████████| 266/266 [00:15<00:00, 16.99it/s]\n",
      "100%|███████████████████████████████████████████████████████████████████████████████████████████████████████| 67/67 [00:03<00:00, 18.10it/s]\n"
     ]
    },
    {
     "name": "stdout",
     "output_type": "stream",
     "text": [
      "Computing accuracy\n",
      "Test set accuracy (Precision@1) = 0.6335620089786757\n",
      "Epoch 72 Iteration 0: Loss = 0.45276033878326416\n"
     ]
    },
    {
     "name": "stderr",
     "output_type": "stream",
     "text": [
      "100%|█████████████████████████████████████████████████████████████████████████████████████████████████████| 266/266 [00:15<00:00, 16.82it/s]\n",
      "100%|███████████████████████████████████████████████████████████████████████████████████████████████████████| 67/67 [00:04<00:00, 16.67it/s]\n"
     ]
    },
    {
     "name": "stdout",
     "output_type": "stream",
     "text": [
      "Computing accuracy\n",
      "Test set accuracy (Precision@1) = 0.6355765993265994\n",
      "Epoch 73 Iteration 0: Loss = 0.4222331643104553\n"
     ]
    },
    {
     "name": "stderr",
     "output_type": "stream",
     "text": [
      "100%|█████████████████████████████████████████████████████████████████████████████████████████████████████| 266/266 [00:15<00:00, 16.78it/s]\n",
      "100%|███████████████████████████████████████████████████████████████████████████████████████████████████████| 67/67 [00:03<00:00, 17.73it/s]\n"
     ]
    },
    {
     "name": "stdout",
     "output_type": "stream",
     "text": [
      "Computing accuracy\n",
      "Test set accuracy (Precision@1) = 0.6347615039281707\n",
      "Epoch 74 Iteration 0: Loss = 0.447605699300766\n"
     ]
    },
    {
     "name": "stderr",
     "output_type": "stream",
     "text": [
      "100%|█████████████████████████████████████████████████████████████████████████████████████████████████████| 266/266 [00:16<00:00, 16.60it/s]\n",
      "100%|███████████████████████████████████████████████████████████████████████████████████████████████████████| 67/67 [00:03<00:00, 18.22it/s]\n"
     ]
    },
    {
     "name": "stdout",
     "output_type": "stream",
     "text": [
      "Computing accuracy\n",
      "Test set accuracy (Precision@1) = 0.6271787317620652\n",
      "Epoch 75 Iteration 0: Loss = 0.44514200091362\n"
     ]
    },
    {
     "name": "stderr",
     "output_type": "stream",
     "text": [
      "100%|█████████████████████████████████████████████████████████████████████████████████████████████████████| 266/266 [00:16<00:00, 16.61it/s]\n",
      "100%|███████████████████████████████████████████████████████████████████████████████████████████████████████| 67/67 [00:03<00:00, 18.32it/s]\n"
     ]
    },
    {
     "name": "stdout",
     "output_type": "stream",
     "text": [
      "Computing accuracy\n",
      "Test set accuracy (Precision@1) = 0.6438201459034794\n",
      "Epoch 76 Iteration 0: Loss = 0.39901384711265564\n"
     ]
    },
    {
     "name": "stderr",
     "output_type": "stream",
     "text": [
      "100%|█████████████████████████████████████████████████████████████████████████████████████████████████████| 266/266 [00:15<00:00, 16.76it/s]\n",
      "100%|███████████████████████████████████████████████████████████████████████████████████████████████████████| 67/67 [00:03<00:00, 18.08it/s]\n"
     ]
    },
    {
     "name": "stdout",
     "output_type": "stream",
     "text": [
      "Computing accuracy\n",
      "Test set accuracy (Precision@1) = 0.6522152076318743\n",
      "Epoch 77 Iteration 0: Loss = 0.31864282488822937\n"
     ]
    },
    {
     "name": "stderr",
     "output_type": "stream",
     "text": [
      "100%|█████████████████████████████████████████████████████████████████████████████████████████████████████| 266/266 [00:16<00:00, 16.51it/s]\n",
      "100%|███████████████████████████████████████████████████████████████████████████████████████████████████████| 67/67 [00:03<00:00, 18.44it/s]\n"
     ]
    },
    {
     "name": "stdout",
     "output_type": "stream",
     "text": [
      "Computing accuracy\n",
      "Test set accuracy (Precision@1) = 0.6481271043771044\n",
      "Epoch 78 Iteration 0: Loss = 0.41134411096572876\n"
     ]
    },
    {
     "name": "stderr",
     "output_type": "stream",
     "text": [
      "100%|█████████████████████████████████████████████████████████████████████████████████████████████████████| 266/266 [00:15<00:00, 17.02it/s]\n",
      "100%|███████████████████████████████████████████████████████████████████████████████████████████████████████| 67/67 [00:03<00:00, 18.34it/s]\n"
     ]
    },
    {
     "name": "stdout",
     "output_type": "stream",
     "text": [
      "Computing accuracy\n",
      "Test set accuracy (Precision@1) = 0.6396394500561168\n",
      "Epoch 79 Iteration 0: Loss = 0.3763630986213684\n"
     ]
    },
    {
     "name": "stderr",
     "output_type": "stream",
     "text": [
      "100%|█████████████████████████████████████████████████████████████████████████████████████████████████████| 266/266 [00:15<00:00, 17.08it/s]\n",
      "100%|███████████████████████████████████████████████████████████████████████████████████████████████████████| 67/67 [00:03<00:00, 18.28it/s]\n"
     ]
    },
    {
     "name": "stdout",
     "output_type": "stream",
     "text": [
      "Computing accuracy\n",
      "Test set accuracy (Precision@1) = 0.6538818742985409\n",
      "Epoch 80 Iteration 0: Loss = 0.430843323469162\n"
     ]
    },
    {
     "name": "stderr",
     "output_type": "stream",
     "text": [
      "100%|█████████████████████████████████████████████████████████████████████████████████████████████████████| 266/266 [00:15<00:00, 17.14it/s]\n",
      "100%|███████████████████████████████████████████████████████████████████████████████████████████████████████| 67/67 [00:03<00:00, 18.43it/s]\n"
     ]
    },
    {
     "name": "stdout",
     "output_type": "stream",
     "text": [
      "Computing accuracy\n",
      "Test set accuracy (Precision@1) = 0.6366063411896745\n",
      "Epoch 81 Iteration 0: Loss = 0.40070840716362\n"
     ]
    },
    {
     "name": "stderr",
     "output_type": "stream",
     "text": [
      "100%|█████████████████████████████████████████████████████████████████████████████████████████████████████| 266/266 [00:15<00:00, 17.12it/s]\n",
      "100%|███████████████████████████████████████████████████████████████████████████████████████████████████████| 67/67 [00:03<00:00, 18.38it/s]\n"
     ]
    },
    {
     "name": "stdout",
     "output_type": "stream",
     "text": [
      "Computing accuracy\n",
      "Test set accuracy (Precision@1) = 0.6551865881032548\n",
      "Epoch 82 Iteration 0: Loss = 0.4458460807800293\n"
     ]
    },
    {
     "name": "stderr",
     "output_type": "stream",
     "text": [
      "100%|█████████████████████████████████████████████████████████████████████████████████████████████████████| 266/266 [00:15<00:00, 17.07it/s]\n",
      "100%|███████████████████████████████████████████████████████████████████████████████████████████████████████| 67/67 [00:03<00:00, 18.45it/s]\n"
     ]
    },
    {
     "name": "stdout",
     "output_type": "stream",
     "text": [
      "Computing accuracy\n",
      "Test set accuracy (Precision@1) = 0.6368504489337824\n",
      "Epoch 83 Iteration 0: Loss = 0.406769722700119\n"
     ]
    },
    {
     "name": "stderr",
     "output_type": "stream",
     "text": [
      "100%|█████████████████████████████████████████████████████████████████████████████████████████████████████| 266/266 [00:15<00:00, 16.88it/s]\n",
      "100%|███████████████████████████████████████████████████████████████████████████████████████████████████████| 67/67 [00:03<00:00, 17.99it/s]\n"
     ]
    },
    {
     "name": "stdout",
     "output_type": "stream",
     "text": [
      "Computing accuracy\n",
      "Test set accuracy (Precision@1) = 0.6466343995510664\n",
      "Epoch 84 Iteration 0: Loss = 0.4504885971546173\n"
     ]
    },
    {
     "name": "stderr",
     "output_type": "stream",
     "text": [
      "100%|█████████████████████████████████████████████████████████████████████████████████████████████████████| 266/266 [00:15<00:00, 17.03it/s]\n",
      "100%|███████████████████████████████████████████████████████████████████████████████████████████████████████| 67/67 [00:03<00:00, 18.20it/s]\n"
     ]
    },
    {
     "name": "stdout",
     "output_type": "stream",
     "text": [
      "Computing accuracy\n",
      "Test set accuracy (Precision@1) = 0.6470356341189675\n",
      "Epoch 85 Iteration 0: Loss = 0.4382650852203369\n"
     ]
    },
    {
     "name": "stderr",
     "output_type": "stream",
     "text": [
      "100%|█████████████████████████████████████████████████████████████████████████████████████████████████████| 266/266 [00:15<00:00, 17.00it/s]\n",
      "100%|███████████████████████████████████████████████████████████████████████████████████████████████████████| 67/67 [00:03<00:00, 18.30it/s]\n"
     ]
    },
    {
     "name": "stdout",
     "output_type": "stream",
     "text": [
      "Computing accuracy\n",
      "Test set accuracy (Precision@1) = 0.6432505611672279\n",
      "Epoch 86 Iteration 0: Loss = 0.39340779185295105\n"
     ]
    },
    {
     "name": "stderr",
     "output_type": "stream",
     "text": [
      "100%|█████████████████████████████████████████████████████████████████████████████████████████████████████| 266/266 [00:15<00:00, 16.87it/s]\n",
      "100%|███████████████████████████████████████████████████████████████████████████████████████████████████████| 67/67 [00:03<00:00, 18.24it/s]\n"
     ]
    },
    {
     "name": "stdout",
     "output_type": "stream",
     "text": [
      "Computing accuracy\n",
      "Test set accuracy (Precision@1) = 0.6464267676767677\n",
      "Epoch 87 Iteration 0: Loss = 0.4206005334854126\n"
     ]
    },
    {
     "name": "stderr",
     "output_type": "stream",
     "text": [
      "100%|█████████████████████████████████████████████████████████████████████████████████████████████████████| 266/266 [00:15<00:00, 16.75it/s]\n",
      "100%|███████████████████████████████████████████████████████████████████████████████████████████████████████| 67/67 [00:03<00:00, 17.97it/s]\n"
     ]
    },
    {
     "name": "stdout",
     "output_type": "stream",
     "text": [
      "Computing accuracy\n",
      "Test set accuracy (Precision@1) = 0.6468700897867564\n",
      "Epoch 88 Iteration 0: Loss = 0.4414263069629669\n"
     ]
    },
    {
     "name": "stderr",
     "output_type": "stream",
     "text": [
      "100%|█████████████████████████████████████████████████████████████████████████████████████████████████████| 266/266 [00:16<00:00, 16.32it/s]\n",
      "100%|███████████████████████████████████████████████████████████████████████████████████████████████████████| 67/67 [00:03<00:00, 17.46it/s]\n"
     ]
    },
    {
     "name": "stdout",
     "output_type": "stream",
     "text": [
      "Computing accuracy\n",
      "Test set accuracy (Precision@1) = 0.6567213804713805\n",
      "Epoch 89 Iteration 0: Loss = 0.4199307858943939\n"
     ]
    },
    {
     "name": "stderr",
     "output_type": "stream",
     "text": [
      "100%|█████████████████████████████████████████████████████████████████████████████████████████████████████| 266/266 [00:15<00:00, 16.83it/s]\n",
      "100%|███████████████████████████████████████████████████████████████████████████████████████████████████████| 67/67 [00:03<00:00, 18.14it/s]\n"
     ]
    },
    {
     "name": "stdout",
     "output_type": "stream",
     "text": [
      "Computing accuracy\n",
      "Test set accuracy (Precision@1) = 0.6498274410774411\n",
      "Epoch 90 Iteration 0: Loss = 0.362949937582016\n"
     ]
    },
    {
     "name": "stderr",
     "output_type": "stream",
     "text": [
      "100%|█████████████████████████████████████████████████████████████████████████████████████████████████████| 266/266 [00:15<00:00, 16.82it/s]\n",
      "100%|███████████████████████████████████████████████████████████████████████████████████████████████████████| 67/67 [00:03<00:00, 17.74it/s]\n"
     ]
    },
    {
     "name": "stdout",
     "output_type": "stream",
     "text": [
      "Computing accuracy\n",
      "Test set accuracy (Precision@1) = 0.6420973625140292\n",
      "Epoch 91 Iteration 0: Loss = 0.4263118803501129\n"
     ]
    },
    {
     "name": "stderr",
     "output_type": "stream",
     "text": [
      "100%|█████████████████████████████████████████████████████████████████████████████████████████████████████| 266/266 [00:15<00:00, 17.00it/s]\n",
      "100%|███████████████████████████████████████████████████████████████████████████████████████████████████████| 67/67 [00:03<00:00, 18.38it/s]\n"
     ]
    },
    {
     "name": "stdout",
     "output_type": "stream",
     "text": [
      "Computing accuracy\n",
      "Test set accuracy (Precision@1) = 0.6590333894500562\n",
      "Epoch 92 Iteration 0: Loss = 0.44061678647994995\n"
     ]
    },
    {
     "name": "stderr",
     "output_type": "stream",
     "text": [
      "100%|█████████████████████████████████████████████████████████████████████████████████████████████████████| 266/266 [00:15<00:00, 17.00it/s]\n",
      "100%|███████████████████████████████████████████████████████████████████████████████████████████████████████| 67/67 [00:03<00:00, 18.21it/s]\n"
     ]
    },
    {
     "name": "stdout",
     "output_type": "stream",
     "text": [
      "Computing accuracy\n",
      "Test set accuracy (Precision@1) = 0.6612864758698093\n",
      "Epoch 93 Iteration 0: Loss = 0.41175979375839233\n"
     ]
    },
    {
     "name": "stderr",
     "output_type": "stream",
     "text": [
      "100%|█████████████████████████████████████████████████████████████████████████████████████████████████████| 266/266 [00:15<00:00, 16.68it/s]\n",
      "100%|███████████████████████████████████████████████████████████████████████████████████████████████████████| 67/67 [00:03<00:00, 18.28it/s]\n"
     ]
    },
    {
     "name": "stdout",
     "output_type": "stream",
     "text": [
      "Computing accuracy\n",
      "Test set accuracy (Precision@1) = 0.6633487654320989\n",
      "Epoch 94 Iteration 0: Loss = 0.3796713650226593\n"
     ]
    },
    {
     "name": "stderr",
     "output_type": "stream",
     "text": [
      "100%|█████████████████████████████████████████████████████████████████████████████████████████████████████| 266/266 [00:15<00:00, 16.89it/s]\n",
      "100%|███████████████████████████████████████████████████████████████████████████████████████████████████████| 67/67 [00:03<00:00, 18.19it/s]\n"
     ]
    },
    {
     "name": "stdout",
     "output_type": "stream",
     "text": [
      "Computing accuracy\n",
      "Test set accuracy (Precision@1) = 0.643334736251403\n",
      "Epoch 95 Iteration 0: Loss = 0.39914458990097046\n"
     ]
    },
    {
     "name": "stderr",
     "output_type": "stream",
     "text": [
      "100%|█████████████████████████████████████████████████████████████████████████████████████████████████████| 266/266 [00:15<00:00, 16.88it/s]\n",
      "100%|███████████████████████████████████████████████████████████████████████████████████████████████████████| 67/67 [00:03<00:00, 18.01it/s]\n"
     ]
    },
    {
     "name": "stdout",
     "output_type": "stream",
     "text": [
      "Computing accuracy\n",
      "Test set accuracy (Precision@1) = 0.6472320426487094\n",
      "Epoch 96 Iteration 0: Loss = 0.4447709918022156\n"
     ]
    },
    {
     "name": "stderr",
     "output_type": "stream",
     "text": [
      "100%|█████████████████████████████████████████████████████████████████████████████████████████████████████| 266/266 [00:16<00:00, 16.49it/s]\n",
      "100%|███████████████████████████████████████████████████████████████████████████████████████████████████████| 67/67 [00:03<00:00, 17.98it/s]\n"
     ]
    },
    {
     "name": "stdout",
     "output_type": "stream",
     "text": [
      "Computing accuracy\n",
      "Test set accuracy (Precision@1) = 0.6536714365881033\n",
      "Epoch 97 Iteration 0: Loss = 0.42862647771835327\n"
     ]
    },
    {
     "name": "stderr",
     "output_type": "stream",
     "text": [
      "100%|█████████████████████████████████████████████████████████████████████████████████████████████████████| 266/266 [00:16<00:00, 16.37it/s]\n",
      "100%|███████████████████████████████████████████████████████████████████████████████████████████████████████| 67/67 [00:03<00:00, 17.34it/s]\n"
     ]
    },
    {
     "name": "stdout",
     "output_type": "stream",
     "text": [
      "Computing accuracy\n",
      "Test set accuracy (Precision@1) = 0.6645159932659933\n",
      "Epoch 98 Iteration 0: Loss = 0.424744188785553\n"
     ]
    },
    {
     "name": "stderr",
     "output_type": "stream",
     "text": [
      "100%|█████████████████████████████████████████████████████████████████████████████████████████████████████| 266/266 [00:16<00:00, 16.23it/s]\n",
      "100%|███████████████████████████████████████████████████████████████████████████████████████████████████████| 67/67 [00:03<00:00, 17.61it/s]\n"
     ]
    },
    {
     "name": "stdout",
     "output_type": "stream",
     "text": [
      "Computing accuracy\n",
      "Test set accuracy (Precision@1) = 0.647159090909091\n",
      "Epoch 99 Iteration 0: Loss = 0.35271376371383667\n"
     ]
    },
    {
     "name": "stderr",
     "output_type": "stream",
     "text": [
      "100%|█████████████████████████████████████████████████████████████████████████████████████████████████████| 266/266 [00:16<00:00, 15.92it/s]\n",
      "100%|███████████████████████████████████████████████████████████████████████████████████████████████████████| 67/67 [00:03<00:00, 16.78it/s]\n"
     ]
    },
    {
     "name": "stdout",
     "output_type": "stream",
     "text": [
      "Computing accuracy\n",
      "Test set accuracy (Precision@1) = 0.6719037598204265\n",
      "Epoch 100 Iteration 0: Loss = 0.33998903632164\n"
     ]
    },
    {
     "name": "stderr",
     "output_type": "stream",
     "text": [
      "100%|█████████████████████████████████████████████████████████████████████████████████████████████████████| 266/266 [00:16<00:00, 15.88it/s]\n",
      "100%|███████████████████████████████████████████████████████████████████████████████████████████████████████| 67/67 [00:03<00:00, 18.02it/s]"
     ]
    },
    {
     "name": "stdout",
     "output_type": "stream",
     "text": [
      "Computing accuracy\n",
      "Test set accuracy (Precision@1) = 0.6624284511784511\n"
     ]
    },
    {
     "name": "stderr",
     "output_type": "stream",
     "text": [
      "\n"
     ]
    }
   ],
   "source": [
    "#total_loss = []\n",
    "#total_acc = []\n",
    "for epoch in range(1, num_epochs + 1):\n",
    "    train_loss = train(model, loss_func,mining_func, device, train_loader, optimizer, epoch)\n",
    "    #total_loss.extend(train_loss)\n",
    "    test_acc = test(train_dataset, test_dataset, model, accuracy_calculator)\n",
    "    #total_acc.append(test_acc)\n",
    "    wandb.log({\"test_accuracy2\": test_acc, \"train_loss2\": train_loss,\"epoch\": epoch})"
   ]
  },
  {
   "cell_type": "code",
   "execution_count": 49,
   "id": "440edbeb-80f8-42ec-9547-7bf913aa64b2",
   "metadata": {},
   "outputs": [],
   "source": [
    "torch.save(model,'models/cub_triplet_loss_epshn_resnet18_sgd_aug_180.pth')"
   ]
  },
  {
   "cell_type": "code",
   "execution_count": 32,
   "id": "3afb879b-ef20-45fc-9dbe-6d92e842b99e",
   "metadata": {},
   "outputs": [],
   "source": [
    "model = torch.load('models/cub_triplet_loss_epshn_resnet18_sgd_aug_180.pth',map_location='cuda')"
   ]
  },
  {
   "cell_type": "code",
   "execution_count": 33,
   "id": "1ae29c0e-7b43-4364-a8b8-fcd403a56cbc",
   "metadata": {
    "scrolled": true
   },
   "outputs": [
    {
     "data": {
      "text/plain": [
       "ResNetFeatrueExtractor18(\n",
       "  (conv1): Conv2d(3, 64, kernel_size=(7, 7), stride=(2, 2), padding=(3, 3), bias=False)\n",
       "  (bn1): BatchNorm2d(64, eps=1e-05, momentum=0.1, affine=True, track_running_stats=True)\n",
       "  (relu): ReLU(inplace=True)\n",
       "  (maxpool): MaxPool2d(kernel_size=3, stride=2, padding=1, dilation=1, ceil_mode=False)\n",
       "  (layer1): Sequential(\n",
       "    (0): BasicBlock(\n",
       "      (conv1): Conv2d(64, 64, kernel_size=(3, 3), stride=(1, 1), padding=(1, 1), bias=False)\n",
       "      (bn1): BatchNorm2d(64, eps=1e-05, momentum=0.1, affine=True, track_running_stats=True)\n",
       "      (relu): ReLU(inplace=True)\n",
       "      (conv2): Conv2d(64, 64, kernel_size=(3, 3), stride=(1, 1), padding=(1, 1), bias=False)\n",
       "      (bn2): BatchNorm2d(64, eps=1e-05, momentum=0.1, affine=True, track_running_stats=True)\n",
       "    )\n",
       "    (1): BasicBlock(\n",
       "      (conv1): Conv2d(64, 64, kernel_size=(3, 3), stride=(1, 1), padding=(1, 1), bias=False)\n",
       "      (bn1): BatchNorm2d(64, eps=1e-05, momentum=0.1, affine=True, track_running_stats=True)\n",
       "      (relu): ReLU(inplace=True)\n",
       "      (conv2): Conv2d(64, 64, kernel_size=(3, 3), stride=(1, 1), padding=(1, 1), bias=False)\n",
       "      (bn2): BatchNorm2d(64, eps=1e-05, momentum=0.1, affine=True, track_running_stats=True)\n",
       "    )\n",
       "  )\n",
       "  (layer2): Sequential(\n",
       "    (0): BasicBlock(\n",
       "      (conv1): Conv2d(64, 128, kernel_size=(3, 3), stride=(2, 2), padding=(1, 1), bias=False)\n",
       "      (bn1): BatchNorm2d(128, eps=1e-05, momentum=0.1, affine=True, track_running_stats=True)\n",
       "      (relu): ReLU(inplace=True)\n",
       "      (conv2): Conv2d(128, 128, kernel_size=(3, 3), stride=(1, 1), padding=(1, 1), bias=False)\n",
       "      (bn2): BatchNorm2d(128, eps=1e-05, momentum=0.1, affine=True, track_running_stats=True)\n",
       "      (downsample): Sequential(\n",
       "        (0): Conv2d(64, 128, kernel_size=(1, 1), stride=(2, 2), bias=False)\n",
       "        (1): BatchNorm2d(128, eps=1e-05, momentum=0.1, affine=True, track_running_stats=True)\n",
       "      )\n",
       "    )\n",
       "    (1): BasicBlock(\n",
       "      (conv1): Conv2d(128, 128, kernel_size=(3, 3), stride=(1, 1), padding=(1, 1), bias=False)\n",
       "      (bn1): BatchNorm2d(128, eps=1e-05, momentum=0.1, affine=True, track_running_stats=True)\n",
       "      (relu): ReLU(inplace=True)\n",
       "      (conv2): Conv2d(128, 128, kernel_size=(3, 3), stride=(1, 1), padding=(1, 1), bias=False)\n",
       "      (bn2): BatchNorm2d(128, eps=1e-05, momentum=0.1, affine=True, track_running_stats=True)\n",
       "    )\n",
       "  )\n",
       "  (layer3): Sequential(\n",
       "    (0): BasicBlock(\n",
       "      (conv1): Conv2d(128, 256, kernel_size=(3, 3), stride=(2, 2), padding=(1, 1), bias=False)\n",
       "      (bn1): BatchNorm2d(256, eps=1e-05, momentum=0.1, affine=True, track_running_stats=True)\n",
       "      (relu): ReLU(inplace=True)\n",
       "      (conv2): Conv2d(256, 256, kernel_size=(3, 3), stride=(1, 1), padding=(1, 1), bias=False)\n",
       "      (bn2): BatchNorm2d(256, eps=1e-05, momentum=0.1, affine=True, track_running_stats=True)\n",
       "      (downsample): Sequential(\n",
       "        (0): Conv2d(128, 256, kernel_size=(1, 1), stride=(2, 2), bias=False)\n",
       "        (1): BatchNorm2d(256, eps=1e-05, momentum=0.1, affine=True, track_running_stats=True)\n",
       "      )\n",
       "    )\n",
       "    (1): BasicBlock(\n",
       "      (conv1): Conv2d(256, 256, kernel_size=(3, 3), stride=(1, 1), padding=(1, 1), bias=False)\n",
       "      (bn1): BatchNorm2d(256, eps=1e-05, momentum=0.1, affine=True, track_running_stats=True)\n",
       "      (relu): ReLU(inplace=True)\n",
       "      (conv2): Conv2d(256, 256, kernel_size=(3, 3), stride=(1, 1), padding=(1, 1), bias=False)\n",
       "      (bn2): BatchNorm2d(256, eps=1e-05, momentum=0.1, affine=True, track_running_stats=True)\n",
       "    )\n",
       "  )\n",
       "  (layer4): Sequential(\n",
       "    (0): BasicBlock(\n",
       "      (conv1): Conv2d(256, 512, kernel_size=(3, 3), stride=(2, 2), padding=(1, 1), bias=False)\n",
       "      (bn1): BatchNorm2d(512, eps=1e-05, momentum=0.1, affine=True, track_running_stats=True)\n",
       "      (relu): ReLU(inplace=True)\n",
       "      (conv2): Conv2d(512, 512, kernel_size=(3, 3), stride=(1, 1), padding=(1, 1), bias=False)\n",
       "      (bn2): BatchNorm2d(512, eps=1e-05, momentum=0.1, affine=True, track_running_stats=True)\n",
       "      (downsample): Sequential(\n",
       "        (0): Conv2d(256, 512, kernel_size=(1, 1), stride=(2, 2), bias=False)\n",
       "        (1): BatchNorm2d(512, eps=1e-05, momentum=0.1, affine=True, track_running_stats=True)\n",
       "      )\n",
       "    )\n",
       "    (1): BasicBlock(\n",
       "      (conv1): Conv2d(512, 512, kernel_size=(3, 3), stride=(1, 1), padding=(1, 1), bias=False)\n",
       "      (bn1): BatchNorm2d(512, eps=1e-05, momentum=0.1, affine=True, track_running_stats=True)\n",
       "      (relu): ReLU(inplace=True)\n",
       "      (conv2): Conv2d(512, 512, kernel_size=(3, 3), stride=(1, 1), padding=(1, 1), bias=False)\n",
       "      (bn2): BatchNorm2d(512, eps=1e-05, momentum=0.1, affine=True, track_running_stats=True)\n",
       "    )\n",
       "  )\n",
       "  (avgpool): AdaptiveAvgPool2d(output_size=(1, 1))\n",
       "  (fc1): Linear(in_features=512, out_features=128, bias=True)\n",
       ")"
      ]
     },
     "execution_count": 33,
     "metadata": {},
     "output_type": "execute_result"
    }
   ],
   "source": [
    "model.eval()"
   ]
  },
  {
   "cell_type": "code",
   "execution_count": 34,
   "id": "9baeaa00-0932-4952-9620-b49a1de77f88",
   "metadata": {},
   "outputs": [],
   "source": [
    "image_paths = []\n",
    "labels = []\n",
    "for folder_path,i in class_dict.items():\n",
    "    folder_images = glob.glob('CUB_200_2011/images/'+'/'+str(folder_path)+'/*')\n",
    "    image_paths.extend(folder_images)\n",
    "    labels.extend([i]*len(folder_images))"
   ]
  },
  {
   "cell_type": "code",
   "execution_count": 35,
   "id": "ba1ed4c4-806c-4b70-a1f1-fd61510cc52b",
   "metadata": {},
   "outputs": [],
   "source": [
    "from sklearn.model_selection import train_test_split\n",
    "X_train, X_test, y_train, y_test = train_test_split(image_paths, labels, test_size=config['train_test_split'],\n",
    "                                                    stratify=labels,\n",
    "                                                    random_state=config['random_seed'])"
   ]
  },
  {
   "cell_type": "code",
   "execution_count": 36,
   "id": "0df461d6-47c4-4213-8e78-aba9f59d0648",
   "metadata": {},
   "outputs": [],
   "source": [
    "train_dataset  = CUBDataset(X_train,y_train,transform)\n",
    "test_dataset  = CUBDataset(X_test,y_test,transform)"
   ]
  },
  {
   "cell_type": "code",
   "execution_count": 37,
   "id": "fba86090-7819-434c-af9f-28c001b83ad1",
   "metadata": {},
   "outputs": [
    {
     "name": "stderr",
     "output_type": "stream",
     "text": [
      "100%|█████████████████████████████████████████████████████████████████████████████████████████████████████| 295/295 [00:37<00:00,  7.82it/s]\n",
      "100%|███████████████████████████████████████████████████████████████████████████████████████████████████████| 74/74 [00:09<00:00,  7.96it/s]\n"
     ]
    }
   ],
   "source": [
    "train_embeddings, train_labels = get_all_embeddings(train_dataset, model)\n",
    "test_embeddings, test_labels = get_all_embeddings(test_dataset, model)\n",
    "train_labels = train_labels.squeeze(1)\n",
    "test_labels = test_labels.squeeze(1)"
   ]
  },
  {
   "cell_type": "code",
   "execution_count": 38,
   "id": "d3f4c51f-4298-475f-bd91-c620cb17060a",
   "metadata": {
    "scrolled": true
   },
   "outputs": [
    {
     "name": "stdout",
     "output_type": "stream",
     "text": [
      "001.Black_footed_Albatross     test samples 12   , training samples 48   : [0.75]\n",
      "002.Laysan_Albatross           test samples 12   , training samples 48   : [0.6666666666666666]\n",
      "003.Sooty_Albatross            test samples 12   , training samples 46   : [0.4166666666666667]\n",
      "004.Groove_billed_Ani          test samples 12   , training samples 48   : [0.6666666666666666]\n",
      "005.Crested_Auklet             test samples 9    , training samples 35   : [0.8888888888888888]\n",
      "006.Least_Auklet               test samples 8    , training samples 33   : [0.75]\n",
      "007.Parakeet_Auklet            test samples 10   , training samples 43   : [0.9]\n",
      "008.Rhinoceros_Auklet          test samples 9    , training samples 39   : [0.4444444444444444]\n",
      "009.Brewer_Blackbird           test samples 12   , training samples 47   : [0.4166666666666667]\n",
      "010.Red_winged_Blackbird       test samples 12   , training samples 48   : [0.9166666666666666]\n",
      "011.Rusty_Blackbird            test samples 12   , training samples 48   : [0.3333333333333333]\n",
      "012.Yellow_headed_Blackbird    test samples 11   , training samples 45   : [0.9090909090909091]\n",
      "013.Bobolink                   test samples 12   , training samples 48   : [0.75]\n",
      "014.Indigo_Bunting             test samples 12   , training samples 48   : [0.8333333333333334]\n",
      "015.Lazuli_Bunting             test samples 11   , training samples 47   : [0.6363636363636364]\n",
      "016.Painted_Bunting            test samples 11   , training samples 47   : [0.7272727272727273]\n",
      "017.Cardinal                   test samples 11   , training samples 46   : [0.6363636363636364]\n",
      "018.Spotted_Catbird            test samples 9    , training samples 36   : [0.8888888888888888]\n",
      "019.Gray_Catbird               test samples 12   , training samples 47   : [0.5833333333333334]\n",
      "020.Yellow_breasted_Chat       test samples 12   , training samples 47   : [0.4166666666666667]\n",
      "021.Eastern_Towhee             test samples 12   , training samples 48   : [0.5833333333333334]\n",
      "022.Chuck_will_Widow           test samples 11   , training samples 45   : [0.5454545454545454]\n",
      "023.Brandt_Cormorant           test samples 12   , training samples 47   : [0.25]\n",
      "024.Red_faced_Cormorant        test samples 10   , training samples 42   : [0.7]\n",
      "025.Pelagic_Cormorant          test samples 12   , training samples 48   : [0.08333333333333333]\n",
      "026.Bronzed_Cowbird            test samples 12   , training samples 48   : [0.5833333333333334]\n",
      "027.Shiny_Cowbird              test samples 12   , training samples 48   : [0.16666666666666666]\n",
      "028.Brown_Creeper              test samples 12   , training samples 47   : [0.9166666666666666]\n",
      "029.American_Crow              test samples 12   , training samples 48   : [0.5833333333333334]\n",
      "030.Fish_Crow                  test samples 12   , training samples 48   : [0.08333333333333333]\n",
      "031.Black_billed_Cuckoo        test samples 12   , training samples 48   : [0.6666666666666666]\n",
      "032.Mangrove_Cuckoo            test samples 10   , training samples 43   : [0.6]\n",
      "033.Yellow_billed_Cuckoo       test samples 12   , training samples 47   : [0.25]\n",
      "034.Gray_crowned_Rosy_Finch    test samples 12   , training samples 47   : [0.8333333333333334]\n",
      "035.Purple_Finch               test samples 12   , training samples 48   : [0.9166666666666666]\n",
      "036.Northern_Flicker           test samples 12   , training samples 48   : [0.5833333333333334]\n",
      "037.Acadian_Flycatcher         test samples 12   , training samples 47   : [0.5]\n",
      "038.Great_Crested_Flycatcher   test samples 12   , training samples 48   : [0.5]\n",
      "039.Least_Flycatcher           test samples 12   , training samples 47   : [0.16666666666666666]\n",
      "040.Olive_sided_Flycatcher     test samples 12   , training samples 48   : [0.3333333333333333]\n",
      "041.Scissor_tailed_Flycatcher  test samples 12   , training samples 48   : [0.9166666666666666]\n",
      "042.Vermilion_Flycatcher       test samples 12   , training samples 48   : [0.8333333333333334]\n",
      "043.Yellow_bellied_Flycatcher  test samples 12   , training samples 47   : [0.08333333333333333]\n",
      "044.Frigatebird                test samples 12   , training samples 48   : [0.6666666666666666]\n",
      "045.Northern_Fulmar            test samples 12   , training samples 48   : [0.5]\n",
      "046.Gadwall                    test samples 12   , training samples 48   : [0.8333333333333334]\n",
      "047.American_Goldfinch         test samples 12   , training samples 48   : [0.8333333333333334]\n",
      "048.European_Goldfinch         test samples 12   , training samples 48   : [0.8333333333333334]\n",
      "049.Boat_tailed_Grackle        test samples 12   , training samples 48   : [0.4166666666666667]\n",
      "050.Eared_Grebe                test samples 12   , training samples 48   : [0.6666666666666666]\n",
      "051.Horned_Grebe               test samples 12   , training samples 48   : [0.6666666666666666]\n",
      "052.Pied_billed_Grebe          test samples 12   , training samples 48   : [0.8333333333333334]\n",
      "053.Western_Grebe              test samples 12   , training samples 48   : [0.75]\n",
      "054.Blue_Grosbeak              test samples 12   , training samples 48   : [0.5833333333333334]\n",
      "055.Evening_Grosbeak           test samples 12   , training samples 48   : [0.9166666666666666]\n",
      "056.Pine_Grosbeak              test samples 12   , training samples 48   : [0.8333333333333334]\n",
      "057.Rose_breasted_Grosbeak     test samples 12   , training samples 48   : [0.9166666666666666]\n",
      "058.Pigeon_Guillemot           test samples 12   , training samples 46   : [0.75]\n",
      "059.California_Gull            test samples 12   , training samples 48   : [0.4166666666666667]\n",
      "060.Glaucous_winged_Gull       test samples 12   , training samples 47   : [0.3333333333333333]\n",
      "061.Heermann_Gull              test samples 12   , training samples 48   : [0.9166666666666666]\n",
      "062.Herring_Gull               test samples 12   , training samples 48   : [0.25]\n",
      "063.Ivory_Gull                 test samples 12   , training samples 48   : [0.8333333333333334]\n",
      "064.Ring_billed_Gull           test samples 12   , training samples 48   : [0.3333333333333333]\n",
      "065.Slaty_backed_Gull          test samples 10   , training samples 40   : [0.4]\n",
      "066.Western_Gull               test samples 12   , training samples 48   : [0.3333333333333333]\n",
      "067.Anna_Hummingbird           test samples 12   , training samples 48   : [0.5]\n",
      "068.Ruby_throated_Hummingbird  test samples 12   , training samples 48   : [0.8333333333333334]\n",
      "069.Rufous_Hummingbird         test samples 12   , training samples 48   : [0.75]\n",
      "070.Green_Violetear            test samples 12   , training samples 48   : [0.9166666666666666]\n",
      "071.Long_tailed_Jaeger         test samples 12   , training samples 48   : [0.3333333333333333]\n",
      "072.Pomarine_Jaeger            test samples 12   , training samples 48   : [0.25]\n",
      "073.Blue_Jay                   test samples 12   , training samples 48   : [0.75]\n",
      "074.Florida_Jay                test samples 12   , training samples 48   : [0.75]\n",
      "075.Green_Jay                  test samples 11   , training samples 46   : [0.9090909090909091]\n",
      "076.Dark_eyed_Junco            test samples 12   , training samples 48   : [0.75]\n",
      "077.Tropical_Kingbird          test samples 12   , training samples 48   : [0.6666666666666666]\n",
      "078.Gray_Kingbird              test samples 12   , training samples 47   : [0.5833333333333334]\n",
      "079.Belted_Kingfisher          test samples 12   , training samples 48   : [0.75]\n",
      "080.Green_Kingfisher           test samples 12   , training samples 48   : [0.75]\n",
      "081.Pied_Kingfisher            test samples 12   , training samples 48   : [0.6666666666666666]\n",
      "082.Ringed_Kingfisher          test samples 12   , training samples 48   : [0.8333333333333334]\n",
      "083.White_breasted_Kingfisher  test samples 12   , training samples 48   : [0.9166666666666666]\n",
      "084.Red_legged_Kittiwake       test samples 10   , training samples 43   : [0.6]\n",
      "085.Horned_Lark                test samples 12   , training samples 48   : [0.6666666666666666]\n",
      "086.Pacific_Loon               test samples 12   , training samples 48   : [0.75]\n",
      "087.Mallard                    test samples 12   , training samples 48   : [0.9166666666666666]\n",
      "088.Western_Meadowlark         test samples 12   , training samples 48   : [0.9166666666666666]\n",
      "089.Hooded_Merganser           test samples 12   , training samples 48   : [0.9166666666666666]\n",
      "090.Red_breasted_Merganser     test samples 12   , training samples 48   : [1.0]\n",
      "091.Mockingbird                test samples 12   , training samples 48   : [0.16666666666666666]\n",
      "092.Nighthawk                  test samples 12   , training samples 48   : [0.75]\n",
      "093.Clark_Nutcracker           test samples 12   , training samples 48   : [0.9166666666666666]\n",
      "094.White_breasted_Nuthatch    test samples 12   , training samples 48   : [1.0]\n",
      "095.Baltimore_Oriole           test samples 12   , training samples 48   : [0.75]\n",
      "096.Hooded_Oriole              test samples 12   , training samples 48   : [0.75]\n",
      "097.Orchard_Oriole             test samples 12   , training samples 47   : [0.4166666666666667]\n",
      "098.Scott_Oriole               test samples 12   , training samples 48   : [0.9166666666666666]\n",
      "099.Ovenbird                   test samples 12   , training samples 48   : [0.75]\n",
      "100.Brown_Pelican              test samples 12   , training samples 48   : [1.0]\n",
      "101.White_Pelican              test samples 10   , training samples 40   : [0.9]\n",
      "102.Western_Wood_Pewee         test samples 12   , training samples 48   : [0.08333333333333333]\n",
      "103.Sayornis                   test samples 12   , training samples 48   : [0.3333333333333333]\n",
      "104.American_Pipit             test samples 12   , training samples 48   : [0.5]\n",
      "105.Whip_poor_Will             test samples 10   , training samples 39   : [0.4]\n",
      "106.Horned_Puffin              test samples 12   , training samples 48   : [0.6666666666666666]\n",
      "107.Common_Raven               test samples 12   , training samples 47   : [0.16666666666666666]\n",
      "108.White_necked_Raven         test samples 12   , training samples 48   : [0.5833333333333334]\n",
      "109.American_Redstart          test samples 12   , training samples 48   : [1.0]\n",
      "110.Geococcyx                  test samples 12   , training samples 48   : [0.8333333333333334]\n",
      "111.Loggerhead_Shrike          test samples 12   , training samples 48   : [0.6666666666666666]\n",
      "112.Great_Grey_Shrike          test samples 12   , training samples 48   : [0.5]\n",
      "113.Baird_Sparrow              test samples 10   , training samples 40   : [0.8]\n",
      "114.Black_throated_Sparrow     test samples 12   , training samples 48   : [0.5833333333333334]\n",
      "115.Brewer_Sparrow             test samples 12   , training samples 47   : [0.25]\n",
      "116.Chipping_Sparrow           test samples 12   , training samples 48   : [0.5]\n",
      "117.Clay_colored_Sparrow       test samples 12   , training samples 47   : [0.5833333333333334]\n",
      "118.House_Sparrow              test samples 12   , training samples 48   : [0.3333333333333333]\n",
      "119.Field_Sparrow              test samples 12   , training samples 47   : [0.4166666666666667]\n",
      "120.Fox_Sparrow                test samples 12   , training samples 48   : [0.6666666666666666]\n",
      "121.Grasshopper_Sparrow        test samples 12   , training samples 48   : [0.25]\n",
      "122.Harris_Sparrow             test samples 12   , training samples 48   : [0.5]\n",
      "123.Henslow_Sparrow            test samples 12   , training samples 48   : [0.5]\n",
      "124.Le_Conte_Sparrow           test samples 12   , training samples 47   : [0.5]\n",
      "125.Lincoln_Sparrow            test samples 12   , training samples 47   : [0.4166666666666667]\n",
      "126.Nelson_Sharp_tailed_Sparrow test samples 12   , training samples 47   : [0.75]\n",
      "127.Savannah_Sparrow           test samples 12   , training samples 48   : [0.4166666666666667]\n",
      "128.Seaside_Sparrow            test samples 12   , training samples 48   : [0.5]\n",
      "129.Song_Sparrow               test samples 12   , training samples 48   : [0.25]\n",
      "130.Tree_Sparrow               test samples 12   , training samples 48   : [0.3333333333333333]\n",
      "131.Vesper_Sparrow             test samples 12   , training samples 48   : [0.4166666666666667]\n",
      "132.White_crowned_Sparrow      test samples 12   , training samples 48   : [0.5833333333333334]\n",
      "133.White_throated_Sparrow     test samples 12   , training samples 48   : [0.6666666666666666]\n",
      "134.Cape_Glossy_Starling       test samples 12   , training samples 48   : [0.9166666666666666]\n",
      "135.Bank_Swallow               test samples 12   , training samples 47   : [0.3333333333333333]\n",
      "136.Barn_Swallow               test samples 12   , training samples 48   : [0.6666666666666666]\n",
      "137.Cliff_Swallow              test samples 12   , training samples 48   : [0.25]\n",
      "138.Tree_Swallow               test samples 12   , training samples 48   : [0.6666666666666666]\n",
      "139.Scarlet_Tanager            test samples 12   , training samples 48   : [0.9166666666666666]\n",
      "140.Summer_Tanager             test samples 12   , training samples 48   : [0.9166666666666666]\n",
      "141.Artic_Tern                 test samples 11   , training samples 47   : [0.9090909090909091]\n",
      "142.Black_Tern                 test samples 12   , training samples 48   : [0.25]\n",
      "143.Caspian_Tern               test samples 12   , training samples 48   : [0.25]\n",
      "144.Common_Tern                test samples 12   , training samples 48   : [0.4166666666666667]\n",
      "145.Elegant_Tern               test samples 12   , training samples 48   : [0.25]\n",
      "146.Forsters_Tern              test samples 12   , training samples 48   : [0.5833333333333334]\n",
      "147.Least_Tern                 test samples 12   , training samples 48   : [0.8333333333333334]\n",
      "148.Green_tailed_Towhee        test samples 12   , training samples 48   : [0.5833333333333334]\n",
      "149.Brown_Thrasher             test samples 12   , training samples 47   : [0.5]\n",
      "150.Sage_Thrasher              test samples 12   , training samples 48   : [0.4166666666666667]\n",
      "151.Black_capped_Vireo         test samples 10   , training samples 41   : [0.5]\n",
      "152.Blue_headed_Vireo          test samples 12   , training samples 48   : [0.5833333333333334]\n",
      "153.Philadelphia_Vireo         test samples 12   , training samples 47   : [0.3333333333333333]\n",
      "154.Red_eyed_Vireo             test samples 12   , training samples 48   : [0.4166666666666667]\n",
      "155.Warbling_Vireo             test samples 12   , training samples 48   : [0.3333333333333333]\n",
      "156.White_eyed_Vireo           test samples 12   , training samples 48   : [0.4166666666666667]\n",
      "157.Yellow_throated_Vireo      test samples 12   , training samples 47   : [0.4166666666666667]\n",
      "158.Bay_breasted_Warbler       test samples 12   , training samples 48   : [0.9166666666666666]\n",
      "159.Black_and_white_Warbler    test samples 12   , training samples 48   : [0.9166666666666666]\n",
      "160.Black_throated_Blue_Warbler test samples 12   , training samples 47   : [0.75]\n",
      "161.Blue_winged_Warbler        test samples 12   , training samples 48   : [0.5833333333333334]\n",
      "162.Canada_Warbler             test samples 12   , training samples 48   : [0.3333333333333333]\n",
      "163.Cape_May_Warbler           test samples 12   , training samples 48   : [0.75]\n",
      "164.Cerulean_Warbler           test samples 12   , training samples 48   : [0.8333333333333334]\n",
      "165.Chestnut_sided_Warbler     test samples 12   , training samples 48   : [0.6666666666666666]\n",
      "166.Golden_winged_Warbler      test samples 12   , training samples 47   : [0.75]\n",
      "167.Hooded_Warbler             test samples 12   , training samples 48   : [0.5833333333333334]\n",
      "168.Kentucky_Warbler           test samples 12   , training samples 47   : [0.75]\n",
      "169.Magnolia_Warbler           test samples 12   , training samples 47   : [0.9166666666666666]\n",
      "170.Mourning_Warbler           test samples 12   , training samples 48   : [0.75]\n",
      "171.Myrtle_Warbler             test samples 12   , training samples 48   : [0.8333333333333334]\n",
      "172.Nashville_Warbler          test samples 12   , training samples 48   : [0.4166666666666667]\n",
      "173.Orange_crowned_Warbler     test samples 12   , training samples 48   : [0.5]\n",
      "174.Palm_Warbler               test samples 12   , training samples 48   : [0.4166666666666667]\n",
      "175.Pine_Warbler               test samples 12   , training samples 48   : [0.6666666666666666]\n",
      "176.Prairie_Warbler            test samples 12   , training samples 48   : [0.75]\n",
      "177.Prothonotary_Warbler       test samples 12   , training samples 48   : [0.75]\n",
      "178.Swainson_Warbler           test samples 11   , training samples 45   : [0.5454545454545454]\n",
      "179.Tennessee_Warbler          test samples 12   , training samples 47   : [0.25]\n",
      "180.Wilson_Warbler             test samples 12   , training samples 48   : [0.6666666666666666]\n",
      "181.Worm_eating_Warbler        test samples 12   , training samples 47   : [0.5]\n",
      "182.Yellow_Warbler             test samples 12   , training samples 48   : [0.5833333333333334]\n",
      "183.Northern_Waterthrush       test samples 12   , training samples 48   : [0.5833333333333334]\n",
      "184.Louisiana_Waterthrush      test samples 12   , training samples 48   : [0.08333333333333333]\n",
      "185.Bohemian_Waxwing           test samples 12   , training samples 48   : [0.75]\n",
      "186.Cedar_Waxwing              test samples 12   , training samples 48   : [0.6666666666666666]\n",
      "187.American_Three_toed_Woodpecker test samples 10   , training samples 40   : [0.5]\n",
      "188.Pileated_Woodpecker        test samples 12   , training samples 48   : [0.6666666666666666]\n",
      "189.Red_bellied_Woodpecker     test samples 12   , training samples 48   : [1.0]\n",
      "190.Red_cockaded_Woodpecker    test samples 11   , training samples 47   : [0.8181818181818182]\n",
      "191.Red_headed_Woodpecker      test samples 12   , training samples 48   : [0.75]\n",
      "192.Downy_Woodpecker           test samples 12   , training samples 48   : [1.0]\n",
      "193.Bewick_Wren                test samples 12   , training samples 48   : [0.3333333333333333]\n",
      "194.Cactus_Wren                test samples 12   , training samples 48   : [0.5]\n",
      "195.Carolina_Wren              test samples 12   , training samples 48   : [0.5833333333333334]\n",
      "196.House_Wren                 test samples 12   , training samples 47   : [0.08333333333333333]\n",
      "197.Marsh_Wren                 test samples 12   , training samples 48   : [0.3333333333333333]\n",
      "198.Rock_Wren                  test samples 12   , training samples 48   : [0.5833333333333334]\n",
      "199.Winter_Wren                test samples 12   , training samples 48   : [0.5]\n",
      "200.Common_Yellowthroat        test samples 12   , training samples 48   : [0.6666666666666666]\n"
     ]
    }
   ],
   "source": [
    "acc_dict2 = {}\n",
    "for i in test_labels.unique():\n",
    "    new_labels = test_labels[test_labels==i]\n",
    "    new_embeddings = test_embeddings[test_labels==i]\n",
    "    accuracies = accuracy_calculator.get_accuracy(\n",
    "        new_embeddings, new_labels, train_embeddings, train_labels, False\n",
    "    )\n",
    "    acc_dict2[data_dict[int(i.detach().cpu().numpy())]]=[ \n",
    "                  len(new_labels),\n",
    "                  len(train_labels[train_labels==i]),\n",
    "                  accuracies[\"precision_at_1\"]]\n",
    "    print(\"{:<30} test samples {:<5}, training samples {:<5}: {}\".format(data_dict[int(i.detach().cpu().numpy())],\n",
    "                                                                  len(new_labels),\n",
    "                                                                  len(train_labels[train_labels==i]),\n",
    "                                                                  accuracies[\"precision_at_1\"]))"
   ]
  },
  {
   "cell_type": "code",
   "execution_count": 39,
   "id": "a4b11cdb-01fc-426d-8708-aa4bd126db7c",
   "metadata": {},
   "outputs": [],
   "source": [
    "all_table = [[k]+v for k,v in acc_dict2.items()]\n",
    "columns = [\"class_name\", \"no. of test samples\", \"no. of train samples\", \"precision@1\"]\n",
    "train_table = wandb.Table(data=all_table, columns=columns)\n",
    "run.log({\"limited_classes_metrics\": train_table})"
   ]
  },
  {
   "cell_type": "code",
   "execution_count": 41,
   "id": "da619f84-3f14-4f62-95e1-09970154fd4c",
   "metadata": {},
   "outputs": [],
   "source": [
    "import faiss\n",
    "# Create a Faiss index\n",
    "index = faiss.IndexFlatIP(128)\n",
    "# Add some vectors to the index\n",
    "index.add(train_embeddings.detach().cpu().numpy())"
   ]
  },
  {
   "cell_type": "code",
   "execution_count": 42,
   "id": "1ee1a034-2fb6-4c8a-83a6-5dd028770c4d",
   "metadata": {},
   "outputs": [],
   "source": [
    "pred_labels = [] \n",
    "for embedding,label in zip(test_embeddings.detach().cpu().numpy(),test_labels):\n",
    "    distances, indices = index.search(embedding.reshape(1,-1).astype(np.float32), 2)\n",
    "    pred_class = train_labels[indices[0][1]]\n",
    "    pred_labels.append(pred_class)"
   ]
  },
  {
   "cell_type": "code",
   "execution_count": 43,
   "id": "7648e35a-de8c-42cc-aa9d-19fea3acdfcb",
   "metadata": {},
   "outputs": [],
   "source": [
    "pred_labels = [i.detach().cpu().numpy() for i in pred_labels]"
   ]
  },
  {
   "cell_type": "code",
   "execution_count": 44,
   "id": "0fd4ff45-4722-456e-81c0-c7a2cb8e31c7",
   "metadata": {
    "scrolled": true
   },
   "outputs": [
    {
     "name": "stdout",
     "output_type": "stream",
     "text": [
      "                                    precision    recall  f1-score   support\n",
      "\n",
      "        001.Black_footed_Albatross       0.59      0.83      0.69        12\n",
      "              002.Laysan_Albatross       0.60      0.75      0.67        12\n",
      "               003.Sooty_Albatross       0.43      0.50      0.46        12\n",
      "             004.Groove_billed_Ani       0.58      0.92      0.71        12\n",
      "                005.Crested_Auklet       0.78      0.78      0.78         9\n",
      "                  006.Least_Auklet       0.86      0.75      0.80         8\n",
      "               007.Parakeet_Auklet       0.82      0.90      0.86        10\n",
      "             008.Rhinoceros_Auklet       0.50      0.22      0.31         9\n",
      "              009.Brewer_Blackbird       0.23      0.25      0.24        12\n",
      "          010.Red_winged_Blackbird       0.92      0.92      0.92        12\n",
      "               011.Rusty_Blackbird       0.45      0.42      0.43        12\n",
      "       012.Yellow_headed_Blackbird       0.91      0.91      0.91        11\n",
      "                      013.Bobolink       0.90      0.75      0.82        12\n",
      "                014.Indigo_Bunting       0.53      0.83      0.65        12\n",
      "                015.Lazuli_Bunting       1.00      0.64      0.78        11\n",
      "               016.Painted_Bunting       1.00      0.73      0.84        11\n",
      "                      017.Cardinal       0.64      0.64      0.64        11\n",
      "               018.Spotted_Catbird       0.70      0.78      0.74         9\n",
      "                  019.Gray_Catbird       0.77      0.83      0.80        12\n",
      "          020.Yellow_breasted_Chat       0.42      0.42      0.42        12\n",
      "                021.Eastern_Towhee       0.62      0.42      0.50        12\n",
      "              022.Chuck_will_Widow       0.50      0.45      0.48        11\n",
      "              023.Brandt_Cormorant       0.45      0.42      0.43        12\n",
      "           024.Red_faced_Cormorant       0.64      0.90      0.75        10\n",
      "             025.Pelagic_Cormorant       0.33      0.25      0.29        12\n",
      "               026.Bronzed_Cowbird       0.80      0.67      0.73        12\n",
      "                 027.Shiny_Cowbird       0.22      0.17      0.19        12\n",
      "                 028.Brown_Creeper       0.75      0.75      0.75        12\n",
      "                 029.American_Crow       0.20      0.33      0.25        12\n",
      "                     030.Fish_Crow       0.25      0.25      0.25        12\n",
      "           031.Black_billed_Cuckoo       0.53      0.75      0.62        12\n",
      "               032.Mangrove_Cuckoo       0.44      0.40      0.42        10\n",
      "          033.Yellow_billed_Cuckoo       0.38      0.25      0.30        12\n",
      "       034.Gray_crowned_Rosy_Finch       1.00      0.83      0.91        12\n",
      "                  035.Purple_Finch       0.62      0.83      0.71        12\n",
      "              036.Northern_Flicker       0.82      0.75      0.78        12\n",
      "            037.Acadian_Flycatcher       0.21      0.25      0.23        12\n",
      "      038.Great_Crested_Flycatcher       0.60      0.50      0.55        12\n",
      "              039.Least_Flycatcher       0.25      0.33      0.29        12\n",
      "        040.Olive_sided_Flycatcher       0.56      0.42      0.48        12\n",
      "     041.Scissor_tailed_Flycatcher       0.67      0.67      0.67        12\n",
      "          042.Vermilion_Flycatcher       0.73      0.92      0.81        12\n",
      "     043.Yellow_bellied_Flycatcher       0.29      0.33      0.31        12\n",
      "                   044.Frigatebird       0.73      0.67      0.70        12\n",
      "               045.Northern_Fulmar       0.45      0.42      0.43        12\n",
      "                       046.Gadwall       0.65      0.92      0.76        12\n",
      "            047.American_Goldfinch       0.71      0.83      0.77        12\n",
      "            048.European_Goldfinch       0.85      0.92      0.88        12\n",
      "           049.Boat_tailed_Grackle       0.29      0.17      0.21        12\n",
      "                   050.Eared_Grebe       0.21      0.25      0.23        12\n",
      "                  051.Horned_Grebe       0.38      0.42      0.40        12\n",
      "             052.Pied_billed_Grebe       0.71      0.83      0.77        12\n",
      "                 053.Western_Grebe       0.92      0.92      0.92        12\n",
      "                 054.Blue_Grosbeak       0.60      0.50      0.55        12\n",
      "              055.Evening_Grosbeak       0.91      0.83      0.87        12\n",
      "                 056.Pine_Grosbeak       0.47      0.58      0.52        12\n",
      "        057.Rose_breasted_Grosbeak       1.00      0.92      0.96        12\n",
      "              058.Pigeon_Guillemot       0.80      0.67      0.73        12\n",
      "               059.California_Gull       0.07      0.08      0.07        12\n",
      "          060.Glaucous_winged_Gull       0.25      0.25      0.25        12\n",
      "                 061.Heermann_Gull       0.77      0.83      0.80        12\n",
      "                  062.Herring_Gull       0.11      0.08      0.10        12\n",
      "                    063.Ivory_Gull       0.70      0.58      0.64        12\n",
      "              064.Ring_billed_Gull       0.29      0.33      0.31        12\n",
      "             065.Slaty_backed_Gull       0.00      0.00      0.00        10\n",
      "                  066.Western_Gull       0.27      0.33      0.30        12\n",
      "              067.Anna_Hummingbird       0.86      0.50      0.63        12\n",
      "     068.Ruby_throated_Hummingbird       0.69      0.92      0.79        12\n",
      "            069.Rufous_Hummingbird       0.67      0.83      0.74        12\n",
      "               070.Green_Violetear       0.79      0.92      0.85        12\n",
      "            071.Long_tailed_Jaeger       0.29      0.17      0.21        12\n",
      "               072.Pomarine_Jaeger       0.45      0.42      0.43        12\n",
      "                      073.Blue_Jay       0.90      0.75      0.82        12\n",
      "                   074.Florida_Jay       0.78      0.58      0.67        12\n",
      "                     075.Green_Jay       1.00      0.73      0.84        11\n",
      "               076.Dark_eyed_Junco       0.75      0.75      0.75        12\n",
      "             077.Tropical_Kingbird       0.59      0.83      0.69        12\n",
      "                 078.Gray_Kingbird       0.50      0.50      0.50        12\n",
      "             079.Belted_Kingfisher       0.47      0.58      0.52        12\n",
      "              080.Green_Kingfisher       0.73      0.67      0.70        12\n",
      "               081.Pied_Kingfisher       0.73      0.92      0.81        12\n",
      "             082.Ringed_Kingfisher       0.67      0.67      0.67        12\n",
      "     083.White_breasted_Kingfisher       1.00      0.92      0.96        12\n",
      "          084.Red_legged_Kittiwake       0.50      0.50      0.50        10\n",
      "                   085.Horned_Lark       0.80      0.67      0.73        12\n",
      "                  086.Pacific_Loon       0.64      0.58      0.61        12\n",
      "                       087.Mallard       1.00      0.92      0.96        12\n",
      "            088.Western_Meadowlark       0.92      0.92      0.92        12\n",
      "              089.Hooded_Merganser       1.00      0.92      0.96        12\n",
      "        090.Red_breasted_Merganser       0.73      0.92      0.81        12\n",
      "                   091.Mockingbird       0.29      0.17      0.21        12\n",
      "                     092.Nighthawk       0.60      0.50      0.55        12\n",
      "              093.Clark_Nutcracker       0.92      0.92      0.92        12\n",
      "       094.White_breasted_Nuthatch       0.73      0.92      0.81        12\n",
      "              095.Baltimore_Oriole       0.78      0.58      0.67        12\n",
      "                 096.Hooded_Oriole       0.71      0.83      0.77        12\n",
      "                097.Orchard_Oriole       0.62      0.42      0.50        12\n",
      "                  098.Scott_Oriole       0.83      0.83      0.83        12\n",
      "                      099.Ovenbird       0.53      0.67      0.59        12\n",
      "                 100.Brown_Pelican       0.65      0.92      0.76        12\n",
      "                 101.White_Pelican       0.75      0.90      0.82        10\n",
      "            102.Western_Wood_Pewee       0.11      0.17      0.13        12\n",
      "                      103.Sayornis       0.23      0.25      0.24        12\n",
      "                104.American_Pipit       0.21      0.33      0.26        12\n",
      "                105.Whip_poor_Will       0.67      0.60      0.63        10\n",
      "                 106.Horned_Puffin       0.82      0.75      0.78        12\n",
      "                  107.Common_Raven       0.24      0.33      0.28        12\n",
      "            108.White_necked_Raven       0.50      0.42      0.45        12\n",
      "             109.American_Redstart       0.67      1.00      0.80        12\n",
      "                     110.Geococcyx       0.67      0.83      0.74        12\n",
      "             111.Loggerhead_Shrike       0.50      0.42      0.45        12\n",
      "             112.Great_Grey_Shrike       0.31      0.33      0.32        12\n",
      "                 113.Baird_Sparrow       0.50      0.60      0.55        10\n",
      "        114.Black_throated_Sparrow       0.38      0.42      0.40        12\n",
      "                115.Brewer_Sparrow       0.50      0.17      0.25        12\n",
      "              116.Chipping_Sparrow       0.33      0.50      0.40        12\n",
      "          117.Clay_colored_Sparrow       0.31      0.42      0.36        12\n",
      "                 118.House_Sparrow       0.40      0.17      0.24        12\n",
      "                 119.Field_Sparrow       0.25      0.25      0.25        12\n",
      "                   120.Fox_Sparrow       0.58      0.58      0.58        12\n",
      "           121.Grasshopper_Sparrow       0.27      0.33      0.30        12\n",
      "                122.Harris_Sparrow       0.71      0.42      0.53        12\n",
      "               123.Henslow_Sparrow       0.60      0.50      0.55        12\n",
      "              124.Le_Conte_Sparrow       0.43      0.50      0.46        12\n",
      "               125.Lincoln_Sparrow       0.44      0.58      0.50        12\n",
      "   126.Nelson_Sharp_tailed_Sparrow       0.58      0.58      0.58        12\n",
      "              127.Savannah_Sparrow       0.27      0.33      0.30        12\n",
      "               128.Seaside_Sparrow       0.64      0.58      0.61        12\n",
      "                  129.Song_Sparrow       0.50      0.67      0.57        12\n",
      "                  130.Tree_Sparrow       0.58      0.58      0.58        12\n",
      "                131.Vesper_Sparrow       0.33      0.25      0.29        12\n",
      "         132.White_crowned_Sparrow       0.42      0.42      0.42        12\n",
      "        133.White_throated_Sparrow       0.47      0.58      0.52        12\n",
      "          134.Cape_Glossy_Starling       0.82      0.75      0.78        12\n",
      "                  135.Bank_Swallow       0.27      0.25      0.26        12\n",
      "                  136.Barn_Swallow       0.77      0.83      0.80        12\n",
      "                 137.Cliff_Swallow       0.60      0.50      0.55        12\n",
      "                  138.Tree_Swallow       0.62      0.67      0.64        12\n",
      "               139.Scarlet_Tanager       0.69      0.75      0.72        12\n",
      "                140.Summer_Tanager       0.89      0.67      0.76        12\n",
      "                    141.Artic_Tern       0.36      0.45      0.40        11\n",
      "                    142.Black_Tern       0.50      0.17      0.25        12\n",
      "                  143.Caspian_Tern       0.62      0.42      0.50        12\n",
      "                   144.Common_Tern       0.30      0.25      0.27        12\n",
      "                  145.Elegant_Tern       0.75      0.50      0.60        12\n",
      "                 146.Forsters_Tern       0.28      0.42      0.33        12\n",
      "                    147.Least_Tern       0.67      0.83      0.74        12\n",
      "           148.Green_tailed_Towhee       0.88      0.58      0.70        12\n",
      "                149.Brown_Thrasher       0.50      0.42      0.45        12\n",
      "                 150.Sage_Thrasher       0.50      0.75      0.60        12\n",
      "            151.Black_capped_Vireo       0.56      0.50      0.53        10\n",
      "             152.Blue_headed_Vireo       0.40      0.33      0.36        12\n",
      "            153.Philadelphia_Vireo       0.56      0.75      0.64        12\n",
      "                154.Red_eyed_Vireo       0.53      0.67      0.59        12\n",
      "                155.Warbling_Vireo       0.50      0.33      0.40        12\n",
      "              156.White_eyed_Vireo       0.40      0.33      0.36        12\n",
      "         157.Yellow_throated_Vireo       0.36      0.42      0.38        12\n",
      "          158.Bay_breasted_Warbler       0.60      0.50      0.55        12\n",
      "       159.Black_and_white_Warbler       0.91      0.83      0.87        12\n",
      "   160.Black_throated_Blue_Warbler       0.73      0.67      0.70        12\n",
      "           161.Blue_winged_Warbler       0.56      0.42      0.48        12\n",
      "                162.Canada_Warbler       0.57      0.33      0.42        12\n",
      "              163.Cape_May_Warbler       0.67      0.67      0.67        12\n",
      "              164.Cerulean_Warbler       1.00      0.83      0.91        12\n",
      "        165.Chestnut_sided_Warbler       0.67      0.67      0.67        12\n",
      "         166.Golden_winged_Warbler       0.89      0.67      0.76        12\n",
      "                167.Hooded_Warbler       0.57      0.67      0.62        12\n",
      "              168.Kentucky_Warbler       0.60      0.75      0.67        12\n",
      "              169.Magnolia_Warbler       0.69      0.75      0.72        12\n",
      "              170.Mourning_Warbler       0.57      0.67      0.62        12\n",
      "                171.Myrtle_Warbler       0.70      0.58      0.64        12\n",
      "             172.Nashville_Warbler       0.33      0.33      0.33        12\n",
      "        173.Orange_crowned_Warbler       0.28      0.42      0.33        12\n",
      "                  174.Palm_Warbler       0.50      0.25      0.33        12\n",
      "                  175.Pine_Warbler       0.50      0.50      0.50        12\n",
      "               176.Prairie_Warbler       0.62      0.83      0.71        12\n",
      "          177.Prothonotary_Warbler       0.75      0.75      0.75        12\n",
      "              178.Swainson_Warbler       0.33      0.36      0.35        11\n",
      "             179.Tennessee_Warbler       0.21      0.25      0.23        12\n",
      "                180.Wilson_Warbler       0.69      0.75      0.72        12\n",
      "           181.Worm_eating_Warbler       0.80      0.33      0.47        12\n",
      "                182.Yellow_Warbler       0.60      0.50      0.55        12\n",
      "          183.Northern_Waterthrush       0.62      0.42      0.50        12\n",
      "         184.Louisiana_Waterthrush       0.62      0.42      0.50        12\n",
      "              185.Bohemian_Waxwing       0.73      0.67      0.70        12\n",
      "                 186.Cedar_Waxwing       0.80      0.67      0.73        12\n",
      "187.American_Three_toed_Woodpecker       0.62      0.50      0.56        10\n",
      "           188.Pileated_Woodpecker       1.00      0.58      0.74        12\n",
      "        189.Red_bellied_Woodpecker       0.75      1.00      0.86        12\n",
      "       190.Red_cockaded_Woodpecker       0.67      0.73      0.70        11\n",
      "         191.Red_headed_Woodpecker       0.82      0.75      0.78        12\n",
      "              192.Downy_Woodpecker       0.75      1.00      0.86        12\n",
      "                   193.Bewick_Wren       0.45      0.42      0.43        12\n",
      "                   194.Cactus_Wren       0.44      0.33      0.38        12\n",
      "                 195.Carolina_Wren       0.78      0.58      0.67        12\n",
      "                    196.House_Wren       0.36      0.42      0.38        12\n",
      "                    197.Marsh_Wren       0.30      0.25      0.27        12\n",
      "                     198.Rock_Wren       0.58      0.58      0.58        12\n",
      "                   199.Winter_Wren       0.70      0.58      0.64        12\n",
      "           200.Common_Yellowthroat       0.60      0.50      0.55        12\n",
      "\n",
      "                          accuracy                           0.57      2358\n",
      "                         macro avg       0.59      0.57      0.57      2358\n",
      "                      weighted avg       0.58      0.57      0.57      2358\n",
      "\n"
     ]
    }
   ],
   "source": [
    "from sklearn.metrics import classification_report\n",
    "print(classification_report(test_labels.detach().cpu().numpy(), pred_labels, target_names=list(class_dict.keys())))"
   ]
  },
  {
   "cell_type": "code",
   "execution_count": 45,
   "id": "f6154bd0-11f0-42b4-b860-b3b34ea93d52",
   "metadata": {},
   "outputs": [],
   "source": [
    "from sklearn.metrics import classification_report\n",
    "report = classification_report(test_labels.detach().cpu().numpy(), pred_labels, target_names=list(class_dict.keys()),output_dict=True)\n",
    "df = pd.DataFrame(report).transpose()\n",
    "df.reset_index(inplace=True)\n",
    "df.rename(columns={\"index\":'class_name'},inplace=True)\n",
    "classification_report_table = wandb.Table(dataframe=df)"
   ]
  },
  {
   "cell_type": "code",
   "execution_count": 46,
   "id": "8967c721-10c7-4d82-9c44-cf69368c9cf2",
   "metadata": {},
   "outputs": [],
   "source": [
    "run.log({\"limited_classes_classification_report\": classification_report_table})"
   ]
  },
  {
   "cell_type": "markdown",
   "id": "25ca19e9-fde4-4738-b3fe-35d7f6c3f8b8",
   "metadata": {},
   "source": [
    "## metric drop for unseen classes"
   ]
  },
  {
   "cell_type": "code",
   "execution_count": 47,
   "id": "308604b3-e2e4-48ce-b3a8-09b38ca315df",
   "metadata": {},
   "outputs": [],
   "source": [
    "unseen_class_names = sorted(key for key in acc_dict.keys() if int(key.split('.')[0]) >= 180)"
   ]
  },
  {
   "cell_type": "code",
   "execution_count": 57,
   "id": "b27e7a53-584d-410e-ad34-466aedca1350",
   "metadata": {
    "scrolled": true
   },
   "outputs": [],
   "source": [
    "comparison_table_data = []\n",
    "for class_name in unseen_class_names:\n",
    "    comparison_table_data.append([class_name,acc_dict[class_name][-1],acc_dict2[class_name][-1][0]])"
   ]
  },
  {
   "cell_type": "code",
   "execution_count": 58,
   "id": "abe4a706-16b2-46ac-8954-2d5ceb07abf8",
   "metadata": {},
   "outputs": [
    {
     "data": {
      "text/plain": [
       "[['180.Wilson_Warbler', 0.75, 0.6666666666666666],\n",
       " ['181.Worm_eating_Warbler', 0.75, 0.5],\n",
       " ['182.Yellow_Warbler', 0.6666666666666666, 0.5833333333333334],\n",
       " ['183.Northern_Waterthrush', 0.8333333333333334, 0.5833333333333334],\n",
       " ['184.Louisiana_Waterthrush', 0.5, 0.08333333333333333],\n",
       " ['185.Bohemian_Waxwing', 0.6666666666666666, 0.75],\n",
       " ['186.Cedar_Waxwing', 0.9166666666666666, 0.6666666666666666],\n",
       " ['187.American_Three_toed_Woodpecker', 0.9, 0.5],\n",
       " ['188.Pileated_Woodpecker', 0.8333333333333334, 0.6666666666666666],\n",
       " ['189.Red_bellied_Woodpecker', 1.0, 1.0],\n",
       " ['190.Red_cockaded_Woodpecker', 0.8181818181818182, 0.8181818181818182],\n",
       " ['191.Red_headed_Woodpecker', 0.75, 0.75],\n",
       " ['192.Downy_Woodpecker', 1.0, 1.0],\n",
       " ['193.Bewick_Wren', 0.5, 0.3333333333333333],\n",
       " ['194.Cactus_Wren', 0.9166666666666666, 0.5],\n",
       " ['195.Carolina_Wren', 0.6666666666666666, 0.5833333333333334],\n",
       " ['196.House_Wren', 0.5, 0.08333333333333333],\n",
       " ['197.Marsh_Wren', 0.75, 0.3333333333333333],\n",
       " ['198.Rock_Wren', 0.9166666666666666, 0.5833333333333334],\n",
       " ['199.Winter_Wren', 0.8333333333333334, 0.5],\n",
       " ['200.Common_Yellowthroat', 0.8333333333333334, 0.6666666666666666]]"
      ]
     },
     "execution_count": 58,
     "metadata": {},
     "output_type": "execute_result"
    }
   ],
   "source": [
    "comparison_table_data"
   ]
  },
  {
   "cell_type": "code",
   "execution_count": 59,
   "id": "2400629c-33f5-4b19-bbab-9d75c92dd6d4",
   "metadata": {},
   "outputs": [],
   "source": [
    "comparison_table = wandb.Table(data=comparison_table_data, columns=['class_name','all_classes_precision@1','unseen_classes_precision@1'])"
   ]
  },
  {
   "cell_type": "code",
   "execution_count": 60,
   "id": "daa9ab4f-6abe-4469-91b8-2c48f17f7400",
   "metadata": {},
   "outputs": [],
   "source": [
    "run.log({\"comparison_unseen_classes_metrics\": comparison_table})"
   ]
  },
  {
   "cell_type": "code",
   "execution_count": 61,
   "id": "288120aa-ccc7-4249-8498-63c82972342a",
   "metadata": {},
   "outputs": [],
   "source": [
    "precisions = np.array(comparison_table_data)[:,1:3].astype(np.float32)"
   ]
  },
  {
   "cell_type": "code",
   "execution_count": 62,
   "id": "aea80d7d-48d9-45b2-9b80-50df8c6f2e73",
   "metadata": {},
   "outputs": [],
   "source": [
    "wandb.log({'precision_drop_unseen_classes':np.mean(np.subtract(precisions[:,0],precisions[:,1]))})"
   ]
  },
  {
   "cell_type": "markdown",
   "id": "8474d6e8-63e1-4bd8-b170-b13a1803634e",
   "metadata": {},
   "source": [
    "## metric drop for all classes because of new unseen classes"
   ]
  },
  {
   "cell_type": "code",
   "execution_count": 63,
   "id": "0d53c17d-3ee9-4947-84a0-61e87855daf0",
   "metadata": {},
   "outputs": [],
   "source": [
    "comparison_table_data = []\n",
    "for class_name in acc_dict.keys():\n",
    "    comparison_table_data.append([class_name,acc_dict[class_name][-1],acc_dict2[class_name][-1][0]])"
   ]
  },
  {
   "cell_type": "code",
   "execution_count": 64,
   "id": "bd465f2b-8fd1-419f-a3bb-8daa56d9956e",
   "metadata": {},
   "outputs": [],
   "source": [
    "precisions = np.array(comparison_table_data)[:,1:3].astype(np.float32)"
   ]
  },
  {
   "cell_type": "code",
   "execution_count": 65,
   "id": "2af3e145-3fd1-4e2f-b10e-8ed86ecda2b5",
   "metadata": {},
   "outputs": [
    {
     "data": {
      "text/plain": [
       "array([[0.9166667 , 0.75      ],\n",
       "       [0.6666667 , 0.6666667 ],\n",
       "       [0.8333333 , 0.41666666],\n",
       "       [0.8333333 , 0.6666667 ],\n",
       "       [0.7777778 , 0.8888889 ],\n",
       "       [0.875     , 0.75      ],\n",
       "       [1.        , 0.9       ],\n",
       "       [0.6666667 , 0.44444445],\n",
       "       [0.25      , 0.41666666],\n",
       "       [0.75      , 0.9166667 ],\n",
       "       [0.5833333 , 0.33333334],\n",
       "       [1.        , 0.90909094],\n",
       "       [0.75      , 0.75      ],\n",
       "       [0.75      , 0.8333333 ],\n",
       "       [0.72727275, 0.6363636 ],\n",
       "       [0.6363636 , 0.72727275],\n",
       "       [0.8181818 , 0.6363636 ],\n",
       "       [1.        , 0.8888889 ],\n",
       "       [0.75      , 0.5833333 ],\n",
       "       [0.5       , 0.41666666],\n",
       "       [1.        , 0.5833333 ],\n",
       "       [0.54545456, 0.54545456],\n",
       "       [0.33333334, 0.25      ],\n",
       "       [0.8       , 0.7       ],\n",
       "       [0.5       , 0.08333334],\n",
       "       [0.6666667 , 0.5833333 ],\n",
       "       [0.25      , 0.16666667],\n",
       "       [1.        , 0.9166667 ],\n",
       "       [0.25      , 0.5833333 ],\n",
       "       [0.25      , 0.08333334],\n",
       "       [0.5833333 , 0.6666667 ],\n",
       "       [0.5       , 0.6       ],\n",
       "       [0.8333333 , 0.25      ],\n",
       "       [0.75      , 0.8333333 ],\n",
       "       [0.9166667 , 0.9166667 ],\n",
       "       [0.6666667 , 0.5833333 ],\n",
       "       [0.33333334, 0.5       ],\n",
       "       [0.9166667 , 0.5       ],\n",
       "       [0.5       , 0.16666667],\n",
       "       [0.5       , 0.33333334],\n",
       "       [0.9166667 , 0.9166667 ],\n",
       "       [0.9166667 , 0.8333333 ],\n",
       "       [0.16666667, 0.08333334],\n",
       "       [0.75      , 0.6666667 ],\n",
       "       [0.5       , 0.5       ],\n",
       "       [0.9166667 , 0.8333333 ],\n",
       "       [0.8333333 , 0.8333333 ],\n",
       "       [0.9166667 , 0.8333333 ],\n",
       "       [0.41666666, 0.41666666],\n",
       "       [0.75      , 0.6666667 ],\n",
       "       [0.75      , 0.6666667 ],\n",
       "       [0.6666667 , 0.8333333 ],\n",
       "       [0.9166667 , 0.75      ],\n",
       "       [0.6666667 , 0.5833333 ],\n",
       "       [1.        , 0.9166667 ],\n",
       "       [0.8333333 , 0.8333333 ],\n",
       "       [1.        , 0.9166667 ],\n",
       "       [0.75      , 0.75      ],\n",
       "       [0.41666666, 0.41666666],\n",
       "       [0.41666666, 0.33333334],\n",
       "       [0.8333333 , 0.9166667 ],\n",
       "       [0.25      , 0.25      ],\n",
       "       [0.9166667 , 0.8333333 ],\n",
       "       [0.25      , 0.33333334],\n",
       "       [0.2       , 0.4       ],\n",
       "       [0.5833333 , 0.33333334],\n",
       "       [0.41666666, 0.5       ],\n",
       "       [0.8333333 , 0.8333333 ],\n",
       "       [0.75      , 0.75      ],\n",
       "       [0.9166667 , 0.9166667 ],\n",
       "       [0.41666666, 0.33333334],\n",
       "       [0.33333334, 0.25      ],\n",
       "       [0.8333333 , 0.75      ],\n",
       "       [0.8333333 , 0.75      ],\n",
       "       [0.8181818 , 0.90909094],\n",
       "       [1.        , 0.75      ],\n",
       "       [1.        , 0.6666667 ],\n",
       "       [0.5833333 , 0.5833333 ],\n",
       "       [0.75      , 0.75      ],\n",
       "       [0.6666667 , 0.75      ],\n",
       "       [0.9166667 , 0.6666667 ],\n",
       "       [0.75      , 0.8333333 ],\n",
       "       [0.8333333 , 0.9166667 ],\n",
       "       [0.7       , 0.6       ],\n",
       "       [0.8333333 , 0.6666667 ],\n",
       "       [0.8333333 , 0.75      ],\n",
       "       [0.9166667 , 0.9166667 ],\n",
       "       [0.9166667 , 0.9166667 ],\n",
       "       [0.9166667 , 0.9166667 ],\n",
       "       [0.9166667 , 1.        ],\n",
       "       [0.16666667, 0.16666667],\n",
       "       [0.5       , 0.75      ],\n",
       "       [0.8333333 , 0.9166667 ],\n",
       "       [0.9166667 , 1.        ],\n",
       "       [0.6666667 , 0.75      ],\n",
       "       [1.        , 0.75      ],\n",
       "       [0.5       , 0.41666666],\n",
       "       [0.75      , 0.9166667 ],\n",
       "       [0.75      , 0.75      ],\n",
       "       [1.        , 1.        ],\n",
       "       [0.9       , 0.9       ],\n",
       "       [0.5833333 , 0.08333334],\n",
       "       [0.5       , 0.33333334],\n",
       "       [0.5       , 0.5       ],\n",
       "       [0.4       , 0.4       ],\n",
       "       [0.9166667 , 0.6666667 ],\n",
       "       [0.5       , 0.16666667],\n",
       "       [0.41666666, 0.5833333 ],\n",
       "       [0.8333333 , 1.        ],\n",
       "       [0.9166667 , 0.8333333 ],\n",
       "       [0.41666666, 0.6666667 ],\n",
       "       [0.41666666, 0.5       ],\n",
       "       [0.3       , 0.8       ],\n",
       "       [0.9166667 , 0.5833333 ],\n",
       "       [0.5833333 , 0.25      ],\n",
       "       [0.75      , 0.5       ],\n",
       "       [0.5       , 0.5833333 ],\n",
       "       [0.33333334, 0.33333334],\n",
       "       [0.6666667 , 0.41666666],\n",
       "       [0.75      , 0.6666667 ],\n",
       "       [0.25      , 0.25      ],\n",
       "       [0.6666667 , 0.5       ],\n",
       "       [0.5833333 , 0.5       ],\n",
       "       [0.6666667 , 0.5       ],\n",
       "       [0.33333334, 0.41666666],\n",
       "       [0.5833333 , 0.75      ],\n",
       "       [0.25      , 0.41666666],\n",
       "       [0.75      , 0.5       ],\n",
       "       [0.33333334, 0.25      ],\n",
       "       [0.6666667 , 0.33333334],\n",
       "       [0.6666667 , 0.41666666],\n",
       "       [0.6666667 , 0.5833333 ],\n",
       "       [0.6666667 , 0.6666667 ],\n",
       "       [0.8333333 , 0.9166667 ],\n",
       "       [0.5833333 , 0.33333334],\n",
       "       [0.6666667 , 0.6666667 ],\n",
       "       [0.5       , 0.25      ],\n",
       "       [0.6666667 , 0.6666667 ],\n",
       "       [0.8333333 , 0.9166667 ],\n",
       "       [0.75      , 0.9166667 ],\n",
       "       [0.90909094, 0.90909094],\n",
       "       [0.25      , 0.25      ],\n",
       "       [0.5       , 0.25      ],\n",
       "       [0.33333334, 0.41666666],\n",
       "       [0.16666667, 0.25      ],\n",
       "       [0.5       , 0.5833333 ],\n",
       "       [0.8333333 , 0.8333333 ],\n",
       "       [0.6666667 , 0.5833333 ],\n",
       "       [0.5833333 , 0.5       ],\n",
       "       [0.5       , 0.41666666],\n",
       "       [0.7       , 0.5       ],\n",
       "       [0.5       , 0.5833333 ],\n",
       "       [0.5       , 0.33333334],\n",
       "       [0.75      , 0.41666666],\n",
       "       [0.33333334, 0.33333334],\n",
       "       [0.6666667 , 0.41666666],\n",
       "       [0.33333334, 0.41666666],\n",
       "       [0.9166667 , 0.9166667 ],\n",
       "       [0.9166667 , 0.9166667 ],\n",
       "       [0.75      , 0.75      ],\n",
       "       [0.6666667 , 0.5833333 ],\n",
       "       [0.41666666, 0.33333334],\n",
       "       [0.75      , 0.75      ],\n",
       "       [0.9166667 , 0.8333333 ],\n",
       "       [0.8333333 , 0.6666667 ],\n",
       "       [0.75      , 0.75      ],\n",
       "       [0.75      , 0.5833333 ],\n",
       "       [0.8333333 , 0.75      ],\n",
       "       [0.9166667 , 0.9166667 ],\n",
       "       [0.6666667 , 0.75      ],\n",
       "       [0.8333333 , 0.8333333 ],\n",
       "       [0.75      , 0.41666666],\n",
       "       [0.5833333 , 0.5       ],\n",
       "       [0.41666666, 0.41666666],\n",
       "       [0.6666667 , 0.6666667 ],\n",
       "       [0.8333333 , 0.75      ],\n",
       "       [0.6666667 , 0.75      ],\n",
       "       [0.45454547, 0.54545456],\n",
       "       [0.25      , 0.25      ],\n",
       "       [0.75      , 0.6666667 ],\n",
       "       [0.75      , 0.5       ],\n",
       "       [0.6666667 , 0.5833333 ],\n",
       "       [0.8333333 , 0.5833333 ],\n",
       "       [0.5       , 0.08333334],\n",
       "       [0.6666667 , 0.75      ],\n",
       "       [0.9166667 , 0.6666667 ],\n",
       "       [0.9       , 0.5       ],\n",
       "       [0.8333333 , 0.6666667 ],\n",
       "       [1.        , 1.        ],\n",
       "       [0.8181818 , 0.8181818 ],\n",
       "       [0.75      , 0.75      ],\n",
       "       [1.        , 1.        ],\n",
       "       [0.5       , 0.33333334],\n",
       "       [0.9166667 , 0.5       ],\n",
       "       [0.6666667 , 0.5833333 ],\n",
       "       [0.5       , 0.08333334],\n",
       "       [0.75      , 0.33333334],\n",
       "       [0.9166667 , 0.5833333 ],\n",
       "       [0.8333333 , 0.5       ],\n",
       "       [0.8333333 , 0.6666667 ]], dtype=float32)"
      ]
     },
     "execution_count": 65,
     "metadata": {},
     "output_type": "execute_result"
    }
   ],
   "source": [
    "precisions"
   ]
  },
  {
   "cell_type": "code",
   "execution_count": 66,
   "id": "7d8a6e83-8a54-44f6-9f00-2842e8b53e6a",
   "metadata": {},
   "outputs": [],
   "source": [
    "wandb.log({'precision_drop_all_classes':np.mean(np.subtract(precisions[:,0],precisions[:,1]))})"
   ]
  },
  {
   "cell_type": "code",
   "execution_count": null,
   "id": "3a2d6dd0-2165-4c2d-a053-51454eed7af9",
   "metadata": {},
   "outputs": [],
   "source": []
  }
 ],
 "metadata": {
  "kernelspec": {
   "display_name": "Python 3 (ipykernel)",
   "language": "python",
   "name": "python3"
  },
  "language_info": {
   "codemirror_mode": {
    "name": "ipython",
    "version": 3
   },
   "file_extension": ".py",
   "mimetype": "text/x-python",
   "name": "python",
   "nbconvert_exporter": "python",
   "pygments_lexer": "ipython3",
   "version": "3.10.13"
  }
 },
 "nbformat": 4,
 "nbformat_minor": 5
}
